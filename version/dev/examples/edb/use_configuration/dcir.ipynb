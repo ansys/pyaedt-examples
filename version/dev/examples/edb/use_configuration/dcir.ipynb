{
 "cells": [
  {
   "cell_type": "markdown",
   "id": "1da0e0db",
   "metadata": {},
   "source": [
    "# DCIR Setup Leveraging EDB Configuration Format"
   ]
  },
  {
   "cell_type": "markdown",
   "id": "fdcaeee1",
   "metadata": {},
   "source": [
    "## Perform imports and define constants\n",
    "\n",
    "Perform required imports."
   ]
  },
  {
   "cell_type": "code",
   "execution_count": 1,
   "id": "4f187d89",
   "metadata": {
    "execution": {
     "iopub.execute_input": "2025-10-30T04:05:20.952094Z",
     "iopub.status.busy": "2025-10-30T04:05:20.952094Z",
     "iopub.status.idle": "2025-10-30T04:05:24.098154Z",
     "shell.execute_reply": "2025-10-30T04:05:24.098154Z"
    }
   },
   "outputs": [],
   "source": [
    "import json\n",
    "import os\n",
    "import tempfile\n",
    "\n",
    "from ansys.aedt.core import Hfss3dLayout\n",
    "from ansys.aedt.core.examples.downloads import download_file\n",
    "from pyedb import Edb"
   ]
  },
  {
   "cell_type": "markdown",
   "id": "9fdf4d62",
   "metadata": {},
   "source": [
    "Define constants."
   ]
  },
  {
   "cell_type": "code",
   "execution_count": 2,
   "id": "d5a3cb16",
   "metadata": {
    "execution": {
     "iopub.execute_input": "2025-10-30T04:05:24.098154Z",
     "iopub.status.busy": "2025-10-30T04:05:24.098154Z",
     "iopub.status.idle": "2025-10-30T04:05:24.114259Z",
     "shell.execute_reply": "2025-10-30T04:05:24.114259Z"
    },
    "lines_to_next_cell": 2
   },
   "outputs": [],
   "source": [
    "AEDT_VERSION = \"2025.2\"\n",
    "NG_MODE = False"
   ]
  },
  {
   "cell_type": "markdown",
   "id": "a53b5114",
   "metadata": {},
   "source": [
    "Download the example BGA Package design."
   ]
  },
  {
   "cell_type": "code",
   "execution_count": 3,
   "id": "7967bb6a",
   "metadata": {
    "execution": {
     "iopub.execute_input": "2025-10-30T04:05:24.114259Z",
     "iopub.status.busy": "2025-10-30T04:05:24.114259Z",
     "iopub.status.idle": "2025-10-30T04:05:25.195997Z",
     "shell.execute_reply": "2025-10-30T04:05:25.195997Z"
    }
   },
   "outputs": [],
   "source": [
    "temp_folder = tempfile.TemporaryDirectory(suffix=\".ansys\")\n",
    "file_edb = download_file(source=r\"edb/BGA_Package.aedb\", local_path=temp_folder.name)"
   ]
  },
  {
   "cell_type": "markdown",
   "id": "a7cd942c",
   "metadata": {},
   "source": [
    "## Load example layout"
   ]
  },
  {
   "cell_type": "code",
   "execution_count": 4,
   "id": "07c5938b",
   "metadata": {
    "execution": {
     "iopub.execute_input": "2025-10-30T04:05:25.195997Z",
     "iopub.status.busy": "2025-10-30T04:05:25.195997Z",
     "iopub.status.idle": "2025-10-30T04:05:37.386086Z",
     "shell.execute_reply": "2025-10-30T04:05:37.386086Z"
    }
   },
   "outputs": [
    {
     "name": "stderr",
     "output_type": "stream",
     "text": [
      "C:\\actions-runner\\_work\\pyaedt-examples\\pyaedt-examples\\.venv\\lib\\site-packages\\pyedb\\misc\\decorators.py:55: UserWarning: Argument `edbversion` is deprecated for method `Edb`; use `version` instead.\n",
      "  warnings.warn(\n",
      "C:\\actions-runner\\_work\\pyaedt-examples\\pyaedt-examples\\.venv\\lib\\site-packages\\pyedb\\generic\\design_types.py:301: UserWarning: Your ANSYS AEDT version is eligible to gRPC version.You might consider switching to that version for better user experience.For more information please check this link: https://edb.docs.pyansys.com/version/dev/grpc_api/index.html\n",
      "  warnings.warn(GRPC_GENERAL_WARNING, UserWarning)\n"
     ]
    },
    {
     "name": "stdout",
     "output_type": "stream",
     "text": [
      "PyEDB INFO: Star initializing Edb 04:05:28.561431\n"
     ]
    },
    {
     "name": "stderr",
     "output_type": "stream",
     "text": [
      "INFO:Edb:Star initializing Edb 04:05:28.561431\n"
     ]
    },
    {
     "name": "stdout",
     "output_type": "stream",
     "text": [
      "PyEDB INFO: Edb version 2025.2\n"
     ]
    },
    {
     "name": "stderr",
     "output_type": "stream",
     "text": [
      "INFO:Edb:Edb version 2025.2\n"
     ]
    },
    {
     "name": "stdout",
     "output_type": "stream",
     "text": [
      "PyEDB INFO: Logger is initialized. Log file is saved to C:\\Users\\ansys\\AppData\\Local\\Temp\\pyedb_ansys.log.\n"
     ]
    },
    {
     "name": "stderr",
     "output_type": "stream",
     "text": [
      "INFO:Edb:Logger is initialized. Log file is saved to C:\\Users\\ansys\\AppData\\Local\\Temp\\pyedb_ansys.log.\n"
     ]
    },
    {
     "name": "stdout",
     "output_type": "stream",
     "text": [
      "PyEDB INFO: legacy v0.61.0\n"
     ]
    },
    {
     "name": "stderr",
     "output_type": "stream",
     "text": [
      "INFO:Edb:legacy v0.61.0\n"
     ]
    },
    {
     "name": "stdout",
     "output_type": "stream",
     "text": [
      "PyEDB INFO: Python version 3.10.11 (tags/v3.10.11:7d4cc5a, Apr  5 2023, 00:38:17) [MSC v.1929 64 bit (AMD64)]\n"
     ]
    },
    {
     "name": "stderr",
     "output_type": "stream",
     "text": [
      "INFO:Edb:Python version 3.10.11 (tags/v3.10.11:7d4cc5a, Apr  5 2023, 00:38:17) [MSC v.1929 64 bit (AMD64)]\n"
     ]
    },
    {
     "name": "stdout",
     "output_type": "stream",
     "text": [
      "PyEDB INFO: Database BGA_Package.aedb Opened in 2025.2\n"
     ]
    },
    {
     "name": "stderr",
     "output_type": "stream",
     "text": [
      "INFO:Edb:Database BGA_Package.aedb Opened in 2025.2\n"
     ]
    },
    {
     "name": "stdout",
     "output_type": "stream",
     "text": [
      "PyEDB INFO: Cell BGA_Package Opened\n"
     ]
    },
    {
     "name": "stderr",
     "output_type": "stream",
     "text": [
      "INFO:Edb:Cell BGA_Package Opened\n"
     ]
    },
    {
     "name": "stdout",
     "output_type": "stream",
     "text": [
      "PyEDB INFO: Builder was initialized.\n"
     ]
    },
    {
     "name": "stderr",
     "output_type": "stream",
     "text": [
      "INFO:Edb:Builder was initialized.\n"
     ]
    },
    {
     "name": "stdout",
     "output_type": "stream",
     "text": [
      "PyEDB INFO: open_edb completed in 8.7285 seconds.\n"
     ]
    },
    {
     "name": "stderr",
     "output_type": "stream",
     "text": [
      "INFO:Edb:open_edb completed in 8.7285 seconds.\n"
     ]
    },
    {
     "name": "stdout",
     "output_type": "stream",
     "text": [
      "PyEDB INFO: EDB initialization completed in 8.8085 seconds.\n"
     ]
    },
    {
     "name": "stderr",
     "output_type": "stream",
     "text": [
      "INFO:Edb:EDB initialization completed in 8.8085 seconds.\n"
     ]
    }
   ],
   "source": [
    "edbapp = Edb(file_edb, edbversion=AEDT_VERSION)"
   ]
  },
  {
   "cell_type": "markdown",
   "id": "eb538fc9",
   "metadata": {},
   "source": [
    "## Create config file"
   ]
  },
  {
   "cell_type": "markdown",
   "id": "1d93b8a9",
   "metadata": {},
   "source": [
    "Define Component with solderballs."
   ]
  },
  {
   "cell_type": "code",
   "execution_count": 5,
   "id": "1db97242",
   "metadata": {
    "execution": {
     "iopub.execute_input": "2025-10-30T04:05:39.401353Z",
     "iopub.status.busy": "2025-10-30T04:05:39.399339Z",
     "iopub.status.idle": "2025-10-30T04:05:39.415298Z",
     "shell.execute_reply": "2025-10-30T04:05:39.415298Z"
    }
   },
   "outputs": [],
   "source": [
    "cfg_components = [\n",
    "    {\n",
    "        \"reference_designator\": \"FCHIP\",\n",
    "        \"part_type\": \"other\",\n",
    "        \"solder_ball_properties\": {\n",
    "            \"shape\": \"cylinder\",\n",
    "            \"diameter\": \"0.1mm\",\n",
    "            \"height\": \"0.085mm\",\n",
    "            \"chip_orientation\": \"chip_up\",\n",
    "        },\n",
    "        \"port_properties\": {\n",
    "            \"reference_offset\": 0,\n",
    "            \"reference_size_auto\": False,\n",
    "            \"reference_size_x\": 0,\n",
    "            \"reference_size_y\": 0,\n",
    "        },\n",
    "    },\n",
    "    {\n",
    "        \"reference_designator\": \"BGA\",\n",
    "        \"part_type\": \"io\",\n",
    "        \"solder_ball_properties\": {\n",
    "            \"shape\": \"cylinder\",\n",
    "            \"diameter\": \"0.45mm\",\n",
    "            \"height\": \"0.45mm\",\n",
    "            \"chip_orientation\": \"chip_down\",\n",
    "        },\n",
    "        \"port_properties\": {\n",
    "            \"reference_offset\": 0,\n",
    "            \"reference_size_auto\": False,\n",
    "            \"reference_size_x\": 0,\n",
    "            \"reference_size_y\": 0,\n",
    "        },\n",
    "    },\n",
    "]"
   ]
  },
  {
   "cell_type": "markdown",
   "id": "5b9dfad2",
   "metadata": {},
   "source": [
    "Define Pin Groups on Components."
   ]
  },
  {
   "cell_type": "code",
   "execution_count": 6,
   "id": "45fb8a5f",
   "metadata": {
    "execution": {
     "iopub.execute_input": "2025-10-30T04:05:39.415298Z",
     "iopub.status.busy": "2025-10-30T04:05:39.415298Z",
     "iopub.status.idle": "2025-10-30T04:05:39.431058Z",
     "shell.execute_reply": "2025-10-30T04:05:39.431058Z"
    }
   },
   "outputs": [],
   "source": [
    "cfg_pin_groups = [\n",
    "    {\"name\": \"BGA_VSS\", \"reference_designator\": \"BGA\", \"net\": \"VSS\"},\n",
    "    {\"name\": \"BGA_VDD\", \"reference_designator\": \"BGA\", \"net\": \"VDD\"},\n",
    "]"
   ]
  },
  {
   "cell_type": "markdown",
   "id": "675cc436",
   "metadata": {},
   "source": [
    "Define sources."
   ]
  },
  {
   "cell_type": "code",
   "execution_count": 7,
   "id": "ce89c081",
   "metadata": {
    "execution": {
     "iopub.execute_input": "2025-10-30T04:05:39.431058Z",
     "iopub.status.busy": "2025-10-30T04:05:39.431058Z",
     "iopub.status.idle": "2025-10-30T04:05:39.447363Z",
     "shell.execute_reply": "2025-10-30T04:05:39.447363Z"
    }
   },
   "outputs": [],
   "source": [
    "cfg_sources = [\n",
    "    {\n",
    "        \"name\": \"FCHIP_Current\",\n",
    "        \"reference_designator\": \"FCHIP\",\n",
    "        \"type\": \"current\",\n",
    "        \"magnitude\": 2,\n",
    "        \"distributed\": True,\n",
    "        \"positive_terminal\": {\"net\": \"VDD\"},\n",
    "        \"negative_terminal\": {\"nearest_pin\": {\"reference_net\": \"VSS\", \"search_radius\": 5e-3}},\n",
    "    },\n",
    "    {\n",
    "        \"name\": \"BGA_Voltage\",\n",
    "        \"reference_designator\": \"BGA\",\n",
    "        \"type\": \"voltage\",\n",
    "        \"magnitude\": 1,\n",
    "        \"positive_terminal\": {\"pin_group\": \"BGA_VDD\"},\n",
    "        \"negative_terminal\": {\"pin_group\": \"BGA_VSS\"},\n",
    "    },\n",
    "]"
   ]
  },
  {
   "cell_type": "markdown",
   "id": "1d2b3d67",
   "metadata": {},
   "source": [
    "Define DCIR setup."
   ]
  },
  {
   "cell_type": "code",
   "execution_count": 8,
   "id": "cb8b242b",
   "metadata": {
    "execution": {
     "iopub.execute_input": "2025-10-30T04:05:39.451268Z",
     "iopub.status.busy": "2025-10-30T04:05:39.451268Z",
     "iopub.status.idle": "2025-10-30T04:05:39.463419Z",
     "shell.execute_reply": "2025-10-30T04:05:39.463419Z"
    }
   },
   "outputs": [],
   "source": [
    "cfg_setups = [\n",
    "    {\n",
    "        \"name\": \"siwave_dc\",\n",
    "        \"type\": \"siwave_dc\",\n",
    "        \"dc_slider_position\": 1,\n",
    "        \"dc_ir_settings\": {\"export_dc_thermal_data\": True},\n",
    "    }\n",
    "]"
   ]
  },
  {
   "cell_type": "markdown",
   "id": "0b107edf",
   "metadata": {},
   "source": [
    "Create final configuration."
   ]
  },
  {
   "cell_type": "code",
   "execution_count": 9,
   "id": "71aa53de",
   "metadata": {
    "execution": {
     "iopub.execute_input": "2025-10-30T04:05:39.463419Z",
     "iopub.status.busy": "2025-10-30T04:05:39.463419Z",
     "iopub.status.idle": "2025-10-30T04:05:39.479124Z",
     "shell.execute_reply": "2025-10-30T04:05:39.479124Z"
    }
   },
   "outputs": [],
   "source": [
    "cfg = {\n",
    "    \"components\": cfg_components,\n",
    "    \"sources\": cfg_sources,\n",
    "    \"pin_groups\": cfg_pin_groups,\n",
    "    \"setups\": cfg_setups,\n",
    "}"
   ]
  },
  {
   "cell_type": "markdown",
   "id": "1c2c1575",
   "metadata": {},
   "source": [
    "Create the config file."
   ]
  },
  {
   "cell_type": "code",
   "execution_count": 10,
   "id": "e80af0e9",
   "metadata": {
    "execution": {
     "iopub.execute_input": "2025-10-30T04:05:39.479124Z",
     "iopub.status.busy": "2025-10-30T04:05:39.479124Z",
     "iopub.status.idle": "2025-10-30T04:05:39.495272Z",
     "shell.execute_reply": "2025-10-30T04:05:39.495272Z"
    }
   },
   "outputs": [],
   "source": [
    "file_json = os.path.join(temp_folder.name, \"edb_configuration.json\")\n",
    "with open(file_json, \"w\") as f:\n",
    "    json.dump(cfg, f, indent=4, ensure_ascii=False)"
   ]
  },
  {
   "cell_type": "markdown",
   "id": "477fc76c",
   "metadata": {},
   "source": [
    "## Apply Config file"
   ]
  },
  {
   "cell_type": "markdown",
   "id": "3b2d4f13",
   "metadata": {},
   "source": [
    "Apply configuration to the example layout"
   ]
  },
  {
   "cell_type": "code",
   "execution_count": 11,
   "id": "6d7b58b5",
   "metadata": {
    "execution": {
     "iopub.execute_input": "2025-10-30T04:05:39.495272Z",
     "iopub.status.busy": "2025-10-30T04:05:39.495272Z",
     "iopub.status.idle": "2025-10-30T04:05:45.018725Z",
     "shell.execute_reply": "2025-10-30T04:05:45.018725Z"
    }
   },
   "outputs": [
    {
     "name": "stdout",
     "output_type": "stream",
     "text": [
      "PyEDB INFO: Updating boundaries finished. Time lapse 0:00:00.006599\n"
     ]
    },
    {
     "name": "stderr",
     "output_type": "stream",
     "text": [
      "INFO:Edb:Updating boundaries finished. Time lapse 0:00:00.006599\n"
     ]
    },
    {
     "name": "stdout",
     "output_type": "stream",
     "text": [
      "PyEDB INFO: Updating nets finished. Time lapse 0:00:00\n"
     ]
    },
    {
     "name": "stderr",
     "output_type": "stream",
     "text": [
      "INFO:Edb:Updating nets finished. Time lapse 0:00:00\n"
     ]
    },
    {
     "name": "stdout",
     "output_type": "stream",
     "text": [
      "PyEDB INFO: Updating components finished. Time lapse 0:00:00.015845\n"
     ]
    },
    {
     "name": "stderr",
     "output_type": "stream",
     "text": [
      "INFO:Edb:Updating components finished. Time lapse 0:00:00.015845\n"
     ]
    },
    {
     "name": "stdout",
     "output_type": "stream",
     "text": [
      "PyEDB INFO: Creating pin groups finished. Time lapse 0:00:00.095042\n"
     ]
    },
    {
     "name": "stderr",
     "output_type": "stream",
     "text": [
      "INFO:Edb:Creating pin groups finished. Time lapse 0:00:00.095042\n"
     ]
    },
    {
     "name": "stdout",
     "output_type": "stream",
     "text": [
      "PyEDB INFO: Placing sources finished. Time lapse 0:00:05.254545\n"
     ]
    },
    {
     "name": "stderr",
     "output_type": "stream",
     "text": [
      "INFO:Edb:Placing sources finished. Time lapse 0:00:05.254545\n"
     ]
    },
    {
     "name": "stdout",
     "output_type": "stream",
     "text": [
      "PyEDB INFO: Applying materials finished. Time lapse 0:00:00\n"
     ]
    },
    {
     "name": "stderr",
     "output_type": "stream",
     "text": [
      "INFO:Edb:Applying materials finished. Time lapse 0:00:00\n"
     ]
    },
    {
     "name": "stdout",
     "output_type": "stream",
     "text": [
      "PyEDB INFO: Updating stackup finished. Time lapse 0:00:00\n"
     ]
    },
    {
     "name": "stderr",
     "output_type": "stream",
     "text": [
      "INFO:Edb:Updating stackup finished. Time lapse 0:00:00\n"
     ]
    },
    {
     "name": "stdout",
     "output_type": "stream",
     "text": [
      "PyEDB INFO: Applying padstacks finished. Time lapse 0:00:00\n"
     ]
    },
    {
     "name": "stderr",
     "output_type": "stream",
     "text": [
      "INFO:Edb:Applying padstacks finished. Time lapse 0:00:00\n"
     ]
    },
    {
     "name": "stdout",
     "output_type": "stream",
     "text": [
      "PyEDB INFO: Applying S-parameters finished. Time lapse 0:00:00\n"
     ]
    },
    {
     "name": "stderr",
     "output_type": "stream",
     "text": [
      "INFO:Edb:Applying S-parameters finished. Time lapse 0:00:00\n"
     ]
    },
    {
     "name": "stdout",
     "output_type": "stream",
     "text": [
      "PyEDB INFO: Applying package definitions finished. Time lapse 0:00:00\n"
     ]
    },
    {
     "name": "stderr",
     "output_type": "stream",
     "text": [
      "INFO:Edb:Applying package definitions finished. Time lapse 0:00:00\n"
     ]
    },
    {
     "name": "stdout",
     "output_type": "stream",
     "text": [
      "PyEDB INFO: Applying modeler finished. Time lapse 0:00:00\n"
     ]
    },
    {
     "name": "stderr",
     "output_type": "stream",
     "text": [
      "INFO:Edb:Applying modeler finished. Time lapse 0:00:00\n"
     ]
    },
    {
     "name": "stdout",
     "output_type": "stream",
     "text": [
      "PyEDB INFO: Placing ports finished. Time lapse 0:00:00\n"
     ]
    },
    {
     "name": "stderr",
     "output_type": "stream",
     "text": [
      "INFO:Edb:Placing ports finished. Time lapse 0:00:00\n"
     ]
    },
    {
     "name": "stdout",
     "output_type": "stream",
     "text": [
      "PyEDB INFO: Placing terminals completed in 0.0000 seconds.\n"
     ]
    },
    {
     "name": "stderr",
     "output_type": "stream",
     "text": [
      "INFO:Edb:Placing terminals completed in 0.0000 seconds.\n"
     ]
    },
    {
     "name": "stdout",
     "output_type": "stream",
     "text": [
      "PyEDB INFO: Placing probes finished. Time lapse 0:00:00\n"
     ]
    },
    {
     "name": "stderr",
     "output_type": "stream",
     "text": [
      "INFO:Edb:Placing probes finished. Time lapse 0:00:00\n"
     ]
    },
    {
     "name": "stdout",
     "output_type": "stream",
     "text": [
      "PyEDB INFO: Applying operations completed in 0.0000 seconds.\n"
     ]
    },
    {
     "name": "stderr",
     "output_type": "stream",
     "text": [
      "INFO:Edb:Applying operations completed in 0.0000 seconds.\n"
     ]
    },
    {
     "data": {
      "text/plain": [
       "True"
      ]
     },
     "execution_count": 11,
     "metadata": {},
     "output_type": "execute_result"
    }
   ],
   "source": [
    "edbapp.configuration.load(config_file=file_json)\n",
    "edbapp.configuration.run()"
   ]
  },
  {
   "cell_type": "markdown",
   "id": "bd1447b2",
   "metadata": {},
   "source": [
    "Save and close EDB."
   ]
  },
  {
   "cell_type": "code",
   "execution_count": 12,
   "id": "a61893e5",
   "metadata": {
    "execution": {
     "iopub.execute_input": "2025-10-30T04:05:46.018938Z",
     "iopub.status.busy": "2025-10-30T04:05:46.018938Z",
     "iopub.status.idle": "2025-10-30T04:05:46.082902Z",
     "shell.execute_reply": "2025-10-30T04:05:46.082902Z"
    }
   },
   "outputs": [
    {
     "name": "stdout",
     "output_type": "stream",
     "text": [
      "PyEDB INFO: Save Edb file completed in 0.0160 seconds.\n"
     ]
    },
    {
     "name": "stderr",
     "output_type": "stream",
     "text": [
      "INFO:Edb:Save Edb file completed in 0.0160 seconds.\n"
     ]
    },
    {
     "name": "stdout",
     "output_type": "stream",
     "text": [
      "PyEDB INFO: Close Edb file completed in 0.0158 seconds.\n"
     ]
    },
    {
     "name": "stderr",
     "output_type": "stream",
     "text": [
      "INFO:Edb:Close Edb file completed in 0.0158 seconds.\n"
     ]
    },
    {
     "data": {
      "text/plain": [
       "True"
      ]
     },
     "execution_count": 12,
     "metadata": {},
     "output_type": "execute_result"
    }
   ],
   "source": [
    "edbapp.save()\n",
    "edbapp.close()"
   ]
  },
  {
   "cell_type": "markdown",
   "id": "cc8f71c9",
   "metadata": {},
   "source": [
    "The configured EDB file is saved in a temp folder."
   ]
  },
  {
   "cell_type": "code",
   "execution_count": 13,
   "id": "a706c366",
   "metadata": {
    "execution": {
     "iopub.execute_input": "2025-10-30T04:05:46.082902Z",
     "iopub.status.busy": "2025-10-30T04:05:46.082902Z",
     "iopub.status.idle": "2025-10-30T04:05:46.098920Z",
     "shell.execute_reply": "2025-10-30T04:05:46.098920Z"
    }
   },
   "outputs": [
    {
     "name": "stdout",
     "output_type": "stream",
     "text": [
      "C:\\Users\\ansys\\AppData\\Local\\Temp\\tmpee87qt8n.ansys\n"
     ]
    }
   ],
   "source": [
    "print(temp_folder.name)"
   ]
  },
  {
   "cell_type": "markdown",
   "id": "d7248201",
   "metadata": {},
   "source": [
    "## Load edb into HFSS 3D Layout."
   ]
  },
  {
   "cell_type": "code",
   "execution_count": 14,
   "id": "023bdb3e",
   "metadata": {
    "execution": {
     "iopub.execute_input": "2025-10-30T04:05:46.098920Z",
     "iopub.status.busy": "2025-10-30T04:05:46.098920Z",
     "iopub.status.idle": "2025-10-30T04:06:21.872589Z",
     "shell.execute_reply": "2025-10-30T04:06:21.872589Z"
    }
   },
   "outputs": [
    {
     "name": "stdout",
     "output_type": "stream",
     "text": [
      "PyAEDT INFO: Python version 3.10.11 (tags/v3.10.11:7d4cc5a, Apr  5 2023, 00:38:17) [MSC v.1929 64 bit (AMD64)].\n"
     ]
    },
    {
     "name": "stderr",
     "output_type": "stream",
     "text": [
      "INFO:Global:Python version 3.10.11 (tags/v3.10.11:7d4cc5a, Apr  5 2023, 00:38:17) [MSC v.1929 64 bit (AMD64)].\n"
     ]
    },
    {
     "name": "stdout",
     "output_type": "stream",
     "text": [
      "PyAEDT INFO: PyAEDT version 0.22.dev0.\n"
     ]
    },
    {
     "name": "stderr",
     "output_type": "stream",
     "text": [
      "INFO:Global:PyAEDT version 0.22.dev0.\n"
     ]
    },
    {
     "name": "stdout",
     "output_type": "stream",
     "text": [
      "PyAEDT INFO: Initializing new Desktop session.\n"
     ]
    },
    {
     "name": "stderr",
     "output_type": "stream",
     "text": [
      "INFO:Global:Initializing new Desktop session.\n"
     ]
    },
    {
     "name": "stdout",
     "output_type": "stream",
     "text": [
      "PyAEDT INFO: Log on console is enabled.\n"
     ]
    },
    {
     "name": "stderr",
     "output_type": "stream",
     "text": [
      "INFO:Global:Log on console is enabled.\n"
     ]
    },
    {
     "name": "stdout",
     "output_type": "stream",
     "text": [
      "PyAEDT INFO: Log on file C:\\Users\\ansys\\AppData\\Local\\Temp\\pyaedt_ansys_1e3d864e-b097-4657-8474-7f29b3c31291.log is enabled.\n"
     ]
    },
    {
     "name": "stderr",
     "output_type": "stream",
     "text": [
      "INFO:Global:Log on file C:\\Users\\ansys\\AppData\\Local\\Temp\\pyaedt_ansys_1e3d864e-b097-4657-8474-7f29b3c31291.log is enabled.\n"
     ]
    },
    {
     "name": "stdout",
     "output_type": "stream",
     "text": [
      "PyAEDT INFO: Log on AEDT is disabled.\n"
     ]
    },
    {
     "name": "stderr",
     "output_type": "stream",
     "text": [
      "INFO:Global:Log on AEDT is disabled.\n"
     ]
    },
    {
     "name": "stdout",
     "output_type": "stream",
     "text": [
      "PyAEDT INFO: Debug logger is disabled. PyAEDT methods will not be logged.\n"
     ]
    },
    {
     "name": "stderr",
     "output_type": "stream",
     "text": [
      "INFO:Global:Debug logger is disabled. PyAEDT methods will not be logged.\n"
     ]
    },
    {
     "name": "stdout",
     "output_type": "stream",
     "text": [
      "PyAEDT INFO: Launching PyAEDT with gRPC plugin.\n"
     ]
    },
    {
     "name": "stderr",
     "output_type": "stream",
     "text": [
      "INFO:Global:Launching PyAEDT with gRPC plugin.\n"
     ]
    },
    {
     "name": "stdout",
     "output_type": "stream",
     "text": [
      "PyAEDT INFO: New AEDT session is starting on gRPC port 63431.\n"
     ]
    },
    {
     "name": "stderr",
     "output_type": "stream",
     "text": [
      "INFO:Global:New AEDT session is starting on gRPC port 63431.\n"
     ]
    },
    {
     "name": "stdout",
     "output_type": "stream",
     "text": [
      "PyAEDT INFO: Electronics Desktop started on gRPC port: 63431 after 11.032780647277832 seconds.\n"
     ]
    },
    {
     "name": "stderr",
     "output_type": "stream",
     "text": [
      "INFO:Global:Electronics Desktop started on gRPC port: 63431 after 11.032780647277832 seconds.\n"
     ]
    },
    {
     "name": "stdout",
     "output_type": "stream",
     "text": [
      "PyAEDT INFO: AEDT installation Path C:\\Program Files\\ANSYS Inc\\v252\\AnsysEM\n"
     ]
    },
    {
     "name": "stderr",
     "output_type": "stream",
     "text": [
      "INFO:Global:AEDT installation Path C:\\Program Files\\ANSYS Inc\\v252\\AnsysEM\n"
     ]
    },
    {
     "name": "stdout",
     "output_type": "stream",
     "text": [
      "PyAEDT INFO: Ansoft.ElectronicsDesktop.2025.2 version started with process ID 7908.\n"
     ]
    },
    {
     "name": "stderr",
     "output_type": "stream",
     "text": [
      "INFO:Global:Ansoft.ElectronicsDesktop.2025.2 version started with process ID 7908.\n"
     ]
    },
    {
     "name": "stdout",
     "output_type": "stream",
     "text": [
      "PyAEDT INFO: EDB folder C:\\Users\\ansys\\AppData\\Local\\Temp\\tmpee87qt8n.ansys\\edb\\BGA_Package.aedb has been imported to project BGA_Package\n"
     ]
    },
    {
     "name": "stderr",
     "output_type": "stream",
     "text": [
      "INFO:Global:EDB folder C:\\Users\\ansys\\AppData\\Local\\Temp\\tmpee87qt8n.ansys\\edb\\BGA_Package.aedb has been imported to project BGA_Package\n"
     ]
    },
    {
     "name": "stdout",
     "output_type": "stream",
     "text": [
      "PyAEDT INFO: Active Design set to 0;BGA_Package\n"
     ]
    },
    {
     "name": "stderr",
     "output_type": "stream",
     "text": [
      "INFO:Global:Active Design set to 0;BGA_Package\n"
     ]
    },
    {
     "name": "stdout",
     "output_type": "stream",
     "text": [
      "PyAEDT INFO: Active Design set to 0;BGA_Package\n"
     ]
    },
    {
     "name": "stderr",
     "output_type": "stream",
     "text": [
      "INFO:Global:Active Design set to 0;BGA_Package\n"
     ]
    },
    {
     "name": "stdout",
     "output_type": "stream",
     "text": [
      "PyAEDT INFO: Aedt Objects correctly read\n"
     ]
    },
    {
     "name": "stderr",
     "output_type": "stream",
     "text": [
      "INFO:Global:Aedt Objects correctly read\n"
     ]
    }
   ],
   "source": [
    "h3d = Hfss3dLayout(edbapp.edbpath, version=AEDT_VERSION, non_graphical=NG_MODE, new_desktop=True)"
   ]
  },
  {
   "cell_type": "markdown",
   "id": "e639a1fa",
   "metadata": {},
   "source": [
    "Solve."
   ]
  },
  {
   "cell_type": "code",
   "execution_count": 15,
   "id": "acf8744d",
   "metadata": {
    "execution": {
     "iopub.execute_input": "2025-10-30T04:06:22.879006Z",
     "iopub.status.busy": "2025-10-30T04:06:22.879006Z",
     "iopub.status.idle": "2025-10-30T04:06:53.173462Z",
     "shell.execute_reply": "2025-10-30T04:06:53.171453Z"
    }
   },
   "outputs": [
    {
     "name": "stdout",
     "output_type": "stream",
     "text": [
      "PyAEDT INFO: Project BGA_Package Saved correctly\n"
     ]
    },
    {
     "name": "stderr",
     "output_type": "stream",
     "text": [
      "INFO:Global:Project BGA_Package Saved correctly\n"
     ]
    },
    {
     "name": "stdout",
     "output_type": "stream",
     "text": [
      "PyAEDT INFO: Solving design setup siwave_dc\n"
     ]
    },
    {
     "name": "stderr",
     "output_type": "stream",
     "text": [
      "INFO:Global:Solving design setup siwave_dc\n"
     ]
    },
    {
     "name": "stdout",
     "output_type": "stream",
     "text": [
      "PyAEDT INFO: Design setup siwave_dc solved correctly in 0.0h 0.0m 30.0s\n"
     ]
    },
    {
     "name": "stderr",
     "output_type": "stream",
     "text": [
      "INFO:Global:Design setup siwave_dc solved correctly in 0.0h 0.0m 30.0s\n"
     ]
    },
    {
     "data": {
      "text/plain": [
       "True"
      ]
     },
     "execution_count": 15,
     "metadata": {},
     "output_type": "execute_result"
    }
   ],
   "source": [
    "h3d.analyze(setup=\"siwave_dc\")"
   ]
  },
  {
   "cell_type": "markdown",
   "id": "1b94ff53",
   "metadata": {},
   "source": [
    "Plot insertion loss."
   ]
  },
  {
   "cell_type": "code",
   "execution_count": 16,
   "id": "c3b3aa03",
   "metadata": {
    "execution": {
     "iopub.execute_input": "2025-10-30T04:06:54.186282Z",
     "iopub.status.busy": "2025-10-30T04:06:54.186282Z",
     "iopub.status.idle": "2025-10-30T04:06:54.646073Z",
     "shell.execute_reply": "2025-10-30T04:06:54.645485Z"
    }
   },
   "outputs": [
    {
     "name": "stdout",
     "output_type": "stream",
     "text": [
      "PyAEDT INFO: Parsing C:\\Users\\ansys\\AppData\\Local\\Temp\\tmpee87qt8n.ansys\\edb\\BGA_Package.aedt.\n"
     ]
    },
    {
     "name": "stderr",
     "output_type": "stream",
     "text": [
      "INFO:Global:Parsing C:\\Users\\ansys\\AppData\\Local\\Temp\\tmpee87qt8n.ansys\\edb\\BGA_Package.aedt.\n"
     ]
    },
    {
     "name": "stdout",
     "output_type": "stream",
     "text": [
      "PyAEDT INFO: File C:\\Users\\ansys\\AppData\\Local\\Temp\\tmpee87qt8n.ansys\\edb\\BGA_Package.aedt correctly loaded. Elapsed time: 0m 0sec\n"
     ]
    },
    {
     "name": "stderr",
     "output_type": "stream",
     "text": [
      "INFO:Global:File C:\\Users\\ansys\\AppData\\Local\\Temp\\tmpee87qt8n.ansys\\edb\\BGA_Package.aedt correctly loaded. Elapsed time: 0m 0sec\n"
     ]
    },
    {
     "name": "stdout",
     "output_type": "stream",
     "text": [
      "PyAEDT INFO: aedt file load time 0.08872365951538086\n"
     ]
    },
    {
     "name": "stderr",
     "output_type": "stream",
     "text": [
      "INFO:Global:aedt file load time 0.08872365951538086\n"
     ]
    },
    {
     "name": "stdout",
     "output_type": "stream",
     "text": [
      "PyAEDT INFO: PostProcessor class has been initialized! Elapsed time: 0m 0sec\n"
     ]
    },
    {
     "name": "stderr",
     "output_type": "stream",
     "text": [
      "INFO:Global:PostProcessor class has been initialized! Elapsed time: 0m 0sec\n"
     ]
    },
    {
     "name": "stdout",
     "output_type": "stream",
     "text": [
      "PyAEDT INFO: Post class has been initialized! Elapsed time: 0m 0sec\n"
     ]
    },
    {
     "name": "stderr",
     "output_type": "stream",
     "text": [
      "INFO:Global:Post class has been initialized! Elapsed time: 0m 0sec\n"
     ]
    },
    {
     "name": "stdout",
     "output_type": "stream",
     "text": [
      "PyAEDT INFO: Loading Modeler.\n"
     ]
    },
    {
     "name": "stderr",
     "output_type": "stream",
     "text": [
      "INFO:Global:Loading Modeler.\n"
     ]
    },
    {
     "name": "stdout",
     "output_type": "stream",
     "text": [
      "PyAEDT INFO: Modeler loaded.\n"
     ]
    },
    {
     "name": "stderr",
     "output_type": "stream",
     "text": [
      "INFO:Global:Modeler loaded.\n"
     ]
    },
    {
     "name": "stdout",
     "output_type": "stream",
     "text": [
      "PyAEDT INFO: EDB loaded.\n"
     ]
    },
    {
     "name": "stderr",
     "output_type": "stream",
     "text": [
      "INFO:Global:EDB loaded.\n"
     ]
    },
    {
     "name": "stdout",
     "output_type": "stream",
     "text": [
      "PyAEDT INFO: Layers loaded.\n"
     ]
    },
    {
     "name": "stderr",
     "output_type": "stream",
     "text": [
      "INFO:Global:Layers loaded.\n"
     ]
    },
    {
     "name": "stdout",
     "output_type": "stream",
     "text": [
      "PyAEDT INFO: Primitives loaded.\n"
     ]
    },
    {
     "name": "stderr",
     "output_type": "stream",
     "text": [
      "INFO:Global:Primitives loaded.\n"
     ]
    },
    {
     "name": "stdout",
     "output_type": "stream",
     "text": [
      "PyAEDT INFO: Modeler class has been initialized! Elapsed time: 0m 0sec\n"
     ]
    },
    {
     "name": "stderr",
     "output_type": "stream",
     "text": [
      "INFO:Global:Modeler class has been initialized! Elapsed time: 0m 0sec\n"
     ]
    },
    {
     "name": "stdout",
     "output_type": "stream",
     "text": [
      "PyEDB INFO: Star initializing Edb 04:06:54.359908\n"
     ]
    },
    {
     "name": "stderr",
     "output_type": "stream",
     "text": [
      "C:\\actions-runner\\_work\\pyaedt-examples\\pyaedt-examples\\.venv\\lib\\site-packages\\pyedb\\generic\\design_types.py:301: UserWarning: Your ANSYS AEDT version is eligible to gRPC version.You might consider switching to that version for better user experience.For more information please check this link: https://edb.docs.pyansys.com/version/dev/grpc_api/index.html\n",
      "  warnings.warn(GRPC_GENERAL_WARNING, UserWarning)\n",
      "INFO:Edb:Star initializing Edb 04:06:54.359908\n"
     ]
    },
    {
     "name": "stdout",
     "output_type": "stream",
     "text": [
      "PyEDB INFO: Edb version 2025.2\n"
     ]
    },
    {
     "name": "stderr",
     "output_type": "stream",
     "text": [
      "INFO:Edb:Edb version 2025.2\n"
     ]
    },
    {
     "name": "stdout",
     "output_type": "stream",
     "text": [
      "PyEDB INFO: Logger is initialized. Log file is saved to C:\\Users\\ansys\\AppData\\Local\\Temp\\pyedb_ansys.log.\n"
     ]
    },
    {
     "name": "stderr",
     "output_type": "stream",
     "text": [
      "INFO:Edb:Logger is initialized. Log file is saved to C:\\Users\\ansys\\AppData\\Local\\Temp\\pyedb_ansys.log.\n"
     ]
    },
    {
     "name": "stdout",
     "output_type": "stream",
     "text": [
      "PyEDB INFO: legacy v0.61.0\n"
     ]
    },
    {
     "name": "stderr",
     "output_type": "stream",
     "text": [
      "INFO:Edb:legacy v0.61.0\n"
     ]
    },
    {
     "name": "stdout",
     "output_type": "stream",
     "text": [
      "PyEDB INFO: Python version 3.10.11 (tags/v3.10.11:7d4cc5a, Apr  5 2023, 00:38:17) [MSC v.1929 64 bit (AMD64)]\n"
     ]
    },
    {
     "name": "stderr",
     "output_type": "stream",
     "text": [
      "INFO:Edb:Python version 3.10.11 (tags/v3.10.11:7d4cc5a, Apr  5 2023, 00:38:17) [MSC v.1929 64 bit (AMD64)]\n"
     ]
    },
    {
     "name": "stdout",
     "output_type": "stream",
     "text": [
      "PyEDB INFO: Database BGA_Package.aedb Opened in 2025.2\n"
     ]
    },
    {
     "name": "stderr",
     "output_type": "stream",
     "text": [
      "INFO:Edb:Database BGA_Package.aedb Opened in 2025.2\n"
     ]
    },
    {
     "name": "stdout",
     "output_type": "stream",
     "text": [
      "PyEDB INFO: Cell BGA_Package Opened\n"
     ]
    },
    {
     "name": "stderr",
     "output_type": "stream",
     "text": [
      "INFO:Edb:Cell BGA_Package Opened\n"
     ]
    },
    {
     "name": "stdout",
     "output_type": "stream",
     "text": [
      "PyEDB INFO: Builder was initialized.\n"
     ]
    },
    {
     "name": "stderr",
     "output_type": "stream",
     "text": [
      "INFO:Edb:Builder was initialized.\n"
     ]
    },
    {
     "name": "stdout",
     "output_type": "stream",
     "text": [
      "PyEDB INFO: open_edb completed in 0.0797 seconds.\n"
     ]
    },
    {
     "name": "stderr",
     "output_type": "stream",
     "text": [
      "INFO:Edb:open_edb completed in 0.0797 seconds.\n"
     ]
    },
    {
     "name": "stdout",
     "output_type": "stream",
     "text": [
      "PyEDB INFO: EDB initialization completed in 0.0797 seconds.\n"
     ]
    },
    {
     "name": "stderr",
     "output_type": "stream",
     "text": [
      "INFO:Edb:EDB initialization completed in 0.0797 seconds.\n"
     ]
    },
    {
     "name": "stdout",
     "output_type": "stream",
     "text": [
      "PyAEDT INFO: Active Design set to 0;BGA_Package\n"
     ]
    },
    {
     "name": "stderr",
     "output_type": "stream",
     "text": [
      "INFO:Global:Active Design set to 0;BGA_Package\n"
     ]
    },
    {
     "data": {
      "text/plain": [
       "<ansys.aedt.core.visualization.post.field_data.FieldPlot at 0x1ef9b8a4c40>"
      ]
     },
     "execution_count": 16,
     "metadata": {},
     "output_type": "execute_result"
    }
   ],
   "source": [
    "h3d.post.create_fieldplot_layers_nets(layers_nets=[[\"VDD_C1\", \"VDD\"]], quantity=\"Voltage\", setup=\"siwave_dc\")"
   ]
  },
  {
   "cell_type": "markdown",
   "id": "ed9ccd6e",
   "metadata": {},
   "source": [
    "Shut Down Electronics Desktop"
   ]
  },
  {
   "cell_type": "code",
   "execution_count": 17,
   "id": "b79b9a76",
   "metadata": {
    "execution": {
     "iopub.execute_input": "2025-10-30T04:06:56.663921Z",
     "iopub.status.busy": "2025-10-30T04:06:56.663921Z",
     "iopub.status.idle": "2025-10-30T04:07:15.568484Z",
     "shell.execute_reply": "2025-10-30T04:07:15.568484Z"
    }
   },
   "outputs": [
    {
     "name": "stdout",
     "output_type": "stream",
     "text": [
      "PyAEDT INFO: Desktop has been released and closed.\n"
     ]
    },
    {
     "name": "stderr",
     "output_type": "stream",
     "text": [
      "INFO:Global:Desktop has been released and closed.\n"
     ]
    },
    {
     "data": {
      "text/plain": [
       "True"
      ]
     },
     "execution_count": 17,
     "metadata": {},
     "output_type": "execute_result"
    }
   ],
   "source": [
    "h3d.close_desktop()"
   ]
  },
  {
   "cell_type": "markdown",
   "id": "6b538c03",
   "metadata": {},
   "source": [
    "All project files are saved in the folder ``temp_file.dir``. If you've run this example as a Jupyter notebook you\n",
    "can retrieve those project files."
   ]
  }
 ],
 "metadata": {
  "jupytext": {
   "cell_metadata_filter": "-all",
   "main_language": "python",
   "notebook_metadata_filter": "-all"
  },
  "language_info": {
   "codemirror_mode": {
    "name": "ipython",
    "version": 3
   },
   "file_extension": ".py",
   "mimetype": "text/x-python",
   "name": "python",
   "nbconvert_exporter": "python",
   "pygments_lexer": "ipython3",
   "version": "3.10.11"
  }
 },
 "nbformat": 4,
 "nbformat_minor": 5
}
