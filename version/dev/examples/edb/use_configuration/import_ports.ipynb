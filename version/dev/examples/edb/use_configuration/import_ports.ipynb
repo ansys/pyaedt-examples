{
 "cells": [
  {
   "cell_type": "markdown",
   "id": "42a67071",
   "metadata": {},
   "source": [
    "# Import Ports\n",
    "This example shows how to import ports. In this example, we are going to\n",
    "\n",
    "- Download an example board\n",
    "- Create a configuration file\n",
    "  - Add a circuit port between two nets\n",
    "  - Add a circuit port between two pins\n",
    "  - Add a circuit port between two pin groups\n",
    "  - Add a circuit port between two coordinates\n",
    "  - Add a coax port\n",
    "  - Add a port reference to the nearest pin\n",
    "  - Add distributed ports\n",
    "- Import the configuration file"
   ]
  },
  {
   "cell_type": "markdown",
   "id": "21e9d4cb",
   "metadata": {},
   "source": [
    "## Perform imports and define constants\n",
    "\n",
    "Perform required imports."
   ]
  },
  {
   "cell_type": "code",
   "execution_count": 1,
   "id": "3cc54bee",
   "metadata": {
    "execution": {
     "iopub.execute_input": "2025-10-30T04:09:12.894857Z",
     "iopub.status.busy": "2025-10-30T04:09:12.894857Z",
     "iopub.status.idle": "2025-10-30T04:09:15.966580Z",
     "shell.execute_reply": "2025-10-30T04:09:15.966580Z"
    }
   },
   "outputs": [],
   "source": [
    "import json\n",
    "import toml\n",
    "from pathlib import Path\n",
    "import tempfile\n",
    "\n",
    "from ansys.aedt.core.examples.downloads import download_file\n",
    "from pyedb import Edb"
   ]
  },
  {
   "cell_type": "markdown",
   "id": "214a52b9",
   "metadata": {},
   "source": [
    "Define constants."
   ]
  },
  {
   "cell_type": "code",
   "execution_count": 2,
   "id": "5fdb1a21",
   "metadata": {
    "execution": {
     "iopub.execute_input": "2025-10-30T04:09:15.970603Z",
     "iopub.status.busy": "2025-10-30T04:09:15.970603Z",
     "iopub.status.idle": "2025-10-30T04:09:15.982549Z",
     "shell.execute_reply": "2025-10-30T04:09:15.982549Z"
    }
   },
   "outputs": [],
   "source": [
    "AEDT_VERSION = \"2025.2\"\n",
    "NG_MODE = False"
   ]
  },
  {
   "cell_type": "markdown",
   "id": "40427604",
   "metadata": {},
   "source": [
    "Download the example PCB data."
   ]
  },
  {
   "cell_type": "code",
   "execution_count": 3,
   "id": "008db98c",
   "metadata": {
    "execution": {
     "iopub.execute_input": "2025-10-30T04:09:15.982549Z",
     "iopub.status.busy": "2025-10-30T04:09:15.982549Z",
     "iopub.status.idle": "2025-10-30T04:09:16.620793Z",
     "shell.execute_reply": "2025-10-30T04:09:16.620793Z"
    }
   },
   "outputs": [],
   "source": [
    "temp_folder = tempfile.TemporaryDirectory(suffix=\".ansys\")\n",
    "file_edb = download_file(source=\"edb/ANSYS-HSD_V1.aedb\", local_path=temp_folder.name)"
   ]
  },
  {
   "cell_type": "markdown",
   "id": "fee04a64",
   "metadata": {},
   "source": [
    "## Load example layout"
   ]
  },
  {
   "cell_type": "code",
   "execution_count": 4,
   "id": "adc31ea7",
   "metadata": {
    "execution": {
     "iopub.execute_input": "2025-10-30T04:09:16.620793Z",
     "iopub.status.busy": "2025-10-30T04:09:16.620793Z",
     "iopub.status.idle": "2025-10-30T04:09:29.046016Z",
     "shell.execute_reply": "2025-10-30T04:09:29.046016Z"
    }
   },
   "outputs": [
    {
     "name": "stderr",
     "output_type": "stream",
     "text": [
      "C:\\actions-runner\\_work\\pyaedt-examples\\pyaedt-examples\\.venv\\lib\\site-packages\\pyedb\\misc\\decorators.py:55: UserWarning: Argument `edbversion` is deprecated for method `Edb`; use `version` instead.\n",
      "  warnings.warn(\n",
      "C:\\actions-runner\\_work\\pyaedt-examples\\pyaedt-examples\\.venv\\lib\\site-packages\\pyedb\\generic\\design_types.py:301: UserWarning: Your ANSYS AEDT version is eligible to gRPC version.You might consider switching to that version for better user experience.For more information please check this link: https://edb.docs.pyansys.com/version/dev/grpc_api/index.html\n",
      "  warnings.warn(GRPC_GENERAL_WARNING, UserWarning)\n"
     ]
    },
    {
     "name": "stdout",
     "output_type": "stream",
     "text": [
      "PyEDB INFO: Star initializing Edb 04:09:19.853074\n"
     ]
    },
    {
     "name": "stderr",
     "output_type": "stream",
     "text": [
      "INFO:Edb:Star initializing Edb 04:09:19.853074\n"
     ]
    },
    {
     "name": "stdout",
     "output_type": "stream",
     "text": [
      "PyEDB INFO: Edb version 2025.2\n"
     ]
    },
    {
     "name": "stderr",
     "output_type": "stream",
     "text": [
      "INFO:Edb:Edb version 2025.2\n"
     ]
    },
    {
     "name": "stdout",
     "output_type": "stream",
     "text": [
      "PyEDB INFO: Logger is initialized. Log file is saved to C:\\Users\\ansys\\AppData\\Local\\Temp\\pyedb_ansys.log.\n"
     ]
    },
    {
     "name": "stderr",
     "output_type": "stream",
     "text": [
      "INFO:Edb:Logger is initialized. Log file is saved to C:\\Users\\ansys\\AppData\\Local\\Temp\\pyedb_ansys.log.\n"
     ]
    },
    {
     "name": "stdout",
     "output_type": "stream",
     "text": [
      "PyEDB INFO: legacy v0.61.0\n"
     ]
    },
    {
     "name": "stderr",
     "output_type": "stream",
     "text": [
      "INFO:Edb:legacy v0.61.0\n"
     ]
    },
    {
     "name": "stdout",
     "output_type": "stream",
     "text": [
      "PyEDB INFO: Python version 3.10.11 (tags/v3.10.11:7d4cc5a, Apr  5 2023, 00:38:17) [MSC v.1929 64 bit (AMD64)]\n"
     ]
    },
    {
     "name": "stderr",
     "output_type": "stream",
     "text": [
      "INFO:Edb:Python version 3.10.11 (tags/v3.10.11:7d4cc5a, Apr  5 2023, 00:38:17) [MSC v.1929 64 bit (AMD64)]\n"
     ]
    },
    {
     "name": "stdout",
     "output_type": "stream",
     "text": [
      "PyEDB INFO: Database ANSYS-HSD_V1.aedb Opened in 2025.2\n"
     ]
    },
    {
     "name": "stderr",
     "output_type": "stream",
     "text": [
      "INFO:Edb:Database ANSYS-HSD_V1.aedb Opened in 2025.2\n"
     ]
    },
    {
     "name": "stdout",
     "output_type": "stream",
     "text": [
      "PyEDB INFO: Cell main Opened\n"
     ]
    },
    {
     "name": "stderr",
     "output_type": "stream",
     "text": [
      "INFO:Edb:Cell main Opened\n"
     ]
    },
    {
     "name": "stdout",
     "output_type": "stream",
     "text": [
      "PyEDB INFO: Builder was initialized.\n"
     ]
    },
    {
     "name": "stderr",
     "output_type": "stream",
     "text": [
      "INFO:Edb:Builder was initialized.\n"
     ]
    },
    {
     "name": "stdout",
     "output_type": "stream",
     "text": [
      "PyEDB INFO: open_edb completed in 9.0814 seconds.\n"
     ]
    },
    {
     "name": "stderr",
     "output_type": "stream",
     "text": [
      "INFO:Edb:open_edb completed in 9.0814 seconds.\n"
     ]
    },
    {
     "name": "stdout",
     "output_type": "stream",
     "text": [
      "PyEDB INFO: EDB initialization completed in 9.1769 seconds.\n"
     ]
    },
    {
     "name": "stderr",
     "output_type": "stream",
     "text": [
      "INFO:Edb:EDB initialization completed in 9.1769 seconds.\n"
     ]
    }
   ],
   "source": [
    "edbapp = Edb(file_edb, edbversion=AEDT_VERSION)"
   ]
  },
  {
   "cell_type": "markdown",
   "id": "4cbda0aa",
   "metadata": {},
   "source": [
    "## Create an empty dictionary to host all configurations"
   ]
  },
  {
   "cell_type": "code",
   "execution_count": 5,
   "id": "80cdde7f",
   "metadata": {
    "execution": {
     "iopub.execute_input": "2025-10-30T04:09:31.055600Z",
     "iopub.status.busy": "2025-10-30T04:09:31.055600Z",
     "iopub.status.idle": "2025-10-30T04:09:31.071618Z",
     "shell.execute_reply": "2025-10-30T04:09:31.071618Z"
    }
   },
   "outputs": [],
   "source": [
    "cfg = dict()"
   ]
  },
  {
   "cell_type": "markdown",
   "id": "f5bdb76e",
   "metadata": {},
   "source": [
    "## Add a circuit port between two nets"
   ]
  },
  {
   "cell_type": "markdown",
   "id": "2c9d12ad",
   "metadata": {},
   "source": [
    "Keywords\n",
    "\n",
    "- **name**. Name of the port.\n",
    "- **Reference_designator**. Reference designator of the component.\n",
    "- **type**. Type of the port. Supported types are 'circuit', 'coax', 'gap_port', 'wave_port', 'diff_wave_port'.\n",
    "- **impedance**. Impedance of the port. Default is 50 Ohm.\n",
    "- **positive_terminal**. Positive terminal of the port. Supported types are 'net', 'pin', 'pin_group', 'coordinates'.\n",
    "- **negative_terminal**. Negative terminal of the port. Supported types are 'net', 'pin', 'pin_group', 'coordinates',\n",
    "'nearest_pin'."
   ]
  },
  {
   "cell_type": "code",
   "execution_count": 6,
   "id": "704eaa09",
   "metadata": {
    "execution": {
     "iopub.execute_input": "2025-10-30T04:09:31.071618Z",
     "iopub.status.busy": "2025-10-30T04:09:31.071618Z",
     "iopub.status.idle": "2025-10-30T04:09:31.087524Z",
     "shell.execute_reply": "2025-10-30T04:09:31.087524Z"
    }
   },
   "outputs": [],
   "source": [
    "port_1 = {\n",
    "    \"name\": \"port_1\",\n",
    "    \"reference_designator\": \"X1\",\n",
    "    \"type\": \"circuit\",\n",
    "    \"positive_terminal\": {\"net\": \"PCIe_Gen4_TX2_N\"},\n",
    "    \"negative_terminal\": {\"net\": \"GND\"},\n",
    "}"
   ]
  },
  {
   "cell_type": "markdown",
   "id": "347bfc33",
   "metadata": {},
   "source": [
    "## Add a circuit port between two pins"
   ]
  },
  {
   "cell_type": "code",
   "execution_count": 7,
   "id": "89ef5400",
   "metadata": {
    "execution": {
     "iopub.execute_input": "2025-10-30T04:09:31.087524Z",
     "iopub.status.busy": "2025-10-30T04:09:31.087524Z",
     "iopub.status.idle": "2025-10-30T04:09:31.103522Z",
     "shell.execute_reply": "2025-10-30T04:09:31.103522Z"
    }
   },
   "outputs": [],
   "source": [
    "port_2 = {\n",
    "    \"name\": \"port_2\",\n",
    "    \"reference_designator\": \"C375\",\n",
    "    \"type\": \"circuit\",\n",
    "    \"positive_terminal\": {\"pin\": \"1\"},\n",
    "    \"negative_terminal\": {\"pin\": \"2\"},\n",
    "}"
   ]
  },
  {
   "cell_type": "markdown",
   "id": "907f95f6",
   "metadata": {},
   "source": [
    "## Add a circuit port between two pin groups"
   ]
  },
  {
   "cell_type": "code",
   "execution_count": 8,
   "id": "9d08778c",
   "metadata": {
    "execution": {
     "iopub.execute_input": "2025-10-30T04:09:31.103522Z",
     "iopub.status.busy": "2025-10-30T04:09:31.103522Z",
     "iopub.status.idle": "2025-10-30T04:09:31.119335Z",
     "shell.execute_reply": "2025-10-30T04:09:31.119335Z"
    }
   },
   "outputs": [],
   "source": [
    "pin_groups = [\n",
    "    {\"name\": \"U9_5V_1\", \"reference_designator\": \"U9\", \"pins\": [\"32\", \"33\"]},\n",
    "    {\"name\": \"U9_GND\", \"reference_designator\": \"U9\", \"net\": \"GND\"},\n",
    "]"
   ]
  },
  {
   "cell_type": "code",
   "execution_count": 9,
   "id": "1d2efaaf",
   "metadata": {
    "execution": {
     "iopub.execute_input": "2025-10-30T04:09:31.119335Z",
     "iopub.status.busy": "2025-10-30T04:09:31.119335Z",
     "iopub.status.idle": "2025-10-30T04:09:31.135487Z",
     "shell.execute_reply": "2025-10-30T04:09:31.135487Z"
    }
   },
   "outputs": [],
   "source": [
    "port_3 = {\n",
    "    \"name\": \"port_3\",\n",
    "    \"type\": \"circuit\",\n",
    "    \"positive_terminal\": {\"pin_group\": \"U9_5V_1\"},\n",
    "    \"negative_terminal\": {\"pin_group\": \"U9_GND\"},\n",
    "}"
   ]
  },
  {
   "cell_type": "markdown",
   "id": "eafe9147",
   "metadata": {},
   "source": [
    "## Add a circuit port between two coordinates"
   ]
  },
  {
   "cell_type": "markdown",
   "id": "b63df43a",
   "metadata": {},
   "source": [
    "Keywords\n",
    "\n",
    "- **layer**. Layer on which the terminal is placed\n",
    "- **point**. XY coordinate the terminal is placed\n",
    "- **net**. Name of the net the terminal is placed on"
   ]
  },
  {
   "cell_type": "code",
   "execution_count": 10,
   "id": "213c0369",
   "metadata": {
    "execution": {
     "iopub.execute_input": "2025-10-30T04:09:31.135487Z",
     "iopub.status.busy": "2025-10-30T04:09:31.135487Z",
     "iopub.status.idle": "2025-10-30T04:09:31.151260Z",
     "shell.execute_reply": "2025-10-30T04:09:31.151260Z"
    }
   },
   "outputs": [],
   "source": [
    "port_4 = {\n",
    "    \"name\": \"port_4\",\n",
    "    \"type\": \"circuit\",\n",
    "    \"positive_terminal\": {\"coordinates\": {\"layer\": \"1_Top\", \"point\": [\"104mm\", \"37mm\"], \"net\": \"AVCC_1V3\"}},\n",
    "    \"negative_terminal\": {\"coordinates\": {\"layer\": \"Inner6(GND2)\", \"point\": [\"104mm\", \"37mm\"], \"net\": \"GND\"}},\n",
    "}"
   ]
  },
  {
   "cell_type": "markdown",
   "id": "f4311f23",
   "metadata": {},
   "source": [
    "## Add a coax port"
   ]
  },
  {
   "cell_type": "code",
   "execution_count": 11,
   "id": "732457d9",
   "metadata": {
    "execution": {
     "iopub.execute_input": "2025-10-30T04:09:31.151260Z",
     "iopub.status.busy": "2025-10-30T04:09:31.151260Z",
     "iopub.status.idle": "2025-10-30T04:09:31.167362Z",
     "shell.execute_reply": "2025-10-30T04:09:31.167362Z"
    }
   },
   "outputs": [],
   "source": [
    "port_5 = {\"name\": \"port_5\", \"reference_designator\": \"U1\", \"type\": \"coax\", \"positive_terminal\": {\"pin\": \"AM17\"}}"
   ]
  },
  {
   "cell_type": "markdown",
   "id": "56bbba92",
   "metadata": {},
   "source": [
    "## Add a port reference to the nearest pin"
   ]
  },
  {
   "cell_type": "markdown",
   "id": "547e7bbf",
   "metadata": {},
   "source": [
    "Keywords\n",
    "\n",
    "- **reference_net**. Name of the reference net\n",
    "- **search_radius**. Reference pin search radius in meter"
   ]
  },
  {
   "cell_type": "code",
   "execution_count": 12,
   "id": "b6682831",
   "metadata": {
    "execution": {
     "iopub.execute_input": "2025-10-30T04:09:31.167362Z",
     "iopub.status.busy": "2025-10-30T04:09:31.167362Z",
     "iopub.status.idle": "2025-10-30T04:09:31.183429Z",
     "shell.execute_reply": "2025-10-30T04:09:31.183429Z"
    }
   },
   "outputs": [],
   "source": [
    "port_6 = {\n",
    "    \"name\": \"port_6\",\n",
    "    \"reference_designator\": \"U15\",\n",
    "    \"type\": \"circuit\",\n",
    "    \"positive_terminal\": {\"pin\": \"D7\"},\n",
    "    \"negative_terminal\": {\"nearest_pin\": {\"reference_net\": \"GND\", \"search_radius\": 5e-3}},\n",
    "}"
   ]
  },
  {
   "cell_type": "markdown",
   "id": "d75648d2",
   "metadata": {},
   "source": [
    "## Add distributed ports"
   ]
  },
  {
   "cell_type": "markdown",
   "id": "11573f5f",
   "metadata": {},
   "source": [
    "Keywords\n",
    "\n",
    "- **distributed**. Whether to create distributed ports. When set to True, ports are created per pin"
   ]
  },
  {
   "cell_type": "code",
   "execution_count": 13,
   "id": "5f276d49",
   "metadata": {
    "execution": {
     "iopub.execute_input": "2025-10-30T04:09:31.183429Z",
     "iopub.status.busy": "2025-10-30T04:09:31.183429Z",
     "iopub.status.idle": "2025-10-30T04:09:31.199201Z",
     "shell.execute_reply": "2025-10-30T04:09:31.199201Z"
    }
   },
   "outputs": [],
   "source": [
    "ports_distributed = {\n",
    "    \"name\": \"ports_d\",\n",
    "    \"reference_designator\": \"U7\",\n",
    "    \"type\": \"circuit\",\n",
    "    \"distributed\": True,\n",
    "    \"positive_terminal\": {\"net\": \"VDD_DDR\"},\n",
    "    \"negative_terminal\": {\"net\": \"GND\"},\n",
    "}"
   ]
  },
  {
   "cell_type": "markdown",
   "id": "bf520d55",
   "metadata": {},
   "source": [
    "## Add setups in configuration"
   ]
  },
  {
   "cell_type": "code",
   "execution_count": 14,
   "id": "a1dce216",
   "metadata": {
    "execution": {
     "iopub.execute_input": "2025-10-30T04:09:31.199201Z",
     "iopub.status.busy": "2025-10-30T04:09:31.199201Z",
     "iopub.status.idle": "2025-10-30T04:09:31.214869Z",
     "shell.execute_reply": "2025-10-30T04:09:31.214869Z"
    }
   },
   "outputs": [],
   "source": [
    "cfg[\"pin_groups\"] = pin_groups\n",
    "cfg[\"ports\"] = [port_1, port_2, port_3, port_4, port_5, port_6, ports_distributed]"
   ]
  },
  {
   "cell_type": "markdown",
   "id": "a12b7dae",
   "metadata": {},
   "source": [
    "## Write configuration into as json file"
   ]
  },
  {
   "cell_type": "code",
   "execution_count": 15,
   "id": "1ef2b3fe",
   "metadata": {
    "execution": {
     "iopub.execute_input": "2025-10-30T04:09:31.214869Z",
     "iopub.status.busy": "2025-10-30T04:09:31.214869Z",
     "iopub.status.idle": "2025-10-30T04:09:31.230973Z",
     "shell.execute_reply": "2025-10-30T04:09:31.230973Z"
    },
    "lines_to_next_cell": 2
   },
   "outputs": [],
   "source": [
    "file_json = Path(temp_folder.name) / \"edb_configuration.json\"\n",
    "with open(file_json, \"w\") as f:\n",
    "    json.dump(cfg, f, indent=4, ensure_ascii=False)"
   ]
  },
  {
   "cell_type": "markdown",
   "id": "3b4911fc",
   "metadata": {},
   "source": [
    "Equivalent toml file looks like below "
   ]
  },
  {
   "cell_type": "code",
   "execution_count": 16,
   "id": "64f97a7c",
   "metadata": {
    "execution": {
     "iopub.execute_input": "2025-10-30T04:09:31.230973Z",
     "iopub.status.busy": "2025-10-30T04:09:31.230973Z",
     "iopub.status.idle": "2025-10-30T04:09:31.246997Z",
     "shell.execute_reply": "2025-10-30T04:09:31.246997Z"
    },
    "lines_to_next_cell": 2
   },
   "outputs": [
    {
     "name": "stdout",
     "output_type": "stream",
     "text": [
      "[[pin_groups]]\n",
      "name = \"U9_5V_1\"\n",
      "reference_designator = \"U9\"\n",
      "pins = [ \"32\", \"33\",]\n",
      "\n",
      "[[pin_groups]]\n",
      "name = \"U9_GND\"\n",
      "reference_designator = \"U9\"\n",
      "net = \"GND\"\n",
      "\n",
      "[[ports]]\n",
      "name = \"port_1\"\n",
      "reference_designator = \"X1\"\n",
      "type = \"circuit\"\n",
      "\n",
      "[ports.positive_terminal]\n",
      "net = \"PCIe_Gen4_TX2_N\"\n",
      "[ports.negative_terminal]\n",
      "net = \"GND\"\n",
      "[[ports]]\n",
      "name = \"port_2\"\n",
      "reference_designator = \"C375\"\n",
      "type = \"circuit\"\n",
      "\n",
      "[ports.positive_terminal]\n",
      "pin = \"1\"\n",
      "[ports.negative_terminal]\n",
      "pin = \"2\"\n",
      "[[ports]]\n",
      "name = \"port_3\"\n",
      "type = \"circuit\"\n",
      "\n",
      "[ports.positive_terminal]\n",
      "pin_group = \"U9_5V_1\"\n",
      "[ports.negative_terminal]\n",
      "pin_group = \"U9_GND\"\n",
      "[[ports]]\n",
      "name = \"port_4\"\n",
      "type = \"circuit\"\n",
      "\n",
      "[ports.positive_terminal.coordinates]\n",
      "layer = \"1_Top\"\n",
      "point = [ \"104mm\", \"37mm\",]\n",
      "net = \"AVCC_1V3\"\n",
      "[ports.negative_terminal.coordinates]\n",
      "layer = \"Inner6(GND2)\"\n",
      "point = [ \"104mm\", \"37mm\",]\n",
      "net = \"GND\"\n",
      "[[ports]]\n",
      "name = \"port_5\"\n",
      "reference_designator = \"U1\"\n",
      "type = \"coax\"\n",
      "\n",
      "[ports.positive_terminal]\n",
      "pin = \"AM17\"\n",
      "[[ports]]\n",
      "name = \"port_6\"\n",
      "reference_designator = \"U15\"\n",
      "type = \"circuit\"\n",
      "\n",
      "[ports.positive_terminal]\n",
      "pin = \"D7\"\n",
      "[ports.negative_terminal.nearest_pin]\n",
      "reference_net = \"GND\"\n",
      "search_radius = 0.005\n",
      "[[ports]]\n",
      "name = \"ports_d\"\n",
      "reference_designator = \"U7\"\n",
      "type = \"circuit\"\n",
      "distributed = true\n",
      "\n",
      "[ports.positive_terminal]\n",
      "net = \"VDD_DDR\"\n",
      "[ports.negative_terminal]\n",
      "net = \"GND\"\n",
      "\n"
     ]
    }
   ],
   "source": [
    "toml_string = toml.dumps(cfg)\n",
    "print(toml_string)"
   ]
  },
  {
   "cell_type": "markdown",
   "id": "129dbdf6",
   "metadata": {},
   "source": [
    "## Import configuration into example layout"
   ]
  },
  {
   "cell_type": "code",
   "execution_count": 17,
   "id": "47397b26",
   "metadata": {
    "execution": {
     "iopub.execute_input": "2025-10-30T04:09:31.246997Z",
     "iopub.status.busy": "2025-10-30T04:09:31.246997Z",
     "iopub.status.idle": "2025-10-30T04:09:31.770433Z",
     "shell.execute_reply": "2025-10-30T04:09:31.770433Z"
    }
   },
   "outputs": [
    {
     "name": "stdout",
     "output_type": "stream",
     "text": [
      "PyEDB INFO: Updating boundaries finished. Time lapse 0:00:00.004970\n"
     ]
    },
    {
     "name": "stderr",
     "output_type": "stream",
     "text": [
      "INFO:Edb:Updating boundaries finished. Time lapse 0:00:00.004970\n"
     ]
    },
    {
     "name": "stdout",
     "output_type": "stream",
     "text": [
      "PyEDB INFO: Updating nets finished. Time lapse 0:00:00\n"
     ]
    },
    {
     "name": "stderr",
     "output_type": "stream",
     "text": [
      "INFO:Edb:Updating nets finished. Time lapse 0:00:00\n"
     ]
    },
    {
     "name": "stdout",
     "output_type": "stream",
     "text": [
      "PyEDB INFO: Updating components finished. Time lapse 0:00:00\n"
     ]
    },
    {
     "name": "stderr",
     "output_type": "stream",
     "text": [
      "INFO:Edb:Updating components finished. Time lapse 0:00:00\n"
     ]
    },
    {
     "name": "stdout",
     "output_type": "stream",
     "text": [
      "PyEDB INFO: Creating pin groups finished. Time lapse 0:00:00.031735\n"
     ]
    },
    {
     "name": "stderr",
     "output_type": "stream",
     "text": [
      "INFO:Edb:Creating pin groups finished. Time lapse 0:00:00.031735\n"
     ]
    },
    {
     "name": "stdout",
     "output_type": "stream",
     "text": [
      "PyEDB INFO: Placing sources finished. Time lapse 0:00:00\n"
     ]
    },
    {
     "name": "stderr",
     "output_type": "stream",
     "text": [
      "INFO:Edb:Placing sources finished. Time lapse 0:00:00\n"
     ]
    },
    {
     "name": "stdout",
     "output_type": "stream",
     "text": [
      "PyEDB INFO: Applying materials finished. Time lapse 0:00:00\n"
     ]
    },
    {
     "name": "stderr",
     "output_type": "stream",
     "text": [
      "INFO:Edb:Applying materials finished. Time lapse 0:00:00\n"
     ]
    },
    {
     "name": "stdout",
     "output_type": "stream",
     "text": [
      "PyEDB INFO: Updating stackup finished. Time lapse 0:00:00\n"
     ]
    },
    {
     "name": "stderr",
     "output_type": "stream",
     "text": [
      "INFO:Edb:Updating stackup finished. Time lapse 0:00:00\n"
     ]
    },
    {
     "name": "stdout",
     "output_type": "stream",
     "text": [
      "PyEDB INFO: Applying padstacks finished. Time lapse 0:00:00\n"
     ]
    },
    {
     "name": "stderr",
     "output_type": "stream",
     "text": [
      "INFO:Edb:Applying padstacks finished. Time lapse 0:00:00\n"
     ]
    },
    {
     "name": "stdout",
     "output_type": "stream",
     "text": [
      "PyEDB INFO: Applying S-parameters finished. Time lapse 0:00:00\n"
     ]
    },
    {
     "name": "stderr",
     "output_type": "stream",
     "text": [
      "INFO:Edb:Applying S-parameters finished. Time lapse 0:00:00\n"
     ]
    },
    {
     "name": "stdout",
     "output_type": "stream",
     "text": [
      "PyEDB INFO: Applying package definitions finished. Time lapse 0:00:00\n"
     ]
    },
    {
     "name": "stderr",
     "output_type": "stream",
     "text": [
      "INFO:Edb:Applying package definitions finished. Time lapse 0:00:00\n"
     ]
    },
    {
     "name": "stdout",
     "output_type": "stream",
     "text": [
      "PyEDB INFO: Applying modeler finished. Time lapse 0:00:00\n"
     ]
    },
    {
     "name": "stderr",
     "output_type": "stream",
     "text": [
      "INFO:Edb:Applying modeler finished. Time lapse 0:00:00\n"
     ]
    },
    {
     "name": "stdout",
     "output_type": "stream",
     "text": [
      "PyEDB INFO: Placing ports finished. Time lapse 0:00:00.428053\n"
     ]
    },
    {
     "name": "stderr",
     "output_type": "stream",
     "text": [
      "INFO:Edb:Placing ports finished. Time lapse 0:00:00.428053\n"
     ]
    },
    {
     "name": "stdout",
     "output_type": "stream",
     "text": [
      "PyEDB INFO: Placing terminals completed in 0.0000 seconds.\n"
     ]
    },
    {
     "name": "stderr",
     "output_type": "stream",
     "text": [
      "INFO:Edb:Placing terminals completed in 0.0000 seconds.\n"
     ]
    },
    {
     "name": "stdout",
     "output_type": "stream",
     "text": [
      "PyEDB INFO: Placing probes finished. Time lapse 0:00:00\n"
     ]
    },
    {
     "name": "stderr",
     "output_type": "stream",
     "text": [
      "INFO:Edb:Placing probes finished. Time lapse 0:00:00\n"
     ]
    },
    {
     "name": "stdout",
     "output_type": "stream",
     "text": [
      "PyEDB INFO: Applying operations completed in 0.0000 seconds.\n"
     ]
    },
    {
     "name": "stderr",
     "output_type": "stream",
     "text": [
      "INFO:Edb:Applying operations completed in 0.0000 seconds.\n"
     ]
    },
    {
     "data": {
      "text/plain": [
       "True"
      ]
     },
     "execution_count": 17,
     "metadata": {},
     "output_type": "execute_result"
    }
   ],
   "source": [
    "edbapp.configuration.load(config_file=file_json)\n",
    "edbapp.configuration.run()"
   ]
  },
  {
   "cell_type": "markdown",
   "id": "c6da867b",
   "metadata": {},
   "source": [
    "## Review"
   ]
  },
  {
   "cell_type": "code",
   "execution_count": 18,
   "id": "a5a71ba0",
   "metadata": {
    "execution": {
     "iopub.execute_input": "2025-10-30T04:09:31.770433Z",
     "iopub.status.busy": "2025-10-30T04:09:31.770433Z",
     "iopub.status.idle": "2025-10-30T04:09:31.802071Z",
     "shell.execute_reply": "2025-10-30T04:09:31.802071Z"
    }
   },
   "outputs": [
    {
     "data": {
      "text/plain": [
       "{'port_1': <pyedb.dotnet.database.edb_data.ports.CircuitPort at 0x28b78b11ab0>,\n",
       " 'port_2': <pyedb.dotnet.database.edb_data.ports.CircuitPort at 0x28b78b11db0>,\n",
       " 'port_3': <pyedb.dotnet.database.edb_data.ports.CircuitPort at 0x28b24506290>,\n",
       " 'port_4': <pyedb.dotnet.database.edb_data.ports.CircuitPort at 0x28b24506560>,\n",
       " 'port_5': <pyedb.dotnet.database.edb_data.ports.CoaxPort at 0x28b245069e0>,\n",
       " 'port_6': <pyedb.dotnet.database.edb_data.ports.CircuitPort at 0x28b24506a40>,\n",
       " 'U7_VDD_DDR_T9': <pyedb.dotnet.database.edb_data.ports.CircuitPort at 0x28b24506830>,\n",
       " 'U7_VDD_DDR_R1': <pyedb.dotnet.database.edb_data.ports.CircuitPort at 0x28b24506320>,\n",
       " 'U7_VDD_DDR_L9': <pyedb.dotnet.database.edb_data.ports.CircuitPort at 0x28b24506350>,\n",
       " 'U7_VDD_DDR_L1': <pyedb.dotnet.database.edb_data.ports.CircuitPort at 0x28b24506230>,\n",
       " 'U7_VDD_DDR_J9': <pyedb.dotnet.database.edb_data.ports.CircuitPort at 0x28b24506200>,\n",
       " 'U7_VDD_DDR_J8': <pyedb.dotnet.database.edb_data.ports.CircuitPort at 0x28b245061d0>,\n",
       " 'U7_VDD_DDR_J2': <pyedb.dotnet.database.edb_data.ports.CircuitPort at 0x28b245062f0>,\n",
       " 'U7_VDD_DDR_J1': <pyedb.dotnet.database.edb_data.ports.CircuitPort at 0x28b245062c0>,\n",
       " 'U7_VDD_DDR_G9': <pyedb.dotnet.database.edb_data.ports.CircuitPort at 0x28b24506260>,\n",
       " 'U7_VDD_DDR_G7': <pyedb.dotnet.database.edb_data.ports.CircuitPort at 0x28b245063b0>,\n",
       " 'U7_VDD_DDR_G1': <pyedb.dotnet.database.edb_data.ports.CircuitPort at 0x28b245063e0>,\n",
       " 'U7_VDD_DDR_F8': <pyedb.dotnet.database.edb_data.ports.CircuitPort at 0x28b24506410>,\n",
       " 'U7_VDD_DDR_F2': <pyedb.dotnet.database.edb_data.ports.CircuitPort at 0x28b24506440>,\n",
       " 'U7_VDD_DDR_D9': <pyedb.dotnet.database.edb_data.ports.CircuitPort at 0x28b24506470>,\n",
       " 'U7_VDD_DDR_D1': <pyedb.dotnet.database.edb_data.ports.CircuitPort at 0x28b245072e0>,\n",
       " 'U7_VDD_DDR_C1': <pyedb.dotnet.database.edb_data.ports.CircuitPort at 0x28b24506cb0>,\n",
       " 'U7_VDD_DDR_B9': <pyedb.dotnet.database.edb_data.ports.CircuitPort at 0x28b24507640>,\n",
       " 'U7_VDD_DDR_B3': <pyedb.dotnet.database.edb_data.ports.CircuitPort at 0x28b24507a30>,\n",
       " 'U7_VDD_DDR_A9': <pyedb.dotnet.database.edb_data.ports.CircuitPort at 0x28b24507f40>,\n",
       " 'U7_VDD_DDR_A1': <pyedb.dotnet.database.edb_data.ports.CircuitPort at 0x28b24507040>}"
      ]
     },
     "execution_count": 18,
     "metadata": {},
     "output_type": "execute_result"
    }
   ],
   "source": [
    "edbapp.ports"
   ]
  },
  {
   "cell_type": "markdown",
   "id": "d1e2a3eb",
   "metadata": {},
   "source": [
    "## Save and close Edb\n",
    "The temporary folder will be deleted once the execution of this script is finished. Replace **edbapp.save()** with\n",
    "**edbapp.save_as(\"C:/example.aedb\")** to keep the example project."
   ]
  },
  {
   "cell_type": "code",
   "execution_count": 19,
   "id": "47b2b22c",
   "metadata": {
    "execution": {
     "iopub.execute_input": "2025-10-30T04:09:31.802071Z",
     "iopub.status.busy": "2025-10-30T04:09:31.802071Z",
     "iopub.status.idle": "2025-10-30T04:09:32.023421Z",
     "shell.execute_reply": "2025-10-30T04:09:32.023421Z"
    }
   },
   "outputs": [
    {
     "name": "stdout",
     "output_type": "stream",
     "text": [
      "PyEDB INFO: Save Edb file completed in 0.1105 seconds.\n"
     ]
    },
    {
     "name": "stderr",
     "output_type": "stream",
     "text": [
      "INFO:Edb:Save Edb file completed in 0.1105 seconds.\n"
     ]
    },
    {
     "name": "stdout",
     "output_type": "stream",
     "text": [
      "PyEDB INFO: Close Edb file completed in 0.0761 seconds.\n"
     ]
    },
    {
     "name": "stderr",
     "output_type": "stream",
     "text": [
      "INFO:Edb:Close Edb file completed in 0.0761 seconds.\n"
     ]
    },
    {
     "data": {
      "text/plain": [
       "True"
      ]
     },
     "execution_count": 19,
     "metadata": {},
     "output_type": "execute_result"
    }
   ],
   "source": [
    "edbapp.save()\n",
    "edbapp.close()"
   ]
  }
 ],
 "metadata": {
  "jupytext": {
   "cell_metadata_filter": "-all",
   "main_language": "python",
   "notebook_metadata_filter": "-all"
  },
  "language_info": {
   "codemirror_mode": {
    "name": "ipython",
    "version": 3
   },
   "file_extension": ".py",
   "mimetype": "text/x-python",
   "name": "python",
   "nbconvert_exporter": "python",
   "pygments_lexer": "ipython3",
   "version": "3.10.11"
  }
 },
 "nbformat": 4,
 "nbformat_minor": 5
}
