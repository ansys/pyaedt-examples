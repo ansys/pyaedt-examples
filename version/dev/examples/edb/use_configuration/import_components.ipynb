{
 "cells": [
  {
   "cell_type": "markdown",
   "id": "13a647d4",
   "metadata": {},
   "source": [
    "# Import Component Definitions\n",
    "This example shows how to import component definitions. It includes\n",
    "\n",
    "- Download an example board\n",
    "- Create a config file with component RLC and solder ball information\n",
    "- Apply the config file to the example board"
   ]
  },
  {
   "cell_type": "markdown",
   "id": "2ee5e58b",
   "metadata": {},
   "source": [
    "## Perform imports and define constants\n",
    "\n",
    "Perform required imports."
   ]
  },
  {
   "cell_type": "code",
   "execution_count": 1,
   "id": "bc28930c",
   "metadata": {
    "execution": {
     "iopub.execute_input": "2025-10-30T04:07:21.753504Z",
     "iopub.status.busy": "2025-10-30T04:07:21.753504Z",
     "iopub.status.idle": "2025-10-30T04:07:24.807768Z",
     "shell.execute_reply": "2025-10-30T04:07:24.807768Z"
    }
   },
   "outputs": [],
   "source": [
    "import json\n",
    "import toml\n",
    "from pathlib import Path\n",
    "import tempfile\n",
    "\n",
    "from IPython.display import display\n",
    "from ansys.aedt.core.examples.downloads import download_file\n",
    "import pandas as pd\n",
    "from pyedb import Edb"
   ]
  },
  {
   "cell_type": "markdown",
   "id": "a4a0ed94",
   "metadata": {},
   "source": [
    "Define constants."
   ]
  },
  {
   "cell_type": "code",
   "execution_count": 2,
   "id": "a3076280",
   "metadata": {
    "execution": {
     "iopub.execute_input": "2025-10-30T04:07:24.807768Z",
     "iopub.status.busy": "2025-10-30T04:07:24.807768Z",
     "iopub.status.idle": "2025-10-30T04:07:24.823534Z",
     "shell.execute_reply": "2025-10-30T04:07:24.823534Z"
    }
   },
   "outputs": [],
   "source": [
    "AEDT_VERSION = \"2025.2\""
   ]
  },
  {
   "cell_type": "markdown",
   "id": "12b43d36",
   "metadata": {},
   "source": [
    "Download the example PCB data."
   ]
  },
  {
   "cell_type": "code",
   "execution_count": 3,
   "id": "0f3d5137",
   "metadata": {
    "execution": {
     "iopub.execute_input": "2025-10-30T04:07:24.823534Z",
     "iopub.status.busy": "2025-10-30T04:07:24.823534Z",
     "iopub.status.idle": "2025-10-30T04:07:27.043950Z",
     "shell.execute_reply": "2025-10-30T04:07:27.043950Z"
    }
   },
   "outputs": [],
   "source": [
    "temp_folder = tempfile.TemporaryDirectory(suffix=\".ansys\").name\n",
    "file_edb = download_file(source=\"edb/ANSYS-HSD_V1.aedb\", local_path=temp_folder)"
   ]
  },
  {
   "cell_type": "markdown",
   "id": "1440c5ad",
   "metadata": {},
   "source": [
    "## Load example layout."
   ]
  },
  {
   "cell_type": "code",
   "execution_count": 4,
   "id": "e58ddab5",
   "metadata": {
    "execution": {
     "iopub.execute_input": "2025-10-30T04:07:27.043950Z",
     "iopub.status.busy": "2025-10-30T04:07:27.043950Z",
     "iopub.status.idle": "2025-10-30T04:07:39.508649Z",
     "shell.execute_reply": "2025-10-30T04:07:39.508649Z"
    }
   },
   "outputs": [
    {
     "name": "stderr",
     "output_type": "stream",
     "text": [
      "C:\\actions-runner\\_work\\pyaedt-examples\\pyaedt-examples\\.venv\\lib\\site-packages\\pyedb\\misc\\decorators.py:55: UserWarning: Argument `edbversion` is deprecated for method `Edb`; use `version` instead.\n",
      "  warnings.warn(\n",
      "C:\\actions-runner\\_work\\pyaedt-examples\\pyaedt-examples\\.venv\\lib\\site-packages\\pyedb\\generic\\design_types.py:301: UserWarning: Your ANSYS AEDT version is eligible to gRPC version.You might consider switching to that version for better user experience.For more information please check this link: https://edb.docs.pyansys.com/version/dev/grpc_api/index.html\n",
      "  warnings.warn(GRPC_GENERAL_WARNING, UserWarning)\n"
     ]
    },
    {
     "name": "stdout",
     "output_type": "stream",
     "text": [
      "PyEDB INFO: Star initializing Edb 04:07:30.310158\n"
     ]
    },
    {
     "name": "stderr",
     "output_type": "stream",
     "text": [
      "INFO:Edb:Star initializing Edb 04:07:30.310158\n"
     ]
    },
    {
     "name": "stdout",
     "output_type": "stream",
     "text": [
      "PyEDB INFO: Edb version 2025.2\n"
     ]
    },
    {
     "name": "stderr",
     "output_type": "stream",
     "text": [
      "INFO:Edb:Edb version 2025.2\n"
     ]
    },
    {
     "name": "stdout",
     "output_type": "stream",
     "text": [
      "PyEDB INFO: Logger is initialized. Log file is saved to C:\\Users\\ansys\\AppData\\Local\\Temp\\pyedb_ansys.log.\n"
     ]
    },
    {
     "name": "stderr",
     "output_type": "stream",
     "text": [
      "INFO:Edb:Logger is initialized. Log file is saved to C:\\Users\\ansys\\AppData\\Local\\Temp\\pyedb_ansys.log.\n"
     ]
    },
    {
     "name": "stdout",
     "output_type": "stream",
     "text": [
      "PyEDB INFO: legacy v0.61.0\n"
     ]
    },
    {
     "name": "stderr",
     "output_type": "stream",
     "text": [
      "INFO:Edb:legacy v0.61.0\n"
     ]
    },
    {
     "name": "stdout",
     "output_type": "stream",
     "text": [
      "PyEDB INFO: Python version 3.10.11 (tags/v3.10.11:7d4cc5a, Apr  5 2023, 00:38:17) [MSC v.1929 64 bit (AMD64)]\n"
     ]
    },
    {
     "name": "stderr",
     "output_type": "stream",
     "text": [
      "INFO:Edb:Python version 3.10.11 (tags/v3.10.11:7d4cc5a, Apr  5 2023, 00:38:17) [MSC v.1929 64 bit (AMD64)]\n"
     ]
    },
    {
     "name": "stdout",
     "output_type": "stream",
     "text": [
      "PyEDB INFO: Database ANSYS-HSD_V1.aedb Opened in 2025.2\n"
     ]
    },
    {
     "name": "stderr",
     "output_type": "stream",
     "text": [
      "INFO:Edb:Database ANSYS-HSD_V1.aedb Opened in 2025.2\n"
     ]
    },
    {
     "name": "stdout",
     "output_type": "stream",
     "text": [
      "PyEDB INFO: Cell main Opened\n"
     ]
    },
    {
     "name": "stderr",
     "output_type": "stream",
     "text": [
      "INFO:Edb:Cell main Opened\n"
     ]
    },
    {
     "name": "stdout",
     "output_type": "stream",
     "text": [
      "PyEDB INFO: Builder was initialized.\n"
     ]
    },
    {
     "name": "stderr",
     "output_type": "stream",
     "text": [
      "INFO:Edb:Builder was initialized.\n"
     ]
    },
    {
     "name": "stdout",
     "output_type": "stream",
     "text": [
      "PyEDB INFO: open_edb completed in 9.1036 seconds.\n"
     ]
    },
    {
     "name": "stderr",
     "output_type": "stream",
     "text": [
      "INFO:Edb:open_edb completed in 9.1036 seconds.\n"
     ]
    },
    {
     "name": "stdout",
     "output_type": "stream",
     "text": [
      "PyEDB INFO: EDB initialization completed in 9.1827 seconds.\n"
     ]
    },
    {
     "name": "stderr",
     "output_type": "stream",
     "text": [
      "INFO:Edb:EDB initialization completed in 9.1827 seconds.\n"
     ]
    }
   ],
   "source": [
    "edbapp = Edb(file_edb, edbversion=AEDT_VERSION)"
   ]
  },
  {
   "cell_type": "markdown",
   "id": "6b669be1",
   "metadata": {},
   "source": [
    "## Create a config file with component information"
   ]
  },
  {
   "cell_type": "markdown",
   "id": "cf28e602",
   "metadata": {},
   "source": [
    "Keywords\n",
    "\n",
    "- **reference_designator**. Reference designator of the component.\n",
    "- **part_type**. Part type of the component. Supported types are 'resistor', 'inductor', 'capacitor', 'ic', 'io',\n",
    "'other'.\n",
    "- **enabled**. Only available for RLC components.\n",
    "- **solder_ball_properties**.\n",
    "  - **shape**. Supported types are 'cylinder', 'spheroid', 'none'.\n",
    "  - **diameter**.\n",
    "  - **mid_diameter**.\n",
    "  - **height**.\n",
    "  - **material**.\n",
    "- **port_properties**.\n",
    "  - **reference_offset**.\n",
    "  - **reference_size_auto**.\n",
    "  - **reference_size_x**.\n",
    "  - **reference_size_y**.\n",
    "- **pin_pair_model**. RLC network. Multiple pin pairs are supported.\n",
    "  - **first_pin**. First pin of the pin pair.\n",
    "  - **second_pin**. Second pin of the pin pair.\n",
    "  - **is_parallel**.\n",
    "  - **resistance**.\n",
    "  - **resistance_enabled**.\n",
    "  - **inductance**.\n",
    "  - **inductance_enabled**.\n",
    "  - **capacitance**.\n",
    "  - **capacitance_enabled**."
   ]
  },
  {
   "cell_type": "code",
   "execution_count": 5,
   "id": "92d84d6d",
   "metadata": {
    "execution": {
     "iopub.execute_input": "2025-10-30T04:07:41.521704Z",
     "iopub.status.busy": "2025-10-30T04:07:41.521704Z",
     "iopub.status.idle": "2025-10-30T04:07:41.537493Z",
     "shell.execute_reply": "2025-10-30T04:07:41.537493Z"
    }
   },
   "outputs": [],
   "source": [
    "cfg = dict()\n",
    "cfg[\"components\"] = [\n",
    "    {\n",
    "        \"reference_designator\": \"U1\",\n",
    "        \"part_type\": \"io\",\n",
    "        \"solder_ball_properties\": {\n",
    "            \"shape\": \"spheroid\",\n",
    "            \"diameter\": \"244um\",\n",
    "            \"mid_diameter\": \"400um\",\n",
    "            \"height\": \"300um\",\n",
    "            \"material\": \"air\",\n",
    "        },\n",
    "        \"port_properties\": {\n",
    "            \"reference_offset\": \"0.1mm\",\n",
    "            \"reference_size_auto\": True,\n",
    "            \"reference_size_x\": 0,\n",
    "            \"reference_size_y\": 0,\n",
    "        },\n",
    "    },\n",
    "    {\n",
    "        \"reference_designator\": \"C375\",\n",
    "        \"enabled\": False,\n",
    "        \"pin_pair_model\": [\n",
    "            {\n",
    "                \"first_pin\": \"1\",\n",
    "                \"second_pin\": \"2\",\n",
    "                \"is_parallel\": False,\n",
    "                \"resistance\": \"10ohm\",\n",
    "                \"resistance_enabled\": True,\n",
    "                \"inductance\": \"1nH\",\n",
    "                \"inductance_enabled\": False,\n",
    "                \"capacitance\": \"10nF\",\n",
    "                \"capacitance_enabled\": True,\n",
    "            }\n",
    "        ],\n",
    "    },\n",
    "]"
   ]
  },
  {
   "cell_type": "code",
   "execution_count": 6,
   "id": "08e5507f",
   "metadata": {
    "execution": {
     "iopub.execute_input": "2025-10-30T04:07:41.537493Z",
     "iopub.status.busy": "2025-10-30T04:07:41.537493Z",
     "iopub.status.idle": "2025-10-30T04:07:41.553320Z",
     "shell.execute_reply": "2025-10-30T04:07:41.553320Z"
    }
   },
   "outputs": [],
   "source": [
    "cfg_file_path = Path(temp_folder) / \"cfg.json\"\n",
    "with open(cfg_file_path, \"w\") as f:\n",
    "    json.dump(cfg, f, indent=4, ensure_ascii=False)"
   ]
  },
  {
   "cell_type": "markdown",
   "id": "ae0c7696",
   "metadata": {},
   "source": [
    "Equivalent toml file looks like below "
   ]
  },
  {
   "cell_type": "code",
   "execution_count": 7,
   "id": "9205c287",
   "metadata": {
    "execution": {
     "iopub.execute_input": "2025-10-30T04:07:41.553320Z",
     "iopub.status.busy": "2025-10-30T04:07:41.553320Z",
     "iopub.status.idle": "2025-10-30T04:07:41.569416Z",
     "shell.execute_reply": "2025-10-30T04:07:41.569416Z"
    }
   },
   "outputs": [
    {
     "name": "stdout",
     "output_type": "stream",
     "text": [
      "[[components]]\n",
      "reference_designator = \"U1\"\n",
      "part_type = \"io\"\n",
      "\n",
      "[components.solder_ball_properties]\n",
      "shape = \"spheroid\"\n",
      "diameter = \"244um\"\n",
      "mid_diameter = \"400um\"\n",
      "height = \"300um\"\n",
      "material = \"air\"\n",
      "[components.port_properties]\n",
      "reference_offset = \"0.1mm\"\n",
      "reference_size_auto = true\n",
      "reference_size_x = 0\n",
      "reference_size_y = 0\n",
      "[[components]]\n",
      "reference_designator = \"C375\"\n",
      "enabled = false\n",
      "[[components.pin_pair_model]]\n",
      "first_pin = \"1\"\n",
      "second_pin = \"2\"\n",
      "is_parallel = false\n",
      "resistance = \"10ohm\"\n",
      "resistance_enabled = true\n",
      "inductance = \"1nH\"\n",
      "inductance_enabled = false\n",
      "capacitance = \"10nF\"\n",
      "capacitance_enabled = true\n",
      "\n",
      "\n",
      "\n"
     ]
    }
   ],
   "source": [
    "toml_string = toml.dumps(cfg)\n",
    "print(toml_string)"
   ]
  },
  {
   "cell_type": "markdown",
   "id": "09466464",
   "metadata": {},
   "source": [
    "## Apply config file"
   ]
  },
  {
   "cell_type": "code",
   "execution_count": 8,
   "id": "46c6462d",
   "metadata": {
    "execution": {
     "iopub.execute_input": "2025-10-30T04:07:41.569416Z",
     "iopub.status.busy": "2025-10-30T04:07:41.569416Z",
     "iopub.status.idle": "2025-10-30T04:07:41.680946Z",
     "shell.execute_reply": "2025-10-30T04:07:41.680946Z"
    }
   },
   "outputs": [
    {
     "name": "stdout",
     "output_type": "stream",
     "text": [
      "PyEDB INFO: Updating boundaries finished. Time lapse 0:00:00.016042\n"
     ]
    },
    {
     "name": "stderr",
     "output_type": "stream",
     "text": [
      "INFO:Edb:Updating boundaries finished. Time lapse 0:00:00.016042\n"
     ]
    },
    {
     "name": "stdout",
     "output_type": "stream",
     "text": [
      "PyEDB INFO: Updating nets finished. Time lapse 0:00:00\n"
     ]
    },
    {
     "name": "stderr",
     "output_type": "stream",
     "text": [
      "INFO:Edb:Updating nets finished. Time lapse 0:00:00\n"
     ]
    },
    {
     "name": "stdout",
     "output_type": "stream",
     "text": [
      "PyEDB INFO: Updating components finished. Time lapse 0:00:00.031607\n"
     ]
    },
    {
     "name": "stderr",
     "output_type": "stream",
     "text": [
      "INFO:Edb:Updating components finished. Time lapse 0:00:00.031607\n"
     ]
    },
    {
     "name": "stdout",
     "output_type": "stream",
     "text": [
      "PyEDB INFO: Creating pin groups finished. Time lapse 0:00:00\n"
     ]
    },
    {
     "name": "stderr",
     "output_type": "stream",
     "text": [
      "INFO:Edb:Creating pin groups finished. Time lapse 0:00:00\n"
     ]
    },
    {
     "name": "stdout",
     "output_type": "stream",
     "text": [
      "PyEDB INFO: Placing sources finished. Time lapse 0:00:00\n"
     ]
    },
    {
     "name": "stderr",
     "output_type": "stream",
     "text": [
      "INFO:Edb:Placing sources finished. Time lapse 0:00:00\n"
     ]
    },
    {
     "name": "stdout",
     "output_type": "stream",
     "text": [
      "PyEDB INFO: Applying materials finished. Time lapse 0:00:00\n"
     ]
    },
    {
     "name": "stderr",
     "output_type": "stream",
     "text": [
      "INFO:Edb:Applying materials finished. Time lapse 0:00:00\n"
     ]
    },
    {
     "name": "stdout",
     "output_type": "stream",
     "text": [
      "PyEDB INFO: Updating stackup finished. Time lapse 0:00:00\n"
     ]
    },
    {
     "name": "stderr",
     "output_type": "stream",
     "text": [
      "INFO:Edb:Updating stackup finished. Time lapse 0:00:00\n"
     ]
    },
    {
     "name": "stdout",
     "output_type": "stream",
     "text": [
      "PyEDB INFO: Applying padstacks finished. Time lapse 0:00:00\n"
     ]
    },
    {
     "name": "stderr",
     "output_type": "stream",
     "text": [
      "INFO:Edb:Applying padstacks finished. Time lapse 0:00:00\n"
     ]
    },
    {
     "name": "stdout",
     "output_type": "stream",
     "text": [
      "PyEDB INFO: Applying S-parameters finished. Time lapse 0:00:00\n"
     ]
    },
    {
     "name": "stderr",
     "output_type": "stream",
     "text": [
      "INFO:Edb:Applying S-parameters finished. Time lapse 0:00:00\n"
     ]
    },
    {
     "name": "stdout",
     "output_type": "stream",
     "text": [
      "PyEDB INFO: Applying package definitions finished. Time lapse 0:00:00\n"
     ]
    },
    {
     "name": "stderr",
     "output_type": "stream",
     "text": [
      "INFO:Edb:Applying package definitions finished. Time lapse 0:00:00\n"
     ]
    },
    {
     "name": "stdout",
     "output_type": "stream",
     "text": [
      "PyEDB INFO: Applying modeler finished. Time lapse 0:00:00\n"
     ]
    },
    {
     "name": "stderr",
     "output_type": "stream",
     "text": [
      "INFO:Edb:Applying modeler finished. Time lapse 0:00:00\n"
     ]
    },
    {
     "name": "stdout",
     "output_type": "stream",
     "text": [
      "PyEDB INFO: Placing ports finished. Time lapse 0:00:00\n"
     ]
    },
    {
     "name": "stderr",
     "output_type": "stream",
     "text": [
      "INFO:Edb:Placing ports finished. Time lapse 0:00:00\n"
     ]
    },
    {
     "name": "stdout",
     "output_type": "stream",
     "text": [
      "PyEDB INFO: Placing terminals completed in 0.0000 seconds.\n"
     ]
    },
    {
     "name": "stderr",
     "output_type": "stream",
     "text": [
      "INFO:Edb:Placing terminals completed in 0.0000 seconds.\n"
     ]
    },
    {
     "name": "stdout",
     "output_type": "stream",
     "text": [
      "PyEDB INFO: Placing probes finished. Time lapse 0:00:00\n"
     ]
    },
    {
     "name": "stderr",
     "output_type": "stream",
     "text": [
      "INFO:Edb:Placing probes finished. Time lapse 0:00:00\n"
     ]
    },
    {
     "name": "stdout",
     "output_type": "stream",
     "text": [
      "PyEDB INFO: Applying operations completed in 0.0000 seconds.\n"
     ]
    },
    {
     "name": "stderr",
     "output_type": "stream",
     "text": [
      "INFO:Edb:Applying operations completed in 0.0000 seconds.\n"
     ]
    },
    {
     "data": {
      "text/plain": [
       "<pyedb.configuration.cfg_data.CfgData at 0x22c1591f250>"
      ]
     },
     "execution_count": 8,
     "metadata": {},
     "output_type": "execute_result"
    }
   ],
   "source": [
    "edbapp.configuration.load(cfg_file_path, apply_file=True)"
   ]
  },
  {
   "cell_type": "markdown",
   "id": "4c07535c",
   "metadata": {},
   "source": [
    "Save and close Edb\n",
    "\n",
    "The temporary folder will be deleted once the execution of this script is finished. Replace **edbapp.save()** with\n",
    "**edbapp.save_as(\"C:/example.aedb\")** to keep the example project."
   ]
  },
  {
   "cell_type": "code",
   "execution_count": 9,
   "id": "22ac3b7c",
   "metadata": {
    "execution": {
     "iopub.execute_input": "2025-10-30T04:07:41.680946Z",
     "iopub.status.busy": "2025-10-30T04:07:41.680946Z",
     "iopub.status.idle": "2025-10-30T04:07:41.902700Z",
     "shell.execute_reply": "2025-10-30T04:07:41.902700Z"
    }
   },
   "outputs": [
    {
     "name": "stdout",
     "output_type": "stream",
     "text": [
      "PyEDB INFO: Save Edb file completed in 0.1107 seconds.\n"
     ]
    },
    {
     "name": "stderr",
     "output_type": "stream",
     "text": [
      "INFO:Edb:Save Edb file completed in 0.1107 seconds.\n"
     ]
    },
    {
     "name": "stdout",
     "output_type": "stream",
     "text": [
      "PyEDB INFO: Close Edb file completed in 0.0634 seconds.\n"
     ]
    },
    {
     "name": "stderr",
     "output_type": "stream",
     "text": [
      "INFO:Edb:Close Edb file completed in 0.0634 seconds.\n"
     ]
    },
    {
     "data": {
      "text/plain": [
       "True"
      ]
     },
     "execution_count": 9,
     "metadata": {},
     "output_type": "execute_result"
    }
   ],
   "source": [
    "edbapp.save()\n",
    "edbapp.close()"
   ]
  }
 ],
 "metadata": {
  "jupytext": {
   "cell_metadata_filter": "-all",
   "main_language": "python",
   "notebook_metadata_filter": "-all"
  },
  "language_info": {
   "codemirror_mode": {
    "name": "ipython",
    "version": 3
   },
   "file_extension": ".py",
   "mimetype": "text/x-python",
   "name": "python",
   "nbconvert_exporter": "python",
   "pygments_lexer": "ipython3",
   "version": "3.10.11"
  }
 },
 "nbformat": 4,
 "nbformat_minor": 5
}
