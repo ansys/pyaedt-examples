{
 "cells": [
  {
   "cell_type": "markdown",
   "id": "4fbd5d4c",
   "metadata": {},
   "source": [
    "# Set up EDB for PCB DC IR Analysis\n",
    "This example shows how to set up the electronics database (EDB) for DC IR analysis from a single\n",
    "configuration file."
   ]
  },
  {
   "cell_type": "markdown",
   "id": "f679b9f8",
   "metadata": {},
   "source": [
    "## Perform imports and define constants\n",
    "\n",
    "Perform required imports."
   ]
  },
  {
   "cell_type": "code",
   "execution_count": 1,
   "id": "92bc9622",
   "metadata": {
    "execution": {
     "iopub.execute_input": "2025-10-30T04:11:26.355737Z",
     "iopub.status.busy": "2025-10-30T04:11:26.355737Z",
     "iopub.status.idle": "2025-10-30T04:11:29.406413Z",
     "shell.execute_reply": "2025-10-30T04:11:29.406413Z"
    }
   },
   "outputs": [],
   "source": [
    "import json\n",
    "import os\n",
    "import tempfile\n",
    "\n",
    "from ansys.aedt.core import Hfss3dLayout, Icepak\n",
    "from ansys.aedt.core.examples.downloads import download_file\n",
    "from pyedb import Edb"
   ]
  },
  {
   "cell_type": "markdown",
   "id": "b80d7fba",
   "metadata": {},
   "source": [
    "Define constants."
   ]
  },
  {
   "cell_type": "code",
   "execution_count": 2,
   "id": "d8c1506b",
   "metadata": {
    "execution": {
     "iopub.execute_input": "2025-10-30T04:11:29.406413Z",
     "iopub.status.busy": "2025-10-30T04:11:29.406413Z",
     "iopub.status.idle": "2025-10-30T04:11:29.422167Z",
     "shell.execute_reply": "2025-10-30T04:11:29.422167Z"
    }
   },
   "outputs": [],
   "source": [
    "AEDT_VERSION = \"2025.2\"\n",
    "NG_MODE = False"
   ]
  },
  {
   "cell_type": "markdown",
   "id": "e97361bd",
   "metadata": {},
   "source": [
    "Download the example PCB data."
   ]
  },
  {
   "cell_type": "code",
   "execution_count": 3,
   "id": "41a99eaf",
   "metadata": {
    "execution": {
     "iopub.execute_input": "2025-10-30T04:11:29.422167Z",
     "iopub.status.busy": "2025-10-30T04:11:29.422167Z",
     "iopub.status.idle": "2025-10-30T04:11:30.224688Z",
     "shell.execute_reply": "2025-10-30T04:11:30.224688Z"
    }
   },
   "outputs": [],
   "source": [
    "temp_folder = tempfile.TemporaryDirectory(suffix=\".ansys\")\n",
    "file_edb = download_file(source=\"edb/ANSYS-HSD_V1.aedb\", local_path=temp_folder.name)"
   ]
  },
  {
   "cell_type": "markdown",
   "id": "1aea9d26",
   "metadata": {},
   "source": [
    "## Load example layout"
   ]
  },
  {
   "cell_type": "code",
   "execution_count": 4,
   "id": "ac783291",
   "metadata": {
    "execution": {
     "iopub.execute_input": "2025-10-30T04:11:30.224688Z",
     "iopub.status.busy": "2025-10-30T04:11:30.224688Z",
     "iopub.status.idle": "2025-10-30T04:11:42.700257Z",
     "shell.execute_reply": "2025-10-30T04:11:42.700257Z"
    }
   },
   "outputs": [
    {
     "name": "stderr",
     "output_type": "stream",
     "text": [
      "C:\\actions-runner\\_work\\pyaedt-examples\\pyaedt-examples\\.venv\\lib\\site-packages\\pyedb\\misc\\decorators.py:55: UserWarning: Argument `edbversion` is deprecated for method `Edb`; use `version` instead.\n",
      "  warnings.warn(\n",
      "C:\\actions-runner\\_work\\pyaedt-examples\\pyaedt-examples\\.venv\\lib\\site-packages\\pyedb\\generic\\design_types.py:301: UserWarning: Your ANSYS AEDT version is eligible to gRPC version.You might consider switching to that version for better user experience.For more information please check this link: https://edb.docs.pyansys.com/version/dev/grpc_api/index.html\n",
      "  warnings.warn(GRPC_GENERAL_WARNING, UserWarning)\n"
     ]
    },
    {
     "name": "stdout",
     "output_type": "stream",
     "text": [
      "PyEDB INFO: Star initializing Edb 04:11:33.506758\n"
     ]
    },
    {
     "name": "stderr",
     "output_type": "stream",
     "text": [
      "INFO:Edb:Star initializing Edb 04:11:33.506758\n"
     ]
    },
    {
     "name": "stdout",
     "output_type": "stream",
     "text": [
      "PyEDB INFO: Edb version 2025.2\n"
     ]
    },
    {
     "name": "stderr",
     "output_type": "stream",
     "text": [
      "INFO:Edb:Edb version 2025.2\n"
     ]
    },
    {
     "name": "stdout",
     "output_type": "stream",
     "text": [
      "PyEDB INFO: Logger is initialized. Log file is saved to C:\\Users\\ansys\\AppData\\Local\\Temp\\pyedb_ansys.log.\n"
     ]
    },
    {
     "name": "stderr",
     "output_type": "stream",
     "text": [
      "INFO:Edb:Logger is initialized. Log file is saved to C:\\Users\\ansys\\AppData\\Local\\Temp\\pyedb_ansys.log.\n"
     ]
    },
    {
     "name": "stdout",
     "output_type": "stream",
     "text": [
      "PyEDB INFO: legacy v0.61.0\n"
     ]
    },
    {
     "name": "stderr",
     "output_type": "stream",
     "text": [
      "INFO:Edb:legacy v0.61.0\n"
     ]
    },
    {
     "name": "stdout",
     "output_type": "stream",
     "text": [
      "PyEDB INFO: Python version 3.10.11 (tags/v3.10.11:7d4cc5a, Apr  5 2023, 00:38:17) [MSC v.1929 64 bit (AMD64)]\n"
     ]
    },
    {
     "name": "stderr",
     "output_type": "stream",
     "text": [
      "INFO:Edb:Python version 3.10.11 (tags/v3.10.11:7d4cc5a, Apr  5 2023, 00:38:17) [MSC v.1929 64 bit (AMD64)]\n"
     ]
    },
    {
     "name": "stdout",
     "output_type": "stream",
     "text": [
      "PyEDB INFO: Database ANSYS-HSD_V1.aedb Opened in 2025.2\n"
     ]
    },
    {
     "name": "stderr",
     "output_type": "stream",
     "text": [
      "INFO:Edb:Database ANSYS-HSD_V1.aedb Opened in 2025.2\n"
     ]
    },
    {
     "name": "stdout",
     "output_type": "stream",
     "text": [
      "PyEDB INFO: Cell main Opened\n"
     ]
    },
    {
     "name": "stderr",
     "output_type": "stream",
     "text": [
      "INFO:Edb:Cell main Opened\n"
     ]
    },
    {
     "name": "stdout",
     "output_type": "stream",
     "text": [
      "PyEDB INFO: Builder was initialized.\n"
     ]
    },
    {
     "name": "stderr",
     "output_type": "stream",
     "text": [
      "INFO:Edb:Builder was initialized.\n"
     ]
    },
    {
     "name": "stdout",
     "output_type": "stream",
     "text": [
      "PyEDB INFO: open_edb completed in 9.0978 seconds.\n"
     ]
    },
    {
     "name": "stderr",
     "output_type": "stream",
     "text": [
      "INFO:Edb:open_edb completed in 9.0978 seconds.\n"
     ]
    },
    {
     "name": "stdout",
     "output_type": "stream",
     "text": [
      "PyEDB INFO: EDB initialization completed in 9.1773 seconds.\n"
     ]
    },
    {
     "name": "stderr",
     "output_type": "stream",
     "text": [
      "INFO:Edb:EDB initialization completed in 9.1773 seconds.\n"
     ]
    }
   ],
   "source": [
    "edbapp = Edb(file_edb, edbversion=AEDT_VERSION)"
   ]
  },
  {
   "cell_type": "markdown",
   "id": "1033bb62",
   "metadata": {},
   "source": [
    "## Create an empty dictionary to host all configurations"
   ]
  },
  {
   "cell_type": "code",
   "execution_count": 5,
   "id": "a924bdff",
   "metadata": {
    "execution": {
     "iopub.execute_input": "2025-10-30T04:11:44.710585Z",
     "iopub.status.busy": "2025-10-30T04:11:44.710585Z",
     "iopub.status.idle": "2025-10-30T04:11:44.726662Z",
     "shell.execute_reply": "2025-10-30T04:11:44.726662Z"
    }
   },
   "outputs": [],
   "source": [
    "cfg = dict()\n",
    "cfg[\"sources\"] = []"
   ]
  },
  {
   "cell_type": "markdown",
   "id": "5c1eb206",
   "metadata": {},
   "source": [
    "## Update stackup"
   ]
  },
  {
   "cell_type": "code",
   "execution_count": 6,
   "id": "6a263786",
   "metadata": {
    "execution": {
     "iopub.execute_input": "2025-10-30T04:11:44.726662Z",
     "iopub.status.busy": "2025-10-30T04:11:44.726662Z",
     "iopub.status.idle": "2025-10-30T04:11:44.742359Z",
     "shell.execute_reply": "2025-10-30T04:11:44.742359Z"
    }
   },
   "outputs": [],
   "source": [
    "cfg[\"stackup\"] = {\n",
    "    \"layers\": [\n",
    "        {\"name\": \"Top\", \"type\": \"signal\", \"material\": \"copper\", \"fill_material\": \"FR4_epoxy\", \"thickness\": \"0.035mm\"},\n",
    "        {\"name\": \"DE1\", \"type\": \"dielectric\", \"material\": \"FR4_epoxy\", \"fill_material\": \"\", \"thickness\": \"0.1mm\"},\n",
    "        {\n",
    "            \"name\": \"Inner1\",\n",
    "            \"type\": \"signal\",\n",
    "            \"material\": \"copper\",\n",
    "            \"fill_material\": \"FR4_epoxy\",\n",
    "            \"thickness\": \"0.017mm\",\n",
    "        },\n",
    "        {\"name\": \"DE2\", \"type\": \"dielectric\", \"material\": \"FR4_epoxy\", \"fill_material\": \"\", \"thickness\": \"0.088mm\"},\n",
    "        {\n",
    "            \"name\": \"Inner2\",\n",
    "            \"type\": \"signal\",\n",
    "            \"material\": \"copper\",\n",
    "            \"fill_material\": \"FR4_epoxy\",\n",
    "            \"thickness\": \"0.017mm\",\n",
    "        },\n",
    "        {\"name\": \"DE3\", \"type\": \"dielectric\", \"material\": \"FR4_epoxy\", \"fill_material\": \"\", \"thickness\": \"0.1mm\"},\n",
    "        {\n",
    "            \"name\": \"Inner3\",\n",
    "            \"type\": \"signal\",\n",
    "            \"material\": \"copper\",\n",
    "            \"fill_material\": \"FR4_epoxy\",\n",
    "            \"thickness\": \"0.017mm\",\n",
    "        },\n",
    "        {\n",
    "            \"name\": \"FR4_epoxy-1mm\",\n",
    "            \"type\": \"dielectric\",\n",
    "            \"material\": \"FR4_epoxy\",\n",
    "            \"fill_material\": \"\",\n",
    "            \"thickness\": \"1mm\",\n",
    "        },\n",
    "        {\n",
    "            \"name\": \"Inner4\",\n",
    "            \"type\": \"signal\",\n",
    "            \"material\": \"copper\",\n",
    "            \"fill_material\": \"FR4_epoxy\",\n",
    "            \"thickness\": \"0.017mm\",\n",
    "        },\n",
    "        {\"name\": \"DE5\", \"type\": \"dielectric\", \"material\": \"FR4_epoxy\", \"fill_material\": \"\", \"thickness\": \"0.1mm\"},\n",
    "        {\n",
    "            \"name\": \"Inner5\",\n",
    "            \"type\": \"signal\",\n",
    "            \"material\": \"copper\",\n",
    "            \"fill_material\": \"FR4_epoxy\",\n",
    "            \"thickness\": \"0.017mm\",\n",
    "        },\n",
    "        {\"name\": \"DE6\", \"type\": \"dielectric\", \"material\": \"FR4_epoxy\", \"fill_material\": \"\", \"thickness\": \"0.088mm\"},\n",
    "        {\n",
    "            \"name\": \"Inner6\",\n",
    "            \"type\": \"signal\",\n",
    "            \"material\": \"copper\",\n",
    "            \"fill_material\": \"FR4_epoxy\",\n",
    "            \"thickness\": \"0.017mm\",\n",
    "        },\n",
    "        {\"name\": \"DE7\", \"type\": \"dielectric\", \"material\": \"FR4_epoxy\", \"fill_material\": \"\", \"thickness\": \"0.1mm\"},\n",
    "        {\n",
    "            \"name\": \"Bottom\",\n",
    "            \"type\": \"signal\",\n",
    "            \"material\": \"copper\",\n",
    "            \"fill_material\": \"FR4_epoxy\",\n",
    "            \"thickness\": \"0.035mm\",\n",
    "        },\n",
    "    ]\n",
    "}"
   ]
  },
  {
   "cell_type": "markdown",
   "id": "e43d70d0",
   "metadata": {},
   "source": [
    "## Define voltage source"
   ]
  },
  {
   "cell_type": "code",
   "execution_count": 7,
   "id": "98d97183",
   "metadata": {
    "execution": {
     "iopub.execute_input": "2025-10-30T04:11:44.742359Z",
     "iopub.status.busy": "2025-10-30T04:11:44.742359Z",
     "iopub.status.idle": "2025-10-30T04:11:44.758176Z",
     "shell.execute_reply": "2025-10-30T04:11:44.758176Z"
    }
   },
   "outputs": [],
   "source": [
    "cfg[\"sources\"].append(\n",
    "    {\n",
    "        \"name\": \"vrm\",\n",
    "        \"reference_designator\": \"U2\",\n",
    "        \"type\": \"voltage\",\n",
    "        \"magnitude\": 1,\n",
    "        \"positive_terminal\": {\"net\": \"1V0\"},\n",
    "        \"negative_terminal\": {\"net\": \"GND\"},\n",
    "    }\n",
    ")"
   ]
  },
  {
   "cell_type": "markdown",
   "id": "1f25cea4",
   "metadata": {},
   "source": [
    "## Define current source"
   ]
  },
  {
   "cell_type": "code",
   "execution_count": 8,
   "id": "0aff8fbb",
   "metadata": {
    "execution": {
     "iopub.execute_input": "2025-10-30T04:11:44.758176Z",
     "iopub.status.busy": "2025-10-30T04:11:44.758176Z",
     "iopub.status.idle": "2025-10-30T04:11:44.774012Z",
     "shell.execute_reply": "2025-10-30T04:11:44.774012Z"
    }
   },
   "outputs": [],
   "source": [
    "cfg[\"sources\"].append(\n",
    "    {\n",
    "        \"name\": \"U1_1V0\",\n",
    "        \"reference_designator\": \"U1\",\n",
    "        \"type\": \"current\",\n",
    "        \"magnitude\": 10,\n",
    "        \"positive_terminal\": {\"net\": \"1V0\"},\n",
    "        \"negative_terminal\": {\"net\": \"GND\"},\n",
    "    }\n",
    ")"
   ]
  },
  {
   "cell_type": "markdown",
   "id": "9a7f16fa",
   "metadata": {},
   "source": [
    "## Define SIwave DC IR analysis setup"
   ]
  },
  {
   "cell_type": "code",
   "execution_count": 9,
   "id": "8e39c813",
   "metadata": {
    "execution": {
     "iopub.execute_input": "2025-10-30T04:11:44.774012Z",
     "iopub.status.busy": "2025-10-30T04:11:44.774012Z",
     "iopub.status.idle": "2025-10-30T04:11:44.789953Z",
     "shell.execute_reply": "2025-10-30T04:11:44.789953Z"
    }
   },
   "outputs": [],
   "source": [
    "cfg[\"setups\"] = [\n",
    "    {\n",
    "        \"name\": \"siwave_1\",\n",
    "        \"type\": \"siwave_dc\",\n",
    "        \"dc_slider_position\": 1,\n",
    "        \"dc_ir_settings\": {\"export_dc_thermal_data\": True},\n",
    "    }\n",
    "]"
   ]
  },
  {
   "cell_type": "markdown",
   "id": "a444ed9c",
   "metadata": {},
   "source": [
    "## Define Cutout"
   ]
  },
  {
   "cell_type": "code",
   "execution_count": 10,
   "id": "8784fa31",
   "metadata": {
    "execution": {
     "iopub.execute_input": "2025-10-30T04:11:44.789953Z",
     "iopub.status.busy": "2025-10-30T04:11:44.789953Z",
     "iopub.status.idle": "2025-10-30T04:11:44.805954Z",
     "shell.execute_reply": "2025-10-30T04:11:44.805954Z"
    }
   },
   "outputs": [],
   "source": [
    "cfg[\"operations\"] = {\n",
    "    \"cutout\": {\"signal_list\": [\"1V0\"], \"reference_list\": [\"GND\"], \"extent_type\": \"ConvexHull\", \"expansion_size\": 0.02}\n",
    "}"
   ]
  },
  {
   "cell_type": "markdown",
   "id": "5a131432",
   "metadata": {},
   "source": [
    "## Define package for thermal analysis (optional)"
   ]
  },
  {
   "cell_type": "code",
   "execution_count": 11,
   "id": "4b18912a",
   "metadata": {
    "execution": {
     "iopub.execute_input": "2025-10-30T04:11:44.805954Z",
     "iopub.status.busy": "2025-10-30T04:11:44.805954Z",
     "iopub.status.idle": "2025-10-30T04:11:44.821751Z",
     "shell.execute_reply": "2025-10-30T04:11:44.821751Z"
    }
   },
   "outputs": [],
   "source": [
    "cfg[\"package_definitions\"] = [\n",
    "    {\n",
    "        \"name\": \"package_1\",\n",
    "        \"component_definition\": \"ALTR-FBGA1517-Ansys\",\n",
    "        \"maximum_power\": 0.5,\n",
    "        \"therm_cond\": 2,\n",
    "        \"theta_jb\": 3,\n",
    "        \"theta_jc\": 4,\n",
    "        \"height\": \"1mm\",\n",
    "        \"apply_to_all\": False,\n",
    "        \"components\": [\"U1\"],\n",
    "    },\n",
    "]"
   ]
  },
  {
   "cell_type": "markdown",
   "id": "a0093dd1",
   "metadata": {},
   "source": [
    "## Write configuration into a JSON file"
   ]
  },
  {
   "cell_type": "code",
   "execution_count": 12,
   "id": "65fce8af",
   "metadata": {
    "execution": {
     "iopub.execute_input": "2025-10-30T04:11:44.821751Z",
     "iopub.status.busy": "2025-10-30T04:11:44.821751Z",
     "iopub.status.idle": "2025-10-30T04:11:44.837867Z",
     "shell.execute_reply": "2025-10-30T04:11:44.837867Z"
    }
   },
   "outputs": [],
   "source": [
    "file_json = os.path.join(temp_folder.name, \"edb_configuration.json\")\n",
    "with open(file_json, \"w\") as f:\n",
    "    json.dump(cfg, f, indent=4, ensure_ascii=False)"
   ]
  },
  {
   "cell_type": "markdown",
   "id": "8acb37e7",
   "metadata": {},
   "source": [
    "## Import configuration into example layout"
   ]
  },
  {
   "cell_type": "code",
   "execution_count": 13,
   "id": "c48f596c",
   "metadata": {
    "execution": {
     "iopub.execute_input": "2025-10-30T04:11:44.837867Z",
     "iopub.status.busy": "2025-10-30T04:11:44.837867Z",
     "iopub.status.idle": "2025-10-30T04:11:44.886075Z",
     "shell.execute_reply": "2025-10-30T04:11:44.886075Z"
    }
   },
   "outputs": [
    {
     "data": {
      "text/plain": [
       "<pyedb.configuration.cfg_data.CfgData at 0x2186a74ef80>"
      ]
     },
     "execution_count": 13,
     "metadata": {},
     "output_type": "execute_result"
    }
   ],
   "source": [
    "edbapp.configuration.load(config_file=file_json)"
   ]
  },
  {
   "cell_type": "markdown",
   "id": "675c540d",
   "metadata": {},
   "source": [
    "Apply configuration to EDB."
   ]
  },
  {
   "cell_type": "code",
   "execution_count": 14,
   "id": "0f2fe395",
   "metadata": {
    "execution": {
     "iopub.execute_input": "2025-10-30T04:11:44.886075Z",
     "iopub.status.busy": "2025-10-30T04:11:44.886075Z",
     "iopub.status.idle": "2025-10-30T04:12:00.772152Z",
     "shell.execute_reply": "2025-10-30T04:12:00.772152Z"
    }
   },
   "outputs": [
    {
     "name": "stdout",
     "output_type": "stream",
     "text": [
      "PyEDB INFO: Updating boundaries finished. Time lapse 0:00:00.015907\n"
     ]
    },
    {
     "name": "stderr",
     "output_type": "stream",
     "text": [
      "INFO:Edb:Updating boundaries finished. Time lapse 0:00:00.015907\n"
     ]
    },
    {
     "name": "stdout",
     "output_type": "stream",
     "text": [
      "PyEDB INFO: Updating nets finished. Time lapse 0:00:00\n"
     ]
    },
    {
     "name": "stderr",
     "output_type": "stream",
     "text": [
      "INFO:Edb:Updating nets finished. Time lapse 0:00:00\n"
     ]
    },
    {
     "name": "stdout",
     "output_type": "stream",
     "text": [
      "PyEDB INFO: Updating components finished. Time lapse 0:00:00\n"
     ]
    },
    {
     "name": "stderr",
     "output_type": "stream",
     "text": [
      "INFO:Edb:Updating components finished. Time lapse 0:00:00\n"
     ]
    },
    {
     "name": "stdout",
     "output_type": "stream",
     "text": [
      "PyEDB INFO: Creating pin groups finished. Time lapse 0:00:00\n"
     ]
    },
    {
     "name": "stderr",
     "output_type": "stream",
     "text": [
      "INFO:Edb:Creating pin groups finished. Time lapse 0:00:00\n"
     ]
    },
    {
     "name": "stdout",
     "output_type": "stream",
     "text": [
      "PyEDB INFO: Placing sources finished. Time lapse 0:00:00.728678\n"
     ]
    },
    {
     "name": "stderr",
     "output_type": "stream",
     "text": [
      "INFO:Edb:Placing sources finished. Time lapse 0:00:00.728678\n"
     ]
    },
    {
     "name": "stdout",
     "output_type": "stream",
     "text": [
      "PyEDB INFO: Applying materials finished. Time lapse 0:00:00\n"
     ]
    },
    {
     "name": "stderr",
     "output_type": "stream",
     "text": [
      "INFO:Edb:Applying materials finished. Time lapse 0:00:00\n"
     ]
    },
    {
     "name": "stdout",
     "output_type": "stream",
     "text": [
      "PyEDB INFO: Updating stackup finished. Time lapse 0:00:08.193208\n"
     ]
    },
    {
     "name": "stderr",
     "output_type": "stream",
     "text": [
      "INFO:Edb:Updating stackup finished. Time lapse 0:00:08.193208\n"
     ]
    },
    {
     "name": "stdout",
     "output_type": "stream",
     "text": [
      "PyEDB INFO: Applying padstacks finished. Time lapse 0:00:00\n"
     ]
    },
    {
     "name": "stderr",
     "output_type": "stream",
     "text": [
      "INFO:Edb:Applying padstacks finished. Time lapse 0:00:00\n"
     ]
    },
    {
     "name": "stdout",
     "output_type": "stream",
     "text": [
      "PyEDB INFO: Applying S-parameters finished. Time lapse 0:00:00\n"
     ]
    },
    {
     "name": "stderr",
     "output_type": "stream",
     "text": [
      "INFO:Edb:Applying S-parameters finished. Time lapse 0:00:00\n"
     ]
    },
    {
     "name": "stdout",
     "output_type": "stream",
     "text": [
      "PyEDB INFO: Applying package definitions finished. Time lapse 0:00:00.862145\n"
     ]
    },
    {
     "name": "stderr",
     "output_type": "stream",
     "text": [
      "INFO:Edb:Applying package definitions finished. Time lapse 0:00:00.862145\n"
     ]
    },
    {
     "name": "stdout",
     "output_type": "stream",
     "text": [
      "PyEDB INFO: Applying modeler finished. Time lapse 0:00:00\n"
     ]
    },
    {
     "name": "stderr",
     "output_type": "stream",
     "text": [
      "INFO:Edb:Applying modeler finished. Time lapse 0:00:00\n"
     ]
    },
    {
     "name": "stdout",
     "output_type": "stream",
     "text": [
      "PyEDB INFO: Placing ports finished. Time lapse 0:00:00\n"
     ]
    },
    {
     "name": "stderr",
     "output_type": "stream",
     "text": [
      "INFO:Edb:Placing ports finished. Time lapse 0:00:00\n"
     ]
    },
    {
     "name": "stdout",
     "output_type": "stream",
     "text": [
      "PyEDB INFO: Placing terminals completed in 0.0000 seconds.\n"
     ]
    },
    {
     "name": "stderr",
     "output_type": "stream",
     "text": [
      "INFO:Edb:Placing terminals completed in 0.0000 seconds.\n"
     ]
    },
    {
     "name": "stdout",
     "output_type": "stream",
     "text": [
      "PyEDB INFO: Placing probes finished. Time lapse 0:00:00\n"
     ]
    },
    {
     "name": "stderr",
     "output_type": "stream",
     "text": [
      "INFO:Edb:Placing probes finished. Time lapse 0:00:00\n"
     ]
    },
    {
     "name": "stdout",
     "output_type": "stream",
     "text": [
      "PyEDB INFO: -----------------------------------------\n"
     ]
    },
    {
     "name": "stderr",
     "output_type": "stream",
     "text": [
      "C:\\actions-runner\\_work\\pyaedt-examples\\pyaedt-examples\\.venv\\lib\\site-packages\\pyedb\\misc\\decorators.py:55: UserWarning: Argument `signal_list` is deprecated for method `cutout`; use `signal_nets` instead.\n",
      "  warnings.warn(\n",
      "C:\\actions-runner\\_work\\pyaedt-examples\\pyaedt-examples\\.venv\\lib\\site-packages\\pyedb\\misc\\decorators.py:55: UserWarning: Argument `reference_list` is deprecated for method `cutout`; use `reference_nets` instead.\n",
      "  warnings.warn(\n",
      "INFO:Edb:-----------------------------------------\n"
     ]
    },
    {
     "name": "stdout",
     "output_type": "stream",
     "text": [
      "PyEDB INFO: Trying cutout with (0.02)*(1000.0)mm expansion size\n"
     ]
    },
    {
     "name": "stderr",
     "output_type": "stream",
     "text": [
      "INFO:Edb:Trying cutout with (0.02)*(1000.0)mm expansion size\n"
     ]
    },
    {
     "name": "stdout",
     "output_type": "stream",
     "text": [
      "PyEDB INFO: -----------------------------------------\n"
     ]
    },
    {
     "name": "stderr",
     "output_type": "stream",
     "text": [
      "INFO:Edb:-----------------------------------------\n"
     ]
    },
    {
     "name": "stdout",
     "output_type": "stream",
     "text": [
      "PyEDB INFO: Cutout Multithread started.\n"
     ]
    },
    {
     "name": "stderr",
     "output_type": "stream",
     "text": [
      "INFO:Edb:Cutout Multithread started.\n"
     ]
    },
    {
     "name": "stdout",
     "output_type": "stream",
     "text": [
      "PyEDB INFO: Net clean up Elapsed time: 0m 1sec\n"
     ]
    },
    {
     "name": "stderr",
     "output_type": "stream",
     "text": [
      "INFO:Edb:Net clean up Elapsed time: 0m 1sec\n"
     ]
    },
    {
     "name": "stdout",
     "output_type": "stream",
     "text": [
      "PyEDB INFO: Extent Creation Elapsed time: 0m 0sec\n"
     ]
    },
    {
     "name": "stderr",
     "output_type": "stream",
     "text": [
      "INFO:Edb:Extent Creation Elapsed time: 0m 0sec\n"
     ]
    },
    {
     "name": "stdout",
     "output_type": "stream",
     "text": [
      "PyEDB INFO: 532 Padstack Instances deleted. Elapsed time: 0m 1sec\n"
     ]
    },
    {
     "name": "stderr",
     "output_type": "stream",
     "text": [
      "INFO:Edb:532 Padstack Instances deleted. Elapsed time: 0m 1sec\n"
     ]
    },
    {
     "name": "stdout",
     "output_type": "stream",
     "text": [
      "PyEDB INFO: 105 Primitives deleted. Elapsed time: 0m 4sec\n"
     ]
    },
    {
     "name": "stderr",
     "output_type": "stream",
     "text": [
      "INFO:Edb:105 Primitives deleted. Elapsed time: 0m 4sec\n"
     ]
    },
    {
     "name": "stdout",
     "output_type": "stream",
     "text": [
      "PyEDB INFO: 470 components deleted\n"
     ]
    },
    {
     "name": "stderr",
     "output_type": "stream",
     "text": [
      "INFO:Edb:470 components deleted\n"
     ]
    },
    {
     "name": "stdout",
     "output_type": "stream",
     "text": [
      "PyEDB INFO: Cutout completed. Elapsed time: 0m 6sec\n"
     ]
    },
    {
     "name": "stderr",
     "output_type": "stream",
     "text": [
      "INFO:Edb:Cutout completed. Elapsed time: 0m 6sec\n"
     ]
    },
    {
     "name": "stdout",
     "output_type": "stream",
     "text": [
      "PyEDB INFO: EDB file save completed in 0.0953 seconds.\n"
     ]
    },
    {
     "name": "stderr",
     "output_type": "stream",
     "text": [
      "INFO:Edb:EDB file save completed in 0.0953 seconds.\n"
     ]
    },
    {
     "name": "stdout",
     "output_type": "stream",
     "text": [
      "PyEDB INFO: Cutout completed in 1 iterations with expansion size of (0.02)*(1000.0)mm Elapsed time: 0m 6sec\n"
     ]
    },
    {
     "name": "stderr",
     "output_type": "stream",
     "text": [
      "INFO:Edb:Cutout completed in 1 iterations with expansion size of (0.02)*(1000.0)mm Elapsed time: 0m 6sec\n"
     ]
    },
    {
     "name": "stdout",
     "output_type": "stream",
     "text": [
      "PyEDB INFO: Applying operations completed in 5.9812 seconds.\n"
     ]
    },
    {
     "name": "stderr",
     "output_type": "stream",
     "text": [
      "INFO:Edb:Applying operations completed in 5.9812 seconds.\n"
     ]
    },
    {
     "data": {
      "text/plain": [
       "True"
      ]
     },
     "execution_count": 14,
     "metadata": {},
     "output_type": "execute_result"
    }
   ],
   "source": [
    "edbapp.configuration.run()"
   ]
  },
  {
   "cell_type": "markdown",
   "id": "d77c9e3c",
   "metadata": {},
   "source": [
    "Save and close EDB."
   ]
  },
  {
   "cell_type": "code",
   "execution_count": 15,
   "id": "6271fa81",
   "metadata": {
    "execution": {
     "iopub.execute_input": "2025-10-30T04:12:01.787104Z",
     "iopub.status.busy": "2025-10-30T04:12:01.787104Z",
     "iopub.status.idle": "2025-10-30T04:12:02.023539Z",
     "shell.execute_reply": "2025-10-30T04:12:02.023539Z"
    }
   },
   "outputs": [
    {
     "name": "stdout",
     "output_type": "stream",
     "text": [
      "PyEDB INFO: Save Edb file completed in 0.0727 seconds.\n"
     ]
    },
    {
     "name": "stderr",
     "output_type": "stream",
     "text": [
      "INFO:Edb:Save Edb file completed in 0.0727 seconds.\n"
     ]
    },
    {
     "name": "stdout",
     "output_type": "stream",
     "text": [
      "PyEDB INFO: Close Edb file completed in 0.1479 seconds.\n"
     ]
    },
    {
     "name": "stderr",
     "output_type": "stream",
     "text": [
      "INFO:Edb:Close Edb file completed in 0.1479 seconds.\n"
     ]
    },
    {
     "data": {
      "text/plain": [
       "True"
      ]
     },
     "execution_count": 15,
     "metadata": {},
     "output_type": "execute_result"
    }
   ],
   "source": [
    "edbapp.save()\n",
    "edbapp.close()"
   ]
  },
  {
   "cell_type": "markdown",
   "id": "ff90bca7",
   "metadata": {},
   "source": [
    "The configured EDB file is saved in a temp folder."
   ]
  },
  {
   "cell_type": "code",
   "execution_count": 16,
   "id": "ccd4568b",
   "metadata": {
    "execution": {
     "iopub.execute_input": "2025-10-30T04:12:02.027553Z",
     "iopub.status.busy": "2025-10-30T04:12:02.027553Z",
     "iopub.status.idle": "2025-10-30T04:12:02.039566Z",
     "shell.execute_reply": "2025-10-30T04:12:02.039566Z"
    }
   },
   "outputs": [
    {
     "name": "stdout",
     "output_type": "stream",
     "text": [
      "C:\\Users\\ansys\\AppData\\Local\\Temp\\tmp5jea7231.ansys\n"
     ]
    }
   ],
   "source": [
    "print(temp_folder.name)"
   ]
  },
  {
   "cell_type": "markdown",
   "id": "2adb88e7",
   "metadata": {},
   "source": [
    "## Load edb into HFSS 3D Layout."
   ]
  },
  {
   "cell_type": "code",
   "execution_count": 17,
   "id": "aba96c4d",
   "metadata": {
    "execution": {
     "iopub.execute_input": "2025-10-30T04:12:02.043272Z",
     "iopub.status.busy": "2025-10-30T04:12:02.043272Z",
     "iopub.status.idle": "2025-10-30T04:12:26.407698Z",
     "shell.execute_reply": "2025-10-30T04:12:26.407698Z"
    }
   },
   "outputs": [
    {
     "name": "stdout",
     "output_type": "stream",
     "text": [
      "PyAEDT INFO: Python version 3.10.11 (tags/v3.10.11:7d4cc5a, Apr  5 2023, 00:38:17) [MSC v.1929 64 bit (AMD64)].\n"
     ]
    },
    {
     "name": "stderr",
     "output_type": "stream",
     "text": [
      "INFO:Global:Python version 3.10.11 (tags/v3.10.11:7d4cc5a, Apr  5 2023, 00:38:17) [MSC v.1929 64 bit (AMD64)].\n"
     ]
    },
    {
     "name": "stdout",
     "output_type": "stream",
     "text": [
      "PyAEDT INFO: PyAEDT version 0.22.dev0.\n"
     ]
    },
    {
     "name": "stderr",
     "output_type": "stream",
     "text": [
      "INFO:Global:PyAEDT version 0.22.dev0.\n"
     ]
    },
    {
     "name": "stdout",
     "output_type": "stream",
     "text": [
      "PyAEDT INFO: Initializing new Desktop session.\n"
     ]
    },
    {
     "name": "stderr",
     "output_type": "stream",
     "text": [
      "INFO:Global:Initializing new Desktop session.\n"
     ]
    },
    {
     "name": "stdout",
     "output_type": "stream",
     "text": [
      "PyAEDT INFO: Log on console is enabled.\n"
     ]
    },
    {
     "name": "stderr",
     "output_type": "stream",
     "text": [
      "INFO:Global:Log on console is enabled.\n"
     ]
    },
    {
     "name": "stdout",
     "output_type": "stream",
     "text": [
      "PyAEDT INFO: Log on file C:\\Users\\ansys\\AppData\\Local\\Temp\\pyaedt_ansys_d163252f-13a4-4c96-ac31-63bf09d54570.log is enabled.\n"
     ]
    },
    {
     "name": "stderr",
     "output_type": "stream",
     "text": [
      "INFO:Global:Log on file C:\\Users\\ansys\\AppData\\Local\\Temp\\pyaedt_ansys_d163252f-13a4-4c96-ac31-63bf09d54570.log is enabled.\n"
     ]
    },
    {
     "name": "stdout",
     "output_type": "stream",
     "text": [
      "PyAEDT INFO: Log on AEDT is disabled.\n"
     ]
    },
    {
     "name": "stderr",
     "output_type": "stream",
     "text": [
      "INFO:Global:Log on AEDT is disabled.\n"
     ]
    },
    {
     "name": "stdout",
     "output_type": "stream",
     "text": [
      "PyAEDT INFO: Debug logger is disabled. PyAEDT methods will not be logged.\n"
     ]
    },
    {
     "name": "stderr",
     "output_type": "stream",
     "text": [
      "INFO:Global:Debug logger is disabled. PyAEDT methods will not be logged.\n"
     ]
    },
    {
     "name": "stdout",
     "output_type": "stream",
     "text": [
      "PyAEDT INFO: Launching PyAEDT with gRPC plugin.\n"
     ]
    },
    {
     "name": "stderr",
     "output_type": "stream",
     "text": [
      "INFO:Global:Launching PyAEDT with gRPC plugin.\n"
     ]
    },
    {
     "name": "stdout",
     "output_type": "stream",
     "text": [
      "PyAEDT INFO: New AEDT session is starting on gRPC port 64798.\n"
     ]
    },
    {
     "name": "stderr",
     "output_type": "stream",
     "text": [
      "INFO:Global:New AEDT session is starting on gRPC port 64798.\n"
     ]
    },
    {
     "name": "stdout",
     "output_type": "stream",
     "text": [
      "PyAEDT INFO: Electronics Desktop started on gRPC port: 64798 after 10.54375410079956 seconds.\n"
     ]
    },
    {
     "name": "stderr",
     "output_type": "stream",
     "text": [
      "INFO:Global:Electronics Desktop started on gRPC port: 64798 after 10.54375410079956 seconds.\n"
     ]
    },
    {
     "name": "stdout",
     "output_type": "stream",
     "text": [
      "PyAEDT INFO: AEDT installation Path C:\\Program Files\\ANSYS Inc\\v252\\AnsysEM\n"
     ]
    },
    {
     "name": "stderr",
     "output_type": "stream",
     "text": [
      "INFO:Global:AEDT installation Path C:\\Program Files\\ANSYS Inc\\v252\\AnsysEM\n"
     ]
    },
    {
     "name": "stdout",
     "output_type": "stream",
     "text": [
      "PyAEDT INFO: Ansoft.ElectronicsDesktop.2025.2 version started with process ID 7108.\n"
     ]
    },
    {
     "name": "stderr",
     "output_type": "stream",
     "text": [
      "INFO:Global:Ansoft.ElectronicsDesktop.2025.2 version started with process ID 7108.\n"
     ]
    },
    {
     "name": "stdout",
     "output_type": "stream",
     "text": [
      "PyAEDT INFO: EDB folder C:\\Users\\ansys\\AppData\\Local\\Temp\\tmp5jea7231.ansys\\edb\\ANSYS-HSD_V1.aedb has been imported to project ANSYS-HSD_V1\n"
     ]
    },
    {
     "name": "stderr",
     "output_type": "stream",
     "text": [
      "INFO:Global:EDB folder C:\\Users\\ansys\\AppData\\Local\\Temp\\tmp5jea7231.ansys\\edb\\ANSYS-HSD_V1.aedb has been imported to project ANSYS-HSD_V1\n"
     ]
    },
    {
     "name": "stdout",
     "output_type": "stream",
     "text": [
      "PyAEDT INFO: Active Design set to 0;main\n"
     ]
    },
    {
     "name": "stderr",
     "output_type": "stream",
     "text": [
      "INFO:Global:Active Design set to 0;main\n"
     ]
    },
    {
     "name": "stdout",
     "output_type": "stream",
     "text": [
      "PyAEDT INFO: Active Design set to 0;main\n"
     ]
    },
    {
     "name": "stderr",
     "output_type": "stream",
     "text": [
      "INFO:Global:Active Design set to 0;main\n"
     ]
    },
    {
     "name": "stdout",
     "output_type": "stream",
     "text": [
      "PyAEDT INFO: Aedt Objects correctly read\n"
     ]
    },
    {
     "name": "stderr",
     "output_type": "stream",
     "text": [
      "INFO:Global:Aedt Objects correctly read\n"
     ]
    }
   ],
   "source": [
    "h3d = Hfss3dLayout(edbapp.edbpath, version=AEDT_VERSION, non_graphical=NG_MODE, new_desktop=True)"
   ]
  },
  {
   "cell_type": "markdown",
   "id": "9c9490bb",
   "metadata": {},
   "source": [
    "## Prepare for electro-thermal analysis in Icepak (Optional)"
   ]
  },
  {
   "cell_type": "code",
   "execution_count": 18,
   "id": "b94591ab",
   "metadata": {
    "execution": {
     "iopub.execute_input": "2025-10-30T04:12:27.407801Z",
     "iopub.status.busy": "2025-10-30T04:12:27.407801Z",
     "iopub.status.idle": "2025-10-30T04:12:27.455611Z",
     "shell.execute_reply": "2025-10-30T04:12:27.455611Z"
    }
   },
   "outputs": [
    {
     "name": "stdout",
     "output_type": "stream",
     "text": [
      "PyAEDT INFO: Loading Modeler.\n"
     ]
    },
    {
     "name": "stderr",
     "output_type": "stream",
     "text": [
      "INFO:Global:Loading Modeler.\n"
     ]
    },
    {
     "name": "stdout",
     "output_type": "stream",
     "text": [
      "PyAEDT INFO: Modeler loaded.\n"
     ]
    },
    {
     "name": "stderr",
     "output_type": "stream",
     "text": [
      "INFO:Global:Modeler loaded.\n"
     ]
    },
    {
     "name": "stdout",
     "output_type": "stream",
     "text": [
      "PyAEDT INFO: EDB loaded.\n"
     ]
    },
    {
     "name": "stderr",
     "output_type": "stream",
     "text": [
      "INFO:Global:EDB loaded.\n"
     ]
    },
    {
     "name": "stdout",
     "output_type": "stream",
     "text": [
      "PyAEDT INFO: Layers loaded.\n"
     ]
    },
    {
     "name": "stderr",
     "output_type": "stream",
     "text": [
      "INFO:Global:Layers loaded.\n"
     ]
    },
    {
     "name": "stdout",
     "output_type": "stream",
     "text": [
      "PyAEDT INFO: Primitives loaded.\n"
     ]
    },
    {
     "name": "stderr",
     "output_type": "stream",
     "text": [
      "INFO:Global:Primitives loaded.\n"
     ]
    },
    {
     "name": "stdout",
     "output_type": "stream",
     "text": [
      "PyAEDT INFO: Modeler class has been initialized! Elapsed time: 0m 0sec\n"
     ]
    },
    {
     "name": "stderr",
     "output_type": "stream",
     "text": [
      "INFO:Global:Modeler class has been initialized! Elapsed time: 0m 0sec\n"
     ]
    },
    {
     "name": "stdout",
     "output_type": "stream",
     "text": [
      "PyAEDT INFO: Set the temperature dependence for the design.\n"
     ]
    },
    {
     "name": "stderr",
     "output_type": "stream",
     "text": [
      "INFO:Global:Set the temperature dependence for the design.\n"
     ]
    },
    {
     "name": "stdout",
     "output_type": "stream",
     "text": [
      "PyAEDT INFO: Assigned Objects Temperature\n"
     ]
    },
    {
     "name": "stderr",
     "output_type": "stream",
     "text": [
      "INFO:Global:Assigned Objects Temperature\n"
     ]
    },
    {
     "data": {
      "text/plain": [
       "True"
      ]
     },
     "execution_count": 18,
     "metadata": {},
     "output_type": "execute_result"
    }
   ],
   "source": [
    "h3d.modeler.set_temperature_dependence(include_temperature_dependence=True, enable_feedback=True, ambient_temp=22)"
   ]
  },
  {
   "cell_type": "markdown",
   "id": "b069aae0",
   "metadata": {},
   "source": [
    "## Analyze"
   ]
  },
  {
   "cell_type": "code",
   "execution_count": 19,
   "id": "5fe0875a",
   "metadata": {
    "execution": {
     "iopub.execute_input": "2025-10-30T04:12:27.455611Z",
     "iopub.status.busy": "2025-10-30T04:12:27.455611Z",
     "iopub.status.idle": "2025-10-30T04:13:14.618079Z",
     "shell.execute_reply": "2025-10-30T04:13:14.618079Z"
    }
   },
   "outputs": [
    {
     "name": "stdout",
     "output_type": "stream",
     "text": [
      "PyAEDT INFO: Project ANSYS-HSD_V1 Saved correctly\n"
     ]
    },
    {
     "name": "stderr",
     "output_type": "stream",
     "text": [
      "INFO:Global:Project ANSYS-HSD_V1 Saved correctly\n"
     ]
    },
    {
     "name": "stdout",
     "output_type": "stream",
     "text": [
      "PyAEDT INFO: Solving all design setups. Analysis started...\n"
     ]
    },
    {
     "name": "stderr",
     "output_type": "stream",
     "text": [
      "INFO:Global:Solving all design setups. Analysis started...\n"
     ]
    },
    {
     "name": "stdout",
     "output_type": "stream",
     "text": [
      "PyAEDT INFO: Design setup None solved correctly in 0.0h 0.0m 47.0s\n"
     ]
    },
    {
     "name": "stderr",
     "output_type": "stream",
     "text": [
      "INFO:Global:Design setup None solved correctly in 0.0h 0.0m 47.0s\n"
     ]
    },
    {
     "data": {
      "text/plain": [
       "True"
      ]
     },
     "execution_count": 19,
     "metadata": {},
     "output_type": "execute_result"
    }
   ],
   "source": [
    "h3d.analyze()"
   ]
  },
  {
   "cell_type": "markdown",
   "id": "d550b0a5",
   "metadata": {},
   "source": [
    "## Plot DC voltage"
   ]
  },
  {
   "cell_type": "code",
   "execution_count": 20,
   "id": "31717581",
   "metadata": {
    "execution": {
     "iopub.execute_input": "2025-10-30T04:13:15.623101Z",
     "iopub.status.busy": "2025-10-30T04:13:15.620999Z",
     "iopub.status.idle": "2025-10-30T04:13:16.715463Z",
     "shell.execute_reply": "2025-10-30T04:13:16.715463Z"
    }
   },
   "outputs": [
    {
     "name": "stdout",
     "output_type": "stream",
     "text": [
      "PyAEDT INFO: Parsing C:\\Users\\ansys\\AppData\\Local\\Temp\\tmp5jea7231.ansys\\edb\\ANSYS-HSD_V1.aedt.\n"
     ]
    },
    {
     "name": "stderr",
     "output_type": "stream",
     "text": [
      "INFO:Global:Parsing C:\\Users\\ansys\\AppData\\Local\\Temp\\tmp5jea7231.ansys\\edb\\ANSYS-HSD_V1.aedt.\n"
     ]
    },
    {
     "name": "stdout",
     "output_type": "stream",
     "text": [
      "PyAEDT INFO: File C:\\Users\\ansys\\AppData\\Local\\Temp\\tmp5jea7231.ansys\\edb\\ANSYS-HSD_V1.aedt correctly loaded. Elapsed time: 0m 0sec\n"
     ]
    },
    {
     "name": "stderr",
     "output_type": "stream",
     "text": [
      "INFO:Global:File C:\\Users\\ansys\\AppData\\Local\\Temp\\tmp5jea7231.ansys\\edb\\ANSYS-HSD_V1.aedt correctly loaded. Elapsed time: 0m 0sec\n"
     ]
    },
    {
     "name": "stdout",
     "output_type": "stream",
     "text": [
      "PyAEDT INFO: aedt file load time 0.2810089588165283\n"
     ]
    },
    {
     "name": "stderr",
     "output_type": "stream",
     "text": [
      "INFO:Global:aedt file load time 0.2810089588165283\n"
     ]
    },
    {
     "name": "stdout",
     "output_type": "stream",
     "text": [
      "PyAEDT INFO: PostProcessor class has been initialized! Elapsed time: 0m 0sec\n"
     ]
    },
    {
     "name": "stderr",
     "output_type": "stream",
     "text": [
      "INFO:Global:PostProcessor class has been initialized! Elapsed time: 0m 0sec\n"
     ]
    },
    {
     "name": "stdout",
     "output_type": "stream",
     "text": [
      "PyAEDT INFO: Post class has been initialized! Elapsed time: 0m 0sec\n"
     ]
    },
    {
     "name": "stderr",
     "output_type": "stream",
     "text": [
      "INFO:Global:Post class has been initialized! Elapsed time: 0m 0sec\n"
     ]
    },
    {
     "name": "stdout",
     "output_type": "stream",
     "text": [
      "PyEDB INFO: Star initializing Edb 04:13:15.985910\n"
     ]
    },
    {
     "name": "stderr",
     "output_type": "stream",
     "text": [
      "C:\\actions-runner\\_work\\pyaedt-examples\\pyaedt-examples\\.venv\\lib\\site-packages\\pyedb\\generic\\design_types.py:301: UserWarning: Your ANSYS AEDT version is eligible to gRPC version.You might consider switching to that version for better user experience.For more information please check this link: https://edb.docs.pyansys.com/version/dev/grpc_api/index.html\n",
      "  warnings.warn(GRPC_GENERAL_WARNING, UserWarning)\n",
      "INFO:Edb:Star initializing Edb 04:13:15.985910\n"
     ]
    },
    {
     "name": "stdout",
     "output_type": "stream",
     "text": [
      "PyEDB INFO: Edb version 2025.2\n"
     ]
    },
    {
     "name": "stderr",
     "output_type": "stream",
     "text": [
      "INFO:Edb:Edb version 2025.2\n"
     ]
    },
    {
     "name": "stdout",
     "output_type": "stream",
     "text": [
      "PyEDB INFO: Logger is initialized. Log file is saved to C:\\Users\\ansys\\AppData\\Local\\Temp\\pyedb_ansys.log.\n"
     ]
    },
    {
     "name": "stderr",
     "output_type": "stream",
     "text": [
      "INFO:Edb:Logger is initialized. Log file is saved to C:\\Users\\ansys\\AppData\\Local\\Temp\\pyedb_ansys.log.\n"
     ]
    },
    {
     "name": "stdout",
     "output_type": "stream",
     "text": [
      "PyEDB INFO: legacy v0.61.0\n"
     ]
    },
    {
     "name": "stderr",
     "output_type": "stream",
     "text": [
      "INFO:Edb:legacy v0.61.0\n"
     ]
    },
    {
     "name": "stdout",
     "output_type": "stream",
     "text": [
      "PyEDB INFO: Python version 3.10.11 (tags/v3.10.11:7d4cc5a, Apr  5 2023, 00:38:17) [MSC v.1929 64 bit (AMD64)]\n"
     ]
    },
    {
     "name": "stderr",
     "output_type": "stream",
     "text": [
      "INFO:Edb:Python version 3.10.11 (tags/v3.10.11:7d4cc5a, Apr  5 2023, 00:38:17) [MSC v.1929 64 bit (AMD64)]\n"
     ]
    },
    {
     "name": "stdout",
     "output_type": "stream",
     "text": [
      "PyEDB INFO: Database ANSYS-HSD_V1.aedb Opened in 2025.2\n"
     ]
    },
    {
     "name": "stderr",
     "output_type": "stream",
     "text": [
      "INFO:Edb:Database ANSYS-HSD_V1.aedb Opened in 2025.2\n"
     ]
    },
    {
     "name": "stdout",
     "output_type": "stream",
     "text": [
      "PyEDB INFO: Cell main Opened\n"
     ]
    },
    {
     "name": "stderr",
     "output_type": "stream",
     "text": [
      "INFO:Edb:Cell main Opened\n"
     ]
    },
    {
     "name": "stdout",
     "output_type": "stream",
     "text": [
      "PyEDB INFO: Builder was initialized.\n"
     ]
    },
    {
     "name": "stderr",
     "output_type": "stream",
     "text": [
      "INFO:Edb:Builder was initialized.\n"
     ]
    },
    {
     "name": "stdout",
     "output_type": "stream",
     "text": [
      "PyEDB INFO: open_edb completed in 0.2062 seconds.\n"
     ]
    },
    {
     "name": "stderr",
     "output_type": "stream",
     "text": [
      "INFO:Edb:open_edb completed in 0.2062 seconds.\n"
     ]
    },
    {
     "name": "stdout",
     "output_type": "stream",
     "text": [
      "PyEDB INFO: EDB initialization completed in 0.2062 seconds.\n"
     ]
    },
    {
     "name": "stderr",
     "output_type": "stream",
     "text": [
      "INFO:Edb:EDB initialization completed in 0.2062 seconds.\n"
     ]
    },
    {
     "name": "stdout",
     "output_type": "stream",
     "text": [
      "PyAEDT INFO: Active Design set to 0;main\n"
     ]
    },
    {
     "name": "stderr",
     "output_type": "stream",
     "text": [
      "INFO:Global:Active Design set to 0;main\n"
     ]
    }
   ],
   "source": [
    "voltage = h3d.post.create_fieldplot_layers_nets(\n",
    "    layers_nets=[\n",
    "        [\"Inner2\", \"1V0\"],\n",
    "    ],\n",
    "    quantity=\"Voltage\",\n",
    "    setup=\"siwave_1\",\n",
    ")"
   ]
  },
  {
   "cell_type": "code",
   "execution_count": 21,
   "id": "3c979761",
   "metadata": {
    "execution": {
     "iopub.execute_input": "2025-10-30T04:13:18.717559Z",
     "iopub.status.busy": "2025-10-30T04:13:18.717559Z",
     "iopub.status.idle": "2025-10-30T04:13:18.733544Z",
     "shell.execute_reply": "2025-10-30T04:13:18.733544Z"
    }
   },
   "outputs": [
    {
     "data": {
      "text/plain": [
       "'C:\\\\Users\\\\ansys\\\\AppData\\\\Local\\\\Temp\\\\tmp5jea7231.ansys\\\\voltage.jpg'"
      ]
     },
     "execution_count": 21,
     "metadata": {},
     "output_type": "execute_result"
    }
   ],
   "source": [
    "file_path_image = os.path.join(temp_folder.name, \"voltage.jpg\")\n",
    "voltage.export_image(\n",
    "    full_path=file_path_image,\n",
    "    width=640,\n",
    "    height=480,\n",
    "    orientation=\"isometric\",\n",
    "    display_wireframe=True,\n",
    "    selections=None,\n",
    "    show_region=True,\n",
    "    show_axis=True,\n",
    "    show_grid=True,\n",
    "    show_ruler=True,\n",
    ")"
   ]
  },
  {
   "cell_type": "markdown",
   "id": "07f93f0c",
   "metadata": {},
   "source": [
    "## Plot power density"
   ]
  },
  {
   "cell_type": "code",
   "execution_count": 22,
   "id": "126f76a7",
   "metadata": {
    "execution": {
     "iopub.execute_input": "2025-10-30T04:13:18.733544Z",
     "iopub.status.busy": "2025-10-30T04:13:18.733544Z",
     "iopub.status.idle": "2025-10-30T04:13:18.875791Z",
     "shell.execute_reply": "2025-10-30T04:13:18.875284Z"
    }
   },
   "outputs": [
    {
     "name": "stdout",
     "output_type": "stream",
     "text": [
      "PyAEDT INFO: Active Design set to 0;main\n"
     ]
    },
    {
     "name": "stderr",
     "output_type": "stream",
     "text": [
      "INFO:Global:Active Design set to 0;main\n"
     ]
    }
   ],
   "source": [
    "power_density = h3d.post.create_fieldplot_layers_nets(\n",
    "    layers_nets=[\n",
    "        [\"Inner2\", \"no-net\"],\n",
    "    ],\n",
    "    quantity=\"Power Density\",\n",
    "    setup=\"siwave_1\",\n",
    ")"
   ]
  },
  {
   "cell_type": "code",
   "execution_count": 23,
   "id": "fbc79fb4",
   "metadata": {
    "execution": {
     "iopub.execute_input": "2025-10-30T04:13:18.875791Z",
     "iopub.status.busy": "2025-10-30T04:13:18.875791Z",
     "iopub.status.idle": "2025-10-30T04:13:18.891876Z",
     "shell.execute_reply": "2025-10-30T04:13:18.891305Z"
    }
   },
   "outputs": [
    {
     "data": {
      "text/plain": [
       "'C:\\\\Users\\\\ansys\\\\AppData\\\\Local\\\\Temp\\\\tmp5jea7231.ansys\\\\power_density.jpg'"
      ]
     },
     "execution_count": 23,
     "metadata": {},
     "output_type": "execute_result"
    }
   ],
   "source": [
    "file_path_image = os.path.join(temp_folder.name, \"power_density.jpg\")\n",
    "power_density.export_image(\n",
    "    full_path=file_path_image,\n",
    "    width=640,\n",
    "    height=480,\n",
    "    orientation=\"isometric\",\n",
    "    display_wireframe=True,\n",
    "    selections=None,\n",
    "    show_region=True,\n",
    "    show_axis=True,\n",
    "    show_grid=True,\n",
    "    show_ruler=True,\n",
    ")"
   ]
  },
  {
   "cell_type": "markdown",
   "id": "d61b506e",
   "metadata": {},
   "source": [
    "## Save HFSS 3D Layout project"
   ]
  },
  {
   "cell_type": "code",
   "execution_count": 24,
   "id": "c3dc3ce5",
   "metadata": {
    "execution": {
     "iopub.execute_input": "2025-10-30T04:13:18.891876Z",
     "iopub.status.busy": "2025-10-30T04:13:18.891876Z",
     "iopub.status.idle": "2025-10-30T04:13:19.333575Z",
     "shell.execute_reply": "2025-10-30T04:13:19.333575Z"
    }
   },
   "outputs": [
    {
     "name": "stdout",
     "output_type": "stream",
     "text": [
      "PyAEDT INFO: Project ANSYS-HSD_V1 Saved correctly\n"
     ]
    },
    {
     "name": "stderr",
     "output_type": "stream",
     "text": [
      "INFO:Global:Project ANSYS-HSD_V1 Saved correctly\n"
     ]
    },
    {
     "data": {
      "text/plain": [
       "True"
      ]
     },
     "execution_count": 24,
     "metadata": {},
     "output_type": "execute_result"
    }
   ],
   "source": [
    "h3d.save_project()"
   ]
  },
  {
   "cell_type": "markdown",
   "id": "e2b5732b",
   "metadata": {},
   "source": [
    "## Create an Icepak design"
   ]
  },
  {
   "cell_type": "code",
   "execution_count": 25,
   "id": "d02efe87",
   "metadata": {
    "execution": {
     "iopub.execute_input": "2025-10-30T04:13:19.333575Z",
     "iopub.status.busy": "2025-10-30T04:13:19.333575Z",
     "iopub.status.idle": "2025-10-30T04:13:31.290742Z",
     "shell.execute_reply": "2025-10-30T04:13:31.290742Z"
    }
   },
   "outputs": [
    {
     "name": "stdout",
     "output_type": "stream",
     "text": [
      "PyAEDT INFO: Python version 3.10.11 (tags/v3.10.11:7d4cc5a, Apr  5 2023, 00:38:17) [MSC v.1929 64 bit (AMD64)].\n"
     ]
    },
    {
     "name": "stderr",
     "output_type": "stream",
     "text": [
      "INFO:Global:Python version 3.10.11 (tags/v3.10.11:7d4cc5a, Apr  5 2023, 00:38:17) [MSC v.1929 64 bit (AMD64)].\n"
     ]
    },
    {
     "name": "stdout",
     "output_type": "stream",
     "text": [
      "PyAEDT INFO: PyAEDT version 0.22.dev0.\n"
     ]
    },
    {
     "name": "stderr",
     "output_type": "stream",
     "text": [
      "INFO:Global:PyAEDT version 0.22.dev0.\n"
     ]
    },
    {
     "name": "stdout",
     "output_type": "stream",
     "text": [
      "PyAEDT INFO: Returning found Desktop session with PID 7108!\n"
     ]
    },
    {
     "name": "stderr",
     "output_type": "stream",
     "text": [
      "INFO:Global:Returning found Desktop session with PID 7108!\n"
     ]
    },
    {
     "name": "stdout",
     "output_type": "stream",
     "text": [
      "PyAEDT INFO: No project is defined. Project ANSYS-HSD_V1 exists and has been read.\n"
     ]
    },
    {
     "name": "stderr",
     "output_type": "stream",
     "text": [
      "INFO:Global:No project is defined. Project ANSYS-HSD_V1 exists and has been read.\n"
     ]
    },
    {
     "name": "stdout",
     "output_type": "stream",
     "text": [
      "PyAEDT INFO: No consistent unique design is present. Inserting a new design.\n"
     ]
    },
    {
     "name": "stderr",
     "output_type": "stream",
     "text": [
      "INFO:Global:No consistent unique design is present. Inserting a new design.\n"
     ]
    },
    {
     "name": "stdout",
     "output_type": "stream",
     "text": [
      "PyAEDT INFO: Added design 'Icepak_J5W' of type Icepak.\n"
     ]
    },
    {
     "name": "stderr",
     "output_type": "stream",
     "text": [
      "INFO:Global:Added design 'Icepak_J5W' of type Icepak.\n"
     ]
    },
    {
     "name": "stdout",
     "output_type": "stream",
     "text": [
      "PyAEDT INFO: Aedt Objects correctly read\n"
     ]
    },
    {
     "name": "stderr",
     "output_type": "stream",
     "text": [
      "INFO:Global:Aedt Objects correctly read\n"
     ]
    }
   ],
   "source": [
    "ipk = Icepak(version=AEDT_VERSION, non_graphical=NG_MODE, new_desktop=False)"
   ]
  },
  {
   "cell_type": "markdown",
   "id": "0d379d13",
   "metadata": {},
   "source": [
    "## Create PCB"
   ]
  },
  {
   "cell_type": "code",
   "execution_count": 26,
   "id": "4b4eff8d",
   "metadata": {
    "execution": {
     "iopub.execute_input": "2025-10-30T04:13:33.298464Z",
     "iopub.status.busy": "2025-10-30T04:13:33.298464Z",
     "iopub.status.idle": "2025-10-30T04:13:35.157283Z",
     "shell.execute_reply": "2025-10-30T04:13:35.156731Z"
    }
   },
   "outputs": [
    {
     "name": "stdout",
     "output_type": "stream",
     "text": [
      "PyAEDT INFO: Modeler class has been initialized! Elapsed time: 0m 0sec\n"
     ]
    },
    {
     "name": "stderr",
     "output_type": "stream",
     "text": [
      "INFO:Global:Modeler class has been initialized! Elapsed time: 0m 0sec\n"
     ]
    },
    {
     "name": "stdout",
     "output_type": "stream",
     "text": [
      "PyAEDT INFO: Parsing design objects. This operation can take time\n"
     ]
    },
    {
     "name": "stderr",
     "output_type": "stream",
     "text": [
      "INFO:Global:Parsing design objects. This operation can take time\n"
     ]
    },
    {
     "name": "stdout",
     "output_type": "stream",
     "text": [
      "PyAEDT INFO: Refreshing bodies from Object Info\n"
     ]
    },
    {
     "name": "stderr",
     "output_type": "stream",
     "text": [
      "INFO:Global:Refreshing bodies from Object Info\n"
     ]
    },
    {
     "name": "stdout",
     "output_type": "stream",
     "text": [
      "PyAEDT INFO: Bodies Info Refreshed Elapsed time: 0m 0sec\n"
     ]
    },
    {
     "name": "stderr",
     "output_type": "stream",
     "text": [
      "INFO:Global:Bodies Info Refreshed Elapsed time: 0m 0sec\n"
     ]
    },
    {
     "name": "stdout",
     "output_type": "stream",
     "text": [
      "PyAEDT INFO: 3D Modeler objects parsed. Elapsed time: 0m 0sec\n"
     ]
    },
    {
     "name": "stderr",
     "output_type": "stream",
     "text": [
      "INFO:Global:3D Modeler objects parsed. Elapsed time: 0m 0sec\n"
     ]
    },
    {
     "name": "stdout",
     "output_type": "stream",
     "text": [
      "PyAEDT INFO: Materials class has been initialized! Elapsed time: 0m 0sec\n"
     ]
    },
    {
     "name": "stderr",
     "output_type": "stream",
     "text": [
      "INFO:Global:Materials class has been initialized! Elapsed time: 0m 0sec\n"
     ]
    }
   ],
   "source": [
    "pcb = ipk.create_ipk_3dcomponent_pcb(\n",
    "    compName=\"PCB_pyAEDT\",\n",
    "    setupLinkInfo=[h3d.project_file, h3d.design_name, \"siwave_1\", True, True],\n",
    "    solutionFreq=None,\n",
    "    resolution=0,\n",
    "    extent_type=\"Bounding Box\",\n",
    "    powerin=\"0\",\n",
    ")"
   ]
  },
  {
   "cell_type": "markdown",
   "id": "456815b2",
   "metadata": {},
   "source": [
    "## Include pckage definition from Edb"
   ]
  },
  {
   "cell_type": "code",
   "execution_count": 27,
   "id": "0fdc4dd5",
   "metadata": {
    "execution": {
     "iopub.execute_input": "2025-10-30T04:13:35.157283Z",
     "iopub.status.busy": "2025-10-30T04:13:35.157283Z",
     "iopub.status.idle": "2025-10-30T04:13:35.838736Z",
     "shell.execute_reply": "2025-10-30T04:13:35.838736Z"
    }
   },
   "outputs": [],
   "source": [
    "pcb.included_parts = \"Device\""
   ]
  },
  {
   "cell_type": "markdown",
   "id": "283c2a31",
   "metadata": {},
   "source": [
    "## Adjust air region"
   ]
  },
  {
   "cell_type": "code",
   "execution_count": 28,
   "id": "45a3cdf8",
   "metadata": {
    "execution": {
     "iopub.execute_input": "2025-10-30T04:13:35.838736Z",
     "iopub.status.busy": "2025-10-30T04:13:35.838736Z",
     "iopub.status.idle": "2025-10-30T04:13:35.886071Z",
     "shell.execute_reply": "2025-10-30T04:13:35.886071Z"
    }
   },
   "outputs": [
    {
     "name": "stdout",
     "output_type": "stream",
     "text": [
      "PyAEDT INFO: Boundary Opening Outlet has been created.\n"
     ]
    },
    {
     "name": "stderr",
     "output_type": "stream",
     "text": [
      "INFO:Global:Boundary Opening Outlet has been created.\n"
     ]
    },
    {
     "data": {
      "text/plain": [
       "<ansys.aedt.core.modules.boundary.common.BoundaryObject at 0x21827b6d300>"
      ]
     },
     "execution_count": 28,
     "metadata": {},
     "output_type": "execute_result"
    }
   ],
   "source": [
    "region = ipk.modeler[\"Region\"]\n",
    "faces = [f.id for f in region.faces]\n",
    "ipk.assign_pressure_free_opening(assignment=faces, boundary_name=\"Outlet\")"
   ]
  },
  {
   "cell_type": "markdown",
   "id": "da8d1a83",
   "metadata": {},
   "source": [
    "## Setup mesh"
   ]
  },
  {
   "cell_type": "code",
   "execution_count": 29,
   "id": "13ea70c3",
   "metadata": {
    "execution": {
     "iopub.execute_input": "2025-10-30T04:13:35.886071Z",
     "iopub.status.busy": "2025-10-30T04:13:35.886071Z",
     "iopub.status.idle": "2025-10-30T04:13:36.583870Z",
     "shell.execute_reply": "2025-10-30T04:13:36.583212Z"
    }
   },
   "outputs": [
    {
     "name": "stdout",
     "output_type": "stream",
     "text": [
      "PyAEDT INFO: Parsing C:\\Users\\ansys\\AppData\\Local\\Temp\\tmp5jea7231.ansys\\edb\\ANSYS-HSD_V1.aedt.\n"
     ]
    },
    {
     "name": "stderr",
     "output_type": "stream",
     "text": [
      "INFO:Global:Parsing C:\\Users\\ansys\\AppData\\Local\\Temp\\tmp5jea7231.ansys\\edb\\ANSYS-HSD_V1.aedt.\n"
     ]
    },
    {
     "name": "stdout",
     "output_type": "stream",
     "text": [
      "PyAEDT INFO: File C:\\Users\\ansys\\AppData\\Local\\Temp\\tmp5jea7231.ansys\\edb\\ANSYS-HSD_V1.aedt correctly loaded. Elapsed time: 0m 0sec\n"
     ]
    },
    {
     "name": "stderr",
     "output_type": "stream",
     "text": [
      "INFO:Global:File C:\\Users\\ansys\\AppData\\Local\\Temp\\tmp5jea7231.ansys\\edb\\ANSYS-HSD_V1.aedt correctly loaded. Elapsed time: 0m 0sec\n"
     ]
    },
    {
     "name": "stdout",
     "output_type": "stream",
     "text": [
      "PyAEDT INFO: aedt file load time 0.28586864471435547\n"
     ]
    },
    {
     "name": "stderr",
     "output_type": "stream",
     "text": [
      "INFO:Global:aedt file load time 0.28586864471435547\n"
     ]
    },
    {
     "name": "stdout",
     "output_type": "stream",
     "text": [
      "PyAEDT WARNING: No mesh operation found.\n"
     ]
    },
    {
     "name": "stderr",
     "output_type": "stream",
     "text": [
      "WARNING:Global:No mesh operation found.\n"
     ]
    },
    {
     "name": "stdout",
     "output_type": "stream",
     "text": [
      "PyAEDT WARNING: No mesh region found.\n"
     ]
    },
    {
     "name": "stderr",
     "output_type": "stream",
     "text": [
      "WARNING:Global:No mesh region found.\n"
     ]
    },
    {
     "name": "stdout",
     "output_type": "stream",
     "text": [
      "PyAEDT INFO: Parsing design objects. This operation can take time\n"
     ]
    },
    {
     "name": "stderr",
     "output_type": "stream",
     "text": [
      "INFO:Global:Parsing design objects. This operation can take time\n"
     ]
    },
    {
     "name": "stdout",
     "output_type": "stream",
     "text": [
      "PyAEDT INFO: Refreshing bodies from Object Info\n"
     ]
    },
    {
     "name": "stderr",
     "output_type": "stream",
     "text": [
      "INFO:Global:Refreshing bodies from Object Info\n"
     ]
    },
    {
     "name": "stdout",
     "output_type": "stream",
     "text": [
      "PyAEDT INFO: Bodies Info Refreshed Elapsed time: 0m 0sec\n"
     ]
    },
    {
     "name": "stderr",
     "output_type": "stream",
     "text": [
      "INFO:Global:Bodies Info Refreshed Elapsed time: 0m 0sec\n"
     ]
    },
    {
     "name": "stdout",
     "output_type": "stream",
     "text": [
      "PyAEDT INFO: 3D Modeler objects parsed. Elapsed time: 0m 0sec\n"
     ]
    },
    {
     "name": "stderr",
     "output_type": "stream",
     "text": [
      "INFO:Global:3D Modeler objects parsed. Elapsed time: 0m 0sec\n"
     ]
    },
    {
     "name": "stdout",
     "output_type": "stream",
     "text": [
      "PyAEDT WARNING: Property Command is read-only.\n"
     ]
    },
    {
     "name": "stderr",
     "output_type": "stream",
     "text": [
      "WARNING:Global:Property Command is read-only.\n"
     ]
    },
    {
     "name": "stdout",
     "output_type": "stream",
     "text": [
      "PyAEDT INFO: Mesh class has been initialized! Elapsed time: 0m 0sec\n"
     ]
    },
    {
     "name": "stderr",
     "output_type": "stream",
     "text": [
      "INFO:Global:Mesh class has been initialized! Elapsed time: 0m 0sec\n"
     ]
    },
    {
     "name": "stdout",
     "output_type": "stream",
     "text": [
      "PyAEDT WARNING: Property Command is read-only.\n"
     ]
    },
    {
     "name": "stderr",
     "output_type": "stream",
     "text": [
      "WARNING:Global:Property Command is read-only.\n"
     ]
    },
    {
     "name": "stdout",
     "output_type": "stream",
     "text": [
      "PyAEDT WARNING: Property Command is read-only.\n"
     ]
    },
    {
     "name": "stderr",
     "output_type": "stream",
     "text": [
      "WARNING:Global:Property Command is read-only.\n"
     ]
    },
    {
     "name": "stdout",
     "output_type": "stream",
     "text": [
      "PyAEDT WARNING: Property Command is read-only.\n"
     ]
    },
    {
     "name": "stderr",
     "output_type": "stream",
     "text": [
      "WARNING:Global:Property Command is read-only.\n"
     ]
    },
    {
     "name": "stdout",
     "output_type": "stream",
     "text": [
      "PyAEDT WARNING: Property Command is read-only.\n"
     ]
    },
    {
     "name": "stderr",
     "output_type": "stream",
     "text": [
      "WARNING:Global:Property Command is read-only.\n"
     ]
    },
    {
     "name": "stdout",
     "output_type": "stream",
     "text": [
      "PyAEDT WARNING: Property Command is read-only.\n"
     ]
    },
    {
     "name": "stderr",
     "output_type": "stream",
     "text": [
      "WARNING:Global:Property Command is read-only.\n"
     ]
    },
    {
     "name": "stdout",
     "output_type": "stream",
     "text": [
      "PyAEDT WARNING: Property Command is read-only.\n"
     ]
    },
    {
     "name": "stderr",
     "output_type": "stream",
     "text": [
      "WARNING:Global:Property Command is read-only.\n"
     ]
    },
    {
     "name": "stdout",
     "output_type": "stream",
     "text": [
      "PyAEDT WARNING: Property Command is read-only.\n"
     ]
    },
    {
     "name": "stderr",
     "output_type": "stream",
     "text": [
      "WARNING:Global:Property Command is read-only.\n"
     ]
    },
    {
     "name": "stdout",
     "output_type": "stream",
     "text": [
      "PyAEDT WARNING: Property Command is read-only.\n"
     ]
    },
    {
     "name": "stderr",
     "output_type": "stream",
     "text": [
      "WARNING:Global:Property Command is read-only.\n"
     ]
    }
   ],
   "source": [
    "glob_msh = ipk.mesh.global_mesh_region\n",
    "glob_msh.global_region.positive_z_padding_type = \"Absolute Offset\"\n",
    "glob_msh.global_region.positive_z_padding = \"50 mm\"\n",
    "glob_msh.global_region.negative_z_padding_type = \"Absolute Offset\"\n",
    "glob_msh.global_region.negative_z_padding = \"80 mm\""
   ]
  },
  {
   "cell_type": "code",
   "execution_count": 30,
   "id": "2471614d",
   "metadata": {
    "execution": {
     "iopub.execute_input": "2025-10-30T04:13:36.583870Z",
     "iopub.status.busy": "2025-10-30T04:13:36.583870Z",
     "iopub.status.idle": "2025-10-30T04:13:36.599204Z",
     "shell.execute_reply": "2025-10-30T04:13:36.599204Z"
    }
   },
   "outputs": [],
   "source": [
    "glob_msh = ipk.mesh.global_mesh_region\n",
    "glob_msh.manual_settings = True\n",
    "glob_msh.settings[\"EnableMLM\"] = True\n",
    "glob_msh.settings[\"EnforeMLMType\"] = \"2D\"\n",
    "glob_msh.settings[\"2DMLMType\"] = \"Auto\"\n",
    "glob_msh.settings[\"MaxElementSizeY\"] = \"2mm\"\n",
    "glob_msh.settings[\"MaxElementSizeX\"] = \"2mm\"\n",
    "glob_msh.settings[\"MaxElementSizeZ\"] = \"3mm\"\n",
    "glob_msh.settings[\"MaxLevels\"] = \"2\""
   ]
  },
  {
   "cell_type": "code",
   "execution_count": 31,
   "id": "a2fef1da",
   "metadata": {
    "execution": {
     "iopub.execute_input": "2025-10-30T04:13:36.603228Z",
     "iopub.status.busy": "2025-10-30T04:13:36.603228Z",
     "iopub.status.idle": "2025-10-30T04:13:36.631174Z",
     "shell.execute_reply": "2025-10-30T04:13:36.631174Z"
    }
   },
   "outputs": [
    {
     "data": {
      "text/plain": [
       "True"
      ]
     },
     "execution_count": 31,
     "metadata": {},
     "output_type": "execute_result"
    }
   ],
   "source": [
    "glob_msh.update()"
   ]
  },
  {
   "cell_type": "markdown",
   "id": "7253bff4",
   "metadata": {},
   "source": [
    "## Place monitor"
   ]
  },
  {
   "cell_type": "code",
   "execution_count": 32,
   "id": "0027bd4c",
   "metadata": {
    "execution": {
     "iopub.execute_input": "2025-10-30T04:13:36.631174Z",
     "iopub.status.busy": "2025-10-30T04:13:36.631174Z",
     "iopub.status.idle": "2025-10-30T04:13:36.663007Z",
     "shell.execute_reply": "2025-10-30T04:13:36.663007Z"
    }
   },
   "outputs": [],
   "source": [
    "cpu = ipk.modeler[\"PCB_pyAEDT_U1_device\"]\n",
    "m1 = ipk.monitor.assign_face_monitor(\n",
    "    face_id=cpu.top_face_z.id,\n",
    "    monitor_quantity=\"Temperature\",\n",
    "    monitor_name=\"TemperatureMonitor1\",\n",
    ")"
   ]
  },
  {
   "cell_type": "markdown",
   "id": "99cc2745",
   "metadata": {},
   "source": [
    "## Create Icepak setup"
   ]
  },
  {
   "cell_type": "code",
   "execution_count": 33,
   "id": "71f470da",
   "metadata": {
    "execution": {
     "iopub.execute_input": "2025-10-30T04:13:36.663007Z",
     "iopub.status.busy": "2025-10-30T04:13:36.663007Z",
     "iopub.status.idle": "2025-10-30T04:13:36.775015Z",
     "shell.execute_reply": "2025-10-30T04:13:36.774447Z"
    }
   },
   "outputs": [
    {
     "name": "stdout",
     "output_type": "stream",
     "text": [
      "PyAEDT INFO: Key MaxIterations matched internal key 'Convergence Criteria - Max Iterations' with confidence of 52.\n"
     ]
    },
    {
     "name": "stderr",
     "output_type": "stream",
     "text": [
      "INFO:Global:Key MaxIterations matched internal key 'Convergence Criteria - Max Iterations' with confidence of 52.\n"
     ]
    }
   ],
   "source": [
    "setup1 = ipk.create_setup(MaxIterations=10)"
   ]
  },
  {
   "cell_type": "markdown",
   "id": "005859e5",
   "metadata": {},
   "source": [
    "Add 2-way coupling to the setup"
   ]
  },
  {
   "cell_type": "code",
   "execution_count": 34,
   "id": "feeb04af",
   "metadata": {
    "execution": {
     "iopub.execute_input": "2025-10-30T04:13:36.775015Z",
     "iopub.status.busy": "2025-10-30T04:13:36.775015Z",
     "iopub.status.idle": "2025-10-30T04:13:36.790375Z",
     "shell.execute_reply": "2025-10-30T04:13:36.790375Z"
    }
   },
   "outputs": [
    {
     "data": {
      "text/plain": [
       "True"
      ]
     },
     "execution_count": 34,
     "metadata": {},
     "output_type": "execute_result"
    }
   ],
   "source": [
    "ipk.assign_2way_coupling(number_of_iterations=1)"
   ]
  },
  {
   "cell_type": "markdown",
   "id": "5b21f4e6",
   "metadata": {},
   "source": [
    "## Save"
   ]
  },
  {
   "cell_type": "code",
   "execution_count": 35,
   "id": "11883e8e",
   "metadata": {
    "execution": {
     "iopub.execute_input": "2025-10-30T04:13:36.790375Z",
     "iopub.status.busy": "2025-10-30T04:13:36.790375Z",
     "iopub.status.idle": "2025-10-30T04:13:37.377581Z",
     "shell.execute_reply": "2025-10-30T04:13:37.377028Z"
    }
   },
   "outputs": [
    {
     "name": "stdout",
     "output_type": "stream",
     "text": [
      "PyAEDT INFO: Project ANSYS-HSD_V1 Saved correctly\n"
     ]
    },
    {
     "name": "stderr",
     "output_type": "stream",
     "text": [
      "INFO:Global:Project ANSYS-HSD_V1 Saved correctly\n"
     ]
    },
    {
     "data": {
      "text/plain": [
       "True"
      ]
     },
     "execution_count": 35,
     "metadata": {},
     "output_type": "execute_result"
    }
   ],
   "source": [
    "ipk.save_project()"
   ]
  },
  {
   "cell_type": "markdown",
   "id": "1b0fa2d1",
   "metadata": {},
   "source": [
    "## Shut Down Electronics Desktop"
   ]
  },
  {
   "cell_type": "code",
   "execution_count": 36,
   "id": "abc95b0d",
   "metadata": {
    "execution": {
     "iopub.execute_input": "2025-10-30T04:13:39.382926Z",
     "iopub.status.busy": "2025-10-30T04:13:39.382926Z",
     "iopub.status.idle": "2025-10-30T04:13:56.713442Z",
     "shell.execute_reply": "2025-10-30T04:13:56.713442Z"
    }
   },
   "outputs": [
    {
     "name": "stdout",
     "output_type": "stream",
     "text": [
      "PyAEDT INFO: Desktop has been released and closed.\n"
     ]
    },
    {
     "name": "stderr",
     "output_type": "stream",
     "text": [
      "INFO:Global:Desktop has been released and closed.\n"
     ]
    },
    {
     "data": {
      "text/plain": [
       "True"
      ]
     },
     "execution_count": 36,
     "metadata": {},
     "output_type": "execute_result"
    }
   ],
   "source": [
    "ipk.release_desktop()"
   ]
  },
  {
   "cell_type": "markdown",
   "id": "088e06ad",
   "metadata": {},
   "source": [
    "All project files are saved in the folder ``temp_file.dir``. If you've run this example as a Jupyter notebook you\n",
    "can retrieve those project files."
   ]
  }
 ],
 "metadata": {
  "jupytext": {
   "cell_metadata_filter": "-all",
   "main_language": "python",
   "notebook_metadata_filter": "-all"
  },
  "language_info": {
   "codemirror_mode": {
    "name": "ipython",
    "version": 3
   },
   "file_extension": ".py",
   "mimetype": "text/x-python",
   "name": "python",
   "nbconvert_exporter": "python",
   "pygments_lexer": "ipython3",
   "version": "3.10.11"
  }
 },
 "nbformat": 4,
 "nbformat_minor": 5
}
