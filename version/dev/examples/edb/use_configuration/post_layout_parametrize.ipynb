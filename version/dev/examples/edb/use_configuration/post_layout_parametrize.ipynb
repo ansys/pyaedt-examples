{
 "cells": [
  {
   "cell_type": "markdown",
   "id": "663f8f9d",
   "metadata": {},
   "source": [
    "# EDB: parameterized design\n",
    "\n",
    "This example shows how to\n",
    "1. Set up an HFSS project using SimulationConfiguration class.\n",
    "2. Create automatically parametrized design.\n",
    "\n",
    "This image shows the layout created in this example:\n",
    "\n",
    "<img src=\"_static\\parameterized_design.png\" width=\"600\">\n"
   ]
  },
  {
   "cell_type": "markdown",
   "id": "ae0aa97e",
   "metadata": {},
   "source": [
    "## Perform imports\n",
    "\n",
    "Perform required imports."
   ]
  },
  {
   "cell_type": "code",
   "execution_count": 1,
   "id": "1ab1c29a",
   "metadata": {
    "execution": {
     "iopub.execute_input": "2025-10-30T04:16:09.310550Z",
     "iopub.status.busy": "2025-10-30T04:16:09.310550Z",
     "iopub.status.idle": "2025-10-30T04:16:12.413809Z",
     "shell.execute_reply": "2025-10-30T04:16:12.413809Z"
    }
   },
   "outputs": [],
   "source": [
    "import tempfile\n",
    "\n",
    "import ansys.aedt.core\n",
    "import pyedb\n",
    "from pyedb.misc.downloads import download_file"
   ]
  },
  {
   "cell_type": "markdown",
   "id": "679a8ea4",
   "metadata": {},
   "source": [
    "## Create an instance of a pyedb.Edb object."
   ]
  },
  {
   "cell_type": "code",
   "execution_count": 2,
   "id": "65aa28a3",
   "metadata": {
    "execution": {
     "iopub.execute_input": "2025-10-30T04:16:12.413809Z",
     "iopub.status.busy": "2025-10-30T04:16:12.413809Z",
     "iopub.status.idle": "2025-10-30T04:16:26.318913Z",
     "shell.execute_reply": "2025-10-30T04:16:26.318913Z"
    }
   },
   "outputs": [
    {
     "name": "stdout",
     "output_type": "stream",
     "text": [
      "Project is located in  C:\\Users\\ansys\\AppData\\Local\\Temp\\tmp0jmlzph3.ansys\\edb/ANSYS-HSD_V1.aedb\n",
      "EDB version: 2025.2\n"
     ]
    },
    {
     "name": "stderr",
     "output_type": "stream",
     "text": [
      "C:\\actions-runner\\_work\\pyaedt-examples\\pyaedt-examples\\.venv\\lib\\site-packages\\pyedb\\misc\\decorators.py:55: UserWarning: Argument `edbversion` is deprecated for method `Edb`; use `version` instead.\n",
      "  warnings.warn(\n",
      "C:\\actions-runner\\_work\\pyaedt-examples\\pyaedt-examples\\.venv\\lib\\site-packages\\pyedb\\generic\\design_types.py:301: UserWarning: Your ANSYS AEDT version is eligible to gRPC version.You might consider switching to that version for better user experience.For more information please check this link: https://edb.docs.pyansys.com/version/dev/grpc_api/index.html\n",
      "  warnings.warn(GRPC_GENERAL_WARNING, UserWarning)\n"
     ]
    },
    {
     "name": "stdout",
     "output_type": "stream",
     "text": [
      "PyEDB INFO: Star initializing Edb 04:16:17.110913\n"
     ]
    },
    {
     "name": "stderr",
     "output_type": "stream",
     "text": [
      "INFO:Edb:Star initializing Edb 04:16:17.110913\n"
     ]
    },
    {
     "name": "stdout",
     "output_type": "stream",
     "text": [
      "PyEDB INFO: Edb version 2025.2\n"
     ]
    },
    {
     "name": "stderr",
     "output_type": "stream",
     "text": [
      "INFO:Edb:Edb version 2025.2\n"
     ]
    },
    {
     "name": "stdout",
     "output_type": "stream",
     "text": [
      "PyEDB INFO: Logger is initialized. Log file is saved to C:\\Users\\ansys\\AppData\\Local\\Temp\\pyedb_ansys.log.\n"
     ]
    },
    {
     "name": "stderr",
     "output_type": "stream",
     "text": [
      "INFO:Edb:Logger is initialized. Log file is saved to C:\\Users\\ansys\\AppData\\Local\\Temp\\pyedb_ansys.log.\n"
     ]
    },
    {
     "name": "stdout",
     "output_type": "stream",
     "text": [
      "PyEDB INFO: legacy v0.61.0\n"
     ]
    },
    {
     "name": "stderr",
     "output_type": "stream",
     "text": [
      "INFO:Edb:legacy v0.61.0\n"
     ]
    },
    {
     "name": "stdout",
     "output_type": "stream",
     "text": [
      "PyEDB INFO: Python version 3.10.11 (tags/v3.10.11:7d4cc5a, Apr  5 2023, 00:38:17) [MSC v.1929 64 bit (AMD64)]\n"
     ]
    },
    {
     "name": "stderr",
     "output_type": "stream",
     "text": [
      "INFO:Edb:Python version 3.10.11 (tags/v3.10.11:7d4cc5a, Apr  5 2023, 00:38:17) [MSC v.1929 64 bit (AMD64)]\n"
     ]
    },
    {
     "name": "stdout",
     "output_type": "stream",
     "text": [
      "PyEDB INFO: Database ANSYS-HSD_V1.aedb Opened in 2025.2\n"
     ]
    },
    {
     "name": "stderr",
     "output_type": "stream",
     "text": [
      "INFO:Edb:Database ANSYS-HSD_V1.aedb Opened in 2025.2\n"
     ]
    },
    {
     "name": "stdout",
     "output_type": "stream",
     "text": [
      "PyEDB INFO: Cell main Opened\n"
     ]
    },
    {
     "name": "stderr",
     "output_type": "stream",
     "text": [
      "INFO:Edb:Cell main Opened\n"
     ]
    },
    {
     "name": "stdout",
     "output_type": "stream",
     "text": [
      "PyEDB INFO: Builder was initialized.\n"
     ]
    },
    {
     "name": "stderr",
     "output_type": "stream",
     "text": [
      "INFO:Edb:Builder was initialized.\n"
     ]
    },
    {
     "name": "stdout",
     "output_type": "stream",
     "text": [
      "PyEDB INFO: open_edb completed in 9.1126 seconds.\n"
     ]
    },
    {
     "name": "stderr",
     "output_type": "stream",
     "text": [
      "INFO:Edb:open_edb completed in 9.1126 seconds.\n"
     ]
    },
    {
     "name": "stdout",
     "output_type": "stream",
     "text": [
      "PyEDB INFO: EDB initialization completed in 9.1919 seconds.\n"
     ]
    },
    {
     "name": "stderr",
     "output_type": "stream",
     "text": [
      "INFO:Edb:EDB initialization completed in 9.1919 seconds.\n"
     ]
    },
    {
     "name": "stdout",
     "output_type": "stream",
     "text": [
      "AEDB file is located in C:\\Users\\ansys\\AppData\\Local\\Temp\\tmp0jmlzph3.ansys\\edb/ANSYS-HSD_V1.aedb\n"
     ]
    }
   ],
   "source": [
    "temp_dir = tempfile.TemporaryDirectory(suffix=\".ansys\")\n",
    "target_aedb = download_file(\"edb/ANSYS-HSD_V1.aedb\", destination=temp_dir.name)\n",
    "print(\"Project is located in \", target_aedb)\n",
    "\n",
    "# Select EDB version (change it manually if needed, e.g. \"2025.1\")\n",
    "edb_version = \"2025.2\"\n",
    "print(f\"EDB version: {edb_version}\")\n",
    "\n",
    "edb = pyedb.Edb(edbpath=target_aedb, edbversion=edb_version)\n",
    "print(\"AEDB file is located in {}\".format(target_aedb))"
   ]
  },
  {
   "cell_type": "markdown",
   "id": "46b678a7",
   "metadata": {},
   "source": [
    "## Prepare the layout for the simulation\n",
    "\n",
    "The ``new_simulation_configuration()`` method creates an instance of\n",
    "the ``SimulationConfiguration`` class. This class helps define all preprocessing steps\n",
    "required to set up the PCB for simulation. After the simulation configuration has been defined,\n",
    "they are applied to the EDB using the ``Edb.build_simulation()`` method."
   ]
  },
  {
   "cell_type": "code",
   "execution_count": 3,
   "id": "e4ce9f13",
   "metadata": {
    "execution": {
     "iopub.execute_input": "2025-10-30T04:16:28.319105Z",
     "iopub.status.busy": "2025-10-30T04:16:28.319105Z",
     "iopub.status.idle": "2025-10-30T04:16:28.335061Z",
     "shell.execute_reply": "2025-10-30T04:16:28.335061Z"
    }
   },
   "outputs": [],
   "source": [
    "simulation_configuration = edb.new_simulation_configuration()\n",
    "simulation_configuration.signal_nets = [\n",
    "    \"PCIe_Gen4_RX0_P\",\n",
    "    \"PCIe_Gen4_RX0_N\",\n",
    "    \"PCIe_Gen4_RX1_P\",\n",
    "    \"PCIe_Gen4_RX1_N\",\n",
    "]\n",
    "simulation_configuration.power_nets = [\"GND\"]\n",
    "simulation_configuration.components = [\"X1\", \"U1\"]\n",
    "simulation_configuration.do_cutout_subdesign = True\n",
    "simulation_configuration.start_freq = \"OGHz\"\n",
    "simulation_configuration.stop_freq = \"20GHz\"\n",
    "simulation_configuration.step_freq = \"10MHz\""
   ]
  },
  {
   "cell_type": "markdown",
   "id": "9a72196e",
   "metadata": {},
   "source": [
    "Now apply the simulation setup to the EDB."
   ]
  },
  {
   "cell_type": "code",
   "execution_count": 4,
   "id": "6e191f3b",
   "metadata": {
    "execution": {
     "iopub.execute_input": "2025-10-30T04:16:28.335061Z",
     "iopub.status.busy": "2025-10-30T04:16:28.335061Z",
     "iopub.status.idle": "2025-10-30T04:16:33.934951Z",
     "shell.execute_reply": "2025-10-30T04:16:33.934951Z"
    }
   },
   "outputs": [
    {
     "name": "stdout",
     "output_type": "stream",
     "text": [
      "PyEDB INFO: Building simulation project.\n"
     ]
    },
    {
     "name": "stderr",
     "output_type": "stream",
     "text": [
      "INFO:Edb:Building simulation project.\n"
     ]
    },
    {
     "name": "stdout",
     "output_type": "stream",
     "text": [
      "PyEDB INFO: Cutting out using method: 1\n"
     ]
    },
    {
     "name": "stderr",
     "output_type": "stream",
     "text": [
      "INFO:Edb:Cutting out using method: 1\n"
     ]
    },
    {
     "name": "stdout",
     "output_type": "stream",
     "text": [
      "PyEDB INFO: Cutting out using method: 1\n"
     ]
    },
    {
     "name": "stderr",
     "output_type": "stream",
     "text": [
      "INFO:Edb:Cutting out using method: 1\n"
     ]
    },
    {
     "name": "stdout",
     "output_type": "stream",
     "text": [
      "PyEDB INFO: -----------------------------------------\n"
     ]
    },
    {
     "name": "stderr",
     "output_type": "stream",
     "text": [
      "C:\\actions-runner\\_work\\pyaedt-examples\\pyaedt-examples\\.venv\\lib\\site-packages\\pyedb\\misc\\decorators.py:55: UserWarning: Argument `signal_list` is deprecated for method `cutout`; use `signal_nets` instead.\n",
      "  warnings.warn(\n",
      "C:\\actions-runner\\_work\\pyaedt-examples\\pyaedt-examples\\.venv\\lib\\site-packages\\pyedb\\misc\\decorators.py:55: UserWarning: Argument `reference_list` is deprecated for method `cutout`; use `reference_nets` instead.\n",
      "  warnings.warn(\n",
      "INFO:Edb:-----------------------------------------\n"
     ]
    },
    {
     "name": "stdout",
     "output_type": "stream",
     "text": [
      "PyEDB INFO: Trying cutout with (0.001)*(1000.0)mm expansion size\n"
     ]
    },
    {
     "name": "stderr",
     "output_type": "stream",
     "text": [
      "INFO:Edb:Trying cutout with (0.001)*(1000.0)mm expansion size\n"
     ]
    },
    {
     "name": "stdout",
     "output_type": "stream",
     "text": [
      "PyEDB INFO: -----------------------------------------\n"
     ]
    },
    {
     "name": "stderr",
     "output_type": "stream",
     "text": [
      "INFO:Edb:-----------------------------------------\n"
     ]
    },
    {
     "name": "stdout",
     "output_type": "stream",
     "text": [
      "PyEDB INFO: Cutout Multithread started.\n"
     ]
    },
    {
     "name": "stderr",
     "output_type": "stream",
     "text": [
      "INFO:Edb:Cutout Multithread started.\n"
     ]
    },
    {
     "name": "stdout",
     "output_type": "stream",
     "text": [
      "PyEDB INFO: Net clean up Elapsed time: 0m 1sec\n"
     ]
    },
    {
     "name": "stderr",
     "output_type": "stream",
     "text": [
      "INFO:Edb:Net clean up Elapsed time: 0m 1sec\n"
     ]
    },
    {
     "name": "stdout",
     "output_type": "stream",
     "text": [
      "PyEDB INFO: Correctly computed Extension at first iteration.\n"
     ]
    },
    {
     "name": "stderr",
     "output_type": "stream",
     "text": [
      "INFO:Edb:Correctly computed Extension at first iteration.\n"
     ]
    },
    {
     "name": "stdout",
     "output_type": "stream",
     "text": [
      "PyEDB INFO: Extent Creation Elapsed time: 0m 0sec\n"
     ]
    },
    {
     "name": "stderr",
     "output_type": "stream",
     "text": [
      "INFO:Edb:Extent Creation Elapsed time: 0m 0sec\n"
     ]
    },
    {
     "name": "stdout",
     "output_type": "stream",
     "text": [
      "PyEDB INFO: 2022 Padstack Instances deleted. Elapsed time: 0m 1sec\n"
     ]
    },
    {
     "name": "stderr",
     "output_type": "stream",
     "text": [
      "INFO:Edb:2022 Padstack Instances deleted. Elapsed time: 0m 1sec\n"
     ]
    },
    {
     "name": "stdout",
     "output_type": "stream",
     "text": [
      "PyEDB INFO: 446 Primitives deleted. Elapsed time: 0m 3sec\n"
     ]
    },
    {
     "name": "stderr",
     "output_type": "stream",
     "text": [
      "INFO:Edb:446 Primitives deleted. Elapsed time: 0m 3sec\n"
     ]
    },
    {
     "name": "stdout",
     "output_type": "stream",
     "text": [
      "PyEDB INFO: 1010 components deleted\n"
     ]
    },
    {
     "name": "stderr",
     "output_type": "stream",
     "text": [
      "INFO:Edb:1010 components deleted\n"
     ]
    },
    {
     "name": "stdout",
     "output_type": "stream",
     "text": [
      "PyEDB INFO: Deleted 472 components\n"
     ]
    },
    {
     "name": "stderr",
     "output_type": "stream",
     "text": [
      "INFO:Edb:Deleted 472 components\n"
     ]
    },
    {
     "name": "stdout",
     "output_type": "stream",
     "text": [
      "PyEDB INFO: Single Pins components deleted Elapsed time: 0m 0sec\n"
     ]
    },
    {
     "name": "stderr",
     "output_type": "stream",
     "text": [
      "INFO:Edb:Single Pins components deleted Elapsed time: 0m 0sec\n"
     ]
    },
    {
     "name": "stdout",
     "output_type": "stream",
     "text": [
      "PyEDB INFO: Cutout completed. Elapsed time: 0m 5sec\n"
     ]
    },
    {
     "name": "stderr",
     "output_type": "stream",
     "text": [
      "INFO:Edb:Cutout completed. Elapsed time: 0m 5sec\n"
     ]
    },
    {
     "name": "stdout",
     "output_type": "stream",
     "text": [
      "PyEDB INFO: EDB file save completed in 0.0636 seconds.\n"
     ]
    },
    {
     "name": "stderr",
     "output_type": "stream",
     "text": [
      "INFO:Edb:EDB file save completed in 0.0636 seconds.\n"
     ]
    },
    {
     "name": "stdout",
     "output_type": "stream",
     "text": [
      "PyEDB INFO: Cutout completed in 1 iterations with expansion size of (0.001)*(1000.0)mm Elapsed time: 0m 5sec\n"
     ]
    },
    {
     "name": "stderr",
     "output_type": "stream",
     "text": [
      "INFO:Edb:Cutout completed in 1 iterations with expansion size of (0.001)*(1000.0)mm Elapsed time: 0m 5sec\n"
     ]
    },
    {
     "name": "stdout",
     "output_type": "stream",
     "text": [
      "PyEDB INFO: Cutout processed.\n"
     ]
    },
    {
     "name": "stderr",
     "output_type": "stream",
     "text": [
      "INFO:Edb:Cutout processed.\n"
     ]
    },
    {
     "name": "stdout",
     "output_type": "stream",
     "text": [
      "PyEDB INFO: Deleting existing ports.\n"
     ]
    },
    {
     "name": "stderr",
     "output_type": "stream",
     "text": [
      "INFO:Edb:Deleting existing ports.\n"
     ]
    },
    {
     "name": "stdout",
     "output_type": "stream",
     "text": [
      "PyEDB INFO: Creating HFSS ports for signal nets.\n"
     ]
    },
    {
     "name": "stderr",
     "output_type": "stream",
     "text": [
      "INFO:Edb:Creating HFSS ports for signal nets.\n"
     ]
    },
    {
     "name": "stdout",
     "output_type": "stream",
     "text": [
      "PyEDB INFO: Number of ports: 8\n"
     ]
    },
    {
     "name": "stderr",
     "output_type": "stream",
     "text": [
      "INFO:Edb:Number of ports: 8\n"
     ]
    },
    {
     "name": "stdout",
     "output_type": "stream",
     "text": [
      "PyEDB INFO: Configure HFSS extents.\n"
     ]
    },
    {
     "name": "stderr",
     "output_type": "stream",
     "text": [
      "INFO:Edb:Configure HFSS extents.\n"
     ]
    },
    {
     "name": "stdout",
     "output_type": "stream",
     "text": [
      "PyEDB INFO: Adding frequency sweep\n"
     ]
    },
    {
     "name": "stderr",
     "output_type": "stream",
     "text": [
      "INFO:Edb:Adding frequency sweep\n"
     ]
    },
    {
     "name": "stdout",
     "output_type": "stream",
     "text": [
      "PyEDB INFO: Padstack definition with zero plating ratio, defaulting to 20%\n"
     ]
    },
    {
     "name": "stderr",
     "output_type": "stream",
     "text": [
      "INFO:Edb:Padstack definition with zero plating ratio, defaulting to 20%\n"
     ]
    },
    {
     "name": "stdout",
     "output_type": "stream",
     "text": [
      "PyEDB INFO: Padstack definition with zero plating ratio, defaulting to 20%\n"
     ]
    },
    {
     "name": "stderr",
     "output_type": "stream",
     "text": [
      "INFO:Edb:Padstack definition with zero plating ratio, defaulting to 20%\n"
     ]
    },
    {
     "name": "stdout",
     "output_type": "stream",
     "text": [
      "PyEDB INFO: Padstack definition with zero plating ratio, defaulting to 20%\n"
     ]
    },
    {
     "name": "stderr",
     "output_type": "stream",
     "text": [
      "INFO:Edb:Padstack definition with zero plating ratio, defaulting to 20%\n"
     ]
    },
    {
     "name": "stdout",
     "output_type": "stream",
     "text": [
      "PyEDB INFO: Padstack definition with zero plating ratio, defaulting to 20%\n"
     ]
    },
    {
     "name": "stderr",
     "output_type": "stream",
     "text": [
      "INFO:Edb:Padstack definition with zero plating ratio, defaulting to 20%\n"
     ]
    },
    {
     "name": "stdout",
     "output_type": "stream",
     "text": [
      "PyEDB INFO: Padstack definition with zero plating ratio, defaulting to 20%\n"
     ]
    },
    {
     "name": "stderr",
     "output_type": "stream",
     "text": [
      "INFO:Edb:Padstack definition with zero plating ratio, defaulting to 20%\n"
     ]
    },
    {
     "name": "stdout",
     "output_type": "stream",
     "text": [
      "PyEDB INFO: Padstack definition with zero plating ratio, defaulting to 20%\n"
     ]
    },
    {
     "name": "stderr",
     "output_type": "stream",
     "text": [
      "INFO:Edb:Padstack definition with zero plating ratio, defaulting to 20%\n"
     ]
    },
    {
     "name": "stdout",
     "output_type": "stream",
     "text": [
      "PyEDB INFO: Save Edb file completed in 0.0475 seconds.\n"
     ]
    },
    {
     "name": "stderr",
     "output_type": "stream",
     "text": [
      "INFO:Edb:Save Edb file completed in 0.0475 seconds.\n"
     ]
    },
    {
     "data": {
      "text/plain": [
       "True"
      ]
     },
     "execution_count": 4,
     "metadata": {},
     "output_type": "execute_result"
    }
   ],
   "source": [
    "edb.build_simulation_project(simulation_configuration)"
   ]
  },
  {
   "cell_type": "markdown",
   "id": "e6eff5b3",
   "metadata": {},
   "source": [
    "## Parameterize\n",
    "\n",
    "The layout can automatically be set up to enable parametric studies. For example, the\n",
    "impact of antipad diameter or trace width on signal integrity performance may be invested\n",
    "parametrically."
   ]
  },
  {
   "cell_type": "code",
   "execution_count": 5,
   "id": "1eb7fa0b",
   "metadata": {
    "execution": {
     "iopub.execute_input": "2025-10-30T04:16:34.935141Z",
     "iopub.status.busy": "2025-10-30T04:16:34.935141Z",
     "iopub.status.idle": "2025-10-30T04:16:35.425016Z",
     "shell.execute_reply": "2025-10-30T04:16:35.425016Z"
    }
   },
   "outputs": [
    {
     "name": "stdout",
     "output_type": "stream",
     "text": [
      "PyEDB INFO: Save Edb file completed in 0.0473 seconds.\n"
     ]
    },
    {
     "name": "stderr",
     "output_type": "stream",
     "text": [
      "INFO:Edb:Save Edb file completed in 0.0473 seconds.\n"
     ]
    },
    {
     "name": "stdout",
     "output_type": "stream",
     "text": [
      "PyEDB INFO: Close Edb file completed in 0.0789 seconds.\n"
     ]
    },
    {
     "name": "stderr",
     "output_type": "stream",
     "text": [
      "INFO:Edb:Close Edb file completed in 0.0789 seconds.\n"
     ]
    },
    {
     "data": {
      "text/plain": [
       "True"
      ]
     },
     "execution_count": 5,
     "metadata": {},
     "output_type": "execute_result"
    }
   ],
   "source": [
    "edb.auto_parametrize_design(layers=True, materials=True, via_holes=True, pads=True, antipads=True, traces=True)\n",
    "edb.save_edb()\n",
    "edb.close_edb()"
   ]
  },
  {
   "cell_type": "markdown",
   "id": "5a679900",
   "metadata": {},
   "source": [
    "## Open project in AEDT\n",
    "\n",
    "All manipulations thus far have been executed using the EDB API, which provides fast,\n",
    "streamlined processing of layout data in non-graphical mode. The layout and simulation\n",
    "setup can be visualized by opening it using the 3D Layout editor in AEDT.\n",
    "\n",
    "Note that there may be some delay while AEDT is being launched."
   ]
  },
  {
   "cell_type": "code",
   "execution_count": 6,
   "id": "55a121f0",
   "metadata": {
    "execution": {
     "iopub.execute_input": "2025-10-30T04:16:35.425016Z",
     "iopub.status.busy": "2025-10-30T04:16:35.425016Z",
     "iopub.status.idle": "2025-10-30T04:17:10.978329Z",
     "shell.execute_reply": "2025-10-30T04:17:10.977650Z"
    }
   },
   "outputs": [
    {
     "name": "stdout",
     "output_type": "stream",
     "text": [
      "PyAEDT WARNING: Argument `projectname` is deprecated for method `__init__`; use `project` instead.\n"
     ]
    },
    {
     "name": "stderr",
     "output_type": "stream",
     "text": [
      "WARNING:Global:Argument `projectname` is deprecated for method `__init__`; use `project` instead.\n"
     ]
    },
    {
     "name": "stdout",
     "output_type": "stream",
     "text": [
      "PyAEDT WARNING: Argument `specified_version` is deprecated for method `__init__`; use `version` instead.\n"
     ]
    },
    {
     "name": "stderr",
     "output_type": "stream",
     "text": [
      "WARNING:Global:Argument `specified_version` is deprecated for method `__init__`; use `version` instead.\n"
     ]
    },
    {
     "name": "stdout",
     "output_type": "stream",
     "text": [
      "PyAEDT WARNING: Argument `new_desktop_session` is deprecated for method `__init__`; use `new_desktop` instead.\n"
     ]
    },
    {
     "name": "stderr",
     "output_type": "stream",
     "text": [
      "WARNING:Global:Argument `new_desktop_session` is deprecated for method `__init__`; use `new_desktop` instead.\n"
     ]
    },
    {
     "name": "stdout",
     "output_type": "stream",
     "text": [
      "PyAEDT INFO: Python version 3.10.11 (tags/v3.10.11:7d4cc5a, Apr  5 2023, 00:38:17) [MSC v.1929 64 bit (AMD64)].\n"
     ]
    },
    {
     "name": "stderr",
     "output_type": "stream",
     "text": [
      "INFO:Global:Python version 3.10.11 (tags/v3.10.11:7d4cc5a, Apr  5 2023, 00:38:17) [MSC v.1929 64 bit (AMD64)].\n"
     ]
    },
    {
     "name": "stdout",
     "output_type": "stream",
     "text": [
      "PyAEDT INFO: PyAEDT version 0.22.dev0.\n"
     ]
    },
    {
     "name": "stderr",
     "output_type": "stream",
     "text": [
      "INFO:Global:PyAEDT version 0.22.dev0.\n"
     ]
    },
    {
     "name": "stdout",
     "output_type": "stream",
     "text": [
      "PyAEDT INFO: Initializing new Desktop session.\n"
     ]
    },
    {
     "name": "stderr",
     "output_type": "stream",
     "text": [
      "INFO:Global:Initializing new Desktop session.\n"
     ]
    },
    {
     "name": "stdout",
     "output_type": "stream",
     "text": [
      "PyAEDT INFO: Log on console is enabled.\n"
     ]
    },
    {
     "name": "stderr",
     "output_type": "stream",
     "text": [
      "INFO:Global:Log on console is enabled.\n"
     ]
    },
    {
     "name": "stdout",
     "output_type": "stream",
     "text": [
      "PyAEDT INFO: Log on file C:\\Users\\ansys\\AppData\\Local\\Temp\\pyaedt_ansys_fc16846d-6144-44dd-82ce-8addf7ba1320.log is enabled.\n"
     ]
    },
    {
     "name": "stderr",
     "output_type": "stream",
     "text": [
      "INFO:Global:Log on file C:\\Users\\ansys\\AppData\\Local\\Temp\\pyaedt_ansys_fc16846d-6144-44dd-82ce-8addf7ba1320.log is enabled.\n"
     ]
    },
    {
     "name": "stdout",
     "output_type": "stream",
     "text": [
      "PyAEDT INFO: Log on AEDT is disabled.\n"
     ]
    },
    {
     "name": "stderr",
     "output_type": "stream",
     "text": [
      "INFO:Global:Log on AEDT is disabled.\n"
     ]
    },
    {
     "name": "stdout",
     "output_type": "stream",
     "text": [
      "PyAEDT INFO: Debug logger is disabled. PyAEDT methods will not be logged.\n"
     ]
    },
    {
     "name": "stderr",
     "output_type": "stream",
     "text": [
      "INFO:Global:Debug logger is disabled. PyAEDT methods will not be logged.\n"
     ]
    },
    {
     "name": "stdout",
     "output_type": "stream",
     "text": [
      "PyAEDT INFO: Launching PyAEDT with gRPC plugin.\n"
     ]
    },
    {
     "name": "stderr",
     "output_type": "stream",
     "text": [
      "INFO:Global:Launching PyAEDT with gRPC plugin.\n"
     ]
    },
    {
     "name": "stdout",
     "output_type": "stream",
     "text": [
      "PyAEDT INFO: New AEDT session is starting on gRPC port 65254.\n"
     ]
    },
    {
     "name": "stderr",
     "output_type": "stream",
     "text": [
      "INFO:Global:New AEDT session is starting on gRPC port 65254.\n"
     ]
    },
    {
     "name": "stdout",
     "output_type": "stream",
     "text": [
      "PyAEDT INFO: Electronics Desktop started on gRPC port: 65254 after 10.766238689422607 seconds.\n"
     ]
    },
    {
     "name": "stderr",
     "output_type": "stream",
     "text": [
      "INFO:Global:Electronics Desktop started on gRPC port: 65254 after 10.766238689422607 seconds.\n"
     ]
    },
    {
     "name": "stdout",
     "output_type": "stream",
     "text": [
      "PyAEDT INFO: AEDT installation Path C:\\Program Files\\ANSYS Inc\\v252\\AnsysEM\n"
     ]
    },
    {
     "name": "stderr",
     "output_type": "stream",
     "text": [
      "INFO:Global:AEDT installation Path C:\\Program Files\\ANSYS Inc\\v252\\AnsysEM\n"
     ]
    },
    {
     "name": "stdout",
     "output_type": "stream",
     "text": [
      "PyAEDT INFO: Ansoft.ElectronicsDesktop.2025.2 version started with process ID 6568.\n"
     ]
    },
    {
     "name": "stderr",
     "output_type": "stream",
     "text": [
      "INFO:Global:Ansoft.ElectronicsDesktop.2025.2 version started with process ID 6568.\n"
     ]
    },
    {
     "name": "stdout",
     "output_type": "stream",
     "text": [
      "PyAEDT INFO: EDB folder C:\\Users\\ansys\\AppData\\Local\\Temp\\tmp0jmlzph3.ansys\\edb/ANSYS-HSD_V1.aedb has been imported to project ANSYS-HSD_V1\n"
     ]
    },
    {
     "name": "stderr",
     "output_type": "stream",
     "text": [
      "INFO:Global:EDB folder C:\\Users\\ansys\\AppData\\Local\\Temp\\tmp0jmlzph3.ansys\\edb/ANSYS-HSD_V1.aedb has been imported to project ANSYS-HSD_V1\n"
     ]
    },
    {
     "name": "stdout",
     "output_type": "stream",
     "text": [
      "PyAEDT INFO: Active Design set to 0;main\n"
     ]
    },
    {
     "name": "stderr",
     "output_type": "stream",
     "text": [
      "INFO:Global:Active Design set to 0;main\n"
     ]
    },
    {
     "name": "stdout",
     "output_type": "stream",
     "text": [
      "PyAEDT INFO: Active Design set to 0;main\n"
     ]
    },
    {
     "name": "stderr",
     "output_type": "stream",
     "text": [
      "INFO:Global:Active Design set to 0;main\n"
     ]
    },
    {
     "name": "stdout",
     "output_type": "stream",
     "text": [
      "PyAEDT INFO: Aedt Objects correctly read\n"
     ]
    },
    {
     "name": "stderr",
     "output_type": "stream",
     "text": [
      "INFO:Global:Aedt Objects correctly read\n"
     ]
    }
   ],
   "source": [
    "hfss = ansys.aedt.core.Hfss3dLayout(\n",
    "    projectname=target_aedb,\n",
    "    specified_version=edb_version,\n",
    "    non_graphical=False,\n",
    "    new_desktop_session=True,\n",
    ")"
   ]
  },
  {
   "cell_type": "markdown",
   "id": "166ca6b1",
   "metadata": {},
   "source": [
    "The following cell can be used to ensure that the design is valid for simulation."
   ]
  },
  {
   "cell_type": "code",
   "execution_count": 7,
   "id": "8c15e051",
   "metadata": {
    "execution": {
     "iopub.execute_input": "2025-10-30T04:17:11.991531Z",
     "iopub.status.busy": "2025-10-30T04:17:11.991531Z",
     "iopub.status.idle": "2025-10-30T04:17:15.368768Z",
     "shell.execute_reply": "2025-10-30T04:17:15.368768Z"
    }
   },
   "outputs": [
    {
     "name": "stdout",
     "output_type": "stream",
     "text": [
      "PyAEDT INFO: #### Design Validation Checks###\n"
     ]
    },
    {
     "name": "stderr",
     "output_type": "stream",
     "text": [
      "INFO:Global:#### Design Validation Checks###\n"
     ]
    },
    {
     "name": "stdout",
     "output_type": "stream",
     "text": [
      "PyAEDT INFO: **** Validation Completed Correctly\n"
     ]
    },
    {
     "name": "stderr",
     "output_type": "stream",
     "text": [
      "INFO:Global:**** Validation Completed Correctly\n"
     ]
    },
    {
     "name": "stdout",
     "output_type": "stream",
     "text": [
      "PyAEDT INFO: Ports Requested: None\n"
     ]
    },
    {
     "name": "stderr",
     "output_type": "stream",
     "text": [
      "INFO:Global:Ports Requested: None\n"
     ]
    },
    {
     "name": "stdout",
     "output_type": "stream",
     "text": [
      "PyAEDT INFO: Ports Defined: 8\n"
     ]
    },
    {
     "name": "stderr",
     "output_type": "stream",
     "text": [
      "INFO:Global:Ports Defined: 8\n"
     ]
    },
    {
     "name": "stdout",
     "output_type": "stream",
     "text": [
      "PyAEDT INFO: Excitation name: U1.AN26.PCIe_Gen4_RX0_N\n"
     ]
    },
    {
     "name": "stderr",
     "output_type": "stream",
     "text": [
      "INFO:Global:Excitation name: U1.AN26.PCIe_Gen4_RX0_N\n"
     ]
    },
    {
     "name": "stdout",
     "output_type": "stream",
     "text": [
      "PyAEDT INFO: Excitation name: U1.AP25.PCIe_Gen4_RX1_N\n"
     ]
    },
    {
     "name": "stderr",
     "output_type": "stream",
     "text": [
      "INFO:Global:Excitation name: U1.AP25.PCIe_Gen4_RX1_N\n"
     ]
    },
    {
     "name": "stdout",
     "output_type": "stream",
     "text": [
      "PyAEDT INFO: Excitation name: U1.AP26.PCIe_Gen4_RX0_P\n"
     ]
    },
    {
     "name": "stderr",
     "output_type": "stream",
     "text": [
      "INFO:Global:Excitation name: U1.AP26.PCIe_Gen4_RX0_P\n"
     ]
    },
    {
     "name": "stdout",
     "output_type": "stream",
     "text": [
      "PyAEDT INFO: Excitation name: U1.AR25.PCIe_Gen4_RX1_P\n"
     ]
    },
    {
     "name": "stderr",
     "output_type": "stream",
     "text": [
      "INFO:Global:Excitation name: U1.AR25.PCIe_Gen4_RX1_P\n"
     ]
    },
    {
     "name": "stdout",
     "output_type": "stream",
     "text": [
      "PyAEDT INFO: Excitation name: X1.A2.PCIe_Gen4_RX0_P\n"
     ]
    },
    {
     "name": "stderr",
     "output_type": "stream",
     "text": [
      "INFO:Global:Excitation name: X1.A2.PCIe_Gen4_RX0_P\n"
     ]
    },
    {
     "name": "stdout",
     "output_type": "stream",
     "text": [
      "PyAEDT INFO: Excitation name: X1.A3.PCIe_Gen4_RX0_N\n"
     ]
    },
    {
     "name": "stderr",
     "output_type": "stream",
     "text": [
      "INFO:Global:Excitation name: X1.A3.PCIe_Gen4_RX0_N\n"
     ]
    },
    {
     "name": "stdout",
     "output_type": "stream",
     "text": [
      "PyAEDT INFO: Excitation name: X1.A5.PCIe_Gen4_RX1_P\n"
     ]
    },
    {
     "name": "stderr",
     "output_type": "stream",
     "text": [
      "INFO:Global:Excitation name: X1.A5.PCIe_Gen4_RX1_P\n"
     ]
    },
    {
     "name": "stdout",
     "output_type": "stream",
     "text": [
      "PyAEDT INFO: Excitation name: X1.A6.PCIe_Gen4_RX1_N\n"
     ]
    },
    {
     "name": "stderr",
     "output_type": "stream",
     "text": [
      "INFO:Global:Excitation name: X1.A6.PCIe_Gen4_RX1_N\n"
     ]
    }
   ],
   "source": [
    "validation_info = hfss.validate_full_design()\n",
    "is_ready_to_simulate = True"
   ]
  },
  {
   "cell_type": "code",
   "execution_count": 8,
   "id": "0cf9e8f8",
   "metadata": {
    "execution": {
     "iopub.execute_input": "2025-10-30T04:17:15.368768Z",
     "iopub.status.busy": "2025-10-30T04:17:15.368768Z",
     "iopub.status.idle": "2025-10-30T04:17:15.384658Z",
     "shell.execute_reply": "2025-10-30T04:17:15.384658Z"
    }
   },
   "outputs": [
    {
     "name": "stdout",
     "output_type": "stream",
     "text": [
      "The model is ready for simulation.\n"
     ]
    }
   ],
   "source": [
    "for s in validation_info[0]:\n",
    "    if \"error\" in s:\n",
    "        print(s)\n",
    "        is_ready_to_simulate = False\n",
    "\n",
    "if is_ready_to_simulate:\n",
    "    print(\"The model is ready for simulation.\")\n",
    "else:\n",
    "    print(\"There are errors in the model that must be fixed.\")"
   ]
  },
  {
   "cell_type": "markdown",
   "id": "c3a90d3f",
   "metadata": {},
   "source": [
    "## Release the application from the Python kernel\n",
    "\n",
    "It is important to release the application from the Python kernel after\n",
    "execution of the script. The default behavior of the ``release_desktop()`` method closes all open\n",
    "projects and closes the application.\n",
    "\n",
    "If you want to continue working on the project in graphical mode\n",
    "after script execution, call the following method with both arguments set to ``False``."
   ]
  },
  {
   "cell_type": "code",
   "execution_count": 9,
   "id": "02802f6e",
   "metadata": {
    "execution": {
     "iopub.execute_input": "2025-10-30T04:17:15.384658Z",
     "iopub.status.busy": "2025-10-30T04:17:15.384658Z",
     "iopub.status.idle": "2025-10-30T04:17:29.316972Z",
     "shell.execute_reply": "2025-10-30T04:17:29.316972Z"
    }
   },
   "outputs": [
    {
     "name": "stdout",
     "output_type": "stream",
     "text": [
      "PyAEDT INFO: Desktop has been released and closed.\n"
     ]
    },
    {
     "name": "stderr",
     "output_type": "stream",
     "text": [
      "INFO:Global:Desktop has been released and closed.\n"
     ]
    }
   ],
   "source": [
    "hfss.release_desktop(close_projects=True, close_desktop=True)\n",
    "temp_dir.cleanup()  # Remove the temporary folder and files. All data will be removd!"
   ]
  }
 ],
 "metadata": {
  "jupytext": {
   "cell_metadata_filter": "-all",
   "main_language": "python",
   "notebook_metadata_filter": "-all"
  },
  "language_info": {
   "codemirror_mode": {
    "name": "ipython",
    "version": 3
   },
   "file_extension": ".py",
   "mimetype": "text/x-python",
   "name": "python",
   "nbconvert_exporter": "python",
   "pygments_lexer": "ipython3",
   "version": "3.10.11"
  }
 },
 "nbformat": 4,
 "nbformat_minor": 5
}
