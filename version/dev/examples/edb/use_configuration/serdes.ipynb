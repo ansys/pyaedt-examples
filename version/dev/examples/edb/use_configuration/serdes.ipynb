{
 "cells": [
  {
   "cell_type": "markdown",
   "id": "1c10c540",
   "metadata": {},
   "source": [
    "# Set up EDB for Serdes channel S-parameter extraction"
   ]
  },
  {
   "cell_type": "markdown",
   "id": "31804811",
   "metadata": {},
   "source": [
    "## Perform imports and define constants\n",
    "\n",
    "Perform required imports."
   ]
  },
  {
   "cell_type": "code",
   "execution_count": 1,
   "id": "d917d37e",
   "metadata": {
    "execution": {
     "iopub.execute_input": "2025-10-30T04:17:34.871059Z",
     "iopub.status.busy": "2025-10-30T04:17:34.871059Z",
     "iopub.status.idle": "2025-10-30T04:17:37.957861Z",
     "shell.execute_reply": "2025-10-30T04:17:37.957861Z"
    }
   },
   "outputs": [],
   "source": [
    "import json\n",
    "import os\n",
    "import tempfile\n",
    "\n",
    "from ansys.aedt.core import Hfss3dLayout\n",
    "from ansys.aedt.core.examples.downloads import download_file\n",
    "from pyedb import Edb"
   ]
  },
  {
   "cell_type": "markdown",
   "id": "280627ee",
   "metadata": {},
   "source": [
    "Define constants."
   ]
  },
  {
   "cell_type": "code",
   "execution_count": 2,
   "id": "5ad5fadf",
   "metadata": {
    "execution": {
     "iopub.execute_input": "2025-10-30T04:17:37.957861Z",
     "iopub.status.busy": "2025-10-30T04:17:37.957861Z",
     "iopub.status.idle": "2025-10-30T04:17:37.973662Z",
     "shell.execute_reply": "2025-10-30T04:17:37.973662Z"
    }
   },
   "outputs": [],
   "source": [
    "AEDT_VERSION = \"2025.2\"\n",
    "NG_MODE = False"
   ]
  },
  {
   "cell_type": "markdown",
   "id": "5247cf10",
   "metadata": {},
   "source": [
    "Download the example PCB data."
   ]
  },
  {
   "cell_type": "code",
   "execution_count": 3,
   "id": "a745f943",
   "metadata": {
    "execution": {
     "iopub.execute_input": "2025-10-30T04:17:37.973662Z",
     "iopub.status.busy": "2025-10-30T04:17:37.973662Z",
     "iopub.status.idle": "2025-10-30T04:17:39.722066Z",
     "shell.execute_reply": "2025-10-30T04:17:39.722066Z"
    }
   },
   "outputs": [
    {
     "data": {
      "text/plain": [
       "'C:\\\\Users\\\\ansys\\\\AppData\\\\Local\\\\Temp\\\\tmpqle8qgf8.ansys\\\\edb\\\\touchstone\\\\GRM32_DC0V_25degC_series.s2p'"
      ]
     },
     "execution_count": 3,
     "metadata": {},
     "output_type": "execute_result"
    }
   ],
   "source": [
    "temp_folder = tempfile.TemporaryDirectory(suffix=\".ansys\")\n",
    "file_edb = download_file(source=\"edb/ANSYS-HSD_V1.aedb\", local_path=temp_folder.name)\n",
    "download_file(source=\"touchstone\", name=\"GRM32_DC0V_25degC_series.s2p\", local_path=os.path.split(file_edb)[0])"
   ]
  },
  {
   "cell_type": "markdown",
   "id": "e17636d7",
   "metadata": {},
   "source": [
    "## Load example layout"
   ]
  },
  {
   "cell_type": "code",
   "execution_count": 4,
   "id": "e7d262ac",
   "metadata": {
    "execution": {
     "iopub.execute_input": "2025-10-30T04:17:39.725999Z",
     "iopub.status.busy": "2025-10-30T04:17:39.725999Z",
     "iopub.status.idle": "2025-10-30T04:17:52.239542Z",
     "shell.execute_reply": "2025-10-30T04:17:52.239542Z"
    }
   },
   "outputs": [
    {
     "name": "stderr",
     "output_type": "stream",
     "text": [
      "C:\\actions-runner\\_work\\pyaedt-examples\\pyaedt-examples\\.venv\\lib\\site-packages\\pyedb\\misc\\decorators.py:55: UserWarning: Argument `edbversion` is deprecated for method `Edb`; use `version` instead.\n",
      "  warnings.warn(\n",
      "C:\\actions-runner\\_work\\pyaedt-examples\\pyaedt-examples\\.venv\\lib\\site-packages\\pyedb\\generic\\design_types.py:301: UserWarning: Your ANSYS AEDT version is eligible to gRPC version.You might consider switching to that version for better user experience.For more information please check this link: https://edb.docs.pyansys.com/version/dev/grpc_api/index.html\n",
      "  warnings.warn(GRPC_GENERAL_WARNING, UserWarning)\n"
     ]
    },
    {
     "name": "stdout",
     "output_type": "stream",
     "text": [
      "PyEDB INFO: Star initializing Edb 04:17:43.052660\n"
     ]
    },
    {
     "name": "stderr",
     "output_type": "stream",
     "text": [
      "INFO:Edb:Star initializing Edb 04:17:43.052660\n"
     ]
    },
    {
     "name": "stdout",
     "output_type": "stream",
     "text": [
      "PyEDB INFO: Edb version 2025.2\n"
     ]
    },
    {
     "name": "stderr",
     "output_type": "stream",
     "text": [
      "INFO:Edb:Edb version 2025.2\n"
     ]
    },
    {
     "name": "stdout",
     "output_type": "stream",
     "text": [
      "PyEDB INFO: Logger is initialized. Log file is saved to C:\\Users\\ansys\\AppData\\Local\\Temp\\pyedb_ansys.log.\n"
     ]
    },
    {
     "name": "stderr",
     "output_type": "stream",
     "text": [
      "INFO:Edb:Logger is initialized. Log file is saved to C:\\Users\\ansys\\AppData\\Local\\Temp\\pyedb_ansys.log.\n"
     ]
    },
    {
     "name": "stdout",
     "output_type": "stream",
     "text": [
      "PyEDB INFO: legacy v0.61.0\n"
     ]
    },
    {
     "name": "stderr",
     "output_type": "stream",
     "text": [
      "INFO:Edb:legacy v0.61.0\n"
     ]
    },
    {
     "name": "stdout",
     "output_type": "stream",
     "text": [
      "PyEDB INFO: Python version 3.10.11 (tags/v3.10.11:7d4cc5a, Apr  5 2023, 00:38:17) [MSC v.1929 64 bit (AMD64)]\n"
     ]
    },
    {
     "name": "stderr",
     "output_type": "stream",
     "text": [
      "INFO:Edb:Python version 3.10.11 (tags/v3.10.11:7d4cc5a, Apr  5 2023, 00:38:17) [MSC v.1929 64 bit (AMD64)]\n"
     ]
    },
    {
     "name": "stdout",
     "output_type": "stream",
     "text": [
      "PyEDB INFO: Database ANSYS-HSD_V1.aedb Opened in 2025.2\n"
     ]
    },
    {
     "name": "stderr",
     "output_type": "stream",
     "text": [
      "INFO:Edb:Database ANSYS-HSD_V1.aedb Opened in 2025.2\n"
     ]
    },
    {
     "name": "stdout",
     "output_type": "stream",
     "text": [
      "PyEDB INFO: Cell main Opened\n"
     ]
    },
    {
     "name": "stderr",
     "output_type": "stream",
     "text": [
      "INFO:Edb:Cell main Opened\n"
     ]
    },
    {
     "name": "stdout",
     "output_type": "stream",
     "text": [
      "PyEDB INFO: Builder was initialized.\n"
     ]
    },
    {
     "name": "stderr",
     "output_type": "stream",
     "text": [
      "INFO:Edb:Builder was initialized.\n"
     ]
    },
    {
     "name": "stdout",
     "output_type": "stream",
     "text": [
      "PyEDB INFO: open_edb completed in 9.1076 seconds.\n"
     ]
    },
    {
     "name": "stderr",
     "output_type": "stream",
     "text": [
      "INFO:Edb:open_edb completed in 9.1076 seconds.\n"
     ]
    },
    {
     "name": "stdout",
     "output_type": "stream",
     "text": [
      "PyEDB INFO: EDB initialization completed in 9.1709 seconds.\n"
     ]
    },
    {
     "name": "stderr",
     "output_type": "stream",
     "text": [
      "INFO:Edb:EDB initialization completed in 9.1709 seconds.\n"
     ]
    }
   ],
   "source": [
    "edbapp = Edb(file_edb, edbversion=AEDT_VERSION)"
   ]
  },
  {
   "cell_type": "markdown",
   "id": "ea05e557",
   "metadata": {},
   "source": [
    "## Create config file"
   ]
  },
  {
   "cell_type": "code",
   "execution_count": 5,
   "id": "a3680d1e",
   "metadata": {
    "execution": {
     "iopub.execute_input": "2025-10-30T04:17:54.239849Z",
     "iopub.status.busy": "2025-10-30T04:17:54.239849Z",
     "iopub.status.idle": "2025-10-30T04:17:54.255910Z",
     "shell.execute_reply": "2025-10-30T04:17:54.255910Z"
    }
   },
   "outputs": [],
   "source": [
    "cfg_general = {\"anti_pads_always_on\": True, \"suppress_pads\": True}"
   ]
  },
  {
   "cell_type": "markdown",
   "id": "dfbf50f7",
   "metadata": {},
   "source": [
    "Define dielectric materials, stackup and surface roughness model."
   ]
  },
  {
   "cell_type": "code",
   "execution_count": 6,
   "id": "d62ee0e4",
   "metadata": {
    "execution": {
     "iopub.execute_input": "2025-10-30T04:17:54.260067Z",
     "iopub.status.busy": "2025-10-30T04:17:54.260067Z",
     "iopub.status.idle": "2025-10-30T04:17:54.271545Z",
     "shell.execute_reply": "2025-10-30T04:17:54.271545Z"
    }
   },
   "outputs": [],
   "source": [
    "cfg_stackup = {\n",
    "    \"materials\": [\n",
    "        {\"name\": \"copper\", \"permittivity\": 1, \"conductivity\": 58000000.0},\n",
    "        {\"name\": \"megtron4\", \"permittivity\": 3.77, \"dielectric_loss_tangent\": 0.005},\n",
    "        {\"name\": \"solder_resist\", \"permittivity\": 3.0, \"dielectric_loss_tangent\": 0.035},\n",
    "    ],\n",
    "    \"layers\": [\n",
    "        {\n",
    "            \"name\": \"Top\",\n",
    "            \"type\": \"signal\",\n",
    "            \"material\": \"copper\",\n",
    "            \"fill_material\": \"solder_resist\",\n",
    "            \"thickness\": \"0.035mm\",\n",
    "            \"roughness\": {\n",
    "                \"top\": {\"model\": \"huray\", \"nodule_radius\": \"0.5um\", \"surface_ratio\": \"5\"},\n",
    "                \"bottom\": {\"model\": \"huray\", \"nodule_radius\": \"0.5um\", \"surface_ratio\": \"5\"},\n",
    "                \"side\": {\"model\": \"huray\", \"nodule_radius\": \"0.5um\", \"surface_ratio\": \"5\"},\n",
    "                \"enabled\": True,\n",
    "            },\n",
    "        },\n",
    "        {\"name\": \"DE1\", \"type\": \"dielectric\", \"material\": \"megtron4\", \"fill_material\": \"\", \"thickness\": \"0.1mm\"},\n",
    "        {\"name\": \"Inner1\", \"type\": \"signal\", \"material\": \"copper\", \"fill_material\": \"megtron4\", \"thickness\": \"0.017mm\"},\n",
    "        {\"name\": \"DE2\", \"type\": \"dielectric\", \"material\": \"megtron4\", \"fill_material\": \"\", \"thickness\": \"0.088mm\"},\n",
    "        {\"name\": \"Inner2\", \"type\": \"signal\", \"material\": \"copper\", \"fill_material\": \"megtron4\", \"thickness\": \"0.017mm\"},\n",
    "        {\"name\": \"DE3\", \"type\": \"dielectric\", \"material\": \"megtron4\", \"fill_material\": \"\", \"thickness\": \"0.1mm\"},\n",
    "        {\"name\": \"Inner3\", \"type\": \"signal\", \"material\": \"copper\", \"fill_material\": \"megtron4\", \"thickness\": \"0.017mm\"},\n",
    "        {\"name\": \"Megtron4-1mm\", \"type\": \"dielectric\", \"material\": \"megtron4\", \"fill_material\": \"\", \"thickness\": 0.001},\n",
    "        {\"name\": \"Inner4\", \"type\": \"signal\", \"material\": \"copper\", \"fill_material\": \"megtron4\", \"thickness\": \"0.017mm\"},\n",
    "        {\"name\": \"DE5\", \"type\": \"dielectric\", \"material\": \"megtron4\", \"fill_material\": \"\", \"thickness\": \"0.1mm\"},\n",
    "        {\"name\": \"Inner5\", \"type\": \"signal\", \"material\": \"copper\", \"fill_material\": \"megtron4\", \"thickness\": \"0.017mm\"},\n",
    "        {\"name\": \"DE6\", \"type\": \"dielectric\", \"material\": \"megtron4\", \"fill_material\": \"\", \"thickness\": \"0.088mm\"},\n",
    "        {\"name\": \"Inner6\", \"type\": \"signal\", \"material\": \"copper\", \"fill_material\": \"megtron4\", \"thickness\": \"0.017mm\"},\n",
    "        {\"name\": \"DE7\", \"type\": \"dielectric\", \"material\": \"megtron4\", \"fill_material\": \"\", \"thickness\": \"0.1mm\"},\n",
    "        {\n",
    "            \"name\": \"Bottom\",\n",
    "            \"type\": \"signal\",\n",
    "            \"material\": \"copper\",\n",
    "            \"fill_material\": \"solder_resist\",\n",
    "            \"thickness\": \"0.035mm\",\n",
    "        },\n",
    "    ],\n",
    "}"
   ]
  },
  {
   "cell_type": "markdown",
   "id": "ba9332d1",
   "metadata": {},
   "source": [
    "Define Component with solderballs."
   ]
  },
  {
   "cell_type": "code",
   "execution_count": 7,
   "id": "f2dd4ec6",
   "metadata": {
    "execution": {
     "iopub.execute_input": "2025-10-30T04:17:54.271545Z",
     "iopub.status.busy": "2025-10-30T04:17:54.271545Z",
     "iopub.status.idle": "2025-10-30T04:17:54.287511Z",
     "shell.execute_reply": "2025-10-30T04:17:54.287511Z"
    }
   },
   "outputs": [],
   "source": [
    "cfg_components = [\n",
    "    {\n",
    "        \"reference_designator\": \"U1\",\n",
    "        \"part_type\": \"io\",\n",
    "        \"solder_ball_properties\": {\"shape\": \"cylinder\", \"diameter\": \"300um\", \"height\": \"300um\"},\n",
    "        \"port_properties\": {\n",
    "            \"reference_offset\": \"0\",\n",
    "            \"reference_size_auto\": True,\n",
    "            \"reference_size_x\": 0,\n",
    "            \"reference_size_y\": 0,\n",
    "        },\n",
    "    }\n",
    "]"
   ]
  },
  {
   "cell_type": "markdown",
   "id": "bc8d5889",
   "metadata": {},
   "source": [
    "Edit via padstack definition. Add backdrilling."
   ]
  },
  {
   "cell_type": "code",
   "execution_count": 8,
   "id": "13edefdc",
   "metadata": {
    "execution": {
     "iopub.execute_input": "2025-10-30T04:17:54.287511Z",
     "iopub.status.busy": "2025-10-30T04:17:54.287511Z",
     "iopub.status.idle": "2025-10-30T04:17:54.303292Z",
     "shell.execute_reply": "2025-10-30T04:17:54.303292Z"
    }
   },
   "outputs": [],
   "source": [
    "cfg_padstacks = {\n",
    "    \"definitions\": [\n",
    "        {\n",
    "            \"name\": \"v40h15-2\",\n",
    "            \"material\": \"copper\",\n",
    "            \"hole_range\": \"upper_pad_to_lower_pad\",\n",
    "            \"hole_parameters\": {\"shape\": \"circle\", \"diameter\": \"0.2mm\"},\n",
    "        },\n",
    "        {\n",
    "            \"name\": \"v35h15-1\",\n",
    "            \"material\": \"copper\",\n",
    "            \"hole_range\": \"upper_pad_to_lower_pad\",\n",
    "            \"hole_parameters\": {\"shape\": \"circle\", \"diameter\": \"0.25mm\"},\n",
    "        },\n",
    "    ],\n",
    "    \"instances\": [\n",
    "        {\n",
    "            \"name\": \"Via313\",\n",
    "            \"backdrill_parameters\": {\n",
    "                \"from_bottom\": {\"drill_to_layer\": \"Inner3\", \"diameter\": \"1mm\", \"stub_length\": \"0.2mm\"}\n",
    "            },\n",
    "        },\n",
    "        {\n",
    "            \"name\": \"Via314\",\n",
    "            \"backdrill_parameters\": {\n",
    "                \"from_bottom\": {\"drill_to_layer\": \"Inner3\", \"diameter\": \"1mm\", \"stub_length\": \"0.2mm\"}\n",
    "            },\n",
    "        },\n",
    "    ],\n",
    "}"
   ]
  },
  {
   "cell_type": "markdown",
   "id": "43154ccd",
   "metadata": {},
   "source": [
    "Define ports."
   ]
  },
  {
   "cell_type": "code",
   "execution_count": 9,
   "id": "87892087",
   "metadata": {
    "execution": {
     "iopub.execute_input": "2025-10-30T04:17:54.303292Z",
     "iopub.status.busy": "2025-10-30T04:17:54.303292Z",
     "iopub.status.idle": "2025-10-30T04:17:54.319417Z",
     "shell.execute_reply": "2025-10-30T04:17:54.319417Z"
    }
   },
   "outputs": [],
   "source": [
    "cfg_ports = [\n",
    "    {\n",
    "        \"name\": \"port_1\",\n",
    "        \"reference_designator\": \"U1\",\n",
    "        \"type\": \"coax\",\n",
    "        \"positive_terminal\": {\"net\": \"PCIe_Gen4_TX2_CAP_P\"},\n",
    "    },\n",
    "    {\n",
    "        \"name\": \"port_2\",\n",
    "        \"reference_designator\": \"U1\",\n",
    "        \"type\": \"coax\",\n",
    "        \"positive_terminal\": {\"net\": \"PCIe_Gen4_TX2_CAP_N\"},\n",
    "    },\n",
    "    {\n",
    "        \"name\": \"port_3\",\n",
    "        \"reference_designator\": \"X1\",\n",
    "        \"type\": \"circuit\",\n",
    "        \"positive_terminal\": {\"pin\": \"B8\"},\n",
    "        \"negative_terminal\": {\"pin\": \"B7\"},\n",
    "    },\n",
    "    {\n",
    "        \"name\": \"port_4\",\n",
    "        \"reference_designator\": \"X1\",\n",
    "        \"type\": \"circuit\",\n",
    "        \"positive_terminal\": {\"pin\": \"B9\"},\n",
    "        \"negative_terminal\": {\"pin\": \"B10\"},\n",
    "    },\n",
    "]"
   ]
  },
  {
   "cell_type": "markdown",
   "id": "fd39dfcb",
   "metadata": {},
   "source": [
    "Define S-parameter assignment"
   ]
  },
  {
   "cell_type": "code",
   "execution_count": 10,
   "id": "789fa274",
   "metadata": {
    "execution": {
     "iopub.execute_input": "2025-10-30T04:17:54.319417Z",
     "iopub.status.busy": "2025-10-30T04:17:54.319417Z",
     "iopub.status.idle": "2025-10-30T04:17:54.335317Z",
     "shell.execute_reply": "2025-10-30T04:17:54.335317Z"
    }
   },
   "outputs": [],
   "source": [
    "cfg_s_parameters = [\n",
    "    {\n",
    "        \"name\": \"cap_10nf\",\n",
    "        \"file_path\": \"$PROJECTDIR\\\\touchstone\\\\GRM32_DC0V_25degC_series.s2p\",\n",
    "        \"component_definition\": \"CAPC1005X55X25LL05T10\",\n",
    "        \"components\": [\"C375\", \"C376\"],\n",
    "        \"reference_net\": \"GND\",\n",
    "    }\n",
    "]"
   ]
  },
  {
   "cell_type": "markdown",
   "id": "2b350c47",
   "metadata": {},
   "source": [
    "Define SIwave setup."
   ]
  },
  {
   "cell_type": "code",
   "execution_count": 11,
   "id": "9a29af52",
   "metadata": {
    "execution": {
     "iopub.execute_input": "2025-10-30T04:17:54.335317Z",
     "iopub.status.busy": "2025-10-30T04:17:54.335317Z",
     "iopub.status.idle": "2025-10-30T04:17:54.351164Z",
     "shell.execute_reply": "2025-10-30T04:17:54.351164Z"
    }
   },
   "outputs": [],
   "source": [
    "cfg_setups = [\n",
    "    {\n",
    "        \"name\": \"siwave_setup\",\n",
    "        \"type\": \"siwave_ac\",\n",
    "        \"si_slider_position\": 1,\n",
    "        \"freq_sweep\": [\n",
    "            {\n",
    "                \"name\": \"Sweep1\",\n",
    "                \"type\": \"interpolation\",\n",
    "                \"frequencies\": [\n",
    "                    {\"distribution\": \"linear_scale\", \"start\": \"50MHz\", \"stop\": \"20GHz\", \"increment\": \"50MHz\"}\n",
    "                ],\n",
    "            }\n",
    "        ],\n",
    "    }\n",
    "]"
   ]
  },
  {
   "cell_type": "markdown",
   "id": "8ef37ae8",
   "metadata": {},
   "source": [
    "Define cutout."
   ]
  },
  {
   "cell_type": "code",
   "execution_count": 12,
   "id": "b8482d98",
   "metadata": {
    "execution": {
     "iopub.execute_input": "2025-10-30T04:17:54.351164Z",
     "iopub.status.busy": "2025-10-30T04:17:54.351164Z",
     "iopub.status.idle": "2025-10-30T04:17:54.367213Z",
     "shell.execute_reply": "2025-10-30T04:17:54.367213Z"
    }
   },
   "outputs": [],
   "source": [
    "cfg_operations = {\n",
    "    \"cutout\": {\n",
    "        \"signal_list\": [\"PCIe_Gen4_TX2_CAP_P\", \"PCIe_Gen4_TX2_CAP_N\", \"PCIe_Gen4_TX2_P\", \"PCIe_Gen4_TX2_N\"],\n",
    "        \"reference_list\": [\"GND\"],\n",
    "        \"custom_extent\": [\n",
    "            [0.014, 0.055],\n",
    "            [0.03674271504652968, 0.05493094625752912],\n",
    "            [0.07, 0.039],\n",
    "            [0.07, 0.034],\n",
    "            [0.05609890516829415, 0.03395233061637539],\n",
    "            [0.014, 0.044],\n",
    "        ],\n",
    "    }\n",
    "}"
   ]
  },
  {
   "cell_type": "markdown",
   "id": "aafc5adf",
   "metadata": {},
   "source": [
    "Create final configuration."
   ]
  },
  {
   "cell_type": "code",
   "execution_count": 13,
   "id": "b6621b0f",
   "metadata": {
    "execution": {
     "iopub.execute_input": "2025-10-30T04:17:54.367213Z",
     "iopub.status.busy": "2025-10-30T04:17:54.367213Z",
     "iopub.status.idle": "2025-10-30T04:17:54.382956Z",
     "shell.execute_reply": "2025-10-30T04:17:54.382956Z"
    }
   },
   "outputs": [],
   "source": [
    "cfg = {\n",
    "    \"general\": cfg_general,\n",
    "    \"stackup\": cfg_stackup,\n",
    "    \"components\": cfg_components,\n",
    "    \"padstacks\": cfg_padstacks,\n",
    "    \"ports\": cfg_ports,\n",
    "    \"s_parameters\": cfg_s_parameters,\n",
    "    \"setups\": cfg_setups,\n",
    "    \"operations\": cfg_operations,\n",
    "}"
   ]
  },
  {
   "cell_type": "markdown",
   "id": "d5270bdd",
   "metadata": {},
   "source": [
    "Create the config file."
   ]
  },
  {
   "cell_type": "code",
   "execution_count": 14,
   "id": "c144cf0c",
   "metadata": {
    "execution": {
     "iopub.execute_input": "2025-10-30T04:17:54.382956Z",
     "iopub.status.busy": "2025-10-30T04:17:54.382956Z",
     "iopub.status.idle": "2025-10-30T04:17:54.398804Z",
     "shell.execute_reply": "2025-10-30T04:17:54.398804Z"
    }
   },
   "outputs": [],
   "source": [
    "file_json = os.path.join(temp_folder.name, \"edb_configuration.json\")\n",
    "with open(file_json, \"w\") as f:\n",
    "    json.dump(cfg, f, indent=4, ensure_ascii=False)"
   ]
  },
  {
   "cell_type": "markdown",
   "id": "be2dfb2e",
   "metadata": {},
   "source": [
    "## Apply Config file"
   ]
  },
  {
   "cell_type": "markdown",
   "id": "94d5d8e4",
   "metadata": {},
   "source": [
    "Apply configuration to the example layout"
   ]
  },
  {
   "cell_type": "code",
   "execution_count": 15,
   "id": "1a585966",
   "metadata": {
    "execution": {
     "iopub.execute_input": "2025-10-30T04:17:54.398804Z",
     "iopub.status.busy": "2025-10-30T04:17:54.398804Z",
     "iopub.status.idle": "2025-10-30T04:18:09.369174Z",
     "shell.execute_reply": "2025-10-30T04:18:09.369174Z"
    }
   },
   "outputs": [
    {
     "name": "stdout",
     "output_type": "stream",
     "text": [
      "PyEDB INFO: Updating boundaries finished. Time lapse 0:00:00.015774\n"
     ]
    },
    {
     "name": "stderr",
     "output_type": "stream",
     "text": [
      "INFO:Edb:Updating boundaries finished. Time lapse 0:00:00.015774\n"
     ]
    },
    {
     "name": "stdout",
     "output_type": "stream",
     "text": [
      "PyEDB INFO: Updating nets finished. Time lapse 0:00:00\n"
     ]
    },
    {
     "name": "stderr",
     "output_type": "stream",
     "text": [
      "INFO:Edb:Updating nets finished. Time lapse 0:00:00\n"
     ]
    },
    {
     "name": "stdout",
     "output_type": "stream",
     "text": [
      "PyEDB INFO: Updating components finished. Time lapse 0:00:00.015898\n"
     ]
    },
    {
     "name": "stderr",
     "output_type": "stream",
     "text": [
      "INFO:Edb:Updating components finished. Time lapse 0:00:00.015898\n"
     ]
    },
    {
     "name": "stdout",
     "output_type": "stream",
     "text": [
      "PyEDB INFO: Creating pin groups finished. Time lapse 0:00:00\n"
     ]
    },
    {
     "name": "stderr",
     "output_type": "stream",
     "text": [
      "INFO:Edb:Creating pin groups finished. Time lapse 0:00:00\n"
     ]
    },
    {
     "name": "stdout",
     "output_type": "stream",
     "text": [
      "PyEDB INFO: Placing sources finished. Time lapse 0:00:00\n"
     ]
    },
    {
     "name": "stderr",
     "output_type": "stream",
     "text": [
      "INFO:Edb:Placing sources finished. Time lapse 0:00:00\n"
     ]
    },
    {
     "name": "stdout",
     "output_type": "stream",
     "text": [
      "PyEDB INFO: Applying materials finished. Time lapse 0:00:00.016088\n"
     ]
    },
    {
     "name": "stderr",
     "output_type": "stream",
     "text": [
      "INFO:Edb:Applying materials finished. Time lapse 0:00:00.016088\n"
     ]
    },
    {
     "name": "stdout",
     "output_type": "stream",
     "text": [
      "PyEDB INFO: Updating stackup finished. Time lapse 0:00:08.403100\n"
     ]
    },
    {
     "name": "stderr",
     "output_type": "stream",
     "text": [
      "INFO:Edb:Updating stackup finished. Time lapse 0:00:08.403100\n"
     ]
    },
    {
     "name": "stdout",
     "output_type": "stream",
     "text": [
      "PyEDB INFO: Applying padstacks finished. Time lapse 0:00:00.032210\n"
     ]
    },
    {
     "name": "stderr",
     "output_type": "stream",
     "text": [
      "INFO:Edb:Applying padstacks finished. Time lapse 0:00:00.032210\n"
     ]
    },
    {
     "name": "stdout",
     "output_type": "stream",
     "text": [
      "PyEDB INFO: Applying S-parameters finished. Time lapse 0:00:00.015756\n"
     ]
    },
    {
     "name": "stderr",
     "output_type": "stream",
     "text": [
      "INFO:Edb:Applying S-parameters finished. Time lapse 0:00:00.015756\n"
     ]
    },
    {
     "name": "stdout",
     "output_type": "stream",
     "text": [
      "PyEDB INFO: Applying package definitions finished. Time lapse 0:00:00\n"
     ]
    },
    {
     "name": "stderr",
     "output_type": "stream",
     "text": [
      "INFO:Edb:Applying package definitions finished. Time lapse 0:00:00\n"
     ]
    },
    {
     "name": "stdout",
     "output_type": "stream",
     "text": [
      "PyEDB INFO: Applying modeler finished. Time lapse 0:00:00\n"
     ]
    },
    {
     "name": "stderr",
     "output_type": "stream",
     "text": [
      "INFO:Edb:Applying modeler finished. Time lapse 0:00:00\n"
     ]
    },
    {
     "name": "stdout",
     "output_type": "stream",
     "text": [
      "PyEDB INFO: Placing ports finished. Time lapse 0:00:00.316833\n"
     ]
    },
    {
     "name": "stderr",
     "output_type": "stream",
     "text": [
      "INFO:Edb:Placing ports finished. Time lapse 0:00:00.316833\n"
     ]
    },
    {
     "name": "stdout",
     "output_type": "stream",
     "text": [
      "PyEDB INFO: Placing terminals completed in 0.0000 seconds.\n"
     ]
    },
    {
     "name": "stderr",
     "output_type": "stream",
     "text": [
      "INFO:Edb:Placing terminals completed in 0.0000 seconds.\n"
     ]
    },
    {
     "name": "stdout",
     "output_type": "stream",
     "text": [
      "PyEDB INFO: Placing probes finished. Time lapse 0:00:00\n"
     ]
    },
    {
     "name": "stderr",
     "output_type": "stream",
     "text": [
      "INFO:Edb:Placing probes finished. Time lapse 0:00:00\n"
     ]
    },
    {
     "name": "stdout",
     "output_type": "stream",
     "text": [
      "PyEDB INFO: -----------------------------------------\n"
     ]
    },
    {
     "name": "stderr",
     "output_type": "stream",
     "text": [
      "C:\\actions-runner\\_work\\pyaedt-examples\\pyaedt-examples\\.venv\\lib\\site-packages\\pyedb\\misc\\decorators.py:55: UserWarning: Argument `signal_list` is deprecated for method `cutout`; use `signal_nets` instead.\n",
      "  warnings.warn(\n",
      "C:\\actions-runner\\_work\\pyaedt-examples\\pyaedt-examples\\.venv\\lib\\site-packages\\pyedb\\misc\\decorators.py:55: UserWarning: Argument `reference_list` is deprecated for method `cutout`; use `reference_nets` instead.\n",
      "  warnings.warn(\n",
      "INFO:Edb:-----------------------------------------\n"
     ]
    },
    {
     "name": "stdout",
     "output_type": "stream",
     "text": [
      "PyEDB INFO: Trying cutout with (0.002)*(1000.0)mm expansion size\n"
     ]
    },
    {
     "name": "stderr",
     "output_type": "stream",
     "text": [
      "INFO:Edb:Trying cutout with (0.002)*(1000.0)mm expansion size\n"
     ]
    },
    {
     "name": "stdout",
     "output_type": "stream",
     "text": [
      "PyEDB INFO: -----------------------------------------\n"
     ]
    },
    {
     "name": "stderr",
     "output_type": "stream",
     "text": [
      "INFO:Edb:-----------------------------------------\n"
     ]
    },
    {
     "name": "stdout",
     "output_type": "stream",
     "text": [
      "PyEDB INFO: Cutout Multithread started.\n"
     ]
    },
    {
     "name": "stderr",
     "output_type": "stream",
     "text": [
      "INFO:Edb:Cutout Multithread started.\n"
     ]
    },
    {
     "name": "stdout",
     "output_type": "stream",
     "text": [
      "PyEDB INFO: Net clean up Elapsed time: 0m 1sec\n"
     ]
    },
    {
     "name": "stderr",
     "output_type": "stream",
     "text": [
      "INFO:Edb:Net clean up Elapsed time: 0m 1sec\n"
     ]
    },
    {
     "name": "stdout",
     "output_type": "stream",
     "text": [
      "PyEDB INFO: Extent Creation Elapsed time: 0m 0sec\n"
     ]
    },
    {
     "name": "stderr",
     "output_type": "stream",
     "text": [
      "INFO:Edb:Extent Creation Elapsed time: 0m 0sec\n"
     ]
    },
    {
     "name": "stdout",
     "output_type": "stream",
     "text": [
      "PyEDB INFO: 1949 Padstack Instances deleted. Elapsed time: 0m 1sec\n"
     ]
    },
    {
     "name": "stderr",
     "output_type": "stream",
     "text": [
      "INFO:Edb:1949 Padstack Instances deleted. Elapsed time: 0m 1sec\n"
     ]
    },
    {
     "name": "stdout",
     "output_type": "stream",
     "text": [
      "PyEDB INFO: 443 Primitives deleted. Elapsed time: 0m 3sec\n"
     ]
    },
    {
     "name": "stderr",
     "output_type": "stream",
     "text": [
      "INFO:Edb:443 Primitives deleted. Elapsed time: 0m 3sec\n"
     ]
    },
    {
     "name": "stdout",
     "output_type": "stream",
     "text": [
      "PyEDB INFO: 980 components deleted\n"
     ]
    },
    {
     "name": "stderr",
     "output_type": "stream",
     "text": [
      "INFO:Edb:980 components deleted\n"
     ]
    },
    {
     "name": "stdout",
     "output_type": "stream",
     "text": [
      "PyEDB INFO: Cutout completed. Elapsed time: 0m 5sec\n"
     ]
    },
    {
     "name": "stderr",
     "output_type": "stream",
     "text": [
      "INFO:Edb:Cutout completed. Elapsed time: 0m 5sec\n"
     ]
    },
    {
     "name": "stdout",
     "output_type": "stream",
     "text": [
      "PyEDB INFO: EDB file save completed in 0.0595 seconds.\n"
     ]
    },
    {
     "name": "stderr",
     "output_type": "stream",
     "text": [
      "INFO:Edb:EDB file save completed in 0.0595 seconds.\n"
     ]
    },
    {
     "name": "stdout",
     "output_type": "stream",
     "text": [
      "PyEDB INFO: Cutout completed in 1 iterations with expansion size of (0.002)*(1000.0)mm Elapsed time: 0m 5sec\n"
     ]
    },
    {
     "name": "stderr",
     "output_type": "stream",
     "text": [
      "INFO:Edb:Cutout completed in 1 iterations with expansion size of (0.002)*(1000.0)mm Elapsed time: 0m 5sec\n"
     ]
    },
    {
     "name": "stdout",
     "output_type": "stream",
     "text": [
      "PyEDB INFO: Applying operations completed in 4.9676 seconds.\n"
     ]
    },
    {
     "name": "stderr",
     "output_type": "stream",
     "text": [
      "INFO:Edb:Applying operations completed in 4.9676 seconds.\n"
     ]
    },
    {
     "data": {
      "text/plain": [
       "True"
      ]
     },
     "execution_count": 15,
     "metadata": {},
     "output_type": "execute_result"
    }
   ],
   "source": [
    "edbapp.configuration.load(config_file=file_json)\n",
    "edbapp.configuration.run()"
   ]
  },
  {
   "cell_type": "code",
   "execution_count": 16,
   "id": "23e6e8b7",
   "metadata": {
    "execution": {
     "iopub.execute_input": "2025-10-30T04:18:10.369256Z",
     "iopub.status.busy": "2025-10-30T04:18:10.369256Z",
     "iopub.status.idle": "2025-10-30T04:18:11.225506Z",
     "shell.execute_reply": "2025-10-30T04:18:11.225506Z"
    }
   },
   "outputs": [
    {
     "data": {
      "image/png": "[encoded data removed]",
      "text/plain": [
       "<Figure size 6000x3000 with 1 Axes>"
      ]
     },
     "metadata": {},
     "output_type": "display_data"
    },
    {
     "name": "stdout",
     "output_type": "stream",
     "text": [
      "PyEDB INFO: Plot Generation time 0.761\n"
     ]
    },
    {
     "name": "stderr",
     "output_type": "stream",
     "text": [
      "INFO:Edb:Plot Generation time 0.761\n"
     ]
    },
    {
     "data": {
      "text/plain": [
       "(<Figure size 6000x3000 with 1 Axes>,\n",
       " <Axes: title={'center': 'Edb Top View main'}>)"
      ]
     },
     "execution_count": 16,
     "metadata": {},
     "output_type": "execute_result"
    }
   ],
   "source": [
    "edbapp.nets.plot(nets=[])"
   ]
  },
  {
   "cell_type": "markdown",
   "id": "e12e2124",
   "metadata": {},
   "source": [
    "Save and close EDB."
   ]
  },
  {
   "cell_type": "code",
   "execution_count": 17,
   "id": "425aa3a1",
   "metadata": {
    "execution": {
     "iopub.execute_input": "2025-10-30T04:18:11.225506Z",
     "iopub.status.busy": "2025-10-30T04:18:11.225506Z",
     "iopub.status.idle": "2025-10-30T04:18:11.399746Z",
     "shell.execute_reply": "2025-10-30T04:18:11.399746Z"
    }
   },
   "outputs": [
    {
     "name": "stdout",
     "output_type": "stream",
     "text": [
      "PyEDB INFO: Save Edb file completed in 0.0476 seconds.\n"
     ]
    },
    {
     "name": "stderr",
     "output_type": "stream",
     "text": [
      "INFO:Edb:Save Edb file completed in 0.0476 seconds.\n"
     ]
    },
    {
     "name": "stdout",
     "output_type": "stream",
     "text": [
      "PyEDB INFO: Close Edb file completed in 0.1127 seconds.\n"
     ]
    },
    {
     "name": "stderr",
     "output_type": "stream",
     "text": [
      "INFO:Edb:Close Edb file completed in 0.1127 seconds.\n"
     ]
    },
    {
     "data": {
      "text/plain": [
       "True"
      ]
     },
     "execution_count": 17,
     "metadata": {},
     "output_type": "execute_result"
    }
   ],
   "source": [
    "edbapp.save()\n",
    "edbapp.close()"
   ]
  },
  {
   "cell_type": "markdown",
   "id": "6b357ca1",
   "metadata": {},
   "source": [
    "The configured EDB file is saved in a temp folder."
   ]
  },
  {
   "cell_type": "code",
   "execution_count": 18,
   "id": "ad4c3757",
   "metadata": {
    "execution": {
     "iopub.execute_input": "2025-10-30T04:18:11.399746Z",
     "iopub.status.busy": "2025-10-30T04:18:11.399746Z",
     "iopub.status.idle": "2025-10-30T04:18:11.415622Z",
     "shell.execute_reply": "2025-10-30T04:18:11.415622Z"
    }
   },
   "outputs": [
    {
     "name": "stdout",
     "output_type": "stream",
     "text": [
      "C:\\Users\\ansys\\AppData\\Local\\Temp\\tmpqle8qgf8.ansys\n"
     ]
    }
   ],
   "source": [
    "print(temp_folder.name)"
   ]
  },
  {
   "cell_type": "markdown",
   "id": "17703603",
   "metadata": {},
   "source": [
    "## Load edb into HFSS 3D Layout."
   ]
  },
  {
   "cell_type": "code",
   "execution_count": 19,
   "id": "f3c917ee",
   "metadata": {
    "execution": {
     "iopub.execute_input": "2025-10-30T04:18:11.415622Z",
     "iopub.status.busy": "2025-10-30T04:18:11.415622Z",
     "iopub.status.idle": "2025-10-30T04:18:46.904523Z",
     "shell.execute_reply": "2025-10-30T04:18:46.904523Z"
    }
   },
   "outputs": [
    {
     "name": "stdout",
     "output_type": "stream",
     "text": [
      "PyAEDT INFO: Python version 3.10.11 (tags/v3.10.11:7d4cc5a, Apr  5 2023, 00:38:17) [MSC v.1929 64 bit (AMD64)].\n"
     ]
    },
    {
     "name": "stderr",
     "output_type": "stream",
     "text": [
      "INFO:Global:Python version 3.10.11 (tags/v3.10.11:7d4cc5a, Apr  5 2023, 00:38:17) [MSC v.1929 64 bit (AMD64)].\n"
     ]
    },
    {
     "name": "stdout",
     "output_type": "stream",
     "text": [
      "PyAEDT INFO: PyAEDT version 0.22.dev0.\n"
     ]
    },
    {
     "name": "stderr",
     "output_type": "stream",
     "text": [
      "INFO:Global:PyAEDT version 0.22.dev0.\n"
     ]
    },
    {
     "name": "stdout",
     "output_type": "stream",
     "text": [
      "PyAEDT INFO: Initializing new Desktop session.\n"
     ]
    },
    {
     "name": "stderr",
     "output_type": "stream",
     "text": [
      "INFO:Global:Initializing new Desktop session.\n"
     ]
    },
    {
     "name": "stdout",
     "output_type": "stream",
     "text": [
      "PyAEDT INFO: Log on console is enabled.\n"
     ]
    },
    {
     "name": "stderr",
     "output_type": "stream",
     "text": [
      "INFO:Global:Log on console is enabled.\n"
     ]
    },
    {
     "name": "stdout",
     "output_type": "stream",
     "text": [
      "PyAEDT INFO: Log on file C:\\Users\\ansys\\AppData\\Local\\Temp\\pyaedt_ansys_ec1267fe-acec-4dbe-acdf-2fa877a64839.log is enabled.\n"
     ]
    },
    {
     "name": "stderr",
     "output_type": "stream",
     "text": [
      "INFO:Global:Log on file C:\\Users\\ansys\\AppData\\Local\\Temp\\pyaedt_ansys_ec1267fe-acec-4dbe-acdf-2fa877a64839.log is enabled.\n"
     ]
    },
    {
     "name": "stdout",
     "output_type": "stream",
     "text": [
      "PyAEDT INFO: Log on AEDT is disabled.\n"
     ]
    },
    {
     "name": "stderr",
     "output_type": "stream",
     "text": [
      "INFO:Global:Log on AEDT is disabled.\n"
     ]
    },
    {
     "name": "stdout",
     "output_type": "stream",
     "text": [
      "PyAEDT INFO: Debug logger is disabled. PyAEDT methods will not be logged.\n"
     ]
    },
    {
     "name": "stderr",
     "output_type": "stream",
     "text": [
      "INFO:Global:Debug logger is disabled. PyAEDT methods will not be logged.\n"
     ]
    },
    {
     "name": "stdout",
     "output_type": "stream",
     "text": [
      "PyAEDT INFO: Launching PyAEDT with gRPC plugin.\n"
     ]
    },
    {
     "name": "stderr",
     "output_type": "stream",
     "text": [
      "INFO:Global:Launching PyAEDT with gRPC plugin.\n"
     ]
    },
    {
     "name": "stdout",
     "output_type": "stream",
     "text": [
      "PyAEDT INFO: New AEDT session is starting on gRPC port 65459.\n"
     ]
    },
    {
     "name": "stderr",
     "output_type": "stream",
     "text": [
      "INFO:Global:New AEDT session is starting on gRPC port 65459.\n"
     ]
    },
    {
     "name": "stdout",
     "output_type": "stream",
     "text": [
      "PyAEDT INFO: Electronics Desktop started on gRPC port: 65459 after 10.582831382751465 seconds.\n"
     ]
    },
    {
     "name": "stderr",
     "output_type": "stream",
     "text": [
      "INFO:Global:Electronics Desktop started on gRPC port: 65459 after 10.582831382751465 seconds.\n"
     ]
    },
    {
     "name": "stdout",
     "output_type": "stream",
     "text": [
      "PyAEDT INFO: AEDT installation Path C:\\Program Files\\ANSYS Inc\\v252\\AnsysEM\n"
     ]
    },
    {
     "name": "stderr",
     "output_type": "stream",
     "text": [
      "INFO:Global:AEDT installation Path C:\\Program Files\\ANSYS Inc\\v252\\AnsysEM\n"
     ]
    },
    {
     "name": "stdout",
     "output_type": "stream",
     "text": [
      "PyAEDT INFO: Ansoft.ElectronicsDesktop.2025.2 version started with process ID 1016.\n"
     ]
    },
    {
     "name": "stderr",
     "output_type": "stream",
     "text": [
      "INFO:Global:Ansoft.ElectronicsDesktop.2025.2 version started with process ID 1016.\n"
     ]
    },
    {
     "name": "stdout",
     "output_type": "stream",
     "text": [
      "PyAEDT INFO: EDB folder C:\\Users\\ansys\\AppData\\Local\\Temp\\tmpqle8qgf8.ansys\\edb\\ANSYS-HSD_V1.aedb has been imported to project ANSYS-HSD_V1\n"
     ]
    },
    {
     "name": "stderr",
     "output_type": "stream",
     "text": [
      "INFO:Global:EDB folder C:\\Users\\ansys\\AppData\\Local\\Temp\\tmpqle8qgf8.ansys\\edb\\ANSYS-HSD_V1.aedb has been imported to project ANSYS-HSD_V1\n"
     ]
    },
    {
     "name": "stdout",
     "output_type": "stream",
     "text": [
      "PyAEDT INFO: Active Design set to 0;main\n"
     ]
    },
    {
     "name": "stderr",
     "output_type": "stream",
     "text": [
      "INFO:Global:Active Design set to 0;main\n"
     ]
    },
    {
     "name": "stdout",
     "output_type": "stream",
     "text": [
      "PyAEDT INFO: Active Design set to 0;main\n"
     ]
    },
    {
     "name": "stderr",
     "output_type": "stream",
     "text": [
      "INFO:Global:Active Design set to 0;main\n"
     ]
    },
    {
     "name": "stdout",
     "output_type": "stream",
     "text": [
      "PyAEDT INFO: Aedt Objects correctly read\n"
     ]
    },
    {
     "name": "stderr",
     "output_type": "stream",
     "text": [
      "INFO:Global:Aedt Objects correctly read\n"
     ]
    }
   ],
   "source": [
    "h3d = Hfss3dLayout(edbapp.edbpath, version=AEDT_VERSION, non_graphical=NG_MODE, new_desktop=True)"
   ]
  },
  {
   "cell_type": "markdown",
   "id": "d5a5980a",
   "metadata": {},
   "source": [
    "Create differential pair definition."
   ]
  },
  {
   "cell_type": "code",
   "execution_count": 20,
   "id": "882c5932",
   "metadata": {
    "execution": {
     "iopub.execute_input": "2025-10-30T04:18:47.904623Z",
     "iopub.status.busy": "2025-10-30T04:18:47.904623Z",
     "iopub.status.idle": "2025-10-30T04:18:47.936564Z",
     "shell.execute_reply": "2025-10-30T04:18:47.936564Z"
    }
   },
   "outputs": [
    {
     "data": {
      "text/plain": [
       "True"
      ]
     },
     "execution_count": 20,
     "metadata": {},
     "output_type": "execute_result"
    }
   ],
   "source": [
    "h3d.set_differential_pair(\n",
    "    differential_mode=\"DIFF_BGA\",\n",
    "    assignment=\"port_1\",\n",
    "    reference=\"port_2\",\n",
    ")"
   ]
  },
  {
   "cell_type": "code",
   "execution_count": 21,
   "id": "8a88b947",
   "metadata": {
    "execution": {
     "iopub.execute_input": "2025-10-30T04:18:47.936564Z",
     "iopub.status.busy": "2025-10-30T04:18:47.936564Z",
     "iopub.status.idle": "2025-10-30T04:18:47.984221Z",
     "shell.execute_reply": "2025-10-30T04:18:47.984221Z"
    }
   },
   "outputs": [
    {
     "data": {
      "text/plain": [
       "True"
      ]
     },
     "execution_count": 21,
     "metadata": {},
     "output_type": "execute_result"
    }
   ],
   "source": [
    "h3d.set_differential_pair(\n",
    "    differential_mode=\"DIFF_CONN\",\n",
    "    assignment=\"port_3\",\n",
    "    reference=\"port_4\",\n",
    ")"
   ]
  },
  {
   "cell_type": "markdown",
   "id": "cbd55a2c",
   "metadata": {},
   "source": [
    "Solve.\n",
    "Un-comment to analyze SIwave."
   ]
  },
  {
   "cell_type": "markdown",
   "id": "b181f154",
   "metadata": {},
   "source": [
    "h3d.analyze(setup=\"siwave_setup\")"
   ]
  },
  {
   "cell_type": "markdown",
   "id": "75142c1d",
   "metadata": {},
   "source": [
    "Plot insertion loss."
   ]
  },
  {
   "cell_type": "markdown",
   "id": "5a10de15",
   "metadata": {},
   "source": [
    "solutions = h3d.post.get_solution_data(expressions=\"mag(S(DIFF_CONN,DIFF_BGA))\", context=\"Differential Pairs\")\n",
    "solutions.plot(formula=\"db20\")"
   ]
  },
  {
   "cell_type": "markdown",
   "id": "935c481d",
   "metadata": {},
   "source": [
    "Shut Down Electronics Desktop"
   ]
  },
  {
   "cell_type": "code",
   "execution_count": 22,
   "id": "2525b4d4",
   "metadata": {
    "execution": {
     "iopub.execute_input": "2025-10-30T04:18:47.984221Z",
     "iopub.status.busy": "2025-10-30T04:18:47.984221Z",
     "iopub.status.idle": "2025-10-30T04:19:05.241199Z",
     "shell.execute_reply": "2025-10-30T04:19:05.241199Z"
    }
   },
   "outputs": [
    {
     "name": "stdout",
     "output_type": "stream",
     "text": [
      "PyAEDT INFO: Desktop has been released and closed.\n"
     ]
    },
    {
     "name": "stderr",
     "output_type": "stream",
     "text": [
      "INFO:Global:Desktop has been released and closed.\n"
     ]
    },
    {
     "data": {
      "text/plain": [
       "True"
      ]
     },
     "execution_count": 22,
     "metadata": {},
     "output_type": "execute_result"
    }
   ],
   "source": [
    "h3d.close_desktop()"
   ]
  },
  {
   "cell_type": "markdown",
   "id": "100555ce",
   "metadata": {},
   "source": [
    "All project files are saved in the folder ``temp_file.dir``. If you've run this example as a Jupyter notebook you\n",
    "can retrieve those project files."
   ]
  }
 ],
 "metadata": {
  "jupytext": {
   "cell_metadata_filter": "-all",
   "main_language": "python",
   "notebook_metadata_filter": "-all"
  },
  "language_info": {
   "codemirror_mode": {
    "name": "ipython",
    "version": 3
   },
   "file_extension": ".py",
   "mimetype": "text/x-python",
   "name": "python",
   "nbconvert_exporter": "python",
   "pygments_lexer": "ipython3",
   "version": "3.10.11"
  }
 },
 "nbformat": 4,
 "nbformat_minor": 5
}
