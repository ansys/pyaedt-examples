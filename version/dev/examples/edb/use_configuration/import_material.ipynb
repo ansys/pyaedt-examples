{
 "cells": [
  {
   "cell_type": "markdown",
   "id": "2e549c4e",
   "metadata": {},
   "source": [
    "# Import Materials\n",
    "This example shows how to import materials."
   ]
  },
  {
   "cell_type": "markdown",
   "id": "ce58b513",
   "metadata": {},
   "source": [
    "## Perform imports and define constants\n",
    "\n",
    "Perform required imports."
   ]
  },
  {
   "cell_type": "code",
   "execution_count": 1,
   "id": "055de39c",
   "metadata": {
    "execution": {
     "iopub.execute_input": "2025-10-30T04:07:47.247394Z",
     "iopub.status.busy": "2025-10-30T04:07:47.247394Z",
     "iopub.status.idle": "2025-10-30T04:07:50.306781Z",
     "shell.execute_reply": "2025-10-30T04:07:50.306781Z"
    }
   },
   "outputs": [],
   "source": [
    "import json\n",
    "import toml\n",
    "from pathlib import Path\n",
    "import tempfile\n",
    "\n",
    "from IPython.display import display\n",
    "from ansys.aedt.core.examples.downloads import download_file\n",
    "import pandas as pd\n",
    "from pyedb import Edb\n"
   ]
  },
  {
   "cell_type": "markdown",
   "id": "b0dd76a7",
   "metadata": {},
   "source": [
    "Define constants"
   ]
  },
  {
   "cell_type": "code",
   "execution_count": 2,
   "id": "fb461d48",
   "metadata": {
    "execution": {
     "iopub.execute_input": "2025-10-30T04:07:50.306781Z",
     "iopub.status.busy": "2025-10-30T04:07:50.306781Z",
     "iopub.status.idle": "2025-10-30T04:07:50.322580Z",
     "shell.execute_reply": "2025-10-30T04:07:50.322580Z"
    }
   },
   "outputs": [],
   "source": [
    "AEDT_VERSION = \"2025.2\""
   ]
  },
  {
   "cell_type": "markdown",
   "id": "41fd2ad4",
   "metadata": {},
   "source": [
    "## Preparation"
   ]
  },
  {
   "cell_type": "code",
   "execution_count": 3,
   "id": "1eedaa03",
   "metadata": {
    "execution": {
     "iopub.execute_input": "2025-10-30T04:07:50.322580Z",
     "iopub.status.busy": "2025-10-30T04:07:50.322580Z",
     "iopub.status.idle": "2025-10-30T04:08:02.270690Z",
     "shell.execute_reply": "2025-10-30T04:08:02.270690Z"
    }
   },
   "outputs": [
    {
     "name": "stderr",
     "output_type": "stream",
     "text": [
      "C:\\actions-runner\\_work\\pyaedt-examples\\pyaedt-examples\\.venv\\lib\\site-packages\\pyedb\\misc\\decorators.py:55: UserWarning: Argument `edbversion` is deprecated for method `Edb`; use `version` instead.\n",
      "  warnings.warn(\n",
      "C:\\actions-runner\\_work\\pyaedt-examples\\pyaedt-examples\\.venv\\lib\\site-packages\\pyedb\\generic\\design_types.py:301: UserWarning: Your ANSYS AEDT version is eligible to gRPC version.You might consider switching to that version for better user experience.For more information please check this link: https://edb.docs.pyansys.com/version/dev/grpc_api/index.html\n",
      "  warnings.warn(GRPC_GENERAL_WARNING, UserWarning)\n"
     ]
    },
    {
     "name": "stdout",
     "output_type": "stream",
     "text": [
      "PyEDB INFO: Star initializing Edb 04:07:53.552519\n"
     ]
    },
    {
     "name": "stderr",
     "output_type": "stream",
     "text": [
      "INFO:Edb:Star initializing Edb 04:07:53.552519\n"
     ]
    },
    {
     "name": "stdout",
     "output_type": "stream",
     "text": [
      "PyEDB INFO: Edb version 2025.2\n"
     ]
    },
    {
     "name": "stderr",
     "output_type": "stream",
     "text": [
      "INFO:Edb:Edb version 2025.2\n"
     ]
    },
    {
     "name": "stdout",
     "output_type": "stream",
     "text": [
      "PyEDB INFO: Logger is initialized. Log file is saved to C:\\Users\\ansys\\AppData\\Local\\Temp\\pyedb_ansys.log.\n"
     ]
    },
    {
     "name": "stderr",
     "output_type": "stream",
     "text": [
      "INFO:Edb:Logger is initialized. Log file is saved to C:\\Users\\ansys\\AppData\\Local\\Temp\\pyedb_ansys.log.\n"
     ]
    },
    {
     "name": "stdout",
     "output_type": "stream",
     "text": [
      "PyEDB INFO: legacy v0.61.0\n"
     ]
    },
    {
     "name": "stderr",
     "output_type": "stream",
     "text": [
      "INFO:Edb:legacy v0.61.0\n"
     ]
    },
    {
     "name": "stdout",
     "output_type": "stream",
     "text": [
      "PyEDB INFO: Python version 3.10.11 (tags/v3.10.11:7d4cc5a, Apr  5 2023, 00:38:17) [MSC v.1929 64 bit (AMD64)]\n"
     ]
    },
    {
     "name": "stderr",
     "output_type": "stream",
     "text": [
      "INFO:Edb:Python version 3.10.11 (tags/v3.10.11:7d4cc5a, Apr  5 2023, 00:38:17) [MSC v.1929 64 bit (AMD64)]\n"
     ]
    },
    {
     "name": "stdout",
     "output_type": "stream",
     "text": [
      "PyEDB INFO: create_edb completed in 8.6225 seconds.\n"
     ]
    },
    {
     "name": "stderr",
     "output_type": "stream",
     "text": [
      "INFO:Edb:create_edb completed in 8.6225 seconds.\n"
     ]
    },
    {
     "name": "stdout",
     "output_type": "stream",
     "text": [
      "PyEDB INFO: EDB C:\\Users\\ansys\\AppData\\Local\\Temp\\tmpd6vbp0bf.ansys\\test.aedb created correctly.\n"
     ]
    },
    {
     "name": "stderr",
     "output_type": "stream",
     "text": [
      "INFO:Edb:EDB C:\\Users\\ansys\\AppData\\Local\\Temp\\tmpd6vbp0bf.ansys\\test.aedb created correctly.\n"
     ]
    },
    {
     "name": "stdout",
     "output_type": "stream",
     "text": [
      "PyEDB INFO: EDB initialization completed in 8.6867 seconds.\n"
     ]
    },
    {
     "name": "stderr",
     "output_type": "stream",
     "text": [
      "INFO:Edb:EDB initialization completed in 8.6867 seconds.\n"
     ]
    }
   ],
   "source": [
    "temp_folder = tempfile.TemporaryDirectory(suffix=\".ansys\")\n",
    "file_edb = Path(temp_folder.name) / \"test.aedb\"\n",
    "edbapp = Edb(file_edb, edbversion=AEDT_VERSION)"
   ]
  },
  {
   "cell_type": "markdown",
   "id": "988ce45b",
   "metadata": {},
   "source": [
    "## Create configure file"
   ]
  },
  {
   "cell_type": "markdown",
   "id": "f952b869",
   "metadata": {},
   "source": [
    "## Add distributed ports"
   ]
  },
  {
   "cell_type": "markdown",
   "id": "506b586e",
   "metadata": {},
   "source": [
    "Keywords\n",
    "\n",
    "- **name**. Name of the material.\n",
    "- **permittivity**.\n",
    "- **conductivity**.\n",
    "- **dielectric_loss_tangent**.\n",
    "- **magnetic_loss_tangent**.\n",
    "- **mass_density**.\n",
    "- **permeability**.\n",
    "- **poisson_ratio**.\n",
    "- **specific_heat**.\n",
    "- **thermal_conductivity**.\n",
    "- **thermal_modifier**.\n",
    "  - **property_name**.\n",
    "  - **basic_quadratic_c1**. The C1 value in the quadratic model.\n",
    "  - **basic_quadratic_c2**. The C2 value in the quadratic model.\n",
    "  - **basic_quadratic_temperature_reference**. The TempRef value in the quadratic model.\n",
    "  - **advanced_quadratic_lower_limit**. The lower temperature limit where the quadratic model is valid.\n",
    "  - **advanced_quadratic_upper_limit**. The upper temperature limit where the quadratic model is valid.\n",
    "  - **advanced_quadratic_auto_calculate**. The flag indicating whether or not the LowerConstantThermalModifierVal and UpperConstantThermalModifierVal values should be auto calculated.\n",
    "  - **advanced_quadratic_lower_constant**. The constant thermal modifier value for temperatures lower than LowerConstantThermalModifierVal\n",
    "  - **advanced_quadratic_upper_constant**. The constant thermal modifier value for temperatures greater than UpperConstantThermalModifierVal."
   ]
  },
  {
   "cell_type": "code",
   "execution_count": 4,
   "id": "5dfbf47b",
   "metadata": {
    "execution": {
     "iopub.execute_input": "2025-10-30T04:08:04.270880Z",
     "iopub.status.busy": "2025-10-30T04:08:04.270880Z",
     "iopub.status.idle": "2025-10-30T04:08:04.286592Z",
     "shell.execute_reply": "2025-10-30T04:08:04.286592Z"
    }
   },
   "outputs": [],
   "source": [
    "materials = [\n",
    "    {\n",
    "        \"name\": \"copper\",\n",
    "        \"conductivity\": 570000000,\n",
    "        \"thermal_modifier\": [\n",
    "            {\n",
    "                \"property_name\": \"conductivity\",\n",
    "                \"basic_quadratic_c1\": 0,\n",
    "                \"basic_quadratic_c2\": 0,\n",
    "                \"basic_quadratic_temperature_reference\": 22,\n",
    "                \"advanced_quadratic_lower_limit\": -273.15,\n",
    "                \"advanced_quadratic_upper_limit\": 1000,\n",
    "                \"advanced_quadratic_auto_calculate\": True,\n",
    "                \"advanced_quadratic_lower_constant\": 1,\n",
    "                \"advanced_quadratic_upper_constant\": 1,\n",
    "            },\n",
    "        ],\n",
    "    },\n",
    "]\n",
    "cfg = {\"stackup\": {\"materials\": materials}}\n",
    "file_json = Path(temp_folder.name) / \"edb_configuration.json\"\n",
    "with open(file_json, \"w\") as f:\n",
    "    json.dump(cfg, f, indent=4, ensure_ascii=False)"
   ]
  },
  {
   "cell_type": "markdown",
   "id": "e9969628",
   "metadata": {},
   "source": [
    "Equivalent toml file looks like below "
   ]
  },
  {
   "cell_type": "code",
   "execution_count": 5,
   "id": "71eeaaa2",
   "metadata": {
    "execution": {
     "iopub.execute_input": "2025-10-30T04:08:04.286592Z",
     "iopub.status.busy": "2025-10-30T04:08:04.286592Z",
     "iopub.status.idle": "2025-10-30T04:08:04.302352Z",
     "shell.execute_reply": "2025-10-30T04:08:04.302352Z"
    }
   },
   "outputs": [
    {
     "name": "stdout",
     "output_type": "stream",
     "text": [
      "[stackup]\n",
      "[[stackup.materials]]\n",
      "name = \"copper\"\n",
      "conductivity = 570000000\n",
      "[[stackup.materials.thermal_modifier]]\n",
      "property_name = \"conductivity\"\n",
      "basic_quadratic_c1 = 0\n",
      "basic_quadratic_c2 = 0\n",
      "basic_quadratic_temperature_reference = 22\n",
      "advanced_quadratic_lower_limit = -273.15\n",
      "advanced_quadratic_upper_limit = 1000\n",
      "advanced_quadratic_auto_calculate = true\n",
      "advanced_quadratic_lower_constant = 1\n",
      "advanced_quadratic_upper_constant = 1\n",
      "\n",
      "\n",
      "\n"
     ]
    }
   ],
   "source": [
    "toml_string = toml.dumps(cfg)\n",
    "print(toml_string)"
   ]
  },
  {
   "cell_type": "markdown",
   "id": "593a0813",
   "metadata": {},
   "source": [
    "## Import configuration into example layout"
   ]
  },
  {
   "cell_type": "code",
   "execution_count": 6,
   "id": "aaafbafd",
   "metadata": {
    "execution": {
     "iopub.execute_input": "2025-10-30T04:08:04.302352Z",
     "iopub.status.busy": "2025-10-30T04:08:04.302352Z",
     "iopub.status.idle": "2025-10-30T04:08:04.381695Z",
     "shell.execute_reply": "2025-10-30T04:08:04.381695Z"
    }
   },
   "outputs": [
    {
     "name": "stdout",
     "output_type": "stream",
     "text": [
      "PyEDB INFO: Updating boundaries finished. Time lapse 0:00:00.015733\n"
     ]
    },
    {
     "name": "stderr",
     "output_type": "stream",
     "text": [
      "INFO:Edb:Updating boundaries finished. Time lapse 0:00:00.015733\n"
     ]
    },
    {
     "name": "stdout",
     "output_type": "stream",
     "text": [
      "PyEDB INFO: Updating nets finished. Time lapse 0:00:00\n"
     ]
    },
    {
     "name": "stderr",
     "output_type": "stream",
     "text": [
      "INFO:Edb:Updating nets finished. Time lapse 0:00:00\n"
     ]
    },
    {
     "name": "stdout",
     "output_type": "stream",
     "text": [
      "PyEDB INFO: Updating components finished. Time lapse 0:00:00\n"
     ]
    },
    {
     "name": "stderr",
     "output_type": "stream",
     "text": [
      "INFO:Edb:Updating components finished. Time lapse 0:00:00\n"
     ]
    },
    {
     "name": "stdout",
     "output_type": "stream",
     "text": [
      "PyEDB INFO: Creating pin groups finished. Time lapse 0:00:00\n"
     ]
    },
    {
     "name": "stderr",
     "output_type": "stream",
     "text": [
      "INFO:Edb:Creating pin groups finished. Time lapse 0:00:00\n"
     ]
    },
    {
     "name": "stdout",
     "output_type": "stream",
     "text": [
      "PyEDB INFO: Placing sources finished. Time lapse 0:00:00\n"
     ]
    },
    {
     "name": "stderr",
     "output_type": "stream",
     "text": [
      "INFO:Edb:Placing sources finished. Time lapse 0:00:00\n"
     ]
    },
    {
     "name": "stdout",
     "output_type": "stream",
     "text": [
      "PyEDB INFO: Applying materials finished. Time lapse 0:00:00.015735\n"
     ]
    },
    {
     "name": "stderr",
     "output_type": "stream",
     "text": [
      "INFO:Edb:Applying materials finished. Time lapse 0:00:00.015735\n"
     ]
    },
    {
     "name": "stdout",
     "output_type": "stream",
     "text": [
      "PyEDB INFO: Updating stackup finished. Time lapse 0:00:00\n"
     ]
    },
    {
     "name": "stderr",
     "output_type": "stream",
     "text": [
      "INFO:Edb:Updating stackup finished. Time lapse 0:00:00\n"
     ]
    },
    {
     "name": "stdout",
     "output_type": "stream",
     "text": [
      "PyEDB INFO: Applying padstacks finished. Time lapse 0:00:00\n"
     ]
    },
    {
     "name": "stderr",
     "output_type": "stream",
     "text": [
      "INFO:Edb:Applying padstacks finished. Time lapse 0:00:00\n"
     ]
    },
    {
     "name": "stdout",
     "output_type": "stream",
     "text": [
      "PyEDB INFO: Applying S-parameters finished. Time lapse 0:00:00\n"
     ]
    },
    {
     "name": "stderr",
     "output_type": "stream",
     "text": [
      "INFO:Edb:Applying S-parameters finished. Time lapse 0:00:00\n"
     ]
    },
    {
     "name": "stdout",
     "output_type": "stream",
     "text": [
      "PyEDB INFO: Applying package definitions finished. Time lapse 0:00:00\n"
     ]
    },
    {
     "name": "stderr",
     "output_type": "stream",
     "text": [
      "INFO:Edb:Applying package definitions finished. Time lapse 0:00:00\n"
     ]
    },
    {
     "name": "stdout",
     "output_type": "stream",
     "text": [
      "PyEDB INFO: Applying modeler finished. Time lapse 0:00:00\n"
     ]
    },
    {
     "name": "stderr",
     "output_type": "stream",
     "text": [
      "INFO:Edb:Applying modeler finished. Time lapse 0:00:00\n"
     ]
    },
    {
     "name": "stdout",
     "output_type": "stream",
     "text": [
      "PyEDB INFO: Placing ports finished. Time lapse 0:00:00\n"
     ]
    },
    {
     "name": "stderr",
     "output_type": "stream",
     "text": [
      "INFO:Edb:Placing ports finished. Time lapse 0:00:00\n"
     ]
    },
    {
     "name": "stdout",
     "output_type": "stream",
     "text": [
      "PyEDB INFO: Placing terminals completed in 0.0000 seconds.\n"
     ]
    },
    {
     "name": "stderr",
     "output_type": "stream",
     "text": [
      "INFO:Edb:Placing terminals completed in 0.0000 seconds.\n"
     ]
    },
    {
     "name": "stdout",
     "output_type": "stream",
     "text": [
      "PyEDB INFO: Placing probes finished. Time lapse 0:00:00\n"
     ]
    },
    {
     "name": "stderr",
     "output_type": "stream",
     "text": [
      "INFO:Edb:Placing probes finished. Time lapse 0:00:00\n"
     ]
    },
    {
     "name": "stdout",
     "output_type": "stream",
     "text": [
      "PyEDB INFO: Applying operations completed in 0.0000 seconds.\n"
     ]
    },
    {
     "name": "stderr",
     "output_type": "stream",
     "text": [
      "INFO:Edb:Applying operations completed in 0.0000 seconds.\n"
     ]
    },
    {
     "data": {
      "text/plain": [
       "True"
      ]
     },
     "execution_count": 6,
     "metadata": {},
     "output_type": "execute_result"
    }
   ],
   "source": [
    "edbapp.configuration.load(config_file=file_json)\n",
    "edbapp.configuration.run()"
   ]
  },
  {
   "cell_type": "markdown",
   "id": "bc68c2d4",
   "metadata": {},
   "source": [
    "## Save and close Edb\n",
    "The temporary folder will be deleted once the execution of this script is finished. Replace **edbapp.save()** with\n",
    "**edbapp.save_as(\"C:/example.aedb\")** to keep the example project."
   ]
  },
  {
   "cell_type": "code",
   "execution_count": 7,
   "id": "04a3243c",
   "metadata": {
    "execution": {
     "iopub.execute_input": "2025-10-30T04:08:04.381695Z",
     "iopub.status.busy": "2025-10-30T04:08:04.381695Z",
     "iopub.status.idle": "2025-10-30T04:08:04.413671Z",
     "shell.execute_reply": "2025-10-30T04:08:04.413671Z"
    }
   },
   "outputs": [
    {
     "name": "stdout",
     "output_type": "stream",
     "text": [
      "PyEDB INFO: Save Edb file completed in 0.0040 seconds.\n"
     ]
    },
    {
     "name": "stderr",
     "output_type": "stream",
     "text": [
      "INFO:Edb:Save Edb file completed in 0.0040 seconds.\n"
     ]
    },
    {
     "name": "stdout",
     "output_type": "stream",
     "text": [
      "PyEDB INFO: Close Edb file completed in 0.0000 seconds.\n"
     ]
    },
    {
     "name": "stderr",
     "output_type": "stream",
     "text": [
      "INFO:Edb:Close Edb file completed in 0.0000 seconds.\n"
     ]
    },
    {
     "data": {
      "text/plain": [
       "True"
      ]
     },
     "execution_count": 7,
     "metadata": {},
     "output_type": "execute_result"
    }
   ],
   "source": [
    "edbapp.save()\n",
    "edbapp.close()"
   ]
  }
 ],
 "metadata": {
  "jupytext": {
   "cell_metadata_filter": "-all",
   "main_language": "python",
   "notebook_metadata_filter": "-all"
  },
  "language_info": {
   "codemirror_mode": {
    "name": "ipython",
    "version": 3
   },
   "file_extension": ".py",
   "mimetype": "text/x-python",
   "name": "python",
   "nbconvert_exporter": "python",
   "pygments_lexer": "ipython3",
   "version": "3.10.11"
  }
 },
 "nbformat": 4,
 "nbformat_minor": 5
}
