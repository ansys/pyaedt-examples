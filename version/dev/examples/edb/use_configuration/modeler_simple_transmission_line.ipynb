{
 "cells": [
  {
   "cell_type": "markdown",
   "id": "978b7b4b",
   "metadata": {},
   "source": [
    "# Create a simple transmission line"
   ]
  },
  {
   "cell_type": "markdown",
   "id": "9beb8aef",
   "metadata": {},
   "source": [
    "## Perform imports and define constants\n",
    "\n",
    "Perform required imports."
   ]
  },
  {
   "cell_type": "code",
   "execution_count": 1,
   "id": "32e2a026",
   "metadata": {
    "execution": {
     "iopub.execute_input": "2025-10-30T04:11:03.428229Z",
     "iopub.status.busy": "2025-10-30T04:11:03.428229Z",
     "iopub.status.idle": "2025-10-30T04:11:06.525008Z",
     "shell.execute_reply": "2025-10-30T04:11:06.525008Z"
    }
   },
   "outputs": [],
   "source": [
    "import json\n",
    "import os\n",
    "import tempfile\n",
    "\n",
    "from ansys.aedt.core import Hfss3dLayout\n",
    "from pyedb import Edb"
   ]
  },
  {
   "cell_type": "markdown",
   "id": "3762104b",
   "metadata": {},
   "source": [
    "Define constants."
   ]
  },
  {
   "cell_type": "code",
   "execution_count": 2,
   "id": "4f91aa28",
   "metadata": {
    "execution": {
     "iopub.execute_input": "2025-10-30T04:11:06.525008Z",
     "iopub.status.busy": "2025-10-30T04:11:06.525008Z",
     "iopub.status.idle": "2025-10-30T04:11:06.540808Z",
     "shell.execute_reply": "2025-10-30T04:11:06.540808Z"
    }
   },
   "outputs": [],
   "source": [
    "AEDT_VERSION = \"2025.2\"\n",
    "NG_MODE = False"
   ]
  },
  {
   "cell_type": "markdown",
   "id": "56a26a80",
   "metadata": {},
   "source": [
    "## Create an empty design"
   ]
  },
  {
   "cell_type": "code",
   "execution_count": 3,
   "id": "517a6a2d",
   "metadata": {
    "execution": {
     "iopub.execute_input": "2025-10-30T04:11:06.540808Z",
     "iopub.status.busy": "2025-10-30T04:11:06.540808Z",
     "iopub.status.idle": "2025-10-30T04:11:18.583507Z",
     "shell.execute_reply": "2025-10-30T04:11:18.583507Z"
    }
   },
   "outputs": [
    {
     "name": "stderr",
     "output_type": "stream",
     "text": [
      "C:\\actions-runner\\_work\\pyaedt-examples\\pyaedt-examples\\.venv\\lib\\site-packages\\pyedb\\misc\\decorators.py:55: UserWarning: Argument `edbversion` is deprecated for method `Edb`; use `version` instead.\n",
      "  warnings.warn(\n",
      "C:\\actions-runner\\_work\\pyaedt-examples\\pyaedt-examples\\.venv\\lib\\site-packages\\pyedb\\generic\\design_types.py:301: UserWarning: Your ANSYS AEDT version is eligible to gRPC version.You might consider switching to that version for better user experience.For more information please check this link: https://edb.docs.pyansys.com/version/dev/grpc_api/index.html\n",
      "  warnings.warn(GRPC_GENERAL_WARNING, UserWarning)\n"
     ]
    },
    {
     "name": "stdout",
     "output_type": "stream",
     "text": [
      "PyEDB INFO: Star initializing Edb 04:11:09.838291\n"
     ]
    },
    {
     "name": "stderr",
     "output_type": "stream",
     "text": [
      "INFO:Edb:Star initializing Edb 04:11:09.838291\n"
     ]
    },
    {
     "name": "stdout",
     "output_type": "stream",
     "text": [
      "PyEDB INFO: Edb version 2025.2\n"
     ]
    },
    {
     "name": "stderr",
     "output_type": "stream",
     "text": [
      "INFO:Edb:Edb version 2025.2\n"
     ]
    },
    {
     "name": "stdout",
     "output_type": "stream",
     "text": [
      "PyEDB INFO: Logger is initialized. Log file is saved to C:\\Users\\ansys\\AppData\\Local\\Temp\\pyedb_ansys.log.\n"
     ]
    },
    {
     "name": "stderr",
     "output_type": "stream",
     "text": [
      "INFO:Edb:Logger is initialized. Log file is saved to C:\\Users\\ansys\\AppData\\Local\\Temp\\pyedb_ansys.log.\n"
     ]
    },
    {
     "name": "stdout",
     "output_type": "stream",
     "text": [
      "PyEDB INFO: legacy v0.61.0\n"
     ]
    },
    {
     "name": "stderr",
     "output_type": "stream",
     "text": [
      "INFO:Edb:legacy v0.61.0\n"
     ]
    },
    {
     "name": "stdout",
     "output_type": "stream",
     "text": [
      "PyEDB INFO: Python version 3.10.11 (tags/v3.10.11:7d4cc5a, Apr  5 2023, 00:38:17) [MSC v.1929 64 bit (AMD64)]\n"
     ]
    },
    {
     "name": "stderr",
     "output_type": "stream",
     "text": [
      "INFO:Edb:Python version 3.10.11 (tags/v3.10.11:7d4cc5a, Apr  5 2023, 00:38:17) [MSC v.1929 64 bit (AMD64)]\n"
     ]
    },
    {
     "name": "stdout",
     "output_type": "stream",
     "text": [
      "PyEDB INFO: create_edb completed in 8.6523 seconds.\n"
     ]
    },
    {
     "name": "stderr",
     "output_type": "stream",
     "text": [
      "INFO:Edb:create_edb completed in 8.6523 seconds.\n"
     ]
    },
    {
     "name": "stdout",
     "output_type": "stream",
     "text": [
      "PyEDB INFO: EDB C:\\Users\\ansys\\AppData\\Local\\Temp\\tmps4kn9rwi.ansys\\simple_transmission_line.aedb created correctly.\n"
     ]
    },
    {
     "name": "stderr",
     "output_type": "stream",
     "text": [
      "INFO:Edb:EDB C:\\Users\\ansys\\AppData\\Local\\Temp\\tmps4kn9rwi.ansys\\simple_transmission_line.aedb created correctly.\n"
     ]
    },
    {
     "name": "stdout",
     "output_type": "stream",
     "text": [
      "PyEDB INFO: EDB initialization completed in 8.7290 seconds.\n"
     ]
    },
    {
     "name": "stderr",
     "output_type": "stream",
     "text": [
      "INFO:Edb:EDB initialization completed in 8.7290 seconds.\n"
     ]
    }
   ],
   "source": [
    "temp_folder = tempfile.TemporaryDirectory(suffix=\".ansys\")\n",
    "edb_path = os.path.join(temp_folder.name, \"simple_transmission_line.aedb\")\n",
    "edbapp = Edb(edb_path, edbversion=AEDT_VERSION)"
   ]
  },
  {
   "cell_type": "code",
   "execution_count": 4,
   "id": "424da467",
   "metadata": {
    "execution": {
     "iopub.execute_input": "2025-10-30T04:11:20.587755Z",
     "iopub.status.busy": "2025-10-30T04:11:20.585669Z",
     "iopub.status.idle": "2025-10-30T04:11:20.649310Z",
     "shell.execute_reply": "2025-10-30T04:11:20.649310Z"
    }
   },
   "outputs": [
    {
     "name": "stderr",
     "output_type": "stream",
     "text": [
      "INFO:pyedb.dotnet.database.stackup:Material copper found in syslib. Adding it to aedb project.\n"
     ]
    },
    {
     "name": "stderr",
     "output_type": "stream",
     "text": [
      "INFO:pyedb.dotnet.database.stackup:Material FR4_epoxy found in syslib. Adding it to aedb project.\n"
     ]
    },
    {
     "data": {
      "text/plain": [
       "True"
      ]
     },
     "execution_count": 4,
     "metadata": {},
     "output_type": "execute_result"
    }
   ],
   "source": [
    "# Create a default 2-layer stackup\n",
    "edbapp.stackup.create_symmetric_stackup(layer_count=2, soldermask=False)"
   ]
  },
  {
   "cell_type": "markdown",
   "id": "db576880",
   "metadata": {},
   "source": [
    "## Create config file"
   ]
  },
  {
   "cell_type": "code",
   "execution_count": 5,
   "id": "f38edf39",
   "metadata": {
    "execution": {
     "iopub.execute_input": "2025-10-30T04:11:20.649310Z",
     "iopub.status.busy": "2025-10-30T04:11:20.649310Z",
     "iopub.status.idle": "2025-10-30T04:11:20.681256Z",
     "shell.execute_reply": "2025-10-30T04:11:20.681256Z"
    }
   },
   "outputs": [],
   "source": [
    "cfg = {\"stackup\": {}, \"modeler\": {}, \"variables\": {}}\n",
    "\n",
    "cfg[\"variables\"] = [{\"name\": \"trace_width\", \"value\": \"0.2mm\"}]\n",
    "\n",
    "cfg[\"stackup\"][\"materials\"] = [\n",
    "    {\"name\": \"copper\", \"permittivity\": 1, \"conductivity\": 58000000.0},\n",
    "    {\"name\": \"fr4\", \"permittivity\": 3.77, \"dielectric_loss_tangent\": 0.005},\n",
    "    {\"name\": \"solder_resist\", \"permittivity\": 3.0, \"dielectric_loss_tangent\": 0.035},\n",
    "]\n",
    "\n",
    "cfg[\"stackup\"][\"layers\"] = [\n",
    "    {\"name\": \"TOP\", \"type\": \"signal\", \"material\": \"copper\", \"fill_material\": \"solder_resist\", \"thickness\": \"0.035mm\"},\n",
    "    {\"name\": \"DE\", \"type\": \"dielectric\", \"material\": \"fr4\", \"fill_material\": \"\", \"thickness\": \"0.5mm\"},\n",
    "    {\n",
    "        \"name\": \"BOTTOM\",\n",
    "        \"type\": \"signal\",\n",
    "        \"material\": \"copper\",\n",
    "        \"fill_material\": \"solder_resist\",\n",
    "        \"thickness\": \"0.035mm\",\n",
    "    },\n",
    "]\n",
    "\n",
    "cfg[\"modeler\"][\"traces\"] = [\n",
    "    {\n",
    "        \"name\": \"trace_1\",\n",
    "        \"layer\": \"TOP\",\n",
    "        \"width\": \"trace_width\",\n",
    "        \"path\": [[0, 0], [0, \"3mm\"]],\n",
    "        \"net_name\": \"SIG\",\n",
    "        \"start_cap_style\": \"flat\",\n",
    "        \"end_cap_style\": \"flat\",\n",
    "    },\n",
    "    {\n",
    "        \"name\": \"trace_1_void\",\n",
    "        \"layer\": \"TOP\",\n",
    "        \"width\": \"trace_width+0.3mm\",\n",
    "        \"path\": [[0, 0], [0, \"3mm\"]],\n",
    "        \"net_name\": \"GND\",\n",
    "    },\n",
    "]\n",
    "cfg[\"modeler\"][\"planes\"] = [\n",
    "    {\n",
    "        \"type\": \"rectangle\",\n",
    "        \"name\": \"GND_TOP\",\n",
    "        \"layer\": \"TOP\",\n",
    "        \"net_name\": \"GND\",\n",
    "        \"lower_left_point\": [\"-2mm\", 0],\n",
    "        \"upper_right_point\": [\"2mm\", \"3mm\"],\n",
    "        \"voids\": [\"trace_1_void\"],\n",
    "    },\n",
    "    {\n",
    "        \"type\": \"rectangle\",\n",
    "        \"name\": \"GND_BOTTOM\",\n",
    "        \"layer\": \"BOTTOM\",\n",
    "        \"net_name\": \"GND\",\n",
    "        \"lower_left_point\": [\"-2mm\", 0],\n",
    "        \"upper_right_point\": [\"2mm\", \"3mm\"],\n",
    "    },\n",
    "]\n",
    "\n",
    "cfg[\"modeler\"][\"padstack_definitions\"] = [\n",
    "    {\n",
    "        \"name\": \"via\",\n",
    "        \"hole_plating_thickness\": \"0.025mm\",\n",
    "        \"material\": \"copper\",\n",
    "        \"pad_parameters\": {\n",
    "            \"regular_pad\": [\n",
    "                {\n",
    "                    \"layer_name\": \"TOP\",\n",
    "                    \"shape\": \"circle\",\n",
    "                    \"diameter\": \"0.5mm\",\n",
    "                },\n",
    "                {\n",
    "                    \"layer_name\": \"BOTTOM\",\n",
    "                    \"shape\": \"circle\",\n",
    "                    \"diameter\": \"0.5mm\",\n",
    "                },\n",
    "            ],\n",
    "        },\n",
    "        \"hole_range\": \"through\",\n",
    "        \"hole_parameters\": {\n",
    "            \"shape\": \"circle\",\n",
    "            \"diameter\": \"0.25mm\",\n",
    "        },\n",
    "    }\n",
    "]\n",
    "\n",
    "cfg[\"modeler\"][\"padstack_instances\"] = [\n",
    "    {\n",
    "        \"name\": \"gvia_l_1\",\n",
    "        \"definition\": \"via\",\n",
    "        \"layer_range\": [\"TOP\", \"BOTTOM\"],\n",
    "        \"position\": [\"-1mm\", \"0.5mm\"],\n",
    "        \"net_name\": \"GND\",\n",
    "    },\n",
    "    {\n",
    "        \"name\": \"gvia_l_2\",\n",
    "        \"definition\": \"via\",\n",
    "        \"layer_range\": [\"TOP\", \"BOTTOM\"],\n",
    "        \"position\": [\"-1mm\", \"1.5mm\"],\n",
    "        \"net_name\": \"GND\",\n",
    "    },\n",
    "    {\n",
    "        \"name\": \"gvia_l_3\",\n",
    "        \"definition\": \"via\",\n",
    "        \"layer_range\": [\"TOP\", \"BOTTOM\"],\n",
    "        \"position\": [\"-1mm\", \"2.5mm\"],\n",
    "        \"net_name\": \"GND\",\n",
    "    },\n",
    "    {\n",
    "        \"name\": \"gvia_r_1\",\n",
    "        \"definition\": \"via\",\n",
    "        \"layer_range\": [\"TOP\", \"BOTTOM\"],\n",
    "        \"position\": [\"1mm\", \"0.5mm\"],\n",
    "        \"net_name\": \"GND\",\n",
    "    },\n",
    "    {\n",
    "        \"name\": \"gvia_r_2\",\n",
    "        \"definition\": \"via\",\n",
    "        \"layer_range\": [\"TOP\", \"BOTTOM\"],\n",
    "        \"position\": [\"1mm\", \"1.5mm\"],\n",
    "        \"net_name\": \"GND\",\n",
    "    },\n",
    "    {\n",
    "        \"name\": \"gvia_r_3\",\n",
    "        \"definition\": \"via\",\n",
    "        \"layer_range\": [\"TOP\", \"BOTTOM\"],\n",
    "        \"position\": [\"1mm\", \"2.5mm\"],\n",
    "        \"net_name\": \"GND\",\n",
    "    },\n",
    "]\n",
    "\n",
    "cfg[\"ports\"] = [\n",
    "    {\n",
    "        \"name\": \"wport_1\",\n",
    "        \"type\": \"wave_port\",\n",
    "        \"primitive_name\": \"trace_1\",\n",
    "        \"point_on_edge\": [0, 0],\n",
    "        \"horizontal_extent_factor\": 10,\n",
    "        \"vertical_extent_factor\": 2,\n",
    "        \"pec_launch_width\": \"0,2mm\",\n",
    "    },\n",
    "    {\n",
    "        \"name\": \"wport_2\",\n",
    "        \"type\": \"wave_port\",\n",
    "        \"primitive_name\": \"trace_1\",\n",
    "        \"point_on_edge\": [0, \"3mm\"],\n",
    "        \"horizontal_extent_factor\": 10,\n",
    "        \"vertical_extent_factor\": 2,\n",
    "        \"pec_launch_width\": \"0,2mm\",\n",
    "    },\n",
    "]"
   ]
  },
  {
   "cell_type": "markdown",
   "id": "36b2e917",
   "metadata": {},
   "source": [
    "Create the config file."
   ]
  },
  {
   "cell_type": "code",
   "execution_count": 6,
   "id": "b5986e11",
   "metadata": {
    "execution": {
     "iopub.execute_input": "2025-10-30T04:11:20.681256Z",
     "iopub.status.busy": "2025-10-30T04:11:20.681256Z",
     "iopub.status.idle": "2025-10-30T04:11:20.697121Z",
     "shell.execute_reply": "2025-10-30T04:11:20.697121Z"
    }
   },
   "outputs": [],
   "source": [
    "file_json = os.path.join(temp_folder.name, \"cfg.json\")\n",
    "with open(file_json, \"w\") as f:\n",
    "    json.dump(cfg, f, indent=4, ensure_ascii=False)"
   ]
  },
  {
   "cell_type": "markdown",
   "id": "6baafd52",
   "metadata": {},
   "source": [
    "Apply configuration to the example layout"
   ]
  },
  {
   "cell_type": "code",
   "execution_count": 7,
   "id": "aac29029",
   "metadata": {
    "execution": {
     "iopub.execute_input": "2025-10-30T04:11:20.700998Z",
     "iopub.status.busy": "2025-10-30T04:11:20.700998Z",
     "iopub.status.idle": "2025-10-30T04:11:20.984025Z",
     "shell.execute_reply": "2025-10-30T04:11:20.984025Z"
    }
   },
   "outputs": [
    {
     "name": "stdout",
     "output_type": "stream",
     "text": [
      "PyEDB INFO: Updating boundaries finished. Time lapse 0:00:00.015999\n"
     ]
    },
    {
     "name": "stderr",
     "output_type": "stream",
     "text": [
      "INFO:Edb:Updating boundaries finished. Time lapse 0:00:00.015999\n"
     ]
    },
    {
     "name": "stdout",
     "output_type": "stream",
     "text": [
      "PyEDB INFO: Updating nets finished. Time lapse 0:00:00\n"
     ]
    },
    {
     "name": "stderr",
     "output_type": "stream",
     "text": [
      "INFO:Edb:Updating nets finished. Time lapse 0:00:00\n"
     ]
    },
    {
     "name": "stdout",
     "output_type": "stream",
     "text": [
      "PyEDB INFO: Updating components finished. Time lapse 0:00:00\n"
     ]
    },
    {
     "name": "stderr",
     "output_type": "stream",
     "text": [
      "INFO:Edb:Updating components finished. Time lapse 0:00:00\n"
     ]
    },
    {
     "name": "stdout",
     "output_type": "stream",
     "text": [
      "PyEDB INFO: Creating pin groups finished. Time lapse 0:00:00\n"
     ]
    },
    {
     "name": "stderr",
     "output_type": "stream",
     "text": [
      "INFO:Edb:Creating pin groups finished. Time lapse 0:00:00\n"
     ]
    },
    {
     "name": "stdout",
     "output_type": "stream",
     "text": [
      "PyEDB INFO: Placing sources finished. Time lapse 0:00:00\n"
     ]
    },
    {
     "name": "stderr",
     "output_type": "stream",
     "text": [
      "INFO:Edb:Placing sources finished. Time lapse 0:00:00\n"
     ]
    },
    {
     "name": "stdout",
     "output_type": "stream",
     "text": [
      "PyEDB INFO: Applying materials finished. Time lapse 0:00:00\n"
     ]
    },
    {
     "name": "stderr",
     "output_type": "stream",
     "text": [
      "INFO:Edb:Applying materials finished. Time lapse 0:00:00\n"
     ]
    },
    {
     "name": "stdout",
     "output_type": "stream",
     "text": [
      "PyEDB INFO: Updating stackup finished. Time lapse 0:00:00.047820\n"
     ]
    },
    {
     "name": "stderr",
     "output_type": "stream",
     "text": [
      "INFO:Edb:Updating stackup finished. Time lapse 0:00:00.047820\n"
     ]
    },
    {
     "name": "stdout",
     "output_type": "stream",
     "text": [
      "PyEDB INFO: Applying padstacks finished. Time lapse 0:00:00\n"
     ]
    },
    {
     "name": "stderr",
     "output_type": "stream",
     "text": [
      "INFO:Edb:Applying padstacks finished. Time lapse 0:00:00\n"
     ]
    },
    {
     "name": "stdout",
     "output_type": "stream",
     "text": [
      "PyEDB INFO: Applying S-parameters finished. Time lapse 0:00:00\n"
     ]
    },
    {
     "name": "stderr",
     "output_type": "stream",
     "text": [
      "INFO:Edb:Applying S-parameters finished. Time lapse 0:00:00\n"
     ]
    },
    {
     "name": "stdout",
     "output_type": "stream",
     "text": [
      "PyEDB INFO: Applying package definitions finished. Time lapse 0:00:00\n"
     ]
    },
    {
     "name": "stderr",
     "output_type": "stream",
     "text": [
      "INFO:Edb:Applying package definitions finished. Time lapse 0:00:00\n"
     ]
    },
    {
     "name": "stdout",
     "output_type": "stream",
     "text": [
      "PyEDB INFO: Applying modeler finished. Time lapse 0:00:00.159720\n"
     ]
    },
    {
     "name": "stderr",
     "output_type": "stream",
     "text": [
      "INFO:Edb:Applying modeler finished. Time lapse 0:00:00.159720\n"
     ]
    },
    {
     "name": "stdout",
     "output_type": "stream",
     "text": [
      "PyEDB INFO: Placing ports finished. Time lapse 0:00:00.015876\n"
     ]
    },
    {
     "name": "stderr",
     "output_type": "stream",
     "text": [
      "INFO:Edb:Placing ports finished. Time lapse 0:00:00.015876\n"
     ]
    },
    {
     "name": "stdout",
     "output_type": "stream",
     "text": [
      "PyEDB INFO: Placing terminals completed in 0.0000 seconds.\n"
     ]
    },
    {
     "name": "stderr",
     "output_type": "stream",
     "text": [
      "INFO:Edb:Placing terminals completed in 0.0000 seconds.\n"
     ]
    },
    {
     "name": "stdout",
     "output_type": "stream",
     "text": [
      "PyEDB INFO: Placing probes finished. Time lapse 0:00:00\n"
     ]
    },
    {
     "name": "stderr",
     "output_type": "stream",
     "text": [
      "INFO:Edb:Placing probes finished. Time lapse 0:00:00\n"
     ]
    },
    {
     "name": "stdout",
     "output_type": "stream",
     "text": [
      "PyEDB INFO: Applying operations completed in 0.0000 seconds.\n"
     ]
    },
    {
     "name": "stderr",
     "output_type": "stream",
     "text": [
      "INFO:Edb:Applying operations completed in 0.0000 seconds.\n"
     ]
    },
    {
     "data": {
      "text/plain": [
       "True"
      ]
     },
     "execution_count": 7,
     "metadata": {},
     "output_type": "execute_result"
    }
   ],
   "source": [
    "edbapp.configuration.load(config_file=file_json)\n",
    "edbapp.configuration.run()"
   ]
  },
  {
   "cell_type": "markdown",
   "id": "4bce0633",
   "metadata": {},
   "source": [
    "Save and close EDB."
   ]
  },
  {
   "cell_type": "code",
   "execution_count": 8,
   "id": "6d83853d",
   "metadata": {
    "execution": {
     "iopub.execute_input": "2025-10-30T04:11:20.984025Z",
     "iopub.status.busy": "2025-10-30T04:11:20.984025Z",
     "iopub.status.idle": "2025-10-30T04:11:21.015789Z",
     "shell.execute_reply": "2025-10-30T04:11:21.015789Z"
    }
   },
   "outputs": [
    {
     "name": "stdout",
     "output_type": "stream",
     "text": [
      "PyEDB INFO: Save Edb file completed in 0.0000 seconds.\n"
     ]
    },
    {
     "name": "stderr",
     "output_type": "stream",
     "text": [
      "INFO:Edb:Save Edb file completed in 0.0000 seconds.\n"
     ]
    },
    {
     "name": "stdout",
     "output_type": "stream",
     "text": [
      "PyEDB INFO: Close Edb file completed in 0.0000 seconds.\n"
     ]
    },
    {
     "name": "stderr",
     "output_type": "stream",
     "text": [
      "INFO:Edb:Close Edb file completed in 0.0000 seconds.\n"
     ]
    },
    {
     "data": {
      "text/plain": [
       "True"
      ]
     },
     "execution_count": 8,
     "metadata": {},
     "output_type": "execute_result"
    }
   ],
   "source": [
    "edbapp.save()\n",
    "edbapp.close()"
   ]
  },
  {
   "cell_type": "markdown",
   "id": "1fb2fef6",
   "metadata": {},
   "source": [
    "## Uncomment to load edb into HFSS 3D Layout."
   ]
  },
  {
   "cell_type": "markdown",
   "id": "88b71dcf",
   "metadata": {},
   "source": [
    "h3d = Hfss3dLayout(edbapp.edbpath, version=AEDT_VERSION, non_graphical=NG_MODE, new_desktop=True)"
   ]
  },
  {
   "cell_type": "markdown",
   "id": "7146cae8",
   "metadata": {},
   "source": [
    "## Clean up\n",
    "\n",
    "All project files are saved in the folder ``temp_folder.name``.\n",
    "If you've run this example as a Jupyter notebook, you\n",
    "can retrieve those project files. The following cell\n",
    "removes all temporary files, including the project folder."
   ]
  },
  {
   "cell_type": "code",
   "execution_count": 9,
   "id": "b5620ceb",
   "metadata": {
    "execution": {
     "iopub.execute_input": "2025-10-30T04:11:21.015789Z",
     "iopub.status.busy": "2025-10-30T04:11:21.015789Z",
     "iopub.status.idle": "2025-10-30T04:11:21.031841Z",
     "shell.execute_reply": "2025-10-30T04:11:21.031841Z"
    }
   },
   "outputs": [],
   "source": [
    "temp_folder.cleanup()"
   ]
  }
 ],
 "metadata": {
  "jupytext": {
   "cell_metadata_filter": "-all",
   "main_language": "python",
   "notebook_metadata_filter": "-all"
  },
  "language_info": {
   "codemirror_mode": {
    "name": "ipython",
    "version": 3
   },
   "file_extension": ".py",
   "mimetype": "text/x-python",
   "name": "python",
   "nbconvert_exporter": "python",
   "pygments_lexer": "ipython3",
   "version": "3.10.11"
  }
 },
 "nbformat": 4,
 "nbformat_minor": 5
}
