{
 "cells": [
  {
   "cell_type": "markdown",
   "id": "f03f73cf",
   "metadata": {},
   "source": [
    "# Import Stackup\n",
    "This example shows how to import stackup file."
   ]
  },
  {
   "cell_type": "markdown",
   "id": "e70d53be",
   "metadata": {},
   "source": [
    "## Perform imports and define constants\n",
    "\n",
    "Perform required imports."
   ]
  },
  {
   "cell_type": "code",
   "execution_count": 1,
   "id": "1116705d",
   "metadata": {
    "execution": {
     "iopub.execute_input": "2025-10-30T04:10:28.580867Z",
     "iopub.status.busy": "2025-10-30T04:10:28.580867Z",
     "iopub.status.idle": "2025-10-30T04:10:31.668924Z",
     "shell.execute_reply": "2025-10-30T04:10:31.668924Z"
    }
   },
   "outputs": [],
   "source": [
    "import json\n",
    "import toml\n",
    "from pathlib import Path\n",
    "import tempfile\n",
    "\n",
    "from IPython.display import display\n",
    "from ansys.aedt.core.examples.downloads import download_file\n",
    "import pandas as pd\n",
    "from pyedb import Edb"
   ]
  },
  {
   "cell_type": "markdown",
   "id": "3f629d1e",
   "metadata": {},
   "source": [
    "Define constants."
   ]
  },
  {
   "cell_type": "code",
   "execution_count": 2,
   "id": "a520c67f",
   "metadata": {
    "execution": {
     "iopub.execute_input": "2025-10-30T04:10:31.668924Z",
     "iopub.status.busy": "2025-10-30T04:10:31.668924Z",
     "iopub.status.idle": "2025-10-30T04:10:31.684863Z",
     "shell.execute_reply": "2025-10-30T04:10:31.684863Z"
    }
   },
   "outputs": [],
   "source": [
    "AEDT_VERSION = \"2025.2\"\n",
    "NG_MODE = False"
   ]
  },
  {
   "cell_type": "markdown",
   "id": "c94e6b1a",
   "metadata": {},
   "source": [
    "Download the example PCB data."
   ]
  },
  {
   "cell_type": "code",
   "execution_count": 3,
   "id": "ce5e3868",
   "metadata": {
    "execution": {
     "iopub.execute_input": "2025-10-30T04:10:31.684863Z",
     "iopub.status.busy": "2025-10-30T04:10:31.684863Z",
     "iopub.status.idle": "2025-10-30T04:10:32.376008Z",
     "shell.execute_reply": "2025-10-30T04:10:32.376008Z"
    }
   },
   "outputs": [],
   "source": [
    "temp_folder = tempfile.TemporaryDirectory(suffix=\".ansys\")\n",
    "file_edb = download_file(source=\"edb/ANSYS-HSD_V1.aedb\", local_path=temp_folder.name)"
   ]
  },
  {
   "cell_type": "markdown",
   "id": "98ba88d8",
   "metadata": {},
   "source": [
    "## Load example layout."
   ]
  },
  {
   "cell_type": "code",
   "execution_count": 4,
   "id": "7e0e9e12",
   "metadata": {
    "execution": {
     "iopub.execute_input": "2025-10-30T04:10:32.376008Z",
     "iopub.status.busy": "2025-10-30T04:10:32.376008Z",
     "iopub.status.idle": "2025-10-30T04:10:44.913496Z",
     "shell.execute_reply": "2025-10-30T04:10:44.913496Z"
    }
   },
   "outputs": [
    {
     "name": "stderr",
     "output_type": "stream",
     "text": [
      "C:\\actions-runner\\_work\\pyaedt-examples\\pyaedt-examples\\.venv\\lib\\site-packages\\pyedb\\misc\\decorators.py:55: UserWarning: Argument `edbversion` is deprecated for method `Edb`; use `version` instead.\n",
      "  warnings.warn(\n",
      "C:\\actions-runner\\_work\\pyaedt-examples\\pyaedt-examples\\.venv\\lib\\site-packages\\pyedb\\generic\\design_types.py:301: UserWarning: Your ANSYS AEDT version is eligible to gRPC version.You might consider switching to that version for better user experience.For more information please check this link: https://edb.docs.pyansys.com/version/dev/grpc_api/index.html\n",
      "  warnings.warn(GRPC_GENERAL_WARNING, UserWarning)\n"
     ]
    },
    {
     "name": "stdout",
     "output_type": "stream",
     "text": [
      "PyEDB INFO: Star initializing Edb 04:10:35.723665\n"
     ]
    },
    {
     "name": "stderr",
     "output_type": "stream",
     "text": [
      "INFO:Edb:Star initializing Edb 04:10:35.723665\n"
     ]
    },
    {
     "name": "stdout",
     "output_type": "stream",
     "text": [
      "PyEDB INFO: Edb version 2025.2\n"
     ]
    },
    {
     "name": "stderr",
     "output_type": "stream",
     "text": [
      "INFO:Edb:Edb version 2025.2\n"
     ]
    },
    {
     "name": "stdout",
     "output_type": "stream",
     "text": [
      "PyEDB INFO: Logger is initialized. Log file is saved to C:\\Users\\ansys\\AppData\\Local\\Temp\\pyedb_ansys.log.\n"
     ]
    },
    {
     "name": "stderr",
     "output_type": "stream",
     "text": [
      "INFO:Edb:Logger is initialized. Log file is saved to C:\\Users\\ansys\\AppData\\Local\\Temp\\pyedb_ansys.log.\n"
     ]
    },
    {
     "name": "stdout",
     "output_type": "stream",
     "text": [
      "PyEDB INFO: legacy v0.61.0\n"
     ]
    },
    {
     "name": "stderr",
     "output_type": "stream",
     "text": [
      "INFO:Edb:legacy v0.61.0\n"
     ]
    },
    {
     "name": "stdout",
     "output_type": "stream",
     "text": [
      "PyEDB INFO: Python version 3.10.11 (tags/v3.10.11:7d4cc5a, Apr  5 2023, 00:38:17) [MSC v.1929 64 bit (AMD64)]\n"
     ]
    },
    {
     "name": "stderr",
     "output_type": "stream",
     "text": [
      "INFO:Edb:Python version 3.10.11 (tags/v3.10.11:7d4cc5a, Apr  5 2023, 00:38:17) [MSC v.1929 64 bit (AMD64)]\n"
     ]
    },
    {
     "name": "stdout",
     "output_type": "stream",
     "text": [
      "PyEDB INFO: Database ANSYS-HSD_V1.aedb Opened in 2025.2\n"
     ]
    },
    {
     "name": "stderr",
     "output_type": "stream",
     "text": [
      "INFO:Edb:Database ANSYS-HSD_V1.aedb Opened in 2025.2\n"
     ]
    },
    {
     "name": "stdout",
     "output_type": "stream",
     "text": [
      "PyEDB INFO: Cell main Opened\n"
     ]
    },
    {
     "name": "stderr",
     "output_type": "stream",
     "text": [
      "INFO:Edb:Cell main Opened\n"
     ]
    },
    {
     "name": "stdout",
     "output_type": "stream",
     "text": [
      "PyEDB INFO: Builder was initialized.\n"
     ]
    },
    {
     "name": "stderr",
     "output_type": "stream",
     "text": [
      "INFO:Edb:Builder was initialized.\n"
     ]
    },
    {
     "name": "stdout",
     "output_type": "stream",
     "text": [
      "PyEDB INFO: open_edb completed in 9.1104 seconds.\n"
     ]
    },
    {
     "name": "stderr",
     "output_type": "stream",
     "text": [
      "INFO:Edb:open_edb completed in 9.1104 seconds.\n"
     ]
    },
    {
     "name": "stdout",
     "output_type": "stream",
     "text": [
      "PyEDB INFO: EDB initialization completed in 9.1741 seconds.\n"
     ]
    },
    {
     "name": "stderr",
     "output_type": "stream",
     "text": [
      "INFO:Edb:EDB initialization completed in 9.1741 seconds.\n"
     ]
    }
   ],
   "source": [
    "edbapp = Edb(file_edb, edbversion=AEDT_VERSION)"
   ]
  },
  {
   "cell_type": "markdown",
   "id": "90832d77",
   "metadata": {},
   "source": [
    "## Review original stackup definition"
   ]
  },
  {
   "cell_type": "markdown",
   "id": "08f0fdb4",
   "metadata": {},
   "source": [
    "Get original stackup definition in a dictionary. Alternatively, stackup definition can be exported in a json file by\n",
    "edbapp.configuration.export()"
   ]
  },
  {
   "cell_type": "code",
   "execution_count": 5,
   "id": "cdf73af3",
   "metadata": {
    "execution": {
     "iopub.execute_input": "2025-10-30T04:10:46.921928Z",
     "iopub.status.busy": "2025-10-30T04:10:46.921928Z",
     "iopub.status.idle": "2025-10-30T04:10:46.985072Z",
     "shell.execute_reply": "2025-10-30T04:10:46.985072Z"
    },
    "lines_to_next_cell": 2
   },
   "outputs": [
    {
     "name": "stdout",
     "output_type": "stream",
     "text": [
      "PyEDB INFO: Getting data from layout database.\n"
     ]
    },
    {
     "name": "stderr",
     "output_type": "stream",
     "text": [
      "INFO:Edb:Getting data from layout database.\n"
     ]
    }
   ],
   "source": [
    "data_cfg = edbapp.configuration.get_data_from_db(stackup=True)"
   ]
  },
  {
   "cell_type": "code",
   "execution_count": 6,
   "id": "5de7a434",
   "metadata": {
    "execution": {
     "iopub.execute_input": "2025-10-30T04:10:46.985072Z",
     "iopub.status.busy": "2025-10-30T04:10:46.985072Z",
     "iopub.status.idle": "2025-10-30T04:10:47.032638Z",
     "shell.execute_reply": "2025-10-30T04:10:47.032638Z"
    }
   },
   "outputs": [
    {
     "data": {
      "text/html": [
       "<div>\n",
       "<style scoped>\n",
       "    .dataframe tbody tr th:only-of-type {\n",
       "        vertical-align: middle;\n",
       "    }\n",
       "\n",
       "    .dataframe tbody tr th {\n",
       "        vertical-align: top;\n",
       "    }\n",
       "\n",
       "    .dataframe thead th {\n",
       "        text-align: right;\n",
       "    }\n",
       "</style>\n",
       "<table border=\"1\" class=\"dataframe\">\n",
       "  <thead>\n",
       "    <tr style=\"text-align: right;\">\n",
       "      <th></th>\n",
       "      <th>name</th>\n",
       "      <th>type</th>\n",
       "      <th>material</th>\n",
       "      <th>fill_material</th>\n",
       "      <th>thickness</th>\n",
       "      <th>roughness</th>\n",
       "      <th>etching</th>\n",
       "    </tr>\n",
       "  </thead>\n",
       "  <tbody>\n",
       "    <tr>\n",
       "      <th>0</th>\n",
       "      <td>1_Top</td>\n",
       "      <td>signal</td>\n",
       "      <td>copper</td>\n",
       "      <td>Solder Resist</td>\n",
       "      <td>0.035mm</td>\n",
       "      <td>{'enabled': False, 'top': {'model': 'huray', '...</td>\n",
       "      <td>{'factor': '0', 'etch_power_ground_nets': Fals...</td>\n",
       "    </tr>\n",
       "    <tr>\n",
       "      <th>1</th>\n",
       "      <td>DE1</td>\n",
       "      <td>dielectric</td>\n",
       "      <td>Megtron4</td>\n",
       "      <td></td>\n",
       "      <td>0.1mm</td>\n",
       "      <td>{'enabled': False, 'top': {'model': 'huray', '...</td>\n",
       "      <td>{'factor': '0', 'etch_power_ground_nets': Fals...</td>\n",
       "    </tr>\n",
       "    <tr>\n",
       "      <th>2</th>\n",
       "      <td>Inner1(GND1)</td>\n",
       "      <td>signal</td>\n",
       "      <td>copper</td>\n",
       "      <td>Megtron4_2</td>\n",
       "      <td>0.017mm</td>\n",
       "      <td>{'enabled': False, 'top': {'model': 'huray', '...</td>\n",
       "      <td>{'factor': '0', 'etch_power_ground_nets': Fals...</td>\n",
       "    </tr>\n",
       "    <tr>\n",
       "      <th>3</th>\n",
       "      <td>DE2</td>\n",
       "      <td>dielectric</td>\n",
       "      <td>Megtron4_2</td>\n",
       "      <td></td>\n",
       "      <td>0.088mm</td>\n",
       "      <td>{'enabled': False, 'top': {'model': 'huray', '...</td>\n",
       "      <td>{'factor': '0', 'etch_power_ground_nets': Fals...</td>\n",
       "    </tr>\n",
       "    <tr>\n",
       "      <th>4</th>\n",
       "      <td>Inner2(PWR1)</td>\n",
       "      <td>signal</td>\n",
       "      <td>copper</td>\n",
       "      <td>Megtron4_2</td>\n",
       "      <td>0.017mm</td>\n",
       "      <td>{'enabled': False, 'top': {'model': 'huray', '...</td>\n",
       "      <td>{'factor': '0', 'etch_power_ground_nets': Fals...</td>\n",
       "    </tr>\n",
       "    <tr>\n",
       "      <th>5</th>\n",
       "      <td>DE3</td>\n",
       "      <td>dielectric</td>\n",
       "      <td>Megtron4</td>\n",
       "      <td></td>\n",
       "      <td>0.1mm</td>\n",
       "      <td>{'enabled': False, 'top': {'model': 'huray', '...</td>\n",
       "      <td>{'factor': '0', 'etch_power_ground_nets': Fals...</td>\n",
       "    </tr>\n",
       "    <tr>\n",
       "      <th>6</th>\n",
       "      <td>Inner3(Sig1)</td>\n",
       "      <td>signal</td>\n",
       "      <td>copper</td>\n",
       "      <td>Megtron4_3</td>\n",
       "      <td>0.017mm</td>\n",
       "      <td>{'enabled': False, 'top': {'model': 'huray', '...</td>\n",
       "      <td>{'factor': '0', 'etch_power_ground_nets': Fals...</td>\n",
       "    </tr>\n",
       "    <tr>\n",
       "      <th>7</th>\n",
       "      <td>Megtron4-1mm</td>\n",
       "      <td>dielectric</td>\n",
       "      <td>Megtron4_3</td>\n",
       "      <td></td>\n",
       "      <td>1mm</td>\n",
       "      <td>{'enabled': False, 'top': {'model': 'huray', '...</td>\n",
       "      <td>{'factor': '0', 'etch_power_ground_nets': Fals...</td>\n",
       "    </tr>\n",
       "    <tr>\n",
       "      <th>8</th>\n",
       "      <td>Inner4(Sig2)</td>\n",
       "      <td>signal</td>\n",
       "      <td>copper</td>\n",
       "      <td>Megtron4_3</td>\n",
       "      <td>0.017mm</td>\n",
       "      <td>{'enabled': False, 'top': {'model': 'huray', '...</td>\n",
       "      <td>{'factor': '0', 'etch_power_ground_nets': Fals...</td>\n",
       "    </tr>\n",
       "    <tr>\n",
       "      <th>9</th>\n",
       "      <td>DE5</td>\n",
       "      <td>dielectric</td>\n",
       "      <td>Megtron4</td>\n",
       "      <td></td>\n",
       "      <td>0.1mm</td>\n",
       "      <td>{'enabled': False, 'top': {'model': 'huray', '...</td>\n",
       "      <td>{'factor': '0', 'etch_power_ground_nets': Fals...</td>\n",
       "    </tr>\n",
       "    <tr>\n",
       "      <th>10</th>\n",
       "      <td>Inner5(PWR2)</td>\n",
       "      <td>signal</td>\n",
       "      <td>copper</td>\n",
       "      <td>Megtron4_2</td>\n",
       "      <td>0.017mm</td>\n",
       "      <td>{'enabled': False, 'top': {'model': 'huray', '...</td>\n",
       "      <td>{'factor': '0', 'etch_power_ground_nets': Fals...</td>\n",
       "    </tr>\n",
       "    <tr>\n",
       "      <th>11</th>\n",
       "      <td>DE6</td>\n",
       "      <td>dielectric</td>\n",
       "      <td>Megtron4_2</td>\n",
       "      <td></td>\n",
       "      <td>0.088mm</td>\n",
       "      <td>{'enabled': False, 'top': {'model': 'huray', '...</td>\n",
       "      <td>{'factor': '0', 'etch_power_ground_nets': Fals...</td>\n",
       "    </tr>\n",
       "    <tr>\n",
       "      <th>12</th>\n",
       "      <td>Inner6(GND2)</td>\n",
       "      <td>signal</td>\n",
       "      <td>copper</td>\n",
       "      <td>Megtron4_2</td>\n",
       "      <td>0.017mm</td>\n",
       "      <td>{'enabled': False, 'top': {'model': 'huray', '...</td>\n",
       "      <td>{'factor': '0', 'etch_power_ground_nets': Fals...</td>\n",
       "    </tr>\n",
       "    <tr>\n",
       "      <th>13</th>\n",
       "      <td>DE7</td>\n",
       "      <td>dielectric</td>\n",
       "      <td>Megtron4</td>\n",
       "      <td></td>\n",
       "      <td>0.1mm</td>\n",
       "      <td>{'enabled': False, 'top': {'model': 'huray', '...</td>\n",
       "      <td>{'factor': '0', 'etch_power_ground_nets': Fals...</td>\n",
       "    </tr>\n",
       "    <tr>\n",
       "      <th>14</th>\n",
       "      <td>16_Bottom</td>\n",
       "      <td>signal</td>\n",
       "      <td>copper</td>\n",
       "      <td>Solder Resist</td>\n",
       "      <td>0.035mm</td>\n",
       "      <td>{'enabled': False, 'top': {'model': 'huray', '...</td>\n",
       "      <td>{'factor': '0', 'etch_power_ground_nets': Fals...</td>\n",
       "    </tr>\n",
       "    <tr>\n",
       "      <th>15</th>\n",
       "      <td>Measures</td>\n",
       "      <td>measure</td>\n",
       "      <td>NaN</td>\n",
       "      <td>NaN</td>\n",
       "      <td>NaN</td>\n",
       "      <td>NaN</td>\n",
       "      <td>NaN</td>\n",
       "    </tr>\n",
       "    <tr>\n",
       "      <th>16</th>\n",
       "      <td>SIwave Regions</td>\n",
       "      <td>siwavehfsssolverregions</td>\n",
       "      <td>NaN</td>\n",
       "      <td>NaN</td>\n",
       "      <td>NaN</td>\n",
       "      <td>NaN</td>\n",
       "      <td>NaN</td>\n",
       "    </tr>\n",
       "    <tr>\n",
       "      <th>17</th>\n",
       "      <td>Top Overlay</td>\n",
       "      <td>silkscreen</td>\n",
       "      <td>NaN</td>\n",
       "      <td>NaN</td>\n",
       "      <td>NaN</td>\n",
       "      <td>NaN</td>\n",
       "      <td>NaN</td>\n",
       "    </tr>\n",
       "    <tr>\n",
       "      <th>18</th>\n",
       "      <td>Top Solder</td>\n",
       "      <td>soldermask</td>\n",
       "      <td>NaN</td>\n",
       "      <td>NaN</td>\n",
       "      <td>NaN</td>\n",
       "      <td>NaN</td>\n",
       "      <td>NaN</td>\n",
       "    </tr>\n",
       "    <tr>\n",
       "      <th>19</th>\n",
       "      <td>Bottom Solder</td>\n",
       "      <td>soldermask</td>\n",
       "      <td>NaN</td>\n",
       "      <td>NaN</td>\n",
       "      <td>NaN</td>\n",
       "      <td>NaN</td>\n",
       "      <td>NaN</td>\n",
       "    </tr>\n",
       "    <tr>\n",
       "      <th>20</th>\n",
       "      <td>Bottom Overlay</td>\n",
       "      <td>silkscreen</td>\n",
       "      <td>NaN</td>\n",
       "      <td>NaN</td>\n",
       "      <td>NaN</td>\n",
       "      <td>NaN</td>\n",
       "      <td>NaN</td>\n",
       "    </tr>\n",
       "    <tr>\n",
       "      <th>21</th>\n",
       "      <td>Outline</td>\n",
       "      <td>outline</td>\n",
       "      <td>NaN</td>\n",
       "      <td>NaN</td>\n",
       "      <td>NaN</td>\n",
       "      <td>NaN</td>\n",
       "      <td>NaN</td>\n",
       "    </tr>\n",
       "    <tr>\n",
       "      <th>22</th>\n",
       "      <td>Rats</td>\n",
       "      <td>airlines</td>\n",
       "      <td>NaN</td>\n",
       "      <td>NaN</td>\n",
       "      <td>NaN</td>\n",
       "      <td>NaN</td>\n",
       "      <td>NaN</td>\n",
       "    </tr>\n",
       "    <tr>\n",
       "      <th>23</th>\n",
       "      <td>Errors</td>\n",
       "      <td>errors</td>\n",
       "      <td>NaN</td>\n",
       "      <td>NaN</td>\n",
       "      <td>NaN</td>\n",
       "      <td>NaN</td>\n",
       "      <td>NaN</td>\n",
       "    </tr>\n",
       "    <tr>\n",
       "      <th>24</th>\n",
       "      <td>Symbols</td>\n",
       "      <td>symbol</td>\n",
       "      <td>NaN</td>\n",
       "      <td>NaN</td>\n",
       "      <td>NaN</td>\n",
       "      <td>NaN</td>\n",
       "      <td>NaN</td>\n",
       "    </tr>\n",
       "    <tr>\n",
       "      <th>25</th>\n",
       "      <td>Postprocessing</td>\n",
       "      <td>postprocessing</td>\n",
       "      <td>NaN</td>\n",
       "      <td>NaN</td>\n",
       "      <td>NaN</td>\n",
       "      <td>NaN</td>\n",
       "      <td>NaN</td>\n",
       "    </tr>\n",
       "  </tbody>\n",
       "</table>\n",
       "</div>"
      ],
      "text/plain": [
       "              name                     type    material  fill_material  \\\n",
       "0            1_Top                   signal      copper  Solder Resist   \n",
       "1              DE1               dielectric    Megtron4                  \n",
       "2     Inner1(GND1)                   signal      copper     Megtron4_2   \n",
       "3              DE2               dielectric  Megtron4_2                  \n",
       "4     Inner2(PWR1)                   signal      copper     Megtron4_2   \n",
       "5              DE3               dielectric    Megtron4                  \n",
       "6     Inner3(Sig1)                   signal      copper     Megtron4_3   \n",
       "7     Megtron4-1mm               dielectric  Megtron4_3                  \n",
       "8     Inner4(Sig2)                   signal      copper     Megtron4_3   \n",
       "9              DE5               dielectric    Megtron4                  \n",
       "10    Inner5(PWR2)                   signal      copper     Megtron4_2   \n",
       "11             DE6               dielectric  Megtron4_2                  \n",
       "12    Inner6(GND2)                   signal      copper     Megtron4_2   \n",
       "13             DE7               dielectric    Megtron4                  \n",
       "14       16_Bottom                   signal      copper  Solder Resist   \n",
       "15        Measures                  measure         NaN            NaN   \n",
       "16  SIwave Regions  siwavehfsssolverregions         NaN            NaN   \n",
       "17     Top Overlay               silkscreen         NaN            NaN   \n",
       "18      Top Solder               soldermask         NaN            NaN   \n",
       "19   Bottom Solder               soldermask         NaN            NaN   \n",
       "20  Bottom Overlay               silkscreen         NaN            NaN   \n",
       "21         Outline                  outline         NaN            NaN   \n",
       "22            Rats                 airlines         NaN            NaN   \n",
       "23          Errors                   errors         NaN            NaN   \n",
       "24         Symbols                   symbol         NaN            NaN   \n",
       "25  Postprocessing           postprocessing         NaN            NaN   \n",
       "\n",
       "   thickness                                          roughness  \\\n",
       "0    0.035mm  {'enabled': False, 'top': {'model': 'huray', '...   \n",
       "1      0.1mm  {'enabled': False, 'top': {'model': 'huray', '...   \n",
       "2    0.017mm  {'enabled': False, 'top': {'model': 'huray', '...   \n",
       "3    0.088mm  {'enabled': False, 'top': {'model': 'huray', '...   \n",
       "4    0.017mm  {'enabled': False, 'top': {'model': 'huray', '...   \n",
       "5      0.1mm  {'enabled': False, 'top': {'model': 'huray', '...   \n",
       "6    0.017mm  {'enabled': False, 'top': {'model': 'huray', '...   \n",
       "7        1mm  {'enabled': False, 'top': {'model': 'huray', '...   \n",
       "8    0.017mm  {'enabled': False, 'top': {'model': 'huray', '...   \n",
       "9      0.1mm  {'enabled': False, 'top': {'model': 'huray', '...   \n",
       "10   0.017mm  {'enabled': False, 'top': {'model': 'huray', '...   \n",
       "11   0.088mm  {'enabled': False, 'top': {'model': 'huray', '...   \n",
       "12   0.017mm  {'enabled': False, 'top': {'model': 'huray', '...   \n",
       "13     0.1mm  {'enabled': False, 'top': {'model': 'huray', '...   \n",
       "14   0.035mm  {'enabled': False, 'top': {'model': 'huray', '...   \n",
       "15       NaN                                                NaN   \n",
       "16       NaN                                                NaN   \n",
       "17       NaN                                                NaN   \n",
       "18       NaN                                                NaN   \n",
       "19       NaN                                                NaN   \n",
       "20       NaN                                                NaN   \n",
       "21       NaN                                                NaN   \n",
       "22       NaN                                                NaN   \n",
       "23       NaN                                                NaN   \n",
       "24       NaN                                                NaN   \n",
       "25       NaN                                                NaN   \n",
       "\n",
       "                                              etching  \n",
       "0   {'factor': '0', 'etch_power_ground_nets': Fals...  \n",
       "1   {'factor': '0', 'etch_power_ground_nets': Fals...  \n",
       "2   {'factor': '0', 'etch_power_ground_nets': Fals...  \n",
       "3   {'factor': '0', 'etch_power_ground_nets': Fals...  \n",
       "4   {'factor': '0', 'etch_power_ground_nets': Fals...  \n",
       "5   {'factor': '0', 'etch_power_ground_nets': Fals...  \n",
       "6   {'factor': '0', 'etch_power_ground_nets': Fals...  \n",
       "7   {'factor': '0', 'etch_power_ground_nets': Fals...  \n",
       "8   {'factor': '0', 'etch_power_ground_nets': Fals...  \n",
       "9   {'factor': '0', 'etch_power_ground_nets': Fals...  \n",
       "10  {'factor': '0', 'etch_power_ground_nets': Fals...  \n",
       "11  {'factor': '0', 'etch_power_ground_nets': Fals...  \n",
       "12  {'factor': '0', 'etch_power_ground_nets': Fals...  \n",
       "13  {'factor': '0', 'etch_power_ground_nets': Fals...  \n",
       "14  {'factor': '0', 'etch_power_ground_nets': Fals...  \n",
       "15                                                NaN  \n",
       "16                                                NaN  \n",
       "17                                                NaN  \n",
       "18                                                NaN  \n",
       "19                                                NaN  \n",
       "20                                                NaN  \n",
       "21                                                NaN  \n",
       "22                                                NaN  \n",
       "23                                                NaN  \n",
       "24                                                NaN  \n",
       "25                                                NaN  "
      ]
     },
     "metadata": {},
     "output_type": "display_data"
    }
   ],
   "source": [
    "df = pd.DataFrame(data=data_cfg[\"stackup\"][\"layers\"])\n",
    "display(df)"
   ]
  },
  {
   "cell_type": "markdown",
   "id": "3a7d776e",
   "metadata": {},
   "source": [
    "## Modify stackup"
   ]
  },
  {
   "cell_type": "markdown",
   "id": "20588c5d",
   "metadata": {},
   "source": [
    "Modify top layer thickness"
   ]
  },
  {
   "cell_type": "code",
   "execution_count": 7,
   "id": "f30c47b4",
   "metadata": {
    "execution": {
     "iopub.execute_input": "2025-10-30T04:10:47.032638Z",
     "iopub.status.busy": "2025-10-30T04:10:47.032638Z",
     "iopub.status.idle": "2025-10-30T04:10:47.048440Z",
     "shell.execute_reply": "2025-10-30T04:10:47.048440Z"
    }
   },
   "outputs": [],
   "source": [
    "data_cfg[\"stackup\"][\"layers\"][0][\"thickness\"] = 0.00005"
   ]
  },
  {
   "cell_type": "markdown",
   "id": "cd9d5a45",
   "metadata": {},
   "source": [
    "Add a solder mask layer"
   ]
  },
  {
   "cell_type": "code",
   "execution_count": 8,
   "id": "e712920c",
   "metadata": {
    "execution": {
     "iopub.execute_input": "2025-10-30T04:10:47.048440Z",
     "iopub.status.busy": "2025-10-30T04:10:47.048440Z",
     "iopub.status.idle": "2025-10-30T04:10:47.064658Z",
     "shell.execute_reply": "2025-10-30T04:10:47.064658Z"
    }
   },
   "outputs": [],
   "source": [
    "data_cfg[\"stackup\"][\"layers\"].insert(\n",
    "    0, {\"name\": \"soler_mask\", \"type\": \"dielectric\", \"material\": \"Megtron4\", \"fill_material\": \"\", \"thickness\": 0.00002}\n",
    ")"
   ]
  },
  {
   "cell_type": "markdown",
   "id": "5214a3fd",
   "metadata": {},
   "source": [
    "Review modified stackup"
   ]
  },
  {
   "cell_type": "code",
   "execution_count": 9,
   "id": "5e701e3c",
   "metadata": {
    "execution": {
     "iopub.execute_input": "2025-10-30T04:10:47.064658Z",
     "iopub.status.busy": "2025-10-30T04:10:47.064658Z",
     "iopub.status.idle": "2025-10-30T04:10:47.096445Z",
     "shell.execute_reply": "2025-10-30T04:10:47.096445Z"
    }
   },
   "outputs": [
    {
     "data": {
      "text/html": [
       "<div>\n",
       "<style scoped>\n",
       "    .dataframe tbody tr th:only-of-type {\n",
       "        vertical-align: middle;\n",
       "    }\n",
       "\n",
       "    .dataframe tbody tr th {\n",
       "        vertical-align: top;\n",
       "    }\n",
       "\n",
       "    .dataframe thead th {\n",
       "        text-align: right;\n",
       "    }\n",
       "</style>\n",
       "<table border=\"1\" class=\"dataframe\">\n",
       "  <thead>\n",
       "    <tr style=\"text-align: right;\">\n",
       "      <th></th>\n",
       "      <th>name</th>\n",
       "      <th>type</th>\n",
       "      <th>material</th>\n",
       "      <th>fill_material</th>\n",
       "      <th>thickness</th>\n",
       "      <th>roughness</th>\n",
       "      <th>etching</th>\n",
       "    </tr>\n",
       "  </thead>\n",
       "  <tbody>\n",
       "    <tr>\n",
       "      <th>0</th>\n",
       "      <td>soler_mask</td>\n",
       "      <td>dielectric</td>\n",
       "      <td>Megtron4</td>\n",
       "      <td></td>\n",
       "      <td>0.00002</td>\n",
       "      <td>NaN</td>\n",
       "      <td>NaN</td>\n",
       "    </tr>\n",
       "    <tr>\n",
       "      <th>1</th>\n",
       "      <td>1_Top</td>\n",
       "      <td>signal</td>\n",
       "      <td>copper</td>\n",
       "      <td>Solder Resist</td>\n",
       "      <td>0.00005</td>\n",
       "      <td>{'enabled': False, 'top': {'model': 'huray', '...</td>\n",
       "      <td>{'factor': '0', 'etch_power_ground_nets': Fals...</td>\n",
       "    </tr>\n",
       "    <tr>\n",
       "      <th>2</th>\n",
       "      <td>DE1</td>\n",
       "      <td>dielectric</td>\n",
       "      <td>Megtron4</td>\n",
       "      <td></td>\n",
       "      <td>0.1mm</td>\n",
       "      <td>{'enabled': False, 'top': {'model': 'huray', '...</td>\n",
       "      <td>{'factor': '0', 'etch_power_ground_nets': Fals...</td>\n",
       "    </tr>\n",
       "  </tbody>\n",
       "</table>\n",
       "</div>"
      ],
      "text/plain": [
       "         name        type  material  fill_material thickness  \\\n",
       "0  soler_mask  dielectric  Megtron4                  0.00002   \n",
       "1       1_Top      signal    copper  Solder Resist   0.00005   \n",
       "2         DE1  dielectric  Megtron4                    0.1mm   \n",
       "\n",
       "                                           roughness  \\\n",
       "0                                                NaN   \n",
       "1  {'enabled': False, 'top': {'model': 'huray', '...   \n",
       "2  {'enabled': False, 'top': {'model': 'huray', '...   \n",
       "\n",
       "                                             etching  \n",
       "0                                                NaN  \n",
       "1  {'factor': '0', 'etch_power_ground_nets': Fals...  \n",
       "2  {'factor': '0', 'etch_power_ground_nets': Fals...  "
      ]
     },
     "metadata": {},
     "output_type": "display_data"
    }
   ],
   "source": [
    "df = pd.DataFrame(data=data_cfg[\"stackup\"][\"layers\"])\n",
    "display(df.head(3))"
   ]
  },
  {
   "cell_type": "markdown",
   "id": "ced78257",
   "metadata": {},
   "source": [
    "Write stackup definition into a json file"
   ]
  },
  {
   "cell_type": "code",
   "execution_count": 10,
   "id": "b84005a6",
   "metadata": {
    "execution": {
     "iopub.execute_input": "2025-10-30T04:10:47.096445Z",
     "iopub.status.busy": "2025-10-30T04:10:47.096445Z",
     "iopub.status.idle": "2025-10-30T04:10:47.112369Z",
     "shell.execute_reply": "2025-10-30T04:10:47.112369Z"
    }
   },
   "outputs": [],
   "source": [
    "file_cfg = Path(temp_folder.name) / \"edb_configuration.json\"\n",
    "with open(file_cfg, \"w\") as f:\n",
    "    json.dump(data_cfg, f, indent=4, ensure_ascii=False)"
   ]
  },
  {
   "cell_type": "markdown",
   "id": "cc67dd45",
   "metadata": {},
   "source": [
    "Equivalent toml file looks like below "
   ]
  },
  {
   "cell_type": "code",
   "execution_count": 11,
   "id": "b963640b",
   "metadata": {
    "execution": {
     "iopub.execute_input": "2025-10-30T04:10:47.112369Z",
     "iopub.status.busy": "2025-10-30T04:10:47.112369Z",
     "iopub.status.idle": "2025-10-30T04:10:47.128279Z",
     "shell.execute_reply": "2025-10-30T04:10:47.128279Z"
    }
   },
   "outputs": [
    {
     "name": "stdout",
     "output_type": "stream",
     "text": [
      "[stackup]\n",
      "[[stackup.materials]]\n",
      "conductivity = 58000000.0\n",
      "dielectric_loss_tangent = 0.0\n",
      "magnetic_loss_tangent = 0.0\n",
      "mass_density = 0.0\n",
      "permittivity = 0.0\n",
      "permeability = 0.0\n",
      "poisson_ratio = 0.0\n",
      "specific_heat = 0.0\n",
      "thermal_conductivity = 0.0\n",
      "youngs_modulus = 0.0\n",
      "thermal_expansion_coefficient = 0.0\n",
      "name = \"copper\"\n",
      "\n",
      "[[stackup.materials]]\n",
      "conductivity = 0.0\n",
      "dielectric_loss_tangent = 0.02\n",
      "magnetic_loss_tangent = 0.0\n",
      "mass_density = 1900.0\n",
      "permittivity = 4.4\n",
      "permeability = 0.0\n",
      "poisson_ratio = 0.28\n",
      "specific_heat = 1150.0\n",
      "thermal_conductivity = 0.294\n",
      "youngs_modulus = 11000000000.0\n",
      "thermal_expansion_coefficient = 1.5e-5\n",
      "name = \"FR4_epoxy\"\n",
      "\n",
      "[[stackup.materials]]\n",
      "conductivity = 0.0\n",
      "dielectric_loss_tangent = 0.005\n",
      "magnetic_loss_tangent = 0.0\n",
      "mass_density = 0.0\n",
      "permittivity = 3.77\n",
      "permeability = 0.0\n",
      "poisson_ratio = 0.0\n",
      "specific_heat = 0.0\n",
      "thermal_conductivity = 0.0\n",
      "youngs_modulus = 0.0\n",
      "thermal_expansion_coefficient = 0.0\n",
      "name = \"Megtron4\"\n",
      "\n",
      "[[stackup.materials]]\n",
      "conductivity = 0.0\n",
      "dielectric_loss_tangent = 0.006\n",
      "magnetic_loss_tangent = 0.0\n",
      "mass_density = 0.0\n",
      "permittivity = 3.47\n",
      "permeability = 0.0\n",
      "poisson_ratio = 0.0\n",
      "specific_heat = 0.0\n",
      "thermal_conductivity = 0.0\n",
      "youngs_modulus = 0.0\n",
      "thermal_expansion_coefficient = 0.0\n",
      "name = \"Megtron4_2\"\n",
      "\n",
      "[[stackup.materials]]\n",
      "conductivity = 0.0\n",
      "dielectric_loss_tangent = 0.005\n",
      "magnetic_loss_tangent = 0.0\n",
      "mass_density = 0.0\n",
      "permittivity = 4.2\n",
      "permeability = 0.0\n",
      "poisson_ratio = 0.0\n",
      "specific_heat = 0.0\n",
      "thermal_conductivity = 0.0\n",
      "youngs_modulus = 0.0\n",
      "thermal_expansion_coefficient = 0.0\n",
      "name = \"Megtron4_3\"\n",
      "\n",
      "[[stackup.materials]]\n",
      "conductivity = 0.0\n",
      "dielectric_loss_tangent = 0.0\n",
      "magnetic_loss_tangent = 0.0\n",
      "mass_density = 0.0\n",
      "permittivity = 3.0\n",
      "permeability = 0.0\n",
      "poisson_ratio = 0.0\n",
      "specific_heat = 0.0\n",
      "thermal_conductivity = 0.0\n",
      "youngs_modulus = 0.0\n",
      "thermal_expansion_coefficient = 0.0\n",
      "name = \"Solder Resist\"\n",
      "\n",
      "[[stackup.layers]]\n",
      "name = \"soler_mask\"\n",
      "type = \"dielectric\"\n",
      "material = \"Megtron4\"\n",
      "fill_material = \"\"\n",
      "thickness = 2e-5\n",
      "\n",
      "[[stackup.layers]]\n",
      "name = \"1_Top\"\n",
      "type = \"signal\"\n",
      "material = \"copper\"\n",
      "fill_material = \"Solder Resist\"\n",
      "thickness = 5e-5\n",
      "\n",
      "[stackup.layers.roughness]\n",
      "enabled = false\n",
      "[stackup.layers.etching]\n",
      "factor = \"0\"\n",
      "etch_power_ground_nets = false\n",
      "enabled = false\n",
      "[stackup.layers.roughness.top]\n",
      "model = \"huray\"\n",
      "nodule_radius = \"0\"\n",
      "surface_ratio = \"0\"\n",
      "[stackup.layers.roughness.bottom]\n",
      "model = \"huray\"\n",
      "nodule_radius = \"0\"\n",
      "surface_ratio = \"0\"\n",
      "[stackup.layers.roughness.side]\n",
      "model = \"huray\"\n",
      "nodule_radius = \"0\"\n",
      "surface_ratio = \"0\"\n",
      "[[stackup.layers]]\n",
      "name = \"DE1\"\n",
      "type = \"dielectric\"\n",
      "material = \"Megtron4\"\n",
      "fill_material = \"\"\n",
      "thickness = \"0.1mm\"\n",
      "\n",
      "[stackup.layers.roughness]\n",
      "enabled = false\n",
      "[stackup.layers.etching]\n",
      "factor = \"0\"\n",
      "etch_power_ground_nets = false\n",
      "enabled = false\n",
      "[stackup.layers.roughness.top]\n",
      "model = \"huray\"\n",
      "nodule_radius = \"0\"\n",
      "surface_ratio = \"0\"\n",
      "[stackup.layers.roughness.bottom]\n",
      "model = \"huray\"\n",
      "nodule_radius = \"0\"\n",
      "surface_ratio = \"0\"\n",
      "[stackup.layers.roughness.side]\n",
      "model = \"huray\"\n",
      "nodule_radius = \"0\"\n",
      "surface_ratio = \"0\"\n",
      "[[stackup.layers]]\n",
      "name = \"Inner1(GND1)\"\n",
      "type = \"signal\"\n",
      "material = \"copper\"\n",
      "fill_material = \"Megtron4_2\"\n",
      "thickness = \"0.017mm\"\n",
      "\n",
      "[stackup.layers.roughness]\n",
      "enabled = false\n",
      "[stackup.layers.etching]\n",
      "factor = \"0\"\n",
      "etch_power_ground_nets = false\n",
      "enabled = false\n",
      "[stackup.layers.roughness.top]\n",
      "model = \"huray\"\n",
      "nodule_radius = \"0\"\n",
      "surface_ratio = \"0\"\n",
      "[stackup.layers.roughness.bottom]\n",
      "model = \"huray\"\n",
      "nodule_radius = \"0\"\n",
      "surface_ratio = \"0\"\n",
      "[stackup.layers.roughness.side]\n",
      "model = \"huray\"\n",
      "nodule_radius = \"0\"\n",
      "surface_ratio = \"0\"\n",
      "[[stackup.layers]]\n",
      "name = \"DE2\"\n",
      "type = \"dielectric\"\n",
      "material = \"Megtron4_2\"\n",
      "fill_material = \"\"\n",
      "thickness = \"0.088mm\"\n",
      "\n",
      "[stackup.layers.roughness]\n",
      "enabled = false\n",
      "[stackup.layers.etching]\n",
      "factor = \"0\"\n",
      "etch_power_ground_nets = false\n",
      "enabled = false\n",
      "[stackup.layers.roughness.top]\n",
      "model = \"huray\"\n",
      "nodule_radius = \"0\"\n",
      "surface_ratio = \"0\"\n",
      "[stackup.layers.roughness.bottom]\n",
      "model = \"huray\"\n",
      "nodule_radius = \"0\"\n",
      "surface_ratio = \"0\"\n",
      "[stackup.layers.roughness.side]\n",
      "model = \"huray\"\n",
      "nodule_radius = \"0\"\n",
      "surface_ratio = \"0\"\n",
      "[[stackup.layers]]\n",
      "name = \"Inner2(PWR1)\"\n",
      "type = \"signal\"\n",
      "material = \"copper\"\n",
      "fill_material = \"Megtron4_2\"\n",
      "thickness = \"0.017mm\"\n",
      "\n",
      "[stackup.layers.roughness]\n",
      "enabled = false\n",
      "[stackup.layers.etching]\n",
      "factor = \"0\"\n",
      "etch_power_ground_nets = false\n",
      "enabled = false\n",
      "[stackup.layers.roughness.top]\n",
      "model = \"huray\"\n",
      "nodule_radius = \"0\"\n",
      "surface_ratio = \"0\"\n",
      "[stackup.layers.roughness.bottom]\n",
      "model = \"huray\"\n",
      "nodule_radius = \"0\"\n",
      "surface_ratio = \"0\"\n",
      "[stackup.layers.roughness.side]\n",
      "model = \"huray\"\n",
      "nodule_radius = \"0\"\n",
      "surface_ratio = \"0\"\n",
      "[[stackup.layers]]\n",
      "name = \"DE3\"\n",
      "type = \"dielectric\"\n",
      "material = \"Megtron4\"\n",
      "fill_material = \"\"\n",
      "thickness = \"0.1mm\"\n",
      "\n",
      "[stackup.layers.roughness]\n",
      "enabled = false\n",
      "[stackup.layers.etching]\n",
      "factor = \"0\"\n",
      "etch_power_ground_nets = false\n",
      "enabled = false\n",
      "[stackup.layers.roughness.top]\n",
      "model = \"huray\"\n",
      "nodule_radius = \"0\"\n",
      "surface_ratio = \"0\"\n",
      "[stackup.layers.roughness.bottom]\n",
      "model = \"huray\"\n",
      "nodule_radius = \"0\"\n",
      "surface_ratio = \"0\"\n",
      "[stackup.layers.roughness.side]\n",
      "model = \"huray\"\n",
      "nodule_radius = \"0\"\n",
      "surface_ratio = \"0\"\n",
      "[[stackup.layers]]\n",
      "name = \"Inner3(Sig1)\"\n",
      "type = \"signal\"\n",
      "material = \"copper\"\n",
      "fill_material = \"Megtron4_3\"\n",
      "thickness = \"0.017mm\"\n",
      "\n",
      "[stackup.layers.roughness]\n",
      "enabled = false\n",
      "[stackup.layers.etching]\n",
      "factor = \"0\"\n",
      "etch_power_ground_nets = false\n",
      "enabled = false\n",
      "[stackup.layers.roughness.top]\n",
      "model = \"huray\"\n",
      "nodule_radius = \"0\"\n",
      "surface_ratio = \"0\"\n",
      "[stackup.layers.roughness.bottom]\n",
      "model = \"huray\"\n",
      "nodule_radius = \"0\"\n",
      "surface_ratio = \"0\"\n",
      "[stackup.layers.roughness.side]\n",
      "model = \"huray\"\n",
      "nodule_radius = \"0\"\n",
      "surface_ratio = \"0\"\n",
      "[[stackup.layers]]\n",
      "name = \"Megtron4-1mm\"\n",
      "type = \"dielectric\"\n",
      "material = \"Megtron4_3\"\n",
      "fill_material = \"\"\n",
      "thickness = \"1mm\"\n",
      "\n",
      "[stackup.layers.roughness]\n",
      "enabled = false\n",
      "[stackup.layers.etching]\n",
      "factor = \"0\"\n",
      "etch_power_ground_nets = false\n",
      "enabled = false\n",
      "[stackup.layers.roughness.top]\n",
      "model = \"huray\"\n",
      "nodule_radius = \"0\"\n",
      "surface_ratio = \"0\"\n",
      "[stackup.layers.roughness.bottom]\n",
      "model = \"huray\"\n",
      "nodule_radius = \"0\"\n",
      "surface_ratio = \"0\"\n",
      "[stackup.layers.roughness.side]\n",
      "model = \"huray\"\n",
      "nodule_radius = \"0\"\n",
      "surface_ratio = \"0\"\n",
      "[[stackup.layers]]\n",
      "name = \"Inner4(Sig2)\"\n",
      "type = \"signal\"\n",
      "material = \"copper\"\n",
      "fill_material = \"Megtron4_3\"\n",
      "thickness = \"0.017mm\"\n",
      "\n",
      "[stackup.layers.roughness]\n",
      "enabled = false\n",
      "[stackup.layers.etching]\n",
      "factor = \"0\"\n",
      "etch_power_ground_nets = false\n",
      "enabled = false\n",
      "[stackup.layers.roughness.top]\n",
      "model = \"huray\"\n",
      "nodule_radius = \"0\"\n",
      "surface_ratio = \"0\"\n",
      "[stackup.layers.roughness.bottom]\n",
      "model = \"huray\"\n",
      "nodule_radius = \"0\"\n",
      "surface_ratio = \"0\"\n",
      "[stackup.layers.roughness.side]\n",
      "model = \"huray\"\n",
      "nodule_radius = \"0\"\n",
      "surface_ratio = \"0\"\n",
      "[[stackup.layers]]\n",
      "name = \"DE5\"\n",
      "type = \"dielectric\"\n",
      "material = \"Megtron4\"\n",
      "fill_material = \"\"\n",
      "thickness = \"0.1mm\"\n",
      "\n",
      "[stackup.layers.roughness]\n",
      "enabled = false\n",
      "[stackup.layers.etching]\n",
      "factor = \"0\"\n",
      "etch_power_ground_nets = false\n",
      "enabled = false\n",
      "[stackup.layers.roughness.top]\n",
      "model = \"huray\"\n",
      "nodule_radius = \"0\"\n",
      "surface_ratio = \"0\"\n",
      "[stackup.layers.roughness.bottom]\n",
      "model = \"huray\"\n",
      "nodule_radius = \"0\"\n",
      "surface_ratio = \"0\"\n",
      "[stackup.layers.roughness.side]\n",
      "model = \"huray\"\n",
      "nodule_radius = \"0\"\n",
      "surface_ratio = \"0\"\n",
      "[[stackup.layers]]\n",
      "name = \"Inner5(PWR2)\"\n",
      "type = \"signal\"\n",
      "material = \"copper\"\n",
      "fill_material = \"Megtron4_2\"\n",
      "thickness = \"0.017mm\"\n",
      "\n",
      "[stackup.layers.roughness]\n",
      "enabled = false\n",
      "[stackup.layers.etching]\n",
      "factor = \"0\"\n",
      "etch_power_ground_nets = false\n",
      "enabled = false\n",
      "[stackup.layers.roughness.top]\n",
      "model = \"huray\"\n",
      "nodule_radius = \"0\"\n",
      "surface_ratio = \"0\"\n",
      "[stackup.layers.roughness.bottom]\n",
      "model = \"huray\"\n",
      "nodule_radius = \"0\"\n",
      "surface_ratio = \"0\"\n",
      "[stackup.layers.roughness.side]\n",
      "model = \"huray\"\n",
      "nodule_radius = \"0\"\n",
      "surface_ratio = \"0\"\n",
      "[[stackup.layers]]\n",
      "name = \"DE6\"\n",
      "type = \"dielectric\"\n",
      "material = \"Megtron4_2\"\n",
      "fill_material = \"\"\n",
      "thickness = \"0.088mm\"\n",
      "\n",
      "[stackup.layers.roughness]\n",
      "enabled = false\n",
      "[stackup.layers.etching]\n",
      "factor = \"0\"\n",
      "etch_power_ground_nets = false\n",
      "enabled = false\n",
      "[stackup.layers.roughness.top]\n",
      "model = \"huray\"\n",
      "nodule_radius = \"0\"\n",
      "surface_ratio = \"0\"\n",
      "[stackup.layers.roughness.bottom]\n",
      "model = \"huray\"\n",
      "nodule_radius = \"0\"\n",
      "surface_ratio = \"0\"\n",
      "[stackup.layers.roughness.side]\n",
      "model = \"huray\"\n",
      "nodule_radius = \"0\"\n",
      "surface_ratio = \"0\"\n",
      "[[stackup.layers]]\n",
      "name = \"Inner6(GND2)\"\n",
      "type = \"signal\"\n",
      "material = \"copper\"\n",
      "fill_material = \"Megtron4_2\"\n",
      "thickness = \"0.017mm\"\n",
      "\n",
      "[stackup.layers.roughness]\n",
      "enabled = false\n",
      "[stackup.layers.etching]\n",
      "factor = \"0\"\n",
      "etch_power_ground_nets = false\n",
      "enabled = false\n",
      "[stackup.layers.roughness.top]\n",
      "model = \"huray\"\n",
      "nodule_radius = \"0\"\n",
      "surface_ratio = \"0\"\n",
      "[stackup.layers.roughness.bottom]\n",
      "model = \"huray\"\n",
      "nodule_radius = \"0\"\n",
      "surface_ratio = \"0\"\n",
      "[stackup.layers.roughness.side]\n",
      "model = \"huray\"\n",
      "nodule_radius = \"0\"\n",
      "surface_ratio = \"0\"\n",
      "[[stackup.layers]]\n",
      "name = \"DE7\"\n",
      "type = \"dielectric\"\n",
      "material = \"Megtron4\"\n",
      "fill_material = \"\"\n",
      "thickness = \"0.1mm\"\n",
      "\n",
      "[stackup.layers.roughness]\n",
      "enabled = false\n",
      "[stackup.layers.etching]\n",
      "factor = \"0\"\n",
      "etch_power_ground_nets = false\n",
      "enabled = false\n",
      "[stackup.layers.roughness.top]\n",
      "model = \"huray\"\n",
      "nodule_radius = \"0\"\n",
      "surface_ratio = \"0\"\n",
      "[stackup.layers.roughness.bottom]\n",
      "model = \"huray\"\n",
      "nodule_radius = \"0\"\n",
      "surface_ratio = \"0\"\n",
      "[stackup.layers.roughness.side]\n",
      "model = \"huray\"\n",
      "nodule_radius = \"0\"\n",
      "surface_ratio = \"0\"\n",
      "[[stackup.layers]]\n",
      "name = \"16_Bottom\"\n",
      "type = \"signal\"\n",
      "material = \"copper\"\n",
      "fill_material = \"Solder Resist\"\n",
      "thickness = \"0.035mm\"\n",
      "\n",
      "[stackup.layers.roughness]\n",
      "enabled = false\n",
      "[stackup.layers.etching]\n",
      "factor = \"0\"\n",
      "etch_power_ground_nets = false\n",
      "enabled = false\n",
      "[stackup.layers.roughness.top]\n",
      "model = \"huray\"\n",
      "nodule_radius = \"0\"\n",
      "surface_ratio = \"0\"\n",
      "[stackup.layers.roughness.bottom]\n",
      "model = \"huray\"\n",
      "nodule_radius = \"0\"\n",
      "surface_ratio = \"0\"\n",
      "[stackup.layers.roughness.side]\n",
      "model = \"huray\"\n",
      "nodule_radius = \"0\"\n",
      "surface_ratio = \"0\"\n",
      "[[stackup.layers]]\n",
      "name = \"Measures\"\n",
      "type = \"measure\"\n",
      "\n",
      "[[stackup.layers]]\n",
      "name = \"SIwave Regions\"\n",
      "type = \"siwavehfsssolverregions\"\n",
      "\n",
      "[[stackup.layers]]\n",
      "name = \"Top Overlay\"\n",
      "type = \"silkscreen\"\n",
      "\n",
      "[[stackup.layers]]\n",
      "name = \"Top Solder\"\n",
      "type = \"soldermask\"\n",
      "\n",
      "[[stackup.layers]]\n",
      "name = \"Bottom Solder\"\n",
      "type = \"soldermask\"\n",
      "\n",
      "[[stackup.layers]]\n",
      "name = \"Bottom Overlay\"\n",
      "type = \"silkscreen\"\n",
      "\n",
      "[[stackup.layers]]\n",
      "name = \"Outline\"\n",
      "type = \"outline\"\n",
      "\n",
      "[[stackup.layers]]\n",
      "name = \"Rats\"\n",
      "type = \"airlines\"\n",
      "\n",
      "[[stackup.layers]]\n",
      "name = \"Errors\"\n",
      "type = \"errors\"\n",
      "\n",
      "[[stackup.layers]]\n",
      "name = \"Symbols\"\n",
      "type = \"symbol\"\n",
      "\n",
      "[[stackup.layers]]\n",
      "name = \"Postprocessing\"\n",
      "type = \"postprocessing\"\n",
      "\n",
      "\n"
     ]
    }
   ],
   "source": [
    "toml_string = toml.dumps(data_cfg)\n",
    "print(toml_string)"
   ]
  },
  {
   "cell_type": "markdown",
   "id": "c8f5e72a",
   "metadata": {},
   "source": [
    "## Load stackup from json configuration file"
   ]
  },
  {
   "cell_type": "code",
   "execution_count": 12,
   "id": "7841f5ad",
   "metadata": {
    "execution": {
     "iopub.execute_input": "2025-10-30T04:10:47.128279Z",
     "iopub.status.busy": "2025-10-30T04:10:47.128279Z",
     "iopub.status.idle": "2025-10-30T04:10:55.988715Z",
     "shell.execute_reply": "2025-10-30T04:10:55.988715Z"
    }
   },
   "outputs": [
    {
     "name": "stdout",
     "output_type": "stream",
     "text": [
      "PyEDB INFO: Updating boundaries finished. Time lapse 0:00:00.008087\n"
     ]
    },
    {
     "name": "stderr",
     "output_type": "stream",
     "text": [
      "INFO:Edb:Updating boundaries finished. Time lapse 0:00:00.008087\n"
     ]
    },
    {
     "name": "stdout",
     "output_type": "stream",
     "text": [
      "PyEDB INFO: Updating nets finished. Time lapse 0:00:00\n"
     ]
    },
    {
     "name": "stderr",
     "output_type": "stream",
     "text": [
      "INFO:Edb:Updating nets finished. Time lapse 0:00:00\n"
     ]
    },
    {
     "name": "stdout",
     "output_type": "stream",
     "text": [
      "PyEDB INFO: Updating components finished. Time lapse 0:00:00\n"
     ]
    },
    {
     "name": "stderr",
     "output_type": "stream",
     "text": [
      "INFO:Edb:Updating components finished. Time lapse 0:00:00\n"
     ]
    },
    {
     "name": "stdout",
     "output_type": "stream",
     "text": [
      "PyEDB INFO: Creating pin groups finished. Time lapse 0:00:00\n"
     ]
    },
    {
     "name": "stderr",
     "output_type": "stream",
     "text": [
      "INFO:Edb:Creating pin groups finished. Time lapse 0:00:00\n"
     ]
    },
    {
     "name": "stdout",
     "output_type": "stream",
     "text": [
      "PyEDB INFO: Placing sources finished. Time lapse 0:00:00\n"
     ]
    },
    {
     "name": "stderr",
     "output_type": "stream",
     "text": [
      "INFO:Edb:Placing sources finished. Time lapse 0:00:00\n"
     ]
    },
    {
     "name": "stdout",
     "output_type": "stream",
     "text": [
      "PyEDB INFO: Applying materials finished. Time lapse 0:00:00.016137\n"
     ]
    },
    {
     "name": "stderr",
     "output_type": "stream",
     "text": [
      "INFO:Edb:Applying materials finished. Time lapse 0:00:00.016137\n"
     ]
    },
    {
     "name": "stdout",
     "output_type": "stream",
     "text": [
      "PyEDB INFO: Updating stackup finished. Time lapse 0:00:08.748970\n"
     ]
    },
    {
     "name": "stderr",
     "output_type": "stream",
     "text": [
      "INFO:Edb:Updating stackup finished. Time lapse 0:00:08.748970\n"
     ]
    },
    {
     "name": "stdout",
     "output_type": "stream",
     "text": [
      "PyEDB INFO: Applying padstacks finished. Time lapse 0:00:00\n"
     ]
    },
    {
     "name": "stderr",
     "output_type": "stream",
     "text": [
      "INFO:Edb:Applying padstacks finished. Time lapse 0:00:00\n"
     ]
    },
    {
     "name": "stdout",
     "output_type": "stream",
     "text": [
      "PyEDB INFO: Applying S-parameters finished. Time lapse 0:00:00\n"
     ]
    },
    {
     "name": "stderr",
     "output_type": "stream",
     "text": [
      "INFO:Edb:Applying S-parameters finished. Time lapse 0:00:00\n"
     ]
    },
    {
     "name": "stdout",
     "output_type": "stream",
     "text": [
      "PyEDB INFO: Applying package definitions finished. Time lapse 0:00:00\n"
     ]
    },
    {
     "name": "stderr",
     "output_type": "stream",
     "text": [
      "INFO:Edb:Applying package definitions finished. Time lapse 0:00:00\n"
     ]
    },
    {
     "name": "stdout",
     "output_type": "stream",
     "text": [
      "PyEDB INFO: Applying modeler finished. Time lapse 0:00:00\n"
     ]
    },
    {
     "name": "stderr",
     "output_type": "stream",
     "text": [
      "INFO:Edb:Applying modeler finished. Time lapse 0:00:00\n"
     ]
    },
    {
     "name": "stdout",
     "output_type": "stream",
     "text": [
      "PyEDB INFO: Placing ports finished. Time lapse 0:00:00\n"
     ]
    },
    {
     "name": "stderr",
     "output_type": "stream",
     "text": [
      "INFO:Edb:Placing ports finished. Time lapse 0:00:00\n"
     ]
    },
    {
     "name": "stdout",
     "output_type": "stream",
     "text": [
      "PyEDB INFO: Placing terminals completed in 0.0000 seconds.\n"
     ]
    },
    {
     "name": "stderr",
     "output_type": "stream",
     "text": [
      "INFO:Edb:Placing terminals completed in 0.0000 seconds.\n"
     ]
    },
    {
     "name": "stdout",
     "output_type": "stream",
     "text": [
      "PyEDB INFO: Placing probes finished. Time lapse 0:00:00\n"
     ]
    },
    {
     "name": "stderr",
     "output_type": "stream",
     "text": [
      "INFO:Edb:Placing probes finished. Time lapse 0:00:00\n"
     ]
    },
    {
     "name": "stdout",
     "output_type": "stream",
     "text": [
      "PyEDB INFO: Applying operations completed in 0.0000 seconds.\n"
     ]
    },
    {
     "name": "stderr",
     "output_type": "stream",
     "text": [
      "INFO:Edb:Applying operations completed in 0.0000 seconds.\n"
     ]
    },
    {
     "data": {
      "text/plain": [
       "<pyedb.configuration.cfg_data.CfgData at 0x1bc15b790f0>"
      ]
     },
     "execution_count": 12,
     "metadata": {},
     "output_type": "execute_result"
    }
   ],
   "source": [
    "edbapp.configuration.load(file_cfg, apply_file=True)"
   ]
  },
  {
   "cell_type": "markdown",
   "id": "7c47b627",
   "metadata": {},
   "source": [
    "Plot stackup"
   ]
  },
  {
   "cell_type": "code",
   "execution_count": 13,
   "id": "26bf5dc4",
   "metadata": {
    "execution": {
     "iopub.execute_input": "2025-10-30T04:10:56.988799Z",
     "iopub.status.busy": "2025-10-30T04:10:56.988799Z",
     "iopub.status.idle": "2025-10-30T04:10:57.432175Z",
     "shell.execute_reply": "2025-10-30T04:10:57.432175Z"
    }
   },
   "outputs": [
    {
     "data": {
      "image/png": "[encoded data removed]",
      "text/plain": [
       "<Figure size 2000x1500 with 1 Axes>"
      ]
     },
     "metadata": {},
     "output_type": "display_data"
    },
    {
     "data": {
      "text/plain": [
       "<module 'matplotlib.pyplot' from 'C:\\\\actions-runner\\\\_work\\\\pyaedt-examples\\\\pyaedt-examples\\\\.venv\\\\lib\\\\site-packages\\\\matplotlib\\\\pyplot.py'>"
      ]
     },
     "execution_count": 13,
     "metadata": {},
     "output_type": "execute_result"
    }
   ],
   "source": [
    "edbapp.stackup.plot()"
   ]
  },
  {
   "cell_type": "markdown",
   "id": "8ce7cfd4",
   "metadata": {},
   "source": [
    "Check top layer thickness"
   ]
  },
  {
   "cell_type": "code",
   "execution_count": 14,
   "id": "3fe729c7",
   "metadata": {
    "execution": {
     "iopub.execute_input": "2025-10-30T04:10:57.432175Z",
     "iopub.status.busy": "2025-10-30T04:10:57.432175Z",
     "iopub.status.idle": "2025-10-30T04:10:57.447914Z",
     "shell.execute_reply": "2025-10-30T04:10:57.447914Z"
    }
   },
   "outputs": [
    {
     "data": {
      "text/plain": [
       "5e-05"
      ]
     },
     "execution_count": 14,
     "metadata": {},
     "output_type": "execute_result"
    }
   ],
   "source": [
    "edbapp.stackup[\"1_Top\"].thickness"
   ]
  },
  {
   "cell_type": "markdown",
   "id": "698d6fa0",
   "metadata": {},
   "source": [
    "## Save and close Edb\n",
    "The temporary folder will be deleted once the execution of this script is finished. Replace **edbapp.save()** with\n",
    "**edbapp.save_as(\"C:/example.aedb\")** to keep the example project."
   ]
  },
  {
   "cell_type": "code",
   "execution_count": 15,
   "id": "acd14ef7",
   "metadata": {
    "execution": {
     "iopub.execute_input": "2025-10-30T04:10:57.447914Z",
     "iopub.status.busy": "2025-10-30T04:10:57.447914Z",
     "iopub.status.idle": "2025-10-30T04:10:57.669699Z",
     "shell.execute_reply": "2025-10-30T04:10:57.669699Z"
    }
   },
   "outputs": [
    {
     "name": "stdout",
     "output_type": "stream",
     "text": [
      "PyEDB INFO: Save Edb file completed in 0.1109 seconds.\n"
     ]
    },
    {
     "name": "stderr",
     "output_type": "stream",
     "text": [
      "INFO:Edb:Save Edb file completed in 0.1109 seconds.\n"
     ]
    },
    {
     "name": "stdout",
     "output_type": "stream",
     "text": [
      "PyEDB INFO: Close Edb file completed in 0.0722 seconds.\n"
     ]
    },
    {
     "name": "stderr",
     "output_type": "stream",
     "text": [
      "INFO:Edb:Close Edb file completed in 0.0722 seconds.\n"
     ]
    },
    {
     "data": {
      "text/plain": [
       "True"
      ]
     },
     "execution_count": 15,
     "metadata": {},
     "output_type": "execute_result"
    }
   ],
   "source": [
    "edbapp.save()\n",
    "edbapp.close()"
   ]
  }
 ],
 "metadata": {
  "jupytext": {
   "cell_metadata_filter": "-all",
   "main_language": "python",
   "notebook_metadata_filter": "-all"
  },
  "language_info": {
   "codemirror_mode": {
    "name": "ipython",
    "version": 3
   },
   "file_extension": ".py",
   "mimetype": "text/x-python",
   "name": "python",
   "nbconvert_exporter": "python",
   "pygments_lexer": "ipython3",
   "version": "3.10.11"
  }
 },
 "nbformat": 4,
 "nbformat_minor": 5
}
