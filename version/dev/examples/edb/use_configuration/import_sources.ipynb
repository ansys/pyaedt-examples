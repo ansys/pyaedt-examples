{
 "cells": [
  {
   "cell_type": "markdown",
   "id": "12a96d85",
   "metadata": {},
   "source": [
    "# Import Sources\n",
    "This example shows how to import voltage and current sources. In this example, we are going to\n",
    "\n",
    "- Download an example board\n",
    "- Create a configuration file\n",
    "  - Add a voltage source between two nets\n",
    "  - Add a current source between two pins\n",
    "  - Add a current source between two pin groups\n",
    "  - Add a current source between two coordinates\n",
    "  - Add a current source to the nearest pin\n",
    "  - Add distributed sources\n",
    "- Import the configuration file"
   ]
  },
  {
   "cell_type": "markdown",
   "id": "f4adc274",
   "metadata": {},
   "source": [
    "## Perform imports and define constants\n",
    "\n",
    "Perform required imports."
   ]
  },
  {
   "cell_type": "code",
   "execution_count": 1,
   "id": "7de75a08",
   "metadata": {
    "execution": {
     "iopub.execute_input": "2025-10-30T04:10:03.261542Z",
     "iopub.status.busy": "2025-10-30T04:10:03.261542Z",
     "iopub.status.idle": "2025-10-30T04:10:06.345410Z",
     "shell.execute_reply": "2025-10-30T04:10:06.345410Z"
    }
   },
   "outputs": [],
   "source": [
    "import json\n",
    "import toml\n",
    "from pathlib import Path\n",
    "import tempfile\n",
    "\n",
    "from ansys.aedt.core.examples.downloads import download_file\n",
    "from pyedb import Edb"
   ]
  },
  {
   "cell_type": "markdown",
   "id": "feab7db7",
   "metadata": {},
   "source": [
    "Define constants."
   ]
  },
  {
   "cell_type": "code",
   "execution_count": 2,
   "id": "24efaa95",
   "metadata": {
    "execution": {
     "iopub.execute_input": "2025-10-30T04:10:06.345410Z",
     "iopub.status.busy": "2025-10-30T04:10:06.345410Z",
     "iopub.status.idle": "2025-10-30T04:10:06.361454Z",
     "shell.execute_reply": "2025-10-30T04:10:06.361454Z"
    }
   },
   "outputs": [],
   "source": [
    "AEDT_VERSION = \"2025.2\"\n",
    "NG_MODE = False"
   ]
  },
  {
   "cell_type": "markdown",
   "id": "3a8d9266",
   "metadata": {},
   "source": [
    "Download the example PCB data."
   ]
  },
  {
   "cell_type": "code",
   "execution_count": 3,
   "id": "6d4d3a11",
   "metadata": {
    "execution": {
     "iopub.execute_input": "2025-10-30T04:10:06.361454Z",
     "iopub.status.busy": "2025-10-30T04:10:06.361454Z",
     "iopub.status.idle": "2025-10-30T04:10:07.163907Z",
     "shell.execute_reply": "2025-10-30T04:10:07.163907Z"
    }
   },
   "outputs": [],
   "source": [
    "temp_folder = tempfile.TemporaryDirectory(suffix=\".ansys\")\n",
    "file_edb = download_file(source=\"edb/ANSYS-HSD_V1.aedb\", local_path=temp_folder.name)"
   ]
  },
  {
   "cell_type": "markdown",
   "id": "a07e1745",
   "metadata": {},
   "source": [
    "## Load example layout"
   ]
  },
  {
   "cell_type": "code",
   "execution_count": 4,
   "id": "412c0c06",
   "metadata": {
    "execution": {
     "iopub.execute_input": "2025-10-30T04:10:07.163907Z",
     "iopub.status.busy": "2025-10-30T04:10:07.163907Z",
     "iopub.status.idle": "2025-10-30T04:10:19.583440Z",
     "shell.execute_reply": "2025-10-30T04:10:19.583440Z"
    }
   },
   "outputs": [
    {
     "name": "stderr",
     "output_type": "stream",
     "text": [
      "C:\\actions-runner\\_work\\pyaedt-examples\\pyaedt-examples\\.venv\\lib\\site-packages\\pyedb\\misc\\decorators.py:55: UserWarning: Argument `edbversion` is deprecated for method `Edb`; use `version` instead.\n",
      "  warnings.warn(\n",
      "C:\\actions-runner\\_work\\pyaedt-examples\\pyaedt-examples\\.venv\\lib\\site-packages\\pyedb\\generic\\design_types.py:301: UserWarning: Your ANSYS AEDT version is eligible to gRPC version.You might consider switching to that version for better user experience.For more information please check this link: https://edb.docs.pyansys.com/version/dev/grpc_api/index.html\n",
      "  warnings.warn(GRPC_GENERAL_WARNING, UserWarning)\n"
     ]
    },
    {
     "name": "stdout",
     "output_type": "stream",
     "text": [
      "PyEDB INFO: Star initializing Edb 04:10:10.424923\n"
     ]
    },
    {
     "name": "stderr",
     "output_type": "stream",
     "text": [
      "INFO:Edb:Star initializing Edb 04:10:10.424923\n"
     ]
    },
    {
     "name": "stdout",
     "output_type": "stream",
     "text": [
      "PyEDB INFO: Edb version 2025.2\n"
     ]
    },
    {
     "name": "stderr",
     "output_type": "stream",
     "text": [
      "INFO:Edb:Edb version 2025.2\n"
     ]
    },
    {
     "name": "stdout",
     "output_type": "stream",
     "text": [
      "PyEDB INFO: Logger is initialized. Log file is saved to C:\\Users\\ansys\\AppData\\Local\\Temp\\pyedb_ansys.log.\n"
     ]
    },
    {
     "name": "stderr",
     "output_type": "stream",
     "text": [
      "INFO:Edb:Logger is initialized. Log file is saved to C:\\Users\\ansys\\AppData\\Local\\Temp\\pyedb_ansys.log.\n"
     ]
    },
    {
     "name": "stdout",
     "output_type": "stream",
     "text": [
      "PyEDB INFO: legacy v0.61.0\n"
     ]
    },
    {
     "name": "stderr",
     "output_type": "stream",
     "text": [
      "INFO:Edb:legacy v0.61.0\n"
     ]
    },
    {
     "name": "stdout",
     "output_type": "stream",
     "text": [
      "PyEDB INFO: Python version 3.10.11 (tags/v3.10.11:7d4cc5a, Apr  5 2023, 00:38:17) [MSC v.1929 64 bit (AMD64)]\n"
     ]
    },
    {
     "name": "stderr",
     "output_type": "stream",
     "text": [
      "INFO:Edb:Python version 3.10.11 (tags/v3.10.11:7d4cc5a, Apr  5 2023, 00:38:17) [MSC v.1929 64 bit (AMD64)]\n"
     ]
    },
    {
     "name": "stdout",
     "output_type": "stream",
     "text": [
      "PyEDB INFO: Database ANSYS-HSD_V1.aedb Opened in 2025.2\n"
     ]
    },
    {
     "name": "stderr",
     "output_type": "stream",
     "text": [
      "INFO:Edb:Database ANSYS-HSD_V1.aedb Opened in 2025.2\n"
     ]
    },
    {
     "name": "stdout",
     "output_type": "stream",
     "text": [
      "PyEDB INFO: Cell main Opened\n"
     ]
    },
    {
     "name": "stderr",
     "output_type": "stream",
     "text": [
      "INFO:Edb:Cell main Opened\n"
     ]
    },
    {
     "name": "stdout",
     "output_type": "stream",
     "text": [
      "PyEDB INFO: Builder was initialized.\n"
     ]
    },
    {
     "name": "stderr",
     "output_type": "stream",
     "text": [
      "INFO:Edb:Builder was initialized.\n"
     ]
    },
    {
     "name": "stdout",
     "output_type": "stream",
     "text": [
      "PyEDB INFO: open_edb completed in 9.0639 seconds.\n"
     ]
    },
    {
     "name": "stderr",
     "output_type": "stream",
     "text": [
      "INFO:Edb:open_edb completed in 9.0639 seconds.\n"
     ]
    },
    {
     "name": "stdout",
     "output_type": "stream",
     "text": [
      "PyEDB INFO: EDB initialization completed in 9.1427 seconds.\n"
     ]
    },
    {
     "name": "stderr",
     "output_type": "stream",
     "text": [
      "INFO:Edb:EDB initialization completed in 9.1427 seconds.\n"
     ]
    }
   ],
   "source": [
    "edbapp = Edb(file_edb, edbversion=AEDT_VERSION)"
   ]
  },
  {
   "cell_type": "markdown",
   "id": "e947bb7b",
   "metadata": {},
   "source": [
    "## Create an empty dictionary to host all configurations"
   ]
  },
  {
   "cell_type": "code",
   "execution_count": 5,
   "id": "910f24f8",
   "metadata": {
    "execution": {
     "iopub.execute_input": "2025-10-30T04:10:21.594188Z",
     "iopub.status.busy": "2025-10-30T04:10:21.594188Z",
     "iopub.status.idle": "2025-10-30T04:10:21.610308Z",
     "shell.execute_reply": "2025-10-30T04:10:21.610308Z"
    }
   },
   "outputs": [],
   "source": [
    "cfg = dict()"
   ]
  },
  {
   "cell_type": "markdown",
   "id": "a75393ec",
   "metadata": {},
   "source": [
    "## Add a voltage source between two nets"
   ]
  },
  {
   "cell_type": "markdown",
   "id": "99841758",
   "metadata": {},
   "source": [
    "Keywords\n",
    "\n",
    "- **name**. Name of the voltage source.\n",
    "- **Reference_designator**. Reference designator of the component.\n",
    "- **type**. Type of the source. Supported types are 'voltage', 'current'\n",
    "- **impedance**. Impedance of the port. Default is 5e7 Ohm for current sources, 1e-6 Ohm for voltage sources.\n",
    "- **positive_terminal**. Supported types are 'net', 'pin', 'pin_group', 'coordinates'\n",
    "  - **contact_radius**. Optional. Set circular equipotential region.\n",
    "  - **inline**. Optional. When True, contact points are placed in a row.\n",
    "  - **num_of_contact**. Optional. Number of contact points. Default is 1. Applicable only when inline is True.\n",
    "- **negative_terminal**. Supported types are 'net', 'pin', 'pin_group', 'coordinates'\n",
    "- **equipotential**. Set equipotential region on pins when True."
   ]
  },
  {
   "cell_type": "code",
   "execution_count": 6,
   "id": "0c025ef2",
   "metadata": {
    "execution": {
     "iopub.execute_input": "2025-10-30T04:10:21.610308Z",
     "iopub.status.busy": "2025-10-30T04:10:21.610308Z",
     "iopub.status.idle": "2025-10-30T04:10:21.626401Z",
     "shell.execute_reply": "2025-10-30T04:10:21.626401Z"
    }
   },
   "outputs": [],
   "source": [
    "voltage_source = {\n",
    "    \"name\": \"V_SOURCE_5V\",\n",
    "    \"reference_designator\": \"U4\",\n",
    "    \"type\": \"voltage\",\n",
    "    \"magnitude\": 1,\n",
    "    \"positive_terminal\": {\"net\": \"5V\", \"contact_radius\": \"1mm\"},\n",
    "    \"negative_terminal\": {\"net\": \"GND\", \"contact_radius\": \"1mm\"},\n",
    "    \"equipotential\": True,\n",
    "}"
   ]
  },
  {
   "cell_type": "markdown",
   "id": "51485610",
   "metadata": {},
   "source": [
    "## Add a current source between two pins"
   ]
  },
  {
   "cell_type": "code",
   "execution_count": 7,
   "id": "782fe703",
   "metadata": {
    "execution": {
     "iopub.execute_input": "2025-10-30T04:10:21.626401Z",
     "iopub.status.busy": "2025-10-30T04:10:21.626401Z",
     "iopub.status.idle": "2025-10-30T04:10:21.642138Z",
     "shell.execute_reply": "2025-10-30T04:10:21.642138Z"
    }
   },
   "outputs": [],
   "source": [
    "current_source_1 = {\n",
    "    \"name\": \"I_CURRENT_1A\",\n",
    "    \"reference_designator\": \"J5\",\n",
    "    \"type\": \"current\",\n",
    "    \"magnitude\": 10,\n",
    "    \"positive_terminal\": {\"pin\": \"15\"},\n",
    "    \"negative_terminal\": {\"pin\": \"14\"},\n",
    "}"
   ]
  },
  {
   "cell_type": "markdown",
   "id": "3c0cc62a",
   "metadata": {},
   "source": [
    "## Add a current source between two pin groups"
   ]
  },
  {
   "cell_type": "code",
   "execution_count": 8,
   "id": "935d0a99",
   "metadata": {
    "execution": {
     "iopub.execute_input": "2025-10-30T04:10:21.642138Z",
     "iopub.status.busy": "2025-10-30T04:10:21.642138Z",
     "iopub.status.idle": "2025-10-30T04:10:21.658002Z",
     "shell.execute_reply": "2025-10-30T04:10:21.658002Z"
    }
   },
   "outputs": [],
   "source": [
    "pin_groups = [\n",
    "    {\"name\": \"IC2_5V\", \"reference_designator\": \"IC2\", \"pins\": [\"8\"]},\n",
    "    {\"name\": \"IC2_GND\", \"reference_designator\": \"IC2\", \"net\": \"GND\"},\n",
    "]"
   ]
  },
  {
   "cell_type": "code",
   "execution_count": 9,
   "id": "04dc9a93",
   "metadata": {
    "execution": {
     "iopub.execute_input": "2025-10-30T04:10:21.658002Z",
     "iopub.status.busy": "2025-10-30T04:10:21.658002Z",
     "iopub.status.idle": "2025-10-30T04:10:21.674178Z",
     "shell.execute_reply": "2025-10-30T04:10:21.674178Z"
    }
   },
   "outputs": [],
   "source": [
    "current_source_2 = {\n",
    "    \"name\": \"CURRENT_SOURCE_2\",\n",
    "    \"type\": \"current\",\n",
    "    \"positive_terminal\": {\"pin_group\": \"IC2_5V\"},\n",
    "    \"negative_terminal\": {\"pin_group\": \"IC2_GND\"},\n",
    "}"
   ]
  },
  {
   "cell_type": "markdown",
   "id": "4ee4d2c6",
   "metadata": {},
   "source": [
    "## Add a current source between two coordinates"
   ]
  },
  {
   "cell_type": "markdown",
   "id": "87d348b1",
   "metadata": {},
   "source": [
    "Keywords\n",
    "\n",
    "- **layer**. Layer on which the terminal is placed\n",
    "- **point**. XY coordinate the terminal is placed\n",
    "- **net**. Name of the net the terminal is placed on"
   ]
  },
  {
   "cell_type": "code",
   "execution_count": 10,
   "id": "bf2f669f",
   "metadata": {
    "execution": {
     "iopub.execute_input": "2025-10-30T04:10:21.674178Z",
     "iopub.status.busy": "2025-10-30T04:10:21.674178Z",
     "iopub.status.idle": "2025-10-30T04:10:21.690350Z",
     "shell.execute_reply": "2025-10-30T04:10:21.690350Z"
    }
   },
   "outputs": [],
   "source": [
    "current_source_3 = {\n",
    "    \"name\": \"CURRENT_SOURCE_3\",\n",
    "    \"type\": \"current\",\n",
    "    \"equipotential\": True,\n",
    "    \"positive_terminal\": {\"coordinates\": {\"layer\": \"1_Top\", \"point\": [\"116mm\", \"41mm\"], \"net\": \"5V\"}},\n",
    "    \"negative_terminal\": {\"coordinates\": {\"layer\": \"Inner1(GND1)\", \"point\": [\"116mm\", \"41mm\"], \"net\": \"GND\"}},\n",
    "}"
   ]
  },
  {
   "cell_type": "markdown",
   "id": "12453420",
   "metadata": {},
   "source": [
    "## Add a current source reference to the nearest pin"
   ]
  },
  {
   "cell_type": "markdown",
   "id": "4a54d119",
   "metadata": {},
   "source": [
    "Keywords\n",
    "\n",
    "- **reference_net**. Name of the reference net\n",
    "- **search_radius**. Reference pin search radius in meter"
   ]
  },
  {
   "cell_type": "code",
   "execution_count": 11,
   "id": "d2f7f976",
   "metadata": {
    "execution": {
     "iopub.execute_input": "2025-10-30T04:10:21.690350Z",
     "iopub.status.busy": "2025-10-30T04:10:21.690350Z",
     "iopub.status.idle": "2025-10-30T04:10:21.706115Z",
     "shell.execute_reply": "2025-10-30T04:10:21.706115Z"
    }
   },
   "outputs": [],
   "source": [
    "current_source_4 = {\n",
    "    \"name\": \"CURRENT_SOURCE_4\",\n",
    "    \"reference_designator\": \"J5\",\n",
    "    \"type\": \"current\",\n",
    "    \"positive_terminal\": {\"pin\": \"16\"},\n",
    "    \"negative_terminal\": {\"nearest_pin\": {\"reference_net\": \"GND\", \"search_radius\": 5e-3}},\n",
    "}"
   ]
  },
  {
   "cell_type": "markdown",
   "id": "09a4dd3d",
   "metadata": {},
   "source": [
    "## Add distributed current sources"
   ]
  },
  {
   "cell_type": "markdown",
   "id": "f9e62b51",
   "metadata": {},
   "source": [
    "Keywords\n",
    "\n",
    "- **distributed**. Whether to create distributed sources. When set to True, ports are created per pin"
   ]
  },
  {
   "cell_type": "code",
   "execution_count": 12,
   "id": "d923bbfb",
   "metadata": {
    "execution": {
     "iopub.execute_input": "2025-10-30T04:10:21.710118Z",
     "iopub.status.busy": "2025-10-30T04:10:21.710118Z",
     "iopub.status.idle": "2025-10-30T04:10:21.722123Z",
     "shell.execute_reply": "2025-10-30T04:10:21.722123Z"
    }
   },
   "outputs": [],
   "source": [
    "sources_distributed = {\n",
    "    \"name\": \"DISTRIBUTED\",\n",
    "    \"reference_designator\": \"U2\",\n",
    "    \"type\": \"current\",\n",
    "    \"distributed\": True,\n",
    "    \"positive_terminal\": {\"net\": \"5V\"},\n",
    "    \"negative_terminal\": {\"net\": \"GND\"},\n",
    "}"
   ]
  },
  {
   "cell_type": "markdown",
   "id": "867d6ca6",
   "metadata": {},
   "source": [
    "## Add setups in configuration"
   ]
  },
  {
   "cell_type": "code",
   "execution_count": 13,
   "id": "98dbd8e4",
   "metadata": {
    "execution": {
     "iopub.execute_input": "2025-10-30T04:10:21.722123Z",
     "iopub.status.busy": "2025-10-30T04:10:21.722123Z",
     "iopub.status.idle": "2025-10-30T04:10:21.738053Z",
     "shell.execute_reply": "2025-10-30T04:10:21.738053Z"
    }
   },
   "outputs": [],
   "source": [
    "cfg[\"pin_groups\"] = pin_groups\n",
    "cfg[\"sources\"] = [\n",
    "    voltage_source,\n",
    "    current_source_1,\n",
    "    current_source_2,\n",
    "    current_source_3,\n",
    "    current_source_4,\n",
    "    sources_distributed,\n",
    "]"
   ]
  },
  {
   "cell_type": "markdown",
   "id": "e7b1ddba",
   "metadata": {},
   "source": [
    "## Write configuration into as JSON file"
   ]
  },
  {
   "cell_type": "code",
   "execution_count": 14,
   "id": "03262960",
   "metadata": {
    "execution": {
     "iopub.execute_input": "2025-10-30T04:10:21.742201Z",
     "iopub.status.busy": "2025-10-30T04:10:21.742201Z",
     "iopub.status.idle": "2025-10-30T04:10:21.754212Z",
     "shell.execute_reply": "2025-10-30T04:10:21.754212Z"
    }
   },
   "outputs": [],
   "source": [
    "file_json = Path(temp_folder.name) / \"edb_configuration.json\"\n",
    "with open(file_json, \"w\") as f:\n",
    "    json.dump(cfg, f, indent=4, ensure_ascii=False)"
   ]
  },
  {
   "cell_type": "markdown",
   "id": "b6f97bf0",
   "metadata": {},
   "source": [
    "Equivalent toml file looks like below "
   ]
  },
  {
   "cell_type": "code",
   "execution_count": 15,
   "id": "f31d969f",
   "metadata": {
    "execution": {
     "iopub.execute_input": "2025-10-30T04:10:21.754212Z",
     "iopub.status.busy": "2025-10-30T04:10:21.754212Z",
     "iopub.status.idle": "2025-10-30T04:10:21.769954Z",
     "shell.execute_reply": "2025-10-30T04:10:21.769954Z"
    },
    "lines_to_next_cell": 2
   },
   "outputs": [
    {
     "name": "stdout",
     "output_type": "stream",
     "text": [
      "[[pin_groups]]\n",
      "name = \"IC2_5V\"\n",
      "reference_designator = \"IC2\"\n",
      "pins = [ \"8\",]\n",
      "\n",
      "[[pin_groups]]\n",
      "name = \"IC2_GND\"\n",
      "reference_designator = \"IC2\"\n",
      "net = \"GND\"\n",
      "\n",
      "[[sources]]\n",
      "name = \"V_SOURCE_5V\"\n",
      "reference_designator = \"U4\"\n",
      "type = \"voltage\"\n",
      "magnitude = 1\n",
      "equipotential = true\n",
      "\n",
      "[sources.positive_terminal]\n",
      "net = \"5V\"\n",
      "contact_radius = \"1mm\"\n",
      "[sources.negative_terminal]\n",
      "net = \"GND\"\n",
      "contact_radius = \"1mm\"\n",
      "[[sources]]\n",
      "name = \"I_CURRENT_1A\"\n",
      "reference_designator = \"J5\"\n",
      "type = \"current\"\n",
      "magnitude = 10\n",
      "\n",
      "[sources.positive_terminal]\n",
      "pin = \"15\"\n",
      "[sources.negative_terminal]\n",
      "pin = \"14\"\n",
      "[[sources]]\n",
      "name = \"CURRENT_SOURCE_2\"\n",
      "type = \"current\"\n",
      "\n",
      "[sources.positive_terminal]\n",
      "pin_group = \"IC2_5V\"\n",
      "[sources.negative_terminal]\n",
      "pin_group = \"IC2_GND\"\n",
      "[[sources]]\n",
      "name = \"CURRENT_SOURCE_3\"\n",
      "type = \"current\"\n",
      "equipotential = true\n",
      "\n",
      "[sources.positive_terminal.coordinates]\n",
      "layer = \"1_Top\"\n",
      "point = [ \"116mm\", \"41mm\",]\n",
      "net = \"5V\"\n",
      "[sources.negative_terminal.coordinates]\n",
      "layer = \"Inner1(GND1)\"\n",
      "point = [ \"116mm\", \"41mm\",]\n",
      "net = \"GND\"\n",
      "[[sources]]\n",
      "name = \"CURRENT_SOURCE_4\"\n",
      "reference_designator = \"J5\"\n",
      "type = \"current\"\n",
      "\n",
      "[sources.positive_terminal]\n",
      "pin = \"16\"\n",
      "[sources.negative_terminal.nearest_pin]\n",
      "reference_net = \"GND\"\n",
      "search_radius = 0.005\n",
      "[[sources]]\n",
      "name = \"DISTRIBUTED\"\n",
      "reference_designator = \"U2\"\n",
      "type = \"current\"\n",
      "distributed = true\n",
      "\n",
      "[sources.positive_terminal]\n",
      "net = \"5V\"\n",
      "[sources.negative_terminal]\n",
      "net = \"GND\"\n",
      "\n"
     ]
    }
   ],
   "source": [
    "toml_string = toml.dumps(cfg)\n",
    "print(toml_string)"
   ]
  },
  {
   "cell_type": "markdown",
   "id": "2d2af20b",
   "metadata": {},
   "source": [
    "## Import configuration into example layout"
   ]
  },
  {
   "cell_type": "code",
   "execution_count": 16,
   "id": "64f4897f",
   "metadata": {
    "execution": {
     "iopub.execute_input": "2025-10-30T04:10:21.769954Z",
     "iopub.status.busy": "2025-10-30T04:10:21.769954Z",
     "iopub.status.idle": "2025-10-30T04:10:22.323686Z",
     "shell.execute_reply": "2025-10-30T04:10:22.323686Z"
    }
   },
   "outputs": [
    {
     "name": "stdout",
     "output_type": "stream",
     "text": [
      "PyEDB INFO: Updating boundaries finished. Time lapse 0:00:00.015991\n"
     ]
    },
    {
     "name": "stderr",
     "output_type": "stream",
     "text": [
      "INFO:Edb:Updating boundaries finished. Time lapse 0:00:00.015991\n"
     ]
    },
    {
     "name": "stdout",
     "output_type": "stream",
     "text": [
      "PyEDB INFO: Updating nets finished. Time lapse 0:00:00\n"
     ]
    },
    {
     "name": "stderr",
     "output_type": "stream",
     "text": [
      "INFO:Edb:Updating nets finished. Time lapse 0:00:00\n"
     ]
    },
    {
     "name": "stdout",
     "output_type": "stream",
     "text": [
      "PyEDB INFO: Updating components finished. Time lapse 0:00:00\n"
     ]
    },
    {
     "name": "stderr",
     "output_type": "stream",
     "text": [
      "INFO:Edb:Updating components finished. Time lapse 0:00:00\n"
     ]
    },
    {
     "name": "stdout",
     "output_type": "stream",
     "text": [
      "PyEDB INFO: Creating pin groups finished. Time lapse 0:00:00.015909\n"
     ]
    },
    {
     "name": "stderr",
     "output_type": "stream",
     "text": [
      "INFO:Edb:Creating pin groups finished. Time lapse 0:00:00.015909\n"
     ]
    },
    {
     "name": "stdout",
     "output_type": "stream",
     "text": [
      "PyEDB INFO: Placing sources finished. Time lapse 0:00:00.474259\n"
     ]
    },
    {
     "name": "stderr",
     "output_type": "stream",
     "text": [
      "INFO:Edb:Placing sources finished. Time lapse 0:00:00.474259\n"
     ]
    },
    {
     "name": "stdout",
     "output_type": "stream",
     "text": [
      "PyEDB INFO: Applying materials finished. Time lapse 0:00:00\n"
     ]
    },
    {
     "name": "stderr",
     "output_type": "stream",
     "text": [
      "INFO:Edb:Applying materials finished. Time lapse 0:00:00\n"
     ]
    },
    {
     "name": "stdout",
     "output_type": "stream",
     "text": [
      "PyEDB INFO: Updating stackup finished. Time lapse 0:00:00\n"
     ]
    },
    {
     "name": "stderr",
     "output_type": "stream",
     "text": [
      "INFO:Edb:Updating stackup finished. Time lapse 0:00:00\n"
     ]
    },
    {
     "name": "stdout",
     "output_type": "stream",
     "text": [
      "PyEDB INFO: Applying padstacks finished. Time lapse 0:00:00\n"
     ]
    },
    {
     "name": "stderr",
     "output_type": "stream",
     "text": [
      "INFO:Edb:Applying padstacks finished. Time lapse 0:00:00\n"
     ]
    },
    {
     "name": "stdout",
     "output_type": "stream",
     "text": [
      "PyEDB INFO: Applying S-parameters finished. Time lapse 0:00:00\n"
     ]
    },
    {
     "name": "stderr",
     "output_type": "stream",
     "text": [
      "INFO:Edb:Applying S-parameters finished. Time lapse 0:00:00\n"
     ]
    },
    {
     "name": "stdout",
     "output_type": "stream",
     "text": [
      "PyEDB INFO: Applying package definitions finished. Time lapse 0:00:00\n"
     ]
    },
    {
     "name": "stderr",
     "output_type": "stream",
     "text": [
      "INFO:Edb:Applying package definitions finished. Time lapse 0:00:00\n"
     ]
    },
    {
     "name": "stdout",
     "output_type": "stream",
     "text": [
      "PyEDB INFO: Applying modeler finished. Time lapse 0:00:00\n"
     ]
    },
    {
     "name": "stderr",
     "output_type": "stream",
     "text": [
      "INFO:Edb:Applying modeler finished. Time lapse 0:00:00\n"
     ]
    },
    {
     "name": "stdout",
     "output_type": "stream",
     "text": [
      "PyEDB INFO: Placing ports finished. Time lapse 0:00:00\n"
     ]
    },
    {
     "name": "stderr",
     "output_type": "stream",
     "text": [
      "INFO:Edb:Placing ports finished. Time lapse 0:00:00\n"
     ]
    },
    {
     "name": "stdout",
     "output_type": "stream",
     "text": [
      "PyEDB INFO: Placing terminals completed in 0.0000 seconds.\n"
     ]
    },
    {
     "name": "stderr",
     "output_type": "stream",
     "text": [
      "INFO:Edb:Placing terminals completed in 0.0000 seconds.\n"
     ]
    },
    {
     "name": "stdout",
     "output_type": "stream",
     "text": [
      "PyEDB INFO: Placing probes finished. Time lapse 0:00:00\n"
     ]
    },
    {
     "name": "stderr",
     "output_type": "stream",
     "text": [
      "INFO:Edb:Placing probes finished. Time lapse 0:00:00\n"
     ]
    },
    {
     "name": "stdout",
     "output_type": "stream",
     "text": [
      "PyEDB INFO: Applying operations completed in 0.0000 seconds.\n"
     ]
    },
    {
     "name": "stderr",
     "output_type": "stream",
     "text": [
      "INFO:Edb:Applying operations completed in 0.0000 seconds.\n"
     ]
    },
    {
     "data": {
      "text/plain": [
       "True"
      ]
     },
     "execution_count": 16,
     "metadata": {},
     "output_type": "execute_result"
    }
   ],
   "source": [
    "edbapp.configuration.load(config_file=file_json)\n",
    "edbapp.configuration.run()"
   ]
  },
  {
   "cell_type": "markdown",
   "id": "bf93fe56",
   "metadata": {},
   "source": [
    "## Review"
   ]
  },
  {
   "cell_type": "code",
   "execution_count": 17,
   "id": "ca1b8ac1",
   "metadata": {
    "execution": {
     "iopub.execute_input": "2025-10-30T04:10:22.323686Z",
     "iopub.status.busy": "2025-10-30T04:10:22.323686Z",
     "iopub.status.idle": "2025-10-30T04:10:22.339396Z",
     "shell.execute_reply": "2025-10-30T04:10:22.339396Z"
    }
   },
   "outputs": [
    {
     "name": "stdout",
     "output_type": "stream",
     "text": [
      "{'V_SOURCE_5V': <pyedb.dotnet.database.edb_data.ports.ExcitationSources object at 0x0000016B15B794E0>, 'I_CURRENT_1A': <pyedb.dotnet.database.edb_data.ports.ExcitationSources object at 0x0000016B15B798D0>, 'CURRENT_SOURCE_2': <pyedb.dotnet.database.edb_data.ports.ExcitationSources object at 0x0000016B15B79CC0>, 'CURRENT_SOURCE_3': <pyedb.dotnet.database.edb_data.ports.ExcitationSources object at 0x0000016B15B7AEF0>, 'CURRENT_SOURCE_4': <pyedb.dotnet.database.edb_data.ports.ExcitationSources object at 0x0000016B15B7A8F0>, 'U2_5V_39': <pyedb.dotnet.database.edb_data.ports.ExcitationSources object at 0x0000016B15B7B820>, 'U2_5V_40': <pyedb.dotnet.database.edb_data.ports.ExcitationSources object at 0x0000016B15B79B70>, 'U2_5V_41': <pyedb.dotnet.database.edb_data.ports.ExcitationSources object at 0x0000016B15B79C00>, 'U2_5V_42': <pyedb.dotnet.database.edb_data.ports.ExcitationSources object at 0x0000016B15B7B640>, 'U2_5V_43': <pyedb.dotnet.database.edb_data.ports.ExcitationSources object at 0x0000016B15B7B970>, 'U2_5V_44': <pyedb.dotnet.database.edb_data.ports.ExcitationSources object at 0x0000016B15B7A770>, 'U2_5V_45': <pyedb.dotnet.database.edb_data.ports.ExcitationSources object at 0x0000016B15B7B0D0>, 'U2_5V_46': <pyedb.dotnet.database.edb_data.ports.ExcitationSources object at 0x0000016B15B7B520>, 'U2_5V_47': <pyedb.dotnet.database.edb_data.ports.ExcitationSources object at 0x0000016B15B7B790>, 'U2_5V_48': <pyedb.dotnet.database.edb_data.ports.ExcitationSources object at 0x0000016B15B7B2E0>, 'U2_5V_49': <pyedb.dotnet.database.edb_data.ports.ExcitationSources object at 0x0000016B18334040>, 'U2_5V_50': <pyedb.dotnet.database.edb_data.ports.ExcitationSources object at 0x0000016B18334070>, 'U2_5V_51': <pyedb.dotnet.database.edb_data.ports.ExcitationSources object at 0x0000016B183340A0>, 'U2_5V_60': <pyedb.dotnet.database.edb_data.ports.ExcitationSources object at 0x0000016B183340D0>}\n"
     ]
    }
   ],
   "source": [
    "print(edbapp.siwave.sources)"
   ]
  },
  {
   "cell_type": "markdown",
   "id": "bd63311f",
   "metadata": {},
   "source": [
    "## Save and close Edb\n",
    "The temporary folder will be deleted once the execution of this script is finished. Replace **edbapp.save()** with\n",
    "**edbapp.save_as(\"C:/example.aedb\")** to keep the example project."
   ]
  },
  {
   "cell_type": "code",
   "execution_count": 18,
   "id": "e76cdcba",
   "metadata": {
    "execution": {
     "iopub.execute_input": "2025-10-30T04:10:22.339396Z",
     "iopub.status.busy": "2025-10-30T04:10:22.339396Z",
     "iopub.status.idle": "2025-10-30T04:10:22.560364Z",
     "shell.execute_reply": "2025-10-30T04:10:22.560364Z"
    }
   },
   "outputs": [
    {
     "name": "stdout",
     "output_type": "stream",
     "text": [
      "PyEDB INFO: Save Edb file completed in 0.1188 seconds.\n"
     ]
    },
    {
     "name": "stderr",
     "output_type": "stream",
     "text": [
      "INFO:Edb:Save Edb file completed in 0.1188 seconds.\n"
     ]
    },
    {
     "name": "stdout",
     "output_type": "stream",
     "text": [
      "PyEDB INFO: Close Edb file completed in 0.0610 seconds.\n"
     ]
    },
    {
     "name": "stderr",
     "output_type": "stream",
     "text": [
      "INFO:Edb:Close Edb file completed in 0.0610 seconds.\n"
     ]
    },
    {
     "data": {
      "text/plain": [
       "True"
      ]
     },
     "execution_count": 18,
     "metadata": {},
     "output_type": "execute_result"
    }
   ],
   "source": [
    "edbapp.save()\n",
    "edbapp.close()"
   ]
  }
 ],
 "metadata": {
  "jupytext": {
   "cell_metadata_filter": "-all",
   "main_language": "python",
   "notebook_metadata_filter": "-all"
  },
  "language_info": {
   "codemirror_mode": {
    "name": "ipython",
    "version": 3
   },
   "file_extension": ".py",
   "mimetype": "text/x-python",
   "name": "python",
   "nbconvert_exporter": "python",
   "pygments_lexer": "ipython3",
   "version": "3.10.11"
  }
 },
 "nbformat": 4,
 "nbformat_minor": 5
}
