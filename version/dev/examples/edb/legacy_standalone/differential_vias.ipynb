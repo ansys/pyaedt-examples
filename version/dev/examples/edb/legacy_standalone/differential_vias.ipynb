{
 "cells": [
  {
   "cell_type": "markdown",
   "id": "b1126c9e",
   "metadata": {
    "lines_to_next_cell": 2
   },
   "source": [
    "# Parametric differential vias\n",
    "\n",
    "This example demonstrates how a differential via pair can be created using the EDB Python\n",
    "interface.\n",
    "\n",
    "The final differential via pair is shown below.\n",
    "\n",
    "<img src=\"_static/diff_via.png\" width=\"500\">\n",
    "\n",
    "Keywords: **Differential Via**"
   ]
  },
  {
   "cell_type": "markdown",
   "id": "5e382ca3",
   "metadata": {},
   "source": [
    "## Prerequisites\n",
    "\n",
    "### Perform imports"
   ]
  },
  {
   "cell_type": "code",
   "execution_count": 1,
   "id": "c2abc982",
   "metadata": {
    "execution": {
     "iopub.execute_input": "2025-10-30T04:01:36.586864Z",
     "iopub.status.busy": "2025-10-30T04:01:36.586864Z",
     "iopub.status.idle": "2025-10-30T04:01:36.618687Z",
     "shell.execute_reply": "2025-10-30T04:01:36.618687Z"
    }
   },
   "outputs": [],
   "source": [
    "import os\n",
    "import tempfile\n",
    "import pyedb"
   ]
  },
  {
   "cell_type": "markdown",
   "id": "060b0224",
   "metadata": {},
   "source": [
    "### Define constants\n",
    "Constants help ensure consistency and avoid repetition throughout the example."
   ]
  },
  {
   "cell_type": "code",
   "execution_count": 2,
   "id": "565d8f5d",
   "metadata": {
    "execution": {
     "iopub.execute_input": "2025-10-30T04:01:36.618687Z",
     "iopub.status.busy": "2025-10-30T04:01:36.618687Z",
     "iopub.status.idle": "2025-10-30T04:01:36.634745Z",
     "shell.execute_reply": "2025-10-30T04:01:36.634745Z"
    }
   },
   "outputs": [],
   "source": [
    "AEDT_VERSION = \"2025.2\"\n",
    "NG_MODE = False  # Open AEDT UI when it is launched."
   ]
  },
  {
   "cell_type": "code",
   "execution_count": 3,
   "id": "af3e4b82",
   "metadata": {
    "execution": {
     "iopub.execute_input": "2025-10-30T04:01:36.634745Z",
     "iopub.status.busy": "2025-10-30T04:01:36.634745Z",
     "iopub.status.idle": "2025-10-30T04:01:36.650912Z",
     "shell.execute_reply": "2025-10-30T04:01:36.650912Z"
    }
   },
   "outputs": [],
   "source": [
    "temp_folder = tempfile.TemporaryDirectory(suffix=\".ansys\")"
   ]
  },
  {
   "cell_type": "markdown",
   "id": "95e8d3b3",
   "metadata": {},
   "source": [
    "### Start the EDB"
   ]
  },
  {
   "cell_type": "code",
   "execution_count": 4,
   "id": "aa65e2a2",
   "metadata": {
    "execution": {
     "iopub.execute_input": "2025-10-30T04:01:36.650912Z",
     "iopub.status.busy": "2025-10-30T04:01:36.650912Z",
     "iopub.status.idle": "2025-10-30T04:01:51.325295Z",
     "shell.execute_reply": "2025-10-30T04:01:51.325295Z"
    }
   },
   "outputs": [
    {
     "name": "stdout",
     "output_type": "stream",
     "text": [
      "AEDB file path: C:\\Users\\ansys\\AppData\\Local\\Temp\\tmp9ww7roc3.ansys\\diff_via.aedb\n"
     ]
    },
    {
     "name": "stderr",
     "output_type": "stream",
     "text": [
      "C:\\actions-runner\\_work\\pyaedt-examples\\pyaedt-examples\\.venv\\lib\\site-packages\\pyedb\\misc\\decorators.py:55: UserWarning: Argument `edbversion` is deprecated for method `Edb`; use `version` instead.\n",
      "  warnings.warn(\n",
      "C:\\actions-runner\\_work\\pyaedt-examples\\pyaedt-examples\\.venv\\lib\\site-packages\\pyedb\\generic\\design_types.py:301: UserWarning: Your ANSYS AEDT version is eligible to gRPC version.You might consider switching to that version for better user experience.For more information please check this link: https://edb.docs.pyansys.com/version/dev/grpc_api/index.html\n",
      "  warnings.warn(GRPC_GENERAL_WARNING, UserWarning)\n"
     ]
    },
    {
     "name": "stdout",
     "output_type": "stream",
     "text": [
      "PyEDB INFO: Star initializing Edb 04:01:41.327031\n"
     ]
    },
    {
     "name": "stderr",
     "output_type": "stream",
     "text": [
      "INFO:Edb:Star initializing Edb 04:01:41.327031\n"
     ]
    },
    {
     "name": "stdout",
     "output_type": "stream",
     "text": [
      "PyEDB INFO: Edb version 2025.2\n"
     ]
    },
    {
     "name": "stderr",
     "output_type": "stream",
     "text": [
      "INFO:Edb:Edb version 2025.2\n"
     ]
    },
    {
     "name": "stdout",
     "output_type": "stream",
     "text": [
      "PyEDB INFO: Logger is initialized. Log file is saved to C:\\Users\\ansys\\AppData\\Local\\Temp\\pyedb_ansys.log.\n"
     ]
    },
    {
     "name": "stderr",
     "output_type": "stream",
     "text": [
      "INFO:Edb:Logger is initialized. Log file is saved to C:\\Users\\ansys\\AppData\\Local\\Temp\\pyedb_ansys.log.\n"
     ]
    },
    {
     "name": "stdout",
     "output_type": "stream",
     "text": [
      "PyEDB INFO: legacy v0.61.0\n"
     ]
    },
    {
     "name": "stderr",
     "output_type": "stream",
     "text": [
      "INFO:Edb:legacy v0.61.0\n"
     ]
    },
    {
     "name": "stdout",
     "output_type": "stream",
     "text": [
      "PyEDB INFO: Python version 3.10.11 (tags/v3.10.11:7d4cc5a, Apr  5 2023, 00:38:17) [MSC v.1929 64 bit (AMD64)]\n"
     ]
    },
    {
     "name": "stderr",
     "output_type": "stream",
     "text": [
      "INFO:Edb:Python version 3.10.11 (tags/v3.10.11:7d4cc5a, Apr  5 2023, 00:38:17) [MSC v.1929 64 bit (AMD64)]\n"
     ]
    },
    {
     "name": "stdout",
     "output_type": "stream",
     "text": [
      "PyEDB INFO: create_edb completed in 8.7487 seconds.\n"
     ]
    },
    {
     "name": "stderr",
     "output_type": "stream",
     "text": [
      "INFO:Edb:create_edb completed in 8.7487 seconds.\n"
     ]
    },
    {
     "name": "stdout",
     "output_type": "stream",
     "text": [
      "PyEDB INFO: EDB C:\\Users\\ansys\\AppData\\Local\\Temp\\tmp9ww7roc3.ansys\\diff_via.aedb created correctly.\n"
     ]
    },
    {
     "name": "stderr",
     "output_type": "stream",
     "text": [
      "INFO:Edb:EDB C:\\Users\\ansys\\AppData\\Local\\Temp\\tmp9ww7roc3.ansys\\diff_via.aedb created correctly.\n"
     ]
    },
    {
     "name": "stdout",
     "output_type": "stream",
     "text": [
      "PyEDB INFO: EDB initialization completed in 9.9822 seconds.\n"
     ]
    },
    {
     "name": "stderr",
     "output_type": "stream",
     "text": [
      "INFO:Edb:EDB initialization completed in 9.9822 seconds.\n"
     ]
    }
   ],
   "source": [
    "aedb_path = os.path.join(temp_folder.name, \"diff_via.aedb\")\n",
    "print(f\"AEDB file path: {aedb_path}\")\n",
    "\n",
    "edb = pyedb.Edb(edbpath=aedb_path, edbversion=AEDT_VERSION)"
   ]
  },
  {
   "cell_type": "markdown",
   "id": "2e423c2b",
   "metadata": {},
   "source": [
    "## Model Creation\n",
    "\n",
    "### Add stackup layers\n",
    "\n",
    "A stackup can be created layer by layer or imported from a \n",
    "[configuration file](https://examples.aedt.docs.pyansys.com/version/dev/examples/edb/use_configuration/import_stackup.html)."
   ]
  },
  {
   "cell_type": "code",
   "execution_count": 5,
   "id": "25e64e77",
   "metadata": {
    "execution": {
     "iopub.execute_input": "2025-10-30T04:01:53.330715Z",
     "iopub.status.busy": "2025-10-30T04:01:53.330715Z",
     "iopub.status.idle": "2025-10-30T04:01:53.394761Z",
     "shell.execute_reply": "2025-10-30T04:01:53.394761Z"
    }
   },
   "outputs": [
    {
     "name": "stderr",
     "output_type": "stream",
     "text": [
      "INFO:pyedb.dotnet.database.stackup:Material copper found in syslib. Adding it to aedb project.\n"
     ]
    },
    {
     "name": "stderr",
     "output_type": "stream",
     "text": [
      "INFO:pyedb.dotnet.database.stackup:Material FR4_epoxy found in syslib. Adding it to aedb project.\n"
     ]
    },
    {
     "data": {
      "text/plain": [
       "<pyedb.dotnet.database.edb_data.layer_data.StackupLayerEdbClass at 0x30ac236d0c0>"
      ]
     },
     "execution_count": 5,
     "metadata": {},
     "output_type": "execute_result"
    }
   ],
   "source": [
    "edb.stackup.add_layer(\"GND\")\n",
    "edb.stackup.add_layer(\"Diel\", \"GND\", layer_type=\"dielectric\", thickness=\"0.1mm\", material=\"FR4_epoxy\")\n",
    "edb.stackup.add_layer(\"TOP\", \"Diel\", thickness=\"0.05mm\")"
   ]
  },
  {
   "cell_type": "markdown",
   "id": "9c3402b6",
   "metadata": {},
   "source": [
    "### Create signal nets and ground planes\n",
    "Create a signal net and ground planes."
   ]
  },
  {
   "cell_type": "code",
   "execution_count": 6,
   "id": "bad12fe6",
   "metadata": {
    "execution": {
     "iopub.execute_input": "2025-10-30T04:01:53.394761Z",
     "iopub.status.busy": "2025-10-30T04:01:53.394761Z",
     "iopub.status.idle": "2025-10-30T04:01:53.442560Z",
     "shell.execute_reply": "2025-10-30T04:01:53.442560Z"
    },
    "lines_to_next_cell": 2
   },
   "outputs": [
    {
     "data": {
      "text/plain": [
       "<pyedb.dotnet.database.edb_data.primitives_data.EdbPolygon at 0x30ac23a8160>"
      ]
     },
     "execution_count": 6,
     "metadata": {},
     "output_type": "execute_result"
    }
   ],
   "source": [
    "points = [[0.0, 0], [100e-3, 0.0]]\n",
    "edb.modeler.create_trace(points, \"TOP\", width=1e-3)\n",
    "points = [[0.0, 1e-3], [0.0, 10e-3], [100e-3, 10e-3], [100e-3, 1e-3], [0.0, 1e-3]]\n",
    "edb.modeler.create_polygon(points, \"TOP\")\n",
    "points = [[0.0, -1e-3], [0.0, -10e-3], [100e-3, -10e-3], [100e-3, -1e-3], [0.0, -1e-3]]\n",
    "edb.modeler.create_polygon(points, \"TOP\")"
   ]
  },
  {
   "cell_type": "markdown",
   "id": "cf29c1aa",
   "metadata": {},
   "source": [
    "## Place vias"
   ]
  },
  {
   "cell_type": "code",
   "execution_count": 7,
   "id": "83e4e864",
   "metadata": {
    "execution": {
     "iopub.execute_input": "2025-10-30T04:01:53.442560Z",
     "iopub.status.busy": "2025-10-30T04:01:53.442560Z",
     "iopub.status.idle": "2025-10-30T04:01:53.569121Z",
     "shell.execute_reply": "2025-10-30T04:01:53.569121Z"
    },
    "lines_to_next_cell": 2
   },
   "outputs": [
    {
     "name": "stdout",
     "output_type": "stream",
     "text": [
      "PyEDB INFO: Padstack MyVia create correctly\n"
     ]
    },
    {
     "name": "stderr",
     "output_type": "stream",
     "text": [
      "INFO:Edb:Padstack MyVia create correctly\n"
     ]
    },
    {
     "data": {
      "text/plain": [
       "<pyedb.dotnet.database.edb_data.padstacks_data.EDBPadstackInstance at 0x30ac23a9630>"
      ]
     },
     "execution_count": 7,
     "metadata": {},
     "output_type": "execute_result"
    }
   ],
   "source": [
    "edb.padstacks.create(\"MyVia\")\n",
    "edb.padstacks.place([5e-3, 5e-3], \"MyVia\")\n",
    "edb.padstacks.place([15e-3, 5e-3], \"MyVia\")\n",
    "edb.padstacks.place([35e-3, 5e-3], \"MyVia\")\n",
    "edb.padstacks.place([45e-3, 5e-3], \"MyVia\")\n",
    "edb.padstacks.place([5e-3, -5e-3], \"MyVia\")\n",
    "edb.padstacks.place([15e-3, -5e-3], \"MyVia\")\n",
    "edb.padstacks.place([35e-3, -5e-3], \"MyVia\")\n",
    "edb.padstacks.place([45e-3, -5e-3], \"MyVia\")"
   ]
  },
  {
   "cell_type": "markdown",
   "id": "9c927f13",
   "metadata": {},
   "source": [
    "### View the nets"
   ]
  },
  {
   "cell_type": "code",
   "execution_count": 8,
   "id": "d351a6c8",
   "metadata": {
    "execution": {
     "iopub.execute_input": "2025-10-30T04:01:53.569121Z",
     "iopub.status.busy": "2025-10-30T04:01:53.569121Z",
     "iopub.status.idle": "2025-10-30T04:01:54.171786Z",
     "shell.execute_reply": "2025-10-30T04:01:54.169780Z"
    }
   },
   "outputs": [
    {
     "data": {
      "image/png": "[encoded data removed]",
      "text/plain": [
       "<Figure size 6000x3000 with 1 Axes>"
      ]
     },
     "metadata": {},
     "output_type": "display_data"
    },
    {
     "name": "stdout",
     "output_type": "stream",
     "text": [
      "PyEDB INFO: Plot Generation time 0.302\n"
     ]
    },
    {
     "name": "stderr",
     "output_type": "stream",
     "text": [
      "INFO:Edb:Plot Generation time 0.302\n"
     ]
    },
    {
     "data": {
      "text/plain": [
       "(<Figure size 6000x3000 with 1 Axes>,\n",
       " <Axes: title={'center': 'Edb Top View Cell_EEUG5T'}>)"
      ]
     },
     "execution_count": 8,
     "metadata": {},
     "output_type": "execute_result"
    }
   ],
   "source": [
    "edb.nets.plot(None, color_by_net=True)"
   ]
  },
  {
   "cell_type": "markdown",
   "id": "e0a28216",
   "metadata": {},
   "source": [
    "### View the stackup"
   ]
  },
  {
   "cell_type": "code",
   "execution_count": 9,
   "id": "2aac7e4d",
   "metadata": {
    "execution": {
     "iopub.execute_input": "2025-10-30T04:01:54.173793Z",
     "iopub.status.busy": "2025-10-30T04:01:54.173793Z",
     "iopub.status.idle": "2025-10-30T04:01:54.391901Z",
     "shell.execute_reply": "2025-10-30T04:01:54.391901Z"
    }
   },
   "outputs": [
    {
     "data": {
      "image/png": "[encoded data removed]",
      "text/plain": [
       "<Figure size 2000x1500 with 1 Axes>"
      ]
     },
     "metadata": {},
     "output_type": "display_data"
    },
    {
     "data": {
      "text/plain": [
       "<module 'matplotlib.pyplot' from 'C:\\\\actions-runner\\\\_work\\\\pyaedt-examples\\\\pyaedt-examples\\\\.venv\\\\lib\\\\site-packages\\\\matplotlib\\\\pyplot.py'>"
      ]
     },
     "execution_count": 9,
     "metadata": {},
     "output_type": "execute_result"
    }
   ],
   "source": [
    "edb.stackup.plot(plot_definitions=\"MyVia\")"
   ]
  },
  {
   "cell_type": "markdown",
   "id": "2c2d3565",
   "metadata": {},
   "source": [
    "## Finish\n",
    "\n",
    "### Save the project\n",
    "Save and close EDB."
   ]
  },
  {
   "cell_type": "code",
   "execution_count": 10,
   "id": "9626d31c",
   "metadata": {
    "execution": {
     "iopub.execute_input": "2025-10-30T04:01:54.391901Z",
     "iopub.status.busy": "2025-10-30T04:01:54.391901Z",
     "iopub.status.idle": "2025-10-30T04:01:54.439184Z",
     "shell.execute_reply": "2025-10-30T04:01:54.439184Z"
    }
   },
   "outputs": [
    {
     "name": "stdout",
     "output_type": "stream",
     "text": [
      "PyEDB INFO: Save Edb file completed in 0.0000 seconds.\n"
     ]
    },
    {
     "name": "stderr",
     "output_type": "stream",
     "text": [
      "INFO:Edb:Save Edb file completed in 0.0000 seconds.\n"
     ]
    },
    {
     "name": "stdout",
     "output_type": "stream",
     "text": [
      "PyEDB INFO: Close Edb file completed in 0.0158 seconds.\n"
     ]
    },
    {
     "name": "stderr",
     "output_type": "stream",
     "text": [
      "INFO:Edb:Close Edb file completed in 0.0158 seconds.\n"
     ]
    },
    {
     "name": "stdout",
     "output_type": "stream",
     "text": [
      "EDB saved correctly to C:\\Users\\ansys\\AppData\\Local\\Temp\\tmp9ww7roc3.ansys\\diff_via.aedb. You can import in AEDT.\n"
     ]
    }
   ],
   "source": [
    "if edb:\n",
    "    edb.save_edb()\n",
    "    edb.close_edb()\n",
    "print(\"EDB saved correctly to {}. You can import in AEDT.\".format(aedb_path))"
   ]
  },
  {
   "cell_type": "markdown",
   "id": "a585f28d",
   "metadata": {},
   "source": [
    "### Clean up\n",
    "\n",
    "All project files are saved in the folder ``temp_folder.name``.\n",
    "If you've run this example as a Jupyter notebook, you\n",
    "can retrieve those project files. The following cell\n",
    "removes all temporary files, including the project folder."
   ]
  },
  {
   "cell_type": "code",
   "execution_count": 11,
   "id": "f2211f81",
   "metadata": {
    "execution": {
     "iopub.execute_input": "2025-10-30T04:01:54.439184Z",
     "iopub.status.busy": "2025-10-30T04:01:54.439184Z",
     "iopub.status.idle": "2025-10-30T04:01:54.455394Z",
     "shell.execute_reply": "2025-10-30T04:01:54.455394Z"
    }
   },
   "outputs": [],
   "source": [
    "temp_folder.cleanup()"
   ]
  }
 ],
 "metadata": {
  "jupytext": {
   "cell_metadata_filter": "-all",
   "main_language": "python",
   "notebook_metadata_filter": "-all"
  },
  "language_info": {
   "codemirror_mode": {
    "name": "ipython",
    "version": 3
   },
   "file_extension": ".py",
   "mimetype": "text/x-python",
   "name": "python",
   "nbconvert_exporter": "python",
   "pygments_lexer": "ipython3",
   "version": "3.10.11"
  }
 },
 "nbformat": 4,
 "nbformat_minor": 5
}
