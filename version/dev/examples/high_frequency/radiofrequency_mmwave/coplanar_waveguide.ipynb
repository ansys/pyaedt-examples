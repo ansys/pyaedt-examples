{
 "cells": [
  {
   "cell_type": "markdown",
   "id": "b0648365",
   "metadata": {},
   "source": [
    "# Coplanar waveguide setup and analysis"
   ]
  },
  {
   "cell_type": "markdown",
   "id": "af6b6a99",
   "metadata": {},
   "source": [
    "This example shows how to create a CPWG (coplanar waveguide with ground) design\n",
    "in 2D Extractor and calculate the impedance.\n",
    "\n",
    "Keywords: **Q2D**, **CPWG**, **Coplanar Waveguide**."
   ]
  },
  {
   "cell_type": "markdown",
   "id": "33416f1f",
   "metadata": {},
   "source": [
    "## Prerequisites\n",
    "\n",
    "### Perform imports"
   ]
  },
  {
   "cell_type": "code",
   "execution_count": 1,
   "id": "f383e44d",
   "metadata": {
    "execution": {
     "iopub.execute_input": "2025-10-30T06:16:32.895779Z",
     "iopub.status.busy": "2025-10-30T06:16:32.895779Z",
     "iopub.status.idle": "2025-10-30T06:16:35.963966Z",
     "shell.execute_reply": "2025-10-30T06:16:35.963966Z"
    }
   },
   "outputs": [],
   "source": [
    "import os\n",
    "import tempfile\n",
    "import time\n",
    "\n",
    "import ansys.aedt.core"
   ]
  },
  {
   "cell_type": "markdown",
   "id": "f2828033",
   "metadata": {},
   "source": [
    "### Define constants\n",
    "Constants help ensure consistency and avoid repetition throughout the example."
   ]
  },
  {
   "cell_type": "code",
   "execution_count": 2,
   "id": "00bec455",
   "metadata": {
    "execution": {
     "iopub.execute_input": "2025-10-30T06:16:35.963966Z",
     "iopub.status.busy": "2025-10-30T06:16:35.963966Z",
     "iopub.status.idle": "2025-10-30T06:16:35.979727Z",
     "shell.execute_reply": "2025-10-30T06:16:35.979727Z"
    },
    "lines_to_next_cell": 2
   },
   "outputs": [],
   "source": [
    "AEDT_VERSION = \"2025.2\"\n",
    "NUM_CORES = 4\n",
    "NG_MODE = False  # Run the example without opening the UI."
   ]
  },
  {
   "cell_type": "markdown",
   "id": "6ee34e7d",
   "metadata": {},
   "source": [
    "### Create temporary directory\n",
    "\n",
    "Create a temporary working directory.\n",
    "The name of the working folder is stored in ``temp_folder.name``.\n",
    "\n",
    "> **Note:** The final cell in the notebook cleans up the temporary folder. If you want to\n",
    "> retrieve the AEDT project and data, do so before executing the final cell in the notebook."
   ]
  },
  {
   "cell_type": "code",
   "execution_count": 3,
   "id": "24147db9",
   "metadata": {
    "execution": {
     "iopub.execute_input": "2025-10-30T06:16:35.979727Z",
     "iopub.status.busy": "2025-10-30T06:16:35.979727Z",
     "iopub.status.idle": "2025-10-30T06:16:35.995761Z",
     "shell.execute_reply": "2025-10-30T06:16:35.995761Z"
    }
   },
   "outputs": [],
   "source": [
    "temp_folder = tempfile.TemporaryDirectory(suffix=\".ansys\")"
   ]
  },
  {
   "cell_type": "markdown",
   "id": "9293f40e",
   "metadata": {},
   "source": [
    "### Launch AEDT\n",
    "\n",
    "Launch an instance of the Ansys Electronics Desktop (AEDT) in graphical mode. \n",
    "The ``Q2d`` class inserts a 2-D Extractor design in AEDT. "
   ]
  },
  {
   "cell_type": "code",
   "execution_count": 4,
   "id": "8fd29524",
   "metadata": {
    "execution": {
     "iopub.execute_input": "2025-10-30T06:16:35.995761Z",
     "iopub.status.busy": "2025-10-30T06:16:35.995761Z",
     "iopub.status.idle": "2025-10-30T06:17:14.609405Z",
     "shell.execute_reply": "2025-10-30T06:17:14.609405Z"
    }
   },
   "outputs": [
    {
     "name": "stdout",
     "output_type": "stream",
     "text": [
      "PyAEDT INFO: Python version 3.10.11 (tags/v3.10.11:7d4cc5a, Apr  5 2023, 00:38:17) [MSC v.1929 64 bit (AMD64)].\n"
     ]
    },
    {
     "name": "stdout",
     "output_type": "stream",
     "text": [
      "PyAEDT INFO: PyAEDT version 0.22.dev0.\n"
     ]
    },
    {
     "name": "stdout",
     "output_type": "stream",
     "text": [
      "PyAEDT INFO: Initializing new Desktop session.\n"
     ]
    },
    {
     "name": "stdout",
     "output_type": "stream",
     "text": [
      "PyAEDT INFO: Log on console is enabled.\n"
     ]
    },
    {
     "name": "stdout",
     "output_type": "stream",
     "text": [
      "PyAEDT INFO: Log on file C:\\Users\\ansys\\AppData\\Local\\Temp\\pyaedt_ansys_c5789ccb-ba48-4a6e-bfe0-a71e923118c3.log is enabled.\n"
     ]
    },
    {
     "name": "stdout",
     "output_type": "stream",
     "text": [
      "PyAEDT INFO: Log on AEDT is disabled.\n"
     ]
    },
    {
     "name": "stdout",
     "output_type": "stream",
     "text": [
      "PyAEDT INFO: Debug logger is disabled. PyAEDT methods will not be logged.\n"
     ]
    },
    {
     "name": "stdout",
     "output_type": "stream",
     "text": [
      "PyAEDT INFO: Launching PyAEDT with gRPC plugin.\n"
     ]
    },
    {
     "name": "stdout",
     "output_type": "stream",
     "text": [
      "PyAEDT INFO: New AEDT session is starting on gRPC port 61672.\n"
     ]
    },
    {
     "name": "stdout",
     "output_type": "stream",
     "text": [
      "PyAEDT INFO: Electronics Desktop started on gRPC port: 61672 after 10.52114462852478 seconds.\n"
     ]
    },
    {
     "name": "stdout",
     "output_type": "stream",
     "text": [
      "PyAEDT INFO: AEDT installation Path C:\\Program Files\\ANSYS Inc\\v252\\AnsysEM\n"
     ]
    },
    {
     "name": "stdout",
     "output_type": "stream",
     "text": [
      "PyAEDT INFO: Ansoft.ElectronicsDesktop.2025.2 version started with process ID 5168.\n"
     ]
    },
    {
     "name": "stdout",
     "output_type": "stream",
     "text": [
      "PyAEDT INFO: Project cpwg has been created.\n"
     ]
    },
    {
     "name": "stdout",
     "output_type": "stream",
     "text": [
      "PyAEDT INFO: Added design 'coplanar_waveguide' of type 2D Extractor.\n"
     ]
    },
    {
     "name": "stdout",
     "output_type": "stream",
     "text": [
      "PyAEDT INFO: Aedt Objects correctly read\n"
     ]
    }
   ],
   "source": [
    "q2d = ansys.aedt.core.Q2d(\n",
    "    version=AEDT_VERSION,\n",
    "    non_graphical=NG_MODE,\n",
    "    new_desktop=True,\n",
    "    project=os.path.join(temp_folder.name, \"cpwg\"),\n",
    "    design=\"coplanar_waveguide\",\n",
    ")"
   ]
  },
  {
   "cell_type": "markdown",
   "id": "65ec1e38",
   "metadata": {},
   "source": [
    "## Model Preparation\n",
    "\n",
    "### Define parameters\n",
    "\n",
    "Define independent parameters and create expressions that will\n",
    "be used to create the\n",
    "coplanar waveguide cross-section.\n",
    "\n",
    "The dict ``cpw_params`` contains the independent parameters used to create\n",
    "the model."
   ]
  },
  {
   "cell_type": "code",
   "execution_count": 5,
   "id": "8ffd9499",
   "metadata": {
    "execution": {
     "iopub.execute_input": "2025-10-30T06:17:14.609405Z",
     "iopub.status.busy": "2025-10-30T06:17:14.609405Z",
     "iopub.status.idle": "2025-10-30T06:17:14.625368Z",
     "shell.execute_reply": "2025-10-30T06:17:14.625368Z"
    }
   },
   "outputs": [],
   "source": [
    "cpw_params = {\n",
    "    \"sig_bot_w\": \"150um\",   # Signal conductor width - bottom.\n",
    "    \"e_factor\": \"2\",        # Etch factor for trapezoidal cross-section.\n",
    "    \"gnd_w\": \"500um\",       # Width of the ground conductor.\n",
    "    \"clearance\": \"150um\",\n",
    "    \"cond_h\": \"50um\",       # Conductor height\n",
    "    \"d_h\": \"150um\",\n",
    "    \"sm_h\": \"20um\",         # Solder mask height\n",
    "    }"
   ]
  },
  {
   "cell_type": "markdown",
   "id": "d7d5a79c",
   "metadata": {},
   "source": [
    "### Create expressions\n",
    "\n",
    "Expressions are passed to the methods that we'll use to\n",
    "create the geometric cross-section of the\n",
    "coplanar waveguide. These expressions depend on the \n",
    "independent parameters defined in the previous cell, ``cpw_params``."
   ]
  },
  {
   "cell_type": "code",
   "execution_count": 6,
   "id": "2fd67492",
   "metadata": {
    "execution": {
     "iopub.execute_input": "2025-10-30T06:17:14.625368Z",
     "iopub.status.busy": "2025-10-30T06:17:14.625368Z",
     "iopub.status.idle": "2025-10-30T06:17:14.641406Z",
     "shell.execute_reply": "2025-10-30T06:17:14.641406Z"
    }
   },
   "outputs": [],
   "source": [
    "delta_w_half = \"cond_h/e_factor\"\n",
    "sig_top_w = f\"(sig_bot_w - 2 * {delta_w_half})\"   # Signal top conductor width\n",
    "co_gnd_top_w = f\"(gnd_w - 2 * {delta_w_half})\"    # Width of top ground conductor\n",
    "model_w = \"2 * gnd_w + 2 * clearance + sig_bot_w\" # Total width of the model."
   ]
  },
  {
   "cell_type": "markdown",
   "id": "28793cb7",
   "metadata": {},
   "source": [
    "The following expressions define layer thicknesses parameterization."
   ]
  },
  {
   "cell_type": "code",
   "execution_count": 7,
   "id": "8e3d0105",
   "metadata": {
    "execution": {
     "iopub.execute_input": "2025-10-30T06:17:14.641406Z",
     "iopub.status.busy": "2025-10-30T06:17:14.641406Z",
     "iopub.status.idle": "2025-10-30T06:17:14.657217Z",
     "shell.execute_reply": "2025-10-30T06:17:14.657217Z"
    }
   },
   "outputs": [],
   "source": [
    "layer_1_lh = 0\n",
    "layer_1_uh = \"cond_h\"\n",
    "layer_2_lh = layer_1_uh + \" + d_h\"\n",
    "layer_2_uh = layer_2_lh + \" + cond_h\""
   ]
  },
  {
   "cell_type": "markdown",
   "id": "840c8d41",
   "metadata": {},
   "source": [
    "Assign independent parameters in the Q2d design."
   ]
  },
  {
   "cell_type": "code",
   "execution_count": 8,
   "id": "3a503738",
   "metadata": {
    "execution": {
     "iopub.execute_input": "2025-10-30T06:17:14.660324Z",
     "iopub.status.busy": "2025-10-30T06:17:14.660324Z",
     "iopub.status.idle": "2025-10-30T06:17:14.736400Z",
     "shell.execute_reply": "2025-10-30T06:17:14.736400Z"
    }
   },
   "outputs": [],
   "source": [
    "for name, value in cpw_params.items():\n",
    "    q2d[name] = value"
   ]
  },
  {
   "cell_type": "markdown",
   "id": "eabd0819",
   "metadata": {},
   "source": [
    "Create the signal conductor by drawing two lines and connecting them to \n",
    "create a 2D sheet."
   ]
  },
  {
   "cell_type": "code",
   "execution_count": 9,
   "id": "d1cfd99c",
   "metadata": {
    "execution": {
     "iopub.execute_input": "2025-10-30T06:17:14.736400Z",
     "iopub.status.busy": "2025-10-30T06:17:14.736400Z",
     "iopub.status.idle": "2025-10-30T06:17:17.083883Z",
     "shell.execute_reply": "2025-10-30T06:17:17.083883Z"
    }
   },
   "outputs": [
    {
     "name": "stdout",
     "output_type": "stream",
     "text": [
      "PyAEDT INFO: Modeler2D class has been initialized!\n"
     ]
    },
    {
     "name": "stdout",
     "output_type": "stream",
     "text": [
      "PyAEDT INFO: Modeler class has been initialized! Elapsed time: 0m 1sec\n"
     ]
    },
    {
     "name": "stdout",
     "output_type": "stream",
     "text": [
      "PyAEDT INFO: Materials class has been initialized! Elapsed time: 0m 0sec\n"
     ]
    },
    {
     "name": "stdout",
     "output_type": "stream",
     "text": [
      "PyAEDT INFO: Parsing design objects. This operation can take time\n"
     ]
    },
    {
     "name": "stdout",
     "output_type": "stream",
     "text": [
      "PyAEDT INFO: Refreshing bodies from Object Info\n"
     ]
    },
    {
     "name": "stdout",
     "output_type": "stream",
     "text": [
      "PyAEDT INFO: Bodies Info Refreshed Elapsed time: 0m 0sec\n"
     ]
    },
    {
     "name": "stdout",
     "output_type": "stream",
     "text": [
      "PyAEDT INFO: 3D Modeler objects parsed. Elapsed time: 0m 0sec\n"
     ]
    },
    {
     "name": "stdout",
     "output_type": "stream",
     "text": [
      "PyAEDT INFO: Connection Correctly created\n"
     ]
    },
    {
     "data": {
      "text/plain": [
       "True"
      ]
     },
     "execution_count": 9,
     "metadata": {},
     "output_type": "execute_result"
    }
   ],
   "source": [
    "base_line_obj = q2d.modeler.create_polyline(\n",
    "    points=[[0, layer_2_lh, 0], [\"sig_bot_w\", layer_2_lh, 0]], name=\"signal\"\n",
    ")\n",
    "\n",
    "top_line_obj = q2d.modeler.create_polyline(\n",
    "    points=[[0, layer_2_uh, 0], [sig_top_w, layer_2_uh, 0]]\n",
    ")\n",
    "\n",
    "q2d.modeler.move(assignment=[top_line_obj], vector=[delta_w_half, 0, 0])\n",
    "\n",
    "q2d.modeler.connect([base_line_obj, top_line_obj])\n",
    "q2d.modeler.move(\n",
    "    assignment=[base_line_obj], vector=[\"gnd_w+clearance\", 0, 0]\n",
    ")"
   ]
  },
  {
   "cell_type": "markdown",
   "id": "537f0b1c",
   "metadata": {},
   "source": [
    "Create adjacent ground layers."
   ]
  },
  {
   "cell_type": "code",
   "execution_count": 10,
   "id": "29c437cc",
   "metadata": {
    "execution": {
     "iopub.execute_input": "2025-10-30T06:17:17.083883Z",
     "iopub.status.busy": "2025-10-30T06:17:17.083883Z",
     "iopub.status.idle": "2025-10-30T06:17:17.400692Z",
     "shell.execute_reply": "2025-10-30T06:17:17.400692Z"
    }
   },
   "outputs": [
    {
     "name": "stdout",
     "output_type": "stream",
     "text": [
      "PyAEDT INFO: Parsing design objects. This operation can take time\n"
     ]
    },
    {
     "name": "stdout",
     "output_type": "stream",
     "text": [
      "PyAEDT INFO: Refreshing bodies from Object Info\n"
     ]
    },
    {
     "name": "stdout",
     "output_type": "stream",
     "text": [
      "PyAEDT INFO: Bodies Info Refreshed Elapsed time: 0m 0sec\n"
     ]
    },
    {
     "name": "stdout",
     "output_type": "stream",
     "text": [
      "PyAEDT INFO: 3D Modeler objects parsed. Elapsed time: 0m 0sec\n"
     ]
    },
    {
     "name": "stdout",
     "output_type": "stream",
     "text": [
      "PyAEDT INFO: Connection Correctly created\n"
     ]
    },
    {
     "name": "stdout",
     "output_type": "stream",
     "text": [
      "PyAEDT INFO: Parsing design objects. This operation can take time\n"
     ]
    },
    {
     "name": "stdout",
     "output_type": "stream",
     "text": [
      "PyAEDT INFO: Refreshing bodies from Object Info\n"
     ]
    },
    {
     "name": "stdout",
     "output_type": "stream",
     "text": [
      "PyAEDT INFO: Bodies Info Refreshed Elapsed time: 0m 0sec\n"
     ]
    },
    {
     "name": "stdout",
     "output_type": "stream",
     "text": [
      "PyAEDT INFO: 3D Modeler objects parsed. Elapsed time: 0m 0sec\n"
     ]
    },
    {
     "name": "stdout",
     "output_type": "stream",
     "text": [
      "PyAEDT INFO: Connection Correctly created\n"
     ]
    },
    {
     "data": {
      "text/plain": [
       "True"
      ]
     },
     "execution_count": 10,
     "metadata": {},
     "output_type": "execute_result"
    }
   ],
   "source": [
    "base_line_obj = q2d.modeler.create_polyline(\n",
    "    points=[[0, layer_2_lh, 0], [\"gnd_w\", layer_2_lh, 0]], name=\"co_gnd_left\"\n",
    ")\n",
    "\n",
    "top_line_obj = q2d.modeler.create_polyline(\n",
    "    points=[[0, layer_2_uh, 0], [co_gnd_top_w, layer_2_uh, 0]]\n",
    ")\n",
    "\n",
    "q2d.modeler.move(assignment=[top_line_obj], vector=[delta_w_half, 0, 0])\n",
    "q2d.modeler.connect([base_line_obj, top_line_obj])\n",
    "\n",
    "base_line_obj = q2d.modeler.create_polyline(\n",
    "    points=[[0, layer_2_lh, 0], [\"gnd_w\", layer_2_lh, 0]], name=\"co_gnd_right\"\n",
    ")\n",
    "\n",
    "top_line_obj = q2d.modeler.create_polyline(\n",
    "    points=[[0, layer_2_uh, 0], [co_gnd_top_w, layer_2_uh, 0]]\n",
    ")\n",
    "\n",
    "q2d.modeler.move(assignment=[top_line_obj], vector=[delta_w_half, 0, 0])\n",
    "q2d.modeler.connect([base_line_obj, top_line_obj])\n",
    "q2d.modeler.move(\n",
    "    assignment=[base_line_obj],\n",
    "    vector=[f\"gnd_w+clearance*2+sig_bot_w\", 0, 0],\n",
    ")"
   ]
  },
  {
   "cell_type": "markdown",
   "id": "f6f5a016",
   "metadata": {},
   "source": [
    "Create a reference ground plane."
   ]
  },
  {
   "cell_type": "code",
   "execution_count": 11,
   "id": "cf7bd28d",
   "metadata": {
    "execution": {
     "iopub.execute_input": "2025-10-30T06:17:17.400692Z",
     "iopub.status.busy": "2025-10-30T06:17:17.400692Z",
     "iopub.status.idle": "2025-10-30T06:17:17.432524Z",
     "shell.execute_reply": "2025-10-30T06:17:17.432524Z"
    }
   },
   "outputs": [
    {
     "data": {
      "text/plain": [
       "<ansys.aedt.core.modeler.cad.object_3d.Object3d at 0x284f0e340a0>"
      ]
     },
     "execution_count": 11,
     "metadata": {},
     "output_type": "execute_result"
    }
   ],
   "source": [
    "q2d.modeler.create_rectangle(\n",
    "    origin=[0, layer_1_lh, 0], sizes=[model_w, \"cond_h\"], name=\"ref_gnd\"\n",
    ")"
   ]
  },
  {
   "cell_type": "markdown",
   "id": "ad853ceb",
   "metadata": {},
   "source": [
    "Define the substrate."
   ]
  },
  {
   "cell_type": "code",
   "execution_count": 12,
   "id": "578655f9",
   "metadata": {
    "execution": {
     "iopub.execute_input": "2025-10-30T06:17:17.432524Z",
     "iopub.status.busy": "2025-10-30T06:17:17.432524Z",
     "iopub.status.idle": "2025-10-30T06:17:17.702061Z",
     "shell.execute_reply": "2025-10-30T06:17:17.702061Z"
    }
   },
   "outputs": [
    {
     "data": {
      "text/plain": [
       "<ansys.aedt.core.modeler.cad.object_3d.Object3d at 0x28482ebfaf0>"
      ]
     },
     "execution_count": 12,
     "metadata": {},
     "output_type": "execute_result"
    }
   ],
   "source": [
    "q2d.modeler.create_rectangle(\n",
    "    origin=[0, layer_1_uh, 0],\n",
    "    sizes=[model_w, \"d_h\"],\n",
    "    name=\"Dielectric\",\n",
    "    material=\"FR4_epoxy\",\n",
    ")"
   ]
  },
  {
   "cell_type": "markdown",
   "id": "143b989d",
   "metadata": {},
   "source": [
    "Assign a conformal coating."
   ]
  },
  {
   "cell_type": "code",
   "execution_count": 13,
   "id": "4e130c26",
   "metadata": {
    "execution": {
     "iopub.execute_input": "2025-10-30T06:17:17.702061Z",
     "iopub.status.busy": "2025-10-30T06:17:17.702061Z",
     "iopub.status.idle": "2025-10-30T06:17:18.795251Z",
     "shell.execute_reply": "2025-10-30T06:17:18.795251Z"
    }
   },
   "outputs": [
    {
     "name": "stdout",
     "output_type": "stream",
     "text": [
      "PyAEDT INFO: Parsing design objects. This operation can take time\n"
     ]
    },
    {
     "name": "stdout",
     "output_type": "stream",
     "text": [
      "PyAEDT INFO: Refreshing bodies from Object Info\n"
     ]
    },
    {
     "name": "stdout",
     "output_type": "stream",
     "text": [
      "PyAEDT INFO: Bodies Info Refreshed Elapsed time: 0m 0sec\n"
     ]
    },
    {
     "name": "stdout",
     "output_type": "stream",
     "text": [
      "PyAEDT INFO: 3D Modeler objects parsed. Elapsed time: 0m 0sec\n"
     ]
    },
    {
     "name": "stdout",
     "output_type": "stream",
     "text": [
      "PyAEDT INFO: Union of 3 objects has been executed.\n"
     ]
    },
    {
     "name": "stdout",
     "output_type": "stream",
     "text": [
      "PyAEDT INFO: Parsing design objects. This operation can take time\n"
     ]
    },
    {
     "name": "stdout",
     "output_type": "stream",
     "text": [
      "PyAEDT INFO: Refreshing bodies from Object Info\n"
     ]
    },
    {
     "name": "stdout",
     "output_type": "stream",
     "text": [
      "PyAEDT INFO: Bodies Info Refreshed Elapsed time: 0m 0sec\n"
     ]
    },
    {
     "name": "stdout",
     "output_type": "stream",
     "text": [
      "PyAEDT INFO: 3D Modeler objects parsed. Elapsed time: 0m 0sec\n"
     ]
    },
    {
     "name": "stdout",
     "output_type": "stream",
     "text": [
      "PyAEDT INFO: Union of 3 objects has been executed.\n"
     ]
    },
    {
     "name": "stdout",
     "output_type": "stream",
     "text": [
      "PyAEDT INFO: Parsing design objects. This operation can take time\n"
     ]
    },
    {
     "name": "stdout",
     "output_type": "stream",
     "text": [
      "PyAEDT INFO: Refreshing bodies from Object Info\n"
     ]
    },
    {
     "name": "stdout",
     "output_type": "stream",
     "text": [
      "PyAEDT INFO: Bodies Info Refreshed Elapsed time: 0m 0sec\n"
     ]
    },
    {
     "name": "stdout",
     "output_type": "stream",
     "text": [
      "PyAEDT INFO: 3D Modeler objects parsed. Elapsed time: 0m 0sec\n"
     ]
    },
    {
     "name": "stdout",
     "output_type": "stream",
     "text": [
      "PyAEDT INFO: Union of 3 objects has been executed.\n"
     ]
    },
    {
     "name": "stdout",
     "output_type": "stream",
     "text": [
      "PyAEDT INFO: Parsing design objects. This operation can take time\n"
     ]
    },
    {
     "name": "stdout",
     "output_type": "stream",
     "text": [
      "PyAEDT INFO: Refreshing bodies from Object Info\n"
     ]
    },
    {
     "name": "stdout",
     "output_type": "stream",
     "text": [
      "PyAEDT INFO: Bodies Info Refreshed Elapsed time: 0m 0sec\n"
     ]
    },
    {
     "name": "stdout",
     "output_type": "stream",
     "text": [
      "PyAEDT INFO: 3D Modeler objects parsed. Elapsed time: 0m 0sec\n"
     ]
    },
    {
     "name": "stdout",
     "output_type": "stream",
     "text": [
      "PyAEDT INFO: Union of 5 objects has been executed.\n"
     ]
    }
   ],
   "source": [
    "sm_obj_list = []\n",
    "ids = [0, 1, 2]\n",
    "\n",
    "if AEDT_VERSION < \"2023.1\":  # Support old versions of AEDT.\n",
    "    ids = [1, 2, 3]\n",
    "\n",
    "for obj_name in [\"signal\", \"co_gnd_left\", \"co_gnd_right\"]:\n",
    "    obj = q2d.modeler.get_object_from_name(obj_name)\n",
    "    e_obj_list = []\n",
    "    for i in ids:\n",
    "        e_obj = q2d.modeler.create_object_from_edge(obj.edges[i])\n",
    "        e_obj_list.append(e_obj)\n",
    "    e_obj_1 = e_obj_list[0]\n",
    "    q2d.modeler.unite(e_obj_list)\n",
    "    _ = q2d.modeler.sweep_along_vector(\n",
    "        assignment=e_obj_1.id, sweep_vector=[0, \"sm_h\", 0]\n",
    "    )\n",
    "    sm_obj_list.append(e_obj_1)\n",
    "\n",
    "new_obj = q2d.modeler.create_rectangle(\n",
    "    origin=[\"gnd_w\", layer_2_lh, 0], sizes=[\"clearance\", \"sm_h\"]\n",
    ")\n",
    "sm_obj_list.append(new_obj)\n",
    "\n",
    "new_obj2 = q2d.modeler.create_rectangle(\n",
    "    origin=[\"gnd_w\", layer_2_lh, 0], sizes=[\"clearance\", \"sm_h\"]\n",
    ")\n",
    "q2d.modeler.move(assignment=[new_obj2], vector=[\"sig_bot_w+clearance\", 0, 0])\n",
    "sm_obj_list.append(new_obj2)\n",
    "\n",
    "sm_obj = sm_obj_list[0]\n",
    "q2d.modeler.unite(sm_obj_list)\n",
    "sm_obj.material_name = \"SolderMask\"\n",
    "sm_obj.color = (0, 150, 100)\n",
    "sm_obj.name = \"solder_mask\""
   ]
  },
  {
   "cell_type": "markdown",
   "id": "b295ea48",
   "metadata": {},
   "source": [
    "### Assign sources and boundary conditions\n",
    "\n",
    "Define the signal conductor."
   ]
  },
  {
   "cell_type": "code",
   "execution_count": 14,
   "id": "34d0f832",
   "metadata": {
    "execution": {
     "iopub.execute_input": "2025-10-30T06:17:18.795251Z",
     "iopub.status.busy": "2025-10-30T06:17:18.795251Z",
     "iopub.status.idle": "2025-10-30T06:17:18.858086Z",
     "shell.execute_reply": "2025-10-30T06:17:18.858086Z"
    }
   },
   "outputs": [
    {
     "name": "stdout",
     "output_type": "stream",
     "text": [
      "PyAEDT INFO: Boundary SignalLine signal has been created.\n"
     ]
    },
    {
     "data": {
      "text/plain": [
       "<ansys.aedt.core.modules.boundary.common.BoundaryObject at 0x28486c5cf10>"
      ]
     },
     "execution_count": 14,
     "metadata": {},
     "output_type": "execute_result"
    }
   ],
   "source": [
    "signal_conductor = q2d.modeler.get_object_from_name(\"signal\")\n",
    "q2d.assign_single_conductor(\n",
    "    name=signal_conductor.name,\n",
    "    assignment=[signal_conductor],\n",
    "    conductor_type=\"SignalLine\",\n",
    "    solve_option=\"SolveOnBoundary\",\n",
    "    units=\"mm\",\n",
    ")"
   ]
  },
  {
   "cell_type": "markdown",
   "id": "d44d0a61",
   "metadata": {},
   "source": [
    "Assign the Huray model for conductive losses on the signal trace."
   ]
  },
  {
   "cell_type": "code",
   "execution_count": 15,
   "id": "d2149ab2",
   "metadata": {
    "execution": {
     "iopub.execute_input": "2025-10-30T06:17:18.858086Z",
     "iopub.status.busy": "2025-10-30T06:17:18.858086Z",
     "iopub.status.idle": "2025-10-30T06:17:18.905859Z",
     "shell.execute_reply": "2025-10-30T06:17:18.905859Z"
    }
   },
   "outputs": [
    {
     "name": "stdout",
     "output_type": "stream",
     "text": [
      "PyAEDT INFO: Boundary Finite Conductivity b_signal has been created.\n"
     ]
    },
    {
     "data": {
      "text/plain": [
       "<ansys.aedt.core.modules.boundary.common.BoundaryObject at 0x28486c5fa90>"
      ]
     },
     "execution_count": 15,
     "metadata": {},
     "output_type": "execute_result"
    }
   ],
   "source": [
    "q2d.assign_huray_finitecond_to_edges(signal_conductor.edges, \n",
    "                                     radius=\"0.5um\", \n",
    "                                     ratio=3, \n",
    "                                     name=\"b_\" + signal_conductor.name\n",
    "                                     )"
   ]
  },
  {
   "cell_type": "markdown",
   "id": "d4630f2d",
   "metadata": {},
   "source": [
    "Define the return path."
   ]
  },
  {
   "cell_type": "code",
   "execution_count": 16,
   "id": "5eb1437c",
   "metadata": {
    "execution": {
     "iopub.execute_input": "2025-10-30T06:17:18.905859Z",
     "iopub.status.busy": "2025-10-30T06:17:18.905859Z",
     "iopub.status.idle": "2025-10-30T06:17:19.000388Z",
     "shell.execute_reply": "2025-10-30T06:17:19.000388Z"
    }
   },
   "outputs": [
    {
     "name": "stdout",
     "output_type": "stream",
     "text": [
      "PyAEDT INFO: Boundary ReferenceGround gnd has been created.\n"
     ]
    },
    {
     "data": {
      "text/plain": [
       "<ansys.aedt.core.modules.boundary.common.BoundaryObject at 0x28486c5f6d0>"
      ]
     },
     "execution_count": 16,
     "metadata": {},
     "output_type": "execute_result"
    }
   ],
   "source": [
    "reference_conductors = [q2d.modeler.get_object_from_name(i)\n",
    "                     for i in [\"co_gnd_left\", \"co_gnd_right\", \"ref_gnd\"]\n",
    "                    ]\n",
    "\n",
    "q2d.assign_single_conductor(\n",
    "    name=\"gnd\",\n",
    "    assignment=reference_conductors,\n",
    "    conductor_type=\"ReferenceGround\",\n",
    "    solve_option=\"SolveOnBoundary\",\n",
    "    units=\"mm\",\n",
    ")"
   ]
  },
  {
   "cell_type": "markdown",
   "id": "e99fc840",
   "metadata": {},
   "source": [
    "### Define solution setup\n",
    "\n",
    "The solution steup specifies the frequency range for the solution and other \n",
    "solution settings"
   ]
  },
  {
   "cell_type": "code",
   "execution_count": 17,
   "id": "103f6b23",
   "metadata": {
    "execution": {
     "iopub.execute_input": "2025-10-30T06:17:19.000388Z",
     "iopub.status.busy": "2025-10-30T06:17:19.000388Z",
     "iopub.status.idle": "2025-10-30T06:17:19.080626Z",
     "shell.execute_reply": "2025-10-30T06:17:19.079909Z"
    }
   },
   "outputs": [
    {
     "name": "stdout",
     "output_type": "stream",
     "text": [
      "PyAEDT INFO: Key setupname matched internal key 'Name' with confidence of 46.\n"
     ]
    },
    {
     "name": "stdout",
     "output_type": "stream",
     "text": [
      "PyAEDT INFO: Parsing C:\\Users\\ansys\\AppData\\Local\\Temp\\tmpz1b81fm1.ansys\\cpwg.aedt.\n"
     ]
    },
    {
     "name": "stdout",
     "output_type": "stream",
     "text": [
      "PyAEDT INFO: File C:\\Users\\ansys\\AppData\\Local\\Temp\\tmpz1b81fm1.ansys\\cpwg.aedt correctly loaded. Elapsed time: 0m 0sec\n"
     ]
    },
    {
     "name": "stdout",
     "output_type": "stream",
     "text": [
      "PyAEDT INFO: aedt file load time 0.016098499298095703\n"
     ]
    },
    {
     "data": {
      "text/plain": [
       "True"
      ]
     },
     "execution_count": 17,
     "metadata": {},
     "output_type": "execute_result"
    }
   ],
   "source": [
    "setup = q2d.create_setup(setupname=\"new_setup\")\n",
    "\n",
    "sweep = setup.add_sweep(name=\"sweep1\")\n",
    "sweep.props[\"RangeType\"] = \"LinearStep\"\n",
    "sweep.props[\"RangeStart\"] = \"1GHz\"\n",
    "sweep.props[\"RangeStep\"] = \"100MHz\"\n",
    "sweep.props[\"RangeEnd\"] = \"5GHz\"\n",
    "sweep.props[\"SaveFields\"] = False\n",
    "sweep.props[\"SaveRadFields\"] = False\n",
    "sweep.props[\"Type\"] = \"Interpolating\"\n",
    "\n",
    "sweep.update()"
   ]
  },
  {
   "cell_type": "markdown",
   "id": "d383cf4a",
   "metadata": {},
   "source": [
    "### Run analysis"
   ]
  },
  {
   "cell_type": "code",
   "execution_count": 18,
   "id": "02009b60",
   "metadata": {
    "execution": {
     "iopub.execute_input": "2025-10-30T06:17:19.080626Z",
     "iopub.status.busy": "2025-10-30T06:17:19.080626Z",
     "iopub.status.idle": "2025-10-30T06:17:38.979752Z",
     "shell.execute_reply": "2025-10-30T06:17:38.979752Z"
    }
   },
   "outputs": [
    {
     "name": "stdout",
     "output_type": "stream",
     "text": [
      "PyAEDT INFO: Project cpwg Saved correctly\n"
     ]
    },
    {
     "name": "stdout",
     "output_type": "stream",
     "text": [
      "PyAEDT INFO: Key Desktop/ActiveDSOConfigurations/2D Extractor correctly changed.\n"
     ]
    },
    {
     "name": "stdout",
     "output_type": "stream",
     "text": [
      "PyAEDT INFO: Solving all design setups. Analysis started...\n"
     ]
    },
    {
     "name": "stdout",
     "output_type": "stream",
     "text": [
      "PyAEDT INFO: Design setup None solved correctly in 0.0h 0.0m 20.0s\n"
     ]
    },
    {
     "name": "stdout",
     "output_type": "stream",
     "text": [
      "PyAEDT INFO: Key Desktop/ActiveDSOConfigurations/2D Extractor correctly changed.\n"
     ]
    },
    {
     "data": {
      "text/plain": [
       "True"
      ]
     },
     "execution_count": 18,
     "metadata": {},
     "output_type": "execute_result"
    }
   ],
   "source": [
    "q2d.analyze(cores=NUM_CORES)"
   ]
  },
  {
   "cell_type": "markdown",
   "id": "013e3416",
   "metadata": {},
   "source": [
    "## Postprocess\n",
    "\n",
    "View the impedance over frequency."
   ]
  },
  {
   "cell_type": "code",
   "execution_count": 19,
   "id": "9a0beea3",
   "metadata": {
    "execution": {
     "iopub.execute_input": "2025-10-30T06:17:38.983772Z",
     "iopub.status.busy": "2025-10-30T06:17:38.983772Z",
     "iopub.status.idle": "2025-10-30T06:17:40.484494Z",
     "shell.execute_reply": "2025-10-30T06:17:40.484494Z"
    }
   },
   "outputs": [
    {
     "name": "stdout",
     "output_type": "stream",
     "text": [
      "PyAEDT INFO: Parsing C:\\Users\\ansys\\AppData\\Local\\Temp\\tmpz1b81fm1.ansys\\cpwg.aedt.\n"
     ]
    },
    {
     "name": "stdout",
     "output_type": "stream",
     "text": [
      "PyAEDT INFO: File C:\\Users\\ansys\\AppData\\Local\\Temp\\tmpz1b81fm1.ansys\\cpwg.aedt correctly loaded. Elapsed time: 0m 0sec\n"
     ]
    },
    {
     "name": "stdout",
     "output_type": "stream",
     "text": [
      "PyAEDT INFO: aedt file load time 0.03358888626098633\n"
     ]
    },
    {
     "name": "stdout",
     "output_type": "stream",
     "text": [
      "PyAEDT INFO: PostProcessor class has been initialized! Elapsed time: 0m 0sec\n"
     ]
    },
    {
     "name": "stdout",
     "output_type": "stream",
     "text": [
      "PyAEDT INFO: Post class has been initialized! Elapsed time: 0m 0sec\n"
     ]
    },
    {
     "name": "stdout",
     "output_type": "stream",
     "text": [
      "PyAEDT WARNING: No report category provided. Automatically identified Matrix\n"
     ]
    },
    {
     "name": "stdout",
     "output_type": "stream",
     "text": [
      "PyAEDT INFO: Solution Data Correctly Loaded.\n"
     ]
    },
    {
     "name": "stdout",
     "output_type": "stream",
     "text": [
      "Time to initialize solution data:0.016133785247802734\n",
      "Time to initialize solution data:0.016133785247802734\n"
     ]
    },
    {
     "data": {
      "image/png": "[encoded data removed]",
      "text/plain": [
       "<Figure size 1920x1440 with 2 Axes>"
      ]
     },
     "execution_count": 19,
     "metadata": {},
     "output_type": "execute_result"
    },
    {
     "data": {
      "image/png": "[encoded data removed]",
      "text/plain": [
       "<Figure size 1920x1440 with 2 Axes>"
      ]
     },
     "metadata": {},
     "output_type": "display_data"
    }
   ],
   "source": [
    "data = q2d.post.get_solution_data(expressions=\"Z0(signal,signal)\", context=\"Original\")\n",
    "data.plot()"
   ]
  },
  {
   "cell_type": "markdown",
   "id": "8413f226",
   "metadata": {},
   "source": [
    "## Finish\n",
    "\n",
    "### Save the project"
   ]
  },
  {
   "cell_type": "code",
   "execution_count": 20,
   "id": "f8fbb593",
   "metadata": {
    "execution": {
     "iopub.execute_input": "2025-10-30T06:17:40.484494Z",
     "iopub.status.busy": "2025-10-30T06:17:40.484494Z",
     "iopub.status.idle": "2025-10-30T06:17:58.099625Z",
     "shell.execute_reply": "2025-10-30T06:17:58.099625Z"
    }
   },
   "outputs": [
    {
     "name": "stdout",
     "output_type": "stream",
     "text": [
      "PyAEDT INFO: Project cpwg Saved correctly\n"
     ]
    },
    {
     "name": "stdout",
     "output_type": "stream",
     "text": [
      "PyAEDT INFO: Desktop has been released and closed.\n"
     ]
    }
   ],
   "source": [
    "q2d.save_project()\n",
    "q2d.release_desktop()\n",
    "# Wait 3 seconds to allow AEDT to shut down before cleaning the temporary directory.\n",
    "time.sleep(3)"
   ]
  },
  {
   "cell_type": "markdown",
   "id": "74dfea71",
   "metadata": {},
   "source": [
    "### Clean up\n",
    "\n",
    "All project files are saved in the folder ``temp_folder.name``.\n",
    "If you've run this example as a Jupyter notebook, you\n",
    "can retrieve those project files. The following cell\n",
    "removes all temporary files, including the project folder."
   ]
  },
  {
   "cell_type": "code",
   "execution_count": 21,
   "id": "5094a980",
   "metadata": {
    "execution": {
     "iopub.execute_input": "2025-10-30T06:17:58.099625Z",
     "iopub.status.busy": "2025-10-30T06:17:58.099625Z",
     "iopub.status.idle": "2025-10-30T06:17:58.130895Z",
     "shell.execute_reply": "2025-10-30T06:17:58.130895Z"
    }
   },
   "outputs": [],
   "source": [
    "temp_folder.cleanup()"
   ]
  }
 ],
 "metadata": {
  "jupytext": {
   "cell_metadata_filter": "-all",
   "main_language": "python",
   "notebook_metadata_filter": "-all"
  },
  "language_info": {
   "codemirror_mode": {
    "name": "ipython",
    "version": 3
   },
   "file_extension": ".py",
   "mimetype": "text/x-python",
   "name": "python",
   "nbconvert_exporter": "python",
   "pygments_lexer": "ipython3",
   "version": "3.10.11"
  }
 },
 "nbformat": 4,
 "nbformat_minor": 5
}
