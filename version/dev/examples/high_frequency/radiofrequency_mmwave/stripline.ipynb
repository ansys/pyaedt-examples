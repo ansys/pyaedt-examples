{
 "cells": [
  {
   "cell_type": "markdown",
   "id": "f9ab2fe6",
   "metadata": {},
   "source": [
    "# Stripline analysis"
   ]
  },
  {
   "cell_type": "markdown",
   "id": "b6e2d149",
   "metadata": {},
   "source": [
    "This example shows how to use PyAEDT to create a differential stripline design in\n",
    "2D Extractor and run a simulation.\n",
    "\n",
    "Keywords: **Q2D**, **Stripline**."
   ]
  },
  {
   "cell_type": "markdown",
   "id": "f4291fac",
   "metadata": {},
   "source": [
    "## Perform imports and define constants\n",
    "\n",
    "Perform required imports."
   ]
  },
  {
   "cell_type": "code",
   "execution_count": 1,
   "id": "9a7f70d2",
   "metadata": {
    "execution": {
     "iopub.execute_input": "2025-10-30T06:23:16.552661Z",
     "iopub.status.busy": "2025-10-30T06:23:16.552661Z",
     "iopub.status.idle": "2025-10-30T06:23:19.623607Z",
     "shell.execute_reply": "2025-10-30T06:23:19.623607Z"
    }
   },
   "outputs": [],
   "source": [
    "import os\n",
    "import tempfile\n",
    "import time\n",
    "\n",
    "import ansys.aedt.core"
   ]
  },
  {
   "cell_type": "markdown",
   "id": "9b2da5be",
   "metadata": {},
   "source": [
    "Define constants."
   ]
  },
  {
   "cell_type": "code",
   "execution_count": 2,
   "id": "129cfd0f",
   "metadata": {
    "execution": {
     "iopub.execute_input": "2025-10-30T06:23:19.623607Z",
     "iopub.status.busy": "2025-10-30T06:23:19.623607Z",
     "iopub.status.idle": "2025-10-30T06:23:19.639617Z",
     "shell.execute_reply": "2025-10-30T06:23:19.639617Z"
    },
    "lines_to_next_cell": 2
   },
   "outputs": [],
   "source": [
    "AEDT_VERSION = \"2025.2\"\n",
    "NUM_CORES = 4"
   ]
  },
  {
   "cell_type": "markdown",
   "id": "ba245a90",
   "metadata": {},
   "source": [
    "## Create temporary directory\n",
    "\n",
    "Create a temporary directory where downloaded data or\n",
    "dumped data can be stored.\n",
    "If you'd like to retrieve the project data for subsequent use,\n",
    "the temporary folder name is given by ``temp_folder.name``."
   ]
  },
  {
   "cell_type": "code",
   "execution_count": 3,
   "id": "acf70770",
   "metadata": {
    "execution": {
     "iopub.execute_input": "2025-10-30T06:23:19.639617Z",
     "iopub.status.busy": "2025-10-30T06:23:19.639617Z",
     "iopub.status.idle": "2025-10-30T06:23:19.655506Z",
     "shell.execute_reply": "2025-10-30T06:23:19.655506Z"
    }
   },
   "outputs": [],
   "source": [
    "temp_folder = tempfile.TemporaryDirectory(suffix=\".ansys\")"
   ]
  },
  {
   "cell_type": "markdown",
   "id": "4c8ce395",
   "metadata": {},
   "source": [
    "## Launch AEDT and 2D Extractor\n",
    "\n",
    "Launch AEDT 2025.2 in graphical mode and launch 2D Extractor. This example\n",
    "uses SI units."
   ]
  },
  {
   "cell_type": "code",
   "execution_count": 4,
   "id": "964a67a0",
   "metadata": {
    "execution": {
     "iopub.execute_input": "2025-10-30T06:23:19.655506Z",
     "iopub.status.busy": "2025-10-30T06:23:19.655506Z",
     "iopub.status.idle": "2025-10-30T06:23:58.546329Z",
     "shell.execute_reply": "2025-10-30T06:23:58.546329Z"
    }
   },
   "outputs": [
    {
     "name": "stdout",
     "output_type": "stream",
     "text": [
      "PyAEDT INFO: Python version 3.10.11 (tags/v3.10.11:7d4cc5a, Apr  5 2023, 00:38:17) [MSC v.1929 64 bit (AMD64)].\n"
     ]
    },
    {
     "name": "stdout",
     "output_type": "stream",
     "text": [
      "PyAEDT INFO: PyAEDT version 0.22.dev0.\n"
     ]
    },
    {
     "name": "stdout",
     "output_type": "stream",
     "text": [
      "PyAEDT INFO: Initializing new Desktop session.\n"
     ]
    },
    {
     "name": "stdout",
     "output_type": "stream",
     "text": [
      "PyAEDT INFO: Log on console is enabled.\n"
     ]
    },
    {
     "name": "stdout",
     "output_type": "stream",
     "text": [
      "PyAEDT INFO: Log on file C:\\Users\\ansys\\AppData\\Local\\Temp\\pyaedt_ansys_b17c3fb3-9b5c-462a-b1ee-a4ef95a510ab.log is enabled.\n"
     ]
    },
    {
     "name": "stdout",
     "output_type": "stream",
     "text": [
      "PyAEDT INFO: Log on AEDT is disabled.\n"
     ]
    },
    {
     "name": "stdout",
     "output_type": "stream",
     "text": [
      "PyAEDT INFO: Debug logger is disabled. PyAEDT methods will not be logged.\n"
     ]
    },
    {
     "name": "stdout",
     "output_type": "stream",
     "text": [
      "PyAEDT INFO: Launching PyAEDT with gRPC plugin.\n"
     ]
    },
    {
     "name": "stdout",
     "output_type": "stream",
     "text": [
      "PyAEDT INFO: New AEDT session is starting on gRPC port 63371.\n"
     ]
    },
    {
     "name": "stdout",
     "output_type": "stream",
     "text": [
      "PyAEDT INFO: Electronics Desktop started on gRPC port: 63371 after 10.292991876602173 seconds.\n"
     ]
    },
    {
     "name": "stdout",
     "output_type": "stream",
     "text": [
      "PyAEDT INFO: AEDT installation Path C:\\Program Files\\ANSYS Inc\\v252\\AnsysEM\n"
     ]
    },
    {
     "name": "stdout",
     "output_type": "stream",
     "text": [
      "PyAEDT INFO: Ansoft.ElectronicsDesktop.2025.2 version started with process ID 792.\n"
     ]
    },
    {
     "name": "stdout",
     "output_type": "stream",
     "text": [
      "PyAEDT INFO: Project stripline has been created.\n"
     ]
    },
    {
     "name": "stdout",
     "output_type": "stream",
     "text": [
      "PyAEDT INFO: Added design 'differential_stripline' of type 2D Extractor.\n"
     ]
    },
    {
     "name": "stdout",
     "output_type": "stream",
     "text": [
      "PyAEDT INFO: Aedt Objects correctly read\n"
     ]
    }
   ],
   "source": [
    "q2d = ansys.aedt.core.Q2d(\n",
    "    project=os.path.join(temp_folder.name, \"stripline\"),\n",
    "    design=\"differential_stripline\",\n",
    "    version=AEDT_VERSION,\n",
    "    non_graphical=False,\n",
    "    new_desktop=True,\n",
    ")"
   ]
  },
  {
   "cell_type": "markdown",
   "id": "9137a735",
   "metadata": {},
   "source": [
    "## Define variables\n",
    "\n",
    "Define variables."
   ]
  },
  {
   "cell_type": "code",
   "execution_count": 5,
   "id": "31c39fa0",
   "metadata": {
    "execution": {
     "iopub.execute_input": "2025-10-30T06:23:58.546329Z",
     "iopub.status.busy": "2025-10-30T06:23:58.546329Z",
     "iopub.status.idle": "2025-10-30T06:23:58.641589Z",
     "shell.execute_reply": "2025-10-30T06:23:58.640923Z"
    }
   },
   "outputs": [],
   "source": [
    "e_factor = \"e_factor\"\n",
    "sig_w = \"sig_bot_w\"\n",
    "sig_gap = \"sig_gap\"\n",
    "co_gnd_w = \"gnd_w\"\n",
    "clearance = \"clearance\"\n",
    "cond_h = \"cond_h\"\n",
    "core_h = \"core_h\"\n",
    "pp_h = \"pp_h\"\n",
    "\n",
    "for var_name, var_value in {\n",
    "    \"e_factor\": \"2\",\n",
    "    \"sig_bot_w\": \"150um\",\n",
    "    \"sig_gap\": \"150um\",\n",
    "    \"gnd_w\": \"500um\",\n",
    "    \"clearance\": \"150um\",\n",
    "    \"cond_h\": \"17um\",\n",
    "    \"core_h\": \"150um\",\n",
    "    \"pp_h\": \"150um\",\n",
    "}.items():\n",
    "    q2d[var_name] = var_value\n",
    "\n",
    "delta_w_half = \"({0}/{1})\".format(cond_h, e_factor)\n",
    "sig_top_w = \"({1}-{0}*2)\".format(delta_w_half, sig_w)\n",
    "co_gnd_top_w = \"({1}-{0}*2)\".format(delta_w_half, co_gnd_w)\n",
    "model_w = \"{}*2+{}*2+{}*2+{}\".format(co_gnd_w, clearance, sig_w, sig_gap)"
   ]
  },
  {
   "cell_type": "markdown",
   "id": "77c954b9",
   "metadata": {},
   "source": [
    "## Create primitives\n",
    "\n",
    "Create primitives and define the layer heights."
   ]
  },
  {
   "cell_type": "code",
   "execution_count": 6,
   "id": "6166e7e2",
   "metadata": {
    "execution": {
     "iopub.execute_input": "2025-10-30T06:23:58.641589Z",
     "iopub.status.busy": "2025-10-30T06:23:58.641589Z",
     "iopub.status.idle": "2025-10-30T06:23:58.656783Z",
     "shell.execute_reply": "2025-10-30T06:23:58.656783Z"
    }
   },
   "outputs": [],
   "source": [
    "layer_1_lh = 0\n",
    "layer_1_uh = cond_h\n",
    "layer_2_lh = layer_1_uh + \"+\" + core_h\n",
    "layer_2_uh = layer_2_lh + \"+\" + cond_h\n",
    "layer_3_lh = layer_2_uh + \"+\" + pp_h\n",
    "layer_3_uh = layer_3_lh + \"+\" + cond_h"
   ]
  },
  {
   "cell_type": "markdown",
   "id": "c4db32c0",
   "metadata": {},
   "source": [
    "## Create positive signal\n",
    "\n",
    "Create a positive signal."
   ]
  },
  {
   "cell_type": "code",
   "execution_count": 7,
   "id": "ccc52c49",
   "metadata": {
    "execution": {
     "iopub.execute_input": "2025-10-30T06:23:58.656783Z",
     "iopub.status.busy": "2025-10-30T06:23:58.656783Z",
     "iopub.status.idle": "2025-10-30T06:24:00.874895Z",
     "shell.execute_reply": "2025-10-30T06:24:00.874895Z"
    }
   },
   "outputs": [
    {
     "name": "stdout",
     "output_type": "stream",
     "text": [
      "PyAEDT INFO: Modeler2D class has been initialized!\n"
     ]
    },
    {
     "name": "stdout",
     "output_type": "stream",
     "text": [
      "PyAEDT INFO: Modeler class has been initialized! Elapsed time: 0m 1sec\n"
     ]
    },
    {
     "name": "stdout",
     "output_type": "stream",
     "text": [
      "PyAEDT INFO: Materials class has been initialized! Elapsed time: 0m 0sec\n"
     ]
    }
   ],
   "source": [
    "signal_p_1 = q2d.modeler.create_polyline(\n",
    "    points=[[0, layer_2_lh, 0], [sig_w, layer_2_lh, 0]], name=\"signal_p_1\"\n",
    ")"
   ]
  },
  {
   "cell_type": "code",
   "execution_count": 8,
   "id": "8d39b23e",
   "metadata": {
    "execution": {
     "iopub.execute_input": "2025-10-30T06:24:00.874895Z",
     "iopub.status.busy": "2025-10-30T06:24:00.874895Z",
     "iopub.status.idle": "2025-10-30T06:24:01.049920Z",
     "shell.execute_reply": "2025-10-30T06:24:01.049252Z"
    }
   },
   "outputs": [
    {
     "name": "stdout",
     "output_type": "stream",
     "text": [
      "PyAEDT INFO: Parsing design objects. This operation can take time\n"
     ]
    },
    {
     "name": "stdout",
     "output_type": "stream",
     "text": [
      "PyAEDT INFO: Refreshing bodies from Object Info\n"
     ]
    },
    {
     "name": "stdout",
     "output_type": "stream",
     "text": [
      "PyAEDT INFO: Bodies Info Refreshed Elapsed time: 0m 0sec\n"
     ]
    },
    {
     "name": "stdout",
     "output_type": "stream",
     "text": [
      "PyAEDT INFO: 3D Modeler objects parsed. Elapsed time: 0m 0sec\n"
     ]
    },
    {
     "name": "stdout",
     "output_type": "stream",
     "text": [
      "PyAEDT INFO: Connection Correctly created\n"
     ]
    },
    {
     "data": {
      "text/plain": [
       "True"
      ]
     },
     "execution_count": 8,
     "metadata": {},
     "output_type": "execute_result"
    }
   ],
   "source": [
    "signal_p_2 = q2d.modeler.create_polyline(\n",
    "    points=[[0, layer_2_uh, 0], [sig_top_w, layer_2_uh, 0]], name=\"signal_p_2\"\n",
    ")\n",
    "q2d.modeler.move([signal_p_2], [delta_w_half, 0, 0])\n",
    "q2d.modeler.connect([signal_p_1, signal_p_2])\n",
    "q2d.modeler.move(\n",
    "    assignment=[signal_p_1], vector=[\"{}+{}\".format(co_gnd_w, clearance), 0, 0]\n",
    ")"
   ]
  },
  {
   "cell_type": "markdown",
   "id": "1772f39a",
   "metadata": {},
   "source": [
    "## Create negative signal\n",
    "\n",
    "Create a negative signal."
   ]
  },
  {
   "cell_type": "code",
   "execution_count": 9,
   "id": "8afd6d92",
   "metadata": {
    "execution": {
     "iopub.execute_input": "2025-10-30T06:24:01.049920Z",
     "iopub.status.busy": "2025-10-30T06:24:01.049920Z",
     "iopub.status.idle": "2025-10-30T06:24:01.080952Z",
     "shell.execute_reply": "2025-10-30T06:24:01.080952Z"
    }
   },
   "outputs": [],
   "source": [
    "signal_n_1 = q2d.modeler.create_polyline(\n",
    "    points=[[0, layer_2_lh, 0], [sig_w, layer_2_lh, 0]], name=\"signal_n_1\"\n",
    ")"
   ]
  },
  {
   "cell_type": "code",
   "execution_count": 10,
   "id": "69633e2d",
   "metadata": {
    "execution": {
     "iopub.execute_input": "2025-10-30T06:24:01.080952Z",
     "iopub.status.busy": "2025-10-30T06:24:01.080952Z",
     "iopub.status.idle": "2025-10-30T06:24:01.112734Z",
     "shell.execute_reply": "2025-10-30T06:24:01.112734Z"
    }
   },
   "outputs": [],
   "source": [
    "signal_n_2 = q2d.modeler.create_polyline(\n",
    "    points=[[0, layer_2_uh, 0], [sig_top_w, layer_2_uh, 0]], name=\"signal_n_2\"\n",
    ")"
   ]
  },
  {
   "cell_type": "code",
   "execution_count": 11,
   "id": "46beb8bb",
   "metadata": {
    "execution": {
     "iopub.execute_input": "2025-10-30T06:24:01.112734Z",
     "iopub.status.busy": "2025-10-30T06:24:01.112734Z",
     "iopub.status.idle": "2025-10-30T06:24:01.256607Z",
     "shell.execute_reply": "2025-10-30T06:24:01.255943Z"
    }
   },
   "outputs": [
    {
     "name": "stdout",
     "output_type": "stream",
     "text": [
      "PyAEDT INFO: Parsing design objects. This operation can take time\n"
     ]
    },
    {
     "name": "stdout",
     "output_type": "stream",
     "text": [
      "PyAEDT INFO: Refreshing bodies from Object Info\n"
     ]
    },
    {
     "name": "stdout",
     "output_type": "stream",
     "text": [
      "PyAEDT INFO: Bodies Info Refreshed Elapsed time: 0m 0sec\n"
     ]
    },
    {
     "name": "stdout",
     "output_type": "stream",
     "text": [
      "PyAEDT INFO: 3D Modeler objects parsed. Elapsed time: 0m 0sec\n"
     ]
    },
    {
     "name": "stdout",
     "output_type": "stream",
     "text": [
      "PyAEDT INFO: Connection Correctly created\n"
     ]
    },
    {
     "data": {
      "text/plain": [
       "True"
      ]
     },
     "execution_count": 11,
     "metadata": {},
     "output_type": "execute_result"
    }
   ],
   "source": [
    "q2d.modeler.move(assignment=[signal_n_2], vector=[delta_w_half, 0, 0])\n",
    "q2d.modeler.connect([signal_n_1, signal_n_2])\n",
    "q2d.modeler.move(\n",
    "    assignment=[signal_n_1],\n",
    "    vector=[\"{}+{}+{}+{}\".format(co_gnd_w, clearance, sig_w, sig_gap), 0, 0],\n",
    ")"
   ]
  },
  {
   "cell_type": "markdown",
   "id": "c7daadf0",
   "metadata": {},
   "source": [
    "## Create reference ground plane\n",
    "\n",
    "Create a reference ground plane."
   ]
  },
  {
   "cell_type": "code",
   "execution_count": 12,
   "id": "dfa79942",
   "metadata": {
    "execution": {
     "iopub.execute_input": "2025-10-30T06:24:01.256607Z",
     "iopub.status.busy": "2025-10-30T06:24:01.256607Z",
     "iopub.status.idle": "2025-10-30T06:24:01.287387Z",
     "shell.execute_reply": "2025-10-30T06:24:01.287387Z"
    }
   },
   "outputs": [],
   "source": [
    "ref_gnd_u = q2d.modeler.create_rectangle(\n",
    "    origin=[0, layer_1_lh, 0], sizes=[model_w, cond_h], name=\"ref_gnd_u\"\n",
    ")\n",
    "ref_gnd_l = q2d.modeler.create_rectangle(\n",
    "    origin=[0, layer_3_lh, 0], sizes=[model_w, cond_h], name=\"ref_gnd_l\"\n",
    ")"
   ]
  },
  {
   "cell_type": "markdown",
   "id": "803fc5ee",
   "metadata": {},
   "source": [
    "## Create dielectric\n",
    "\n",
    "Create a dielectric."
   ]
  },
  {
   "cell_type": "code",
   "execution_count": 13,
   "id": "25b479f7",
   "metadata": {
    "execution": {
     "iopub.execute_input": "2025-10-30T06:24:01.287387Z",
     "iopub.status.busy": "2025-10-30T06:24:01.287387Z",
     "iopub.status.idle": "2025-10-30T06:24:01.588395Z",
     "shell.execute_reply": "2025-10-30T06:24:01.588395Z"
    }
   },
   "outputs": [
    {
     "data": {
      "text/plain": [
       "<ansys.aedt.core.modeler.cad.object_3d.Object3d at 0x24bcad08fa0>"
      ]
     },
     "execution_count": 13,
     "metadata": {},
     "output_type": "execute_result"
    }
   ],
   "source": [
    "q2d.modeler.create_rectangle(\n",
    "    origin=[0, layer_1_uh, 0],\n",
    "    sizes=[model_w, core_h],\n",
    "    name=\"Core\",\n",
    "    material=\"FR4_epoxy\",\n",
    ")\n",
    "q2d.modeler.create_rectangle(\n",
    "    origin=[0, layer_2_uh, 0],\n",
    "    sizes=[model_w, pp_h],\n",
    "    name=\"Prepreg\",\n",
    "    material=\"FR4_epoxy\",\n",
    ")\n",
    "q2d.modeler.create_rectangle(\n",
    "    origin=[0, layer_2_lh, 0],\n",
    "    sizes=[model_w, cond_h],\n",
    "    name=\"Filling\",\n",
    "    material=\"FR4_epoxy\",\n",
    ")"
   ]
  },
  {
   "cell_type": "markdown",
   "id": "eec6d4ef",
   "metadata": {},
   "source": [
    "## Assign conductors\n",
    "\n",
    "Assign conductors to the signal."
   ]
  },
  {
   "cell_type": "code",
   "execution_count": 14,
   "id": "31a32041",
   "metadata": {
    "execution": {
     "iopub.execute_input": "2025-10-30T06:24:01.588395Z",
     "iopub.status.busy": "2025-10-30T06:24:01.588395Z",
     "iopub.status.idle": "2025-10-30T06:24:01.667978Z",
     "shell.execute_reply": "2025-10-30T06:24:01.667978Z"
    }
   },
   "outputs": [
    {
     "name": "stdout",
     "output_type": "stream",
     "text": [
      "PyAEDT INFO: Boundary SignalLine signal_p_1 has been created.\n"
     ]
    },
    {
     "name": "stdout",
     "output_type": "stream",
     "text": [
      "PyAEDT INFO: Boundary SignalLine signal_n_1 has been created.\n"
     ]
    },
    {
     "data": {
      "text/plain": [
       "<ansys.aedt.core.modules.boundary.common.BoundaryObject at 0x24bb516fdf0>"
      ]
     },
     "execution_count": 14,
     "metadata": {},
     "output_type": "execute_result"
    }
   ],
   "source": [
    "q2d.assign_single_conductor(\n",
    "    name=signal_p_1.name,\n",
    "    assignment=[signal_p_1],\n",
    "    conductor_type=\"SignalLine\",\n",
    "    solve_option=\"SolveOnBoundary\",\n",
    "    units=\"mm\",\n",
    ")\n",
    "\n",
    "q2d.assign_single_conductor(\n",
    "    name=signal_n_1.name,\n",
    "    assignment=[signal_n_1],\n",
    "    conductor_type=\"SignalLine\",\n",
    "    solve_option=\"SolveOnBoundary\",\n",
    "    units=\"mm\",\n",
    ")"
   ]
  },
  {
   "cell_type": "markdown",
   "id": "5a15b547",
   "metadata": {},
   "source": [
    "## Create reference ground\n",
    "\n",
    "Create a reference ground."
   ]
  },
  {
   "cell_type": "code",
   "execution_count": 15,
   "id": "b8a7bd2a",
   "metadata": {
    "execution": {
     "iopub.execute_input": "2025-10-30T06:24:01.667978Z",
     "iopub.status.busy": "2025-10-30T06:24:01.667978Z",
     "iopub.status.idle": "2025-10-30T06:24:01.779379Z",
     "shell.execute_reply": "2025-10-30T06:24:01.779379Z"
    }
   },
   "outputs": [
    {
     "name": "stdout",
     "output_type": "stream",
     "text": [
      "PyAEDT INFO: Boundary ReferenceGround gnd has been created.\n"
     ]
    },
    {
     "data": {
      "text/plain": [
       "<ansys.aedt.core.modules.boundary.common.BoundaryObject at 0x24bcacc3460>"
      ]
     },
     "execution_count": 15,
     "metadata": {},
     "output_type": "execute_result"
    }
   ],
   "source": [
    "q2d.assign_single_conductor(\n",
    "    name=\"gnd\",\n",
    "    assignment=[ref_gnd_u, ref_gnd_l],\n",
    "    conductor_type=\"ReferenceGround\",\n",
    "    solve_option=\"SolveOnBoundary\",\n",
    "    units=\"mm\",\n",
    ")"
   ]
  },
  {
   "cell_type": "markdown",
   "id": "cfef30f1",
   "metadata": {},
   "source": [
    "## Assign Huray model on signals\n",
    "\n",
    "Assign the Huray model on the signals."
   ]
  },
  {
   "cell_type": "code",
   "execution_count": 16,
   "id": "9335fed3",
   "metadata": {
    "execution": {
     "iopub.execute_input": "2025-10-30T06:24:01.779379Z",
     "iopub.status.busy": "2025-10-30T06:24:01.779379Z",
     "iopub.status.idle": "2025-10-30T06:24:01.842223Z",
     "shell.execute_reply": "2025-10-30T06:24:01.842223Z"
    }
   },
   "outputs": [
    {
     "name": "stdout",
     "output_type": "stream",
     "text": [
      "PyAEDT INFO: Boundary Finite Conductivity b_signal_p_1 has been created.\n"
     ]
    },
    {
     "name": "stdout",
     "output_type": "stream",
     "text": [
      "PyAEDT INFO: Boundary Finite Conductivity b_signal_n_1 has been created.\n"
     ]
    },
    {
     "data": {
      "text/plain": [
       "<ansys.aedt.core.modules.boundary.common.BoundaryObject at 0x24bcad09f90>"
      ]
     },
     "execution_count": 16,
     "metadata": {},
     "output_type": "execute_result"
    }
   ],
   "source": [
    "q2d.assign_huray_finitecond_to_edges(\n",
    "    signal_p_1.edges, radius=\"0.5um\", ratio=3, name=\"b_\" + signal_p_1.name\n",
    ")\n",
    "\n",
    "q2d.assign_huray_finitecond_to_edges(\n",
    "    signal_n_1.edges, radius=\"0.5um\", ratio=3, name=\"b_\" + signal_n_1.name\n",
    ")"
   ]
  },
  {
   "cell_type": "markdown",
   "id": "343e7c37",
   "metadata": {},
   "source": [
    "## Define differential pair\n",
    "\n",
    "Define the differential pair."
   ]
  },
  {
   "cell_type": "code",
   "execution_count": 17,
   "id": "bff9b96e",
   "metadata": {
    "execution": {
     "iopub.execute_input": "2025-10-30T06:24:01.844744Z",
     "iopub.status.busy": "2025-10-30T06:24:01.844744Z",
     "iopub.status.idle": "2025-10-30T06:24:01.940476Z",
     "shell.execute_reply": "2025-10-30T06:24:01.940476Z"
    }
   },
   "outputs": [
    {
     "name": "stderr",
     "output_type": "stream",
     "text": [
      "C:\\Users\\ansys\\AppData\\Local\\Temp\\ipykernel_6276\\313514116.py:2: DeprecationWarning: Usage of MATRIXOPERATIONS is deprecated. Use ansys.aedt.core.generic.constants.MatrixOperationsQ2D instead.\n",
      "  operation_name=q2d.MATRIXOPERATIONS.DiffPair,\n"
     ]
    }
   ],
   "source": [
    "matrix = q2d.insert_reduced_matrix(\n",
    "    operation_name=q2d.MATRIXOPERATIONS.DiffPair,\n",
    "    assignment=[\"signal_p_1\", \"signal_n_1\"],\n",
    "    reduced_matrix=\"diff_pair\",\n",
    ")"
   ]
  },
  {
   "cell_type": "markdown",
   "id": "68900a2d",
   "metadata": {},
   "source": [
    "## Create setup, analyze, and plot\n",
    "\n",
    "Create a setup, analyze, and plot solution data."
   ]
  },
  {
   "cell_type": "markdown",
   "id": "e988fab3",
   "metadata": {},
   "source": [
    "Create a setup."
   ]
  },
  {
   "cell_type": "code",
   "execution_count": 18,
   "id": "3d04f395",
   "metadata": {
    "execution": {
     "iopub.execute_input": "2025-10-30T06:24:01.945004Z",
     "iopub.status.busy": "2025-10-30T06:24:01.944498Z",
     "iopub.status.idle": "2025-10-30T06:24:01.984254Z",
     "shell.execute_reply": "2025-10-30T06:24:01.984254Z"
    }
   },
   "outputs": [],
   "source": [
    "setup = q2d.create_setup(name=\"new_setup\")"
   ]
  },
  {
   "cell_type": "markdown",
   "id": "343dba98",
   "metadata": {},
   "source": [
    "Add a sweep."
   ]
  },
  {
   "cell_type": "code",
   "execution_count": 19,
   "id": "f36a7ee8",
   "metadata": {
    "execution": {
     "iopub.execute_input": "2025-10-30T06:24:01.986315Z",
     "iopub.status.busy": "2025-10-30T06:24:01.986315Z",
     "iopub.status.idle": "2025-10-30T06:24:02.032171Z",
     "shell.execute_reply": "2025-10-30T06:24:02.032171Z"
    }
   },
   "outputs": [
    {
     "name": "stdout",
     "output_type": "stream",
     "text": [
      "PyAEDT INFO: Parsing C:\\Users\\ansys\\AppData\\Local\\Temp\\tmpz4b0pjtu.ansys\\stripline.aedt.\n"
     ]
    },
    {
     "name": "stdout",
     "output_type": "stream",
     "text": [
      "PyAEDT INFO: File C:\\Users\\ansys\\AppData\\Local\\Temp\\tmpz4b0pjtu.ansys\\stripline.aedt correctly loaded. Elapsed time: 0m 0sec\n"
     ]
    },
    {
     "name": "stdout",
     "output_type": "stream",
     "text": [
      "PyAEDT INFO: aedt file load time 0.013991832733154297\n"
     ]
    },
    {
     "data": {
      "text/plain": [
       "True"
      ]
     },
     "execution_count": 19,
     "metadata": {},
     "output_type": "execute_result"
    }
   ],
   "source": [
    "sweep = setup.add_sweep(name=\"sweep1\", sweep_type=\"Discrete\")\n",
    "sweep.props[\"RangeType\"] = \"LinearStep\"\n",
    "sweep.props[\"RangeStart\"] = \"1GHz\"\n",
    "sweep.props[\"RangeStep\"] = \"100MHz\"\n",
    "sweep.props[\"RangeEnd\"] = \"5GHz\"\n",
    "sweep.props[\"SaveFields\"] = False\n",
    "sweep.props[\"SaveRadFields\"] = False\n",
    "sweep.props[\"Type\"] = \"Interpolating\"\n",
    "sweep.update()"
   ]
  },
  {
   "cell_type": "markdown",
   "id": "a5ecf752",
   "metadata": {},
   "source": [
    "Analyze the nominal design and plot characteristic impedance."
   ]
  },
  {
   "cell_type": "code",
   "execution_count": 20,
   "id": "b7018506",
   "metadata": {
    "execution": {
     "iopub.execute_input": "2025-10-30T06:24:02.032171Z",
     "iopub.status.busy": "2025-10-30T06:24:02.032171Z",
     "iopub.status.idle": "2025-10-30T06:24:21.901080Z",
     "shell.execute_reply": "2025-10-30T06:24:21.899069Z"
    }
   },
   "outputs": [
    {
     "name": "stdout",
     "output_type": "stream",
     "text": [
      "PyAEDT INFO: Project stripline Saved correctly\n"
     ]
    },
    {
     "name": "stdout",
     "output_type": "stream",
     "text": [
      "PyAEDT INFO: Key Desktop/ActiveDSOConfigurations/2D Extractor correctly changed.\n"
     ]
    },
    {
     "name": "stdout",
     "output_type": "stream",
     "text": [
      "PyAEDT INFO: Solving all design setups. Analysis started...\n"
     ]
    },
    {
     "name": "stdout",
     "output_type": "stream",
     "text": [
      "PyAEDT INFO: Design setup None solved correctly in 0.0h 0.0m 20.0s\n"
     ]
    },
    {
     "name": "stdout",
     "output_type": "stream",
     "text": [
      "PyAEDT INFO: Key Desktop/ActiveDSOConfigurations/2D Extractor correctly changed.\n"
     ]
    }
   ],
   "source": [
    "q2d.analyze(cores=NUM_CORES)\n",
    "plot_sources = matrix.get_sources_for_plot(category=\"Z0\")"
   ]
  },
  {
   "cell_type": "markdown",
   "id": "f2ac683c",
   "metadata": {},
   "source": [
    "Get simulation results as a ``SolutionData`` object and plot to a JPG file."
   ]
  },
  {
   "cell_type": "code",
   "execution_count": 21,
   "id": "bcce8570",
   "metadata": {
    "execution": {
     "iopub.execute_input": "2025-10-30T06:24:21.902229Z",
     "iopub.status.busy": "2025-10-30T06:24:21.902229Z",
     "iopub.status.idle": "2025-10-30T06:24:23.532607Z",
     "shell.execute_reply": "2025-10-30T06:24:23.532607Z"
    }
   },
   "outputs": [
    {
     "name": "stdout",
     "output_type": "stream",
     "text": [
      "PyAEDT INFO: Parsing C:\\Users\\ansys\\AppData\\Local\\Temp\\tmpz4b0pjtu.ansys\\stripline.aedt.\n"
     ]
    },
    {
     "name": "stdout",
     "output_type": "stream",
     "text": [
      "PyAEDT INFO: File C:\\Users\\ansys\\AppData\\Local\\Temp\\tmpz4b0pjtu.ansys\\stripline.aedt correctly loaded. Elapsed time: 0m 0sec\n"
     ]
    },
    {
     "name": "stdout",
     "output_type": "stream",
     "text": [
      "PyAEDT INFO: aedt file load time 0.025584697723388672\n"
     ]
    },
    {
     "name": "stdout",
     "output_type": "stream",
     "text": [
      "PyAEDT INFO: PostProcessor class has been initialized! Elapsed time: 0m 0sec\n"
     ]
    },
    {
     "name": "stdout",
     "output_type": "stream",
     "text": [
      "PyAEDT INFO: Post class has been initialized! Elapsed time: 0m 0sec\n"
     ]
    },
    {
     "name": "stdout",
     "output_type": "stream",
     "text": [
      "PyAEDT WARNING: No report category provided. Automatically identified Matrix\n"
     ]
    },
    {
     "name": "stdout",
     "output_type": "stream",
     "text": [
      "PyAEDT INFO: Solution Data Correctly Loaded.\n"
     ]
    },
    {
     "name": "stdout",
     "output_type": "stream",
     "text": [
      "Time to initialize solution data:0.011963844299316406\n",
      "Time to initialize solution data:0.03490877151489258\n"
     ]
    },
    {
     "data": {
      "image/png": "[encoded data removed]",
      "text/plain": [
       "<Figure size 1920x1440 with 2 Axes>"
      ]
     },
     "execution_count": 21,
     "metadata": {},
     "output_type": "execute_result"
    },
    {
     "data": {
      "image/png": "[encoded data removed]",
      "text/plain": [
       "<Figure size 1920x1440 with 2 Axes>"
      ]
     },
     "metadata": {},
     "output_type": "display_data"
    }
   ],
   "source": [
    "data = q2d.post.get_solution_data(expressions=plot_sources, context=matrix.name)\n",
    "data.plot(snapshot_path=os.path.join(temp_folder.name, \"plot.jpg\"))"
   ]
  },
  {
   "cell_type": "markdown",
   "id": "ba9c6f6e",
   "metadata": {},
   "source": [
    "-"
   ]
  },
  {
   "cell_type": "markdown",
   "id": "63b58791",
   "metadata": {},
   "source": [
    "## Release AEDT"
   ]
  },
  {
   "cell_type": "code",
   "execution_count": 22,
   "id": "f448b88c",
   "metadata": {
    "execution": {
     "iopub.execute_input": "2025-10-30T06:24:23.532607Z",
     "iopub.status.busy": "2025-10-30T06:24:23.532607Z",
     "iopub.status.idle": "2025-10-30T06:24:41.607629Z",
     "shell.execute_reply": "2025-10-30T06:24:41.607629Z"
    }
   },
   "outputs": [
    {
     "name": "stdout",
     "output_type": "stream",
     "text": [
      "PyAEDT INFO: Project stripline Saved correctly\n"
     ]
    },
    {
     "name": "stdout",
     "output_type": "stream",
     "text": [
      "PyAEDT INFO: Desktop has been released and closed.\n"
     ]
    }
   ],
   "source": [
    "q2d.save_project()\n",
    "q2d.release_desktop()\n",
    "# Wait 3 seconds to allow AEDT to shut down before cleaning the temporary directory.\n",
    "time.sleep(3)"
   ]
  },
  {
   "cell_type": "markdown",
   "id": "f1cecffd",
   "metadata": {},
   "source": [
    "## Clean up\n",
    "\n",
    "All project files are saved in the folder ``temp_folder.name``.\n",
    "If you've run this example as a Jupyter notebook, you\n",
    "can retrieve those project files. The following cell\n",
    "removes all temporary files, including the project folder."
   ]
  },
  {
   "cell_type": "code",
   "execution_count": 23,
   "id": "95aaa25b",
   "metadata": {
    "execution": {
     "iopub.execute_input": "2025-10-30T06:24:41.607629Z",
     "iopub.status.busy": "2025-10-30T06:24:41.607629Z",
     "iopub.status.idle": "2025-10-30T06:24:41.639182Z",
     "shell.execute_reply": "2025-10-30T06:24:41.639182Z"
    }
   },
   "outputs": [],
   "source": [
    "temp_folder.cleanup()"
   ]
  }
 ],
 "metadata": {
  "jupytext": {
   "cell_metadata_filter": "-all",
   "main_language": "python",
   "notebook_metadata_filter": "-all"
  },
  "language_info": {
   "codemirror_mode": {
    "name": "ipython",
    "version": 3
   },
   "file_extension": ".py",
   "mimetype": "text/x-python",
   "name": "python",
   "nbconvert_exporter": "python",
   "pygments_lexer": "ipython3",
   "version": "3.10.11"
  }
 },
 "nbformat": 4,
 "nbformat_minor": 5
}
