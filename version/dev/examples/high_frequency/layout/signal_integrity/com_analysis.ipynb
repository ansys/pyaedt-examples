{
 "cells": [
  {
   "cell_type": "markdown",
   "id": "9ba1348b",
   "metadata": {},
   "source": [
    "# Channel Operating Margin (COM)\n",
    "This example shows how to use PyAEDT for COM analysis.\n",
    "These standards are supported:\n",
    "\n",
    "- 50GAUI_1_C2C\n",
    "- 100GAUI_2_C2C\n",
    "- 200GAUI_4\n",
    "- 400GAUI_8\n",
    "- 100GBASE_KR4\n",
    "- 100GBASE_KP4"
   ]
  },
  {
   "cell_type": "markdown",
   "id": "4d87f2b2",
   "metadata": {},
   "source": [
    "<img src=\"_static\\com_eye.png\" width=\"500\">"
   ]
  },
  {
   "cell_type": "markdown",
   "id": "0d506082",
   "metadata": {},
   "source": [
    "## What is COM?\n",
    "\n",
    "- COM was developed as part of IEEE 802.3bj, 100GBASE Ethernet.\n",
    "- COM is a figure of merit for an S-parameter representing a high-speed SerDes channel.\n",
    "- COM is the ratio between eye height and noise."
   ]
  },
  {
   "cell_type": "markdown",
   "id": "d4bfd071",
   "metadata": {},
   "source": [
    "```math\n",
    "COM = 20 * log10 (A_signal / A_noise)\n",
    "```\n",
    "\n",
    "Keywords: **COM**, **signal integrity**, **virtual compliance**."
   ]
  },
  {
   "cell_type": "markdown",
   "id": "fc049bcb",
   "metadata": {},
   "source": [
    "## Perform imports\n",
    "Perform required imports."
   ]
  },
  {
   "cell_type": "code",
   "execution_count": 1,
   "id": "a8107974",
   "metadata": {
    "execution": {
     "iopub.execute_input": "2025-10-30T05:36:37.502166Z",
     "iopub.status.busy": "2025-10-30T05:36:37.502166Z",
     "iopub.status.idle": "2025-10-30T05:36:37.517900Z",
     "shell.execute_reply": "2025-10-30T05:36:37.517900Z"
    }
   },
   "outputs": [],
   "source": [
    "import os\n",
    "import tempfile"
   ]
  },
  {
   "cell_type": "code",
   "execution_count": 2,
   "id": "ff80de5b",
   "metadata": {
    "execution": {
     "iopub.execute_input": "2025-10-30T05:36:37.517900Z",
     "iopub.status.busy": "2025-10-30T05:36:37.517900Z",
     "iopub.status.idle": "2025-10-30T05:36:40.746210Z",
     "shell.execute_reply": "2025-10-30T05:36:40.746210Z"
    }
   },
   "outputs": [],
   "source": [
    "from ansys.aedt.core.visualization.post.spisim import SpiSim\n",
    "from ansys.aedt.core.visualization.post.spisim_com_configuration_files import \\\n",
    "    com_parameters\n",
    "from pyedb.misc.downloads import download_file"
   ]
  },
  {
   "cell_type": "markdown",
   "id": "a19e8b6e",
   "metadata": {},
   "source": [
    "## Create temporary directory and download example files\n",
    "\n",
    "Create a temporary directory where downloaded data or\n",
    "dumped data can be stored.\n",
    "If you'd like to retrieve the project data for subsequent use,\n",
    "the temporary folder name is given by ``temp_folder.name``."
   ]
  },
  {
   "cell_type": "code",
   "execution_count": 3,
   "id": "75a35e2a",
   "metadata": {
    "execution": {
     "iopub.execute_input": "2025-10-30T05:36:40.746210Z",
     "iopub.status.busy": "2025-10-30T05:36:40.746210Z",
     "iopub.status.idle": "2025-10-30T05:36:42.447901Z",
     "shell.execute_reply": "2025-10-30T05:36:42.447901Z"
    }
   },
   "outputs": [],
   "source": [
    "temp_folder = tempfile.TemporaryDirectory(suffix=\".ansys\")\n",
    "\n",
    "thru = download_file(\n",
    "    directory=\"com_analysis\",\n",
    "    filename=\"SerDes_Demo_02_Thru.s4p\",\n",
    "    destination=temp_folder.name,\n",
    ")\n",
    "fext_2_9 = download_file(\n",
    "    directory=\"com_analysis\",\n",
    "    filename=\"FCI_CC_Long_Link_Pair_2_to_Pair_9_FEXT.s4p\",\n",
    "    destination=temp_folder.name,\n",
    ")\n",
    "fext_5_9 = download_file(\n",
    "    directory=\"com_analysis\",\n",
    "    filename=\"FCI_CC_Long_Link_Pair_5_to_Pair_9_FEXT.s4p\",\n",
    "    destination=temp_folder.name,\n",
    ")\n",
    "next_11_9 = download_file(\n",
    "    directory=\"com_analysis\",\n",
    "    filename=\"FCI_CC_Long_Link_Pair_11_to_Pair_9_NEXT.s4p\",\n",
    "    destination=temp_folder.name,\n",
    ")"
   ]
  },
  {
   "cell_type": "markdown",
   "id": "dae9f408",
   "metadata": {},
   "source": [
    "## Run COM analysis\n",
    "PyAEDT calls SPISim for COM analysis. For supported standardes, see the PyAEDT documentation."
   ]
  },
  {
   "cell_type": "markdown",
   "id": "aa430734",
   "metadata": {},
   "source": [
    "Set ``port_order=\"EvenOdd\"`` when the S-parameter has this port order:\n",
    "\n",
    "1 - 2\n",
    "\n",
    "3 - 4\n",
    "\n",
    "Set ``port_order=\"Incremental\"`` when the S-parameter has this port order:\n",
    "\n",
    "1 - 3\n",
    "\n",
    "2 - 4"
   ]
  },
  {
   "cell_type": "code",
   "execution_count": 4,
   "id": "0c194034",
   "metadata": {
    "execution": {
     "iopub.execute_input": "2025-10-30T05:36:42.447901Z",
     "iopub.status.busy": "2025-10-30T05:36:42.447901Z",
     "iopub.status.idle": "2025-10-30T05:37:36.585701Z",
     "shell.execute_reply": "2025-10-30T05:37:36.585701Z"
    }
   },
   "outputs": [
    {
     "name": "stdout",
     "output_type": "stream",
     "text": [
      "PyAEDT INFO: Execute : C:\\Program Files\\ANSYS Inc\\v252\\AnsysEM\\spisim\\SPISim\\modules\\ext\\SPISimJNI_WIN64.exe COM -v CFGFILE=com_parameters.cfg\n"
     ]
    }
   ],
   "source": [
    "spi_sim = SpiSim(thru)\n",
    "com_results = spi_sim.compute_com(\n",
    "    standard=1,  # 50GAUI-1-C2C\n",
    "    port_order=\"EvenOdd\",\n",
    "    fext_s4p=[fext_5_9, fext_5_9],\n",
    "    next_s4p=next_11_9,\n",
    ")"
   ]
  },
  {
   "cell_type": "markdown",
   "id": "9319285f",
   "metadata": {},
   "source": [
    "## Print COM values\n",
    "There are two COM values reported by the definition of the standard:\n",
    "\n",
    "- Case 0: COM value in dB when big package is used.\n",
    "- Case 1: COM value in dB when small package is used."
   ]
  },
  {
   "cell_type": "code",
   "execution_count": 5,
   "id": "0fcc4098",
   "metadata": {
    "execution": {
     "iopub.execute_input": "2025-10-30T05:37:36.585701Z",
     "iopub.status.busy": "2025-10-30T05:37:36.585701Z",
     "iopub.status.idle": "2025-10-30T05:37:36.601645Z",
     "shell.execute_reply": "2025-10-30T05:37:36.601645Z"
    }
   },
   "outputs": [
    {
     "name": "stdout",
     "output_type": "stream",
     "text": [
      "-0.2652 -1.0462\n"
     ]
    }
   ],
   "source": [
    "print(*com_results)"
   ]
  },
  {
   "cell_type": "markdown",
   "id": "f948a9f2",
   "metadata": {},
   "source": [
    "## View COM report\n",
    "A complete COM report is generated in the temporary folder in HTML format."
   ]
  },
  {
   "cell_type": "code",
   "execution_count": 6,
   "id": "cb1c4e87",
   "metadata": {
    "execution": {
     "iopub.execute_input": "2025-10-30T05:37:36.601645Z",
     "iopub.status.busy": "2025-10-30T05:37:36.601645Z",
     "iopub.status.idle": "2025-10-30T05:37:36.617722Z",
     "shell.execute_reply": "2025-10-30T05:37:36.617722Z"
    }
   },
   "outputs": [
    {
     "name": "stdout",
     "output_type": "stream",
     "text": [
      "C:\\Users\\ansys\\AppData\\Local\\Temp\\tmp9_gyyllu.ansys\n"
     ]
    }
   ],
   "source": [
    "print(temp_folder.name)"
   ]
  },
  {
   "cell_type": "markdown",
   "id": "a748a8c5",
   "metadata": {},
   "source": [
    "<img src=\"_static\\com_report.png\" width=\"800\">"
   ]
  },
  {
   "cell_type": "markdown",
   "id": "b7fca8e2",
   "metadata": {},
   "source": [
    "## Run COM analysis on custom configuration file"
   ]
  },
  {
   "cell_type": "markdown",
   "id": "ff621715",
   "metadata": {},
   "source": [
    "### Export template configuration file in JSON format"
   ]
  },
  {
   "cell_type": "code",
   "execution_count": 7,
   "id": "adcb9b77",
   "metadata": {
    "execution": {
     "iopub.execute_input": "2025-10-30T05:37:36.617722Z",
     "iopub.status.busy": "2025-10-30T05:37:36.617722Z",
     "iopub.status.idle": "2025-10-30T05:37:36.633793Z",
     "shell.execute_reply": "2025-10-30T05:37:36.633793Z"
    }
   },
   "outputs": [],
   "source": [
    "custom_json = os.path.join(temp_folder.name, \"custom.json\")\n",
    "spi_sim.export_com_configure_file(custom_json, standard=1)"
   ]
  },
  {
   "cell_type": "markdown",
   "id": "313b4336",
   "metadata": {},
   "source": [
    "Modify the custom JSON file as needed."
   ]
  },
  {
   "cell_type": "markdown",
   "id": "553245c6",
   "metadata": {},
   "source": [
    "### Import configuration file and run"
   ]
  },
  {
   "cell_type": "code",
   "execution_count": 8,
   "id": "3f513acb",
   "metadata": {
    "execution": {
     "iopub.execute_input": "2025-10-30T05:37:36.633793Z",
     "iopub.status.busy": "2025-10-30T05:37:36.633793Z",
     "iopub.status.idle": "2025-10-30T05:38:31.405237Z",
     "shell.execute_reply": "2025-10-30T05:38:31.405237Z"
    }
   },
   "outputs": [
    {
     "name": "stdout",
     "output_type": "stream",
     "text": [
      "PyAEDT INFO: Execute : C:\\Program Files\\ANSYS Inc\\v252\\AnsysEM\\spisim\\SPISim\\modules\\ext\\SPISimJNI_WIN64.exe COM -v CFGFILE=com_parameters.cfg\n"
     ]
    },
    {
     "name": "stdout",
     "output_type": "stream",
     "text": [
      "-0.2652 -1.0462\n"
     ]
    }
   ],
   "source": [
    "com_results = spi_sim.compute_com(\n",
    "    standard=0,  # Custom\n",
    "    config_file=custom_json,\n",
    "    port_order=\"EvenOdd\",\n",
    "    fext_s4p=[fext_5_9, fext_5_9],\n",
    "    next_s4p=next_11_9,\n",
    ")\n",
    "print(*com_results)"
   ]
  },
  {
   "cell_type": "markdown",
   "id": "23ee4e36",
   "metadata": {},
   "source": [
    "## Export SPISim supported configuration file\n",
    "You can use the exported configuration file in the SPISim GUI."
   ]
  },
  {
   "cell_type": "code",
   "execution_count": 9,
   "id": "deddd8c3",
   "metadata": {
    "execution": {
     "iopub.execute_input": "2025-10-30T05:38:31.405237Z",
     "iopub.status.busy": "2025-10-30T05:38:31.405237Z",
     "iopub.status.idle": "2025-10-30T05:38:31.421054Z",
     "shell.execute_reply": "2025-10-30T05:38:31.421054Z"
    }
   },
   "outputs": [
    {
     "data": {
      "text/plain": [
       "True"
      ]
     },
     "execution_count": 9,
     "metadata": {},
     "output_type": "execute_result"
    }
   ],
   "source": [
    "\n",
    "com_param = com_parameters.COMParametersVer3p4()\n",
    "com_param.load(custom_json)\n",
    "custom_cfg = os.path.join(temp_folder.name, \"custom.cfg\")\n",
    "com_param.export_spisim_cfg(custom_cfg)"
   ]
  },
  {
   "cell_type": "markdown",
   "id": "b89ac670",
   "metadata": {},
   "source": [
    "PyAEDT also supports the SPISim configuration file."
   ]
  },
  {
   "cell_type": "code",
   "execution_count": 10,
   "id": "a8b93f06",
   "metadata": {
    "execution": {
     "iopub.execute_input": "2025-10-30T05:38:31.421054Z",
     "iopub.status.busy": "2025-10-30T05:38:31.421054Z",
     "iopub.status.idle": "2025-10-30T05:39:21.424139Z",
     "shell.execute_reply": "2025-10-30T05:39:21.424139Z"
    }
   },
   "outputs": [
    {
     "name": "stdout",
     "output_type": "stream",
     "text": [
      "PyAEDT INFO: Execute : C:\\Program Files\\ANSYS Inc\\v252\\AnsysEM\\spisim\\SPISim\\modules\\ext\\SPISimJNI_WIN64.exe COM -v CFGFILE=com_parameters.cfg\n"
     ]
    },
    {
     "name": "stdout",
     "output_type": "stream",
     "text": [
      "-0.155 -0.9455\n"
     ]
    }
   ],
   "source": [
    "com_results = spi_sim.compute_com(\n",
    "    standard=0, config_file=custom_cfg, port_order=\"EvenOdd\"\n",
    ")  # Custom\n",
    "print(*com_results)"
   ]
  }
 ],
 "metadata": {
  "jupytext": {
   "cell_metadata_filter": "-all",
   "main_language": "python",
   "notebook_metadata_filter": "-all"
  },
  "language_info": {
   "codemirror_mode": {
    "name": "ipython",
    "version": 3
   },
   "file_extension": ".py",
   "mimetype": "text/x-python",
   "name": "python",
   "nbconvert_exporter": "python",
   "pygments_lexer": "ipython3",
   "version": "3.10.11"
  }
 },
 "nbformat": 4,
 "nbformat_minor": 5
}
