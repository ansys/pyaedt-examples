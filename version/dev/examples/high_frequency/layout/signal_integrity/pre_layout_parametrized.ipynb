{
 "cells": [
  {
   "cell_type": "markdown",
   "id": "c05f7ba7",
   "metadata": {},
   "source": [
    "# Pre-layout Parameterized PCB\n",
    "\n",
    "This example shows how to use the EDB interface along with HFSS 3D Layout to create and solve a\n",
    "parameterized layout. The layout shows a differential via transition on a printed circuit board\n",
    "with back-to-back microstrip to stripline transitions.\n",
    "The model is fully parameterized to enable investigation of the transition performance on the\n",
    "many degrees of freedom.\n",
    "\n",
    "The resulting model is shown below\n",
    "\n",
    "<img src=\"_static\\pre_layout_parameterized_pcb.png\" width=\"500\">"
   ]
  },
  {
   "cell_type": "markdown",
   "id": "c5bcb276",
   "metadata": {},
   "source": [
    "## Preparation\n",
    "Import the required packages"
   ]
  },
  {
   "cell_type": "code",
   "execution_count": 1,
   "id": "95b0ba59",
   "metadata": {
    "execution": {
     "iopub.execute_input": "2025-10-30T05:42:22.025888Z",
     "iopub.status.busy": "2025-10-30T05:42:22.025888Z",
     "iopub.status.idle": "2025-10-30T05:42:25.158543Z",
     "shell.execute_reply": "2025-10-30T05:42:25.158543Z"
    }
   },
   "outputs": [],
   "source": [
    "import os\n",
    "import tempfile\n",
    "import time\n",
    "\n",
    "from ansys.aedt.core import Hfss3dLayout\n",
    "from pyedb import Edb"
   ]
  },
  {
   "cell_type": "markdown",
   "id": "1420fe64",
   "metadata": {},
   "source": [
    "## Define constants"
   ]
  },
  {
   "cell_type": "code",
   "execution_count": 2,
   "id": "3df32ef3",
   "metadata": {
    "execution": {
     "iopub.execute_input": "2025-10-30T05:42:25.158543Z",
     "iopub.status.busy": "2025-10-30T05:42:25.158543Z",
     "iopub.status.idle": "2025-10-30T05:42:25.174481Z",
     "shell.execute_reply": "2025-10-30T05:42:25.174481Z"
    }
   },
   "outputs": [],
   "source": [
    "AEDT_VERSION = \"2025.2\"\n",
    "NUM_CORES = 4\n",
    "NG_MODE = False  # Open AEDT UI when it is launched."
   ]
  },
  {
   "cell_type": "markdown",
   "id": "28aabf93",
   "metadata": {},
   "source": [
    "## Launch EDB"
   ]
  },
  {
   "cell_type": "code",
   "execution_count": 3,
   "id": "bdc95742",
   "metadata": {
    "execution": {
     "iopub.execute_input": "2025-10-30T05:42:25.174481Z",
     "iopub.status.busy": "2025-10-30T05:42:25.174481Z",
     "iopub.status.idle": "2025-10-30T05:42:37.280347Z",
     "shell.execute_reply": "2025-10-30T05:42:37.280347Z"
    }
   },
   "outputs": [
    {
     "name": "stderr",
     "output_type": "stream",
     "text": [
      "C:\\actions-runner\\_work\\pyaedt-examples\\pyaedt-examples\\.venv\\lib\\site-packages\\pyedb\\misc\\decorators.py:55: UserWarning: Argument `edbversion` is deprecated for method `Edb`; use `version` instead.\n",
      "  warnings.warn(\n",
      "C:\\actions-runner\\_work\\pyaedt-examples\\pyaedt-examples\\.venv\\lib\\site-packages\\pyedb\\generic\\design_types.py:301: UserWarning: Your ANSYS AEDT version is eligible to gRPC version.You might consider switching to that version for better user experience.For more information please check this link: https://edb.docs.pyansys.com/version/dev/grpc_api/index.html\n",
      "  warnings.warn(GRPC_GENERAL_WARNING, UserWarning)\n"
     ]
    },
    {
     "name": "stdout",
     "output_type": "stream",
     "text": [
      "PyEDB INFO: Star initializing Edb 05:42:28.564511\n"
     ]
    },
    {
     "name": "stderr",
     "output_type": "stream",
     "text": [
      "INFO:Edb:Star initializing Edb 05:42:28.564511\n"
     ]
    },
    {
     "name": "stdout",
     "output_type": "stream",
     "text": [
      "PyEDB INFO: Edb version 2025.2\n"
     ]
    },
    {
     "name": "stderr",
     "output_type": "stream",
     "text": [
      "INFO:Edb:Edb version 2025.2\n"
     ]
    },
    {
     "name": "stdout",
     "output_type": "stream",
     "text": [
      "PyEDB INFO: Logger is initialized. Log file is saved to C:\\Users\\ansys\\AppData\\Local\\Temp\\pyedb_ansys.log.\n"
     ]
    },
    {
     "name": "stderr",
     "output_type": "stream",
     "text": [
      "INFO:Edb:Logger is initialized. Log file is saved to C:\\Users\\ansys\\AppData\\Local\\Temp\\pyedb_ansys.log.\n"
     ]
    },
    {
     "name": "stdout",
     "output_type": "stream",
     "text": [
      "PyEDB INFO: legacy v0.61.0\n"
     ]
    },
    {
     "name": "stderr",
     "output_type": "stream",
     "text": [
      "INFO:Edb:legacy v0.61.0\n"
     ]
    },
    {
     "name": "stdout",
     "output_type": "stream",
     "text": [
      "PyEDB INFO: Python version 3.10.11 (tags/v3.10.11:7d4cc5a, Apr  5 2023, 00:38:17) [MSC v.1929 64 bit (AMD64)]\n"
     ]
    },
    {
     "name": "stderr",
     "output_type": "stream",
     "text": [
      "INFO:Edb:Python version 3.10.11 (tags/v3.10.11:7d4cc5a, Apr  5 2023, 00:38:17) [MSC v.1929 64 bit (AMD64)]\n"
     ]
    },
    {
     "name": "stdout",
     "output_type": "stream",
     "text": [
      "PyEDB INFO: create_edb completed in 8.6362 seconds.\n"
     ]
    },
    {
     "name": "stderr",
     "output_type": "stream",
     "text": [
      "INFO:Edb:create_edb completed in 8.6362 seconds.\n"
     ]
    },
    {
     "name": "stdout",
     "output_type": "stream",
     "text": [
      "PyEDB INFO: EDB C:\\Users\\ansys\\AppData\\Local\\Temp\\tmpkq7cz3vg.ansys\\pcb.aedb created correctly.\n"
     ]
    },
    {
     "name": "stderr",
     "output_type": "stream",
     "text": [
      "INFO:Edb:EDB C:\\Users\\ansys\\AppData\\Local\\Temp\\tmpkq7cz3vg.ansys\\pcb.aedb created correctly.\n"
     ]
    },
    {
     "name": "stdout",
     "output_type": "stream",
     "text": [
      "PyEDB INFO: EDB initialization completed in 8.6999 seconds.\n"
     ]
    },
    {
     "name": "stderr",
     "output_type": "stream",
     "text": [
      "INFO:Edb:EDB initialization completed in 8.6999 seconds.\n"
     ]
    }
   ],
   "source": [
    "temp_folder = tempfile.TemporaryDirectory(suffix=\".ansys\")\n",
    "aedb_path = os.path.join(temp_folder.name, \"pcb.aedb\")\n",
    "edb = Edb(edbpath=aedb_path, edbversion=AEDT_VERSION)"
   ]
  },
  {
   "cell_type": "markdown",
   "id": "a5323fd1",
   "metadata": {},
   "source": [
    "## Create layout\n",
    "### Define the parameters."
   ]
  },
  {
   "cell_type": "code",
   "execution_count": 4,
   "id": "ccd05f13",
   "metadata": {
    "execution": {
     "iopub.execute_input": "2025-10-30T05:42:39.292123Z",
     "iopub.status.busy": "2025-10-30T05:42:39.292123Z",
     "iopub.status.idle": "2025-10-30T05:42:39.324137Z",
     "shell.execute_reply": "2025-10-30T05:42:39.324137Z"
    }
   },
   "outputs": [],
   "source": [
    "params = {\n",
    "    \"$ms_width\": \"0.4mm\",\n",
    "    \"$sl_width\": \"0.2mm\",\n",
    "    \"$ms_spacing\": \"0.2mm\",\n",
    "    \"$sl_spacing\": \"0.1mm\",\n",
    "    \"$via_spacing\": \"0.5mm\",\n",
    "    \"$via_diam\": \"0.3mm\",\n",
    "    \"$pad_diam\": \"0.6mm\",\n",
    "    \"$anti_pad_diam\": \"0.7mm\",\n",
    "    \"$pcb_len\": \"15mm\",\n",
    "    \"$pcb_w\": \"5mm\",\n",
    "    \"$x_size\": \"1.2mm\",\n",
    "    \"$y_size\": \"1mm\",\n",
    "    \"$corner_rad\": \"0.5mm\",\n",
    "}\n",
    "\n",
    "for par_name in params:\n",
    "    edb.add_project_variable(par_name, params[par_name])"
   ]
  },
  {
   "cell_type": "markdown",
   "id": "bc472f17",
   "metadata": {},
   "source": [
    "### Create stackup\n",
    "Define the stackup layers from bottom to top."
   ]
  },
  {
   "cell_type": "code",
   "execution_count": 5,
   "id": "4036bad6",
   "metadata": {
    "execution": {
     "iopub.execute_input": "2025-10-30T05:42:39.324137Z",
     "iopub.status.busy": "2025-10-30T05:42:39.324137Z",
     "iopub.status.idle": "2025-10-30T05:42:39.339984Z",
     "shell.execute_reply": "2025-10-30T05:42:39.339984Z"
    }
   },
   "outputs": [],
   "source": [
    "layers = [\n",
    "    {\n",
    "        \"name\": \"bottom\",\n",
    "        \"layer_type\": \"signal\",\n",
    "        \"thickness\": \"35um\",\n",
    "        \"material\": \"copper\",\n",
    "    },\n",
    "    {\n",
    "        \"name\": \"diel_3\",\n",
    "        \"layer_type\": \"dielectric\",\n",
    "        \"thickness\": \"275um\",\n",
    "        \"material\": \"FR4_epoxy\",\n",
    "    },\n",
    "    {\n",
    "        \"name\": \"sig_2\",\n",
    "        \"layer_type\": \"signal\",\n",
    "        \"thickness\": \"35um\",\n",
    "        \"material\": \"copper\",\n",
    "    },\n",
    "    {\n",
    "        \"name\": \"diel_2\",\n",
    "        \"layer_type\": \"dielectric\",\n",
    "        \"thickness\": \"275um\",\n",
    "        \"material\": \"FR4_epoxy\",\n",
    "    },\n",
    "    {\n",
    "        \"name\": \"sig_1\",\n",
    "        \"layer_type\": \"signal\",\n",
    "        \"thickness\": \"35um\",\n",
    "        \"material\": \"copper\",\n",
    "    },\n",
    "    {\n",
    "        \"name\": \"diel_1\",\n",
    "        \"layer_type\": \"dielectric\",\n",
    "        \"thickness\": \"275um\",\n",
    "        \"material\": \"FR4_epoxy\",\n",
    "    },\n",
    "    {\"name\": \"top\", \"layer_type\": \"signal\", \"thickness\": \"35um\", \"material\": \"copper\"},\n",
    "]"
   ]
  },
  {
   "cell_type": "markdown",
   "id": "29c6f010",
   "metadata": {},
   "source": [
    "Define the bottom layer"
   ]
  },
  {
   "cell_type": "code",
   "execution_count": 6,
   "id": "9ba0877e",
   "metadata": {
    "execution": {
     "iopub.execute_input": "2025-10-30T05:42:39.339984Z",
     "iopub.status.busy": "2025-10-30T05:42:39.339984Z",
     "iopub.status.idle": "2025-10-30T05:42:39.419620Z",
     "shell.execute_reply": "2025-10-30T05:42:39.419620Z"
    }
   },
   "outputs": [
    {
     "name": "stderr",
     "output_type": "stream",
     "text": [
      "INFO:pyedb.dotnet.database.stackup:Material copper found in syslib. Adding it to aedb project.\n"
     ]
    },
    {
     "name": "stderr",
     "output_type": "stream",
     "text": [
      "INFO:pyedb.dotnet.database.stackup:Material FR4_epoxy found in syslib. Adding it to aedb project.\n"
     ]
    }
   ],
   "source": [
    "prev = None\n",
    "for layer in layers:\n",
    "    edb.stackup.add_layer(\n",
    "        layer[\"name\"],\n",
    "        base_layer=prev,\n",
    "        layer_type=layer[\"layer_type\"],\n",
    "        thickness=layer[\"thickness\"],\n",
    "        material=layer[\"material\"],\n",
    "    )\n",
    "    prev = layer[\"name\"]"
   ]
  },
  {
   "cell_type": "markdown",
   "id": "e3ea65c5",
   "metadata": {},
   "source": [
    "### Create a parametrized padstack for the signal via.\n",
    "Create a padstack definition."
   ]
  },
  {
   "cell_type": "code",
   "execution_count": 7,
   "id": "d8a8448b",
   "metadata": {
    "execution": {
     "iopub.execute_input": "2025-10-30T05:42:39.419620Z",
     "iopub.status.busy": "2025-10-30T05:42:39.419620Z",
     "iopub.status.idle": "2025-10-30T05:42:39.467085Z",
     "shell.execute_reply": "2025-10-30T05:42:39.467085Z"
    }
   },
   "outputs": [
    {
     "name": "stdout",
     "output_type": "stream",
     "text": [
      "PyEDB INFO: Padstack automated_via create correctly\n"
     ]
    },
    {
     "name": "stderr",
     "output_type": "stream",
     "text": [
      "INFO:Edb:Padstack automated_via create correctly\n"
     ]
    },
    {
     "data": {
      "text/plain": [
       "'automated_via'"
      ]
     },
     "execution_count": 7,
     "metadata": {},
     "output_type": "execute_result"
    }
   ],
   "source": [
    "signal_via_padstack = \"automated_via\"\n",
    "edb.padstacks.create(\n",
    "    padstackname=signal_via_padstack,\n",
    "    holediam=\"$via_diam\",\n",
    "    paddiam=\"$pad_diam\",\n",
    "    antipaddiam=\"\",\n",
    "    antipad_shape=\"Bullet\",\n",
    "    x_size=\"$x_size\",\n",
    "    y_size=\"$y_size\",\n",
    "    corner_radius=\"$corner_rad\",\n",
    "    start_layer=layers[-1][\"name\"],\n",
    "    stop_layer=layers[-3][\"name\"],\n",
    ")"
   ]
  },
  {
   "cell_type": "markdown",
   "id": "8f38eb9d",
   "metadata": {},
   "source": [
    "Assign net names. There are only two signal nets."
   ]
  },
  {
   "cell_type": "code",
   "execution_count": 8,
   "id": "ddcfc1e0",
   "metadata": {
    "execution": {
     "iopub.execute_input": "2025-10-30T05:42:39.467085Z",
     "iopub.status.busy": "2025-10-30T05:42:39.467085Z",
     "iopub.status.idle": "2025-10-30T05:42:39.482991Z",
     "shell.execute_reply": "2025-10-30T05:42:39.482991Z"
    }
   },
   "outputs": [],
   "source": [
    "net_p = \"p\"\n",
    "net_n = \"n\""
   ]
  },
  {
   "cell_type": "markdown",
   "id": "12d140bd",
   "metadata": {},
   "source": [
    "Place the signal vias."
   ]
  },
  {
   "cell_type": "code",
   "execution_count": 9,
   "id": "f6705423",
   "metadata": {
    "execution": {
     "iopub.execute_input": "2025-10-30T05:42:39.482991Z",
     "iopub.status.busy": "2025-10-30T05:42:39.482991Z",
     "iopub.status.idle": "2025-10-30T05:42:39.515220Z",
     "shell.execute_reply": "2025-10-30T05:42:39.515220Z"
    }
   },
   "outputs": [
    {
     "data": {
      "text/plain": [
       "<pyedb.dotnet.database.edb_data.padstacks_data.EDBPadstackInstance at 0x1cc95b22320>"
      ]
     },
     "execution_count": 9,
     "metadata": {},
     "output_type": "execute_result"
    }
   ],
   "source": [
    "edb.padstacks.place(\n",
    "    position=[\"$pcb_len/3\", \"($ms_width+$ms_spacing+$via_spacing)/2\"],\n",
    "    definition_name=signal_via_padstack,\n",
    "    net_name=net_p,\n",
    "    via_name=\"\",\n",
    "    rotation=90.0,\n",
    ")"
   ]
  },
  {
   "cell_type": "code",
   "execution_count": 10,
   "id": "cae4c825",
   "metadata": {
    "execution": {
     "iopub.execute_input": "2025-10-30T05:42:39.515220Z",
     "iopub.status.busy": "2025-10-30T05:42:39.515220Z",
     "iopub.status.idle": "2025-10-30T05:42:39.578985Z",
     "shell.execute_reply": "2025-10-30T05:42:39.578985Z"
    }
   },
   "outputs": [
    {
     "data": {
      "text/plain": [
       "<pyedb.dotnet.database.edb_data.padstacks_data.EDBPadstackInstance at 0x1cc95b5dea0>"
      ]
     },
     "execution_count": 10,
     "metadata": {},
     "output_type": "execute_result"
    }
   ],
   "source": [
    "edb.padstacks.place(\n",
    "    position=[\"2*$pcb_len/3\", \"($ms_width+$ms_spacing+$via_spacing)/2\"],\n",
    "    definition_name=signal_via_padstack,\n",
    "    net_name=net_p,\n",
    "    via_name=\"\",\n",
    "    rotation=90.0,\n",
    ")"
   ]
  },
  {
   "cell_type": "code",
   "execution_count": 11,
   "id": "07b2e660",
   "metadata": {
    "execution": {
     "iopub.execute_input": "2025-10-30T05:42:39.578985Z",
     "iopub.status.busy": "2025-10-30T05:42:39.578985Z",
     "iopub.status.idle": "2025-10-30T05:42:39.610905Z",
     "shell.execute_reply": "2025-10-30T05:42:39.610905Z"
    }
   },
   "outputs": [
    {
     "data": {
      "text/plain": [
       "<pyedb.dotnet.database.edb_data.padstacks_data.EDBPadstackInstance at 0x1cc95b5ceb0>"
      ]
     },
     "execution_count": 11,
     "metadata": {},
     "output_type": "execute_result"
    }
   ],
   "source": [
    "edb.padstacks.place(\n",
    "    position=[\"$pcb_len/3\", \"-($ms_width+$ms_spacing+$via_spacing)/2\"],\n",
    "    definition_name=signal_via_padstack,\n",
    "    net_name=net_n,\n",
    "    via_name=\"\",\n",
    "    rotation=-90.0,\n",
    ")"
   ]
  },
  {
   "cell_type": "code",
   "execution_count": 12,
   "id": "c63d769e",
   "metadata": {
    "execution": {
     "iopub.execute_input": "2025-10-30T05:42:39.610905Z",
     "iopub.status.busy": "2025-10-30T05:42:39.610905Z",
     "iopub.status.idle": "2025-10-30T05:42:39.626599Z",
     "shell.execute_reply": "2025-10-30T05:42:39.626599Z"
    },
    "lines_to_next_cell": 2
   },
   "outputs": [
    {
     "data": {
      "text/plain": [
       "<pyedb.dotnet.database.edb_data.padstacks_data.EDBPadstackInstance at 0x1cc95b5dc00>"
      ]
     },
     "execution_count": 12,
     "metadata": {},
     "output_type": "execute_result"
    }
   ],
   "source": [
    "edb.padstacks.place(\n",
    "    position=[\"2*$pcb_len/3\", \"-($ms_width+$ms_spacing+$via_spacing)/2\"],\n",
    "    definition_name=signal_via_padstack,\n",
    "    net_name=net_n,\n",
    "    via_name=\"\",\n",
    "    rotation=-90.0,\n",
    ")"
   ]
  },
  {
   "cell_type": "markdown",
   "id": "43594094",
   "metadata": {},
   "source": [
    "### Draw parametrized traces\n",
    "\n",
    "Trace width and the routing (Microstrip-Stripline-Microstrip).\n",
    "Applies to both p and n nets."
   ]
  },
  {
   "cell_type": "code",
   "execution_count": 13,
   "id": "7e0464b0",
   "metadata": {
    "execution": {
     "iopub.execute_input": "2025-10-30T05:42:39.626599Z",
     "iopub.status.busy": "2025-10-30T05:42:39.626599Z",
     "iopub.status.idle": "2025-10-30T05:42:39.642798Z",
     "shell.execute_reply": "2025-10-30T05:42:39.642798Z"
    }
   },
   "outputs": [],
   "source": [
    "# Trace width, n and p\n",
    "width = [\"$ms_width\", \"$sl_width\", \"$ms_width\"]\n",
    "# Routing layer, n and p\n",
    "route_layer = [layers[-1][\"name\"], layers[4][\"name\"], layers[-1][\"name\"]]"
   ]
  },
  {
   "cell_type": "markdown",
   "id": "e7c2f4e2",
   "metadata": {},
   "source": [
    "Define points for three traces in the \"p\" net"
   ]
  },
  {
   "cell_type": "code",
   "execution_count": 14,
   "id": "93efab38",
   "metadata": {
    "execution": {
     "iopub.execute_input": "2025-10-30T05:42:39.642798Z",
     "iopub.status.busy": "2025-10-30T05:42:39.642798Z",
     "iopub.status.idle": "2025-10-30T05:42:39.658891Z",
     "shell.execute_reply": "2025-10-30T05:42:39.658891Z"
    }
   },
   "outputs": [],
   "source": [
    "points_p = [\n",
    "    [\n",
    "        [\"0.0\", \"($ms_width+$ms_spacing)/2\"],\n",
    "        [\"$pcb_len/3-2*$via_spacing\", \"($ms_width+$ms_spacing)/2\"],\n",
    "        [\"$pcb_len/3-$via_spacing\", \"($ms_width+$ms_spacing+$via_spacing)/2\"],\n",
    "        [\"$pcb_len/3\", \"($ms_width+$ms_spacing+$via_spacing)/2\"],\n",
    "    ],\n",
    "    [\n",
    "        [\"$pcb_len/3\", \"($ms_width+$sl_spacing+$via_spacing)/2\"],\n",
    "        [\"$pcb_len/3+$via_spacing\", \"($ms_width+$sl_spacing+$via_spacing)/2\"],\n",
    "        [\"$pcb_len/3+2*$via_spacing\", \"($sl_width+$sl_spacing)/2\"],\n",
    "        [\"2*$pcb_len/3-2*$via_spacing\", \"($sl_width+$sl_spacing)/2\"],\n",
    "        [\"2*$pcb_len/3-$via_spacing\", \"($ms_width+$sl_spacing+$via_spacing)/2\"],\n",
    "        [\"2*$pcb_len/3\", \"($ms_width+$sl_spacing+$via_spacing)/2\"],\n",
    "    ],\n",
    "    [\n",
    "        [\"2*$pcb_len/3\", \"($ms_width+$ms_spacing+$via_spacing)/2\"],\n",
    "        [\"2*$pcb_len/3+$via_spacing\", \"($ms_width+$ms_spacing+$via_spacing)/2\"],\n",
    "        [\"2*$pcb_len/3+2*$via_spacing\", \"($ms_width+$ms_spacing)/2\"],\n",
    "        [\"$pcb_len\", \"($ms_width+$ms_spacing)/2\"],\n",
    "    ],\n",
    "]"
   ]
  },
  {
   "cell_type": "markdown",
   "id": "dbe82eed",
   "metadata": {},
   "source": [
    "Define points for three traces in the \"n\" net"
   ]
  },
  {
   "cell_type": "code",
   "execution_count": 15,
   "id": "40c8a1e2",
   "metadata": {
    "execution": {
     "iopub.execute_input": "2025-10-30T05:42:39.658891Z",
     "iopub.status.busy": "2025-10-30T05:42:39.658891Z",
     "iopub.status.idle": "2025-10-30T05:42:39.674979Z",
     "shell.execute_reply": "2025-10-30T05:42:39.674979Z"
    }
   },
   "outputs": [],
   "source": [
    "points_n = [\n",
    "    [\n",
    "        [\"0.0\", \"-($ms_width+$ms_spacing)/2\"],\n",
    "        [\"$pcb_len/3-2*$via_spacing\", \"-($ms_width+$ms_spacing)/2\"],\n",
    "        [\"$pcb_len/3-$via_spacing\", \"-($ms_width+$ms_spacing+$via_spacing)/2\"],\n",
    "        [\"$pcb_len/3\", \"-($ms_width+$ms_spacing+$via_spacing)/2\"],\n",
    "    ],\n",
    "    [\n",
    "        [\"$pcb_len/3\", \"-($ms_width+$sl_spacing+$via_spacing)/2\"],\n",
    "        [\"$pcb_len/3+$via_spacing\", \"-($ms_width+$sl_spacing+$via_spacing)/2\"],\n",
    "        [\"$pcb_len/3+2*$via_spacing\", \"-($ms_width+$sl_spacing)/2\"],\n",
    "        [\"2*$pcb_len/3-2*$via_spacing\", \"-($ms_width+$sl_spacing)/2\"],\n",
    "        [\"2*$pcb_len/3-$via_spacing\", \"-($ms_width+$sl_spacing+$via_spacing)/2\"],\n",
    "        [\"2*$pcb_len/3\", \"-($ms_width+$sl_spacing+$via_spacing)/2\"],\n",
    "    ],\n",
    "    [\n",
    "        [\"2*$pcb_len/3\", \"-($ms_width+$ms_spacing+$via_spacing)/2\"],\n",
    "        [\"2*$pcb_len/3 + $via_spacing\", \"-($ms_width+$ms_spacing+$via_spacing)/2\"],\n",
    "        [\"2*$pcb_len/3 + 2*$via_spacing\", \"-($ms_width+$ms_spacing)/2\"],\n",
    "        [\"$pcb_len\", \"-($ms_width + $ms_spacing)/2\"],\n",
    "    ],\n",
    "]"
   ]
  },
  {
   "cell_type": "markdown",
   "id": "b74e5d4a",
   "metadata": {},
   "source": [
    "Add traces to the EDB."
   ]
  },
  {
   "cell_type": "code",
   "execution_count": 16,
   "id": "852262c3",
   "metadata": {
    "execution": {
     "iopub.execute_input": "2025-10-30T05:42:39.674979Z",
     "iopub.status.busy": "2025-10-30T05:42:39.674979Z",
     "iopub.status.idle": "2025-10-30T05:42:39.722951Z",
     "shell.execute_reply": "2025-10-30T05:42:39.722951Z"
    }
   },
   "outputs": [],
   "source": [
    "trace_p = []\n",
    "trace_n = []\n",
    "for n in range(len(points_p)):\n",
    "    trace_p.append(\n",
    "        edb.modeler.create_trace(\n",
    "            points_p[n], route_layer[n], width[n], net_p, \"Flat\", \"Flat\"\n",
    "        )\n",
    "    )\n",
    "    trace_n.append(\n",
    "        edb.modeler.create_trace(\n",
    "            points_n[n], route_layer[n], width[n], net_n, \"Flat\", \"Flat\"\n",
    "        )\n",
    "    )"
   ]
  },
  {
   "cell_type": "markdown",
   "id": "65f6fc37",
   "metadata": {},
   "source": [
    "Create the wave ports"
   ]
  },
  {
   "cell_type": "code",
   "execution_count": 17,
   "id": "670c4edf",
   "metadata": {
    "execution": {
     "iopub.execute_input": "2025-10-30T05:42:39.722951Z",
     "iopub.status.busy": "2025-10-30T05:42:39.722951Z",
     "iopub.status.idle": "2025-10-30T05:42:39.770839Z",
     "shell.execute_reply": "2025-10-30T05:42:39.770839Z"
    }
   },
   "outputs": [
    {
     "data": {
      "text/plain": [
       "('wave_port_2',\n",
       " <pyedb.dotnet.database.edb_data.ports.BundleWavePort at 0x1cc95b5ef80>)"
      ]
     },
     "execution_count": 17,
     "metadata": {},
     "output_type": "execute_result"
    }
   ],
   "source": [
    "edb.hfss.create_differential_wave_port(\n",
    "    trace_p[0].id,\n",
    "    [\"0.0\", \"($ms_width+$ms_spacing)/2\"],\n",
    "    trace_n[0].id,\n",
    "    [\"0.0\", \"-($ms_width+$ms_spacing)/2\"],\n",
    "    \"wave_port_1\",\n",
    ")\n",
    "edb.hfss.create_differential_wave_port(\n",
    "    trace_p[2].id,\n",
    "    [\"$pcb_len\", \"($ms_width+$ms_spacing)/2\"],\n",
    "    trace_n[2].id,\n",
    "    [\"$pcb_len\", \"-($ms_width + $ms_spacing)/2\"],\n",
    "    \"wave_port_2\",\n",
    ")"
   ]
  },
  {
   "cell_type": "markdown",
   "id": "8f33b312",
   "metadata": {},
   "source": [
    "Draw a conducting rectangle on the the ground layers."
   ]
  },
  {
   "cell_type": "code",
   "execution_count": 18,
   "id": "88117371",
   "metadata": {
    "execution": {
     "iopub.execute_input": "2025-10-30T05:42:39.770839Z",
     "iopub.status.busy": "2025-10-30T05:42:39.770839Z",
     "iopub.status.idle": "2025-10-30T05:42:39.786769Z",
     "shell.execute_reply": "2025-10-30T05:42:39.786769Z"
    }
   },
   "outputs": [],
   "source": [
    "gnd_poly = [\n",
    "    [0.0, \"-$pcb_w/2\"],\n",
    "    [\"$pcb_len\", \"-$pcb_w/2\"],\n",
    "    [\"$pcb_len\", \"$pcb_w/2\"],\n",
    "    [0.0, \"$pcb_w/2\"],\n",
    "]\n",
    "gnd_shape = edb.modeler.Shape(\"polygon\", points=gnd_poly)"
   ]
  },
  {
   "cell_type": "markdown",
   "id": "e5a61240",
   "metadata": {},
   "source": [
    "Void in ground for traces on the signal routing layer"
   ]
  },
  {
   "cell_type": "code",
   "execution_count": 19,
   "id": "051d3863",
   "metadata": {
    "execution": {
     "iopub.execute_input": "2025-10-30T05:42:39.786769Z",
     "iopub.status.busy": "2025-10-30T05:42:39.786769Z",
     "iopub.status.idle": "2025-10-30T05:42:39.802621Z",
     "shell.execute_reply": "2025-10-30T05:42:39.802621Z"
    }
   },
   "outputs": [],
   "source": [
    "void_poly = [\n",
    "    [\n",
    "        \"$pcb_len/3\",\n",
    "        \"-($ms_width+$ms_spacing+$via_spacing+$anti_pad_diam)/2-$via_spacing/2\",\n",
    "    ],\n",
    "    [\n",
    "        \"$pcb_len/3 + $via_spacing\",\n",
    "        \"-($ms_width+$ms_spacing+$via_spacing+$anti_pad_diam)/2-$via_spacing/2\",\n",
    "    ],\n",
    "    [\n",
    "        \"$pcb_len/3 + 2*$via_spacing\",\n",
    "        \"-($ms_width+$ms_spacing+$via_spacing+$anti_pad_diam)/2\",\n",
    "    ],\n",
    "    [\n",
    "        \"2*$pcb_len/3 - 2*$via_spacing\",\n",
    "        \"-($ms_width+$ms_spacing+$via_spacing+$anti_pad_diam)/2\",\n",
    "    ],\n",
    "    [\n",
    "        \"2*$pcb_len/3 - $via_spacing\",\n",
    "        \"-($ms_width+$ms_spacing+$via_spacing+$anti_pad_diam)/2-$via_spacing/2\",\n",
    "    ],\n",
    "    [\n",
    "        \"2*$pcb_len/3\",\n",
    "        \"-($ms_width+$ms_spacing+$via_spacing+$anti_pad_diam)/2-$via_spacing/2\",\n",
    "    ],\n",
    "    [\n",
    "        \"2*$pcb_len/3\",\n",
    "        \"($ms_width+$ms_spacing+$via_spacing+$anti_pad_diam)/2+$via_spacing/2\",\n",
    "    ],\n",
    "    [\n",
    "        \"2*$pcb_len/3 - $via_spacing\",\n",
    "        \"($ms_width+$ms_spacing+$via_spacing+$anti_pad_diam)/2+$via_spacing/2\",\n",
    "    ],\n",
    "    [\n",
    "        \"2*$pcb_len/3 - 2*$via_spacing\",\n",
    "        \"($ms_width+$ms_spacing+$via_spacing+$anti_pad_diam)/2\",\n",
    "    ],\n",
    "    [\n",
    "        \"$pcb_len/3 + 2*$via_spacing\",\n",
    "        \"($ms_width+$ms_spacing+$via_spacing+$anti_pad_diam)/2\",\n",
    "    ],\n",
    "    [\n",
    "        \"$pcb_len/3 + $via_spacing\",\n",
    "        \"($ms_width+$ms_spacing+$via_spacing+$anti_pad_diam)/2+$via_spacing/2\",\n",
    "    ],\n",
    "    [\n",
    "        \"$pcb_len/3\",\n",
    "        \"($ms_width+$ms_spacing+$via_spacing+$anti_pad_diam)/2+$via_spacing/2\",\n",
    "    ],\n",
    "    [\"$pcb_len/3\", \"($ms_width+$ms_spacing+$via_spacing+$anti_pad_diam)/2\"],\n",
    "]\n",
    "\n",
    "void_shape = edb.modeler.Shape(\"polygon\", points=void_poly)"
   ]
  },
  {
   "cell_type": "markdown",
   "id": "13928665",
   "metadata": {},
   "source": [
    "Add ground conductors."
   ]
  },
  {
   "cell_type": "code",
   "execution_count": 20,
   "id": "5c2faefd",
   "metadata": {
    "execution": {
     "iopub.execute_input": "2025-10-30T05:42:39.802621Z",
     "iopub.status.busy": "2025-10-30T05:42:39.802621Z",
     "iopub.status.idle": "2025-10-30T05:42:39.866505Z",
     "shell.execute_reply": "2025-10-30T05:42:39.866505Z"
    }
   },
   "outputs": [],
   "source": [
    "for layer in layers[:-1:2]:\n",
    "\n",
    "    # add void if the layer is the signal routing layer.\n",
    "    void = [void_shape] if layer[\"name\"] == route_layer[1] else []\n",
    "\n",
    "    edb.modeler.create_polygon(\n",
    "        main_shape=gnd_shape, layer_name=layer[\"name\"], voids=void, net_name=\"gnd\"\n",
    "    )"
   ]
  },
  {
   "cell_type": "markdown",
   "id": "265bec71",
   "metadata": {},
   "source": [
    "Plot the layout."
   ]
  },
  {
   "cell_type": "code",
   "execution_count": 21,
   "id": "1193acf6",
   "metadata": {
    "execution": {
     "iopub.execute_input": "2025-10-30T05:42:39.866505Z",
     "iopub.status.busy": "2025-10-30T05:42:39.866505Z",
     "iopub.status.idle": "2025-10-30T05:42:40.705026Z",
     "shell.execute_reply": "2025-10-30T05:42:40.705026Z"
    }
   },
   "outputs": [
    {
     "data": {
      "image/png": "[encoded data removed]",
      "text/plain": [
       "<Figure size 6000x3000 with 1 Axes>"
      ]
     },
     "metadata": {},
     "output_type": "display_data"
    },
    {
     "name": "stdout",
     "output_type": "stream",
     "text": [
      "PyEDB INFO: Plot Generation time 0.554\n"
     ]
    },
    {
     "name": "stderr",
     "output_type": "stream",
     "text": [
      "INFO:Edb:Plot Generation time 0.554\n"
     ]
    },
    {
     "data": {
      "text/plain": [
       "(<Figure size 6000x3000 with 1 Axes>,\n",
       " <Axes: title={'center': 'Edb Top View Cell_12WRBA'}>)"
      ]
     },
     "execution_count": 21,
     "metadata": {},
     "output_type": "execute_result"
    }
   ],
   "source": [
    "edb.nets.plot(None)"
   ]
  },
  {
   "cell_type": "markdown",
   "id": "3c8835c8",
   "metadata": {},
   "source": [
    "Save the EDB."
   ]
  },
  {
   "cell_type": "code",
   "execution_count": 22,
   "id": "90110e54",
   "metadata": {
    "execution": {
     "iopub.execute_input": "2025-10-30T05:42:40.705026Z",
     "iopub.status.busy": "2025-10-30T05:42:40.705026Z",
     "iopub.status.idle": "2025-10-30T05:42:40.752892Z",
     "shell.execute_reply": "2025-10-30T05:42:40.752892Z"
    }
   },
   "outputs": [
    {
     "name": "stdout",
     "output_type": "stream",
     "text": [
      "PyEDB INFO: Save Edb file completed in 0.0062 seconds.\n"
     ]
    },
    {
     "name": "stderr",
     "output_type": "stream",
     "text": [
      "INFO:Edb:Save Edb file completed in 0.0062 seconds.\n"
     ]
    },
    {
     "name": "stdout",
     "output_type": "stream",
     "text": [
      "PyEDB INFO: Close Edb file completed in 0.0190 seconds.\n"
     ]
    },
    {
     "name": "stderr",
     "output_type": "stream",
     "text": [
      "INFO:Edb:Close Edb file completed in 0.0190 seconds.\n"
     ]
    },
    {
     "data": {
      "text/plain": [
       "True"
      ]
     },
     "execution_count": 22,
     "metadata": {},
     "output_type": "execute_result"
    }
   ],
   "source": [
    "edb.save_edb()\n",
    "edb.close_edb()"
   ]
  },
  {
   "cell_type": "markdown",
   "id": "b5457633",
   "metadata": {},
   "source": [
    "## Open the project in HFSS 3D Layout."
   ]
  },
  {
   "cell_type": "code",
   "execution_count": 23,
   "id": "9a9f9ee3",
   "metadata": {
    "execution": {
     "iopub.execute_input": "2025-10-30T05:42:40.752892Z",
     "iopub.status.busy": "2025-10-30T05:42:40.752892Z",
     "iopub.status.idle": "2025-10-30T05:43:14.776364Z",
     "shell.execute_reply": "2025-10-30T05:43:14.776364Z"
    }
   },
   "outputs": [
    {
     "name": "stdout",
     "output_type": "stream",
     "text": [
      "PyAEDT INFO: Python version 3.10.11 (tags/v3.10.11:7d4cc5a, Apr  5 2023, 00:38:17) [MSC v.1929 64 bit (AMD64)].\n"
     ]
    },
    {
     "name": "stderr",
     "output_type": "stream",
     "text": [
      "INFO:Global:Python version 3.10.11 (tags/v3.10.11:7d4cc5a, Apr  5 2023, 00:38:17) [MSC v.1929 64 bit (AMD64)].\n"
     ]
    },
    {
     "name": "stdout",
     "output_type": "stream",
     "text": [
      "PyAEDT INFO: PyAEDT version 0.22.dev0.\n"
     ]
    },
    {
     "name": "stderr",
     "output_type": "stream",
     "text": [
      "INFO:Global:PyAEDT version 0.22.dev0.\n"
     ]
    },
    {
     "name": "stdout",
     "output_type": "stream",
     "text": [
      "PyAEDT INFO: Initializing new Desktop session.\n"
     ]
    },
    {
     "name": "stderr",
     "output_type": "stream",
     "text": [
      "INFO:Global:Initializing new Desktop session.\n"
     ]
    },
    {
     "name": "stdout",
     "output_type": "stream",
     "text": [
      "PyAEDT INFO: Log on console is enabled.\n"
     ]
    },
    {
     "name": "stderr",
     "output_type": "stream",
     "text": [
      "INFO:Global:Log on console is enabled.\n"
     ]
    },
    {
     "name": "stdout",
     "output_type": "stream",
     "text": [
      "PyAEDT INFO: Log on file C:\\Users\\ansys\\AppData\\Local\\Temp\\pyaedt_ansys_28ae72c3-2464-456b-a547-7ae737de28ac.log is enabled.\n"
     ]
    },
    {
     "name": "stderr",
     "output_type": "stream",
     "text": [
      "INFO:Global:Log on file C:\\Users\\ansys\\AppData\\Local\\Temp\\pyaedt_ansys_28ae72c3-2464-456b-a547-7ae737de28ac.log is enabled.\n"
     ]
    },
    {
     "name": "stdout",
     "output_type": "stream",
     "text": [
      "PyAEDT INFO: Log on AEDT is disabled.\n"
     ]
    },
    {
     "name": "stderr",
     "output_type": "stream",
     "text": [
      "INFO:Global:Log on AEDT is disabled.\n"
     ]
    },
    {
     "name": "stdout",
     "output_type": "stream",
     "text": [
      "PyAEDT INFO: Debug logger is disabled. PyAEDT methods will not be logged.\n"
     ]
    },
    {
     "name": "stderr",
     "output_type": "stream",
     "text": [
      "INFO:Global:Debug logger is disabled. PyAEDT methods will not be logged.\n"
     ]
    },
    {
     "name": "stdout",
     "output_type": "stream",
     "text": [
      "PyAEDT INFO: Launching PyAEDT with gRPC plugin.\n"
     ]
    },
    {
     "name": "stderr",
     "output_type": "stream",
     "text": [
      "INFO:Global:Launching PyAEDT with gRPC plugin.\n"
     ]
    },
    {
     "name": "stdout",
     "output_type": "stream",
     "text": [
      "PyAEDT INFO: New AEDT session is starting on gRPC port 58648.\n"
     ]
    },
    {
     "name": "stderr",
     "output_type": "stream",
     "text": [
      "INFO:Global:New AEDT session is starting on gRPC port 58648.\n"
     ]
    },
    {
     "name": "stdout",
     "output_type": "stream",
     "text": [
      "PyAEDT INFO: Electronics Desktop started on gRPC port: 58648 after 10.312203884124756 seconds.\n"
     ]
    },
    {
     "name": "stderr",
     "output_type": "stream",
     "text": [
      "INFO:Global:Electronics Desktop started on gRPC port: 58648 after 10.312203884124756 seconds.\n"
     ]
    },
    {
     "name": "stdout",
     "output_type": "stream",
     "text": [
      "PyAEDT INFO: AEDT installation Path C:\\Program Files\\ANSYS Inc\\v252\\AnsysEM\n"
     ]
    },
    {
     "name": "stderr",
     "output_type": "stream",
     "text": [
      "INFO:Global:AEDT installation Path C:\\Program Files\\ANSYS Inc\\v252\\AnsysEM\n"
     ]
    },
    {
     "name": "stdout",
     "output_type": "stream",
     "text": [
      "PyAEDT INFO: Ansoft.ElectronicsDesktop.2025.2 version started with process ID 6556.\n"
     ]
    },
    {
     "name": "stderr",
     "output_type": "stream",
     "text": [
      "INFO:Global:Ansoft.ElectronicsDesktop.2025.2 version started with process ID 6556.\n"
     ]
    },
    {
     "name": "stdout",
     "output_type": "stream",
     "text": [
      "PyAEDT INFO: EDB folder C:\\Users\\ansys\\AppData\\Local\\Temp\\tmpkq7cz3vg.ansys\\pcb.aedb has been imported to project pcb\n"
     ]
    },
    {
     "name": "stderr",
     "output_type": "stream",
     "text": [
      "INFO:Global:EDB folder C:\\Users\\ansys\\AppData\\Local\\Temp\\tmpkq7cz3vg.ansys\\pcb.aedb has been imported to project pcb\n"
     ]
    },
    {
     "name": "stdout",
     "output_type": "stream",
     "text": [
      "PyAEDT INFO: Active Design set to 0;Cell_12WRBA\n"
     ]
    },
    {
     "name": "stderr",
     "output_type": "stream",
     "text": [
      "INFO:Global:Active Design set to 0;Cell_12WRBA\n"
     ]
    },
    {
     "name": "stdout",
     "output_type": "stream",
     "text": [
      "PyAEDT INFO: Active Design set to 0;Cell_12WRBA\n"
     ]
    },
    {
     "name": "stderr",
     "output_type": "stream",
     "text": [
      "INFO:Global:Active Design set to 0;Cell_12WRBA\n"
     ]
    },
    {
     "name": "stdout",
     "output_type": "stream",
     "text": [
      "PyAEDT INFO: Aedt Objects correctly read\n"
     ]
    },
    {
     "name": "stderr",
     "output_type": "stream",
     "text": [
      "INFO:Global:Aedt Objects correctly read\n"
     ]
    }
   ],
   "source": [
    "h3d = Hfss3dLayout(\n",
    "    project=aedb_path,\n",
    "    version=AEDT_VERSION,\n",
    "    non_graphical=NG_MODE,\n",
    "    new_desktop=True,\n",
    ")"
   ]
  },
  {
   "cell_type": "markdown",
   "id": "9da34d8e",
   "metadata": {},
   "source": [
    "### Add a HFSS simulation setup"
   ]
  },
  {
   "cell_type": "code",
   "execution_count": 24,
   "id": "4fc9e72f",
   "metadata": {
    "execution": {
     "iopub.execute_input": "2025-10-30T05:43:15.780711Z",
     "iopub.status.busy": "2025-10-30T05:43:15.780711Z",
     "iopub.status.idle": "2025-10-30T05:43:15.954352Z",
     "shell.execute_reply": "2025-10-30T05:43:15.954352Z"
    }
   },
   "outputs": [
    {
     "name": "stdout",
     "output_type": "stream",
     "text": [
      "PyAEDT INFO: Parsing C:\\Users\\ansys\\AppData\\Local\\Temp\\tmpkq7cz3vg.ansys\\pcb.aedt.\n"
     ]
    },
    {
     "name": "stderr",
     "output_type": "stream",
     "text": [
      "INFO:Global:Parsing C:\\Users\\ansys\\AppData\\Local\\Temp\\tmpkq7cz3vg.ansys\\pcb.aedt.\n"
     ]
    },
    {
     "name": "stdout",
     "output_type": "stream",
     "text": [
      "PyAEDT INFO: File C:\\Users\\ansys\\AppData\\Local\\Temp\\tmpkq7cz3vg.ansys\\pcb.aedt correctly loaded. Elapsed time: 0m 0sec\n"
     ]
    },
    {
     "name": "stderr",
     "output_type": "stream",
     "text": [
      "INFO:Global:File C:\\Users\\ansys\\AppData\\Local\\Temp\\tmpkq7cz3vg.ansys\\pcb.aedt correctly loaded. Elapsed time: 0m 0sec\n"
     ]
    },
    {
     "name": "stdout",
     "output_type": "stream",
     "text": [
      "PyAEDT INFO: aedt file load time 0.01568913459777832\n"
     ]
    },
    {
     "name": "stderr",
     "output_type": "stream",
     "text": [
      "INFO:Global:aedt file load time 0.01568913459777832\n"
     ]
    },
    {
     "name": "stdout",
     "output_type": "stream",
     "text": [
      "PyAEDT INFO: Linear count sweep sweep1 has been correctly created.\n"
     ]
    },
    {
     "name": "stderr",
     "output_type": "stream",
     "text": [
      "INFO:Global:Linear count sweep sweep1 has been correctly created.\n"
     ]
    },
    {
     "data": {
      "text/plain": [
       "MySetupAuto : sweep1"
      ]
     },
     "execution_count": 24,
     "metadata": {},
     "output_type": "execute_result"
    }
   ],
   "source": [
    "setup = h3d.create_setup()\n",
    "setup.props[\"AdaptiveSettings\"][\"SingleFrequencyDataList\"][\"AdaptiveFrequencyData\"][\n",
    "    \"MaxPasses\"\n",
    "] = 3\n",
    "\n",
    "h3d.create_linear_count_sweep(\n",
    "    setup=setup.name,\n",
    "    unit=\"GHz\",\n",
    "    start_frequency=0,\n",
    "    stop_frequency=10,\n",
    "    num_of_freq_points=1001,\n",
    "    name=\"sweep1\",\n",
    "    sweep_type=\"Interpolating\",\n",
    "    interpolation_tol_percent=1,\n",
    "    interpolation_max_solutions=255,\n",
    "    save_fields=False,\n",
    "    use_q3d_for_dc=False,\n",
    ")"
   ]
  },
  {
   "cell_type": "markdown",
   "id": "e9c8b783",
   "metadata": {},
   "source": [
    "### Define the differential pairs to used to calculate differential and common mode  s-parameters"
   ]
  },
  {
   "cell_type": "code",
   "execution_count": 25,
   "id": "1091b4fd",
   "metadata": {
    "execution": {
     "iopub.execute_input": "2025-10-30T05:43:15.954352Z",
     "iopub.status.busy": "2025-10-30T05:43:15.954352Z",
     "iopub.status.idle": "2025-10-30T05:43:16.002165Z",
     "shell.execute_reply": "2025-10-30T05:43:16.002165Z"
    }
   },
   "outputs": [
    {
     "data": {
      "text/plain": [
       "True"
      ]
     },
     "execution_count": 25,
     "metadata": {},
     "output_type": "execute_result"
    }
   ],
   "source": [
    "h3d.set_differential_pair(\n",
    "    differential_mode=\"In\", assignment=\"wave_port_1:T1\", reference=\"wave_port_1:T2\"\n",
    ")\n",
    "h3d.set_differential_pair(\n",
    "    differential_mode=\"Out\", assignment=\"wave_port_2:T1\", reference=\"wave_port_2:T2\"\n",
    ")"
   ]
  },
  {
   "cell_type": "markdown",
   "id": "e68b05a5",
   "metadata": {},
   "source": [
    "Solve the project."
   ]
  },
  {
   "cell_type": "code",
   "execution_count": 26,
   "id": "263e8057",
   "metadata": {
    "execution": {
     "iopub.execute_input": "2025-10-30T05:43:16.002165Z",
     "iopub.status.busy": "2025-10-30T05:43:16.002165Z",
     "iopub.status.idle": "2025-10-30T05:45:08.852091Z",
     "shell.execute_reply": "2025-10-30T05:45:08.850081Z"
    }
   },
   "outputs": [
    {
     "name": "stdout",
     "output_type": "stream",
     "text": [
      "PyAEDT INFO: Project pcb Saved correctly\n"
     ]
    },
    {
     "name": "stderr",
     "output_type": "stream",
     "text": [
      "INFO:Global:Project pcb Saved correctly\n"
     ]
    },
    {
     "name": "stdout",
     "output_type": "stream",
     "text": [
      "PyAEDT INFO: Key Desktop/ActiveDSOConfigurations/HFSS 3D Layout Design correctly changed.\n"
     ]
    },
    {
     "name": "stderr",
     "output_type": "stream",
     "text": [
      "INFO:Global:Key Desktop/ActiveDSOConfigurations/HFSS 3D Layout Design correctly changed.\n"
     ]
    },
    {
     "name": "stdout",
     "output_type": "stream",
     "text": [
      "PyAEDT INFO: Solving all design setups. Analysis started...\n"
     ]
    },
    {
     "name": "stderr",
     "output_type": "stream",
     "text": [
      "INFO:Global:Solving all design setups. Analysis started...\n"
     ]
    },
    {
     "name": "stdout",
     "output_type": "stream",
     "text": [
      "PyAEDT INFO: Design setup None solved correctly in 0.0h 1.0m 53.0s\n"
     ]
    },
    {
     "name": "stderr",
     "output_type": "stream",
     "text": [
      "INFO:Global:Design setup None solved correctly in 0.0h 1.0m 53.0s\n"
     ]
    },
    {
     "name": "stdout",
     "output_type": "stream",
     "text": [
      "PyAEDT INFO: Key Desktop/ActiveDSOConfigurations/HFSS 3D Layout Design correctly changed.\n"
     ]
    },
    {
     "name": "stderr",
     "output_type": "stream",
     "text": [
      "INFO:Global:Key Desktop/ActiveDSOConfigurations/HFSS 3D Layout Design correctly changed.\n"
     ]
    },
    {
     "data": {
      "text/plain": [
       "True"
      ]
     },
     "execution_count": 26,
     "metadata": {},
     "output_type": "execute_result"
    }
   ],
   "source": [
    "h3d.analyze(cores=NUM_CORES)"
   ]
  },
  {
   "cell_type": "markdown",
   "id": "f1daeeb7",
   "metadata": {},
   "source": [
    "Plot the results and shut down AEDT."
   ]
  },
  {
   "cell_type": "code",
   "execution_count": 27,
   "id": "b93869ba",
   "metadata": {
    "execution": {
     "iopub.execute_input": "2025-10-30T05:45:09.856906Z",
     "iopub.status.busy": "2025-10-30T05:45:09.856906Z",
     "iopub.status.idle": "2025-10-30T05:45:12.121880Z",
     "shell.execute_reply": "2025-10-30T05:45:12.121880Z"
    }
   },
   "outputs": [
    {
     "name": "stdout",
     "output_type": "stream",
     "text": [
      "PyAEDT INFO: Parsing C:\\Users\\ansys\\AppData\\Local\\Temp\\tmpkq7cz3vg.ansys\\pcb.aedt.\n"
     ]
    },
    {
     "name": "stderr",
     "output_type": "stream",
     "text": [
      "INFO:Global:Parsing C:\\Users\\ansys\\AppData\\Local\\Temp\\tmpkq7cz3vg.ansys\\pcb.aedt.\n"
     ]
    },
    {
     "name": "stdout",
     "output_type": "stream",
     "text": [
      "PyAEDT INFO: File C:\\Users\\ansys\\AppData\\Local\\Temp\\tmpkq7cz3vg.ansys\\pcb.aedt correctly loaded. Elapsed time: 0m 0sec\n"
     ]
    },
    {
     "name": "stderr",
     "output_type": "stream",
     "text": [
      "INFO:Global:File C:\\Users\\ansys\\AppData\\Local\\Temp\\tmpkq7cz3vg.ansys\\pcb.aedt correctly loaded. Elapsed time: 0m 0sec\n"
     ]
    },
    {
     "name": "stdout",
     "output_type": "stream",
     "text": [
      "PyAEDT INFO: aedt file load time 0.03097057342529297\n"
     ]
    },
    {
     "name": "stderr",
     "output_type": "stream",
     "text": [
      "INFO:Global:aedt file load time 0.03097057342529297\n"
     ]
    },
    {
     "name": "stdout",
     "output_type": "stream",
     "text": [
      "PyAEDT INFO: PostProcessor class has been initialized! Elapsed time: 0m 0sec\n"
     ]
    },
    {
     "name": "stderr",
     "output_type": "stream",
     "text": [
      "INFO:Global:PostProcessor class has been initialized! Elapsed time: 0m 0sec\n"
     ]
    },
    {
     "name": "stdout",
     "output_type": "stream",
     "text": [
      "PyAEDT INFO: Post class has been initialized! Elapsed time: 0m 0sec\n"
     ]
    },
    {
     "name": "stderr",
     "output_type": "stream",
     "text": [
      "INFO:Global:Post class has been initialized! Elapsed time: 0m 0sec\n"
     ]
    },
    {
     "name": "stdout",
     "output_type": "stream",
     "text": [
      "PyAEDT INFO: Loading Modeler.\n"
     ]
    },
    {
     "name": "stderr",
     "output_type": "stream",
     "text": [
      "INFO:Global:Loading Modeler.\n"
     ]
    },
    {
     "name": "stdout",
     "output_type": "stream",
     "text": [
      "PyAEDT INFO: Modeler loaded.\n"
     ]
    },
    {
     "name": "stderr",
     "output_type": "stream",
     "text": [
      "INFO:Global:Modeler loaded.\n"
     ]
    },
    {
     "name": "stdout",
     "output_type": "stream",
     "text": [
      "PyAEDT INFO: EDB loaded.\n"
     ]
    },
    {
     "name": "stderr",
     "output_type": "stream",
     "text": [
      "INFO:Global:EDB loaded.\n"
     ]
    },
    {
     "name": "stdout",
     "output_type": "stream",
     "text": [
      "PyAEDT INFO: Layers loaded.\n"
     ]
    },
    {
     "name": "stderr",
     "output_type": "stream",
     "text": [
      "INFO:Global:Layers loaded.\n"
     ]
    },
    {
     "name": "stdout",
     "output_type": "stream",
     "text": [
      "PyAEDT INFO: Primitives loaded.\n"
     ]
    },
    {
     "name": "stderr",
     "output_type": "stream",
     "text": [
      "INFO:Global:Primitives loaded.\n"
     ]
    },
    {
     "name": "stdout",
     "output_type": "stream",
     "text": [
      "PyAEDT INFO: Modeler class has been initialized! Elapsed time: 0m 0sec\n"
     ]
    },
    {
     "name": "stderr",
     "output_type": "stream",
     "text": [
      "INFO:Global:Modeler class has been initialized! Elapsed time: 0m 0sec\n"
     ]
    },
    {
     "name": "stdout",
     "output_type": "stream",
     "text": [
      "PyEDB INFO: Star initializing Edb 05:45:09.982779\n"
     ]
    },
    {
     "name": "stderr",
     "output_type": "stream",
     "text": [
      "C:\\actions-runner\\_work\\pyaedt-examples\\pyaedt-examples\\.venv\\lib\\site-packages\\pyedb\\generic\\design_types.py:301: UserWarning: Your ANSYS AEDT version is eligible to gRPC version.You might consider switching to that version for better user experience.For more information please check this link: https://edb.docs.pyansys.com/version/dev/grpc_api/index.html\n",
      "  warnings.warn(GRPC_GENERAL_WARNING, UserWarning)\n",
      "INFO:Edb:Star initializing Edb 05:45:09.982779\n"
     ]
    },
    {
     "name": "stdout",
     "output_type": "stream",
     "text": [
      "PyEDB INFO: Edb version 2025.2\n"
     ]
    },
    {
     "name": "stderr",
     "output_type": "stream",
     "text": [
      "INFO:Edb:Edb version 2025.2\n"
     ]
    },
    {
     "name": "stdout",
     "output_type": "stream",
     "text": [
      "PyEDB INFO: Logger is initialized. Log file is saved to C:\\Users\\ansys\\AppData\\Local\\Temp\\pyedb_ansys.log.\n"
     ]
    },
    {
     "name": "stderr",
     "output_type": "stream",
     "text": [
      "INFO:Edb:Logger is initialized. Log file is saved to C:\\Users\\ansys\\AppData\\Local\\Temp\\pyedb_ansys.log.\n"
     ]
    },
    {
     "name": "stdout",
     "output_type": "stream",
     "text": [
      "PyEDB INFO: legacy v0.61.0\n"
     ]
    },
    {
     "name": "stderr",
     "output_type": "stream",
     "text": [
      "INFO:Edb:legacy v0.61.0\n"
     ]
    },
    {
     "name": "stdout",
     "output_type": "stream",
     "text": [
      "PyEDB INFO: Python version 3.10.11 (tags/v3.10.11:7d4cc5a, Apr  5 2023, 00:38:17) [MSC v.1929 64 bit (AMD64)]\n"
     ]
    },
    {
     "name": "stderr",
     "output_type": "stream",
     "text": [
      "INFO:Edb:Python version 3.10.11 (tags/v3.10.11:7d4cc5a, Apr  5 2023, 00:38:17) [MSC v.1929 64 bit (AMD64)]\n"
     ]
    },
    {
     "name": "stdout",
     "output_type": "stream",
     "text": [
      "PyEDB INFO: Database pcb.aedb Opened in 2025.2\n"
     ]
    },
    {
     "name": "stderr",
     "output_type": "stream",
     "text": [
      "INFO:Edb:Database pcb.aedb Opened in 2025.2\n"
     ]
    },
    {
     "name": "stdout",
     "output_type": "stream",
     "text": [
      "PyEDB INFO: Cell Cell_12WRBA Opened\n"
     ]
    },
    {
     "name": "stderr",
     "output_type": "stream",
     "text": [
      "INFO:Edb:Cell Cell_12WRBA Opened\n"
     ]
    },
    {
     "name": "stdout",
     "output_type": "stream",
     "text": [
      "PyEDB INFO: Builder was initialized.\n"
     ]
    },
    {
     "name": "stderr",
     "output_type": "stream",
     "text": [
      "INFO:Edb:Builder was initialized.\n"
     ]
    },
    {
     "name": "stdout",
     "output_type": "stream",
     "text": [
      "PyEDB INFO: open_edb completed in 0.0317 seconds.\n"
     ]
    },
    {
     "name": "stderr",
     "output_type": "stream",
     "text": [
      "INFO:Edb:open_edb completed in 0.0317 seconds.\n"
     ]
    },
    {
     "name": "stdout",
     "output_type": "stream",
     "text": [
      "PyEDB INFO: EDB initialization completed in 0.0317 seconds.\n"
     ]
    },
    {
     "name": "stderr",
     "output_type": "stream",
     "text": [
      "INFO:Edb:EDB initialization completed in 0.0317 seconds.\n"
     ]
    },
    {
     "name": "stdout",
     "output_type": "stream",
     "text": [
      "PyAEDT INFO: Solution Data Correctly Loaded.\n"
     ]
    },
    {
     "name": "stderr",
     "output_type": "stream",
     "text": [
      "INFO:Global:Solution Data Correctly Loaded.\n"
     ]
    },
    {
     "name": "stdout",
     "output_type": "stream",
     "text": [
      "Time to initialize solution data:0.0314180850982666\n",
      "Time to initialize solution data:0.0314180850982666\n"
     ]
    },
    {
     "data": {
      "image/png": "[encoded data removed]",
      "text/plain": [
       "<Figure size 1920x1440 with 2 Axes>"
      ]
     },
     "execution_count": 27,
     "metadata": {},
     "output_type": "execute_result"
    },
    {
     "data": {
      "image/png": "[encoded data removed]",
      "text/plain": [
       "<Figure size 1920x1440 with 2 Axes>"
      ]
     },
     "metadata": {},
     "output_type": "display_data"
    }
   ],
   "source": [
    "solutions = h3d.post.get_solution_data(\n",
    "    expressions=[\"dB(S(In,In))\", \"dB(S(In,Out))\"], context=\"Differential Pairs\"\n",
    ")\n",
    "solutions.plot()"
   ]
  },
  {
   "cell_type": "markdown",
   "id": "8071cc86",
   "metadata": {},
   "source": [
    "## Release AEDT"
   ]
  },
  {
   "cell_type": "code",
   "execution_count": 28,
   "id": "f5f25d35",
   "metadata": {
    "execution": {
     "iopub.execute_input": "2025-10-30T05:45:14.127987Z",
     "iopub.status.busy": "2025-10-30T05:45:14.127987Z",
     "iopub.status.idle": "2025-10-30T05:45:33.322802Z",
     "shell.execute_reply": "2025-10-30T05:45:33.322802Z"
    }
   },
   "outputs": [
    {
     "name": "stdout",
     "output_type": "stream",
     "text": [
      "PyAEDT INFO: Project pcb Saved correctly\n"
     ]
    },
    {
     "name": "stderr",
     "output_type": "stream",
     "text": [
      "INFO:Global:Project pcb Saved correctly\n"
     ]
    },
    {
     "name": "stdout",
     "output_type": "stream",
     "text": [
      "PyAEDT INFO: Desktop has been released and closed.\n"
     ]
    },
    {
     "name": "stderr",
     "output_type": "stream",
     "text": [
      "INFO:Global:Desktop has been released and closed.\n"
     ]
    }
   ],
   "source": [
    "h3d.save_project()\n",
    "h3d.release_desktop()\n",
    "# Wait 3 seconds to allow AEDT to shut down before cleaning the temporary directory.\n",
    "time.sleep(3)"
   ]
  },
  {
   "cell_type": "markdown",
   "id": "7fbb958f",
   "metadata": {},
   "source": [
    "Note that the ground nets are only connected to each other due\n",
    "to the wave ports. The problem with poor grounding can be seen in the\n",
    "S-parameters. This example can be downloaded as a Jupyter Notebook, so\n",
    "you can modify it. Try changing parameters or adding ground vias to improve performance.\n",
    "\n",
    "The final cell cleans up the temporary directory, removing all files."
   ]
  },
  {
   "cell_type": "code",
   "execution_count": 29,
   "id": "bf857818",
   "metadata": {
    "execution": {
     "iopub.execute_input": "2025-10-30T05:45:35.332112Z",
     "iopub.status.busy": "2025-10-30T05:45:35.332112Z",
     "iopub.status.idle": "2025-10-30T05:45:35.379846Z",
     "shell.execute_reply": "2025-10-30T05:45:35.379846Z"
    }
   },
   "outputs": [],
   "source": [
    "temp_folder.cleanup()"
   ]
  }
 ],
 "metadata": {
  "jupytext": {
   "cell_metadata_filter": "-all",
   "main_language": "python",
   "notebook_metadata_filter": "-all"
  },
  "language_info": {
   "codemirror_mode": {
    "name": "ipython",
    "version": 3
   },
   "file_extension": ".py",
   "mimetype": "text/x-python",
   "name": "python",
   "nbconvert_exporter": "python",
   "pygments_lexer": "ipython3",
   "version": "3.10.11"
  }
 },
 "nbformat": 4,
 "nbformat_minor": 5
}
