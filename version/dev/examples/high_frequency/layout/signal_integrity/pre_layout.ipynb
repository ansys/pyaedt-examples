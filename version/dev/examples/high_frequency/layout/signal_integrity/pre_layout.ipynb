{
 "cells": [
  {
   "cell_type": "markdown",
   "id": "473ecf93",
   "metadata": {},
   "source": [
    "# Pre-layout signal integrity\n",
    "This example shows how to create a parameterized layout design\n",
    "and load the layout into HFSS 3D Layout for analysis and postprocessing.\n",
    "\n",
    "- Create EDB:\n",
    "\n",
    "    - Add material.\n",
    "    - Create stackup.\n",
    "    - Create a parameterized via padstack definition.\n",
    "    - Create ground planes.\n",
    "    - Create a component.\n",
    "    - Create signal vias and traces.\n",
    "    - Create ground stitching vias.\n",
    "    - Create HFSS analysis setup and frequency sweep.\n",
    "\n",
    "- Import EDB into HFSS 3D Layout:\n",
    "\n",
    "    - Place SMA connector.\n",
    "    - Analyze.\n",
    "    - Plot return loss."
   ]
  },
  {
   "cell_type": "markdown",
   "id": "47a6edb4",
   "metadata": {},
   "source": [
    "Here is an image of the model that is created in this example.\n",
    "\n",
    "<img src=\"_static/pre_layout_sma_connector_on_pcb.png\" width=\"600\">\n",
    "\n",
    "Keywords: **HFSS 3D Layout**, **signal integrity**."
   ]
  },
  {
   "cell_type": "markdown",
   "id": "ef055d61",
   "metadata": {},
   "source": [
    "## Perform imports and define constants\n",
    "Perform required packages."
   ]
  },
  {
   "cell_type": "code",
   "execution_count": 1,
   "id": "2b8de102",
   "metadata": {
    "execution": {
     "iopub.execute_input": "2025-10-30T05:39:25.054570Z",
     "iopub.status.busy": "2025-10-30T05:39:25.054570Z",
     "iopub.status.idle": "2025-10-30T05:39:28.108357Z",
     "shell.execute_reply": "2025-10-30T05:39:28.108357Z"
    }
   },
   "outputs": [],
   "source": [
    "import os\n",
    "import tempfile\n",
    "import time\n",
    "\n",
    "from ansys.aedt.core import Hfss3dLayout\n",
    "from ansys.aedt.core.examples.downloads import download_file\n",
    "from pyedb import Edb\n"
   ]
  },
  {
   "cell_type": "markdown",
   "id": "b2aa5558",
   "metadata": {},
   "source": [
    "Define constants."
   ]
  },
  {
   "cell_type": "code",
   "execution_count": 2,
   "id": "fc296a50",
   "metadata": {
    "execution": {
     "iopub.execute_input": "2025-10-30T05:39:28.108357Z",
     "iopub.status.busy": "2025-10-30T05:39:28.108357Z",
     "iopub.status.idle": "2025-10-30T05:39:28.124508Z",
     "shell.execute_reply": "2025-10-30T05:39:28.124508Z"
    },
    "lines_to_next_cell": 2
   },
   "outputs": [],
   "source": [
    "AEDT_VERSION = \"2025.2\"\n",
    "NUM_CORES = 4\n",
    "NG_MODE = False  # Open AEDT UI when it is launched."
   ]
  },
  {
   "cell_type": "markdown",
   "id": "0a5dd905",
   "metadata": {},
   "source": [
    "## Create temporary directory and download example files\n",
    "\n",
    "Create a temporary directory where downloaded data or\n",
    "dumped data can be stored.\n",
    "If you'd like to retrieve the project data for subsequent use,\n",
    "the temporary folder name is given by ``temp_folder.name``."
   ]
  },
  {
   "cell_type": "code",
   "execution_count": 3,
   "id": "b3b77320",
   "metadata": {
    "execution": {
     "iopub.execute_input": "2025-10-30T05:39:28.124508Z",
     "iopub.status.busy": "2025-10-30T05:39:28.124508Z",
     "iopub.status.idle": "2025-10-30T05:39:28.563454Z",
     "shell.execute_reply": "2025-10-30T05:39:28.563454Z"
    },
    "lines_to_next_cell": 2
   },
   "outputs": [],
   "source": [
    "temp_folder = tempfile.TemporaryDirectory(suffix=\".ansys\")\n",
    "sma_rf_connector = download_file(\n",
    "    source=\"component_3d\",\n",
    "    name=\"SMA_RF_SURFACE_MOUNT.a3dcomp\",\n",
    "    local_path=temp_folder.name,\n",
    ")"
   ]
  },
  {
   "cell_type": "markdown",
   "id": "2b018957",
   "metadata": {},
   "source": [
    "# Create layout design"
   ]
  },
  {
   "cell_type": "markdown",
   "id": "8306a8b2",
   "metadata": {},
   "source": [
    "## Import example design"
   ]
  },
  {
   "cell_type": "code",
   "execution_count": 4,
   "id": "aff5bd90",
   "metadata": {
    "execution": {
     "iopub.execute_input": "2025-10-30T05:39:28.563454Z",
     "iopub.status.busy": "2025-10-30T05:39:28.563454Z",
     "iopub.status.idle": "2025-10-30T05:39:40.556041Z",
     "shell.execute_reply": "2025-10-30T05:39:40.556041Z"
    }
   },
   "outputs": [
    {
     "name": "stderr",
     "output_type": "stream",
     "text": [
      "C:\\actions-runner\\_work\\pyaedt-examples\\pyaedt-examples\\.venv\\lib\\site-packages\\pyedb\\misc\\decorators.py:55: UserWarning: Argument `edbversion` is deprecated for method `Edb`; use `version` instead.\n",
      "  warnings.warn(\n",
      "C:\\actions-runner\\_work\\pyaedt-examples\\pyaedt-examples\\.venv\\lib\\site-packages\\pyedb\\generic\\design_types.py:301: UserWarning: Your ANSYS AEDT version is eligible to gRPC version.You might consider switching to that version for better user experience.For more information please check this link: https://edb.docs.pyansys.com/version/dev/grpc_api/index.html\n",
      "  warnings.warn(GRPC_GENERAL_WARNING, UserWarning)\n"
     ]
    },
    {
     "name": "stdout",
     "output_type": "stream",
     "text": [
      "PyEDB INFO: Star initializing Edb 05:39:31.828102\n"
     ]
    },
    {
     "name": "stderr",
     "output_type": "stream",
     "text": [
      "INFO:Edb:Star initializing Edb 05:39:31.828102\n"
     ]
    },
    {
     "name": "stdout",
     "output_type": "stream",
     "text": [
      "PyEDB INFO: Edb version 2025.2\n"
     ]
    },
    {
     "name": "stderr",
     "output_type": "stream",
     "text": [
      "INFO:Edb:Edb version 2025.2\n"
     ]
    },
    {
     "name": "stdout",
     "output_type": "stream",
     "text": [
      "PyEDB INFO: Logger is initialized. Log file is saved to C:\\Users\\ansys\\AppData\\Local\\Temp\\pyedb_ansys.log.\n"
     ]
    },
    {
     "name": "stderr",
     "output_type": "stream",
     "text": [
      "INFO:Edb:Logger is initialized. Log file is saved to C:\\Users\\ansys\\AppData\\Local\\Temp\\pyedb_ansys.log.\n"
     ]
    },
    {
     "name": "stdout",
     "output_type": "stream",
     "text": [
      "PyEDB INFO: legacy v0.61.0\n"
     ]
    },
    {
     "name": "stderr",
     "output_type": "stream",
     "text": [
      "INFO:Edb:legacy v0.61.0\n"
     ]
    },
    {
     "name": "stdout",
     "output_type": "stream",
     "text": [
      "PyEDB INFO: Python version 3.10.11 (tags/v3.10.11:7d4cc5a, Apr  5 2023, 00:38:17) [MSC v.1929 64 bit (AMD64)]\n"
     ]
    },
    {
     "name": "stderr",
     "output_type": "stream",
     "text": [
      "INFO:Edb:Python version 3.10.11 (tags/v3.10.11:7d4cc5a, Apr  5 2023, 00:38:17) [MSC v.1929 64 bit (AMD64)]\n"
     ]
    },
    {
     "name": "stdout",
     "output_type": "stream",
     "text": [
      "PyEDB INFO: create_edb completed in 8.6330 seconds.\n"
     ]
    },
    {
     "name": "stderr",
     "output_type": "stream",
     "text": [
      "INFO:Edb:create_edb completed in 8.6330 seconds.\n"
     ]
    },
    {
     "name": "stdout",
     "output_type": "stream",
     "text": [
      "PyEDB INFO: EDB C:\\Users\\ansys\\AppData\\Local\\Temp\\tmpsj3jay95.ansys\\new_layout.aedb created correctly.\n"
     ]
    },
    {
     "name": "stderr",
     "output_type": "stream",
     "text": [
      "INFO:Edb:EDB C:\\Users\\ansys\\AppData\\Local\\Temp\\tmpsj3jay95.ansys\\new_layout.aedb created correctly.\n"
     ]
    },
    {
     "name": "stdout",
     "output_type": "stream",
     "text": [
      "PyEDB INFO: EDB initialization completed in 8.6962 seconds.\n"
     ]
    },
    {
     "name": "stderr",
     "output_type": "stream",
     "text": [
      "INFO:Edb:EDB initialization completed in 8.6962 seconds.\n"
     ]
    }
   ],
   "source": [
    "aedb = os.path.join(temp_folder.name, \"new_layout.aedb\")\n",
    "edbapp = Edb(edbpath=aedb, edbversion=AEDT_VERSION)"
   ]
  },
  {
   "cell_type": "code",
   "execution_count": 5,
   "id": "5bf6fca3",
   "metadata": {
    "execution": {
     "iopub.execute_input": "2025-10-30T05:39:42.568282Z",
     "iopub.status.busy": "2025-10-30T05:39:42.568282Z",
     "iopub.status.idle": "2025-10-30T05:39:42.584244Z",
     "shell.execute_reply": "2025-10-30T05:39:42.584244Z"
    }
   },
   "outputs": [],
   "source": [
    "# Set antipad always on.\n",
    "edbapp.design_options.antipads_always_on = True"
   ]
  },
  {
   "cell_type": "markdown",
   "id": "c66b7323",
   "metadata": {},
   "source": [
    "## Add material definitions"
   ]
  },
  {
   "cell_type": "code",
   "execution_count": 6,
   "id": "9ae3d18c",
   "metadata": {
    "execution": {
     "iopub.execute_input": "2025-10-30T05:39:42.584244Z",
     "iopub.status.busy": "2025-10-30T05:39:42.584244Z",
     "iopub.status.idle": "2025-10-30T05:39:42.632057Z",
     "shell.execute_reply": "2025-10-30T05:39:42.632057Z"
    }
   },
   "outputs": [
    {
     "data": {
      "text/plain": [
       "<pyedb.dotnet.database.materials.Material at 0x13515a44280>"
      ]
     },
     "execution_count": 6,
     "metadata": {},
     "output_type": "execute_result"
    }
   ],
   "source": [
    "edbapp.materials.add_conductor_material(name=\"copper\", conductivity=58000000)\n",
    "edbapp.materials.add_dielectric_material(\n",
    "    name=\"FR4_epoxy\", permittivity=4, dielectric_loss_tangent=0.02\n",
    ")\n",
    "edbapp.materials.add_dielectric_material(\n",
    "    name=\"solder_mask\", permittivity=3.1, dielectric_loss_tangent=0.035\n",
    ")"
   ]
  },
  {
   "cell_type": "markdown",
   "id": "7d94ad48",
   "metadata": {},
   "source": [
    "## Create stackup"
   ]
  },
  {
   "cell_type": "code",
   "execution_count": 7,
   "id": "57e912fa",
   "metadata": {
    "execution": {
     "iopub.execute_input": "2025-10-30T05:39:42.632057Z",
     "iopub.status.busy": "2025-10-30T05:39:42.632057Z",
     "iopub.status.idle": "2025-10-30T05:39:42.758874Z",
     "shell.execute_reply": "2025-10-30T05:39:42.758874Z"
    }
   },
   "outputs": [
    {
     "name": "stderr",
     "output_type": "stream",
     "text": [
      "INFO:pyedb.dotnet.database.stackup:Material SolderMask found in syslib. Adding it to aedb project.\n"
     ]
    },
    {
     "data": {
      "text/plain": [
       "True"
      ]
     },
     "execution_count": 7,
     "metadata": {},
     "output_type": "execute_result"
    }
   ],
   "source": [
    "edbapp.stackup.create_symmetric_stackup(\n",
    "    layer_count=4,\n",
    "    inner_layer_thickness=\"18um\",\n",
    "    outer_layer_thickness=\"50um\",\n",
    "    dielectric_thickness=\"100um\",\n",
    "    dielectric_material=\"FR4_epoxy\",\n",
    "    soldermask=True,\n",
    "    soldermask_thickness=\"20um\",\n",
    ")"
   ]
  },
  {
   "cell_type": "markdown",
   "id": "386224ca",
   "metadata": {},
   "source": [
    "## Create parameterized padstack definition"
   ]
  },
  {
   "cell_type": "markdown",
   "id": "663a44ad",
   "metadata": {},
   "source": [
    "Create signal via padstack definition."
   ]
  },
  {
   "cell_type": "code",
   "execution_count": 8,
   "id": "892fc04c",
   "metadata": {
    "execution": {
     "iopub.execute_input": "2025-10-30T05:39:42.758874Z",
     "iopub.status.busy": "2025-10-30T05:39:42.758874Z",
     "iopub.status.idle": "2025-10-30T05:39:42.853807Z",
     "shell.execute_reply": "2025-10-30T05:39:42.853807Z"
    }
   },
   "outputs": [
    {
     "name": "stdout",
     "output_type": "stream",
     "text": [
      "PyEDB INFO: Padstack svia create correctly\n"
     ]
    },
    {
     "name": "stderr",
     "output_type": "stream",
     "text": [
      "INFO:Edb:Padstack svia create correctly\n"
     ]
    },
    {
     "data": {
      "text/plain": [
       "'svia'"
      ]
     },
     "execution_count": 8,
     "metadata": {},
     "output_type": "execute_result"
    }
   ],
   "source": [
    "edbapp[\"$antipad\"] = \"0.7mm\"\n",
    "edbapp.padstacks.create(\n",
    "    padstackname=\"svia\", holediam=\"0.3mm\", antipaddiam=\"$antipad\", paddiam=\"0.5mm\"\n",
    ")"
   ]
  },
  {
   "cell_type": "markdown",
   "id": "b73f5aab",
   "metadata": {},
   "source": [
    "Create component pin padstack definition."
   ]
  },
  {
   "cell_type": "code",
   "execution_count": 9,
   "id": "3acb7627",
   "metadata": {
    "execution": {
     "iopub.execute_input": "2025-10-30T05:39:42.857823Z",
     "iopub.status.busy": "2025-10-30T05:39:42.857823Z",
     "iopub.status.idle": "2025-10-30T05:39:42.887398Z",
     "shell.execute_reply": "2025-10-30T05:39:42.885392Z"
    }
   },
   "outputs": [
    {
     "name": "stdout",
     "output_type": "stream",
     "text": [
      "PyEDB INFO: Padstack comp_pin create correctly\n"
     ]
    },
    {
     "name": "stderr",
     "output_type": "stream",
     "text": [
      "INFO:Edb:Padstack comp_pin create correctly\n"
     ]
    },
    {
     "data": {
      "text/plain": [
       "'comp_pin'"
      ]
     },
     "execution_count": 9,
     "metadata": {},
     "output_type": "execute_result"
    }
   ],
   "source": [
    "edbapp.padstacks.create(\n",
    "    padstackname=\"comp_pin\",\n",
    "    paddiam=\"400um\",\n",
    "    antipaddiam=\"600um\",\n",
    "    start_layer=\"TOP\",\n",
    "    stop_layer=\"TOP\",\n",
    "    antipad_shape=\"Circle\",\n",
    "    has_hole=False,\n",
    ")"
   ]
  },
  {
   "cell_type": "markdown",
   "id": "14883ecf",
   "metadata": {},
   "source": [
    "## Review stackup"
   ]
  },
  {
   "cell_type": "code",
   "execution_count": 10,
   "id": "d53e8391",
   "metadata": {
    "execution": {
     "iopub.execute_input": "2025-10-30T05:39:42.889408Z",
     "iopub.status.busy": "2025-10-30T05:39:42.889408Z",
     "iopub.status.idle": "2025-10-30T05:39:43.423594Z",
     "shell.execute_reply": "2025-10-30T05:39:43.423594Z"
    }
   },
   "outputs": [
    {
     "data": {
      "image/png": "[encoded data removed]",
      "text/plain": [
       "<Figure size 2000x1500 with 1 Axes>"
      ]
     },
     "metadata": {},
     "output_type": "display_data"
    },
    {
     "data": {
      "text/plain": [
       "<module 'matplotlib.pyplot' from 'C:\\\\actions-runner\\\\_work\\\\pyaedt-examples\\\\pyaedt-examples\\\\.venv\\\\lib\\\\site-packages\\\\matplotlib\\\\pyplot.py'>"
      ]
     },
     "execution_count": 10,
     "metadata": {},
     "output_type": "execute_result"
    }
   ],
   "source": [
    "edbapp.stackup.plot(plot_definitions=\"svia\")"
   ]
  },
  {
   "cell_type": "markdown",
   "id": "1d50855e",
   "metadata": {},
   "source": [
    "## Create ground planes"
   ]
  },
  {
   "cell_type": "code",
   "execution_count": 11,
   "id": "d6732cf5",
   "metadata": {
    "execution": {
     "iopub.execute_input": "2025-10-30T05:39:43.423594Z",
     "iopub.status.busy": "2025-10-30T05:39:43.423594Z",
     "iopub.status.idle": "2025-10-30T05:39:43.455255Z",
     "shell.execute_reply": "2025-10-30T05:39:43.455255Z"
    }
   },
   "outputs": [],
   "source": [
    "board_width = \"22mm\"\n",
    "board_length = \"18mm\"\n",
    "board_center_point = [0, \"5mm\"]\n",
    "\n",
    "gnd_l2 = edbapp.modeler.create_rectangle(\n",
    "    layer_name=\"L2\",\n",
    "    net_name=\"GND\",\n",
    "    center_point=board_center_point,\n",
    "    width=board_width,\n",
    "    height=board_length,\n",
    "    representation_type=\"CenterWidthHeight\",\n",
    "    corner_radius=\"0mm\",\n",
    "    rotation=\"0deg\",\n",
    ")\n",
    "\n",
    "gnd_l3 = edbapp.modeler.create_rectangle(\n",
    "    layer_name=\"L3\",\n",
    "    net_name=\"GND\",\n",
    "    center_point=board_center_point,\n",
    "    width=board_width,\n",
    "    height=board_length,\n",
    "    representation_type=\"CenterWidthHeight\",\n",
    "    corner_radius=\"0mm\",\n",
    "    rotation=\"0deg\",\n",
    ")\n",
    "\n",
    "gnd_bottom = edbapp.modeler.create_rectangle(\n",
    "    layer_name=\"BOT\",\n",
    "    net_name=\"GND\",\n",
    "    center_point=board_center_point,\n",
    "    width=board_width,\n",
    "    height=board_length,\n",
    "    representation_type=\"CenterWidthHeight\",\n",
    "    corner_radius=\"0mm\",\n",
    "    rotation=\"0deg\",\n",
    ")"
   ]
  },
  {
   "cell_type": "markdown",
   "id": "defa3a13",
   "metadata": {},
   "source": [
    "## Create a component"
   ]
  },
  {
   "cell_type": "code",
   "execution_count": 12,
   "id": "80febe51",
   "metadata": {
    "execution": {
     "iopub.execute_input": "2025-10-30T05:39:43.455255Z",
     "iopub.status.busy": "2025-10-30T05:39:43.455255Z",
     "iopub.status.idle": "2025-10-30T05:39:43.487144Z",
     "shell.execute_reply": "2025-10-30T05:39:43.487144Z"
    }
   },
   "outputs": [
    {
     "data": {
      "text/plain": [
       "<pyedb.dotnet.database.edb_data.padstacks_data.EDBPadstackInstance at 0x1351afce9b0>"
      ]
     },
     "execution_count": 12,
     "metadata": {},
     "output_type": "execute_result"
    }
   ],
   "source": [
    "edbapp.padstacks.place(\n",
    "    position=[0, 0],\n",
    "    definition_name=\"comp_pin\",\n",
    "    net_name=\"SIG\",\n",
    "    is_pin=True,\n",
    "    via_name=\"1\",\n",
    ")"
   ]
  },
  {
   "cell_type": "code",
   "execution_count": 13,
   "id": "a9c45d29",
   "metadata": {
    "execution": {
     "iopub.execute_input": "2025-10-30T05:39:43.487144Z",
     "iopub.status.busy": "2025-10-30T05:39:43.487144Z",
     "iopub.status.idle": "2025-10-30T05:39:43.518896Z",
     "shell.execute_reply": "2025-10-30T05:39:43.518896Z"
    }
   },
   "outputs": [],
   "source": [
    "comp_pins = [\n",
    "    edbapp.padstacks.place(\n",
    "        position=[\"-6mm\", 0],\n",
    "        definition_name=\"comp_pin\",\n",
    "        net_name=\"GND\",\n",
    "        is_pin=True,\n",
    "        via_name=\"2\",\n",
    "    ),\n",
    "    edbapp.padstacks.place(\n",
    "        position=[\"6mm\", 0],\n",
    "        definition_name=\"comp_pin\",\n",
    "        net_name=\"GND\",\n",
    "        is_pin=True,\n",
    "        via_name=\"3\",\n",
    "    ),\n",
    "]"
   ]
  },
  {
   "cell_type": "code",
   "execution_count": 14,
   "id": "900bf88e",
   "metadata": {
    "execution": {
     "iopub.execute_input": "2025-10-30T05:39:43.518896Z",
     "iopub.status.busy": "2025-10-30T05:39:43.518896Z",
     "iopub.status.idle": "2025-10-30T05:39:43.661397Z",
     "shell.execute_reply": "2025-10-30T05:39:43.661397Z"
    },
    "lines_to_next_cell": 2
   },
   "outputs": [
    {
     "name": "stdout",
     "output_type": "stream",
     "text": [
      "PyEDB INFO: Correctly computed Extension at first iteration.\n"
     ]
    },
    {
     "name": "stderr",
     "output_type": "stream",
     "text": [
      "INFO:Edb:Correctly computed Extension at first iteration.\n"
     ]
    },
    {
     "data": {
      "text/plain": [
       "True"
      ]
     },
     "execution_count": 14,
     "metadata": {},
     "output_type": "execute_result"
    }
   ],
   "source": [
    "comp_u1 = edbapp.components.create(\n",
    "    pins=comp_pins,\n",
    "    component_name=\"U1\",\n",
    "    component_part_name=\"BGA\",\n",
    "    placement_layer=\"TOP\",\n",
    ")\n",
    "comp_u1.create_clearance_on_component(extra_soldermask_clearance=3.5e-3)"
   ]
  },
  {
   "cell_type": "markdown",
   "id": "6fa061c7",
   "metadata": {},
   "source": [
    "## Place vias"
   ]
  },
  {
   "cell_type": "markdown",
   "id": "e90a8e8c",
   "metadata": {},
   "source": [
    "Place a signal via."
   ]
  },
  {
   "cell_type": "code",
   "execution_count": 15,
   "id": "db4648de",
   "metadata": {
    "execution": {
     "iopub.execute_input": "2025-10-30T05:39:43.661397Z",
     "iopub.status.busy": "2025-10-30T05:39:43.661397Z",
     "iopub.status.idle": "2025-10-30T05:39:43.677109Z",
     "shell.execute_reply": "2025-10-30T05:39:43.677109Z"
    }
   },
   "outputs": [
    {
     "data": {
      "text/plain": [
       "<pyedb.dotnet.database.edb_data.padstacks_data.EDBPadstackInstance at 0x1351afcf3a0>"
      ]
     },
     "execution_count": 15,
     "metadata": {},
     "output_type": "execute_result"
    }
   ],
   "source": [
    "edbapp.padstacks.place(\n",
    "    position=[0, 0], definition_name=\"svia\", net_name=\"SIG\", is_pin=False\n",
    ")"
   ]
  },
  {
   "cell_type": "markdown",
   "id": "70a0f598",
   "metadata": {},
   "source": [
    "Place ground stitching vias."
   ]
  },
  {
   "cell_type": "code",
   "execution_count": 16,
   "id": "187447ff",
   "metadata": {
    "execution": {
     "iopub.execute_input": "2025-10-30T05:39:43.677109Z",
     "iopub.status.busy": "2025-10-30T05:39:43.677109Z",
     "iopub.status.idle": "2025-10-30T05:39:43.709125Z",
     "shell.execute_reply": "2025-10-30T05:39:43.709125Z"
    }
   },
   "outputs": [
    {
     "data": {
      "text/plain": [
       "<pyedb.dotnet.database.edb_data.padstacks_data.EDBPadstackInstance at 0x1351afcec80>"
      ]
     },
     "execution_count": 16,
     "metadata": {},
     "output_type": "execute_result"
    }
   ],
   "source": [
    "edbapp.padstacks.place(\n",
    "    position=[\"-1mm\", 0], definition_name=\"svia\", net_name=\"GND\", is_pin=False\n",
    ")\n",
    "edbapp.padstacks.place(\n",
    "    position=[\"1mm\", 0], definition_name=\"svia\", net_name=\"GND\", is_pin=False\n",
    ")\n",
    "edbapp.padstacks.place(\n",
    "    position=[0, \"-1mm\"], definition_name=\"svia\", net_name=\"GND\", is_pin=False\n",
    ")\n",
    "edbapp.padstacks.place(\n",
    "    position=[0, \"1mm\"], definition_name=\"svia\", net_name=\"GND\", is_pin=False\n",
    ")"
   ]
  },
  {
   "cell_type": "markdown",
   "id": "f14cbd7b",
   "metadata": {},
   "source": [
    "## Create signal traces"
   ]
  },
  {
   "cell_type": "code",
   "execution_count": 17,
   "id": "4ed0b718",
   "metadata": {
    "execution": {
     "iopub.execute_input": "2025-10-30T05:39:43.709125Z",
     "iopub.status.busy": "2025-10-30T05:39:43.709125Z",
     "iopub.status.idle": "2025-10-30T05:39:43.725109Z",
     "shell.execute_reply": "2025-10-30T05:39:43.725109Z"
    }
   },
   "outputs": [],
   "source": [
    "edbapp[\"width\"] = \"0.15mm\"\n",
    "edbapp[\"gap\"] = \"0.1mm\""
   ]
  },
  {
   "cell_type": "markdown",
   "id": "4407293b",
   "metadata": {},
   "source": [
    "Create signal fanout."
   ]
  },
  {
   "cell_type": "code",
   "execution_count": 18,
   "id": "77e338aa",
   "metadata": {
    "execution": {
     "iopub.execute_input": "2025-10-30T05:39:43.725109Z",
     "iopub.status.busy": "2025-10-30T05:39:43.725109Z",
     "iopub.status.idle": "2025-10-30T05:39:43.740961Z",
     "shell.execute_reply": "2025-10-30T05:39:43.740961Z"
    }
   },
   "outputs": [],
   "source": [
    "sig_trace = edbapp.modeler.create_trace(\n",
    "    path_list=[[0, 0]],\n",
    "    layer_name=\"BOT\",\n",
    "    width=\"width\",\n",
    "    net_name=\"SIG\",\n",
    "    start_cap_style=\"Round\",\n",
    "    end_cap_style=\"Round\",\n",
    "    corner_style=\"Round\",\n",
    ")"
   ]
  },
  {
   "cell_type": "code",
   "execution_count": 19,
   "id": "bbcd503e",
   "metadata": {
    "execution": {
     "iopub.execute_input": "2025-10-30T05:39:43.740961Z",
     "iopub.status.busy": "2025-10-30T05:39:43.740961Z",
     "iopub.status.idle": "2025-10-30T05:39:43.756754Z",
     "shell.execute_reply": "2025-10-30T05:39:43.756754Z"
    }
   },
   "outputs": [],
   "source": [
    "sig_trace.add_point(x=\"0.5mm\", y=\"0.5mm\", incremental=True)\n",
    "sig_trace.add_point(x=0, y=\"1mm\", incremental=True)\n",
    "sig_trace.add_point(x=\"-0.5mm\", y=\"0.5mm\", incremental=True)\n",
    "sig_trace.add_point(x=0, y=\"1mm\", incremental=True)\n",
    "sig_path = sig_trace.get_center_line()"
   ]
  },
  {
   "cell_type": "markdown",
   "id": "36c817fd",
   "metadata": {},
   "source": [
    "Create coplanar waveguide with ground with ground stitching vias."
   ]
  },
  {
   "cell_type": "code",
   "execution_count": 20,
   "id": "c12f4190",
   "metadata": {
    "execution": {
     "iopub.execute_input": "2025-10-30T05:39:43.756754Z",
     "iopub.status.busy": "2025-10-30T05:39:43.756754Z",
     "iopub.status.idle": "2025-10-30T05:39:43.836105Z",
     "shell.execute_reply": "2025-10-30T05:39:43.836105Z"
    }
   },
   "outputs": [
    {
     "data": {
      "text/plain": [
       "True"
      ]
     },
     "execution_count": 20,
     "metadata": {},
     "output_type": "execute_result"
    }
   ],
   "source": [
    "sig2_trace = edbapp.modeler.create_trace(\n",
    "    path_list=[sig_path[-1]],\n",
    "    layer_name=\"BOT\",\n",
    "    width=\"width\",\n",
    "    net_name=\"SIG\",\n",
    "    start_cap_style=\"Round\",\n",
    "    end_cap_style=\"Flat\",\n",
    "    corner_style=\"Round\",\n",
    ")\n",
    "sig2_trace.add_point(x=0, y=\"6mm\", incremental=True)\n",
    "sig2_trace.create_via_fence(distance=\"0.5mm\", gap=\"1mm\", padstack_name=\"svia\")\n",
    "sig2_trace.add_point(x=0, y=\"1mm\", incremental=True)"
   ]
  },
  {
   "cell_type": "markdown",
   "id": "b6789edd",
   "metadata": {},
   "source": [
    "Create trace-to-ground clearance."
   ]
  },
  {
   "cell_type": "code",
   "execution_count": 21,
   "id": "47c1be90",
   "metadata": {
    "execution": {
     "iopub.execute_input": "2025-10-30T05:39:43.836105Z",
     "iopub.status.busy": "2025-10-30T05:39:43.836105Z",
     "iopub.status.idle": "2025-10-30T05:39:43.852074Z",
     "shell.execute_reply": "2025-10-30T05:39:43.852074Z"
    }
   },
   "outputs": [],
   "source": [
    "sig2_path = sig2_trace.get_center_line()\n",
    "path_list = [sig_path, sig2_path]\n",
    "for i in path_list:\n",
    "    void = edbapp.modeler.create_trace(\n",
    "        path_list=i,\n",
    "        layer_name=\"BOT\",\n",
    "        width=\"width+gap*2\",\n",
    "        start_cap_style=\"Round\",\n",
    "        end_cap_style=\"Round\",\n",
    "        corner_style=\"Round\",\n",
    "    )\n",
    "    edbapp.modeler.add_void(shape=gnd_bottom, void_shape=void)"
   ]
  },
  {
   "cell_type": "markdown",
   "id": "9720336b",
   "metadata": {},
   "source": [
    "Generate plot to review."
   ]
  },
  {
   "cell_type": "code",
   "execution_count": 22,
   "id": "30c5f7bc",
   "metadata": {
    "execution": {
     "iopub.execute_input": "2025-10-30T05:39:43.855575Z",
     "iopub.status.busy": "2025-10-30T05:39:43.855575Z",
     "iopub.status.idle": "2025-10-30T05:39:44.437150Z",
     "shell.execute_reply": "2025-10-30T05:39:44.437150Z"
    }
   },
   "outputs": [
    {
     "data": {
      "image/png": "[encoded data removed]",
      "text/plain": [
       "<Figure size 6000x3000 with 1 Axes>"
      ]
     },
     "metadata": {},
     "output_type": "display_data"
    },
    {
     "name": "stdout",
     "output_type": "stream",
     "text": [
      "PyEDB INFO: Plot Generation time 0.521\n"
     ]
    },
    {
     "name": "stderr",
     "output_type": "stream",
     "text": [
      "INFO:Edb:Plot Generation time 0.521\n"
     ]
    },
    {
     "data": {
      "text/plain": [
       "(<Figure size 6000x3000 with 1 Axes>,\n",
       " <Axes: title={'center': 'Edb Top View Cell_5MNTXK'}>)"
      ]
     },
     "execution_count": 22,
     "metadata": {},
     "output_type": "execute_result"
    }
   ],
   "source": [
    "edbapp.nets.plot()"
   ]
  },
  {
   "cell_type": "markdown",
   "id": "da26bada",
   "metadata": {},
   "source": [
    "## Create ports"
   ]
  },
  {
   "cell_type": "markdown",
   "id": "960bb40b",
   "metadata": {},
   "source": [
    "Create a wave port."
   ]
  },
  {
   "cell_type": "code",
   "execution_count": 23,
   "id": "13ea5166",
   "metadata": {
    "execution": {
     "iopub.execute_input": "2025-10-30T05:39:44.437150Z",
     "iopub.status.busy": "2025-10-30T05:39:44.437150Z",
     "iopub.status.idle": "2025-10-30T05:39:44.468972Z",
     "shell.execute_reply": "2025-10-30T05:39:44.468972Z"
    }
   },
   "outputs": [
    {
     "data": {
      "text/plain": [
       "('p1_wave_port',\n",
       " <pyedb.dotnet.database.edb_data.ports.WavePort at 0x13534b4e5c0>)"
      ]
     },
     "execution_count": 23,
     "metadata": {},
     "output_type": "execute_result"
    }
   ],
   "source": [
    "sig2_trace.create_edge_port(\n",
    "    name=\"p1_wave_port\",\n",
    "    position=\"End\",\n",
    "    port_type=\"Wave\",\n",
    "    reference_layer=None,\n",
    "    horizontal_extent_factor=10,\n",
    "    vertical_extent_factor=10,\n",
    "    pec_launch_width=\"0.01mm\",\n",
    ")"
   ]
  },
  {
   "cell_type": "markdown",
   "id": "73a8a0a0",
   "metadata": {},
   "source": [
    "## Create HFSS analysis setup"
   ]
  },
  {
   "cell_type": "code",
   "execution_count": 24,
   "id": "8de51605",
   "metadata": {
    "execution": {
     "iopub.execute_input": "2025-10-30T05:39:44.468972Z",
     "iopub.status.busy": "2025-10-30T05:39:44.468972Z",
     "iopub.status.idle": "2025-10-30T05:39:44.532203Z",
     "shell.execute_reply": "2025-10-30T05:39:44.532203Z"
    }
   },
   "outputs": [],
   "source": [
    "setup = edbapp.create_hfss_setup(\"Setup1\")\n",
    "setup.set_solution_single_frequency(\"5GHz\", max_num_passes=1, max_delta_s=\"0.02\")\n",
    "setup.hfss_solver_settings.order_basis = \"first\""
   ]
  },
  {
   "cell_type": "markdown",
   "id": "109aed2e",
   "metadata": {},
   "source": [
    "Add a frequency sweep to the setup.\n",
    "\n",
    "When the simulation results are to\n",
    "be used for transient SPICE analysis, you should\n",
    "use the following strategy:\n",
    "\n",
    "- DC point\n",
    "- Logarithmic sweep from 1 kHz to 100 MHz\n",
    "- Linear scale for higher frequencies"
   ]
  },
  {
   "cell_type": "code",
   "execution_count": 25,
   "id": "cc09a0c0",
   "metadata": {
    "execution": {
     "iopub.execute_input": "2025-10-30T05:39:44.532203Z",
     "iopub.status.busy": "2025-10-30T05:39:44.532203Z",
     "iopub.status.idle": "2025-10-30T05:39:44.627100Z",
     "shell.execute_reply": "2025-10-30T05:39:44.627100Z"
    }
   },
   "outputs": [
    {
     "data": {
      "text/plain": [
       "<pyedb.dotnet.database.sim_setup_data.data.sweep_data.SweepData at 0x1351b027be0>"
      ]
     },
     "execution_count": 25,
     "metadata": {},
     "output_type": "execute_result"
    }
   ],
   "source": [
    "setup.add_frequency_sweep(\n",
    "    \"Sweep1\",\n",
    "    frequency_sweep=[\n",
    "        [\"log scale\", \"10MHz\", \"100MHz\", 3],\n",
    "        [\"linear scale\", \"0.1GHz\", \"5GHz\", \"0.2GHz\"],\n",
    "    ],\n",
    ")"
   ]
  },
  {
   "cell_type": "markdown",
   "id": "de7bafc0",
   "metadata": {},
   "source": [
    "## Save and close EDB"
   ]
  },
  {
   "cell_type": "code",
   "execution_count": 26,
   "id": "0f496567",
   "metadata": {
    "execution": {
     "iopub.execute_input": "2025-10-30T05:39:44.627100Z",
     "iopub.status.busy": "2025-10-30T05:39:44.627100Z",
     "iopub.status.idle": "2025-10-30T05:39:44.690418Z",
     "shell.execute_reply": "2025-10-30T05:39:44.690418Z"
    }
   },
   "outputs": [
    {
     "name": "stdout",
     "output_type": "stream",
     "text": [
      "PyEDB INFO: Save Edb file completed in 0.0000 seconds.\n"
     ]
    },
    {
     "name": "stderr",
     "output_type": "stream",
     "text": [
      "INFO:Edb:Save Edb file completed in 0.0000 seconds.\n"
     ]
    },
    {
     "name": "stdout",
     "output_type": "stream",
     "text": [
      "PyEDB INFO: Close Edb file completed in 0.0472 seconds.\n"
     ]
    },
    {
     "name": "stderr",
     "output_type": "stream",
     "text": [
      "INFO:Edb:Close Edb file completed in 0.0472 seconds.\n"
     ]
    },
    {
     "data": {
      "text/plain": [
       "True"
      ]
     },
     "execution_count": 26,
     "metadata": {},
     "output_type": "execute_result"
    }
   ],
   "source": [
    "edbapp.save()\n",
    "edbapp.close()"
   ]
  },
  {
   "cell_type": "markdown",
   "id": "e687a444",
   "metadata": {},
   "source": [
    "# Analyze in HFSS 3D Layout"
   ]
  },
  {
   "cell_type": "markdown",
   "id": "711cf989",
   "metadata": {},
   "source": [
    "## Load EDB into HFSS 3D Layout."
   ]
  },
  {
   "cell_type": "code",
   "execution_count": 27,
   "id": "5f2aaf52",
   "metadata": {
    "execution": {
     "iopub.execute_input": "2025-10-30T05:39:44.690418Z",
     "iopub.status.busy": "2025-10-30T05:39:44.690418Z",
     "iopub.status.idle": "2025-10-30T05:40:19.278169Z",
     "shell.execute_reply": "2025-10-30T05:40:19.278169Z"
    }
   },
   "outputs": [
    {
     "name": "stdout",
     "output_type": "stream",
     "text": [
      "PyAEDT INFO: Python version 3.10.11 (tags/v3.10.11:7d4cc5a, Apr  5 2023, 00:38:17) [MSC v.1929 64 bit (AMD64)].\n"
     ]
    },
    {
     "name": "stderr",
     "output_type": "stream",
     "text": [
      "INFO:Global:Python version 3.10.11 (tags/v3.10.11:7d4cc5a, Apr  5 2023, 00:38:17) [MSC v.1929 64 bit (AMD64)].\n"
     ]
    },
    {
     "name": "stdout",
     "output_type": "stream",
     "text": [
      "PyAEDT INFO: PyAEDT version 0.22.dev0.\n"
     ]
    },
    {
     "name": "stderr",
     "output_type": "stream",
     "text": [
      "INFO:Global:PyAEDT version 0.22.dev0.\n"
     ]
    },
    {
     "name": "stdout",
     "output_type": "stream",
     "text": [
      "PyAEDT INFO: Initializing new Desktop session.\n"
     ]
    },
    {
     "name": "stderr",
     "output_type": "stream",
     "text": [
      "INFO:Global:Initializing new Desktop session.\n"
     ]
    },
    {
     "name": "stdout",
     "output_type": "stream",
     "text": [
      "PyAEDT INFO: Log on console is enabled.\n"
     ]
    },
    {
     "name": "stderr",
     "output_type": "stream",
     "text": [
      "INFO:Global:Log on console is enabled.\n"
     ]
    },
    {
     "name": "stdout",
     "output_type": "stream",
     "text": [
      "PyAEDT INFO: Log on file C:\\Users\\ansys\\AppData\\Local\\Temp\\pyaedt_ansys_fa9ebaf8-439e-478e-b9e9-be6abfc0e469.log is enabled.\n"
     ]
    },
    {
     "name": "stderr",
     "output_type": "stream",
     "text": [
      "INFO:Global:Log on file C:\\Users\\ansys\\AppData\\Local\\Temp\\pyaedt_ansys_fa9ebaf8-439e-478e-b9e9-be6abfc0e469.log is enabled.\n"
     ]
    },
    {
     "name": "stdout",
     "output_type": "stream",
     "text": [
      "PyAEDT INFO: Log on AEDT is disabled.\n"
     ]
    },
    {
     "name": "stderr",
     "output_type": "stream",
     "text": [
      "INFO:Global:Log on AEDT is disabled.\n"
     ]
    },
    {
     "name": "stdout",
     "output_type": "stream",
     "text": [
      "PyAEDT INFO: Debug logger is disabled. PyAEDT methods will not be logged.\n"
     ]
    },
    {
     "name": "stderr",
     "output_type": "stream",
     "text": [
      "INFO:Global:Debug logger is disabled. PyAEDT methods will not be logged.\n"
     ]
    },
    {
     "name": "stdout",
     "output_type": "stream",
     "text": [
      "PyAEDT INFO: Launching PyAEDT with gRPC plugin.\n"
     ]
    },
    {
     "name": "stderr",
     "output_type": "stream",
     "text": [
      "INFO:Global:Launching PyAEDT with gRPC plugin.\n"
     ]
    },
    {
     "name": "stdout",
     "output_type": "stream",
     "text": [
      "PyAEDT INFO: New AEDT session is starting on gRPC port 58142.\n"
     ]
    },
    {
     "name": "stderr",
     "output_type": "stream",
     "text": [
      "INFO:Global:New AEDT session is starting on gRPC port 58142.\n"
     ]
    },
    {
     "name": "stdout",
     "output_type": "stream",
     "text": [
      "PyAEDT INFO: Electronics Desktop started on gRPC port: 58142 after 10.86285662651062 seconds.\n"
     ]
    },
    {
     "name": "stderr",
     "output_type": "stream",
     "text": [
      "INFO:Global:Electronics Desktop started on gRPC port: 58142 after 10.86285662651062 seconds.\n"
     ]
    },
    {
     "name": "stdout",
     "output_type": "stream",
     "text": [
      "PyAEDT INFO: AEDT installation Path C:\\Program Files\\ANSYS Inc\\v252\\AnsysEM\n"
     ]
    },
    {
     "name": "stderr",
     "output_type": "stream",
     "text": [
      "INFO:Global:AEDT installation Path C:\\Program Files\\ANSYS Inc\\v252\\AnsysEM\n"
     ]
    },
    {
     "name": "stdout",
     "output_type": "stream",
     "text": [
      "PyAEDT INFO: Ansoft.ElectronicsDesktop.2025.2 version started with process ID 1456.\n"
     ]
    },
    {
     "name": "stderr",
     "output_type": "stream",
     "text": [
      "INFO:Global:Ansoft.ElectronicsDesktop.2025.2 version started with process ID 1456.\n"
     ]
    },
    {
     "name": "stdout",
     "output_type": "stream",
     "text": [
      "PyAEDT INFO: EDB folder C:\\Users\\ansys\\AppData\\Local\\Temp\\tmpsj3jay95.ansys\\new_layout.aedb has been imported to project new_layout\n"
     ]
    },
    {
     "name": "stderr",
     "output_type": "stream",
     "text": [
      "INFO:Global:EDB folder C:\\Users\\ansys\\AppData\\Local\\Temp\\tmpsj3jay95.ansys\\new_layout.aedb has been imported to project new_layout\n"
     ]
    },
    {
     "name": "stdout",
     "output_type": "stream",
     "text": [
      "PyAEDT INFO: Active Design set to 0;Cell_5MNTXK\n"
     ]
    },
    {
     "name": "stderr",
     "output_type": "stream",
     "text": [
      "INFO:Global:Active Design set to 0;Cell_5MNTXK\n"
     ]
    },
    {
     "name": "stdout",
     "output_type": "stream",
     "text": [
      "PyAEDT INFO: Active Design set to 0;Cell_5MNTXK\n"
     ]
    },
    {
     "name": "stderr",
     "output_type": "stream",
     "text": [
      "INFO:Global:Active Design set to 0;Cell_5MNTXK\n"
     ]
    },
    {
     "name": "stdout",
     "output_type": "stream",
     "text": [
      "PyAEDT INFO: Aedt Objects correctly read\n"
     ]
    },
    {
     "name": "stderr",
     "output_type": "stream",
     "text": [
      "INFO:Global:Aedt Objects correctly read\n"
     ]
    }
   ],
   "source": [
    "h3d = Hfss3dLayout(aedb, version=AEDT_VERSION, non_graphical=NG_MODE, new_desktop=True)"
   ]
  },
  {
   "cell_type": "markdown",
   "id": "892dc683",
   "metadata": {},
   "source": [
    "## Place SMA RF connector"
   ]
  },
  {
   "cell_type": "code",
   "execution_count": 28,
   "id": "d4373654",
   "metadata": {
    "execution": {
     "iopub.execute_input": "2025-10-30T05:40:20.285450Z",
     "iopub.status.busy": "2025-10-30T05:40:20.285450Z",
     "iopub.status.idle": "2025-10-30T05:40:21.866451Z",
     "shell.execute_reply": "2025-10-30T05:40:21.866451Z"
    }
   },
   "outputs": [
    {
     "name": "stdout",
     "output_type": "stream",
     "text": [
      "PyAEDT INFO: Loading Modeler.\n"
     ]
    },
    {
     "name": "stderr",
     "output_type": "stream",
     "text": [
      "INFO:Global:Loading Modeler.\n"
     ]
    },
    {
     "name": "stdout",
     "output_type": "stream",
     "text": [
      "PyAEDT INFO: Modeler loaded.\n"
     ]
    },
    {
     "name": "stderr",
     "output_type": "stream",
     "text": [
      "INFO:Global:Modeler loaded.\n"
     ]
    },
    {
     "name": "stdout",
     "output_type": "stream",
     "text": [
      "PyAEDT INFO: EDB loaded.\n"
     ]
    },
    {
     "name": "stderr",
     "output_type": "stream",
     "text": [
      "INFO:Global:EDB loaded.\n"
     ]
    },
    {
     "name": "stdout",
     "output_type": "stream",
     "text": [
      "PyAEDT INFO: Layers loaded.\n"
     ]
    },
    {
     "name": "stderr",
     "output_type": "stream",
     "text": [
      "INFO:Global:Layers loaded.\n"
     ]
    },
    {
     "name": "stdout",
     "output_type": "stream",
     "text": [
      "PyAEDT INFO: Primitives loaded.\n"
     ]
    },
    {
     "name": "stderr",
     "output_type": "stream",
     "text": [
      "INFO:Global:Primitives loaded.\n"
     ]
    },
    {
     "name": "stdout",
     "output_type": "stream",
     "text": [
      "PyAEDT INFO: Modeler class has been initialized! Elapsed time: 0m 0sec\n"
     ]
    },
    {
     "name": "stderr",
     "output_type": "stream",
     "text": [
      "INFO:Global:Modeler class has been initialized! Elapsed time: 0m 0sec\n"
     ]
    }
   ],
   "source": [
    "comp = h3d.modeler.place_3d_component(\n",
    "    component_path=sma_rf_connector,\n",
    "    number_of_terminals=1,\n",
    "    placement_layer=\"TOP\",\n",
    "    component_name=\"sma_rf\",\n",
    "    pos_x=0,\n",
    "    pos_y=0,\n",
    "    create_ports=True,\n",
    ")\n",
    "comp.angle = \"90deg\""
   ]
  },
  {
   "cell_type": "markdown",
   "id": "41473bc0",
   "metadata": {},
   "source": [
    "## Run simulation"
   ]
  },
  {
   "cell_type": "code",
   "execution_count": 29,
   "id": "5ff30cdf",
   "metadata": {
    "execution": {
     "iopub.execute_input": "2025-10-30T05:40:21.866451Z",
     "iopub.status.busy": "2025-10-30T05:40:21.866451Z",
     "iopub.status.idle": "2025-10-30T05:41:43.513885Z",
     "shell.execute_reply": "2025-10-30T05:41:43.513885Z"
    }
   },
   "outputs": [
    {
     "name": "stdout",
     "output_type": "stream",
     "text": [
      "PyAEDT WARNING: Argument `num_cores` is deprecated for method `analyze`; use `cores` instead.\n"
     ]
    },
    {
     "name": "stderr",
     "output_type": "stream",
     "text": [
      "WARNING:Global:Argument `num_cores` is deprecated for method `analyze`; use `cores` instead.\n"
     ]
    },
    {
     "name": "stdout",
     "output_type": "stream",
     "text": [
      "PyAEDT INFO: Project new_layout Saved correctly\n"
     ]
    },
    {
     "name": "stderr",
     "output_type": "stream",
     "text": [
      "INFO:Global:Project new_layout Saved correctly\n"
     ]
    },
    {
     "name": "stdout",
     "output_type": "stream",
     "text": [
      "PyAEDT INFO: Key Desktop/ActiveDSOConfigurations/HFSS 3D Layout Design correctly changed.\n"
     ]
    },
    {
     "name": "stderr",
     "output_type": "stream",
     "text": [
      "INFO:Global:Key Desktop/ActiveDSOConfigurations/HFSS 3D Layout Design correctly changed.\n"
     ]
    },
    {
     "name": "stdout",
     "output_type": "stream",
     "text": [
      "PyAEDT INFO: Solving all design setups. Analysis started...\n"
     ]
    },
    {
     "name": "stderr",
     "output_type": "stream",
     "text": [
      "INFO:Global:Solving all design setups. Analysis started...\n"
     ]
    },
    {
     "name": "stdout",
     "output_type": "stream",
     "text": [
      "PyAEDT INFO: Design setup None solved correctly in 0.0h 1.0m 21.0s\n"
     ]
    },
    {
     "name": "stderr",
     "output_type": "stream",
     "text": [
      "INFO:Global:Design setup None solved correctly in 0.0h 1.0m 21.0s\n"
     ]
    },
    {
     "name": "stdout",
     "output_type": "stream",
     "text": [
      "PyAEDT INFO: Key Desktop/ActiveDSOConfigurations/HFSS 3D Layout Design correctly changed.\n"
     ]
    },
    {
     "name": "stderr",
     "output_type": "stream",
     "text": [
      "INFO:Global:Key Desktop/ActiveDSOConfigurations/HFSS 3D Layout Design correctly changed.\n"
     ]
    },
    {
     "data": {
      "text/plain": [
       "True"
      ]
     },
     "execution_count": 29,
     "metadata": {},
     "output_type": "execute_result"
    }
   ],
   "source": [
    "h3d.analyze(num_cores=4)"
   ]
  },
  {
   "cell_type": "markdown",
   "id": "a6542b68",
   "metadata": {},
   "source": [
    "## Visualize the return loss."
   ]
  },
  {
   "cell_type": "code",
   "execution_count": 30,
   "id": "32017e6d",
   "metadata": {
    "execution": {
     "iopub.execute_input": "2025-10-30T05:41:44.518577Z",
     "iopub.status.busy": "2025-10-30T05:41:44.516566Z",
     "iopub.status.idle": "2025-10-30T05:41:45.184599Z",
     "shell.execute_reply": "2025-10-30T05:41:45.183927Z"
    }
   },
   "outputs": [
    {
     "name": "stdout",
     "output_type": "stream",
     "text": [
      "PyAEDT INFO: Parsing C:\\Users\\ansys\\AppData\\Local\\Temp\\tmpsj3jay95.ansys\\new_layout.aedt.\n"
     ]
    },
    {
     "name": "stderr",
     "output_type": "stream",
     "text": [
      "INFO:Global:Parsing C:\\Users\\ansys\\AppData\\Local\\Temp\\tmpsj3jay95.ansys\\new_layout.aedt.\n"
     ]
    },
    {
     "name": "stdout",
     "output_type": "stream",
     "text": [
      "PyAEDT INFO: File C:\\Users\\ansys\\AppData\\Local\\Temp\\tmpsj3jay95.ansys\\new_layout.aedt correctly loaded. Elapsed time: 0m 0sec\n"
     ]
    },
    {
     "name": "stderr",
     "output_type": "stream",
     "text": [
      "INFO:Global:File C:\\Users\\ansys\\AppData\\Local\\Temp\\tmpsj3jay95.ansys\\new_layout.aedt correctly loaded. Elapsed time: 0m 0sec\n"
     ]
    },
    {
     "name": "stdout",
     "output_type": "stream",
     "text": [
      "PyAEDT INFO: aedt file load time 0.031255245208740234\n"
     ]
    },
    {
     "name": "stderr",
     "output_type": "stream",
     "text": [
      "INFO:Global:aedt file load time 0.031255245208740234\n"
     ]
    },
    {
     "name": "stdout",
     "output_type": "stream",
     "text": [
      "PyAEDT INFO: PostProcessor class has been initialized! Elapsed time: 0m 0sec\n"
     ]
    },
    {
     "name": "stderr",
     "output_type": "stream",
     "text": [
      "INFO:Global:PostProcessor class has been initialized! Elapsed time: 0m 0sec\n"
     ]
    },
    {
     "name": "stdout",
     "output_type": "stream",
     "text": [
      "PyAEDT INFO: Post class has been initialized! Elapsed time: 0m 0sec\n"
     ]
    },
    {
     "name": "stderr",
     "output_type": "stream",
     "text": [
      "INFO:Global:Post class has been initialized! Elapsed time: 0m 0sec\n"
     ]
    },
    {
     "name": "stdout",
     "output_type": "stream",
     "text": [
      "PyEDB INFO: Star initializing Edb 05:41:44.965423\n"
     ]
    },
    {
     "name": "stderr",
     "output_type": "stream",
     "text": [
      "C:\\actions-runner\\_work\\pyaedt-examples\\pyaedt-examples\\.venv\\lib\\site-packages\\pyedb\\generic\\design_types.py:301: UserWarning: Your ANSYS AEDT version is eligible to gRPC version.You might consider switching to that version for better user experience.For more information please check this link: https://edb.docs.pyansys.com/version/dev/grpc_api/index.html\n",
      "  warnings.warn(GRPC_GENERAL_WARNING, UserWarning)\n",
      "INFO:Edb:Star initializing Edb 05:41:44.965423\n"
     ]
    },
    {
     "name": "stdout",
     "output_type": "stream",
     "text": [
      "PyEDB INFO: Edb version 2025.2\n"
     ]
    },
    {
     "name": "stderr",
     "output_type": "stream",
     "text": [
      "INFO:Edb:Edb version 2025.2\n"
     ]
    },
    {
     "name": "stdout",
     "output_type": "stream",
     "text": [
      "PyEDB INFO: Logger is initialized. Log file is saved to C:\\Users\\ansys\\AppData\\Local\\Temp\\pyedb_ansys.log.\n"
     ]
    },
    {
     "name": "stderr",
     "output_type": "stream",
     "text": [
      "INFO:Edb:Logger is initialized. Log file is saved to C:\\Users\\ansys\\AppData\\Local\\Temp\\pyedb_ansys.log.\n"
     ]
    },
    {
     "name": "stdout",
     "output_type": "stream",
     "text": [
      "PyEDB INFO: legacy v0.61.0\n"
     ]
    },
    {
     "name": "stderr",
     "output_type": "stream",
     "text": [
      "INFO:Edb:legacy v0.61.0\n"
     ]
    },
    {
     "name": "stdout",
     "output_type": "stream",
     "text": [
      "PyEDB INFO: Python version 3.10.11 (tags/v3.10.11:7d4cc5a, Apr  5 2023, 00:38:17) [MSC v.1929 64 bit (AMD64)]\n"
     ]
    },
    {
     "name": "stderr",
     "output_type": "stream",
     "text": [
      "INFO:Edb:Python version 3.10.11 (tags/v3.10.11:7d4cc5a, Apr  5 2023, 00:38:17) [MSC v.1929 64 bit (AMD64)]\n"
     ]
    },
    {
     "name": "stdout",
     "output_type": "stream",
     "text": [
      "PyEDB INFO: Database new_layout.aedb Opened in 2025.2\n"
     ]
    },
    {
     "name": "stderr",
     "output_type": "stream",
     "text": [
      "INFO:Edb:Database new_layout.aedb Opened in 2025.2\n"
     ]
    },
    {
     "name": "stdout",
     "output_type": "stream",
     "text": [
      "PyEDB INFO: Cell Cell_5MNTXK Opened\n"
     ]
    },
    {
     "name": "stderr",
     "output_type": "stream",
     "text": [
      "INFO:Edb:Cell Cell_5MNTXK Opened\n"
     ]
    },
    {
     "name": "stdout",
     "output_type": "stream",
     "text": [
      "PyEDB INFO: Builder was initialized.\n"
     ]
    },
    {
     "name": "stderr",
     "output_type": "stream",
     "text": [
      "INFO:Edb:Builder was initialized.\n"
     ]
    },
    {
     "name": "stdout",
     "output_type": "stream",
     "text": [
      "PyEDB INFO: open_edb completed in 0.0167 seconds.\n"
     ]
    },
    {
     "name": "stderr",
     "output_type": "stream",
     "text": [
      "INFO:Edb:open_edb completed in 0.0167 seconds.\n"
     ]
    },
    {
     "name": "stdout",
     "output_type": "stream",
     "text": [
      "PyEDB INFO: EDB initialization completed in 0.0289 seconds.\n"
     ]
    },
    {
     "name": "stderr",
     "output_type": "stream",
     "text": [
      "INFO:Edb:EDB initialization completed in 0.0289 seconds.\n"
     ]
    },
    {
     "name": "stdout",
     "output_type": "stream",
     "text": [
      "PyAEDT ERROR: Failed to create traces on the report. Check input parameters\n"
     ]
    },
    {
     "name": "stderr",
     "output_type": "stream",
     "text": [
      "ERROR:Global:Failed to create traces on the report. Check input parameters\n"
     ]
    },
    {
     "data": {
      "text/plain": [
       "False"
      ]
     },
     "execution_count": 30,
     "metadata": {},
     "output_type": "execute_result"
    }
   ],
   "source": [
    "h3d.post.create_report(\"dB(S(port_1, port_1))\")"
   ]
  },
  {
   "cell_type": "markdown",
   "id": "42487515",
   "metadata": {},
   "source": [
    "-"
   ]
  },
  {
   "cell_type": "markdown",
   "id": "4d138e2a",
   "metadata": {
    "lines_to_next_cell": 2
   },
   "source": [
    "## Create Field Plot on clip plane"
   ]
  },
  {
   "cell_type": "code",
   "execution_count": 31,
   "id": "b7914b04",
   "metadata": {
    "execution": {
     "iopub.execute_input": "2025-10-30T05:41:47.201322Z",
     "iopub.status.busy": "2025-10-30T05:41:47.201322Z",
     "iopub.status.idle": "2025-10-30T05:41:47.216482Z",
     "shell.execute_reply": "2025-10-30T05:41:47.216482Z"
    }
   },
   "outputs": [],
   "source": [
    "# solutions = h3d.get_touchstone_data()[0]\n",
    "# solutions.log_x = False\n",
    "# solutions.plot()\n",
    "cp_name = h3d.modeler.clip_plane()"
   ]
  },
  {
   "cell_type": "code",
   "execution_count": 32,
   "id": "c76e57a4",
   "metadata": {
    "execution": {
     "iopub.execute_input": "2025-10-30T05:41:47.216482Z",
     "iopub.status.busy": "2025-10-30T05:41:47.216482Z",
     "iopub.status.idle": "2025-10-30T05:41:47.364028Z",
     "shell.execute_reply": "2025-10-30T05:41:47.364028Z"
    }
   },
   "outputs": [
    {
     "name": "stdout",
     "output_type": "stream",
     "text": [
      "PyAEDT INFO: Active Design set to 0;Cell_5MNTXK\n"
     ]
    },
    {
     "name": "stderr",
     "output_type": "stream",
     "text": [
      "INFO:Global:Active Design set to 0;Cell_5MNTXK\n"
     ]
    }
   ],
   "source": [
    "plot = h3d.post.create_fieldplot_cutplane(\n",
    "    cp_name, \"Mag_E\", h3d.nominal_adaptive, intrinsics={\"Freq\": \"5GHz\", \"Phase\": \"0deg\"}\n",
    ")"
   ]
  },
  {
   "cell_type": "markdown",
   "id": "8a6500a2",
   "metadata": {},
   "source": [
    "## Release AEDT"
   ]
  },
  {
   "cell_type": "code",
   "execution_count": 33,
   "id": "8ced49ea",
   "metadata": {
    "execution": {
     "iopub.execute_input": "2025-10-30T05:41:47.364028Z",
     "iopub.status.busy": "2025-10-30T05:41:47.364028Z",
     "iopub.status.idle": "2025-10-30T05:42:12.286349Z",
     "shell.execute_reply": "2025-10-30T05:42:12.286349Z"
    }
   },
   "outputs": [
    {
     "name": "stdout",
     "output_type": "stream",
     "text": [
      "PyAEDT INFO: Project new_layout Saved correctly\n"
     ]
    },
    {
     "name": "stderr",
     "output_type": "stream",
     "text": [
      "INFO:Global:Project new_layout Saved correctly\n"
     ]
    },
    {
     "name": "stdout",
     "output_type": "stream",
     "text": [
      "PyAEDT INFO: Desktop has been released and closed.\n"
     ]
    },
    {
     "name": "stderr",
     "output_type": "stream",
     "text": [
      "INFO:Global:Desktop has been released and closed.\n"
     ]
    }
   ],
   "source": [
    "h3d.save_project()\n",
    "h3d.release_desktop()\n",
    "# Wait 3 seconds to allow AEDT to shut down before cleaning the temporary directory.\n",
    "time.sleep(3)"
   ]
  },
  {
   "cell_type": "markdown",
   "id": "49e8b4e0",
   "metadata": {},
   "source": [
    "## Clean up\n",
    "\n",
    "All project files are saved in the folder ``temp_dir.name``.\n",
    "If you've run this example as a Jupyter notebook, you\n",
    "can retrieve those project files. The following cell\n",
    "removes all temporary files, including the project folder."
   ]
  },
  {
   "cell_type": "code",
   "execution_count": 34,
   "id": "9559913a",
   "metadata": {
    "execution": {
     "iopub.execute_input": "2025-10-30T05:42:14.302857Z",
     "iopub.status.busy": "2025-10-30T05:42:14.302857Z",
     "iopub.status.idle": "2025-10-30T05:42:14.351217Z",
     "shell.execute_reply": "2025-10-30T05:42:14.351217Z"
    }
   },
   "outputs": [],
   "source": [
    "temp_folder.cleanup()"
   ]
  }
 ],
 "metadata": {
  "jupytext": {
   "cell_metadata_filter": "-all",
   "main_language": "python",
   "notebook_metadata_filter": "-all"
  },
  "language_info": {
   "codemirror_mode": {
    "name": "ipython",
    "version": 3
   },
   "file_extension": ".py",
   "mimetype": "text/x-python",
   "name": "python",
   "nbconvert_exporter": "python",
   "pygments_lexer": "ipython3",
   "version": "3.10.11"
  }
 },
 "nbformat": 4,
 "nbformat_minor": 5
}
