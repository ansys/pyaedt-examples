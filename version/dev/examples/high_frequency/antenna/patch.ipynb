{
 "cells": [
  {
   "cell_type": "markdown",
   "id": "a249470b",
   "metadata": {},
   "source": [
    "# Probe-fed patch antenna\n",
    "\n",
    "This example demonstrates how the ``Stackup3D`` class\n",
    "can be used\n",
    "to create and analyze a patch antenna in HFSS.\n",
    "\n",
    "Note that the HFSS 3D Layout interface may offer advantages for\n",
    "laminate structures such as the patch antenna.\n",
    "\n",
    "Keywords: **HFSS**, **terminal**, **antenna**., **patch**.\n",
    "\n",
    "## Perform imports and define constants\n",
    "\n",
    "Perform required imports."
   ]
  },
  {
   "cell_type": "markdown",
   "id": "d77df15f",
   "metadata": {},
   "source": [
    "## Prerequisites\n",
    "\n",
    "### Perform imports"
   ]
  },
  {
   "cell_type": "code",
   "execution_count": 1,
   "id": "f704d731",
   "metadata": {
    "execution": {
     "iopub.execute_input": "2025-10-30T05:05:13.294167Z",
     "iopub.status.busy": "2025-10-30T05:05:13.294167Z",
     "iopub.status.idle": "2025-10-30T05:05:16.348312Z",
     "shell.execute_reply": "2025-10-30T05:05:16.348312Z"
    }
   },
   "outputs": [],
   "source": [
    "import os\n",
    "import tempfile\n",
    "import time\n",
    "\n",
    "import ansys.aedt.core\n",
    "from ansys.aedt.core.modeler.advanced_cad.stackup_3d import Stackup3D"
   ]
  },
  {
   "cell_type": "markdown",
   "id": "517fd428",
   "metadata": {},
   "source": [
    "### Define constants\n",
    "Constants help ensure consistency and avoid repetition throughout the example."
   ]
  },
  {
   "cell_type": "code",
   "execution_count": 2,
   "id": "bddd900a",
   "metadata": {
    "execution": {
     "iopub.execute_input": "2025-10-30T05:05:16.348312Z",
     "iopub.status.busy": "2025-10-30T05:05:16.348312Z",
     "iopub.status.idle": "2025-10-30T05:05:16.364271Z",
     "shell.execute_reply": "2025-10-30T05:05:16.364271Z"
    }
   },
   "outputs": [],
   "source": [
    "AEDT_VERSION = \"2025.2\"\n",
    "NUM_CORES = 4\n",
    "NG_MODE = False  # Open AEDT UI when it is launched."
   ]
  },
  {
   "cell_type": "markdown",
   "id": "4e1d8855",
   "metadata": {},
   "source": [
    "### Create temporary directory\n",
    "\n",
    "Create a temporary working directory.\n",
    "The name of the working folder is stored in ``temp_folder.name``.\n",
    "\n",
    "> **Note:** The final cell in the notebook cleans up the temporary folder. If you want to\n",
    "> retrieve the AEDT project and data, do so before executing the final cell in the notebook."
   ]
  },
  {
   "cell_type": "code",
   "execution_count": 3,
   "id": "3a5b7217",
   "metadata": {
    "execution": {
     "iopub.execute_input": "2025-10-30T05:05:16.364271Z",
     "iopub.status.busy": "2025-10-30T05:05:16.364271Z",
     "iopub.status.idle": "2025-10-30T05:05:16.380339Z",
     "shell.execute_reply": "2025-10-30T05:05:16.380339Z"
    }
   },
   "outputs": [],
   "source": [
    "temp_folder = tempfile.TemporaryDirectory(suffix=\".ansys\")"
   ]
  },
  {
   "cell_type": "markdown",
   "id": "522ad705",
   "metadata": {},
   "source": [
    "### Launch HFSS\n",
    "\n",
    "Create an instance of the ``Hfss`` class. The HFSS application will be launched."
   ]
  },
  {
   "cell_type": "code",
   "execution_count": 4,
   "id": "839153a2",
   "metadata": {
    "execution": {
     "iopub.execute_input": "2025-10-30T05:05:16.380339Z",
     "iopub.status.busy": "2025-10-30T05:05:16.380339Z",
     "iopub.status.idle": "2025-10-30T05:05:56.484706Z",
     "shell.execute_reply": "2025-10-30T05:05:56.484706Z"
    }
   },
   "outputs": [
    {
     "name": "stdout",
     "output_type": "stream",
     "text": [
      "PyAEDT INFO: Python version 3.10.11 (tags/v3.10.11:7d4cc5a, Apr  5 2023, 00:38:17) [MSC v.1929 64 bit (AMD64)].\n"
     ]
    },
    {
     "name": "stdout",
     "output_type": "stream",
     "text": [
      "PyAEDT INFO: PyAEDT version 0.22.dev0.\n"
     ]
    },
    {
     "name": "stdout",
     "output_type": "stream",
     "text": [
      "PyAEDT INFO: Initializing new Desktop session.\n"
     ]
    },
    {
     "name": "stdout",
     "output_type": "stream",
     "text": [
      "PyAEDT INFO: Log on console is enabled.\n"
     ]
    },
    {
     "name": "stdout",
     "output_type": "stream",
     "text": [
      "PyAEDT INFO: Log on file C:\\Users\\ansys\\AppData\\Local\\Temp\\pyaedt_ansys_1a89ab41-6d47-490a-884c-f1574d8feb72.log is enabled.\n"
     ]
    },
    {
     "name": "stdout",
     "output_type": "stream",
     "text": [
      "PyAEDT INFO: Log on AEDT is disabled.\n"
     ]
    },
    {
     "name": "stdout",
     "output_type": "stream",
     "text": [
      "PyAEDT INFO: Debug logger is disabled. PyAEDT methods will not be logged.\n"
     ]
    },
    {
     "name": "stdout",
     "output_type": "stream",
     "text": [
      "PyAEDT INFO: Launching PyAEDT with gRPC plugin.\n"
     ]
    },
    {
     "name": "stdout",
     "output_type": "stream",
     "text": [
      "PyAEDT INFO: New AEDT session is starting on gRPC port 54555.\n"
     ]
    },
    {
     "name": "stdout",
     "output_type": "stream",
     "text": [
      "PyAEDT INFO: Electronics Desktop started on gRPC port: 54555 after 11.853800058364868 seconds.\n"
     ]
    },
    {
     "name": "stdout",
     "output_type": "stream",
     "text": [
      "PyAEDT INFO: AEDT installation Path C:\\Program Files\\ANSYS Inc\\v252\\AnsysEM\n"
     ]
    },
    {
     "name": "stdout",
     "output_type": "stream",
     "text": [
      "PyAEDT INFO: Ansoft.ElectronicsDesktop.2025.2 version started with process ID 5264.\n"
     ]
    },
    {
     "name": "stdout",
     "output_type": "stream",
     "text": [
      "PyAEDT INFO: Project patch has been created.\n"
     ]
    },
    {
     "name": "stdout",
     "output_type": "stream",
     "text": [
      "PyAEDT INFO: Added design 'patch' of type HFSS.\n"
     ]
    },
    {
     "name": "stdout",
     "output_type": "stream",
     "text": [
      "PyAEDT INFO: Aedt Objects correctly read\n"
     ]
    }
   ],
   "source": [
    "project_name = os.path.join(temp_folder.name, \"patch.aedt\")\n",
    "hfss = ansys.aedt.core.Hfss(\n",
    "    project=project_name,\n",
    "    solution_type=\"Terminal\",\n",
    "    design=\"patch\",\n",
    "    non_graphical=NG_MODE,\n",
    "    new_desktop=True,\n",
    "    version=AEDT_VERSION,\n",
    ")"
   ]
  },
  {
   "cell_type": "markdown",
   "id": "f8b19855",
   "metadata": {},
   "source": [
    "### Specify units\n",
    "Length units can be applied to the modeler in HFSS. The default frequency units, howver, cannot be modified through the Python interface.\n",
    "\n",
    "The variable ``freq_units`` can be used throughout this example to ensure that frequency assignments are consistent with the specified units."
   ]
  },
  {
   "cell_type": "code",
   "execution_count": 5,
   "id": "efc551e1",
   "metadata": {
    "execution": {
     "iopub.execute_input": "2025-10-30T05:05:56.484706Z",
     "iopub.status.busy": "2025-10-30T05:05:56.484706Z",
     "iopub.status.idle": "2025-10-30T05:05:57.435925Z",
     "shell.execute_reply": "2025-10-30T05:05:57.435925Z"
    }
   },
   "outputs": [
    {
     "name": "stdout",
     "output_type": "stream",
     "text": [
      "PyAEDT INFO: Modeler class has been initialized! Elapsed time: 0m 1sec\n"
     ]
    }
   ],
   "source": [
    "length_units = \"mm\"\n",
    "freq_units = \"GHz\"\n",
    "hfss.modeler.model_units = length_units"
   ]
  },
  {
   "cell_type": "markdown",
   "id": "61f2e8e2",
   "metadata": {},
   "source": [
    "### Create patch antenna\n",
    "\n",
    "The patch antenna is comprised of a ground layer, the dielectric\n",
    "substrate and a top signal layer where the patch antenna resides."
   ]
  },
  {
   "cell_type": "code",
   "execution_count": 6,
   "id": "6ed7fd55",
   "metadata": {
    "execution": {
     "iopub.execute_input": "2025-10-30T05:05:57.439940Z",
     "iopub.status.busy": "2025-10-30T05:05:57.439940Z",
     "iopub.status.idle": "2025-10-30T05:06:01.505240Z",
     "shell.execute_reply": "2025-10-30T05:06:01.505240Z"
    }
   },
   "outputs": [
    {
     "name": "stdout",
     "output_type": "stream",
     "text": [
      "PyAEDT INFO: Materials class has been initialized! Elapsed time: 0m 0sec\n"
     ]
    },
    {
     "name": "stdout",
     "output_type": "stream",
     "text": [
      "PyAEDT WARNING: The closer the ratio between wave length and the width is to 1, the less correct the impedance calculation is\n"
     ]
    },
    {
     "name": "stdout",
     "output_type": "stream",
     "text": [
      "PyAEDT INFO: Boundary Radiation Rad__G5MTFN has been created.\n"
     ]
    },
    {
     "name": "stdout",
     "output_type": "stream",
     "text": [
      "PyAEDT INFO: Boundary Perfect E Probe_PEC has been created.\n"
     ]
    },
    {
     "name": "stdout",
     "output_type": "stream",
     "text": [
      "PyAEDT INFO: Boundary AutoIdentify Probe_Port has been created.\n"
     ]
    }
   ],
   "source": [
    "stackup = Stackup3D(hfss)\n",
    "ground = stackup.add_ground_layer(\n",
    "    \"ground\", material=\"copper\", thickness=0.035, fill_material=\"air\"\n",
    ")\n",
    "dielectric = stackup.add_dielectric_layer(\n",
    "    \"dielectric\", thickness=\"0.5\" + length_units, material=\"Duroid (tm)\"\n",
    ")\n",
    "signal = stackup.add_signal_layer(\n",
    "    \"signal\", material=\"copper\", thickness=0.035, fill_material=\"air\"\n",
    ")\n",
    "patch = signal.add_patch(\n",
    "    patch_length=9.57, patch_width=9.25, patch_name=\"Patch\", frequency=1e10\n",
    ")\n",
    "\n",
    "stackup.resize_around_element(patch)\n",
    "pad_length = [3, 3, 3, 3, 3, 3]  # Air bounding box buffer in mm.\n",
    "region = hfss.modeler.create_region(pad_length, is_percentage=False)\n",
    "hfss.assign_radiation_boundary_to_objects(region)\n",
    "\n",
    "patch.create_probe_port(ground, rel_x_offset=0.485)"
   ]
  },
  {
   "cell_type": "markdown",
   "id": "f07c9865",
   "metadata": {},
   "source": [
    "### Patch antenna model\n",
    "<img src=\"_static/patch.svg\" width=\"500\">\n",
    "The patch antenna model should look similar to this image. The length, width\n",
    "and probe x-offset are shown in the image.\n",
    "\n",
    "### Define solution setup\n",
    "The solution setup specifies details used to run\n",
    "the finite element analysis in HFSS. The following specifies that adaptive refinement occur at 10 GHz while all other settings are set to\n",
    "default values. \n",
    "\n",
    "The frequency sweep is used to specify the range over which scattering\n",
    "parameters will be calculated."
   ]
  },
  {
   "cell_type": "code",
   "execution_count": 7,
   "id": "d2dd8606",
   "metadata": {
    "execution": {
     "iopub.execute_input": "2025-10-30T05:06:01.505240Z",
     "iopub.status.busy": "2025-10-30T05:06:01.505240Z",
     "iopub.status.idle": "2025-10-30T05:06:01.821862Z",
     "shell.execute_reply": "2025-10-30T05:06:01.821862Z"
    }
   },
   "outputs": [
    {
     "name": "stdout",
     "output_type": "stream",
     "text": [
      "PyAEDT INFO: Parsing C:\\Users\\ansys\\AppData\\Local\\Temp\\tmpo2f13xqh.ansys\\patch.aedt.\n"
     ]
    },
    {
     "name": "stdout",
     "output_type": "stream",
     "text": [
      "PyAEDT INFO: File C:\\Users\\ansys\\AppData\\Local\\Temp\\tmpo2f13xqh.ansys\\patch.aedt correctly loaded. Elapsed time: 0m 0sec\n"
     ]
    },
    {
     "name": "stdout",
     "output_type": "stream",
     "text": [
      "PyAEDT INFO: aedt file load time 0.0\n"
     ]
    },
    {
     "name": "stdout",
     "output_type": "stream",
     "text": [
      "PyAEDT INFO: Linear count sweep Sweep1 has been correctly created\n"
     ]
    },
    {
     "name": "stdout",
     "output_type": "stream",
     "text": [
      "PyAEDT INFO: Project patch Saved correctly\n"
     ]
    },
    {
     "data": {
      "text/plain": [
       "True"
      ]
     },
     "execution_count": 7,
     "metadata": {},
     "output_type": "execute_result"
    }
   ],
   "source": [
    "setup = hfss.create_setup(name=\"Setup1\", setup_type=\"HFSSDriven\", Frequency=\"10GHz\")\n",
    "\n",
    "setup.create_frequency_sweep(\n",
    "    unit=\"GHz\",\n",
    "    name=\"Sweep1\",\n",
    "    start_frequency=8,\n",
    "    stop_frequency=12,\n",
    "    sweep_type=\"Interpolating\",\n",
    ")\n",
    "\n",
    "hfss.save_project()  # Save the project."
   ]
  },
  {
   "cell_type": "markdown",
   "id": "a0916ce3",
   "metadata": {},
   "source": [
    "The `hfss` instance allows you to query or modify nearly all \n",
    "properties of the HFSS design. Here is a simple example demonstrating how to query\n",
    "information from the ``hfss`` instance."
   ]
  },
  {
   "cell_type": "code",
   "execution_count": 8,
   "id": "e671bbed",
   "metadata": {
    "execution": {
     "iopub.execute_input": "2025-10-30T05:06:01.821862Z",
     "iopub.status.busy": "2025-10-30T05:06:01.821862Z",
     "iopub.status.idle": "2025-10-30T05:06:01.869137Z",
     "shell.execute_reply": "2025-10-30T05:06:01.869137Z"
    }
   },
   "outputs": [
    {
     "name": "stdout",
     "output_type": "stream",
     "text": [
      "We have created a patch antennausing PyAEDT.\n",
      "\n",
      "The project file is located at \n",
      "'C:\\Users\\ansys\\AppData\\Local\\Temp\\tmpo2f13xqh.ansys\\patch.aedt'.\n",
      "\n",
      "The HFSS design is named 'patch'\n",
      "and is comprised of 9 objects whose names are:\n",
      "\n",
      "- 'ground'\n",
      "- 'dielectric'\n",
      "- 'signal'\n",
      "- 'Patch'\n",
      "- 'Region'\n",
      "- 'Probe'\n",
      "- 'Probe_feed_wire'\n",
      "- 'Probe_feed_outer'\n",
      "- 'Probe_feed_outer_ObjectFromFace1'\n",
      "\n"
     ]
    }
   ],
   "source": [
    "message = \"We have created a patch antenna\"\n",
    "message += \"using PyAEDT.\\n\\nThe project file is \"\n",
    "message += f\"located at \\n'{hfss.project_file}'.\\n\"\n",
    "message += f\"\\nThe HFSS design is named '{hfss.design_name}'\\n\"\n",
    "message += f\"and is comprised of \"\n",
    "message += f\"{len(hfss.modeler.objects)} objects whose names are:\\n\\n\"\n",
    "message += \"\".join([f\"- '{o.name}'\\n\" for _, o in hfss.modeler.objects.items()])\n",
    "print(message)"
   ]
  },
  {
   "cell_type": "markdown",
   "id": "0111478c",
   "metadata": {},
   "source": [
    "Try using the Python ``dir()`` and ``help()`` methods to learn more about PyAEDT."
   ]
  },
  {
   "cell_type": "markdown",
   "id": "1f785169",
   "metadata": {},
   "source": [
    "### Run analysis\n",
    "\n",
    "The following command runs the EM analysis in HFSS."
   ]
  },
  {
   "cell_type": "code",
   "execution_count": 9,
   "id": "cb149742",
   "metadata": {
    "execution": {
     "iopub.execute_input": "2025-10-30T05:06:01.869137Z",
     "iopub.status.busy": "2025-10-30T05:06:01.869137Z",
     "iopub.status.idle": "2025-10-30T05:07:06.697656Z",
     "shell.execute_reply": "2025-10-30T05:07:06.697656Z"
    }
   },
   "outputs": [
    {
     "name": "stdout",
     "output_type": "stream",
     "text": [
      "PyAEDT INFO: Project patch Saved correctly\n"
     ]
    },
    {
     "name": "stdout",
     "output_type": "stream",
     "text": [
      "PyAEDT INFO: Key Desktop/ActiveDSOConfigurations/HFSS correctly changed.\n"
     ]
    },
    {
     "name": "stdout",
     "output_type": "stream",
     "text": [
      "PyAEDT INFO: Solving all design setups. Analysis started...\n"
     ]
    },
    {
     "name": "stdout",
     "output_type": "stream",
     "text": [
      "PyAEDT INFO: Design setup None solved correctly in 0.0h 1.0m 5.0s\n"
     ]
    },
    {
     "name": "stdout",
     "output_type": "stream",
     "text": [
      "PyAEDT INFO: Key Desktop/ActiveDSOConfigurations/HFSS correctly changed.\n"
     ]
    },
    {
     "data": {
      "text/plain": [
       "True"
      ]
     },
     "execution_count": 9,
     "metadata": {},
     "output_type": "execute_result"
    }
   ],
   "source": [
    "hfss.analyze(cores=NUM_CORES)"
   ]
  },
  {
   "cell_type": "markdown",
   "id": "39d6d603",
   "metadata": {},
   "source": [
    "## Postprocessing\n",
    "\n",
    "### Plot the return loss"
   ]
  },
  {
   "cell_type": "code",
   "execution_count": 10,
   "id": "a3835550",
   "metadata": {
    "execution": {
     "iopub.execute_input": "2025-10-30T05:07:06.697656Z",
     "iopub.status.busy": "2025-10-30T05:07:06.697656Z",
     "iopub.status.idle": "2025-10-30T05:07:08.648551Z",
     "shell.execute_reply": "2025-10-30T05:07:08.647979Z"
    }
   },
   "outputs": [
    {
     "name": "stdout",
     "output_type": "stream",
     "text": [
      "PyAEDT INFO: Parsing C:\\Users\\ansys\\AppData\\Local\\Temp\\tmpo2f13xqh.ansys\\patch.aedt.\n"
     ]
    },
    {
     "name": "stdout",
     "output_type": "stream",
     "text": [
      "PyAEDT INFO: File C:\\Users\\ansys\\AppData\\Local\\Temp\\tmpo2f13xqh.ansys\\patch.aedt correctly loaded. Elapsed time: 0m 0sec\n"
     ]
    },
    {
     "name": "stdout",
     "output_type": "stream",
     "text": [
      "PyAEDT INFO: aedt file load time 0.02613997459411621\n"
     ]
    },
    {
     "name": "stdout",
     "output_type": "stream",
     "text": [
      "PyAEDT INFO: PostProcessor class has been initialized! Elapsed time: 0m 0sec\n"
     ]
    },
    {
     "name": "stdout",
     "output_type": "stream",
     "text": [
      "PyAEDT INFO: PostProcessor class has been initialized! Elapsed time: 0m 0sec\n"
     ]
    },
    {
     "name": "stdout",
     "output_type": "stream",
     "text": [
      "PyAEDT INFO: Post class has been initialized! Elapsed time: 0m 0sec\n"
     ]
    },
    {
     "name": "stdout",
     "output_type": "stream",
     "text": [
      "PyAEDT INFO: Solution Data Correctly Loaded.\n"
     ]
    },
    {
     "name": "stdout",
     "output_type": "stream",
     "text": [
      "Time to initialize solution data:0.07979869842529297\n",
      "Time to initialize solution data:0.08038568496704102\n"
     ]
    },
    {
     "data": {
      "image/png": "[encoded data removed]",
      "text/plain": [
       "<Figure size 1920x1440 with 2 Axes>"
      ]
     },
     "metadata": {},
     "output_type": "display_data"
    }
   ],
   "source": [
    "plot_data = hfss.get_traces_for_plot()\n",
    "report = hfss.post.create_report(plot_data)\n",
    "solution = report.get_solution_data()\n",
    "plt = solution.plot(solution.expressions)"
   ]
  },
  {
   "cell_type": "markdown",
   "id": "e6f139f1",
   "metadata": {},
   "source": [
    "## Finish\n",
    "\n",
    "### Save the project"
   ]
  },
  {
   "cell_type": "code",
   "execution_count": 11,
   "id": "b7250aad",
   "metadata": {
    "execution": {
     "iopub.execute_input": "2025-10-30T05:07:08.648551Z",
     "iopub.status.busy": "2025-10-30T05:07:08.648551Z",
     "iopub.status.idle": "2025-10-30T05:07:35.386892Z",
     "shell.execute_reply": "2025-10-30T05:07:35.386892Z"
    }
   },
   "outputs": [
    {
     "name": "stdout",
     "output_type": "stream",
     "text": [
      "PyAEDT INFO: Project patch Saved correctly\n"
     ]
    },
    {
     "name": "stdout",
     "output_type": "stream",
     "text": [
      "PyAEDT INFO: Desktop has been released and closed.\n"
     ]
    }
   ],
   "source": [
    "hfss.save_project()\n",
    "hfss.release_desktop()\n",
    "# Wait 3 seconds to allow AEDT to shut down before cleaning the temporary directory.\n",
    "time.sleep(3)"
   ]
  },
  {
   "cell_type": "markdown",
   "id": "dc952125",
   "metadata": {},
   "source": [
    "### Clean up\n",
    "\n",
    "All project files are saved in the folder ``temp_folder.name``.\n",
    "If you've run this example as a Jupyter notebook, you\n",
    "can retrieve those project files. The following cell removes\n",
    "all temporary files, including the project folder."
   ]
  },
  {
   "cell_type": "code",
   "execution_count": 12,
   "id": "26771ce2",
   "metadata": {
    "execution": {
     "iopub.execute_input": "2025-10-30T05:07:35.386892Z",
     "iopub.status.busy": "2025-10-30T05:07:35.386892Z",
     "iopub.status.idle": "2025-10-30T05:07:35.450194Z",
     "shell.execute_reply": "2025-10-30T05:07:35.450194Z"
    }
   },
   "outputs": [],
   "source": [
    "temp_folder.cleanup()"
   ]
  }
 ],
 "metadata": {
  "jupytext": {
   "cell_metadata_filter": "-all",
   "main_language": "python",
   "notebook_metadata_filter": "-all"
  },
  "language_info": {
   "codemirror_mode": {
    "name": "ipython",
    "version": 3
   },
   "file_extension": ".py",
   "mimetype": "text/x-python",
   "name": "python",
   "nbconvert_exporter": "python",
   "pygments_lexer": "ipython3",
   "version": "3.10.11"
  }
 },
 "nbformat": 4,
 "nbformat_minor": 5
}
