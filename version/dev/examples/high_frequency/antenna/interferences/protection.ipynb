{
 "cells": [
  {
   "cell_type": "markdown",
   "id": "2e31db1d",
   "metadata": {},
   "source": [
    "# Compute receiver protection levels\n",
    "\n",
    "This example shows how to open an AEDT project with\n",
    "an EMIT design and analyze the results to determine if the received\n",
    "power at the input to each receiver exceeds the specified protection\n",
    "levels.\n",
    "\n",
    "Keywords: **EMIT**, **protection levels**."
   ]
  },
  {
   "cell_type": "markdown",
   "id": "eadd3cc5",
   "metadata": {},
   "source": [
    "## Perform imports and define constants\n"
   ]
  },
  {
   "cell_type": "code",
   "execution_count": 1,
   "id": "b37aa428",
   "metadata": {
    "execution": {
     "iopub.execute_input": "2025-10-30T04:55:16.711229Z",
     "iopub.status.busy": "2025-10-30T04:55:16.711229Z",
     "iopub.status.idle": "2025-10-30T04:55:19.635906Z",
     "shell.execute_reply": "2025-10-30T04:55:19.635906Z"
    }
   },
   "outputs": [],
   "source": [
    "import os\n",
    "import sys\n",
    "import tempfile\n",
    "import time\n",
    "\n",
    "import plotly.graph_objects as go\n",
    "from ansys.aedt.core import Emit"
   ]
  },
  {
   "cell_type": "markdown",
   "id": "b35f65f1",
   "metadata": {},
   "source": [
    "from ansys.aedt.core.emit_core.emit_constants import \\\n",
    "    InterfererType  # noqa: F401"
   ]
  },
  {
   "cell_type": "markdown",
   "id": "4c4bdda8",
   "metadata": {},
   "source": [
    "Define constants."
   ]
  },
  {
   "cell_type": "code",
   "execution_count": 2,
   "id": "692e305e",
   "metadata": {
    "execution": {
     "iopub.execute_input": "2025-10-30T04:55:19.639663Z",
     "iopub.status.busy": "2025-10-30T04:55:19.639663Z",
     "iopub.status.idle": "2025-10-30T04:55:19.643676Z",
     "shell.execute_reply": "2025-10-30T04:55:19.643676Z"
    }
   },
   "outputs": [],
   "source": [
    "AEDT_VERSION = \"2025.2\"\n",
    "NG_MODE = False  # Open AEDT UI when it is launched."
   ]
  },
  {
   "cell_type": "markdown",
   "id": "0f2bd52a",
   "metadata": {},
   "source": [
    "## Create temporary directory\n",
    "\n",
    "Create a temporary directory where downloaded data or\n",
    "dumped data can be stored.\n",
    "If you'd like to retrieve the project data for subsequent use,\n",
    "the temporary folder name is given by ``temp_folder.name``."
   ]
  },
  {
   "cell_type": "code",
   "execution_count": 3,
   "id": "67b70578",
   "metadata": {
    "execution": {
     "iopub.execute_input": "2025-10-30T04:55:19.647690Z",
     "iopub.status.busy": "2025-10-30T04:55:19.647690Z",
     "iopub.status.idle": "2025-10-30T04:55:19.655459Z",
     "shell.execute_reply": "2025-10-30T04:55:19.655459Z"
    }
   },
   "outputs": [],
   "source": [
    "temp_folder = tempfile.TemporaryDirectory(suffix=\".ansys\")"
   ]
  },
  {
   "cell_type": "markdown",
   "id": "6fe08e6b",
   "metadata": {},
   "source": [
    "## Launch AEDT with EMIT\n",
    "\n",
    "Launch AEDT with EMIT. The ``Desktop`` class initializes AEDT and starts it\n",
    "on the specified version and in the specified graphical mode.\n",
    "\n",
    "Check that the correct version of EMIT is installed."
   ]
  },
  {
   "cell_type": "code",
   "execution_count": 4,
   "id": "f7d52232",
   "metadata": {
    "execution": {
     "iopub.execute_input": "2025-10-30T04:55:19.659471Z",
     "iopub.status.busy": "2025-10-30T04:55:19.657466Z",
     "iopub.status.idle": "2025-10-30T04:55:19.671250Z",
     "shell.execute_reply": "2025-10-30T04:55:19.671250Z"
    }
   },
   "outputs": [],
   "source": [
    "if AEDT_VERSION <= \"2023.1\":\n",
    "    print(\"Warning: This example requires AEDT 2023.2 or later.\")\n",
    "    sys.exit()"
   ]
  },
  {
   "cell_type": "code",
   "execution_count": 5,
   "id": "ccb8afef",
   "metadata": {
    "execution": {
     "iopub.execute_input": "2025-10-30T04:55:19.675264Z",
     "iopub.status.busy": "2025-10-30T04:55:19.673256Z",
     "iopub.status.idle": "2025-10-30T04:55:19.687397Z",
     "shell.execute_reply": "2025-10-30T04:55:19.687397Z"
    }
   },
   "outputs": [],
   "source": [
    "project_name = os.path.join(temp_folder.name, \"emit.aedt\")"
   ]
  },
  {
   "cell_type": "code",
   "execution_count": 6,
   "id": "e9426c46",
   "metadata": {
    "execution": {
     "iopub.execute_input": "2025-10-30T04:55:19.687397Z",
     "iopub.status.busy": "2025-10-30T04:55:19.687397Z",
     "iopub.status.idle": "2025-10-30T04:55:49.756893Z",
     "shell.execute_reply": "2025-10-30T04:55:49.756893Z"
    }
   },
   "outputs": [
    {
     "name": "stdout",
     "output_type": "stream",
     "text": [
      "PyAEDT INFO: Python version 3.10.11 (tags/v3.10.11:7d4cc5a, Apr  5 2023, 00:38:17) [MSC v.1929 64 bit (AMD64)].\n"
     ]
    },
    {
     "name": "stdout",
     "output_type": "stream",
     "text": [
      "PyAEDT INFO: PyAEDT version 0.22.dev0.\n"
     ]
    },
    {
     "name": "stdout",
     "output_type": "stream",
     "text": [
      "PyAEDT INFO: Initializing new Desktop session.\n"
     ]
    },
    {
     "name": "stdout",
     "output_type": "stream",
     "text": [
      "PyAEDT INFO: Log on console is enabled.\n"
     ]
    },
    {
     "name": "stdout",
     "output_type": "stream",
     "text": [
      "PyAEDT INFO: Log on file C:\\Users\\ansys\\AppData\\Local\\Temp\\pyaedt_ansys_c15d61ea-41ef-4c3b-9727-62e73bc0fd9e.log is enabled.\n"
     ]
    },
    {
     "name": "stdout",
     "output_type": "stream",
     "text": [
      "PyAEDT INFO: Log on AEDT is disabled.\n"
     ]
    },
    {
     "name": "stdout",
     "output_type": "stream",
     "text": [
      "PyAEDT INFO: Debug logger is disabled. PyAEDT methods will not be logged.\n"
     ]
    },
    {
     "name": "stdout",
     "output_type": "stream",
     "text": [
      "PyAEDT INFO: Launching PyAEDT with gRPC plugin.\n"
     ]
    },
    {
     "name": "stdout",
     "output_type": "stream",
     "text": [
      "PyAEDT INFO: New AEDT session is starting on gRPC port 53256.\n"
     ]
    },
    {
     "name": "stdout",
     "output_type": "stream",
     "text": [
      "PyAEDT INFO: Electronics Desktop started on gRPC port: 53256 after 11.199911117553711 seconds.\n"
     ]
    },
    {
     "name": "stdout",
     "output_type": "stream",
     "text": [
      "PyAEDT INFO: AEDT installation Path C:\\Program Files\\ANSYS Inc\\v252\\AnsysEM\n"
     ]
    },
    {
     "name": "stdout",
     "output_type": "stream",
     "text": [
      "PyAEDT INFO: Ansoft.ElectronicsDesktop.2025.2 version started with process ID 7192.\n"
     ]
    },
    {
     "name": "stdout",
     "output_type": "stream",
     "text": [
      "PyAEDT INFO: Project emit has been created.\n"
     ]
    },
    {
     "name": "stdout",
     "output_type": "stream",
     "text": [
      "PyAEDT INFO: No design is present. Inserting a new design.\n"
     ]
    },
    {
     "name": "stdout",
     "output_type": "stream",
     "text": [
      "PyAEDT INFO: Added design 'EMIT_P07' of type EMIT.\n"
     ]
    },
    {
     "name": "stdout",
     "output_type": "stream",
     "text": [
      "PyAEDT INFO: Aedt Objects correctly read\n"
     ]
    },
    {
     "name": "stdout",
     "output_type": "stream",
     "text": [
      "PyAEDT INFO: ModelerCircuit class has been initialized! Elapsed time: 0m 0sec\n"
     ]
    },
    {
     "name": "stdout",
     "output_type": "stream",
     "text": [
      "PyAEDT INFO: ModelerEmit class has been initialized!\n"
     ]
    },
    {
     "name": "stdout",
     "output_type": "stream",
     "text": [
      "PyAEDT INFO: Importing EmitApiPython from: C:\\Program Files\\ANSYS Inc\\v252\\AnsysEM\\Delcross\\EmitApiPython\n"
     ]
    },
    {
     "name": "stdout",
     "output_type": "stream",
     "text": [
      "PyAEDT INFO: Loaded Ansys EMIT API (Beta) 2025.2.0\n"
     ]
    },
    {
     "name": "stdout",
     "output_type": "stream",
     "text": [
      "PyAEDT INFO: Active Design set to EMIT_P07\n"
     ]
    }
   ],
   "source": [
    "emitapp = Emit(\n",
    "    non_graphical=NG_MODE, new_desktop=True, project=project_name, version=AEDT_VERSION\n",
    ")"
   ]
  },
  {
   "cell_type": "markdown",
   "id": "fd83d1ff",
   "metadata": {},
   "source": [
    "## Specify protection levels\n",
    "\n",
    "The protection levels are specified in dBm.\n",
    "If the damage threshold is exceeded, permanent damage to the receiver front\n",
    "end may occur.\n",
    "Exceeding the overload threshold severely densensitizes the receiver.\n",
    "Exceeding the intermod threshold can drive the victim receiver into non-linear\n",
    "operation, where it operates as a mixer.\n",
    "Exceeding the desense threshold reduces the signal-to-noise ratio and can\n",
    "reduce the maximum range, maximum bandwidth, and/or the overall link quality."
   ]
  },
  {
   "cell_type": "code",
   "execution_count": 7,
   "id": "a496a0d4",
   "metadata": {
    "execution": {
     "iopub.execute_input": "2025-10-30T04:55:49.756893Z",
     "iopub.status.busy": "2025-10-30T04:55:49.756893Z",
     "iopub.status.idle": "2025-10-30T04:55:49.772875Z",
     "shell.execute_reply": "2025-10-30T04:55:49.772875Z"
    }
   },
   "outputs": [],
   "source": [
    "header_color = \"grey\"\n",
    "damage_threshold = 30\n",
    "overload_threshold = -4\n",
    "intermod_threshold = -30\n",
    "desense_threshold = -104\n",
    "\n",
    "protection_levels = [\n",
    "    damage_threshold,\n",
    "    overload_threshold,\n",
    "    intermod_threshold,\n",
    "    desense_threshold,\n",
    "]"
   ]
  },
  {
   "cell_type": "markdown",
   "id": "9aa2b3da",
   "metadata": {},
   "source": [
    "## Create and connect EMIT components\n",
    "\n",
    "Set up the scenario with radios connected to antennas."
   ]
  },
  {
   "cell_type": "code",
   "execution_count": 8,
   "id": "9a160527",
   "metadata": {
    "execution": {
     "iopub.execute_input": "2025-10-30T04:55:49.772875Z",
     "iopub.status.busy": "2025-10-30T04:55:49.772875Z",
     "iopub.status.idle": "2025-10-30T04:55:51.294125Z",
     "shell.execute_reply": "2025-10-30T04:55:51.294125Z"
    }
   },
   "outputs": [],
   "source": [
    "bluetooth, blue_ant = emitapp.modeler.components.create_radio_antenna(\n",
    "    \"Bluetooth Low Energy (LE)\", \"Bluetooth\"\n",
    ")\n",
    "gps, gps_ant = emitapp.modeler.components.create_radio_antenna(\"GPS Receiver\", \"GPS\")\n",
    "wifi, wifi_ant = emitapp.modeler.components.create_radio_antenna(\n",
    "    \"WiFi - 802.11-2012\", \"WiFi\"\n",
    ")"
   ]
  },
  {
   "cell_type": "markdown",
   "id": "71e0b3e1",
   "metadata": {},
   "source": [
    "## Configure the radios\n",
    "\n",
    "Enable the HR-DSSS bands for the Wi-Fi radio and set the power level\n",
    "for all transmit bands to -20 dBm."
   ]
  },
  {
   "cell_type": "code",
   "execution_count": 9,
   "id": "10dab752",
   "metadata": {
    "execution": {
     "iopub.execute_input": "2025-10-30T04:55:51.294125Z",
     "iopub.status.busy": "2025-10-30T04:55:51.294125Z",
     "iopub.status.idle": "2025-10-30T04:55:55.709854Z",
     "shell.execute_reply": "2025-10-30T04:55:55.709854Z"
    }
   },
   "outputs": [],
   "source": [
    "bands = wifi.bands()\n",
    "for band in bands:\n",
    "    if \"HR-DSSS\" in band.node_name:\n",
    "        if \"Ch 1-13\" in band.node_name:\n",
    "            band.enabled = True\n",
    "            band.set_band_power_level(-20, 'dBm')\n",
    "\n",
    "# Reduce the bluetooth transmit power\n",
    "bands = bluetooth.bands()\n",
    "for band in bands:\n",
    "    band.set_band_power_level(-20, 'dBm')\n",
    "\n",
    "\n",
    "def get_radio_node(radio_name):\n",
    "    \"\"\"Get the radio node that matches the\n",
    "    given radio name.\n",
    "\n",
    "    Arguments:\n",
    "       radio_name: String name of the radio.\n",
    "\n",
    "    Returns: Instance of the radio.\n",
    "    \"\"\"\n",
    "    if gps.name == radio_name:\n",
    "        radio = gps\n",
    "    elif bluetooth.name == radio_name:\n",
    "        radio = bluetooth\n",
    "    else:\n",
    "        radio = wifi\n",
    "    return radio\n",
    "\n",
    "\n",
    "bands = gps.bands()\n",
    "for band in bands:\n",
    "    for child in band.children:\n",
    "        if \"L2 P(Y)\" in band.node_name:\n",
    "            band.enabled = True\n",
    "        else:\n",
    "            band.enabled = False"
   ]
  },
  {
   "cell_type": "markdown",
   "id": "165bc792",
   "metadata": {},
   "source": [
    "## Load the results set\n",
    "\n",
    "Create a results revision and load it for analysis."
   ]
  },
  {
   "cell_type": "code",
   "execution_count": 10,
   "id": "77217727",
   "metadata": {
    "execution": {
     "iopub.execute_input": "2025-10-30T04:55:55.709854Z",
     "iopub.status.busy": "2025-10-30T04:55:55.709854Z",
     "iopub.status.idle": "2025-10-30T04:55:56.630480Z",
     "shell.execute_reply": "2025-10-30T04:55:56.630480Z"
    },
    "lines_to_next_cell": 2
   },
   "outputs": [],
   "source": [
    "rev = emitapp.results.analyze()"
   ]
  },
  {
   "cell_type": "markdown",
   "id": "b2d82d44",
   "metadata": {
    "lines_to_next_cell": 2
   },
   "source": [
    "## Create a legend\n",
    "\n",
    "Create a legend, defining the thresholds and colors used to display the results of\n",
    "the protection level analysis."
   ]
  },
  {
   "cell_type": "code",
   "execution_count": 11,
   "id": "95fb75de",
   "metadata": {
    "execution": {
     "iopub.execute_input": "2025-10-30T04:55:56.630480Z",
     "iopub.status.busy": "2025-10-30T04:55:56.630480Z",
     "iopub.status.idle": "2025-10-30T04:55:56.646380Z",
     "shell.execute_reply": "2025-10-30T04:55:56.646380Z"
    },
    "lines_to_next_cell": 2
   },
   "outputs": [],
   "source": [
    "def create_legend_table():\n",
    "    \"\"\"Create a table showing the defined protection levels.\"\"\"\n",
    "    protectionLevels = [\n",
    "        \">{} dBm\".format(damage_threshold),\n",
    "        \">{} dBm\".format(overload_threshold),\n",
    "        \">{} dBm\".format(intermod_threshold),\n",
    "        \">{} dBm\".format(desense_threshold),\n",
    "    ]\n",
    "    fig = go.Figure(\n",
    "        data=[\n",
    "            go.Table(\n",
    "                header=dict(\n",
    "                    values=[\"<b>Interference</b>\", \"<b>Power Level Threshold</b>\"],\n",
    "                    line_color=\"darkslategray\",\n",
    "                    fill_color=header_color,\n",
    "                    align=[\"left\", \"center\"],\n",
    "                    font=dict(color=\"white\", size=16),\n",
    "                ),\n",
    "                cells=dict(\n",
    "                    values=[\n",
    "                        [\"Damage\", \"Overload\", \"Intermodulation\", \"Clear\"],\n",
    "                        protectionLevels,\n",
    "                    ],\n",
    "                    line_color=\"darkslategray\",\n",
    "                    fill_color=[\"white\", [\"red\", \"orange\", \"yellow\", \"green\"]],\n",
    "                    align=[\"left\", \"center\"],\n",
    "                    font=dict(color=[\"darkslategray\", \"black\"], size=15),\n",
    "                ),\n",
    "            )\n",
    "        ]\n",
    "    )\n",
    "    fig.update_layout(\n",
    "        title=dict(\n",
    "            text=\"Protection Levels (dBm)\",\n",
    "            font=dict(color=\"darkslategray\", size=20),\n",
    "            x=0.5,\n",
    "        ),\n",
    "        width=600,\n",
    "    )\n",
    "    fig.show()"
   ]
  },
  {
   "cell_type": "markdown",
   "id": "6d2d2f2a",
   "metadata": {
    "lines_to_next_cell": 2
   },
   "source": [
    "## Create a scenario matrix view\n",
    "\n",
    "Create a scenario matrix view with the transmitters defined across the top\n",
    "and receivers down the left-most column. The power at the input to each\n",
    "receiver is shown in each cell of the matrix and color-coded based on the\n",
    "protection level thresholds defined."
   ]
  },
  {
   "cell_type": "code",
   "execution_count": 12,
   "id": "c68defd8",
   "metadata": {
    "execution": {
     "iopub.execute_input": "2025-10-30T04:55:56.646380Z",
     "iopub.status.busy": "2025-10-30T04:55:56.646380Z",
     "iopub.status.idle": "2025-10-30T04:55:56.663134Z",
     "shell.execute_reply": "2025-10-30T04:55:56.662486Z"
    }
   },
   "outputs": [],
   "source": [
    "def create_scenario_view(emis, colors, tx_radios, rx_radios):\n",
    "    \"\"\"Create a scenario matrix-like table with the higher received\n",
    "    power for each Tx-Rx radio combination. The colors\n",
    "    used for the scenario matrix view are based on the highest\n",
    "    protection level that the received power exceeds.\"\"\"\n",
    "    fig = go.Figure(\n",
    "        data=[\n",
    "            go.Table(\n",
    "                header=dict(\n",
    "                    values=[\n",
    "                        \"<b>Tx/Rx</b>\",\n",
    "                        \"<b>{}</b>\".format(tx_radios[0]),\n",
    "                        \"<b>{}</b>\".format(tx_radios[1]),\n",
    "                    ],\n",
    "                    line_color=\"darkslategray\",\n",
    "                    fill_color=header_color,\n",
    "                    align=[\"left\", \"center\"],\n",
    "                    font=dict(color=\"white\", size=16),\n",
    "                ),\n",
    "                cells=dict(\n",
    "                    values=[rx_radios, emis[0], emis[1]],\n",
    "                    line_color=\"darkslategray\",\n",
    "                    fill_color=[\"white\", colors[0], colors[1]],\n",
    "                    align=[\"left\", \"center\"],\n",
    "                    font=dict(color=[\"darkslategray\", \"black\"], size=15),\n",
    "                ),\n",
    "            )\n",
    "        ]\n",
    "    )\n",
    "    fig.update_layout(\n",
    "        title=dict(\n",
    "            text=\"Protection Levels (dBm)\",\n",
    "            font=dict(color=\"darkslategray\", size=20),\n",
    "            x=0.5,\n",
    "        ),\n",
    "        width=600,\n",
    "    )\n",
    "    fig.show()"
   ]
  },
  {
   "cell_type": "markdown",
   "id": "43bd574a",
   "metadata": {},
   "source": [
    "## Get all the radios in the project\n",
    "\n",
    "Get lists of all transmitters and receivers in the project."
   ]
  },
  {
   "cell_type": "markdown",
   "id": "5ca8b285",
   "metadata": {},
   "source": [
    "> **Note:** You can uncomment the following code.\n",
    "\n",
    "rev = emitapp.results.current_revision\n",
    "rx_radios = rev.get_receiver_names()\n",
    "tx_radios = rev.get_interferer_names(InterfererType.TRANSMITTERS)\n",
    "domain = emitapp.results.interaction_domain()"
   ]
  },
  {
   "cell_type": "markdown",
   "id": "0532e794",
   "metadata": {},
   "source": [
    "## Classify the results\n",
    "\n",
    "Iterate over all the transmitters and receivers and compute the power\n",
    "at the input to each receiver due to each of the transmitters. Computes\n",
    "which protection levels are exceeded by these power levels, if any."
   ]
  },
  {
   "cell_type": "markdown",
   "id": "39e46c2c",
   "metadata": {},
   "source": [
    "> **Note:** Your ability to uncomment the following code depends on whether you uncommented the earlier code.\n",
    "\n",
    "power_matrix = []\n",
    "all_colors = []"
   ]
  },
  {
   "cell_type": "markdown",
   "id": "e666d339",
   "metadata": {},
   "source": [
    "all_colors, power_matrix = rev.protection_level_classification(\n",
    "    domain, global_levels=protection_levels\n",
    ")"
   ]
  },
  {
   "cell_type": "markdown",
   "id": "234551e4",
   "metadata": {},
   "source": [
    "## Create a scenario matrix-like view for the protection levels\n",
    "create_scenario_view(power_matrix, all_colors, tx_radios, rx_radios)"
   ]
  },
  {
   "cell_type": "markdown",
   "id": "5a1de258",
   "metadata": {},
   "source": [
    "## Create a legend for the protection levels\n",
    "create_legend_table()"
   ]
  },
  {
   "cell_type": "markdown",
   "id": "2f1c509d",
   "metadata": {},
   "source": [
    "## Release AEDT\n",
    "\n",
    "Release AEDT and close the example."
   ]
  },
  {
   "cell_type": "code",
   "execution_count": 13,
   "id": "cbc91670",
   "metadata": {
    "execution": {
     "iopub.execute_input": "2025-10-30T04:55:56.663134Z",
     "iopub.status.busy": "2025-10-30T04:55:56.663134Z",
     "iopub.status.idle": "2025-10-30T04:56:22.442898Z",
     "shell.execute_reply": "2025-10-30T04:56:22.442898Z"
    }
   },
   "outputs": [
    {
     "name": "stdout",
     "output_type": "stream",
     "text": [
      "PyAEDT INFO: Project emit Saved correctly\n"
     ]
    },
    {
     "name": "stdout",
     "output_type": "stream",
     "text": [
      "PyAEDT INFO: Desktop has been released and closed.\n"
     ]
    }
   ],
   "source": [
    "emitapp.save_project()\n",
    "emitapp.release_desktop()\n",
    "# Wait 3 seconds to allow AEDT to shut down before cleaning the temporary directory.\n",
    "time.sleep(3)"
   ]
  },
  {
   "cell_type": "markdown",
   "id": "890f0fe5",
   "metadata": {},
   "source": [
    "## Clean up\n",
    "\n",
    "All project files are saved in the folder ``temp_folder.name``. If you've run this example as a Jupyter notebook, you\n",
    "can retrieve those project files. The following cell removes all temporary files, including the project folder."
   ]
  },
  {
   "cell_type": "code",
   "execution_count": 14,
   "id": "078d5e87",
   "metadata": {
    "execution": {
     "iopub.execute_input": "2025-10-30T04:56:22.442898Z",
     "iopub.status.busy": "2025-10-30T04:56:22.442898Z",
     "iopub.status.idle": "2025-10-30T04:56:22.474428Z",
     "shell.execute_reply": "2025-10-30T04:56:22.474428Z"
    }
   },
   "outputs": [],
   "source": [
    "temp_folder.cleanup()"
   ]
  }
 ],
 "metadata": {
  "jupytext": {
   "cell_metadata_filter": "-all",
   "main_language": "python",
   "notebook_metadata_filter": "-all"
  },
  "language_info": {
   "codemirror_mode": {
    "name": "ipython",
    "version": 3
   },
   "file_extension": ".py",
   "mimetype": "text/x-python",
   "name": "python",
   "nbconvert_exporter": "python",
   "pygments_lexer": "ipython3",
   "version": "3.10.11"
  }
 },
 "nbformat": 4,
 "nbformat_minor": 5
}
