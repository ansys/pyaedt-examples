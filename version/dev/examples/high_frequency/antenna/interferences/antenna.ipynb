{
 "cells": [
  {
   "cell_type": "markdown",
   "id": "96d7ebf6",
   "metadata": {},
   "source": [
    "# Antenna\n",
    "\n",
    "This example shows how to create a project in EMIT for\n",
    "the simulation of an antenna using HFSS.\n",
    "\n",
    "<img src=\"_static/emit_simple_cosite.png\" width=\"400\">\n",
    "\n",
    "Keywords: **EMIT**, **Antenna**."
   ]
  },
  {
   "cell_type": "markdown",
   "id": "35ecf8cb",
   "metadata": {},
   "source": [
    "## Perform imports and define constants\n",
    "\n",
    "Perform required imports."
   ]
  },
  {
   "cell_type": "code",
   "execution_count": 1,
   "id": "0ce35eac",
   "metadata": {
    "execution": {
     "iopub.execute_input": "2025-10-30T04:53:54.962380Z",
     "iopub.status.busy": "2025-10-30T04:53:54.962380Z",
     "iopub.status.idle": "2025-10-30T04:53:58.126754Z",
     "shell.execute_reply": "2025-10-30T04:53:58.126754Z"
    }
   },
   "outputs": [],
   "source": [
    "import tempfile\n",
    "import time\n",
    "\n",
    "import ansys.aedt.core\n",
    "from ansys.aedt.core.emit_core.emit_constants import ResultType, TxRxMode"
   ]
  },
  {
   "cell_type": "markdown",
   "id": "f475d9d7",
   "metadata": {},
   "source": [
    "Define constants."
   ]
  },
  {
   "cell_type": "code",
   "execution_count": 2,
   "id": "4676208c",
   "metadata": {
    "execution": {
     "iopub.execute_input": "2025-10-30T04:53:58.126754Z",
     "iopub.status.busy": "2025-10-30T04:53:58.126754Z",
     "iopub.status.idle": "2025-10-30T04:53:58.142784Z",
     "shell.execute_reply": "2025-10-30T04:53:58.142784Z"
    }
   },
   "outputs": [],
   "source": [
    "AEDT_VERSION = \"2025.2\"\n",
    "NG_MODE = False  # Open AEDT UI when it is launched."
   ]
  },
  {
   "cell_type": "markdown",
   "id": "39d9377a",
   "metadata": {},
   "source": [
    "## Create temporary directory\n",
    "\n",
    "Create a temporary directory where downloaded data or\n",
    "dumped data can be stored.\n",
    "If you'd like to retrieve the project data for subsequent use,\n",
    "the temporary folder name is given by ``temp_folder.name``."
   ]
  },
  {
   "cell_type": "code",
   "execution_count": 3,
   "id": "b2048076",
   "metadata": {
    "execution": {
     "iopub.execute_input": "2025-10-30T04:53:58.142784Z",
     "iopub.status.busy": "2025-10-30T04:53:58.142784Z",
     "iopub.status.idle": "2025-10-30T04:53:58.158834Z",
     "shell.execute_reply": "2025-10-30T04:53:58.158834Z"
    }
   },
   "outputs": [],
   "source": [
    "temp_folder = tempfile.TemporaryDirectory(suffix=\".ansys\")"
   ]
  },
  {
   "cell_type": "markdown",
   "id": "83b8881d",
   "metadata": {},
   "source": [
    "## Launch AEDT with EMIT\n",
    "\n",
    "Launch AEDT with EMIT. The ``launch_desktop()`` method initializes AEDT\n",
    "using the specified version. The second argument can be set to ``True`` to\n",
    "run AEDT in non-graphical mode."
   ]
  },
  {
   "cell_type": "code",
   "execution_count": 4,
   "id": "be6f5f67",
   "metadata": {
    "execution": {
     "iopub.execute_input": "2025-10-30T04:53:58.158834Z",
     "iopub.status.busy": "2025-10-30T04:53:58.158834Z",
     "iopub.status.idle": "2025-10-30T04:54:29.409329Z",
     "shell.execute_reply": "2025-10-30T04:54:29.409329Z"
    }
   },
   "outputs": [
    {
     "name": "stdout",
     "output_type": "stream",
     "text": [
      "PyAEDT INFO: Python version 3.10.11 (tags/v3.10.11:7d4cc5a, Apr  5 2023, 00:38:17) [MSC v.1929 64 bit (AMD64)].\n"
     ]
    },
    {
     "name": "stdout",
     "output_type": "stream",
     "text": [
      "PyAEDT INFO: PyAEDT version 0.22.dev0.\n"
     ]
    },
    {
     "name": "stdout",
     "output_type": "stream",
     "text": [
      "PyAEDT INFO: Initializing new Desktop session.\n"
     ]
    },
    {
     "name": "stdout",
     "output_type": "stream",
     "text": [
      "PyAEDT INFO: Log on console is enabled.\n"
     ]
    },
    {
     "name": "stdout",
     "output_type": "stream",
     "text": [
      "PyAEDT INFO: Log on file C:\\Users\\ansys\\AppData\\Local\\Temp\\pyaedt_ansys_cdfcec9d-29b4-4f70-a95a-79360c8ba156.log is enabled.\n"
     ]
    },
    {
     "name": "stdout",
     "output_type": "stream",
     "text": [
      "PyAEDT INFO: Log on AEDT is disabled.\n"
     ]
    },
    {
     "name": "stdout",
     "output_type": "stream",
     "text": [
      "PyAEDT INFO: Debug logger is disabled. PyAEDT methods will not be logged.\n"
     ]
    },
    {
     "name": "stdout",
     "output_type": "stream",
     "text": [
      "PyAEDT INFO: Launching PyAEDT with gRPC plugin.\n"
     ]
    },
    {
     "name": "stdout",
     "output_type": "stream",
     "text": [
      "PyAEDT INFO: New AEDT session is starting on gRPC port 53070.\n"
     ]
    },
    {
     "name": "stdout",
     "output_type": "stream",
     "text": [
      "PyAEDT INFO: Electronics Desktop started on gRPC port: 53070 after 10.361148118972778 seconds.\n"
     ]
    },
    {
     "name": "stdout",
     "output_type": "stream",
     "text": [
      "PyAEDT INFO: AEDT installation Path C:\\Program Files\\ANSYS Inc\\v252\\AnsysEM\n"
     ]
    },
    {
     "name": "stdout",
     "output_type": "stream",
     "text": [
      "PyAEDT INFO: Ansoft.ElectronicsDesktop.2025.2 version started with process ID 2240.\n"
     ]
    },
    {
     "name": "stdout",
     "output_type": "stream",
     "text": [
      "PyAEDT INFO: Python version 3.10.11 (tags/v3.10.11:7d4cc5a, Apr  5 2023, 00:38:17) [MSC v.1929 64 bit (AMD64)].\n"
     ]
    },
    {
     "name": "stdout",
     "output_type": "stream",
     "text": [
      "PyAEDT INFO: PyAEDT version 0.22.dev0.\n"
     ]
    },
    {
     "name": "stdout",
     "output_type": "stream",
     "text": [
      "PyAEDT INFO: Returning found Desktop session with PID 2240!\n"
     ]
    },
    {
     "name": "stdout",
     "output_type": "stream",
     "text": [
      "PyAEDT INFO: Project antenna_cosite has been created.\n"
     ]
    },
    {
     "name": "stdout",
     "output_type": "stream",
     "text": [
      "PyAEDT INFO: No design is present. Inserting a new design.\n"
     ]
    },
    {
     "name": "stdout",
     "output_type": "stream",
     "text": [
      "PyAEDT INFO: Added design 'EMIT_KTJ' of type EMIT.\n"
     ]
    },
    {
     "name": "stdout",
     "output_type": "stream",
     "text": [
      "PyAEDT INFO: Aedt Objects correctly read\n"
     ]
    },
    {
     "name": "stdout",
     "output_type": "stream",
     "text": [
      "PyAEDT INFO: ModelerCircuit class has been initialized! Elapsed time: 0m 0sec\n"
     ]
    },
    {
     "name": "stdout",
     "output_type": "stream",
     "text": [
      "PyAEDT INFO: ModelerEmit class has been initialized!\n"
     ]
    },
    {
     "name": "stdout",
     "output_type": "stream",
     "text": [
      "PyAEDT INFO: Importing EmitApiPython from: C:\\Program Files\\ANSYS Inc\\v252\\AnsysEM\\Delcross\\EmitApiPython\n"
     ]
    },
    {
     "name": "stdout",
     "output_type": "stream",
     "text": [
      "PyAEDT INFO: Loaded Ansys EMIT API (Beta) 2025.2.0\n"
     ]
    },
    {
     "name": "stdout",
     "output_type": "stream",
     "text": [
      "PyAEDT INFO: Active Design set to EMIT_KTJ\n"
     ]
    }
   ],
   "source": [
    "project_name = ansys.aedt.core.generate_unique_project_name(\n",
    "    root_name=temp_folder.name, project_name=\"antenna_cosite\"\n",
    ")\n",
    "d = ansys.aedt.core.launch_desktop(AEDT_VERSION, NG_MODE, new_desktop=True)\n",
    "aedtapp = ansys.aedt.core.Emit(project_name, version=AEDT_VERSION)"
   ]
  },
  {
   "cell_type": "markdown",
   "id": "f7d9237e",
   "metadata": {},
   "source": [
    "## Create and connect EMIT components\n",
    "\n",
    "Create three radios and connect an antenna to each one."
   ]
  },
  {
   "cell_type": "code",
   "execution_count": 5,
   "id": "d3a1943d",
   "metadata": {
    "execution": {
     "iopub.execute_input": "2025-10-30T04:54:29.409329Z",
     "iopub.status.busy": "2025-10-30T04:54:29.409329Z",
     "iopub.status.idle": "2025-10-30T04:54:29.647338Z",
     "shell.execute_reply": "2025-10-30T04:54:29.647338Z"
    }
   },
   "outputs": [],
   "source": [
    "rad1 = aedtapp.modeler.components.create_component(\"New Radio\")\n",
    "ant1 = aedtapp.modeler.components.create_component(\"Antenna\")\n",
    "if rad1 and ant1:\n",
    "    ant1.move_and_connect_to(rad1)"
   ]
  },
  {
   "cell_type": "markdown",
   "id": "c4e90bf1",
   "metadata": {},
   "source": [
    "## Place radio/antenna pair\n",
    "\n",
    "Use the ``create_radio_antenna()`` method to place the radio/antenna pair. The first\n",
    "argument is the type of radio. The second argument is the name to\n",
    "assign to the radio."
   ]
  },
  {
   "cell_type": "code",
   "execution_count": 6,
   "id": "917becf8",
   "metadata": {
    "execution": {
     "iopub.execute_input": "2025-10-30T04:54:29.647338Z",
     "iopub.status.busy": "2025-10-30T04:54:29.647338Z",
     "iopub.status.idle": "2025-10-30T04:54:30.218652Z",
     "shell.execute_reply": "2025-10-30T04:54:30.218652Z"
    }
   },
   "outputs": [],
   "source": [
    "rad2, ant2 = aedtapp.modeler.components.create_radio_antenna(\"GPS Receiver\")\n",
    "rad3, ant3 = aedtapp.modeler.components.create_radio_antenna(\n",
    "    \"Bluetooth Low Energy (LE)\", \"Bluetooth\"\n",
    ")"
   ]
  },
  {
   "cell_type": "markdown",
   "id": "a75df8f9",
   "metadata": {
    "lines_to_next_cell": 2
   },
   "source": [
    "## Define the RF environment\n",
    "\n",
    "Specify the RF coupling among antennas.\n",
    "This functionality is not yet implemented in the API, but it can be entered from the UI.\n",
    "\n",
    "<img src=\"_static/coupling.png\" width=\"250\">"
   ]
  },
  {
   "cell_type": "markdown",
   "id": "cb61a5e5",
   "metadata": {},
   "source": [
    "## Run EMIT simulation\n",
    "\n",
    "Run the EMIT simulation.\n",
    "\n",
    "This part of the example requires Ansys AEDT 2023 R2."
   ]
  },
  {
   "cell_type": "code",
   "execution_count": 7,
   "id": "f2973534",
   "metadata": {
    "execution": {
     "iopub.execute_input": "2025-10-30T04:54:30.218652Z",
     "iopub.status.busy": "2025-10-30T04:54:30.218652Z",
     "iopub.status.idle": "2025-10-30T04:54:43.339274Z",
     "shell.execute_reply": "2025-10-30T04:54:43.339274Z"
    }
   },
   "outputs": [
    {
     "name": "stdout",
     "output_type": "stream",
     "text": [
      "PyAEDT INFO: Project antenna_cosite Saved correctly\n"
     ]
    },
    {
     "name": "stdout",
     "output_type": "stream",
     "text": [
      "Worst case interference is: 16.64 dB\n"
     ]
    }
   ],
   "source": [
    "# > **Note:** You can uncomment the following code.\n",
    "#\n",
    "if AEDT_VERSION > \"2023.1\":\n",
    "    rev = aedtapp.results.analyze()\n",
    "    rx_bands = rev.get_band_names(rad2.name, TxRxMode.RX)\n",
    "    tx_bands = rev.get_band_names(rad3.name, TxRxMode.TX)\n",
    "    domain = aedtapp.results.interaction_domain()\n",
    "    domain.set_receiver(rad2.name, rx_bands[0], -1)\n",
    "    domain.set_interferer(rad3.name, tx_bands[0])\n",
    "    interaction = rev.run(domain)\n",
    "    worst = interaction.get_worst_instance(ResultType.EMI)\n",
    "    if worst.has_valid_values():\n",
    "        emi = worst.get_value(ResultType.EMI)\n",
    "        print(\"Worst case interference is: {} dB\".format(emi))"
   ]
  },
  {
   "cell_type": "markdown",
   "id": "2ecd93d8",
   "metadata": {},
   "source": [
    "## Release AEDT\n",
    "\n",
    "Release AEDT and close the example."
   ]
  },
  {
   "cell_type": "code",
   "execution_count": 8,
   "id": "a315ab6a",
   "metadata": {
    "execution": {
     "iopub.execute_input": "2025-10-30T04:54:43.339274Z",
     "iopub.status.busy": "2025-10-30T04:54:43.339274Z",
     "iopub.status.idle": "2025-10-30T04:55:09.454848Z",
     "shell.execute_reply": "2025-10-30T04:55:09.454848Z"
    }
   },
   "outputs": [
    {
     "name": "stdout",
     "output_type": "stream",
     "text": [
      "PyAEDT INFO: Project antenna_cosite Saved correctly\n"
     ]
    },
    {
     "name": "stdout",
     "output_type": "stream",
     "text": [
      "PyAEDT INFO: Desktop has been released and closed.\n"
     ]
    }
   ],
   "source": [
    "aedtapp.save_project()\n",
    "aedtapp.release_desktop()\n",
    "# Wait 3 seconds to allow AEDT to shut down before cleaning the temporary directory.\n",
    "time.sleep(3)"
   ]
  },
  {
   "cell_type": "markdown",
   "id": "dcdf599b",
   "metadata": {},
   "source": [
    "## Clean up\n",
    "\n",
    "All project files are saved in the folder ``temp_folder.name``. If you've run this example as a Jupyter notebook, you\n",
    "can retrieve those project files. The following cell removes all temporary files, including the project folder."
   ]
  },
  {
   "cell_type": "code",
   "execution_count": 9,
   "id": "b3d44e27",
   "metadata": {
    "execution": {
     "iopub.execute_input": "2025-10-30T04:55:09.454848Z",
     "iopub.status.busy": "2025-10-30T04:55:09.454848Z",
     "iopub.status.idle": "2025-10-30T04:55:09.470985Z",
     "shell.execute_reply": "2025-10-30T04:55:09.470985Z"
    }
   },
   "outputs": [],
   "source": [
    "temp_folder.cleanup()"
   ]
  }
 ],
 "metadata": {
  "jupytext": {
   "cell_metadata_filter": "-all",
   "main_language": "python",
   "notebook_metadata_filter": "-all"
  },
  "language_info": {
   "codemirror_mode": {
    "name": "ipython",
    "version": 3
   },
   "file_extension": ".py",
   "mimetype": "text/x-python",
   "name": "python",
   "nbconvert_exporter": "python",
   "pygments_lexer": "ipython3",
   "version": "3.10.11"
  }
 },
 "nbformat": 4,
 "nbformat_minor": 5
}
