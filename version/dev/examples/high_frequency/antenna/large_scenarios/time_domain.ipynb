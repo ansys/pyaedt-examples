{
 "cells": [
  {
   "cell_type": "markdown",
   "id": "bb621be1",
   "metadata": {},
   "source": [
    "# HFSS to SBR+ time animation\n",
    "\n",
    "This example shows how to use PyAEDT to create an SBR+ time animation\n",
    "and save it to a GIF file. This example works only on CPython.\n",
    "\n",
    "Keywords: **HFSS**, **SBR+**, **time domain**, **IFFT**."
   ]
  },
  {
   "cell_type": "markdown",
   "id": "8074cae2",
   "metadata": {},
   "source": [
    "## Perform imports and define constants\n",
    "\n",
    "Perform required imports."
   ]
  },
  {
   "cell_type": "code",
   "execution_count": 1,
   "id": "7900d5d7",
   "metadata": {
    "execution": {
     "iopub.execute_input": "2025-10-30T05:02:03.124699Z",
     "iopub.status.busy": "2025-10-30T05:02:03.124699Z",
     "iopub.status.idle": "2025-10-30T05:02:06.180386Z",
     "shell.execute_reply": "2025-10-30T05:02:06.180386Z"
    }
   },
   "outputs": [],
   "source": [
    "import os\n",
    "import tempfile\n",
    "import time\n",
    "\n",
    "from ansys.aedt.core import Hfss\n",
    "from ansys.aedt.core.examples.downloads import download_sbr_time"
   ]
  },
  {
   "cell_type": "markdown",
   "id": "60cc45e0",
   "metadata": {},
   "source": [
    "Define constants."
   ]
  },
  {
   "cell_type": "code",
   "execution_count": 2,
   "id": "7a1b95b0",
   "metadata": {
    "execution": {
     "iopub.execute_input": "2025-10-30T05:02:06.180386Z",
     "iopub.status.busy": "2025-10-30T05:02:06.180386Z",
     "iopub.status.idle": "2025-10-30T05:02:06.196204Z",
     "shell.execute_reply": "2025-10-30T05:02:06.196204Z"
    },
    "lines_to_next_cell": 2
   },
   "outputs": [],
   "source": [
    "AEDT_VERSION = \"2025.2\"\n",
    "NUM_CORES = 4\n",
    "NG_MODE = False  # Open AEDT UI when it is launched."
   ]
  },
  {
   "cell_type": "markdown",
   "id": "00db68a1",
   "metadata": {},
   "source": [
    "## Create temporary directory\n",
    "\n",
    "Create a temporary directory where downloaded data or\n",
    "dumped data can be stored.\n",
    "If you'd like to retrieve the project data for subsequent use,\n",
    "the temporary folder name is given by ``temp_folder.name``."
   ]
  },
  {
   "cell_type": "code",
   "execution_count": 3,
   "id": "a18a3ec6",
   "metadata": {
    "execution": {
     "iopub.execute_input": "2025-10-30T05:02:06.196204Z",
     "iopub.status.busy": "2025-10-30T05:02:06.196204Z",
     "iopub.status.idle": "2025-10-30T05:02:06.211954Z",
     "shell.execute_reply": "2025-10-30T05:02:06.211954Z"
    },
    "lines_to_next_cell": 2
   },
   "outputs": [],
   "source": [
    "temp_folder = tempfile.TemporaryDirectory(suffix=\".ansys\")"
   ]
  },
  {
   "cell_type": "markdown",
   "id": "1a9a0d58",
   "metadata": {},
   "source": [
    "## Download project"
   ]
  },
  {
   "cell_type": "code",
   "execution_count": 4,
   "id": "856f2445",
   "metadata": {
    "execution": {
     "iopub.execute_input": "2025-10-30T05:02:06.211954Z",
     "iopub.status.busy": "2025-10-30T05:02:06.211954Z",
     "iopub.status.idle": "2025-10-30T05:02:06.696193Z",
     "shell.execute_reply": "2025-10-30T05:02:06.696193Z"
    }
   },
   "outputs": [],
   "source": [
    "project_file = download_sbr_time(local_path=temp_folder.name)"
   ]
  },
  {
   "cell_type": "markdown",
   "id": "8ad804c2",
   "metadata": {},
   "source": [
    "## Launch HFSS and analyze"
   ]
  },
  {
   "cell_type": "code",
   "execution_count": 5,
   "id": "78d21e4c",
   "metadata": {
    "execution": {
     "iopub.execute_input": "2025-10-30T05:02:06.696193Z",
     "iopub.status.busy": "2025-10-30T05:02:06.696193Z",
     "iopub.status.idle": "2025-10-30T05:02:35.358211Z",
     "shell.execute_reply": "2025-10-30T05:02:35.358211Z"
    }
   },
   "outputs": [
    {
     "name": "stdout",
     "output_type": "stream",
     "text": [
      "PyAEDT INFO: Parsing C:\\Users\\ansys\\AppData\\Local\\Temp\\tmpu6yqw7w_.ansys\\sbr\\poc_scat_small.aedt.\n"
     ]
    },
    {
     "name": "stdout",
     "output_type": "stream",
     "text": [
      "PyAEDT INFO: Python version 3.10.11 (tags/v3.10.11:7d4cc5a, Apr  5 2023, 00:38:17) [MSC v.1929 64 bit (AMD64)].\n"
     ]
    },
    {
     "name": "stdout",
     "output_type": "stream",
     "text": [
      "PyAEDT INFO: PyAEDT version 0.22.dev0.\n"
     ]
    },
    {
     "name": "stdout",
     "output_type": "stream",
     "text": [
      "PyAEDT INFO: Initializing new Desktop session.\n"
     ]
    },
    {
     "name": "stdout",
     "output_type": "stream",
     "text": [
      "PyAEDT INFO: Log on console is enabled.\n"
     ]
    },
    {
     "name": "stdout",
     "output_type": "stream",
     "text": [
      "PyAEDT INFO: Log on file C:\\Users\\ansys\\AppData\\Local\\Temp\\pyaedt_ansys_9207e06d-1f9d-418f-b7f5-7602c43c717a.log is enabled.\n"
     ]
    },
    {
     "name": "stdout",
     "output_type": "stream",
     "text": [
      "PyAEDT INFO: Log on AEDT is disabled.\n"
     ]
    },
    {
     "name": "stdout",
     "output_type": "stream",
     "text": [
      "PyAEDT INFO: Debug logger is disabled. PyAEDT methods will not be logged.\n"
     ]
    },
    {
     "name": "stdout",
     "output_type": "stream",
     "text": [
      "PyAEDT INFO: Launching PyAEDT with gRPC plugin.\n"
     ]
    },
    {
     "name": "stdout",
     "output_type": "stream",
     "text": [
      "PyAEDT INFO: New AEDT session is starting on gRPC port 54319.\n"
     ]
    },
    {
     "name": "stdout",
     "output_type": "stream",
     "text": [
      "PyAEDT INFO: File C:\\Users\\ansys\\AppData\\Local\\Temp\\tmpu6yqw7w_.ansys\\sbr\\poc_scat_small.aedt correctly loaded. Elapsed time: 0m 0sec\n"
     ]
    },
    {
     "name": "stdout",
     "output_type": "stream",
     "text": [
      "PyAEDT INFO: Electronics Desktop started on gRPC port: 54319 after 10.741453647613525 seconds.\n"
     ]
    },
    {
     "name": "stdout",
     "output_type": "stream",
     "text": [
      "PyAEDT INFO: AEDT installation Path C:\\Program Files\\ANSYS Inc\\v252\\AnsysEM\n"
     ]
    },
    {
     "name": "stdout",
     "output_type": "stream",
     "text": [
      "PyAEDT INFO: Ansoft.ElectronicsDesktop.2025.2 version started with process ID 7896.\n"
     ]
    },
    {
     "name": "stdout",
     "output_type": "stream",
     "text": [
      "PyAEDT INFO: Project poc_scat_small has been opened.\n"
     ]
    },
    {
     "name": "stdout",
     "output_type": "stream",
     "text": [
      "PyAEDT INFO: Active Design set to HFSSDesign1\n"
     ]
    },
    {
     "name": "stdout",
     "output_type": "stream",
     "text": [
      "PyAEDT INFO: Active Design set to HFSSDesign1\n"
     ]
    },
    {
     "name": "stdout",
     "output_type": "stream",
     "text": [
      "PyAEDT INFO: Aedt Objects correctly read\n"
     ]
    }
   ],
   "source": [
    "hfss = Hfss(\n",
    "    project=project_file,\n",
    "    version=AEDT_VERSION,\n",
    "    non_graphical=NG_MODE,\n",
    "    new_desktop=True,\n",
    ")"
   ]
  },
  {
   "cell_type": "code",
   "execution_count": 6,
   "id": "06db15e3",
   "metadata": {
    "execution": {
     "iopub.execute_input": "2025-10-30T05:02:35.358211Z",
     "iopub.status.busy": "2025-10-30T05:02:35.358211Z",
     "iopub.status.idle": "2025-10-30T05:03:49.886429Z",
     "shell.execute_reply": "2025-10-30T05:03:49.886429Z"
    }
   },
   "outputs": [
    {
     "name": "stdout",
     "output_type": "stream",
     "text": [
      "PyAEDT INFO: Project poc_scat_small Saved correctly\n"
     ]
    },
    {
     "name": "stdout",
     "output_type": "stream",
     "text": [
      "PyAEDT INFO: Key Desktop/ActiveDSOConfigurations/HFSS correctly changed.\n"
     ]
    },
    {
     "name": "stdout",
     "output_type": "stream",
     "text": [
      "PyAEDT INFO: Solving all design setups. Analysis started...\n"
     ]
    },
    {
     "name": "stdout",
     "output_type": "stream",
     "text": [
      "PyAEDT INFO: Design setup None solved correctly in 0.0h 1.0m 14.0s\n"
     ]
    },
    {
     "name": "stdout",
     "output_type": "stream",
     "text": [
      "PyAEDT INFO: Key Desktop/ActiveDSOConfigurations/HFSS correctly changed.\n"
     ]
    },
    {
     "data": {
      "text/plain": [
       "True"
      ]
     },
     "execution_count": 6,
     "metadata": {},
     "output_type": "execute_result"
    }
   ],
   "source": [
    "hfss.analyze(cores=NUM_CORES)"
   ]
  },
  {
   "cell_type": "markdown",
   "id": "f03391e7",
   "metadata": {},
   "source": [
    "## Get solution data\n",
    "\n",
    "Get solution data. After the simulation is performed, you can load solutions\n",
    "in the ``solution_data`` object."
   ]
  },
  {
   "cell_type": "code",
   "execution_count": 7,
   "id": "8d0ac978",
   "metadata": {
    "execution": {
     "iopub.execute_input": "2025-10-30T05:03:49.892450Z",
     "iopub.status.busy": "2025-10-30T05:03:49.892450Z",
     "iopub.status.idle": "2025-10-30T05:03:53.229945Z",
     "shell.execute_reply": "2025-10-30T05:03:53.229945Z"
    }
   },
   "outputs": [
    {
     "name": "stdout",
     "output_type": "stream",
     "text": [
      "PyAEDT INFO: Parsing C:\\Users\\ansys\\AppData\\Local\\Temp\\tmpu6yqw7w_.ansys\\sbr\\poc_scat_small.aedt.\n"
     ]
    },
    {
     "name": "stdout",
     "output_type": "stream",
     "text": [
      "PyAEDT INFO: File C:\\Users\\ansys\\AppData\\Local\\Temp\\tmpu6yqw7w_.ansys\\sbr\\poc_scat_small.aedt correctly loaded. Elapsed time: 0m 0sec\n"
     ]
    },
    {
     "name": "stdout",
     "output_type": "stream",
     "text": [
      "PyAEDT INFO: aedt file load time 0.06529927253723145\n"
     ]
    },
    {
     "name": "stdout",
     "output_type": "stream",
     "text": [
      "PyAEDT INFO: PostProcessor class has been initialized! Elapsed time: 0m 0sec\n"
     ]
    },
    {
     "name": "stdout",
     "output_type": "stream",
     "text": [
      "PyAEDT INFO: PostProcessor class has been initialized! Elapsed time: 0m 0sec\n"
     ]
    },
    {
     "name": "stdout",
     "output_type": "stream",
     "text": [
      "PyAEDT INFO: Post class has been initialized! Elapsed time: 0m 0sec\n"
     ]
    },
    {
     "name": "stdout",
     "output_type": "stream",
     "text": [
      "PyAEDT INFO: Solution Data Correctly Loaded.\n"
     ]
    },
    {
     "name": "stdout",
     "output_type": "stream",
     "text": [
      "Time to initialize solution data:0.016111373901367188\n",
      "Time to initialize solution data:0.09550189971923828\n"
     ]
    }
   ],
   "source": [
    "solution_data = hfss.post.get_solution_data(\n",
    "    expressions=[\"NearEX\", \"NearEY\", \"NearEZ\"],\n",
    "    variations={\"_u\": [\"All\"], \"_v\": [\"All\"], \"Freq\": [\"All\"]},\n",
    "    context=\"Near_Field\",\n",
    "    report_category=\"Near Fields\",\n",
    ")"
   ]
  },
  {
   "cell_type": "markdown",
   "id": "67e6a3b2",
   "metadata": {},
   "source": [
    "## Compute IFFT\n",
    "\n",
    "Compute IFFT (Inverse Fast Fourier Transform)."
   ]
  },
  {
   "cell_type": "code",
   "execution_count": 8,
   "id": "3f77eb78",
   "metadata": {
    "execution": {
     "iopub.execute_input": "2025-10-30T05:03:53.229945Z",
     "iopub.status.busy": "2025-10-30T05:03:53.229945Z",
     "iopub.status.idle": "2025-10-30T05:03:53.262481Z",
     "shell.execute_reply": "2025-10-30T05:03:53.261829Z"
    }
   },
   "outputs": [],
   "source": [
    "t_matrix = solution_data.ifft(\"NearE\", window=True)"
   ]
  },
  {
   "cell_type": "markdown",
   "id": "ec661696",
   "metadata": {},
   "source": [
    "## Export IFFT to CSV file\n",
    "\n",
    "Export IFFT to a CSV file."
   ]
  },
  {
   "cell_type": "code",
   "execution_count": 9,
   "id": "30c66f1e",
   "metadata": {
    "execution": {
     "iopub.execute_input": "2025-10-30T05:03:53.264487Z",
     "iopub.status.busy": "2025-10-30T05:03:53.264487Z",
     "iopub.status.idle": "2025-10-30T05:03:53.436633Z",
     "shell.execute_reply": "2025-10-30T05:03:53.436633Z"
    }
   },
   "outputs": [],
   "source": [
    "frames_list_file = solution_data.ifft_to_file(\n",
    "    coord_system_center=[-0.15, 0, 0],\n",
    "    db_val=True,\n",
    "    csv_path=os.path.join(hfss.working_directory, \"csv\"),\n",
    ")"
   ]
  },
  {
   "cell_type": "markdown",
   "id": "d182fea3",
   "metadata": {},
   "source": [
    "## Plot scene\n",
    "\n",
    "Plot the scene to create the time plot animation"
   ]
  },
  {
   "cell_type": "code",
   "execution_count": 10,
   "id": "7621c201",
   "metadata": {
    "execution": {
     "iopub.execute_input": "2025-10-30T05:03:53.442202Z",
     "iopub.status.busy": "2025-10-30T05:03:53.441619Z",
     "iopub.status.idle": "2025-10-30T05:04:45.210618Z",
     "shell.execute_reply": "2025-10-30T05:04:45.209007Z"
    }
   },
   "outputs": [
    {
     "name": "stdout",
     "output_type": "stream",
     "text": [
      "PyAEDT INFO: Modeler class has been initialized! Elapsed time: 0m 0sec\n"
     ]
    },
    {
     "name": "stdout",
     "output_type": "stream",
     "text": [
      "PyAEDT INFO: Parsing design objects. This operation can take time\n"
     ]
    },
    {
     "name": "stdout",
     "output_type": "stream",
     "text": [
      "PyAEDT INFO: Refreshing bodies from Object Info\n"
     ]
    },
    {
     "name": "stdout",
     "output_type": "stream",
     "text": [
      "PyAEDT INFO: Bodies Info Refreshed Elapsed time: 0m 0sec\n"
     ]
    },
    {
     "name": "stdout",
     "output_type": "stream",
     "text": [
      "PyAEDT INFO: 3D Modeler objects parsed. Elapsed time: 0m 0sec\n"
     ]
    },
    {
     "data": {
      "application/vnd.jupyter.widget-view+json": {
       "model_id": "d9a5fea4db3d462c8cfd7acdf90ce96b",
       "version_major": 2,
       "version_minor": 0
      },
      "text/plain": [
       "Widget(value='<iframe src=\"http://localhost:54401/index.html?ui=P_0x2748673ac50_0&reconnect=auto\" class=\"pyvis…"
      ]
     },
     "metadata": {},
     "output_type": "display_data"
    }
   ],
   "source": [
    "hfss.post.plot_scene(\n",
    "    frames=frames_list_file,\n",
    "    gif_path=os.path.join(hfss.working_directory, \"animation.gif\"),\n",
    "    norm_index=15,\n",
    "    dy_rng=35,\n",
    "    show=False,\n",
    "    view=\"xy\",\n",
    "    zoom=1,\n",
    ")"
   ]
  },
  {
   "cell_type": "markdown",
   "id": "f651e3b7",
   "metadata": {},
   "source": [
    "## Release AEDT\n",
    "\n",
    "Release AEDT and close the example."
   ]
  },
  {
   "cell_type": "code",
   "execution_count": 11,
   "id": "becbd6a4",
   "metadata": {
    "execution": {
     "iopub.execute_input": "2025-10-30T05:04:45.210618Z",
     "iopub.status.busy": "2025-10-30T05:04:45.210618Z",
     "iopub.status.idle": "2025-10-30T05:05:08.983360Z",
     "shell.execute_reply": "2025-10-30T05:05:08.983360Z"
    }
   },
   "outputs": [
    {
     "name": "stdout",
     "output_type": "stream",
     "text": [
      "PyAEDT INFO: Project poc_scat_small Saved correctly\n"
     ]
    },
    {
     "name": "stdout",
     "output_type": "stream",
     "text": [
      "PyAEDT INFO: Desktop has been released and closed.\n"
     ]
    }
   ],
   "source": [
    "hfss.save_project()\n",
    "hfss.release_desktop()\n",
    "# Wait 3 seconds to allow AEDT to shut down before cleaning the temporary directory.\n",
    "time.sleep(3)"
   ]
  },
  {
   "cell_type": "markdown",
   "id": "904388e2",
   "metadata": {},
   "source": [
    "## Clean up\n",
    "\n",
    "All project files are saved in the folder ``temp_folder.name``. If you've run this example as a Jupyter notebook, you\n",
    "can retrieve those project files. The following cell removes all temporary files, including the project folder."
   ]
  },
  {
   "cell_type": "code",
   "execution_count": 12,
   "id": "b57843d4",
   "metadata": {
    "execution": {
     "iopub.execute_input": "2025-10-30T05:05:08.983360Z",
     "iopub.status.busy": "2025-10-30T05:05:08.983360Z",
     "iopub.status.idle": "2025-10-30T05:05:09.157029Z",
     "shell.execute_reply": "2025-10-30T05:05:09.157029Z"
    }
   },
   "outputs": [],
   "source": [
    "temp_folder.cleanup()"
   ]
  }
 ],
 "metadata": {
  "jupytext": {
   "cell_metadata_filter": "-all",
   "main_language": "python",
   "notebook_metadata_filter": "-all"
  },
  "language_info": {
   "codemirror_mode": {
    "name": "ipython",
    "version": 3
   },
   "file_extension": ".py",
   "mimetype": "text/x-python",
   "name": "python",
   "nbconvert_exporter": "python",
   "pygments_lexer": "ipython3",
   "version": "3.10.11"
  },
  "widgets": {
   "application/vnd.jupyter.widget-state+json": {
    "state": {
     "33946bd360e8489b9384fc72b51be2a7": {
      "model_module": "@jupyter-widgets/base",
      "model_module_version": "2.0.0",
      "model_name": "LayoutModel",
      "state": {
       "_model_module": "@jupyter-widgets/base",
       "_model_module_version": "2.0.0",
       "_model_name": "LayoutModel",
       "_view_count": null,
       "_view_module": "@jupyter-widgets/base",
       "_view_module_version": "2.0.0",
       "_view_name": "LayoutView",
       "align_content": null,
       "align_items": null,
       "align_self": null,
       "border_bottom": null,
       "border_left": null,
       "border_right": null,
       "border_top": null,
       "bottom": null,
       "display": null,
       "flex": null,
       "flex_flow": null,
       "grid_area": null,
       "grid_auto_columns": null,
       "grid_auto_flow": null,
       "grid_auto_rows": null,
       "grid_column": null,
       "grid_gap": null,
       "grid_row": null,
       "grid_template_areas": null,
       "grid_template_columns": null,
       "grid_template_rows": null,
       "height": null,
       "justify_content": null,
       "justify_items": null,
       "left": null,
       "margin": null,
       "max_height": null,
       "max_width": null,
       "min_height": null,
       "min_width": null,
       "object_fit": null,
       "object_position": null,
       "order": null,
       "overflow": null,
       "padding": null,
       "right": null,
       "top": null,
       "visibility": null,
       "width": null
      }
     },
     "d9a5fea4db3d462c8cfd7acdf90ce96b": {
      "model_module": "@jupyter-widgets/controls",
      "model_module_version": "2.0.0",
      "model_name": "HTMLModel",
      "state": {
       "_dom_classes": [],
       "_model_module": "@jupyter-widgets/controls",
       "_model_module_version": "2.0.0",
       "_model_name": "HTMLModel",
       "_view_count": null,
       "_view_module": "@jupyter-widgets/controls",
       "_view_module_version": "2.0.0",
       "_view_name": "HTMLView",
       "description": "",
       "description_allow_html": false,
       "layout": "IPY_MODEL_33946bd360e8489b9384fc72b51be2a7",
       "placeholder": "​",
       "style": "IPY_MODEL_f0836609cf8641dc922823e156395788",
       "tabbable": null,
       "tooltip": null,
       "value": "<iframe src=\"http://localhost:54401/index.html?ui=P_0x2748673ac50_0&reconnect=auto\" class=\"pyvista\" style=\"width: 1920px; height: 1080px; border: 1px solid rgb(221,221,221);\"></iframe>"
      }
     },
     "f0836609cf8641dc922823e156395788": {
      "model_module": "@jupyter-widgets/controls",
      "model_module_version": "2.0.0",
      "model_name": "HTMLStyleModel",
      "state": {
       "_model_module": "@jupyter-widgets/controls",
       "_model_module_version": "2.0.0",
       "_model_name": "HTMLStyleModel",
       "_view_count": null,
       "_view_module": "@jupyter-widgets/base",
       "_view_module_version": "2.0.0",
       "_view_name": "StyleView",
       "background": null,
       "description_width": "",
       "font_size": null,
       "text_color": null
      }
     }
    },
    "version_major": 2,
    "version_minor": 0
   }
  }
 },
 "nbformat": 4,
 "nbformat_minor": 5
}
