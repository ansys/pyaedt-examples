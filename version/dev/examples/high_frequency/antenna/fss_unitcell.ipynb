{
 "cells": [
  {
   "cell_type": "markdown",
   "id": "4cae3cfe",
   "metadata": {},
   "source": [
    "# Frequency Selective Surface\n",
    "\n",
    "This example shows how to use PyAEDT to model and simulate a frequency-selective\n",
    "surface (FSS) by applying the periodic (Floquet) boundary condition at\n",
    "the boundaries of a unit cell.\n",
    "\n",
    "Keywords: **HFSS**, **FSS**, **Floquet**."
   ]
  },
  {
   "cell_type": "markdown",
   "id": "954f436f",
   "metadata": {},
   "source": [
    "## Prerequisites\n",
    "\n",
    "### Perform imports"
   ]
  },
  {
   "cell_type": "code",
   "execution_count": 1,
   "id": "01c575d9",
   "metadata": {
    "execution": {
     "iopub.execute_input": "2025-10-30T04:51:29.404242Z",
     "iopub.status.busy": "2025-10-30T04:51:29.404242Z",
     "iopub.status.idle": "2025-10-30T04:51:32.535040Z",
     "shell.execute_reply": "2025-10-30T04:51:32.535040Z"
    }
   },
   "outputs": [],
   "source": [
    "import os\n",
    "import tempfile\n",
    "import time\n",
    "from pathlib import Path\n",
    "import ansys.aedt.core\n",
    "from ansys.aedt.core.examples.downloads import download_file"
   ]
  },
  {
   "cell_type": "markdown",
   "id": "c32ccbbc",
   "metadata": {},
   "source": [
    "### Define constants\n",
    "Constants help ensure consistency and avoid repetition throughout the example."
   ]
  },
  {
   "cell_type": "code",
   "execution_count": 2,
   "id": "ff7edf1b",
   "metadata": {
    "execution": {
     "iopub.execute_input": "2025-10-30T04:51:32.535040Z",
     "iopub.status.busy": "2025-10-30T04:51:32.535040Z",
     "iopub.status.idle": "2025-10-30T04:51:32.550889Z",
     "shell.execute_reply": "2025-10-30T04:51:32.550889Z"
    }
   },
   "outputs": [],
   "source": [
    "AEDT_VERSION = \"2025.2\"\n",
    "NG_MODE = False  # Open AEDT UI when it is launched."
   ]
  },
  {
   "cell_type": "markdown",
   "id": "23b8671a",
   "metadata": {},
   "source": [
    "### Create temporary directory\n",
    "\n",
    "Create a temporary working directory.\n",
    "The name of the working folder is stored in ``temp_folder.name``.\n",
    "\n",
    "> **Note:** The final cell in the notebook cleans up the temporary folder. If you want to\n",
    "> retrieve the AEDT project and data, do so before executing the final cell in the notebook."
   ]
  },
  {
   "cell_type": "code",
   "execution_count": 3,
   "id": "8d915ccf",
   "metadata": {
    "execution": {
     "iopub.execute_input": "2025-10-30T04:51:32.550889Z",
     "iopub.status.busy": "2025-10-30T04:51:32.550889Z",
     "iopub.status.idle": "2025-10-30T04:51:32.566624Z",
     "shell.execute_reply": "2025-10-30T04:51:32.566624Z"
    }
   },
   "outputs": [],
   "source": [
    "temp_folder = tempfile.TemporaryDirectory(suffix=\".ansys\")\n",
    "temp_path = Path(temp_folder.name)"
   ]
  },
  {
   "cell_type": "markdown",
   "id": "3a81eb31",
   "metadata": {},
   "source": [
    "### Launch HFSS\n",
    "\n",
    "The Ansys Electronics Desktop (AEDT) will be launched\n",
    "and an HFSS design will be inserted into the project."
   ]
  },
  {
   "cell_type": "code",
   "execution_count": 4,
   "id": "3e3b9574",
   "metadata": {
    "execution": {
     "iopub.execute_input": "2025-10-30T04:51:32.566624Z",
     "iopub.status.busy": "2025-10-30T04:51:32.566624Z",
     "iopub.status.idle": "2025-10-30T04:52:11.744807Z",
     "shell.execute_reply": "2025-10-30T04:52:11.744807Z"
    }
   },
   "outputs": [
    {
     "name": "stdout",
     "output_type": "stream",
     "text": [
      "PyAEDT INFO: Python version 3.10.11 (tags/v3.10.11:7d4cc5a, Apr  5 2023, 00:38:17) [MSC v.1929 64 bit (AMD64)].\n"
     ]
    },
    {
     "name": "stdout",
     "output_type": "stream",
     "text": [
      "PyAEDT INFO: PyAEDT version 0.22.dev0.\n"
     ]
    },
    {
     "name": "stdout",
     "output_type": "stream",
     "text": [
      "PyAEDT INFO: Initializing new Desktop session.\n"
     ]
    },
    {
     "name": "stdout",
     "output_type": "stream",
     "text": [
      "PyAEDT INFO: Log on console is enabled.\n"
     ]
    },
    {
     "name": "stdout",
     "output_type": "stream",
     "text": [
      "PyAEDT INFO: Log on file C:\\Users\\ansys\\AppData\\Local\\Temp\\pyaedt_ansys_71ac4435-26b5-485d-85ee-3644afc72ce0.log is enabled.\n"
     ]
    },
    {
     "name": "stdout",
     "output_type": "stream",
     "text": [
      "PyAEDT INFO: Log on AEDT is disabled.\n"
     ]
    },
    {
     "name": "stdout",
     "output_type": "stream",
     "text": [
      "PyAEDT INFO: Debug logger is disabled. PyAEDT methods will not be logged.\n"
     ]
    },
    {
     "name": "stdout",
     "output_type": "stream",
     "text": [
      "PyAEDT INFO: Launching PyAEDT with gRPC plugin.\n"
     ]
    },
    {
     "name": "stdout",
     "output_type": "stream",
     "text": [
      "PyAEDT INFO: New AEDT session is starting on gRPC port 52836.\n"
     ]
    },
    {
     "name": "stdout",
     "output_type": "stream",
     "text": [
      "PyAEDT INFO: Electronics Desktop started on gRPC port: 52836 after 10.834928274154663 seconds.\n"
     ]
    },
    {
     "name": "stdout",
     "output_type": "stream",
     "text": [
      "PyAEDT INFO: AEDT installation Path C:\\Program Files\\ANSYS Inc\\v252\\AnsysEM\n"
     ]
    },
    {
     "name": "stdout",
     "output_type": "stream",
     "text": [
      "PyAEDT INFO: Ansoft.ElectronicsDesktop.2025.2 version started with process ID 4964.\n"
     ]
    },
    {
     "name": "stdout",
     "output_type": "stream",
     "text": [
      "PyAEDT INFO: Project FSS has been created.\n"
     ]
    },
    {
     "name": "stdout",
     "output_type": "stream",
     "text": [
      "PyAEDT INFO: Added design 'SquarePatch' of type HFSS.\n"
     ]
    },
    {
     "name": "stdout",
     "output_type": "stream",
     "text": [
      "PyAEDT INFO: Aedt Objects correctly read\n"
     ]
    }
   ],
   "source": [
    "project_name = temp_path / \"FSS.aedt\"\n",
    "hfss = ansys.aedt.core.Hfss(\n",
    "    version=AEDT_VERSION, \n",
    "    project=str(project_name), \n",
    "    design=\"SquarePatch\",\n",
    "    non_graphical=NG_MODE,\n",
    "    solution_type=\"Modal\",\n",
    ")"
   ]
  },
  {
   "cell_type": "markdown",
   "id": "5ca21220",
   "metadata": {},
   "source": [
    "### Define a parameter\n",
    "\n",
    "Parameters can be defined in HFSS to run parametric studies. In this example,\n",
    "``\"patch_dim\"`` will be used to modify the size of a square conducting\n",
    "patch in the center of the FSS."
   ]
  },
  {
   "cell_type": "code",
   "execution_count": 5,
   "id": "dc32929d",
   "metadata": {
    "execution": {
     "iopub.execute_input": "2025-10-30T04:52:11.744807Z",
     "iopub.status.busy": "2025-10-30T04:52:11.744807Z",
     "iopub.status.idle": "2025-10-30T04:52:11.776323Z",
     "shell.execute_reply": "2025-10-30T04:52:11.776323Z"
    }
   },
   "outputs": [],
   "source": [
    "hfss[\"patch_dim\"] = \"10mm\""
   ]
  },
  {
   "cell_type": "markdown",
   "id": "9dffb686",
   "metadata": {},
   "source": [
    "The parameter is assigned to the HFSS design as shown here.\n",
    "<img src=\"_static/design_param.svg\" width=\"400\">"
   ]
  },
  {
   "cell_type": "markdown",
   "id": "81e1884f",
   "metadata": {},
   "source": [
    "## Model Preparation\n",
    "\n",
    "### Define the unit cell\n",
    "\n",
    "The FSS unit cell will be defined from a 3D component.\n",
    "The 3D component is downloaded from the \n",
    "[example data repository](https://github.com/ansys/example-data/tree/main/pyaedt) \n",
    "and inserted into the HFSS design."
   ]
  },
  {
   "cell_type": "markdown",
   "id": "d5bf1787",
   "metadata": {},
   "source": [
    "1. Download the component."
   ]
  },
  {
   "cell_type": "code",
   "execution_count": 6,
   "id": "69d2c822",
   "metadata": {
    "execution": {
     "iopub.execute_input": "2025-10-30T04:52:11.776323Z",
     "iopub.status.busy": "2025-10-30T04:52:11.776323Z",
     "iopub.status.idle": "2025-10-30T04:52:12.744447Z",
     "shell.execute_reply": "2025-10-30T04:52:12.744447Z"
    }
   },
   "outputs": [],
   "source": [
    "component_path = Path(download_file(\"fss_3d_component\", local_path=str(temp_path)))"
   ]
  },
  {
   "cell_type": "markdown",
   "id": "f0016a4c",
   "metadata": {},
   "source": [
    "2. Get the file name of the 3D component.\n",
    "   > **Note:** It should be the only file in the ``component_path`` folder."
   ]
  },
  {
   "cell_type": "code",
   "execution_count": 7,
   "id": "2cb55e13",
   "metadata": {
    "execution": {
     "iopub.execute_input": "2025-10-30T04:52:12.744447Z",
     "iopub.status.busy": "2025-10-30T04:52:12.744447Z",
     "iopub.status.idle": "2025-10-30T04:52:12.760374Z",
     "shell.execute_reply": "2025-10-30T04:52:12.760374Z"
    }
   },
   "outputs": [],
   "source": [
    "unit_cell_paths = [f for f in component_path.glob(\"*.a3dcomp\")]\n",
    "unit_cell_path = unit_cell_paths[0]"
   ]
  },
  {
   "cell_type": "markdown",
   "id": "f7033370",
   "metadata": {},
   "source": [
    "3. Insert the dipole as a 3D component into the HFSS model.\n",
    "the HFSS model."
   ]
  },
  {
   "cell_type": "code",
   "execution_count": 8,
   "id": "2d6f8bcd",
   "metadata": {
    "execution": {
     "iopub.execute_input": "2025-10-30T04:52:12.760374Z",
     "iopub.status.busy": "2025-10-30T04:52:12.760374Z",
     "iopub.status.idle": "2025-10-30T04:52:13.839531Z",
     "shell.execute_reply": "2025-10-30T04:52:13.839531Z"
    }
   },
   "outputs": [
    {
     "name": "stdout",
     "output_type": "stream",
     "text": [
      "PyAEDT INFO: Modeler class has been initialized! Elapsed time: 0m 1sec\n"
     ]
    },
    {
     "name": "stdout",
     "output_type": "stream",
     "text": [
      "PyAEDT INFO: Parsing C:\\Users\\ansys\\AppData\\Local\\Temp\\tmp0et02ec_.ansys\\FSS.aedt.\n"
     ]
    },
    {
     "name": "stdout",
     "output_type": "stream",
     "text": [
      "PyAEDT INFO: File C:\\Users\\ansys\\AppData\\Local\\Temp\\tmp0et02ec_.ansys\\FSS.aedt correctly loaded. Elapsed time: 0m 0sec\n"
     ]
    },
    {
     "name": "stdout",
     "output_type": "stream",
     "text": [
      "PyAEDT INFO: aedt file load time 0.01568436622619629\n"
     ]
    }
   ],
   "source": [
    "comp = hfss.modeler.insert_3d_component(str(unit_cell_path))"
   ]
  },
  {
   "cell_type": "markdown",
   "id": "aacbfdee",
   "metadata": {},
   "source": [
    "You can retrieve the names of all 3D components defined in the HFSS design\n",
    "as shown below. In this case, only one component has been defined."
   ]
  },
  {
   "cell_type": "code",
   "execution_count": 9,
   "id": "9471c66a",
   "metadata": {
    "execution": {
     "iopub.execute_input": "2025-10-30T04:52:13.839531Z",
     "iopub.status.busy": "2025-10-30T04:52:13.839531Z",
     "iopub.status.idle": "2025-10-30T04:52:13.855406Z",
     "shell.execute_reply": "2025-10-30T04:52:13.855406Z"
    }
   },
   "outputs": [],
   "source": [
    "component_names = hfss.modeler.user_defined_component_names"
   ]
  },
  {
   "cell_type": "markdown",
   "id": "96bc0132",
   "metadata": {},
   "source": [
    "You can also get the name of each component using the\n",
    "``name`` property.\n",
    "\n",
    "Check that only one 3D component has been placed in the HFSS design."
   ]
  },
  {
   "cell_type": "code",
   "execution_count": 10,
   "id": "142456ac",
   "metadata": {
    "execution": {
     "iopub.execute_input": "2025-10-30T04:52:13.855406Z",
     "iopub.status.busy": "2025-10-30T04:52:13.855406Z",
     "iopub.status.idle": "2025-10-30T04:52:13.871294Z",
     "shell.execute_reply": "2025-10-30T04:52:13.871294Z"
    }
   },
   "outputs": [
    {
     "name": "stdout",
     "output_type": "stream",
     "text": [
      "The single 3D component in this HFSS design is named 'FSS_unitcell_23R2_1'.\n"
     ]
    }
   ],
   "source": [
    "same = comp.name == component_names[0]\n",
    "if same and len(component_names) == 1:\n",
    "    msg = f\"The single 3D component in this HFSS design is named '{comp.name}'.\"\n",
    "else:\n",
    "    msg =\"Something went wrong!\"\n",
    "print(msg)"
   ]
  },
  {
   "cell_type": "markdown",
   "id": "8262e6eb",
   "metadata": {},
   "source": [
    "### Set component parameters\n",
    "The 3D component is a parameteric model. \n",
    "\n",
    "<img src=\"_static/comp3d.svg\" width=\"500\">\n",
    "\n",
    "The HFSS parameter ``patch_dim`` can be assigned to\n",
    "the component parameter ``a`` to modify the size of the patch\n",
    "in the unit cell.\n",
    "\n",
    "> **Note:** Multiple instances of a 3D component can be used having different\n",
    "> parameter values for each instance. For example, consider\n",
    "> creating a \"super-cell\" having multiple component instances to improve the bandwidth\n",
    "> of the FSS."
   ]
  },
  {
   "cell_type": "code",
   "execution_count": 11,
   "id": "7c546483",
   "metadata": {
    "execution": {
     "iopub.execute_input": "2025-10-30T04:52:13.871294Z",
     "iopub.status.busy": "2025-10-30T04:52:13.871294Z",
     "iopub.status.idle": "2025-10-30T04:52:13.903208Z",
     "shell.execute_reply": "2025-10-30T04:52:13.903208Z"
    }
   },
   "outputs": [],
   "source": [
    "comp.parameters[\"a\"] = \"patch_dim\""
   ]
  },
  {
   "cell_type": "markdown",
   "id": "ac87346e",
   "metadata": {},
   "source": [
    "### Extend the solution domain\n",
    "\n",
    "Extend the solution domain in the $+z$ direction. If the\n",
    "Floquet port is placed too close to the 3D structure, evanescent \n",
    "fields on the Floquet port surface can\n",
    "lead to erroneous results.\n",
    "\n",
    "The unit cell model is extended away from the \n",
    "patch by ``z_extent``. The phase reference\n",
    "will later be moved back to the surface of the FSS by deembedding the\n",
    "port solution.\n",
    "\n",
    "<img src=\"_static/deembed.svg\" width=\"400\">"
   ]
  },
  {
   "cell_type": "code",
   "execution_count": 12,
   "id": "1867cee7",
   "metadata": {
    "execution": {
     "iopub.execute_input": "2025-10-30T04:52:13.903208Z",
     "iopub.status.busy": "2025-10-30T04:52:13.903208Z",
     "iopub.status.idle": "2025-10-30T04:52:14.203661Z",
     "shell.execute_reply": "2025-10-30T04:52:14.203661Z"
    }
   },
   "outputs": [],
   "source": [
    "period_x, period_y, z_dim = hfss.modeler.get_bounding_dimension()\n",
    "\n",
    "z_extent = 2 * (period_x + period_y)\n",
    "region = hfss.modeler.create_air_region(\n",
    "    z_pos=z_extent,\n",
    "    is_percentage=False,\n",
    ")\n",
    "\n",
    "[x_min, y_min, z_min, x_max, y_max, z_max] = region.bounding_box"
   ]
  },
  {
   "cell_type": "markdown",
   "id": "1ff3d9d5",
   "metadata": {},
   "source": [
    "### Assign boundary conditions and sources\n",
    "\n",
    "Assign the lattice pair periodic boundary conditions."
   ]
  },
  {
   "cell_type": "code",
   "execution_count": 13,
   "id": "9ba2bb9a",
   "metadata": {
    "execution": {
     "iopub.execute_input": "2025-10-30T04:52:14.207675Z",
     "iopub.status.busy": "2025-10-30T04:52:14.207675Z",
     "iopub.status.idle": "2025-10-30T04:52:14.235416Z",
     "shell.execute_reply": "2025-10-30T04:52:14.235416Z"
    }
   },
   "outputs": [
    {
     "name": "stdout",
     "output_type": "stream",
     "text": [
      "The periodic boundary conditions are: ['LatticePair1', 'LatticePair2']\n"
     ]
    }
   ],
   "source": [
    "boundaries = hfss.auto_assign_lattice_pairs(assignment=region.name)\n",
    "\n",
    "msg = \"The periodic boundary conditions are: \"\n",
    "msg += str(boundaries)\n",
    "print(msg)"
   ]
  },
  {
   "cell_type": "markdown",
   "id": "8eeaf3bf",
   "metadata": {},
   "source": [
    "The Floquet port is asigned to the top surface of the solution domain\n",
    "where the plane\n",
    "wave is incident on the FSS. The following arguments\n",
    "define the periodicity of the FSS.\n",
    "- ``lattice_origin``\n",
    "- ``lattice_a_end``\n",
    "- ``lattice_b_end``\n",
    "\n",
    "The phase reference is deembedded to the surface of the FSS."
   ]
  },
  {
   "cell_type": "code",
   "execution_count": 14,
   "id": "54c17662",
   "metadata": {
    "execution": {
     "iopub.execute_input": "2025-10-30T04:52:14.235416Z",
     "iopub.status.busy": "2025-10-30T04:52:14.235416Z",
     "iopub.status.idle": "2025-10-30T04:52:14.314810Z",
     "shell.execute_reply": "2025-10-30T04:52:14.314810Z"
    }
   },
   "outputs": [
    {
     "name": "stdout",
     "output_type": "stream",
     "text": [
      "PyAEDT INFO: Boundary Floquet Port port_z_max has been created.\n"
     ]
    }
   ],
   "source": [
    "floquet_boundary = hfss.create_floquet_port(\n",
    "                               assignment=region.top_face_z,\n",
    "                               lattice_origin=[0, 0, z_max],\n",
    "                               lattice_a_end=[0, y_max, z_max],\n",
    "                               lattice_b_end=[x_max, 0, z_max],\n",
    "                               name=\"port_z_max\",\n",
    "                               deembed_distance=z_extent,\n",
    "                               )"
   ]
  },
  {
   "cell_type": "markdown",
   "id": "2d522eff",
   "metadata": {},
   "source": [
    "### Define solution setup\n",
    "\n",
    "The solution setup specifies details used to run\n",
    "the analysis in HFSS. In this example adaptive mesh\n",
    "refinement runs at 10 GHz while default values are\n",
    "used for all other settings. \n",
    "\n",
    "The frequency sweep is used to specify the range over which scattering\n",
    "parameters will be calculated."
   ]
  },
  {
   "cell_type": "code",
   "execution_count": 15,
   "id": "86c567e5",
   "metadata": {
    "execution": {
     "iopub.execute_input": "2025-10-30T04:52:14.314810Z",
     "iopub.status.busy": "2025-10-30T04:52:14.314810Z",
     "iopub.status.idle": "2025-10-30T04:52:14.409816Z",
     "shell.execute_reply": "2025-10-30T04:52:14.409816Z"
    }
   },
   "outputs": [
    {
     "name": "stdout",
     "output_type": "stream",
     "text": [
      "PyAEDT INFO: Linear count sweep sweep1 has been correctly created.\n"
     ]
    },
    {
     "data": {
      "text/plain": [
       "MySetup : sweep1"
      ]
     },
     "execution_count": 15,
     "metadata": {},
     "output_type": "execute_result"
    }
   ],
   "source": [
    "setup = hfss.create_setup(\"MySetup\")\n",
    "setup.props[\"Frequency\"] = \"10GHz\"\n",
    "setup.props[\"MaximumPasses\"] = 10\n",
    "hfss.create_linear_count_sweep(\n",
    "    setup=setup.name,\n",
    "    units=\"GHz\",\n",
    "    start_frequency=6,\n",
    "    stop_frequency=15,\n",
    "    num_of_freq_points=401,\n",
    "    name=\"sweep1\",\n",
    "    sweep_type=\"Interpolating\",\n",
    "    interpolation_tol=6,\n",
    "    save_fields=False,\n",
    ")"
   ]
  },
  {
   "cell_type": "markdown",
   "id": "7551d4b5",
   "metadata": {},
   "source": [
    "### Run analysis\n",
    "\n",
    "Save the project and run the analysis."
   ]
  },
  {
   "cell_type": "code",
   "execution_count": 16,
   "id": "97e2834c",
   "metadata": {
    "execution": {
     "iopub.execute_input": "2025-10-30T04:52:14.409816Z",
     "iopub.status.busy": "2025-10-30T04:52:14.409816Z",
     "iopub.status.idle": "2025-10-30T04:53:23.245787Z",
     "shell.execute_reply": "2025-10-30T04:53:23.245787Z"
    }
   },
   "outputs": [
    {
     "name": "stdout",
     "output_type": "stream",
     "text": [
      "PyAEDT INFO: Project FSS Saved correctly\n"
     ]
    },
    {
     "name": "stdout",
     "output_type": "stream",
     "text": [
      "PyAEDT INFO: Project FSS Saved correctly\n"
     ]
    },
    {
     "name": "stdout",
     "output_type": "stream",
     "text": [
      "PyAEDT INFO: Solving all design setups. Analysis started...\n"
     ]
    },
    {
     "name": "stdout",
     "output_type": "stream",
     "text": [
      "PyAEDT INFO: Design setup None solved correctly in 0.0h 1.0m 8.0s\n"
     ]
    },
    {
     "data": {
      "text/plain": [
       "True"
      ]
     },
     "execution_count": 16,
     "metadata": {},
     "output_type": "execute_result"
    }
   ],
   "source": [
    "hfss.save_project()\n",
    "hfss.analyze()"
   ]
  },
  {
   "cell_type": "markdown",
   "id": "0edcdf2c",
   "metadata": {},
   "source": [
    "## Postprocess\n",
    "\n",
    "The syntax used to plot network parameters (S-, Y-, Z-) can be complicated. The\n",
    "method ``get_traces_for_plot()`` is helpful to retrieve the names of valid\n",
    "traces to use for ploting.\n",
    "\n",
    "We'll plot imaginary impedance,  $ \\Im (Z_{i,j}) $ \n",
    "where $ i $, and $ j $ indices correspond to the two\n",
    "linear polarization states."
   ]
  },
  {
   "cell_type": "code",
   "execution_count": 17,
   "id": "6ff92b52",
   "metadata": {
    "execution": {
     "iopub.execute_input": "2025-10-30T04:53:23.245787Z",
     "iopub.status.busy": "2025-10-30T04:53:23.245787Z",
     "iopub.status.idle": "2025-10-30T04:53:23.261903Z",
     "shell.execute_reply": "2025-10-30T04:53:23.261903Z"
    }
   },
   "outputs": [
    {
     "name": "stdout",
     "output_type": "stream",
     "text": [
      "The imaginary wave impedance can be displayed using the traces\n",
      "--> im(Z(port_z_max:2,port_z_max:2))\n",
      "--> im(Z(port_z_max:1,port_z_max:1))\n",
      "--> im(Z(port_z_max:2,port_z_max:1))\n",
      "--> im(Z(port_z_max:1,port_z_max:2))\n",
      "\n"
     ]
    }
   ],
   "source": [
    "plot_data = hfss.get_traces_for_plot(category=\"im(Z\")\n",
    "msg = \"The imaginary wave impedance can be displayed using \"\n",
    "msg += \"the traces\\n\"\n",
    "msg += \"\".join([\"--> \" + name + \"\\n\" for name in plot_data])\n",
    "print(msg)"
   ]
  },
  {
   "cell_type": "markdown",
   "id": "2544fc9b",
   "metadata": {},
   "source": [
    "The Floquet port was automatically named \"port_z_max\".\n",
    "Due to symmetry, only the first two parameters are unique.\n",
    "\n",
    "### Generate a report in HFSS"
   ]
  },
  {
   "cell_type": "code",
   "execution_count": 18,
   "id": "d78b4a00",
   "metadata": {
    "execution": {
     "iopub.execute_input": "2025-10-30T04:53:23.261903Z",
     "iopub.status.busy": "2025-10-30T04:53:23.261903Z",
     "iopub.status.idle": "2025-10-30T04:53:23.864901Z",
     "shell.execute_reply": "2025-10-30T04:53:23.864901Z"
    }
   },
   "outputs": [
    {
     "name": "stdout",
     "output_type": "stream",
     "text": [
      "PyAEDT INFO: Parsing C:\\Users\\ansys\\AppData\\Local\\Temp\\tmp0et02ec_.ansys\\FSS.aedt.\n"
     ]
    },
    {
     "name": "stdout",
     "output_type": "stream",
     "text": [
      "PyAEDT INFO: File C:\\Users\\ansys\\AppData\\Local\\Temp\\tmp0et02ec_.ansys\\FSS.aedt correctly loaded. Elapsed time: 0m 0sec\n"
     ]
    },
    {
     "name": "stdout",
     "output_type": "stream",
     "text": [
      "PyAEDT INFO: aedt file load time 0.02124166488647461\n"
     ]
    },
    {
     "name": "stdout",
     "output_type": "stream",
     "text": [
      "PyAEDT INFO: PostProcessor class has been initialized! Elapsed time: 0m 0sec\n"
     ]
    },
    {
     "name": "stdout",
     "output_type": "stream",
     "text": [
      "PyAEDT INFO: PostProcessor class has been initialized! Elapsed time: 0m 0sec\n"
     ]
    },
    {
     "name": "stdout",
     "output_type": "stream",
     "text": [
      "PyAEDT INFO: Post class has been initialized! Elapsed time: 0m 0sec\n"
     ]
    },
    {
     "name": "stdout",
     "output_type": "stream",
     "text": [
      "PyAEDT WARNING: No report category provided. Automatically identified Modal Solution Data\n"
     ]
    }
   ],
   "source": [
    "report = hfss.post.create_report(plot_data[0:2])"
   ]
  },
  {
   "cell_type": "markdown",
   "id": "126c43ef",
   "metadata": {},
   "source": [
    "### Retrieve data for postprocessing in Matplotlib\n",
    "\n",
    "The method ``get_solution_data()`` retrieves data from the report in HFSS \n",
    "and makes it available for postprocessing with Matplotlib. "
   ]
  },
  {
   "cell_type": "code",
   "execution_count": 19,
   "id": "42efc883",
   "metadata": {
    "execution": {
     "iopub.execute_input": "2025-10-30T04:53:23.864901Z",
     "iopub.status.busy": "2025-10-30T04:53:23.864901Z",
     "iopub.status.idle": "2025-10-30T04:53:25.067245Z",
     "shell.execute_reply": "2025-10-30T04:53:25.067245Z"
    }
   },
   "outputs": [
    {
     "name": "stdout",
     "output_type": "stream",
     "text": [
      "PyAEDT INFO: Solution Data Correctly Loaded.\n"
     ]
    },
    {
     "name": "stdout",
     "output_type": "stream",
     "text": [
      "Time to initialize solution data:0.02196192741394043\n",
      "Time to initialize solution data:0.02196192741394043\n"
     ]
    },
    {
     "data": {
      "image/png": "[encoded data removed]",
      "text/plain": [
       "<Figure size 1920x1440 with 2 Axes>"
      ]
     },
     "metadata": {},
     "output_type": "display_data"
    }
   ],
   "source": [
    "solution = report.get_solution_data()\n",
    "plt = solution.plot(solution.expressions)"
   ]
  },
  {
   "cell_type": "markdown",
   "id": "f201f5e6",
   "metadata": {},
   "source": [
    "## Release AEDT"
   ]
  },
  {
   "cell_type": "code",
   "execution_count": 20,
   "id": "5279ed47",
   "metadata": {
    "execution": {
     "iopub.execute_input": "2025-10-30T04:53:25.067245Z",
     "iopub.status.busy": "2025-10-30T04:53:25.067245Z",
     "iopub.status.idle": "2025-10-30T04:53:50.184761Z",
     "shell.execute_reply": "2025-10-30T04:53:50.184761Z"
    }
   },
   "outputs": [
    {
     "name": "stdout",
     "output_type": "stream",
     "text": [
      "PyAEDT INFO: Desktop has been released and closed.\n"
     ]
    }
   ],
   "source": [
    "hfss.release_desktop()\n",
    "# Wait 3 seconds to allow AEDT to shut down before cleaning the temporary directory.\n",
    "time.sleep(3)"
   ]
  },
  {
   "cell_type": "markdown",
   "id": "71578950",
   "metadata": {},
   "source": [
    "## Clean up\n",
    "\n",
    "All project files are saved in the folder ``temp_folder.name``.\n",
    "If you've run this example as a Jupyter notebook, you\n",
    "can retrieve those project files. The following cell removes\n",
    "all temporary files, including the project folder."
   ]
  },
  {
   "cell_type": "code",
   "execution_count": 21,
   "id": "a805537a",
   "metadata": {
    "execution": {
     "iopub.execute_input": "2025-10-30T04:53:50.184761Z",
     "iopub.status.busy": "2025-10-30T04:53:50.184761Z",
     "iopub.status.idle": "2025-10-30T04:53:50.200681Z",
     "shell.execute_reply": "2025-10-30T04:53:50.200681Z"
    }
   },
   "outputs": [],
   "source": [
    "temp_folder.cleanup()"
   ]
  }
 ],
 "metadata": {
  "jupytext": {
   "cell_metadata_filter": "-all",
   "main_language": "python",
   "notebook_metadata_filter": "-all"
  },
  "language_info": {
   "codemirror_mode": {
    "name": "ipython",
    "version": 3
   },
   "file_extension": ".py",
   "mimetype": "text/x-python",
   "name": "python",
   "nbconvert_exporter": "python",
   "pygments_lexer": "ipython3",
   "version": "3.10.11"
  }
 },
 "nbformat": 4,
 "nbformat_minor": 5
}
