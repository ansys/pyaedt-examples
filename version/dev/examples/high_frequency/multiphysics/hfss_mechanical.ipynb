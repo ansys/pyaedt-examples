{
 "cells": [
  {
   "cell_type": "markdown",
   "id": "30f2673b",
   "metadata": {},
   "source": [
    "# HFSS-Mechanical multiphysics analysis\n",
    "\n",
    "This example shows how to use PyAEDT to create a multiphysics workflow that\n",
    "includes Circuit, HFSS, and Mechanical.\n",
    "\n",
    "Keywords: **Multiphysics**, **HFSS**, **Mechanical AEDT**, **Circuit**."
   ]
  },
  {
   "cell_type": "markdown",
   "id": "b72f73b3",
   "metadata": {},
   "source": [
    "## Perform imports and define constants\n",
    "\n",
    "Perform required imports."
   ]
  },
  {
   "cell_type": "code",
   "execution_count": 1,
   "id": "1fa5d8c2",
   "metadata": {
    "execution": {
     "iopub.execute_input": "2025-10-30T05:47:49.718910Z",
     "iopub.status.busy": "2025-10-30T05:47:49.718910Z",
     "iopub.status.idle": "2025-10-30T05:47:52.851867Z",
     "shell.execute_reply": "2025-10-30T05:47:52.851867Z"
    }
   },
   "outputs": [],
   "source": [
    "import tempfile\n",
    "import time\n",
    "\n",
    "import ansys.aedt.core\n",
    "from ansys.aedt.core.examples.downloads import download_via_wizard"
   ]
  },
  {
   "cell_type": "markdown",
   "id": "cfa19c6a",
   "metadata": {},
   "source": [
    "Define constants."
   ]
  },
  {
   "cell_type": "code",
   "execution_count": 2,
   "id": "cbc1a2ad",
   "metadata": {
    "execution": {
     "iopub.execute_input": "2025-10-30T05:47:52.851867Z",
     "iopub.status.busy": "2025-10-30T05:47:52.851867Z",
     "iopub.status.idle": "2025-10-30T05:47:52.867773Z",
     "shell.execute_reply": "2025-10-30T05:47:52.867773Z"
    }
   },
   "outputs": [],
   "source": [
    "AEDT_VERSION = \"2025.2\"\n",
    "NUM_CORES = 4\n",
    "NG_MODE = False  # Open AEDT UI when it is launched."
   ]
  },
  {
   "cell_type": "markdown",
   "id": "2c7555a6",
   "metadata": {},
   "source": [
    "## Create temporary directory\n",
    "\n",
    "Create a temporary directory where downloaded data or\n",
    "dumped data can be stored.\n",
    "If you'd like to retrieve the project data for subsequent use,\n",
    "the temporary folder name is given by ``temp_folder.name``."
   ]
  },
  {
   "cell_type": "code",
   "execution_count": 3,
   "id": "9dfb9f3b",
   "metadata": {
    "execution": {
     "iopub.execute_input": "2025-10-30T05:47:52.867773Z",
     "iopub.status.busy": "2025-10-30T05:47:52.867773Z",
     "iopub.status.idle": "2025-10-30T05:47:52.883488Z",
     "shell.execute_reply": "2025-10-30T05:47:52.883488Z"
    }
   },
   "outputs": [],
   "source": [
    "temp_folder = tempfile.TemporaryDirectory(suffix=\".ansys\")"
   ]
  },
  {
   "cell_type": "markdown",
   "id": "f6c42a6d",
   "metadata": {},
   "source": [
    "## Download and open project\n",
    "\n",
    "Download and open the project. Save it to the temporary folder."
   ]
  },
  {
   "cell_type": "code",
   "execution_count": 4,
   "id": "85e0efcc",
   "metadata": {
    "execution": {
     "iopub.execute_input": "2025-10-30T05:47:52.887514Z",
     "iopub.status.busy": "2025-10-30T05:47:52.887514Z",
     "iopub.status.idle": "2025-10-30T05:47:53.382784Z",
     "shell.execute_reply": "2025-10-30T05:47:53.382784Z"
    }
   },
   "outputs": [],
   "source": [
    "project_name = download_via_wizard(\n",
    "    local_path=temp_folder.name\n",
    ")"
   ]
  },
  {
   "cell_type": "markdown",
   "id": "04f26cdb",
   "metadata": {},
   "source": [
    "## Start HFSS\n",
    "\n",
    "Initialize HFSS."
   ]
  },
  {
   "cell_type": "code",
   "execution_count": 5,
   "id": "e290df00",
   "metadata": {
    "execution": {
     "iopub.execute_input": "2025-10-30T05:47:53.382784Z",
     "iopub.status.busy": "2025-10-30T05:47:53.382784Z",
     "iopub.status.idle": "2025-10-30T05:48:21.558732Z",
     "shell.execute_reply": "2025-10-30T05:48:21.558732Z"
    }
   },
   "outputs": [
    {
     "name": "stdout",
     "output_type": "stream",
     "text": [
      "PyAEDT INFO: Parsing C:\\Users\\ansys\\AppData\\Local\\Temp\\tmp6kctf349.ansys\\viawizard_vacuum_FR4.aedt.\n"
     ]
    },
    {
     "name": "stdout",
     "output_type": "stream",
     "text": [
      "PyAEDT INFO: Python version 3.10.11 (tags/v3.10.11:7d4cc5a, Apr  5 2023, 00:38:17) [MSC v.1929 64 bit (AMD64)].\n"
     ]
    },
    {
     "name": "stdout",
     "output_type": "stream",
     "text": [
      "PyAEDT INFO: PyAEDT version 0.22.dev0.\n"
     ]
    },
    {
     "name": "stdout",
     "output_type": "stream",
     "text": [
      "PyAEDT INFO: Initializing new Desktop session.\n"
     ]
    },
    {
     "name": "stdout",
     "output_type": "stream",
     "text": [
      "PyAEDT INFO: Log on console is enabled.\n"
     ]
    },
    {
     "name": "stdout",
     "output_type": "stream",
     "text": [
      "PyAEDT INFO: Log on file C:\\Users\\ansys\\AppData\\Local\\Temp\\pyaedt_ansys_0e6106f7-4eec-4018-96d5-42dc61d18323.log is enabled.\n"
     ]
    },
    {
     "name": "stdout",
     "output_type": "stream",
     "text": [
      "PyAEDT INFO: Log on AEDT is disabled.\n"
     ]
    },
    {
     "name": "stdout",
     "output_type": "stream",
     "text": [
      "PyAEDT INFO: Debug logger is disabled. PyAEDT methods will not be logged.\n"
     ]
    },
    {
     "name": "stdout",
     "output_type": "stream",
     "text": [
      "PyAEDT INFO: Launching PyAEDT with gRPC plugin.\n"
     ]
    },
    {
     "name": "stdout",
     "output_type": "stream",
     "text": [
      "PyAEDT INFO: New AEDT session is starting on gRPC port 59809.\n"
     ]
    },
    {
     "name": "stdout",
     "output_type": "stream",
     "text": [
      "PyAEDT INFO: File C:\\Users\\ansys\\AppData\\Local\\Temp\\tmp6kctf349.ansys\\viawizard_vacuum_FR4.aedt correctly loaded. Elapsed time: 0m 0sec\n"
     ]
    },
    {
     "name": "stdout",
     "output_type": "stream",
     "text": [
      "PyAEDT INFO: Electronics Desktop started on gRPC port: 59809 after 10.032746076583862 seconds.\n"
     ]
    },
    {
     "name": "stdout",
     "output_type": "stream",
     "text": [
      "PyAEDT INFO: AEDT installation Path C:\\Program Files\\ANSYS Inc\\v252\\AnsysEM\n"
     ]
    },
    {
     "name": "stdout",
     "output_type": "stream",
     "text": [
      "PyAEDT INFO: Ansoft.ElectronicsDesktop.2025.2 version started with process ID 8640.\n"
     ]
    },
    {
     "name": "stdout",
     "output_type": "stream",
     "text": [
      "PyAEDT INFO: Project viawizard_vacuum_FR4 has been opened.\n"
     ]
    },
    {
     "name": "stdout",
     "output_type": "stream",
     "text": [
      "PyAEDT INFO: Active Design set to HFSSDesign1\n"
     ]
    },
    {
     "name": "stdout",
     "output_type": "stream",
     "text": [
      "PyAEDT INFO: Active Design set to HFSSDesign1\n"
     ]
    },
    {
     "name": "stdout",
     "output_type": "stream",
     "text": [
      "PyAEDT INFO: Aedt Objects correctly read\n"
     ]
    },
    {
     "name": "stdout",
     "output_type": "stream",
     "text": [
      "PyAEDT INFO: Enabling Material Override\n"
     ]
    },
    {
     "data": {
      "text/plain": [
       "True"
      ]
     },
     "execution_count": 5,
     "metadata": {},
     "output_type": "execute_result"
    }
   ],
   "source": [
    "hfss = ansys.aedt.core.Hfss(\n",
    "    project=project_name,\n",
    "    version=AEDT_VERSION,\n",
    "    non_graphical=NG_MODE,\n",
    "    new_desktop=True,\n",
    ")\n",
    "hfss.change_material_override(True)"
   ]
  },
  {
   "cell_type": "markdown",
   "id": "3d639ab8",
   "metadata": {},
   "source": [
    "## Initialize Circuit\n",
    "\n",
    "Initialize Circuit and add the HFSS dynamic link component."
   ]
  },
  {
   "cell_type": "code",
   "execution_count": 6,
   "id": "c1af8fb2",
   "metadata": {
    "execution": {
     "iopub.execute_input": "2025-10-30T05:48:21.558732Z",
     "iopub.status.busy": "2025-10-30T05:48:21.558732Z",
     "iopub.status.idle": "2025-10-30T05:48:24.992225Z",
     "shell.execute_reply": "2025-10-30T05:48:24.992225Z"
    }
   },
   "outputs": [
    {
     "name": "stdout",
     "output_type": "stream",
     "text": [
      "PyAEDT INFO: Python version 3.10.11 (tags/v3.10.11:7d4cc5a, Apr  5 2023, 00:38:17) [MSC v.1929 64 bit (AMD64)].\n"
     ]
    },
    {
     "name": "stdout",
     "output_type": "stream",
     "text": [
      "PyAEDT INFO: PyAEDT version 0.22.dev0.\n"
     ]
    },
    {
     "name": "stdout",
     "output_type": "stream",
     "text": [
      "PyAEDT INFO: Returning found Desktop session with PID 8640!\n"
     ]
    },
    {
     "name": "stdout",
     "output_type": "stream",
     "text": [
      "PyAEDT INFO: No project is defined. Project viawizard_vacuum_FR4 exists and has been read.\n"
     ]
    },
    {
     "name": "stdout",
     "output_type": "stream",
     "text": [
      "PyAEDT INFO: No consistent unique design is present. Inserting a new design.\n"
     ]
    },
    {
     "name": "stdout",
     "output_type": "stream",
     "text": [
      "PyAEDT INFO: Added design 'Circuit Design_B1F' of type Circuit Design.\n"
     ]
    },
    {
     "name": "stdout",
     "output_type": "stream",
     "text": [
      "PyAEDT INFO: Aedt Objects correctly read\n"
     ]
    },
    {
     "name": "stdout",
     "output_type": "stream",
     "text": [
      "PyAEDT INFO: ModelerCircuit class has been initialized! Elapsed time: 0m 0sec\n"
     ]
    },
    {
     "name": "stdout",
     "output_type": "stream",
     "text": [
      "PyAEDT INFO: ModelerNexxim class has been initialized!\n"
     ]
    },
    {
     "name": "stdout",
     "output_type": "stream",
     "text": [
      "PyAEDT INFO: Modeler class has been initialized! Elapsed time: 0m 0sec\n"
     ]
    }
   ],
   "source": [
    "circuit = ansys.aedt.core.Circuit(version=AEDT_VERSION)\n",
    "hfss_comp = circuit.modeler.schematic.add_subcircuit_dynamic_link(pyaedt_app=hfss)"
   ]
  },
  {
   "cell_type": "markdown",
   "id": "d0bbe09a",
   "metadata": {},
   "source": [
    "## Set up dynamic link options\n",
    "\n",
    "Set up dynamic link options. The argument for the ``set_sim_option_on_hfss_subcircuit()``\n",
    "method can be the component name, component ID, or component object."
   ]
  },
  {
   "cell_type": "code",
   "execution_count": 7,
   "id": "3278905b",
   "metadata": {
    "execution": {
     "iopub.execute_input": "2025-10-30T05:48:24.995605Z",
     "iopub.status.busy": "2025-10-30T05:48:24.995605Z",
     "iopub.status.idle": "2025-10-30T05:48:25.230219Z",
     "shell.execute_reply": "2025-10-30T05:48:25.230219Z"
    }
   },
   "outputs": [
    {
     "name": "stdout",
     "output_type": "stream",
     "text": [
      "PyAEDT WARNING: Parameter 'ID' is invalid and will be ignored.\n"
     ]
    },
    {
     "name": "stdout",
     "output_type": "stream",
     "text": [
      "PyAEDT WARNING: Parameter 'MinSolvedFreq' is invalid and will be ignored.\n"
     ]
    },
    {
     "data": {
      "text/plain": [
       "True"
      ]
     },
     "execution_count": 7,
     "metadata": {},
     "output_type": "execute_result"
    }
   ],
   "source": [
    "circuit.modeler.schematic.refresh_dynamic_link(name=hfss_comp.composed_name)\n",
    "circuit.modeler.schematic.set_sim_option_on_hfss_subcircuit(component=hfss_comp)\n",
    "hfss_setup_name = hfss.setups[0].name + \" : \" + hfss.setups[0].sweeps[0].name\n",
    "circuit.modeler.schematic.set_sim_solution_on_hfss_subcircuit(\n",
    "    component=hfss_comp.composed_name, solution_name=hfss_setup_name\n",
    ")"
   ]
  },
  {
   "cell_type": "markdown",
   "id": "f5847d6f",
   "metadata": {},
   "source": [
    "## Create ports and excitations\n",
    "\n",
    "Create ports and excitations. Find component pin locations and create interface\n",
    "ports on them. Define the voltage source on the input port."
   ]
  },
  {
   "cell_type": "code",
   "execution_count": 8,
   "id": "e080df69",
   "metadata": {
    "execution": {
     "iopub.execute_input": "2025-10-30T05:48:25.230219Z",
     "iopub.status.busy": "2025-10-30T05:48:25.230219Z",
     "iopub.status.idle": "2025-10-30T05:48:25.639986Z",
     "shell.execute_reply": "2025-10-30T05:48:25.639986Z"
    }
   },
   "outputs": [],
   "source": [
    "circuit.modeler.schematic.create_interface_port(\n",
    "    name=\"Excitation_1\",\n",
    "    location=[hfss_comp.pins[0].location[0], hfss_comp.pins[0].location[1]],\n",
    ")\n",
    "circuit.modeler.schematic.create_interface_port(\n",
    "    name=\"Excitation_2\",\n",
    "    location=[hfss_comp.pins[1].location[0], hfss_comp.pins[1].location[1]],\n",
    ")\n",
    "circuit.modeler.schematic.create_interface_port(\n",
    "    name=\"Port_1\",\n",
    "    location=[hfss_comp.pins[2].location[0], hfss_comp.pins[2].location[1]],\n",
    ")\n",
    "circuit.modeler.schematic.create_interface_port(\n",
    "    name=\"Port_2\",\n",
    "    location=[hfss_comp.pins[3].location[0], hfss_comp.pins[3].location[1]],\n",
    ")\n",
    "\n",
    "ports_list = [\"Excitation_1\", \"Excitation_2\"]\n",
    "source = circuit.assign_voltage_sinusoidal_excitation_to_ports(ports_list)\n",
    "source.ac_magnitude = 1\n",
    "source.phase = 0"
   ]
  },
  {
   "cell_type": "markdown",
   "id": "5c481fcf",
   "metadata": {},
   "source": [
    "## Create setup"
   ]
  },
  {
   "cell_type": "code",
   "execution_count": 9,
   "id": "98420a33",
   "metadata": {
    "execution": {
     "iopub.execute_input": "2025-10-30T05:48:25.643577Z",
     "iopub.status.busy": "2025-10-30T05:48:25.643577Z",
     "iopub.status.idle": "2025-10-30T05:48:25.704325Z",
     "shell.execute_reply": "2025-10-30T05:48:25.704325Z"
    }
   },
   "outputs": [],
   "source": [
    "setup_name = \"MySetup\"\n",
    "LNA_setup = circuit.create_setup(name=setup_name)\n",
    "sweep_list = [\"LINC\", str(4.3) + \"GHz\", str(4.4) + \"GHz\", str(1001)]\n",
    "LNA_setup.props[\"SweepDefinition\"][\"Data\"] = \" \".join(sweep_list)"
   ]
  },
  {
   "cell_type": "markdown",
   "id": "4af52dde",
   "metadata": {},
   "source": [
    "## Solve and push excitations\n",
    "\n",
    "Solve the circuit and push excitations to the HFSS model to calculate the\n",
    "correct value of losses."
   ]
  },
  {
   "cell_type": "code",
   "execution_count": 10,
   "id": "9a423c12",
   "metadata": {
    "execution": {
     "iopub.execute_input": "2025-10-30T05:48:25.704325Z",
     "iopub.status.busy": "2025-10-30T05:48:25.704325Z",
     "iopub.status.idle": "2025-10-30T05:50:36.597025Z",
     "shell.execute_reply": "2025-10-30T05:50:36.597025Z"
    }
   },
   "outputs": [
    {
     "name": "stdout",
     "output_type": "stream",
     "text": [
      "PyAEDT INFO: Project viawizard_vacuum_FR4 Saved correctly\n"
     ]
    },
    {
     "name": "stdout",
     "output_type": "stream",
     "text": [
      "PyAEDT INFO: Key Desktop/ActiveDSOConfigurations/Circuit Design correctly changed.\n"
     ]
    },
    {
     "name": "stdout",
     "output_type": "stream",
     "text": [
      "PyAEDT INFO: Solving all design setups. Analysis started...\n"
     ]
    },
    {
     "name": "stdout",
     "output_type": "stream",
     "text": [
      "PyAEDT INFO: Design setup None solved correctly in 0.0h 2.0m 9.0s\n"
     ]
    },
    {
     "name": "stdout",
     "output_type": "stream",
     "text": [
      "PyAEDT INFO: Key Desktop/ActiveDSOConfigurations/Circuit Design correctly changed.\n"
     ]
    },
    {
     "data": {
      "text/plain": [
       "True"
      ]
     },
     "execution_count": 10,
     "metadata": {},
     "output_type": "execute_result"
    }
   ],
   "source": [
    "circuit.analyze(cores=NUM_CORES)\n",
    "circuit.push_excitations(instance=\"S1\", setup=setup_name)"
   ]
  },
  {
   "cell_type": "markdown",
   "id": "183e648d",
   "metadata": {},
   "source": [
    "## Start Mechanical\n",
    "\n",
    "Start Mechanical and copy bodies from the HFSS project."
   ]
  },
  {
   "cell_type": "code",
   "execution_count": 11,
   "id": "7ac56188",
   "metadata": {
    "execution": {
     "iopub.execute_input": "2025-10-30T05:50:36.597025Z",
     "iopub.status.busy": "2025-10-30T05:50:36.597025Z",
     "iopub.status.idle": "2025-10-30T05:50:38.234063Z",
     "shell.execute_reply": "2025-10-30T05:50:38.234063Z"
    }
   },
   "outputs": [
    {
     "name": "stdout",
     "output_type": "stream",
     "text": [
      "PyAEDT INFO: Python version 3.10.11 (tags/v3.10.11:7d4cc5a, Apr  5 2023, 00:38:17) [MSC v.1929 64 bit (AMD64)].\n"
     ]
    },
    {
     "name": "stdout",
     "output_type": "stream",
     "text": [
      "PyAEDT INFO: PyAEDT version 0.22.dev0.\n"
     ]
    },
    {
     "name": "stdout",
     "output_type": "stream",
     "text": [
      "PyAEDT INFO: Returning found Desktop session with PID 8640!\n"
     ]
    },
    {
     "name": "stdout",
     "output_type": "stream",
     "text": [
      "PyAEDT INFO: No project is defined. Project viawizard_vacuum_FR4 exists and has been read.\n"
     ]
    },
    {
     "name": "stdout",
     "output_type": "stream",
     "text": [
      "PyAEDT INFO: No consistent unique design is present. Inserting a new design.\n"
     ]
    },
    {
     "name": "stdout",
     "output_type": "stream",
     "text": [
      "PyAEDT INFO: Added design 'Mechanical_WBG' of type Mechanical.\n"
     ]
    },
    {
     "name": "stdout",
     "output_type": "stream",
     "text": [
      "PyAEDT INFO: Aedt Objects correctly read\n"
     ]
    },
    {
     "name": "stdout",
     "output_type": "stream",
     "text": [
      "PyAEDT INFO: Modeler class has been initialized! Elapsed time: 0m 1sec\n"
     ]
    },
    {
     "name": "stdout",
     "output_type": "stream",
     "text": [
      "PyAEDT INFO: Modeler class has been initialized! Elapsed time: 0m 0sec\n"
     ]
    },
    {
     "name": "stdout",
     "output_type": "stream",
     "text": [
      "PyAEDT INFO: Parsing design objects. This operation can take time\n"
     ]
    },
    {
     "name": "stdout",
     "output_type": "stream",
     "text": [
      "PyAEDT INFO: Refreshing bodies from Object Info\n"
     ]
    },
    {
     "name": "stdout",
     "output_type": "stream",
     "text": [
      "PyAEDT INFO: Bodies Info Refreshed Elapsed time: 0m 0sec\n"
     ]
    },
    {
     "name": "stdout",
     "output_type": "stream",
     "text": [
      "PyAEDT INFO: 3D Modeler objects parsed. Elapsed time: 0m 0sec\n"
     ]
    },
    {
     "name": "stdout",
     "output_type": "stream",
     "text": [
      "PyAEDT INFO: Enabling Material Override\n"
     ]
    },
    {
     "data": {
      "text/plain": [
       "True"
      ]
     },
     "execution_count": 11,
     "metadata": {},
     "output_type": "execute_result"
    }
   ],
   "source": [
    "mech = ansys.aedt.core.Mechanical(version=AEDT_VERSION)\n",
    "mech.copy_solid_bodies_from(design=hfss)\n",
    "mech.change_material_override(True)"
   ]
  },
  {
   "cell_type": "markdown",
   "id": "514bed59",
   "metadata": {},
   "source": [
    "## Get losses from HFSS and assign convection to Mechanical"
   ]
  },
  {
   "cell_type": "code",
   "execution_count": 12,
   "id": "40ad35ba",
   "metadata": {
    "execution": {
     "iopub.execute_input": "2025-10-30T05:50:38.234063Z",
     "iopub.status.busy": "2025-10-30T05:50:38.234063Z",
     "iopub.status.idle": "2025-10-30T05:50:44.130294Z",
     "shell.execute_reply": "2025-10-30T05:50:44.130294Z"
    }
   },
   "outputs": [
    {
     "name": "stdout",
     "output_type": "stream",
     "text": [
      "PyAEDT INFO: Parsing C:\\Users\\ansys\\AppData\\Local\\Temp\\tmp6kctf349.ansys\\viawizard_vacuum_FR4.aedt.\n"
     ]
    },
    {
     "name": "stdout",
     "output_type": "stream",
     "text": [
      "PyAEDT INFO: File C:\\Users\\ansys\\AppData\\Local\\Temp\\tmp6kctf349.ansys\\viawizard_vacuum_FR4.aedt correctly loaded. Elapsed time: 0m 0sec\n"
     ]
    },
    {
     "name": "stdout",
     "output_type": "stream",
     "text": [
      "PyAEDT INFO: aedt file load time 0.13353300094604492\n"
     ]
    },
    {
     "name": "stdout",
     "output_type": "stream",
     "text": [
      "PyAEDT INFO: Materials class has been initialized! Elapsed time: 0m 0sec\n"
     ]
    },
    {
     "name": "stdout",
     "output_type": "stream",
     "text": [
      "PyAEDT INFO: Mapping HFSS EM Loss\n"
     ]
    },
    {
     "name": "stdout",
     "output_type": "stream",
     "text": [
      "PyAEDT INFO: Boundary EMLoss EMLoss_FJJSLB has been created.\n"
     ]
    },
    {
     "name": "stdout",
     "output_type": "stream",
     "text": [
      "PyAEDT INFO: Boundary Convection Convection_3OISBX has been created.\n"
     ]
    },
    {
     "name": "stdout",
     "output_type": "stream",
     "text": [
      "PyAEDT INFO: Boundary Convection Convection_L83K00 has been created.\n"
     ]
    },
    {
     "name": "stdout",
     "output_type": "stream",
     "text": [
      "PyAEDT INFO: Boundary Convection Convection_UEVVBM has been created.\n"
     ]
    },
    {
     "name": "stdout",
     "output_type": "stream",
     "text": [
      "PyAEDT INFO: Boundary Convection Convection_NHGF72 has been created.\n"
     ]
    },
    {
     "name": "stdout",
     "output_type": "stream",
     "text": [
      "PyAEDT INFO: Boundary Convection Convection_F0J24Z has been created.\n"
     ]
    }
   ],
   "source": [
    "mech.assign_em_losses(\n",
    "    design=hfss.design_name,\n",
    "    setup=hfss.setups[0].name,\n",
    "    sweep=\"LastAdaptive\",\n",
    "    map_frequency=hfss.setups[0].props[\"Frequency\"],\n",
    "    surface_objects=hfss.get_all_conductors_names(),\n",
    ")\n",
    "diels = [\"1_pd\", \"2_pd\", \"3_pd\", \"4_pd\", \"5_pd\"]\n",
    "for el in diels:\n",
    "    mech.assign_uniform_convection(\n",
    "        assignment=[mech.modeler[el].top_face_y, mech.modeler[el].bottom_face_y],\n",
    "        convection_value=3,\n",
    "    )"
   ]
  },
  {
   "cell_type": "markdown",
   "id": "2f9fc111",
   "metadata": {},
   "source": [
    "## Solve and plot thermal results"
   ]
  },
  {
   "cell_type": "code",
   "execution_count": 13,
   "id": "8dd07914",
   "metadata": {
    "execution": {
     "iopub.execute_input": "2025-10-30T05:50:44.130294Z",
     "iopub.status.busy": "2025-10-30T05:50:44.130294Z",
     "iopub.status.idle": "2025-10-30T05:52:22.716817Z",
     "shell.execute_reply": "2025-10-30T05:52:22.716817Z"
    }
   },
   "outputs": [
    {
     "name": "stdout",
     "output_type": "stream",
     "text": [
      "PyAEDT INFO: Project viawizard_vacuum_FR4 Saved correctly\n"
     ]
    },
    {
     "name": "stdout",
     "output_type": "stream",
     "text": [
      "PyAEDT INFO: Project viawizard_vacuum_FR4 Saved correctly\n"
     ]
    },
    {
     "name": "stdout",
     "output_type": "stream",
     "text": [
      "PyAEDT INFO: Key Desktop/ActiveDSOConfigurations/Mechanical correctly changed.\n"
     ]
    },
    {
     "name": "stdout",
     "output_type": "stream",
     "text": [
      "PyAEDT INFO: Solving all design setups. Analysis started...\n"
     ]
    },
    {
     "name": "stdout",
     "output_type": "stream",
     "text": [
      "PyAEDT INFO: Design setup None solved correctly in 0.0h 1.0m 32.0s\n"
     ]
    },
    {
     "name": "stdout",
     "output_type": "stream",
     "text": [
      "PyAEDT INFO: Key Desktop/ActiveDSOConfigurations/Mechanical correctly changed.\n"
     ]
    },
    {
     "name": "stdout",
     "output_type": "stream",
     "text": [
      "PyAEDT INFO: Materials class has been initialized! Elapsed time: 0m 0sec\n"
     ]
    },
    {
     "name": "stdout",
     "output_type": "stream",
     "text": [
      "PyAEDT INFO: Parsing C:\\Users\\ansys\\AppData\\Local\\Temp\\tmp6kctf349.ansys\\viawizard_vacuum_FR4.aedt.\n"
     ]
    },
    {
     "name": "stdout",
     "output_type": "stream",
     "text": [
      "PyAEDT INFO: File C:\\Users\\ansys\\AppData\\Local\\Temp\\tmp6kctf349.ansys\\viawizard_vacuum_FR4.aedt correctly loaded. Elapsed time: 0m 0sec\n"
     ]
    },
    {
     "name": "stdout",
     "output_type": "stream",
     "text": [
      "PyAEDT INFO: aedt file load time 0.2533292770385742\n"
     ]
    },
    {
     "name": "stdout",
     "output_type": "stream",
     "text": [
      "PyAEDT INFO: PostProcessor class has been initialized! Elapsed time: 0m 0sec\n"
     ]
    },
    {
     "name": "stdout",
     "output_type": "stream",
     "text": [
      "PyAEDT INFO: Post class has been initialized! Elapsed time: 0m 0sec\n"
     ]
    },
    {
     "name": "stdout",
     "output_type": "stream",
     "text": [
      "PyAEDT INFO: Active Design set to Mechanical_WBG\n"
     ]
    },
    {
     "data": {
      "text/plain": [
       "<ansys.aedt.core.visualization.post.field_data.FieldPlot at 0x218c61b9060>"
      ]
     },
     "execution_count": 13,
     "metadata": {},
     "output_type": "execute_result"
    }
   ],
   "source": [
    "mech.create_setup()\n",
    "mech.save_project()\n",
    "mech.analyze(cores=NUM_CORES)\n",
    "surfaces = []\n",
    "for name in mech.get_all_conductors_names():\n",
    "    surfaces.extend(mech.modeler.get_object_faces(name))\n",
    "mech.post.create_fieldplot_surface(assignment=surfaces, quantity=\"Temperature\")"
   ]
  },
  {
   "cell_type": "markdown",
   "id": "199131b7",
   "metadata": {},
   "source": [
    "## Release AEDT\n",
    "\n",
    "Release AEDT and close the example."
   ]
  },
  {
   "cell_type": "code",
   "execution_count": 14,
   "id": "34925bb7",
   "metadata": {
    "execution": {
     "iopub.execute_input": "2025-10-30T05:52:22.720830Z",
     "iopub.status.busy": "2025-10-30T05:52:22.720830Z",
     "iopub.status.idle": "2025-10-30T05:52:46.056857Z",
     "shell.execute_reply": "2025-10-30T05:52:46.056857Z"
    }
   },
   "outputs": [
    {
     "name": "stdout",
     "output_type": "stream",
     "text": [
      "PyAEDT INFO: Project viawizard_vacuum_FR4 Saved correctly\n"
     ]
    },
    {
     "name": "stdout",
     "output_type": "stream",
     "text": [
      "PyAEDT INFO: Desktop has been released and closed.\n"
     ]
    }
   ],
   "source": [
    "mech.save_project()\n",
    "mech.release_desktop()\n",
    "# Wait 3 seconds to allow AEDT to shut down before cleaning the temporary directory.\n",
    "time.sleep(3)"
   ]
  },
  {
   "cell_type": "markdown",
   "id": "78d8c6bd",
   "metadata": {},
   "source": [
    "## Clean up\n",
    "\n",
    "All project files are saved in the folder ``temp_folder.name``. If you've run this example as a Jupyter notebook, you\n",
    "can retrieve those project files. The following cell removes all temporary files, including the project folder."
   ]
  },
  {
   "cell_type": "code",
   "execution_count": 15,
   "id": "e159ca6f",
   "metadata": {
    "execution": {
     "iopub.execute_input": "2025-10-30T05:52:46.056857Z",
     "iopub.status.busy": "2025-10-30T05:52:46.056857Z",
     "iopub.status.idle": "2025-10-30T05:52:46.135943Z",
     "shell.execute_reply": "2025-10-30T05:52:46.135943Z"
    }
   },
   "outputs": [],
   "source": [
    "temp_folder.cleanup()"
   ]
  }
 ],
 "metadata": {
  "jupytext": {
   "cell_metadata_filter": "-all",
   "main_language": "python",
   "notebook_metadata_filter": "-all"
  },
  "language_info": {
   "codemirror_mode": {
    "name": "ipython",
    "version": 3
   },
   "file_extension": ".py",
   "mimetype": "text/x-python",
   "name": "python",
   "nbconvert_exporter": "python",
   "pygments_lexer": "ipython3",
   "version": "3.10.11"
  }
 },
 "nbformat": 4,
 "nbformat_minor": 5
}
