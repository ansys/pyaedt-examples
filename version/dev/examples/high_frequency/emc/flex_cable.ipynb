{
 "cells": [
  {
   "cell_type": "markdown",
   "id": "78d0e04b",
   "metadata": {},
   "source": [
    "# Flex cable CPWG\n",
    "\n",
    "This example shows how to use PyAEDT to create a flex cable CPWG\n",
    "(coplanar waveguide with ground).\n",
    "\n",
    "Keywords: **HFSS**, **flex cable**, **CPWG**."
   ]
  },
  {
   "cell_type": "markdown",
   "id": "9b54e35c",
   "metadata": {},
   "source": [
    "## Perform imports and define constants\n",
    "\n",
    "Perform required imports."
   ]
  },
  {
   "cell_type": "code",
   "execution_count": 1,
   "id": "253ca130",
   "metadata": {
    "execution": {
     "iopub.execute_input": "2025-10-30T05:16:51.421804Z",
     "iopub.status.busy": "2025-10-30T05:16:51.421804Z",
     "iopub.status.idle": "2025-10-30T05:16:54.522157Z",
     "shell.execute_reply": "2025-10-30T05:16:54.522157Z"
    }
   },
   "outputs": [],
   "source": [
    "import os\n",
    "import tempfile\n",
    "from math import cos, radians, sin, sqrt\n",
    "\n",
    "import ansys.aedt.core\n",
    "from ansys.aedt.core.generic.file_utils import generate_unique_name"
   ]
  },
  {
   "cell_type": "markdown",
   "id": "1df73ce4",
   "metadata": {},
   "source": [
    "Define constants."
   ]
  },
  {
   "cell_type": "code",
   "execution_count": 2,
   "id": "ef2bae6f",
   "metadata": {
    "execution": {
     "iopub.execute_input": "2025-10-30T05:16:54.522157Z",
     "iopub.status.busy": "2025-10-30T05:16:54.522157Z",
     "iopub.status.idle": "2025-10-30T05:16:54.537822Z",
     "shell.execute_reply": "2025-10-30T05:16:54.537822Z"
    }
   },
   "outputs": [],
   "source": [
    "AEDT_VERSION = \"2025.2\""
   ]
  },
  {
   "cell_type": "markdown",
   "id": "81a642dc",
   "metadata": {},
   "source": [
    "## Set non-graphical mode\n",
    "\n",
    "Set non-graphical mode.\n",
    "You can set ``non_graphical`` either to ``True`` or ``False``."
   ]
  },
  {
   "cell_type": "code",
   "execution_count": 3,
   "id": "4ab792ea",
   "metadata": {
    "execution": {
     "iopub.execute_input": "2025-10-30T05:16:54.537822Z",
     "iopub.status.busy": "2025-10-30T05:16:54.537822Z",
     "iopub.status.idle": "2025-10-30T05:16:54.553873Z",
     "shell.execute_reply": "2025-10-30T05:16:54.553873Z"
    }
   },
   "outputs": [],
   "source": [
    "non_graphical = False"
   ]
  },
  {
   "cell_type": "markdown",
   "id": "ee6400a9",
   "metadata": {},
   "source": [
    "## Create temporary directory\n",
    "\n",
    "Create a temporary directory where downloaded data or\n",
    "dumped data can be stored.\n",
    "If you'd like to retrieve the project data for subsequent use,\n",
    "the temporary folder name is given by ``temp_folder.name``."
   ]
  },
  {
   "cell_type": "code",
   "execution_count": 4,
   "id": "ca62671e",
   "metadata": {
    "execution": {
     "iopub.execute_input": "2025-10-30T05:16:54.553873Z",
     "iopub.status.busy": "2025-10-30T05:16:54.553873Z",
     "iopub.status.idle": "2025-10-30T05:16:54.569777Z",
     "shell.execute_reply": "2025-10-30T05:16:54.569777Z"
    }
   },
   "outputs": [],
   "source": [
    "temp_folder = tempfile.TemporaryDirectory(suffix=\".ansys\")"
   ]
  },
  {
   "cell_type": "markdown",
   "id": "d67ead2e",
   "metadata": {},
   "source": [
    "## Launch AEDT\n",
    "\n",
    "Launch AEDT, create an HFSS design, and save the project."
   ]
  },
  {
   "cell_type": "code",
   "execution_count": 5,
   "id": "45ee28a9",
   "metadata": {
    "execution": {
     "iopub.execute_input": "2025-10-30T05:16:54.569777Z",
     "iopub.status.busy": "2025-10-30T05:16:54.569777Z",
     "iopub.status.idle": "2025-10-30T05:17:33.542255Z",
     "shell.execute_reply": "2025-10-30T05:17:33.542255Z"
    }
   },
   "outputs": [
    {
     "name": "stdout",
     "output_type": "stream",
     "text": [
      "PyAEDT INFO: Python version 3.10.11 (tags/v3.10.11:7d4cc5a, Apr  5 2023, 00:38:17) [MSC v.1929 64 bit (AMD64)].\n"
     ]
    },
    {
     "name": "stdout",
     "output_type": "stream",
     "text": [
      "PyAEDT INFO: PyAEDT version 0.22.dev0.\n"
     ]
    },
    {
     "name": "stdout",
     "output_type": "stream",
     "text": [
      "PyAEDT INFO: Initializing new Desktop session.\n"
     ]
    },
    {
     "name": "stdout",
     "output_type": "stream",
     "text": [
      "PyAEDT INFO: Log on console is enabled.\n"
     ]
    },
    {
     "name": "stdout",
     "output_type": "stream",
     "text": [
      "PyAEDT INFO: Log on file C:\\Users\\ansys\\AppData\\Local\\Temp\\pyaedt_ansys_c16b115c-5dce-454d-9563-eb7e99528aa2.log is enabled.\n"
     ]
    },
    {
     "name": "stdout",
     "output_type": "stream",
     "text": [
      "PyAEDT INFO: Log on AEDT is disabled.\n"
     ]
    },
    {
     "name": "stdout",
     "output_type": "stream",
     "text": [
      "PyAEDT INFO: Debug logger is disabled. PyAEDT methods will not be logged.\n"
     ]
    },
    {
     "name": "stdout",
     "output_type": "stream",
     "text": [
      "PyAEDT INFO: Launching PyAEDT with gRPC plugin.\n"
     ]
    },
    {
     "name": "stdout",
     "output_type": "stream",
     "text": [
      "PyAEDT INFO: New AEDT session is starting on gRPC port 55994.\n"
     ]
    },
    {
     "name": "stdout",
     "output_type": "stream",
     "text": [
      "PyAEDT INFO: Electronics Desktop started on gRPC port: 55994 after 10.187458276748657 seconds.\n"
     ]
    },
    {
     "name": "stdout",
     "output_type": "stream",
     "text": [
      "PyAEDT INFO: AEDT installation Path C:\\Program Files\\ANSYS Inc\\v252\\AnsysEM\n"
     ]
    },
    {
     "name": "stdout",
     "output_type": "stream",
     "text": [
      "PyAEDT INFO: Ansoft.ElectronicsDesktop.2025.2 version started with process ID 6340.\n"
     ]
    },
    {
     "name": "stdout",
     "output_type": "stream",
     "text": [
      "PyAEDT INFO: Project Project4880 has been created.\n"
     ]
    },
    {
     "name": "stdout",
     "output_type": "stream",
     "text": [
      "PyAEDT INFO: No design is present. Inserting a new design.\n"
     ]
    },
    {
     "name": "stdout",
     "output_type": "stream",
     "text": [
      "PyAEDT INFO: Added design 'HFSS_XLS' of type HFSS.\n"
     ]
    },
    {
     "name": "stdout",
     "output_type": "stream",
     "text": [
      "PyAEDT INFO: Aedt Objects correctly read\n"
     ]
    },
    {
     "name": "stdout",
     "output_type": "stream",
     "text": [
      "PyAEDT INFO: Project example_K3H2RG Saved correctly\n"
     ]
    },
    {
     "data": {
      "text/plain": [
       "True"
      ]
     },
     "execution_count": 5,
     "metadata": {},
     "output_type": "execute_result"
    }
   ],
   "source": [
    "hfss = ansys.aedt.core.Hfss(\n",
    "    version=AEDT_VERSION,\n",
    "    solution_type=\"DrivenTerminal\",\n",
    "    new_desktop=True,\n",
    "    non_graphical=non_graphical,\n",
    ")\n",
    "hfss.save_project(\n",
    "    os.path.join(temp_folder.name, generate_unique_name(\"example\") + \".aedt\")\n",
    ")"
   ]
  },
  {
   "cell_type": "markdown",
   "id": "ea82f772",
   "metadata": {},
   "source": [
    "## Modify design settings\n",
    "\n",
    "Modify some design settings."
   ]
  },
  {
   "cell_type": "code",
   "execution_count": 6,
   "id": "ec6f1380",
   "metadata": {
    "execution": {
     "iopub.execute_input": "2025-10-30T05:17:33.542255Z",
     "iopub.status.busy": "2025-10-30T05:17:33.542255Z",
     "iopub.status.idle": "2025-10-30T05:17:34.636272Z",
     "shell.execute_reply": "2025-10-30T05:17:34.636272Z"
    }
   },
   "outputs": [
    {
     "name": "stdout",
     "output_type": "stream",
     "text": [
      "PyAEDT INFO: Enabling Material Override\n"
     ]
    },
    {
     "name": "stdout",
     "output_type": "stream",
     "text": [
      "PyAEDT INFO: Enabling Automatic use of causal materials\n"
     ]
    },
    {
     "name": "stdout",
     "output_type": "stream",
     "text": [
      "PyAEDT INFO: Open Region correctly created.\n"
     ]
    },
    {
     "name": "stdout",
     "output_type": "stream",
     "text": [
      "PyAEDT INFO: Project example_K3H2RG Saved correctly\n"
     ]
    },
    {
     "name": "stdout",
     "output_type": "stream",
     "text": [
      "PyAEDT INFO: Modeler class has been initialized! Elapsed time: 0m 1sec\n"
     ]
    },
    {
     "name": "stdout",
     "output_type": "stream",
     "text": [
      "PyAEDT INFO: Mesh class has been initialized! Elapsed time: 0m 0sec\n"
     ]
    },
    {
     "name": "stdout",
     "output_type": "stream",
     "text": [
      "PyAEDT INFO: Mesh class has been initialized! Elapsed time: 0m 0sec\n"
     ]
    },
    {
     "name": "stdout",
     "output_type": "stream",
     "text": [
      "PyAEDT WARNING: Argument `applycurvilinear` is deprecated for method `assign_initial_mesh_from_slider`; use `curvilinear` instead.\n"
     ]
    },
    {
     "data": {
      "text/plain": [
       "True"
      ]
     },
     "execution_count": 6,
     "metadata": {},
     "output_type": "execute_result"
    }
   ],
   "source": [
    "hfss.change_material_override(True)\n",
    "hfss.change_automatically_use_causal_materials(True)\n",
    "hfss.create_open_region(\"100GHz\")\n",
    "hfss.modeler.model_units = \"mil\"\n",
    "hfss.mesh.assign_initial_mesh_from_slider(applycurvilinear=True)"
   ]
  },
  {
   "cell_type": "markdown",
   "id": "f6af4013",
   "metadata": {},
   "source": [
    "## Create variables\n",
    "\n",
    "Create input variables for creating the flex cable CPWG."
   ]
  },
  {
   "cell_type": "code",
   "execution_count": 7,
   "id": "1635338b",
   "metadata": {
    "execution": {
     "iopub.execute_input": "2025-10-30T05:17:34.636272Z",
     "iopub.status.busy": "2025-10-30T05:17:34.636272Z",
     "iopub.status.idle": "2025-10-30T05:17:34.652013Z",
     "shell.execute_reply": "2025-10-30T05:17:34.652013Z"
    }
   },
   "outputs": [],
   "source": [
    "total_length = 300\n",
    "theta = 120\n",
    "r = 100\n",
    "width = 3\n",
    "height = 0.1\n",
    "spacing = 1.53\n",
    "gnd_width = 10\n",
    "gnd_thickness = 2\n",
    "\n",
    "xt = (total_length - r * radians(theta)) / 2"
   ]
  },
  {
   "cell_type": "markdown",
   "id": "45a30c93",
   "metadata": {
    "lines_to_next_cell": 2
   },
   "source": [
    "## Create bend\n",
    "\n",
    "The ``create_bending()`` method creates a list of points for\n",
    "the bend based on the curvature radius and extension."
   ]
  },
  {
   "cell_type": "code",
   "execution_count": 8,
   "id": "a63a9aad",
   "metadata": {
    "execution": {
     "iopub.execute_input": "2025-10-30T05:17:34.652013Z",
     "iopub.status.busy": "2025-10-30T05:17:34.652013Z",
     "iopub.status.idle": "2025-10-30T05:17:34.667827Z",
     "shell.execute_reply": "2025-10-30T05:17:34.667827Z"
    }
   },
   "outputs": [],
   "source": [
    "def create_bending(radius, extension=0):\n",
    "    points = [(-xt, 0, -radius), (0, 0, -radius)]\n",
    "\n",
    "    for i in [radians(i) for i in range(theta)] + [radians(theta + 0.000000001)]:\n",
    "        points.append((radius * sin(i), 0, -radius * cos(i)))\n",
    "\n",
    "    x1, y1, z1 = points[-1]\n",
    "    x0, y0, z0 = points[-2]\n",
    "\n",
    "    scale = (xt + extension) / sqrt((x1 - x0) ** 2 + (z1 - z0) ** 2)\n",
    "    x, y, z = (x1 - x0) * scale + x0, 0, (z1 - z0) * scale + z0\n",
    "\n",
    "    points[-1] = (x, y, z)\n",
    "    return points"
   ]
  },
  {
   "cell_type": "markdown",
   "id": "f9c631dd",
   "metadata": {},
   "source": [
    "## Draw signal line\n",
    "\n",
    "Draw a signal line to create a bent signal wire."
   ]
  },
  {
   "cell_type": "code",
   "execution_count": 9,
   "id": "83da9305",
   "metadata": {
    "execution": {
     "iopub.execute_input": "2025-10-30T05:17:34.667827Z",
     "iopub.status.busy": "2025-10-30T05:17:34.667827Z",
     "iopub.status.idle": "2025-10-30T05:17:36.722795Z",
     "shell.execute_reply": "2025-10-30T05:17:36.722795Z"
    }
   },
   "outputs": [
    {
     "name": "stdout",
     "output_type": "stream",
     "text": [
      "PyAEDT INFO: Materials class has been initialized! Elapsed time: 0m 0sec\n"
     ]
    }
   ],
   "source": [
    "points = create_bending(r, 1)\n",
    "line = hfss.modeler.create_polyline(\n",
    "    points=points,\n",
    "    xsection_type=\"Rectangle\",\n",
    "    xsection_width=height,\n",
    "    xsection_height=width,\n",
    "    material=\"copper\",\n",
    ")"
   ]
  },
  {
   "cell_type": "markdown",
   "id": "2698c42e",
   "metadata": {},
   "source": [
    "## Draw ground line\n",
    "\n",
    "Draw a ground line to create two bent ground wires."
   ]
  },
  {
   "cell_type": "code",
   "execution_count": 10,
   "id": "d7074eb7",
   "metadata": {
    "execution": {
     "iopub.execute_input": "2025-10-30T05:17:36.722795Z",
     "iopub.status.busy": "2025-10-30T05:17:36.722795Z",
     "iopub.status.idle": "2025-10-30T05:17:38.701069Z",
     "shell.execute_reply": "2025-10-30T05:17:38.701069Z"
    }
   },
   "outputs": [],
   "source": [
    "gnd_r = [(x, spacing + width / 2 + gnd_width / 2, z) for x, y, z in points]\n",
    "gnd_l = [(x, -y, z) for x, y, z in gnd_r]\n",
    "\n",
    "gnd_objs = []\n",
    "for gnd in [gnd_r, gnd_l]:\n",
    "    x = hfss.modeler.create_polyline(\n",
    "        points=gnd,\n",
    "        xsection_type=\"Rectangle\",\n",
    "        xsection_width=height,\n",
    "        xsection_height=gnd_width,\n",
    "        material=\"copper\",\n",
    "    )\n",
    "    x.color = (255, 0, 0)\n",
    "    gnd_objs.append(x)"
   ]
  },
  {
   "cell_type": "markdown",
   "id": "72d13068",
   "metadata": {},
   "source": [
    "## Draw dielectric\n",
    "\n",
    "Draw a dielectric to create a dielectric cable."
   ]
  },
  {
   "cell_type": "code",
   "execution_count": 11,
   "id": "c36a6cb7",
   "metadata": {
    "execution": {
     "iopub.execute_input": "2025-10-30T05:17:38.701069Z",
     "iopub.status.busy": "2025-10-30T05:17:38.701069Z",
     "iopub.status.idle": "2025-10-30T05:17:39.811289Z",
     "shell.execute_reply": "2025-10-30T05:17:39.811289Z"
    }
   },
   "outputs": [],
   "source": [
    "points = create_bending(r + (height + gnd_thickness) / 2)\n",
    "\n",
    "fr4 = hfss.modeler.create_polyline(\n",
    "    points=points,\n",
    "    xsection_type=\"Rectangle\",\n",
    "    xsection_width=gnd_thickness,\n",
    "    xsection_height=width + 2 * spacing + 2 * gnd_width,\n",
    "    material=\"FR4_epoxy\",\n",
    ")"
   ]
  },
  {
   "cell_type": "markdown",
   "id": "b379b5ee",
   "metadata": {},
   "source": [
    "## Create bottom metals\n",
    "\n",
    "Create the bottom metals."
   ]
  },
  {
   "cell_type": "code",
   "execution_count": 12,
   "id": "d9edb256",
   "metadata": {
    "execution": {
     "iopub.execute_input": "2025-10-30T05:17:39.811289Z",
     "iopub.status.busy": "2025-10-30T05:17:39.811289Z",
     "iopub.status.idle": "2025-10-30T05:17:40.666873Z",
     "shell.execute_reply": "2025-10-30T05:17:40.666873Z"
    }
   },
   "outputs": [],
   "source": [
    "points = create_bending(r + height + gnd_thickness, 1)\n",
    "\n",
    "bot = hfss.modeler.create_polyline(\n",
    "    points=points,\n",
    "    xsection_type=\"Rectangle\",\n",
    "    xsection_width=height,\n",
    "    xsection_height=width + 2 * spacing + 2 * gnd_width,\n",
    "    material=\"copper\",\n",
    ")"
   ]
  },
  {
   "cell_type": "markdown",
   "id": "c577681d",
   "metadata": {},
   "source": [
    "## Create port interfaces\n",
    "\n",
    "Create port interfaces (PEC enclosures)."
   ]
  },
  {
   "cell_type": "code",
   "execution_count": 13,
   "id": "907b0f21",
   "metadata": {
    "execution": {
     "iopub.execute_input": "2025-10-30T05:17:40.666873Z",
     "iopub.status.busy": "2025-10-30T05:17:40.666873Z",
     "iopub.status.idle": "2025-10-30T05:17:42.530115Z",
     "shell.execute_reply": "2025-10-30T05:17:42.530115Z"
    }
   },
   "outputs": [
    {
     "name": "stdout",
     "output_type": "stream",
     "text": [
      "PyAEDT INFO: Parsing design objects. This operation can take time\n"
     ]
    },
    {
     "name": "stdout",
     "output_type": "stream",
     "text": [
      "PyAEDT INFO: Refreshing bodies from Object Info\n"
     ]
    },
    {
     "name": "stdout",
     "output_type": "stream",
     "text": [
      "PyAEDT INFO: Bodies Info Refreshed Elapsed time: 0m 0sec\n"
     ]
    },
    {
     "name": "stdout",
     "output_type": "stream",
     "text": [
      "PyAEDT INFO: 3D Modeler objects parsed. Elapsed time: 0m 0sec\n"
     ]
    },
    {
     "name": "stdout",
     "output_type": "stream",
     "text": [
      "[7391]\n"
     ]
    },
    {
     "name": "stdout",
     "output_type": "stream",
     "text": [
      "[7391, 7586]\n"
     ]
    }
   ],
   "source": [
    "port_faces = []\n",
    "for face, blockname in zip([fr4.top_face_z, fr4.bottom_face_x], [\"b1\", \"b2\"]):\n",
    "    xc, yc, zc = face.center\n",
    "    positions = [i.position for i in face.vertices]\n",
    "\n",
    "    port_sheet_list = [\n",
    "        ((x - xc) * 10 + xc, (y - yc) + yc, (z - zc) * 10 + zc) for x, y, z in positions\n",
    "    ]\n",
    "    s = hfss.modeler.create_polyline(\n",
    "        port_sheet_list, close_surface=True, cover_surface=True\n",
    "    )\n",
    "    center = [round(i, 6) for i in s.faces[0].center]\n",
    "\n",
    "    port_block = hfss.modeler.thicken_sheet(s.name, -5)\n",
    "    port_block.name = blockname\n",
    "    for f in port_block.faces:\n",
    "\n",
    "        if [round(i, 6) for i in f.center] == center:\n",
    "            port_faces.append(f)\n",
    "\n",
    "    port_block.material_name = \"PEC\"\n",
    "\n",
    "    for i in [line, bot] + gnd_objs:\n",
    "        i.subtract([port_block], True)\n",
    "\n",
    "    print(port_faces)"
   ]
  },
  {
   "cell_type": "markdown",
   "id": "d8fe2ee4",
   "metadata": {},
   "source": [
    "## Create boundary condition\n",
    "\n",
    "Creates a Perfect E boundary condition."
   ]
  },
  {
   "cell_type": "code",
   "execution_count": 14,
   "id": "87b22f54",
   "metadata": {
    "execution": {
     "iopub.execute_input": "2025-10-30T05:17:42.534135Z",
     "iopub.status.busy": "2025-10-30T05:17:42.534135Z",
     "iopub.status.idle": "2025-10-30T05:17:43.225434Z",
     "shell.execute_reply": "2025-10-30T05:17:43.225434Z"
    }
   },
   "outputs": [
    {
     "name": "stdout",
     "output_type": "stream",
     "text": [
      "PyAEDT INFO: Boundary Perfect E PerfE_0IP6QD has been created.\n"
     ]
    },
    {
     "name": "stdout",
     "output_type": "stream",
     "text": [
      "PyAEDT INFO: Boundary Perfect E PerfE_GIROI2 has been created.\n"
     ]
    }
   ],
   "source": [
    "boundary = []\n",
    "for face in [fr4.top_face_y, fr4.bottom_face_y]:\n",
    "    s = hfss.modeler.create_object_from_face(face)\n",
    "    boundary.append(s)\n",
    "    hfss.assign_perfecte_to_sheets(s)"
   ]
  },
  {
   "cell_type": "markdown",
   "id": "edfc1911",
   "metadata": {},
   "source": [
    "## Create ports\n",
    "\n",
    "Create ports."
   ]
  },
  {
   "cell_type": "code",
   "execution_count": 15,
   "id": "6fb4ba04",
   "metadata": {
    "execution": {
     "iopub.execute_input": "2025-10-30T05:17:43.225434Z",
     "iopub.status.busy": "2025-10-30T05:17:43.225434Z",
     "iopub.status.idle": "2025-10-30T05:17:43.478716Z",
     "shell.execute_reply": "2025-10-30T05:17:43.478716Z"
    }
   },
   "outputs": [
    {
     "name": "stdout",
     "output_type": "stream",
     "text": [
      "PyAEDT INFO: Boundary AutoIdentify 1 has been created.\n"
     ]
    },
    {
     "name": "stdout",
     "output_type": "stream",
     "text": [
      "PyAEDT INFO: Boundary AutoIdentify 2 has been created.\n"
     ]
    }
   ],
   "source": [
    "for s, port_name in zip(port_faces, [\"1\", \"2\"]):\n",
    "    reference = [i.name for i in gnd_objs + boundary + [bot]] + [\"b1\", \"b2\"]\n",
    "\n",
    "    hfss.wave_port(s.id, name=port_name, reference=reference)"
   ]
  },
  {
   "cell_type": "markdown",
   "id": "80fff266",
   "metadata": {},
   "source": [
    "## Create setup and sweep\n",
    "\n",
    "Create the setup and sweep."
   ]
  },
  {
   "cell_type": "code",
   "execution_count": 16,
   "id": "76259ee5",
   "metadata": {
    "execution": {
     "iopub.execute_input": "2025-10-30T05:17:43.478716Z",
     "iopub.status.busy": "2025-10-30T05:17:43.478716Z",
     "iopub.status.idle": "2025-10-30T05:17:43.605697Z",
     "shell.execute_reply": "2025-10-30T05:17:43.605697Z"
    }
   },
   "outputs": [
    {
     "name": "stdout",
     "output_type": "stream",
     "text": [
      "PyAEDT INFO: Parsing C:\\Users\\ansys\\AppData\\Local\\Temp\\tmpkwkd4qdu.ansys\\example_K3H2RG.aedt.\n"
     ]
    },
    {
     "name": "stdout",
     "output_type": "stream",
     "text": [
      "PyAEDT INFO: File C:\\Users\\ansys\\AppData\\Local\\Temp\\tmpkwkd4qdu.ansys\\example_K3H2RG.aedt correctly loaded. Elapsed time: 0m 0sec\n"
     ]
    },
    {
     "name": "stdout",
     "output_type": "stream",
     "text": [
      "PyAEDT INFO: aedt file load time 0.011740446090698242\n"
     ]
    },
    {
     "name": "stdout",
     "output_type": "stream",
     "text": [
      "PyAEDT INFO: Linear count sweep sweep1 has been correctly created.\n"
     ]
    },
    {
     "data": {
      "text/plain": [
       "setup1 : sweep1"
      ]
     },
     "execution_count": 16,
     "metadata": {},
     "output_type": "execute_result"
    }
   ],
   "source": [
    "setup = hfss.create_setup(\"setup1\")\n",
    "setup[\"Frequency\"] = \"2GHz\"\n",
    "setup.props[\"MaximumPasses\"] = 10\n",
    "setup.props[\"MinimumConvergedPasses\"] = 2\n",
    "hfss.create_linear_count_sweep(\n",
    "    setup=\"setup1\",\n",
    "    units=\"GHz\",\n",
    "    start_frequency=1e-1,\n",
    "    stop_frequency=4,\n",
    "    num_of_freq_points=101,\n",
    "    name=\"sweep1\",\n",
    "    save_fields=False,\n",
    "    sweep_type=\"Interpolating\",\n",
    ")"
   ]
  },
  {
   "cell_type": "markdown",
   "id": "47950bb7",
   "metadata": {},
   "source": [
    "## Release AEDT"
   ]
  },
  {
   "cell_type": "code",
   "execution_count": 17,
   "id": "6e315b9c",
   "metadata": {
    "execution": {
     "iopub.execute_input": "2025-10-30T05:17:43.605697Z",
     "iopub.status.busy": "2025-10-30T05:17:43.605697Z",
     "iopub.status.idle": "2025-10-30T05:18:03.636092Z",
     "shell.execute_reply": "2025-10-30T05:18:03.636092Z"
    }
   },
   "outputs": [
    {
     "name": "stdout",
     "output_type": "stream",
     "text": [
      "PyAEDT INFO: Desktop has been released and closed.\n"
     ]
    },
    {
     "data": {
      "text/plain": [
       "True"
      ]
     },
     "execution_count": 17,
     "metadata": {},
     "output_type": "execute_result"
    }
   ],
   "source": [
    "hfss.release_desktop()"
   ]
  },
  {
   "cell_type": "markdown",
   "id": "78f0a0c9",
   "metadata": {},
   "source": [
    "## Clean up\n",
    "\n",
    "All project files are saved in the folder ``temp_folder.name``.\n",
    "If you've run this example as a Jupyter notebook, you\n",
    "can retrieve those project files.\n",
    "The following cell removes all temporary files, including the project folder."
   ]
  },
  {
   "cell_type": "code",
   "execution_count": 18,
   "id": "c8247282",
   "metadata": {
    "execution": {
     "iopub.execute_input": "2025-10-30T05:18:03.636092Z",
     "iopub.status.busy": "2025-10-30T05:18:03.636092Z",
     "iopub.status.idle": "2025-10-30T05:18:03.652275Z",
     "shell.execute_reply": "2025-10-30T05:18:03.652275Z"
    }
   },
   "outputs": [],
   "source": [
    "temp_folder.cleanup()"
   ]
  }
 ],
 "metadata": {
  "jupytext": {
   "cell_metadata_filter": "-all",
   "main_language": "python",
   "notebook_metadata_filter": "-all"
  },
  "language_info": {
   "codemirror_mode": {
    "name": "ipython",
    "version": 3
   },
   "file_extension": ".py",
   "mimetype": "text/x-python",
   "name": "python",
   "nbconvert_exporter": "python",
   "pygments_lexer": "ipython3",
   "version": "3.10.11"
  }
 },
 "nbformat": 4,
 "nbformat_minor": 5
}
