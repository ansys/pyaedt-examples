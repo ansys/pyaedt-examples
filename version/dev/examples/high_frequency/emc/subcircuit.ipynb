{
 "cells": [
  {
   "cell_type": "markdown",
   "id": "6525ea56",
   "metadata": {},
   "source": [
    "# Schematic subcircuit management\n",
    "\n",
    "This example shows how to add a subcircuit to a circuit design.\n",
    "It changes the focus within the hierarchy between\n",
    "the child subcircuit and the parent design.\n",
    "\n",
    "Keywords: **Circuit**, **EMC**, **schematic**."
   ]
  },
  {
   "cell_type": "markdown",
   "id": "35e541aa",
   "metadata": {},
   "source": [
    "## Perform imports and define constants\n",
    "\n",
    "Perform required imports."
   ]
  },
  {
   "cell_type": "code",
   "execution_count": 1,
   "id": "a39d655f",
   "metadata": {
    "execution": {
     "iopub.execute_input": "2025-10-30T05:18:08.069582Z",
     "iopub.status.busy": "2025-10-30T05:18:08.069582Z",
     "iopub.status.idle": "2025-10-30T05:18:11.124712Z",
     "shell.execute_reply": "2025-10-30T05:18:11.124712Z"
    }
   },
   "outputs": [],
   "source": [
    "import os\n",
    "import tempfile\n",
    "import time\n",
    "\n",
    "import ansys.aedt.core"
   ]
  },
  {
   "cell_type": "markdown",
   "id": "ae5cc13f",
   "metadata": {},
   "source": [
    "Define constants."
   ]
  },
  {
   "cell_type": "code",
   "execution_count": 2,
   "id": "03a5b33b",
   "metadata": {
    "execution": {
     "iopub.execute_input": "2025-10-30T05:18:11.124712Z",
     "iopub.status.busy": "2025-10-30T05:18:11.124712Z",
     "iopub.status.idle": "2025-10-30T05:18:11.140560Z",
     "shell.execute_reply": "2025-10-30T05:18:11.140560Z"
    }
   },
   "outputs": [],
   "source": [
    "AEDT_VERSION = \"2025.2\"\n",
    "NG_MODE = False  # Open AEDT UI when it is launched."
   ]
  },
  {
   "cell_type": "markdown",
   "id": "385d3182",
   "metadata": {},
   "source": [
    "## Create temporary directory\n",
    "\n",
    "Create a temporary directory where downloaded data or\n",
    "dumped data can be stored.\n",
    "If you'd like to retrieve the project data for subsequent use,\n",
    "the temporary folder name is given by ``temp_folder.name``."
   ]
  },
  {
   "cell_type": "code",
   "execution_count": 3,
   "id": "87c04982",
   "metadata": {
    "execution": {
     "iopub.execute_input": "2025-10-30T05:18:11.140560Z",
     "iopub.status.busy": "2025-10-30T05:18:11.140560Z",
     "iopub.status.idle": "2025-10-30T05:18:11.156769Z",
     "shell.execute_reply": "2025-10-30T05:18:11.156769Z"
    }
   },
   "outputs": [],
   "source": [
    "temp_folder = tempfile.TemporaryDirectory(suffix=\".ansys\")"
   ]
  },
  {
   "cell_type": "markdown",
   "id": "3cfba428",
   "metadata": {},
   "source": [
    "## Launch AEDT with Circuit\n",
    "\n",
    "Launch AEDT in graphical mode. Instantite an instance of the ``Circuit`` class."
   ]
  },
  {
   "cell_type": "code",
   "execution_count": 4,
   "id": "6f18e435",
   "metadata": {
    "execution": {
     "iopub.execute_input": "2025-10-30T05:18:11.156769Z",
     "iopub.status.busy": "2025-10-30T05:18:11.156769Z",
     "iopub.status.idle": "2025-10-30T05:18:38.972123Z",
     "shell.execute_reply": "2025-10-30T05:18:38.972123Z"
    }
   },
   "outputs": [
    {
     "name": "stdout",
     "output_type": "stream",
     "text": [
      "PyAEDT INFO: Python version 3.10.11 (tags/v3.10.11:7d4cc5a, Apr  5 2023, 00:38:17) [MSC v.1929 64 bit (AMD64)].\n"
     ]
    },
    {
     "name": "stdout",
     "output_type": "stream",
     "text": [
      "PyAEDT INFO: PyAEDT version 0.22.dev0.\n"
     ]
    },
    {
     "name": "stdout",
     "output_type": "stream",
     "text": [
      "PyAEDT INFO: Initializing new Desktop session.\n"
     ]
    },
    {
     "name": "stdout",
     "output_type": "stream",
     "text": [
      "PyAEDT INFO: Log on console is enabled.\n"
     ]
    },
    {
     "name": "stdout",
     "output_type": "stream",
     "text": [
      "PyAEDT INFO: Log on file C:\\Users\\ansys\\AppData\\Local\\Temp\\pyaedt_ansys_295fe576-9867-44b1-b48f-b4d4e79cba11.log is enabled.\n"
     ]
    },
    {
     "name": "stdout",
     "output_type": "stream",
     "text": [
      "PyAEDT INFO: Log on AEDT is disabled.\n"
     ]
    },
    {
     "name": "stdout",
     "output_type": "stream",
     "text": [
      "PyAEDT INFO: Debug logger is disabled. PyAEDT methods will not be logged.\n"
     ]
    },
    {
     "name": "stdout",
     "output_type": "stream",
     "text": [
      "PyAEDT INFO: Launching PyAEDT with gRPC plugin.\n"
     ]
    },
    {
     "name": "stdout",
     "output_type": "stream",
     "text": [
      "PyAEDT INFO: New AEDT session is starting on gRPC port 56171.\n"
     ]
    },
    {
     "name": "stdout",
     "output_type": "stream",
     "text": [
      "PyAEDT INFO: Electronics Desktop started on gRPC port: 56171 after 10.493258953094482 seconds.\n"
     ]
    },
    {
     "name": "stdout",
     "output_type": "stream",
     "text": [
      "PyAEDT INFO: AEDT installation Path C:\\Program Files\\ANSYS Inc\\v252\\AnsysEM\n"
     ]
    },
    {
     "name": "stdout",
     "output_type": "stream",
     "text": [
      "PyAEDT INFO: Ansoft.ElectronicsDesktop.2025.2 version started with process ID 4684.\n"
     ]
    },
    {
     "name": "stdout",
     "output_type": "stream",
     "text": [
      "PyAEDT INFO: Project SubcircuitExampl has been created.\n"
     ]
    },
    {
     "name": "stdout",
     "output_type": "stream",
     "text": [
      "PyAEDT INFO: Added design 'SimpleExample' of type Circuit Design.\n"
     ]
    },
    {
     "name": "stdout",
     "output_type": "stream",
     "text": [
      "PyAEDT INFO: Aedt Objects correctly read\n"
     ]
    },
    {
     "name": "stdout",
     "output_type": "stream",
     "text": [
      "PyAEDT INFO: ModelerCircuit class has been initialized! Elapsed time: 0m 0sec\n"
     ]
    },
    {
     "name": "stdout",
     "output_type": "stream",
     "text": [
      "PyAEDT INFO: ModelerNexxim class has been initialized!\n"
     ]
    },
    {
     "name": "stdout",
     "output_type": "stream",
     "text": [
      "PyAEDT INFO: Modeler class has been initialized! Elapsed time: 0m 0sec\n"
     ]
    }
   ],
   "source": [
    "circuit = ansys.aedt.core.Circuit(\n",
    "    project=os.path.join(temp_folder.name, \"SubcircuitExampl.aedt\"),\n",
    "    design=\"SimpleExample\",\n",
    "    version=AEDT_VERSION,\n",
    "    non_graphical=NG_MODE,\n",
    "    new_desktop=True,\n",
    ")\n",
    "circuit.modeler.schematic_units = \"mil\""
   ]
  },
  {
   "cell_type": "markdown",
   "id": "fe6727b4",
   "metadata": {},
   "source": [
    "## Add subcircuit\n",
    "\n",
    "Add a new subcircuit to the previously created circuit design, creating a\n",
    "child circuit. Push this child circuit down into the child subcircuit."
   ]
  },
  {
   "cell_type": "code",
   "execution_count": 5,
   "id": "7192e328",
   "metadata": {
    "execution": {
     "iopub.execute_input": "2025-10-30T05:18:38.972123Z",
     "iopub.status.busy": "2025-10-30T05:18:38.972123Z",
     "iopub.status.idle": "2025-10-30T05:18:39.114354Z",
     "shell.execute_reply": "2025-10-30T05:18:39.114354Z"
    }
   },
   "outputs": [
    {
     "name": "stdout",
     "output_type": "stream",
     "text": [
      "PyAEDT INFO: Active Design set to 0;SimpleExample/1;Circuit_PXUGKQ\n"
     ]
    },
    {
     "name": "stdout",
     "output_type": "stream",
     "text": [
      "PyAEDT INFO: Python version 3.10.11 (tags/v3.10.11:7d4cc5a, Apr  5 2023, 00:38:17) [MSC v.1929 64 bit (AMD64)].\n"
     ]
    },
    {
     "name": "stdout",
     "output_type": "stream",
     "text": [
      "PyAEDT INFO: PyAEDT version 0.22.dev0.\n"
     ]
    },
    {
     "name": "stdout",
     "output_type": "stream",
     "text": [
      "PyAEDT INFO: Returning found Desktop session with PID 4684!\n"
     ]
    },
    {
     "name": "stdout",
     "output_type": "stream",
     "text": [
      "PyAEDT INFO: Project SubcircuitExampl set to active.\n"
     ]
    },
    {
     "name": "stdout",
     "output_type": "stream",
     "text": [
      "PyAEDT INFO: Active Design set to 0;SimpleExample/1;Circuit_PXUGKQ\n"
     ]
    },
    {
     "name": "stdout",
     "output_type": "stream",
     "text": [
      "PyAEDT INFO: Aedt Objects correctly read\n"
     ]
    },
    {
     "data": {
      "text/plain": [
       "True"
      ]
     },
     "execution_count": 5,
     "metadata": {},
     "output_type": "execute_result"
    }
   ],
   "source": [
    "subcircuit = circuit.modeler.schematic.create_subcircuit(location=[0.0, 0.0])\n",
    "subcircuit_name = subcircuit.composed_name\n",
    "circuit.push_down(subcircuit)"
   ]
  },
  {
   "cell_type": "markdown",
   "id": "ab78a8fd",
   "metadata": {},
   "source": [
    "## Parametrize subcircuit\n",
    "\n",
    "Parametrize the subcircuit and add a resistor, inductor, and a capacitor with\n",
    "parameter values. Components are connected in series,\n",
    "and the focus is changed to the parent schematic using\n",
    "the ``pop_up()`` method."
   ]
  },
  {
   "cell_type": "code",
   "execution_count": 6,
   "id": "05db5590",
   "metadata": {
    "execution": {
     "iopub.execute_input": "2025-10-30T05:18:39.114354Z",
     "iopub.status.busy": "2025-10-30T05:18:39.114354Z",
     "iopub.status.idle": "2025-10-30T05:18:39.557485Z",
     "shell.execute_reply": "2025-10-30T05:18:39.557485Z"
    }
   },
   "outputs": [
    {
     "name": "stdout",
     "output_type": "stream",
     "text": [
      "PyAEDT INFO: ModelerCircuit class has been initialized! Elapsed time: 0m 0sec\n"
     ]
    },
    {
     "name": "stdout",
     "output_type": "stream",
     "text": [
      "PyAEDT INFO: ModelerNexxim class has been initialized!\n"
     ]
    },
    {
     "name": "stdout",
     "output_type": "stream",
     "text": [
      "PyAEDT INFO: Modeler class has been initialized! Elapsed time: 0m 0sec\n"
     ]
    },
    {
     "name": "stdout",
     "output_type": "stream",
     "text": [
      "PyAEDT INFO: Parsing C:\\Users\\ansys\\AppData\\Local\\Temp\\tmpgkfo564_.ansys\\SubcircuitExampl.aedt.\n"
     ]
    },
    {
     "name": "stdout",
     "output_type": "stream",
     "text": [
      "PyAEDT INFO: File C:\\Users\\ansys\\AppData\\Local\\Temp\\tmpgkfo564_.ansys\\SubcircuitExampl.aedt correctly loaded. Elapsed time: 0m 0sec\n"
     ]
    },
    {
     "name": "stdout",
     "output_type": "stream",
     "text": [
      "PyAEDT INFO: aedt file load time 0.0\n"
     ]
    },
    {
     "name": "stdout",
     "output_type": "stream",
     "text": [
      "PyAEDT INFO: Active Design set to 0;SimpleExample\n"
     ]
    },
    {
     "name": "stdout",
     "output_type": "stream",
     "text": [
      "PyAEDT INFO: Python version 3.10.11 (tags/v3.10.11:7d4cc5a, Apr  5 2023, 00:38:17) [MSC v.1929 64 bit (AMD64)].\n"
     ]
    },
    {
     "name": "stdout",
     "output_type": "stream",
     "text": [
      "PyAEDT INFO: PyAEDT version 0.22.dev0.\n"
     ]
    },
    {
     "name": "stdout",
     "output_type": "stream",
     "text": [
      "PyAEDT INFO: Returning found Desktop session with PID 4684!\n"
     ]
    },
    {
     "name": "stdout",
     "output_type": "stream",
     "text": [
      "PyAEDT INFO: Project SubcircuitExampl set to active.\n"
     ]
    },
    {
     "name": "stdout",
     "output_type": "stream",
     "text": [
      "PyAEDT INFO: Active Design set to 0;SimpleExample\n"
     ]
    },
    {
     "name": "stdout",
     "output_type": "stream",
     "text": [
      "PyAEDT INFO: Aedt Objects correctly read\n"
     ]
    },
    {
     "data": {
      "text/plain": [
       "True"
      ]
     },
     "execution_count": 6,
     "metadata": {},
     "output_type": "execute_result"
    }
   ],
   "source": [
    "circuit.variable_manager.set_variable(name=\"R_val\", expression=\"35ohm\")\n",
    "circuit.variable_manager.set_variable(name=\"L_val\", expression=\"1e-7H\")\n",
    "circuit.variable_manager.set_variable(name=\"C_val\", expression=\"5e-10F\")\n",
    "p1 = circuit.modeler.schematic.create_interface_port(name=\"In\")\n",
    "r1 = circuit.modeler.schematic.create_resistor(value=\"R_val\")\n",
    "l1 = circuit.modeler.schematic.create_inductor(value=\"L_val\")\n",
    "c1 = circuit.modeler.schematic.create_capacitor(value=\"C_val\")\n",
    "p2 = circuit.modeler.schematic.create_interface_port(name=\"Out\")\n",
    "circuit.modeler.schematic.connect_components_in_series(\n",
    "    assignment=[p1, r1, l1, c1, p2], use_wire=True\n",
    ")\n",
    "circuit.pop_up()"
   ]
  },
  {
   "cell_type": "markdown",
   "id": "7fda2945",
   "metadata": {},
   "source": [
    "## Release AEDT\n",
    "\n",
    "Release AEDT and close the example."
   ]
  },
  {
   "cell_type": "code",
   "execution_count": 7,
   "id": "9ee59f30",
   "metadata": {
    "execution": {
     "iopub.execute_input": "2025-10-30T05:18:39.557485Z",
     "iopub.status.busy": "2025-10-30T05:18:39.557485Z",
     "iopub.status.idle": "2025-10-30T05:19:04.664995Z",
     "shell.execute_reply": "2025-10-30T05:19:04.664995Z"
    }
   },
   "outputs": [
    {
     "name": "stdout",
     "output_type": "stream",
     "text": [
      "PyAEDT INFO: Project SubcircuitExampl Saved correctly\n"
     ]
    },
    {
     "name": "stdout",
     "output_type": "stream",
     "text": [
      "PyAEDT INFO: Desktop has been released and closed.\n"
     ]
    }
   ],
   "source": [
    "circuit.save_project()\n",
    "circuit.release_desktop()\n",
    "# Wait 5 seconds to allow AEDT to shut down before cleaning the temporary directory.\n",
    "time.sleep(5)"
   ]
  },
  {
   "cell_type": "markdown",
   "id": "c751dfd9",
   "metadata": {},
   "source": [
    "## Clean up\n",
    "\n",
    "All project files are saved in the folder ``temp_folder.name``. If you've run this example as a Jupyter notebook, you\n",
    "can retrieve those project files. The following cell removes all temporary files, including the project folder."
   ]
  },
  {
   "cell_type": "code",
   "execution_count": 8,
   "id": "6ea02ee5",
   "metadata": {
    "execution": {
     "iopub.execute_input": "2025-10-30T05:19:04.664995Z",
     "iopub.status.busy": "2025-10-30T05:19:04.664995Z",
     "iopub.status.idle": "2025-10-30T05:19:04.680703Z",
     "shell.execute_reply": "2025-10-30T05:19:04.680703Z"
    }
   },
   "outputs": [],
   "source": [
    "temp_folder.cleanup()"
   ]
  }
 ],
 "metadata": {
  "jupytext": {
   "cell_metadata_filter": "-all",
   "main_language": "python",
   "notebook_metadata_filter": "-all"
  },
  "language_info": {
   "codemirror_mode": {
    "name": "ipython",
    "version": 3
   },
   "file_extension": ".py",
   "mimetype": "text/x-python",
   "name": "python",
   "nbconvert_exporter": "python",
   "pygments_lexer": "ipython3",
   "version": "3.10.11"
  }
 },
 "nbformat": 4,
 "nbformat_minor": 5
}
