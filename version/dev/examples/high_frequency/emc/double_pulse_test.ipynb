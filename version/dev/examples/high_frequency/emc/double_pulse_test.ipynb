{
 "cells": [
  {
   "cell_type": "markdown",
   "id": "1638b290",
   "metadata": {},
   "source": [
    "# Double Pulse Test\n",
    "\n",
    "Description: build the equivalent circuit of a DPT\n",
    "\n",
    "In this example the steps to build up the circuit schematic are shown.\n",
    "1. Insert Circuit Components\n",
    "3. Create the Wiring\n",
    "4. Insert simulation set up\n",
    "3. View the results.\n",
    "\n",
    "Keywords: **Power Electronics**, **Double Pulse Testing**"
   ]
  },
  {
   "cell_type": "markdown",
   "id": "c41bcd42",
   "metadata": {},
   "source": [
    "## Perform imports and define constants\n",
    "\n",
    "Perform required imports."
   ]
  },
  {
   "cell_type": "code",
   "execution_count": 1,
   "id": "c5cf7ef9",
   "metadata": {
    "execution": {
     "iopub.execute_input": "2025-10-30T05:12:56.429177Z",
     "iopub.status.busy": "2025-10-30T05:12:56.429177Z",
     "iopub.status.idle": "2025-10-30T05:12:59.534351Z",
     "shell.execute_reply": "2025-10-30T05:12:59.534351Z"
    }
   },
   "outputs": [],
   "source": [
    "import os\n",
    "import tempfile\n",
    "import time\n",
    "\n",
    "import ansys.aedt.core"
   ]
  },
  {
   "cell_type": "markdown",
   "id": "79bbc15a",
   "metadata": {},
   "source": [
    "Define constants."
   ]
  },
  {
   "cell_type": "code",
   "execution_count": 2,
   "id": "cda712a4",
   "metadata": {
    "execution": {
     "iopub.execute_input": "2025-10-30T05:12:59.534351Z",
     "iopub.status.busy": "2025-10-30T05:12:59.534351Z",
     "iopub.status.idle": "2025-10-30T05:12:59.550444Z",
     "shell.execute_reply": "2025-10-30T05:12:59.550444Z"
    }
   },
   "outputs": [],
   "source": [
    "AEDT_VERSION = \"2025.2\"\n",
    "NUM_CORES = 4\n",
    "NG_MODE = False  # Open AEDT UI when it is launched."
   ]
  },
  {
   "cell_type": "markdown",
   "id": "85f93cd6",
   "metadata": {},
   "source": [
    "## Create temporary directory\n",
    "\n",
    "Create a temporary directory where downloaded data or\n",
    "dumped data can be stored.\n",
    "If you'd like to retrieve the project data for subsequent use,\n",
    "the temporary folder name is given by ``temp_folder.name``."
   ]
  },
  {
   "cell_type": "code",
   "execution_count": 3,
   "id": "2eddc1cc",
   "metadata": {
    "execution": {
     "iopub.execute_input": "2025-10-30T05:12:59.550444Z",
     "iopub.status.busy": "2025-10-30T05:12:59.550444Z",
     "iopub.status.idle": "2025-10-30T05:12:59.566569Z",
     "shell.execute_reply": "2025-10-30T05:12:59.566569Z"
    }
   },
   "outputs": [],
   "source": [
    "temp_folder = tempfile.TemporaryDirectory(suffix=\".ansys\")"
   ]
  },
  {
   "cell_type": "markdown",
   "id": "ade3d45f",
   "metadata": {},
   "source": [
    "## Launch AEDT and Circuit"
   ]
  },
  {
   "cell_type": "code",
   "execution_count": 4,
   "id": "ba3db5c9",
   "metadata": {
    "execution": {
     "iopub.execute_input": "2025-10-30T05:12:59.566569Z",
     "iopub.status.busy": "2025-10-30T05:12:59.566569Z",
     "iopub.status.idle": "2025-10-30T05:13:28.179004Z",
     "shell.execute_reply": "2025-10-30T05:13:28.179004Z"
    }
   },
   "outputs": [
    {
     "name": "stdout",
     "output_type": "stream",
     "text": [
      "PyAEDT INFO: Python version 3.10.11 (tags/v3.10.11:7d4cc5a, Apr  5 2023, 00:38:17) [MSC v.1929 64 bit (AMD64)].\n"
     ]
    },
    {
     "name": "stdout",
     "output_type": "stream",
     "text": [
      "PyAEDT INFO: PyAEDT version 0.22.dev0.\n"
     ]
    },
    {
     "name": "stdout",
     "output_type": "stream",
     "text": [
      "PyAEDT INFO: Initializing new Desktop session.\n"
     ]
    },
    {
     "name": "stdout",
     "output_type": "stream",
     "text": [
      "PyAEDT INFO: Log on console is enabled.\n"
     ]
    },
    {
     "name": "stdout",
     "output_type": "stream",
     "text": [
      "PyAEDT INFO: Log on file C:\\Users\\ansys\\AppData\\Local\\Temp\\pyaedt_ansys_cae0f6b9-0485-4c68-9fa9-f927b3cd6180.log is enabled.\n"
     ]
    },
    {
     "name": "stdout",
     "output_type": "stream",
     "text": [
      "PyAEDT INFO: Log on AEDT is disabled.\n"
     ]
    },
    {
     "name": "stdout",
     "output_type": "stream",
     "text": [
      "PyAEDT INFO: Debug logger is disabled. PyAEDT methods will not be logged.\n"
     ]
    },
    {
     "name": "stdout",
     "output_type": "stream",
     "text": [
      "PyAEDT INFO: Launching PyAEDT with gRPC plugin.\n"
     ]
    },
    {
     "name": "stdout",
     "output_type": "stream",
     "text": [
      "PyAEDT INFO: New AEDT session is starting on gRPC port 55570.\n"
     ]
    },
    {
     "name": "stdout",
     "output_type": "stream",
     "text": [
      "PyAEDT INFO: Electronics Desktop started on gRPC port: 55570 after 11.224659442901611 seconds.\n"
     ]
    },
    {
     "name": "stdout",
     "output_type": "stream",
     "text": [
      "PyAEDT INFO: AEDT installation Path C:\\Program Files\\ANSYS Inc\\v252\\AnsysEM\n"
     ]
    },
    {
     "name": "stdout",
     "output_type": "stream",
     "text": [
      "PyAEDT INFO: Ansoft.ElectronicsDesktop.2025.2 version started with process ID 9160.\n"
     ]
    },
    {
     "name": "stdout",
     "output_type": "stream",
     "text": [
      "PyAEDT INFO: Project my_project has been created.\n"
     ]
    },
    {
     "name": "stdout",
     "output_type": "stream",
     "text": [
      "PyAEDT INFO: No design is present. Inserting a new design.\n"
     ]
    },
    {
     "name": "stdout",
     "output_type": "stream",
     "text": [
      "PyAEDT INFO: Added design 'Circuit Design_IG4' of type Circuit Design.\n"
     ]
    },
    {
     "name": "stdout",
     "output_type": "stream",
     "text": [
      "PyAEDT INFO: Aedt Objects correctly read\n"
     ]
    },
    {
     "name": "stdout",
     "output_type": "stream",
     "text": [
      "PyAEDT INFO: ModelerCircuit class has been initialized! Elapsed time: 0m 0sec\n"
     ]
    },
    {
     "name": "stdout",
     "output_type": "stream",
     "text": [
      "PyAEDT INFO: ModelerNexxim class has been initialized!\n"
     ]
    },
    {
     "name": "stdout",
     "output_type": "stream",
     "text": [
      "PyAEDT INFO: Modeler class has been initialized! Elapsed time: 0m 0sec\n"
     ]
    }
   ],
   "source": [
    "project_name = os.path.join(temp_folder.name, \"my_project.aedt\")\n",
    "circuit = ansys.aedt.core.Circuit(\n",
    "    project=project_name,\n",
    "    version=AEDT_VERSION,\n",
    "    non_graphical=NG_MODE,\n",
    "    new_desktop=True,\n",
    ")\n",
    "circuit.modeler.schematic_units = \"mil\""
   ]
  },
  {
   "cell_type": "markdown",
   "id": "78740102",
   "metadata": {},
   "source": [
    "## Variable initialization to create a parametric design\n",
    "\n",
    "Initialize dictionary that contain all the definitions for the design variables."
   ]
  },
  {
   "cell_type": "code",
   "execution_count": 5,
   "id": "344af49c",
   "metadata": {
    "execution": {
     "iopub.execute_input": "2025-10-30T05:13:28.179004Z",
     "iopub.status.busy": "2025-10-30T05:13:28.179004Z",
     "iopub.status.idle": "2025-10-30T05:13:28.194890Z",
     "shell.execute_reply": "2025-10-30T05:13:28.194890Z"
    }
   },
   "outputs": [],
   "source": [
    "design_properties = {\n",
    "    \"VoltageDCbus\": \"400V\",\n",
    "    \"r_g1\": \"2.2\",\n",
    "    \"r_g2\": \"2.2\",\n",
    "    \"c_dc_link\": \"0.0005farad\",\n",
    "    \"l_load\": \"7.7e-5\",\n",
    "    \"Vgate_top\": \"-5V\",\n",
    "    \"r_load\": \"0.1\",\n",
    "    \"r_dc_link\": \"1e6\",\n",
    "    \"v_pwl_high\": \"18.0V\",\n",
    "    \"v_pwl_low\": \"-5.0V\",\n",
    "}"
   ]
  },
  {
   "cell_type": "markdown",
   "id": "8c7e1458",
   "metadata": {},
   "source": [
    "Define design variables from the created dictionaries."
   ]
  },
  {
   "cell_type": "code",
   "execution_count": 6,
   "id": "38d72dfb",
   "metadata": {
    "execution": {
     "iopub.execute_input": "2025-10-30T05:13:28.194890Z",
     "iopub.status.busy": "2025-10-30T05:13:28.194890Z",
     "iopub.status.idle": "2025-10-30T05:13:28.337103Z",
     "shell.execute_reply": "2025-10-30T05:13:28.337103Z"
    }
   },
   "outputs": [],
   "source": [
    "for k, v in design_properties.items():\n",
    "    circuit[k] = v"
   ]
  },
  {
   "cell_type": "markdown",
   "id": "45794189",
   "metadata": {},
   "source": [
    "## Insert Circuit Elements into the Schematic\n",
    "\n",
    "Define starting position for component placement."
   ]
  },
  {
   "cell_type": "code",
   "execution_count": 7,
   "id": "edf4bba0",
   "metadata": {
    "execution": {
     "iopub.execute_input": "2025-10-30T05:13:28.337103Z",
     "iopub.status.busy": "2025-10-30T05:13:28.337103Z",
     "iopub.status.idle": "2025-10-30T05:13:28.353098Z",
     "shell.execute_reply": "2025-10-30T05:13:28.353098Z"
    }
   },
   "outputs": [],
   "source": [
    "y_upper_pin = 5200\n",
    "y_lower_pin = 2000"
   ]
  },
  {
   "cell_type": "markdown",
   "id": "a0a6e567",
   "metadata": {},
   "source": [
    "Define parametrically high and low voltage level for pwl voltage source."
   ]
  },
  {
   "cell_type": "code",
   "execution_count": 8,
   "id": "a0597df5",
   "metadata": {
    "execution": {
     "iopub.execute_input": "2025-10-30T05:13:28.353098Z",
     "iopub.status.busy": "2025-10-30T05:13:28.353098Z",
     "iopub.status.idle": "2025-10-30T05:13:28.368853Z",
     "shell.execute_reply": "2025-10-30T05:13:28.368853Z"
    }
   },
   "outputs": [],
   "source": [
    "time_list_pwl = [\n",
    "    0.0,\n",
    "    5.0e-6,\n",
    "    5.001e-6,\n",
    "    9.825e-06,\n",
    "    9.826e-06,\n",
    "    1.1e-05,\n",
    "    1.1001e-05,\n",
    "    1.3e-05,\n",
    "    1.3001e-05,\n",
    "]\n",
    "volt_list_pwl = [\n",
    "    \"v_pwl_low\",\n",
    "    \"v_pwl_low\",\n",
    "    \"v_pwl_high\",\n",
    "    \"v_pwl_high\",\n",
    "    \"v_pwl_low\",\n",
    "    \"v_pwl_low\",\n",
    "    \"v_pwl_high\",\n",
    "    \"v_pwl_high\",\n",
    "    \"v_pwl_low\",\n",
    "]"
   ]
  },
  {
   "cell_type": "markdown",
   "id": "8891645f",
   "metadata": {},
   "source": [
    "Add circuit components to the schematic."
   ]
  },
  {
   "cell_type": "code",
   "execution_count": 9,
   "id": "5b88f407",
   "metadata": {
    "execution": {
     "iopub.execute_input": "2025-10-30T05:13:28.368853Z",
     "iopub.status.busy": "2025-10-30T05:13:28.368853Z",
     "iopub.status.idle": "2025-10-30T05:13:29.508963Z",
     "shell.execute_reply": "2025-10-30T05:13:29.508963Z"
    }
   },
   "outputs": [],
   "source": [
    "v_pwl = circuit.modeler.components.create_voltage_pwl(\n",
    "    name=\"v_pwl\",\n",
    "    time_list=time_list_pwl,\n",
    "    voltage_list=volt_list_pwl,\n",
    "    location=[600, 2800],\n",
    ")\n",
    "v_gate_top = circuit.modeler.components.create_voltage_dc(\n",
    "    name=\"Vgate_top\", value=\"Vgate_top\", location=[600, 4500]\n",
    ")\n",
    "v_dc_bus = circuit.modeler.components.create_voltage_dc(\n",
    "    name=\"v_dc_bus\", value=\"VoltageDCbus\", location=[-1800, 3800]\n",
    ")\n",
    "c_dc_link = circuit.modeler.schematic.create_capacitor(\n",
    "    name=\"c_dc_link\", value=\"c_dc_link\", location=[-1300, 3800], angle=90\n",
    ")\n",
    "r_dc_link = circuit.modeler.schematic.create_resistor(\n",
    "    name=\"r_dc_link\", value=\"r_dc_link\", location=[-700, 3800], angle=90\n",
    ")\n",
    "l_load = circuit.modeler.schematic.create_inductor(\n",
    "    name=\"l_load\", value=\"l_load\", location=[3000, 4800], angle=-90\n",
    ")\n",
    "r_load = circuit.modeler.schematic.create_resistor(\n",
    "    name=\"r_load\", value=\"r_load\", location=[3000, 4300], angle=90\n",
    ")\n",
    "r_g1 = circuit.modeler.schematic.create_resistor(\n",
    "    name=\"r_g1\", value=\"r_g1\", location=[1400, 4700], angle=180\n",
    ")\n",
    "r_g2 = circuit.modeler.schematic.create_resistor(\n",
    "    name=\"r_g2\", value=\"r_g2\", location=[1400, 3100], angle=180\n",
    ")\n",
    "voltm_g = circuit.modeler.components.components_catalog[\"Probes:VPROBE_DIFF\"].place(\n",
    "    assignment=\"voltage_g\", location=[100, 2900], angle=270\n",
    ")\n",
    "voltm_g.parameters[\"Name\"] = \"voltage_g\"\n",
    "voltm_ds = circuit.modeler.components.components_catalog[\"Probes:VPROBE_DIFF\"].place(\n",
    "    assignment=\"voltage_ds\", location=[2500, 3300], angle=0\n",
    ")\n",
    "voltm_ds.parameters[\"Name\"] = \"voltage_ds\"\n",
    "amm_top = circuit.modeler.components.components_catalog[\"Probes:IPROBE\"].place(\n",
    "    assignment=\"Itop\", location=[1100, 5200], angle=0\n",
    ")\n",
    "amm_top.parameters[\"Name\"] = \"Itop\"\n",
    "amm_ind = circuit.modeler.components.components_catalog[\"Probes:IPROBE\"].place(\n",
    "    assignment=\"Iinductor\", location=[2500, 4000], angle=0\n",
    ")\n",
    "amm_ind.parameters[\"Name\"] = \"Iinductor\"\n",
    "amm_bot = circuit.modeler.components.components_catalog[\"Probes:IPROBE\"].place(\n",
    "    assignment=\"Ibottom\", location=[2000, 3600], angle=270\n",
    ")\n",
    "amm_bot.parameters[\"Name\"] = \"Ibottom\""
   ]
  },
  {
   "cell_type": "markdown",
   "id": "401be3b6",
   "metadata": {},
   "source": [
    "## Add nMOS components from Component Library.\n",
    "\n",
    "Please check that chosen component can access the method place()\n",
    "If you need to insert a component from a spice model,\n",
    "please use the method: circuit.modeler.components.create_component_from_spicemodel"
   ]
  },
  {
   "cell_type": "code",
   "execution_count": 10,
   "id": "6faceb86",
   "metadata": {
    "execution": {
     "iopub.execute_input": "2025-10-30T05:13:29.508963Z",
     "iopub.status.busy": "2025-10-30T05:13:29.508963Z",
     "iopub.status.idle": "2025-10-30T05:13:29.603991Z",
     "shell.execute_reply": "2025-10-30T05:13:29.603991Z"
    }
   },
   "outputs": [],
   "source": [
    "nmos_h = circuit.modeler.components.components_catalog[\n",
    "    \"Power Electronics Tools\\\\Power Semiconductors\\\\MOSFET\\\\STMicroelectronics:SCT040H65G3AG_V2\"\n",
    "].place(assignment=\"NMOS_HS\", location=[1500, 4700], angle=0)\n",
    "nmos_l = circuit.modeler.components.components_catalog[\n",
    "    \"Power Electronics Tools\\\\Power Semiconductors\\\\MOSFET\\\\STMicroelectronics:SCT040H65G3AG_V2\"\n",
    "].place(\"NMOS_LS\", location=[1500, 3100], angle=0)"
   ]
  },
  {
   "cell_type": "markdown",
   "id": "b7529781",
   "metadata": {},
   "source": [
    "## Create wiring to complete the schematic."
   ]
  },
  {
   "cell_type": "code",
   "execution_count": 11,
   "id": "f29d17e9",
   "metadata": {
    "execution": {
     "iopub.execute_input": "2025-10-30T05:13:29.603991Z",
     "iopub.status.busy": "2025-10-30T05:13:29.603991Z",
     "iopub.status.idle": "2025-10-30T05:13:30.267132Z",
     "shell.execute_reply": "2025-10-30T05:13:30.266542Z"
    }
   },
   "outputs": [
    {
     "data": {
      "text/plain": [
       "True"
      ]
     },
     "execution_count": 11,
     "metadata": {},
     "output_type": "execute_result"
    }
   ],
   "source": [
    "circuit.modeler.schematic.connect_components_in_series(\n",
    "    assignment=[l_load, r_load], use_wire=True\n",
    ")\n",
    "circuit.modeler.schematic.connect_components_in_series(\n",
    "    assignment=[v_gate_top, r_g1], use_wire=True\n",
    ")\n",
    "circuit.modeler.schematic.connect_components_in_series(\n",
    "    assignment=[v_pwl, r_g2], use_wire=True\n",
    ")\n",
    "circuit.modeler.schematic.create_wire(\n",
    "    [\n",
    "        [v_dc_bus.pins[1].location[0], v_dc_bus.pins[1].location[1]],\n",
    "        [v_dc_bus.pins[1].location[0], y_upper_pin],\n",
    "    ]\n",
    ")\n",
    "circuit.modeler.schematic.create_wire(\n",
    "    [\n",
    "        [c_dc_link.pins[1].location[0], c_dc_link.pins[1].location[1]],\n",
    "        [c_dc_link.pins[1].location[0], y_upper_pin],\n",
    "    ]\n",
    ")\n",
    "circuit.modeler.schematic.create_wire(\n",
    "    [\n",
    "        [r_dc_link.pins[0].location[0], r_dc_link.pins[0].location[1]],\n",
    "        [r_dc_link.pins[0].location[0], y_upper_pin],\n",
    "    ]\n",
    ")\n",
    "circuit.modeler.schematic.create_wire(\n",
    "    [\n",
    "        [l_load.pins[0].location[0], l_load.pins[0].location[1]],\n",
    "        [l_load.pins[0].location[0], y_upper_pin],\n",
    "    ]\n",
    ")\n",
    "circuit.modeler.schematic.create_wire(\n",
    "    [\n",
    "        [l_load.pins[0].location[0], y_upper_pin],\n",
    "        [nmos_h.pins[0].location[0], y_upper_pin],\n",
    "    ]\n",
    ")\n",
    "circuit.modeler.schematic.create_wire(\n",
    "    [\n",
    "        [v_dc_bus.pins[0].location[0], y_upper_pin],\n",
    "        [amm_top.pins[0].location[0], amm_top.pins[0].location[1]],\n",
    "    ]\n",
    ")\n",
    "circuit.modeler.schematic.create_wire(\n",
    "    [\n",
    "        [amm_top.pins[1].location[0], amm_top.pins[1].location[1]],\n",
    "        [nmos_h.pins[0].location[0], y_upper_pin],\n",
    "    ]\n",
    ")\n",
    "circuit.modeler.schematic.create_wire(\n",
    "    [\n",
    "        [nmos_h.pins[0].location[0], y_upper_pin],\n",
    "        [nmos_h.pins[0].location[0], nmos_h.pins[0].location[1]],\n",
    "    ]\n",
    ")\n",
    "circuit.modeler.schematic.create_wire(\n",
    "    [\n",
    "        [voltm_g.pins[1].location[0], voltm_g.pins[1].location[1]],\n",
    "        [voltm_g.pins[1].location[0], v_pwl.pins[0].location[1]],\n",
    "        [v_pwl.pins[0].location[0], v_pwl.pins[0].location[1]],\n",
    "    ]\n",
    ")\n",
    "circuit.modeler.schematic.create_wire(\n",
    "    [\n",
    "        [v_pwl.pins[0].location[0], v_pwl.pins[0].location[1]],\n",
    "        [nmos_l.pins[3].location[0], v_pwl.pins[0].location[1]],\n",
    "        [nmos_l.pins[3].location[0], nmos_l.pins[3].location[1]],\n",
    "    ]\n",
    ")\n",
    "circuit.modeler.schematic.create_wire(\n",
    "    [\n",
    "        [v_gate_top.pins[0].location[0], v_gate_top.pins[0].location[1]],\n",
    "        [nmos_h.pins[3].location[0], v_gate_top.pins[0].location[1]],\n",
    "        [nmos_h.pins[3].location[0], nmos_h.pins[3].location[1]],\n",
    "    ]\n",
    ")\n",
    "circuit.modeler.schematic.create_wire(\n",
    "    [\n",
    "        [nmos_h.pins[0].location[0], y_upper_pin],\n",
    "        [nmos_h.pins[0].location[0], nmos_h.pins[0].location[1]],\n",
    "    ]\n",
    ")\n",
    "circuit.modeler.schematic.create_wire(\n",
    "    [\n",
    "        [r_load.pins[1].location[0], r_load.pins[1].location[1]],\n",
    "        [r_load.pins[1].location[0], amm_ind.pins[1].location[1]],\n",
    "        [amm_ind.pins[1].location[0], amm_ind.pins[1].location[1]],\n",
    "    ]\n",
    ")\n",
    "circuit.modeler.schematic.create_wire(\n",
    "    [\n",
    "        [amm_ind.pins[0].location[0], amm_ind.pins[0].location[1]],\n",
    "        [amm_bot.pins[0].location[0], amm_ind.pins[0].location[1]],\n",
    "    ]\n",
    ")\n",
    "circuit.modeler.schematic.create_wire(\n",
    "    [\n",
    "        [voltm_g.pins[0].location[0], voltm_g.pins[0].location[1]],\n",
    "        [v_pwl.pins[0].location[0], voltm_g.pins[0].location[1]],\n",
    "    ]\n",
    ")\n",
    "circuit.modeler.schematic.create_wire(\n",
    "    [\n",
    "        [v_dc_bus.pins[0].location[0], v_dc_bus.pins[0].location[1]],\n",
    "        [v_dc_bus.pins[0].location[0], y_lower_pin],\n",
    "    ]\n",
    ")\n",
    "circuit.modeler.schematic.create_wire(\n",
    "    [\n",
    "        [c_dc_link.pins[0].location[0], c_dc_link.pins[0].location[1]],\n",
    "        [c_dc_link.pins[0].location[0], y_lower_pin],\n",
    "    ]\n",
    ")\n",
    "circuit.modeler.schematic.create_wire(\n",
    "    [\n",
    "        [r_dc_link.pins[1].location[0], r_dc_link.pins[1].location[1]],\n",
    "        [r_dc_link.pins[1].location[0], y_lower_pin],\n",
    "    ]\n",
    ")\n",
    "circuit.modeler.schematic.create_wire(\n",
    "    [\n",
    "        [nmos_l.pins[2].location[0], nmos_l.pins[2].location[1]],\n",
    "        [nmos_l.pins[2].location[0], y_lower_pin],\n",
    "    ]\n",
    ")\n",
    "circuit.modeler.schematic.create_wire(\n",
    "    [\n",
    "        [voltm_ds.pins[1].location[0], voltm_ds.pins[1].location[1]],\n",
    "        [voltm_ds.pins[1].location[0], y_lower_pin],\n",
    "    ]\n",
    ")\n",
    "circuit.modeler.schematic.create_wire(\n",
    "    [\n",
    "        [nmos_l.pins[2].location[0], nmos_l.pins[2].location[1]],\n",
    "        [nmos_l.pins[2].location[0], y_lower_pin],\n",
    "    ]\n",
    ")\n",
    "circuit.modeler.schematic.create_wire(\n",
    "    [\n",
    "        [nmos_h.pins[2].location[0], nmos_h.pins[2].location[1]],\n",
    "        [amm_bot.pins[0].location[0], amm_bot.pins[0].location[1]],\n",
    "    ]\n",
    ")\n",
    "circuit.modeler.schematic.create_wire(\n",
    "    [\n",
    "        [nmos_l.pins[0].location[0], nmos_l.pins[0].location[1]],\n",
    "        [amm_bot.pins[1].location[0], amm_bot.pins[1].location[1]],\n",
    "    ]\n",
    ")\n",
    "circuit.modeler.schematic.create_wire(\n",
    "    [\n",
    "        [nmos_l.pins[0].location[0], nmos_l.pins[0].location[1]],\n",
    "        [voltm_ds.pins[0].location[0], voltm_ds.pins[0].location[1]],\n",
    "    ]\n",
    ")\n",
    "circuit.modeler.schematic.create_wire(\n",
    "    [\n",
    "        [v_dc_bus.pins[1].location[0], y_lower_pin],\n",
    "        [voltm_ds.pins[1].location[0], y_lower_pin],\n",
    "    ]\n",
    ")\n",
    "gnd = circuit.modeler.components.create_gnd(\n",
    "    location=[voltm_ds.pins[1].location[0], y_lower_pin - 100]\n",
    ")\n",
    "r_g1.pins[1].connect_to_component(assignment=nmos_h.pins[1], use_wire=True)\n",
    "r_g2.pins[1].connect_to_component(assignment=nmos_l.pins[1], use_wire=True)"
   ]
  },
  {
   "cell_type": "markdown",
   "id": "4a769a8e",
   "metadata": {},
   "source": [
    "## Create a transient setup"
   ]
  },
  {
   "cell_type": "code",
   "execution_count": 12,
   "id": "b45ca41b",
   "metadata": {
    "execution": {
     "iopub.execute_input": "2025-10-30T05:13:30.267132Z",
     "iopub.status.busy": "2025-10-30T05:13:30.267132Z",
     "iopub.status.idle": "2025-10-30T05:13:30.345658Z",
     "shell.execute_reply": "2025-10-30T05:13:30.345658Z"
    }
   },
   "outputs": [
    {
     "name": "stderr",
     "output_type": "stream",
     "text": [
      "C:\\Users\\ansys\\AppData\\Local\\Temp\\ipykernel_3328\\3523987269.py:3: DeprecationWarning: Usage of SETUPS is deprecated. Use ansys.aedt.core.generic.constants.Setups instead.\n",
      "  name=setup_name, setup_type=circuit.SETUPS.NexximTransient\n"
     ]
    }
   ],
   "source": [
    "setup_name = \"MyTransient\"\n",
    "setup1 = circuit.create_setup(\n",
    "    name=setup_name, setup_type=circuit.SETUPS.NexximTransient\n",
    ")\n",
    "setup1.props[\"TransientData\"] = [\"0.05ns\", \"15us\"]\n",
    "circuit.modeler.zoom_to_fit()"
   ]
  },
  {
   "cell_type": "markdown",
   "id": "62a2ce06",
   "metadata": {},
   "source": [
    "Solve transient setup"
   ]
  },
  {
   "cell_type": "code",
   "execution_count": 13,
   "id": "6cb88c22",
   "metadata": {
    "execution": {
     "iopub.execute_input": "2025-10-30T05:13:30.345658Z",
     "iopub.status.busy": "2025-10-30T05:13:30.345658Z",
     "iopub.status.idle": "2025-10-30T05:13:42.657398Z",
     "shell.execute_reply": "2025-10-30T05:13:42.657398Z"
    }
   },
   "outputs": [
    {
     "name": "stdout",
     "output_type": "stream",
     "text": [
      "PyAEDT INFO: Project my_project Saved correctly\n"
     ]
    },
    {
     "name": "stdout",
     "output_type": "stream",
     "text": [
      "PyAEDT INFO: Key Desktop/ActiveDSOConfigurations/Circuit Design correctly changed.\n"
     ]
    },
    {
     "name": "stdout",
     "output_type": "stream",
     "text": [
      "PyAEDT INFO: Solving design setup MyTransient\n"
     ]
    },
    {
     "name": "stdout",
     "output_type": "stream",
     "text": [
      "PyAEDT INFO: Design setup MyTransient solved correctly in 0.0h 0.0m 12.0s\n"
     ]
    },
    {
     "name": "stdout",
     "output_type": "stream",
     "text": [
      "PyAEDT INFO: Key Desktop/ActiveDSOConfigurations/Circuit Design correctly changed.\n"
     ]
    },
    {
     "data": {
      "text/plain": [
       "True"
      ]
     },
     "execution_count": 13,
     "metadata": {},
     "output_type": "execute_result"
    }
   ],
   "source": [
    "circuit.analyze(setup_name, cores=NUM_CORES)"
   ]
  },
  {
   "cell_type": "markdown",
   "id": "2b95e0db",
   "metadata": {},
   "source": [
    "## Plot Double Pulse Test results\n",
    "\n",
    "Create a report"
   ]
  },
  {
   "cell_type": "code",
   "execution_count": 14,
   "id": "e8d5c8b4",
   "metadata": {
    "execution": {
     "iopub.execute_input": "2025-10-30T05:13:42.657398Z",
     "iopub.status.busy": "2025-10-30T05:13:42.657398Z",
     "iopub.status.idle": "2025-10-30T05:13:43.258934Z",
     "shell.execute_reply": "2025-10-30T05:13:43.258934Z"
    }
   },
   "outputs": [
    {
     "name": "stdout",
     "output_type": "stream",
     "text": [
      "PyAEDT INFO: Post class has been initialized! Elapsed time: 0m 0sec\n"
     ]
    }
   ],
   "source": [
    "new_report = circuit.post.create_report(\n",
    "    expressions=[\n",
    "        \"V(voltage_g)\",\n",
    "        \"V(voltage_ds)\",\n",
    "        \"Ipositive(Ibottom)\",\n",
    "        \"Ipositive(Iinductor)\",\n",
    "    ],\n",
    "    domain=\"Time\",\n",
    "    plot_name=\"Plot V,I\",\n",
    "    context={\"time_stop\": \"15us\"}\n",
    ")"
   ]
  },
  {
   "cell_type": "markdown",
   "id": "c2a94f24",
   "metadata": {},
   "source": [
    "## Release AEDT"
   ]
  },
  {
   "cell_type": "code",
   "execution_count": 15,
   "id": "9fd37b56",
   "metadata": {
    "execution": {
     "iopub.execute_input": "2025-10-30T05:13:43.258934Z",
     "iopub.status.busy": "2025-10-30T05:13:43.258934Z",
     "iopub.status.idle": "2025-10-30T05:14:02.316465Z",
     "shell.execute_reply": "2025-10-30T05:14:02.316465Z"
    }
   },
   "outputs": [
    {
     "name": "stdout",
     "output_type": "stream",
     "text": [
      "PyAEDT INFO: Project my_project Saved correctly\n"
     ]
    },
    {
     "name": "stdout",
     "output_type": "stream",
     "text": [
      "PyAEDT INFO: Desktop has been released and closed.\n"
     ]
    }
   ],
   "source": [
    "circuit.save_project()\n",
    "circuit.release_desktop()\n",
    "# Wait 3 seconds to allow AEDT to shut down before cleaning the temporary directory.\n",
    "time.sleep(3)"
   ]
  },
  {
   "cell_type": "markdown",
   "id": "f369a7ab",
   "metadata": {},
   "source": [
    "## Clean up\n",
    "\n",
    "All project files are saved in the folder ``temp_folder.name``.\n",
    "If you've run this example as a Jupyter notebook, you\n",
    "can retrieve those project files. The following cell\n",
    "removes all temporary files, including the project folder."
   ]
  },
  {
   "cell_type": "code",
   "execution_count": 16,
   "id": "ec8e4e1d",
   "metadata": {
    "execution": {
     "iopub.execute_input": "2025-10-30T05:14:02.316465Z",
     "iopub.status.busy": "2025-10-30T05:14:02.316465Z",
     "iopub.status.idle": "2025-10-30T05:14:02.332210Z",
     "shell.execute_reply": "2025-10-30T05:14:02.332210Z"
    }
   },
   "outputs": [],
   "source": [
    "temp_folder.cleanup()"
   ]
  }
 ],
 "metadata": {
  "jupytext": {
   "cell_metadata_filter": "-all",
   "main_language": "python",
   "notebook_metadata_filter": "-all"
  },
  "language_info": {
   "codemirror_mode": {
    "name": "ipython",
    "version": 3
   },
   "file_extension": ".py",
   "mimetype": "text/x-python",
   "name": "python",
   "nbconvert_exporter": "python",
   "pygments_lexer": "ipython3",
   "version": "3.10.11"
  }
 },
 "nbformat": 4,
 "nbformat_minor": 5
}
