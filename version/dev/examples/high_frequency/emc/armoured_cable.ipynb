{
 "cells": [
  {
   "cell_type": "markdown",
   "id": "998463c7",
   "metadata": {},
   "source": [
    "# Cable parameter identification"
   ]
  },
  {
   "cell_type": "markdown",
   "id": "a7df23ec",
   "metadata": {},
   "source": [
    "This example shows how to use PyAEDT to perform these tasks:\n",
    "\n",
    " - Create a Q2D design using modeler primitives and an imported CAD.\n",
    " - Set up the simulation.\n",
    " - Link the solution to a Simplorer design.\n",
    "\n",
    "For information on the cable model used in this example, see\n",
    "[4 Core Armoured Power Cable](https://www.luxingcable.com/low-voltage-cables/4-core-armoured-power-cable.html).\n",
    "\n",
    "Keywords: **Q2D**, **EMC**, **cable**."
   ]
  },
  {
   "cell_type": "markdown",
   "id": "4d3d260c",
   "metadata": {},
   "source": [
    "## Perform imports and define constants\n",
    "\n",
    "Perform required imports."
   ]
  },
  {
   "cell_type": "code",
   "execution_count": 1,
   "id": "4c90bed0",
   "metadata": {
    "execution": {
     "iopub.execute_input": "2025-10-30T05:07:40.009793Z",
     "iopub.status.busy": "2025-10-30T05:07:40.009793Z",
     "iopub.status.idle": "2025-10-30T05:07:43.110799Z",
     "shell.execute_reply": "2025-10-30T05:07:43.110799Z"
    }
   },
   "outputs": [],
   "source": [
    "import math\n",
    "import os\n",
    "import tempfile\n",
    "import time\n",
    "\n",
    "import ansys.aedt.core"
   ]
  },
  {
   "cell_type": "markdown",
   "id": "4629c2ee",
   "metadata": {},
   "source": [
    "Define constants."
   ]
  },
  {
   "cell_type": "code",
   "execution_count": 2,
   "id": "648441be",
   "metadata": {
    "execution": {
     "iopub.execute_input": "2025-10-30T05:07:43.110799Z",
     "iopub.status.busy": "2025-10-30T05:07:43.110799Z",
     "iopub.status.idle": "2025-10-30T05:07:43.126741Z",
     "shell.execute_reply": "2025-10-30T05:07:43.126741Z"
    }
   },
   "outputs": [],
   "source": [
    "AEDT_VERSION = \"2025.2\"\n",
    "NG_MODE = False  # Open AEDT UI when it is launched."
   ]
  },
  {
   "cell_type": "markdown",
   "id": "c6dc5fcb",
   "metadata": {},
   "source": [
    "## Create temporary directory\n",
    "\n",
    "Create a temporary directory where downloaded data or\n",
    "dumped data can be stored.\n",
    "If you'd like to retrieve the project data for subsequent use,\n",
    "the temporary folder name is given by ``temp_folder.name``."
   ]
  },
  {
   "cell_type": "code",
   "execution_count": 3,
   "id": "3794d6bc",
   "metadata": {
    "execution": {
     "iopub.execute_input": "2025-10-30T05:07:43.130221Z",
     "iopub.status.busy": "2025-10-30T05:07:43.130221Z",
     "iopub.status.idle": "2025-10-30T05:07:43.142937Z",
     "shell.execute_reply": "2025-10-30T05:07:43.142937Z"
    }
   },
   "outputs": [],
   "source": [
    "temp_folder = tempfile.TemporaryDirectory(suffix=\".ansys\")"
   ]
  },
  {
   "cell_type": "markdown",
   "id": "666ac78a",
   "metadata": {},
   "source": [
    "## Set up for model creation\n",
    "\n",
    "Initialize cable sizing by specifying radii in millimeters."
   ]
  },
  {
   "cell_type": "code",
   "execution_count": 4,
   "id": "c50576fd",
   "metadata": {
    "execution": {
     "iopub.execute_input": "2025-10-30T05:07:43.142937Z",
     "iopub.status.busy": "2025-10-30T05:07:43.142937Z",
     "iopub.status.idle": "2025-10-30T05:07:43.158979Z",
     "shell.execute_reply": "2025-10-30T05:07:43.158979Z"
    }
   },
   "outputs": [],
   "source": [
    "c_strand_radius = 2.575\n",
    "cable_n_cores = 4\n",
    "core_n_strands = 6\n",
    "core_xlpe_ins_thickness = 0.5\n",
    "core_xy_coord = math.ceil(3 * c_strand_radius + 2 * core_xlpe_ins_thickness)"
   ]
  },
  {
   "cell_type": "markdown",
   "id": "31dff5ab",
   "metadata": {},
   "source": [
    "Initialize radii of further structures incrementally adding thicknesses."
   ]
  },
  {
   "cell_type": "code",
   "execution_count": 5,
   "id": "32a0cde8",
   "metadata": {
    "execution": {
     "iopub.execute_input": "2025-10-30T05:07:43.158979Z",
     "iopub.status.busy": "2025-10-30T05:07:43.158979Z",
     "iopub.status.idle": "2025-10-30T05:07:43.175087Z",
     "shell.execute_reply": "2025-10-30T05:07:43.175087Z"
    }
   },
   "outputs": [],
   "source": [
    "filling_radius = 1.4142 * (\n",
    "    core_xy_coord + 3 * c_strand_radius + core_xlpe_ins_thickness + 0.5\n",
    ")\n",
    "inner_sheath_radius = filling_radius + 0.75\n",
    "armour_thickness = 3\n",
    "armour_radius = inner_sheath_radius + armour_thickness\n",
    "outer_sheath_radius = armour_radius + 2"
   ]
  },
  {
   "cell_type": "markdown",
   "id": "be177fee",
   "metadata": {},
   "source": [
    "Initialize radii."
   ]
  },
  {
   "cell_type": "code",
   "execution_count": 6,
   "id": "77bbb0a6",
   "metadata": {
    "execution": {
     "iopub.execute_input": "2025-10-30T05:07:43.175087Z",
     "iopub.status.busy": "2025-10-30T05:07:43.175087Z",
     "iopub.status.idle": "2025-10-30T05:07:43.191138Z",
     "shell.execute_reply": "2025-10-30T05:07:43.191138Z"
    }
   },
   "outputs": [],
   "source": [
    "armour_centre_pos = inner_sheath_radius + armour_thickness / 2.0\n",
    "arm_strand_rad = armour_thickness / 2.0 - 0.2\n",
    "n_arm_strands = 30"
   ]
  },
  {
   "cell_type": "markdown",
   "id": "dc2e365d",
   "metadata": {},
   "source": [
    "Start an instance of Q2D Extractor, providing the version, project name, design\n",
    "name, and type."
   ]
  },
  {
   "cell_type": "code",
   "execution_count": 7,
   "id": "2a5f09ef",
   "metadata": {
    "execution": {
     "iopub.execute_input": "2025-10-30T05:07:43.191138Z",
     "iopub.status.busy": "2025-10-30T05:07:43.191138Z",
     "iopub.status.idle": "2025-10-30T05:08:23.328873Z",
     "shell.execute_reply": "2025-10-30T05:08:23.328873Z"
    }
   },
   "outputs": [
    {
     "name": "stdout",
     "output_type": "stream",
     "text": [
      "PyAEDT INFO: Python version 3.10.11 (tags/v3.10.11:7d4cc5a, Apr  5 2023, 00:38:17) [MSC v.1929 64 bit (AMD64)].\n"
     ]
    },
    {
     "name": "stdout",
     "output_type": "stream",
     "text": [
      "PyAEDT INFO: PyAEDT version 0.22.dev0.\n"
     ]
    },
    {
     "name": "stdout",
     "output_type": "stream",
     "text": [
      "PyAEDT INFO: Initializing new Desktop session.\n"
     ]
    },
    {
     "name": "stdout",
     "output_type": "stream",
     "text": [
      "PyAEDT INFO: Log on console is enabled.\n"
     ]
    },
    {
     "name": "stdout",
     "output_type": "stream",
     "text": [
      "PyAEDT INFO: Log on file C:\\Users\\ansys\\AppData\\Local\\Temp\\pyaedt_ansys_8959bca7-38e0-4d31-ad12-370fc999d6d0.log is enabled.\n"
     ]
    },
    {
     "name": "stdout",
     "output_type": "stream",
     "text": [
      "PyAEDT INFO: Log on AEDT is disabled.\n"
     ]
    },
    {
     "name": "stdout",
     "output_type": "stream",
     "text": [
      "PyAEDT INFO: Debug logger is disabled. PyAEDT methods will not be logged.\n"
     ]
    },
    {
     "name": "stdout",
     "output_type": "stream",
     "text": [
      "PyAEDT INFO: Launching PyAEDT with gRPC plugin.\n"
     ]
    },
    {
     "name": "stdout",
     "output_type": "stream",
     "text": [
      "PyAEDT INFO: New AEDT session is starting on gRPC port 54960.\n"
     ]
    },
    {
     "name": "stdout",
     "output_type": "stream",
     "text": [
      "PyAEDT INFO: Electronics Desktop started on gRPC port: 54960 after 11.025024890899658 seconds.\n"
     ]
    },
    {
     "name": "stdout",
     "output_type": "stream",
     "text": [
      "PyAEDT INFO: AEDT installation Path C:\\Program Files\\ANSYS Inc\\v252\\AnsysEM\n"
     ]
    },
    {
     "name": "stdout",
     "output_type": "stream",
     "text": [
      "PyAEDT INFO: Ansoft.ElectronicsDesktop.2025.2 version started with process ID 7936.\n"
     ]
    },
    {
     "name": "stdout",
     "output_type": "stream",
     "text": [
      "PyAEDT INFO: Project Q2D_ArmouredCableExample has been created.\n"
     ]
    },
    {
     "name": "stdout",
     "output_type": "stream",
     "text": [
      "PyAEDT INFO: Added design '2D_Extractor_Cable' of type 2D Extractor.\n"
     ]
    },
    {
     "name": "stdout",
     "output_type": "stream",
     "text": [
      "PyAEDT INFO: Aedt Objects correctly read\n"
     ]
    },
    {
     "name": "stdout",
     "output_type": "stream",
     "text": [
      "PyAEDT INFO: Modeler2D class has been initialized!\n"
     ]
    },
    {
     "name": "stdout",
     "output_type": "stream",
     "text": [
      "PyAEDT INFO: Modeler class has been initialized! Elapsed time: 0m 1sec\n"
     ]
    }
   ],
   "source": [
    "project_name = os.path.join(temp_folder.name, \"Q2D_ArmouredCableExample.aedt\")\n",
    "q2d_design_name = \"2D_Extractor_Cable\"\n",
    "setup_name = \"AnalysisSeetup\"\n",
    "sweep_name = \"FreqSweep\"\n",
    "tb_design_name = \"CableSystem\"\n",
    "q2d = ansys.aedt.core.Q2d(\n",
    "    project=project_name,\n",
    "    design=q2d_design_name,\n",
    "    version=AEDT_VERSION,\n",
    "    non_graphical=NG_MODE,\n",
    ")\n",
    "q2d.modeler.model_units = \"mm\""
   ]
  },
  {
   "cell_type": "markdown",
   "id": "9624527b",
   "metadata": {},
   "source": [
    "Assign variables to the Q3D design."
   ]
  },
  {
   "cell_type": "code",
   "execution_count": 8,
   "id": "22649c3e",
   "metadata": {
    "execution": {
     "iopub.execute_input": "2025-10-30T05:08:23.328873Z",
     "iopub.status.busy": "2025-10-30T05:08:23.328873Z",
     "iopub.status.idle": "2025-10-30T05:08:23.440263Z",
     "shell.execute_reply": "2025-10-30T05:08:23.440263Z"
    }
   },
   "outputs": [],
   "source": [
    "core_params = {\n",
    "    \"n_cores\": str(cable_n_cores),\n",
    "    \"n_strands_core\": str(core_n_strands),\n",
    "    \"c_strand_radius\": str(c_strand_radius) + \"mm\",\n",
    "    \"c_strand_xy_coord\": str(core_xy_coord) + \"mm\",\n",
    "}\n",
    "outer_params = {\n",
    "    \"filling_radius\": str(filling_radius) + \"mm\",\n",
    "    \"inner_sheath_radius\": str(inner_sheath_radius) + \"mm\",\n",
    "    \"armour_radius\": str(armour_radius) + \"mm\",\n",
    "    \"outer_sheath_radius\": str(outer_sheath_radius) + \"mm\",\n",
    "}\n",
    "armour_params = {\n",
    "    \"armour_centre_pos\": str(armour_centre_pos) + \"mm\",\n",
    "    \"arm_strand_rad\": str(arm_strand_rad) + \"mm\",\n",
    "    \"n_arm_strands\": str(n_arm_strands),\n",
    "}\n",
    "for k, v in core_params.items():\n",
    "    q2d[k] = v\n",
    "for k, v in outer_params.items():\n",
    "    q2d[k] = v\n",
    "for k, v in armour_params.items():\n",
    "    q2d[k] = v"
   ]
  },
  {
   "cell_type": "markdown",
   "id": "c10bab9f",
   "metadata": {},
   "source": [
    "Cable insulators require the definition of specific materials since they are not\n",
    "included in the ``Sys`` library.\n",
    "\n",
    "Define Plastic, PE (cross-linked, wire, and cable grade):"
   ]
  },
  {
   "cell_type": "code",
   "execution_count": 9,
   "id": "991a1160",
   "metadata": {
    "execution": {
     "iopub.execute_input": "2025-10-30T05:08:23.440263Z",
     "iopub.status.busy": "2025-10-30T05:08:23.440263Z",
     "iopub.status.idle": "2025-10-30T05:08:24.469640Z",
     "shell.execute_reply": "2025-10-30T05:08:24.469640Z"
    }
   },
   "outputs": [
    {
     "name": "stdout",
     "output_type": "stream",
     "text": [
      "PyAEDT INFO: Materials class has been initialized! Elapsed time: 0m 0sec\n"
     ]
    },
    {
     "name": "stdout",
     "output_type": "stream",
     "text": [
      "PyAEDT INFO: Adding new material to the Project Library: plastic_pe_cable_grade\n"
     ]
    },
    {
     "name": "stdout",
     "output_type": "stream",
     "text": [
      "PyAEDT INFO: Material has been added in Desktop.\n"
     ]
    },
    {
     "data": {
      "text/plain": [
       "True"
      ]
     },
     "execution_count": 9,
     "metadata": {},
     "output_type": "execute_result"
    }
   ],
   "source": [
    "mat_pe_cable_grade = q2d.materials.add_material(\"plastic_pe_cable_grade\")\n",
    "mat_pe_cable_grade.conductivity = \"1.40573e-16\"\n",
    "mat_pe_cable_grade.permittivity = \"2.09762\"\n",
    "mat_pe_cable_grade.dielectric_loss_tangent = \"0.000264575\"\n",
    "mat_pe_cable_grade.update()"
   ]
  },
  {
   "cell_type": "markdown",
   "id": "62054738",
   "metadata": {},
   "source": [
    "Define Plastic, PP (10% carbon fiber):"
   ]
  },
  {
   "cell_type": "code",
   "execution_count": 10,
   "id": "c3cff59d",
   "metadata": {
    "execution": {
     "iopub.execute_input": "2025-10-30T05:08:24.469640Z",
     "iopub.status.busy": "2025-10-30T05:08:24.469640Z",
     "iopub.status.idle": "2025-10-30T05:08:24.517408Z",
     "shell.execute_reply": "2025-10-30T05:08:24.517408Z"
    }
   },
   "outputs": [
    {
     "name": "stdout",
     "output_type": "stream",
     "text": [
      "PyAEDT INFO: Adding new material to the Project Library: plastic_pp_carbon_fiber\n"
     ]
    },
    {
     "name": "stdout",
     "output_type": "stream",
     "text": [
      "PyAEDT INFO: Material has been added in Desktop.\n"
     ]
    },
    {
     "data": {
      "text/plain": [
       "True"
      ]
     },
     "execution_count": 10,
     "metadata": {},
     "output_type": "execute_result"
    }
   ],
   "source": [
    "mat_pp = q2d.materials.add_material(\"plastic_pp_carbon_fiber\")\n",
    "mat_pp.conductivity = \"0.0003161\"\n",
    "mat_pp.update()"
   ]
  },
  {
   "cell_type": "markdown",
   "id": "eeedae77",
   "metadata": {},
   "source": [
    "## Create model\n",
    "\n",
    "Create the geometry for core strands, fill, and XLPE insulation."
   ]
  },
  {
   "cell_type": "code",
   "execution_count": 11,
   "id": "acc5c163",
   "metadata": {
    "execution": {
     "iopub.execute_input": "2025-10-30T05:08:24.517408Z",
     "iopub.status.busy": "2025-10-30T05:08:24.517408Z",
     "iopub.status.idle": "2025-10-30T05:08:25.119607Z",
     "shell.execute_reply": "2025-10-30T05:08:25.119607Z"
    }
   },
   "outputs": [
    {
     "name": "stdout",
     "output_type": "stream",
     "text": [
      "PyAEDT INFO: Parsing design objects. This operation can take time\n"
     ]
    },
    {
     "name": "stdout",
     "output_type": "stream",
     "text": [
      "PyAEDT INFO: Refreshing bodies from Object Info\n"
     ]
    },
    {
     "name": "stdout",
     "output_type": "stream",
     "text": [
      "PyAEDT INFO: Bodies Info Refreshed Elapsed time: 0m 0sec\n"
     ]
    },
    {
     "name": "stdout",
     "output_type": "stream",
     "text": [
      "PyAEDT INFO: 3D Modeler objects parsed. Elapsed time: 0m 0sec\n"
     ]
    },
    {
     "name": "stdout",
     "output_type": "stream",
     "text": [
      "PyAEDT INFO: Union of 7 objects has been executed.\n"
     ]
    }
   ],
   "source": [
    "q2d.modeler.create_coordinate_system(\n",
    "    origin=[\"c_strand_xy_coord\", \"c_strand_xy_coord\", \"0mm\"], name=\"CS_c_strand_1\"\n",
    ")\n",
    "q2d.modeler.set_working_coordinate_system(\"CS_c_strand_1\")\n",
    "c1_id = q2d.modeler.create_circle(\n",
    "    origin=[\"0mm\", \"0mm\", \"0mm\"],\n",
    "    radius=\"c_strand_radius\",\n",
    "    name=\"c_strand_1\",\n",
    "    material=\"copper\",\n",
    ")\n",
    "c2_id = c1_id.duplicate_along_line(\n",
    "    vector=[\"0mm\", \"2.0*c_strand_radius\", \"0mm\"], clones=2\n",
    ")\n",
    "q2d.modeler.duplicate_around_axis(c2_id, axis=\"Z\", angle=360 / core_n_strands, clones=6)\n",
    "c_unite_name = q2d.modeler.unite(q2d.get_all_conductors_names())"
   ]
  },
  {
   "cell_type": "code",
   "execution_count": 12,
   "id": "3b5fcb9b",
   "metadata": {
    "execution": {
     "iopub.execute_input": "2025-10-30T05:08:25.119607Z",
     "iopub.status.busy": "2025-10-30T05:08:25.119607Z",
     "iopub.status.idle": "2025-10-30T05:08:25.420699Z",
     "shell.execute_reply": "2025-10-30T05:08:25.420699Z"
    }
   },
   "outputs": [],
   "source": [
    "fill_id = q2d.modeler.create_circle(\n",
    "    origin=[\"0mm\", \"0mm\", \"0mm\"],\n",
    "    radius=\"3*c_strand_radius\",\n",
    "    name=\"c_strand_fill\",\n",
    "    material=\"plastic_pp_carbon_fiber\",\n",
    ")\n",
    "fill_id.color = (255, 255, 0)"
   ]
  },
  {
   "cell_type": "code",
   "execution_count": 13,
   "id": "75faeacf",
   "metadata": {
    "execution": {
     "iopub.execute_input": "2025-10-30T05:08:25.420699Z",
     "iopub.status.busy": "2025-10-30T05:08:25.420699Z",
     "iopub.status.idle": "2025-10-30T05:08:25.452135Z",
     "shell.execute_reply": "2025-10-30T05:08:25.452135Z"
    }
   },
   "outputs": [],
   "source": [
    "xlpe_id = q2d.modeler.create_circle(\n",
    "    origin=[\"0mm\", \"0mm\", \"0mm\"],\n",
    "    radius=\"3*c_strand_radius+\" + str(core_xlpe_ins_thickness) + \"mm\",\n",
    "    name=\"c_strand_xlpe\",\n",
    "    material=\"plastic_pe_cable_grade\",\n",
    ")\n",
    "xlpe_id.color = (0, 128, 128)"
   ]
  },
  {
   "cell_type": "code",
   "execution_count": 14,
   "id": "482c2ecc",
   "metadata": {
    "execution": {
     "iopub.execute_input": "2025-10-30T05:08:25.452135Z",
     "iopub.status.busy": "2025-10-30T05:08:25.452135Z",
     "iopub.status.idle": "2025-10-30T05:08:25.467976Z",
     "shell.execute_reply": "2025-10-30T05:08:25.467976Z"
    }
   },
   "outputs": [
    {
     "data": {
      "text/plain": [
       "True"
      ]
     },
     "execution_count": 14,
     "metadata": {},
     "output_type": "execute_result"
    }
   ],
   "source": [
    "q2d.modeler.set_working_coordinate_system(\"Global\")"
   ]
  },
  {
   "cell_type": "code",
   "execution_count": 15,
   "id": "103cb235",
   "metadata": {
    "execution": {
     "iopub.execute_input": "2025-10-30T05:08:25.467976Z",
     "iopub.status.busy": "2025-10-30T05:08:25.467976Z",
     "iopub.status.idle": "2025-10-30T05:08:25.641861Z",
     "shell.execute_reply": "2025-10-30T05:08:25.641861Z"
    }
   },
   "outputs": [],
   "source": [
    "all_obj_names = q2d.get_all_conductors_names() + q2d.get_all_dielectrics_names()"
   ]
  },
  {
   "cell_type": "code",
   "execution_count": 16,
   "id": "f085ad51",
   "metadata": {
    "execution": {
     "iopub.execute_input": "2025-10-30T05:08:25.641861Z",
     "iopub.status.busy": "2025-10-30T05:08:25.641861Z",
     "iopub.status.idle": "2025-10-30T05:08:25.894068Z",
     "shell.execute_reply": "2025-10-30T05:08:25.894068Z"
    }
   },
   "outputs": [],
   "source": [
    "q2d.modeler.duplicate_around_axis(\n",
    "    all_obj_names, axis=\"Z\", angle=360 / cable_n_cores, clones=4\n",
    ")\n",
    "cond_names = q2d.get_all_conductors_names()"
   ]
  },
  {
   "cell_type": "markdown",
   "id": "77ad67ca",
   "metadata": {},
   "source": [
    "Define the filling object."
   ]
  },
  {
   "cell_type": "code",
   "execution_count": 17,
   "id": "4cb014af",
   "metadata": {
    "execution": {
     "iopub.execute_input": "2025-10-30T05:08:25.894068Z",
     "iopub.status.busy": "2025-10-30T05:08:25.894068Z",
     "iopub.status.idle": "2025-10-30T05:08:25.925868Z",
     "shell.execute_reply": "2025-10-30T05:08:25.925868Z"
    }
   },
   "outputs": [],
   "source": [
    "filling_id = q2d.modeler.create_circle(\n",
    "    origin=[\"0mm\", \"0mm\", \"0mm\"],\n",
    "    radius=\"filling_radius\",\n",
    "    name=\"Filling\",\n",
    "    material=\"plastic_pp_carbon_fiber\",\n",
    ")\n",
    "filling_id.color = (255, 255, 180)"
   ]
  },
  {
   "cell_type": "markdown",
   "id": "0a5e9f88",
   "metadata": {},
   "source": [
    "Define the inner sheath."
   ]
  },
  {
   "cell_type": "code",
   "execution_count": 18,
   "id": "0b8aea79",
   "metadata": {
    "execution": {
     "iopub.execute_input": "2025-10-30T05:08:25.928477Z",
     "iopub.status.busy": "2025-10-30T05:08:25.928477Z",
     "iopub.status.idle": "2025-10-30T05:08:26.210440Z",
     "shell.execute_reply": "2025-10-30T05:08:26.210440Z"
    }
   },
   "outputs": [],
   "source": [
    "inner_sheath_id = q2d.modeler.create_circle(\n",
    "    origin=[\"0mm\", \"0mm\", \"0mm\"],\n",
    "    radius=\"inner_sheath_radius\",\n",
    "    name=\"InnerSheath\",\n",
    "    material=\"PVC plastic\",\n",
    ")\n",
    "inner_sheath_id.color = (0, 0, 0)"
   ]
  },
  {
   "cell_type": "markdown",
   "id": "95827bd4",
   "metadata": {},
   "source": [
    "Create the armature fill."
   ]
  },
  {
   "cell_type": "code",
   "execution_count": 19,
   "id": "721c80bf",
   "metadata": {
    "execution": {
     "iopub.execute_input": "2025-10-30T05:08:26.210440Z",
     "iopub.status.busy": "2025-10-30T05:08:26.210440Z",
     "iopub.status.idle": "2025-10-30T05:08:26.242223Z",
     "shell.execute_reply": "2025-10-30T05:08:26.242223Z"
    }
   },
   "outputs": [],
   "source": [
    "arm_fill_id = q2d.modeler.create_circle(\n",
    "    origin=[\"0mm\", \"0mm\", \"0mm\"],\n",
    "    radius=\"armour_radius\",\n",
    "    name=\"ArmourFilling\",\n",
    "    material=\"plastic_pp_carbon_fiber\",\n",
    ")\n",
    "arm_fill_id.color = (255, 255, 255)"
   ]
  },
  {
   "cell_type": "markdown",
   "id": "169b3ee8",
   "metadata": {},
   "source": [
    "Create the geometry for the outer sheath."
   ]
  },
  {
   "cell_type": "code",
   "execution_count": 20,
   "id": "e27fea2f",
   "metadata": {
    "execution": {
     "iopub.execute_input": "2025-10-30T05:08:26.242223Z",
     "iopub.status.busy": "2025-10-30T05:08:26.242223Z",
     "iopub.status.idle": "2025-10-30T05:08:26.274356Z",
     "shell.execute_reply": "2025-10-30T05:08:26.274356Z"
    }
   },
   "outputs": [],
   "source": [
    "outer_sheath_id = q2d.modeler.create_circle(\n",
    "    origin=[\"0mm\", \"0mm\", \"0mm\"],\n",
    "    radius=\"outer_sheath_radius\",\n",
    "    name=\"OuterSheath\",\n",
    "    material=\"PVC plastic\",\n",
    ")\n",
    "outer_sheath_id.color = (0, 0, 0)"
   ]
  },
  {
   "cell_type": "markdown",
   "id": "6a26feba",
   "metadata": {},
   "source": [
    "Create the geometry for the armature steel strands."
   ]
  },
  {
   "cell_type": "code",
   "execution_count": 21,
   "id": "dec24e42",
   "metadata": {
    "execution": {
     "iopub.execute_input": "2025-10-30T05:08:26.274356Z",
     "iopub.status.busy": "2025-10-30T05:08:26.274356Z",
     "iopub.status.idle": "2025-10-30T05:08:26.620829Z",
     "shell.execute_reply": "2025-10-30T05:08:26.620829Z"
    }
   },
   "outputs": [],
   "source": [
    "arm_strand_1_id = q2d.modeler.create_circle(\n",
    "    origin=[\"0mm\", \"armour_centre_pos\", \"0mm\"],\n",
    "    radius=\"1.1mm\",\n",
    "    name=\"arm_strand_1\",\n",
    "    material=\"steel_stainless\",\n",
    ")\n",
    "arm_strand_1_id.color = (128, 128, 64)\n",
    "arm_strand_1_id.duplicate_around_axis(\n",
    "    axis=\"Z\", angle=\"360deg/n_arm_strands\", clones=\"n_arm_strands\"\n",
    ")\n",
    "arm_strand_names = q2d.modeler.get_objects_w_string(\"arm_strand\")"
   ]
  },
  {
   "cell_type": "markdown",
   "id": "60149d12",
   "metadata": {},
   "source": [
    "Define the outer region that defines the solution domain."
   ]
  },
  {
   "cell_type": "code",
   "execution_count": 22,
   "id": "c5adcc3c",
   "metadata": {
    "execution": {
     "iopub.execute_input": "2025-10-30T05:08:26.624849Z",
     "iopub.status.busy": "2025-10-30T05:08:26.624849Z",
     "iopub.status.idle": "2025-10-30T05:08:26.920563Z",
     "shell.execute_reply": "2025-10-30T05:08:26.920563Z"
    }
   },
   "outputs": [],
   "source": [
    "region = q2d.modeler.create_region([500, 500, 500, 500])\n",
    "region.material_name = \"vacuum\""
   ]
  },
  {
   "cell_type": "markdown",
   "id": "941a3f4f",
   "metadata": {},
   "source": [
    "Assign conductors and reference ground."
   ]
  },
  {
   "cell_type": "code",
   "execution_count": 23,
   "id": "ff0d0231",
   "metadata": {
    "execution": {
     "iopub.execute_input": "2025-10-30T05:08:26.924571Z",
     "iopub.status.busy": "2025-10-30T05:08:26.924571Z",
     "iopub.status.idle": "2025-10-30T05:08:28.024859Z",
     "shell.execute_reply": "2025-10-30T05:08:28.024859Z"
    }
   },
   "outputs": [
    {
     "name": "stdout",
     "output_type": "stream",
     "text": [
      "PyAEDT INFO: Boundary SignalLine C11 has been created.\n"
     ]
    },
    {
     "name": "stdout",
     "output_type": "stream",
     "text": [
      "PyAEDT INFO: Boundary SignalLine C12 has been created.\n"
     ]
    },
    {
     "name": "stdout",
     "output_type": "stream",
     "text": [
      "PyAEDT INFO: Boundary SignalLine C13 has been created.\n"
     ]
    },
    {
     "name": "stdout",
     "output_type": "stream",
     "text": [
      "PyAEDT INFO: Boundary SignalLine C14 has been created.\n"
     ]
    },
    {
     "name": "stdout",
     "output_type": "stream",
     "text": [
      "PyAEDT INFO: Boundary ReferenceGround gnd has been created.\n"
     ]
    }
   ],
   "source": [
    "obj = [q2d.modeler.get_object_from_name(i) for i in cond_names]\n",
    "[\n",
    "    q2d.assign_single_conductor(\n",
    "        name=\"C1\" + str(obj.index(i) + 1), assignment=i, conductor_type=\"SignalLine\"\n",
    "    )\n",
    "    for i in obj\n",
    "]\n",
    "obj = [q2d.modeler.get_object_from_name(i) for i in arm_strand_names]\n",
    "q2d.assign_single_conductor(\n",
    "    name=\"gnd\", assignment=obj, conductor_type=\"ReferenceGround\"\n",
    ")\n",
    "q2d.modeler.fit_all()"
   ]
  },
  {
   "cell_type": "markdown",
   "id": "2800e540",
   "metadata": {},
   "source": [
    "Specify the design settings."
   ]
  },
  {
   "cell_type": "code",
   "execution_count": 24,
   "id": "4dc5fde6",
   "metadata": {
    "execution": {
     "iopub.execute_input": "2025-10-30T05:08:28.024859Z",
     "iopub.status.busy": "2025-10-30T05:08:28.024859Z",
     "iopub.status.idle": "2025-10-30T05:08:28.056935Z",
     "shell.execute_reply": "2025-10-30T05:08:28.056935Z"
    }
   },
   "outputs": [],
   "source": [
    "lumped_length = \"100m\"\n",
    "q2d.design_settings[\"LumpedLength\"] = lumped_length"
   ]
  },
  {
   "cell_type": "markdown",
   "id": "33b0ebc1",
   "metadata": {},
   "source": [
    "## Solve model\n",
    "\n",
    "Insert the setup and frequency sweep."
   ]
  },
  {
   "cell_type": "code",
   "execution_count": 25,
   "id": "e7d49a9b",
   "metadata": {
    "execution": {
     "iopub.execute_input": "2025-10-30T05:08:28.056935Z",
     "iopub.status.busy": "2025-10-30T05:08:28.056935Z",
     "iopub.status.idle": "2025-10-30T05:08:28.121152Z",
     "shell.execute_reply": "2025-10-30T05:08:28.121152Z"
    }
   },
   "outputs": [
    {
     "name": "stdout",
     "output_type": "stream",
     "text": [
      "PyAEDT INFO: Parsing C:\\Users\\ansys\\AppData\\Local\\Temp\\tmpgqa_sny6.ansys\\Q2D_ArmouredCableExample.aedt.\n"
     ]
    },
    {
     "name": "stdout",
     "output_type": "stream",
     "text": [
      "PyAEDT INFO: File C:\\Users\\ansys\\AppData\\Local\\Temp\\tmpgqa_sny6.ansys\\Q2D_ArmouredCableExample.aedt correctly loaded. Elapsed time: 0m 0sec\n"
     ]
    },
    {
     "name": "stdout",
     "output_type": "stream",
     "text": [
      "PyAEDT INFO: aedt file load time 0.015914201736450195\n"
     ]
    }
   ],
   "source": [
    "q2d_setup = q2d.create_setup(name=setup_name)\n",
    "q2d_sweep = q2d_setup.add_sweep(name=sweep_name)"
   ]
  },
  {
   "cell_type": "markdown",
   "id": "cae75b73",
   "metadata": {},
   "source": [
    "The cable model is generated by running two solution types:\n",
    "\n",
    "1. Capacitance and conductance per unit length (CG).\n",
    "For this model, the CG solution runs in a few seconds.\n",
    "\n",
    "2. Series resistance and inductance (RL).\n",
    "For this model, the solution time can range from 15-20 minutes,\n",
    "depending on the available hardware.\n",
    "\n",
    "Uncomment the following line to run the analysis."
   ]
  },
  {
   "cell_type": "code",
   "execution_count": 26,
   "id": "04e0364c",
   "metadata": {
    "execution": {
     "iopub.execute_input": "2025-10-30T05:08:28.121152Z",
     "iopub.status.busy": "2025-10-30T05:08:28.121152Z",
     "iopub.status.idle": "2025-10-30T05:08:28.136824Z",
     "shell.execute_reply": "2025-10-30T05:08:28.136824Z"
    }
   },
   "outputs": [],
   "source": [
    "# q2d.analyze()"
   ]
  },
  {
   "cell_type": "markdown",
   "id": "7787debc",
   "metadata": {},
   "source": [
    "## Evaluate results\n",
    "\n",
    "Add a Simplorer/Twin Builder design and the Q3D dynamic component."
   ]
  },
  {
   "cell_type": "code",
   "execution_count": 27,
   "id": "23b3647c",
   "metadata": {
    "execution": {
     "iopub.execute_input": "2025-10-30T05:08:28.136824Z",
     "iopub.status.busy": "2025-10-30T05:08:28.136824Z",
     "iopub.status.idle": "2025-10-30T05:08:32.788328Z",
     "shell.execute_reply": "2025-10-30T05:08:32.788328Z"
    }
   },
   "outputs": [
    {
     "name": "stdout",
     "output_type": "stream",
     "text": [
      "PyAEDT INFO: Python version 3.10.11 (tags/v3.10.11:7d4cc5a, Apr  5 2023, 00:38:17) [MSC v.1929 64 bit (AMD64)].\n"
     ]
    },
    {
     "name": "stdout",
     "output_type": "stream",
     "text": [
      "PyAEDT INFO: PyAEDT version 0.22.dev0.\n"
     ]
    },
    {
     "name": "stdout",
     "output_type": "stream",
     "text": [
      "PyAEDT INFO: Returning found Desktop session with PID 7936!\n"
     ]
    },
    {
     "name": "stdout",
     "output_type": "stream",
     "text": [
      "PyAEDT INFO: No project is defined. Project Q2D_ArmouredCableExample exists and has been read.\n"
     ]
    },
    {
     "name": "stdout",
     "output_type": "stream",
     "text": [
      "PyAEDT INFO: Added design 'CableSystem' of type Twin Builder.\n"
     ]
    },
    {
     "name": "stdout",
     "output_type": "stream",
     "text": [
      "PyAEDT INFO: Aedt Objects correctly read\n"
     ]
    }
   ],
   "source": [
    "tb = ansys.aedt.core.TwinBuilder(design=tb_design_name, version=AEDT_VERSION)"
   ]
  },
  {
   "cell_type": "markdown",
   "id": "075b2d15",
   "metadata": {},
   "source": [
    "Add a Q2D dynamic component."
   ]
  },
  {
   "cell_type": "code",
   "execution_count": 28,
   "id": "a9398edf",
   "metadata": {
    "execution": {
     "iopub.execute_input": "2025-10-30T05:08:32.788328Z",
     "iopub.status.busy": "2025-10-30T05:08:32.788328Z",
     "iopub.status.idle": "2025-10-30T05:08:33.567589Z",
     "shell.execute_reply": "2025-10-30T05:08:33.567589Z"
    }
   },
   "outputs": [
    {
     "name": "stdout",
     "output_type": "stream",
     "text": [
      "PyAEDT INFO: Python version 3.10.11 (tags/v3.10.11:7d4cc5a, Apr  5 2023, 00:38:17) [MSC v.1929 64 bit (AMD64)].\n"
     ]
    },
    {
     "name": "stdout",
     "output_type": "stream",
     "text": [
      "PyAEDT INFO: PyAEDT version 0.22.dev0.\n"
     ]
    },
    {
     "name": "stdout",
     "output_type": "stream",
     "text": [
      "PyAEDT INFO: Returning found Desktop session with PID 7936!\n"
     ]
    },
    {
     "name": "stdout",
     "output_type": "stream",
     "text": [
      "PyAEDT INFO: Project Q2D_ArmouredCableExample set to active.\n"
     ]
    },
    {
     "name": "stdout",
     "output_type": "stream",
     "text": [
      "PyAEDT INFO: Active Design set to 2D_Extractor_Cable\n"
     ]
    },
    {
     "name": "stdout",
     "output_type": "stream",
     "text": [
      "PyAEDT INFO: Aedt Objects correctly read\n"
     ]
    },
    {
     "name": "stdout",
     "output_type": "stream",
     "text": [
      "PyAEDT INFO: ModelerCircuit class has been initialized! Elapsed time: 0m 0sec\n"
     ]
    },
    {
     "name": "stdout",
     "output_type": "stream",
     "text": [
      "PyAEDT INFO: ModelerTwinBuilder class has been initialized!\n"
     ]
    },
    {
     "data": {
      "text/plain": [
       "<ansys.aedt.core.modeler.circuits.object_3d_circuit.CircuitComponent at 0x1de145e6920>"
      ]
     },
     "execution_count": 28,
     "metadata": {},
     "output_type": "execute_result"
    }
   ],
   "source": [
    "tb.add_q3d_dynamic_component(\n",
    "    project_name,\n",
    "    q2d_design_name,\n",
    "    q2d_setup.name,\n",
    "    q2d_sweep.name,\n",
    "    model_depth=lumped_length,\n",
    "    coupling_matrix_name=\"Original\",\n",
    ")"
   ]
  },
  {
   "cell_type": "markdown",
   "id": "4496f35f",
   "metadata": {},
   "source": [
    "## Release AEDT"
   ]
  },
  {
   "cell_type": "code",
   "execution_count": 29,
   "id": "404041b0",
   "metadata": {
    "execution": {
     "iopub.execute_input": "2025-10-30T05:08:33.567589Z",
     "iopub.status.busy": "2025-10-30T05:08:33.567589Z",
     "iopub.status.idle": "2025-10-30T05:08:50.683096Z",
     "shell.execute_reply": "2025-10-30T05:08:50.683096Z"
    }
   },
   "outputs": [
    {
     "name": "stdout",
     "output_type": "stream",
     "text": [
      "PyAEDT INFO: Project Q2D_ArmouredCableExample Saved correctly\n"
     ]
    },
    {
     "name": "stdout",
     "output_type": "stream",
     "text": [
      "PyAEDT INFO: Desktop has been released and closed.\n"
     ]
    }
   ],
   "source": [
    "tb.save_project()\n",
    "tb.release_desktop()\n",
    "# Wait 3 seconds to allow AEDT to shut down before cleaning the temporary directory.\n",
    "time.sleep(3)"
   ]
  },
  {
   "cell_type": "markdown",
   "id": "ed97427e",
   "metadata": {},
   "source": [
    "## Clean up\n",
    "\n",
    "All project files are saved in the folder ``temp_folder.name``.\n",
    "If you've run this example as a Jupyter notebook, you\n",
    "can retrieve those project files. The following cell\n",
    "removes all temporary files, including the project folder."
   ]
  },
  {
   "cell_type": "code",
   "execution_count": 30,
   "id": "1dcc822a",
   "metadata": {
    "execution": {
     "iopub.execute_input": "2025-10-30T05:08:50.683096Z",
     "iopub.status.busy": "2025-10-30T05:08:50.683096Z",
     "iopub.status.idle": "2025-10-30T05:08:50.698859Z",
     "shell.execute_reply": "2025-10-30T05:08:50.698859Z"
    }
   },
   "outputs": [],
   "source": [
    "temp_folder.cleanup()"
   ]
  }
 ],
 "metadata": {
  "jupytext": {
   "cell_metadata_filter": "-all",
   "main_language": "python",
   "notebook_metadata_filter": "-all"
  },
  "language_info": {
   "codemirror_mode": {
    "name": "ipython",
    "version": 3
   },
   "file_extension": ".py",
   "mimetype": "text/x-python",
   "name": "python",
   "nbconvert_exporter": "python",
   "pygments_lexer": "ipython3",
   "version": "3.10.11"
  }
 },
 "nbformat": 4,
 "nbformat_minor": 5
}
