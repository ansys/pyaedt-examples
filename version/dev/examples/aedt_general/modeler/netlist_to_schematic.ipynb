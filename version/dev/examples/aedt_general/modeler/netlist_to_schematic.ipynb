{
 "cells": [
  {
   "cell_type": "markdown",
   "id": "962061f5",
   "metadata": {},
   "source": [
    "# Circuit Netlist to Schematic\n",
    "\n",
    "This example shows how to create components\n",
    "in the circuit schematic editor from a netlist file.\n",
    "\n",
    "Note that HSPICE files are fully supported and that broad coverage is provided for many other formats.\n",
    "\n",
    "Keywords: **Circuit**, **netlist**."
   ]
  },
  {
   "cell_type": "markdown",
   "id": "5f1d8f5d",
   "metadata": {},
   "source": [
    "## Perform imports and define constants\n",
    "\n",
    "Import the required packages."
   ]
  },
  {
   "cell_type": "code",
   "execution_count": 1,
   "id": "cc90f7fa",
   "metadata": {
    "execution": {
     "iopub.execute_input": "2025-10-30T03:46:52.497897Z",
     "iopub.status.busy": "2025-10-30T03:46:52.497897Z",
     "iopub.status.idle": "2025-10-30T03:46:55.547378Z",
     "shell.execute_reply": "2025-10-30T03:46:55.547378Z"
    }
   },
   "outputs": [],
   "source": [
    "import os\n",
    "import tempfile\n",
    "import time\n",
    "\n",
    "import ansys.aedt.core\n",
    "from ansys.aedt.core.examples.downloads import download_netlist"
   ]
  },
  {
   "cell_type": "markdown",
   "id": "55c5e034",
   "metadata": {},
   "source": [
    "## Define constants."
   ]
  },
  {
   "cell_type": "code",
   "execution_count": 2,
   "id": "4be66f57",
   "metadata": {
    "execution": {
     "iopub.execute_input": "2025-10-30T03:46:55.547378Z",
     "iopub.status.busy": "2025-10-30T03:46:55.547378Z",
     "iopub.status.idle": "2025-10-30T03:46:55.563523Z",
     "shell.execute_reply": "2025-10-30T03:46:55.563523Z"
    }
   },
   "outputs": [],
   "source": [
    "AEDT_VERSION = \"2025.2\"\n",
    "NG_MODE = False  # Open AEDT UI when it is launched."
   ]
  },
  {
   "cell_type": "markdown",
   "id": "57bfb3e8",
   "metadata": {},
   "source": [
    "## Create temporary directory\n",
    "\n",
    "Create a temporary directory where downloaded data or\n",
    "dumped data can be stored.\n",
    "If you'd like to retrieve the project data for subsequent use,\n",
    "the temporary folder name is given by ``temp_folder.name``."
   ]
  },
  {
   "cell_type": "code",
   "execution_count": 3,
   "id": "f9d07723",
   "metadata": {
    "execution": {
     "iopub.execute_input": "2025-10-30T03:46:55.563523Z",
     "iopub.status.busy": "2025-10-30T03:46:55.563523Z",
     "iopub.status.idle": "2025-10-30T03:46:55.579361Z",
     "shell.execute_reply": "2025-10-30T03:46:55.579361Z"
    }
   },
   "outputs": [],
   "source": [
    "temp_folder = tempfile.TemporaryDirectory(suffix=\".ansys\")"
   ]
  },
  {
   "cell_type": "markdown",
   "id": "b42e457c",
   "metadata": {},
   "source": [
    "## Launch AEDT with Circuit\n",
    "\n",
    "Launch AEDT with Circuit. The `ansys.aedt.core.Desktop` class initializes AEDT\n",
    "and starts it on the specified version in the specified graphical mode."
   ]
  },
  {
   "cell_type": "code",
   "execution_count": 4,
   "id": "188d71d7",
   "metadata": {
    "execution": {
     "iopub.execute_input": "2025-10-30T03:46:55.579361Z",
     "iopub.status.busy": "2025-10-30T03:46:55.579361Z",
     "iopub.status.idle": "2025-10-30T03:47:24.601043Z",
     "shell.execute_reply": "2025-10-30T03:47:24.601043Z"
    }
   },
   "outputs": [
    {
     "name": "stdout",
     "output_type": "stream",
     "text": [
      "PyAEDT INFO: Python version 3.10.11 (tags/v3.10.11:7d4cc5a, Apr  5 2023, 00:38:17) [MSC v.1929 64 bit (AMD64)].\n"
     ]
    },
    {
     "name": "stdout",
     "output_type": "stream",
     "text": [
      "PyAEDT INFO: PyAEDT version 0.22.dev0.\n"
     ]
    },
    {
     "name": "stdout",
     "output_type": "stream",
     "text": [
      "PyAEDT INFO: Initializing new Desktop session.\n"
     ]
    },
    {
     "name": "stdout",
     "output_type": "stream",
     "text": [
      "PyAEDT INFO: Log on console is enabled.\n"
     ]
    },
    {
     "name": "stdout",
     "output_type": "stream",
     "text": [
      "PyAEDT INFO: Log on file C:\\Users\\ansys\\AppData\\Local\\Temp\\pyaedt_ansys_6a85b89c-fad1-4ab2-a7ed-ec98c58af43a.log is enabled.\n"
     ]
    },
    {
     "name": "stdout",
     "output_type": "stream",
     "text": [
      "PyAEDT INFO: Log on AEDT is disabled.\n"
     ]
    },
    {
     "name": "stdout",
     "output_type": "stream",
     "text": [
      "PyAEDT INFO: Debug logger is disabled. PyAEDT methods will not be logged.\n"
     ]
    },
    {
     "name": "stdout",
     "output_type": "stream",
     "text": [
      "PyAEDT INFO: Launching PyAEDT with gRPC plugin.\n"
     ]
    },
    {
     "name": "stdout",
     "output_type": "stream",
     "text": [
      "PyAEDT INFO: New AEDT session is starting on gRPC port 61261.\n"
     ]
    },
    {
     "name": "stdout",
     "output_type": "stream",
     "text": [
      "PyAEDT INFO: Electronics Desktop started on gRPC port: 61261 after 10.794008255004883 seconds.\n"
     ]
    },
    {
     "name": "stdout",
     "output_type": "stream",
     "text": [
      "PyAEDT INFO: AEDT installation Path C:\\Program Files\\ANSYS Inc\\v252\\AnsysEM\n"
     ]
    },
    {
     "name": "stdout",
     "output_type": "stream",
     "text": [
      "PyAEDT INFO: Ansoft.ElectronicsDesktop.2025.2 version started with process ID 8908.\n"
     ]
    },
    {
     "name": "stdout",
     "output_type": "stream",
     "text": [
      "PyAEDT INFO: Project NetlistExample has been created.\n"
     ]
    },
    {
     "name": "stdout",
     "output_type": "stream",
     "text": [
      "PyAEDT INFO: No design is present. Inserting a new design.\n"
     ]
    },
    {
     "name": "stdout",
     "output_type": "stream",
     "text": [
      "PyAEDT INFO: Added design 'Circuit Design_PRN' of type Circuit Design.\n"
     ]
    },
    {
     "name": "stdout",
     "output_type": "stream",
     "text": [
      "PyAEDT INFO: Aedt Objects correctly read\n"
     ]
    }
   ],
   "source": [
    "netlist = download_netlist(local_path=temp_folder.name)\n",
    "circuit = ansys.aedt.core.Circuit(\n",
    "    project=os.path.join(temp_folder.name, \"NetlistExample\"),\n",
    "    version=AEDT_VERSION,\n",
    "    non_graphical=NG_MODE,\n",
    "    new_desktop=True,\n",
    ")"
   ]
  },
  {
   "cell_type": "markdown",
   "id": "139d1f1b",
   "metadata": {},
   "source": [
    "## Define a parameter\n",
    "\n",
    "Specify the voltage as a parameter."
   ]
  },
  {
   "cell_type": "code",
   "execution_count": 5,
   "id": "d1711eab",
   "metadata": {
    "execution": {
     "iopub.execute_input": "2025-10-30T03:47:24.601043Z",
     "iopub.status.busy": "2025-10-30T03:47:24.601043Z",
     "iopub.status.idle": "2025-10-30T03:47:24.632503Z",
     "shell.execute_reply": "2025-10-30T03:47:24.632503Z"
    }
   },
   "outputs": [],
   "source": [
    "circuit[\"Voltage\"] = \"5\""
   ]
  },
  {
   "cell_type": "markdown",
   "id": "f881625f",
   "metadata": {},
   "source": [
    "## Create schematic from netlist file\n",
    "\n",
    "Create a schematic from a netlist file. The ``create_schematic_from_netlist()``\n",
    "method reads the netlist file and parses it. All components are parsed,\n",
    "but only these categories are mapped: R, L, C, Q, U, J, V, and I."
   ]
  },
  {
   "cell_type": "code",
   "execution_count": 6,
   "id": "e1eb9558",
   "metadata": {
    "execution": {
     "iopub.execute_input": "2025-10-30T03:47:24.632503Z",
     "iopub.status.busy": "2025-10-30T03:47:24.632503Z",
     "iopub.status.idle": "2025-10-30T03:47:26.009723Z",
     "shell.execute_reply": "2025-10-30T03:47:26.009723Z"
    }
   },
   "outputs": [
    {
     "name": "stdout",
     "output_type": "stream",
     "text": [
      "PyAEDT INFO: ModelerCircuit class has been initialized! Elapsed time: 0m 0sec\n"
     ]
    },
    {
     "name": "stdout",
     "output_type": "stream",
     "text": [
      "PyAEDT INFO: ModelerNexxim class has been initialized!\n"
     ]
    },
    {
     "name": "stdout",
     "output_type": "stream",
     "text": [
      "PyAEDT INFO: Modeler class has been initialized! Elapsed time: 0m 0sec\n"
     ]
    },
    {
     "name": "stdout",
     "output_type": "stream",
     "text": [
      "['NAME:Models_Netlist', 'Info:=', ['Type:=', 0, 'NumTerminals:=', 0, 'DataSource:=', '', 'ModifiedOn:=', '', 'Manufacturer:=', '', 'Symbol:=', 'Models_Netlist', 'ModelNames:=', '', 'Footprint:=', '', 'Description:=', '', 'InfoTopic:=', '', 'InfoHelpFile:=', '', 'IconFile:=', '', 'Library:=', '', 'OriginalLocation:=', 'Project', 'IEEE:=', '', 'Author:=', '', 'OriginalAuthor:=', '', 'CreationDate:=', '', 'ExampleFile:=', '', 'HiddenComponent:=', 0, 'CircuitEnv:=', 0, 'GroupID:=', 0], 'CircuitEnv:=', 0, 'Refbase:=', 'x', 'NumParts:=', 1, 'ModSinceLib:=', True, 'CompExtID:=', 1, ['NAME:Parameters', 'ButtonProp:=', ['CosimDefinition', 'D', '', 'Edit', 'Edit', 40501, 'ButtonPropClientData:=', []], 'MenuProp:=', ['CoSimulator', 'D', '', 'DefaultNetlist', 0]], ['NAME:CosimDefinitions', ['NAME:CosimDefinition', 'CosimulatorType:=', 4, 'CosimDefName:=', 'DefaultNetlist', 'IsDefinition:=', True, 'Connect:=', True, 'Data:=', ['Nexxim Circuit:=', 'x@ID '], 'GRef:=', ['Nexxim Circuit:=', '']], 'DefaultCosim:=', 'DefaultNetlist']]\n"
     ]
    },
    {
     "name": "stdout",
     "output_type": "stream",
     "text": [
      "['NAME:STS6NF20V', 'Info:=', ['Type:=', 0, 'NumTerminals:=', 8, 'DataSource:=', '', 'ModifiedOn:=', 1591858313, 'Manufacturer:=', '', 'Symbol:=', 'STS6NF20V', 'ModelNames:=', '', 'Footprint:=', '', 'Description:=', '', 'InfoTopic:=', '', 'InfoHelpFile:=', '', 'IconFile:=', '', 'Library:=', '', 'OriginalLocation:=', 'Project', 'IEEE:=', '', 'Author:=', '', 'OriginalAuthor:=', '', 'CreationDate:=', 1591858313, 'ExampleFile:=', '', 'HiddenComponent:=', 0, 'CircuitEnv:=', 0, 'GroupID:=', 0], 'CircuitEnv:=', 0, 'Refbase:=', 'Q', 'NumParts:=', 1, 'ModSinceLib:=', True, 'Terminal:=', ['Pin1', 'Pin1', 'A', False, 0, 1, '', 'Electrical', '0'], 'Terminal:=', ['Pin2', 'Pin2', 'A', False, 0, 1, '', 'Electrical', '0'], 'Terminal:=', ['Pin3', 'Pin3', 'A', False, 0, 1, '', 'Electrical', '0'], 'Terminal:=', ['Pin4', 'Pin4', 'A', False, 0, 1, '', 'Electrical', '0'], 'Terminal:=', ['Pin5', 'Pin5', 'A', False, 0, 1, '', 'Electrical', '0'], 'Terminal:=', ['Pin6', 'Pin6', 'A', False, 0, 1, '', 'Electrical', '0'], 'Terminal:=', ['Pin7', 'Pin7', 'A', False, 0, 1, '', 'Electrical', '0'], 'Terminal:=', ['Pin8', 'Pin8', 'A', False, 0, 1, '', 'Electrical', '0'], 'CompExtID:=', 1, ['NAME:Parameters', 'TextValueProp:=', ['MOD', 'D', '', 'STS6NF20V'], 'ButtonProp:=', ['CosimDefinition', 'D', '', 'Edit', 'Edit', 40501, 'ButtonPropClientData:=', []], 'MenuProp:=', ['CoSimulator', 'D', '', 'DefaultNetlist', 0]], ['NAME:CosimDefinitions', ['NAME:CosimDefinition', 'CosimulatorType:=', 4, 'CosimDefName:=', 'DefaultNetlist', 'IsDefinition:=', True, 'Connect:=', True, 'Data:=', ['Nexxim Circuit:=', 'Q@ID %0 STS6NF20V %1 STS6NF20V %2 STS6NF20V %3 STS6NF20V %4 STS6NF20V %5 STS6NF20V %6 STS6NF20V %7 STS6NF20V @MOD '], 'GRef:=', ['Nexxim Circuit:=', '']], 'DefaultCosim:=', 'DefaultNetlist']]\n"
     ]
    },
    {
     "name": "stdout",
     "output_type": "stream",
     "text": [
      "['NAME:CON4', 'Info:=', ['Type:=', 0, 'NumTerminals:=', 5, 'DataSource:=', '', 'ModifiedOn:=', 1591858313, 'Manufacturer:=', '', 'Symbol:=', 'CON4', 'ModelNames:=', '', 'Footprint:=', '', 'Description:=', '', 'InfoTopic:=', '', 'InfoHelpFile:=', '', 'IconFile:=', '', 'Library:=', '', 'OriginalLocation:=', 'Project', 'IEEE:=', '', 'Author:=', '', 'OriginalAuthor:=', '', 'CreationDate:=', 1591858313, 'ExampleFile:=', '', 'HiddenComponent:=', 0, 'CircuitEnv:=', 0, 'GroupID:=', 0], 'CircuitEnv:=', 0, 'Refbase:=', 'J', 'NumParts:=', 1, 'ModSinceLib:=', True, 'Terminal:=', ['Pin1', 'Pin1', 'A', False, 0, 1, '', 'Electrical', '0'], 'Terminal:=', ['Pin2', 'Pin2', 'A', False, 0, 1, '', 'Electrical', '0'], 'Terminal:=', ['Pin3', 'Pin3', 'A', False, 0, 1, '', 'Electrical', '0'], 'Terminal:=', ['Pin4', 'Pin4', 'A', False, 0, 1, '', 'Electrical', '0'], 'Terminal:=', ['Pin5', 'Pin5', 'A', False, 0, 1, '', 'Electrical', '0'], 'CompExtID:=', 1, ['NAME:Parameters', 'TextValueProp:=', ['MOD', 'D', '', 'CON4'], 'ButtonProp:=', ['CosimDefinition', 'D', '', 'Edit', 'Edit', 40501, 'ButtonPropClientData:=', []], 'MenuProp:=', ['CoSimulator', 'D', '', 'DefaultNetlist', 0]], ['NAME:CosimDefinitions', ['NAME:CosimDefinition', 'CosimulatorType:=', 4, 'CosimDefName:=', 'DefaultNetlist', 'IsDefinition:=', True, 'Connect:=', True, 'Data:=', ['Nexxim Circuit:=', 'J@ID %0 CON4 %1 CON4 %2 CON4 %3 CON4 %4 CON4 @MOD '], 'GRef:=', ['Nexxim Circuit:=', '']], 'DefaultCosim:=', 'DefaultNetlist']]\n"
     ]
    },
    {
     "name": "stdout",
     "output_type": "stream",
     "text": [
      "['NAME:DCH010505SN7', 'Info:=', ['Type:=', 0, 'NumTerminals:=', 4, 'DataSource:=', '', 'ModifiedOn:=', 1591858313, 'Manufacturer:=', '', 'Symbol:=', 'DCH010505SN7', 'ModelNames:=', '', 'Footprint:=', '', 'Description:=', '', 'InfoTopic:=', '', 'InfoHelpFile:=', '', 'IconFile:=', '', 'Library:=', '', 'OriginalLocation:=', 'Project', 'IEEE:=', '', 'Author:=', '', 'OriginalAuthor:=', '', 'CreationDate:=', 1591858313, 'ExampleFile:=', '', 'HiddenComponent:=', 0, 'CircuitEnv:=', 0, 'GroupID:=', 0], 'CircuitEnv:=', 0, 'Refbase:=', 'U', 'NumParts:=', 1, 'ModSinceLib:=', True, 'Terminal:=', ['Pin1', 'Pin1', 'A', False, 0, 1, '', 'Electrical', '0'], 'Terminal:=', ['Pin2', 'Pin2', 'A', False, 0, 1, '', 'Electrical', '0'], 'Terminal:=', ['Pin3', 'Pin3', 'A', False, 0, 1, '', 'Electrical', '0'], 'Terminal:=', ['Pin4', 'Pin4', 'A', False, 0, 1, '', 'Electrical', '0'], 'CompExtID:=', 1, ['NAME:Parameters', 'TextValueProp:=', ['MOD', 'D', '', 'DCH010505SN7'], 'ButtonProp:=', ['CosimDefinition', 'D', '', 'Edit', 'Edit', 40501, 'ButtonPropClientData:=', []], 'MenuProp:=', ['CoSimulator', 'D', '', 'DefaultNetlist', 0]], ['NAME:CosimDefinitions', ['NAME:CosimDefinition', 'CosimulatorType:=', 4, 'CosimDefName:=', 'DefaultNetlist', 'IsDefinition:=', True, 'Connect:=', True, 'Data:=', ['Nexxim Circuit:=', 'U@ID %0 DCH010505SN7 %1 DCH010505SN7 %2 DCH010505SN7 %3 DCH010505SN7 @MOD '], 'GRef:=', ['Nexxim Circuit:=', '']], 'DefaultCosim:=', 'DefaultNetlist']]\n",
      "PyAEDT INFO: Netlist was correctly imported into Circuit Design_PRN\n"
     ]
    },
    {
     "data": {
      "text/plain": [
       "True"
      ]
     },
     "execution_count": 6,
     "metadata": {},
     "output_type": "execute_result"
    }
   ],
   "source": [
    "circuit.create_schematic_from_netlist(netlist)"
   ]
  },
  {
   "cell_type": "markdown",
   "id": "a2266d31",
   "metadata": {},
   "source": [
    "## Release AEDT\n",
    "\n",
    "Release AEDT and close the example."
   ]
  },
  {
   "cell_type": "code",
   "execution_count": 7,
   "id": "07597240",
   "metadata": {
    "execution": {
     "iopub.execute_input": "2025-10-30T03:47:26.009723Z",
     "iopub.status.busy": "2025-10-30T03:47:26.009723Z",
     "iopub.status.idle": "2025-10-30T03:47:48.013305Z",
     "shell.execute_reply": "2025-10-30T03:47:48.013305Z"
    }
   },
   "outputs": [
    {
     "name": "stdout",
     "output_type": "stream",
     "text": [
      "PyAEDT INFO: Project NetlistExample Saved correctly\n"
     ]
    },
    {
     "name": "stdout",
     "output_type": "stream",
     "text": [
      "PyAEDT INFO: Desktop has been released and closed.\n"
     ]
    }
   ],
   "source": [
    "circuit.save_project()\n",
    "circuit.release_desktop()\n",
    "# Wait 3 seconds to allow AEDT to shut down before cleaning the temporary directory.\n",
    "time.sleep(3)"
   ]
  },
  {
   "cell_type": "markdown",
   "id": "c05d75a1",
   "metadata": {},
   "source": [
    "## Clean up\n",
    "\n",
    "All project files are saved in the folder ``temp_folder.name``. If you've run this example as a Jupyter notebook, you\n",
    "can retrieve those project files. The following cell removes all temporary files, including the project folder."
   ]
  },
  {
   "cell_type": "code",
   "execution_count": 8,
   "id": "d1b91015",
   "metadata": {
    "execution": {
     "iopub.execute_input": "2025-10-30T03:47:48.013305Z",
     "iopub.status.busy": "2025-10-30T03:47:48.013305Z",
     "iopub.status.idle": "2025-10-30T03:47:48.029051Z",
     "shell.execute_reply": "2025-10-30T03:47:48.029051Z"
    }
   },
   "outputs": [],
   "source": [
    "temp_folder.cleanup()"
   ]
  }
 ],
 "metadata": {
  "jupytext": {
   "cell_metadata_filter": "-all",
   "main_language": "python",
   "notebook_metadata_filter": "-all"
  },
  "language_info": {
   "codemirror_mode": {
    "name": "ipython",
    "version": 3
   },
   "file_extension": ".py",
   "mimetype": "text/x-python",
   "name": "python",
   "nbconvert_exporter": "python",
   "pygments_lexer": "ipython3",
   "version": "3.10.11"
  }
 },
 "nbformat": 4,
 "nbformat_minor": 5
}
