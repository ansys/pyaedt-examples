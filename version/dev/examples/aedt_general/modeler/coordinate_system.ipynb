{
 "cells": [
  {
   "cell_type": "markdown",
   "id": "375bbdaa",
   "metadata": {},
   "source": [
    "# Coordinate system creation\n",
    "\n",
    "This example shows how to use PyAEDT to create and modify coordinate systems in the modeler.\n",
    "\n",
    "Keywords: **AEDT**, **modeler**, **coordinate system**."
   ]
  },
  {
   "cell_type": "markdown",
   "id": "25807203",
   "metadata": {},
   "source": [
    "## Perform imports and define constants\n",
    "Import the required packages."
   ]
  },
  {
   "cell_type": "code",
   "execution_count": 1,
   "id": "940b5182",
   "metadata": {
    "execution": {
     "iopub.execute_input": "2025-10-30T03:45:37.565356Z",
     "iopub.status.busy": "2025-10-30T03:45:37.565356Z",
     "iopub.status.idle": "2025-10-30T03:45:40.692667Z",
     "shell.execute_reply": "2025-10-30T03:45:40.692667Z"
    }
   },
   "outputs": [],
   "source": [
    "import os\n",
    "import tempfile\n",
    "import time\n",
    "\n",
    "import ansys.aedt.core"
   ]
  },
  {
   "cell_type": "markdown",
   "id": "69c478af",
   "metadata": {},
   "source": [
    "Define constants."
   ]
  },
  {
   "cell_type": "code",
   "execution_count": 2,
   "id": "5950dac8",
   "metadata": {
    "execution": {
     "iopub.execute_input": "2025-10-30T03:45:40.692667Z",
     "iopub.status.busy": "2025-10-30T03:45:40.692667Z",
     "iopub.status.idle": "2025-10-30T03:45:40.708470Z",
     "shell.execute_reply": "2025-10-30T03:45:40.708470Z"
    }
   },
   "outputs": [],
   "source": [
    "AEDT_VERSION = \"2025.2\"\n",
    "NG_MODE = False  # Open the AEDT UI when it is launched."
   ]
  },
  {
   "cell_type": "markdown",
   "id": "9520579b",
   "metadata": {},
   "source": [
    "## Create temporary directory\n",
    "\n",
    "Create a temporary directory where downloaded data or\n",
    "dumped data can be stored.\n",
    "If you'd like to retrieve the project data for subsequent use,\n",
    "the temporary folder name is given by ``temp_folder.name``."
   ]
  },
  {
   "cell_type": "code",
   "execution_count": 3,
   "id": "7b89bd48",
   "metadata": {
    "execution": {
     "iopub.execute_input": "2025-10-30T03:45:40.708470Z",
     "iopub.status.busy": "2025-10-30T03:45:40.708470Z",
     "iopub.status.idle": "2025-10-30T03:45:40.724404Z",
     "shell.execute_reply": "2025-10-30T03:45:40.724404Z"
    }
   },
   "outputs": [],
   "source": [
    "temp_folder = tempfile.TemporaryDirectory(suffix=\".ansys\")"
   ]
  },
  {
   "cell_type": "markdown",
   "id": "f621e18d",
   "metadata": {},
   "source": [
    "## Launch AEDT"
   ]
  },
  {
   "cell_type": "code",
   "execution_count": 4,
   "id": "5f7318cc",
   "metadata": {
    "execution": {
     "iopub.execute_input": "2025-10-30T03:45:40.724404Z",
     "iopub.status.busy": "2025-10-30T03:45:40.724404Z",
     "iopub.status.idle": "2025-10-30T03:45:50.920707Z",
     "shell.execute_reply": "2025-10-30T03:45:50.920707Z"
    }
   },
   "outputs": [
    {
     "name": "stdout",
     "output_type": "stream",
     "text": [
      "PyAEDT INFO: Python version 3.10.11 (tags/v3.10.11:7d4cc5a, Apr  5 2023, 00:38:17) [MSC v.1929 64 bit (AMD64)].\n"
     ]
    },
    {
     "name": "stdout",
     "output_type": "stream",
     "text": [
      "PyAEDT INFO: PyAEDT version 0.22.dev0.\n"
     ]
    },
    {
     "name": "stdout",
     "output_type": "stream",
     "text": [
      "PyAEDT INFO: Initializing new Desktop session.\n"
     ]
    },
    {
     "name": "stdout",
     "output_type": "stream",
     "text": [
      "PyAEDT INFO: Log on console is enabled.\n"
     ]
    },
    {
     "name": "stdout",
     "output_type": "stream",
     "text": [
      "PyAEDT INFO: Log on file C:\\Users\\ansys\\AppData\\Local\\Temp\\pyaedt_ansys_af5a94fc-f1d2-40e7-aaa0-3d8f19c53429.log is enabled.\n"
     ]
    },
    {
     "name": "stdout",
     "output_type": "stream",
     "text": [
      "PyAEDT INFO: Log on AEDT is disabled.\n"
     ]
    },
    {
     "name": "stdout",
     "output_type": "stream",
     "text": [
      "PyAEDT INFO: Debug logger is disabled. PyAEDT methods will not be logged.\n"
     ]
    },
    {
     "name": "stdout",
     "output_type": "stream",
     "text": [
      "PyAEDT INFO: Launching PyAEDT with gRPC plugin.\n"
     ]
    },
    {
     "name": "stdout",
     "output_type": "stream",
     "text": [
      "PyAEDT INFO: New AEDT session is starting on gRPC port 61079.\n"
     ]
    },
    {
     "name": "stdout",
     "output_type": "stream",
     "text": [
      "PyAEDT INFO: Electronics Desktop started on gRPC port: 61079 after 10.057671308517456 seconds.\n"
     ]
    },
    {
     "name": "stdout",
     "output_type": "stream",
     "text": [
      "PyAEDT INFO: AEDT installation Path C:\\Program Files\\ANSYS Inc\\v252\\AnsysEM\n"
     ]
    },
    {
     "name": "stdout",
     "output_type": "stream",
     "text": [
      "PyAEDT INFO: Ansoft.ElectronicsDesktop.2025.2 version started with process ID 7760.\n"
     ]
    }
   ],
   "source": [
    "d = ansys.aedt.core.launch_desktop(\n",
    "    version=AEDT_VERSION, non_graphical=NG_MODE, new_desktop=True\n",
    ")"
   ]
  },
  {
   "cell_type": "markdown",
   "id": "4a397e70",
   "metadata": {},
   "source": [
    "## Insert HFSS design\n",
    "\n",
    "Insert an HFSS design with the default name."
   ]
  },
  {
   "cell_type": "code",
   "execution_count": 5,
   "id": "ea2e97a0",
   "metadata": {
    "execution": {
     "iopub.execute_input": "2025-10-30T03:45:50.920707Z",
     "iopub.status.busy": "2025-10-30T03:45:50.920707Z",
     "iopub.status.idle": "2025-10-30T03:46:19.542535Z",
     "shell.execute_reply": "2025-10-30T03:46:19.542535Z"
    }
   },
   "outputs": [
    {
     "name": "stdout",
     "output_type": "stream",
     "text": [
      "PyAEDT INFO: Python version 3.10.11 (tags/v3.10.11:7d4cc5a, Apr  5 2023, 00:38:17) [MSC v.1929 64 bit (AMD64)].\n"
     ]
    },
    {
     "name": "stdout",
     "output_type": "stream",
     "text": [
      "PyAEDT INFO: PyAEDT version 0.22.dev0.\n"
     ]
    },
    {
     "name": "stdout",
     "output_type": "stream",
     "text": [
      "PyAEDT INFO: Returning found Desktop session with PID 7760!\n"
     ]
    },
    {
     "name": "stdout",
     "output_type": "stream",
     "text": [
      "PyAEDT INFO: Project CoordSysDemo has been created.\n"
     ]
    },
    {
     "name": "stdout",
     "output_type": "stream",
     "text": [
      "PyAEDT INFO: No design is present. Inserting a new design.\n"
     ]
    },
    {
     "name": "stdout",
     "output_type": "stream",
     "text": [
      "PyAEDT INFO: Added design 'HFSS_P4B' of type HFSS.\n"
     ]
    },
    {
     "name": "stdout",
     "output_type": "stream",
     "text": [
      "PyAEDT INFO: Aedt Objects correctly read\n"
     ]
    }
   ],
   "source": [
    "project_name = os.path.join(temp_folder.name, \"CoordSysDemo.aedt\")\n",
    "hfss = ansys.aedt.core.Hfss(version=AEDT_VERSION, project=project_name)"
   ]
  },
  {
   "cell_type": "markdown",
   "id": "b7fe9829",
   "metadata": {},
   "source": [
    "## Create coordinate system\n",
    "\n",
    "The coordinate system is centered on the global origin and has the axis\n",
    "aligned to the global coordinate system. The new coordinate system is\n",
    "saved in the object ``cs1``."
   ]
  },
  {
   "cell_type": "code",
   "execution_count": 6,
   "id": "3629a9c8",
   "metadata": {
    "execution": {
     "iopub.execute_input": "2025-10-30T03:46:19.546550Z",
     "iopub.status.busy": "2025-10-30T03:46:19.546550Z",
     "iopub.status.idle": "2025-10-30T03:46:20.530280Z",
     "shell.execute_reply": "2025-10-30T03:46:20.530280Z"
    }
   },
   "outputs": [
    {
     "name": "stdout",
     "output_type": "stream",
     "text": [
      "PyAEDT INFO: Modeler class has been initialized! Elapsed time: 0m 1sec\n"
     ]
    }
   ],
   "source": [
    "cs1 = hfss.modeler.create_coordinate_system()"
   ]
  },
  {
   "cell_type": "markdown",
   "id": "fb91aba7",
   "metadata": {},
   "source": [
    "## Modify coordinate system\n",
    "\n",
    "The ``cs1`` object exposes properties and methods to manipulate the\n",
    "coordinate system. The origin can be changed."
   ]
  },
  {
   "cell_type": "code",
   "execution_count": 7,
   "id": "453e5869",
   "metadata": {
    "execution": {
     "iopub.execute_input": "2025-10-30T03:46:20.530280Z",
     "iopub.status.busy": "2025-10-30T03:46:20.530280Z",
     "iopub.status.idle": "2025-10-30T03:46:20.578064Z",
     "shell.execute_reply": "2025-10-30T03:46:20.578064Z"
    }
   },
   "outputs": [],
   "source": [
    "cs1[\"OriginX\"] = 10\n",
    "cs1.props[\"OriginY\"] = 10\n",
    "cs1.props[\"OriginZ\"] = 10"
   ]
  },
  {
   "cell_type": "markdown",
   "id": "2807b5d7",
   "metadata": {},
   "source": [
    "The orientation of the coordinate system can be modified by\n",
    "updating the direction vectors for the coordinate system."
   ]
  },
  {
   "cell_type": "code",
   "execution_count": 8,
   "id": "bda5d50e",
   "metadata": {
    "execution": {
     "iopub.execute_input": "2025-10-30T03:46:20.582999Z",
     "iopub.status.busy": "2025-10-30T03:46:20.578064Z",
     "iopub.status.idle": "2025-10-30T03:46:20.626075Z",
     "shell.execute_reply": "2025-10-30T03:46:20.626075Z"
    }
   },
   "outputs": [],
   "source": [
    "ypoint = [0, -1, 0]\n",
    "cs1.props[\"YAxisXvec\"] = ypoint[0]\n",
    "cs1.props[\"YAxisYvec\"] = ypoint[1]\n",
    "cs1.props[\"YAxisZvec\"] = ypoint[2]"
   ]
  },
  {
   "cell_type": "markdown",
   "id": "243e1560",
   "metadata": {},
   "source": [
    "## Rename coordinate system\n",
    "\n",
    "Rename the coordinate system."
   ]
  },
  {
   "cell_type": "code",
   "execution_count": 9,
   "id": "c6f2a1c1",
   "metadata": {
    "execution": {
     "iopub.execute_input": "2025-10-30T03:46:20.626075Z",
     "iopub.status.busy": "2025-10-30T03:46:20.626075Z",
     "iopub.status.idle": "2025-10-30T03:46:20.641874Z",
     "shell.execute_reply": "2025-10-30T03:46:20.641874Z"
    }
   },
   "outputs": [
    {
     "data": {
      "text/plain": [
       "True"
      ]
     },
     "execution_count": 9,
     "metadata": {},
     "output_type": "execute_result"
    }
   ],
   "source": [
    "cs1.rename(\"newCS\")"
   ]
  },
  {
   "cell_type": "markdown",
   "id": "a1872af9",
   "metadata": {},
   "source": [
    "## Change coordinate system mode\n",
    "\n",
    "Use the ``change_cs_mode`` method to change the mode. Options are:\n",
    "\n",
    "- ``0`` for axis/position\n",
    "- ``1`` for Euler angle ZXZ\n",
    "- ``2`` for Euler angle ZYZ\n",
    "\n",
    "Here ``1`` sets Euler angle ZXZ as the mode."
   ]
  },
  {
   "cell_type": "code",
   "execution_count": 10,
   "id": "f2df2332",
   "metadata": {
    "execution": {
     "iopub.execute_input": "2025-10-30T03:46:20.641874Z",
     "iopub.status.busy": "2025-10-30T03:46:20.641874Z",
     "iopub.status.idle": "2025-10-30T03:46:20.862248Z",
     "shell.execute_reply": "2025-10-30T03:46:20.862248Z"
    }
   },
   "outputs": [
    {
     "data": {
      "text/plain": [
       "True"
      ]
     },
     "execution_count": 10,
     "metadata": {},
     "output_type": "execute_result"
    }
   ],
   "source": [
    "cs1.change_cs_mode(1)"
   ]
  },
  {
   "cell_type": "markdown",
   "id": "b5ee817f",
   "metadata": {},
   "source": [
    "The following lines use the ZXZ Euler angle definition to rotate the coordinate system."
   ]
  },
  {
   "cell_type": "code",
   "execution_count": 11,
   "id": "4b82ffee",
   "metadata": {
    "execution": {
     "iopub.execute_input": "2025-10-30T03:46:20.862248Z",
     "iopub.status.busy": "2025-10-30T03:46:20.862248Z",
     "iopub.status.idle": "2025-10-30T03:46:20.894327Z",
     "shell.execute_reply": "2025-10-30T03:46:20.894327Z"
    }
   },
   "outputs": [],
   "source": [
    "cs1.props[\"Phi\"] = \"10deg\"\n",
    "cs1.props[\"Theta\"] = \"22deg\"\n",
    "cs1.props[\"Psi\"] = \"30deg\""
   ]
  },
  {
   "cell_type": "markdown",
   "id": "efe15d86",
   "metadata": {},
   "source": [
    "## Delete coordinate system\n",
    "\n",
    "Delete the coordinate system."
   ]
  },
  {
   "cell_type": "code",
   "execution_count": 12,
   "id": "e3405ce4",
   "metadata": {
    "execution": {
     "iopub.execute_input": "2025-10-30T03:46:20.894327Z",
     "iopub.status.busy": "2025-10-30T03:46:20.894327Z",
     "iopub.status.idle": "2025-10-30T03:46:20.926166Z",
     "shell.execute_reply": "2025-10-30T03:46:20.926166Z"
    }
   },
   "outputs": [
    {
     "data": {
      "text/plain": [
       "True"
      ]
     },
     "execution_count": 12,
     "metadata": {},
     "output_type": "execute_result"
    }
   ],
   "source": [
    "cs1.delete()"
   ]
  },
  {
   "cell_type": "markdown",
   "id": "f1d0c2cb",
   "metadata": {},
   "source": [
    "## Define a new coordinate system\n",
    "\n",
    "Create a coordinate system by defining the axes. You can\n",
    "specify all coordinate system properties as shown here."
   ]
  },
  {
   "cell_type": "code",
   "execution_count": 13,
   "id": "1c0a8322",
   "metadata": {
    "execution": {
     "iopub.execute_input": "2025-10-30T03:46:20.926166Z",
     "iopub.status.busy": "2025-10-30T03:46:20.926166Z",
     "iopub.status.idle": "2025-10-30T03:46:20.957862Z",
     "shell.execute_reply": "2025-10-30T03:46:20.957862Z"
    }
   },
   "outputs": [],
   "source": [
    "cs2 = hfss.modeler.create_coordinate_system(\n",
    "    name=\"CS2\",\n",
    "    origin=[1, 2, 3.5],\n",
    "    mode=\"axis\",\n",
    "    x_pointing=[1, 0, 1],\n",
    "    y_pointing=[0, -1, 0],\n",
    ")"
   ]
  },
  {
   "cell_type": "markdown",
   "id": "3a580680",
   "metadata": {},
   "source": [
    "A new coordinate system can also be created based on the Euler angle convention."
   ]
  },
  {
   "cell_type": "code",
   "execution_count": 14,
   "id": "70643954",
   "metadata": {
    "execution": {
     "iopub.execute_input": "2025-10-30T03:46:20.957862Z",
     "iopub.status.busy": "2025-10-30T03:46:20.957862Z",
     "iopub.status.idle": "2025-10-30T03:46:20.989660Z",
     "shell.execute_reply": "2025-10-30T03:46:20.989660Z"
    }
   },
   "outputs": [],
   "source": [
    "cs3 = hfss.modeler.create_coordinate_system(\n",
    "    name=\"CS3\", origin=[2, 2, 2], mode=\"zyz\", phi=10, theta=20, psi=30\n",
    ")"
   ]
  },
  {
   "cell_type": "markdown",
   "id": "71c32d75",
   "metadata": {},
   "source": [
    "Create a coordinate system that is defined by standard views in the modeler. The options are:\n",
    "\n",
    "- ``\"iso\"``\n",
    "- ``\"XY\"``\n",
    "- ``\"XZ\"``\n",
    "- ``\"XY\"``\n",
    "\n",
    "Here ``\"iso\"`` is specified. The axes are set automatically."
   ]
  },
  {
   "cell_type": "code",
   "execution_count": 15,
   "id": "92162909",
   "metadata": {
    "execution": {
     "iopub.execute_input": "2025-10-30T03:46:20.989660Z",
     "iopub.status.busy": "2025-10-30T03:46:20.989660Z",
     "iopub.status.idle": "2025-10-30T03:46:21.021370Z",
     "shell.execute_reply": "2025-10-30T03:46:21.021370Z"
    }
   },
   "outputs": [],
   "source": [
    "cs4 = hfss.modeler.create_coordinate_system(\n",
    "    name=\"CS4\", origin=[1, 0, 0], reference_cs=\"CS3\", mode=\"view\", view=\"iso\"\n",
    ")"
   ]
  },
  {
   "cell_type": "markdown",
   "id": "e452eaa1",
   "metadata": {},
   "source": [
    "## Create coordinate system by defining axis and angle rotation\n",
    "\n",
    "Create a coordinate system by defining the axis and angle rotation. When you\n",
    "specify the axis and angle rotation, this data is automatically translated\n",
    "to Euler angles."
   ]
  },
  {
   "cell_type": "code",
   "execution_count": 16,
   "id": "a6bdcd34",
   "metadata": {
    "execution": {
     "iopub.execute_input": "2025-10-30T03:46:21.021370Z",
     "iopub.status.busy": "2025-10-30T03:46:21.021370Z",
     "iopub.status.idle": "2025-10-30T03:46:21.053170Z",
     "shell.execute_reply": "2025-10-30T03:46:21.053170Z"
    }
   },
   "outputs": [],
   "source": [
    "cs5 = hfss.modeler.create_coordinate_system(\n",
    "    name=\"CS5\", mode=\"axisrotation\", u=[1, 0, 0], theta=123\n",
    ")"
   ]
  },
  {
   "cell_type": "markdown",
   "id": "09ef2d10",
   "metadata": {},
   "source": [
    "Face coordinate systems are bound to an object face.\n",
    "First create a box and then define the face coordinate system on one of its\n",
    "faces. To create the reference face for the face coordinate system, you must\n",
    "specify starting and ending points for the axis."
   ]
  },
  {
   "cell_type": "code",
   "execution_count": 17,
   "id": "3f7d5305",
   "metadata": {
    "execution": {
     "iopub.execute_input": "2025-10-30T03:46:21.053170Z",
     "iopub.status.busy": "2025-10-30T03:46:21.053170Z",
     "iopub.status.idle": "2025-10-30T03:46:22.099549Z",
     "shell.execute_reply": "2025-10-30T03:46:22.099549Z"
    }
   },
   "outputs": [
    {
     "name": "stdout",
     "output_type": "stream",
     "text": [
      "PyAEDT INFO: Materials class has been initialized! Elapsed time: 0m 0sec\n"
     ]
    }
   ],
   "source": [
    "box = hfss.modeler.create_box([0, 0, 0], [2, 2, 2])\n",
    "face = box.faces[0]\n",
    "fcs1 = hfss.modeler.create_face_coordinate_system(\n",
    "    face=face, origin=face.edges[0], axis_position=face.edges[1], name=\"FCS1\"\n",
    ")"
   ]
  },
  {
   "cell_type": "markdown",
   "id": "4f16d00e",
   "metadata": {},
   "source": [
    "Create a face coordinate system centered on the face with the X axis pointing\n",
    "to the edge vertex."
   ]
  },
  {
   "cell_type": "code",
   "execution_count": 18,
   "id": "897d9cc5",
   "metadata": {
    "execution": {
     "iopub.execute_input": "2025-10-30T03:46:22.099549Z",
     "iopub.status.busy": "2025-10-30T03:46:22.099549Z",
     "iopub.status.idle": "2025-10-30T03:46:22.163366Z",
     "shell.execute_reply": "2025-10-30T03:46:22.163366Z"
    }
   },
   "outputs": [],
   "source": [
    "fcs2 = hfss.modeler.create_face_coordinate_system(\n",
    "    face=face, origin=face, axis_position=face.edges[0].vertices[0], name=\"FCS2\"\n",
    ")"
   ]
  },
  {
   "cell_type": "markdown",
   "id": "9b3b292c",
   "metadata": {},
   "source": [
    "Swap the X axis and Y axis of the face coordinate system. The X axis is the\n",
    "pointing ``axis_position`` by default. You can optionally select the Y axis."
   ]
  },
  {
   "cell_type": "code",
   "execution_count": 19,
   "id": "ac98e50b",
   "metadata": {
    "execution": {
     "iopub.execute_input": "2025-10-30T03:46:22.163366Z",
     "iopub.status.busy": "2025-10-30T03:46:22.163366Z",
     "iopub.status.idle": "2025-10-30T03:46:22.226347Z",
     "shell.execute_reply": "2025-10-30T03:46:22.226347Z"
    }
   },
   "outputs": [],
   "source": [
    "fcs3 = hfss.modeler.create_face_coordinate_system(\n",
    "    face=face, origin=face, axis_position=face.edges[0], axis=\"Y\"\n",
    ")"
   ]
  },
  {
   "cell_type": "markdown",
   "id": "37eef41f",
   "metadata": {},
   "source": [
    "The face coordinate system can also be rotated by changing the\n",
    "reference axis."
   ]
  },
  {
   "cell_type": "code",
   "execution_count": 20,
   "id": "035ba7e2",
   "metadata": {
    "execution": {
     "iopub.execute_input": "2025-10-30T03:46:22.226347Z",
     "iopub.status.busy": "2025-10-30T03:46:22.226347Z",
     "iopub.status.idle": "2025-10-30T03:46:22.258494Z",
     "shell.execute_reply": "2025-10-30T03:46:22.258494Z"
    },
    "lines_to_next_cell": 2
   },
   "outputs": [],
   "source": [
    "fcs3.props[\"WhichAxis\"] = \"X\""
   ]
  },
  {
   "cell_type": "markdown",
   "id": "b7dd1116",
   "metadata": {},
   "source": [
    "### Rotate the coordinate system\n",
    "\n",
    "Apply a rotation around the Z axis. The Z axis of a face coordinate system\n",
    "is always orthogonal to the face. A rotation can be applied at definition.\n",
    "Rotation is expressed in degrees."
   ]
  },
  {
   "cell_type": "code",
   "execution_count": 21,
   "id": "14104e64",
   "metadata": {
    "execution": {
     "iopub.execute_input": "2025-10-30T03:46:22.258494Z",
     "iopub.status.busy": "2025-10-30T03:46:22.258494Z",
     "iopub.status.idle": "2025-10-30T03:46:22.321899Z",
     "shell.execute_reply": "2025-10-30T03:46:22.321899Z"
    }
   },
   "outputs": [],
   "source": [
    "fcs4 = hfss.modeler.create_face_coordinate_system(\n",
    "    face=face, origin=face, axis_position=face.edges[1], rotation=10.3\n",
    ")"
   ]
  },
  {
   "cell_type": "markdown",
   "id": "5180f363",
   "metadata": {},
   "source": [
    "Rotation can also be changed after coordinate system creation."
   ]
  },
  {
   "cell_type": "code",
   "execution_count": 22,
   "id": "3434dec5",
   "metadata": {
    "execution": {
     "iopub.execute_input": "2025-10-30T03:46:22.321899Z",
     "iopub.status.busy": "2025-10-30T03:46:22.321899Z",
     "iopub.status.idle": "2025-10-30T03:46:22.353817Z",
     "shell.execute_reply": "2025-10-30T03:46:22.353817Z"
    }
   },
   "outputs": [],
   "source": [
    "fcs4.props[\"ZRotationAngle\"] = \"3deg\""
   ]
  },
  {
   "cell_type": "markdown",
   "id": "1cf63f7a",
   "metadata": {},
   "source": [
    "### Offset the coordinate system\n",
    "\n",
    "Apply an offset to the X axis and Y axis of a face coordinate system.\n",
    "The offset is in respect to the face coordinate system itself."
   ]
  },
  {
   "cell_type": "code",
   "execution_count": 23,
   "id": "f4f300bb",
   "metadata": {
    "execution": {
     "iopub.execute_input": "2025-10-30T03:46:22.353817Z",
     "iopub.status.busy": "2025-10-30T03:46:22.353817Z",
     "iopub.status.idle": "2025-10-30T03:46:22.432771Z",
     "shell.execute_reply": "2025-10-30T03:46:22.432771Z"
    }
   },
   "outputs": [],
   "source": [
    "fcs5 = hfss.modeler.create_face_coordinate_system(\n",
    "    face=face, origin=face, axis_position=face.edges[2], offset=[0.5, 0.3]\n",
    ")"
   ]
  },
  {
   "cell_type": "markdown",
   "id": "05df0ef5",
   "metadata": {},
   "source": [
    "The offset can be changed after the coordinate system has been created."
   ]
  },
  {
   "cell_type": "code",
   "execution_count": 24,
   "id": "e0924e08",
   "metadata": {
    "execution": {
     "iopub.execute_input": "2025-10-30T03:46:22.432771Z",
     "iopub.status.busy": "2025-10-30T03:46:22.432771Z",
     "iopub.status.idle": "2025-10-30T03:46:22.480487Z",
     "shell.execute_reply": "2025-10-30T03:46:22.480487Z"
    }
   },
   "outputs": [],
   "source": [
    "fcs5.props[\"XOffset\"] = \"0.2mm\"\n",
    "fcs5.props[\"YOffset\"] = \"0.1mm\""
   ]
  },
  {
   "cell_type": "markdown",
   "id": "e9f139f1",
   "metadata": {},
   "source": [
    "### Create a dependent coordinate system\n",
    "\n",
    "The use of dependent coordinate systems can simplify model creation. The following\n",
    "cell shows how to create a coordinate system whose reference is the face coordinate system."
   ]
  },
  {
   "cell_type": "code",
   "execution_count": 25,
   "id": "f778ada1",
   "metadata": {
    "execution": {
     "iopub.execute_input": "2025-10-30T03:46:22.480487Z",
     "iopub.status.busy": "2025-10-30T03:46:22.480487Z",
     "iopub.status.idle": "2025-10-30T03:46:22.592334Z",
     "shell.execute_reply": "2025-10-30T03:46:22.591160Z"
    }
   },
   "outputs": [],
   "source": [
    "face = box.faces[1]\n",
    "fcs6 = hfss.modeler.create_face_coordinate_system(\n",
    "    face=face, origin=face, axis_position=face.edges[0]\n",
    ")\n",
    "cs_fcs = hfss.modeler.create_coordinate_system(\n",
    "    name=\"CS_FCS\", origin=[0, 0, 0], reference_cs=fcs6.name, mode=\"view\", view=\"iso\"\n",
    ")"
   ]
  },
  {
   "cell_type": "markdown",
   "id": "55ae865f",
   "metadata": {},
   "source": [
    "### Create object coordinate systems\n",
    "\n",
    "A coordinate system can also be defined relative to elements\n",
    "belonging to an object. For example, the coordinate system can be\n",
    "connected to an object face."
   ]
  },
  {
   "cell_type": "code",
   "execution_count": 26,
   "id": "b4aa9b68",
   "metadata": {
    "execution": {
     "iopub.execute_input": "2025-10-30T03:46:22.592334Z",
     "iopub.status.busy": "2025-10-30T03:46:22.592334Z",
     "iopub.status.idle": "2025-10-30T03:46:22.953840Z",
     "shell.execute_reply": "2025-10-30T03:46:22.953840Z"
    }
   },
   "outputs": [
    {
     "data": {
      "text/plain": [
       "True"
      ]
     },
     "execution_count": 26,
     "metadata": {},
     "output_type": "execute_result"
    }
   ],
   "source": [
    "obj_cs = hfss.modeler.create_object_coordinate_system(\n",
    "    assignment=box,\n",
    "    origin=box.faces[0],\n",
    "    x_axis=box.edges[0],\n",
    "    y_axis=[0, 0, 0],\n",
    "    name=\"box_obj_cs\",\n",
    ")\n",
    "obj_cs.rename(\"new_obj_cs\")"
   ]
  },
  {
   "cell_type": "markdown",
   "id": "4d99de4d",
   "metadata": {},
   "source": [
    "Create an object coordinate system whose origin is linked to the edge of an object."
   ]
  },
  {
   "cell_type": "code",
   "execution_count": 27,
   "id": "e395fbb0",
   "metadata": {
    "execution": {
     "iopub.execute_input": "2025-10-30T03:46:22.953840Z",
     "iopub.status.busy": "2025-10-30T03:46:22.953840Z",
     "iopub.status.idle": "2025-10-30T03:46:23.268900Z",
     "shell.execute_reply": "2025-10-30T03:46:23.268900Z"
    }
   },
   "outputs": [
    {
     "data": {
      "text/plain": [
       "True"
      ]
     },
     "execution_count": 27,
     "metadata": {},
     "output_type": "execute_result"
    }
   ],
   "source": [
    "obj_cs_1 = hfss.modeler.create_object_coordinate_system(\n",
    "    assignment=box.name,\n",
    "    origin=box.edges[0],\n",
    "    x_axis=[1, 0, 0],\n",
    "    y_axis=[0, 1, 0],\n",
    "    name=\"obj_cs_1\",\n",
    ")\n",
    "obj_cs_1.set_as_working_cs()"
   ]
  },
  {
   "cell_type": "markdown",
   "id": "280ef9eb",
   "metadata": {},
   "source": [
    "Create an object coordinate system with an origin specified on a point within an object."
   ]
  },
  {
   "cell_type": "code",
   "execution_count": 28,
   "id": "fedbacb3",
   "metadata": {
    "execution": {
     "iopub.execute_input": "2025-10-30T03:46:23.268900Z",
     "iopub.status.busy": "2025-10-30T03:46:23.268900Z",
     "iopub.status.idle": "2025-10-30T03:46:24.198258Z",
     "shell.execute_reply": "2025-10-30T03:46:24.197131Z"
    }
   },
   "outputs": [
    {
     "data": {
      "text/plain": [
       "True"
      ]
     },
     "execution_count": 28,
     "metadata": {},
     "output_type": "execute_result"
    }
   ],
   "source": [
    "obj_cs_2 = hfss.modeler.create_object_coordinate_system(\n",
    "    assignment=box.name,\n",
    "    origin=[0, 0.8, 0],\n",
    "    x_axis=[1, 0, 0],\n",
    "    y_axis=[0, 1, 0],\n",
    "    name=\"obj_cs_2\",\n",
    ")\n",
    "new_obj_cs_2 = hfss.modeler.duplicate_coordinate_system_to_global(obj_cs_2)\n",
    "obj_cs_2.delete()"
   ]
  },
  {
   "cell_type": "markdown",
   "id": "3f718461",
   "metadata": {},
   "source": [
    "Create an object coordinate system with an origin on the vertex."
   ]
  },
  {
   "cell_type": "code",
   "execution_count": 29,
   "id": "79d0cbde",
   "metadata": {
    "execution": {
     "iopub.execute_input": "2025-10-30T03:46:24.198258Z",
     "iopub.status.busy": "2025-10-30T03:46:24.198258Z",
     "iopub.status.idle": "2025-10-30T03:46:24.909324Z",
     "shell.execute_reply": "2025-10-30T03:46:24.909324Z"
    }
   },
   "outputs": [
    {
     "name": "stdout",
     "output_type": "stream",
     "text": [
      "PyAEDT WARNING: Argument `obj` is deprecated for method `create_object_coordinate_system`; use `assignment` instead.\n"
     ]
    },
    {
     "data": {
      "text/plain": [
       "True"
      ]
     },
     "execution_count": 29,
     "metadata": {},
     "output_type": "execute_result"
    }
   ],
   "source": [
    "obj_cs_3 = hfss.modeler.create_object_coordinate_system(\n",
    "    obj=box.name,\n",
    "    origin=box.vertices[1],\n",
    "    x_axis=box.faces[2],\n",
    "    y_axis=box.faces[4],\n",
    "    name=\"obj_cs_3\",\n",
    ")\n",
    "obj_cs_3.props[\"MoveToEnd\"] = False\n",
    "obj_cs_3.update()"
   ]
  },
  {
   "cell_type": "markdown",
   "id": "ff5f4178",
   "metadata": {},
   "source": [
    "### Get all coordinate systems\n",
    "\n",
    "Easily retrieve and subsequently manipulate all coordinate systems."
   ]
  },
  {
   "cell_type": "code",
   "execution_count": 30,
   "id": "fe229974",
   "metadata": {
    "execution": {
     "iopub.execute_input": "2025-10-30T03:46:24.909324Z",
     "iopub.status.busy": "2025-10-30T03:46:24.909324Z",
     "iopub.status.idle": "2025-10-30T03:46:24.925310Z",
     "shell.execute_reply": "2025-10-30T03:46:24.925310Z"
    }
   },
   "outputs": [
    {
     "name": "stdout",
     "output_type": "stream",
     "text": [
      "['obj_cs_3', 'obj_cs_1', 'new_obj_cs', 'CS_FCS', 'Face_CS_67GAM6', 'Face_CS_5Y15N3', 'Face_CS_CUUV58', 'Face_CS_XU58G0', 'FCS2', 'FCS1', 'CS5', 'CS4', 'CS3', 'CS2']\n"
     ]
    }
   ],
   "source": [
    "css = hfss.modeler.coordinate_systems\n",
    "names = [i.name for i in css]\n",
    "print(names)"
   ]
  },
  {
   "cell_type": "markdown",
   "id": "2156a3c1",
   "metadata": {},
   "source": [
    "## Select coordinate system\n",
    "\n",
    "Select an existing coordinate system."
   ]
  },
  {
   "cell_type": "code",
   "execution_count": 31,
   "id": "cebaec00",
   "metadata": {
    "execution": {
     "iopub.execute_input": "2025-10-30T03:46:24.925310Z",
     "iopub.status.busy": "2025-10-30T03:46:24.925310Z",
     "iopub.status.idle": "2025-10-30T03:46:25.098569Z",
     "shell.execute_reply": "2025-10-30T03:46:25.098569Z"
    }
   },
   "outputs": [
    {
     "data": {
      "text/plain": [
       "True"
      ]
     },
     "execution_count": 31,
     "metadata": {},
     "output_type": "execute_result"
    }
   ],
   "source": [
    "css = hfss.modeler.coordinate_systems\n",
    "cs_selected = css[0]\n",
    "cs_selected.delete()"
   ]
  },
  {
   "cell_type": "markdown",
   "id": "bcd4a4f3",
   "metadata": {},
   "source": [
    "## Get point coordinate under another coordinate system\n",
    "\n",
    "Get a point coordinate under another coordinate system. A point coordinate\n",
    "can be translated in respect to any coordinate system."
   ]
  },
  {
   "cell_type": "code",
   "execution_count": 32,
   "id": "eea1c540",
   "metadata": {
    "execution": {
     "iopub.execute_input": "2025-10-30T03:46:25.101184Z",
     "iopub.status.busy": "2025-10-30T03:46:25.101184Z",
     "iopub.status.idle": "2025-10-30T03:46:25.256729Z",
     "shell.execute_reply": "2025-10-30T03:46:25.256729Z"
    }
   },
   "outputs": [
    {
     "name": "stdout",
     "output_type": "stream",
     "text": [
      "Global:  [-10.0, -10.0, 10.0]\n",
      "CS5 : [-0.7074753504689, 8.5404490111998, -15.0519171309031]\n"
     ]
    }
   ],
   "source": [
    "hfss.modeler.create_box([-10, -10, -10], [20, 20, 20], \"Box1\")\n",
    "p = hfss.modeler[\"Box1\"].faces[0].vertices[0].position\n",
    "print(\"Global: \", p)\n",
    "p2 = hfss.modeler.global_to_cs(p, \"CS5\")\n",
    "print(\"CS5 :\", p2)"
   ]
  },
  {
   "cell_type": "markdown",
   "id": "fae2c7b2",
   "metadata": {},
   "source": [
    "## Release AEDT\n",
    "Close the project and release AEDT."
   ]
  },
  {
   "cell_type": "code",
   "execution_count": 33,
   "id": "4f90f129",
   "metadata": {
    "execution": {
     "iopub.execute_input": "2025-10-30T03:46:25.256729Z",
     "iopub.status.busy": "2025-10-30T03:46:25.256729Z",
     "iopub.status.idle": "2025-10-30T03:46:47.562869Z",
     "shell.execute_reply": "2025-10-30T03:46:47.562869Z"
    }
   },
   "outputs": [
    {
     "name": "stdout",
     "output_type": "stream",
     "text": [
      "PyAEDT INFO: Desktop has been released and closed.\n"
     ]
    }
   ],
   "source": [
    "d.release_desktop()\n",
    "time.sleep(3)"
   ]
  },
  {
   "cell_type": "markdown",
   "id": "044a2ccc",
   "metadata": {},
   "source": [
    "## Clean up\n",
    "\n",
    "All project files are saved in the folder ``temp_folder.name``. If you've run this example as a Jupyter notebook, you\n",
    "can retrieve those project files. The following cell removes all temporary files, including the project folder."
   ]
  },
  {
   "cell_type": "code",
   "execution_count": 34,
   "id": "976946e1",
   "metadata": {
    "execution": {
     "iopub.execute_input": "2025-10-30T03:46:47.562869Z",
     "iopub.status.busy": "2025-10-30T03:46:47.562869Z",
     "iopub.status.idle": "2025-10-30T03:46:47.578956Z",
     "shell.execute_reply": "2025-10-30T03:46:47.578956Z"
    }
   },
   "outputs": [],
   "source": [
    "temp_folder.cleanup()"
   ]
  }
 ],
 "metadata": {
  "jupytext": {
   "cell_metadata_filter": "-all",
   "main_language": "python",
   "notebook_metadata_filter": "-all"
  },
  "language_info": {
   "codemirror_mode": {
    "name": "ipython",
    "version": 3
   },
   "file_extension": ".py",
   "mimetype": "text/x-python",
   "name": "python",
   "nbconvert_exporter": "python",
   "pygments_lexer": "ipython3",
   "version": "3.10.11"
  }
 },
 "nbformat": 4,
 "nbformat_minor": 5
}
