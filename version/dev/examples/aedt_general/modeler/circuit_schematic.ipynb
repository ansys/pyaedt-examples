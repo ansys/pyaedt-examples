{
 "cells": [
  {
   "cell_type": "markdown",
   "id": "4bd475a2",
   "metadata": {},
   "source": [
    "# Circuit schematic creation and analysis\n",
    "\n",
    "This example shows how to build a circuit schematic\n",
    "and run a transient circuit simulation."
   ]
  },
  {
   "cell_type": "markdown",
   "id": "f2589829",
   "metadata": {},
   "source": [
    "<img src=\"_static/circuit.png\" width=\"600\">\n",
    "\n",
    "Keywords: **AEDT**, **Circuit**, **Schematic**."
   ]
  },
  {
   "cell_type": "markdown",
   "id": "bc925e75",
   "metadata": {},
   "source": [
    "## Import packages and define constants\n",
    "\n",
    "Perform required imports."
   ]
  },
  {
   "cell_type": "code",
   "execution_count": 1,
   "id": "69ae505f",
   "metadata": {
    "execution": {
     "iopub.execute_input": "2025-10-30T03:43:56.470477Z",
     "iopub.status.busy": "2025-10-30T03:43:56.470477Z",
     "iopub.status.idle": "2025-10-30T03:43:59.533661Z",
     "shell.execute_reply": "2025-10-30T03:43:59.533661Z"
    }
   },
   "outputs": [],
   "source": [
    "import os\n",
    "import tempfile\n",
    "import time\n",
    "\n",
    "import ansys.aedt.core"
   ]
  },
  {
   "cell_type": "markdown",
   "id": "4e05a7d4",
   "metadata": {},
   "source": [
    "Define constants."
   ]
  },
  {
   "cell_type": "code",
   "execution_count": 2,
   "id": "fdccf830",
   "metadata": {
    "execution": {
     "iopub.execute_input": "2025-10-30T03:43:59.533661Z",
     "iopub.status.busy": "2025-10-30T03:43:59.533661Z",
     "iopub.status.idle": "2025-10-30T03:43:59.549434Z",
     "shell.execute_reply": "2025-10-30T03:43:59.549434Z"
    }
   },
   "outputs": [],
   "source": [
    "AEDT_VERSION = \"2025.2\"\n",
    "NG_MODE = False  # Open AEDT UI when it is launched."
   ]
  },
  {
   "cell_type": "markdown",
   "id": "31964a21",
   "metadata": {},
   "source": [
    "## Create temporary directory\n",
    "\n",
    "Create a temporary directory where downloaded data or\n",
    "dumped data can be stored.\n",
    "If you'd like to retrieve the project data for subsequent use,\n",
    "the temporary folder name is given by ``temp_folder.name``."
   ]
  },
  {
   "cell_type": "code",
   "execution_count": 3,
   "id": "0cfb28ea",
   "metadata": {
    "execution": {
     "iopub.execute_input": "2025-10-30T03:43:59.549434Z",
     "iopub.status.busy": "2025-10-30T03:43:59.549434Z",
     "iopub.status.idle": "2025-10-30T03:43:59.565623Z",
     "shell.execute_reply": "2025-10-30T03:43:59.565623Z"
    }
   },
   "outputs": [],
   "source": [
    "temp_folder = tempfile.TemporaryDirectory(suffix=\".ansys\")"
   ]
  },
  {
   "cell_type": "markdown",
   "id": "bf6c9008",
   "metadata": {},
   "source": [
    "## Launch AEDT with Circuit\n",
    "\n",
    "Launch AEDT with Circuit. The [pyaedt.Desktop](\n",
    "https://aedt.docs.pyansys.com/version/stable/API/_autosummary/pyaedt.desktop.Desktop.html#pyaedt.desktop.Desktop)\n",
    "class initializes AEDT and starts the specified version in the specified mode."
   ]
  },
  {
   "cell_type": "code",
   "execution_count": 4,
   "id": "f5c341bd",
   "metadata": {
    "execution": {
     "iopub.execute_input": "2025-10-30T03:43:59.565623Z",
     "iopub.status.busy": "2025-10-30T03:43:59.565623Z",
     "iopub.status.idle": "2025-10-30T03:44:28.413844Z",
     "shell.execute_reply": "2025-10-30T03:44:28.413844Z"
    }
   },
   "outputs": [
    {
     "name": "stdout",
     "output_type": "stream",
     "text": [
      "PyAEDT INFO: Python version 3.10.11 (tags/v3.10.11:7d4cc5a, Apr  5 2023, 00:38:17) [MSC v.1929 64 bit (AMD64)].\n"
     ]
    },
    {
     "name": "stdout",
     "output_type": "stream",
     "text": [
      "PyAEDT INFO: PyAEDT version 0.22.dev0.\n"
     ]
    },
    {
     "name": "stdout",
     "output_type": "stream",
     "text": [
      "PyAEDT INFO: Initializing new Desktop session.\n"
     ]
    },
    {
     "name": "stdout",
     "output_type": "stream",
     "text": [
      "PyAEDT INFO: Log on console is enabled.\n"
     ]
    },
    {
     "name": "stdout",
     "output_type": "stream",
     "text": [
      "PyAEDT INFO: Log on file C:\\Users\\ansys\\AppData\\Local\\Temp\\pyaedt_ansys_14334867-ccb4-406c-8fa0-60b97d1e544c.log is enabled.\n"
     ]
    },
    {
     "name": "stdout",
     "output_type": "stream",
     "text": [
      "PyAEDT INFO: Log on AEDT is disabled.\n"
     ]
    },
    {
     "name": "stdout",
     "output_type": "stream",
     "text": [
      "PyAEDT INFO: Debug logger is disabled. PyAEDT methods will not be logged.\n"
     ]
    },
    {
     "name": "stdout",
     "output_type": "stream",
     "text": [
      "PyAEDT INFO: Launching PyAEDT with gRPC plugin.\n"
     ]
    },
    {
     "name": "stdout",
     "output_type": "stream",
     "text": [
      "PyAEDT INFO: New AEDT session is starting on gRPC port 60857.\n"
     ]
    },
    {
     "name": "stdout",
     "output_type": "stream",
     "text": [
      "PyAEDT INFO: Electronics Desktop started on gRPC port: 60857 after 11.501850366592407 seconds.\n"
     ]
    },
    {
     "name": "stdout",
     "output_type": "stream",
     "text": [
      "PyAEDT INFO: AEDT installation Path C:\\Program Files\\ANSYS Inc\\v252\\AnsysEM\n"
     ]
    },
    {
     "name": "stdout",
     "output_type": "stream",
     "text": [
      "PyAEDT INFO: Ansoft.ElectronicsDesktop.2025.2 version started with process ID 3688.\n"
     ]
    },
    {
     "name": "stdout",
     "output_type": "stream",
     "text": [
      "PyAEDT INFO: Project CircuitExample has been created.\n"
     ]
    },
    {
     "name": "stdout",
     "output_type": "stream",
     "text": [
      "PyAEDT INFO: Added design 'Simple' of type Circuit Design.\n"
     ]
    },
    {
     "name": "stdout",
     "output_type": "stream",
     "text": [
      "PyAEDT INFO: Aedt Objects correctly read\n"
     ]
    },
    {
     "name": "stdout",
     "output_type": "stream",
     "text": [
      "PyAEDT INFO: ModelerCircuit class has been initialized! Elapsed time: 0m 0sec\n"
     ]
    },
    {
     "name": "stdout",
     "output_type": "stream",
     "text": [
      "PyAEDT INFO: ModelerNexxim class has been initialized!\n"
     ]
    },
    {
     "name": "stdout",
     "output_type": "stream",
     "text": [
      "PyAEDT INFO: Modeler class has been initialized! Elapsed time: 0m 0sec\n"
     ]
    }
   ],
   "source": [
    "\n",
    "circuit = ansys.aedt.core.Circuit(\n",
    "    project=os.path.join(temp_folder.name, \"CircuitExample\"),\n",
    "    design=\"Simple\",\n",
    "    version=AEDT_VERSION,\n",
    "    non_graphical=NG_MODE,\n",
    "    new_desktop=True,\n",
    ")\n",
    "\n",
    "circuit.modeler.schematic.schematic_units = \"mil\""
   ]
  },
  {
   "cell_type": "markdown",
   "id": "7ead1a34",
   "metadata": {},
   "source": [
    "## Create circuit setup\n",
    "\n",
    "Create and customize a linear network analysis (LNA) setup."
   ]
  },
  {
   "cell_type": "code",
   "execution_count": 5,
   "id": "93f8d2b0",
   "metadata": {
    "execution": {
     "iopub.execute_input": "2025-10-30T03:44:28.417387Z",
     "iopub.status.busy": "2025-10-30T03:44:28.417387Z",
     "iopub.status.idle": "2025-10-30T03:44:28.461873Z",
     "shell.execute_reply": "2025-10-30T03:44:28.461873Z"
    }
   },
   "outputs": [],
   "source": [
    "setup1 = circuit.create_setup(\"MyLNA\")\n",
    "setup1.props[\"SweepDefinition\"][\"Data\"] = \"LINC 0GHz 4GHz 10001\""
   ]
  },
  {
   "cell_type": "markdown",
   "id": "48d50500",
   "metadata": {},
   "source": [
    "## Place components\n",
    "\n",
    "Place components such as an inductor, resistor, and capacitor. The ``location`` argument\n",
    "provides the ``[x, y]`` coordinates to place the component."
   ]
  },
  {
   "cell_type": "code",
   "execution_count": 6,
   "id": "4bff0e2d",
   "metadata": {
    "execution": {
     "iopub.execute_input": "2025-10-30T03:44:28.461873Z",
     "iopub.status.busy": "2025-10-30T03:44:28.461873Z",
     "iopub.status.idle": "2025-10-30T03:44:28.811395Z",
     "shell.execute_reply": "2025-10-30T03:44:28.811395Z"
    }
   },
   "outputs": [],
   "source": [
    "inductor = circuit.modeler.schematic.create_inductor(\n",
    "    name=\"L1\", value=1e-9, location=[0, 0]\n",
    ")\n",
    "resistor = circuit.modeler.schematic.create_resistor(\n",
    "    name=\"R1\", value=50, location=[500, 0]\n",
    ")\n",
    "capacitor = circuit.modeler.schematic.create_capacitor(\n",
    "    name=\"C1\", value=1e-12, location=[1000, 0]\n",
    ")"
   ]
  },
  {
   "cell_type": "markdown",
   "id": "f14476f0",
   "metadata": {},
   "source": [
    "## Get all pins\n",
    "\n",
    "The component pins are instances of the\n",
    "``ansys.aedt.core.modeler.circuits.objct3dcircuit.CircuitPins`` class and\n",
    "provide access to the\n",
    "pin location, net connectivity, and the ``connect_to_component()`` method, which\n",
    "can be used to connect components in the schematic\n",
    "as demonstrated in this example."
   ]
  },
  {
   "cell_type": "markdown",
   "id": "2ea32cd8",
   "metadata": {},
   "source": [
    "## Place a port and ground\n",
    "\n",
    "Place a port and a ground in the schematic."
   ]
  },
  {
   "cell_type": "code",
   "execution_count": 7,
   "id": "60d8ad44",
   "metadata": {
    "execution": {
     "iopub.execute_input": "2025-10-30T03:44:28.814909Z",
     "iopub.status.busy": "2025-10-30T03:44:28.814909Z",
     "iopub.status.idle": "2025-10-30T03:44:28.954002Z",
     "shell.execute_reply": "2025-10-30T03:44:28.954002Z"
    }
   },
   "outputs": [
    {
     "name": "stdout",
     "output_type": "stream",
     "text": [
      "PyAEDT INFO: Parsing C:\\Users\\ansys\\AppData\\Local\\Temp\\tmpppsyguw1.ansys\\CircuitExample.aedt.\n"
     ]
    },
    {
     "name": "stdout",
     "output_type": "stream",
     "text": [
      "PyAEDT INFO: File C:\\Users\\ansys\\AppData\\Local\\Temp\\tmpppsyguw1.ansys\\CircuitExample.aedt correctly loaded. Elapsed time: 0m 0sec\n"
     ]
    },
    {
     "name": "stdout",
     "output_type": "stream",
     "text": [
      "PyAEDT INFO: aedt file load time 0.015743732452392578\n"
     ]
    }
   ],
   "source": [
    "port = circuit.modeler.components.create_interface_port(\n",
    "    name=\"myport\", location=[-300, 50]\n",
    ")\n",
    "gnd = circuit.modeler.components.create_gnd(location=[1200, -100])"
   ]
  },
  {
   "cell_type": "markdown",
   "id": "d87a1c96",
   "metadata": {},
   "source": [
    "## Connect components\n",
    "\n",
    "Connect components with wires in the schematic. The ``connect_to_component()``\n",
    "method is used to create connections between pins."
   ]
  },
  {
   "cell_type": "code",
   "execution_count": 8,
   "id": "64f35017",
   "metadata": {
    "execution": {
     "iopub.execute_input": "2025-10-30T03:44:28.954002Z",
     "iopub.status.busy": "2025-10-30T03:44:28.954002Z",
     "iopub.status.idle": "2025-10-30T03:44:29.112854Z",
     "shell.execute_reply": "2025-10-30T03:44:29.112854Z"
    }
   },
   "outputs": [
    {
     "data": {
      "text/plain": [
       "True"
      ]
     },
     "execution_count": 8,
     "metadata": {},
     "output_type": "execute_result"
    }
   ],
   "source": [
    "port.pins[0].connect_to_component(assignment=inductor.pins[0], use_wire=True)\n",
    "inductor.pins[1].connect_to_component(assignment=resistor.pins[1], use_wire=True)\n",
    "resistor.pins[0].connect_to_component(assignment=capacitor.pins[0], use_wire=True)\n",
    "capacitor.pins[1].connect_to_component(assignment=gnd.pins[0], use_wire=True)"
   ]
  },
  {
   "cell_type": "markdown",
   "id": "e2692077",
   "metadata": {},
   "source": [
    "## Create transient setup\n",
    "\n",
    "Create a transient setup."
   ]
  },
  {
   "cell_type": "code",
   "execution_count": 9,
   "id": "ed00282c",
   "metadata": {
    "execution": {
     "iopub.execute_input": "2025-10-30T03:44:29.112854Z",
     "iopub.status.busy": "2025-10-30T03:44:29.112854Z",
     "iopub.status.idle": "2025-10-30T03:44:29.208062Z",
     "shell.execute_reply": "2025-10-30T03:44:29.208062Z"
    }
   },
   "outputs": [
    {
     "name": "stderr",
     "output_type": "stream",
     "text": [
      "C:\\Users\\ansys\\AppData\\Local\\Temp\\ipykernel_1428\\4117341070.py:2: DeprecationWarning: Usage of SETUPS is deprecated. Use ansys.aedt.core.generic.constants.Setups instead.\n",
      "  name=\"MyTransient\", setup_type=circuit.SETUPS.NexximTransient\n",
      "C:\\Users\\ansys\\AppData\\Local\\Temp\\ipykernel_1428\\4117341070.py:5: DeprecationWarning: Usage of SETUPS is deprecated. Use ansys.aedt.core.generic.constants.Setups instead.\n",
      "  setup3 = circuit.create_setup(name=\"MyDC\", setup_type=circuit.SETUPS.NexximDC)\n"
     ]
    }
   ],
   "source": [
    "setup2 = circuit.create_setup(\n",
    "    name=\"MyTransient\", setup_type=circuit.SETUPS.NexximTransient\n",
    ")\n",
    "setup2.props[\"TransientData\"] = [\"0.01ns\", \"200ns\"]\n",
    "setup3 = circuit.create_setup(name=\"MyDC\", setup_type=circuit.SETUPS.NexximDC)"
   ]
  },
  {
   "cell_type": "markdown",
   "id": "57b821a8",
   "metadata": {},
   "source": [
    "## Solve transient setup\n",
    "\n",
    "Solve the transient setup."
   ]
  },
  {
   "cell_type": "code",
   "execution_count": 10,
   "id": "801853f7",
   "metadata": {
    "execution": {
     "iopub.execute_input": "2025-10-30T03:44:29.208062Z",
     "iopub.status.busy": "2025-10-30T03:44:29.208062Z",
     "iopub.status.idle": "2025-10-30T03:45:11.782181Z",
     "shell.execute_reply": "2025-10-30T03:45:11.782181Z"
    }
   },
   "outputs": [
    {
     "name": "stdout",
     "output_type": "stream",
     "text": [
      "PyAEDT INFO: Solving design setup MyLNA\n"
     ]
    },
    {
     "name": "stdout",
     "output_type": "stream",
     "text": [
      "PyAEDT INFO: Design setup MyLNA solved correctly in 0.0h 0.0m 11.0s\n"
     ]
    },
    {
     "name": "stdout",
     "output_type": "stream",
     "text": [
      "PyAEDT INFO: FullWaveSpice correctly exported to C:\\Users\\ansys\\AppData\\Local\\Temp\\tmpppsyguw1.ansys\\CircuitExample.pyaedt\\Simple\\Simple.sp\n"
     ]
    },
    {
     "data": {
      "text/plain": [
       "WindowsPath('C:/Users/ansys/AppData/Local/Temp/tmpppsyguw1.ansys/CircuitExample.pyaedt/Simple/Simple.sp')"
      ]
     },
     "execution_count": 10,
     "metadata": {},
     "output_type": "execute_result"
    }
   ],
   "source": [
    "circuit.analyze_setup(\"MyLNA\")\n",
    "circuit.export_fullwave_spice()"
   ]
  },
  {
   "cell_type": "markdown",
   "id": "995cbfb1",
   "metadata": {},
   "source": [
    "## Create report\n",
    "\n",
    "Create a report displaying the scattering parameters."
   ]
  },
  {
   "cell_type": "code",
   "execution_count": 11,
   "id": "49582778",
   "metadata": {
    "execution": {
     "iopub.execute_input": "2025-10-30T03:45:11.782181Z",
     "iopub.status.busy": "2025-10-30T03:45:11.782181Z",
     "iopub.status.idle": "2025-10-30T03:45:12.225038Z",
     "shell.execute_reply": "2025-10-30T03:45:12.225038Z"
    }
   },
   "outputs": [
    {
     "name": "stdout",
     "output_type": "stream",
     "text": [
      "PyAEDT INFO: Post class has been initialized! Elapsed time: 0m 0sec\n"
     ]
    },
    {
     "name": "stdout",
     "output_type": "stream",
     "text": [
      "PyAEDT WARNING: No report category provided. Automatically identified Standard\n"
     ]
    },
    {
     "name": "stdout",
     "output_type": "stream",
     "text": [
      "PyAEDT INFO: Solution Data Correctly Loaded.\n"
     ]
    },
    {
     "name": "stdout",
     "output_type": "stream",
     "text": [
      "Time to initialize solution data:0.016017913818359375\n"
     ]
    },
    {
     "name": "stdout",
     "output_type": "stream",
     "text": [
      "Time to initialize solution data:0.04772663116455078\n",
      "{'S(myport,myport)': array([[0.00000000e+00, 1.00000000e+00],\n",
      "       [4.00000000e-04, 9.99999937e-01],\n",
      "       [8.00000000e-04, 9.99999747e-01],\n",
      "       ...,\n",
      "       [3.99920000e+00, 2.10646321e-02],\n",
      "       [3.99960000e+00, 2.10463797e-02],\n",
      "       [4.00000000e+00, 2.10281371e-02]], shape=(10001, 2))}\n"
     ]
    }
   ],
   "source": [
    "solutions = circuit.post.get_solution_data(\n",
    "    expressions=circuit.get_traces_for_plot(category=\"S\"),\n",
    ")\n",
    "solutions.enable_pandas_output = True\n",
    "real, imag = solutions.full_matrix_real_imag\n",
    "print(real)"
   ]
  },
  {
   "cell_type": "markdown",
   "id": "b28fffd6",
   "metadata": {},
   "source": [
    "## Create plot\n",
    "\n",
    "Create a plot based on solution data."
   ]
  },
  {
   "cell_type": "code",
   "execution_count": 12,
   "id": "502ad5ac",
   "metadata": {
    "execution": {
     "iopub.execute_input": "2025-10-30T03:45:12.225038Z",
     "iopub.status.busy": "2025-10-30T03:45:12.225038Z",
     "iopub.status.idle": "2025-10-30T03:45:14.062286Z",
     "shell.execute_reply": "2025-10-30T03:45:14.062286Z"
    }
   },
   "outputs": [
    {
     "data": {
      "image/png": "[encoded data removed]",
      "text/plain": [
       "<Figure size 1920x1440 with 2 Axes>"
      ]
     },
     "metadata": {},
     "output_type": "display_data"
    }
   ],
   "source": [
    "fig = solutions.plot()"
   ]
  },
  {
   "cell_type": "markdown",
   "id": "ca14f04d",
   "metadata": {},
   "source": [
    "## Release AEDT\n",
    "\n",
    "Release AEDT and close the example."
   ]
  },
  {
   "cell_type": "code",
   "execution_count": 13,
   "id": "5a3712ca",
   "metadata": {
    "execution": {
     "iopub.execute_input": "2025-10-30T03:45:14.062286Z",
     "iopub.status.busy": "2025-10-30T03:45:14.062286Z",
     "iopub.status.idle": "2025-10-30T03:45:33.123831Z",
     "shell.execute_reply": "2025-10-30T03:45:33.123831Z"
    }
   },
   "outputs": [
    {
     "name": "stdout",
     "output_type": "stream",
     "text": [
      "PyAEDT INFO: Project CircuitExample Saved correctly\n"
     ]
    },
    {
     "name": "stdout",
     "output_type": "stream",
     "text": [
      "PyAEDT INFO: Desktop has been released and closed.\n"
     ]
    }
   ],
   "source": [
    "circuit.save_project()\n",
    "circuit.release_desktop()\n",
    "# Wait 3 seconds to allow AEDT to shut down before cleaning the temporary directory.\n",
    "time.sleep(3)"
   ]
  },
  {
   "cell_type": "markdown",
   "id": "c2c7baf9",
   "metadata": {},
   "source": [
    "## Clean up\n",
    "\n",
    "All project files are saved in the folder ``temp_folder.name``. If you've run this example as a Jupyter notebook, you\n",
    "can retrieve those project files. The following cell removes all temporary files, including the project folder."
   ]
  },
  {
   "cell_type": "code",
   "execution_count": 14,
   "id": "a8115937",
   "metadata": {
    "execution": {
     "iopub.execute_input": "2025-10-30T03:45:33.123831Z",
     "iopub.status.busy": "2025-10-30T03:45:33.123831Z",
     "iopub.status.idle": "2025-10-30T03:45:33.139794Z",
     "shell.execute_reply": "2025-10-30T03:45:33.139794Z"
    }
   },
   "outputs": [],
   "source": [
    "temp_folder.cleanup()"
   ]
  }
 ],
 "metadata": {
  "jupytext": {
   "cell_metadata_filter": "-all",
   "main_language": "python",
   "notebook_metadata_filter": "-all"
  },
  "language_info": {
   "codemirror_mode": {
    "name": "ipython",
    "version": 3
   },
   "file_extension": ".py",
   "mimetype": "text/x-python",
   "name": "python",
   "nbconvert_exporter": "python",
   "pygments_lexer": "ipython3",
   "version": "3.10.11"
  }
 },
 "nbformat": 4,
 "nbformat_minor": 5
}
