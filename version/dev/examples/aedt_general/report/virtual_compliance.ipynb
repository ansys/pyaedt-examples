{
 "cells": [
  {
   "cell_type": "markdown",
   "id": "34a25ec1",
   "metadata": {
    "lines_to_next_cell": 2
   },
   "source": [
    "# PCIE virtual compliance\n",
    "\n",
    "This example shows how to generate a compliance report in PyAEDT using\n",
    "the ``VirtualCompliance`` class.\n",
    "\n",
    "Keywords: **Circuit**, **Automatic report**, **virtual compliance**."
   ]
  },
  {
   "cell_type": "markdown",
   "id": "c9319d12",
   "metadata": {},
   "source": [
    "## Perform imports and define constants\n",
    "Import the required packages."
   ]
  },
  {
   "cell_type": "code",
   "execution_count": 1,
   "id": "dee4b678",
   "metadata": {
    "execution": {
     "iopub.execute_input": "2025-10-30T03:54:19.764909Z",
     "iopub.status.busy": "2025-10-30T03:54:19.764909Z",
     "iopub.status.idle": "2025-10-30T03:54:23.517595Z",
     "shell.execute_reply": "2025-10-30T03:54:23.517595Z"
    }
   },
   "outputs": [],
   "source": [
    "import os.path\n",
    "import tempfile\n",
    "import time\n",
    "\n",
    "import ansys.aedt.core\n",
    "from ansys.aedt.core.examples.downloads import download_file\n",
    "from ansys.aedt.core.visualization.post.compliance import VirtualCompliance"
   ]
  },
  {
   "cell_type": "markdown",
   "id": "54918569",
   "metadata": {},
   "source": [
    "## Define constants"
   ]
  },
  {
   "cell_type": "code",
   "execution_count": 2,
   "id": "86dfa177",
   "metadata": {
    "execution": {
     "iopub.execute_input": "2025-10-30T03:54:23.517595Z",
     "iopub.status.busy": "2025-10-30T03:54:23.517595Z",
     "iopub.status.idle": "2025-10-30T03:54:23.533349Z",
     "shell.execute_reply": "2025-10-30T03:54:23.533349Z"
    }
   },
   "outputs": [],
   "source": [
    "AEDT_VERSION = \"2025.2\"\n",
    "NUM_CORES = 4\n",
    "NG_MODE = False  # Open AEDT UI when it is launched."
   ]
  },
  {
   "cell_type": "markdown",
   "id": "f5157a82",
   "metadata": {},
   "source": [
    "## Create temporary directory\n",
    "\n",
    "Create a temporary directory where downloaded data or\n",
    "dumped data can be stored. In this example, the temporary directory\n",
    "in where the example is stored and simulation data is saved.\n",
    "If you'd like to retrieve the project data for subsequent use,\n",
    "the temporary folder name is given by ``temp_folder.name``."
   ]
  },
  {
   "cell_type": "code",
   "execution_count": 3,
   "id": "9bf3d4a6",
   "metadata": {
    "execution": {
     "iopub.execute_input": "2025-10-30T03:54:23.533349Z",
     "iopub.status.busy": "2025-10-30T03:54:23.533349Z",
     "iopub.status.idle": "2025-10-30T03:54:23.549145Z",
     "shell.execute_reply": "2025-10-30T03:54:23.549145Z"
    }
   },
   "outputs": [],
   "source": [
    "temp_folder = tempfile.TemporaryDirectory(suffix=\".ansys\")"
   ]
  },
  {
   "cell_type": "markdown",
   "id": "c96db9a8",
   "metadata": {},
   "source": [
    "## Download example data"
   ]
  },
  {
   "cell_type": "code",
   "execution_count": 4,
   "id": "8fae25fa",
   "metadata": {
    "execution": {
     "iopub.execute_input": "2025-10-30T03:54:23.549145Z",
     "iopub.status.busy": "2025-10-30T03:54:23.549145Z",
     "iopub.status.idle": "2025-10-30T03:54:37.661457Z",
     "shell.execute_reply": "2025-10-30T03:54:37.661457Z"
    }
   },
   "outputs": [],
   "source": [
    "download_folder = download_file(\n",
    "    source=\"pcie_compliance\", local_path=temp_folder.name\n",
    ")\n",
    "project_folder = os.path.join(download_folder, \"project\")\n",
    "project_path = os.path.join(project_folder, \"PCIE_GEN5_only_layout.aedtz\")"
   ]
  },
  {
   "cell_type": "markdown",
   "id": "e1cd5e9e",
   "metadata": {},
   "source": [
    "## Launch AEDT and solve layout\n",
    "\n",
    "Open the HFSS 3D Layout project and analyze it using the SIwave solver.\n",
    "Before solving, this code ensures that the model is solved from DC to 70GHz and that\n",
    "causality and passivity are enforced."
   ]
  },
  {
   "cell_type": "code",
   "execution_count": 5,
   "id": "e072dc1e",
   "metadata": {
    "execution": {
     "iopub.execute_input": "2025-10-30T03:54:37.661457Z",
     "iopub.status.busy": "2025-10-30T03:54:37.661457Z",
     "iopub.status.idle": "2025-10-30T03:57:12.407656Z",
     "shell.execute_reply": "2025-10-30T03:57:12.407019Z"
    }
   },
   "outputs": [
    {
     "name": "stdout",
     "output_type": "stream",
     "text": [
      "PyAEDT INFO: Python version 3.10.11 (tags/v3.10.11:7d4cc5a, Apr  5 2023, 00:38:17) [MSC v.1929 64 bit (AMD64)].\n"
     ]
    },
    {
     "name": "stdout",
     "output_type": "stream",
     "text": [
      "PyAEDT INFO: PyAEDT version 0.22.dev0.\n"
     ]
    },
    {
     "name": "stdout",
     "output_type": "stream",
     "text": [
      "PyAEDT INFO: Initializing new Desktop session.\n"
     ]
    },
    {
     "name": "stdout",
     "output_type": "stream",
     "text": [
      "PyAEDT INFO: Log on console is enabled.\n"
     ]
    },
    {
     "name": "stdout",
     "output_type": "stream",
     "text": [
      "PyAEDT INFO: Log on file C:\\Users\\ansys\\AppData\\Local\\Temp\\pyaedt_ansys_a42dc822-b7ac-42c3-8841-8168fca089f6.log is enabled.\n"
     ]
    },
    {
     "name": "stdout",
     "output_type": "stream",
     "text": [
      "PyAEDT INFO: Log on AEDT is disabled.\n"
     ]
    },
    {
     "name": "stdout",
     "output_type": "stream",
     "text": [
      "PyAEDT INFO: Debug logger is disabled. PyAEDT methods will not be logged.\n"
     ]
    },
    {
     "name": "stdout",
     "output_type": "stream",
     "text": [
      "PyAEDT INFO: Launching PyAEDT with gRPC plugin.\n"
     ]
    },
    {
     "name": "stdout",
     "output_type": "stream",
     "text": [
      "PyAEDT INFO: New AEDT session is starting on gRPC port 62255.\n"
     ]
    },
    {
     "name": "stdout",
     "output_type": "stream",
     "text": [
      "PyAEDT INFO: Electronics Desktop started on gRPC port: 62255 after 11.821015357971191 seconds.\n"
     ]
    },
    {
     "name": "stdout",
     "output_type": "stream",
     "text": [
      "PyAEDT INFO: AEDT installation Path C:\\Program Files\\ANSYS Inc\\v252\\AnsysEM\n"
     ]
    },
    {
     "name": "stdout",
     "output_type": "stream",
     "text": [
      "PyAEDT INFO: Ansoft.ElectronicsDesktop.2025.2 version started with process ID 5556.\n"
     ]
    },
    {
     "name": "stdout",
     "output_type": "stream",
     "text": [
      "PyAEDT INFO: Archive PCIE_GEN5_only_layout has been restored to project PCIE_GEN5_only_layout\n"
     ]
    },
    {
     "name": "stdout",
     "output_type": "stream",
     "text": [
      "PyAEDT INFO: Active Design set to 1;main_cutout\n"
     ]
    },
    {
     "name": "stdout",
     "output_type": "stream",
     "text": [
      "PyAEDT INFO: Active Design set to 1;main_cutout\n"
     ]
    },
    {
     "name": "stdout",
     "output_type": "stream",
     "text": [
      "PyAEDT INFO: Aedt Objects correctly read\n"
     ]
    },
    {
     "name": "stdout",
     "output_type": "stream",
     "text": [
      "PyAEDT INFO: Parsing C:\\Users\\ansys\\AppData\\Local\\Temp\\tmpylftlls_.ansys\\pcie_compliance\\project\\PCIE_GEN5_only_layout.aedt.\n"
     ]
    },
    {
     "name": "stdout",
     "output_type": "stream",
     "text": [
      "PyAEDT INFO: File C:\\Users\\ansys\\AppData\\Local\\Temp\\tmpylftlls_.ansys\\pcie_compliance\\project\\PCIE_GEN5_only_layout.aedt correctly loaded. Elapsed time: 0m 0sec\n"
     ]
    },
    {
     "name": "stdout",
     "output_type": "stream",
     "text": [
      "PyAEDT INFO: aedt file load time 0.12685275077819824\n"
     ]
    },
    {
     "name": "stdout",
     "output_type": "stream",
     "text": [
      "PyAEDT INFO: Project PCIE_GEN5_only_layout Saved correctly\n"
     ]
    },
    {
     "name": "stdout",
     "output_type": "stream",
     "text": [
      "PyAEDT INFO: Key Desktop/ActiveDSOConfigurations/HFSS 3D Layout Design correctly changed.\n"
     ]
    },
    {
     "name": "stdout",
     "output_type": "stream",
     "text": [
      "PyAEDT INFO: Solving all design setups. Analysis started...\n"
     ]
    },
    {
     "name": "stdout",
     "output_type": "stream",
     "text": [
      "PyAEDT INFO: Design setup None solved correctly in 0.0h 1.0m 58.0s\n"
     ]
    },
    {
     "name": "stdout",
     "output_type": "stream",
     "text": [
      "PyAEDT INFO: Key Desktop/ActiveDSOConfigurations/HFSS 3D Layout Design correctly changed.\n"
     ]
    },
    {
     "name": "stdout",
     "output_type": "stream",
     "text": [
      "PyAEDT INFO: Python version 3.10.11 (tags/v3.10.11:7d4cc5a, Apr  5 2023, 00:38:17) [MSC v.1929 64 bit (AMD64)].\n"
     ]
    },
    {
     "name": "stdout",
     "output_type": "stream",
     "text": [
      "PyAEDT INFO: PyAEDT version 0.22.dev0.\n"
     ]
    },
    {
     "name": "stdout",
     "output_type": "stream",
     "text": [
      "PyAEDT INFO: Returning found Desktop session with PID 5556!\n"
     ]
    },
    {
     "name": "stdout",
     "output_type": "stream",
     "text": [
      "PyAEDT INFO: No project is defined. Project PCIE_GEN5_only_layout exists and has been read.\n"
     ]
    },
    {
     "name": "stdout",
     "output_type": "stream",
     "text": [
      "PyAEDT INFO: Active Design set to 1;main_cutout\n"
     ]
    },
    {
     "name": "stdout",
     "output_type": "stream",
     "text": [
      "PyAEDT INFO: Active Design set to 1;main_cutout\n"
     ]
    },
    {
     "name": "stdout",
     "output_type": "stream",
     "text": [
      "PyAEDT INFO: Aedt Objects correctly read\n"
     ]
    },
    {
     "name": "stdout",
     "output_type": "stream",
     "text": [
      "PyAEDT INFO: Exporting Touchstone C:\\Users\\ansys\\AppData\\Local\\Temp\\tmpylftlls_.ansys\\pcie_compliance\\project\\PCIE_GEN5_only_layout.pyaedt\\main_cutout\\SIwaveSYZ1_Sweep1.S32p\n"
     ]
    },
    {
     "name": "stdout",
     "output_type": "stream",
     "text": [
      "PyAEDT INFO: Touchstone correctly exported to C:\\Users\\ansys\\AppData\\Local\\Temp\\tmpylftlls_.ansys\\pcie_compliance\\project\\PCIE_GEN5_only_layout.pyaedt\\main_cutout\\SIwaveSYZ1_Sweep1.S32p\n"
     ]
    }
   ],
   "source": [
    "h3d = ansys.aedt.core.Hfss3dLayout(\n",
    "    project=project_path, version=AEDT_VERSION, non_graphical=NG_MODE\n",
    ")\n",
    "h3d.remove_all_unused_definitions()\n",
    "h3d.edit_cosim_options(simulate_missing_solution=False)\n",
    "h3d.setups[0].sweeps[0].props[\"EnforcePassivity\"] = True\n",
    "h3d.setups[0].sweeps[0].props[\"Sweeps\"][\"Data\"] = \"LIN 0MHz 70GHz 0.1GHz\"\n",
    "h3d.setups[0].sweeps[0].props[\"EnforceCausality\"] = True\n",
    "h3d.setups[0].sweeps[0].update()\n",
    "h3d.analyze(cores=NUM_CORES)\n",
    "h3d = ansys.aedt.core.Hfss3dLayout()\n",
    "touchstone_path = h3d.export_touchstone()  # Returns false."
   ]
  },
  {
   "cell_type": "markdown",
   "id": "f44f3014",
   "metadata": {},
   "source": [
    "## Create LNA project\n",
    "\n",
    "Use the LNA (linear network analysis) setup to retrieve Touchstone files\n",
    "and generate frequency domain reports."
   ]
  },
  {
   "cell_type": "code",
   "execution_count": 6,
   "id": "1a9e3d27",
   "metadata": {
    "execution": {
     "iopub.execute_input": "2025-10-30T03:57:12.407656Z",
     "iopub.status.busy": "2025-10-30T03:57:12.407656Z",
     "iopub.status.idle": "2025-10-30T03:57:37.139903Z",
     "shell.execute_reply": "2025-10-30T03:57:37.139903Z"
    }
   },
   "outputs": [
    {
     "name": "stdout",
     "output_type": "stream",
     "text": [
      "PyAEDT INFO: Python version 3.10.11 (tags/v3.10.11:7d4cc5a, Apr  5 2023, 00:38:17) [MSC v.1929 64 bit (AMD64)].\n"
     ]
    },
    {
     "name": "stdout",
     "output_type": "stream",
     "text": [
      "PyAEDT INFO: PyAEDT version 0.22.dev0.\n"
     ]
    },
    {
     "name": "stdout",
     "output_type": "stream",
     "text": [
      "PyAEDT INFO: Returning found Desktop session with PID 5556!\n"
     ]
    },
    {
     "name": "stdout",
     "output_type": "stream",
     "text": [
      "PyAEDT INFO: Project PCIE_GEN5_only_layout set to active.\n"
     ]
    },
    {
     "name": "stdout",
     "output_type": "stream",
     "text": [
      "PyAEDT INFO: Added design 'Touchstone' of type Circuit Design.\n"
     ]
    },
    {
     "name": "stdout",
     "output_type": "stream",
     "text": [
      "PyAEDT INFO: Aedt Objects correctly read\n"
     ]
    },
    {
     "name": "stdout",
     "output_type": "stream",
     "text": [
      "PyAEDT INFO: Python version 3.10.11 (tags/v3.10.11:7d4cc5a, Apr  5 2023, 00:38:17) [MSC v.1929 64 bit (AMD64)].\n"
     ]
    },
    {
     "name": "stdout",
     "output_type": "stream",
     "text": [
      "PyAEDT INFO: PyAEDT version 0.22.dev0.\n"
     ]
    },
    {
     "name": "stdout",
     "output_type": "stream",
     "text": [
      "PyAEDT INFO: Returning found Desktop session with PID 5556!\n"
     ]
    },
    {
     "name": "stdout",
     "output_type": "stream",
     "text": [
      "PyAEDT INFO: Project PCIE_GEN5_only_layout set to active.\n"
     ]
    },
    {
     "name": "stdout",
     "output_type": "stream",
     "text": [
      "PyAEDT INFO: Added design 'LNA' of type Circuit Design.\n"
     ]
    },
    {
     "name": "stdout",
     "output_type": "stream",
     "text": [
      "PyAEDT INFO: Aedt Objects correctly read\n"
     ]
    },
    {
     "name": "stdout",
     "output_type": "stream",
     "text": [
      "PyAEDT INFO: ModelerCircuit class has been initialized! Elapsed time: 0m 0sec\n"
     ]
    },
    {
     "name": "stdout",
     "output_type": "stream",
     "text": [
      "PyAEDT INFO: ModelerNexxim class has been initialized!\n"
     ]
    },
    {
     "name": "stdout",
     "output_type": "stream",
     "text": [
      "PyAEDT INFO: Modeler class has been initialized! Elapsed time: 0m 0sec\n"
     ]
    },
    {
     "name": "stdout",
     "output_type": "stream",
     "text": [
      "PyAEDT INFO: Parsing C:\\Users\\ansys\\AppData\\Local\\Temp\\tmpylftlls_.ansys\\pcie_compliance\\project\\PCIE_GEN5_only_layout.aedt.\n"
     ]
    },
    {
     "name": "stdout",
     "output_type": "stream",
     "text": [
      "PyAEDT INFO: File C:\\Users\\ansys\\AppData\\Local\\Temp\\tmpylftlls_.ansys\\pcie_compliance\\project\\PCIE_GEN5_only_layout.aedt correctly loaded. Elapsed time: 0m 0sec\n"
     ]
    },
    {
     "name": "stdout",
     "output_type": "stream",
     "text": [
      "PyAEDT INFO: aedt file load time 0.09160232543945312\n"
     ]
    },
    {
     "name": "stdout",
     "output_type": "stream",
     "text": [
      "PyAEDT INFO: Project PCIE_GEN5_only_layout Saved correctly\n"
     ]
    },
    {
     "name": "stdout",
     "output_type": "stream",
     "text": [
      "PyAEDT INFO: Solving all design setups. Analysis started...\n"
     ]
    },
    {
     "name": "stdout",
     "output_type": "stream",
     "text": [
      "PyAEDT INFO: Design setup None solved correctly in 0.0h 0.0m 11.0s\n"
     ]
    }
   ],
   "source": [
    "circuit = ansys.aedt.core.Circuit(project=h3d.project_name, design=\"Touchstone\", new_desktop=False)\n",
    "status, diff_pairs, comm_pairs = circuit.create_lna_schematic_from_snp(\n",
    "    input_file=touchstone_path,\n",
    "    start_frequency=0,\n",
    "    stop_frequency=70,\n",
    "    auto_assign_diff_pairs=True,\n",
    "    separation=\".\",\n",
    "    pattern=[\"component\", \"pin\", \"net\"],\n",
    "    analyze=True,\n",
    ")\n",
    "insertion = circuit.get_all_insertion_loss_list(\n",
    "    drivers=diff_pairs,\n",
    "    receivers=diff_pairs,\n",
    "    drivers_prefix_name=\"X1\",\n",
    "    receivers_prefix_name=\"U1\",\n",
    "    math_formula=\"dB\",\n",
    "    nets=[\"RX0\", \"RX1\", \"RX2\", \"RX3\"],\n",
    ")\n",
    "return_diff = circuit.get_all_return_loss_list(\n",
    "    excitations=diff_pairs,\n",
    "    excitation_name_prefix=\"X1\",\n",
    "    math_formula=\"dB\",\n",
    "    nets=[\"RX0\", \"RX1\", \"RX2\", \"RX3\"],\n",
    ")\n",
    "return_comm = circuit.get_all_return_loss_list(\n",
    "    excitations=comm_pairs,\n",
    "    excitation_name_prefix=\"COMMON_X1\",\n",
    "    math_formula=\"dB\",\n",
    "    nets=[\"RX0\", \"RX1\", \"RX2\", \"RX3\"],\n",
    ")"
   ]
  },
  {
   "cell_type": "markdown",
   "id": "84580bdb",
   "metadata": {},
   "source": [
    "## Create TDR project\n",
    "\n",
    "Create a TDR project to compute transient simulation and retrieve\n",
    "the TDR measurement on a differential pair.\n",
    "The original circuit schematic is duplicated and modified to achieve this target."
   ]
  },
  {
   "cell_type": "code",
   "execution_count": 7,
   "id": "cf9527bb",
   "metadata": {
    "execution": {
     "iopub.execute_input": "2025-10-30T03:57:37.139903Z",
     "iopub.status.busy": "2025-10-30T03:57:37.139903Z",
     "iopub.status.idle": "2025-10-30T03:57:51.534038Z",
     "shell.execute_reply": "2025-10-30T03:57:51.534038Z"
    }
   },
   "outputs": [
    {
     "name": "stdout",
     "output_type": "stream",
     "text": [
      "PyAEDT INFO: Python version 3.10.11 (tags/v3.10.11:7d4cc5a, Apr  5 2023, 00:38:17) [MSC v.1929 64 bit (AMD64)].\n"
     ]
    },
    {
     "name": "stdout",
     "output_type": "stream",
     "text": [
      "PyAEDT INFO: PyAEDT version 0.22.dev0.\n"
     ]
    },
    {
     "name": "stdout",
     "output_type": "stream",
     "text": [
      "PyAEDT INFO: Returning found Desktop session with PID 5556!\n"
     ]
    },
    {
     "name": "stdout",
     "output_type": "stream",
     "text": [
      "PyAEDT INFO: Project PCIE_GEN5_only_layout set to active.\n"
     ]
    },
    {
     "name": "stdout",
     "output_type": "stream",
     "text": [
      "PyAEDT INFO: Added design 'TDR' of type Circuit Design.\n"
     ]
    },
    {
     "name": "stdout",
     "output_type": "stream",
     "text": [
      "PyAEDT INFO: Aedt Objects correctly read\n"
     ]
    },
    {
     "name": "stdout",
     "output_type": "stream",
     "text": [
      "PyAEDT INFO: ModelerCircuit class has been initialized! Elapsed time: 0m 0sec\n"
     ]
    },
    {
     "name": "stdout",
     "output_type": "stream",
     "text": [
      "PyAEDT INFO: ModelerNexxim class has been initialized!\n"
     ]
    },
    {
     "name": "stdout",
     "output_type": "stream",
     "text": [
      "PyAEDT INFO: Modeler class has been initialized! Elapsed time: 0m 0sec\n"
     ]
    },
    {
     "name": "stdout",
     "output_type": "stream",
     "text": [
      "PyAEDT WARNING: Property Z0 has not been edited.Check if readonly\n"
     ]
    },
    {
     "name": "stdout",
     "output_type": "stream",
     "text": [
      "PyAEDT WARNING: Property Pulse_repetition has not been edited.Check if readonly\n"
     ]
    },
    {
     "name": "stdout",
     "output_type": "stream",
     "text": [
      "PyAEDT INFO: Parsing C:\\Users\\ansys\\AppData\\Local\\Temp\\tmpylftlls_.ansys\\pcie_compliance\\project\\PCIE_GEN5_only_layout.aedt.\n"
     ]
    },
    {
     "name": "stdout",
     "output_type": "stream",
     "text": [
      "PyAEDT INFO: File C:\\Users\\ansys\\AppData\\Local\\Temp\\tmpylftlls_.ansys\\pcie_compliance\\project\\PCIE_GEN5_only_layout.aedt correctly loaded. Elapsed time: 0m 0sec\n"
     ]
    },
    {
     "name": "stdout",
     "output_type": "stream",
     "text": [
      "PyAEDT INFO: aedt file load time 0.11909294128417969\n"
     ]
    },
    {
     "name": "stdout",
     "output_type": "stream",
     "text": [
      "PyAEDT INFO: Project PCIE_GEN5_only_layout Saved correctly\n"
     ]
    },
    {
     "name": "stdout",
     "output_type": "stream",
     "text": [
      "PyAEDT INFO: Solving all design setups. Analysis started...\n"
     ]
    },
    {
     "name": "stdout",
     "output_type": "stream",
     "text": [
      "PyAEDT INFO: Design setup None solved correctly in 0.0h 0.0m 10.0s\n"
     ]
    },
    {
     "name": "stdout",
     "output_type": "stream",
     "text": [
      "PyAEDT INFO: Post class has been initialized! Elapsed time: 0m 0sec\n"
     ]
    },
    {
     "name": "stdout",
     "output_type": "stream",
     "text": [
      "PyAEDT WARNING: No report category provided. Automatically identified Standard\n"
     ]
    }
   ],
   "source": [
    "result, tdr_probe_name = circuit.create_tdr_schematic_from_snp(\n",
    "    input_file=touchstone_path,\n",
    "    tx_schematic_pins=[\"X1.A2.PCIe_Gen4_RX0_P\"],\n",
    "    tx_schematic_differential_pins=[\"X1.A3.PCIe_Gen4_RX0_N\"],\n",
    "    termination_pins=[\"U1.AP26.PCIe_Gen4_RX0_P\", \"U1.AN26.PCIe_Gen4_RX0_N\"],\n",
    "    differential=True,\n",
    "    rise_time=35,\n",
    "    use_convolution=True,\n",
    "    analyze=True,\n",
    "    design_name=\"TDR\",\n",
    ")"
   ]
  },
  {
   "cell_type": "markdown",
   "id": "0d71b6dc",
   "metadata": {},
   "source": [
    "## Create AMI project\n",
    "\n",
    "Create an Ibis AMI project to compute an eye diagram simulation and retrieve\n",
    "eye mask violations."
   ]
  },
  {
   "cell_type": "code",
   "execution_count": 8,
   "id": "dbd5f779",
   "metadata": {
    "execution": {
     "iopub.execute_input": "2025-10-30T03:57:51.534038Z",
     "iopub.status.busy": "2025-10-30T03:57:51.534038Z",
     "iopub.status.idle": "2025-10-30T03:58:15.427308Z",
     "shell.execute_reply": "2025-10-30T03:58:15.427308Z"
    }
   },
   "outputs": [
    {
     "name": "stdout",
     "output_type": "stream",
     "text": [
      "PyAEDT INFO: Python version 3.10.11 (tags/v3.10.11:7d4cc5a, Apr  5 2023, 00:38:17) [MSC v.1929 64 bit (AMD64)].\n"
     ]
    },
    {
     "name": "stdout",
     "output_type": "stream",
     "text": [
      "PyAEDT INFO: PyAEDT version 0.22.dev0.\n"
     ]
    },
    {
     "name": "stdout",
     "output_type": "stream",
     "text": [
      "PyAEDT INFO: Returning found Desktop session with PID 5556!\n"
     ]
    },
    {
     "name": "stdout",
     "output_type": "stream",
     "text": [
      "PyAEDT INFO: Project PCIE_GEN5_only_layout set to active.\n"
     ]
    },
    {
     "name": "stdout",
     "output_type": "stream",
     "text": [
      "PyAEDT INFO: Added design 'AMI' of type Circuit Design.\n"
     ]
    },
    {
     "name": "stdout",
     "output_type": "stream",
     "text": [
      "PyAEDT INFO: Aedt Objects correctly read\n"
     ]
    },
    {
     "name": "stdout",
     "output_type": "stream",
     "text": [
      "PyAEDT INFO: ModelerCircuit class has been initialized! Elapsed time: 0m 0sec\n"
     ]
    },
    {
     "name": "stdout",
     "output_type": "stream",
     "text": [
      "PyAEDT INFO: ModelerNexxim class has been initialized!\n"
     ]
    },
    {
     "name": "stdout",
     "output_type": "stream",
     "text": [
      "PyAEDT INFO: Modeler class has been initialized! Elapsed time: 0m 0sec\n"
     ]
    },
    {
     "name": "stdout",
     "output_type": "stream",
     "text": [
      "PyAEDT WARNING: Property probe_name has not been edited.Check if readonly\n"
     ]
    },
    {
     "name": "stdout",
     "output_type": "stream",
     "text": [
      "PyAEDT WARNING: Property source_name has not been edited.Check if readonly\n"
     ]
    },
    {
     "name": "stdout",
     "output_type": "stream",
     "text": [
      "PyAEDT INFO: Project PCIE_GEN5_only_layout Saved correctly\n"
     ]
    },
    {
     "name": "stdout",
     "output_type": "stream",
     "text": [
      "PyAEDT INFO: Key Desktop/ActiveDSOConfigurations/Circuit Design correctly changed.\n"
     ]
    },
    {
     "name": "stdout",
     "output_type": "stream",
     "text": [
      "PyAEDT INFO: Solving design setup AMI\n"
     ]
    },
    {
     "name": "stdout",
     "output_type": "stream",
     "text": [
      "PyAEDT INFO: Design setup AMI solved correctly in 0.0h 0.0m 20.0s\n"
     ]
    },
    {
     "name": "stdout",
     "output_type": "stream",
     "text": [
      "PyAEDT INFO: Key Desktop/ActiveDSOConfigurations/Circuit Design correctly changed.\n"
     ]
    }
   ],
   "source": [
    "_, eye_curve_tx, eye_curve_rx = circuit.create_ami_schematic_from_snp(\n",
    "    input_file=touchstone_path,\n",
    "    ibis_tx_file=os.path.join(project_folder, \"models\", \"pcieg5_32gt.ibs\"),\n",
    "    tx_buffer_name=\"1p\",\n",
    "    rx_buffer_name=\"2p\",\n",
    "    tx_schematic_pins=[\"U1.AM25.PCIe_Gen4_TX0_CAP_P\"],\n",
    "    rx_schematic_pins=[\"X1.B2.PCIe_Gen4_TX0_P\"],\n",
    "    tx_schematic_differential_pins=[\"U1.AL25.PCIe_Gen4_TX0_CAP_N\"],\n",
    "    rx_schematic_differentialial_pins=[\"X1.B3.PCIe_Gen4_TX0_N\"],\n",
    "    ibis_tx_component_name=\"Spec_Model\",\n",
    "    use_ibis_buffer=False,\n",
    "    differential=True,\n",
    "    bit_pattern=\"random_bit_count=2.5e3 random_seed=1\",\n",
    "    unit_interval=\"31.25ps\",\n",
    "    use_convolution=True,\n",
    "    analyze=True,\n",
    "    design_name=\"AMI\",\n",
    ")"
   ]
  },
  {
   "cell_type": "code",
   "execution_count": 9,
   "id": "9a16bd86",
   "metadata": {
    "execution": {
     "iopub.execute_input": "2025-10-30T03:58:15.427308Z",
     "iopub.status.busy": "2025-10-30T03:58:15.427308Z",
     "iopub.status.idle": "2025-10-30T03:58:15.839778Z",
     "shell.execute_reply": "2025-10-30T03:58:15.839778Z"
    }
   },
   "outputs": [
    {
     "name": "stdout",
     "output_type": "stream",
     "text": [
      "PyAEDT INFO: Project PCIE_GEN5_only_layout Saved correctly\n"
     ]
    },
    {
     "data": {
      "text/plain": [
       "True"
      ]
     },
     "execution_count": 9,
     "metadata": {},
     "output_type": "execute_result"
    }
   ],
   "source": [
    "circuit.save_project()"
   ]
  },
  {
   "cell_type": "markdown",
   "id": "b58abd7a",
   "metadata": {},
   "source": [
    "## Create virtual compliance report\n",
    "\n",
    "Initialize the ``VirtualCompliance`` class\n",
    "and set up the main project information needed to generate the report.\n"
   ]
  },
  {
   "cell_type": "markdown",
   "id": "88cfd758",
   "metadata": {},
   "source": [
    "<img src=\"_static/virtual_compliance_class.png\" width=\"500\">"
   ]
  },
  {
   "cell_type": "markdown",
   "id": "0f1648cc",
   "metadata": {},
   "source": [
    "<img src=\"_static/virtual_compliance_configs.png\" width=\"500\">"
   ]
  },
  {
   "cell_type": "code",
   "execution_count": 10,
   "id": "713f995a",
   "metadata": {
    "execution": {
     "iopub.execute_input": "2025-10-30T03:58:15.839778Z",
     "iopub.status.busy": "2025-10-30T03:58:15.839778Z",
     "iopub.status.idle": "2025-10-30T03:58:15.855949Z",
     "shell.execute_reply": "2025-10-30T03:58:15.855949Z"
    }
   },
   "outputs": [],
   "source": [
    "template = os.path.join(download_folder, \"pcie_gen5_templates\", \"main.json\")"
   ]
  },
  {
   "cell_type": "code",
   "execution_count": 11,
   "id": "6122f128",
   "metadata": {
    "execution": {
     "iopub.execute_input": "2025-10-30T03:58:15.859746Z",
     "iopub.status.busy": "2025-10-30T03:58:15.859746Z",
     "iopub.status.idle": "2025-10-30T03:58:15.887546Z",
     "shell.execute_reply": "2025-10-30T03:58:15.887546Z"
    }
   },
   "outputs": [],
   "source": [
    "v = VirtualCompliance(circuit.desktop_class, str(template))"
   ]
  },
  {
   "cell_type": "markdown",
   "id": "8b005695",
   "metadata": {},
   "source": [
    "## Customize project and design\n",
    "\n",
    "Define the path to the project file and the\n",
    "design names to be used in each report generation.\n",
    "\n",
    "<img src=\" _static/virtual_compliance_usage.png\" width=\"400\">"
   ]
  },
  {
   "cell_type": "code",
   "execution_count": 12,
   "id": "3360c75f",
   "metadata": {
    "execution": {
     "iopub.execute_input": "2025-10-30T03:58:15.887546Z",
     "iopub.status.busy": "2025-10-30T03:58:15.887546Z",
     "iopub.status.idle": "2025-10-30T03:58:15.904027Z",
     "shell.execute_reply": "2025-10-30T03:58:15.903371Z"
    }
   },
   "outputs": [],
   "source": [
    "v.project_file = circuit.project_file\n",
    "v.reports[\"insertion losses\"].design_name = \"LNA\"\n",
    "v.reports[\"return losses\"].design_name = \"LNA\"\n",
    "v.reports[\"common mode return losses\"].design_name = \"LNA\"\n",
    "v.reports[\"tdr from circuit\"].design_name = \"TDR\"\n",
    "v.reports[\"eye1\"].design_name = \"AMI\"\n",
    "v.reports[\"eye3\"].design_name = \"AMI\"\n",
    "v.parameters[\"erl\"].design_name = \"LNA\"\n",
    "v.specs_folder = os.path.join(download_folder, \"readme_pictures\")"
   ]
  },
  {
   "cell_type": "markdown",
   "id": "228df9ac",
   "metadata": {},
   "source": [
    "## Define trace names\n",
    "\n",
    "Change the trace name with projects and users.\n",
    "Reuse the compliance template and update traces accordingly."
   ]
  },
  {
   "cell_type": "code",
   "execution_count": 13,
   "id": "63cb7ada",
   "metadata": {
    "execution": {
     "iopub.execute_input": "2025-10-30T03:58:15.904027Z",
     "iopub.status.busy": "2025-10-30T03:58:15.904027Z",
     "iopub.status.idle": "2025-10-30T03:58:15.919448Z",
     "shell.execute_reply": "2025-10-30T03:58:15.919448Z"
    }
   },
   "outputs": [],
   "source": [
    "v.reports[\"insertion losses\"].traces = insertion"
   ]
  },
  {
   "cell_type": "code",
   "execution_count": 14,
   "id": "65e3ec97",
   "metadata": {
    "execution": {
     "iopub.execute_input": "2025-10-30T03:58:15.919448Z",
     "iopub.status.busy": "2025-10-30T03:58:15.919448Z",
     "iopub.status.idle": "2025-10-30T03:58:15.935405Z",
     "shell.execute_reply": "2025-10-30T03:58:15.935405Z"
    }
   },
   "outputs": [],
   "source": [
    "v.reports[\"return losses\"].traces = return_diff"
   ]
  },
  {
   "cell_type": "code",
   "execution_count": 15,
   "id": "73ceae6b",
   "metadata": {
    "execution": {
     "iopub.execute_input": "2025-10-30T03:58:15.935405Z",
     "iopub.status.busy": "2025-10-30T03:58:15.935405Z",
     "iopub.status.idle": "2025-10-30T03:58:15.951029Z",
     "shell.execute_reply": "2025-10-30T03:58:15.951029Z"
    }
   },
   "outputs": [],
   "source": [
    "v.reports[\"common mode return losses\"].traces = return_comm"
   ]
  },
  {
   "cell_type": "code",
   "execution_count": 16,
   "id": "256ef3d0",
   "metadata": {
    "execution": {
     "iopub.execute_input": "2025-10-30T03:58:15.954736Z",
     "iopub.status.busy": "2025-10-30T03:58:15.954736Z",
     "iopub.status.idle": "2025-10-30T03:58:15.966967Z",
     "shell.execute_reply": "2025-10-30T03:58:15.966967Z"
    }
   },
   "outputs": [],
   "source": [
    "v.reports[\"eye1\"].traces = eye_curve_tx\n",
    "v.reports[\"eye3\"].traces = eye_curve_tx\n",
    "v.reports[\"tdr from circuit\"].traces = tdr_probe_name\n",
    "v.parameters[\"erl\"].trace_pins = [\n",
    "    [\n",
    "        \"X1.A5.PCIe_Gen4_RX1_P\",\n",
    "        \"X1.A6.PCIe_Gen4_RX1_N\",\n",
    "        \"U1.AR25.PCIe_Gen4_RX1_P\",\n",
    "        \"U1.AP25.PCIe_Gen4_RX1_N\",\n",
    "    ],\n",
    "    [7, 8, 18, 17],\n",
    "]"
   ]
  },
  {
   "cell_type": "markdown",
   "id": "81c574dd",
   "metadata": {},
   "source": [
    "## Generate PDF report\n",
    "\n",
    "Generate the reports and produce a PDF report.\n",
    "\n",
    "<img src=\"_static/virtual_compliance_scattering1.png\" width=\"400\">\n",
    "<img src=\"_static/virtual_compliance_scattering2.png\" width=\"400\">\n",
    "<img src=\"_static/virtual_compliance_eye.png\" width=\"400\">"
   ]
  },
  {
   "cell_type": "code",
   "execution_count": 17,
   "id": "4b2bfb6f",
   "metadata": {
    "execution": {
     "iopub.execute_input": "2025-10-30T03:58:15.966967Z",
     "iopub.status.busy": "2025-10-30T03:58:15.966967Z",
     "iopub.status.idle": "2025-10-30T04:01:09.168331Z",
     "shell.execute_reply": "2025-10-30T04:01:09.168331Z"
    }
   },
   "outputs": [
    {
     "name": "stdout",
     "output_type": "stream",
     "text": [
      "PyAEDT INFO: Active Design set to 201;AMI\n"
     ]
    },
    {
     "name": "stdout",
     "output_type": "stream",
     "text": [
      "PyAEDT INFO: Specifications info added to the report.\n"
     ]
    },
    {
     "name": "stdout",
     "output_type": "stream",
     "text": [
      "PyAEDT INFO: Python version 3.10.11 (tags/v3.10.11:7d4cc5a, Apr  5 2023, 00:38:17) [MSC v.1929 64 bit (AMD64)].\n"
     ]
    },
    {
     "name": "stdout",
     "output_type": "stream",
     "text": [
      "PyAEDT INFO: PyAEDT version 0.22.dev0.\n"
     ]
    },
    {
     "name": "stdout",
     "output_type": "stream",
     "text": [
      "PyAEDT INFO: Returning found Desktop session with PID 5556!\n"
     ]
    },
    {
     "name": "stdout",
     "output_type": "stream",
     "text": [
      "PyAEDT INFO: Project PCIE_GEN5_only_layout set to active.\n"
     ]
    },
    {
     "name": "stdout",
     "output_type": "stream",
     "text": [
      "PyAEDT INFO: Active Design set to 196;LNA\n"
     ]
    },
    {
     "name": "stdout",
     "output_type": "stream",
     "text": [
      "PyAEDT INFO: Aedt Objects correctly read\n"
     ]
    },
    {
     "name": "stdout",
     "output_type": "stream",
     "text": [
      "PyAEDT INFO: ModelerCircuit class has been initialized! Elapsed time: 0m 0sec\n"
     ]
    },
    {
     "name": "stdout",
     "output_type": "stream",
     "text": [
      "PyAEDT INFO: Parsing C:\\Users\\ansys\\AppData\\Local\\Temp\\tmpylftlls_.ansys\\pcie_compliance\\project\\PCIE_GEN5_only_layout.aedt.\n"
     ]
    },
    {
     "name": "stdout",
     "output_type": "stream",
     "text": [
      "PyAEDT INFO: File C:\\Users\\ansys\\AppData\\Local\\Temp\\tmpylftlls_.ansys\\pcie_compliance\\project\\PCIE_GEN5_only_layout.aedt correctly loaded. Elapsed time: 0m 0sec\n"
     ]
    },
    {
     "name": "stdout",
     "output_type": "stream",
     "text": [
      "PyAEDT INFO: aedt file load time 0.19085359573364258\n"
     ]
    },
    {
     "name": "stdout",
     "output_type": "stream",
     "text": [
      "PyAEDT INFO: ModelerNexxim class has been initialized!\n"
     ]
    },
    {
     "name": "stdout",
     "output_type": "stream",
     "text": [
      "PyAEDT INFO: Modeler class has been initialized! Elapsed time: 0m 1sec\n"
     ]
    },
    {
     "name": "stdout",
     "output_type": "stream",
     "text": [
      "PyAEDT INFO: Exporting Touchstone C:\\Users\\ansys\\AppData\\Local\\Temp\\tmpylftlls_.ansys\\pcie_compliance\\project\\PCIE_GEN5_only_layout.pyaedt\\LNA\\MySetupAuto_MySetupAuto.S32p\n"
     ]
    },
    {
     "name": "stdout",
     "output_type": "stream",
     "text": [
      "PyAEDT INFO: Touchstone correctly exported to C:\\Users\\ansys\\AppData\\Local\\Temp\\tmpylftlls_.ansys\\pcie_compliance\\project\\PCIE_GEN5_only_layout.pyaedt\\LNA\\MySetupAuto_MySetupAuto.S32p\n"
     ]
    },
    {
     "name": "stdout",
     "output_type": "stream",
     "text": [
      "PyAEDT INFO: Execute : C:\\Program Files\\ANSYS Inc\\v252\\AnsysEM\\spisim\\SPISim\\modules\\ext\\SPISimJNI_WIN64.exe CalcERL -v CFGFILE=spisim_erl.cfg\n"
     ]
    },
    {
     "name": "stdout",
     "output_type": "stream",
     "text": [
      "PyAEDT INFO: Exporting Touchstone C:\\Users\\ansys\\AppData\\Local\\Temp\\tmpylftlls_.ansys\\pcie_compliance\\project\\PCIE_GEN5_only_layout.pyaedt\\LNA\\MySetupAuto_MySetupAuto.S32p\n"
     ]
    },
    {
     "name": "stdout",
     "output_type": "stream",
     "text": [
      "PyAEDT INFO: Touchstone correctly exported to C:\\Users\\ansys\\AppData\\Local\\Temp\\tmpylftlls_.ansys\\pcie_compliance\\project\\PCIE_GEN5_only_layout.pyaedt\\LNA\\MySetupAuto_MySetupAuto.S32p\n"
     ]
    },
    {
     "name": "stdout",
     "output_type": "stream",
     "text": [
      "PyAEDT INFO: Execute : C:\\Program Files\\ANSYS Inc\\v252\\AnsysEM\\spisim\\SPISim\\modules\\ext\\SPISimJNI_WIN64.exe CalcERL -v CFGFILE=spisim_erl.cfg\n"
     ]
    },
    {
     "name": "stdout",
     "output_type": "stream",
     "text": [
      "PyAEDT INFO: Parameters erl added to the report.\n"
     ]
    },
    {
     "name": "stdout",
     "output_type": "stream",
     "text": [
      "PyAEDT INFO: Adding report  insertion losses.\n"
     ]
    },
    {
     "name": "stdout",
     "output_type": "stream",
     "text": [
      "PyAEDT INFO: Python version 3.10.11 (tags/v3.10.11:7d4cc5a, Apr  5 2023, 00:38:17) [MSC v.1929 64 bit (AMD64)].\n"
     ]
    },
    {
     "name": "stdout",
     "output_type": "stream",
     "text": [
      "PyAEDT INFO: PyAEDT version 0.22.dev0.\n"
     ]
    },
    {
     "name": "stdout",
     "output_type": "stream",
     "text": [
      "PyAEDT INFO: Returning found Desktop session with PID 5556!\n"
     ]
    },
    {
     "name": "stdout",
     "output_type": "stream",
     "text": [
      "PyAEDT INFO: Project PCIE_GEN5_only_layout set to active.\n"
     ]
    },
    {
     "name": "stdout",
     "output_type": "stream",
     "text": [
      "PyAEDT INFO: Active Design set to 196;LNA\n"
     ]
    },
    {
     "name": "stdout",
     "output_type": "stream",
     "text": [
      "PyAEDT INFO: Aedt Objects correctly read\n"
     ]
    },
    {
     "name": "stdout",
     "output_type": "stream",
     "text": [
      "PyAEDT INFO: Creating report insertion losses\n"
     ]
    },
    {
     "name": "stdout",
     "output_type": "stream",
     "text": [
      "PyAEDT INFO: Post class has been initialized! Elapsed time: 0m 0sec\n"
     ]
    },
    {
     "name": "stdout",
     "output_type": "stream",
     "text": [
      "PyAEDT INFO: Report Plot_WLN8X8 created successfully.\n"
     ]
    },
    {
     "name": "stdout",
     "output_type": "stream",
     "text": [
      "PyAEDT INFO: Checking lines violations\n"
     ]
    },
    {
     "name": "stdout",
     "output_type": "stream",
     "text": [
      "PyAEDT INFO: Solution Data Correctly Loaded.\n"
     ]
    },
    {
     "name": "stdout",
     "output_type": "stream",
     "text": [
      "Time to initialize solution data:0.0\n",
      "Time to initialize solution data:0.019179344177246094\n",
      "PyAEDT INFO: Successfully parsed report insertion losses for trace dB(S(X1_PCIe_Gen4_RX0_P,U1_PCIe_Gen4_RX0_P))\n"
     ]
    },
    {
     "name": "stdout",
     "output_type": "stream",
     "text": [
      "PyAEDT INFO: Creating report insertion losses\n"
     ]
    },
    {
     "name": "stdout",
     "output_type": "stream",
     "text": [
      "PyAEDT INFO: Report Plot_HZF7OR created successfully.\n"
     ]
    },
    {
     "name": "stdout",
     "output_type": "stream",
     "text": [
      "PyAEDT INFO: Checking lines violations\n"
     ]
    },
    {
     "name": "stdout",
     "output_type": "stream",
     "text": [
      "PyAEDT INFO: Solution Data Correctly Loaded.\n"
     ]
    },
    {
     "name": "stdout",
     "output_type": "stream",
     "text": [
      "Time to initialize solution data:0.0\n",
      "Time to initialize solution data:0.015658140182495117\n",
      "PyAEDT INFO: Successfully parsed report insertion losses for trace dB(S(X1_PCIe_Gen4_RX1_P,U1_PCIe_Gen4_RX1_P))\n"
     ]
    },
    {
     "name": "stdout",
     "output_type": "stream",
     "text": [
      "PyAEDT INFO: Creating report insertion losses\n"
     ]
    },
    {
     "name": "stdout",
     "output_type": "stream",
     "text": [
      "PyAEDT INFO: Report Plot_U0F0YL created successfully.\n"
     ]
    },
    {
     "name": "stdout",
     "output_type": "stream",
     "text": [
      "PyAEDT INFO: Checking lines violations\n"
     ]
    },
    {
     "name": "stdout",
     "output_type": "stream",
     "text": [
      "PyAEDT INFO: Solution Data Correctly Loaded.\n"
     ]
    },
    {
     "name": "stdout",
     "output_type": "stream",
     "text": [
      "Time to initialize solution data:0.0005776882171630859\n",
      "Time to initialize solution data:0.0005776882171630859\n",
      "PyAEDT INFO: Successfully parsed report insertion losses for trace dB(S(X1_PCIe_Gen4_RX2_P,U1_PCIe_Gen4_RX2_P))\n"
     ]
    },
    {
     "name": "stdout",
     "output_type": "stream",
     "text": [
      "PyAEDT INFO: Creating report insertion losses\n"
     ]
    },
    {
     "name": "stdout",
     "output_type": "stream",
     "text": [
      "PyAEDT INFO: Report Plot_P4C9WN created successfully.\n"
     ]
    },
    {
     "name": "stdout",
     "output_type": "stream",
     "text": [
      "PyAEDT INFO: Checking lines violations\n"
     ]
    },
    {
     "name": "stdout",
     "output_type": "stream",
     "text": [
      "PyAEDT INFO: Solution Data Correctly Loaded.\n"
     ]
    },
    {
     "name": "stdout",
     "output_type": "stream",
     "text": [
      "Time to initialize solution data:0.007042646408081055\n",
      "Time to initialize solution data:0.007042646408081055\n",
      "PyAEDT INFO: Successfully parsed report insertion losses for trace dB(S(X1_PCIe_Gen4_RX3_P,U1_PCIe_Gen4_RX3_P))\n"
     ]
    },
    {
     "name": "stdout",
     "output_type": "stream",
     "text": [
      "PyAEDT INFO: Report insertion losses added to the pdf.\n"
     ]
    },
    {
     "name": "stdout",
     "output_type": "stream",
     "text": [
      "PyAEDT INFO: Adding report  return losses.\n"
     ]
    },
    {
     "name": "stdout",
     "output_type": "stream",
     "text": [
      "PyAEDT INFO: Creating report return losses\n"
     ]
    },
    {
     "name": "stdout",
     "output_type": "stream",
     "text": [
      "PyAEDT INFO: Report Plot_DQIUJW created successfully.\n"
     ]
    },
    {
     "name": "stdout",
     "output_type": "stream",
     "text": [
      "PyAEDT INFO: Checking lines violations\n"
     ]
    },
    {
     "name": "stdout",
     "output_type": "stream",
     "text": [
      "PyAEDT INFO: Solution Data Correctly Loaded.\n"
     ]
    },
    {
     "name": "stdout",
     "output_type": "stream",
     "text": [
      "Time to initialize solution data:0.00861501693725586\n",
      "Time to initialize solution data:0.03961515426635742\n",
      "PyAEDT INFO: Successfully parsed report return losses\n"
     ]
    },
    {
     "name": "stdout",
     "output_type": "stream",
     "text": [
      "PyAEDT INFO: Report return losses added to the pdf.\n"
     ]
    },
    {
     "name": "stdout",
     "output_type": "stream",
     "text": [
      "PyAEDT INFO: Adding report  common mode return losses.\n"
     ]
    },
    {
     "name": "stdout",
     "output_type": "stream",
     "text": [
      "PyAEDT INFO: Creating report common mode return losses\n"
     ]
    },
    {
     "name": "stdout",
     "output_type": "stream",
     "text": [
      "PyAEDT INFO: Report Plot_KRW85K created successfully.\n"
     ]
    },
    {
     "name": "stdout",
     "output_type": "stream",
     "text": [
      "PyAEDT INFO: Checking lines violations\n"
     ]
    },
    {
     "name": "stdout",
     "output_type": "stream",
     "text": [
      "PyAEDT INFO: Solution Data Correctly Loaded.\n"
     ]
    },
    {
     "name": "stdout",
     "output_type": "stream",
     "text": [
      "Time to initialize solution data:0.0\n",
      "Time to initialize solution data:0.03180503845214844\n",
      "PyAEDT INFO: Successfully parsed report common mode return losses\n"
     ]
    },
    {
     "name": "stdout",
     "output_type": "stream",
     "text": [
      "PyAEDT INFO: Report common mode return losses added to the pdf.\n"
     ]
    },
    {
     "name": "stdout",
     "output_type": "stream",
     "text": [
      "PyAEDT INFO: Adding report  tdr from circuit.\n"
     ]
    },
    {
     "name": "stdout",
     "output_type": "stream",
     "text": [
      "PyAEDT INFO: Python version 3.10.11 (tags/v3.10.11:7d4cc5a, Apr  5 2023, 00:38:17) [MSC v.1929 64 bit (AMD64)].\n"
     ]
    },
    {
     "name": "stdout",
     "output_type": "stream",
     "text": [
      "PyAEDT INFO: PyAEDT version 0.22.dev0.\n"
     ]
    },
    {
     "name": "stdout",
     "output_type": "stream",
     "text": [
      "PyAEDT INFO: Returning found Desktop session with PID 5556!\n"
     ]
    },
    {
     "name": "stdout",
     "output_type": "stream",
     "text": [
      "PyAEDT INFO: Project PCIE_GEN5_only_layout set to active.\n"
     ]
    },
    {
     "name": "stdout",
     "output_type": "stream",
     "text": [
      "PyAEDT INFO: Active Design set to 198;TDR\n"
     ]
    },
    {
     "name": "stdout",
     "output_type": "stream",
     "text": [
      "PyAEDT INFO: Aedt Objects correctly read\n"
     ]
    },
    {
     "name": "stdout",
     "output_type": "stream",
     "text": [
      "PyAEDT INFO: Creating report tdr from circuit\n"
     ]
    },
    {
     "name": "stdout",
     "output_type": "stream",
     "text": [
      "PyAEDT INFO: Post class has been initialized! Elapsed time: 0m 0sec\n"
     ]
    },
    {
     "name": "stdout",
     "output_type": "stream",
     "text": [
      "PyAEDT INFO: Report Plot_23WM91 created successfully.\n"
     ]
    },
    {
     "name": "stdout",
     "output_type": "stream",
     "text": [
      "PyAEDT INFO: Checking lines violations\n"
     ]
    },
    {
     "name": "stdout",
     "output_type": "stream",
     "text": [
      "PyAEDT INFO: Solution Data Correctly Loaded.\n"
     ]
    },
    {
     "name": "stdout",
     "output_type": "stream",
     "text": [
      "Time to initialize solution data:0.016078948974609375\n",
      "Time to initialize solution data:0.016078948974609375\n",
      "PyAEDT INFO: Successfully parsed report tdr from circuit for trace O(A200:zdiff)\n"
     ]
    },
    {
     "name": "stdout",
     "output_type": "stream",
     "text": [
      "PyAEDT INFO: Report tdr from circuit added to the pdf.\n"
     ]
    },
    {
     "name": "stdout",
     "output_type": "stream",
     "text": [
      "PyAEDT INFO: Adding report  eye1.\n"
     ]
    },
    {
     "name": "stdout",
     "output_type": "stream",
     "text": [
      "PyAEDT INFO: Python version 3.10.11 (tags/v3.10.11:7d4cc5a, Apr  5 2023, 00:38:17) [MSC v.1929 64 bit (AMD64)].\n"
     ]
    },
    {
     "name": "stdout",
     "output_type": "stream",
     "text": [
      "PyAEDT INFO: PyAEDT version 0.22.dev0.\n"
     ]
    },
    {
     "name": "stdout",
     "output_type": "stream",
     "text": [
      "PyAEDT INFO: Returning found Desktop session with PID 5556!\n"
     ]
    },
    {
     "name": "stdout",
     "output_type": "stream",
     "text": [
      "PyAEDT INFO: Project PCIE_GEN5_only_layout set to active.\n"
     ]
    },
    {
     "name": "stdout",
     "output_type": "stream",
     "text": [
      "PyAEDT INFO: Active Design set to 201;AMI\n"
     ]
    },
    {
     "name": "stdout",
     "output_type": "stream",
     "text": [
      "PyAEDT INFO: Aedt Objects correctly read\n"
     ]
    },
    {
     "name": "stdout",
     "output_type": "stream",
     "text": [
      "PyAEDT INFO: Creating report eye1\n"
     ]
    },
    {
     "name": "stdout",
     "output_type": "stream",
     "text": [
      "PyAEDT INFO: Post class has been initialized! Elapsed time: 0m 0sec\n"
     ]
    },
    {
     "name": "stdout",
     "output_type": "stream",
     "text": [
      "PyAEDT INFO: Report Plot_P7M7RP created successfully.\n"
     ]
    },
    {
     "name": "stdout",
     "output_type": "stream",
     "text": [
      "PyAEDT INFO: Checking eye violations\n"
     ]
    },
    {
     "name": "stdout",
     "output_type": "stream",
     "text": [
      "PyAEDT INFO: Solution Data Correctly Loaded.\n"
     ]
    },
    {
     "name": "stdout",
     "output_type": "stream",
     "text": [
      "Time to initialize solution data:0.3643782138824463\n"
     ]
    },
    {
     "name": "stdout",
     "output_type": "stream",
     "text": [
      "Time to initialize solution data:1.0304248332977295\n",
      "PyAEDT ERROR: **************************************************************\n"
     ]
    },
    {
     "name": "stdout",
     "output_type": "stream",
     "text": [
      "PyAEDT ERROR:   File \"C:\\actions-runner\\_work\\_tool\\Python\\3.10.11\\x64\\lib\\runpy.py\", line 196, in _run_module_as_main\n"
     ]
    },
    {
     "name": "stdout",
     "output_type": "stream",
     "text": [
      "PyAEDT ERROR:     return _run_code(code, main_globals, None,\n"
     ]
    },
    {
     "name": "stdout",
     "output_type": "stream",
     "text": [
      "PyAEDT ERROR:   File \"C:\\actions-runner\\_work\\_tool\\Python\\3.10.11\\x64\\lib\\runpy.py\", line 86, in _run_code\n"
     ]
    },
    {
     "name": "stdout",
     "output_type": "stream",
     "text": [
      "PyAEDT ERROR:     exec(code, run_globals)\n"
     ]
    },
    {
     "name": "stdout",
     "output_type": "stream",
     "text": [
      "PyAEDT ERROR:   File \"C:\\actions-runner\\_work\\pyaedt-examples\\pyaedt-examples\\.venv\\lib\\site-packages\\ipykernel_launcher.py\", line 18, in <module>\n"
     ]
    },
    {
     "name": "stdout",
     "output_type": "stream",
     "text": [
      "PyAEDT ERROR:     app.launch_new_instance()\n"
     ]
    },
    {
     "name": "stdout",
     "output_type": "stream",
     "text": [
      "PyAEDT ERROR:   File \"C:\\actions-runner\\_work\\pyaedt-examples\\pyaedt-examples\\.venv\\lib\\site-packages\\traitlets\\config\\application.py\", line 1075, in launch_instance\n"
     ]
    },
    {
     "name": "stdout",
     "output_type": "stream",
     "text": [
      "PyAEDT ERROR:     app.start()\n"
     ]
    },
    {
     "name": "stdout",
     "output_type": "stream",
     "text": [
      "PyAEDT ERROR:   File \"C:\\actions-runner\\_work\\pyaedt-examples\\pyaedt-examples\\.venv\\lib\\site-packages\\ipykernel\\kernelapp.py\", line 758, in start\n"
     ]
    },
    {
     "name": "stdout",
     "output_type": "stream",
     "text": [
      "PyAEDT ERROR:     self.io_loop.start()\n"
     ]
    },
    {
     "name": "stdout",
     "output_type": "stream",
     "text": [
      "PyAEDT ERROR:   File \"C:\\actions-runner\\_work\\pyaedt-examples\\pyaedt-examples\\.venv\\lib\\site-packages\\tornado\\platform\\asyncio.py\", line 211, in start\n"
     ]
    },
    {
     "name": "stdout",
     "output_type": "stream",
     "text": [
      "PyAEDT ERROR:     self.asyncio_loop.run_forever()\n"
     ]
    },
    {
     "name": "stdout",
     "output_type": "stream",
     "text": [
      "PyAEDT ERROR:   File \"C:\\actions-runner\\_work\\_tool\\Python\\3.10.11\\x64\\lib\\asyncio\\base_events.py\", line 603, in run_forever\n"
     ]
    },
    {
     "name": "stdout",
     "output_type": "stream",
     "text": [
      "PyAEDT ERROR:     self._run_once()\n"
     ]
    },
    {
     "name": "stdout",
     "output_type": "stream",
     "text": [
      "PyAEDT ERROR:   File \"C:\\actions-runner\\_work\\_tool\\Python\\3.10.11\\x64\\lib\\asyncio\\base_events.py\", line 1909, in _run_once\n"
     ]
    },
    {
     "name": "stdout",
     "output_type": "stream",
     "text": [
      "PyAEDT ERROR:     handle._run()\n"
     ]
    },
    {
     "name": "stdout",
     "output_type": "stream",
     "text": [
      "PyAEDT ERROR:   File \"C:\\actions-runner\\_work\\_tool\\Python\\3.10.11\\x64\\lib\\asyncio\\events.py\", line 80, in _run\n"
     ]
    },
    {
     "name": "stdout",
     "output_type": "stream",
     "text": [
      "PyAEDT ERROR:     self._context.run(self._callback, *self._args)\n"
     ]
    },
    {
     "name": "stdout",
     "output_type": "stream",
     "text": [
      "PyAEDT ERROR:   File \"C:\\actions-runner\\_work\\pyaedt-examples\\pyaedt-examples\\.venv\\lib\\site-packages\\ipykernel\\utils.py\", line 71, in preserve_context\n"
     ]
    },
    {
     "name": "stdout",
     "output_type": "stream",
     "text": [
      "PyAEDT ERROR:     return await f(*args, **kwargs)\n"
     ]
    },
    {
     "name": "stdout",
     "output_type": "stream",
     "text": [
      "PyAEDT ERROR:   File \"C:\\actions-runner\\_work\\pyaedt-examples\\pyaedt-examples\\.venv\\lib\\site-packages\\ipykernel\\kernelbase.py\", line 614, in shell_main\n"
     ]
    },
    {
     "name": "stdout",
     "output_type": "stream",
     "text": [
      "PyAEDT ERROR:     await self.dispatch_shell(msg, subshell_id=subshell_id)\n"
     ]
    },
    {
     "name": "stdout",
     "output_type": "stream",
     "text": [
      "PyAEDT ERROR:   File \"C:\\actions-runner\\_work\\pyaedt-examples\\pyaedt-examples\\.venv\\lib\\site-packages\\ipykernel\\kernelbase.py\", line 471, in dispatch_shell\n"
     ]
    },
    {
     "name": "stdout",
     "output_type": "stream",
     "text": [
      "PyAEDT ERROR:     await result\n"
     ]
    },
    {
     "name": "stdout",
     "output_type": "stream",
     "text": [
      "PyAEDT ERROR:   File \"C:\\actions-runner\\_work\\pyaedt-examples\\pyaedt-examples\\.venv\\lib\\site-packages\\ipykernel\\ipkernel.py\", line 366, in execute_request\n"
     ]
    },
    {
     "name": "stdout",
     "output_type": "stream",
     "text": [
      "PyAEDT ERROR:     await super().execute_request(stream, ident, parent)\n"
     ]
    },
    {
     "name": "stdout",
     "output_type": "stream",
     "text": [
      "PyAEDT ERROR:   File \"C:\\actions-runner\\_work\\pyaedt-examples\\pyaedt-examples\\.venv\\lib\\site-packages\\ipykernel\\kernelbase.py\", line 827, in execute_request\n"
     ]
    },
    {
     "name": "stdout",
     "output_type": "stream",
     "text": [
      "PyAEDT ERROR:     reply_content = await reply_content\n"
     ]
    },
    {
     "name": "stdout",
     "output_type": "stream",
     "text": [
      "PyAEDT ERROR:   File \"C:\\actions-runner\\_work\\pyaedt-examples\\pyaedt-examples\\.venv\\lib\\site-packages\\ipykernel\\ipkernel.py\", line 458, in do_execute\n"
     ]
    },
    {
     "name": "stdout",
     "output_type": "stream",
     "text": [
      "PyAEDT ERROR:     res = shell.run_cell(\n"
     ]
    },
    {
     "name": "stdout",
     "output_type": "stream",
     "text": [
      "PyAEDT ERROR:   File \"C:\\actions-runner\\_work\\pyaedt-examples\\pyaedt-examples\\.venv\\lib\\site-packages\\ipykernel\\zmqshell.py\", line 663, in run_cell\n"
     ]
    },
    {
     "name": "stdout",
     "output_type": "stream",
     "text": [
      "PyAEDT ERROR:     return super().run_cell(*args, **kwargs)\n"
     ]
    },
    {
     "name": "stdout",
     "output_type": "stream",
     "text": [
      "PyAEDT ERROR:   File \"C:\\Users\\ansys\\AppData\\Local\\Temp\\ipykernel_2628\\1225297145.py\", line 1, in <module>\n"
     ]
    },
    {
     "name": "stdout",
     "output_type": "stream",
     "text": [
      "PyAEDT ERROR:     v.create_compliance_report()\n"
     ]
    },
    {
     "name": "stdout",
     "output_type": "stream",
     "text": [
      "PyAEDT ERROR:   File \"C:\\actions-runner\\_work\\pyaedt-examples\\pyaedt-examples\\.venv\\lib\\site-packages\\ansys\\aedt\\core\\visualization\\post\\compliance.py\", line 1692, in create_compliance_report\n"
     ]
    },
    {
     "name": "stdout",
     "output_type": "stream",
     "text": [
      "PyAEDT ERROR:     self.compute_report_data()\n"
     ]
    },
    {
     "name": "stdout",
     "output_type": "stream",
     "text": [
      "PyAEDT ERROR:   File \"C:\\actions-runner\\_work\\pyaedt-examples\\pyaedt-examples\\.venv\\lib\\site-packages\\ansys\\aedt\\core\\visualization\\post\\compliance.py\", line 1722, in compute_report_data\n"
     ]
    },
    {
     "name": "stdout",
     "output_type": "stream",
     "text": [
      "PyAEDT ERROR:     self._create_aedt_reports()\n"
     ]
    },
    {
     "name": "stdout",
     "output_type": "stream",
     "text": [
      "PyAEDT ERROR:   File \"C:\\actions-runner\\_work\\pyaedt-examples\\pyaedt-examples\\.venv\\lib\\site-packages\\ansys\\aedt\\core\\visualization\\post\\compliance.py\", line 1207, in _create_aedt_reports\n"
     ]
    },
    {
     "name": "stdout",
     "output_type": "stream",
     "text": [
      "PyAEDT ERROR:     table = self._add_statistical_violations(\n"
     ]
    },
    {
     "name": "stdout",
     "output_type": "stream",
     "text": [
      "PyAEDT ERROR:   File \"C:\\actions-runner\\_work\\pyaedt-examples\\pyaedt-examples\\.venv\\lib\\site-packages\\ansys\\aedt\\core\\visualization\\post\\compliance.py\", line 1383, in _add_statistical_violations\n"
     ]
    },
    {
     "name": "stdout",
     "output_type": "stream",
     "text": [
      "PyAEDT ERROR:     mask = self.points_in_polygon(x_data, poly)\n"
     ]
    },
    {
     "name": "stdout",
     "output_type": "stream",
     "text": [
      "PyAEDT ERROR:   File \"C:\\actions-runner\\_work\\pyaedt-examples\\pyaedt-examples\\.venv\\lib\\site-packages\\ansys\\aedt\\core\\visualization\\post\\compliance.py\", line 1352, in points_in_polygon\n"
     ]
    },
    {
     "name": "stdout",
     "output_type": "stream",
     "text": [
      "PyAEDT ERROR:     path = Path(polygon)\n"
     ]
    },
    {
     "name": "stdout",
     "output_type": "stream",
     "text": [
      "PyAEDT ERROR:   File \"C:\\actions-runner\\_work\\_tool\\Python\\3.10.11\\x64\\lib\\pathlib.py\", line 960, in __new__\n"
     ]
    },
    {
     "name": "stdout",
     "output_type": "stream",
     "text": [
      "PyAEDT ERROR:     self = cls._from_parts(args)\n"
     ]
    },
    {
     "name": "stdout",
     "output_type": "stream",
     "text": [
      "PyAEDT ERROR:   File \"C:\\actions-runner\\_work\\_tool\\Python\\3.10.11\\x64\\lib\\pathlib.py\", line 594, in _from_parts\n"
     ]
    },
    {
     "name": "stdout",
     "output_type": "stream",
     "text": [
      "PyAEDT ERROR:     drv, root, parts = self._parse_args(args)\n"
     ]
    },
    {
     "name": "stdout",
     "output_type": "stream",
     "text": [
      "PyAEDT ERROR:   File \"C:\\actions-runner\\_work\\_tool\\Python\\3.10.11\\x64\\lib\\pathlib.py\", line 578, in _parse_args\n"
     ]
    },
    {
     "name": "stdout",
     "output_type": "stream",
     "text": [
      "PyAEDT ERROR:     a = os.fspath(a)\n"
     ]
    },
    {
     "name": "stdout",
     "output_type": "stream",
     "text": [
      "PyAEDT ERROR: Expected str, bytes or os.pathlike object, not ndarray on _add_statistical_violations\n"
     ]
    },
    {
     "name": "stdout",
     "output_type": "stream",
     "text": [
      "PyAEDT ERROR: Last Electronics Desktop Message - [error]  script macro error: failed to assign the property from script argument. (03:57:54 am  oct 30, 2025)\n"
     ]
    },
    {
     "name": "stdout",
     "output_type": "stream",
     "text": [
      "PyAEDT ERROR: Method arguments: \n"
     ]
    },
    {
     "name": "stdout",
     "output_type": "stream",
     "text": [
      "PyAEDT ERROR:     report = <ansys.aedt.core.visualization.report.eye.AMIEyeDiagram object at 0x0000022617C1A500> \n"
     ]
    },
    {
     "name": "stdout",
     "output_type": "stream",
     "text": [
      "PyAEDT ERROR:     chapter = <ansys.aedt.core.visualization.post.compliance.VirtualComplianceChaptersData object at 0x0000022615CAF520> \n"
     ]
    },
    {
     "name": "stdout",
     "output_type": "stream",
     "text": [
      "PyAEDT ERROR:     image_name = eye1_b_input_204 \n"
     ]
    },
    {
     "name": "stdout",
     "output_type": "stream",
     "text": [
      "PyAEDT ERROR:     pass_fail_criteria = {'xunits': '', 'yunits': 'V', 'points': [[0.3, 0], [0.5, 0.06], [0.7, 0.0], [0.5, -0.08], [0.3, 0]], 'enable_limits': True, 'upper_limit': 0.75, 'lower_limit': -0.75, 'color': [255, 0, 0], 'transparency': 0.4} \n"
     ]
    },
    {
     "name": "stdout",
     "output_type": "stream",
     "text": [
      "PyAEDT ERROR: **************************************************************\n"
     ]
    },
    {
     "name": "stdout",
     "output_type": "stream",
     "text": [
      "PyAEDT WARNING: Failed to compute violation for chart eye1b_input_204\n"
     ]
    },
    {
     "name": "stdout",
     "output_type": "stream",
     "text": [
      "PyAEDT INFO: Adding eye measurements.\n"
     ]
    },
    {
     "name": "stdout",
     "output_type": "stream",
     "text": [
      "PyAEDT INFO: Successfully parsed report eye1 for trace b_input_204\n"
     ]
    },
    {
     "name": "stdout",
     "output_type": "stream",
     "text": [
      "PyAEDT INFO: Report eye1 added to the pdf.\n"
     ]
    },
    {
     "name": "stdout",
     "output_type": "stream",
     "text": [
      "PyAEDT INFO: Adding report  eye3.\n"
     ]
    },
    {
     "name": "stdout",
     "output_type": "stream",
     "text": [
      "PyAEDT INFO: Creating report eye3\n"
     ]
    },
    {
     "name": "stdout",
     "output_type": "stream",
     "text": [
      "PyAEDT INFO: Report Plot_AXMQWY created successfully.\n"
     ]
    },
    {
     "name": "stdout",
     "output_type": "stream",
     "text": [
      "PyAEDT INFO: Checking eye violations\n"
     ]
    },
    {
     "name": "stdout",
     "output_type": "stream",
     "text": [
      "PyAEDT INFO: Solution Data Correctly Loaded.\n"
     ]
    },
    {
     "name": "stdout",
     "output_type": "stream",
     "text": [
      "Time to initialize solution data:0.364457368850708\n"
     ]
    },
    {
     "name": "stdout",
     "output_type": "stream",
     "text": [
      "Time to initialize solution data:1.1256623268127441\n",
      "PyAEDT ERROR: **************************************************************\n"
     ]
    },
    {
     "name": "stdout",
     "output_type": "stream",
     "text": [
      "PyAEDT ERROR:   File \"C:\\actions-runner\\_work\\_tool\\Python\\3.10.11\\x64\\lib\\runpy.py\", line 196, in _run_module_as_main\n"
     ]
    },
    {
     "name": "stdout",
     "output_type": "stream",
     "text": [
      "PyAEDT ERROR:     return _run_code(code, main_globals, None,\n"
     ]
    },
    {
     "name": "stdout",
     "output_type": "stream",
     "text": [
      "PyAEDT ERROR:   File \"C:\\actions-runner\\_work\\_tool\\Python\\3.10.11\\x64\\lib\\runpy.py\", line 86, in _run_code\n"
     ]
    },
    {
     "name": "stdout",
     "output_type": "stream",
     "text": [
      "PyAEDT ERROR:     exec(code, run_globals)\n"
     ]
    },
    {
     "name": "stdout",
     "output_type": "stream",
     "text": [
      "PyAEDT ERROR:   File \"C:\\actions-runner\\_work\\pyaedt-examples\\pyaedt-examples\\.venv\\lib\\site-packages\\ipykernel_launcher.py\", line 18, in <module>\n"
     ]
    },
    {
     "name": "stdout",
     "output_type": "stream",
     "text": [
      "PyAEDT ERROR:     app.launch_new_instance()\n"
     ]
    },
    {
     "name": "stdout",
     "output_type": "stream",
     "text": [
      "PyAEDT ERROR:   File \"C:\\actions-runner\\_work\\pyaedt-examples\\pyaedt-examples\\.venv\\lib\\site-packages\\traitlets\\config\\application.py\", line 1075, in launch_instance\n"
     ]
    },
    {
     "name": "stdout",
     "output_type": "stream",
     "text": [
      "PyAEDT ERROR:     app.start()\n"
     ]
    },
    {
     "name": "stdout",
     "output_type": "stream",
     "text": [
      "PyAEDT ERROR:   File \"C:\\actions-runner\\_work\\pyaedt-examples\\pyaedt-examples\\.venv\\lib\\site-packages\\ipykernel\\kernelapp.py\", line 758, in start\n"
     ]
    },
    {
     "name": "stdout",
     "output_type": "stream",
     "text": [
      "PyAEDT ERROR:     self.io_loop.start()\n"
     ]
    },
    {
     "name": "stdout",
     "output_type": "stream",
     "text": [
      "PyAEDT ERROR:   File \"C:\\actions-runner\\_work\\pyaedt-examples\\pyaedt-examples\\.venv\\lib\\site-packages\\tornado\\platform\\asyncio.py\", line 211, in start\n"
     ]
    },
    {
     "name": "stdout",
     "output_type": "stream",
     "text": [
      "PyAEDT ERROR:     self.asyncio_loop.run_forever()\n"
     ]
    },
    {
     "name": "stdout",
     "output_type": "stream",
     "text": [
      "PyAEDT ERROR:   File \"C:\\actions-runner\\_work\\_tool\\Python\\3.10.11\\x64\\lib\\asyncio\\base_events.py\", line 603, in run_forever\n"
     ]
    },
    {
     "name": "stdout",
     "output_type": "stream",
     "text": [
      "PyAEDT ERROR:     self._run_once()\n"
     ]
    },
    {
     "name": "stdout",
     "output_type": "stream",
     "text": [
      "PyAEDT ERROR:   File \"C:\\actions-runner\\_work\\_tool\\Python\\3.10.11\\x64\\lib\\asyncio\\base_events.py\", line 1909, in _run_once\n"
     ]
    },
    {
     "name": "stdout",
     "output_type": "stream",
     "text": [
      "PyAEDT ERROR:     handle._run()\n"
     ]
    },
    {
     "name": "stdout",
     "output_type": "stream",
     "text": [
      "PyAEDT ERROR:   File \"C:\\actions-runner\\_work\\_tool\\Python\\3.10.11\\x64\\lib\\asyncio\\events.py\", line 80, in _run\n"
     ]
    },
    {
     "name": "stdout",
     "output_type": "stream",
     "text": [
      "PyAEDT ERROR:     self._context.run(self._callback, *self._args)\n"
     ]
    },
    {
     "name": "stdout",
     "output_type": "stream",
     "text": [
      "PyAEDT ERROR:   File \"C:\\actions-runner\\_work\\pyaedt-examples\\pyaedt-examples\\.venv\\lib\\site-packages\\ipykernel\\utils.py\", line 71, in preserve_context\n"
     ]
    },
    {
     "name": "stdout",
     "output_type": "stream",
     "text": [
      "PyAEDT ERROR:     return await f(*args, **kwargs)\n"
     ]
    },
    {
     "name": "stdout",
     "output_type": "stream",
     "text": [
      "PyAEDT ERROR:   File \"C:\\actions-runner\\_work\\pyaedt-examples\\pyaedt-examples\\.venv\\lib\\site-packages\\ipykernel\\kernelbase.py\", line 614, in shell_main\n"
     ]
    },
    {
     "name": "stdout",
     "output_type": "stream",
     "text": [
      "PyAEDT ERROR:     await self.dispatch_shell(msg, subshell_id=subshell_id)\n"
     ]
    },
    {
     "name": "stdout",
     "output_type": "stream",
     "text": [
      "PyAEDT ERROR:   File \"C:\\actions-runner\\_work\\pyaedt-examples\\pyaedt-examples\\.venv\\lib\\site-packages\\ipykernel\\kernelbase.py\", line 471, in dispatch_shell\n"
     ]
    },
    {
     "name": "stdout",
     "output_type": "stream",
     "text": [
      "PyAEDT ERROR:     await result\n"
     ]
    },
    {
     "name": "stdout",
     "output_type": "stream",
     "text": [
      "PyAEDT ERROR:   File \"C:\\actions-runner\\_work\\pyaedt-examples\\pyaedt-examples\\.venv\\lib\\site-packages\\ipykernel\\ipkernel.py\", line 366, in execute_request\n"
     ]
    },
    {
     "name": "stdout",
     "output_type": "stream",
     "text": [
      "PyAEDT ERROR:     await super().execute_request(stream, ident, parent)\n"
     ]
    },
    {
     "name": "stdout",
     "output_type": "stream",
     "text": [
      "PyAEDT ERROR:   File \"C:\\actions-runner\\_work\\pyaedt-examples\\pyaedt-examples\\.venv\\lib\\site-packages\\ipykernel\\kernelbase.py\", line 827, in execute_request\n"
     ]
    },
    {
     "name": "stdout",
     "output_type": "stream",
     "text": [
      "PyAEDT ERROR:     reply_content = await reply_content\n"
     ]
    },
    {
     "name": "stdout",
     "output_type": "stream",
     "text": [
      "PyAEDT ERROR:   File \"C:\\actions-runner\\_work\\pyaedt-examples\\pyaedt-examples\\.venv\\lib\\site-packages\\ipykernel\\ipkernel.py\", line 458, in do_execute\n"
     ]
    },
    {
     "name": "stdout",
     "output_type": "stream",
     "text": [
      "PyAEDT ERROR:     res = shell.run_cell(\n"
     ]
    },
    {
     "name": "stdout",
     "output_type": "stream",
     "text": [
      "PyAEDT ERROR:   File \"C:\\actions-runner\\_work\\pyaedt-examples\\pyaedt-examples\\.venv\\lib\\site-packages\\ipykernel\\zmqshell.py\", line 663, in run_cell\n"
     ]
    },
    {
     "name": "stdout",
     "output_type": "stream",
     "text": [
      "PyAEDT ERROR:     return super().run_cell(*args, **kwargs)\n"
     ]
    },
    {
     "name": "stdout",
     "output_type": "stream",
     "text": [
      "PyAEDT ERROR:   File \"C:\\Users\\ansys\\AppData\\Local\\Temp\\ipykernel_2628\\1225297145.py\", line 1, in <module>\n"
     ]
    },
    {
     "name": "stdout",
     "output_type": "stream",
     "text": [
      "PyAEDT ERROR:     v.create_compliance_report()\n"
     ]
    },
    {
     "name": "stdout",
     "output_type": "stream",
     "text": [
      "PyAEDT ERROR:   File \"C:\\actions-runner\\_work\\pyaedt-examples\\pyaedt-examples\\.venv\\lib\\site-packages\\ansys\\aedt\\core\\visualization\\post\\compliance.py\", line 1692, in create_compliance_report\n"
     ]
    },
    {
     "name": "stdout",
     "output_type": "stream",
     "text": [
      "PyAEDT ERROR:     self.compute_report_data()\n"
     ]
    },
    {
     "name": "stdout",
     "output_type": "stream",
     "text": [
      "PyAEDT ERROR:   File \"C:\\actions-runner\\_work\\pyaedt-examples\\pyaedt-examples\\.venv\\lib\\site-packages\\ansys\\aedt\\core\\visualization\\post\\compliance.py\", line 1722, in compute_report_data\n"
     ]
    },
    {
     "name": "stdout",
     "output_type": "stream",
     "text": [
      "PyAEDT ERROR:     self._create_aedt_reports()\n"
     ]
    },
    {
     "name": "stdout",
     "output_type": "stream",
     "text": [
      "PyAEDT ERROR:   File \"C:\\actions-runner\\_work\\pyaedt-examples\\pyaedt-examples\\.venv\\lib\\site-packages\\ansys\\aedt\\core\\visualization\\post\\compliance.py\", line 1217, in _create_aedt_reports\n"
     ]
    },
    {
     "name": "stdout",
     "output_type": "stream",
     "text": [
      "PyAEDT ERROR:     table = self._add_contour_eye_diagram_violations(\n"
     ]
    },
    {
     "name": "stdout",
     "output_type": "stream",
     "text": [
      "PyAEDT ERROR:   File \"C:\\actions-runner\\_work\\pyaedt-examples\\pyaedt-examples\\.venv\\lib\\site-packages\\ansys\\aedt\\core\\visualization\\post\\compliance.py\", line 1472, in _add_contour_eye_diagram_violations\n"
     ]
    },
    {
     "name": "stdout",
     "output_type": "stream",
     "text": [
      "PyAEDT ERROR:     mask = self.points_in_polygon(x_data, poly)\n"
     ]
    },
    {
     "name": "stdout",
     "output_type": "stream",
     "text": [
      "PyAEDT ERROR:   File \"C:\\actions-runner\\_work\\pyaedt-examples\\pyaedt-examples\\.venv\\lib\\site-packages\\ansys\\aedt\\core\\visualization\\post\\compliance.py\", line 1352, in points_in_polygon\n"
     ]
    },
    {
     "name": "stdout",
     "output_type": "stream",
     "text": [
      "PyAEDT ERROR:     path = Path(polygon)\n"
     ]
    },
    {
     "name": "stdout",
     "output_type": "stream",
     "text": [
      "PyAEDT ERROR:   File \"C:\\actions-runner\\_work\\_tool\\Python\\3.10.11\\x64\\lib\\pathlib.py\", line 960, in __new__\n"
     ]
    },
    {
     "name": "stdout",
     "output_type": "stream",
     "text": [
      "PyAEDT ERROR:     self = cls._from_parts(args)\n"
     ]
    },
    {
     "name": "stdout",
     "output_type": "stream",
     "text": [
      "PyAEDT ERROR:   File \"C:\\actions-runner\\_work\\_tool\\Python\\3.10.11\\x64\\lib\\pathlib.py\", line 594, in _from_parts\n"
     ]
    },
    {
     "name": "stdout",
     "output_type": "stream",
     "text": [
      "PyAEDT ERROR:     drv, root, parts = self._parse_args(args)\n"
     ]
    },
    {
     "name": "stdout",
     "output_type": "stream",
     "text": [
      "PyAEDT ERROR:   File \"C:\\actions-runner\\_work\\_tool\\Python\\3.10.11\\x64\\lib\\pathlib.py\", line 578, in _parse_args\n"
     ]
    },
    {
     "name": "stdout",
     "output_type": "stream",
     "text": [
      "PyAEDT ERROR:     a = os.fspath(a)\n"
     ]
    },
    {
     "name": "stdout",
     "output_type": "stream",
     "text": [
      "PyAEDT ERROR: Expected str, bytes or os.pathlike object, not ndarray on _add_contour_eye_diagram_violations\n"
     ]
    },
    {
     "name": "stdout",
     "output_type": "stream",
     "text": [
      "PyAEDT ERROR: Last Electronics Desktop Message - [error]  script macro error: failed to assign the property from script argument. (03:57:54 am  oct 30, 2025)\n"
     ]
    },
    {
     "name": "stdout",
     "output_type": "stream",
     "text": [
      "PyAEDT ERROR: Method arguments: \n"
     ]
    },
    {
     "name": "stdout",
     "output_type": "stream",
     "text": [
      "PyAEDT ERROR:     report = <ansys.aedt.core.visualization.report.eye.AMIConturEyeDiagram object at 0x0000022617C1AE00> \n"
     ]
    },
    {
     "name": "stdout",
     "output_type": "stream",
     "text": [
      "PyAEDT ERROR:     chapter = <ansys.aedt.core.visualization.post.compliance.VirtualComplianceChaptersData object at 0x0000022615CAF520> \n"
     ]
    },
    {
     "name": "stdout",
     "output_type": "stream",
     "text": [
      "PyAEDT ERROR:     image_name = eye3_b_input_204 \n"
     ]
    },
    {
     "name": "stdout",
     "output_type": "stream",
     "text": [
      "PyAEDT ERROR:     pass_fail_criteria = {'xunits': '', 'yunits': 'V', 'points': [[0.45, 0], [0.5, 0.045], [0.55, 0.0], [0.5, -0.03], [0.45, 0]], 'enable_limits': True, 'upper_limit': 0.75, 'lower_limit': -0.75, 'color': [255, 0, 0], 'transparency': 0.4} \n"
     ]
    },
    {
     "name": "stdout",
     "output_type": "stream",
     "text": [
      "PyAEDT ERROR: **************************************************************\n"
     ]
    },
    {
     "name": "stdout",
     "output_type": "stream",
     "text": [
      "PyAEDT WARNING: Failed to compute violation for chart eye3b_input_204\n"
     ]
    },
    {
     "name": "stdout",
     "output_type": "stream",
     "text": [
      "PyAEDT INFO: Successfully parsed report eye3 for trace b_input_204\n"
     ]
    },
    {
     "name": "stdout",
     "output_type": "stream",
     "text": [
      "PyAEDT INFO: Report eye3 added to the pdf.\n"
     ]
    },
    {
     "name": "stdout",
     "output_type": "stream",
     "text": [
      "PyAEDT INFO: Python version 3.10.11 (tags/v3.10.11:7d4cc5a, Apr  5 2023, 00:38:17) [MSC v.1929 64 bit (AMD64)].\n"
     ]
    },
    {
     "name": "stdout",
     "output_type": "stream",
     "text": [
      "PyAEDT INFO: PyAEDT version 0.22.dev0.\n"
     ]
    },
    {
     "name": "stdout",
     "output_type": "stream",
     "text": [
      "PyAEDT INFO: Returning found Desktop session with PID 5556!\n"
     ]
    },
    {
     "name": "stdout",
     "output_type": "stream",
     "text": [
      "PyAEDT INFO: Project PCIE_GEN5_only_layout set to active.\n"
     ]
    },
    {
     "name": "stdout",
     "output_type": "stream",
     "text": [
      "PyAEDT INFO: Active Design set to 196;LNA\n"
     ]
    },
    {
     "name": "stdout",
     "output_type": "stream",
     "text": [
      "PyAEDT INFO: Aedt Objects correctly read\n"
     ]
    },
    {
     "name": "stdout",
     "output_type": "stream",
     "text": [
      "PyAEDT INFO: ModelerCircuit class has been initialized! Elapsed time: 0m 0sec\n"
     ]
    },
    {
     "name": "stdout",
     "output_type": "stream",
     "text": [
      "PyAEDT INFO: ModelerNexxim class has been initialized!\n"
     ]
    },
    {
     "name": "stdout",
     "output_type": "stream",
     "text": [
      "PyAEDT INFO: Modeler class has been initialized! Elapsed time: 0m 1sec\n"
     ]
    },
    {
     "name": "stdout",
     "output_type": "stream",
     "text": [
      "PyAEDT INFO: Python version 3.10.11 (tags/v3.10.11:7d4cc5a, Apr  5 2023, 00:38:17) [MSC v.1929 64 bit (AMD64)].\n"
     ]
    },
    {
     "name": "stdout",
     "output_type": "stream",
     "text": [
      "PyAEDT INFO: PyAEDT version 0.22.dev0.\n"
     ]
    },
    {
     "name": "stdout",
     "output_type": "stream",
     "text": [
      "PyAEDT INFO: Returning found Desktop session with PID 5556!\n"
     ]
    },
    {
     "name": "stdout",
     "output_type": "stream",
     "text": [
      "PyAEDT INFO: Project PCIE_GEN5_only_layout set to active.\n"
     ]
    },
    {
     "name": "stdout",
     "output_type": "stream",
     "text": [
      "PyAEDT INFO: Active Design set to 198;TDR\n"
     ]
    },
    {
     "name": "stdout",
     "output_type": "stream",
     "text": [
      "PyAEDT INFO: Aedt Objects correctly read\n"
     ]
    },
    {
     "name": "stdout",
     "output_type": "stream",
     "text": [
      "PyAEDT INFO: ModelerCircuit class has been initialized! Elapsed time: 0m 0sec\n"
     ]
    },
    {
     "name": "stdout",
     "output_type": "stream",
     "text": [
      "PyAEDT INFO: ModelerNexxim class has been initialized!\n"
     ]
    },
    {
     "name": "stdout",
     "output_type": "stream",
     "text": [
      "PyAEDT INFO: Modeler class has been initialized! Elapsed time: 0m 0sec\n"
     ]
    },
    {
     "name": "stdout",
     "output_type": "stream",
     "text": [
      "PyAEDT INFO: Python version 3.10.11 (tags/v3.10.11:7d4cc5a, Apr  5 2023, 00:38:17) [MSC v.1929 64 bit (AMD64)].\n"
     ]
    },
    {
     "name": "stdout",
     "output_type": "stream",
     "text": [
      "PyAEDT INFO: PyAEDT version 0.22.dev0.\n"
     ]
    },
    {
     "name": "stdout",
     "output_type": "stream",
     "text": [
      "PyAEDT INFO: Returning found Desktop session with PID 5556!\n"
     ]
    },
    {
     "name": "stdout",
     "output_type": "stream",
     "text": [
      "PyAEDT INFO: Project PCIE_GEN5_only_layout set to active.\n"
     ]
    },
    {
     "name": "stdout",
     "output_type": "stream",
     "text": [
      "PyAEDT INFO: Active Design set to 201;AMI\n"
     ]
    },
    {
     "name": "stdout",
     "output_type": "stream",
     "text": [
      "PyAEDT INFO: Aedt Objects correctly read\n"
     ]
    },
    {
     "name": "stdout",
     "output_type": "stream",
     "text": [
      "PyAEDT INFO: ModelerCircuit class has been initialized! Elapsed time: 0m 0sec\n"
     ]
    },
    {
     "name": "stdout",
     "output_type": "stream",
     "text": [
      "PyAEDT INFO: ModelerNexxim class has been initialized!\n"
     ]
    },
    {
     "name": "stdout",
     "output_type": "stream",
     "text": [
      "PyAEDT INFO: Modeler class has been initialized! Elapsed time: 0m 0sec\n"
     ]
    },
    {
     "name": "stdout",
     "output_type": "stream",
     "text": [
      "PyAEDT INFO: Project info added to the report.\n"
     ]
    },
    {
     "name": "stdout",
     "output_type": "stream",
     "text": [
      "PyAEDT INFO: Report has been saved in C:/Users/ansys/AppData/Local/Temp/tmpylftlls_.ansys/pcie_compliance/project/PCIE_GEN5_only_layout.pyaedt\\PCIExpress_2PUNMD\\compliance_test.pdf\n"
     ]
    },
    {
     "data": {
      "text/plain": [
       "'C:/Users/ansys/AppData/Local/Temp/tmpylftlls_.ansys/pcie_compliance/project/PCIE_GEN5_only_layout.pyaedt\\\\PCIExpress_2PUNMD\\\\compliance_test.pdf'"
      ]
     },
     "execution_count": 17,
     "metadata": {},
     "output_type": "execute_result"
    }
   ],
   "source": [
    "v.create_compliance_report()"
   ]
  },
  {
   "cell_type": "markdown",
   "id": "c760b876",
   "metadata": {},
   "source": [
    "## Release AEDT"
   ]
  },
  {
   "cell_type": "code",
   "execution_count": 18,
   "id": "1430300a",
   "metadata": {
    "execution": {
     "iopub.execute_input": "2025-10-30T04:01:09.168331Z",
     "iopub.status.busy": "2025-10-30T04:01:09.168331Z",
     "iopub.status.idle": "2025-10-30T04:01:31.987451Z",
     "shell.execute_reply": "2025-10-30T04:01:31.987451Z"
    }
   },
   "outputs": [
    {
     "name": "stdout",
     "output_type": "stream",
     "text": [
      "PyAEDT INFO: Desktop has been released and closed.\n"
     ]
    }
   ],
   "source": [
    "h3d.release_desktop()\n",
    "# Wait 3 seconds to allow AEDT to shut down before cleaning the temporary directory.\n",
    "time.sleep(3)"
   ]
  },
  {
   "cell_type": "markdown",
   "id": "3596f7c8",
   "metadata": {},
   "source": [
    "## Clean up\n",
    "\n",
    "All project files are saved in the folder ``temp_folder.name``.\n",
    "If you've run this example as a Jupyter notebook, you\n",
    "can retrieve those project files. The following cell\n",
    "removes all temporary files, including the project folder."
   ]
  },
  {
   "cell_type": "code",
   "execution_count": 19,
   "id": "101d2158",
   "metadata": {
    "execution": {
     "iopub.execute_input": "2025-10-30T04:01:31.987451Z",
     "iopub.status.busy": "2025-10-30T04:01:31.987451Z",
     "iopub.status.idle": "2025-10-30T04:01:32.081756Z",
     "shell.execute_reply": "2025-10-30T04:01:32.081756Z"
    }
   },
   "outputs": [],
   "source": [
    "temp_folder.cleanup()"
   ]
  }
 ],
 "metadata": {
  "jupytext": {
   "cell_metadata_filter": "-all",
   "main_language": "python",
   "notebook_metadata_filter": "-all"
  },
  "language_info": {
   "codemirror_mode": {
    "name": "ipython",
    "version": 3
   },
   "file_extension": ".py",
   "mimetype": "text/x-python",
   "name": "python",
   "nbconvert_exporter": "python",
   "pygments_lexer": "ipython3",
   "version": "3.10.11"
  }
 },
 "nbformat": 4,
 "nbformat_minor": 5
}
