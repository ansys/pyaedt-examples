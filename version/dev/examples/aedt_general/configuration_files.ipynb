{
 "cells": [
  {
   "cell_type": "markdown",
   "id": "f3c4594b",
   "metadata": {},
   "source": [
    "# Configuration files\n",
    "\n",
    "This example shows how to use PyAEDT to export configuration files and reuse\n",
    "them to import in a new project. A configuration file is supported by these applications:\n",
    "\n",
    "* HFSS\n",
    "* 2D Extractor and Q3D Extractor\n",
    "* Maxwell\n",
    "* Icepak (in AEDT)\n",
    "* Mechanical (in AEDT)\n",
    "\n",
    "The following topics are covered:\n",
    "\n",
    "* Variables\n",
    "* Mesh operations (except Icepak)\n",
    "* Setup and optimetrics\n",
    "* Material properties\n",
    "* Object properties\n",
    "* Boundaries and excitations\n",
    "\n",
    "When a boundary is attached to a face, PyAEDT tries to match it with a\n",
    "``FaceByPosition`` on the same object name on the target design. If for\n",
    "any reason this face position has changed or the object name in the target\n",
    "design has changed, the boundary fails to apply.\n",
    "\n",
    "Keywords: **AEDT**, **general**, **configuration file**, **setup**."
   ]
  },
  {
   "cell_type": "markdown",
   "id": "88e8e1b1",
   "metadata": {},
   "source": [
    "## Perform imports and define constants\n",
    "Import the required packages."
   ]
  },
  {
   "cell_type": "code",
   "execution_count": 1,
   "id": "f5d318c7",
   "metadata": {
    "execution": {
     "iopub.execute_input": "2025-10-30T03:42:21.732171Z",
     "iopub.status.busy": "2025-10-30T03:42:21.732171Z",
     "iopub.status.idle": "2025-10-30T03:42:24.822767Z",
     "shell.execute_reply": "2025-10-30T03:42:24.822767Z"
    }
   },
   "outputs": [],
   "source": [
    "import os\n",
    "import tempfile\n",
    "import time\n",
    "\n",
    "import ansys.aedt.core\n",
    "from ansys.aedt.core.examples.downloads import download_icepak"
   ]
  },
  {
   "cell_type": "markdown",
   "id": "e98fc0e4",
   "metadata": {},
   "source": [
    "Define constants."
   ]
  },
  {
   "cell_type": "code",
   "execution_count": 2,
   "id": "bc6341f9",
   "metadata": {
    "execution": {
     "iopub.execute_input": "2025-10-30T03:42:24.822767Z",
     "iopub.status.busy": "2025-10-30T03:42:24.822767Z",
     "iopub.status.idle": "2025-10-30T03:42:24.838513Z",
     "shell.execute_reply": "2025-10-30T03:42:24.838513Z"
    }
   },
   "outputs": [],
   "source": [
    "AEDT_VERSION = \"2025.2\"\n",
    "NG_MODE = False  # Open AEDT UI when it is launched."
   ]
  },
  {
   "cell_type": "markdown",
   "id": "298b116c",
   "metadata": {},
   "source": [
    "## Create temporary directory\n",
    "\n",
    "Create the temporary directory.\n",
    "If you'd like to retrieve the project data for subsequent use,\n",
    "the temporary folder name is given by ``temp_folder.name``."
   ]
  },
  {
   "cell_type": "code",
   "execution_count": 3,
   "id": "904dbcee",
   "metadata": {
    "execution": {
     "iopub.execute_input": "2025-10-30T03:42:24.838513Z",
     "iopub.status.busy": "2025-10-30T03:42:24.838513Z",
     "iopub.status.idle": "2025-10-30T03:42:24.854291Z",
     "shell.execute_reply": "2025-10-30T03:42:24.854291Z"
    }
   },
   "outputs": [],
   "source": [
    "temp_folder = tempfile.TemporaryDirectory(suffix=\".ansys\")"
   ]
  },
  {
   "cell_type": "markdown",
   "id": "b3e729af",
   "metadata": {},
   "source": [
    "## Download project\n",
    "\n",
    "Download the Icepack project."
   ]
  },
  {
   "cell_type": "code",
   "execution_count": 4,
   "id": "04a1c4b8",
   "metadata": {
    "execution": {
     "iopub.execute_input": "2025-10-30T03:42:24.854291Z",
     "iopub.status.busy": "2025-10-30T03:42:24.854291Z",
     "iopub.status.idle": "2025-10-30T03:42:25.298411Z",
     "shell.execute_reply": "2025-10-30T03:42:25.298411Z"
    }
   },
   "outputs": [],
   "source": [
    "project_full_name = download_icepak(\n",
    "    local_path=temp_folder.name\n",
    ")"
   ]
  },
  {
   "cell_type": "markdown",
   "id": "50588e5b",
   "metadata": {},
   "source": [
    "## Open project\n",
    "\n",
    "Open the Icepak project from the project folder."
   ]
  },
  {
   "cell_type": "code",
   "execution_count": 5,
   "id": "2f73760c",
   "metadata": {
    "execution": {
     "iopub.execute_input": "2025-10-30T03:42:25.298411Z",
     "iopub.status.busy": "2025-10-30T03:42:25.298411Z",
     "iopub.status.idle": "2025-10-30T03:42:53.352927Z",
     "shell.execute_reply": "2025-10-30T03:42:53.352927Z"
    }
   },
   "outputs": [
    {
     "name": "stdout",
     "output_type": "stream",
     "text": [
      "PyAEDT INFO: Parsing C:\\Users\\ansys\\AppData\\Local\\Temp\\tmp89ulxzyo.ansys\\Graphics_card.aedt.\n"
     ]
    },
    {
     "name": "stdout",
     "output_type": "stream",
     "text": [
      "PyAEDT INFO: Python version 3.10.11 (tags/v3.10.11:7d4cc5a, Apr  5 2023, 00:38:17) [MSC v.1929 64 bit (AMD64)].\n"
     ]
    },
    {
     "name": "stdout",
     "output_type": "stream",
     "text": [
      "PyAEDT INFO: PyAEDT version 0.22.dev0.\n"
     ]
    },
    {
     "name": "stdout",
     "output_type": "stream",
     "text": [
      "PyAEDT INFO: Initializing new Desktop session.\n"
     ]
    },
    {
     "name": "stdout",
     "output_type": "stream",
     "text": [
      "PyAEDT INFO: Log on console is enabled.\n"
     ]
    },
    {
     "name": "stdout",
     "output_type": "stream",
     "text": [
      "PyAEDT INFO: Log on file C:\\Users\\ansys\\AppData\\Local\\Temp\\pyaedt_ansys_98dda917-8daa-4718-b039-ece891236671.log is enabled.\n"
     ]
    },
    {
     "name": "stdout",
     "output_type": "stream",
     "text": [
      "PyAEDT INFO: Log on AEDT is disabled.\n"
     ]
    },
    {
     "name": "stdout",
     "output_type": "stream",
     "text": [
      "PyAEDT INFO: Debug logger is disabled. PyAEDT methods will not be logged.\n"
     ]
    },
    {
     "name": "stdout",
     "output_type": "stream",
     "text": [
      "PyAEDT INFO: Launching PyAEDT with gRPC plugin.\n"
     ]
    },
    {
     "name": "stdout",
     "output_type": "stream",
     "text": [
      "PyAEDT INFO: New AEDT session is starting on gRPC port 60665.\n"
     ]
    },
    {
     "name": "stdout",
     "output_type": "stream",
     "text": [
      "PyAEDT INFO: File C:\\Users\\ansys\\AppData\\Local\\Temp\\tmp89ulxzyo.ansys\\Graphics_card.aedt correctly loaded. Elapsed time: 0m 0sec\n"
     ]
    },
    {
     "name": "stdout",
     "output_type": "stream",
     "text": [
      "PyAEDT INFO: Electronics Desktop started on gRPC port: 60665 after 10.358107566833496 seconds.\n"
     ]
    },
    {
     "name": "stdout",
     "output_type": "stream",
     "text": [
      "PyAEDT INFO: AEDT installation Path C:\\Program Files\\ANSYS Inc\\v252\\AnsysEM\n"
     ]
    },
    {
     "name": "stdout",
     "output_type": "stream",
     "text": [
      "PyAEDT INFO: Ansoft.ElectronicsDesktop.2025.2 version started with process ID 6056.\n"
     ]
    },
    {
     "name": "stdout",
     "output_type": "stream",
     "text": [
      "PyAEDT INFO: Project Graphics_card has been opened.\n"
     ]
    },
    {
     "name": "stdout",
     "output_type": "stream",
     "text": [
      "PyAEDT INFO: Active Design set to IcepakDesign1\n"
     ]
    },
    {
     "name": "stdout",
     "output_type": "stream",
     "text": [
      "PyAEDT INFO: Active Design set to IcepakDesign1\n"
     ]
    },
    {
     "name": "stdout",
     "output_type": "stream",
     "text": [
      "PyAEDT INFO: Aedt Objects correctly read\n"
     ]
    },
    {
     "data": {
      "text/plain": [
       "True"
      ]
     },
     "execution_count": 5,
     "metadata": {},
     "output_type": "execute_result"
    }
   ],
   "source": [
    "ipk = ansys.aedt.core.Icepak(\n",
    "    project=project_full_name,\n",
    "    version=AEDT_VERSION,\n",
    "    new_desktop=True,\n",
    "    non_graphical=NG_MODE,\n",
    ")\n",
    "ipk.autosave_disable()"
   ]
  },
  {
   "cell_type": "markdown",
   "id": "d02c7f40",
   "metadata": {},
   "source": [
    "## Create source blocks\n",
    "\n",
    "Create a source block on the CPU and memories."
   ]
  },
  {
   "cell_type": "code",
   "execution_count": 6,
   "id": "351263a0",
   "metadata": {
    "execution": {
     "iopub.execute_input": "2025-10-30T03:42:53.352927Z",
     "iopub.status.busy": "2025-10-30T03:42:53.352927Z",
     "iopub.status.idle": "2025-10-30T03:42:55.346237Z",
     "shell.execute_reply": "2025-10-30T03:42:55.346237Z"
    }
   },
   "outputs": [
    {
     "name": "stdout",
     "output_type": "stream",
     "text": [
      "PyAEDT INFO: Modeler class has been initialized! Elapsed time: 0m 1sec\n"
     ]
    },
    {
     "name": "stdout",
     "output_type": "stream",
     "text": [
      "PyAEDT INFO: Materials class has been initialized! Elapsed time: 0m 0sec\n"
     ]
    },
    {
     "name": "stdout",
     "output_type": "stream",
     "text": [
      "PyAEDT INFO: Boundary Block CPU has been created.\n"
     ]
    },
    {
     "name": "stdout",
     "output_type": "stream",
     "text": [
      "PyAEDT INFO: Boundary Block MEMORY1 has been created.\n"
     ]
    },
    {
     "data": {
      "text/plain": [
       "<ansys.aedt.core.modules.boundary.common.BoundaryObject at 0x1ff4a52f580>"
      ]
     },
     "execution_count": 6,
     "metadata": {},
     "output_type": "execute_result"
    }
   ],
   "source": [
    "ipk.create_source_block(object_name=\"CPU\", input_power=\"25W\")\n",
    "ipk.create_source_block(object_name=[\"MEMORY1\", \"MEMORY1_1\"], input_power=\"5W\")"
   ]
  },
  {
   "cell_type": "markdown",
   "id": "83ee0855",
   "metadata": {},
   "source": [
    "## Assign boundaries\n",
    "\n",
    "Assign the opening and grille."
   ]
  },
  {
   "cell_type": "code",
   "execution_count": 7,
   "id": "df462076",
   "metadata": {
    "execution": {
     "iopub.execute_input": "2025-10-30T03:42:55.346237Z",
     "iopub.status.busy": "2025-10-30T03:42:55.346237Z",
     "iopub.status.idle": "2025-10-30T03:42:55.489242Z",
     "shell.execute_reply": "2025-10-30T03:42:55.489242Z"
    }
   },
   "outputs": [
    {
     "name": "stdout",
     "output_type": "stream",
     "text": [
      "PyAEDT INFO: Parsing design objects. This operation can take time\n"
     ]
    },
    {
     "name": "stdout",
     "output_type": "stream",
     "text": [
      "PyAEDT INFO: Refreshing bodies from Object Info\n"
     ]
    },
    {
     "name": "stdout",
     "output_type": "stream",
     "text": [
      "PyAEDT INFO: Bodies Info Refreshed Elapsed time: 0m 0sec\n"
     ]
    },
    {
     "name": "stdout",
     "output_type": "stream",
     "text": [
      "PyAEDT INFO: 3D Modeler objects parsed. Elapsed time: 0m 0sec\n"
     ]
    },
    {
     "name": "stdout",
     "output_type": "stream",
     "text": [
      "PyAEDT INFO: Boundary Opening Opening_PPAJH4 has been created.\n"
     ]
    },
    {
     "name": "stdout",
     "output_type": "stream",
     "text": [
      "PyAEDT INFO: Boundary Grille Grille_CR6WMF has been created.\n"
     ]
    },
    {
     "data": {
      "text/plain": [
       "<ansys.aedt.core.modules.boundary.common.BoundaryObject at 0x1ff600a21d0>"
      ]
     },
     "execution_count": 7,
     "metadata": {},
     "output_type": "execute_result"
    }
   ],
   "source": [
    "region = ipk.modeler[\"Region\"]\n",
    "ipk.assign_openings(air_faces=region.bottom_face_x.id)\n",
    "ipk.assign_grille(air_faces=region.top_face_x.id, free_area_ratio=0.8)"
   ]
  },
  {
   "cell_type": "markdown",
   "id": "4384db87",
   "metadata": {},
   "source": [
    "## Create setup\n",
    "\n",
    "Create the setup. Properties can be set up from the ``setup`` object\n",
    "with getters and setters. They don't have to perfectly match the property\n",
    "syntax."
   ]
  },
  {
   "cell_type": "code",
   "execution_count": 8,
   "id": "7364f774",
   "metadata": {
    "execution": {
     "iopub.execute_input": "2025-10-30T03:42:55.489242Z",
     "iopub.status.busy": "2025-10-30T03:42:55.489242Z",
     "iopub.status.idle": "2025-10-30T03:42:55.886729Z",
     "shell.execute_reply": "2025-10-30T03:42:55.886729Z"
    }
   },
   "outputs": [
    {
     "name": "stdout",
     "output_type": "stream",
     "text": [
      "PyAEDT INFO: Key FlowRegime matched internal key 'Flow Regime' with confidence of 94.\n"
     ]
    },
    {
     "name": "stdout",
     "output_type": "stream",
     "text": [
      "PyAEDT INFO: Key Max Iterations matched internal key 'Convergence Criteria - Max Iterations' with confidence of 54.\n"
     ]
    },
    {
     "name": "stdout",
     "output_type": "stream",
     "text": [
      "PyAEDT INFO: Key Solver Type Pressure matched internal key 'Linear Solver Type - Pressure' with confidence of 80.\n"
     ]
    },
    {
     "name": "stdout",
     "output_type": "stream",
     "text": [
      "PyAEDT INFO: Key Solver Type Temperature matched internal key 'Linear Solver Type - Temperature' with confidence of 82.\n"
     ]
    },
    {
     "name": "stdout",
     "output_type": "stream",
     "text": [
      "PyAEDT INFO: Project Graphics_card Saved correctly\n"
     ]
    },
    {
     "data": {
      "text/plain": [
       "True"
      ]
     },
     "execution_count": 8,
     "metadata": {},
     "output_type": "execute_result"
    }
   ],
   "source": [
    "setup1 = ipk.create_setup()\n",
    "setup1[\"FlowRegime\"] = \"Turbulent\"\n",
    "setup1[\"Max Iterations\"] = 5\n",
    "setup1[\"Solver Type Pressure\"] = \"flex\"\n",
    "setup1[\"Solver Type Temperature\"] = \"flex\"\n",
    "ipk.save_project()"
   ]
  },
  {
   "cell_type": "markdown",
   "id": "24a72f0c",
   "metadata": {},
   "source": [
    "## Export project to step file\n",
    "\n",
    "Export the project to the step file."
   ]
  },
  {
   "cell_type": "code",
   "execution_count": 9,
   "id": "22951bc6",
   "metadata": {
    "execution": {
     "iopub.execute_input": "2025-10-30T03:42:55.886729Z",
     "iopub.status.busy": "2025-10-30T03:42:55.886729Z",
     "iopub.status.idle": "2025-10-30T03:42:58.070169Z",
     "shell.execute_reply": "2025-10-30T03:42:58.070169Z"
    }
   },
   "outputs": [
    {
     "data": {
      "text/plain": [
       "True"
      ]
     },
     "execution_count": 9,
     "metadata": {},
     "output_type": "execute_result"
    }
   ],
   "source": [
    "filename = ipk.design_name\n",
    "file_path = os.path.join(ipk.working_directory, filename + \".step\")\n",
    "ipk.export_3d_model(\n",
    "    file_name=filename,\n",
    "    file_path=ipk.working_directory,\n",
    "    file_format=\".step\",\n",
    "    assignment_to_export=[],\n",
    "    assignment_to_remove=[],\n",
    ")"
   ]
  },
  {
   "cell_type": "markdown",
   "id": "fa8206a1",
   "metadata": {},
   "source": [
    "## Export configuration files\n",
    "\n",
    "Export the configuration files. You can optionally disable the export and\n",
    "import sections. Supported formats are JSON and TOML files."
   ]
  },
  {
   "cell_type": "code",
   "execution_count": 10,
   "id": "b312dbb2",
   "metadata": {
    "execution": {
     "iopub.execute_input": "2025-10-30T03:42:58.074189Z",
     "iopub.status.busy": "2025-10-30T03:42:58.074189Z",
     "iopub.status.idle": "2025-10-30T03:43:12.862494Z",
     "shell.execute_reply": "2025-10-30T03:43:12.862494Z"
    }
   },
   "outputs": [
    {
     "name": "stdout",
     "output_type": "stream",
     "text": [
      "PyAEDT INFO: Parsing C:\\Users\\ansys\\AppData\\Local\\Temp\\tmp89ulxzyo.ansys\\Graphics_card.aedt.\n"
     ]
    },
    {
     "name": "stdout",
     "output_type": "stream",
     "text": [
      "PyAEDT INFO: File C:\\Users\\ansys\\AppData\\Local\\Temp\\tmp89ulxzyo.ansys\\Graphics_card.aedt correctly loaded. Elapsed time: 0m 0sec\n"
     ]
    },
    {
     "name": "stdout",
     "output_type": "stream",
     "text": [
      "PyAEDT INFO: aedt file load time 0.03189373016357422\n"
     ]
    },
    {
     "name": "stdout",
     "output_type": "stream",
     "text": [
      "PyAEDT WARNING: Property Command is read-only.\n"
     ]
    },
    {
     "name": "stdout",
     "output_type": "stream",
     "text": [
      "PyAEDT INFO: Mesh class has been initialized! Elapsed time: 0m 0sec\n"
     ]
    },
    {
     "name": "stdout",
     "output_type": "stream",
     "text": [
      "PyAEDT WARNING: Property Command is read-only.\n"
     ]
    },
    {
     "name": "stdout",
     "output_type": "stream",
     "text": [
      "PyAEDT WARNING: Property Command is read-only.\n"
     ]
    },
    {
     "name": "stdout",
     "output_type": "stream",
     "text": [
      "PyAEDT WARNING: Property Command is read-only.\n"
     ]
    },
    {
     "name": "stdout",
     "output_type": "stream",
     "text": [
      "PyAEDT WARNING: Property Command is read-only.\n"
     ]
    },
    {
     "name": "stdout",
     "output_type": "stream",
     "text": [
      "PyAEDT WARNING: Property Command is read-only.\n"
     ]
    },
    {
     "name": "stdout",
     "output_type": "stream",
     "text": [
      "PyAEDT WARNING: Property Command is read-only.\n"
     ]
    },
    {
     "name": "stdout",
     "output_type": "stream",
     "text": [
      "PyAEDT WARNING: Property Command is read-only.\n"
     ]
    },
    {
     "name": "stdout",
     "output_type": "stream",
     "text": [
      "PyAEDT WARNING: Property Command is read-only.\n"
     ]
    },
    {
     "name": "stdout",
     "output_type": "stream",
     "text": [
      "PyAEDT WARNING: Property Command is read-only.\n"
     ]
    },
    {
     "name": "stdout",
     "output_type": "stream",
     "text": [
      "PyAEDT WARNING: Property Command is read-only.\n"
     ]
    },
    {
     "name": "stdout",
     "output_type": "stream",
     "text": [
      "PyAEDT INFO: Python version 3.10.11 (tags/v3.10.11:7d4cc5a, Apr  5 2023, 00:38:17) [MSC v.1929 64 bit (AMD64)].\n"
     ]
    },
    {
     "name": "stdout",
     "output_type": "stream",
     "text": [
      "PyAEDT INFO: PyAEDT version 0.22.dev0.\n"
     ]
    },
    {
     "name": "stdout",
     "output_type": "stream",
     "text": [
      "PyAEDT INFO: Returning found Desktop session with PID 6056!\n"
     ]
    },
    {
     "name": "stdout",
     "output_type": "stream",
     "text": [
      "PyAEDT INFO: Project temp_proj has been created.\n"
     ]
    },
    {
     "name": "stdout",
     "output_type": "stream",
     "text": [
      "PyAEDT INFO: No design is present. Inserting a new design.\n"
     ]
    },
    {
     "name": "stdout",
     "output_type": "stream",
     "text": [
      "PyAEDT INFO: Added design 'Icepak_97O' of type Icepak.\n"
     ]
    },
    {
     "name": "stdout",
     "output_type": "stream",
     "text": [
      "PyAEDT INFO: Aedt Objects correctly read\n"
     ]
    },
    {
     "name": "stdout",
     "output_type": "stream",
     "text": [
      "PyAEDT INFO: Parsing design objects. This operation can take time\n"
     ]
    },
    {
     "name": "stdout",
     "output_type": "stream",
     "text": [
      "PyAEDT INFO: Refreshing bodies from Object Info\n"
     ]
    },
    {
     "name": "stdout",
     "output_type": "stream",
     "text": [
      "PyAEDT INFO: Bodies Info Refreshed Elapsed time: 0m 0sec\n"
     ]
    },
    {
     "name": "stdout",
     "output_type": "stream",
     "text": [
      "PyAEDT INFO: 3D Modeler objects parsed. Elapsed time: 0m 0sec\n"
     ]
    },
    {
     "name": "stdout",
     "output_type": "stream",
     "text": [
      "PyAEDT INFO: Deleted 10 Objects: SERIAL_PORT,ALPHA_MAIN_PCB,Region,CAPACITOR_1,CPU,HEAT_SINK,CAPACITOR,KB,MEMORY1_1,MEMORY1.\n"
     ]
    },
    {
     "name": "stdout",
     "output_type": "stream",
     "text": [
      "PyAEDT INFO: Modeler class has been initialized! Elapsed time: 0m 0sec\n"
     ]
    },
    {
     "name": "stdout",
     "output_type": "stream",
     "text": [
      "PyAEDT INFO: Closing the AEDT Project temp_proj\n"
     ]
    },
    {
     "name": "stdout",
     "output_type": "stream",
     "text": [
      "PyAEDT INFO: Project temp_proj closed correctly\n"
     ]
    },
    {
     "name": "stdout",
     "output_type": "stream",
     "text": [
      "PyAEDT INFO: C:\\Users\\ansys\\AppData\\Local\\Temp\\tmp89ulxzyo.ansys\\Graphics_card.pyaedt\\IcepakDesign1\\config.toml correctly created.\n"
     ]
    },
    {
     "name": "stdout",
     "output_type": "stream",
     "text": [
      "PyAEDT INFO: Json file C:\\Users\\ansys\\AppData\\Local\\Temp\\tmp89ulxzyo.ansys\\Graphics_card.pyaedt\\IcepakDesign1\\config.toml created correctly.\n"
     ]
    },
    {
     "name": "stdout",
     "output_type": "stream",
     "text": [
      "PyAEDT INFO: Closing the AEDT Project Graphics_card\n"
     ]
    },
    {
     "name": "stdout",
     "output_type": "stream",
     "text": [
      "PyAEDT INFO: Project Graphics_card closed correctly\n"
     ]
    },
    {
     "data": {
      "text/plain": [
       "True"
      ]
     },
     "execution_count": 10,
     "metadata": {},
     "output_type": "execute_result"
    }
   ],
   "source": [
    "conf_file = ipk.configurations.export_config(\n",
    "    os.path.join(ipk.working_directory, \"config.toml\")\n",
    ")\n",
    "ipk.close_project()"
   ]
  },
  {
   "cell_type": "markdown",
   "id": "cd6ed6b6",
   "metadata": {},
   "source": [
    "## Create project\n",
    "\n",
    "Create an Icepak project and import the step."
   ]
  },
  {
   "cell_type": "code",
   "execution_count": 11,
   "id": "0e12138b",
   "metadata": {
    "execution": {
     "iopub.execute_input": "2025-10-30T03:43:12.862494Z",
     "iopub.status.busy": "2025-10-30T03:43:12.862494Z",
     "iopub.status.idle": "2025-10-30T03:43:25.005378Z",
     "shell.execute_reply": "2025-10-30T03:43:25.005378Z"
    }
   },
   "outputs": [
    {
     "name": "stdout",
     "output_type": "stream",
     "text": [
      "PyAEDT INFO: Python version 3.10.11 (tags/v3.10.11:7d4cc5a, Apr  5 2023, 00:38:17) [MSC v.1929 64 bit (AMD64)].\n"
     ]
    },
    {
     "name": "stdout",
     "output_type": "stream",
     "text": [
      "PyAEDT INFO: PyAEDT version 0.22.dev0.\n"
     ]
    },
    {
     "name": "stdout",
     "output_type": "stream",
     "text": [
      "PyAEDT INFO: Returning found Desktop session with PID 6056!\n"
     ]
    },
    {
     "name": "stdout",
     "output_type": "stream",
     "text": [
      "PyAEDT INFO: Project example has been created.\n"
     ]
    },
    {
     "name": "stdout",
     "output_type": "stream",
     "text": [
      "PyAEDT INFO: No design is present. Inserting a new design.\n"
     ]
    },
    {
     "name": "stdout",
     "output_type": "stream",
     "text": [
      "PyAEDT INFO: Added design 'Icepak_IEW' of type Icepak.\n"
     ]
    },
    {
     "name": "stdout",
     "output_type": "stream",
     "text": [
      "PyAEDT INFO: Aedt Objects correctly read\n"
     ]
    },
    {
     "name": "stdout",
     "output_type": "stream",
     "text": [
      "PyAEDT INFO: Modeler class has been initialized! Elapsed time: 0m 0sec\n"
     ]
    },
    {
     "name": "stdout",
     "output_type": "stream",
     "text": [
      "PyAEDT INFO: Step file C:\\Users\\ansys\\AppData\\Local\\Temp\\tmp89ulxzyo.ansys\\Graphics_card.pyaedt\\IcepakDesign1\\IcepakDesign1.step imported\n"
     ]
    },
    {
     "data": {
      "text/plain": [
       "True"
      ]
     },
     "execution_count": 11,
     "metadata": {},
     "output_type": "execute_result"
    }
   ],
   "source": [
    "new_project = os.path.join(temp_folder.name, \"example.aedt\")\n",
    "app = ansys.aedt.core.Icepak(version=AEDT_VERSION, project=new_project)\n",
    "app.modeler.import_3d_cad(file_path)"
   ]
  },
  {
   "cell_type": "markdown",
   "id": "a322fcca",
   "metadata": {},
   "source": [
    "## Import and apply configuration file\n",
    "\n",
    "Import and apply the configuration file. You can apply all or part of the\n",
    "JSON file that you import using options in the ``configurations`` object."
   ]
  },
  {
   "cell_type": "code",
   "execution_count": 12,
   "id": "93288138",
   "metadata": {
    "execution": {
     "iopub.execute_input": "2025-10-30T03:43:25.005378Z",
     "iopub.status.busy": "2025-10-30T03:43:25.005378Z",
     "iopub.status.idle": "2025-10-30T03:43:30.165664Z",
     "shell.execute_reply": "2025-10-30T03:43:30.165664Z"
    }
   },
   "outputs": [
    {
     "name": "stdout",
     "output_type": "stream",
     "text": [
      "PyAEDT INFO: Parsing C:\\Users\\ansys\\AppData\\Local\\Temp\\tmp89ulxzyo.ansys\\example.aedt.\n"
     ]
    },
    {
     "name": "stdout",
     "output_type": "stream",
     "text": [
      "PyAEDT INFO: File C:\\Users\\ansys\\AppData\\Local\\Temp\\tmp89ulxzyo.ansys\\example.aedt correctly loaded. Elapsed time: 0m 0sec\n"
     ]
    },
    {
     "name": "stdout",
     "output_type": "stream",
     "text": [
      "PyAEDT INFO: aedt file load time 0.01577591896057129\n"
     ]
    },
    {
     "name": "stdout",
     "output_type": "stream",
     "text": [
      "PyAEDT INFO: Dataset Ceramic_material_39 doesn't exist.\n"
     ]
    },
    {
     "name": "stdout",
     "output_type": "stream",
     "text": [
      "PyAEDT INFO: Dataset $Ceramic_material_39 created successfully.\n"
     ]
    },
    {
     "name": "stdout",
     "output_type": "stream",
     "text": [
      "PyAEDT INFO: Materials class has been initialized! Elapsed time: 0m 0sec\n"
     ]
    },
    {
     "name": "stdout",
     "output_type": "stream",
     "text": [
      "PyAEDT WARNING: Material Al-Extruded already exists. Renaming to Al-Extruded_8L0BXL\n"
     ]
    },
    {
     "name": "stdout",
     "output_type": "stream",
     "text": [
      "PyAEDT WARNING: Material air already exists. Renaming to air_TN50S3\n"
     ]
    },
    {
     "name": "stdout",
     "output_type": "stream",
     "text": [
      "PyAEDT WARNING: Material Ceramic_material already exists. Renaming to Ceramic_material_A3ABTF\n"
     ]
    },
    {
     "name": "stdout",
     "output_type": "stream",
     "text": [
      "PyAEDT WARNING: No mesh operation found.\n"
     ]
    },
    {
     "name": "stdout",
     "output_type": "stream",
     "text": [
      "PyAEDT WARNING: No mesh region found.\n"
     ]
    },
    {
     "name": "stdout",
     "output_type": "stream",
     "text": [
      "PyAEDT WARNING: Property Command is read-only.\n"
     ]
    },
    {
     "name": "stdout",
     "output_type": "stream",
     "text": [
      "PyAEDT INFO: Mesh class has been initialized! Elapsed time: 0m 0sec\n"
     ]
    },
    {
     "name": "stdout",
     "output_type": "stream",
     "text": [
      "PyAEDT INFO: Object Properties updated.\n"
     ]
    },
    {
     "name": "stdout",
     "output_type": "stream",
     "text": [
      "PyAEDT INFO: Boundary Operation CPU added.\n"
     ]
    },
    {
     "name": "stdout",
     "output_type": "stream",
     "text": [
      "PyAEDT INFO: Boundary Operation MEMORY1 added.\n"
     ]
    },
    {
     "name": "stdout",
     "output_type": "stream",
     "text": [
      "PyAEDT INFO: Boundary Operation Opening_PPAJH4 added.\n"
     ]
    },
    {
     "name": "stdout",
     "output_type": "stream",
     "text": [
      "PyAEDT INFO: Boundary Operation Grille_CR6WMF added.\n"
     ]
    },
    {
     "name": "stdout",
     "output_type": "stream",
     "text": [
      "PyAEDT INFO: Setup Setup added.\n"
     ]
    }
   ],
   "source": [
    "out = app.configurations.import_config(conf_file)\n",
    "is_conf_imported = app.configurations.results.global_import_success"
   ]
  },
  {
   "cell_type": "markdown",
   "id": "ec6784c5",
   "metadata": {},
   "source": [
    "## Release AEDT\n",
    "Close the project and release AEDT."
   ]
  },
  {
   "cell_type": "code",
   "execution_count": 13,
   "id": "e49f43f0",
   "metadata": {
    "execution": {
     "iopub.execute_input": "2025-10-30T03:43:30.165664Z",
     "iopub.status.busy": "2025-10-30T03:43:30.165664Z",
     "iopub.status.idle": "2025-10-30T03:43:52.126663Z",
     "shell.execute_reply": "2025-10-30T03:43:52.126663Z"
    }
   },
   "outputs": [
    {
     "name": "stdout",
     "output_type": "stream",
     "text": [
      "PyAEDT INFO: Desktop has been released and closed.\n"
     ]
    }
   ],
   "source": [
    "app.release_desktop()\n",
    "time.sleep(3)  # Allow AEDT to shut down before cleaning the temporary project folder."
   ]
  },
  {
   "cell_type": "markdown",
   "id": "04425107",
   "metadata": {},
   "source": [
    "## Clean up\n",
    "\n",
    "All project files are saved in the folder ``temp_folder.name``.\n",
    "If you've run this example as a Jupyter notebook, you\n",
    "can retrieve those project files. The following cell removes\n",
    "all temporary files, including the project folder."
   ]
  },
  {
   "cell_type": "code",
   "execution_count": 14,
   "id": "29290fd6",
   "metadata": {
    "execution": {
     "iopub.execute_input": "2025-10-30T03:43:52.126663Z",
     "iopub.status.busy": "2025-10-30T03:43:52.126663Z",
     "iopub.status.idle": "2025-10-30T03:43:52.142558Z",
     "shell.execute_reply": "2025-10-30T03:43:52.142558Z"
    }
   },
   "outputs": [],
   "source": [
    "temp_folder.cleanup()"
   ]
  }
 ],
 "metadata": {
  "jupytext": {
   "cell_metadata_filter": "-all",
   "main_language": "python",
   "notebook_metadata_filter": "-all"
  },
  "language_info": {
   "codemirror_mode": {
    "name": "ipython",
    "version": 3
   },
   "file_extension": ".py",
   "mimetype": "text/x-python",
   "name": "python",
   "nbconvert_exporter": "python",
   "pygments_lexer": "ipython3",
   "version": "3.10.11"
  }
 },
 "nbformat": 4,
 "nbformat_minor": 5
}
