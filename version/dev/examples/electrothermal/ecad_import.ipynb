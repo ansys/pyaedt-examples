{
 "cells": [
  {
   "cell_type": "markdown",
   "id": "97d886f7",
   "metadata": {},
   "source": [
    "# Import of a PCB and its components via IDF and EDB"
   ]
  },
  {
   "cell_type": "markdown",
   "id": "8f36d45f",
   "metadata": {},
   "source": [
    "This example shows how to import a PCB and its components using IDF files (LDB and BDF).\n",
    "You can also use a combination of EMN and EMP files in a similar way.\n",
    "\n",
    "Keywords: **Icepak**, **PCB**, **IDF**."
   ]
  },
  {
   "cell_type": "code",
   "execution_count": 1,
   "id": "59636589",
   "metadata": {
    "execution": {
     "iopub.execute_input": "2025-10-30T04:27:11.722344Z",
     "iopub.status.busy": "2025-10-30T04:27:11.722344Z",
     "iopub.status.idle": "2025-10-30T04:27:11.738276Z",
     "shell.execute_reply": "2025-10-30T04:27:11.738276Z"
    },
    "lines_to_next_cell": 0
   },
   "outputs": [],
   "source": [
    "# ## Perform imports and define constants\n",
    "#\n",
    "# Perform required imports."
   ]
  },
  {
   "cell_type": "code",
   "execution_count": 2,
   "id": "7e51dbff",
   "metadata": {
    "execution": {
     "iopub.execute_input": "2025-10-30T04:27:11.738276Z",
     "iopub.status.busy": "2025-10-30T04:27:11.738276Z",
     "iopub.status.idle": "2025-10-30T04:27:14.819537Z",
     "shell.execute_reply": "2025-10-30T04:27:14.819537Z"
    }
   },
   "outputs": [],
   "source": [
    "import os\n",
    "import tempfile\n",
    "import time\n",
    "\n",
    "from ansys.aedt.core.examples.downloads import download_file\n",
    "from ansys.aedt.core import Hfss3dLayout, Icepak"
   ]
  },
  {
   "cell_type": "markdown",
   "id": "c5134960",
   "metadata": {},
   "source": [
    "Define constants."
   ]
  },
  {
   "cell_type": "code",
   "execution_count": 3,
   "id": "06dba186",
   "metadata": {
    "execution": {
     "iopub.execute_input": "2025-10-30T04:27:14.819537Z",
     "iopub.status.busy": "2025-10-30T04:27:14.819537Z",
     "iopub.status.idle": "2025-10-30T04:27:14.835538Z",
     "shell.execute_reply": "2025-10-30T04:27:14.835538Z"
    }
   },
   "outputs": [],
   "source": [
    "AEDT_VERSION = \"2025.2\"\n",
    "NG_MODE = False  # Open AEDT UI when it is launched."
   ]
  },
  {
   "cell_type": "markdown",
   "id": "b28ff3c9",
   "metadata": {},
   "source": [
    "## Open project\n",
    "\n",
    "Open an empty project in non-graphical mode, using a temporary folder."
   ]
  },
  {
   "cell_type": "code",
   "execution_count": 4,
   "id": "30f09d69",
   "metadata": {
    "execution": {
     "iopub.execute_input": "2025-10-30T04:27:14.835538Z",
     "iopub.status.busy": "2025-10-30T04:27:14.835538Z",
     "iopub.status.idle": "2025-10-30T04:27:53.523079Z",
     "shell.execute_reply": "2025-10-30T04:27:53.523079Z"
    }
   },
   "outputs": [
    {
     "name": "stdout",
     "output_type": "stream",
     "text": [
      "PyAEDT INFO: Python version 3.10.11 (tags/v3.10.11:7d4cc5a, Apr  5 2023, 00:38:17) [MSC v.1929 64 bit (AMD64)].\n"
     ]
    },
    {
     "name": "stdout",
     "output_type": "stream",
     "text": [
      "PyAEDT INFO: PyAEDT version 0.22.dev0.\n"
     ]
    },
    {
     "name": "stdout",
     "output_type": "stream",
     "text": [
      "PyAEDT INFO: Initializing new Desktop session.\n"
     ]
    },
    {
     "name": "stdout",
     "output_type": "stream",
     "text": [
      "PyAEDT INFO: Log on console is enabled.\n"
     ]
    },
    {
     "name": "stdout",
     "output_type": "stream",
     "text": [
      "PyAEDT INFO: Log on file C:\\Users\\ansys\\AppData\\Local\\Temp\\pyaedt_ansys_7d45b5c6-76e5-4547-b437-34dd5bc13e03.log is enabled.\n"
     ]
    },
    {
     "name": "stdout",
     "output_type": "stream",
     "text": [
      "PyAEDT INFO: Log on AEDT is disabled.\n"
     ]
    },
    {
     "name": "stdout",
     "output_type": "stream",
     "text": [
      "PyAEDT INFO: Debug logger is disabled. PyAEDT methods will not be logged.\n"
     ]
    },
    {
     "name": "stdout",
     "output_type": "stream",
     "text": [
      "PyAEDT INFO: Launching PyAEDT with gRPC plugin.\n"
     ]
    },
    {
     "name": "stdout",
     "output_type": "stream",
     "text": [
      "PyAEDT INFO: New AEDT session is starting on gRPC port 50139.\n"
     ]
    },
    {
     "name": "stdout",
     "output_type": "stream",
     "text": [
      "PyAEDT INFO: Electronics Desktop started on gRPC port: 50139 after 10.063135385513306 seconds.\n"
     ]
    },
    {
     "name": "stdout",
     "output_type": "stream",
     "text": [
      "PyAEDT INFO: AEDT installation Path C:\\Program Files\\ANSYS Inc\\v252\\AnsysEM\n"
     ]
    },
    {
     "name": "stdout",
     "output_type": "stream",
     "text": [
      "PyAEDT INFO: Ansoft.ElectronicsDesktop.2025.2 version started with process ID 7688.\n"
     ]
    },
    {
     "name": "stdout",
     "output_type": "stream",
     "text": [
      "PyAEDT INFO: Project Icepak_ECAD_Import has been created.\n"
     ]
    },
    {
     "name": "stdout",
     "output_type": "stream",
     "text": [
      "PyAEDT INFO: No design is present. Inserting a new design.\n"
     ]
    },
    {
     "name": "stdout",
     "output_type": "stream",
     "text": [
      "PyAEDT INFO: Added design 'Icepak_WJ8' of type Icepak.\n"
     ]
    },
    {
     "name": "stdout",
     "output_type": "stream",
     "text": [
      "PyAEDT INFO: Aedt Objects correctly read\n"
     ]
    }
   ],
   "source": [
    "temp_folder = tempfile.TemporaryDirectory(suffix=\".ansys\")\n",
    "\n",
    "ipk = Icepak(\n",
    "    project=os.path.join(temp_folder.name, \"Icepak_ECAD_Import.aedt\"),\n",
    "    version=AEDT_VERSION,\n",
    "    new_desktop=True,\n",
    "    non_graphical=NG_MODE,\n",
    ")"
   ]
  },
  {
   "cell_type": "markdown",
   "id": "ed2a32bb",
   "metadata": {},
   "source": [
    "## Import the IDF files\n",
    "\n",
    "Import the BDF and LDF files. Sample files are shown here.\n",
    "\n",
    "<img src=\"_static\\bdf.png\" width=\"400\">\n",
    "\n",
    "<img src=\"_static\\ldf.png\" width=\"400\">\n",
    "\n",
    "You can import the IDF files with several filtering options, including caps, resistors,\n",
    "inductors, power, specific power, and size.\n",
    "There are also options for PCB creation, including number of layers, copper percentages, and layer sizes.\n",
    "\n",
    "This example uses the default values for the PCB.\n",
    "The imported PCB (from the IDF files) are deleted later and replaced by a PCB that has the trace\n",
    "information (from ECAD) for higher accuracy."
   ]
  },
  {
   "cell_type": "markdown",
   "id": "6db1712b",
   "metadata": {},
   "source": [
    "Download ECAD and IDF files."
   ]
  },
  {
   "cell_type": "code",
   "execution_count": 5,
   "id": "c430952c",
   "metadata": {
    "execution": {
     "iopub.execute_input": "2025-10-30T04:27:53.523079Z",
     "iopub.status.busy": "2025-10-30T04:27:53.523079Z",
     "iopub.status.idle": "2025-10-30T04:27:54.997832Z",
     "shell.execute_reply": "2025-10-30T04:27:54.997832Z"
    }
   },
   "outputs": [],
   "source": [
    "def_path = download_file(\n",
    "    source=\"icepak/Icepak_ECAD_Import/A1_uprev.aedb\",\n",
    "    name=\"edb.def\",\n",
    "    local_path=temp_folder.name,\n",
    ")\n",
    "board_path = download_file(\n",
    "    source=\"icepak/Icepak_ECAD_Import/\", name=\"A1.bdf\", local_path=temp_folder.name\n",
    ")\n",
    "library_path = download_file(\n",
    "    source=\"icepak/Icepak_ECAD_Import/\", name=\"A1.ldf\", local_path=temp_folder.name\n",
    ")"
   ]
  },
  {
   "cell_type": "markdown",
   "id": "eabbc8bc",
   "metadata": {},
   "source": [
    "Import IDF file."
   ]
  },
  {
   "cell_type": "code",
   "execution_count": 6,
   "id": "08b45c5e",
   "metadata": {
    "execution": {
     "iopub.execute_input": "2025-10-30T04:27:55.001313Z",
     "iopub.status.busy": "2025-10-30T04:27:55.001313Z",
     "iopub.status.idle": "2025-10-30T04:28:05.648838Z",
     "shell.execute_reply": "2025-10-30T04:28:05.648838Z"
    }
   },
   "outputs": [
    {
     "name": "stdout",
     "output_type": "stream",
     "text": [
      "PyAEDT INFO: Active Design set to Icepak_WJ8\n"
     ]
    },
    {
     "name": "stdout",
     "output_type": "stream",
     "text": [
      "PyAEDT INFO: Modeler class has been initialized! Elapsed time: 0m 1sec\n"
     ]
    },
    {
     "name": "stdout",
     "output_type": "stream",
     "text": [
      "PyAEDT INFO: Active Design set to Icepak_WJ8\n"
     ]
    },
    {
     "data": {
      "text/plain": [
       "True"
      ]
     },
     "execution_count": 6,
     "metadata": {},
     "output_type": "execute_result"
    }
   ],
   "source": [
    "ipk.import_idf(board_path=board_path)"
   ]
  },
  {
   "cell_type": "markdown",
   "id": "895d9d1f",
   "metadata": {},
   "source": [
    "Save the project"
   ]
  },
  {
   "cell_type": "code",
   "execution_count": 7,
   "id": "55710787",
   "metadata": {
    "execution": {
     "iopub.execute_input": "2025-10-30T04:28:05.648838Z",
     "iopub.status.busy": "2025-10-30T04:28:05.648838Z",
     "iopub.status.idle": "2025-10-30T04:28:06.677764Z",
     "shell.execute_reply": "2025-10-30T04:28:06.677764Z"
    }
   },
   "outputs": [
    {
     "name": "stdout",
     "output_type": "stream",
     "text": [
      "PyAEDT INFO: Project Icepak_ECAD_Import Saved correctly\n"
     ]
    },
    {
     "data": {
      "text/plain": [
       "True"
      ]
     },
     "execution_count": 7,
     "metadata": {},
     "output_type": "execute_result"
    }
   ],
   "source": [
    "ipk.save_project()"
   ]
  },
  {
   "cell_type": "markdown",
   "id": "ef442b40",
   "metadata": {},
   "source": [
    "## Import ECAD\n",
    "Add an HFSS 3D Layout design with the layout information of the PCB."
   ]
  },
  {
   "cell_type": "code",
   "execution_count": 8,
   "id": "96469866",
   "metadata": {
    "execution": {
     "iopub.execute_input": "2025-10-30T04:28:06.681156Z",
     "iopub.status.busy": "2025-10-30T04:28:06.681156Z",
     "iopub.status.idle": "2025-10-30T04:28:10.033040Z",
     "shell.execute_reply": "2025-10-30T04:28:10.033040Z"
    }
   },
   "outputs": [
    {
     "name": "stdout",
     "output_type": "stream",
     "text": [
      "PyAEDT INFO: Python version 3.10.11 (tags/v3.10.11:7d4cc5a, Apr  5 2023, 00:38:17) [MSC v.1929 64 bit (AMD64)].\n"
     ]
    },
    {
     "name": "stdout",
     "output_type": "stream",
     "text": [
      "PyAEDT INFO: PyAEDT version 0.22.dev0.\n"
     ]
    },
    {
     "name": "stdout",
     "output_type": "stream",
     "text": [
      "PyAEDT INFO: Returning found Desktop session with PID 7688!\n"
     ]
    },
    {
     "name": "stdout",
     "output_type": "stream",
     "text": [
      "PyAEDT INFO: EDB folder C:\\Users\\ansys\\AppData\\Local\\Temp\\tmpq2p03sc1.ansys\\icepak\\Icepak_ECAD_Import\\A1_uprev.aedb\\edb.def has been imported to project A1_uprev\n"
     ]
    },
    {
     "name": "stdout",
     "output_type": "stream",
     "text": [
      "PyAEDT INFO: Active Design set to 0;A1_uprev\n"
     ]
    },
    {
     "name": "stdout",
     "output_type": "stream",
     "text": [
      "PyAEDT INFO: Active Design set to 0;A1_uprev\n"
     ]
    },
    {
     "name": "stdout",
     "output_type": "stream",
     "text": [
      "PyAEDT INFO: Aedt Objects correctly read\n"
     ]
    },
    {
     "name": "stdout",
     "output_type": "stream",
     "text": [
      "PyAEDT INFO: Project A1_uprev Saved correctly\n"
     ]
    },
    {
     "data": {
      "text/plain": [
       "True"
      ]
     },
     "execution_count": 8,
     "metadata": {},
     "output_type": "execute_result"
    }
   ],
   "source": [
    "hfss3d_lo = Hfss3dLayout(project=def_path, version=AEDT_VERSION)\n",
    "hfss3d_lo.save_project()"
   ]
  },
  {
   "cell_type": "markdown",
   "id": "17c0d1ac",
   "metadata": {},
   "source": [
    "Create a PCB component in Icepak linked to the HFSS 3D Layout project. The polygon ``\"poly_0\"``\n",
    "is used as the outline of the PCB, and a dissipation of ``\"1W\"`` is applied to the PCB."
   ]
  },
  {
   "cell_type": "code",
   "execution_count": 9,
   "id": "5f3c38b4",
   "metadata": {
    "execution": {
     "iopub.execute_input": "2025-10-30T04:28:10.033040Z",
     "iopub.status.busy": "2025-10-30T04:28:10.033040Z",
     "iopub.status.idle": "2025-10-30T04:28:10.048786Z",
     "shell.execute_reply": "2025-10-30T04:28:10.048786Z"
    }
   },
   "outputs": [],
   "source": [
    "project_file = hfss3d_lo.project_file\n",
    "design_name = hfss3d_lo.design_name"
   ]
  },
  {
   "cell_type": "code",
   "execution_count": 10,
   "id": "4dbf077b",
   "metadata": {
    "execution": {
     "iopub.execute_input": "2025-10-30T04:28:10.048786Z",
     "iopub.status.busy": "2025-10-30T04:28:10.048786Z",
     "iopub.status.idle": "2025-10-30T04:28:17.297659Z",
     "shell.execute_reply": "2025-10-30T04:28:17.296521Z"
    }
   },
   "outputs": [
    {
     "name": "stdout",
     "output_type": "stream",
     "text": [
      "PyAEDT INFO: Parsing design objects. This operation can take time\n"
     ]
    },
    {
     "name": "stdout",
     "output_type": "stream",
     "text": [
      "PyAEDT INFO: Refreshing bodies from Object Info\n"
     ]
    },
    {
     "name": "stdout",
     "output_type": "stream",
     "text": [
      "PyAEDT INFO: Bodies Info Refreshed Elapsed time: 0m 0sec\n"
     ]
    },
    {
     "name": "stdout",
     "output_type": "stream",
     "text": [
      "PyAEDT INFO: 3D Modeler objects parsed. Elapsed time: 0m 1sec\n"
     ]
    },
    {
     "name": "stdout",
     "output_type": "stream",
     "text": [
      "PyAEDT INFO: Materials class has been initialized! Elapsed time: 0m 0sec\n"
     ]
    },
    {
     "name": "stdout",
     "output_type": "stream",
     "text": [
      "PyAEDT INFO: PCB component correctly created in Icepak.\n"
     ]
    },
    {
     "data": {
      "text/plain": [
       "<ansys.aedt.core.modules.boundary.layout_boundary.NativeComponentPCB at 0x19830bd1360>"
      ]
     },
     "execution_count": 10,
     "metadata": {},
     "output_type": "execute_result"
    }
   ],
   "source": [
    "ipk.create_pcb_from_3dlayout(\n",
    "    component_name=\"PCB_pyAEDT\",\n",
    "    project_name=project_file,\n",
    "    design_name=design_name,\n",
    "    extent_type=\"Polygon\",\n",
    "    outline_polygon=\"poly_0\",\n",
    "    power_in=1,\n",
    "    close_linked_project_after_import=False,\n",
    ")"
   ]
  },
  {
   "cell_type": "markdown",
   "id": "ca3b482f",
   "metadata": {},
   "source": [
    "Delete the simplified PCB object coming from the IDF import."
   ]
  },
  {
   "cell_type": "code",
   "execution_count": 11,
   "id": "1a860f93",
   "metadata": {
    "execution": {
     "iopub.execute_input": "2025-10-30T04:28:17.297659Z",
     "iopub.status.busy": "2025-10-30T04:28:17.297659Z",
     "iopub.status.idle": "2025-10-30T04:28:18.579770Z",
     "shell.execute_reply": "2025-10-30T04:28:18.579770Z"
    }
   },
   "outputs": [
    {
     "name": "stdout",
     "output_type": "stream",
     "text": [
      "PyAEDT INFO: Parsing design objects. This operation can take time\n"
     ]
    },
    {
     "name": "stdout",
     "output_type": "stream",
     "text": [
      "PyAEDT INFO: Refreshing bodies from Object Info\n"
     ]
    },
    {
     "name": "stdout",
     "output_type": "stream",
     "text": [
      "PyAEDT INFO: Bodies Info Refreshed Elapsed time: 0m 0sec\n"
     ]
    },
    {
     "name": "stdout",
     "output_type": "stream",
     "text": [
      "PyAEDT INFO: 3D Modeler objects parsed. Elapsed time: 0m 1sec\n"
     ]
    },
    {
     "name": "stdout",
     "output_type": "stream",
     "text": [
      "PyAEDT INFO: Deleted 1 Objects: IDF_BoardOutline.\n"
     ]
    },
    {
     "name": "stdout",
     "output_type": "stream",
     "text": [
      "PyAEDT INFO: Deleted 1 objects\n"
     ]
    },
    {
     "data": {
      "text/plain": [
       "True"
      ]
     },
     "execution_count": 11,
     "metadata": {},
     "output_type": "execute_result"
    }
   ],
   "source": [
    "ipk.modeler.delete_objects_containing(\"IDF_BoardOutline\", False)"
   ]
  },
  {
   "cell_type": "markdown",
   "id": "9a93228a",
   "metadata": {},
   "source": [
    "## Release AEDT"
   ]
  },
  {
   "cell_type": "code",
   "execution_count": 12,
   "id": "275de886",
   "metadata": {
    "execution": {
     "iopub.execute_input": "2025-10-30T04:28:18.579770Z",
     "iopub.status.busy": "2025-10-30T04:28:18.579770Z",
     "iopub.status.idle": "2025-10-30T04:28:46.175053Z",
     "shell.execute_reply": "2025-10-30T04:28:46.175053Z"
    }
   },
   "outputs": [
    {
     "name": "stdout",
     "output_type": "stream",
     "text": [
      "PyAEDT INFO: Project Icepak_ECAD_Import Saved correctly\n"
     ]
    },
    {
     "name": "stdout",
     "output_type": "stream",
     "text": [
      "PyAEDT INFO: Desktop has been released and closed.\n"
     ]
    }
   ],
   "source": [
    "ipk.save_project()\n",
    "ipk.release_desktop()\n",
    "# Wait 3 seconds to allow AEDT to shut down before cleaning the temporary directory.\n",
    "time.sleep(3)"
   ]
  },
  {
   "cell_type": "markdown",
   "id": "fb913ad4",
   "metadata": {},
   "source": [
    "## Clean up\n",
    "\n",
    "All project files are saved in the folder ``temp_folder.name``.\n",
    "If you've run this example as a Jupyter notebook, you\n",
    "can retrieve those project files. The following cell\n",
    "removes all temporary files, including the project folder."
   ]
  },
  {
   "cell_type": "code",
   "execution_count": 13,
   "id": "4bae5fac",
   "metadata": {
    "execution": {
     "iopub.execute_input": "2025-10-30T04:28:46.175053Z",
     "iopub.status.busy": "2025-10-30T04:28:46.175053Z",
     "iopub.status.idle": "2025-10-30T04:28:46.206931Z",
     "shell.execute_reply": "2025-10-30T04:28:46.206931Z"
    }
   },
   "outputs": [],
   "source": [
    "temp_folder.cleanup()"
   ]
  }
 ],
 "metadata": {
  "jupytext": {
   "cell_metadata_filter": "-all",
   "main_language": "python",
   "notebook_metadata_filter": "-all"
  },
  "language_info": {
   "codemirror_mode": {
    "name": "ipython",
    "version": 3
   },
   "file_extension": ".py",
   "mimetype": "text/x-python",
   "name": "python",
   "nbconvert_exporter": "python",
   "pygments_lexer": "ipython3",
   "version": "3.10.11"
  }
 },
 "nbformat": 4,
 "nbformat_minor": 5
}
