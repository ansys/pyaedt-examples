{
 "cells": [
  {
   "cell_type": "markdown",
   "id": "8fe5d642",
   "metadata": {},
   "source": [
    "# Setup from Sherlock inputs"
   ]
  },
  {
   "cell_type": "markdown",
   "id": "380351f5",
   "metadata": {},
   "source": [
    "This example shows how to create an Icepak project from Sherlock\n",
    "files (STEP and CSV) and an AEDB board.\n",
    "\n",
    "Keywords: **Icepak**, **Sherlock**."
   ]
  },
  {
   "cell_type": "markdown",
   "id": "c2d60dbc",
   "metadata": {},
   "source": [
    "## Perform imports and define constants\n",
    "\n",
    "Perform required imports."
   ]
  },
  {
   "cell_type": "code",
   "execution_count": 1,
   "id": "5886a762",
   "metadata": {
    "execution": {
     "iopub.execute_input": "2025-10-30T04:40:48.014427Z",
     "iopub.status.busy": "2025-10-30T04:40:48.014427Z",
     "iopub.status.idle": "2025-10-30T04:40:51.100283Z",
     "shell.execute_reply": "2025-10-30T04:40:51.100283Z"
    }
   },
   "outputs": [],
   "source": [
    "import os\n",
    "import tempfile\n",
    "import time\n",
    "\n",
    "import ansys.aedt.core\n",
    "from ansys.aedt.core.examples.downloads import download_sherlock"
   ]
  },
  {
   "cell_type": "markdown",
   "id": "5aef1177",
   "metadata": {},
   "source": [
    "Define constants"
   ]
  },
  {
   "cell_type": "code",
   "execution_count": 2,
   "id": "0b250d80",
   "metadata": {
    "execution": {
     "iopub.execute_input": "2025-10-30T04:40:51.104307Z",
     "iopub.status.busy": "2025-10-30T04:40:51.104307Z",
     "iopub.status.idle": "2025-10-30T04:40:51.112072Z",
     "shell.execute_reply": "2025-10-30T04:40:51.112072Z"
    }
   },
   "outputs": [],
   "source": [
    "AEDT_VERSION = \"2025.2\"\n",
    "NUM_CORES = 4\n",
    "NG_MODE = False  # Open AEDT UI when it is launched."
   ]
  },
  {
   "cell_type": "markdown",
   "id": "f422de05",
   "metadata": {},
   "source": [
    "## Set paths and define input files and variables\n",
    "\n",
    "Set paths."
   ]
  },
  {
   "cell_type": "code",
   "execution_count": 3,
   "id": "d82d98fe",
   "metadata": {
    "execution": {
     "iopub.execute_input": "2025-10-30T04:40:51.116084Z",
     "iopub.status.busy": "2025-10-30T04:40:51.114078Z",
     "iopub.status.idle": "2025-10-30T04:40:54.782463Z",
     "shell.execute_reply": "2025-10-30T04:40:54.782463Z"
    }
   },
   "outputs": [],
   "source": [
    "temp_folder = tempfile.TemporaryDirectory(suffix=\".ansys\")\n",
    "input_dir = download_sherlock(local_path=temp_folder.name)"
   ]
  },
  {
   "cell_type": "markdown",
   "id": "c054ba5c",
   "metadata": {},
   "source": [
    "Define input files."
   ]
  },
  {
   "cell_type": "code",
   "execution_count": 4,
   "id": "461911e3",
   "metadata": {
    "execution": {
     "iopub.execute_input": "2025-10-30T04:40:54.782463Z",
     "iopub.status.busy": "2025-10-30T04:40:54.782463Z",
     "iopub.status.idle": "2025-10-30T04:40:54.798282Z",
     "shell.execute_reply": "2025-10-30T04:40:54.798282Z"
    }
   },
   "outputs": [],
   "source": [
    "material_name = \"MaterialExport.csv\"\n",
    "component_properties = \"TutorialBoardPartsList.csv\"\n",
    "component_step = \"TutorialBoard.stp\"\n",
    "aedt_odb_project = \"SherlockTutorial.aedt\""
   ]
  },
  {
   "cell_type": "markdown",
   "id": "2bd07964",
   "metadata": {},
   "source": [
    "Define variables that are needed later."
   ]
  },
  {
   "cell_type": "code",
   "execution_count": 5,
   "id": "82ed8a4b",
   "metadata": {
    "execution": {
     "iopub.execute_input": "2025-10-30T04:40:54.798282Z",
     "iopub.status.busy": "2025-10-30T04:40:54.798282Z",
     "iopub.status.idle": "2025-10-30T04:40:54.814040Z",
     "shell.execute_reply": "2025-10-30T04:40:54.814040Z"
    }
   },
   "outputs": [],
   "source": [
    "aedt_odb_design_name = \"PCB\"\n",
    "outline_polygon_name = \"poly_14188\""
   ]
  },
  {
   "cell_type": "markdown",
   "id": "ea361678",
   "metadata": {},
   "source": [
    "Define input files with paths."
   ]
  },
  {
   "cell_type": "code",
   "execution_count": 6,
   "id": "f3ce0f06",
   "metadata": {
    "execution": {
     "iopub.execute_input": "2025-10-30T04:40:54.814040Z",
     "iopub.status.busy": "2025-10-30T04:40:54.814040Z",
     "iopub.status.idle": "2025-10-30T04:40:54.829885Z",
     "shell.execute_reply": "2025-10-30T04:40:54.829885Z"
    }
   },
   "outputs": [],
   "source": [
    "material_list = os.path.join(input_dir, material_name)\n",
    "component_list = os.path.join(input_dir, component_properties)\n",
    "validation = os.path.join(temp_folder.name, \"validation.log\")\n",
    "file_path = os.path.join(input_dir, component_step)\n",
    "project_name = os.path.join(temp_folder.name, component_step[:-3] + \"aedt\")"
   ]
  },
  {
   "cell_type": "markdown",
   "id": "2cedf4cd",
   "metadata": {},
   "source": [
    "## Create Icepak model"
   ]
  },
  {
   "cell_type": "code",
   "execution_count": 7,
   "id": "41a6d289",
   "metadata": {
    "execution": {
     "iopub.execute_input": "2025-10-30T04:40:54.829885Z",
     "iopub.status.busy": "2025-10-30T04:40:54.829885Z",
     "iopub.status.idle": "2025-10-30T04:41:33.620041Z",
     "shell.execute_reply": "2025-10-30T04:41:33.619033Z"
    }
   },
   "outputs": [
    {
     "name": "stdout",
     "output_type": "stream",
     "text": [
      "PyAEDT INFO: Python version 3.10.11 (tags/v3.10.11:7d4cc5a, Apr  5 2023, 00:38:17) [MSC v.1929 64 bit (AMD64)].\n"
     ]
    },
    {
     "name": "stdout",
     "output_type": "stream",
     "text": [
      "PyAEDT INFO: PyAEDT version 0.22.dev0.\n"
     ]
    },
    {
     "name": "stdout",
     "output_type": "stream",
     "text": [
      "PyAEDT INFO: Initializing new Desktop session.\n"
     ]
    },
    {
     "name": "stdout",
     "output_type": "stream",
     "text": [
      "PyAEDT INFO: Log on console is enabled.\n"
     ]
    },
    {
     "name": "stdout",
     "output_type": "stream",
     "text": [
      "PyAEDT INFO: Log on file C:\\Users\\ansys\\AppData\\Local\\Temp\\pyaedt_ansys_afee94ea-7ac2-4e66-ab77-85f84fe8af40.log is enabled.\n"
     ]
    },
    {
     "name": "stdout",
     "output_type": "stream",
     "text": [
      "PyAEDT INFO: Log on AEDT is disabled.\n"
     ]
    },
    {
     "name": "stdout",
     "output_type": "stream",
     "text": [
      "PyAEDT INFO: Debug logger is disabled. PyAEDT methods will not be logged.\n"
     ]
    },
    {
     "name": "stdout",
     "output_type": "stream",
     "text": [
      "PyAEDT INFO: Launching PyAEDT with gRPC plugin.\n"
     ]
    },
    {
     "name": "stdout",
     "output_type": "stream",
     "text": [
      "PyAEDT INFO: New AEDT session is starting on gRPC port 51189.\n"
     ]
    },
    {
     "name": "stdout",
     "output_type": "stream",
     "text": [
      "PyAEDT INFO: Electronics Desktop started on gRPC port: 51189 after 10.426455736160278 seconds.\n"
     ]
    },
    {
     "name": "stdout",
     "output_type": "stream",
     "text": [
      "PyAEDT INFO: AEDT installation Path C:\\Program Files\\ANSYS Inc\\v252\\AnsysEM\n"
     ]
    },
    {
     "name": "stdout",
     "output_type": "stream",
     "text": [
      "PyAEDT INFO: Ansoft.ElectronicsDesktop.2025.2 version started with process ID 4996.\n"
     ]
    },
    {
     "name": "stdout",
     "output_type": "stream",
     "text": [
      "PyAEDT INFO: Project TutorialBoard has been created.\n"
     ]
    },
    {
     "name": "stdout",
     "output_type": "stream",
     "text": [
      "PyAEDT INFO: No design is present. Inserting a new design.\n"
     ]
    },
    {
     "name": "stdout",
     "output_type": "stream",
     "text": [
      "PyAEDT INFO: Added design 'Icepak_G9P' of type Icepak.\n"
     ]
    },
    {
     "name": "stdout",
     "output_type": "stream",
     "text": [
      "PyAEDT INFO: Aedt Objects correctly read\n"
     ]
    }
   ],
   "source": [
    "ipk = ansys.aedt.core.Icepak(\n",
    "    project=project_name, version=AEDT_VERSION, non_graphical=NG_MODE\n",
    ")"
   ]
  },
  {
   "cell_type": "markdown",
   "id": "dde64260",
   "metadata": {},
   "source": [
    "Disable autosave to speed up the import."
   ]
  },
  {
   "cell_type": "code",
   "execution_count": 8,
   "id": "9e4dcd6f",
   "metadata": {
    "execution": {
     "iopub.execute_input": "2025-10-30T04:41:33.620648Z",
     "iopub.status.busy": "2025-10-30T04:41:33.620648Z",
     "iopub.status.idle": "2025-10-30T04:41:33.635150Z",
     "shell.execute_reply": "2025-10-30T04:41:33.635150Z"
    }
   },
   "outputs": [
    {
     "data": {
      "text/plain": [
       "True"
      ]
     },
     "execution_count": 8,
     "metadata": {},
     "output_type": "execute_result"
    }
   ],
   "source": [
    "ipk.autosave_disable()"
   ]
  },
  {
   "cell_type": "markdown",
   "id": "706569e1",
   "metadata": {},
   "source": [
    "Import a PCB from an AEDB file."
   ]
  },
  {
   "cell_type": "code",
   "execution_count": 9,
   "id": "05fa1c55",
   "metadata": {
    "execution": {
     "iopub.execute_input": "2025-10-30T04:41:33.635150Z",
     "iopub.status.busy": "2025-10-30T04:41:33.635150Z",
     "iopub.status.idle": "2025-10-30T04:41:38.042192Z",
     "shell.execute_reply": "2025-10-30T04:41:38.042192Z"
    }
   },
   "outputs": [
    {
     "name": "stdout",
     "output_type": "stream",
     "text": [
      "PyAEDT INFO: Modeler class has been initialized! Elapsed time: 0m 1sec\n"
     ]
    },
    {
     "name": "stdout",
     "output_type": "stream",
     "text": [
      "PyAEDT INFO: Parsing design objects. This operation can take time\n"
     ]
    },
    {
     "name": "stdout",
     "output_type": "stream",
     "text": [
      "PyAEDT INFO: Refreshing bodies from Object Info\n"
     ]
    },
    {
     "name": "stdout",
     "output_type": "stream",
     "text": [
      "PyAEDT INFO: Bodies Info Refreshed Elapsed time: 0m 0sec\n"
     ]
    },
    {
     "name": "stdout",
     "output_type": "stream",
     "text": [
      "PyAEDT INFO: 3D Modeler objects parsed. Elapsed time: 0m 0sec\n"
     ]
    },
    {
     "name": "stdout",
     "output_type": "stream",
     "text": [
      "PyAEDT INFO: Materials class has been initialized! Elapsed time: 0m 0sec\n"
     ]
    },
    {
     "name": "stdout",
     "output_type": "stream",
     "text": [
      "PyAEDT INFO: Closing the AEDT Project SherlockTutorial\n"
     ]
    },
    {
     "name": "stdout",
     "output_type": "stream",
     "text": [
      "PyAEDT INFO: Project SherlockTutorial closed correctly\n"
     ]
    },
    {
     "name": "stdout",
     "output_type": "stream",
     "text": [
      "PyAEDT INFO: PCB component correctly created in Icepak.\n"
     ]
    },
    {
     "data": {
      "text/plain": [
       "<ansys.aedt.core.modules.boundary.layout_boundary.NativeComponentPCB at 0x1fcdf5cfdf0>"
      ]
     },
     "execution_count": 9,
     "metadata": {},
     "output_type": "execute_result"
    }
   ],
   "source": [
    "odb_path = os.path.join(input_dir, aedt_odb_project)\n",
    "ipk.create_pcb_from_3dlayout(\n",
    "    component_name=\"Board\", project_name=odb_path, design_name=aedt_odb_design_name\n",
    ")"
   ]
  },
  {
   "cell_type": "markdown",
   "id": "c19fde6b",
   "metadata": {},
   "source": [
    "Create an offset coordinate system to match ODB++ with the Sherlock STEP file.\n",
    "The thickness is computed from the ``\"Board\"`` component. (``\"Board1\"`` is the\n",
    "instance name of the ``\"Board\"`` native component and is used to offset the coordinate system.)"
   ]
  },
  {
   "cell_type": "code",
   "execution_count": 10,
   "id": "153005b7",
   "metadata": {
    "execution": {
     "iopub.execute_input": "2025-10-30T04:41:38.042192Z",
     "iopub.status.busy": "2025-10-30T04:41:38.042192Z",
     "iopub.status.idle": "2025-10-30T04:41:38.230963Z",
     "shell.execute_reply": "2025-10-30T04:41:38.230963Z"
    }
   },
   "outputs": [
    {
     "data": {
      "text/plain": [
       "<ansys.aedt.core.modeler.cad.modeler.CoordinateSystem at 0x1fcf15f2590>"
      ]
     },
     "execution_count": 10,
     "metadata": {},
     "output_type": "execute_result"
    }
   ],
   "source": [
    "bb = ipk.modeler.user_defined_components[\"Board1\"].bounding_box\n",
    "stackup_thickness = bb[-1] - bb[2]\n",
    "ipk.modeler.create_coordinate_system(\n",
    "    origin=[0, 0, stackup_thickness / 2], mode=\"view\", view=\"XY\"\n",
    ")"
   ]
  },
  {
   "cell_type": "markdown",
   "id": "a6689449",
   "metadata": {},
   "source": [
    "Import the board components from an MCAD file and remove the PCB object as it is already\n",
    "imported with the ECAD."
   ]
  },
  {
   "cell_type": "code",
   "execution_count": 11,
   "id": "ad52dc6c",
   "metadata": {
    "execution": {
     "iopub.execute_input": "2025-10-30T04:41:38.230963Z",
     "iopub.status.busy": "2025-10-30T04:41:38.230963Z",
     "iopub.status.idle": "2025-10-30T04:41:45.564803Z",
     "shell.execute_reply": "2025-10-30T04:41:45.564803Z"
    }
   },
   "outputs": [
    {
     "name": "stdout",
     "output_type": "stream",
     "text": [
      "PyAEDT INFO: Step file C:\\Users\\ansys\\AppData\\Local\\Temp\\tmp_78g03xk.ansys\\sherlock\\TutorialBoard.stp imported\n"
     ]
    },
    {
     "name": "stdout",
     "output_type": "stream",
     "text": [
      "PyAEDT INFO: Parsing design objects. This operation can take time\n"
     ]
    },
    {
     "name": "stdout",
     "output_type": "stream",
     "text": [
      "PyAEDT INFO: Refreshing bodies from Object Info\n"
     ]
    },
    {
     "name": "stdout",
     "output_type": "stream",
     "text": [
      "PyAEDT INFO: Bodies Info Refreshed Elapsed time: 0m 0sec\n"
     ]
    },
    {
     "name": "stdout",
     "output_type": "stream",
     "text": [
      "PyAEDT INFO: 3D Modeler objects parsed. Elapsed time: 0m 0sec\n"
     ]
    },
    {
     "name": "stdout",
     "output_type": "stream",
     "text": [
      "PyAEDT INFO: Deleted 1 Objects: PCB.\n"
     ]
    },
    {
     "name": "stdout",
     "output_type": "stream",
     "text": [
      "PyAEDT INFO: Deleted 1 objects\n"
     ]
    },
    {
     "data": {
      "text/plain": [
       "True"
      ]
     },
     "execution_count": 11,
     "metadata": {},
     "output_type": "execute_result"
    }
   ],
   "source": [
    "ipk.modeler.import_3d_cad(file_path, refresh_all_ids=False)\n",
    "ipk.modeler.delete_objects_containing(\"pcb\", False)"
   ]
  },
  {
   "cell_type": "markdown",
   "id": "100775a2",
   "metadata": {},
   "source": [
    "Modify the air region. Padding values are passed in this order: [+X, -X, +Y, -Y, +Z, -Z]"
   ]
  },
  {
   "cell_type": "code",
   "execution_count": 12,
   "id": "813b6731",
   "metadata": {
    "execution": {
     "iopub.execute_input": "2025-10-30T04:41:45.564803Z",
     "iopub.status.busy": "2025-10-30T04:41:45.564803Z",
     "iopub.status.idle": "2025-10-30T04:41:47.566858Z",
     "shell.execute_reply": "2025-10-30T04:41:47.566858Z"
    }
   },
   "outputs": [
    {
     "name": "stdout",
     "output_type": "stream",
     "text": [
      "PyAEDT INFO: Parsing C:\\Users\\ansys\\AppData\\Local\\Temp\\tmp_78g03xk.ansys\\TutorialBoard.aedt.\n"
     ]
    },
    {
     "name": "stdout",
     "output_type": "stream",
     "text": [
      "PyAEDT INFO: File C:\\Users\\ansys\\AppData\\Local\\Temp\\tmp_78g03xk.ansys\\TutorialBoard.aedt correctly loaded. Elapsed time: 0m 0sec\n"
     ]
    },
    {
     "name": "stdout",
     "output_type": "stream",
     "text": [
      "PyAEDT INFO: aedt file load time 0.012603282928466797\n"
     ]
    },
    {
     "name": "stdout",
     "output_type": "stream",
     "text": [
      "PyAEDT WARNING: No mesh operation found.\n"
     ]
    },
    {
     "name": "stdout",
     "output_type": "stream",
     "text": [
      "PyAEDT WARNING: No mesh region found.\n"
     ]
    },
    {
     "name": "stdout",
     "output_type": "stream",
     "text": [
      "PyAEDT WARNING: Property Command is read-only.\n"
     ]
    },
    {
     "name": "stdout",
     "output_type": "stream",
     "text": [
      "PyAEDT INFO: Mesh class has been initialized! Elapsed time: 0m 0sec\n"
     ]
    },
    {
     "name": "stdout",
     "output_type": "stream",
     "text": [
      "PyAEDT WARNING: Property Command is read-only.\n"
     ]
    },
    {
     "name": "stdout",
     "output_type": "stream",
     "text": [
      "PyAEDT WARNING: Property Command is read-only.\n"
     ]
    },
    {
     "name": "stdout",
     "output_type": "stream",
     "text": [
      "PyAEDT WARNING: Property Command is read-only.\n"
     ]
    },
    {
     "name": "stdout",
     "output_type": "stream",
     "text": [
      "PyAEDT WARNING: Property Command is read-only.\n"
     ]
    },
    {
     "name": "stdout",
     "output_type": "stream",
     "text": [
      "PyAEDT WARNING: Property Command is read-only.\n"
     ]
    },
    {
     "name": "stdout",
     "output_type": "stream",
     "text": [
      "PyAEDT WARNING: Property Command is read-only.\n"
     ]
    },
    {
     "name": "stdout",
     "output_type": "stream",
     "text": [
      "PyAEDT WARNING: Property Command is read-only.\n"
     ]
    },
    {
     "name": "stdout",
     "output_type": "stream",
     "text": [
      "PyAEDT WARNING: Property Command is read-only.\n"
     ]
    },
    {
     "name": "stdout",
     "output_type": "stream",
     "text": [
      "PyAEDT WARNING: Property Command is read-only.\n"
     ]
    },
    {
     "name": "stdout",
     "output_type": "stream",
     "text": [
      "PyAEDT WARNING: Property Command is read-only.\n"
     ]
    },
    {
     "name": "stdout",
     "output_type": "stream",
     "text": [
      "PyAEDT WARNING: Property Command is read-only.\n"
     ]
    },
    {
     "name": "stdout",
     "output_type": "stream",
     "text": [
      "PyAEDT WARNING: Property Command is read-only.\n"
     ]
    }
   ],
   "source": [
    "ipk.mesh.global_mesh_region.global_region.padding_values = [20, 20, 20, 20, 300, 300]"
   ]
  },
  {
   "cell_type": "markdown",
   "id": "6bd5784e",
   "metadata": {},
   "source": [
    "## Assign materials and power dissipation conditions from Sherlock\n",
    "\n",
    "Use the Sherlock file to assign materials."
   ]
  },
  {
   "cell_type": "code",
   "execution_count": 13,
   "id": "a2940af1",
   "metadata": {
    "execution": {
     "iopub.execute_input": "2025-10-30T04:41:47.566858Z",
     "iopub.status.busy": "2025-10-30T04:41:47.566858Z",
     "iopub.status.idle": "2025-10-30T04:41:49.435340Z",
     "shell.execute_reply": "2025-10-30T04:41:49.435340Z"
    }
   },
   "outputs": [
    {
     "name": "stdout",
     "output_type": "stream",
     "text": [
      "PyAEDT INFO: Adding new material to the Project Library: bariumtitanate\n"
     ]
    },
    {
     "name": "stdout",
     "output_type": "stream",
     "text": [
      "PyAEDT INFO: Material has been added in Desktop.\n"
     ]
    },
    {
     "name": "stdout",
     "output_type": "stream",
     "text": [
      "PyAEDT INFO: Adding new material to the Project Library: epoxyencapsulant\n"
     ]
    },
    {
     "name": "stdout",
     "output_type": "stream",
     "text": [
      "PyAEDT INFO: Material has been added in Desktop.\n"
     ]
    },
    {
     "name": "stdout",
     "output_type": "stream",
     "text": [
      "PyAEDT INFO: Adding new material to the Project Library: laminate-bga\n"
     ]
    },
    {
     "name": "stdout",
     "output_type": "stream",
     "text": [
      "PyAEDT INFO: Material has been added in Desktop.\n"
     ]
    },
    {
     "name": "stdout",
     "output_type": "stream",
     "text": [
      "PyAEDT INFO: Dataset Mass_Density_L1ZZRT doesn't exist.\n"
     ]
    },
    {
     "name": "stdout",
     "output_type": "stream",
     "text": [
      "PyAEDT INFO: Dataset $Mass_Density_L1ZZRT created successfully.\n"
     ]
    },
    {
     "name": "stdout",
     "output_type": "stream",
     "text": [
      "PyAEDT INFO: Dataset Youngs_Modulus_T89BKI doesn't exist.\n"
     ]
    },
    {
     "name": "stdout",
     "output_type": "stream",
     "text": [
      "PyAEDT INFO: Dataset $Youngs_Modulus_T89BKI created successfully.\n"
     ]
    },
    {
     "data": {
      "text/plain": [
       "True"
      ]
     },
     "execution_count": 13,
     "metadata": {},
     "output_type": "execute_result"
    }
   ],
   "source": [
    "ipk.assignmaterial_from_sherlock_files(\n",
    "    component_file=component_list, material_file=material_list\n",
    ")"
   ]
  },
  {
   "cell_type": "markdown",
   "id": "7e9b69e0",
   "metadata": {},
   "source": [
    "Delete objects with no material assignments."
   ]
  },
  {
   "cell_type": "code",
   "execution_count": 14,
   "id": "2b19c87a",
   "metadata": {
    "execution": {
     "iopub.execute_input": "2025-10-30T04:41:49.435340Z",
     "iopub.status.busy": "2025-10-30T04:41:49.435340Z",
     "iopub.status.idle": "2025-10-30T04:41:57.768105Z",
     "shell.execute_reply": "2025-10-30T04:41:57.768105Z"
    }
   },
   "outputs": [
    {
     "name": "stdout",
     "output_type": "stream",
     "text": [
      "PyAEDT INFO: Parsing design objects. This operation can take time\n"
     ]
    },
    {
     "name": "stdout",
     "output_type": "stream",
     "text": [
      "PyAEDT INFO: Refreshing bodies from Object Info\n"
     ]
    },
    {
     "name": "stdout",
     "output_type": "stream",
     "text": [
      "PyAEDT INFO: Bodies Info Refreshed Elapsed time: 0m 0sec\n"
     ]
    },
    {
     "name": "stdout",
     "output_type": "stream",
     "text": [
      "PyAEDT INFO: 3D Modeler objects parsed. Elapsed time: 0m 0sec\n"
     ]
    },
    {
     "name": "stdout",
     "output_type": "stream",
     "text": [
      "PyAEDT INFO: Deleted 158 Objects: COMP_R58,COMP_R57,COMP_R56,COMP_R55,COMP_R54,COMP_R53,COMP_R52,COMP_R51,COMP_R50,COMP_R49,COMP_R48,COMP_R47,COMP_R46,COMP_R45,COMP_R44,COMP_R43,COMP_R42,COMP_R41,COMP_R40,COMP_R39,COMP_R38,COMP_R37,COMP_R36,COMP_R35,COMP_R34,COMP...\n"
     ]
    },
    {
     "name": "stdout",
     "output_type": "stream",
     "text": [
      "PyAEDT INFO: Project TutorialBoard Saved correctly\n"
     ]
    },
    {
     "data": {
      "text/plain": [
       "True"
      ]
     },
     "execution_count": 14,
     "metadata": {},
     "output_type": "execute_result"
    }
   ],
   "source": [
    "no_material_objs = ipk.modeler.get_objects_by_material(material=\"\")\n",
    "ipk.modeler.delete(assignment=no_material_objs)\n",
    "ipk.save_project()"
   ]
  },
  {
   "cell_type": "markdown",
   "id": "6c9bfb3d",
   "metadata": {},
   "source": [
    "Assign power blocks from the Sherlock file."
   ]
  },
  {
   "cell_type": "code",
   "execution_count": 15,
   "id": "c07f119f",
   "metadata": {
    "execution": {
     "iopub.execute_input": "2025-10-30T04:41:57.768105Z",
     "iopub.status.busy": "2025-10-30T04:41:57.768105Z",
     "iopub.status.idle": "2025-10-30T04:41:59.815026Z",
     "shell.execute_reply": "2025-10-30T04:41:59.815026Z"
    }
   },
   "outputs": [
    {
     "name": "stdout",
     "output_type": "stream",
     "text": [
      "PyAEDT INFO: Boundary Block COMP_C1 has been created.\n"
     ]
    },
    {
     "name": "stdout",
     "output_type": "stream",
     "text": [
      "PyAEDT INFO: Boundary Block COMP_C2 has been created.\n"
     ]
    },
    {
     "name": "stdout",
     "output_type": "stream",
     "text": [
      "PyAEDT INFO: Boundary Block COMP_C3 has been created.\n"
     ]
    },
    {
     "name": "stdout",
     "output_type": "stream",
     "text": [
      "PyAEDT INFO: Boundary Block COMP_C4 has been created.\n"
     ]
    },
    {
     "name": "stdout",
     "output_type": "stream",
     "text": [
      "PyAEDT INFO: Boundary Block COMP_C5 has been created.\n"
     ]
    },
    {
     "name": "stdout",
     "output_type": "stream",
     "text": [
      "PyAEDT INFO: Boundary Block COMP_C6 has been created.\n"
     ]
    },
    {
     "name": "stdout",
     "output_type": "stream",
     "text": [
      "PyAEDT INFO: Boundary Block COMP_C7 has been created.\n"
     ]
    },
    {
     "name": "stdout",
     "output_type": "stream",
     "text": [
      "PyAEDT INFO: Boundary Block COMP_C8 has been created.\n"
     ]
    },
    {
     "name": "stdout",
     "output_type": "stream",
     "text": [
      "PyAEDT INFO: Boundary Block COMP_C9 has been created.\n"
     ]
    },
    {
     "name": "stdout",
     "output_type": "stream",
     "text": [
      "PyAEDT INFO: Boundary Block COMP_C10 has been created.\n"
     ]
    },
    {
     "name": "stdout",
     "output_type": "stream",
     "text": [
      "PyAEDT INFO: Boundary Block COMP_C11 has been created.\n"
     ]
    },
    {
     "name": "stdout",
     "output_type": "stream",
     "text": [
      "PyAEDT INFO: Boundary Block COMP_C12 has been created.\n"
     ]
    },
    {
     "name": "stdout",
     "output_type": "stream",
     "text": [
      "PyAEDT INFO: Boundary Block COMP_C13 has been created.\n"
     ]
    },
    {
     "name": "stdout",
     "output_type": "stream",
     "text": [
      "PyAEDT INFO: Boundary Block COMP_C14 has been created.\n"
     ]
    },
    {
     "name": "stdout",
     "output_type": "stream",
     "text": [
      "PyAEDT INFO: Boundary Block COMP_C15 has been created.\n"
     ]
    },
    {
     "name": "stdout",
     "output_type": "stream",
     "text": [
      "PyAEDT INFO: Boundary Block COMP_C16 has been created.\n"
     ]
    },
    {
     "name": "stdout",
     "output_type": "stream",
     "text": [
      "PyAEDT INFO: Boundary Block COMP_C17 has been created.\n"
     ]
    },
    {
     "name": "stdout",
     "output_type": "stream",
     "text": [
      "PyAEDT INFO: Boundary Block COMP_C18 has been created.\n"
     ]
    },
    {
     "name": "stdout",
     "output_type": "stream",
     "text": [
      "PyAEDT INFO: Boundary Block COMP_C19 has been created.\n"
     ]
    },
    {
     "name": "stdout",
     "output_type": "stream",
     "text": [
      "PyAEDT INFO: Boundary Block COMP_C20 has been created.\n"
     ]
    },
    {
     "name": "stdout",
     "output_type": "stream",
     "text": [
      "PyAEDT INFO: Boundary Block COMP_C21 has been created.\n"
     ]
    },
    {
     "name": "stdout",
     "output_type": "stream",
     "text": [
      "PyAEDT INFO: Boundary Block COMP_C22 has been created.\n"
     ]
    },
    {
     "name": "stdout",
     "output_type": "stream",
     "text": [
      "PyAEDT INFO: Boundary Block COMP_C23 has been created.\n"
     ]
    },
    {
     "name": "stdout",
     "output_type": "stream",
     "text": [
      "PyAEDT INFO: Boundary Block COMP_C24 has been created.\n"
     ]
    },
    {
     "name": "stdout",
     "output_type": "stream",
     "text": [
      "PyAEDT INFO: Boundary Block COMP_C25 has been created.\n"
     ]
    },
    {
     "name": "stdout",
     "output_type": "stream",
     "text": [
      "PyAEDT INFO: Boundary Block COMP_C26 has been created.\n"
     ]
    },
    {
     "name": "stdout",
     "output_type": "stream",
     "text": [
      "PyAEDT INFO: Boundary Block COMP_C27 has been created.\n"
     ]
    },
    {
     "name": "stdout",
     "output_type": "stream",
     "text": [
      "PyAEDT INFO: Boundary Block COMP_C28 has been created.\n"
     ]
    },
    {
     "name": "stdout",
     "output_type": "stream",
     "text": [
      "PyAEDT INFO: Boundary Block COMP_C29 has been created.\n"
     ]
    },
    {
     "name": "stdout",
     "output_type": "stream",
     "text": [
      "PyAEDT INFO: Boundary Block COMP_C30 has been created.\n"
     ]
    },
    {
     "name": "stdout",
     "output_type": "stream",
     "text": [
      "PyAEDT INFO: Boundary Block COMP_J1 has been created.\n"
     ]
    },
    {
     "name": "stdout",
     "output_type": "stream",
     "text": [
      "PyAEDT INFO: Boundary Block COMP_Q1 has been created.\n"
     ]
    },
    {
     "name": "stdout",
     "output_type": "stream",
     "text": [
      "PyAEDT INFO: Boundary Block COMP_Q2 has been created.\n"
     ]
    },
    {
     "name": "stdout",
     "output_type": "stream",
     "text": [
      "PyAEDT INFO: Boundary Block COMP_Q3 has been created.\n"
     ]
    },
    {
     "name": "stdout",
     "output_type": "stream",
     "text": [
      "PyAEDT INFO: Boundary Block COMP_Q4 has been created.\n"
     ]
    },
    {
     "name": "stdout",
     "output_type": "stream",
     "text": [
      "PyAEDT INFO: Boundary Block COMP_Q5 has been created.\n"
     ]
    },
    {
     "name": "stdout",
     "output_type": "stream",
     "text": [
      "PyAEDT INFO: Boundary Block COMP_Q6 has been created.\n"
     ]
    },
    {
     "name": "stdout",
     "output_type": "stream",
     "text": [
      "PyAEDT INFO: Boundary Block COMP_Q7 has been created.\n"
     ]
    },
    {
     "name": "stdout",
     "output_type": "stream",
     "text": [
      "PyAEDT INFO: Boundary Block COMP_Q8 has been created.\n"
     ]
    },
    {
     "name": "stdout",
     "output_type": "stream",
     "text": [
      "PyAEDT INFO: Boundary Block COMP_Q9 has been created.\n"
     ]
    },
    {
     "name": "stdout",
     "output_type": "stream",
     "text": [
      "PyAEDT INFO: Boundary Block COMP_Q10 has been created.\n"
     ]
    },
    {
     "name": "stdout",
     "output_type": "stream",
     "text": [
      "PyAEDT INFO: Boundary Block COMP_Q11 has been created.\n"
     ]
    },
    {
     "name": "stdout",
     "output_type": "stream",
     "text": [
      "PyAEDT INFO: Boundary Block COMP_Q12 has been created.\n"
     ]
    },
    {
     "name": "stdout",
     "output_type": "stream",
     "text": [
      "PyAEDT INFO: Boundary Block COMP_Q13 has been created.\n"
     ]
    },
    {
     "name": "stdout",
     "output_type": "stream",
     "text": [
      "PyAEDT INFO: Boundary Block COMP_Q14 has been created.\n"
     ]
    },
    {
     "name": "stdout",
     "output_type": "stream",
     "text": [
      "PyAEDT INFO: Boundary Block COMP_Q15 has been created.\n"
     ]
    },
    {
     "name": "stdout",
     "output_type": "stream",
     "text": [
      "PyAEDT INFO: Boundary Block COMP_Q16 has been created.\n"
     ]
    },
    {
     "name": "stdout",
     "output_type": "stream",
     "text": [
      "PyAEDT INFO: Boundary Block COMP_U1 has been created.\n"
     ]
    },
    {
     "name": "stdout",
     "output_type": "stream",
     "text": [
      "PyAEDT INFO: Boundary Block COMP_U2 has been created.\n"
     ]
    },
    {
     "name": "stdout",
     "output_type": "stream",
     "text": [
      "PyAEDT INFO: Boundary Block COMP_U3 has been created.\n"
     ]
    },
    {
     "name": "stdout",
     "output_type": "stream",
     "text": [
      "PyAEDT INFO: Boundary Block COMP_U4 has been created.\n"
     ]
    },
    {
     "name": "stdout",
     "output_type": "stream",
     "text": [
      "PyAEDT INFO: Boundary Block COMP_U5 has been created.\n"
     ]
    },
    {
     "name": "stdout",
     "output_type": "stream",
     "text": [
      "PyAEDT INFO: Boundary Block COMP_U6 has been created.\n"
     ]
    },
    {
     "name": "stdout",
     "output_type": "stream",
     "text": [
      "PyAEDT INFO: Boundary Block COMP_U7 has been created.\n"
     ]
    },
    {
     "name": "stdout",
     "output_type": "stream",
     "text": [
      "PyAEDT INFO: Boundary Block COMP_U8 has been created.\n"
     ]
    },
    {
     "name": "stdout",
     "output_type": "stream",
     "text": [
      "PyAEDT INFO: Boundary Block COMP_U9 has been created.\n"
     ]
    },
    {
     "name": "stdout",
     "output_type": "stream",
     "text": [
      "PyAEDT INFO: Boundary Block COMP_U10 has been created.\n"
     ]
    },
    {
     "name": "stdout",
     "output_type": "stream",
     "text": [
      "PyAEDT INFO: Boundary Block COMP_U11 has been created.\n"
     ]
    },
    {
     "name": "stdout",
     "output_type": "stream",
     "text": [
      "PyAEDT INFO: Boundary Block COMP_U12 has been created.\n"
     ]
    },
    {
     "name": "stdout",
     "output_type": "stream",
     "text": [
      "PyAEDT INFO: Boundary Block COMP_U13 has been created.\n"
     ]
    },
    {
     "name": "stdout",
     "output_type": "stream",
     "text": [
      "PyAEDT INFO: Boundary Block COMP_U14 has been created.\n"
     ]
    },
    {
     "name": "stdout",
     "output_type": "stream",
     "text": [
      "PyAEDT INFO: Boundary Block COMP_U15 has been created.\n"
     ]
    },
    {
     "name": "stdout",
     "output_type": "stream",
     "text": [
      "PyAEDT INFO: Boundary Block COMP_U16 has been created.\n"
     ]
    },
    {
     "name": "stdout",
     "output_type": "stream",
     "text": [
      "PyAEDT INFO: Blocks inserted with total power 2.2W.\n"
     ]
    }
   ],
   "source": [
    "total_power = ipk.assign_block_from_sherlock_file(csv_name=component_list)"
   ]
  },
  {
   "cell_type": "code",
   "execution_count": 16,
   "id": "ab200545",
   "metadata": {
    "execution": {
     "iopub.execute_input": "2025-10-30T04:41:59.815026Z",
     "iopub.status.busy": "2025-10-30T04:41:59.815026Z",
     "iopub.status.idle": "2025-10-30T04:42:00.462725Z",
     "shell.execute_reply": "2025-10-30T04:42:00.462725Z"
    }
   },
   "outputs": [
    {
     "name": "stdout",
     "output_type": "stream",
     "text": [
      "PyAEDT INFO: Parsing C:\\Users\\ansys\\AppData\\Local\\Temp\\tmp_78g03xk.ansys\\TutorialBoard.aedt.\n"
     ]
    },
    {
     "name": "stdout",
     "output_type": "stream",
     "text": [
      "PyAEDT INFO: File C:\\Users\\ansys\\AppData\\Local\\Temp\\tmp_78g03xk.ansys\\TutorialBoard.aedt correctly loaded. Elapsed time: 0m 0sec\n"
     ]
    },
    {
     "name": "stdout",
     "output_type": "stream",
     "text": [
      "PyAEDT INFO: aedt file load time 0.07868289947509766\n"
     ]
    },
    {
     "name": "stdout",
     "output_type": "stream",
     "text": [
      "PyAEDT INFO: Boundary Opening Opening_ZGP1HC has been created.\n"
     ]
    },
    {
     "data": {
      "text/plain": [
       "<ansys.aedt.core.modules.boundary.common.BoundaryObject at 0x1fcf518fd00>"
      ]
     },
     "execution_count": 16,
     "metadata": {},
     "output_type": "execute_result"
    }
   ],
   "source": [
    "# ## Assign openings\n",
    "#\n",
    "# Assign opening boundary condition to all the faces of the region.\n",
    "ipk.assign_openings(ipk.modeler.get_object_faces(\"Region\"))"
   ]
  },
  {
   "cell_type": "markdown",
   "id": "3f95a279",
   "metadata": {},
   "source": [
    "## Create simulation setup\n",
    "### Set global mesh settings"
   ]
  },
  {
   "cell_type": "code",
   "execution_count": 17,
   "id": "bc864fe1",
   "metadata": {
    "execution": {
     "iopub.execute_input": "2025-10-30T04:42:00.462725Z",
     "iopub.status.busy": "2025-10-30T04:42:00.462725Z",
     "iopub.status.idle": "2025-10-30T04:42:00.494415Z",
     "shell.execute_reply": "2025-10-30T04:42:00.494415Z"
    },
    "lines_to_next_cell": 2
   },
   "outputs": [
    {
     "data": {
      "text/plain": [
       "True"
      ]
     },
     "execution_count": 17,
     "metadata": {},
     "output_type": "execute_result"
    }
   ],
   "source": [
    "ipk.globalMeshSettings(\n",
    "    3,\n",
    "    gap_min_elements=\"1\",\n",
    "    noOgrids=True,\n",
    "    MLM_en=True,\n",
    "    MLM_Type=\"2D\",\n",
    "    edge_min_elements=\"2\",\n",
    "    object=\"Region\",\n",
    ")"
   ]
  },
  {
   "cell_type": "markdown",
   "id": "960dc8e7",
   "metadata": {},
   "source": [
    "### Add postprocessing object\n",
    "Create the point monitor."
   ]
  },
  {
   "cell_type": "code",
   "execution_count": 18,
   "id": "73120b73",
   "metadata": {
    "execution": {
     "iopub.execute_input": "2025-10-30T04:42:00.494415Z",
     "iopub.status.busy": "2025-10-30T04:42:00.494415Z",
     "iopub.status.idle": "2025-10-30T04:42:00.558139Z",
     "shell.execute_reply": "2025-10-30T04:42:00.557553Z"
    }
   },
   "outputs": [],
   "source": [
    "point1 = ipk.monitor.assign_point_monitor(\n",
    "    point_position=ipk.modeler[\"COMP_U10\"].top_face_z.center, monitor_name=\"Point1\"\n",
    ")"
   ]
  },
  {
   "cell_type": "markdown",
   "id": "5bfcf62a",
   "metadata": {},
   "source": [
    "Create a line for reporting after the simulation."
   ]
  },
  {
   "cell_type": "code",
   "execution_count": 19,
   "id": "51ea4924",
   "metadata": {
    "execution": {
     "iopub.execute_input": "2025-10-30T04:42:00.558139Z",
     "iopub.status.busy": "2025-10-30T04:42:00.558139Z",
     "iopub.status.idle": "2025-10-30T04:42:00.604522Z",
     "shell.execute_reply": "2025-10-30T04:42:00.604522Z"
    }
   },
   "outputs": [],
   "source": [
    "line = ipk.modeler.create_polyline(\n",
    "    points=[\n",
    "        ipk.modeler[\"COMP_U10\"].top_face_z.vertices[0].position,\n",
    "        ipk.modeler[\"COMP_U10\"].top_face_z.vertices[2].position,\n",
    "    ],\n",
    "    non_model=True,\n",
    ")"
   ]
  },
  {
   "cell_type": "markdown",
   "id": "e91f0fe7",
   "metadata": {},
   "source": [
    "### Solve\n",
    "To solve quickly, the maximum iterations are set to 20. For better accuracy, you\n",
    "can increase the maximum to at least 100."
   ]
  },
  {
   "cell_type": "code",
   "execution_count": 20,
   "id": "262b616b",
   "metadata": {
    "execution": {
     "iopub.execute_input": "2025-10-30T04:42:00.604522Z",
     "iopub.status.busy": "2025-10-30T04:42:00.604522Z",
     "iopub.status.idle": "2025-10-30T04:42:00.795068Z",
     "shell.execute_reply": "2025-10-30T04:42:00.795068Z"
    }
   },
   "outputs": [],
   "source": [
    "setup1 = ipk.create_setup()\n",
    "setup1.props[\"Solution Initialization - Y Velocity\"] = \"1m_per_sec\"\n",
    "setup1.props[\"Radiation Model\"] = \"Discrete Ordinates Model\"\n",
    "setup1.props[\"Include Gravity\"] = True\n",
    "setup1.props[\"Secondary Gradient\"] = True\n",
    "setup1.props[\"Convergence Criteria - Max Iterations\"] = 100"
   ]
  },
  {
   "cell_type": "markdown",
   "id": "82847c6d",
   "metadata": {},
   "source": [
    "Check for intersections using validation and fix them by\n",
    "assigning priorities."
   ]
  },
  {
   "cell_type": "code",
   "execution_count": 21,
   "id": "7a8d0ebd",
   "metadata": {
    "execution": {
     "iopub.execute_input": "2025-10-30T04:42:00.795068Z",
     "iopub.status.busy": "2025-10-30T04:42:00.795068Z",
     "iopub.status.idle": "2025-10-30T04:42:01.749394Z",
     "shell.execute_reply": "2025-10-30T04:42:01.748264Z"
    }
   },
   "outputs": [
    {
     "name": "stdout",
     "output_type": "stream",
     "text": [
      "PyAEDT INFO: Project TutorialBoard Saved correctly\n"
     ]
    },
    {
     "name": "stdout",
     "output_type": "stream",
     "text": [
      "PyAEDT INFO: 0 Intersections have been found. Applying Priorities\n"
     ]
    },
    {
     "data": {
      "text/plain": [
       "True"
      ]
     },
     "execution_count": 21,
     "metadata": {},
     "output_type": "execute_result"
    }
   ],
   "source": [
    "ipk.assign_priority_on_intersections()"
   ]
  },
  {
   "cell_type": "markdown",
   "id": "e6f6059c",
   "metadata": {},
   "source": [
    "## Release AEDT"
   ]
  },
  {
   "cell_type": "code",
   "execution_count": 22,
   "id": "d39bec4e",
   "metadata": {
    "execution": {
     "iopub.execute_input": "2025-10-30T04:42:01.753420Z",
     "iopub.status.busy": "2025-10-30T04:42:01.749394Z",
     "iopub.status.idle": "2025-10-30T04:42:27.169374Z",
     "shell.execute_reply": "2025-10-30T04:42:27.169374Z"
    }
   },
   "outputs": [
    {
     "name": "stdout",
     "output_type": "stream",
     "text": [
      "PyAEDT INFO: Project TutorialBoard Saved correctly\n"
     ]
    },
    {
     "name": "stdout",
     "output_type": "stream",
     "text": [
      "PyAEDT INFO: Desktop has been released and closed.\n"
     ]
    }
   ],
   "source": [
    "ipk.save_project()\n",
    "ipk.release_desktop()\n",
    "# Wait 3 seconds to allow AEDT to shut down before cleaning the temporary directory.\n",
    "time.sleep(3)"
   ]
  },
  {
   "cell_type": "markdown",
   "id": "51fba999",
   "metadata": {},
   "source": [
    "## Clean up\n",
    "\n",
    "All project files are saved in the folder ``temp_folder.name``.\n",
    "If you've run this example as a Jupyter notebook, you\n",
    "can retrieve those project files. The following cell\n",
    "removes all temporary files, including the project folder."
   ]
  },
  {
   "cell_type": "code",
   "execution_count": 23,
   "id": "e2cf4403",
   "metadata": {
    "execution": {
     "iopub.execute_input": "2025-10-30T04:42:27.169374Z",
     "iopub.status.busy": "2025-10-30T04:42:27.169374Z",
     "iopub.status.idle": "2025-10-30T04:42:27.201291Z",
     "shell.execute_reply": "2025-10-30T04:42:27.201291Z"
    }
   },
   "outputs": [],
   "source": [
    "temp_folder.cleanup()"
   ]
  }
 ],
 "metadata": {
  "jupytext": {
   "cell_metadata_filter": "-all",
   "main_language": "python",
   "notebook_metadata_filter": "-all"
  },
  "language_info": {
   "codemirror_mode": {
    "name": "ipython",
    "version": 3
   },
   "file_extension": ".py",
   "mimetype": "text/x-python",
   "name": "python",
   "nbconvert_exporter": "python",
   "pygments_lexer": "ipython3",
   "version": "3.10.11"
  }
 },
 "nbformat": 4,
 "nbformat_minor": 5
}
