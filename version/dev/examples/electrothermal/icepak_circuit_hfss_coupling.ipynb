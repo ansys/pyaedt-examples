{
 "cells": [
  {
   "cell_type": "markdown",
   "id": "68354b0a",
   "metadata": {},
   "source": [
    "# Circuit-HFSS-Icepak coupling workflow\n",
    "\n",
    "This example shows how to create a two-way coupling\n",
    "between HFSS and Icepak.\n",
    "\n",
    "Consider a design where some components are simulated in\n",
    "HFSS with a full 3D model, while others are simulated in Circuit as lumped elements.\n",
    "The electrical simulation is done by placing the HFSS design into a Circuit design as\n",
    "a subcomponent and connecting the lumped components to its ports.\n",
    "\n",
    "The purpose of the workflow is to perform a thermal simulation\n",
    "of the Circuit-HFSS design, creating a two-way coupling with Icepak\n",
    "that allows running multiple iterations. The losses from both designs\n",
    "are accounted for.\n",
    "- EM losses are evaluated by the HFSS solver and fed into Icepak via a direct link.\n",
    "- Losses from the lumped components in the Circuit design are evaluated\n",
    "analytically and must be manually set into the Icepak boundary.\n",
    "\n",
    "On the back of the coupling, temperature information\n",
    "is handled differently for HFSS and Circuit.\n",
    "\n",
    "- For HFSS, a temperature map is exported from the Icepak design and used to create a\n",
    "3D dataset. Then, the material properties in the HFSS design are updated based on this\n",
    "dataset.\n",
    "- For Circuit, the average temperature of the lumped components is extracted from the\n",
    "Icepak design and used to update the temperature-dependent characteristics of the\n",
    "lumped components in Circuit.\n",
    "\n",
    "The Circuit design in this example contains only a\n",
    "resistor component, with temperature-dependent resistance\n",
    "described by this formula: ``0.162*(1+0.004*(TempE-TempE0))``,\n",
    "where TempE is the current temperature and TempE0 is the\n",
    "ambient temperature. The HFSS design includes only a cylinder\n",
    "with temperature-dependent material conductivity, defined by\n",
    "a 2D dataset. The resistor and the cylinder have\n",
    "matching resistances.\n",
    "\n",
    "Keywords: **Multiphysics**, **HFSS**, **Icepak**, **Circuit**."
   ]
  },
  {
   "cell_type": "markdown",
   "id": "063850e8",
   "metadata": {},
   "source": [
    "## Perform imports and define constants\n",
    "\n",
    "Perform required imports."
   ]
  },
  {
   "cell_type": "code",
   "execution_count": 1,
   "id": "bccff42a",
   "metadata": {
    "execution": {
     "iopub.execute_input": "2025-10-30T04:33:17.013918Z",
     "iopub.status.busy": "2025-10-30T04:33:17.013918Z",
     "iopub.status.idle": "2025-10-30T04:33:20.149907Z",
     "shell.execute_reply": "2025-10-30T04:33:20.149907Z"
    }
   },
   "outputs": [],
   "source": [
    "import os\n",
    "import tempfile\n",
    "import time\n",
    "\n",
    "import ansys.aedt.core as aedt\n",
    "from ansys.aedt.core.examples.downloads import download_file"
   ]
  },
  {
   "cell_type": "markdown",
   "id": "b1ac1a3a",
   "metadata": {},
   "source": [
    "Define constants."
   ]
  },
  {
   "cell_type": "code",
   "execution_count": 2,
   "id": "bf43d536",
   "metadata": {
    "execution": {
     "iopub.execute_input": "2025-10-30T04:33:20.149907Z",
     "iopub.status.busy": "2025-10-30T04:33:20.149907Z",
     "iopub.status.idle": "2025-10-30T04:33:20.166077Z",
     "shell.execute_reply": "2025-10-30T04:33:20.166077Z"
    }
   },
   "outputs": [],
   "source": [
    "AEDT_VERSION = \"2025.2\"\n",
    "NUM_CORES = 4\n",
    "NG_MODE = False  # Open AEDT UI when it is launched."
   ]
  },
  {
   "cell_type": "markdown",
   "id": "0c9f9c48",
   "metadata": {},
   "source": [
    "## Create temporary directory\n",
    "\n",
    "Create a temporary directory where downloaded data or\n",
    "dumped data can be stored.\n",
    "If you'd like to retrieve the project data for subsequent use,\n",
    "the temporary folder name is given by ``temp_folder.name``."
   ]
  },
  {
   "cell_type": "code",
   "execution_count": 3,
   "id": "c19e7395",
   "metadata": {
    "execution": {
     "iopub.execute_input": "2025-10-30T04:33:20.166077Z",
     "iopub.status.busy": "2025-10-30T04:33:20.166077Z",
     "iopub.status.idle": "2025-10-30T04:33:20.181787Z",
     "shell.execute_reply": "2025-10-30T04:33:20.181787Z"
    }
   },
   "outputs": [],
   "source": [
    "temp_folder = tempfile.TemporaryDirectory(suffix=\".ansys\")"
   ]
  },
  {
   "cell_type": "markdown",
   "id": "e857cbaa",
   "metadata": {},
   "source": [
    "## Download and open project\n",
    "\n",
    "Download and open the project. Save it to the temporary folder."
   ]
  },
  {
   "cell_type": "code",
   "execution_count": 4,
   "id": "075f74c9",
   "metadata": {
    "execution": {
     "iopub.execute_input": "2025-10-30T04:33:20.181787Z",
     "iopub.status.busy": "2025-10-30T04:33:20.181787Z",
     "iopub.status.idle": "2025-10-30T04:33:20.731955Z",
     "shell.execute_reply": "2025-10-30T04:33:20.731955Z"
    }
   },
   "outputs": [],
   "source": [
    "project_name = download_file(\n",
    "    \"circuit_hfss_icepak\", \"Circuit-HFSS-Icepak-workflow.aedtz\", temp_folder.name\n",
    ")"
   ]
  },
  {
   "cell_type": "markdown",
   "id": "b097262f",
   "metadata": {},
   "source": [
    "## Launch AEDT and initialize HFSS\n",
    "\n",
    "Launch AEDT and initialize HFSS. If there is an active HFSS design, the ``hfss``\n",
    "object is linked to it. Otherwise, a new design is created."
   ]
  },
  {
   "cell_type": "code",
   "execution_count": 5,
   "id": "55d77179",
   "metadata": {
    "execution": {
     "iopub.execute_input": "2025-10-30T04:33:20.731955Z",
     "iopub.status.busy": "2025-10-30T04:33:20.731955Z",
     "iopub.status.idle": "2025-10-30T04:33:53.748140Z",
     "shell.execute_reply": "2025-10-30T04:33:53.748140Z"
    }
   },
   "outputs": [
    {
     "name": "stdout",
     "output_type": "stream",
     "text": [
      "PyAEDT INFO: Python version 3.10.11 (tags/v3.10.11:7d4cc5a, Apr  5 2023, 00:38:17) [MSC v.1929 64 bit (AMD64)].\n"
     ]
    },
    {
     "name": "stdout",
     "output_type": "stream",
     "text": [
      "PyAEDT INFO: PyAEDT version 0.22.dev0.\n"
     ]
    },
    {
     "name": "stdout",
     "output_type": "stream",
     "text": [
      "PyAEDT INFO: Initializing new Desktop session.\n"
     ]
    },
    {
     "name": "stdout",
     "output_type": "stream",
     "text": [
      "PyAEDT INFO: Log on console is enabled.\n"
     ]
    },
    {
     "name": "stdout",
     "output_type": "stream",
     "text": [
      "PyAEDT INFO: Log on file C:\\Users\\ansys\\AppData\\Local\\Temp\\pyaedt_ansys_4b3541f3-d29d-496d-b3e3-535a87e448b4.log is enabled.\n"
     ]
    },
    {
     "name": "stdout",
     "output_type": "stream",
     "text": [
      "PyAEDT INFO: Log on AEDT is disabled.\n"
     ]
    },
    {
     "name": "stdout",
     "output_type": "stream",
     "text": [
      "PyAEDT INFO: Debug logger is disabled. PyAEDT methods will not be logged.\n"
     ]
    },
    {
     "name": "stdout",
     "output_type": "stream",
     "text": [
      "PyAEDT INFO: Launching PyAEDT with gRPC plugin.\n"
     ]
    },
    {
     "name": "stdout",
     "output_type": "stream",
     "text": [
      "PyAEDT INFO: New AEDT session is starting on gRPC port 50718.\n"
     ]
    },
    {
     "name": "stdout",
     "output_type": "stream",
     "text": [
      "PyAEDT INFO: Electronics Desktop started on gRPC port: 50718 after 10.157451629638672 seconds.\n"
     ]
    },
    {
     "name": "stdout",
     "output_type": "stream",
     "text": [
      "PyAEDT INFO: AEDT installation Path C:\\Program Files\\ANSYS Inc\\v252\\AnsysEM\n"
     ]
    },
    {
     "name": "stdout",
     "output_type": "stream",
     "text": [
      "PyAEDT INFO: Ansoft.ElectronicsDesktop.2025.2 version started with process ID 8516.\n"
     ]
    },
    {
     "name": "stdout",
     "output_type": "stream",
     "text": [
      "PyAEDT INFO: Archive Circuit-HFSS-Icepak-workflow has been restored to project Circuit-HFSS-Icepak-workflow\n"
     ]
    },
    {
     "name": "stdout",
     "output_type": "stream",
     "text": [
      "PyAEDT INFO: Active Design set to 22;Circuit_Sfreq_Temp\n"
     ]
    },
    {
     "name": "stdout",
     "output_type": "stream",
     "text": [
      "PyAEDT INFO: Active Design set to 22;Circuit_Sfreq_Temp\n"
     ]
    },
    {
     "name": "stdout",
     "output_type": "stream",
     "text": [
      "PyAEDT INFO: Aedt Objects correctly read\n"
     ]
    }
   ],
   "source": [
    "circuit = aedt.Circuit(\n",
    "    project=project_name,\n",
    "    new_desktop=True,\n",
    "    version=AEDT_VERSION,\n",
    "    non_graphical=NG_MODE,\n",
    ")"
   ]
  },
  {
   "cell_type": "markdown",
   "id": "152ecdb8",
   "metadata": {},
   "source": [
    "## Set variable names\n",
    "\n",
    "Set the name of the resistor in Circuit."
   ]
  },
  {
   "cell_type": "code",
   "execution_count": 6,
   "id": "f2db1529",
   "metadata": {
    "execution": {
     "iopub.execute_input": "2025-10-30T04:33:53.748140Z",
     "iopub.status.busy": "2025-10-30T04:33:53.748140Z",
     "iopub.status.idle": "2025-10-30T04:33:53.763983Z",
     "shell.execute_reply": "2025-10-30T04:33:53.763983Z"
    }
   },
   "outputs": [],
   "source": [
    "resistor_body_name = \"Circuit_Component\""
   ]
  },
  {
   "cell_type": "markdown",
   "id": "a58f6831",
   "metadata": {},
   "source": [
    "Set the name of the cylinder body in HFSS."
   ]
  },
  {
   "cell_type": "code",
   "execution_count": 7,
   "id": "3de813cd",
   "metadata": {
    "execution": {
     "iopub.execute_input": "2025-10-30T04:33:53.763983Z",
     "iopub.status.busy": "2025-10-30T04:33:53.763983Z",
     "iopub.status.idle": "2025-10-30T04:33:53.779825Z",
     "shell.execute_reply": "2025-10-30T04:33:53.779825Z"
    }
   },
   "outputs": [],
   "source": [
    "device3D_body_name = \"Device_3D\""
   ]
  },
  {
   "cell_type": "markdown",
   "id": "e936fd0a",
   "metadata": {},
   "source": [
    "## Get HFSS design\n",
    "\n",
    "Get the HFSS design and prepare the material for the thermal link."
   ]
  },
  {
   "cell_type": "code",
   "execution_count": 8,
   "id": "8a8bbf95",
   "metadata": {
    "execution": {
     "iopub.execute_input": "2025-10-30T04:33:53.779825Z",
     "iopub.status.busy": "2025-10-30T04:33:53.779825Z",
     "iopub.status.idle": "2025-10-30T04:33:53.842487Z",
     "shell.execute_reply": "2025-10-30T04:33:53.842487Z"
    }
   },
   "outputs": [
    {
     "name": "stdout",
     "output_type": "stream",
     "text": [
      "PyAEDT INFO: Python version 3.10.11 (tags/v3.10.11:7d4cc5a, Apr  5 2023, 00:38:17) [MSC v.1929 64 bit (AMD64)].\n"
     ]
    },
    {
     "name": "stdout",
     "output_type": "stream",
     "text": [
      "PyAEDT INFO: PyAEDT version 0.22.dev0.\n"
     ]
    },
    {
     "name": "stdout",
     "output_type": "stream",
     "text": [
      "PyAEDT INFO: Returning found Desktop session with PID 8516!\n"
     ]
    },
    {
     "name": "stdout",
     "output_type": "stream",
     "text": [
      "PyAEDT INFO: Project Circuit-HFSS-Icepak-workflow set to active.\n"
     ]
    },
    {
     "name": "stdout",
     "output_type": "stream",
     "text": [
      "PyAEDT INFO: Active Design set to EM_M_II_HALF\n"
     ]
    },
    {
     "name": "stdout",
     "output_type": "stream",
     "text": [
      "PyAEDT INFO: Active Design set to EM_M_II_HALF\n"
     ]
    },
    {
     "name": "stdout",
     "output_type": "stream",
     "text": [
      "PyAEDT INFO: Aedt Objects correctly read\n"
     ]
    }
   ],
   "source": [
    "hfss = aedt.Hfss(project=circuit.project_name)"
   ]
  },
  {
   "cell_type": "markdown",
   "id": "69346948",
   "metadata": {},
   "source": [
    "## Create a material\n",
    "\n",
    "Create a material to be used to set the temperature map on it.\n",
    "The material is created by duplicating the material assigned to the cylinder."
   ]
  },
  {
   "cell_type": "code",
   "execution_count": 9,
   "id": "685cb525",
   "metadata": {
    "execution": {
     "iopub.execute_input": "2025-10-30T04:33:53.842487Z",
     "iopub.status.busy": "2025-10-30T04:33:53.842487Z",
     "iopub.status.idle": "2025-10-30T04:33:55.843378Z",
     "shell.execute_reply": "2025-10-30T04:33:55.843378Z"
    }
   },
   "outputs": [
    {
     "name": "stdout",
     "output_type": "stream",
     "text": [
      "PyAEDT INFO: Modeler class has been initialized! Elapsed time: 0m 1sec\n"
     ]
    },
    {
     "name": "stdout",
     "output_type": "stream",
     "text": [
      "PyAEDT INFO: Parsing design objects. This operation can take time\n"
     ]
    },
    {
     "name": "stdout",
     "output_type": "stream",
     "text": [
      "PyAEDT INFO: Refreshing bodies from Object Info\n"
     ]
    },
    {
     "name": "stdout",
     "output_type": "stream",
     "text": [
      "PyAEDT INFO: Bodies Info Refreshed Elapsed time: 0m 0sec\n"
     ]
    },
    {
     "name": "stdout",
     "output_type": "stream",
     "text": [
      "PyAEDT INFO: 3D Modeler objects parsed. Elapsed time: 0m 0sec\n"
     ]
    },
    {
     "name": "stdout",
     "output_type": "stream",
     "text": [
      "PyAEDT INFO: Materials class has been initialized! Elapsed time: 0m 0sec\n"
     ]
    }
   ],
   "source": [
    "material_name = hfss.modeler.objects_by_name[device3D_body_name].material_name\n",
    "new_material_name = material_name + \"_dataset\"\n",
    "new_material = hfss.materials.duplicate_material(\n",
    "    material=material_name, name=new_material_name\n",
    ")"
   ]
  },
  {
   "cell_type": "markdown",
   "id": "0c5302b6",
   "metadata": {},
   "source": [
    "## Modify material properties\n",
    "\n",
    "Save the conductivity value. It is used later in the iterations."
   ]
  },
  {
   "cell_type": "code",
   "execution_count": 10,
   "id": "4f4c3d6e",
   "metadata": {
    "execution": {
     "iopub.execute_input": "2025-10-30T04:33:55.843378Z",
     "iopub.status.busy": "2025-10-30T04:33:55.843378Z",
     "iopub.status.idle": "2025-10-30T04:33:55.859292Z",
     "shell.execute_reply": "2025-10-30T04:33:55.859292Z"
    }
   },
   "outputs": [],
   "source": [
    "old_conductivity = new_material.conductivity.value"
   ]
  },
  {
   "cell_type": "markdown",
   "id": "9fb49882",
   "metadata": {},
   "source": [
    "Assign the new material to the cylinder object in HFSS."
   ]
  },
  {
   "cell_type": "code",
   "execution_count": 11,
   "id": "daa98a65",
   "metadata": {
    "execution": {
     "iopub.execute_input": "2025-10-30T04:33:55.859292Z",
     "iopub.status.busy": "2025-10-30T04:33:55.859292Z",
     "iopub.status.idle": "2025-10-30T04:33:55.891556Z",
     "shell.execute_reply": "2025-10-30T04:33:55.891556Z"
    }
   },
   "outputs": [],
   "source": [
    "hfss.modeler.objects_by_name[device3D_body_name].material_name = new_material_name"
   ]
  },
  {
   "cell_type": "markdown",
   "id": "cd529f0b",
   "metadata": {},
   "source": [
    "Because this material has a high conductivity, HFSS automatically deactivates ``solve_inside``.\n",
    "It must be turned back on to evaluate the losses inside the cylinder."
   ]
  },
  {
   "cell_type": "code",
   "execution_count": 12,
   "id": "e8ae2473",
   "metadata": {
    "execution": {
     "iopub.execute_input": "2025-10-30T04:33:55.895707Z",
     "iopub.status.busy": "2025-10-30T04:33:55.895707Z",
     "iopub.status.idle": "2025-10-30T04:33:55.923962Z",
     "shell.execute_reply": "2025-10-30T04:33:55.923287Z"
    }
   },
   "outputs": [],
   "source": [
    "hfss.modeler.objects_by_name[device3D_body_name].solve_inside = True"
   ]
  },
  {
   "cell_type": "markdown",
   "id": "37ac48b5",
   "metadata": {},
   "source": [
    "## Get Icepak design"
   ]
  },
  {
   "cell_type": "code",
   "execution_count": 13,
   "id": "e13c6e16",
   "metadata": {
    "execution": {
     "iopub.execute_input": "2025-10-30T04:33:55.923962Z",
     "iopub.status.busy": "2025-10-30T04:33:55.923962Z",
     "iopub.status.idle": "2025-10-30T04:33:55.986606Z",
     "shell.execute_reply": "2025-10-30T04:33:55.986606Z"
    }
   },
   "outputs": [
    {
     "name": "stdout",
     "output_type": "stream",
     "text": [
      "PyAEDT INFO: Python version 3.10.11 (tags/v3.10.11:7d4cc5a, Apr  5 2023, 00:38:17) [MSC v.1929 64 bit (AMD64)].\n"
     ]
    },
    {
     "name": "stdout",
     "output_type": "stream",
     "text": [
      "PyAEDT INFO: PyAEDT version 0.22.dev0.\n"
     ]
    },
    {
     "name": "stdout",
     "output_type": "stream",
     "text": [
      "PyAEDT INFO: Returning found Desktop session with PID 8516!\n"
     ]
    },
    {
     "name": "stdout",
     "output_type": "stream",
     "text": [
      "PyAEDT INFO: Project Circuit-HFSS-Icepak-workflow set to active.\n"
     ]
    },
    {
     "name": "stdout",
     "output_type": "stream",
     "text": [
      "PyAEDT INFO: Active Design set to Thermal_Half\n"
     ]
    },
    {
     "name": "stdout",
     "output_type": "stream",
     "text": [
      "PyAEDT INFO: Active Design set to Thermal_Half\n"
     ]
    },
    {
     "name": "stdout",
     "output_type": "stream",
     "text": [
      "PyAEDT INFO: Aedt Objects correctly read\n"
     ]
    }
   ],
   "source": [
    "icepak = aedt.Icepak(project=circuit.project_name)"
   ]
  },
  {
   "cell_type": "markdown",
   "id": "4701b4e7",
   "metadata": {},
   "source": [
    "## Set parameters for iterations\n",
    "\n",
    "Set the initial temperature to a value closer to the final one, to speed up the convergence."
   ]
  },
  {
   "cell_type": "code",
   "execution_count": 14,
   "id": "9c3ecaa6",
   "metadata": {
    "execution": {
     "iopub.execute_input": "2025-10-30T04:33:55.986606Z",
     "iopub.status.busy": "2025-10-30T04:33:55.986606Z",
     "iopub.status.idle": "2025-10-30T04:33:56.034193Z",
     "shell.execute_reply": "2025-10-30T04:33:56.034193Z"
    }
   },
   "outputs": [],
   "source": [
    "circuit[\"TempE\"] = \"300cel\""
   ]
  },
  {
   "cell_type": "markdown",
   "id": "9f30dee6",
   "metadata": {},
   "source": [
    "Set the maximum number of iterations."
   ]
  },
  {
   "cell_type": "code",
   "execution_count": 15,
   "id": "b5d0ad86",
   "metadata": {
    "execution": {
     "iopub.execute_input": "2025-10-30T04:33:56.034193Z",
     "iopub.status.busy": "2025-10-30T04:33:56.034193Z",
     "iopub.status.idle": "2025-10-30T04:33:56.050282Z",
     "shell.execute_reply": "2025-10-30T04:33:56.050282Z"
    }
   },
   "outputs": [],
   "source": [
    "max_iter = 2"
   ]
  },
  {
   "cell_type": "markdown",
   "id": "bc763237",
   "metadata": {},
   "source": [
    "Set the residual convergence criteria to stop the iterations."
   ]
  },
  {
   "cell_type": "code",
   "execution_count": 16,
   "id": "c57ba094",
   "metadata": {
    "execution": {
     "iopub.execute_input": "2025-10-30T04:33:56.050282Z",
     "iopub.status.busy": "2025-10-30T04:33:56.050282Z",
     "iopub.status.idle": "2025-10-30T04:33:56.066206Z",
     "shell.execute_reply": "2025-10-30T04:33:56.066206Z"
    }
   },
   "outputs": [],
   "source": [
    "temp_residual_limit = 0.02\n",
    "loss_residual_limit = 0.02"
   ]
  },
  {
   "cell_type": "markdown",
   "id": "f832b439",
   "metadata": {},
   "source": [
    "This variable is to contain iteration statistics."
   ]
  },
  {
   "cell_type": "code",
   "execution_count": 17,
   "id": "e4fd34fd",
   "metadata": {
    "execution": {
     "iopub.execute_input": "2025-10-30T04:33:56.066206Z",
     "iopub.status.busy": "2025-10-30T04:33:56.066206Z",
     "iopub.status.idle": "2025-10-30T04:33:56.082403Z",
     "shell.execute_reply": "2025-10-30T04:33:56.082403Z"
    }
   },
   "outputs": [],
   "source": [
    "stats = {}"
   ]
  },
  {
   "cell_type": "markdown",
   "id": "945938fd",
   "metadata": {},
   "source": [
    "## Start iterations\n",
    "\n",
    "Each ``for`` loop is a complete two-way iteration.\n",
    "The code is thoroughly commented.\n",
    "For a full understanding, read the inline comments carefully."
   ]
  },
  {
   "cell_type": "code",
   "execution_count": 18,
   "id": "051c6263",
   "metadata": {
    "execution": {
     "iopub.execute_input": "2025-10-30T04:33:56.082403Z",
     "iopub.status.busy": "2025-10-30T04:33:56.082403Z",
     "iopub.status.idle": "2025-10-30T04:40:13.536426Z",
     "shell.execute_reply": "2025-10-30T04:40:13.536426Z"
    }
   },
   "outputs": [
    {
     "name": "stdout",
     "output_type": "stream",
     "text": [
      "PyAEDT INFO: Project Circuit-HFSS-Icepak-workflow Saved correctly\n"
     ]
    },
    {
     "name": "stdout",
     "output_type": "stream",
     "text": [
      "PyAEDT INFO: Key Desktop/ActiveDSOConfigurations/HFSS correctly changed.\n"
     ]
    },
    {
     "name": "stdout",
     "output_type": "stream",
     "text": [
      "PyAEDT INFO: Solving all design setups. Analysis started...\n"
     ]
    },
    {
     "name": "stdout",
     "output_type": "stream",
     "text": [
      "PyAEDT INFO: Design setup None solved correctly in 0.0h 0.0m 54.0s\n"
     ]
    },
    {
     "name": "stdout",
     "output_type": "stream",
     "text": [
      "PyAEDT INFO: Key Desktop/ActiveDSOConfigurations/HFSS correctly changed.\n"
     ]
    },
    {
     "name": "stdout",
     "output_type": "stream",
     "text": [
      "PyAEDT INFO: ModelerCircuit class has been initialized! Elapsed time: 0m 0sec\n"
     ]
    },
    {
     "name": "stdout",
     "output_type": "stream",
     "text": [
      "PyAEDT INFO: ModelerNexxim class has been initialized!\n"
     ]
    },
    {
     "name": "stdout",
     "output_type": "stream",
     "text": [
      "PyAEDT INFO: Modeler class has been initialized! Elapsed time: 0m 0sec\n"
     ]
    },
    {
     "name": "stdout",
     "output_type": "stream",
     "text": [
      "PyAEDT INFO: Project Circuit-HFSS-Icepak-workflow Saved correctly\n"
     ]
    },
    {
     "name": "stdout",
     "output_type": "stream",
     "text": [
      "PyAEDT INFO: Solving all design setups. Analysis started...\n"
     ]
    },
    {
     "name": "stdout",
     "output_type": "stream",
     "text": [
      "PyAEDT INFO: Design setup None solved correctly in 0.0h 0.0m 7.0s\n"
     ]
    },
    {
     "name": "stdout",
     "output_type": "stream",
     "text": [
      "PyAEDT INFO: Post class has been initialized! Elapsed time: 0m 0sec\n"
     ]
    },
    {
     "name": "stdout",
     "output_type": "stream",
     "text": [
      "PyAEDT INFO: Parsing C:\\Users\\ansys\\AppData\\Local\\Temp\\tmp6wd7brge.ansys\\circuit_hfss_icepak\\Circuit-HFSS-Icepak-workflow.aedt.\n"
     ]
    },
    {
     "name": "stdout",
     "output_type": "stream",
     "text": [
      "PyAEDT INFO: File C:\\Users\\ansys\\AppData\\Local\\Temp\\tmp6wd7brge.ansys\\circuit_hfss_icepak\\Circuit-HFSS-Icepak-workflow.aedt correctly loaded. Elapsed time: 0m 0sec\n"
     ]
    },
    {
     "name": "stdout",
     "output_type": "stream",
     "text": [
      "PyAEDT INFO: aedt file load time 0.126448392868042\n"
     ]
    },
    {
     "name": "stdout",
     "output_type": "stream",
     "text": [
      "PyAEDT WARNING: No report category provided. Automatically identified Standard\n"
     ]
    },
    {
     "name": "stdout",
     "output_type": "stream",
     "text": [
      "PyAEDT INFO: Solution Data Correctly Loaded.\n"
     ]
    },
    {
     "name": "stdout",
     "output_type": "stream",
     "text": [
      "Time to initialize solution data:0.0\n",
      "Time to initialize solution data:0.016057729721069336\n",
      "PyAEDT INFO: Modeler class has been initialized! Elapsed time: 0m 0sec\n"
     ]
    },
    {
     "name": "stderr",
     "output_type": "stream",
     "text": [
      "C:\\actions-runner\\_work\\pyaedt-examples\\pyaedt-examples\\.venv\\lib\\site-packages\\ansys\\aedt\\core\\visualization\\post\\solution_data.py:461: UserWarning: Method `data_magnitude` is deprecated. Use :func:`get_expression_data` property instead.\n",
      "  warnings.warn(\"Method `data_magnitude` is deprecated. Use :func:`get_expression_data` property instead.\")\n"
     ]
    },
    {
     "name": "stdout",
     "output_type": "stream",
     "text": [
      "PyAEDT INFO: Project Circuit-HFSS-Icepak-workflow Saved correctly\n"
     ]
    },
    {
     "name": "stdout",
     "output_type": "stream",
     "text": [
      "PyAEDT INFO: Key Desktop/ActiveDSOConfigurations/Icepak correctly changed.\n"
     ]
    },
    {
     "name": "stdout",
     "output_type": "stream",
     "text": [
      "PyAEDT INFO: Solving all design setups. Analysis started...\n"
     ]
    },
    {
     "name": "stdout",
     "output_type": "stream",
     "text": [
      "PyAEDT INFO: Design setup None solved correctly in 0.0h 1.0m 19.0s\n"
     ]
    },
    {
     "name": "stdout",
     "output_type": "stream",
     "text": [
      "PyAEDT INFO: Key Desktop/ActiveDSOConfigurations/Icepak correctly changed.\n"
     ]
    },
    {
     "name": "stdout",
     "output_type": "stream",
     "text": [
      "PyAEDT INFO: Parsing C:\\Users\\ansys\\AppData\\Local\\Temp\\tmp6wd7brge.ansys\\circuit_hfss_icepak\\Circuit-HFSS-Icepak-workflow.aedt.\n"
     ]
    },
    {
     "name": "stdout",
     "output_type": "stream",
     "text": [
      "PyAEDT INFO: File C:\\Users\\ansys\\AppData\\Local\\Temp\\tmp6wd7brge.ansys\\circuit_hfss_icepak\\Circuit-HFSS-Icepak-workflow.aedt correctly loaded. Elapsed time: 0m 0sec\n"
     ]
    },
    {
     "name": "stdout",
     "output_type": "stream",
     "text": [
      "PyAEDT INFO: aedt file load time 0.11124634742736816\n"
     ]
    },
    {
     "name": "stdout",
     "output_type": "stream",
     "text": [
      "PyAEDT INFO: PostProcessor class has been initialized! Elapsed time: 0m 0sec\n"
     ]
    },
    {
     "name": "stdout",
     "output_type": "stream",
     "text": [
      "PyAEDT INFO: Post class has been initialized! Elapsed time: 0m 0sec\n"
     ]
    },
    {
     "name": "stdout",
     "output_type": "stream",
     "text": [
      "PyAEDT INFO: Exporting 'Temp' field. Please be patient.\n"
     ]
    },
    {
     "name": "stdout",
     "output_type": "stream",
     "text": [
      "PyAEDT INFO: Dataset temp_map_step_1 doesn't exist.\n"
     ]
    },
    {
     "name": "stdout",
     "output_type": "stream",
     "text": [
      "PyAEDT INFO: Dataset $temp_map_step_1 created successfully.\n"
     ]
    },
    {
     "name": "stdout",
     "output_type": "stream",
     "text": [
      "PyAEDT INFO: Exporting Temp field. Be patient\n"
     ]
    },
    {
     "name": "stdout",
     "output_type": "stream",
     "text": [
      "PyAEDT INFO: Project Circuit-HFSS-Icepak-workflow Saved correctly\n"
     ]
    },
    {
     "name": "stdout",
     "output_type": "stream",
     "text": [
      "PyAEDT INFO: Project Circuit-HFSS-Icepak-workflow Saved correctly\n"
     ]
    },
    {
     "name": "stdout",
     "output_type": "stream",
     "text": [
      "PyAEDT INFO: Key Desktop/ActiveDSOConfigurations/HFSS correctly changed.\n"
     ]
    },
    {
     "name": "stdout",
     "output_type": "stream",
     "text": [
      "PyAEDT INFO: Solving all design setups. Analysis started...\n"
     ]
    },
    {
     "name": "stdout",
     "output_type": "stream",
     "text": [
      "PyAEDT INFO: Design setup None solved correctly in 0.0h 1.0m 25.0s\n"
     ]
    },
    {
     "name": "stdout",
     "output_type": "stream",
     "text": [
      "PyAEDT INFO: Key Desktop/ActiveDSOConfigurations/HFSS correctly changed.\n"
     ]
    },
    {
     "name": "stdout",
     "output_type": "stream",
     "text": [
      "PyAEDT INFO: Project Circuit-HFSS-Icepak-workflow Saved correctly\n"
     ]
    },
    {
     "name": "stdout",
     "output_type": "stream",
     "text": [
      "PyAEDT INFO: Solving all design setups. Analysis started...\n"
     ]
    },
    {
     "name": "stdout",
     "output_type": "stream",
     "text": [
      "PyAEDT INFO: Design setup None solved correctly in 0.0h 0.0m 8.0s\n"
     ]
    },
    {
     "name": "stdout",
     "output_type": "stream",
     "text": [
      "PyAEDT WARNING: No report category provided. Automatically identified Standard\n"
     ]
    },
    {
     "name": "stdout",
     "output_type": "stream",
     "text": [
      "PyAEDT INFO: Solution Data Correctly Loaded.\n"
     ]
    },
    {
     "name": "stdout",
     "output_type": "stream",
     "text": [
      "Time to initialize solution data:0.015859603881835938\n",
      "Time to initialize solution data:0.015859603881835938\n"
     ]
    },
    {
     "name": "stdout",
     "output_type": "stream",
     "text": [
      "PyAEDT INFO: Project Circuit-HFSS-Icepak-workflow Saved correctly\n"
     ]
    },
    {
     "name": "stdout",
     "output_type": "stream",
     "text": [
      "PyAEDT INFO: Key Desktop/ActiveDSOConfigurations/Icepak correctly changed.\n"
     ]
    },
    {
     "name": "stdout",
     "output_type": "stream",
     "text": [
      "PyAEDT INFO: Solving all design setups. Analysis started...\n"
     ]
    },
    {
     "name": "stdout",
     "output_type": "stream",
     "text": [
      "PyAEDT INFO: Design setup None solved correctly in 0.0h 1.0m 53.0s\n"
     ]
    },
    {
     "name": "stdout",
     "output_type": "stream",
     "text": [
      "PyAEDT INFO: Key Desktop/ActiveDSOConfigurations/Icepak correctly changed.\n"
     ]
    },
    {
     "name": "stdout",
     "output_type": "stream",
     "text": [
      "PyAEDT INFO: Exporting 'Temp' field. Please be patient.\n"
     ]
    },
    {
     "name": "stdout",
     "output_type": "stream",
     "text": [
      "PyAEDT INFO: Dataset temp_map_step_2 doesn't exist.\n"
     ]
    },
    {
     "name": "stdout",
     "output_type": "stream",
     "text": [
      "PyAEDT INFO: Dataset $temp_map_step_2 created successfully.\n"
     ]
    },
    {
     "name": "stdout",
     "output_type": "stream",
     "text": [
      "PyAEDT INFO: Exporting Temp field. Be patient\n"
     ]
    },
    {
     "name": "stdout",
     "output_type": "stream",
     "text": [
      "PyAEDT INFO: Project Circuit-HFSS-Icepak-workflow Saved correctly\n"
     ]
    }
   ],
   "source": [
    "for cp_iter in range(1, max_iter + 1):\n",
    "    stats[cp_iter] = {}\n",
    "\n",
    "    # Step 1: Solve the HFSS design.\n",
    "    #\n",
    "    # Solve the HFSS design.\n",
    "    hfss.analyze(cores=NUM_CORES)\n",
    "\n",
    "    # Step 2: Refresh the dynamic link and solve the Circuit design.\n",
    "    #\n",
    "    # Find the HFSS subcomponent in Circuit.\n",
    "    # This information is required by the ``refresh_dynamic_link()`` and ``push_excitations()`` methods.\n",
    "    hfss_component_name = \"\"\n",
    "    hfss_instance_name = \"\"\n",
    "    for component in circuit.modeler.components.components.values():\n",
    "        if (\n",
    "            component.model_name is not None\n",
    "            and hfss.design_name in component.model_name\n",
    "        ):\n",
    "            hfss_component_name = component.model_name\n",
    "            hfss_instance_name = component.refdes\n",
    "            break\n",
    "    if not hfss_component_name or not hfss_instance_name:\n",
    "        raise \"Hfss component not found in Circuit design\"\n",
    "\n",
    "    # Refresh the dynamic link.\n",
    "    circuit.modeler.schematic.refresh_dynamic_link(name=hfss_component_name)\n",
    "\n",
    "    # Solve the Circuit design.\n",
    "    circuit.analyze()\n",
    "\n",
    "    # Step 3: Push the excitations. (HFSS design results are scaled automatically.)\n",
    "    #\n",
    "    # Push the excitations.\n",
    "    circuit.push_excitations(instance=hfss_instance_name)\n",
    "\n",
    "    # Step 4: Extract the resistor's power loss value from the Circuit design.\n",
    "    #\n",
    "    # Evaluate the power loss on the resistor.\n",
    "    r_losses = circuit.post.get_solution_data(\n",
    "        expressions=\"0.5*mag(I(I1)*V(V1))\"\n",
    "    ).data_magnitude()[0]\n",
    "\n",
    "    # Save the losses in the stats.\n",
    "    stats[cp_iter][\"losses\"] = r_losses\n",
    "\n",
    "    # Step 5: Set the resistor's power loss value in the Icepak design (block thermal condition)\n",
    "    #\n",
    "    # Find the solid block boundary in Icepak.\n",
    "    boundaries = icepak.boundaries\n",
    "    boundary = None\n",
    "    for bb in boundaries:\n",
    "        if bb.name == \"Block1\":\n",
    "            boundary = bb\n",
    "            break\n",
    "    if not boundary:\n",
    "        raise \"Block boundary not defined in Icepak design.\"\n",
    "\n",
    "    # Set the resistor's power loss in the Block Boundary.\n",
    "    boundary.props[\"Total Power\"] = str(r_losses) + \"W\"\n",
    "\n",
    "    # Step 6: Solve the Icepak design.\n",
    "    #\n",
    "    # Clear linked data. Otherwise, Icepak continues to run the simulation with the initial losses.\n",
    "    icepak.clear_linked_data()\n",
    "\n",
    "    # Solve the Icepak design.\n",
    "    icepak.analyze(cores=NUM_CORES)\n",
    "\n",
    "    # Step 7: Export the temperature map from the Icepak design and create a new 3D dataset with it.\n",
    "    #\n",
    "    # Export the temperature map to a file.\n",
    "    fld_filename = os.path.join(\n",
    "        icepak.working_directory, f\"temperature_map_{cp_iter}.fld\"\n",
    "    )\n",
    "    icepak.post.export_field_file(\n",
    "        quantity=\"Temp\",\n",
    "        output_file=fld_filename,\n",
    "        assignment=\"AllObjects\",\n",
    "        objects_type=\"Vol\",\n",
    "    )\n",
    "\n",
    "    # Convert the FLD file into a dataset tab file compatible with the dataset import.\n",
    "    # The existing header lines must be removed and replaced with a single header line\n",
    "    # containing the value unit.\n",
    "    with open(fld_filename, \"r\") as f:\n",
    "        lines = f.readlines()\n",
    "\n",
    "    _ = lines.pop(0)\n",
    "    _ = lines.pop(0)\n",
    "    lines.insert(0, '\"X\"    \"Y\" \"Z\" \"cel\"\\n')\n",
    "\n",
    "    basename, _ = os.path.splitext(fld_filename)\n",
    "    tab_filename = basename + \"_dataset.tab\"\n",
    "\n",
    "    with open(tab_filename, \"w\") as f:\n",
    "        f.writelines(lines)\n",
    "\n",
    "    # Import the 3D dataset.\n",
    "    dataset_name = f\"temp_map_step_{cp_iter}\"\n",
    "    hfss.import_dataset3d(\n",
    "        input_file=tab_filename, name=dataset_name, is_project_dataset=True\n",
    "    )\n",
    "\n",
    "    # Step 8: Update material properties in the HFSS design based on the new dataset.\n",
    "    #\n",
    "    # Set the new conductivity value.\n",
    "    new_material.conductivity.value = (\n",
    "        f\"{old_conductivity}*Pwl($TempDepCond,clp(${dataset_name},X,Y,Z))\"\n",
    "    )\n",
    "\n",
    "    # Switch off the thermal modifier of the material, if any.\n",
    "    new_material.conductivity.thermalmodifier = None\n",
    "\n",
    "    # Step 9: Extract the average temperature of the resistor from the Icepak design.\n",
    "    #\n",
    "    # Get the mean temperature value on the high-resistivity object.\n",
    "    mean_temp = icepak.post.get_scalar_field_value(\n",
    "        quantity=\"Temp\", scalar_function=\"Mean\", object_name=resistor_body_name\n",
    "    )\n",
    "\n",
    "    # Save the temperature in the iteration statistics.\n",
    "    stats[cp_iter][\"temp\"] = mean_temp\n",
    "\n",
    "    # Step 10: Update the resistance value in the Circuit design.\n",
    "    #\n",
    "    # Set this temperature in Circuit in the ``TempE`` variable.\n",
    "    circuit[\"TempE\"] = f\"{mean_temp}cel\"\n",
    "\n",
    "    # Save the project\n",
    "    circuit.save_project()\n",
    "\n",
    "    # Check the convergence of the iteration\n",
    "    #\n",
    "    # Evaluate the relative residuals on temperature and losses.\n",
    "    # If the residuals are smaller than the threshold, set the convergence flag to ``True```.\n",
    "    # Residuals are calculated starting from the second iteration.\n",
    "    converged = False\n",
    "    stats[cp_iter][\"converged\"] = converged\n",
    "    if cp_iter > 1:\n",
    "        delta_temp = abs(stats[cp_iter][\"temp\"] - stats[cp_iter - 1][\"temp\"]) / abs(\n",
    "            stats[cp_iter - 1][\"temp\"]\n",
    "        )\n",
    "        delta_losses = abs(\n",
    "            stats[cp_iter][\"losses\"] - stats[cp_iter - 1][\"losses\"]\n",
    "        ) / abs(stats[cp_iter - 1][\"losses\"])\n",
    "        if delta_temp <= temp_residual_limit and delta_losses <= loss_residual_limit:\n",
    "            converged = True\n",
    "            stats[cp_iter][\"converged\"] = converged\n",
    "    else:\n",
    "        delta_temp = None\n",
    "        delta_losses = None\n",
    "\n",
    "    # Save the relative residuals in the iteration stats.\n",
    "    stats[cp_iter][\"delta_temp\"] = delta_temp\n",
    "    stats[cp_iter][\"delta_losses\"] = delta_losses\n",
    "\n",
    "    # Exit from the loop if the convergence is reached.\n",
    "    if converged:\n",
    "        break"
   ]
  },
  {
   "cell_type": "markdown",
   "id": "394e8308",
   "metadata": {},
   "source": [
    "## Print overall statistics\n",
    "\n",
    "Print the overall statistics for the multiphysics loop."
   ]
  },
  {
   "cell_type": "code",
   "execution_count": 19,
   "id": "261b10e7",
   "metadata": {
    "execution": {
     "iopub.execute_input": "2025-10-30T04:40:13.536426Z",
     "iopub.status.busy": "2025-10-30T04:40:13.536426Z",
     "iopub.status.idle": "2025-10-30T04:40:13.553108Z",
     "shell.execute_reply": "2025-10-30T04:40:13.552553Z"
    }
   },
   "outputs": [
    {
     "name": "stdout",
     "output_type": "stream",
     "text": [
      "Step 1: temp=326.057, losses=0.209, delta_temp=None, delta_losses=None, converged=no\n",
      "Step 2: temp=349.019, losses=0.222, delta_temp=0.0704, delta_losses=0.0620, converged=no\n"
     ]
    }
   ],
   "source": [
    "for i in stats:\n",
    "    txt = \"yes\" if stats[i][\"converged\"] else \"no\"\n",
    "    delta_temp = (\n",
    "        f\"{stats[i]['delta_temp']:.4f}\"\n",
    "        if stats[i][\"delta_temp\"] is not None\n",
    "        else \"None\"\n",
    "    )\n",
    "    delta_losses = (\n",
    "        f\"{stats[i]['delta_losses']:.4f}\"\n",
    "        if stats[i][\"delta_losses\"] is not None\n",
    "        else \"None\"\n",
    "    )\n",
    "    print(\n",
    "        f\"Step {i}: temp={stats[i]['temp']:.3f}, losses={stats[i]['losses']:.3f}, \"\n",
    "        f\"delta_temp={delta_temp}, delta_losses={delta_losses}, \"\n",
    "        f\"converged={txt}\"\n",
    "    )"
   ]
  },
  {
   "cell_type": "markdown",
   "id": "e2d6cc68",
   "metadata": {},
   "source": [
    "## Release AEDT\n",
    "\n",
    "Release AEDT and close the example."
   ]
  },
  {
   "cell_type": "code",
   "execution_count": 20,
   "id": "5466cbb8",
   "metadata": {
    "execution": {
     "iopub.execute_input": "2025-10-30T04:40:13.556079Z",
     "iopub.status.busy": "2025-10-30T04:40:13.556079Z",
     "iopub.status.idle": "2025-10-30T04:40:43.329338Z",
     "shell.execute_reply": "2025-10-30T04:40:43.329338Z"
    }
   },
   "outputs": [
    {
     "name": "stdout",
     "output_type": "stream",
     "text": [
      "PyAEDT INFO: Project Circuit-HFSS-Icepak-workflow Saved correctly\n"
     ]
    },
    {
     "name": "stdout",
     "output_type": "stream",
     "text": [
      "PyAEDT INFO: Desktop has been released and closed.\n"
     ]
    }
   ],
   "source": [
    "icepak.save_project()\n",
    "icepak.release_desktop()\n",
    "# Wait 3 seconds to allow AEDT to shut down before cleaning the temporary directory.\n",
    "time.sleep(3)"
   ]
  },
  {
   "cell_type": "markdown",
   "id": "7f8a9785",
   "metadata": {},
   "source": [
    "## Clean up\n",
    "\n",
    "All project files are saved in the folder ``temp_folder.name``. If you've run this example as a Jupyter notebook, you\n",
    "can retrieve those project files. The following cell removes all temporary files, including the project folder."
   ]
  },
  {
   "cell_type": "code",
   "execution_count": 21,
   "id": "88b84f3c",
   "metadata": {
    "execution": {
     "iopub.execute_input": "2025-10-30T04:40:43.329338Z",
     "iopub.status.busy": "2025-10-30T04:40:43.329338Z",
     "iopub.status.idle": "2025-10-30T04:40:43.392916Z",
     "shell.execute_reply": "2025-10-30T04:40:43.392916Z"
    }
   },
   "outputs": [],
   "source": [
    "temp_folder.cleanup()"
   ]
  }
 ],
 "metadata": {
  "jupytext": {
   "cell_metadata_filter": "-all",
   "main_language": "python",
   "notebook_metadata_filter": "-all"
  },
  "language_info": {
   "codemirror_mode": {
    "name": "ipython",
    "version": 3
   },
   "file_extension": ".py",
   "mimetype": "text/x-python",
   "name": "python",
   "nbconvert_exporter": "python",
   "pygments_lexer": "ipython3",
   "version": "3.10.11"
  }
 },
 "nbformat": 4,
 "nbformat_minor": 5
}
