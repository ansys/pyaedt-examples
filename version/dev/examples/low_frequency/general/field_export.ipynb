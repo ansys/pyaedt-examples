{
 "cells": [
  {
   "cell_type": "markdown",
   "id": "de8eb01f",
   "metadata": {},
   "source": [
    "# Fields export in transient analysis\n",
    "\n",
    "This example shows how to leverage PyAEDT to set up a Maxwell 3D transient analysis and then\n",
    "compute the average value of the current density field over a specific coil surface\n",
    "and the magnitude of the current density field over all coil surfaces at each time step\n",
    "of the transient analysis.\n",
    "\n",
    "Keywords: **Maxwell 3D**, **transient**, **fields calculator**, **field export**."
   ]
  },
  {
   "cell_type": "markdown",
   "id": "69e6270c",
   "metadata": {},
   "source": [
    "## Perform imports and define constant\n",
    "\n",
    "Perform required imports."
   ]
  },
  {
   "cell_type": "code",
   "execution_count": 1,
   "id": "0f405bd6",
   "metadata": {
    "execution": {
     "iopub.execute_input": "2025-10-30T06:32:39.542713Z",
     "iopub.status.busy": "2025-10-30T06:32:39.542713Z",
     "iopub.status.idle": "2025-10-30T06:32:42.643999Z",
     "shell.execute_reply": "2025-10-30T06:32:42.643999Z"
    }
   },
   "outputs": [],
   "source": [
    "import tempfile\n",
    "import time\n",
    "\n",
    "import ansys.aedt.core\n",
    "from ansys.aedt.core.examples.downloads import download_file\n",
    "from ansys.aedt.core.generic.constants import unit_converter"
   ]
  },
  {
   "cell_type": "markdown",
   "id": "535d7e54",
   "metadata": {},
   "source": [
    "Define constants."
   ]
  },
  {
   "cell_type": "code",
   "execution_count": 2,
   "id": "bc668fbf",
   "metadata": {
    "execution": {
     "iopub.execute_input": "2025-10-30T06:32:42.643999Z",
     "iopub.status.busy": "2025-10-30T06:32:42.643999Z",
     "iopub.status.idle": "2025-10-30T06:32:42.659986Z",
     "shell.execute_reply": "2025-10-30T06:32:42.659986Z"
    }
   },
   "outputs": [],
   "source": [
    "AEDT_VERSION = \"2025.2\"\n",
    "NUM_CORES = 4\n",
    "NG_MODE = False  # Open AEDT UI when it is launched."
   ]
  },
  {
   "cell_type": "markdown",
   "id": "0684152e",
   "metadata": {},
   "source": [
    "## Create temporary directory\n",
    "\n",
    "Create a temporary directory where downloaded data or\n",
    "dumped data can be stored.\n",
    "If you'd like to retrieve the project data for subsequent use,\n",
    "the temporary folder name is given by ``temp_folder.name``"
   ]
  },
  {
   "cell_type": "code",
   "execution_count": 3,
   "id": "39fe3d5b",
   "metadata": {
    "execution": {
     "iopub.execute_input": "2025-10-30T06:32:42.659986Z",
     "iopub.status.busy": "2025-10-30T06:32:42.659986Z",
     "iopub.status.idle": "2025-10-30T06:32:42.675712Z",
     "shell.execute_reply": "2025-10-30T06:32:42.675712Z"
    }
   },
   "outputs": [],
   "source": [
    "temp_folder = tempfile.TemporaryDirectory(suffix=\".ansys\")"
   ]
  },
  {
   "cell_type": "markdown",
   "id": "cbfddf5d",
   "metadata": {},
   "source": [
    "## Import project\n",
    "\n",
    "The files required to run this example are downloaded into the temporary working folder."
   ]
  },
  {
   "cell_type": "code",
   "execution_count": 4,
   "id": "ec82eb95",
   "metadata": {
    "execution": {
     "iopub.execute_input": "2025-10-30T06:32:42.675712Z",
     "iopub.status.busy": "2025-10-30T06:32:42.675712Z",
     "iopub.status.idle": "2025-10-30T06:32:43.147151Z",
     "shell.execute_reply": "2025-10-30T06:32:43.147151Z"
    }
   },
   "outputs": [],
   "source": [
    "project_path = download_file(\n",
    "    source=\"maxwell_transient_fields\",\n",
    "    name=\"M3D_Transient_StrandedWindings.aedt\",\n",
    "    local_path=temp_folder.name,\n",
    ")"
   ]
  },
  {
   "cell_type": "markdown",
   "id": "747f869f",
   "metadata": {},
   "source": [
    "## Initialize and launch Maxwell 3D\n",
    "\n",
    "Initialize and launch Maxwell 3D, providing the version and the path of the project."
   ]
  },
  {
   "cell_type": "code",
   "execution_count": 5,
   "id": "ee00e722",
   "metadata": {
    "execution": {
     "iopub.execute_input": "2025-10-30T06:32:43.151000Z",
     "iopub.status.busy": "2025-10-30T06:32:43.151000Z",
     "iopub.status.idle": "2025-10-30T06:33:13.206349Z",
     "shell.execute_reply": "2025-10-30T06:33:13.206349Z"
    }
   },
   "outputs": [
    {
     "name": "stdout",
     "output_type": "stream",
     "text": [
      "PyAEDT INFO: Parsing C:\\Users\\ansys\\AppData\\Local\\Temp\\tmp7u6xu1nr.ansys\\maxwell_transient_fields\\M3D_Transient_StrandedWindings.aedt.\n"
     ]
    },
    {
     "name": "stdout",
     "output_type": "stream",
     "text": [
      "PyAEDT INFO: Python version 3.10.11 (tags/v3.10.11:7d4cc5a, Apr  5 2023, 00:38:17) [MSC v.1929 64 bit (AMD64)].\n"
     ]
    },
    {
     "name": "stdout",
     "output_type": "stream",
     "text": [
      "PyAEDT INFO: PyAEDT version 0.22.dev0.\n"
     ]
    },
    {
     "name": "stdout",
     "output_type": "stream",
     "text": [
      "PyAEDT INFO: Initializing new Desktop session.\n"
     ]
    },
    {
     "name": "stdout",
     "output_type": "stream",
     "text": [
      "PyAEDT INFO: Log on console is enabled.\n"
     ]
    },
    {
     "name": "stdout",
     "output_type": "stream",
     "text": [
      "PyAEDT INFO: Log on file C:\\Users\\ansys\\AppData\\Local\\Temp\\pyaedt_ansys_cac438f7-ab1d-4a4c-9f62-09c14556fc44.log is enabled.\n"
     ]
    },
    {
     "name": "stdout",
     "output_type": "stream",
     "text": [
      "PyAEDT INFO: Log on AEDT is disabled.\n"
     ]
    },
    {
     "name": "stdout",
     "output_type": "stream",
     "text": [
      "PyAEDT INFO: Debug logger is disabled. PyAEDT methods will not be logged.\n"
     ]
    },
    {
     "name": "stdout",
     "output_type": "stream",
     "text": [
      "PyAEDT INFO: Launching PyAEDT with gRPC plugin.\n"
     ]
    },
    {
     "name": "stdout",
     "output_type": "stream",
     "text": [
      "PyAEDT INFO: New AEDT session is starting on gRPC port 64698.\n"
     ]
    },
    {
     "name": "stdout",
     "output_type": "stream",
     "text": [
      "PyAEDT INFO: File C:\\Users\\ansys\\AppData\\Local\\Temp\\tmp7u6xu1nr.ansys\\maxwell_transient_fields\\M3D_Transient_StrandedWindings.aedt correctly loaded. Elapsed time: 0m 0sec\n"
     ]
    },
    {
     "name": "stdout",
     "output_type": "stream",
     "text": [
      "PyAEDT INFO: Electronics Desktop started on gRPC port: 64698 after 11.623817443847656 seconds.\n"
     ]
    },
    {
     "name": "stdout",
     "output_type": "stream",
     "text": [
      "PyAEDT INFO: AEDT installation Path C:\\Program Files\\ANSYS Inc\\v252\\AnsysEM\n"
     ]
    },
    {
     "name": "stdout",
     "output_type": "stream",
     "text": [
      "PyAEDT INFO: Ansoft.ElectronicsDesktop.2025.2 version started with process ID 8952.\n"
     ]
    },
    {
     "name": "stdout",
     "output_type": "stream",
     "text": [
      "PyAEDT INFO: Project M3D_Transient_StrandedWindings has been opened.\n"
     ]
    },
    {
     "name": "stdout",
     "output_type": "stream",
     "text": [
      "PyAEDT INFO: Active Design set to Maxwell3DDesign2\n"
     ]
    },
    {
     "name": "stdout",
     "output_type": "stream",
     "text": [
      "PyAEDT INFO: Active Design set to Maxwell3DDesign2\n"
     ]
    },
    {
     "name": "stdout",
     "output_type": "stream",
     "text": [
      "PyAEDT INFO: Aedt Objects correctly read\n"
     ]
    }
   ],
   "source": [
    "m3d = ansys.aedt.core.Maxwell3d(\n",
    "    project=project_path, version=AEDT_VERSION, non_graphical=NG_MODE\n",
    ")"
   ]
  },
  {
   "cell_type": "markdown",
   "id": "a4dfe5d4",
   "metadata": {},
   "source": [
    "## Create setup and validate\n",
    "\n",
    "Create the setup specifying general settings such as ``StopTime``, ``TimeStep``,\n",
    "and ``SaveFieldsType``."
   ]
  },
  {
   "cell_type": "code",
   "execution_count": 6,
   "id": "031da609",
   "metadata": {
    "execution": {
     "iopub.execute_input": "2025-10-30T06:33:13.206349Z",
     "iopub.status.busy": "2025-10-30T06:33:13.206349Z",
     "iopub.status.idle": "2025-10-30T06:33:13.301593Z",
     "shell.execute_reply": "2025-10-30T06:33:13.301593Z"
    }
   },
   "outputs": [
    {
     "data": {
      "text/plain": [
       "True"
      ]
     },
     "execution_count": 6,
     "metadata": {},
     "output_type": "execute_result"
    }
   ],
   "source": [
    "setup = m3d.create_setup(name=\"Setup1\")\n",
    "setup.props[\"StopTime\"] = \"0.02s\"\n",
    "setup.props[\"TimeStep\"] = \"0.002s\"\n",
    "setup.props[\"SaveFieldsType\"] = \"Every N Steps\"\n",
    "setup.props[\"N Steps\"] = \"2\"\n",
    "setup.props[\"Steps From\"] = \"0s\"\n",
    "setup.props[\"Steps To\"] = \"0.02s\"\n",
    "setup.update()"
   ]
  },
  {
   "cell_type": "markdown",
   "id": "7c3ea626",
   "metadata": {},
   "source": [
    "## Create field expressions\n",
    "\n",
    "Create a field expression to evaluate the J field normal to a surface using the advanced fields calculator.\n",
    "The expression is created as a dictionary and then provided as an argument to the ``add_expression()`` method."
   ]
  },
  {
   "cell_type": "code",
   "execution_count": 7,
   "id": "acd2e901",
   "metadata": {
    "execution": {
     "iopub.execute_input": "2025-10-30T06:33:13.301593Z",
     "iopub.status.busy": "2025-10-30T06:33:13.301593Z",
     "iopub.status.idle": "2025-10-30T06:33:13.429348Z",
     "shell.execute_reply": "2025-10-30T06:33:13.429348Z"
    }
   },
   "outputs": [
    {
     "name": "stdout",
     "output_type": "stream",
     "text": [
      "PyAEDT INFO: PostProcessor class has been initialized! Elapsed time: 0m 0sec\n"
     ]
    },
    {
     "name": "stdout",
     "output_type": "stream",
     "text": [
      "PyAEDT INFO: PostProcessor class has been initialized! Elapsed time: 0m 0sec\n"
     ]
    },
    {
     "name": "stdout",
     "output_type": "stream",
     "text": [
      "PyAEDT INFO: Post class has been initialized! Elapsed time: 0m 0sec\n"
     ]
    },
    {
     "data": {
      "text/plain": [
       "'Jn'"
      ]
     },
     "execution_count": 7,
     "metadata": {},
     "output_type": "execute_result"
    }
   ],
   "source": [
    "j_normal = {\n",
    "    \"name\": \"Jn\",\n",
    "    \"description\": \"J field normal to a surface\",\n",
    "    \"design_type\": [\"Maxwell 3D\"],\n",
    "    \"fields_type\": [\"Fields\"],\n",
    "    \"primary_sweep\": \"Time\",\n",
    "    \"assignment\": \"\",\n",
    "    \"assignment_type\": [\"\"],\n",
    "    \"operations\": [\n",
    "        \"NameOfExpression('<Jx,Jy,Jz>')\",\n",
    "        \"Operation('Normal')\",\n",
    "        \"Operation('Dot')\",\n",
    "    ],\n",
    "    \"report\": [\"Field_3D\"],\n",
    "}\n",
    "m3d.post.fields_calculator.add_expression(j_normal, None)"
   ]
  },
  {
   "cell_type": "markdown",
   "id": "899bd550",
   "metadata": {},
   "source": [
    "Calculate the average value of the J field normal using the advanced fields calculator."
   ]
  },
  {
   "cell_type": "code",
   "execution_count": 8,
   "id": "8f77095f",
   "metadata": {
    "execution": {
     "iopub.execute_input": "2025-10-30T06:33:13.429348Z",
     "iopub.status.busy": "2025-10-30T06:33:13.429348Z",
     "iopub.status.idle": "2025-10-30T06:33:13.477792Z",
     "shell.execute_reply": "2025-10-30T06:33:13.477792Z"
    }
   },
   "outputs": [
    {
     "data": {
      "text/plain": [
       "'Jn_avg'"
      ]
     },
     "execution_count": 8,
     "metadata": {},
     "output_type": "execute_result"
    }
   ],
   "source": [
    "j_avg = {\n",
    "    \"name\": \"Jn_avg\",\n",
    "    \"description\": \"Average J field normal to a surface\",\n",
    "    \"design_type\": [\"Maxwell 3D\"],\n",
    "    \"fields_type\": [\"Fields\"],\n",
    "    \"primary_sweep\": \"Time\",\n",
    "    \"assignment\": \"Coil_A2_ObjectFromFace1\",\n",
    "    \"assignment_type\": [\"\"],\n",
    "    \"operations\": [\n",
    "        \"NameOfExpression('Jn')\",\n",
    "        \"EnterSurface('assignment')\",\n",
    "        \"Operation('SurfaceValue')\",\n",
    "        \"Operation('Mean')\",\n",
    "    ],\n",
    "    \"report\": [\"Field_3D\"],\n",
    "}\n",
    "m3d.post.fields_calculator.add_expression(j_avg, None)"
   ]
  },
  {
   "cell_type": "markdown",
   "id": "7caaa026",
   "metadata": {},
   "source": [
    "## Analyze setup specifying setup name"
   ]
  },
  {
   "cell_type": "code",
   "execution_count": 9,
   "id": "7551d5ac",
   "metadata": {
    "execution": {
     "iopub.execute_input": "2025-10-30T06:33:13.477792Z",
     "iopub.status.busy": "2025-10-30T06:33:13.477792Z",
     "iopub.status.idle": "2025-10-30T06:34:08.276748Z",
     "shell.execute_reply": "2025-10-30T06:34:08.276748Z"
    }
   },
   "outputs": [
    {
     "name": "stdout",
     "output_type": "stream",
     "text": [
      "PyAEDT INFO: Key Desktop/ActiveDSOConfigurations/Maxwell 3D correctly changed.\n"
     ]
    },
    {
     "name": "stdout",
     "output_type": "stream",
     "text": [
      "PyAEDT INFO: Solving design setup Setup1\n"
     ]
    },
    {
     "name": "stdout",
     "output_type": "stream",
     "text": [
      "PyAEDT INFO: Design setup Setup1 solved correctly in 0.0h 0.0m 55.0s\n"
     ]
    },
    {
     "name": "stdout",
     "output_type": "stream",
     "text": [
      "PyAEDT INFO: Key Desktop/ActiveDSOConfigurations/Maxwell 3D correctly changed.\n"
     ]
    },
    {
     "data": {
      "text/plain": [
       "True"
      ]
     },
     "execution_count": 9,
     "metadata": {},
     "output_type": "execute_result"
    }
   ],
   "source": [
    "m3d.analyze_setup(name=setup.name, cores=NUM_CORES)"
   ]
  },
  {
   "cell_type": "markdown",
   "id": "8b13f67b",
   "metadata": {},
   "source": [
    "## Get available report quantities\n",
    "\n",
    "Get the available report quantities given a specific report category.\n",
    "In this case, ``Calculator Expressions`` is the category."
   ]
  },
  {
   "cell_type": "code",
   "execution_count": 10,
   "id": "bd14b0af",
   "metadata": {
    "execution": {
     "iopub.execute_input": "2025-10-30T06:34:08.280765Z",
     "iopub.status.busy": "2025-10-30T06:34:08.280765Z",
     "iopub.status.idle": "2025-10-30T06:34:08.308372Z",
     "shell.execute_reply": "2025-10-30T06:34:08.308372Z"
    }
   },
   "outputs": [],
   "source": [
    "report_types = m3d.post.available_report_types\n",
    "quantity = m3d.post.available_report_quantities(\n",
    "    report_category=\"Fields\", quantities_category=\"Calculator Expressions\"\n",
    ")"
   ]
  },
  {
   "cell_type": "markdown",
   "id": "e48167ea",
   "metadata": {},
   "source": [
    "## Compute time steps of the analysis\n",
    "\n",
    "Create a fields report object given the nominal sweep.\n",
    "Get the report solution data to compute the time steps of the transient analysis."
   ]
  },
  {
   "cell_type": "code",
   "execution_count": 11,
   "id": "91df40e1",
   "metadata": {
    "execution": {
     "iopub.execute_input": "2025-10-30T06:34:08.312390Z",
     "iopub.status.busy": "2025-10-30T06:34:08.312390Z",
     "iopub.status.idle": "2025-10-30T06:34:08.498616Z",
     "shell.execute_reply": "2025-10-30T06:34:08.498616Z"
    }
   },
   "outputs": [
    {
     "name": "stdout",
     "output_type": "stream",
     "text": [
      "PyAEDT INFO: Solution Data Correctly Loaded.\n"
     ]
    },
    {
     "name": "stdout",
     "output_type": "stream",
     "text": [
      "Time to initialize solution data:0.0\n",
      "Time to initialize solution data:0.06370353698730469\n"
     ]
    }
   ],
   "source": [
    "sol = m3d.post.reports_by_category.fields(setup=m3d.nominal_sweep)\n",
    "data = sol.get_solution_data()\n",
    "time_steps = data.intrinsics[\"Time\"]"
   ]
  },
  {
   "cell_type": "markdown",
   "id": "3ec5cf7e",
   "metadata": {},
   "source": [
    "## Create field plots over the coil surfaces and export field data\n",
    "\n",
    "Convert each time step into millimeters.\n",
    "Create field plots over the surface of each coil by specifying the coil object,\n",
    "the quantity to plot, and the time step.\n",
    "\n",
    "The average value of the J field normal is plotted on the ``Coil_A2`` surface for every time step.\n",
    "The J field is plotted on the surface of each coil for every time-step.\n",
    "Fields data is exported to the temporary folder as an AEDTPLT file."
   ]
  },
  {
   "cell_type": "code",
   "execution_count": 12,
   "id": "f9a47102",
   "metadata": {
    "execution": {
     "iopub.execute_input": "2025-10-30T06:34:08.498616Z",
     "iopub.status.busy": "2025-10-30T06:34:08.498616Z",
     "iopub.status.idle": "2025-10-30T06:34:11.536140Z",
     "shell.execute_reply": "2025-10-30T06:34:11.534440Z"
    },
    "lines_to_next_cell": 2
   },
   "outputs": [
    {
     "name": "stdout",
     "output_type": "stream",
     "text": [
      "PyAEDT INFO: Modeler class has been initialized! Elapsed time: 0m 1sec\n"
     ]
    },
    {
     "name": "stdout",
     "output_type": "stream",
     "text": [
      "PyAEDT INFO: Parsing design objects. This operation can take time\n"
     ]
    },
    {
     "name": "stdout",
     "output_type": "stream",
     "text": [
      "PyAEDT INFO: Refreshing bodies from Object Info\n"
     ]
    },
    {
     "name": "stdout",
     "output_type": "stream",
     "text": [
      "PyAEDT INFO: Bodies Info Refreshed Elapsed time: 0m 0sec\n"
     ]
    },
    {
     "name": "stdout",
     "output_type": "stream",
     "text": [
      "PyAEDT INFO: 3D Modeler objects parsed. Elapsed time: 0m 0sec\n"
     ]
    },
    {
     "name": "stdout",
     "output_type": "stream",
     "text": [
      "PyAEDT INFO: Active Design set to Maxwell3DDesign2\n"
     ]
    },
    {
     "name": "stdout",
     "output_type": "stream",
     "text": [
      "PyAEDT INFO: Active Design set to Maxwell3DDesign2\n"
     ]
    },
    {
     "name": "stdout",
     "output_type": "stream",
     "text": [
      "PyAEDT INFO: Active Design set to Maxwell3DDesign2\n"
     ]
    },
    {
     "name": "stdout",
     "output_type": "stream",
     "text": [
      "PyAEDT INFO: Active Design set to Maxwell3DDesign2\n"
     ]
    },
    {
     "name": "stdout",
     "output_type": "stream",
     "text": [
      "PyAEDT INFO: Active Design set to Maxwell3DDesign2\n"
     ]
    },
    {
     "name": "stdout",
     "output_type": "stream",
     "text": [
      "PyAEDT INFO: Active Design set to Maxwell3DDesign2\n"
     ]
    },
    {
     "name": "stdout",
     "output_type": "stream",
     "text": [
      "PyAEDT INFO: Active Design set to Maxwell3DDesign2\n"
     ]
    },
    {
     "name": "stdout",
     "output_type": "stream",
     "text": [
      "PyAEDT INFO: Active Design set to Maxwell3DDesign2\n"
     ]
    },
    {
     "name": "stdout",
     "output_type": "stream",
     "text": [
      "PyAEDT INFO: Active Design set to Maxwell3DDesign2\n"
     ]
    },
    {
     "name": "stdout",
     "output_type": "stream",
     "text": [
      "PyAEDT INFO: Active Design set to Maxwell3DDesign2\n"
     ]
    },
    {
     "name": "stdout",
     "output_type": "stream",
     "text": [
      "PyAEDT INFO: Active Design set to Maxwell3DDesign2\n"
     ]
    },
    {
     "name": "stdout",
     "output_type": "stream",
     "text": [
      "PyAEDT INFO: Active Design set to Maxwell3DDesign2\n"
     ]
    }
   ],
   "source": [
    "unit = data.units_sweeps[\"Time\"]\n",
    "converted = unit_converter(time_steps, \"Time\", unit, \"ms\")\n",
    "for time_step in converted:\n",
    "    m3d.post.create_fieldplot_surface(\n",
    "        assignment=m3d.modeler.objects_by_name[\"Coil_A2\"],\n",
    "        quantity=quantity[0],\n",
    "        plot_name=\"J_{}_ms\".format(time_step),\n",
    "        intrinsics={\"Time\": \"ms\"},\n",
    "    )\n",
    "    mean_j_field_export = m3d.post.export_field_plot(\n",
    "        plot_name=\"J_{}_ms\".format(time_step),\n",
    "        output_dir=temp_folder.name,\n",
    "        file_format=\"aedtplt\",\n",
    "    )\n",
    "    m3d.post.create_fieldplot_surface(\n",
    "        assignment=[\n",
    "            o for o in m3d.modeler.solid_objects if o.material_name == \"copper\"\n",
    "        ],\n",
    "        quantity=\"Mag_J\",\n",
    "        plot_name=\"Mag_J_Coils_{}_ms\".format(time_step),\n",
    "        intrinsics={\"Time\": \"ms\"},\n",
    "    )\n",
    "    mag_j_field_export = m3d.post.export_field_plot(\n",
    "        plot_name=\"Mag_J_Coils_{}_ms\".format(time_step),\n",
    "        output_dir=temp_folder.name,\n",
    "        file_format=\"aedtplt\",\n",
    "    )"
   ]
  },
  {
   "cell_type": "markdown",
   "id": "4817db67",
   "metadata": {},
   "source": [
    "## Release AEDT"
   ]
  },
  {
   "cell_type": "code",
   "execution_count": 13,
   "id": "fc6cebec",
   "metadata": {
    "execution": {
     "iopub.execute_input": "2025-10-30T06:34:11.538157Z",
     "iopub.status.busy": "2025-10-30T06:34:11.538157Z",
     "iopub.status.idle": "2025-10-30T06:34:31.945244Z",
     "shell.execute_reply": "2025-10-30T06:34:31.945244Z"
    }
   },
   "outputs": [
    {
     "name": "stdout",
     "output_type": "stream",
     "text": [
      "PyAEDT INFO: Project M3D_Transient_StrandedWindings Saved correctly\n"
     ]
    },
    {
     "name": "stdout",
     "output_type": "stream",
     "text": [
      "PyAEDT INFO: Desktop has been released and closed.\n"
     ]
    }
   ],
   "source": [
    "m3d.save_project()\n",
    "m3d.release_desktop()\n",
    "# Wait 3 seconds to allow AEDT to shut down before cleaning the temporary directory.\n",
    "time.sleep(3)"
   ]
  },
  {
   "cell_type": "markdown",
   "id": "c0308629",
   "metadata": {},
   "source": [
    "## Clean up\n",
    "\n",
    "All project files are saved in the folder ``temp_folder.name``.\n",
    "If you've run this example as a Jupyter notebook, you\n",
    "can retrieve those project files. The following cell\n",
    "removes all temporary files, including the project folder."
   ]
  },
  {
   "cell_type": "code",
   "execution_count": 14,
   "id": "e99cdbda",
   "metadata": {
    "execution": {
     "iopub.execute_input": "2025-10-30T06:34:31.949309Z",
     "iopub.status.busy": "2025-10-30T06:34:31.949309Z",
     "iopub.status.idle": "2025-10-30T06:34:32.008337Z",
     "shell.execute_reply": "2025-10-30T06:34:32.008337Z"
    }
   },
   "outputs": [],
   "source": [
    "temp_folder.cleanup()"
   ]
  }
 ],
 "metadata": {
  "jupytext": {
   "cell_metadata_filter": "-all",
   "main_language": "python",
   "notebook_metadata_filter": "-all"
  },
  "language_info": {
   "codemirror_mode": {
    "name": "ipython",
    "version": 3
   },
   "file_extension": ".py",
   "mimetype": "text/x-python",
   "name": "python",
   "nbconvert_exporter": "python",
   "pygments_lexer": "ipython3",
   "version": "3.10.11"
  }
 },
 "nbformat": 4,
 "nbformat_minor": 5
}
