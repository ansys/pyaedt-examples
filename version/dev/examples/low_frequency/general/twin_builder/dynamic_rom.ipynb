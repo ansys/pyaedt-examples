{
 "cells": [
  {
   "cell_type": "markdown",
   "id": "408429c5",
   "metadata": {},
   "source": [
    "# Dynamic ROM\n",
    "\n",
    "This example shows how to use PyAEDT to create a dynamic reduced order model (ROM)\n",
    "in Twin Builder and run a Twin Builder time-domain simulation.\n",
    "\n",
    "> **Note:** This example uses functionality only available in Twin\n",
    "> Builder 2023 R2 and later.\n",
    "\n",
    "Keywords: **Twin Builder**, **Dynamic ROM**."
   ]
  },
  {
   "cell_type": "markdown",
   "id": "d1a9efb3",
   "metadata": {},
   "source": [
    "## Perform imports and define constants\n",
    "\n",
    "Perform required imports."
   ]
  },
  {
   "cell_type": "code",
   "execution_count": 1,
   "id": "773e5dab",
   "metadata": {
    "execution": {
     "iopub.execute_input": "2025-10-30T06:38:13.719367Z",
     "iopub.status.busy": "2025-10-30T06:38:13.719367Z",
     "iopub.status.idle": "2025-10-30T06:38:17.378751Z",
     "shell.execute_reply": "2025-10-30T06:38:17.378751Z"
    }
   },
   "outputs": [],
   "source": [
    "import os\n",
    "import shutil\n",
    "import tempfile\n",
    "import time\n",
    "\n",
    "import ansys.aedt.core\n",
    "from ansys.aedt.core.examples import downloads\n",
    "import matplotlib.pyplot as plt"
   ]
  },
  {
   "cell_type": "markdown",
   "id": "65ad5872",
   "metadata": {},
   "source": [
    "Define constants."
   ]
  },
  {
   "cell_type": "code",
   "execution_count": 2,
   "id": "a2c2adaf",
   "metadata": {
    "execution": {
     "iopub.execute_input": "2025-10-30T06:38:17.378751Z",
     "iopub.status.busy": "2025-10-30T06:38:17.378751Z",
     "iopub.status.idle": "2025-10-30T06:38:17.394774Z",
     "shell.execute_reply": "2025-10-30T06:38:17.394774Z"
    }
   },
   "outputs": [],
   "source": [
    "AEDT_VERSION = \"2025.2\"\n",
    "NUM_CORES = 4\n",
    "NG_MODE = False  # Open AEDT UI when it is launched."
   ]
  },
  {
   "cell_type": "markdown",
   "id": "d01109aa",
   "metadata": {},
   "source": [
    "## Create temporary directory\n",
    "\n",
    "Create a temporary directory where downloaded data or\n",
    "dumped data can be stored.\n",
    "If you'd like to retrieve the project data for subsequent use,\n",
    "the temporary folder name is given by ``temp_folder.name``."
   ]
  },
  {
   "cell_type": "code",
   "execution_count": 3,
   "id": "e680a8d8",
   "metadata": {
    "execution": {
     "iopub.execute_input": "2025-10-30T06:38:17.394774Z",
     "iopub.status.busy": "2025-10-30T06:38:17.394774Z",
     "iopub.status.idle": "2025-10-30T06:38:17.410681Z",
     "shell.execute_reply": "2025-10-30T06:38:17.410681Z"
    }
   },
   "outputs": [],
   "source": [
    "temp_folder = tempfile.TemporaryDirectory(suffix=\".ansys\")"
   ]
  },
  {
   "cell_type": "markdown",
   "id": "5e08b5d7",
   "metadata": {},
   "source": [
    "## Set up input data\n",
    "\n",
    "Define the file name."
   ]
  },
  {
   "cell_type": "code",
   "execution_count": 4,
   "id": "fac3e79e",
   "metadata": {
    "execution": {
     "iopub.execute_input": "2025-10-30T06:38:17.410681Z",
     "iopub.status.busy": "2025-10-30T06:38:17.410681Z",
     "iopub.status.idle": "2025-10-30T06:38:17.426820Z",
     "shell.execute_reply": "2025-10-30T06:38:17.426820Z"
    }
   },
   "outputs": [],
   "source": [
    "source_snapshot_data_zipfilename = \"Ex1_Mechanical_DynamicRom.zip\"\n",
    "source_build_conf_file = \"dynarom_build.conf\"\n",
    "twin_builder_data_folder = os.path.join(temp_folder.name, \"twin_builder\")"
   ]
  },
  {
   "cell_type": "markdown",
   "id": "baddec5a",
   "metadata": {},
   "source": [
    "Download data from the ``example_data`` repository."
   ]
  },
  {
   "cell_type": "code",
   "execution_count": 5,
   "id": "64cbf247",
   "metadata": {
    "execution": {
     "iopub.execute_input": "2025-10-30T06:38:17.426820Z",
     "iopub.status.busy": "2025-10-30T06:38:17.426820Z",
     "iopub.status.idle": "2025-10-30T06:38:18.876834Z",
     "shell.execute_reply": "2025-10-30T06:38:18.876834Z"
    }
   },
   "outputs": [
    {
     "data": {
      "text/plain": [
       "'C:\\\\Users\\\\ansys\\\\AppData\\\\Local\\\\Temp\\\\tmpwas1hi6j.ansys\\\\twin_builder\\\\dynarom_build.conf'"
      ]
     },
     "execution_count": 5,
     "metadata": {},
     "output_type": "execute_result"
    }
   ],
   "source": [
    "downloads.download_twin_builder_data(\n",
    "    file_name=source_snapshot_data_zipfilename,\n",
    "    force_download=True,\n",
    "    local_path=temp_folder.name,\n",
    ")\n",
    "downloads.download_twin_builder_data(\n",
    "    source_build_conf_file, True, temp_folder.name\n",
    ")"
   ]
  },
  {
   "cell_type": "markdown",
   "id": "b4d6f3d2",
   "metadata": {},
   "source": [
    "Toggle these for local testing."
   ]
  },
  {
   "cell_type": "code",
   "execution_count": 6,
   "id": "568ef5b5",
   "metadata": {
    "execution": {
     "iopub.execute_input": "2025-10-30T06:38:18.876834Z",
     "iopub.status.busy": "2025-10-30T06:38:18.876834Z",
     "iopub.status.idle": "2025-10-30T06:38:18.892797Z",
     "shell.execute_reply": "2025-10-30T06:38:18.892797Z"
    }
   },
   "outputs": [],
   "source": [
    "data_folder = os.path.join(twin_builder_data_folder, \"Ex03\")"
   ]
  },
  {
   "cell_type": "code",
   "execution_count": 7,
   "id": "ff6c7a2a",
   "metadata": {
    "execution": {
     "iopub.execute_input": "2025-10-30T06:38:18.892797Z",
     "iopub.status.busy": "2025-10-30T06:38:18.892797Z",
     "iopub.status.idle": "2025-10-30T06:38:18.956668Z",
     "shell.execute_reply": "2025-10-30T06:38:18.956668Z"
    },
    "lines_to_next_cell": 2
   },
   "outputs": [
    {
     "name": "stdout",
     "output_type": "stream",
     "text": [
      "C:\\Users\\ansys\\AppData\\Local\\Temp\\tmpwas1hi6j.ansys\\twin_builder\\Ex03\n"
     ]
    },
    {
     "data": {
      "text/plain": [
       "'C:\\\\Users\\\\ansys\\\\AppData\\\\Local\\\\Temp\\\\tmpwas1hi6j.ansys\\\\twin_builder\\\\Ex03\\\\dynarom_build.conf'"
      ]
     },
     "execution_count": 7,
     "metadata": {},
     "output_type": "execute_result"
    }
   ],
   "source": [
    "# Unzip training data and config file\n",
    "ansys.aedt.core.examples.downloads.unzip(\n",
    "    os.path.join(twin_builder_data_folder, source_snapshot_data_zipfilename), data_folder\n",
    ")\n",
    "shutil.copyfile(\n",
    "    os.path.join(twin_builder_data_folder, source_build_conf_file),\n",
    "    os.path.join(data_folder, source_build_conf_file),\n",
    ")"
   ]
  },
  {
   "cell_type": "markdown",
   "id": "e2b632e3",
   "metadata": {},
   "source": [
    "## Launch Twin Builder and build ROM component\n",
    "\n",
    "Launch Twin Builder using an implicit declaration and add a new design with\n",
    "the default setup for building the dynamic ROM component."
   ]
  },
  {
   "cell_type": "code",
   "execution_count": 8,
   "id": "4ebc250e",
   "metadata": {
    "execution": {
     "iopub.execute_input": "2025-10-30T06:38:18.956668Z",
     "iopub.status.busy": "2025-10-30T06:38:18.956668Z",
     "iopub.status.idle": "2025-10-30T06:38:47.517430Z",
     "shell.execute_reply": "2025-10-30T06:38:47.516196Z"
    }
   },
   "outputs": [
    {
     "name": "stdout",
     "output_type": "stream",
     "text": [
      "PyAEDT INFO: Python version 3.10.11 (tags/v3.10.11:7d4cc5a, Apr  5 2023, 00:38:17) [MSC v.1929 64 bit (AMD64)].\n"
     ]
    },
    {
     "name": "stdout",
     "output_type": "stream",
     "text": [
      "PyAEDT INFO: PyAEDT version 0.22.dev0.\n"
     ]
    },
    {
     "name": "stdout",
     "output_type": "stream",
     "text": [
      "PyAEDT INFO: Initializing new Desktop session.\n"
     ]
    },
    {
     "name": "stdout",
     "output_type": "stream",
     "text": [
      "PyAEDT INFO: Log on console is enabled.\n"
     ]
    },
    {
     "name": "stdout",
     "output_type": "stream",
     "text": [
      "PyAEDT INFO: Log on file C:\\Users\\ansys\\AppData\\Local\\Temp\\pyaedt_ansys_16ae07cb-2499-4a6d-97f4-8875e1ffde65.log is enabled.\n"
     ]
    },
    {
     "name": "stdout",
     "output_type": "stream",
     "text": [
      "PyAEDT INFO: Log on AEDT is disabled.\n"
     ]
    },
    {
     "name": "stdout",
     "output_type": "stream",
     "text": [
      "PyAEDT INFO: Debug logger is disabled. PyAEDT methods will not be logged.\n"
     ]
    },
    {
     "name": "stdout",
     "output_type": "stream",
     "text": [
      "PyAEDT INFO: Launching PyAEDT with gRPC plugin.\n"
     ]
    },
    {
     "name": "stdout",
     "output_type": "stream",
     "text": [
      "PyAEDT INFO: New AEDT session is starting on gRPC port 65433.\n"
     ]
    },
    {
     "name": "stdout",
     "output_type": "stream",
     "text": [
      "PyAEDT INFO: Electronics Desktop started on gRPC port: 65433 after 10.637307167053223 seconds.\n"
     ]
    },
    {
     "name": "stdout",
     "output_type": "stream",
     "text": [
      "PyAEDT INFO: AEDT installation Path C:\\Program Files\\ANSYS Inc\\v252\\AnsysEM\n"
     ]
    },
    {
     "name": "stdout",
     "output_type": "stream",
     "text": [
      "PyAEDT INFO: Ansoft.ElectronicsDesktop.2025.2 version started with process ID 4612.\n"
     ]
    },
    {
     "name": "stdout",
     "output_type": "stream",
     "text": [
      "PyAEDT INFO: Project dynamic_rom has been created.\n"
     ]
    },
    {
     "name": "stdout",
     "output_type": "stream",
     "text": [
      "PyAEDT INFO: No design is present. Inserting a new design.\n"
     ]
    },
    {
     "name": "stdout",
     "output_type": "stream",
     "text": [
      "PyAEDT INFO: Added design 'Twin Builder_WSP' of type Twin Builder.\n"
     ]
    },
    {
     "name": "stdout",
     "output_type": "stream",
     "text": [
      "PyAEDT INFO: Aedt Objects correctly read\n"
     ]
    }
   ],
   "source": [
    "project_name = os.path.join(temp_folder.name, \"dynamic_rom.aedt\")\n",
    "tb = ansys.aedt.core.TwinBuilder(\n",
    "    project=project_name,\n",
    "    version=AEDT_VERSION,\n",
    "    non_graphical=NG_MODE,\n",
    "    new_desktop=True,\n",
    ")"
   ]
  },
  {
   "cell_type": "markdown",
   "id": "6a32e6e5",
   "metadata": {},
   "source": [
    "## Configure AEDT\n",
    "\n",
    "> **Note:** Only run the following cell if AEDT is not configured to run Twin Builder.\n",
    ">\n",
    "> The following cell configures AEDT and the schematic editor\n",
    "> to use the ``Twin Builder`` configuration.\n",
    "> The dynamic ROM feature is only available with a Twin Builder license.\n",
    "> A cell at the end of this example restores the AEDT configuration. If your\n",
    "> environment is set up to use the ``Twin Builder`` configuration, you do not\n",
    "> need to run these code blocks."
   ]
  },
  {
   "cell_type": "code",
   "execution_count": 9,
   "id": "62c86d0f",
   "metadata": {
    "execution": {
     "iopub.execute_input": "2025-10-30T06:38:47.517430Z",
     "iopub.status.busy": "2025-10-30T06:38:47.517430Z",
     "iopub.status.idle": "2025-10-30T06:38:47.532187Z",
     "shell.execute_reply": "2025-10-30T06:38:47.532187Z"
    }
   },
   "outputs": [],
   "source": [
    "current_desktop_config = tb._odesktop.GetDesktopConfiguration()\n",
    "current_schematic_environment = tb._odesktop.GetSchematicEnvironment()\n",
    "tb._odesktop.SetDesktopConfiguration(\"Twin Builder\")\n",
    "tb._odesktop.SetSchematicEnvironment(1)"
   ]
  },
  {
   "cell_type": "code",
   "execution_count": 10,
   "id": "b52c0d80",
   "metadata": {
    "execution": {
     "iopub.execute_input": "2025-10-30T06:38:47.532187Z",
     "iopub.status.busy": "2025-10-30T06:38:47.532187Z",
     "iopub.status.idle": "2025-10-30T06:38:47.548318Z",
     "shell.execute_reply": "2025-10-30T06:38:47.548318Z"
    }
   },
   "outputs": [],
   "source": [
    "# Get the dynamic ROM builder object.\n",
    "rom_manager = tb._odesign.GetROMManager()\n",
    "dynamic_rom_builder = rom_manager.GetDynamicROMBuilder()"
   ]
  },
  {
   "cell_type": "code",
   "execution_count": 11,
   "id": "b3a12628",
   "metadata": {
    "execution": {
     "iopub.execute_input": "2025-10-30T06:38:47.548318Z",
     "iopub.status.busy": "2025-10-30T06:38:47.548318Z",
     "iopub.status.idle": "2025-10-30T06:38:54.241597Z",
     "shell.execute_reply": "2025-10-30T06:38:54.241597Z"
    }
   },
   "outputs": [],
   "source": [
    "# Build the dynamic ROM with the specified configuration file.\n",
    "conf_file_path = os.path.join(data_folder, source_build_conf_file)\n",
    "dynamic_rom_builder.Build(conf_file_path.replace(\"\\\\\", \"/\"))"
   ]
  },
  {
   "cell_type": "code",
   "execution_count": 12,
   "id": "ba395c3b",
   "metadata": {
    "execution": {
     "iopub.execute_input": "2025-10-30T06:38:54.246286Z",
     "iopub.status.busy": "2025-10-30T06:38:54.246286Z",
     "iopub.status.idle": "2025-10-30T06:38:54.257324Z",
     "shell.execute_reply": "2025-10-30T06:38:54.257324Z"
    }
   },
   "outputs": [],
   "source": [
    "# Test if the ROM was created successfully\n",
    "dynamic_rom_path = os.path.join(data_folder, \"DynamicRom.dyn\")\n",
    "if os.path.exists(dynamic_rom_path):\n",
    "    tb._odesign.AddMessage(\n",
    "        \"Info\", \"path exists: {}\".format(dynamic_rom_path.replace(\"\\\\\", \"/\")), \"\"\n",
    "    )\n",
    "else:\n",
    "    tb._odesign.AddMessage(\n",
    "        \"Info\", \"path does not exist: {}\".format(dynamic_rom_path), \"\"\n",
    "    )"
   ]
  },
  {
   "cell_type": "code",
   "execution_count": 13,
   "id": "6e182f87",
   "metadata": {
    "execution": {
     "iopub.execute_input": "2025-10-30T06:38:54.261336Z",
     "iopub.status.busy": "2025-10-30T06:38:54.259331Z",
     "iopub.status.idle": "2025-10-30T06:38:58.601690Z",
     "shell.execute_reply": "2025-10-30T06:38:58.601690Z"
    },
    "lines_to_next_cell": 2
   },
   "outputs": [],
   "source": [
    "# Create the ROM component definition in Twin Builder.\n",
    "rom_manager.CreateROMComponent(dynamic_rom_path.replace(\"\\\\\", \"/\"), \"dynarom\")"
   ]
  },
  {
   "cell_type": "markdown",
   "id": "526612a8",
   "metadata": {},
   "source": [
    "## Create schematic\n",
    "\n",
    "Place components to create a schematic."
   ]
  },
  {
   "cell_type": "markdown",
   "id": "eb322c20",
   "metadata": {},
   "source": [
    "Define the grid distance for ease in calculations."
   ]
  },
  {
   "cell_type": "code",
   "execution_count": 14,
   "id": "5b643528",
   "metadata": {
    "execution": {
     "iopub.execute_input": "2025-10-30T06:38:58.601690Z",
     "iopub.status.busy": "2025-10-30T06:38:58.601690Z",
     "iopub.status.idle": "2025-10-30T06:38:58.617743Z",
     "shell.execute_reply": "2025-10-30T06:38:58.617743Z"
    }
   },
   "outputs": [],
   "source": [
    "G = 0.00254"
   ]
  },
  {
   "cell_type": "markdown",
   "id": "a1d38aac",
   "metadata": {},
   "source": [
    "Place a dynamic ROM component."
   ]
  },
  {
   "cell_type": "code",
   "execution_count": 15,
   "id": "acdde26d",
   "metadata": {
    "execution": {
     "iopub.execute_input": "2025-10-30T06:38:58.617743Z",
     "iopub.status.busy": "2025-10-30T06:38:58.617743Z",
     "iopub.status.idle": "2025-10-30T06:38:59.013250Z",
     "shell.execute_reply": "2025-10-30T06:38:59.013250Z"
    }
   },
   "outputs": [
    {
     "name": "stdout",
     "output_type": "stream",
     "text": [
      "PyAEDT INFO: ModelerCircuit class has been initialized! Elapsed time: 0m 0sec\n"
     ]
    },
    {
     "name": "stdout",
     "output_type": "stream",
     "text": [
      "PyAEDT INFO: ModelerTwinBuilder class has been initialized!\n"
     ]
    }
   ],
   "source": [
    "rom1 = tb.modeler.schematic.create_component(\"ROM1\", \"\", \"dynarom\", [36 * G, 28 * G])"
   ]
  },
  {
   "cell_type": "markdown",
   "id": "30801c87",
   "metadata": {},
   "source": [
    "Place two excitation sources."
   ]
  },
  {
   "cell_type": "code",
   "execution_count": 16,
   "id": "5e6fc458",
   "metadata": {
    "execution": {
     "iopub.execute_input": "2025-10-30T06:38:59.013250Z",
     "iopub.status.busy": "2025-10-30T06:38:59.013250Z",
     "iopub.status.idle": "2025-10-30T06:38:59.187688Z",
     "shell.execute_reply": "2025-10-30T06:38:59.187688Z"
    }
   },
   "outputs": [],
   "source": [
    "source1 = tb.modeler.schematic.create_periodic_waveform_source(\n",
    "    None, \"PULSE\", 190, 0.002, \"300deg\", 210, 0, [20 * G, 29 * G]\n",
    ")\n",
    "source2 = tb.modeler.schematic.create_periodic_waveform_source(\n",
    "    None, \"PULSE\", 190, 0.002, \"300deg\", 210, 0, [20 * G, 25 * G]\n",
    ")"
   ]
  },
  {
   "cell_type": "markdown",
   "id": "e3e7c294",
   "metadata": {},
   "source": [
    "Connect components with wires."
   ]
  },
  {
   "cell_type": "code",
   "execution_count": 17,
   "id": "03ddce01",
   "metadata": {
    "execution": {
     "iopub.execute_input": "2025-10-30T06:38:59.187688Z",
     "iopub.status.busy": "2025-10-30T06:38:59.187688Z",
     "iopub.status.idle": "2025-10-30T06:38:59.219663Z",
     "shell.execute_reply": "2025-10-30T06:38:59.219663Z"
    }
   },
   "outputs": [
    {
     "data": {
      "text/plain": [
       "<ansys.aedt.core.modeler.circuits.object_3d_circuit.Wire at 0x16727caffa0>"
      ]
     },
     "execution_count": 17,
     "metadata": {},
     "output_type": "execute_result"
    }
   ],
   "source": [
    "tb.modeler.schematic.create_wire([[22 * G, 29 * G], [33 * G, 29 * G]])\n",
    "tb.modeler.schematic.create_wire(\n",
    "    [[22 * G, 25 * G], [30 * G, 25 * G], [30 * G, 28 * G], [33 * G, 28 * G]]\n",
    ")"
   ]
  },
  {
   "cell_type": "code",
   "execution_count": 18,
   "id": "c40c606d",
   "metadata": {
    "execution": {
     "iopub.execute_input": "2025-10-30T06:38:59.219663Z",
     "iopub.status.busy": "2025-10-30T06:38:59.219663Z",
     "iopub.status.idle": "2025-10-30T06:38:59.235469Z",
     "shell.execute_reply": "2025-10-30T06:38:59.235469Z"
    }
   },
   "outputs": [],
   "source": [
    "# Zoom to fit the schematic.\n",
    "tb.modeler.zoom_to_fit()"
   ]
  },
  {
   "cell_type": "markdown",
   "id": "2cf65c9b",
   "metadata": {},
   "source": [
    "## Parametrize transient setup\n",
    "\n",
    "Parametrize the default transient setup by setting the end time."
   ]
  },
  {
   "cell_type": "code",
   "execution_count": 19,
   "id": "96e78ad9",
   "metadata": {
    "execution": {
     "iopub.execute_input": "2025-10-30T06:38:59.239340Z",
     "iopub.status.busy": "2025-10-30T06:38:59.239340Z",
     "iopub.status.idle": "2025-10-30T06:38:59.266948Z",
     "shell.execute_reply": "2025-10-30T06:38:59.266948Z"
    }
   },
   "outputs": [
    {
     "data": {
      "text/plain": [
       "True"
      ]
     },
     "execution_count": 19,
     "metadata": {},
     "output_type": "execute_result"
    }
   ],
   "source": [
    "tb.set_end_time(\"1000s\")\n",
    "tb.set_hmin(\"1s\")\n",
    "tb.set_hmax(\"1s\")"
   ]
  },
  {
   "cell_type": "markdown",
   "id": "24877bef",
   "metadata": {},
   "source": [
    "## Solve transient setup"
   ]
  },
  {
   "cell_type": "code",
   "execution_count": 20,
   "id": "a646c982",
   "metadata": {
    "execution": {
     "iopub.execute_input": "2025-10-30T06:38:59.266948Z",
     "iopub.status.busy": "2025-10-30T06:38:59.266948Z",
     "iopub.status.idle": "2025-10-30T06:39:21.100704Z",
     "shell.execute_reply": "2025-10-30T06:39:21.100704Z"
    },
    "lines_to_next_cell": 2
   },
   "outputs": [
    {
     "name": "stdout",
     "output_type": "stream",
     "text": [
      "PyAEDT INFO: Key Desktop/ActiveDSOConfigurations/Twin Builder correctly changed.\n"
     ]
    },
    {
     "name": "stdout",
     "output_type": "stream",
     "text": [
      "PyAEDT INFO: Solving design setup TR\n"
     ]
    },
    {
     "name": "stdout",
     "output_type": "stream",
     "text": [
      "PyAEDT INFO: Design setup TR solved correctly in 0.0h 0.0m 22.0s\n"
     ]
    },
    {
     "name": "stdout",
     "output_type": "stream",
     "text": [
      "PyAEDT INFO: Key Desktop/ActiveDSOConfigurations/Twin Builder correctly changed.\n"
     ]
    },
    {
     "data": {
      "text/plain": [
       "True"
      ]
     },
     "execution_count": 20,
     "metadata": {},
     "output_type": "execute_result"
    }
   ],
   "source": [
    "tb.analyze_setup(\"TR\", cores=NUM_CORES)"
   ]
  },
  {
   "cell_type": "markdown",
   "id": "8c0310f9",
   "metadata": {},
   "source": [
    "## Get report data and plot using Matplotlib\n",
    "\n",
    "Get report data and plot it using Matplotlib. The following code gets and plots\n",
    "the values for the voltage on the pulse voltage source and the values for the\n",
    "output of the dynamic ROM."
   ]
  },
  {
   "cell_type": "code",
   "execution_count": 21,
   "id": "7a8c6cb8",
   "metadata": {
    "execution": {
     "iopub.execute_input": "2025-10-30T06:39:21.104717Z",
     "iopub.status.busy": "2025-10-30T06:39:21.104717Z",
     "iopub.status.idle": "2025-10-30T06:39:21.433461Z",
     "shell.execute_reply": "2025-10-30T06:39:21.433461Z"
    }
   },
   "outputs": [
    {
     "name": "stdout",
     "output_type": "stream",
     "text": [
      "PyAEDT INFO: Post class has been initialized! Elapsed time: 0m 0sec\n"
     ]
    },
    {
     "name": "stdout",
     "output_type": "stream",
     "text": [
      "PyAEDT WARNING: No report category provided. Automatically identified Standard\n"
     ]
    },
    {
     "name": "stdout",
     "output_type": "stream",
     "text": [
      "PyAEDT INFO: Solution Data Correctly Loaded.\n"
     ]
    },
    {
     "name": "stdout",
     "output_type": "stream",
     "text": [
      "Time to initialize solution data:0.0\n",
      "Time to initialize solution data:0.016124963760375977\n"
     ]
    },
    {
     "name": "stderr",
     "output_type": "stream",
     "text": [
      "C:\\actions-runner\\_work\\pyaedt-examples\\pyaedt-examples\\.venv\\lib\\site-packages\\ansys\\aedt\\core\\visualization\\post\\solution_data.py:733: UserWarning: Method `data_real` is deprecated. Use :func:`get_expression_data` property instead.\n",
      "  warnings.warn(\"Method `data_real` is deprecated. Use :func:`get_expression_data` property instead.\")\n"
     ]
    },
    {
     "data": {
      "text/plain": [
       "[<matplotlib.lines.Line2D at 0x1673c75feb0>]"
      ]
     },
     "execution_count": 21,
     "metadata": {},
     "output_type": "execute_result"
    },
    {
     "data": {
      "image/png": "[encoded data removed]",
      "text/plain": [
       "<Figure size 640x480 with 1 Axes>"
      ]
     },
     "metadata": {},
     "output_type": "display_data"
    }
   ],
   "source": [
    "input_excitation = \"PULSE1.VAL\"\n",
    "x = tb.post.get_solution_data(input_excitation, \"TR\", \"Time\")\n",
    "plt.plot(x.intrinsics[\"Time\"], x.data_real(input_excitation))"
   ]
  },
  {
   "cell_type": "code",
   "execution_count": 22,
   "id": "c9da82c3",
   "metadata": {
    "execution": {
     "iopub.execute_input": "2025-10-30T06:39:21.433461Z",
     "iopub.status.busy": "2025-10-30T06:39:21.433461Z",
     "iopub.status.idle": "2025-10-30T06:39:21.687928Z",
     "shell.execute_reply": "2025-10-30T06:39:21.687928Z"
    }
   },
   "outputs": [
    {
     "name": "stdout",
     "output_type": "stream",
     "text": [
      "PyAEDT WARNING: No report category provided. Automatically identified Standard\n"
     ]
    },
    {
     "name": "stdout",
     "output_type": "stream",
     "text": [
      "PyAEDT INFO: Solution Data Correctly Loaded.\n"
     ]
    },
    {
     "name": "stdout",
     "output_type": "stream",
     "text": [
      "Time to initialize solution data:0.0\n",
      "Time to initialize solution data:0.016042709350585938\n"
     ]
    },
    {
     "data": {
      "text/plain": [
       "[<matplotlib.lines.Line2D at 0x1673c89d7b0>]"
      ]
     },
     "execution_count": 22,
     "metadata": {},
     "output_type": "execute_result"
    },
    {
     "data": {
      "image/png": "[encoded data removed]",
      "text/plain": [
       "<Figure size 640x480 with 1 Axes>"
      ]
     },
     "metadata": {},
     "output_type": "display_data"
    }
   ],
   "source": [
    "output_temperature = \"ROM1.Temperature_history\"\n",
    "x = tb.post.get_solution_data(output_temperature, \"TR\", \"Time\")\n",
    "plt.plot(x.intrinsics[\"Time\"], x.data_real(output_temperature))"
   ]
  },
  {
   "cell_type": "code",
   "execution_count": 23,
   "id": "b621777c",
   "metadata": {
    "execution": {
     "iopub.execute_input": "2025-10-30T06:39:21.687928Z",
     "iopub.status.busy": "2025-10-30T06:39:21.687928Z",
     "iopub.status.idle": "2025-10-30T06:39:21.798811Z",
     "shell.execute_reply": "2025-10-30T06:39:21.798811Z"
    },
    "lines_to_next_cell": 2
   },
   "outputs": [
    {
     "data": {
      "image/png": "[encoded data removed]",
      "text/plain": [
       "<Figure size 640x480 with 1 Axes>"
      ]
     },
     "metadata": {},
     "output_type": "display_data"
    }
   ],
   "source": [
    "plt.grid()\n",
    "plt.xlabel(\"Time\")\n",
    "plt.ylabel(\"Temperature History Variation with Input Temperature Pulse\")\n",
    "plt.show()"
   ]
  },
  {
   "cell_type": "markdown",
   "id": "feaca720",
   "metadata": {},
   "source": [
    "## Close Twin Builder\n",
    "\n",
    "After the simulation is completed, you can close Twin Builder or release it.\n",
    "All methods provide for saving the project before closing."
   ]
  },
  {
   "cell_type": "code",
   "execution_count": 24,
   "id": "3df2e4df",
   "metadata": {
    "execution": {
     "iopub.execute_input": "2025-10-30T06:39:21.798811Z",
     "iopub.status.busy": "2025-10-30T06:39:21.798811Z",
     "iopub.status.idle": "2025-10-30T06:39:21.814980Z",
     "shell.execute_reply": "2025-10-30T06:39:21.814980Z"
    }
   },
   "outputs": [],
   "source": [
    "# Clean up the downloaded data.\n",
    "shutil.rmtree(twin_builder_data_folder)"
   ]
  },
  {
   "cell_type": "code",
   "execution_count": 25,
   "id": "349fcc71",
   "metadata": {
    "execution": {
     "iopub.execute_input": "2025-10-30T06:39:21.814980Z",
     "iopub.status.busy": "2025-10-30T06:39:21.814980Z",
     "iopub.status.idle": "2025-10-30T06:39:21.831203Z",
     "shell.execute_reply": "2025-10-30T06:39:21.831203Z"
    }
   },
   "outputs": [],
   "source": [
    "# Restore the earlier AEDT configuration and schematic environment.\n",
    "tb._odesktop.SetDesktopConfiguration(current_desktop_config)\n",
    "tb._odesktop.SetSchematicEnvironment(current_schematic_environment)"
   ]
  },
  {
   "cell_type": "markdown",
   "id": "975b0ca6",
   "metadata": {},
   "source": [
    "## Release AEDT\n",
    "\n",
    "Release AEDT and close the example."
   ]
  },
  {
   "cell_type": "code",
   "execution_count": 26,
   "id": "dfeb0c35",
   "metadata": {
    "execution": {
     "iopub.execute_input": "2025-10-30T06:39:21.831203Z",
     "iopub.status.busy": "2025-10-30T06:39:21.831203Z",
     "iopub.status.idle": "2025-10-30T06:39:41.725618Z",
     "shell.execute_reply": "2025-10-30T06:39:41.725618Z"
    }
   },
   "outputs": [
    {
     "name": "stdout",
     "output_type": "stream",
     "text": [
      "PyAEDT INFO: Project dynamic_rom Saved correctly\n"
     ]
    },
    {
     "name": "stdout",
     "output_type": "stream",
     "text": [
      "PyAEDT INFO: Desktop has been released and closed.\n"
     ]
    }
   ],
   "source": [
    "tb.save_project()\n",
    "tb.release_desktop()\n",
    "# Wait 3 seconds to allow AEDT to shut down before cleaning the temporary directory.\n",
    "time.sleep(3)"
   ]
  },
  {
   "cell_type": "markdown",
   "id": "9648f353",
   "metadata": {},
   "source": [
    "## Clean up\n",
    "\n",
    "All project files are saved in the folder ``temp_folder.name``. If you've run this example as a Jupyter notebook, you\n",
    "can retrieve those project files. The following cell removes all temporary files, including the project folder."
   ]
  },
  {
   "cell_type": "code",
   "execution_count": 27,
   "id": "60ed643d",
   "metadata": {
    "execution": {
     "iopub.execute_input": "2025-10-30T06:39:41.729768Z",
     "iopub.status.busy": "2025-10-30T06:39:41.729768Z",
     "iopub.status.idle": "2025-10-30T06:39:41.741637Z",
     "shell.execute_reply": "2025-10-30T06:39:41.741637Z"
    }
   },
   "outputs": [],
   "source": [
    "temp_folder.cleanup()"
   ]
  }
 ],
 "metadata": {
  "jupytext": {
   "cell_metadata_filter": "-all",
   "main_language": "python",
   "notebook_metadata_filter": "-all"
  },
  "language_info": {
   "codemirror_mode": {
    "name": "ipython",
    "version": 3
   },
   "file_extension": ".py",
   "mimetype": "text/x-python",
   "name": "python",
   "nbconvert_exporter": "python",
   "pygments_lexer": "ipython3",
   "version": "3.10.11"
  }
 },
 "nbformat": 4,
 "nbformat_minor": 5
}
