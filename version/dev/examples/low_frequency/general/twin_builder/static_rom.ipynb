{
 "cells": [
  {
   "cell_type": "markdown",
   "id": "9888197b",
   "metadata": {},
   "source": [
    "# Static ROM\n",
    "\n",
    "This example shows how to create a static reduced order model (ROM)\n",
    "in Twin Builder and run a transient simulation.\n",
    "\n",
    "> **Note:** This example uses functionality only available in Twin Builder 2024 R2 and later.\n",
    "\n",
    "Keywords: **Twin Builder**, **Static ROM**."
   ]
  },
  {
   "cell_type": "markdown",
   "id": "8b8adc1a",
   "metadata": {},
   "source": [
    "## Perform imports and define constants\n",
    "\n",
    "Perform required imports."
   ]
  },
  {
   "cell_type": "code",
   "execution_count": 1,
   "id": "34462e57",
   "metadata": {
    "execution": {
     "iopub.execute_input": "2025-10-30T06:43:37.159236Z",
     "iopub.status.busy": "2025-10-30T06:43:37.159236Z",
     "iopub.status.idle": "2025-10-30T06:43:40.260286Z",
     "shell.execute_reply": "2025-10-30T06:43:40.260286Z"
    }
   },
   "outputs": [],
   "source": [
    "import os\n",
    "import shutil\n",
    "import tempfile\n",
    "import time\n",
    "\n",
    "from ansys.aedt.core import TwinBuilder\n",
    "from ansys.aedt.core.examples import downloads"
   ]
  },
  {
   "cell_type": "markdown",
   "id": "c10e6913",
   "metadata": {},
   "source": [
    "Define constants."
   ]
  },
  {
   "cell_type": "code",
   "execution_count": 2,
   "id": "271fe7d6",
   "metadata": {
    "execution": {
     "iopub.execute_input": "2025-10-30T06:43:40.260286Z",
     "iopub.status.busy": "2025-10-30T06:43:40.260286Z",
     "iopub.status.idle": "2025-10-30T06:43:40.276260Z",
     "shell.execute_reply": "2025-10-30T06:43:40.276260Z"
    }
   },
   "outputs": [],
   "source": [
    "AEDT_VERSION = \"2025.2\"\n",
    "NUM_CORES = 4\n",
    "NG_MODE = False  # Open AEDT UI when it is launched."
   ]
  },
  {
   "cell_type": "markdown",
   "id": "9b95c91f",
   "metadata": {},
   "source": [
    "## Create temporary directory\n",
    "\n",
    "Create a temporary directory where downloaded data or\n",
    "dumped data can be stored.\n",
    "If you'd like to retrieve the project data for subsequent use,\n",
    "the temporary folder name is given by ``temp_folder.name``."
   ]
  },
  {
   "cell_type": "code",
   "execution_count": 3,
   "id": "f5070b80",
   "metadata": {
    "execution": {
     "iopub.execute_input": "2025-10-30T06:43:40.276260Z",
     "iopub.status.busy": "2025-10-30T06:43:40.276260Z",
     "iopub.status.idle": "2025-10-30T06:43:40.292270Z",
     "shell.execute_reply": "2025-10-30T06:43:40.292270Z"
    }
   },
   "outputs": [],
   "source": [
    "temp_folder = tempfile.TemporaryDirectory(suffix=\".ansys\")"
   ]
  },
  {
   "cell_type": "markdown",
   "id": "69f88db9",
   "metadata": {},
   "source": [
    "## Set up input data\n",
    "\n",
    "The following files are downloaded along with the\n",
    "other project data used to run this example."
   ]
  },
  {
   "cell_type": "code",
   "execution_count": 4,
   "id": "c2191962",
   "metadata": {
    "execution": {
     "iopub.execute_input": "2025-10-30T06:43:40.292270Z",
     "iopub.status.busy": "2025-10-30T06:43:40.292270Z",
     "iopub.status.idle": "2025-10-30T06:43:40.308270Z",
     "shell.execute_reply": "2025-10-30T06:43:40.308270Z"
    }
   },
   "outputs": [],
   "source": [
    "source_snapshot_data_zipfilename = \"Ex1_Fluent_StaticRom.zip\"\n",
    "source_build_conf_file = \"SROMbuild.conf\"\n",
    "source_props_conf_file = \"SROM_props.conf\""
   ]
  },
  {
   "cell_type": "markdown",
   "id": "434ebe67",
   "metadata": {},
   "source": [
    "## Download example data\n",
    "\n",
    "The following cell downloads the required files needed to run this example and\n",
    "extracts them in a local folder named ``\"Ex04\"``."
   ]
  },
  {
   "cell_type": "code",
   "execution_count": 5,
   "id": "923de43c",
   "metadata": {
    "execution": {
     "iopub.execute_input": "2025-10-30T06:43:40.308270Z",
     "iopub.status.busy": "2025-10-30T06:43:40.308270Z",
     "iopub.status.idle": "2025-10-30T06:43:42.957234Z",
     "shell.execute_reply": "2025-10-30T06:43:42.957234Z"
    }
   },
   "outputs": [
    {
     "name": "stdout",
     "output_type": "stream",
     "text": [
      "C:\\Users\\ansys\\AppData\\Local\\Temp\\tmpbmkbco0g.ansys\\twin_builder\\Ex04\n"
     ]
    },
    {
     "data": {
      "text/plain": [
       "'C:\\\\Users\\\\ansys\\\\AppData\\\\Local\\\\Temp\\\\tmpbmkbco0g.ansys\\\\twin_builder\\\\Ex04\\\\SROM_props.conf'"
      ]
     },
     "execution_count": 5,
     "metadata": {},
     "output_type": "execute_result"
    }
   ],
   "source": [
    "downloads.download_twin_builder_data(\n",
    "    file_name=source_snapshot_data_zipfilename,\n",
    "    force_download=True,\n",
    "    local_path=temp_folder.name,\n",
    ")\n",
    "\n",
    "downloads.download_twin_builder_data(source_build_conf_file, True, temp_folder.name)\n",
    "downloads.download_twin_builder_data(\n",
    "    source_props_conf_file, True, temp_folder.name\n",
    ")\n",
    "\n",
    "# Target folder to extract project files.\n",
    "twin_builder_data_folder = os.path.join(temp_folder.name, \"twin_builder\")\n",
    "data_folder = os.path.join(twin_builder_data_folder, \"Ex04\")\n",
    "\n",
    "# Unzip training data and config file\n",
    "downloads.unzip(\n",
    "    os.path.join(twin_builder_data_folder, source_snapshot_data_zipfilename), data_folder\n",
    ")\n",
    "shutil.copyfile(\n",
    "    os.path.join(twin_builder_data_folder, source_build_conf_file),\n",
    "    os.path.join(data_folder, source_build_conf_file),\n",
    ")\n",
    "shutil.copyfile(\n",
    "    os.path.join(twin_builder_data_folder, source_props_conf_file),\n",
    "    os.path.join(data_folder, source_props_conf_file),\n",
    ")"
   ]
  },
  {
   "cell_type": "markdown",
   "id": "b89da28d",
   "metadata": {},
   "source": [
    "## Launch Twin Builder and build ROM component\n",
    "\n",
    "Launch Twin Builder using an implicit declaration and add a new design with\n",
    "the default setup for building the static ROM component."
   ]
  },
  {
   "cell_type": "code",
   "execution_count": 6,
   "id": "18735741",
   "metadata": {
    "execution": {
     "iopub.execute_input": "2025-10-30T06:43:42.957234Z",
     "iopub.status.busy": "2025-10-30T06:43:42.957234Z",
     "iopub.status.idle": "2025-10-30T06:44:11.304107Z",
     "shell.execute_reply": "2025-10-30T06:44:11.304107Z"
    }
   },
   "outputs": [
    {
     "name": "stdout",
     "output_type": "stream",
     "text": [
      "PyAEDT INFO: Python version 3.10.11 (tags/v3.10.11:7d4cc5a, Apr  5 2023, 00:38:17) [MSC v.1929 64 bit (AMD64)].\n"
     ]
    },
    {
     "name": "stdout",
     "output_type": "stream",
     "text": [
      "PyAEDT INFO: PyAEDT version 0.22.dev0.\n"
     ]
    },
    {
     "name": "stdout",
     "output_type": "stream",
     "text": [
      "PyAEDT INFO: Initializing new Desktop session.\n"
     ]
    },
    {
     "name": "stdout",
     "output_type": "stream",
     "text": [
      "PyAEDT INFO: Log on console is enabled.\n"
     ]
    },
    {
     "name": "stdout",
     "output_type": "stream",
     "text": [
      "PyAEDT INFO: Log on file C:\\Users\\ansys\\AppData\\Local\\Temp\\pyaedt_ansys_3aff7d48-b394-43a6-bd37-a2394d2041b0.log is enabled.\n"
     ]
    },
    {
     "name": "stdout",
     "output_type": "stream",
     "text": [
      "PyAEDT INFO: Log on AEDT is disabled.\n"
     ]
    },
    {
     "name": "stdout",
     "output_type": "stream",
     "text": [
      "PyAEDT INFO: Debug logger is disabled. PyAEDT methods will not be logged.\n"
     ]
    },
    {
     "name": "stdout",
     "output_type": "stream",
     "text": [
      "PyAEDT INFO: Launching PyAEDT with gRPC plugin.\n"
     ]
    },
    {
     "name": "stdout",
     "output_type": "stream",
     "text": [
      "PyAEDT INFO: New AEDT session is starting on gRPC port 49834.\n"
     ]
    },
    {
     "name": "stdout",
     "output_type": "stream",
     "text": [
      "PyAEDT INFO: Electronics Desktop started on gRPC port: 49834 after 10.923245191574097 seconds.\n"
     ]
    },
    {
     "name": "stdout",
     "output_type": "stream",
     "text": [
      "PyAEDT INFO: AEDT installation Path C:\\Program Files\\ANSYS Inc\\v252\\AnsysEM\n"
     ]
    },
    {
     "name": "stdout",
     "output_type": "stream",
     "text": [
      "PyAEDT INFO: Ansoft.ElectronicsDesktop.2025.2 version started with process ID 7572.\n"
     ]
    },
    {
     "name": "stdout",
     "output_type": "stream",
     "text": [
      "PyAEDT INFO: Project static_rom has been created.\n"
     ]
    },
    {
     "name": "stdout",
     "output_type": "stream",
     "text": [
      "PyAEDT INFO: No design is present. Inserting a new design.\n"
     ]
    },
    {
     "name": "stdout",
     "output_type": "stream",
     "text": [
      "PyAEDT INFO: Added design 'Twin Builder_F6W' of type Twin Builder.\n"
     ]
    },
    {
     "name": "stdout",
     "output_type": "stream",
     "text": [
      "PyAEDT INFO: Aedt Objects correctly read\n"
     ]
    }
   ],
   "source": [
    "project_name = os.path.join(temp_folder.name, \"static_rom.aedt\")\n",
    "tb = TwinBuilder(\n",
    "    project=project_name,\n",
    "    version=AEDT_VERSION,\n",
    "    non_graphical=NG_MODE,\n",
    "    new_desktop=True,\n",
    ")"
   ]
  },
  {
   "cell_type": "markdown",
   "id": "60545b7b",
   "metadata": {},
   "source": [
    "## Configure AEDT\n",
    "\n",
    "> **Note:** Only run the following cell if AEDT is not configured to run Twin Builder.\n",
    ">\n",
    "> The following cell configures AEDT and the schematic editor\n",
    "> to use the ``Twin Builder`` configuration.\n",
    "> The Static ROM feature is only available with a Twin Builder license.\n",
    "> A cell at the end of this example restores the AEDT configuration. If your\n",
    "> environment is set up to use the ``Twin Builder`` configuration, you do not\n",
    "> need to run these sections."
   ]
  },
  {
   "cell_type": "code",
   "execution_count": 7,
   "id": "8fc51938",
   "metadata": {
    "execution": {
     "iopub.execute_input": "2025-10-30T06:44:11.304107Z",
     "iopub.status.busy": "2025-10-30T06:44:11.304107Z",
     "iopub.status.idle": "2025-10-30T06:44:11.320197Z",
     "shell.execute_reply": "2025-10-30T06:44:11.320197Z"
    }
   },
   "outputs": [],
   "source": [
    "current_desktop_config = tb._odesktop.GetDesktopConfiguration()\n",
    "current_schematic_environment = tb._odesktop.GetSchematicEnvironment()\n",
    "tb._odesktop.SetDesktopConfiguration(\"Twin Builder\")\n",
    "tb._odesktop.SetSchematicEnvironment(1)"
   ]
  },
  {
   "cell_type": "code",
   "execution_count": 8,
   "id": "a6e539da",
   "metadata": {
    "execution": {
     "iopub.execute_input": "2025-10-30T06:44:11.320197Z",
     "iopub.status.busy": "2025-10-30T06:44:11.320197Z",
     "iopub.status.idle": "2025-10-30T06:44:18.797080Z",
     "shell.execute_reply": "2025-10-30T06:44:18.797080Z"
    }
   },
   "outputs": [
    {
     "name": "stdout",
     "output_type": "stream",
     "text": [
      "PyAEDT INFO: Built intermediate rom file successfully at: C:\\Users\\ansys\\AppData\\Local\\Temp\\tmpbmkbco0g.ansys\\twin_builder\\Ex04\\StaticRom.rom\n"
     ]
    }
   ],
   "source": [
    "# Get the static ROM builder object.\n",
    "rom_manager = tb._odesign.GetROMManager()\n",
    "static_rom_builder = rom_manager.GetStaticROMBuilder()\n",
    "\n",
    "# Build the static ROM with the specified configuration file\n",
    "confpath = os.path.join(data_folder, source_build_conf_file)\n",
    "static_rom_builder.Build(confpath.replace(\"\\\\\", \"/\"))\n",
    "\n",
    "# Test if the ROM was created successfully.\n",
    "static_rom_path = os.path.join(data_folder, \"StaticRom.rom\")\n",
    "if os.path.exists(static_rom_path):\n",
    "    tb.logger.info(\"Built intermediate rom file successfully at: %s\", static_rom_path)\n",
    "else:\n",
    "    tb.logger.error(\"Intermediate rom file not found at: %s\", static_rom_path)\n",
    "\n",
    "# Create the ROM component definition in Twin Builder.\n",
    "rom_manager.CreateROMComponent(static_rom_path.replace(\"\\\\\", \"/\"), \"staticrom\")"
   ]
  },
  {
   "cell_type": "markdown",
   "id": "7837d9ac",
   "metadata": {},
   "source": [
    "## Create schematic\n",
    "\n",
    "Place components to create the schematic."
   ]
  },
  {
   "cell_type": "code",
   "execution_count": 9,
   "id": "f5f3f3bb",
   "metadata": {
    "execution": {
     "iopub.execute_input": "2025-10-30T06:44:18.797080Z",
     "iopub.status.busy": "2025-10-30T06:44:18.797080Z",
     "iopub.status.idle": "2025-10-30T06:44:19.256795Z",
     "shell.execute_reply": "2025-10-30T06:44:19.256177Z"
    }
   },
   "outputs": [
    {
     "name": "stdout",
     "output_type": "stream",
     "text": [
      "PyAEDT INFO: ModelerCircuit class has been initialized! Elapsed time: 0m 0sec\n"
     ]
    },
    {
     "name": "stdout",
     "output_type": "stream",
     "text": [
      "PyAEDT INFO: ModelerTwinBuilder class has been initialized!\n"
     ]
    }
   ],
   "source": [
    "# Define the grid distance for ease in calculations.\n",
    "G = 0.00254\n",
    "\n",
    "# Place a dynamic ROM component.\n",
    "rom1 = tb.modeler.schematic.create_component(\"ROM1\", \"\", \"staticrom\", [40 * G, 25 * G])\n",
    "\n",
    "# Place two excitation sources.\n",
    "source1 = tb.modeler.schematic.create_periodic_waveform_source(\n",
    "    None, \"SINE\", 2.5, 0.01, 0, 7.5, 0, [20 * G, 29 * G]\n",
    ")\n",
    "source2 = tb.modeler.schematic.create_periodic_waveform_source(\n",
    "    None, \"SINE\", 50, 0.02, 0, 450, 0, [20 * G, 25 * G]\n",
    ")"
   ]
  },
  {
   "cell_type": "markdown",
   "id": "3f271720",
   "metadata": {},
   "source": [
    "Connect components with wires."
   ]
  },
  {
   "cell_type": "code",
   "execution_count": 10,
   "id": "12be1c37",
   "metadata": {
    "execution": {
     "iopub.execute_input": "2025-10-30T06:44:19.260808Z",
     "iopub.status.busy": "2025-10-30T06:44:19.260808Z",
     "iopub.status.idle": "2025-10-30T06:44:19.287818Z",
     "shell.execute_reply": "2025-10-30T06:44:19.287818Z"
    }
   },
   "outputs": [
    {
     "data": {
      "text/plain": [
       "<ansys.aedt.core.modeler.circuits.object_3d_circuit.Wire at 0x2bf0aa20b20>"
      ]
     },
     "execution_count": 10,
     "metadata": {},
     "output_type": "execute_result"
    }
   ],
   "source": [
    "tb.modeler.schematic.create_wire([[22 * G, 29 * G], [33 * G, 29 * G]])\n",
    "tb.modeler.schematic.create_wire(\n",
    "    [[22 * G, 25 * G], [30 * G, 25 * G], [30 * G, 28 * G], [33 * G, 28 * G]]\n",
    ")"
   ]
  },
  {
   "cell_type": "markdown",
   "id": "d9c01441",
   "metadata": {},
   "source": [
    "Enable storage of views."
   ]
  },
  {
   "cell_type": "code",
   "execution_count": 11,
   "id": "547eef2d",
   "metadata": {
    "execution": {
     "iopub.execute_input": "2025-10-30T06:44:19.287818Z",
     "iopub.status.busy": "2025-10-30T06:44:19.287818Z",
     "iopub.status.idle": "2025-10-30T06:44:19.335253Z",
     "shell.execute_reply": "2025-10-30T06:44:19.335253Z"
    }
   },
   "outputs": [
    {
     "data": {
      "text/plain": [
       "True"
      ]
     },
     "execution_count": 11,
     "metadata": {},
     "output_type": "execute_result"
    }
   ],
   "source": [
    "rom1.set_property(\"store_snapshots\", 1)\n",
    "rom1.set_property(\"view1_storage_period\", \"10s\")\n",
    "rom1.set_property(\"view2_storage_period\", \"10s\")"
   ]
  },
  {
   "cell_type": "code",
   "execution_count": 12,
   "id": "abf68425",
   "metadata": {
    "execution": {
     "iopub.execute_input": "2025-10-30T06:44:19.335253Z",
     "iopub.status.busy": "2025-10-30T06:44:19.335253Z",
     "iopub.status.idle": "2025-10-30T06:44:19.352118Z",
     "shell.execute_reply": "2025-10-30T06:44:19.351546Z"
    }
   },
   "outputs": [],
   "source": [
    "# Zoom to fit the schematic\n",
    "tb.modeler.zoom_to_fit()"
   ]
  },
  {
   "cell_type": "markdown",
   "id": "8a42eed1",
   "metadata": {},
   "source": [
    "## Parametrize transient setup\n",
    "\n",
    "Parametrize the default transient setup by setting the end time."
   ]
  },
  {
   "cell_type": "code",
   "execution_count": 13,
   "id": "b79603cc",
   "metadata": {
    "execution": {
     "iopub.execute_input": "2025-10-30T06:44:19.354917Z",
     "iopub.status.busy": "2025-10-30T06:44:19.354917Z",
     "iopub.status.idle": "2025-10-30T06:44:19.383315Z",
     "shell.execute_reply": "2025-10-30T06:44:19.383315Z"
    }
   },
   "outputs": [
    {
     "data": {
      "text/plain": [
       "True"
      ]
     },
     "execution_count": 13,
     "metadata": {},
     "output_type": "execute_result"
    }
   ],
   "source": [
    "tb.set_end_time(\"300s\")\n",
    "tb.set_hmin(\"1s\")\n",
    "tb.set_hmax(\"1s\")"
   ]
  },
  {
   "cell_type": "markdown",
   "id": "6e189236",
   "metadata": {},
   "source": [
    "## Solve transient setup\n",
    "\n",
    "Solve the transient setup. Skipping this step in case the documentation is being built."
   ]
  },
  {
   "cell_type": "markdown",
   "id": "63ebc0e0",
   "metadata": {},
   "source": [
    "> **Note:** The following code can be uncommented.\n",
    "\n",
    "tb.analyze_setup(\"TR\")"
   ]
  },
  {
   "cell_type": "markdown",
   "id": "25bd173b",
   "metadata": {},
   "source": [
    "## Get report data and plot using Matplotlib\n",
    "\n",
    "Get report data and plot it using Matplotlib. The following code gets and plots\n",
    "the values for the voltage on the pulse voltage source and the values for the\n",
    "output of the dynamic ROM."
   ]
  },
  {
   "cell_type": "markdown",
   "id": "d6a64ed2",
   "metadata": {
    "lines_to_next_cell": 2
   },
   "source": [
    "> **Note:** The following code can be uncommented, but it depends on the previous commented code.\n",
    "\n",
    "e_value = \"ROM1.outfield_mode_1\"\n",
    "x = tb.post.get_solution_data(e_value, \"TR\", \"Time\")\n",
    "x.plot()\n",
    "e_value = \"ROM1.outfield_mode_2\"\n",
    "x = tb.post.get_solution_data(e_value, \"TR\", \"Time\")\n",
    "x.plot()\n",
    "e_value = \"SINE1.VAL\"\n",
    "x = tb.post.get_solution_data(e_value, \"TR\", \"Time\")\n",
    "x.plot()\n",
    "e_value = \"SINE2.VAL\"\n",
    "x = tb.post.get_solution_data(e_value, \"TR\", \"Time\")\n",
    "x.plot()"
   ]
  },
  {
   "cell_type": "markdown",
   "id": "615055a8",
   "metadata": {},
   "source": [
    "## Close Twin Builder\n",
    "\n",
    "After the simulation is completed, either close Twin Builder or release it.\n",
    "All methods provide for saving the project before closing."
   ]
  },
  {
   "cell_type": "code",
   "execution_count": 14,
   "id": "674a1005",
   "metadata": {
    "execution": {
     "iopub.execute_input": "2025-10-30T06:44:19.383315Z",
     "iopub.status.busy": "2025-10-30T06:44:19.383315Z",
     "iopub.status.idle": "2025-10-30T06:44:19.415162Z",
     "shell.execute_reply": "2025-10-30T06:44:19.415162Z"
    }
   },
   "outputs": [],
   "source": [
    "# Clean up the downloaded data.\n",
    "shutil.rmtree(twin_builder_data_folder)"
   ]
  },
  {
   "cell_type": "code",
   "execution_count": 15,
   "id": "78007f15",
   "metadata": {
    "execution": {
     "iopub.execute_input": "2025-10-30T06:44:19.415162Z",
     "iopub.status.busy": "2025-10-30T06:44:19.415162Z",
     "iopub.status.idle": "2025-10-30T06:44:19.431286Z",
     "shell.execute_reply": "2025-10-30T06:44:19.431286Z"
    }
   },
   "outputs": [],
   "source": [
    "# Restore earlier desktop configuration and schematic environment.\n",
    "tb._odesktop.SetDesktopConfiguration(current_desktop_config)\n",
    "tb._odesktop.SetSchematicEnvironment(current_schematic_environment)"
   ]
  },
  {
   "cell_type": "markdown",
   "id": "4a9dc0ea",
   "metadata": {},
   "source": [
    "## Release AEDT\n",
    "\n",
    "Release AEDT and close the example."
   ]
  },
  {
   "cell_type": "code",
   "execution_count": 16,
   "id": "72fc2928",
   "metadata": {
    "execution": {
     "iopub.execute_input": "2025-10-30T06:44:19.431286Z",
     "iopub.status.busy": "2025-10-30T06:44:19.431286Z",
     "iopub.status.idle": "2025-10-30T06:44:45.141027Z",
     "shell.execute_reply": "2025-10-30T06:44:45.141027Z"
    }
   },
   "outputs": [
    {
     "name": "stdout",
     "output_type": "stream",
     "text": [
      "PyAEDT INFO: Project static_rom Saved correctly\n"
     ]
    },
    {
     "name": "stdout",
     "output_type": "stream",
     "text": [
      "PyAEDT INFO: Desktop has been released and closed.\n"
     ]
    }
   ],
   "source": [
    "tb.save_project()\n",
    "tb.release_desktop()\n",
    "# Wait 3 seconds to allow AEDT to shut down before cleaning the temporary directory.\n",
    "time.sleep(3)"
   ]
  },
  {
   "cell_type": "markdown",
   "id": "39e8be33",
   "metadata": {},
   "source": [
    "## Clean up\n",
    "\n",
    "All project files are saved in the folder ``temp_folder.name``. If you've run this example as a Jupyter notebook, you\n",
    "can retrieve those project files. The following cell removes all temporary files, including the project folder."
   ]
  },
  {
   "cell_type": "code",
   "execution_count": 17,
   "id": "5b3cfd1b",
   "metadata": {
    "execution": {
     "iopub.execute_input": "2025-10-30T06:44:45.141027Z",
     "iopub.status.busy": "2025-10-30T06:44:45.141027Z",
     "iopub.status.idle": "2025-10-30T06:44:45.157058Z",
     "shell.execute_reply": "2025-10-30T06:44:45.157058Z"
    }
   },
   "outputs": [],
   "source": [
    "temp_folder.cleanup()"
   ]
  }
 ],
 "metadata": {
  "jupytext": {
   "cell_metadata_filter": "-all",
   "main_language": "python",
   "notebook_metadata_filter": "-all"
  },
  "language_info": {
   "codemirror_mode": {
    "name": "ipython",
    "version": 3
   },
   "file_extension": ".py",
   "mimetype": "text/x-python",
   "name": "python",
   "nbconvert_exporter": "python",
   "pygments_lexer": "ipython3",
   "version": "3.10.11"
  }
 },
 "nbformat": 4,
 "nbformat_minor": 5
}
