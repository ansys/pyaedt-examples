{
 "cells": [
  {
   "cell_type": "markdown",
   "id": "dee3e23f",
   "metadata": {},
   "source": [
    "# Wiring of a rectifier with a capacitor filter\n",
    "\n",
    "This example shows how to use PyAEDT to create a Twin Builder design\n",
    "and run a Twin Builder time-domain simulation.\n",
    "\n",
    "<img src=\"_static/rectifier.png\" width=\"500\">\n",
    "\n",
    "Keywords: **Twin Builder**, **rectifier**, **filter**."
   ]
  },
  {
   "cell_type": "markdown",
   "id": "20d8ce6c",
   "metadata": {},
   "source": [
    "## Perform imports and define constants\n",
    "\n",
    "Perform required imports."
   ]
  },
  {
   "cell_type": "code",
   "execution_count": 1,
   "id": "1633d103",
   "metadata": {
    "execution": {
     "iopub.execute_input": "2025-10-30T06:42:22.499529Z",
     "iopub.status.busy": "2025-10-30T06:42:22.499529Z",
     "iopub.status.idle": "2025-10-30T06:42:26.103750Z",
     "shell.execute_reply": "2025-10-30T06:42:26.103750Z"
    }
   },
   "outputs": [],
   "source": [
    "import os\n",
    "import tempfile\n",
    "import time\n",
    "\n",
    "import ansys.aedt.core\n",
    "import matplotlib.pyplot as plt"
   ]
  },
  {
   "cell_type": "markdown",
   "id": "e7909845",
   "metadata": {},
   "source": [
    "Define constants."
   ]
  },
  {
   "cell_type": "code",
   "execution_count": 2,
   "id": "629985de",
   "metadata": {
    "execution": {
     "iopub.execute_input": "2025-10-30T06:42:26.103750Z",
     "iopub.status.busy": "2025-10-30T06:42:26.103750Z",
     "iopub.status.idle": "2025-10-30T06:42:26.119483Z",
     "shell.execute_reply": "2025-10-30T06:42:26.119483Z"
    }
   },
   "outputs": [],
   "source": [
    "AEDT_VERSION = \"2025.2\"\n",
    "NUM_CORES = 4\n",
    "NG_MODE = False  # Open AEDT UI when it is launched."
   ]
  },
  {
   "cell_type": "markdown",
   "id": "1bf87adc",
   "metadata": {},
   "source": [
    "## Create temporary directory\n",
    "\n",
    "Create a temporary directory where downloaded data or\n",
    "dumped data can be stored.\n",
    "If you'd like to retrieve the project data for subsequent use,\n",
    "the temporary folder name is given by ``temp_folder.name``."
   ]
  },
  {
   "cell_type": "code",
   "execution_count": 3,
   "id": "09f56007",
   "metadata": {
    "execution": {
     "iopub.execute_input": "2025-10-30T06:42:26.119483Z",
     "iopub.status.busy": "2025-10-30T06:42:26.119483Z",
     "iopub.status.idle": "2025-10-30T06:42:26.135658Z",
     "shell.execute_reply": "2025-10-30T06:42:26.135658Z"
    }
   },
   "outputs": [],
   "source": [
    "temp_folder = tempfile.TemporaryDirectory(suffix=\".ansys\")"
   ]
  },
  {
   "cell_type": "markdown",
   "id": "d6405731",
   "metadata": {},
   "source": [
    "## Launch Twin Builder\n",
    "\n",
    "Launch Twin Builder using an implicit declaration and add a new design with\n",
    "the default setup."
   ]
  },
  {
   "cell_type": "code",
   "execution_count": 4,
   "id": "389e324d",
   "metadata": {
    "execution": {
     "iopub.execute_input": "2025-10-30T06:42:26.135658Z",
     "iopub.status.busy": "2025-10-30T06:42:26.135658Z",
     "iopub.status.idle": "2025-10-30T06:42:53.946114Z",
     "shell.execute_reply": "2025-10-30T06:42:53.946114Z"
    }
   },
   "outputs": [
    {
     "name": "stdout",
     "output_type": "stream",
     "text": [
      "PyAEDT INFO: Python version 3.10.11 (tags/v3.10.11:7d4cc5a, Apr  5 2023, 00:38:17) [MSC v.1929 64 bit (AMD64)].\n"
     ]
    },
    {
     "name": "stdout",
     "output_type": "stream",
     "text": [
      "PyAEDT INFO: PyAEDT version 0.22.dev0.\n"
     ]
    },
    {
     "name": "stdout",
     "output_type": "stream",
     "text": [
      "PyAEDT INFO: Initializing new Desktop session.\n"
     ]
    },
    {
     "name": "stdout",
     "output_type": "stream",
     "text": [
      "PyAEDT INFO: Log on console is enabled.\n"
     ]
    },
    {
     "name": "stdout",
     "output_type": "stream",
     "text": [
      "PyAEDT INFO: Log on file C:\\Users\\ansys\\AppData\\Local\\Temp\\pyaedt_ansys_e9d3ce42-d66a-4e78-b439-9c5741d34bdd.log is enabled.\n"
     ]
    },
    {
     "name": "stdout",
     "output_type": "stream",
     "text": [
      "PyAEDT INFO: Log on AEDT is disabled.\n"
     ]
    },
    {
     "name": "stdout",
     "output_type": "stream",
     "text": [
      "PyAEDT INFO: Debug logger is disabled. PyAEDT methods will not be logged.\n"
     ]
    },
    {
     "name": "stdout",
     "output_type": "stream",
     "text": [
      "PyAEDT INFO: Launching PyAEDT with gRPC plugin.\n"
     ]
    },
    {
     "name": "stdout",
     "output_type": "stream",
     "text": [
      "PyAEDT INFO: New AEDT session is starting on gRPC port 49630.\n"
     ]
    },
    {
     "name": "stdout",
     "output_type": "stream",
     "text": [
      "PyAEDT INFO: Electronics Desktop started on gRPC port: 49630 after 10.43108582496643 seconds.\n"
     ]
    },
    {
     "name": "stdout",
     "output_type": "stream",
     "text": [
      "PyAEDT INFO: AEDT installation Path C:\\Program Files\\ANSYS Inc\\v252\\AnsysEM\n"
     ]
    },
    {
     "name": "stdout",
     "output_type": "stream",
     "text": [
      "PyAEDT INFO: Ansoft.ElectronicsDesktop.2025.2 version started with process ID 7112.\n"
     ]
    },
    {
     "name": "stdout",
     "output_type": "stream",
     "text": [
      "PyAEDT INFO: Project TB_Rectifier_Demo has been created.\n"
     ]
    },
    {
     "name": "stdout",
     "output_type": "stream",
     "text": [
      "PyAEDT INFO: No design is present. Inserting a new design.\n"
     ]
    },
    {
     "name": "stdout",
     "output_type": "stream",
     "text": [
      "PyAEDT INFO: Added design 'Twin Builder_U5Q' of type Twin Builder.\n"
     ]
    },
    {
     "name": "stdout",
     "output_type": "stream",
     "text": [
      "PyAEDT INFO: Aedt Objects correctly read\n"
     ]
    }
   ],
   "source": [
    "project_name = os.path.join(temp_folder.name, \"TB_Rectifier_Demo.aedt\")\n",
    "tb = ansys.aedt.core.TwinBuilder(\n",
    "    project=project_name,\n",
    "    version=AEDT_VERSION,\n",
    "    non_graphical=NG_MODE,\n",
    "    new_desktop=True,\n",
    ")"
   ]
  },
  {
   "cell_type": "markdown",
   "id": "3f4ab880",
   "metadata": {},
   "source": [
    "## Create components\n",
    "\n",
    "Place components for a bridge rectifier and a capacitor filter in the schematic editor.\n",
    "\n",
    "Specify the grid spacing to use for placement\n",
    "of components in the schematic editor. Components are placed using the named\n",
    "argument ``location`` as a list of ``[x, y]`` values in millimeters."
   ]
  },
  {
   "cell_type": "code",
   "execution_count": 5,
   "id": "c3a6e156",
   "metadata": {
    "execution": {
     "iopub.execute_input": "2025-10-30T06:42:53.946114Z",
     "iopub.status.busy": "2025-10-30T06:42:53.946114Z",
     "iopub.status.idle": "2025-10-30T06:42:53.963086Z",
     "shell.execute_reply": "2025-10-30T06:42:53.961981Z"
    }
   },
   "outputs": [],
   "source": [
    "G = 0.00254"
   ]
  },
  {
   "cell_type": "markdown",
   "id": "3d00f5d3",
   "metadata": {},
   "source": [
    "Create an AC sinosoidal voltage source."
   ]
  },
  {
   "cell_type": "code",
   "execution_count": 6,
   "id": "a5582a92",
   "metadata": {
    "execution": {
     "iopub.execute_input": "2025-10-30T06:42:53.963086Z",
     "iopub.status.busy": "2025-10-30T06:42:53.963086Z",
     "iopub.status.idle": "2025-10-30T06:42:54.343987Z",
     "shell.execute_reply": "2025-10-30T06:42:54.343987Z"
    }
   },
   "outputs": [
    {
     "name": "stdout",
     "output_type": "stream",
     "text": [
      "PyAEDT INFO: ModelerCircuit class has been initialized! Elapsed time: 0m 0sec\n"
     ]
    },
    {
     "name": "stdout",
     "output_type": "stream",
     "text": [
      "PyAEDT INFO: ModelerTwinBuilder class has been initialized!\n"
     ]
    }
   ],
   "source": [
    "source = tb.modeler.schematic.create_voltage_source(\n",
    "    \"V_AC\", \"ESINE\", 100, 50, location=[-1 * G, 0]\n",
    ")"
   ]
  },
  {
   "cell_type": "markdown",
   "id": "a51990cc",
   "metadata": {},
   "source": [
    "Place the four diodes of the bridge rectifier. The named argument ``angle`` is the rotation angle\n",
    "of the component in radians."
   ]
  },
  {
   "cell_type": "code",
   "execution_count": 7,
   "id": "347918b7",
   "metadata": {
    "execution": {
     "iopub.execute_input": "2025-10-30T06:42:54.343987Z",
     "iopub.status.busy": "2025-10-30T06:42:54.343987Z",
     "iopub.status.idle": "2025-10-30T06:42:54.723545Z",
     "shell.execute_reply": "2025-10-30T06:42:54.723545Z"
    }
   },
   "outputs": [],
   "source": [
    "diode1 = tb.modeler.schematic.create_diode(\n",
    "    name=\"D1\", location=[10 * G, 6 * G], angle=270\n",
    ")\n",
    "diode2 = tb.modeler.schematic.create_diode(\n",
    "    name=\"D2\", location=[20 * G, 6 * G], angle=270\n",
    ")\n",
    "diode3 = tb.modeler.schematic.create_diode(\n",
    "    name=\"D3\", location=[10 * G, -4 * G], angle=270\n",
    ")\n",
    "diode4 = tb.modeler.schematic.create_diode(\n",
    "    name=\"D4\", location=[20 * G, -4 * G], angle=270\n",
    ")"
   ]
  },
  {
   "cell_type": "markdown",
   "id": "14bfbab7",
   "metadata": {},
   "source": [
    "Place a capacitor filter."
   ]
  },
  {
   "cell_type": "code",
   "execution_count": 8,
   "id": "4cc29963",
   "metadata": {
    "execution": {
     "iopub.execute_input": "2025-10-30T06:42:54.723545Z",
     "iopub.status.busy": "2025-10-30T06:42:54.723545Z",
     "iopub.status.idle": "2025-10-30T06:42:54.787668Z",
     "shell.execute_reply": "2025-10-30T06:42:54.787040Z"
    }
   },
   "outputs": [],
   "source": [
    "capacitor = tb.modeler.schematic.create_capacitor(\n",
    "    name=\"C_FILTER\", value=1e-6, location=[29 * G, -10 * G]\n",
    ")"
   ]
  },
  {
   "cell_type": "markdown",
   "id": "44a3094c",
   "metadata": {},
   "source": [
    "Place a load resistor."
   ]
  },
  {
   "cell_type": "code",
   "execution_count": 9,
   "id": "fbbbfd36",
   "metadata": {
    "execution": {
     "iopub.execute_input": "2025-10-30T06:42:54.787668Z",
     "iopub.status.busy": "2025-10-30T06:42:54.787668Z",
     "iopub.status.idle": "2025-10-30T06:42:54.834812Z",
     "shell.execute_reply": "2025-10-30T06:42:54.834812Z"
    }
   },
   "outputs": [],
   "source": [
    "resistor = tb.modeler.schematic.create_resistor(\n",
    "    name=\"RL\", value=100000, location=[39 * G, -10 * G]\n",
    ")"
   ]
  },
  {
   "cell_type": "markdown",
   "id": "e833bb95",
   "metadata": {},
   "source": [
    "Place the ground component."
   ]
  },
  {
   "cell_type": "code",
   "execution_count": 10,
   "id": "b31c6597",
   "metadata": {
    "execution": {
     "iopub.execute_input": "2025-10-30T06:42:54.834812Z",
     "iopub.status.busy": "2025-10-30T06:42:54.834812Z",
     "iopub.status.idle": "2025-10-30T06:42:54.867335Z",
     "shell.execute_reply": "2025-10-30T06:42:54.866149Z"
    }
   },
   "outputs": [],
   "source": [
    "gnd = tb.modeler.components.create_gnd(location=[5 * G, -16 * G])"
   ]
  },
  {
   "cell_type": "markdown",
   "id": "96a37ec5",
   "metadata": {},
   "source": [
    "## Connect components\n",
    "\n",
    "Connect components with wires, and connect the diode pins to create the bridge."
   ]
  },
  {
   "cell_type": "code",
   "execution_count": 11,
   "id": "3d7298a3",
   "metadata": {
    "execution": {
     "iopub.execute_input": "2025-10-30T06:42:54.869424Z",
     "iopub.status.busy": "2025-10-30T06:42:54.869424Z",
     "iopub.status.idle": "2025-10-30T06:42:55.103076Z",
     "shell.execute_reply": "2025-10-30T06:42:55.103076Z"
    }
   },
   "outputs": [
    {
     "data": {
      "text/plain": [
       "<ansys.aedt.core.modeler.circuits.object_3d_circuit.Wire at 0x25d2c81cf10>"
      ]
     },
     "execution_count": 11,
     "metadata": {},
     "output_type": "execute_result"
    }
   ],
   "source": [
    "tb.modeler.schematic.create_wire(\n",
    "    points=[diode1.pins[0].location, diode3.pins[0].location]\n",
    ")\n",
    "tb.modeler.schematic.create_wire(\n",
    "    points=[diode2.pins[1].location, diode4.pins[1].location]\n",
    ")\n",
    "tb.modeler.schematic.create_wire(\n",
    "    points=[diode1.pins[1].location, diode2.pins[0].location]\n",
    ")\n",
    "tb.modeler.schematic.create_wire(\n",
    "    points=[diode3.pins[1].location, diode4.pins[0].location]\n",
    ")"
   ]
  },
  {
   "cell_type": "markdown",
   "id": "a42a116c",
   "metadata": {},
   "source": [
    "Connect the voltage source to the bridge."
   ]
  },
  {
   "cell_type": "code",
   "execution_count": 12,
   "id": "4bbcceca",
   "metadata": {
    "execution": {
     "iopub.execute_input": "2025-10-30T06:42:55.103076Z",
     "iopub.status.busy": "2025-10-30T06:42:55.103076Z",
     "iopub.status.idle": "2025-10-30T06:42:55.197698Z",
     "shell.execute_reply": "2025-10-30T06:42:55.197698Z"
    }
   },
   "outputs": [
    {
     "data": {
      "text/plain": [
       "<ansys.aedt.core.modeler.circuits.object_3d_circuit.Wire at 0x25d18b4fe20>"
      ]
     },
     "execution_count": 12,
     "metadata": {},
     "output_type": "execute_result"
    }
   ],
   "source": [
    "tb.modeler.schematic.create_wire(\n",
    "    points=[source.pins[1].location, [0, 10 * G], [15 * G, 10 * G], [15 * G, 5 * G]]\n",
    ")\n",
    "tb.modeler.schematic.create_wire(\n",
    "    points=[source.pins[0].location, [0, -10 * G], [15 * G, -10 * G], [15 * G, -5 * G]]\n",
    ")"
   ]
  },
  {
   "cell_type": "markdown",
   "id": "d2ac3902",
   "metadata": {},
   "source": [
    "Connect the filter capacitor and load resistor."
   ]
  },
  {
   "cell_type": "code",
   "execution_count": 13,
   "id": "05f4fb99",
   "metadata": {
    "execution": {
     "iopub.execute_input": "2025-10-30T06:42:55.197698Z",
     "iopub.status.busy": "2025-10-30T06:42:55.197698Z",
     "iopub.status.idle": "2025-10-30T06:42:55.308226Z",
     "shell.execute_reply": "2025-10-30T06:42:55.308226Z"
    }
   },
   "outputs": [
    {
     "data": {
      "text/plain": [
       "<ansys.aedt.core.modeler.circuits.object_3d_circuit.Wire at 0x25d2c81c400>"
      ]
     },
     "execution_count": 13,
     "metadata": {},
     "output_type": "execute_result"
    }
   ],
   "source": [
    "tb.modeler.schematic.create_wire(\n",
    "    points=[resistor.pins[0].location, [40 * G, 0], [22 * G, 0]]\n",
    ")\n",
    "tb.modeler.schematic.create_wire(points=[capacitor.pins[0].location, [30 * G, 0]])"
   ]
  },
  {
   "cell_type": "markdown",
   "id": "30e1fbe2",
   "metadata": {},
   "source": [
    "Add the ground connection."
   ]
  },
  {
   "cell_type": "code",
   "execution_count": 14,
   "id": "faa0e479",
   "metadata": {
    "execution": {
     "iopub.execute_input": "2025-10-30T06:42:55.311451Z",
     "iopub.status.busy": "2025-10-30T06:42:55.311451Z",
     "iopub.status.idle": "2025-10-30T06:42:55.356119Z",
     "shell.execute_reply": "2025-10-30T06:42:55.356119Z"
    }
   },
   "outputs": [
    {
     "data": {
      "text/plain": [
       "<ansys.aedt.core.modeler.circuits.object_3d_circuit.Wire at 0x25d18b4f490>"
      ]
     },
     "execution_count": 14,
     "metadata": {},
     "output_type": "execute_result"
    }
   ],
   "source": [
    "tb.modeler.schematic.create_wire(\n",
    "    points=[resistor.pins[1].location, [40 * G, -15 * G], gnd.pins[0].location]\n",
    ")\n",
    "tb.modeler.schematic.create_wire(points=[capacitor.pins[1].location, [30 * G, -15 * G]])\n",
    "tb.modeler.schematic.create_wire(points=[gnd.pins[0].location, [5 * G, 0], [8 * G, 0]])"
   ]
  },
  {
   "cell_type": "code",
   "execution_count": 15,
   "id": "11acbbad",
   "metadata": {
    "execution": {
     "iopub.execute_input": "2025-10-30T06:42:55.360267Z",
     "iopub.status.busy": "2025-10-30T06:42:55.360267Z",
     "iopub.status.idle": "2025-10-30T06:42:55.372147Z",
     "shell.execute_reply": "2025-10-30T06:42:55.372147Z"
    }
   },
   "outputs": [],
   "source": [
    "# Zoom to fit the schematic\n",
    "tb.modeler.zoom_to_fit()"
   ]
  },
  {
   "cell_type": "markdown",
   "id": "2c9e3502",
   "metadata": {},
   "source": [
    "The circuit schematic should now be visible in the Twin Builder\n",
    "schematic editor and look like\n",
    "the image shown at the beginning of the example.\n",
    "\n",
    "## Run the simulation\n",
    "\n",
    "Update the total time to be simulated and run the analysis."
   ]
  },
  {
   "cell_type": "code",
   "execution_count": 16,
   "id": "6b856ab6",
   "metadata": {
    "execution": {
     "iopub.execute_input": "2025-10-30T06:42:55.375187Z",
     "iopub.status.busy": "2025-10-30T06:42:55.375187Z",
     "iopub.status.idle": "2025-10-30T06:43:07.150486Z",
     "shell.execute_reply": "2025-10-30T06:43:07.150486Z"
    }
   },
   "outputs": [
    {
     "name": "stdout",
     "output_type": "stream",
     "text": [
      "PyAEDT INFO: Solving design setup TR\n"
     ]
    },
    {
     "name": "stdout",
     "output_type": "stream",
     "text": [
      "PyAEDT INFO: Design setup TR solved correctly in 0.0h 0.0m 12.0s\n"
     ]
    },
    {
     "data": {
      "text/plain": [
       "True"
      ]
     },
     "execution_count": 16,
     "metadata": {},
     "output_type": "execute_result"
    }
   ],
   "source": [
    "tb.set_end_time(\"100ms\")\n",
    "tb.analyze_setup(\"TR\")"
   ]
  },
  {
   "cell_type": "markdown",
   "id": "466fde63",
   "metadata": {},
   "source": [
    "## Get report data and plot using Matplotlib\n",
    "\n",
    "Get report data and plot it using Matplotlib. The following code gets and plots\n",
    "the values for the voltage on the pulse voltage source and the values for the\n",
    "voltage on the capacitor in the RC circuit."
   ]
  },
  {
   "cell_type": "code",
   "execution_count": 17,
   "id": "0f75f55d",
   "metadata": {
    "execution": {
     "iopub.execute_input": "2025-10-30T06:43:07.150486Z",
     "iopub.status.busy": "2025-10-30T06:43:07.150486Z",
     "iopub.status.idle": "2025-10-30T06:43:07.483080Z",
     "shell.execute_reply": "2025-10-30T06:43:07.483080Z"
    }
   },
   "outputs": [
    {
     "name": "stdout",
     "output_type": "stream",
     "text": [
      "PyAEDT INFO: Post class has been initialized! Elapsed time: 0m 0sec\n"
     ]
    },
    {
     "name": "stdout",
     "output_type": "stream",
     "text": [
      "PyAEDT WARNING: No report category provided. Automatically identified Standard\n"
     ]
    },
    {
     "name": "stdout",
     "output_type": "stream",
     "text": [
      "PyAEDT INFO: Solution Data Correctly Loaded.\n"
     ]
    },
    {
     "name": "stdout",
     "output_type": "stream",
     "text": [
      "Time to initialize solution data:0.015692472457885742\n",
      "Time to initialize solution data:0.026940584182739258\n"
     ]
    },
    {
     "name": "stderr",
     "output_type": "stream",
     "text": [
      "C:\\actions-runner\\_work\\pyaedt-examples\\pyaedt-examples\\.venv\\lib\\site-packages\\ansys\\aedt\\core\\visualization\\post\\solution_data.py:733: UserWarning: Method `data_real` is deprecated. Use :func:`get_expression_data` property instead.\n",
      "  warnings.warn(\"Method `data_real` is deprecated. Use :func:`get_expression_data` property instead.\")\n"
     ]
    },
    {
     "data": {
      "image/png": "[encoded data removed]",
      "text/plain": [
       "<Figure size 640x480 with 1 Axes>"
      ]
     },
     "metadata": {},
     "output_type": "display_data"
    }
   ],
   "source": [
    "src_name = source.InstanceName + \".V\"\n",
    "x = tb.post.get_solution_data(src_name, \"TR\", \"Time\")\n",
    "plt.plot(x.intrinsics[\"Time\"], x.data_real(src_name))\n",
    "plt.grid()\n",
    "plt.xlabel(\"Time\")\n",
    "plt.ylabel(\"AC Voltage\")\n",
    "plt.show()"
   ]
  },
  {
   "cell_type": "code",
   "execution_count": 18,
   "id": "ad005896",
   "metadata": {
    "execution": {
     "iopub.execute_input": "2025-10-30T06:43:07.483080Z",
     "iopub.status.busy": "2025-10-30T06:43:07.483080Z",
     "iopub.status.idle": "2025-10-30T06:43:07.722369Z",
     "shell.execute_reply": "2025-10-30T06:43:07.721163Z"
    }
   },
   "outputs": [
    {
     "name": "stdout",
     "output_type": "stream",
     "text": [
      "PyAEDT WARNING: No report category provided. Automatically identified Standard\n"
     ]
    },
    {
     "name": "stdout",
     "output_type": "stream",
     "text": [
      "PyAEDT INFO: Solution Data Correctly Loaded.\n"
     ]
    },
    {
     "name": "stdout",
     "output_type": "stream",
     "text": [
      "Time to initialize solution data:0.0\n",
      "Time to initialize solution data:0.01595282554626465\n"
     ]
    },
    {
     "data": {
      "image/png": "[encoded data removed]",
      "text/plain": [
       "<Figure size 640x480 with 1 Axes>"
      ]
     },
     "metadata": {},
     "output_type": "display_data"
    }
   ],
   "source": [
    "r_voltage = resistor.InstanceName + \".V\"\n",
    "x = tb.post.get_solution_data(r_voltage, \"TR\", \"Time\")\n",
    "plt.plot(x.intrinsics[\"Time\"], x.data_real(r_voltage))\n",
    "plt.grid()\n",
    "plt.xlabel(\"Time\")\n",
    "plt.ylabel(\"AC to DC Conversion using Rectifier\")\n",
    "plt.show()"
   ]
  },
  {
   "cell_type": "markdown",
   "id": "98242b05",
   "metadata": {},
   "source": [
    "## Release AEDT\n",
    "\n",
    "Release AEDT and close the example."
   ]
  },
  {
   "cell_type": "code",
   "execution_count": 19,
   "id": "df0a68f6",
   "metadata": {
    "execution": {
     "iopub.execute_input": "2025-10-30T06:43:07.722369Z",
     "iopub.status.busy": "2025-10-30T06:43:07.722369Z",
     "iopub.status.idle": "2025-10-30T06:43:32.794098Z",
     "shell.execute_reply": "2025-10-30T06:43:32.794098Z"
    }
   },
   "outputs": [
    {
     "name": "stdout",
     "output_type": "stream",
     "text": [
      "PyAEDT INFO: Project TB_Rectifier_Demo Saved correctly\n"
     ]
    },
    {
     "name": "stdout",
     "output_type": "stream",
     "text": [
      "PyAEDT INFO: Desktop has been released and closed.\n"
     ]
    }
   ],
   "source": [
    "tb.save_project()\n",
    "tb.release_desktop()\n",
    "# Wait 3 seconds to allow AEDT to shut down before cleaning the temporary directory.\n",
    "time.sleep(3)"
   ]
  },
  {
   "cell_type": "markdown",
   "id": "71576d12",
   "metadata": {},
   "source": [
    "## Clean up\n",
    "\n",
    "All project files are saved in the folder ``temp_folder.name``. If you've run this example as a Jupyter notebook, you\n",
    "can retrieve those project files. The following cell removes all temporary files, including the project folder."
   ]
  },
  {
   "cell_type": "code",
   "execution_count": 20,
   "id": "cec14c36",
   "metadata": {
    "execution": {
     "iopub.execute_input": "2025-10-30T06:43:32.794098Z",
     "iopub.status.busy": "2025-10-30T06:43:32.794098Z",
     "iopub.status.idle": "2025-10-30T06:43:32.810274Z",
     "shell.execute_reply": "2025-10-30T06:43:32.810274Z"
    }
   },
   "outputs": [],
   "source": [
    "temp_folder.cleanup()"
   ]
  }
 ],
 "metadata": {
  "jupytext": {
   "cell_metadata_filter": "-all",
   "main_language": "python",
   "notebook_metadata_filter": "-all"
  },
  "language_info": {
   "codemirror_mode": {
    "name": "ipython",
    "version": 3
   },
   "file_extension": ".py",
   "mimetype": "text/x-python",
   "name": "python",
   "nbconvert_exporter": "python",
   "pygments_lexer": "ipython3",
   "version": "3.10.11"
  }
 },
 "nbformat": 4,
 "nbformat_minor": 5
}
