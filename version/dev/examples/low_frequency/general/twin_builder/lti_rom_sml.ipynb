{
 "cells": [
  {
   "cell_type": "markdown",
   "id": "43a1f9f9",
   "metadata": {},
   "source": [
    "# LTI ROM creation and simulation"
   ]
  },
  {
   "cell_type": "markdown",
   "id": "630f834e",
   "metadata": {},
   "source": [
    "This example shows how you can use PyAEDT to create a Linear Time Invariant (LTI) ROM in Twin Builder\n",
    "and run a Twin Builder time-domain simulation. Inputs data are defined using Datapairs blocks with CSV files.\n",
    "\n",
    "Keywords: **Twin Builder**, **LTI**, **ROM**."
   ]
  },
  {
   "cell_type": "markdown",
   "id": "fddbc6b0",
   "metadata": {},
   "source": [
    "## Perform imports and define constants\n",
    "\n",
    "Perform required imports."
   ]
  },
  {
   "cell_type": "code",
   "execution_count": 1,
   "id": "7bf68f3a",
   "metadata": {
    "execution": {
     "iopub.execute_input": "2025-10-30T06:39:46.133516Z",
     "iopub.status.busy": "2025-10-30T06:39:46.133516Z",
     "iopub.status.idle": "2025-10-30T06:39:49.809318Z",
     "shell.execute_reply": "2025-10-30T06:39:49.809318Z"
    }
   },
   "outputs": [],
   "source": [
    "import datetime\n",
    "import os\n",
    "import subprocess\n",
    "import tempfile\n",
    "import time\n",
    "\n",
    "import matplotlib.pyplot as plt\n",
    "from ansys.aedt.core import TwinBuilder\n",
    "from ansys.aedt.core.examples import downloads\n",
    "from ansys.aedt.core.application.variables import CSVDataset"
   ]
  },
  {
   "cell_type": "markdown",
   "id": "9b6d80eb",
   "metadata": {},
   "source": [
    "Define constants"
   ]
  },
  {
   "cell_type": "code",
   "execution_count": 2,
   "id": "67e9ea4a",
   "metadata": {
    "execution": {
     "iopub.execute_input": "2025-10-30T06:39:49.809318Z",
     "iopub.status.busy": "2025-10-30T06:39:49.809318Z",
     "iopub.status.idle": "2025-10-30T06:39:49.825191Z",
     "shell.execute_reply": "2025-10-30T06:39:49.825191Z"
    }
   },
   "outputs": [],
   "source": [
    "AEDT_VERSION = \"2025.2\"\n",
    "NUM_CORES = 4\n",
    "NG_MODE = False  # Open AEDT UI when it is launched."
   ]
  },
  {
   "cell_type": "markdown",
   "id": "b4b0399b",
   "metadata": {},
   "source": [
    "## Set paths and define input files and variables\n",
    "\n",
    "Set paths."
   ]
  },
  {
   "cell_type": "code",
   "execution_count": 3,
   "id": "6fb75cd3",
   "metadata": {
    "execution": {
     "iopub.execute_input": "2025-10-30T06:39:49.825191Z",
     "iopub.status.busy": "2025-10-30T06:39:49.825191Z",
     "iopub.status.idle": "2025-10-30T06:39:50.798425Z",
     "shell.execute_reply": "2025-10-30T06:39:50.798425Z"
    }
   },
   "outputs": [],
   "source": [
    "training_data_folder = \"LTI_training_data.zip\"\n",
    "temp_folder = tempfile.TemporaryDirectory(suffix=\".ansys\")\n",
    "input_dir = downloads.download_twin_builder_data(\n",
    "    training_data_folder, True, temp_folder.name\n",
    ")"
   ]
  },
  {
   "cell_type": "markdown",
   "id": "52903ed9",
   "metadata": {},
   "source": [
    "Download data from example_data repository"
   ]
  },
  {
   "cell_type": "code",
   "execution_count": 4,
   "id": "85bc8782",
   "metadata": {
    "execution": {
     "iopub.execute_input": "2025-10-30T06:39:50.798425Z",
     "iopub.status.busy": "2025-10-30T06:39:50.798425Z",
     "iopub.status.idle": "2025-10-30T06:39:50.814198Z",
     "shell.execute_reply": "2025-10-30T06:39:50.814198Z"
    }
   },
   "outputs": [],
   "source": [
    "twin_builder_data_folder = os.path.join(temp_folder.name, \"twin_builder\")\n",
    "data_folder = os.path.join(twin_builder_data_folder, \"LTI_training\")"
   ]
  },
  {
   "cell_type": "code",
   "execution_count": 5,
   "id": "45fff3a1",
   "metadata": {
    "execution": {
     "iopub.execute_input": "2025-10-30T06:39:50.814198Z",
     "iopub.status.busy": "2025-10-30T06:39:50.814198Z",
     "iopub.status.idle": "2025-10-30T06:39:50.861754Z",
     "shell.execute_reply": "2025-10-30T06:39:50.861754Z"
    },
    "lines_to_next_cell": 2
   },
   "outputs": [
    {
     "name": "stdout",
     "output_type": "stream",
     "text": [
      "C:\\Users\\ansys\\AppData\\Local\\Temp\\tmpb85fh17d.ansys\\twin_builder\\LTI_training\n"
     ]
    }
   ],
   "source": [
    "# Unzip training data and parse ports names\n",
    "downloads.unzip(os.path.join(input_dir), data_folder)\n",
    "ports_names_file = \"Input_PortNames.txt\""
   ]
  },
  {
   "cell_type": "markdown",
   "id": "7a1083cc",
   "metadata": {
    "lines_to_next_cell": 2
   },
   "source": [
    "## Get ports information from file"
   ]
  },
  {
   "cell_type": "code",
   "execution_count": 6,
   "id": "7b174abd",
   "metadata": {
    "execution": {
     "iopub.execute_input": "2025-10-30T06:39:50.861754Z",
     "iopub.status.busy": "2025-10-30T06:39:50.861754Z",
     "iopub.status.idle": "2025-10-30T06:39:50.877913Z",
     "shell.execute_reply": "2025-10-30T06:39:50.877913Z"
    }
   },
   "outputs": [],
   "source": [
    "def get_ports_info(ports_file):\n",
    "    with open(ports_file, \"r\") as PortNameFile:\n",
    "        res = []\n",
    "        line = PortNameFile.readline()\n",
    "        line_list = list(line.split())\n",
    "        for i in range(len(line_list)):\n",
    "            res.append(\"Input\" + str(i + 1) + \"_\" + line_list[i])\n",
    "\n",
    "        line = PortNameFile.readline()\n",
    "        line_list = list(line.split())\n",
    "        for i in range(len(line_list)):\n",
    "            res.append(\"Output\" + str(i + 1) + \"_\" + line_list[i])\n",
    "    return res"
   ]
  },
  {
   "cell_type": "code",
   "execution_count": 7,
   "id": "b4ba3547",
   "metadata": {
    "execution": {
     "iopub.execute_input": "2025-10-30T06:39:50.885798Z",
     "iopub.status.busy": "2025-10-30T06:39:50.885798Z",
     "iopub.status.idle": "2025-10-30T06:39:50.909547Z",
     "shell.execute_reply": "2025-10-30T06:39:50.909547Z"
    }
   },
   "outputs": [],
   "source": [
    "pin_names = get_ports_info(os.path.join(data_folder, ports_names_file))"
   ]
  },
  {
   "cell_type": "markdown",
   "id": "e49f356c",
   "metadata": {},
   "source": [
    "## Launch Twin Builder\n",
    "\n",
    "Launch Twin Builder using an implicit declaration and add a new design with\n",
    "the default setup."
   ]
  },
  {
   "cell_type": "code",
   "execution_count": 8,
   "id": "fc1a826b",
   "metadata": {
    "execution": {
     "iopub.execute_input": "2025-10-30T06:39:50.913610Z",
     "iopub.status.busy": "2025-10-30T06:39:50.913610Z",
     "iopub.status.idle": "2025-10-30T06:40:19.275519Z",
     "shell.execute_reply": "2025-10-30T06:40:19.275519Z"
    }
   },
   "outputs": [
    {
     "name": "stdout",
     "output_type": "stream",
     "text": [
      "PyAEDT INFO: Python version 3.10.11 (tags/v3.10.11:7d4cc5a, Apr  5 2023, 00:38:17) [MSC v.1929 64 bit (AMD64)].\n"
     ]
    },
    {
     "name": "stdout",
     "output_type": "stream",
     "text": [
      "PyAEDT INFO: PyAEDT version 0.22.dev0.\n"
     ]
    },
    {
     "name": "stdout",
     "output_type": "stream",
     "text": [
      "PyAEDT INFO: Initializing new Desktop session.\n"
     ]
    },
    {
     "name": "stdout",
     "output_type": "stream",
     "text": [
      "PyAEDT INFO: Log on console is enabled.\n"
     ]
    },
    {
     "name": "stdout",
     "output_type": "stream",
     "text": [
      "PyAEDT INFO: Log on file C:\\Users\\ansys\\AppData\\Local\\Temp\\pyaedt_ansys_b32f905b-bdac-40f3-ba0c-653fe851099d.log is enabled.\n"
     ]
    },
    {
     "name": "stdout",
     "output_type": "stream",
     "text": [
      "PyAEDT INFO: Log on AEDT is disabled.\n"
     ]
    },
    {
     "name": "stdout",
     "output_type": "stream",
     "text": [
      "PyAEDT INFO: Debug logger is disabled. PyAEDT methods will not be logged.\n"
     ]
    },
    {
     "name": "stdout",
     "output_type": "stream",
     "text": [
      "PyAEDT INFO: Launching PyAEDT with gRPC plugin.\n"
     ]
    },
    {
     "name": "stdout",
     "output_type": "stream",
     "text": [
      "PyAEDT INFO: New AEDT session is starting on gRPC port 49248.\n"
     ]
    },
    {
     "name": "stdout",
     "output_type": "stream",
     "text": [
      "PyAEDT INFO: Electronics Desktop started on gRPC port: 49248 after 10.994609832763672 seconds.\n"
     ]
    },
    {
     "name": "stdout",
     "output_type": "stream",
     "text": [
      "PyAEDT INFO: AEDT installation Path C:\\Program Files\\ANSYS Inc\\v252\\AnsysEM\n"
     ]
    },
    {
     "name": "stdout",
     "output_type": "stream",
     "text": [
      "PyAEDT INFO: Ansoft.ElectronicsDesktop.2025.2 version started with process ID 2332.\n"
     ]
    },
    {
     "name": "stdout",
     "output_type": "stream",
     "text": [
      "PyAEDT INFO: Project LTI_ROM has been created.\n"
     ]
    },
    {
     "name": "stdout",
     "output_type": "stream",
     "text": [
      "PyAEDT INFO: No design is present. Inserting a new design.\n"
     ]
    },
    {
     "name": "stdout",
     "output_type": "stream",
     "text": [
      "PyAEDT INFO: Added design 'Twin Builder_T57' of type Twin Builder.\n"
     ]
    },
    {
     "name": "stdout",
     "output_type": "stream",
     "text": [
      "PyAEDT INFO: Aedt Objects correctly read\n"
     ]
    }
   ],
   "source": [
    "project_name = os.path.join(temp_folder.name, \"LTI_ROM.aedt\")\n",
    "tb = TwinBuilder(\n",
    "    project=project_name, version=AEDT_VERSION, non_graphical=NG_MODE, new_desktop=True\n",
    ")"
   ]
  },
  {
   "cell_type": "markdown",
   "id": "d8a416a3",
   "metadata": {},
   "source": [
    "## Build the LTI ROM with specified configuration file"
   ]
  },
  {
   "cell_type": "code",
   "execution_count": 9,
   "id": "fd082997",
   "metadata": {
    "execution": {
     "iopub.execute_input": "2025-10-30T06:40:19.275519Z",
     "iopub.status.busy": "2025-10-30T06:40:19.275519Z",
     "iopub.status.idle": "2025-10-30T06:40:32.247177Z",
     "shell.execute_reply": "2025-10-30T06:40:32.247177Z"
    }
   },
   "outputs": [
    {
     "name": "stdout",
     "output_type": "stream",
     "text": [
      "PyAEDT INFO: Fitting the LTI ROM training data\n"
     ]
    }
   ],
   "source": [
    "install_dir = tb.odesktop.GetRegistryString(\"Desktop/InstallationDirectory\")\n",
    "fitting_exe = os.path.join(install_dir, \"FittingTool.exe\")\n",
    "path = '\"' + fitting_exe + '\"' + \"  \" + '\"t\"' + \"  \" + '\"' + data_folder + '\"'\n",
    "process = subprocess.Popen(\n",
    "    path, stdin=subprocess.PIPE, stdout=subprocess.PIPE, stderr=subprocess.PIPE\n",
    ")\n",
    "tb.logger.info(\"Fitting the LTI ROM training data\")\n",
    "exec = True\n",
    "startTime = datetime.datetime.now()\n",
    "execTime = 0.0\n",
    "while (\n",
    "    exec and execTime < 60.0\n",
    "):  # limiting the fitting process execution time to 1 minute\n",
    "    out, err = process.communicate()\n",
    "    execTime = (datetime.datetime.now() - startTime).total_seconds()\n",
    "    if \"An LTI ROM has been generated\" in str(out):\n",
    "        process.terminate()\n",
    "        exec = False"
   ]
  },
  {
   "cell_type": "code",
   "execution_count": 10,
   "id": "1076c309",
   "metadata": {
    "execution": {
     "iopub.execute_input": "2025-10-30T06:40:32.247177Z",
     "iopub.status.busy": "2025-10-30T06:40:32.247177Z",
     "iopub.status.idle": "2025-10-30T06:40:32.262927Z",
     "shell.execute_reply": "2025-10-30T06:40:32.262927Z"
    }
   },
   "outputs": [],
   "source": [
    "rom_file = \"\"\n",
    "model_name_sml = \"\""
   ]
  },
  {
   "cell_type": "code",
   "execution_count": 11,
   "id": "2ebae967",
   "metadata": {
    "execution": {
     "iopub.execute_input": "2025-10-30T06:40:32.262927Z",
     "iopub.status.busy": "2025-10-30T06:40:32.262927Z",
     "iopub.status.idle": "2025-10-30T06:40:32.279196Z",
     "shell.execute_reply": "2025-10-30T06:40:32.279196Z"
    }
   },
   "outputs": [],
   "source": [
    "for i in os.listdir(data_folder):\n",
    "    if i.endswith(\".sml\"):\n",
    "        model_name_sml = i.split(\".\")[0]\n",
    "        rom_file = os.path.join(data_folder, i)"
   ]
  },
  {
   "cell_type": "code",
   "execution_count": 12,
   "id": "0cadb675",
   "metadata": {
    "execution": {
     "iopub.execute_input": "2025-10-30T06:40:32.279196Z",
     "iopub.status.busy": "2025-10-30T06:40:32.279196Z",
     "iopub.status.idle": "2025-10-30T06:40:32.295271Z",
     "shell.execute_reply": "2025-10-30T06:40:32.295271Z"
    },
    "lines_to_next_cell": 2
   },
   "outputs": [
    {
     "name": "stdout",
     "output_type": "stream",
     "text": [
      "PyAEDT INFO: Built intermediate ROM file successfully at: C:\\Users\\ansys\\AppData\\Local\\Temp\\tmpb85fh17d.ansys\\twin_builder\\LTI_training\\Thermal_ROM_SML.sml\n"
     ]
    }
   ],
   "source": [
    "if os.path.exists(rom_file):\n",
    "    tb.logger.info(\"Built intermediate ROM file successfully at: %s\", rom_file)\n",
    "else:\n",
    "    tb.logger.info(\"ROM file does not exist at the expected location : %s\", rom_file)"
   ]
  },
  {
   "cell_type": "markdown",
   "id": "0ac2af13",
   "metadata": {},
   "source": [
    "## Import the ROM component model"
   ]
  },
  {
   "cell_type": "code",
   "execution_count": 13,
   "id": "f1b9be3f",
   "metadata": {
    "execution": {
     "iopub.execute_input": "2025-10-30T06:40:32.295271Z",
     "iopub.status.busy": "2025-10-30T06:40:32.295271Z",
     "iopub.status.idle": "2025-10-30T06:40:33.040570Z",
     "shell.execute_reply": "2025-10-30T06:40:33.040570Z"
    }
   },
   "outputs": [
    {
     "name": "stdout",
     "output_type": "stream",
     "text": [
      "PyAEDT INFO: ModelerCircuit class has been initialized! Elapsed time: 0m 0sec\n"
     ]
    },
    {
     "name": "stdout",
     "output_type": "stream",
     "text": [
      "PyAEDT INFO: ModelerTwinBuilder class has been initialized!\n"
     ]
    },
    {
     "name": "stdout",
     "output_type": "stream",
     "text": [
      "PyAEDT INFO: LTI ROM model successfully imported.\n"
     ]
    }
   ],
   "source": [
    "is_created = tb.modeler.schematic.create_component_from_sml(\n",
    "    input_file=rom_file, model=model_name_sml, pins_names=pin_names\n",
    ")\n",
    "os.remove(rom_file)\n",
    "tb.logger.info(\"LTI ROM model successfully imported.\")"
   ]
  },
  {
   "cell_type": "markdown",
   "id": "d64e7327",
   "metadata": {},
   "source": [
    "## Import the ROM component model in Twin Builder\n",
    "\n",
    "Place components to create a schematic."
   ]
  },
  {
   "cell_type": "markdown",
   "id": "e0f84a09",
   "metadata": {},
   "source": [
    "Define the grid distance for ease in calculations"
   ]
  },
  {
   "cell_type": "code",
   "execution_count": 14,
   "id": "5b08e9fb",
   "metadata": {
    "execution": {
     "iopub.execute_input": "2025-10-30T06:40:33.040570Z",
     "iopub.status.busy": "2025-10-30T06:40:33.040570Z",
     "iopub.status.idle": "2025-10-30T06:40:33.056501Z",
     "shell.execute_reply": "2025-10-30T06:40:33.056501Z"
    }
   },
   "outputs": [],
   "source": [
    "grid_distance = 0.00254"
   ]
  },
  {
   "cell_type": "markdown",
   "id": "d6e4cc45",
   "metadata": {},
   "source": [
    "Place the ROM component"
   ]
  },
  {
   "cell_type": "code",
   "execution_count": 15,
   "id": "730ed32b",
   "metadata": {
    "execution": {
     "iopub.execute_input": "2025-10-30T06:40:33.056501Z",
     "iopub.status.busy": "2025-10-30T06:40:33.056501Z",
     "iopub.status.idle": "2025-10-30T06:40:33.373119Z",
     "shell.execute_reply": "2025-10-30T06:40:33.373119Z"
    }
   },
   "outputs": [],
   "source": [
    "rom1 = tb.modeler.schematic.create_component(\n",
    "    \"ROM1\", \"\", model_name_sml, [36 * grid_distance, 28 * grid_distance]\n",
    ")"
   ]
  },
  {
   "cell_type": "markdown",
   "id": "516667a1",
   "metadata": {},
   "source": [
    "Place datapairs blocks for inputs definition"
   ]
  },
  {
   "cell_type": "code",
   "execution_count": 16,
   "id": "24204755",
   "metadata": {
    "execution": {
     "iopub.execute_input": "2025-10-30T06:40:33.373119Z",
     "iopub.status.busy": "2025-10-30T06:40:33.373119Z",
     "iopub.status.idle": "2025-10-30T06:40:33.435981Z",
     "shell.execute_reply": "2025-10-30T06:40:33.435981Z"
    }
   },
   "outputs": [],
   "source": [
    "source1 = tb.modeler.schematic.create_component(\n",
    "    \"source1\",\n",
    "    \"\",\n",
    "    \"Simplorer Elements\\\\Basic Elements\\\\Tools\\\\Time Functions:DATAPAIRS\",\n",
    "    [20 * grid_distance, 29 * grid_distance],\n",
    ")\n",
    "source2 = tb.modeler.schematic.create_component(\n",
    "    \"source2\",\n",
    "    \"\",\n",
    "    \"Simplorer Elements\\\\Basic Elements\\\\Tools\\\\Time Functions:DATAPAIRS\",\n",
    "    [20 * grid_distance, 25 * grid_distance],\n",
    ")"
   ]
  },
  {
   "cell_type": "markdown",
   "id": "72b53a9c",
   "metadata": {},
   "source": [
    "Import Datasets"
   ]
  },
  {
   "cell_type": "code",
   "execution_count": 17,
   "id": "6201b972",
   "metadata": {
    "execution": {
     "iopub.execute_input": "2025-10-30T06:40:33.435981Z",
     "iopub.status.busy": "2025-10-30T06:40:33.435981Z",
     "iopub.status.idle": "2025-10-30T06:40:33.515941Z",
     "shell.execute_reply": "2025-10-30T06:40:33.515306Z"
    }
   },
   "outputs": [
    {
     "name": "stdout",
     "output_type": "stream",
     "text": [
      "PyAEDT INFO: Parsing C:\\Users\\ansys\\AppData\\Local\\Temp\\tmpb85fh17d.ansys\\LTI_ROM.aedt.\n"
     ]
    },
    {
     "name": "stdout",
     "output_type": "stream",
     "text": [
      "PyAEDT INFO: File C:\\Users\\ansys\\AppData\\Local\\Temp\\tmpb85fh17d.ansys\\LTI_ROM.aedt correctly loaded. Elapsed time: 0m 0sec\n"
     ]
    },
    {
     "name": "stdout",
     "output_type": "stream",
     "text": [
      "PyAEDT INFO: aedt file load time 0.017681598663330078\n"
     ]
    },
    {
     "name": "stdout",
     "output_type": "stream",
     "text": [
      "PyAEDT INFO: Dataset data1 doesn't exist.\n"
     ]
    },
    {
     "name": "stdout",
     "output_type": "stream",
     "text": [
      "PyAEDT INFO: Dataset $data1 created successfully.\n"
     ]
    },
    {
     "name": "stdout",
     "output_type": "stream",
     "text": [
      "PyAEDT INFO: Dataset data2 doesn't exist.\n"
     ]
    },
    {
     "name": "stdout",
     "output_type": "stream",
     "text": [
      "PyAEDT INFO: Dataset $data2 created successfully.\n"
     ]
    }
   ],
   "source": [
    "data1 = CSVDataset(os.path.join(data_folder, \"data1.csv\"))\n",
    "data2 = CSVDataset(os.path.join(data_folder, \"data2.csv\"))\n",
    "dataset1 = tb.create_dataset(\"data1\", data1.data[\"time\"], data1.data[\"input1\"])\n",
    "dataset2 = tb.create_dataset(\"data2\", data2.data[\"time\"], data2.data[\"input2\"])"
   ]
  },
  {
   "cell_type": "code",
   "execution_count": 18,
   "id": "74bb4f39",
   "metadata": {
    "execution": {
     "iopub.execute_input": "2025-10-30T06:40:33.515941Z",
     "iopub.status.busy": "2025-10-30T06:40:33.515941Z",
     "iopub.status.idle": "2025-10-30T06:40:33.614388Z",
     "shell.execute_reply": "2025-10-30T06:40:33.613834Z"
    }
   },
   "outputs": [],
   "source": [
    "source1.parameters[\"CH_DATA\"] = dataset1.name\n",
    "source2.parameters[\"CH_DATA\"] = dataset2.name"
   ]
  },
  {
   "cell_type": "code",
   "execution_count": 19,
   "id": "5d4ce6c8",
   "metadata": {
    "execution": {
     "iopub.execute_input": "2025-10-30T06:40:33.617539Z",
     "iopub.status.busy": "2025-10-30T06:40:33.617539Z",
     "iopub.status.idle": "2025-10-30T06:40:33.642195Z",
     "shell.execute_reply": "2025-10-30T06:40:33.642195Z"
    }
   },
   "outputs": [
    {
     "data": {
      "text/plain": [
       "True"
      ]
     },
     "execution_count": 19,
     "metadata": {},
     "output_type": "execute_result"
    }
   ],
   "source": [
    "tb.modeler.schematic.update_quantity_value(source1.composed_name, \"PERIO\", \"0\")"
   ]
  },
  {
   "cell_type": "code",
   "execution_count": 20,
   "id": "9923b1db",
   "metadata": {
    "execution": {
     "iopub.execute_input": "2025-10-30T06:40:33.647585Z",
     "iopub.status.busy": "2025-10-30T06:40:33.647585Z",
     "iopub.status.idle": "2025-10-30T06:40:33.674495Z",
     "shell.execute_reply": "2025-10-30T06:40:33.674495Z"
    }
   },
   "outputs": [
    {
     "data": {
      "text/plain": [
       "True"
      ]
     },
     "execution_count": 20,
     "metadata": {},
     "output_type": "execute_result"
    }
   ],
   "source": [
    "tb.modeler.schematic.update_quantity_value(\n",
    "    source1.composed_name, \"TPERIO\", \"Tend+1\", \"s\"\n",
    ")"
   ]
  },
  {
   "cell_type": "code",
   "execution_count": 21,
   "id": "f62239eb",
   "metadata": {
    "execution": {
     "iopub.execute_input": "2025-10-30T06:40:33.674495Z",
     "iopub.status.busy": "2025-10-30T06:40:33.674495Z",
     "iopub.status.idle": "2025-10-30T06:40:33.707612Z",
     "shell.execute_reply": "2025-10-30T06:40:33.706488Z"
    }
   },
   "outputs": [
    {
     "data": {
      "text/plain": [
       "True"
      ]
     },
     "execution_count": 21,
     "metadata": {},
     "output_type": "execute_result"
    }
   ],
   "source": [
    "tb.modeler.schematic.update_quantity_value(source2.composed_name, \"PERIO\", \"0\")"
   ]
  },
  {
   "cell_type": "code",
   "execution_count": 22,
   "id": "a15b7007",
   "metadata": {
    "execution": {
     "iopub.execute_input": "2025-10-30T06:40:33.707612Z",
     "iopub.status.busy": "2025-10-30T06:40:33.707612Z",
     "iopub.status.idle": "2025-10-30T06:40:33.738040Z",
     "shell.execute_reply": "2025-10-30T06:40:33.738040Z"
    }
   },
   "outputs": [
    {
     "data": {
      "text/plain": [
       "True"
      ]
     },
     "execution_count": 22,
     "metadata": {},
     "output_type": "execute_result"
    }
   ],
   "source": [
    "tb.modeler.schematic.update_quantity_value(\n",
    "    source2.composed_name, \"TPERIO\", \"Tend+1\", \"s\"\n",
    ")"
   ]
  },
  {
   "cell_type": "markdown",
   "id": "340e1313",
   "metadata": {},
   "source": [
    "Connect components with wires"
   ]
  },
  {
   "cell_type": "code",
   "execution_count": 23,
   "id": "450b66d9",
   "metadata": {
    "execution": {
     "iopub.execute_input": "2025-10-30T06:40:33.738040Z",
     "iopub.status.busy": "2025-10-30T06:40:33.738040Z",
     "iopub.status.idle": "2025-10-30T06:40:33.801228Z",
     "shell.execute_reply": "2025-10-30T06:40:33.801228Z"
    }
   },
   "outputs": [
    {
     "data": {
      "text/plain": [
       "<ansys.aedt.core.modeler.circuits.object_3d_circuit.Wire at 0x1bbc64531c0>"
      ]
     },
     "execution_count": 23,
     "metadata": {},
     "output_type": "execute_result"
    }
   ],
   "source": [
    "tb.modeler.schematic.create_wire(\n",
    "    points=[source1.pins[0].location, rom1.pins[0].location]\n",
    ")\n",
    "tb.modeler.schematic.create_wire(\n",
    "    points=[source2.pins[0].location, rom1.pins[1].location]\n",
    ")"
   ]
  },
  {
   "cell_type": "markdown",
   "id": "53237622",
   "metadata": {},
   "source": [
    "Zoom to fit the schematic"
   ]
  },
  {
   "cell_type": "code",
   "execution_count": 24,
   "id": "374903ed",
   "metadata": {
    "execution": {
     "iopub.execute_input": "2025-10-30T06:40:33.801228Z",
     "iopub.status.busy": "2025-10-30T06:40:33.801228Z",
     "iopub.status.idle": "2025-10-30T06:40:33.817651Z",
     "shell.execute_reply": "2025-10-30T06:40:33.817087Z"
    }
   },
   "outputs": [],
   "source": [
    "tb.modeler.zoom_to_fit()"
   ]
  },
  {
   "cell_type": "markdown",
   "id": "54ea71fc",
   "metadata": {},
   "source": [
    "## Parametrize transient setup\n",
    "\n",
    "Parametrize the default transient setup by setting the end time and minimum/maximum time steps."
   ]
  },
  {
   "cell_type": "code",
   "execution_count": 25,
   "id": "54f4c5fd",
   "metadata": {
    "execution": {
     "iopub.execute_input": "2025-10-30T06:40:33.817651Z",
     "iopub.status.busy": "2025-10-30T06:40:33.817651Z",
     "iopub.status.idle": "2025-10-30T06:40:33.849062Z",
     "shell.execute_reply": "2025-10-30T06:40:33.849062Z"
    }
   },
   "outputs": [
    {
     "data": {
      "text/plain": [
       "True"
      ]
     },
     "execution_count": 25,
     "metadata": {},
     "output_type": "execute_result"
    }
   ],
   "source": [
    "tb.set_end_time(\"700s\")\n",
    "tb.set_hmin(\"0.001s\")\n",
    "tb.set_hmax(\"1s\")"
   ]
  },
  {
   "cell_type": "markdown",
   "id": "39e8ca66",
   "metadata": {},
   "source": [
    "## Solve transient setup\n",
    "\n",
    "Solve the transient setup."
   ]
  },
  {
   "cell_type": "code",
   "execution_count": 26,
   "id": "bcccba42",
   "metadata": {
    "execution": {
     "iopub.execute_input": "2025-10-30T06:40:33.849062Z",
     "iopub.status.busy": "2025-10-30T06:40:33.849062Z",
     "iopub.status.idle": "2025-10-30T06:40:45.643339Z",
     "shell.execute_reply": "2025-10-30T06:40:45.643339Z"
    }
   },
   "outputs": [
    {
     "name": "stdout",
     "output_type": "stream",
     "text": [
      "PyAEDT INFO: Solving design setup TR\n"
     ]
    },
    {
     "name": "stdout",
     "output_type": "stream",
     "text": [
      "PyAEDT INFO: Design setup TR solved correctly in 0.0h 0.0m 12.0s\n"
     ]
    },
    {
     "data": {
      "text/plain": [
       "True"
      ]
     },
     "execution_count": 26,
     "metadata": {},
     "output_type": "execute_result"
    }
   ],
   "source": [
    "tb.analyze_setup(\"TR\")"
   ]
  },
  {
   "cell_type": "markdown",
   "id": "3def0479",
   "metadata": {},
   "source": [
    "## Get report data and plot using Matplotlib\n",
    "\n",
    "Get report data and plot it using Matplotlib. The following code gets and plots\n",
    "the values for the inputs and outputs of the LTI ROM."
   ]
  },
  {
   "cell_type": "markdown",
   "id": "47674911",
   "metadata": {},
   "source": [
    "Units used are based on AEDT default units."
   ]
  },
  {
   "cell_type": "code",
   "execution_count": 27,
   "id": "7f5bd131",
   "metadata": {
    "execution": {
     "iopub.execute_input": "2025-10-30T06:40:45.646529Z",
     "iopub.status.busy": "2025-10-30T06:40:45.646529Z",
     "iopub.status.idle": "2025-10-30T06:40:45.896959Z",
     "shell.execute_reply": "2025-10-30T06:40:45.896959Z"
    }
   },
   "outputs": [
    {
     "data": {
      "image/png": "[encoded data removed]",
      "text/plain": [
       "<Figure size 1800x700 with 2 Axes>"
      ]
     },
     "metadata": {},
     "output_type": "display_data"
    }
   ],
   "source": [
    "variables_postprocessing = []\n",
    "pin_names_str = \",\".join(pin_names)\n",
    "rom_pins = pin_names_str.lower().split(\",\")\n",
    "fig, ax = plt.subplots(ncols=1, nrows=2, figsize=(18, 7))\n",
    "fig.subplots_adjust(hspace=0.5)"
   ]
  },
  {
   "cell_type": "code",
   "execution_count": 28,
   "id": "14c10f55",
   "metadata": {
    "execution": {
     "iopub.execute_input": "2025-10-30T06:40:45.896959Z",
     "iopub.status.busy": "2025-10-30T06:40:45.896959Z",
     "iopub.status.idle": "2025-10-30T06:40:46.166952Z",
     "shell.execute_reply": "2025-10-30T06:40:46.166952Z"
    }
   },
   "outputs": [
    {
     "name": "stdout",
     "output_type": "stream",
     "text": [
      "PyAEDT INFO: Post class has been initialized! Elapsed time: 0m 0sec\n"
     ]
    },
    {
     "name": "stdout",
     "output_type": "stream",
     "text": [
      "PyAEDT INFO: Solution Data Correctly Loaded.\n"
     ]
    },
    {
     "name": "stdout",
     "output_type": "stream",
     "text": [
      "Time to initialize solution data:0.0\n",
      "Time to initialize solution data:0.015997648239135742\n"
     ]
    },
    {
     "name": "stdout",
     "output_type": "stream",
     "text": [
      "PyAEDT INFO: Solution Data Correctly Loaded.\n"
     ]
    },
    {
     "name": "stdout",
     "output_type": "stream",
     "text": [
      "Time to initialize solution data:0.015744447708129883\n",
      "Time to initialize solution data:0.015744447708129883\n"
     ]
    },
    {
     "name": "stderr",
     "output_type": "stream",
     "text": [
      "C:\\actions-runner\\_work\\pyaedt-examples\\pyaedt-examples\\.venv\\lib\\site-packages\\ansys\\aedt\\core\\visualization\\post\\solution_data.py:733: UserWarning: Method `data_real` is deprecated. Use :func:`get_expression_data` property instead.\n",
      "  warnings.warn(\"Method `data_real` is deprecated. Use :func:`get_expression_data` property instead.\")\n"
     ]
    }
   ],
   "source": [
    "for i in range(0, 2):\n",
    "    variable = \"ROM1.\" + rom_pins[i]\n",
    "    x = tb.post.get_solution_data(variable, \"TR\", \"Time\")\n",
    "    ax[0].plot(\n",
    "        [el for el in x.intrinsics[\"Time\"]], x.data_real(variable), label=variable\n",
    "    )"
   ]
  },
  {
   "cell_type": "code",
   "execution_count": 29,
   "id": "c6b5dc8a",
   "metadata": {
    "execution": {
     "iopub.execute_input": "2025-10-30T06:40:46.166952Z",
     "iopub.status.busy": "2025-10-30T06:40:46.166952Z",
     "iopub.status.idle": "2025-10-30T06:40:46.183517Z",
     "shell.execute_reply": "2025-10-30T06:40:46.182873Z"
    }
   },
   "outputs": [
    {
     "data": {
      "text/plain": [
       "<matplotlib.legend.Legend at 0x1bbc9224760>"
      ]
     },
     "execution_count": 29,
     "metadata": {},
     "output_type": "execute_result"
    }
   ],
   "source": [
    "ax[0].set_title(\"ROM inputs\")\n",
    "ax[0].legend(loc=\"upper left\")"
   ]
  },
  {
   "cell_type": "code",
   "execution_count": 30,
   "id": "efa92dbb",
   "metadata": {
    "execution": {
     "iopub.execute_input": "2025-10-30T06:40:46.183517Z",
     "iopub.status.busy": "2025-10-30T06:40:46.183517Z",
     "iopub.status.idle": "2025-10-30T06:40:46.404118Z",
     "shell.execute_reply": "2025-10-30T06:40:46.404118Z"
    }
   },
   "outputs": [
    {
     "name": "stdout",
     "output_type": "stream",
     "text": [
      "PyAEDT INFO: Solution Data Correctly Loaded.\n"
     ]
    },
    {
     "name": "stdout",
     "output_type": "stream",
     "text": [
      "Time to initialize solution data:0.0\n",
      "Time to initialize solution data:0.015140771865844727\n"
     ]
    },
    {
     "name": "stdout",
     "output_type": "stream",
     "text": [
      "PyAEDT INFO: Solution Data Correctly Loaded.\n"
     ]
    },
    {
     "name": "stdout",
     "output_type": "stream",
     "text": [
      "Time to initialize solution data:0.014997243881225586\n",
      "Time to initialize solution data:0.014997243881225586\n"
     ]
    }
   ],
   "source": [
    "for i in range(2, 4):\n",
    "    variable = \"ROM1.\" + rom_pins[i]\n",
    "    x = tb.post.get_solution_data(variable, \"TR\", \"Time\")\n",
    "    ax[1].plot(\n",
    "        [el for el in x.intrinsics[\"Time\"]], x.data_real(variable), label=variable\n",
    "    )"
   ]
  },
  {
   "cell_type": "code",
   "execution_count": 31,
   "id": "fef1dd36",
   "metadata": {
    "execution": {
     "iopub.execute_input": "2025-10-30T06:40:46.404118Z",
     "iopub.status.busy": "2025-10-30T06:40:46.404118Z",
     "iopub.status.idle": "2025-10-30T06:40:46.420157Z",
     "shell.execute_reply": "2025-10-30T06:40:46.420157Z"
    }
   },
   "outputs": [
    {
     "data": {
      "text/plain": [
       "<matplotlib.legend.Legend at 0x1bbc92dbe20>"
      ]
     },
     "execution_count": 31,
     "metadata": {},
     "output_type": "execute_result"
    }
   ],
   "source": [
    "ax[1].set_title(\"ROM outputs\")\n",
    "ax[1].legend(loc=\"upper left\")"
   ]
  },
  {
   "cell_type": "markdown",
   "id": "5b4fd17e",
   "metadata": {},
   "source": [
    "Show plot"
   ]
  },
  {
   "cell_type": "code",
   "execution_count": 32,
   "id": "c1fbb966",
   "metadata": {
    "execution": {
     "iopub.execute_input": "2025-10-30T06:40:46.420157Z",
     "iopub.status.busy": "2025-10-30T06:40:46.420157Z",
     "iopub.status.idle": "2025-10-30T06:40:46.436243Z",
     "shell.execute_reply": "2025-10-30T06:40:46.436243Z"
    }
   },
   "outputs": [],
   "source": [
    "plt.show()"
   ]
  },
  {
   "cell_type": "markdown",
   "id": "90f2b78a",
   "metadata": {},
   "source": [
    "## Release AEDT\n",
    "\n",
    "Release AEDT and close the example."
   ]
  },
  {
   "cell_type": "code",
   "execution_count": 33,
   "id": "bee987e8",
   "metadata": {
    "execution": {
     "iopub.execute_input": "2025-10-30T06:40:46.436243Z",
     "iopub.status.busy": "2025-10-30T06:40:46.436243Z",
     "iopub.status.idle": "2025-10-30T06:41:00.400361Z",
     "shell.execute_reply": "2025-10-30T06:41:00.398350Z"
    }
   },
   "outputs": [
    {
     "name": "stdout",
     "output_type": "stream",
     "text": [
      "PyAEDT INFO: Project LTI_ROM Saved correctly\n"
     ]
    },
    {
     "name": "stdout",
     "output_type": "stream",
     "text": [
      "PyAEDT INFO: Desktop has been released and closed.\n"
     ]
    },
    {
     "data": {
      "text/plain": [
       "True"
      ]
     },
     "execution_count": 33,
     "metadata": {},
     "output_type": "execute_result"
    }
   ],
   "source": [
    "tb.save_project()\n",
    "tb.release_desktop()"
   ]
  },
  {
   "cell_type": "markdown",
   "id": "2d579884",
   "metadata": {},
   "source": [
    "Wait 3 seconds to allow AEDT to shut down before cleaning the temporary directory."
   ]
  },
  {
   "cell_type": "code",
   "execution_count": 34,
   "id": "609517ce",
   "metadata": {
    "execution": {
     "iopub.execute_input": "2025-10-30T06:41:00.403237Z",
     "iopub.status.busy": "2025-10-30T06:41:00.403237Z",
     "iopub.status.idle": "2025-10-30T06:41:03.419111Z",
     "shell.execute_reply": "2025-10-30T06:41:03.419111Z"
    }
   },
   "outputs": [],
   "source": [
    "time.sleep(3)"
   ]
  },
  {
   "cell_type": "markdown",
   "id": "a56d4fad",
   "metadata": {},
   "source": [
    "## Clean up\n",
    "\n",
    "All project files are saved in the folder ``temp_folder.name``. If you've run this example as a Jupyter notebook, you\n",
    "can retrieve those project files. The following cell removes all temporary files, including the project folder."
   ]
  },
  {
   "cell_type": "code",
   "execution_count": 35,
   "id": "9b1d3095",
   "metadata": {
    "execution": {
     "iopub.execute_input": "2025-10-30T06:41:03.419111Z",
     "iopub.status.busy": "2025-10-30T06:41:03.419111Z",
     "iopub.status.idle": "2025-10-30T06:41:03.451188Z",
     "shell.execute_reply": "2025-10-30T06:41:03.451188Z"
    }
   },
   "outputs": [],
   "source": [
    "temp_folder.cleanup()"
   ]
  }
 ],
 "metadata": {
  "jupytext": {
   "cell_metadata_filter": "-all",
   "main_language": "python",
   "notebook_metadata_filter": "-all"
  },
  "language_info": {
   "codemirror_mode": {
    "name": "ipython",
    "version": 3
   },
   "file_extension": ".py",
   "mimetype": "text/x-python",
   "name": "python",
   "nbconvert_exporter": "python",
   "pygments_lexer": "ipython3",
   "version": "3.10.11"
  }
 },
 "nbformat": 4,
 "nbformat_minor": 5
}
