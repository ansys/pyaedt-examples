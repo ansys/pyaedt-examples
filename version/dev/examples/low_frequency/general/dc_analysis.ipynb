{
 "cells": [
  {
   "cell_type": "markdown",
   "id": "27c1c6ce",
   "metadata": {},
   "source": [
    "# Electro DC analysis"
   ]
  },
  {
   "cell_type": "markdown",
   "id": "cb13d4a9",
   "metadata": {},
   "source": [
    "This example shows how to use PyAEDT to create a Maxwell DC analysis,\n",
    "compute mass center, and move coordinate systems.\n",
    "\n",
    "Keywords: **Maxwell 3D**, **DC**."
   ]
  },
  {
   "cell_type": "markdown",
   "id": "a1314461",
   "metadata": {},
   "source": [
    "## Perform imports and define constants\n",
    "\n",
    "Perform required imports."
   ]
  },
  {
   "cell_type": "code",
   "execution_count": 1,
   "id": "6f24099a",
   "metadata": {
    "execution": {
     "iopub.execute_input": "2025-10-30T06:26:23.118877Z",
     "iopub.status.busy": "2025-10-30T06:26:23.118877Z",
     "iopub.status.idle": "2025-10-30T06:26:26.203786Z",
     "shell.execute_reply": "2025-10-30T06:26:26.203786Z"
    }
   },
   "outputs": [],
   "source": [
    "import os\n",
    "import tempfile\n",
    "import time\n",
    "\n",
    "from ansys.aedt.core import Maxwell3d\n",
    "from ansys.aedt.core.generic.constants import SolutionsMaxwell3D\n"
   ]
  },
  {
   "cell_type": "markdown",
   "id": "0528cf04",
   "metadata": {},
   "source": [
    "Define constants."
   ]
  },
  {
   "cell_type": "code",
   "execution_count": 2,
   "id": "3f0f1051",
   "metadata": {
    "execution": {
     "iopub.execute_input": "2025-10-30T06:26:26.203786Z",
     "iopub.status.busy": "2025-10-30T06:26:26.203786Z",
     "iopub.status.idle": "2025-10-30T06:26:26.219649Z",
     "shell.execute_reply": "2025-10-30T06:26:26.219649Z"
    }
   },
   "outputs": [],
   "source": [
    "AEDT_VERSION = \"2025.2\"\n",
    "NUM_CORES = 4\n",
    "NG_MODE = False  # Open AEDT UI when it is launched."
   ]
  },
  {
   "cell_type": "markdown",
   "id": "4d4a2754",
   "metadata": {},
   "source": [
    "## Create temporary directory\n",
    "\n",
    "Create a temporary directory where downloaded data or\n",
    "dumped data can be stored.\n",
    "If you'd like to retrieve the project data for subsequent use,\n",
    "the temporary folder name is given by ``temp_folder.name``."
   ]
  },
  {
   "cell_type": "code",
   "execution_count": 3,
   "id": "f4b85e72",
   "metadata": {
    "execution": {
     "iopub.execute_input": "2025-10-30T06:26:26.219649Z",
     "iopub.status.busy": "2025-10-30T06:26:26.219649Z",
     "iopub.status.idle": "2025-10-30T06:26:26.235740Z",
     "shell.execute_reply": "2025-10-30T06:26:26.235740Z"
    }
   },
   "outputs": [],
   "source": [
    "temp_folder = tempfile.TemporaryDirectory(suffix=\".ansys\")"
   ]
  },
  {
   "cell_type": "markdown",
   "id": "72f6b543",
   "metadata": {},
   "source": [
    "## Launch AEDT\n",
    "\n",
    "Create an instance of the ``Maxwell3d`` class named ``m3d`` by providing\n",
    "the project name, the version, and the graphical mode."
   ]
  },
  {
   "cell_type": "code",
   "execution_count": 4,
   "id": "a20cf6f9",
   "metadata": {
    "execution": {
     "iopub.execute_input": "2025-10-30T06:26:26.235740Z",
     "iopub.status.busy": "2025-10-30T06:26:26.235740Z",
     "iopub.status.idle": "2025-10-30T06:26:54.909994Z",
     "shell.execute_reply": "2025-10-30T06:26:54.909994Z"
    }
   },
   "outputs": [
    {
     "name": "stdout",
     "output_type": "stream",
     "text": [
      "PyAEDT INFO: Python version 3.10.11 (tags/v3.10.11:7d4cc5a, Apr  5 2023, 00:38:17) [MSC v.1929 64 bit (AMD64)].\n"
     ]
    },
    {
     "name": "stdout",
     "output_type": "stream",
     "text": [
      "PyAEDT INFO: PyAEDT version 0.22.dev0.\n"
     ]
    },
    {
     "name": "stdout",
     "output_type": "stream",
     "text": [
      "PyAEDT INFO: Initializing new Desktop session.\n"
     ]
    },
    {
     "name": "stdout",
     "output_type": "stream",
     "text": [
      "PyAEDT INFO: Log on console is enabled.\n"
     ]
    },
    {
     "name": "stdout",
     "output_type": "stream",
     "text": [
      "PyAEDT INFO: Log on file C:\\Users\\ansys\\AppData\\Local\\Temp\\pyaedt_ansys_29801722-82a8-4b70-b7e1-e46f4e21d169.log is enabled.\n"
     ]
    },
    {
     "name": "stdout",
     "output_type": "stream",
     "text": [
      "PyAEDT INFO: Log on AEDT is disabled.\n"
     ]
    },
    {
     "name": "stdout",
     "output_type": "stream",
     "text": [
      "PyAEDT INFO: Debug logger is disabled. PyAEDT methods will not be logged.\n"
     ]
    },
    {
     "name": "stdout",
     "output_type": "stream",
     "text": [
      "PyAEDT INFO: Launching PyAEDT with gRPC plugin.\n"
     ]
    },
    {
     "name": "stdout",
     "output_type": "stream",
     "text": [
      "PyAEDT INFO: New AEDT session is starting on gRPC port 63785.\n"
     ]
    },
    {
     "name": "stdout",
     "output_type": "stream",
     "text": [
      "PyAEDT INFO: Electronics Desktop started on gRPC port: 63785 after 11.26699948310852 seconds.\n"
     ]
    },
    {
     "name": "stdout",
     "output_type": "stream",
     "text": [
      "PyAEDT INFO: AEDT installation Path C:\\Program Files\\ANSYS Inc\\v252\\AnsysEM\n"
     ]
    },
    {
     "name": "stdout",
     "output_type": "stream",
     "text": [
      "PyAEDT INFO: Ansoft.ElectronicsDesktop.2025.2 version started with process ID 6804.\n"
     ]
    },
    {
     "name": "stdout",
     "output_type": "stream",
     "text": [
      "PyAEDT INFO: Project conductor_example has been created.\n"
     ]
    },
    {
     "name": "stdout",
     "output_type": "stream",
     "text": [
      "PyAEDT INFO: No design is present. Inserting a new design.\n"
     ]
    },
    {
     "name": "stdout",
     "output_type": "stream",
     "text": [
      "PyAEDT INFO: Added design 'Maxwell 3D_87E' of type Maxwell 3D.\n"
     ]
    },
    {
     "name": "stdout",
     "output_type": "stream",
     "text": [
      "PyAEDT INFO: Aedt Objects correctly read\n"
     ]
    }
   ],
   "source": [
    "project_name = os.path.join(temp_folder.name, \"conductor_example.aedt\")\n",
    "m3d = Maxwell3d(\n",
    "    project=project_name,\n",
    "    version=AEDT_VERSION,\n",
    "    new_desktop=True,\n",
    "    non_graphical=NG_MODE,\n",
    ")"
   ]
  },
  {
   "cell_type": "markdown",
   "id": "316cd0b5",
   "metadata": {},
   "source": [
    "## Set up Maxwell solution\n",
    "\n",
    "Set up the Maxwell solution to DC."
   ]
  },
  {
   "cell_type": "code",
   "execution_count": 5,
   "id": "4d445469",
   "metadata": {
    "execution": {
     "iopub.execute_input": "2025-10-30T06:26:54.909994Z",
     "iopub.status.busy": "2025-10-30T06:26:54.909994Z",
     "iopub.status.idle": "2025-10-30T06:26:54.925715Z",
     "shell.execute_reply": "2025-10-30T06:26:54.925715Z"
    }
   },
   "outputs": [],
   "source": [
    "solutions = SolutionsMaxwell3D.versioned(AEDT_VERSION)\n",
    "m3d.solution_type = solutions.ElectroDCConduction"
   ]
  },
  {
   "cell_type": "markdown",
   "id": "f7dd111c",
   "metadata": {},
   "source": [
    "## Create conductor\n",
    "\n",
    "Create a conductor using copper, a predefined material in the Maxwell material library."
   ]
  },
  {
   "cell_type": "code",
   "execution_count": 6,
   "id": "337b4644",
   "metadata": {
    "execution": {
     "iopub.execute_input": "2025-10-30T06:26:54.925715Z",
     "iopub.status.busy": "2025-10-30T06:26:54.925715Z",
     "iopub.status.idle": "2025-10-30T06:27:08.639548Z",
     "shell.execute_reply": "2025-10-30T06:27:08.638930Z"
    }
   },
   "outputs": [
    {
     "name": "stdout",
     "output_type": "stream",
     "text": [
      "PyAEDT INFO: Modeler class has been initialized! Elapsed time: 0m 1sec\n"
     ]
    },
    {
     "name": "stdout",
     "output_type": "stream",
     "text": [
      "PyAEDT INFO: Materials class has been initialized! Elapsed time: 0m 0sec\n"
     ]
    }
   ],
   "source": [
    "conductor = m3d.modeler.create_box(\n",
    "    origin=[7, 4, 22], sizes=[10, 5, 30], name=\"Conductor\", material=\"copper\"\n",
    ")"
   ]
  },
  {
   "cell_type": "markdown",
   "id": "f8564cd1",
   "metadata": {},
   "source": [
    "## Create setup and assign voltage"
   ]
  },
  {
   "cell_type": "code",
   "execution_count": 7,
   "id": "9f1b3bae",
   "metadata": {
    "execution": {
     "iopub.execute_input": "2025-10-30T06:27:08.639548Z",
     "iopub.status.busy": "2025-10-30T06:27:08.639548Z",
     "iopub.status.idle": "2025-10-30T06:27:08.734569Z",
     "shell.execute_reply": "2025-10-30T06:27:08.734569Z"
    }
   },
   "outputs": [
    {
     "name": "stdout",
     "output_type": "stream",
     "text": [
      "PyAEDT INFO: Boundary Voltage Voltage_7J88AW has been created.\n"
     ]
    },
    {
     "name": "stdout",
     "output_type": "stream",
     "text": [
      "PyAEDT INFO: Parsing C:\\Users\\ansys\\AppData\\Local\\Temp\\tmptci0wtgh.ansys\\conductor_example.aedt.\n"
     ]
    },
    {
     "name": "stdout",
     "output_type": "stream",
     "text": [
      "PyAEDT INFO: File C:\\Users\\ansys\\AppData\\Local\\Temp\\tmptci0wtgh.ansys\\conductor_example.aedt correctly loaded. Elapsed time: 0m 0sec\n"
     ]
    },
    {
     "name": "stdout",
     "output_type": "stream",
     "text": [
      "PyAEDT INFO: aedt file load time 0.015791893005371094\n"
     ]
    },
    {
     "data": {
      "text/plain": [
       "MySetupAuto with 0 Sweeps"
      ]
     },
     "execution_count": 7,
     "metadata": {},
     "output_type": "execute_result"
    }
   ],
   "source": [
    "m3d.assign_voltage(assignment=conductor.faces, amplitude=0)\n",
    "m3d.create_setup()"
   ]
  },
  {
   "cell_type": "markdown",
   "id": "12680f7a",
   "metadata": {},
   "source": [
    "## Solve setup"
   ]
  },
  {
   "cell_type": "code",
   "execution_count": 8,
   "id": "b7526781",
   "metadata": {
    "execution": {
     "iopub.execute_input": "2025-10-30T06:27:08.739269Z",
     "iopub.status.busy": "2025-10-30T06:27:08.734569Z",
     "iopub.status.idle": "2025-10-30T06:27:30.374777Z",
     "shell.execute_reply": "2025-10-30T06:27:30.374777Z"
    }
   },
   "outputs": [
    {
     "name": "stdout",
     "output_type": "stream",
     "text": [
      "PyAEDT INFO: Project conductor_example Saved correctly\n"
     ]
    },
    {
     "name": "stdout",
     "output_type": "stream",
     "text": [
      "PyAEDT INFO: Key Desktop/ActiveDSOConfigurations/Maxwell 3D correctly changed.\n"
     ]
    },
    {
     "name": "stdout",
     "output_type": "stream",
     "text": [
      "PyAEDT INFO: Solving all design setups. Analysis started...\n"
     ]
    },
    {
     "name": "stdout",
     "output_type": "stream",
     "text": [
      "PyAEDT INFO: Design setup None solved correctly in 0.0h 0.0m 21.0s\n"
     ]
    },
    {
     "name": "stdout",
     "output_type": "stream",
     "text": [
      "PyAEDT INFO: Key Desktop/ActiveDSOConfigurations/Maxwell 3D correctly changed.\n"
     ]
    },
    {
     "data": {
      "text/plain": [
       "True"
      ]
     },
     "execution_count": 8,
     "metadata": {},
     "output_type": "execute_result"
    }
   ],
   "source": [
    "m3d.analyze(cores=NUM_CORES)"
   ]
  },
  {
   "cell_type": "markdown",
   "id": "46b5d5e6",
   "metadata": {},
   "source": [
    "## Compute mass center\n",
    "\n",
    "Compute mass center using PyAEDT advanced fields calculator."
   ]
  },
  {
   "cell_type": "code",
   "execution_count": 9,
   "id": "bb9c6bd2",
   "metadata": {
    "execution": {
     "iopub.execute_input": "2025-10-30T06:27:30.378794Z",
     "iopub.status.busy": "2025-10-30T06:27:30.378794Z",
     "iopub.status.idle": "2025-10-30T06:27:30.611839Z",
     "shell.execute_reply": "2025-10-30T06:27:30.611839Z"
    }
   },
   "outputs": [
    {
     "name": "stdout",
     "output_type": "stream",
     "text": [
      "PyAEDT INFO: Parsing C:\\Users\\ansys\\AppData\\Local\\Temp\\tmptci0wtgh.ansys\\conductor_example.aedt.\n"
     ]
    },
    {
     "name": "stdout",
     "output_type": "stream",
     "text": [
      "PyAEDT INFO: File C:\\Users\\ansys\\AppData\\Local\\Temp\\tmptci0wtgh.ansys\\conductor_example.aedt correctly loaded. Elapsed time: 0m 0sec\n"
     ]
    },
    {
     "name": "stdout",
     "output_type": "stream",
     "text": [
      "PyAEDT INFO: aedt file load time 0.005774974822998047\n"
     ]
    },
    {
     "name": "stdout",
     "output_type": "stream",
     "text": [
      "PyAEDT INFO: PostProcessor class has been initialized! Elapsed time: 0m 0sec\n"
     ]
    },
    {
     "name": "stdout",
     "output_type": "stream",
     "text": [
      "PyAEDT INFO: PostProcessor class has been initialized! Elapsed time: 0m 0sec\n"
     ]
    },
    {
     "name": "stdout",
     "output_type": "stream",
     "text": [
      "PyAEDT INFO: Post class has been initialized! Elapsed time: 0m 0sec\n"
     ]
    },
    {
     "data": {
      "text/plain": [
       "'CM_Z'"
      ]
     },
     "execution_count": 9,
     "metadata": {},
     "output_type": "execute_result"
    }
   ],
   "source": [
    "scalar_function = \"\"\n",
    "mass_center = {\n",
    "    \"name\": \"CM_X\",\n",
    "    \"description\": \"Mass center computation\",\n",
    "    \"design_type\": [\"Maxwell 3D\"],\n",
    "    \"fields_type\": [\"Fields\"],\n",
    "    \"primary_sweep\": \"distance\",\n",
    "    \"assignment\": \"\",\n",
    "    \"assignment_type\": [\"Solid\"],\n",
    "    \"operations\": [\n",
    "        scalar_function,\n",
    "        \"EnterVolume('assignment')\",\n",
    "        \"Operation('VolumeValue')\",\n",
    "        \"Operation('Mean')\",\n",
    "    ],\n",
    "    \"report\": [\"Data Table\"],\n",
    "}\n",
    "scalar_function = \"Scalar_Function(FuncValue='X')\"\n",
    "mass_center[\"operations\"][0] = scalar_function\n",
    "m3d.post.fields_calculator.add_expression(mass_center, conductor.name)\n",
    "mass_center[\"name\"] = \"CM_Y\"\n",
    "scalar_function = \"Scalar_Function(FuncValue='Y')\"\n",
    "mass_center[\"operations\"][0] = scalar_function\n",
    "m3d.post.fields_calculator.add_expression(mass_center, conductor.name)\n",
    "mass_center[\"name\"] = \"CM_Z\"\n",
    "scalar_function = \"Scalar_Function(FuncValue='Z')\"\n",
    "mass_center[\"operations\"][0] = scalar_function\n",
    "m3d.post.fields_calculator.add_expression(mass_center, conductor.name)"
   ]
  },
  {
   "cell_type": "markdown",
   "id": "3ec9b41a",
   "metadata": {},
   "source": [
    "## Get mass center\n",
    "\n",
    "Get mass center using the fields calculator."
   ]
  },
  {
   "cell_type": "code",
   "execution_count": 10,
   "id": "8ad96f72",
   "metadata": {
    "execution": {
     "iopub.execute_input": "2025-10-30T06:27:30.611839Z",
     "iopub.status.busy": "2025-10-30T06:27:30.611839Z",
     "iopub.status.idle": "2025-10-30T06:27:31.075266Z",
     "shell.execute_reply": "2025-10-30T06:27:31.075266Z"
    }
   },
   "outputs": [
    {
     "name": "stdout",
     "output_type": "stream",
     "text": [
      "PyAEDT INFO: Exporting CM_X field. Be patient\n"
     ]
    },
    {
     "name": "stdout",
     "output_type": "stream",
     "text": [
      "PyAEDT INFO: Quantity CM_X not present. Trying to get it from Stack\n"
     ]
    },
    {
     "name": "stdout",
     "output_type": "stream",
     "text": [
      "PyAEDT INFO: Exporting CM_Y field. Be patient\n"
     ]
    },
    {
     "name": "stdout",
     "output_type": "stream",
     "text": [
      "PyAEDT INFO: Quantity CM_Y not present. Trying to get it from Stack\n"
     ]
    },
    {
     "name": "stdout",
     "output_type": "stream",
     "text": [
      "PyAEDT INFO: Exporting CM_Z field. Be patient\n"
     ]
    },
    {
     "name": "stdout",
     "output_type": "stream",
     "text": [
      "PyAEDT INFO: Quantity CM_Z not present. Trying to get it from Stack\n"
     ]
    }
   ],
   "source": [
    "xval = m3d.post.get_scalar_field_value(quantity=\"CM_X\")\n",
    "yval = m3d.post.get_scalar_field_value(quantity=\"CM_Y\")\n",
    "zval = m3d.post.get_scalar_field_value(quantity=\"CM_Z\")"
   ]
  },
  {
   "cell_type": "markdown",
   "id": "8a6157a8",
   "metadata": {},
   "source": [
    "## Create variables\n",
    "\n",
    "Create variables with mass center values."
   ]
  },
  {
   "cell_type": "code",
   "execution_count": 11,
   "id": "c0db5a18",
   "metadata": {
    "execution": {
     "iopub.execute_input": "2025-10-30T06:27:31.075266Z",
     "iopub.status.busy": "2025-10-30T06:27:31.075266Z",
     "iopub.status.idle": "2025-10-30T06:27:31.123087Z",
     "shell.execute_reply": "2025-10-30T06:27:31.123087Z"
    }
   },
   "outputs": [],
   "source": [
    "m3d[conductor.name + \"x\"] = str(xval * 1e3) + \"mm\"\n",
    "m3d[conductor.name + \"y\"] = str(yval * 1e3) + \"mm\"\n",
    "m3d[conductor.name + \"z\"] = str(zval * 1e3) + \"mm\""
   ]
  },
  {
   "cell_type": "markdown",
   "id": "821fef39",
   "metadata": {},
   "source": [
    "## Create coordinate system\n",
    "\n",
    "Create a parametric coordinate system."
   ]
  },
  {
   "cell_type": "code",
   "execution_count": 12,
   "id": "5627f819",
   "metadata": {
    "execution": {
     "iopub.execute_input": "2025-10-30T06:27:31.128100Z",
     "iopub.status.busy": "2025-10-30T06:27:31.128100Z",
     "iopub.status.idle": "2025-10-30T06:27:31.154998Z",
     "shell.execute_reply": "2025-10-30T06:27:31.154998Z"
    }
   },
   "outputs": [],
   "source": [
    "cs1 = m3d.modeler.create_coordinate_system(\n",
    "    origin=[conductor.name + \"x\", conductor.name + \"y\", conductor.name + \"z\"],\n",
    "    reference_cs=\"Global\",\n",
    "    name=conductor.name + \"CS\",\n",
    ")"
   ]
  },
  {
   "cell_type": "markdown",
   "id": "9c7ef0c7",
   "metadata": {},
   "source": [
    "## Release AEDT"
   ]
  },
  {
   "cell_type": "code",
   "execution_count": 13,
   "id": "2c9f93fb",
   "metadata": {
    "execution": {
     "iopub.execute_input": "2025-10-30T06:27:31.154998Z",
     "iopub.status.busy": "2025-10-30T06:27:31.154998Z",
     "iopub.status.idle": "2025-10-30T06:27:48.841565Z",
     "shell.execute_reply": "2025-10-30T06:27:48.841565Z"
    }
   },
   "outputs": [
    {
     "name": "stdout",
     "output_type": "stream",
     "text": [
      "PyAEDT INFO: Project conductor_example Saved correctly\n"
     ]
    },
    {
     "name": "stdout",
     "output_type": "stream",
     "text": [
      "PyAEDT INFO: Desktop has been released and closed.\n"
     ]
    }
   ],
   "source": [
    "m3d.save_project()\n",
    "m3d.release_desktop()\n",
    "# Wait 3 seconds to allow AEDT to shut down before cleaning the temporary directory.\n",
    "time.sleep(3)"
   ]
  },
  {
   "cell_type": "markdown",
   "id": "54f892c4",
   "metadata": {},
   "source": [
    "## Clean up\n",
    "\n",
    "All project files are saved in the folder ``temp_folder.name``.\n",
    "If you've run this example as a Jupyter notebook, you\n",
    "can retrieve those project files. The following cell\n",
    "removes all temporary files, including the project folder."
   ]
  },
  {
   "cell_type": "code",
   "execution_count": 14,
   "id": "ab20dc55",
   "metadata": {
    "execution": {
     "iopub.execute_input": "2025-10-30T06:27:48.841565Z",
     "iopub.status.busy": "2025-10-30T06:27:48.841565Z",
     "iopub.status.idle": "2025-10-30T06:27:48.873424Z",
     "shell.execute_reply": "2025-10-30T06:27:48.873424Z"
    }
   },
   "outputs": [],
   "source": [
    "temp_folder.cleanup()"
   ]
  }
 ],
 "metadata": {
  "jupytext": {
   "cell_metadata_filter": "-all",
   "main_language": "python",
   "notebook_metadata_filter": "-all"
  },
  "language_info": {
   "codemirror_mode": {
    "name": "ipython",
    "version": 3
   },
   "file_extension": ".py",
   "mimetype": "text/x-python",
   "name": "python",
   "nbconvert_exporter": "python",
   "pygments_lexer": "ipython3",
   "version": "3.10.11"
  }
 },
 "nbformat": 4,
 "nbformat_minor": 5
}
