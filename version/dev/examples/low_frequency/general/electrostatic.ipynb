{
 "cells": [
  {
   "cell_type": "markdown",
   "id": "802f3282",
   "metadata": {},
   "source": [
    "# Electrostatic analysis"
   ]
  },
  {
   "cell_type": "markdown",
   "id": "7fffaa95",
   "metadata": {},
   "source": [
    "This example shows how to use PyAEDT to create a Maxwell 2D electrostatic analysis.\n",
    "It shows how to create the geometry, load material properties from a Microsoft Excel file, and\n",
    "set up the mesh settings. Moreover, it focuses on postprocessing operations, in particular how to\n",
    "plot field line traces, which are relevant for an electrostatic analysis.\n",
    "\n",
    "Keywords: **Maxwell 2D**, **electrostatic**."
   ]
  },
  {
   "cell_type": "markdown",
   "id": "e67e06c1",
   "metadata": {},
   "source": [
    "## Perform imports and define constants\n",
    "\n",
    "Perform required imports."
   ]
  },
  {
   "cell_type": "code",
   "execution_count": 1,
   "id": "cfa3224b",
   "metadata": {
    "execution": {
     "iopub.execute_input": "2025-10-30T06:29:18.703967Z",
     "iopub.status.busy": "2025-10-30T06:29:18.703967Z",
     "iopub.status.idle": "2025-10-30T06:29:21.789567Z",
     "shell.execute_reply": "2025-10-30T06:29:21.789567Z"
    }
   },
   "outputs": [],
   "source": [
    "import os\n",
    "import tempfile\n",
    "import time\n",
    "\n",
    "import ansys.aedt.core\n",
    "from ansys.aedt.core.examples.downloads import download_file"
   ]
  },
  {
   "cell_type": "markdown",
   "id": "b3246bbd",
   "metadata": {},
   "source": [
    "Define constants."
   ]
  },
  {
   "cell_type": "code",
   "execution_count": 2,
   "id": "50981ec6",
   "metadata": {
    "execution": {
     "iopub.execute_input": "2025-10-30T06:29:21.789567Z",
     "iopub.status.busy": "2025-10-30T06:29:21.789567Z",
     "iopub.status.idle": "2025-10-30T06:29:21.805528Z",
     "shell.execute_reply": "2025-10-30T06:29:21.805528Z"
    }
   },
   "outputs": [],
   "source": [
    "AEDT_VERSION = \"2025.2\"\n",
    "NUM_CORES = 4\n",
    "NG_MODE = False"
   ]
  },
  {
   "cell_type": "markdown",
   "id": "782b36a1",
   "metadata": {},
   "source": [
    "## Create temporary directory\n",
    "\n",
    "Create a temporary directory where downloaded data or\n",
    "dumped data can be stored.\n",
    "If you'd like to retrieve the project data for subsequent use,\n",
    "the temporary folder name is given by ``temp_folder.name``.."
   ]
  },
  {
   "cell_type": "code",
   "execution_count": 3,
   "id": "e450b712",
   "metadata": {
    "execution": {
     "iopub.execute_input": "2025-10-30T06:29:21.805528Z",
     "iopub.status.busy": "2025-10-30T06:29:21.805528Z",
     "iopub.status.idle": "2025-10-30T06:29:21.821287Z",
     "shell.execute_reply": "2025-10-30T06:29:21.821287Z"
    }
   },
   "outputs": [],
   "source": [
    "temp_folder = tempfile.TemporaryDirectory(suffix=\".ansys\")"
   ]
  },
  {
   "cell_type": "markdown",
   "id": "ed3f1d44",
   "metadata": {},
   "source": [
    "## Download Excel file\n",
    "\n",
    "Set the local temporary folder to export the Excel (XLSX) file to."
   ]
  },
  {
   "cell_type": "code",
   "execution_count": 4,
   "id": "66429584",
   "metadata": {
    "execution": {
     "iopub.execute_input": "2025-10-30T06:29:21.821287Z",
     "iopub.status.busy": "2025-10-30T06:29:21.821287Z",
     "iopub.status.idle": "2025-10-30T06:29:22.259398Z",
     "shell.execute_reply": "2025-10-30T06:29:22.259398Z"
    }
   },
   "outputs": [],
   "source": [
    "file_name_xlsx = download_file(\n",
    "    source=\"field_line_traces\", name=\"my_copper.xlsx\", local_path=temp_folder.name\n",
    ")"
   ]
  },
  {
   "cell_type": "markdown",
   "id": "c4ddc6b9",
   "metadata": {},
   "source": [
    "## Initialize dictionaries\n",
    "\n",
    "Initialize the dictionaries that contain all the definitions for the design variables."
   ]
  },
  {
   "cell_type": "code",
   "execution_count": 5,
   "id": "466ae82d",
   "metadata": {
    "execution": {
     "iopub.execute_input": "2025-10-30T06:29:22.259398Z",
     "iopub.status.busy": "2025-10-30T06:29:22.259398Z",
     "iopub.status.idle": "2025-10-30T06:29:22.275223Z",
     "shell.execute_reply": "2025-10-30T06:29:22.275223Z"
    }
   },
   "outputs": [],
   "source": [
    "geom_params_circle = {\n",
    "    \"circle_x0\": \"-10mm\",\n",
    "    \"circle_y0\": \"0mm\",\n",
    "    \"circle_z0\": \"0mm\",\n",
    "    \"circle_axis\": \"Z\",\n",
    "    \"circle_radius\": \"1mm\",\n",
    "}\n",
    "\n",
    "geom_params_rectangle = {\n",
    "    \"r_x0\": \"1mm\",\n",
    "    \"r_y0\": \"5mm\",\n",
    "    \"r_z0\": \"0mm\",\n",
    "    \"r_axis\": \"Z\",\n",
    "    \"r_dx\": \"-1mm\",\n",
    "    \"r_dy\": \"-10mm\",\n",
    "}"
   ]
  },
  {
   "cell_type": "markdown",
   "id": "28e11f19",
   "metadata": {},
   "source": [
    "## Launch AEDT and Maxwell 2D\n",
    "\n",
    "Launch AEDT and Maxwell 2D after first setting up the project and design names,\n",
    "the solver, and the version. The following code also creates an instance of the\n",
    "``Maxwell2d`` class named ``m2d``."
   ]
  },
  {
   "cell_type": "code",
   "execution_count": 6,
   "id": "21b25b2f",
   "metadata": {
    "execution": {
     "iopub.execute_input": "2025-10-30T06:29:22.275223Z",
     "iopub.status.busy": "2025-10-30T06:29:22.275223Z",
     "iopub.status.idle": "2025-10-30T06:29:50.582516Z",
     "shell.execute_reply": "2025-10-30T06:29:50.582516Z"
    }
   },
   "outputs": [
    {
     "name": "stdout",
     "output_type": "stream",
     "text": [
      "PyAEDT INFO: Python version 3.10.11 (tags/v3.10.11:7d4cc5a, Apr  5 2023, 00:38:17) [MSC v.1929 64 bit (AMD64)].\n"
     ]
    },
    {
     "name": "stdout",
     "output_type": "stream",
     "text": [
      "PyAEDT INFO: PyAEDT version 0.22.dev0.\n"
     ]
    },
    {
     "name": "stdout",
     "output_type": "stream",
     "text": [
      "PyAEDT INFO: Initializing new Desktop session.\n"
     ]
    },
    {
     "name": "stdout",
     "output_type": "stream",
     "text": [
      "PyAEDT INFO: Log on console is enabled.\n"
     ]
    },
    {
     "name": "stdout",
     "output_type": "stream",
     "text": [
      "PyAEDT INFO: Log on file C:\\Users\\ansys\\AppData\\Local\\Temp\\pyaedt_ansys_6d07718c-591b-409d-b091-e76e7cbad782.log is enabled.\n"
     ]
    },
    {
     "name": "stdout",
     "output_type": "stream",
     "text": [
      "PyAEDT INFO: Log on AEDT is disabled.\n"
     ]
    },
    {
     "name": "stdout",
     "output_type": "stream",
     "text": [
      "PyAEDT INFO: Debug logger is disabled. PyAEDT methods will not be logged.\n"
     ]
    },
    {
     "name": "stdout",
     "output_type": "stream",
     "text": [
      "PyAEDT INFO: Launching PyAEDT with gRPC plugin.\n"
     ]
    },
    {
     "name": "stdout",
     "output_type": "stream",
     "text": [
      "PyAEDT INFO: New AEDT session is starting on gRPC port 64171.\n"
     ]
    },
    {
     "name": "stdout",
     "output_type": "stream",
     "text": [
      "PyAEDT INFO: Electronics Desktop started on gRPC port: 64171 after 10.922845840454102 seconds.\n"
     ]
    },
    {
     "name": "stdout",
     "output_type": "stream",
     "text": [
      "PyAEDT INFO: AEDT installation Path C:\\Program Files\\ANSYS Inc\\v252\\AnsysEM\n"
     ]
    },
    {
     "name": "stdout",
     "output_type": "stream",
     "text": [
      "PyAEDT INFO: Ansoft.ElectronicsDesktop.2025.2 version started with process ID 9112.\n"
     ]
    },
    {
     "name": "stdout",
     "output_type": "stream",
     "text": [
      "PyAEDT INFO: Project M2D_Electrostatic has been created.\n"
     ]
    },
    {
     "name": "stdout",
     "output_type": "stream",
     "text": [
      "PyAEDT INFO: Added design 'Design1' of type Maxwell 2D.\n"
     ]
    },
    {
     "name": "stdout",
     "output_type": "stream",
     "text": [
      "PyAEDT INFO: Aedt Objects correctly read\n"
     ]
    }
   ],
   "source": [
    "project_name = os.path.join(temp_folder.name, \"M2D_Electrostatic.aedt\")\n",
    "m2d = ansys.aedt.core.Maxwell2d(\n",
    "    project=project_name,\n",
    "    version=AEDT_VERSION,\n",
    "    design=\"Design1\",\n",
    "    solution_type=\"Electrostatic\",\n",
    "    new_desktop=True,\n",
    "    non_graphical=NG_MODE,\n",
    ")"
   ]
  },
  {
   "cell_type": "markdown",
   "id": "a761a48d",
   "metadata": {},
   "source": [
    "## Set modeler units\n",
    "\n",
    "Set modeler units to ``mm``."
   ]
  },
  {
   "cell_type": "code",
   "execution_count": 7,
   "id": "2708a57c",
   "metadata": {
    "execution": {
     "iopub.execute_input": "2025-10-30T06:29:50.582516Z",
     "iopub.status.busy": "2025-10-30T06:29:50.582516Z",
     "iopub.status.idle": "2025-10-30T06:29:51.550193Z",
     "shell.execute_reply": "2025-10-30T06:29:51.550193Z"
    }
   },
   "outputs": [
    {
     "name": "stdout",
     "output_type": "stream",
     "text": [
      "PyAEDT INFO: Modeler2D class has been initialized!\n"
     ]
    },
    {
     "name": "stdout",
     "output_type": "stream",
     "text": [
      "PyAEDT INFO: Modeler class has been initialized! Elapsed time: 0m 1sec\n"
     ]
    }
   ],
   "source": [
    "m2d.modeler.model_units = \"mm\""
   ]
  },
  {
   "cell_type": "markdown",
   "id": "ab35920f",
   "metadata": {},
   "source": [
    "## Define variables from dictionaries\n",
    "\n",
    "Define design variables from the created dictionaries."
   ]
  },
  {
   "cell_type": "code",
   "execution_count": 8,
   "id": "6a561fe8",
   "metadata": {
    "execution": {
     "iopub.execute_input": "2025-10-30T06:29:51.550193Z",
     "iopub.status.busy": "2025-10-30T06:29:51.550193Z",
     "iopub.status.idle": "2025-10-30T06:29:51.661393Z",
     "shell.execute_reply": "2025-10-30T06:29:51.661393Z"
    }
   },
   "outputs": [],
   "source": [
    "for k, v in geom_params_circle.items():\n",
    "    m2d[k] = v\n",
    "for k, v in geom_params_rectangle.items():\n",
    "    m2d[k] = v"
   ]
  },
  {
   "cell_type": "markdown",
   "id": "d1ca9a52",
   "metadata": {},
   "source": [
    "## Read materials from Excel file\n",
    "\n",
    "Read materials from the Excel file into the design."
   ]
  },
  {
   "cell_type": "code",
   "execution_count": 9,
   "id": "61fe38b0",
   "metadata": {
    "execution": {
     "iopub.execute_input": "2025-10-30T06:29:51.661393Z",
     "iopub.status.busy": "2025-10-30T06:29:51.661393Z",
     "iopub.status.idle": "2025-10-30T06:29:51.947311Z",
     "shell.execute_reply": "2025-10-30T06:29:51.947311Z"
    }
   },
   "outputs": [
    {
     "name": "stdout",
     "output_type": "stream",
     "text": [
      "PyAEDT INFO: Materials class has been initialized! Elapsed time: 0m 0sec\n"
     ]
    }
   ],
   "source": [
    "mats = m2d.materials.import_materials_from_excel(file_name_xlsx)"
   ]
  },
  {
   "cell_type": "markdown",
   "id": "fd760e68",
   "metadata": {},
   "source": [
    "## Create design geometries\n",
    "\n",
    "Create a rectangle and a circle. Assign the material read from the Excel file.\n",
    "Create two new polylines and a region."
   ]
  },
  {
   "cell_type": "code",
   "execution_count": 10,
   "id": "0bc15479",
   "metadata": {
    "execution": {
     "iopub.execute_input": "2025-10-30T06:29:51.947311Z",
     "iopub.status.busy": "2025-10-30T06:29:51.947311Z",
     "iopub.status.idle": "2025-10-30T06:30:05.220175Z",
     "shell.execute_reply": "2025-10-30T06:30:05.220175Z"
    }
   },
   "outputs": [
    {
     "data": {
      "text/plain": [
       "<ansys.aedt.core.modeler.cad.object_3d.Object3d at 0x280b9fecd60>"
      ]
     },
     "execution_count": 10,
     "metadata": {},
     "output_type": "execute_result"
    }
   ],
   "source": [
    "rect = m2d.modeler.create_rectangle(\n",
    "    origin=[\"r_x0\", \"r_y0\", \"r_z0\"],\n",
    "    sizes=[\"r_dx\", \"r_dy\", 0],\n",
    "    name=\"Ground\",\n",
    "    material=mats[0],\n",
    ")\n",
    "rect.color = (0, 0, 255)  # rgb\n",
    "rect.solve_inside = False\n",
    "\n",
    "circle = m2d.modeler.create_circle(\n",
    "    origin=[\"circle_x0\", \"circle_y0\", \"circle_z0\"],\n",
    "    radius=\"circle_radius\",\n",
    "    num_sides=\"0\",\n",
    "    is_covered=True,\n",
    "    name=\"Electrode\",\n",
    "    material=mats[0],\n",
    ")\n",
    "circle.color = (0, 0, 255)  # rgb\n",
    "circle.solve_inside = False\n",
    "\n",
    "poly1_points = [[-9, 2, 0], [-4, 2, 0], [2, -2, 0], [8, 2, 0]]\n",
    "poly2_points = [[-9, 0, 0], [9, 0, 0]]\n",
    "poly1_id = m2d.modeler.create_polyline(\n",
    "    points=poly1_points, segment_type=\"Spline\", name=\"Poly1\"\n",
    ")\n",
    "poly2_id = m2d.modeler.create_polyline(points=poly2_points, name=\"Poly2\")\n",
    "m2d.modeler.split(assignment=[poly1_id, poly2_id], plane=\"YZ\", sides=\"NegativeOnly\")\n",
    "m2d.modeler.create_region(pad_value=[20, 100, 20, 100])"
   ]
  },
  {
   "cell_type": "markdown",
   "id": "abd479d6",
   "metadata": {},
   "source": [
    "## Define excitations\n",
    "\n",
    "Assign voltage excitations to the rectangle and circle."
   ]
  },
  {
   "cell_type": "code",
   "execution_count": 11,
   "id": "a789e0b6",
   "metadata": {
    "execution": {
     "iopub.execute_input": "2025-10-30T06:30:05.220175Z",
     "iopub.status.busy": "2025-10-30T06:30:05.220175Z",
     "iopub.status.idle": "2025-10-30T06:30:05.331935Z",
     "shell.execute_reply": "2025-10-30T06:30:05.331935Z"
    }
   },
   "outputs": [
    {
     "name": "stdout",
     "output_type": "stream",
     "text": [
      "PyAEDT INFO: Boundary Voltage Ground has been created.\n"
     ]
    },
    {
     "name": "stdout",
     "output_type": "stream",
     "text": [
      "PyAEDT INFO: Boundary Voltage 50kV has been created.\n"
     ]
    },
    {
     "data": {
      "text/plain": [
       "<ansys.aedt.core.modules.boundary.common.BoundaryObject at 0x280b9fef0a0>"
      ]
     },
     "execution_count": 11,
     "metadata": {},
     "output_type": "execute_result"
    }
   ],
   "source": [
    "m2d.assign_voltage(assignment=rect.id, amplitude=0, name=\"Ground\")\n",
    "m2d.assign_voltage(assignment=circle.id, amplitude=50e6, name=\"50kV\")"
   ]
  },
  {
   "cell_type": "markdown",
   "id": "4fe1fa9d",
   "metadata": {},
   "source": [
    "## Create initial mesh settings\n",
    "\n",
    "Assign a surface mesh to the rectangle."
   ]
  },
  {
   "cell_type": "code",
   "execution_count": 12,
   "id": "11e1059a",
   "metadata": {
    "execution": {
     "iopub.execute_input": "2025-10-30T06:30:05.335962Z",
     "iopub.status.busy": "2025-10-30T06:30:05.335962Z",
     "iopub.status.idle": "2025-10-30T06:30:05.379380Z",
     "shell.execute_reply": "2025-10-30T06:30:05.379380Z"
    }
   },
   "outputs": [
    {
     "name": "stdout",
     "output_type": "stream",
     "text": [
      "PyAEDT INFO: Mesh class has been initialized! Elapsed time: 0m 0sec\n"
     ]
    },
    {
     "name": "stdout",
     "output_type": "stream",
     "text": [
      "PyAEDT INFO: Mesh class has been initialized! Elapsed time: 0m 0sec\n"
     ]
    },
    {
     "data": {
      "text/plain": [
       "<ansys.aedt.core.modules.mesh.MeshOperation at 0x280b9fef250>"
      ]
     },
     "execution_count": 12,
     "metadata": {},
     "output_type": "execute_result"
    }
   ],
   "source": [
    "m2d.mesh.assign_surface_mesh_manual(assignment=[\"Ground\"], surface_deviation=0.001)"
   ]
  },
  {
   "cell_type": "markdown",
   "id": "f68b6b0c",
   "metadata": {},
   "source": [
    "## Create, validate, and analyze setup"
   ]
  },
  {
   "cell_type": "code",
   "execution_count": 13,
   "id": "36077ada",
   "metadata": {
    "execution": {
     "iopub.execute_input": "2025-10-30T06:30:05.379380Z",
     "iopub.status.busy": "2025-10-30T06:30:05.379380Z",
     "iopub.status.idle": "2025-10-30T06:30:22.973207Z",
     "shell.execute_reply": "2025-10-30T06:30:22.973207Z"
    }
   },
   "outputs": [
    {
     "name": "stdout",
     "output_type": "stream",
     "text": [
      "PyAEDT INFO: Key Desktop/ActiveDSOConfigurations/Maxwell 2D correctly changed.\n"
     ]
    },
    {
     "name": "stdout",
     "output_type": "stream",
     "text": [
      "PyAEDT INFO: Solving design setup MySetupAuto\n"
     ]
    },
    {
     "name": "stdout",
     "output_type": "stream",
     "text": [
      "PyAEDT INFO: Design setup MySetupAuto solved correctly in 0.0h 0.0m 18.0s\n"
     ]
    },
    {
     "name": "stdout",
     "output_type": "stream",
     "text": [
      "PyAEDT INFO: Key Desktop/ActiveDSOConfigurations/Maxwell 2D correctly changed.\n"
     ]
    },
    {
     "data": {
      "text/plain": [
       "True"
      ]
     },
     "execution_count": 13,
     "metadata": {},
     "output_type": "execute_result"
    }
   ],
   "source": [
    "setup_name = \"MySetupAuto\"\n",
    "setup = m2d.create_setup(name=setup_name)\n",
    "setup.props[\"PercentError\"] = 0.5\n",
    "setup.update()\n",
    "m2d.validate_simple()\n",
    "m2d.analyze_setup(name=setup_name, use_auto_settings=False, cores=NUM_CORES)"
   ]
  },
  {
   "cell_type": "markdown",
   "id": "7abb366c",
   "metadata": {},
   "source": [
    "## Evaluate the E Field tangential component\n",
    "\n",
    "Evaluate the E Field tangential component along the given polylines.\n",
    "Add these operations to the **Named Expression** list in the field calculator."
   ]
  },
  {
   "cell_type": "code",
   "execution_count": 14,
   "id": "f2a8c2f6",
   "metadata": {
    "execution": {
     "iopub.execute_input": "2025-10-30T06:30:22.973207Z",
     "iopub.status.busy": "2025-10-30T06:30:22.973207Z",
     "iopub.status.idle": "2025-10-30T06:30:23.339278Z",
     "shell.execute_reply": "2025-10-30T06:30:23.337265Z"
    }
   },
   "outputs": [
    {
     "name": "stdout",
     "output_type": "stream",
     "text": [
      "PyAEDT INFO: Parsing C:\\Users\\ansys\\AppData\\Local\\Temp\\tmpfqjs2ea1.ansys\\M2D_Electrostatic.aedt.\n"
     ]
    },
    {
     "name": "stdout",
     "output_type": "stream",
     "text": [
      "PyAEDT INFO: File C:\\Users\\ansys\\AppData\\Local\\Temp\\tmpfqjs2ea1.ansys\\M2D_Electrostatic.aedt correctly loaded. Elapsed time: 0m 0sec\n"
     ]
    },
    {
     "name": "stdout",
     "output_type": "stream",
     "text": [
      "PyAEDT INFO: aedt file load time 0.008879423141479492\n"
     ]
    },
    {
     "name": "stdout",
     "output_type": "stream",
     "text": [
      "PyAEDT INFO: PostProcessor class has been initialized! Elapsed time: 0m 0sec\n"
     ]
    },
    {
     "name": "stdout",
     "output_type": "stream",
     "text": [
      "PyAEDT INFO: PostProcessor class has been initialized! Elapsed time: 0m 0sec\n"
     ]
    },
    {
     "name": "stdout",
     "output_type": "stream",
     "text": [
      "PyAEDT INFO: Post class has been initialized! Elapsed time: 0m 0sec\n"
     ]
    },
    {
     "data": {
      "text/plain": [
       "[]"
      ]
     },
     "execution_count": 14,
     "metadata": {},
     "output_type": "execute_result"
    }
   ],
   "source": [
    "e_line = m2d.post.fields_calculator.add_expression(\n",
    "    calculation=\"e_line\", assignment=None\n",
    ")\n",
    "m2d.post.fields_calculator.expression_plot(\n",
    "    calculation=\"e_line\", assignment=\"Poly1\", names=[e_line]\n",
    ")\n",
    "m2d.post.fields_calculator.expression_plot(\n",
    "    calculation=\"e_line\", assignment=\"Poly12\", names=[e_line]\n",
    ")"
   ]
  },
  {
   "cell_type": "markdown",
   "id": "a9821384",
   "metadata": {},
   "source": [
    "## Create field line traces plot\n",
    "\n",
    "Create a field line traces plot specifying as seeding faces\n",
    "the ground, the electrode, and the region\n",
    "and as ``In surface objects`` only the region."
   ]
  },
  {
   "cell_type": "code",
   "execution_count": 15,
   "id": "1596f496",
   "metadata": {
    "execution": {
     "iopub.execute_input": "2025-10-30T06:30:23.341285Z",
     "iopub.status.busy": "2025-10-30T06:30:23.341285Z",
     "iopub.status.idle": "2025-10-30T06:30:23.432809Z",
     "shell.execute_reply": "2025-10-30T06:30:23.431671Z"
    }
   },
   "outputs": [
    {
     "name": "stdout",
     "output_type": "stream",
     "text": [
      "PyAEDT INFO: Active Design set to Design1\n"
     ]
    }
   ],
   "source": [
    "plot = m2d.post.create_fieldplot_line_traces(\n",
    "    seeding_faces=[\"Ground\", \"Electrode\", \"Region\"],\n",
    "    in_volume_tracing_objs=[\"Region\"],\n",
    "    plot_name=\"LineTracesTest\",\n",
    ")"
   ]
  },
  {
   "cell_type": "markdown",
   "id": "6f438a86",
   "metadata": {},
   "source": [
    "## Update field line traces plot\n",
    "\n",
    "Update the field line traces plot.\n",
    "Update the seeding points number, line style, and line width."
   ]
  },
  {
   "cell_type": "code",
   "execution_count": 16,
   "id": "a62fc47e",
   "metadata": {
    "execution": {
     "iopub.execute_input": "2025-10-30T06:30:23.436829Z",
     "iopub.status.busy": "2025-10-30T06:30:23.434818Z",
     "iopub.status.idle": "2025-10-30T06:30:23.527496Z",
     "shell.execute_reply": "2025-10-30T06:30:23.527496Z"
    }
   },
   "outputs": [
    {
     "data": {
      "text/plain": [
       "True"
      ]
     },
     "execution_count": 16,
     "metadata": {},
     "output_type": "execute_result"
    }
   ],
   "source": [
    "plot.SeedingPointsNumber = 20\n",
    "plot.LineStyle = \"Cylinder\"\n",
    "plot.LineWidth = 3\n",
    "plot.update()"
   ]
  },
  {
   "cell_type": "markdown",
   "id": "c47e418b",
   "metadata": {},
   "source": [
    "## Export field line traces plot\n",
    "\n",
    "Export the field line traces plot.\n",
    "For the field lint traces plot, the export file format is ``.fldplt``."
   ]
  },
  {
   "cell_type": "code",
   "execution_count": 17,
   "id": "a99df43d",
   "metadata": {
    "execution": {
     "iopub.execute_input": "2025-10-30T06:30:23.531516Z",
     "iopub.status.busy": "2025-10-30T06:30:23.531516Z",
     "iopub.status.idle": "2025-10-30T06:30:24.520223Z",
     "shell.execute_reply": "2025-10-30T06:30:24.520223Z"
    }
   },
   "outputs": [
    {
     "data": {
      "text/plain": [
       "WindowsPath('C:/Users/ansys/AppData/Local/Temp/tmpfqjs2ea1.ansys/LineTracesTest.fldplt')"
      ]
     },
     "execution_count": 17,
     "metadata": {},
     "output_type": "execute_result"
    }
   ],
   "source": [
    "m2d.post.export_field_plot(\n",
    "    plot_name=\"LineTracesTest\", output_dir=temp_folder.name, file_format=\"fldplt\"\n",
    ")"
   ]
  },
  {
   "cell_type": "markdown",
   "id": "c37c6467",
   "metadata": {},
   "source": [
    "## Export mesh field plot\n",
    "\n",
    "Export the mesh to an AEDTPLT file."
   ]
  },
  {
   "cell_type": "code",
   "execution_count": 18,
   "id": "019c530d",
   "metadata": {
    "execution": {
     "iopub.execute_input": "2025-10-30T06:30:24.524017Z",
     "iopub.status.busy": "2025-10-30T06:30:24.524017Z",
     "iopub.status.idle": "2025-10-30T06:30:24.664767Z",
     "shell.execute_reply": "2025-10-30T06:30:24.664091Z"
    }
   },
   "outputs": [
    {
     "name": "stdout",
     "output_type": "stream",
     "text": [
      "PyAEDT INFO: Active Design set to Design1\n"
     ]
    },
    {
     "data": {
      "text/plain": [
       "WindowsPath('C:/Users/ansys/AppData/Local/Temp/tmpfqjs2ea1.ansys/M2D_Electrostatic.pyaedt/Design1/Mesh_3T8NTV.aedtplt')"
      ]
     },
     "execution_count": 18,
     "metadata": {},
     "output_type": "execute_result"
    }
   ],
   "source": [
    "m2d.post.export_mesh_obj(setup=m2d.nominal_adaptive)"
   ]
  },
  {
   "cell_type": "markdown",
   "id": "441e4362",
   "metadata": {},
   "source": [
    "## Release AEDT"
   ]
  },
  {
   "cell_type": "code",
   "execution_count": 19,
   "id": "67ea1492",
   "metadata": {
    "execution": {
     "iopub.execute_input": "2025-10-30T06:30:24.664767Z",
     "iopub.status.busy": "2025-10-30T06:30:24.664767Z",
     "iopub.status.idle": "2025-10-30T06:30:49.774627Z",
     "shell.execute_reply": "2025-10-30T06:30:49.774627Z"
    }
   },
   "outputs": [
    {
     "name": "stdout",
     "output_type": "stream",
     "text": [
      "PyAEDT INFO: Project M2D_Electrostatic Saved correctly\n"
     ]
    },
    {
     "name": "stdout",
     "output_type": "stream",
     "text": [
      "PyAEDT INFO: Desktop has been released and closed.\n"
     ]
    }
   ],
   "source": [
    "m2d.save_project()\n",
    "m2d.release_desktop()\n",
    "# Wait 3 seconds to allow AEDT to shut down before cleaning the temporary directory.\n",
    "time.sleep(3)"
   ]
  },
  {
   "cell_type": "markdown",
   "id": "25df9ca7",
   "metadata": {},
   "source": [
    "## Clean up\n",
    "\n",
    "All project files are saved in the folder ``temp_folder.name``.\n",
    "If you've run this example as a Jupyter notebook, you\n",
    "can retrieve those project files. The following cell\n",
    "removes all temporary files, including the project folder."
   ]
  },
  {
   "cell_type": "code",
   "execution_count": 20,
   "id": "a6fc2075",
   "metadata": {
    "execution": {
     "iopub.execute_input": "2025-10-30T06:30:49.774627Z",
     "iopub.status.busy": "2025-10-30T06:30:49.774627Z",
     "iopub.status.idle": "2025-10-30T06:30:49.806719Z",
     "shell.execute_reply": "2025-10-30T06:30:49.806719Z"
    }
   },
   "outputs": [],
   "source": [
    "temp_folder.cleanup()"
   ]
  }
 ],
 "metadata": {
  "jupytext": {
   "cell_metadata_filter": "-all",
   "main_language": "python",
   "notebook_metadata_filter": "-all"
  },
  "language_info": {
   "codemirror_mode": {
    "name": "ipython",
    "version": 3
   },
   "file_extension": ".py",
   "mimetype": "text/x-python",
   "name": "python",
   "nbconvert_exporter": "python",
   "pygments_lexer": "ipython3",
   "version": "3.10.11"
  }
 },
 "nbformat": 4,
 "nbformat_minor": 5
}
