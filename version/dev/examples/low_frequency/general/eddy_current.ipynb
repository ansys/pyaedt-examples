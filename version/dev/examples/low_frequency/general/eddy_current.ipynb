{
 "cells": [
  {
   "cell_type": "markdown",
   "id": "b4e8024d",
   "metadata": {},
   "source": [
    "# Eddy current analysis and reduced matrix"
   ]
  },
  {
   "cell_type": "markdown",
   "id": "53bb5927",
   "metadata": {},
   "source": [
    "This example shows how to leverage PyAEDT to assign a matrix\n",
    "and perform series or parallel connections in a Maxwell 2D design.\n",
    "\n",
    "Keywords: **Maxwell 2D**, **eddy current**, *matrix**."
   ]
  },
  {
   "cell_type": "markdown",
   "id": "496af0bb",
   "metadata": {},
   "source": [
    "## Perform imports and define constants\n",
    "\n",
    "Perform required imports."
   ]
  },
  {
   "cell_type": "code",
   "execution_count": 1,
   "id": "1270a81e",
   "metadata": {
    "execution": {
     "iopub.execute_input": "2025-10-30T06:27:53.170301Z",
     "iopub.status.busy": "2025-10-30T06:27:53.170301Z",
     "iopub.status.idle": "2025-10-30T06:27:56.306597Z",
     "shell.execute_reply": "2025-10-30T06:27:56.306597Z"
    }
   },
   "outputs": [],
   "source": [
    "import tempfile\n",
    "import time\n",
    "\n",
    "import ansys.aedt.core\n",
    "from ansys.aedt.core.examples.downloads import download_file"
   ]
  },
  {
   "cell_type": "markdown",
   "id": "0c12cfef",
   "metadata": {},
   "source": [
    "Define constants."
   ]
  },
  {
   "cell_type": "code",
   "execution_count": 2,
   "id": "04e833b5",
   "metadata": {
    "execution": {
     "iopub.execute_input": "2025-10-30T06:27:56.306597Z",
     "iopub.status.busy": "2025-10-30T06:27:56.306597Z",
     "iopub.status.idle": "2025-10-30T06:27:56.322568Z",
     "shell.execute_reply": "2025-10-30T06:27:56.322568Z"
    }
   },
   "outputs": [],
   "source": [
    "AEDT_VERSION = \"2025.2\"\n",
    "NUM_CORES = 4\n",
    "NG_MODE = False  # Open AEDT UI when it is launched."
   ]
  },
  {
   "cell_type": "markdown",
   "id": "3d4d3dc4",
   "metadata": {},
   "source": [
    "## Create temporary directory\n",
    "\n",
    "Create a temporary directory where downloaded data or\n",
    "dumped data can be stored.\n",
    "If you'd like to retrieve the project data for subsequent use,\n",
    "the temporary folder name is given by ``temp_folder.name``."
   ]
  },
  {
   "cell_type": "code",
   "execution_count": 3,
   "id": "ade00ce0",
   "metadata": {
    "execution": {
     "iopub.execute_input": "2025-10-30T06:27:56.322568Z",
     "iopub.status.busy": "2025-10-30T06:27:56.322568Z",
     "iopub.status.idle": "2025-10-30T06:27:56.338285Z",
     "shell.execute_reply": "2025-10-30T06:27:56.338285Z"
    }
   },
   "outputs": [],
   "source": [
    "temp_folder = tempfile.TemporaryDirectory(suffix=\".ansys\")"
   ]
  },
  {
   "cell_type": "markdown",
   "id": "c9e952e3",
   "metadata": {},
   "source": [
    "## Download AEDT file\n",
    "\n",
    "Set the local temporary folder to export the AEDT file to."
   ]
  },
  {
   "cell_type": "code",
   "execution_count": 4,
   "id": "42018015",
   "metadata": {
    "execution": {
     "iopub.execute_input": "2025-10-30T06:27:56.338285Z",
     "iopub.status.busy": "2025-10-30T06:27:56.338285Z",
     "iopub.status.idle": "2025-10-30T06:27:56.797100Z",
     "shell.execute_reply": "2025-10-30T06:27:56.797100Z"
    }
   },
   "outputs": [],
   "source": [
    "project_path = download_file(\n",
    "    source=\"maxwell_ec_reduced_matrix\",\n",
    "    name=\"m2d_eddy_current.aedt\",\n",
    "    local_path=temp_folder.name,\n",
    ")"
   ]
  },
  {
   "cell_type": "markdown",
   "id": "df8c1ea1",
   "metadata": {},
   "source": [
    "## Launch AEDT and Maxwell 2D\n",
    "\n",
    "Launch AEDT and Maxwell 2D, providing the version, path to the project, and the graphical mode."
   ]
  },
  {
   "cell_type": "code",
   "execution_count": 5,
   "id": "febb10c8",
   "metadata": {
    "execution": {
     "iopub.execute_input": "2025-10-30T06:27:56.797100Z",
     "iopub.status.busy": "2025-10-30T06:27:56.797100Z",
     "iopub.status.idle": "2025-10-30T06:28:25.518834Z",
     "shell.execute_reply": "2025-10-30T06:28:25.518834Z"
    }
   },
   "outputs": [
    {
     "name": "stdout",
     "output_type": "stream",
     "text": [
      "PyAEDT INFO: Parsing C:\\Users\\ansys\\AppData\\Local\\Temp\\tmpmnyeouvj.ansys\\maxwell_ec_reduced_matrix\\m2d_eddy_current.aedt.\n"
     ]
    },
    {
     "name": "stdout",
     "output_type": "stream",
     "text": [
      "PyAEDT INFO: Python version 3.10.11 (tags/v3.10.11:7d4cc5a, Apr  5 2023, 00:38:17) [MSC v.1929 64 bit (AMD64)].\n"
     ]
    },
    {
     "name": "stdout",
     "output_type": "stream",
     "text": [
      "PyAEDT INFO: PyAEDT version 0.22.dev0.\n"
     ]
    },
    {
     "name": "stdout",
     "output_type": "stream",
     "text": [
      "PyAEDT INFO: Initializing new Desktop session.\n"
     ]
    },
    {
     "name": "stdout",
     "output_type": "stream",
     "text": [
      "PyAEDT INFO: Log on console is enabled.\n"
     ]
    },
    {
     "name": "stdout",
     "output_type": "stream",
     "text": [
      "PyAEDT INFO: Log on file C:\\Users\\ansys\\AppData\\Local\\Temp\\pyaedt_ansys_db0c90a8-74b1-437d-8f5e-95d1a9495cb0.log is enabled.\n"
     ]
    },
    {
     "name": "stdout",
     "output_type": "stream",
     "text": [
      "PyAEDT INFO: Log on AEDT is disabled.\n"
     ]
    },
    {
     "name": "stdout",
     "output_type": "stream",
     "text": [
      "PyAEDT INFO: Debug logger is disabled. PyAEDT methods will not be logged.\n"
     ]
    },
    {
     "name": "stdout",
     "output_type": "stream",
     "text": [
      "PyAEDT INFO: Launching PyAEDT with gRPC plugin.\n"
     ]
    },
    {
     "name": "stdout",
     "output_type": "stream",
     "text": [
      "PyAEDT INFO: New AEDT session is starting on gRPC port 63985.\n"
     ]
    },
    {
     "name": "stdout",
     "output_type": "stream",
     "text": [
      "PyAEDT INFO: File C:\\Users\\ansys\\AppData\\Local\\Temp\\tmpmnyeouvj.ansys\\maxwell_ec_reduced_matrix\\m2d_eddy_current.aedt correctly loaded. Elapsed time: 0m 0sec\n"
     ]
    },
    {
     "name": "stdout",
     "output_type": "stream",
     "text": [
      "PyAEDT INFO: Electronics Desktop started on gRPC port: 63985 after 10.697311401367188 seconds.\n"
     ]
    },
    {
     "name": "stdout",
     "output_type": "stream",
     "text": [
      "PyAEDT INFO: AEDT installation Path C:\\Program Files\\ANSYS Inc\\v252\\AnsysEM\n"
     ]
    },
    {
     "name": "stdout",
     "output_type": "stream",
     "text": [
      "PyAEDT INFO: Ansoft.ElectronicsDesktop.2025.2 version started with process ID 7688.\n"
     ]
    },
    {
     "name": "stdout",
     "output_type": "stream",
     "text": [
      "PyAEDT INFO: Project m2d_eddy_current has been opened.\n"
     ]
    },
    {
     "name": "stdout",
     "output_type": "stream",
     "text": [
      "PyAEDT INFO: Active Design set to EC_Planar\n"
     ]
    },
    {
     "name": "stdout",
     "output_type": "stream",
     "text": [
      "PyAEDT INFO: Aedt Objects correctly read\n"
     ]
    }
   ],
   "source": [
    "m2d = ansys.aedt.core.Maxwell2d(\n",
    "    project=project_path,\n",
    "    version=AEDT_VERSION,\n",
    "    design=\"EC_Planar\",\n",
    "    non_graphical=NG_MODE,\n",
    ")"
   ]
  },
  {
   "cell_type": "markdown",
   "id": "885dc265",
   "metadata": {},
   "source": [
    "## Assign a matrix\n",
    "\n",
    "Assign a matrix given the list of sources to assign the matrix to and the return path."
   ]
  },
  {
   "cell_type": "code",
   "execution_count": 6,
   "id": "7a816aef",
   "metadata": {
    "execution": {
     "iopub.execute_input": "2025-10-30T06:28:25.521428Z",
     "iopub.status.busy": "2025-10-30T06:28:25.521428Z",
     "iopub.status.idle": "2025-10-30T06:28:26.502423Z",
     "shell.execute_reply": "2025-10-30T06:28:26.502423Z"
    }
   },
   "outputs": [
    {
     "name": "stdout",
     "output_type": "stream",
     "text": [
      "PyAEDT INFO: Modeler2D class has been initialized!\n"
     ]
    },
    {
     "name": "stdout",
     "output_type": "stream",
     "text": [
      "PyAEDT INFO: Modeler class has been initialized! Elapsed time: 0m 1sec\n"
     ]
    },
    {
     "name": "stdout",
     "output_type": "stream",
     "text": [
      "PyAEDT INFO: Infinite is the only return path option in EddyCurrent.\n"
     ]
    },
    {
     "name": "stdout",
     "output_type": "stream",
     "text": [
      "PyAEDT INFO: Boundary Matrix Matrix1 has been created.\n"
     ]
    }
   ],
   "source": [
    "matrix = m2d.assign_matrix(\n",
    "    assignment=[\"pri\", \"sec\", \"terz\"], matrix_name=\"Matrix1\", return_path=\"infinite\"\n",
    ")"
   ]
  },
  {
   "cell_type": "markdown",
   "id": "b21b1c28",
   "metadata": {},
   "source": [
    "## Assign reduced matrices\n",
    "\n",
    "Assign reduced matrices to the parent matrix previously created.\n",
    "For 2D/3D Eddy current solvers, two or more excitations can be joined\n",
    "either in series or parallel connection. The result is known as a reduced matrix."
   ]
  },
  {
   "cell_type": "code",
   "execution_count": 7,
   "id": "e9cf29ff",
   "metadata": {
    "execution": {
     "iopub.execute_input": "2025-10-30T06:28:26.502423Z",
     "iopub.status.busy": "2025-10-30T06:28:26.502423Z",
     "iopub.status.idle": "2025-10-30T06:28:26.535406Z",
     "shell.execute_reply": "2025-10-30T06:28:26.534845Z"
    }
   },
   "outputs": [],
   "source": [
    "series = matrix.join_series(sources=[\"pri\", \"sec\"], matrix_name=\"ReducedMatrix1\")\n",
    "parallel = matrix.join_parallel(sources=[\"sec\", \"terz\"], matrix_name=\"ReducedMatrix2\")"
   ]
  },
  {
   "cell_type": "markdown",
   "id": "16512037",
   "metadata": {},
   "source": [
    "## Analyze setup\n",
    "\n",
    "Run the analysis."
   ]
  },
  {
   "cell_type": "code",
   "execution_count": 8,
   "id": "5ec2d2a3",
   "metadata": {
    "execution": {
     "iopub.execute_input": "2025-10-30T06:28:26.535406Z",
     "iopub.status.busy": "2025-10-30T06:28:26.535406Z",
     "iopub.status.idle": "2025-10-30T06:28:54.594440Z",
     "shell.execute_reply": "2025-10-30T06:28:54.593878Z"
    }
   },
   "outputs": [
    {
     "name": "stdout",
     "output_type": "stream",
     "text": [
      "PyAEDT INFO: Project m2d_eddy_current Saved correctly\n"
     ]
    },
    {
     "name": "stdout",
     "output_type": "stream",
     "text": [
      "PyAEDT INFO: Project m2d_eddy_current Saved correctly\n"
     ]
    },
    {
     "name": "stdout",
     "output_type": "stream",
     "text": [
      "PyAEDT INFO: Key Desktop/ActiveDSOConfigurations/Maxwell 2D correctly changed.\n"
     ]
    },
    {
     "name": "stdout",
     "output_type": "stream",
     "text": [
      "PyAEDT INFO: Solving design setup Setup1\n"
     ]
    },
    {
     "name": "stdout",
     "output_type": "stream",
     "text": [
      "PyAEDT INFO: Design setup Setup1 solved correctly in 0.0h 0.0m 28.0s\n"
     ]
    },
    {
     "name": "stdout",
     "output_type": "stream",
     "text": [
      "PyAEDT INFO: Key Desktop/ActiveDSOConfigurations/Maxwell 2D correctly changed.\n"
     ]
    },
    {
     "data": {
      "text/plain": [
       "True"
      ]
     },
     "execution_count": 8,
     "metadata": {},
     "output_type": "execute_result"
    }
   ],
   "source": [
    "m2d.save_project()\n",
    "m2d.analyze(setup=m2d.setup_names[0], cores=NUM_CORES, use_auto_settings=False)"
   ]
  },
  {
   "cell_type": "markdown",
   "id": "6545f80d",
   "metadata": {},
   "source": [
    "## Get expressions\n",
    "\n",
    "Get the available report quantities given the context\n",
    "and the quantities category ``L``."
   ]
  },
  {
   "cell_type": "code",
   "execution_count": 9,
   "id": "1af54e11",
   "metadata": {
    "execution": {
     "iopub.execute_input": "2025-10-30T06:28:54.598456Z",
     "iopub.status.busy": "2025-10-30T06:28:54.598456Z",
     "iopub.status.idle": "2025-10-30T06:28:54.753127Z",
     "shell.execute_reply": "2025-10-30T06:28:54.753127Z"
    }
   },
   "outputs": [
    {
     "name": "stdout",
     "output_type": "stream",
     "text": [
      "PyAEDT INFO: Parsing C:\\Users\\ansys\\AppData\\Local\\Temp\\tmpmnyeouvj.ansys\\maxwell_ec_reduced_matrix\\m2d_eddy_current.aedt.\n"
     ]
    },
    {
     "name": "stdout",
     "output_type": "stream",
     "text": [
      "PyAEDT INFO: File C:\\Users\\ansys\\AppData\\Local\\Temp\\tmpmnyeouvj.ansys\\maxwell_ec_reduced_matrix\\m2d_eddy_current.aedt correctly loaded. Elapsed time: 0m 0sec\n"
     ]
    },
    {
     "name": "stdout",
     "output_type": "stream",
     "text": [
      "PyAEDT INFO: aedt file load time 0.035648345947265625\n"
     ]
    },
    {
     "name": "stdout",
     "output_type": "stream",
     "text": [
      "PyAEDT INFO: PostProcessor class has been initialized! Elapsed time: 0m 0sec\n"
     ]
    },
    {
     "name": "stdout",
     "output_type": "stream",
     "text": [
      "PyAEDT INFO: PostProcessor class has been initialized! Elapsed time: 0m 0sec\n"
     ]
    },
    {
     "name": "stdout",
     "output_type": "stream",
     "text": [
      "PyAEDT INFO: Post class has been initialized! Elapsed time: 0m 0sec\n"
     ]
    },
    {
     "name": "stdout",
     "output_type": "stream",
     "text": [
      "PyAEDT WARNING: Change the report category to AC Magnetic.\n"
     ]
    }
   ],
   "source": [
    "expressions = m2d.post.available_report_quantities(\n",
    "    report_category=\"EddyCurrent\",\n",
    "    display_type=\"Data Table\",\n",
    "    context={\"Matrix1\": \"ReducedMatrix1\"},\n",
    "    quantities_category=\"L\",\n",
    ")"
   ]
  },
  {
   "cell_type": "markdown",
   "id": "2e802828",
   "metadata": {},
   "source": [
    "## Create report and get solution data\n",
    "\n",
    "Create a data table report and get report data given the matrix context."
   ]
  },
  {
   "cell_type": "code",
   "execution_count": 10,
   "id": "54a3e504",
   "metadata": {
    "execution": {
     "iopub.execute_input": "2025-10-30T06:28:54.753127Z",
     "iopub.status.busy": "2025-10-30T06:28:54.753127Z",
     "iopub.status.idle": "2025-10-30T06:28:55.164417Z",
     "shell.execute_reply": "2025-10-30T06:28:55.164417Z"
    }
   },
   "outputs": [
    {
     "name": "stdout",
     "output_type": "stream",
     "text": [
      "PyAEDT WARNING: No report category provided. Automatically identified AC Magnetic\n"
     ]
    },
    {
     "name": "stdout",
     "output_type": "stream",
     "text": [
      "PyAEDT INFO: Solution Data Correctly Loaded.\n"
     ]
    },
    {
     "name": "stdout",
     "output_type": "stream",
     "text": [
      "Time to initialize solution data:0.0\n",
      "Time to initialize solution data:0.015241384506225586\n"
     ]
    }
   ],
   "source": [
    "report = m2d.post.create_report(\n",
    "    expressions=expressions,\n",
    "    context={\"Matrix1\": \"ReducedMatrix1\"},\n",
    "    plot_type=\"Data Table\",\n",
    "    setup_sweep_name=\"Setup1 : LastAdaptive\",\n",
    "    plot_name=\"reduced_matrix\",\n",
    ")\n",
    "data = m2d.post.get_solution_data(\n",
    "    expressions=expressions,\n",
    "    context={\"Matrix1\": \"ReducedMatrix1\"},\n",
    "    report_category=\"EddyCurrent\",\n",
    "    setup_sweep_name=\"Setup1 : LastAdaptive\",\n",
    ")"
   ]
  },
  {
   "cell_type": "markdown",
   "id": "07516d47",
   "metadata": {},
   "source": [
    "## Get matrix data\n",
    "\n",
    "Get inductance results for the join connections in ``nH``."
   ]
  },
  {
   "cell_type": "code",
   "execution_count": 11,
   "id": "f40f1348",
   "metadata": {
    "execution": {
     "iopub.execute_input": "2025-10-30T06:28:55.164417Z",
     "iopub.status.busy": "2025-10-30T06:28:55.164417Z",
     "iopub.status.idle": "2025-10-30T06:28:55.180539Z",
     "shell.execute_reply": "2025-10-30T06:28:55.180539Z"
    }
   },
   "outputs": [
    {
     "name": "stderr",
     "output_type": "stream",
     "text": [
      "C:\\actions-runner\\_work\\pyaedt-examples\\pyaedt-examples\\.venv\\lib\\site-packages\\ansys\\aedt\\core\\visualization\\post\\solution_data.py:461: UserWarning: Method `data_magnitude` is deprecated. Use :func:`get_expression_data` property instead.\n",
      "  warnings.warn(\"Method `data_magnitude` is deprecated. Use :func:`get_expression_data` property instead.\")\n"
     ]
    }
   ],
   "source": [
    "ind = ansys.aedt.core.generic.constants.unit_converter(\n",
    "    data.data_magnitude()[0],\n",
    "    unit_system=\"Inductance\",\n",
    "    input_units=data.units_data[expressions[0]],\n",
    "    output_units=\"uH\",\n",
    ")"
   ]
  },
  {
   "cell_type": "markdown",
   "id": "3c29267d",
   "metadata": {},
   "source": [
    "## Release AEDT"
   ]
  },
  {
   "cell_type": "code",
   "execution_count": 12,
   "id": "ee24c9d6",
   "metadata": {
    "execution": {
     "iopub.execute_input": "2025-10-30T06:28:55.183049Z",
     "iopub.status.busy": "2025-10-30T06:28:55.183049Z",
     "iopub.status.idle": "2025-10-30T06:29:14.953989Z",
     "shell.execute_reply": "2025-10-30T06:29:14.953989Z"
    }
   },
   "outputs": [
    {
     "name": "stdout",
     "output_type": "stream",
     "text": [
      "PyAEDT INFO: Project m2d_eddy_current Saved correctly\n"
     ]
    },
    {
     "name": "stdout",
     "output_type": "stream",
     "text": [
      "PyAEDT INFO: Desktop has been released and closed.\n"
     ]
    }
   ],
   "source": [
    "m2d.save_project()\n",
    "m2d.release_desktop()\n",
    "# Wait 3 seconds to allow AEDT to shut down before cleaning the temporary directory.\n",
    "time.sleep(3)"
   ]
  },
  {
   "cell_type": "markdown",
   "id": "3bfa3daf",
   "metadata": {},
   "source": [
    "## Clean up\n",
    "\n",
    "All project files are saved in the folder ``temp_folder.name``.\n",
    "If you've run this example as a Jupyter notebook, you\n",
    "can retrieve those project files. The following cell\n",
    "removes all temporary files, including the project folder."
   ]
  },
  {
   "cell_type": "code",
   "execution_count": 13,
   "id": "a0b6dab5",
   "metadata": {
    "execution": {
     "iopub.execute_input": "2025-10-30T06:29:14.958393Z",
     "iopub.status.busy": "2025-10-30T06:29:14.958393Z",
     "iopub.status.idle": "2025-10-30T06:29:14.985573Z",
     "shell.execute_reply": "2025-10-30T06:29:14.985573Z"
    }
   },
   "outputs": [],
   "source": [
    "temp_folder.cleanup()"
   ]
  }
 ],
 "metadata": {
  "jupytext": {
   "cell_metadata_filter": "-all",
   "main_language": "python",
   "notebook_metadata_filter": "-all"
  },
  "language_info": {
   "codemirror_mode": {
    "name": "ipython",
    "version": 3
   },
   "file_extension": ".py",
   "mimetype": "text/x-python",
   "name": "python",
   "nbconvert_exporter": "python",
   "pygments_lexer": "ipython3",
   "version": "3.10.11"
  }
 },
 "nbformat": 4,
 "nbformat_minor": 5
}
