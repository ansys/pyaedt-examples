{
 "cells": [
  {
   "cell_type": "markdown",
   "id": "f543384a",
   "metadata": {},
   "source": [
    "# External delta circuit\n",
    "\n",
    "This example shows how to create an external delta circuit and connect it with a Maxwell 2D design.\n",
    "\n",
    "Keywords: **Maxwell 2D**, **Circuit**, **netlist**"
   ]
  },
  {
   "cell_type": "markdown",
   "id": "c021e046",
   "metadata": {},
   "source": [
    "## Perform imports and define constants"
   ]
  },
  {
   "cell_type": "code",
   "execution_count": 1,
   "id": "a0a02415",
   "metadata": {
    "execution": {
     "iopub.execute_input": "2025-10-30T06:30:54.052998Z",
     "iopub.status.busy": "2025-10-30T06:30:54.052998Z",
     "iopub.status.idle": "2025-10-30T06:30:57.153234Z",
     "shell.execute_reply": "2025-10-30T06:30:57.153234Z"
    }
   },
   "outputs": [],
   "source": [
    "import os\n",
    "import tempfile\n",
    "import time\n",
    "\n",
    "import ansys.aedt.core"
   ]
  },
  {
   "cell_type": "markdown",
   "id": "106e1c8b",
   "metadata": {},
   "source": [
    "Define constants."
   ]
  },
  {
   "cell_type": "code",
   "execution_count": 2,
   "id": "4c5f0939",
   "metadata": {
    "execution": {
     "iopub.execute_input": "2025-10-30T06:30:57.153234Z",
     "iopub.status.busy": "2025-10-30T06:30:57.153234Z",
     "iopub.status.idle": "2025-10-30T06:30:57.169075Z",
     "shell.execute_reply": "2025-10-30T06:30:57.169075Z"
    }
   },
   "outputs": [],
   "source": [
    "AEDT_VERSION = \"2025.2\"\n",
    "NUM_CORES = 4\n",
    "NG_MODE = False  # Open AEDT UI when it is launched."
   ]
  },
  {
   "cell_type": "markdown",
   "id": "c9b3401d",
   "metadata": {},
   "source": [
    "## Create temporary directory\n",
    "\n",
    "Create a temporary directory where downloaded data or\n",
    "dumped data can be stored.\n",
    "If you'd like to retrieve the project data for subsequent use,\n",
    "the temporary folder name is given by ``temp_folder.name``."
   ]
  },
  {
   "cell_type": "code",
   "execution_count": 3,
   "id": "0cc7f44c",
   "metadata": {
    "execution": {
     "iopub.execute_input": "2025-10-30T06:30:57.169075Z",
     "iopub.status.busy": "2025-10-30T06:30:57.169075Z",
     "iopub.status.idle": "2025-10-30T06:30:57.185058Z",
     "shell.execute_reply": "2025-10-30T06:30:57.185058Z"
    }
   },
   "outputs": [],
   "source": [
    "temp_folder = tempfile.TemporaryDirectory(suffix=\".ansys\")"
   ]
  },
  {
   "cell_type": "markdown",
   "id": "f0fbd468",
   "metadata": {},
   "source": [
    "## Launch AEDT and Maxwell 2D\n",
    "\n",
    "Launch AEDT and Maxwell 2D providing the version, path to the project, and the graphical mode."
   ]
  },
  {
   "cell_type": "code",
   "execution_count": 4,
   "id": "ff4944e8",
   "metadata": {
    "execution": {
     "iopub.execute_input": "2025-10-30T06:30:57.185058Z",
     "iopub.status.busy": "2025-10-30T06:30:57.185058Z",
     "iopub.status.idle": "2025-10-30T06:30:57.201003Z",
     "shell.execute_reply": "2025-10-30T06:30:57.201003Z"
    }
   },
   "outputs": [],
   "source": [
    "project_name = os.path.join(temp_folder.name, \"Maxwell_circuit_example.aedt\")\n",
    "design_name = \"1 Maxwell\"\n",
    "circuit_name = \"2 Delta circuit\""
   ]
  },
  {
   "cell_type": "code",
   "execution_count": 5,
   "id": "6278cb3e",
   "metadata": {
    "execution": {
     "iopub.execute_input": "2025-10-30T06:30:57.201003Z",
     "iopub.status.busy": "2025-10-30T06:30:57.201003Z",
     "iopub.status.idle": "2025-10-30T06:31:25.641034Z",
     "shell.execute_reply": "2025-10-30T06:31:25.641034Z"
    }
   },
   "outputs": [
    {
     "name": "stdout",
     "output_type": "stream",
     "text": [
      "PyAEDT INFO: Python version 3.10.11 (tags/v3.10.11:7d4cc5a, Apr  5 2023, 00:38:17) [MSC v.1929 64 bit (AMD64)].\n"
     ]
    },
    {
     "name": "stdout",
     "output_type": "stream",
     "text": [
      "PyAEDT INFO: PyAEDT version 0.22.dev0.\n"
     ]
    },
    {
     "name": "stdout",
     "output_type": "stream",
     "text": [
      "PyAEDT INFO: Initializing new Desktop session.\n"
     ]
    },
    {
     "name": "stdout",
     "output_type": "stream",
     "text": [
      "PyAEDT INFO: Log on console is enabled.\n"
     ]
    },
    {
     "name": "stdout",
     "output_type": "stream",
     "text": [
      "PyAEDT INFO: Log on file C:\\Users\\ansys\\AppData\\Local\\Temp\\pyaedt_ansys_4697db76-7124-44b5-aa0e-ecd39c9eb6b6.log is enabled.\n"
     ]
    },
    {
     "name": "stdout",
     "output_type": "stream",
     "text": [
      "PyAEDT INFO: Log on AEDT is disabled.\n"
     ]
    },
    {
     "name": "stdout",
     "output_type": "stream",
     "text": [
      "PyAEDT INFO: Debug logger is disabled. PyAEDT methods will not be logged.\n"
     ]
    },
    {
     "name": "stdout",
     "output_type": "stream",
     "text": [
      "PyAEDT INFO: Launching PyAEDT with gRPC plugin.\n"
     ]
    },
    {
     "name": "stdout",
     "output_type": "stream",
     "text": [
      "PyAEDT INFO: New AEDT session is starting on gRPC port 64365.\n"
     ]
    },
    {
     "name": "stdout",
     "output_type": "stream",
     "text": [
      "PyAEDT INFO: Electronics Desktop started on gRPC port: 64365 after 10.595104455947876 seconds.\n"
     ]
    },
    {
     "name": "stdout",
     "output_type": "stream",
     "text": [
      "PyAEDT INFO: AEDT installation Path C:\\Program Files\\ANSYS Inc\\v252\\AnsysEM\n"
     ]
    },
    {
     "name": "stdout",
     "output_type": "stream",
     "text": [
      "PyAEDT INFO: Ansoft.ElectronicsDesktop.2025.2 version started with process ID 7944.\n"
     ]
    },
    {
     "name": "stdout",
     "output_type": "stream",
     "text": [
      "PyAEDT INFO: Project Maxwell_circuit_example has been created.\n"
     ]
    },
    {
     "name": "stdout",
     "output_type": "stream",
     "text": [
      "PyAEDT INFO: Added design '1 Maxwell' of type Maxwell 2D.\n"
     ]
    },
    {
     "name": "stdout",
     "output_type": "stream",
     "text": [
      "PyAEDT INFO: Aedt Objects correctly read\n"
     ]
    }
   ],
   "source": [
    "m2d = ansys.aedt.core.Maxwell2d(\n",
    "    version=AEDT_VERSION,\n",
    "    new_desktop=False,\n",
    "    design=design_name,\n",
    "    project=project_name,\n",
    "    solution_type=\"TransientXY\",\n",
    "    non_graphical=NG_MODE,\n",
    ")"
   ]
  },
  {
   "cell_type": "markdown",
   "id": "8c932cf9",
   "metadata": {},
   "source": [
    "## Initialize dictionaries and define variables\n",
    "\n",
    "Initialize dictionaries that contain all design variable definitions."
   ]
  },
  {
   "cell_type": "code",
   "execution_count": 6,
   "id": "a375dd46",
   "metadata": {
    "execution": {
     "iopub.execute_input": "2025-10-30T06:31:25.641034Z",
     "iopub.status.busy": "2025-10-30T06:31:25.641034Z",
     "iopub.status.idle": "2025-10-30T06:31:25.656996Z",
     "shell.execute_reply": "2025-10-30T06:31:25.656996Z"
    }
   },
   "outputs": [],
   "source": [
    "voltage = \"230V\"\n",
    "frequency = \"50Hz\""
   ]
  },
  {
   "cell_type": "code",
   "execution_count": 7,
   "id": "3140196b",
   "metadata": {
    "execution": {
     "iopub.execute_input": "2025-10-30T06:31:25.656996Z",
     "iopub.status.busy": "2025-10-30T06:31:25.656996Z",
     "iopub.status.idle": "2025-10-30T06:31:25.672669Z",
     "shell.execute_reply": "2025-10-30T06:31:25.672669Z"
    }
   },
   "outputs": [],
   "source": [
    "transient_parameters = {\n",
    "    \"voltage\": voltage,\n",
    "    \"frequency\": frequency,\n",
    "    \"electric_period\": \"1 / frequency s\",\n",
    "    \"stop_time\": \"2 * electric_period s\",\n",
    "    \"time_step\": \"electric_period / 20 s\",\n",
    "}"
   ]
  },
  {
   "cell_type": "code",
   "execution_count": 8,
   "id": "711b8c5e",
   "metadata": {
    "execution": {
     "iopub.execute_input": "2025-10-30T06:31:25.672669Z",
     "iopub.status.busy": "2025-10-30T06:31:25.672669Z",
     "iopub.status.idle": "2025-10-30T06:31:25.688646Z",
     "shell.execute_reply": "2025-10-30T06:31:25.688646Z"
    }
   },
   "outputs": [],
   "source": [
    "circuit_parameters = {\n",
    "    \"voltage\": voltage,\n",
    "    \"frequency\": frequency,\n",
    "    \"resistance_value\": \"1Ohm\",\n",
    "}"
   ]
  },
  {
   "cell_type": "code",
   "execution_count": 9,
   "id": "3e618aec",
   "metadata": {
    "execution": {
     "iopub.execute_input": "2025-10-30T06:31:25.688646Z",
     "iopub.status.busy": "2025-10-30T06:31:25.688646Z",
     "iopub.status.idle": "2025-10-30T06:31:25.752496Z",
     "shell.execute_reply": "2025-10-30T06:31:25.752496Z"
    }
   },
   "outputs": [],
   "source": [
    "for k, v in transient_parameters.items():\n",
    "    m2d[k] = v"
   ]
  },
  {
   "cell_type": "markdown",
   "id": "18a1f4da",
   "metadata": {},
   "source": [
    "## Create geometry\n",
    "\n",
    "Create copper coils and a vacuum region. Assign mesh operations, and then assign a balloon boundary to the region edges."
   ]
  },
  {
   "cell_type": "code",
   "execution_count": 10,
   "id": "007dcb1e",
   "metadata": {
    "execution": {
     "iopub.execute_input": "2025-10-30T06:31:25.752496Z",
     "iopub.status.busy": "2025-10-30T06:31:25.752496Z",
     "iopub.status.idle": "2025-10-30T06:31:39.553928Z",
     "shell.execute_reply": "2025-10-30T06:31:39.553928Z"
    }
   },
   "outputs": [
    {
     "name": "stdout",
     "output_type": "stream",
     "text": [
      "PyAEDT INFO: Modeler2D class has been initialized!\n"
     ]
    },
    {
     "name": "stdout",
     "output_type": "stream",
     "text": [
      "PyAEDT INFO: Modeler class has been initialized! Elapsed time: 0m 1sec\n"
     ]
    },
    {
     "name": "stdout",
     "output_type": "stream",
     "text": [
      "PyAEDT INFO: Materials class has been initialized! Elapsed time: 0m 0sec\n"
     ]
    }
   ],
   "source": [
    "coil1_id = m2d.modeler.create_circle(\n",
    "    orientation=\"Z\", origin=[0, 0, 0], radius=10, name=\"coil1\", material=\"copper\"\n",
    ")\n",
    "coil2_id = m2d.modeler.create_circle(\n",
    "    orientation=\"Z\", origin=[25, 0, 0], radius=10, name=\"coil2\", material=\"copper\"\n",
    ")\n",
    "coil3_id = m2d.modeler.create_circle(\n",
    "    orientation=\"Z\", origin=[50, 0, 0], radius=10, name=\"coil3\", material=\"copper\"\n",
    ")"
   ]
  },
  {
   "cell_type": "code",
   "execution_count": 11,
   "id": "e5a41764",
   "metadata": {
    "execution": {
     "iopub.execute_input": "2025-10-30T06:31:39.553928Z",
     "iopub.status.busy": "2025-10-30T06:31:39.553928Z",
     "iopub.status.idle": "2025-10-30T06:31:39.839093Z",
     "shell.execute_reply": "2025-10-30T06:31:39.839093Z"
    }
   },
   "outputs": [],
   "source": [
    "region = m2d.modeler.create_region(pad_value=[200, 400, 200, 400])"
   ]
  },
  {
   "cell_type": "code",
   "execution_count": 12,
   "id": "2cacee6b",
   "metadata": {
    "execution": {
     "iopub.execute_input": "2025-10-30T06:31:39.839093Z",
     "iopub.status.busy": "2025-10-30T06:31:39.839093Z",
     "iopub.status.idle": "2025-10-30T06:31:39.887184Z",
     "shell.execute_reply": "2025-10-30T06:31:39.887184Z"
    }
   },
   "outputs": [
    {
     "name": "stdout",
     "output_type": "stream",
     "text": [
      "PyAEDT INFO: Mesh class has been initialized! Elapsed time: 0m 0sec\n"
     ]
    },
    {
     "name": "stdout",
     "output_type": "stream",
     "text": [
      "PyAEDT INFO: Mesh class has been initialized! Elapsed time: 0m 0sec\n"
     ]
    },
    {
     "data": {
      "text/plain": [
       "<ansys.aedt.core.modules.mesh.MeshOperation at 0x21e377ef7f0>"
      ]
     },
     "execution_count": 12,
     "metadata": {},
     "output_type": "execute_result"
    }
   ],
   "source": [
    "m2d.mesh.assign_length_mesh(\n",
    "    assignment=[coil1_id, coil2_id, coil3_id, region], maximum_length=5\n",
    ")"
   ]
  },
  {
   "cell_type": "code",
   "execution_count": 13,
   "id": "a4b391e0",
   "metadata": {
    "execution": {
     "iopub.execute_input": "2025-10-30T06:31:39.887184Z",
     "iopub.status.busy": "2025-10-30T06:31:39.887184Z",
     "iopub.status.idle": "2025-10-30T06:31:39.934536Z",
     "shell.execute_reply": "2025-10-30T06:31:39.934536Z"
    }
   },
   "outputs": [
    {
     "name": "stdout",
     "output_type": "stream",
     "text": [
      "PyAEDT INFO: Boundary Vector Potential Vector_TAAWX0 has been created.\n"
     ]
    },
    {
     "data": {
      "text/plain": [
       "<ansys.aedt.core.modules.boundary.common.BoundaryObject at 0x21e377ee5c0>"
      ]
     },
     "execution_count": 13,
     "metadata": {},
     "output_type": "execute_result"
    }
   ],
   "source": [
    "m2d.assign_vector_potential(assignment=region.edges, vector_value=0)"
   ]
  },
  {
   "cell_type": "markdown",
   "id": "386093b5",
   "metadata": {},
   "source": [
    "## Assign excitations\n",
    "\n",
    "Assign external windings"
   ]
  },
  {
   "cell_type": "code",
   "execution_count": 14,
   "id": "50ef5d29",
   "metadata": {
    "execution": {
     "iopub.execute_input": "2025-10-30T06:31:39.934536Z",
     "iopub.status.busy": "2025-10-30T06:31:39.934536Z",
     "iopub.status.idle": "2025-10-30T06:31:40.172936Z",
     "shell.execute_reply": "2025-10-30T06:31:40.172936Z"
    }
   },
   "outputs": [
    {
     "name": "stdout",
     "output_type": "stream",
     "text": [
      "PyAEDT INFO: Boundary Winding winding1 has been created.\n"
     ]
    },
    {
     "name": "stdout",
     "output_type": "stream",
     "text": [
      "PyAEDT INFO: Boundary Coil Coil_OMYCWI has been created.\n"
     ]
    },
    {
     "name": "stdout",
     "output_type": "stream",
     "text": [
      "PyAEDT INFO: Boundary Winding winding2 has been created.\n"
     ]
    },
    {
     "name": "stdout",
     "output_type": "stream",
     "text": [
      "PyAEDT INFO: Boundary Coil Coil_SPTYUW has been created.\n"
     ]
    },
    {
     "name": "stdout",
     "output_type": "stream",
     "text": [
      "PyAEDT INFO: Boundary Winding winding3 has been created.\n"
     ]
    },
    {
     "name": "stdout",
     "output_type": "stream",
     "text": [
      "PyAEDT INFO: Boundary Coil Coil_6476HZ has been created.\n"
     ]
    }
   ],
   "source": [
    "wdg1 = m2d.assign_winding(\n",
    "    assignment=[\"coil1\"],\n",
    "    is_solid=False,\n",
    "    winding_type=\"External\",\n",
    "    name=\"winding1\",\n",
    "    current=0,\n",
    ")\n",
    "wdg2 = m2d.assign_winding(\n",
    "    assignment=[\"coil2\"],\n",
    "    is_solid=False,\n",
    "    winding_type=\"External\",\n",
    "    name=\"winding2\",\n",
    "    current=0,\n",
    ")\n",
    "wdg3 = m2d.assign_winding(\n",
    "    assignment=[\"coil3\"],\n",
    "    is_solid=False,\n",
    "    winding_type=\"External\",\n",
    "    name=\"winding3\",\n",
    "    current=0,\n",
    ")"
   ]
  },
  {
   "cell_type": "markdown",
   "id": "496e7cf7",
   "metadata": {},
   "source": [
    "## Create simulation setup\n",
    "\n",
    "Create the simulation setup, defining the stop time and time step."
   ]
  },
  {
   "cell_type": "code",
   "execution_count": 15,
   "id": "930d7f42",
   "metadata": {
    "execution": {
     "iopub.execute_input": "2025-10-30T06:31:40.172936Z",
     "iopub.status.busy": "2025-10-30T06:31:40.172936Z",
     "iopub.status.idle": "2025-10-30T06:31:40.236217Z",
     "shell.execute_reply": "2025-10-30T06:31:40.236217Z"
    }
   },
   "outputs": [],
   "source": [
    "setup = m2d.create_setup()\n",
    "setup[\"StopTime\"] = \"stop_time\"\n",
    "setup[\"TimeStep\"] = \"time_step\""
   ]
  },
  {
   "cell_type": "markdown",
   "id": "cf709915",
   "metadata": {},
   "source": [
    "## Create external circuit\n",
    "\n",
    "Create the circuit design, including all windings of type ``External`` in the Maxwell design."
   ]
  },
  {
   "cell_type": "code",
   "execution_count": 16,
   "id": "7cd2fed3",
   "metadata": {
    "execution": {
     "iopub.execute_input": "2025-10-30T06:31:40.236217Z",
     "iopub.status.busy": "2025-10-30T06:31:40.236217Z",
     "iopub.status.idle": "2025-10-30T06:31:41.372494Z",
     "shell.execute_reply": "2025-10-30T06:31:41.372494Z"
    }
   },
   "outputs": [
    {
     "name": "stdout",
     "output_type": "stream",
     "text": [
      "PyAEDT INFO: Python version 3.10.11 (tags/v3.10.11:7d4cc5a, Apr  5 2023, 00:38:17) [MSC v.1929 64 bit (AMD64)].\n"
     ]
    },
    {
     "name": "stdout",
     "output_type": "stream",
     "text": [
      "PyAEDT INFO: PyAEDT version 0.22.dev0.\n"
     ]
    },
    {
     "name": "stdout",
     "output_type": "stream",
     "text": [
      "PyAEDT INFO: Returning found Desktop session with PID 7944!\n"
     ]
    },
    {
     "name": "stdout",
     "output_type": "stream",
     "text": [
      "PyAEDT INFO: No project is defined. Project Maxwell_circuit_example exists and has been read.\n"
     ]
    },
    {
     "name": "stdout",
     "output_type": "stream",
     "text": [
      "PyAEDT INFO: Added design '2 Delta circuit' of type Maxwell Circuit.\n"
     ]
    },
    {
     "name": "stdout",
     "output_type": "stream",
     "text": [
      "PyAEDT INFO: Aedt Objects correctly read\n"
     ]
    },
    {
     "name": "stdout",
     "output_type": "stream",
     "text": [
      "PyAEDT INFO: ModelerCircuit class has been initialized! Elapsed time: 0m 0sec\n"
     ]
    },
    {
     "name": "stdout",
     "output_type": "stream",
     "text": [
      "PyAEDT INFO: ModelerMaxwellCircuit class has been initialized!\n"
     ]
    }
   ],
   "source": [
    "circuit = m2d.create_external_circuit(circuit_design=circuit_name)"
   ]
  },
  {
   "cell_type": "markdown",
   "id": "0f81c4b3",
   "metadata": {},
   "source": [
    "## Define variables from dictionaries\n",
    "\n",
    "Define design variables from the created dictionaries."
   ]
  },
  {
   "cell_type": "code",
   "execution_count": 17,
   "id": "3d2109d1",
   "metadata": {
    "execution": {
     "iopub.execute_input": "2025-10-30T06:31:41.372494Z",
     "iopub.status.busy": "2025-10-30T06:31:41.372494Z",
     "iopub.status.idle": "2025-10-30T06:31:41.419927Z",
     "shell.execute_reply": "2025-10-30T06:31:41.419927Z"
    }
   },
   "outputs": [],
   "source": [
    "for k, v in circuit_parameters.items():\n",
    "    circuit[k] = v"
   ]
  },
  {
   "cell_type": "code",
   "execution_count": 18,
   "id": "29f074f4",
   "metadata": {
    "execution": {
     "iopub.execute_input": "2025-10-30T06:31:41.419927Z",
     "iopub.status.busy": "2025-10-30T06:31:41.419927Z",
     "iopub.status.idle": "2025-10-30T06:31:41.468978Z",
     "shell.execute_reply": "2025-10-30T06:31:41.467822Z"
    }
   },
   "outputs": [],
   "source": [
    "windings = [\n",
    "    circuit.modeler.schematic.components[k]\n",
    "    for k in list(circuit.modeler.schematic.components.keys())\n",
    "    if circuit.modeler.schematic.components[k].parameters[\"Info\"] == \"Winding\"\n",
    "]"
   ]
  },
  {
   "cell_type": "markdown",
   "id": "0c6a6071",
   "metadata": {},
   "source": [
    "## Finalize external circuit\n",
    "\n",
    "Draw these other components: resistors, voltage sources, and grounds"
   ]
  },
  {
   "cell_type": "code",
   "execution_count": 19,
   "id": "4a725b13",
   "metadata": {
    "execution": {
     "iopub.execute_input": "2025-10-30T06:31:41.468978Z",
     "iopub.status.busy": "2025-10-30T06:31:41.468978Z",
     "iopub.status.idle": "2025-10-30T06:31:41.483611Z",
     "shell.execute_reply": "2025-10-30T06:31:41.483611Z"
    }
   },
   "outputs": [],
   "source": [
    "circuit.modeler.schematic_units = \"mil\""
   ]
  },
  {
   "cell_type": "code",
   "execution_count": 20,
   "id": "920bdd0a",
   "metadata": {
    "execution": {
     "iopub.execute_input": "2025-10-30T06:31:41.483611Z",
     "iopub.status.busy": "2025-10-30T06:31:41.483611Z",
     "iopub.status.idle": "2025-10-30T06:31:41.499608Z",
     "shell.execute_reply": "2025-10-30T06:31:41.499608Z"
    }
   },
   "outputs": [],
   "source": [
    "resistors = []\n",
    "v_sources = []\n",
    "ground = []"
   ]
  },
  {
   "cell_type": "code",
   "execution_count": 21,
   "id": "8a588722",
   "metadata": {
    "execution": {
     "iopub.execute_input": "2025-10-30T06:31:41.499608Z",
     "iopub.status.busy": "2025-10-30T06:31:41.499608Z",
     "iopub.status.idle": "2025-10-30T06:31:41.848053Z",
     "shell.execute_reply": "2025-10-30T06:31:41.848053Z"
    }
   },
   "outputs": [],
   "source": [
    "for i in range(len(windings)):\n",
    "    r = circuit.modeler.schematic.create_resistor(\n",
    "        name=\"R\" + str(i + 1), value=\"resistance_value\", location=[1000, i * 1000]\n",
    "    )\n",
    "    resistors.append(r)\n",
    "\n",
    "    v = circuit.modeler.schematic.create_component(\n",
    "        component_library=\"Sources\",\n",
    "        component_name=\"VSin\",\n",
    "        location=[2000, i * 1000],\n",
    "        angle=90,\n",
    "    )\n",
    "    v_sources.append(v)\n",
    "\n",
    "    v.parameters[\"Va\"] = \"voltage\"\n",
    "    v.parameters[\"VFreq\"] = \"frequency\"\n",
    "    v.parameters[\"Phase\"] = str(i * 120) + \"deg\"\n",
    "\n",
    "    g = circuit.modeler.schematic.create_gnd([2300, i * 1000], angle=90)\n",
    "    ground.append(g)"
   ]
  },
  {
   "cell_type": "markdown",
   "id": "f1a04de6",
   "metadata": {},
   "source": [
    "## Connect components\n",
    "\n",
    "Connect the components by drawing wires."
   ]
  },
  {
   "cell_type": "code",
   "execution_count": 22,
   "id": "16ce2983",
   "metadata": {
    "execution": {
     "iopub.execute_input": "2025-10-30T06:31:41.848053Z",
     "iopub.status.busy": "2025-10-30T06:31:41.848053Z",
     "iopub.status.idle": "2025-10-30T06:31:41.974436Z",
     "shell.execute_reply": "2025-10-30T06:31:41.974436Z"
    }
   },
   "outputs": [
    {
     "data": {
      "text/plain": [
       "True"
      ]
     },
     "execution_count": 22,
     "metadata": {},
     "output_type": "execute_result"
    }
   ],
   "source": [
    "windings[2].pins[1].connect_to_component(resistors[2].pins[0], use_wire=True)\n",
    "windings[1].pins[1].connect_to_component(resistors[1].pins[0], use_wire=True)\n",
    "windings[0].pins[1].connect_to_component(resistors[0].pins[0], use_wire=True)"
   ]
  },
  {
   "cell_type": "code",
   "execution_count": 23,
   "id": "015aebb5",
   "metadata": {
    "execution": {
     "iopub.execute_input": "2025-10-30T06:31:41.974436Z",
     "iopub.status.busy": "2025-10-30T06:31:41.974436Z",
     "iopub.status.idle": "2025-10-30T06:31:42.084804Z",
     "shell.execute_reply": "2025-10-30T06:31:42.084804Z"
    }
   },
   "outputs": [
    {
     "data": {
      "text/plain": [
       "True"
      ]
     },
     "execution_count": 23,
     "metadata": {},
     "output_type": "execute_result"
    }
   ],
   "source": [
    "resistors[2].pins[1].connect_to_component(v_sources[2].pins[1], use_wire=True)\n",
    "resistors[1].pins[1].connect_to_component(v_sources[1].pins[1], use_wire=True)\n",
    "resistors[0].pins[1].connect_to_component(v_sources[0].pins[1], use_wire=True)"
   ]
  },
  {
   "cell_type": "code",
   "execution_count": 24,
   "id": "29f38837",
   "metadata": {
    "execution": {
     "iopub.execute_input": "2025-10-30T06:31:42.084804Z",
     "iopub.status.busy": "2025-10-30T06:31:42.084804Z",
     "iopub.status.idle": "2025-10-30T06:31:42.132411Z",
     "shell.execute_reply": "2025-10-30T06:31:42.132411Z"
    }
   },
   "outputs": [
    {
     "data": {
      "text/plain": [
       "<ansys.aedt.core.modeler.circuits.object_3d_circuit.Wire at 0x21e377ee230>"
      ]
     },
     "execution_count": 24,
     "metadata": {},
     "output_type": "execute_result"
    }
   ],
   "source": [
    "circuit.modeler.schematic.create_wire(\n",
    "    points=[\n",
    "        resistors[2].pins[1].location,\n",
    "        [1200, 2500],\n",
    "        [-600, 2500],\n",
    "        [-600, 0],\n",
    "        windings[0].pins[0].location,\n",
    "    ]\n",
    ")\n",
    "circuit.modeler.schematic.create_wire(\n",
    "    points=[\n",
    "        resistors[1].pins[1].location,\n",
    "        [1200, 1500],\n",
    "        [-300, 1500],\n",
    "        [-300, 2000],\n",
    "        windings[2].pins[0].location,\n",
    "    ]\n",
    ")\n",
    "circuit.modeler.schematic.create_wire(\n",
    "    points=[\n",
    "        resistors[0].pins[1].location,\n",
    "        [1200, 500],\n",
    "        [-300, 500],\n",
    "        [-300, 1000],\n",
    "        windings[1].pins[0].location,\n",
    "    ]\n",
    ")"
   ]
  },
  {
   "cell_type": "markdown",
   "id": "08b38cfa",
   "metadata": {},
   "source": [
    "## Export and import netlist\n",
    "\n",
    "Export the netlist file and then import it to Maxwell 2D."
   ]
  },
  {
   "cell_type": "code",
   "execution_count": 25,
   "id": "cd8c5ebc",
   "metadata": {
    "execution": {
     "iopub.execute_input": "2025-10-30T06:31:42.132411Z",
     "iopub.status.busy": "2025-10-30T06:31:42.132411Z",
     "iopub.status.idle": "2025-10-30T06:31:42.148242Z",
     "shell.execute_reply": "2025-10-30T06:31:42.148242Z"
    }
   },
   "outputs": [
    {
     "data": {
      "text/plain": [
       "'C:\\\\Users\\\\ansys\\\\AppData\\\\Local\\\\Temp\\\\tmp7xatzlnr.ansys\\\\_netlist.sph'"
      ]
     },
     "execution_count": 25,
     "metadata": {},
     "output_type": "execute_result"
    }
   ],
   "source": [
    "netlist_file = os.path.join(temp_folder.name, \"_netlist.sph\")\n",
    "circuit.export_netlist_from_schematic(netlist_file)"
   ]
  },
  {
   "cell_type": "code",
   "execution_count": 26,
   "id": "19dd43dd",
   "metadata": {
    "execution": {
     "iopub.execute_input": "2025-10-30T06:31:42.148242Z",
     "iopub.status.busy": "2025-10-30T06:31:42.148242Z",
     "iopub.status.idle": "2025-10-30T06:31:42.306907Z",
     "shell.execute_reply": "2025-10-30T06:31:42.306907Z"
    }
   },
   "outputs": [
    {
     "name": "stdout",
     "output_type": "stream",
     "text": [
      "PyAEDT INFO: Active Design set to 1;2 Delta circuit\n"
     ]
    },
    {
     "data": {
      "text/plain": [
       "True"
      ]
     },
     "execution_count": 26,
     "metadata": {},
     "output_type": "execute_result"
    }
   ],
   "source": [
    "m2d.edit_external_circuit(\n",
    "    netlist_file_path=netlist_file, schematic_design_name=circuit_name\n",
    ")"
   ]
  },
  {
   "cell_type": "markdown",
   "id": "a0d5c7d5",
   "metadata": {},
   "source": [
    "## Analyze setup\n"
   ]
  },
  {
   "cell_type": "code",
   "execution_count": 27,
   "id": "305c2a99",
   "metadata": {
    "execution": {
     "iopub.execute_input": "2025-10-30T06:31:42.306907Z",
     "iopub.status.busy": "2025-10-30T06:31:42.306907Z",
     "iopub.status.idle": "2025-10-30T06:32:12.657029Z",
     "shell.execute_reply": "2025-10-30T06:32:12.657029Z"
    }
   },
   "outputs": [
    {
     "name": "stdout",
     "output_type": "stream",
     "text": [
      "PyAEDT INFO: Project Maxwell_circuit_example Saved correctly\n"
     ]
    },
    {
     "name": "stdout",
     "output_type": "stream",
     "text": [
      "PyAEDT INFO: Key Desktop/ActiveDSOConfigurations/Maxwell 2D correctly changed.\n"
     ]
    },
    {
     "name": "stdout",
     "output_type": "stream",
     "text": [
      "PyAEDT INFO: Solving design setup MySetupAuto\n"
     ]
    },
    {
     "name": "stdout",
     "output_type": "stream",
     "text": [
      "PyAEDT INFO: Design setup MySetupAuto solved correctly in 0.0h 0.0m 30.0s\n"
     ]
    },
    {
     "name": "stdout",
     "output_type": "stream",
     "text": [
      "PyAEDT INFO: Key Desktop/ActiveDSOConfigurations/Maxwell 2D correctly changed.\n"
     ]
    }
   ],
   "source": [
    "setup.analyze(cores=NUM_CORES)"
   ]
  },
  {
   "cell_type": "markdown",
   "id": "1d417238",
   "metadata": {},
   "source": [
    "## Create rectangular plot\n",
    "\n",
    "Plot winding currents"
   ]
  },
  {
   "cell_type": "code",
   "execution_count": 28,
   "id": "00c7ab1e",
   "metadata": {
    "execution": {
     "iopub.execute_input": "2025-10-30T06:32:12.660972Z",
     "iopub.status.busy": "2025-10-30T06:32:12.660972Z",
     "iopub.status.idle": "2025-10-30T06:32:13.147786Z",
     "shell.execute_reply": "2025-10-30T06:32:13.147786Z"
    }
   },
   "outputs": [
    {
     "name": "stdout",
     "output_type": "stream",
     "text": [
      "PyAEDT INFO: Parsing C:\\Users\\ansys\\AppData\\Local\\Temp\\tmp7xatzlnr.ansys\\Maxwell_circuit_example.aedt.\n"
     ]
    },
    {
     "name": "stdout",
     "output_type": "stream",
     "text": [
      "PyAEDT INFO: File C:\\Users\\ansys\\AppData\\Local\\Temp\\tmp7xatzlnr.ansys\\Maxwell_circuit_example.aedt correctly loaded. Elapsed time: 0m 0sec\n"
     ]
    },
    {
     "name": "stdout",
     "output_type": "stream",
     "text": [
      "PyAEDT INFO: aedt file load time 0.026902198791503906\n"
     ]
    },
    {
     "name": "stdout",
     "output_type": "stream",
     "text": [
      "PyAEDT INFO: PostProcessor class has been initialized! Elapsed time: 0m 0sec\n"
     ]
    },
    {
     "name": "stdout",
     "output_type": "stream",
     "text": [
      "PyAEDT INFO: PostProcessor class has been initialized! Elapsed time: 0m 0sec\n"
     ]
    },
    {
     "name": "stdout",
     "output_type": "stream",
     "text": [
      "PyAEDT INFO: Post class has been initialized! Elapsed time: 0m 0sec\n"
     ]
    },
    {
     "name": "stdout",
     "output_type": "stream",
     "text": [
      "PyAEDT WARNING: No report category provided. Automatically identified Transient\n"
     ]
    },
    {
     "data": {
      "text/plain": [
       "<ansys.aedt.core.visualization.report.standard.Standard at 0x21e3cf35690>"
      ]
     },
     "execution_count": 28,
     "metadata": {},
     "output_type": "execute_result"
    }
   ],
   "source": [
    "m2d.post.create_report(\n",
    "    expressions=[\"Current(winding1)\", \"Current(winding2)\", \"Current(winding3)\"],\n",
    "    domain=\"Sweep\",\n",
    "    primary_sweep_variable=\"Time\",\n",
    "    plot_name=\"Winding Currents\",\n",
    ")"
   ]
  },
  {
   "cell_type": "markdown",
   "id": "05ba6da2",
   "metadata": {},
   "source": [
    "## Release AEDT"
   ]
  },
  {
   "cell_type": "code",
   "execution_count": 29,
   "id": "0439b775",
   "metadata": {
    "execution": {
     "iopub.execute_input": "2025-10-30T06:32:13.147786Z",
     "iopub.status.busy": "2025-10-30T06:32:13.147786Z",
     "iopub.status.idle": "2025-10-30T06:32:35.133208Z",
     "shell.execute_reply": "2025-10-30T06:32:35.133208Z"
    }
   },
   "outputs": [
    {
     "name": "stdout",
     "output_type": "stream",
     "text": [
      "PyAEDT INFO: Project Maxwell_circuit_example Saved correctly\n"
     ]
    },
    {
     "name": "stdout",
     "output_type": "stream",
     "text": [
      "PyAEDT INFO: Desktop has been released and closed.\n"
     ]
    }
   ],
   "source": [
    "m2d.save_project()\n",
    "m2d.release_desktop()\n",
    "# Wait 3 seconds to allow AEDT to shut down before cleaning the temporary directory.\n",
    "time.sleep(3)"
   ]
  },
  {
   "cell_type": "markdown",
   "id": "a490feb2",
   "metadata": {},
   "source": [
    "## Clean up\n",
    "\n",
    "All project files are saved in the folder ``temp_dir.name``.\n",
    "If you've run this example as a Jupyter notebook, you\n",
    "can retrieve those project files. The following cell\n",
    "removes all temporary files, including the project folder."
   ]
  },
  {
   "cell_type": "code",
   "execution_count": 30,
   "id": "fd939e3c",
   "metadata": {
    "execution": {
     "iopub.execute_input": "2025-10-30T06:32:35.133208Z",
     "iopub.status.busy": "2025-10-30T06:32:35.133208Z",
     "iopub.status.idle": "2025-10-30T06:32:35.180775Z",
     "shell.execute_reply": "2025-10-30T06:32:35.180775Z"
    }
   },
   "outputs": [],
   "source": [
    "temp_folder.cleanup()"
   ]
  }
 ],
 "metadata": {
  "jupytext": {
   "cell_metadata_filter": "-all",
   "main_language": "python",
   "notebook_metadata_filter": "-all"
  },
  "language_info": {
   "codemirror_mode": {
    "name": "ipython",
    "version": 3
   },
   "file_extension": ".py",
   "mimetype": "text/x-python",
   "name": "python",
   "nbconvert_exporter": "python",
   "pygments_lexer": "ipython3",
   "version": "3.10.11"
  }
 },
 "nbformat": 4,
 "nbformat_minor": 5
}
