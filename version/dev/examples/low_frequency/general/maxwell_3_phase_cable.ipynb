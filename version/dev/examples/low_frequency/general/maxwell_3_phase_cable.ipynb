{
 "cells": [
  {
   "cell_type": "markdown",
   "id": "249311ed",
   "metadata": {},
   "source": [
    "# 3-Phase Cable with Neutral\n",
    "\n",
    "This example uses PyAEDT to create a 3-phase cable with neutral\n",
    "and solve it using Maxwell 2D AC Magnetic (Eddy Current) solver.\n",
    "\n",
    "Keywords: **Maxwell 2D**, **cable**, **3-phase**, **field calculator**, **field plot**"
   ]
  },
  {
   "cell_type": "markdown",
   "id": "88a1aeab",
   "metadata": {},
   "source": [
    "## Prerequisites\n",
    "\n",
    "### Perform imports"
   ]
  },
  {
   "cell_type": "code",
   "execution_count": 1,
   "id": "b9ae2c0a",
   "metadata": {
    "execution": {
     "iopub.execute_input": "2025-10-30T06:34:36.273606Z",
     "iopub.status.busy": "2025-10-30T06:34:36.273606Z",
     "iopub.status.idle": "2025-10-30T06:34:39.408064Z",
     "shell.execute_reply": "2025-10-30T06:34:39.408064Z"
    }
   },
   "outputs": [],
   "source": [
    "import os\n",
    "import tempfile\n",
    "import time\n",
    "\n",
    "import ansys.aedt.core  # Interface to Ansys Electronics Desktop\n"
   ]
  },
  {
   "cell_type": "markdown",
   "id": "478806dc",
   "metadata": {},
   "source": [
    "### Define constants"
   ]
  },
  {
   "cell_type": "code",
   "execution_count": 2,
   "id": "7de58577",
   "metadata": {
    "execution": {
     "iopub.execute_input": "2025-10-30T06:34:39.412080Z",
     "iopub.status.busy": "2025-10-30T06:34:39.412080Z",
     "iopub.status.idle": "2025-10-30T06:34:39.423855Z",
     "shell.execute_reply": "2025-10-30T06:34:39.423855Z"
    }
   },
   "outputs": [],
   "source": [
    "AEDT_VERSION = \"2025.2\"\n",
    "NUM_CORES = 4\n",
    "NG_MODE = False  # Open AEDT UI when it is launched."
   ]
  },
  {
   "cell_type": "markdown",
   "id": "d607145a",
   "metadata": {},
   "source": [
    "### Create temporary directory\n",
    "\n",
    "Create a temporary directory where downloaded data or\n",
    "dumped data can be stored.\n",
    "If you'd like to retrieve the project data for subsequent use,\n",
    "the temporary folder name is given by ``temp_folder.name``."
   ]
  },
  {
   "cell_type": "code",
   "execution_count": 3,
   "id": "e834d3d2",
   "metadata": {
    "execution": {
     "iopub.execute_input": "2025-10-30T06:34:39.427870Z",
     "iopub.status.busy": "2025-10-30T06:34:39.427870Z",
     "iopub.status.idle": "2025-10-30T06:34:39.439647Z",
     "shell.execute_reply": "2025-10-30T06:34:39.439647Z"
    }
   },
   "outputs": [],
   "source": [
    "temp_folder = tempfile.TemporaryDirectory(suffix=\".ansys\")"
   ]
  },
  {
   "cell_type": "markdown",
   "id": "0c0ca5b0",
   "metadata": {},
   "source": [
    "## Launch AEDT and Maxwell 2D\n",
    "\n",
    "Create an instance of the ``Maxwell2d`` class named ``m2d`` by providing\n",
    "the project and design names, the version, and the graphical mode."
   ]
  },
  {
   "cell_type": "code",
   "execution_count": 4,
   "id": "37b875c7",
   "metadata": {
    "execution": {
     "iopub.execute_input": "2025-10-30T06:34:39.443660Z",
     "iopub.status.busy": "2025-10-30T06:34:39.443660Z",
     "iopub.status.idle": "2025-10-30T06:35:07.812585Z",
     "shell.execute_reply": "2025-10-30T06:35:07.812585Z"
    }
   },
   "outputs": [
    {
     "name": "stdout",
     "output_type": "stream",
     "text": [
      "PyAEDT INFO: Python version 3.10.11 (tags/v3.10.11:7d4cc5a, Apr  5 2023, 00:38:17) [MSC v.1929 64 bit (AMD64)].\n"
     ]
    },
    {
     "name": "stdout",
     "output_type": "stream",
     "text": [
      "PyAEDT INFO: PyAEDT version 0.22.dev0.\n"
     ]
    },
    {
     "name": "stdout",
     "output_type": "stream",
     "text": [
      "PyAEDT INFO: Initializing new Desktop session.\n"
     ]
    },
    {
     "name": "stdout",
     "output_type": "stream",
     "text": [
      "PyAEDT INFO: Log on console is enabled.\n"
     ]
    },
    {
     "name": "stdout",
     "output_type": "stream",
     "text": [
      "PyAEDT INFO: Log on file C:\\Users\\ansys\\AppData\\Local\\Temp\\pyaedt_ansys_a375692f-dbfc-4868-a8ad-08cf0c4abf78.log is enabled.\n"
     ]
    },
    {
     "name": "stdout",
     "output_type": "stream",
     "text": [
      "PyAEDT INFO: Log on AEDT is disabled.\n"
     ]
    },
    {
     "name": "stdout",
     "output_type": "stream",
     "text": [
      "PyAEDT INFO: Debug logger is disabled. PyAEDT methods will not be logged.\n"
     ]
    },
    {
     "name": "stdout",
     "output_type": "stream",
     "text": [
      "PyAEDT INFO: Launching PyAEDT with gRPC plugin.\n"
     ]
    },
    {
     "name": "stdout",
     "output_type": "stream",
     "text": [
      "PyAEDT INFO: New AEDT session is starting on gRPC port 65000.\n"
     ]
    },
    {
     "name": "stdout",
     "output_type": "stream",
     "text": [
      "PyAEDT INFO: Electronics Desktop started on gRPC port: 65000 after 11.014637470245361 seconds.\n"
     ]
    },
    {
     "name": "stdout",
     "output_type": "stream",
     "text": [
      "PyAEDT INFO: AEDT installation Path C:\\Program Files\\ANSYS Inc\\v252\\AnsysEM\n"
     ]
    },
    {
     "name": "stdout",
     "output_type": "stream",
     "text": [
      "PyAEDT INFO: Ansoft.ElectronicsDesktop.2025.2 version started with process ID 8228.\n"
     ]
    },
    {
     "name": "stdout",
     "output_type": "stream",
     "text": [
      "PyAEDT INFO: Project M2D_cable has been created.\n"
     ]
    },
    {
     "name": "stdout",
     "output_type": "stream",
     "text": [
      "PyAEDT INFO: Added design 'cable_maxwell_eddy' of type Maxwell 2D.\n"
     ]
    },
    {
     "name": "stdout",
     "output_type": "stream",
     "text": [
      "PyAEDT INFO: Aedt Objects correctly read\n"
     ]
    }
   ],
   "source": [
    "project_name = os.path.join(temp_folder.name, \"M2D_cable.aedt\")\n",
    "m2d = ansys.aedt.core.Maxwell2d(\n",
    "    project=project_name,\n",
    "    design=\"cable_maxwell_eddy\",\n",
    "    solution_type=\"AC MagneticXY\",\n",
    "    version=AEDT_VERSION,\n",
    "    non_graphical=NG_MODE,\n",
    "    new_desktop=True,\n",
    ")"
   ]
  },
  {
   "cell_type": "markdown",
   "id": "be3c1b48",
   "metadata": {},
   "source": [
    "## Define modeler units"
   ]
  },
  {
   "cell_type": "code",
   "execution_count": 5,
   "id": "f5a1ae67",
   "metadata": {
    "execution": {
     "iopub.execute_input": "2025-10-30T06:35:07.812585Z",
     "iopub.status.busy": "2025-10-30T06:35:07.812585Z",
     "iopub.status.idle": "2025-10-30T06:35:08.780000Z",
     "shell.execute_reply": "2025-10-30T06:35:08.780000Z"
    }
   },
   "outputs": [
    {
     "name": "stdout",
     "output_type": "stream",
     "text": [
      "PyAEDT INFO: Modeler2D class has been initialized!\n"
     ]
    },
    {
     "name": "stdout",
     "output_type": "stream",
     "text": [
      "PyAEDT INFO: Modeler class has been initialized! Elapsed time: 0m 1sec\n"
     ]
    }
   ],
   "source": [
    "m2d.modeler.model_units = \"mm\""
   ]
  },
  {
   "cell_type": "markdown",
   "id": "3deb7463",
   "metadata": {},
   "source": [
    "## Add materials\n",
    "\n",
    "Add XLPE material for insulation."
   ]
  },
  {
   "cell_type": "code",
   "execution_count": 6,
   "id": "3b0c7a84",
   "metadata": {
    "execution": {
     "iopub.execute_input": "2025-10-30T06:35:08.780000Z",
     "iopub.status.busy": "2025-10-30T06:35:08.780000Z",
     "iopub.status.idle": "2025-10-30T06:35:09.790479Z",
     "shell.execute_reply": "2025-10-30T06:35:09.790479Z"
    }
   },
   "outputs": [
    {
     "name": "stdout",
     "output_type": "stream",
     "text": [
      "PyAEDT INFO: Materials class has been initialized! Elapsed time: 0m 0sec\n"
     ]
    },
    {
     "name": "stdout",
     "output_type": "stream",
     "text": [
      "PyAEDT INFO: Adding new material to the Project Library: XLPE\n"
     ]
    },
    {
     "name": "stdout",
     "output_type": "stream",
     "text": [
      "PyAEDT INFO: Material has been added in Desktop.\n"
     ]
    }
   ],
   "source": [
    "xlpe = m2d.materials.add_material(\"XLPE\")\n",
    "xlpe.update()\n",
    "xlpe.conductivity = \"0\"\n",
    "xlpe.permittivity = \"2.3\""
   ]
  },
  {
   "cell_type": "markdown",
   "id": "4b7f80de",
   "metadata": {},
   "source": [
    "## Create geometry of the cable and assign materials\n",
    "\n",
    "Create geometry of the 3-phase cable with neutral and assign materials."
   ]
  },
  {
   "cell_type": "markdown",
   "id": "d99011d1",
   "metadata": {},
   "source": [
    "### Create the cable shield"
   ]
  },
  {
   "cell_type": "code",
   "execution_count": 7,
   "id": "1e0af813",
   "metadata": {
    "execution": {
     "iopub.execute_input": "2025-10-30T06:35:09.794496Z",
     "iopub.status.busy": "2025-10-30T06:35:09.794496Z",
     "iopub.status.idle": "2025-10-30T06:35:22.193412Z",
     "shell.execute_reply": "2025-10-30T06:35:22.193412Z"
    }
   },
   "outputs": [],
   "source": [
    "shield = m2d.modeler.create_circle(origin=[0, 0, 0], radius=8, name=\"Shield\")\n",
    "filler = m2d.modeler.create_circle(origin=[0, 0, 0], radius=7.5, name=\"Filler\")\n",
    "m2d.modeler.subtract(blank_list=shield.name, tool_list=filler.name)\n",
    "shield.material_name = \"aluminum\"\n",
    "filler.material_name = \"polyethylene\"\n",
    "filler.color = [143, 175, 143]\n",
    "filler.transparency = 0"
   ]
  },
  {
   "cell_type": "markdown",
   "id": "8ef64858",
   "metadata": {},
   "source": [
    "### Create the cable inner conductors"
   ]
  },
  {
   "cell_type": "code",
   "execution_count": 8,
   "id": "e01a75df",
   "metadata": {
    "execution": {
     "iopub.execute_input": "2025-10-30T06:35:22.197425Z",
     "iopub.status.busy": "2025-10-30T06:35:22.197425Z",
     "iopub.status.idle": "2025-10-30T06:35:22.634852Z",
     "shell.execute_reply": "2025-10-30T06:35:22.634852Z"
    }
   },
   "outputs": [],
   "source": [
    "phase_a = m2d.modeler.create_circle(origin=[5, 0, 0], radius=2.0575, material=\"copper\")\n",
    "cond = m2d.modeler.duplicate_around_axis(\n",
    "    assignment=phase_a.name, axis=\"Z\", angle=120, clones=3\n",
    ")\n",
    "phase_b = m2d.modeler[cond[1][0]]\n",
    "phase_c = m2d.modeler[cond[1][1]]\n",
    "phase_a.name = \"PhaseA\"\n",
    "phase_a.color = [255, 0, 0]\n",
    "phase_a.transparency = 0\n",
    "phase_b.name = \"PhaseB\"\n",
    "phase_b.color = [0, 0, 255]\n",
    "phase_b.transparency = 0\n",
    "phase_c.name = \"PhaseC\"\n",
    "phase_c.color = [0, 255, 0]\n",
    "phase_c.transparency = 0"
   ]
  },
  {
   "cell_type": "markdown",
   "id": "284fe128",
   "metadata": {},
   "source": [
    "### Create the cable inner conductor insulation"
   ]
  },
  {
   "cell_type": "code",
   "execution_count": 9,
   "id": "9211bfe3",
   "metadata": {
    "execution": {
     "iopub.execute_input": "2025-10-30T06:35:22.634852Z",
     "iopub.status.busy": "2025-10-30T06:35:22.634852Z",
     "iopub.status.idle": "2025-10-30T06:35:22.808585Z",
     "shell.execute_reply": "2025-10-30T06:35:22.808585Z"
    }
   },
   "outputs": [],
   "source": [
    "insul_a = m2d.modeler.create_circle(origin=[5, 0, 0], radius=2.25, material=\"XLPE\")\n",
    "insul_a.transparency = 0\n",
    "insul = m2d.modeler.duplicate_around_axis(\n",
    "    assignment=insul_a.name, axis=\"Z\", angle=120, clones=3\n",
    ")\n",
    "insul_b = m2d.modeler[insul[1][0]]\n",
    "insul_c = m2d.modeler[insul[1][1]]\n",
    "insul_a.name = \"InsulA\"\n",
    "insul_b.name = \"InsulB\"\n",
    "insul_c.name = \"InsulC\""
   ]
  },
  {
   "cell_type": "markdown",
   "id": "4f09dde6",
   "metadata": {},
   "source": [
    "### Create the cable neutral wire and its insulation"
   ]
  },
  {
   "cell_type": "code",
   "execution_count": 10,
   "id": "977190a6",
   "metadata": {
    "execution": {
     "iopub.execute_input": "2025-10-30T06:35:22.808585Z",
     "iopub.status.busy": "2025-10-30T06:35:22.808585Z",
     "iopub.status.idle": "2025-10-30T06:35:22.982431Z",
     "shell.execute_reply": "2025-10-30T06:35:22.982431Z"
    }
   },
   "outputs": [
    {
     "data": {
      "text/plain": [
       "True"
      ]
     },
     "execution_count": 10,
     "metadata": {},
     "output_type": "execute_result"
    }
   ],
   "source": [
    "neu_ins = m2d.modeler.duplicate_along_line(\n",
    "    assignment=[phase_a.name, insul_a.name], vector=[-5, 0, 0], clones=2\n",
    ")\n",
    "phase_n = m2d.modeler[neu_ins[1][0]]\n",
    "phase_n.name = \"PhaseN\"\n",
    "phase_n.color = [128, 64, 64]\n",
    "insul_n = m2d.modeler[neu_ins[1][1]]\n",
    "insul_n.name = \"InsulN\"\n",
    "\n",
    "m2d.modeler.subtract(blank_list=filler, tool_list=[insul_a, insul_b, insul_c, insul_n])\n",
    "m2d.modeler.subtract(blank_list=insul_a, tool_list=phase_a.name)\n",
    "m2d.modeler.subtract(blank_list=insul_b, tool_list=phase_b.name)\n",
    "m2d.modeler.subtract(blank_list=insul_c, tool_list=phase_c.name)\n",
    "m2d.modeler.subtract(blank_list=insul_n, tool_list=phase_n.name)"
   ]
  },
  {
   "cell_type": "markdown",
   "id": "33eea3dc",
   "metadata": {},
   "source": [
    "## Create region\n",
    "\n",
    "Create the air region and assign boundary condition to it."
   ]
  },
  {
   "cell_type": "code",
   "execution_count": 11,
   "id": "37fc2ee5",
   "metadata": {
    "execution": {
     "iopub.execute_input": "2025-10-30T06:35:22.982431Z",
     "iopub.status.busy": "2025-10-30T06:35:22.982431Z",
     "iopub.status.idle": "2025-10-30T06:35:23.300062Z",
     "shell.execute_reply": "2025-10-30T06:35:23.300062Z"
    }
   },
   "outputs": [
    {
     "name": "stdout",
     "output_type": "stream",
     "text": [
      "PyAEDT WARNING: Balloon boundary with type voltage is only valid for Electrostatic solvers.\n"
     ]
    },
    {
     "name": "stdout",
     "output_type": "stream",
     "text": [
      "PyAEDT INFO: Boundary Balloon Balloon_GJBP7T has been created.\n"
     ]
    }
   ],
   "source": [
    "region = m2d.modeler.create_region(pad_value=200)\n",
    "m2d.assign_balloon(assignment=region.edges)\n",
    "\n",
    "m2d.modeler.fit_all()"
   ]
  },
  {
   "cell_type": "markdown",
   "id": "71fa067a",
   "metadata": {},
   "source": [
    "## Assign excitations\n",
    "\n",
    "Set electrical excitations for the conductive objects."
   ]
  },
  {
   "cell_type": "code",
   "execution_count": 12,
   "id": "4b7289f6",
   "metadata": {
    "execution": {
     "iopub.execute_input": "2025-10-30T06:35:23.300062Z",
     "iopub.status.busy": "2025-10-30T06:35:23.300062Z",
     "iopub.status.idle": "2025-10-30T06:35:23.712542Z",
     "shell.execute_reply": "2025-10-30T06:35:23.712542Z"
    }
   },
   "outputs": [
    {
     "name": "stdout",
     "output_type": "stream",
     "text": [
      "PyAEDT INFO: Boundary Winding PhaseA has been created.\n"
     ]
    },
    {
     "name": "stdout",
     "output_type": "stream",
     "text": [
      "PyAEDT INFO: Boundary Coil Coil_DYJUI1 has been created.\n"
     ]
    },
    {
     "name": "stdout",
     "output_type": "stream",
     "text": [
      "PyAEDT INFO: Boundary Winding PhaseB has been created.\n"
     ]
    },
    {
     "name": "stdout",
     "output_type": "stream",
     "text": [
      "PyAEDT INFO: Boundary Coil Coil_T3WFEF has been created.\n"
     ]
    },
    {
     "name": "stdout",
     "output_type": "stream",
     "text": [
      "PyAEDT INFO: Boundary Winding PhaseC has been created.\n"
     ]
    },
    {
     "name": "stdout",
     "output_type": "stream",
     "text": [
      "PyAEDT INFO: Boundary Coil Coil_1S7BYJ has been created.\n"
     ]
    },
    {
     "name": "stdout",
     "output_type": "stream",
     "text": [
      "PyAEDT INFO: Boundary Winding PhaseN has been created.\n"
     ]
    },
    {
     "name": "stdout",
     "output_type": "stream",
     "text": [
      "PyAEDT INFO: Boundary Coil Coil_89KFJ4 has been created.\n"
     ]
    },
    {
     "name": "stdout",
     "output_type": "stream",
     "text": [
      "PyAEDT INFO: Boundary Winding Shield has been created.\n"
     ]
    },
    {
     "name": "stdout",
     "output_type": "stream",
     "text": [
      "PyAEDT INFO: Boundary Coil Coil_1RD0RN has been created.\n"
     ]
    }
   ],
   "source": [
    "winding_a = m2d.assign_winding(assignment=phase_a.name, current=200, name=\"PhaseA\")\n",
    "winding_b = m2d.assign_winding(\n",
    "    assignment=phase_b.name, current=200, phase=-120, name=\"PhaseB\"\n",
    ")\n",
    "winding_c = m2d.assign_winding(\n",
    "    assignment=phase_c.name, current=200, phase=-240, name=\"PhaseC\"\n",
    ")\n",
    "winding_n = m2d.assign_winding(assignment=phase_n.name, current=0, name=\"PhaseN\")\n",
    "winding_s = m2d.assign_winding(assignment=shield.name, current=0, name=\"Shield\")"
   ]
  },
  {
   "cell_type": "markdown",
   "id": "77598fb9",
   "metadata": {},
   "source": [
    "## Assign matrix\n",
    "\n",
    "Set matrix for RL parameters calculation."
   ]
  },
  {
   "cell_type": "code",
   "execution_count": 13,
   "id": "f20a68fc",
   "metadata": {
    "execution": {
     "iopub.execute_input": "2025-10-30T06:35:23.712542Z",
     "iopub.status.busy": "2025-10-30T06:35:23.712542Z",
     "iopub.status.idle": "2025-10-30T06:35:23.776187Z",
     "shell.execute_reply": "2025-10-30T06:35:23.776187Z"
    }
   },
   "outputs": [
    {
     "name": "stdout",
     "output_type": "stream",
     "text": [
      "PyAEDT INFO: Infinite is the only return path option in EddyCurrent.\n"
     ]
    },
    {
     "name": "stdout",
     "output_type": "stream",
     "text": [
      "PyAEDT INFO: Boundary Matrix Matrix1 has been created.\n"
     ]
    },
    {
     "data": {
      "text/plain": [
       "<ansys.aedt.core.modules.boundary.maxwell_boundary.MaxwellParameters at 0x1e4c62967d0>"
      ]
     },
     "execution_count": 13,
     "metadata": {},
     "output_type": "execute_result"
    }
   ],
   "source": [
    "m2d.assign_matrix(\n",
    "    assignment=[\"PhaseA\", \"PhaseB\", \"PhaseC\", \"PhaseN\", \"Shield\"], matrix_name=\"Matrix1\"\n",
    ")"
   ]
  },
  {
   "cell_type": "markdown",
   "id": "4751c46d",
   "metadata": {},
   "source": [
    "## Assign mesh operation\n",
    "\n",
    "Assign surface approximation mesh to all objects."
   ]
  },
  {
   "cell_type": "code",
   "execution_count": 14,
   "id": "6dbc7c82",
   "metadata": {
    "execution": {
     "iopub.execute_input": "2025-10-30T06:35:23.776187Z",
     "iopub.status.busy": "2025-10-30T06:35:23.776187Z",
     "iopub.status.idle": "2025-10-30T06:35:23.856435Z",
     "shell.execute_reply": "2025-10-30T06:35:23.856435Z"
    }
   },
   "outputs": [
    {
     "name": "stdout",
     "output_type": "stream",
     "text": [
      "PyAEDT INFO: Mesh class has been initialized! Elapsed time: 0m 0sec\n"
     ]
    },
    {
     "name": "stdout",
     "output_type": "stream",
     "text": [
      "PyAEDT INFO: Mesh class has been initialized! Elapsed time: 0m 0sec\n"
     ]
    },
    {
     "data": {
      "text/plain": [
       "<ansys.aedt.core.modules.mesh.MeshOperation at 0x1e4c6297d60>"
      ]
     },
     "execution_count": 14,
     "metadata": {},
     "output_type": "execute_result"
    }
   ],
   "source": [
    "m2d.mesh.assign_surface_mesh_manual(\n",
    "    assignment=m2d.modeler.object_list, normal_dev=\"10deg\"\n",
    ")"
   ]
  },
  {
   "cell_type": "markdown",
   "id": "5c8c4f3f",
   "metadata": {},
   "source": [
    "## Analysis setup\n",
    "\n",
    "Set analysis setup to run the simulation."
   ]
  },
  {
   "cell_type": "code",
   "execution_count": 15,
   "id": "a01a7c47",
   "metadata": {
    "execution": {
     "iopub.execute_input": "2025-10-30T06:35:23.856435Z",
     "iopub.status.busy": "2025-10-30T06:35:23.856435Z",
     "iopub.status.idle": "2025-10-30T06:35:23.936080Z",
     "shell.execute_reply": "2025-10-30T06:35:23.936080Z"
    }
   },
   "outputs": [],
   "source": [
    "setup = m2d.create_setup()\n",
    "setup[\"MaximumPasses\"] = 15\n",
    "setup[\"PercentError\"] = 0.1\n",
    "setup[\"Frequency\"] = \"60Hz\""
   ]
  },
  {
   "cell_type": "markdown",
   "id": "d79786e3",
   "metadata": {},
   "source": [
    "## Run the Maxwell 2D analysis\n",
    "\n",
    "The following command runs the 2D finite element analysis in Maxwell."
   ]
  },
  {
   "cell_type": "code",
   "execution_count": 16,
   "id": "be7a2360",
   "metadata": {
    "execution": {
     "iopub.execute_input": "2025-10-30T06:35:23.936080Z",
     "iopub.status.busy": "2025-10-30T06:35:23.936080Z",
     "iopub.status.idle": "2025-10-30T06:35:41.409924Z",
     "shell.execute_reply": "2025-10-30T06:35:41.409924Z"
    }
   },
   "outputs": [
    {
     "name": "stdout",
     "output_type": "stream",
     "text": [
      "PyAEDT INFO: Solving design setup MySetupAuto\n"
     ]
    },
    {
     "name": "stdout",
     "output_type": "stream",
     "text": [
      "PyAEDT INFO: Design setup MySetupAuto solved correctly in 0.0h 0.0m 17.0s\n"
     ]
    },
    {
     "data": {
      "text/plain": [
       "True"
      ]
     },
     "execution_count": 16,
     "metadata": {},
     "output_type": "execute_result"
    }
   ],
   "source": [
    "m2d.analyze_setup(name=setup.name)"
   ]
  },
  {
   "cell_type": "markdown",
   "id": "c4cb9fc6",
   "metadata": {},
   "source": [
    "## Field plots\n",
    "\n",
    "### Plot the magnitude of magnetic flux density"
   ]
  },
  {
   "cell_type": "code",
   "execution_count": 17,
   "id": "9535cd75",
   "metadata": {
    "execution": {
     "iopub.execute_input": "2025-10-30T06:35:41.409924Z",
     "iopub.status.busy": "2025-10-30T06:35:41.409924Z",
     "iopub.status.idle": "2025-10-30T06:35:41.696085Z",
     "shell.execute_reply": "2025-10-30T06:35:41.696085Z"
    }
   },
   "outputs": [
    {
     "name": "stdout",
     "output_type": "stream",
     "text": [
      "PyAEDT INFO: Parsing C:\\Users\\ansys\\AppData\\Local\\Temp\\tmpc_ml8rwx.ansys\\M2D_cable.aedt.\n"
     ]
    },
    {
     "name": "stdout",
     "output_type": "stream",
     "text": [
      "PyAEDT INFO: File C:\\Users\\ansys\\AppData\\Local\\Temp\\tmpc_ml8rwx.ansys\\M2D_cable.aedt correctly loaded. Elapsed time: 0m 0sec\n"
     ]
    },
    {
     "name": "stdout",
     "output_type": "stream",
     "text": [
      "PyAEDT INFO: aedt file load time 0.009246349334716797\n"
     ]
    },
    {
     "name": "stdout",
     "output_type": "stream",
     "text": [
      "PyAEDT INFO: PostProcessor class has been initialized! Elapsed time: 0m 0sec\n"
     ]
    },
    {
     "name": "stdout",
     "output_type": "stream",
     "text": [
      "PyAEDT INFO: PostProcessor class has been initialized! Elapsed time: 0m 0sec\n"
     ]
    },
    {
     "name": "stdout",
     "output_type": "stream",
     "text": [
      "PyAEDT INFO: Post class has been initialized! Elapsed time: 0m 0sec\n"
     ]
    },
    {
     "name": "stdout",
     "output_type": "stream",
     "text": [
      "PyAEDT INFO: Active Design set to cable_maxwell_eddy\n"
     ]
    }
   ],
   "source": [
    "plot1 = m2d.post.create_fieldplot_surface(\n",
    "    assignment=m2d.modeler.object_list, quantity=\"Mag_B\", plot_name=\"B\"\n",
    ")"
   ]
  },
  {
   "cell_type": "markdown",
   "id": "d6c04315",
   "metadata": {},
   "source": [
    "### Add the expression for the current density absolute value using the advanced field calculator"
   ]
  },
  {
   "cell_type": "code",
   "execution_count": 18,
   "id": "5c10be47",
   "metadata": {
    "execution": {
     "iopub.execute_input": "2025-10-30T06:35:41.696085Z",
     "iopub.status.busy": "2025-10-30T06:35:41.696085Z",
     "iopub.status.idle": "2025-10-30T06:35:41.759685Z",
     "shell.execute_reply": "2025-10-30T06:35:41.759685Z"
    }
   },
   "outputs": [
    {
     "data": {
      "text/plain": [
       "'Jabs'"
      ]
     },
     "execution_count": 18,
     "metadata": {},
     "output_type": "execute_result"
    }
   ],
   "source": [
    "j_abs = {\n",
    "    \"name\": \"Jabs\",\n",
    "    \"description\": \"Absolute value of the current density\",\n",
    "    \"design_type\": [\"Maxwell 2D\"],\n",
    "    \"fields_type\": [\"Fields\"],\n",
    "    \"primary_sweep\": \"\",\n",
    "    \"assignment\": \"\",\n",
    "    \"assignment_type\": [\"\"],\n",
    "    \"operations\": [\n",
    "        \"Fundamental_Quantity('Jt')\",\n",
    "        \"Operation('Smooth')\",\n",
    "        \"Operation('ScalarZ')\",\n",
    "        \"Scalar_Function(FuncValue='Phase')\",\n",
    "        \"Operation('AtPhase')\",\n",
    "        \"Operation('Abs')\",\n",
    "    ],\n",
    "    \"report\": [\"Field_2D\"],\n",
    "}\n",
    "m2d.post.fields_calculator.add_expression(j_abs, None)"
   ]
  },
  {
   "cell_type": "markdown",
   "id": "c62a586b",
   "metadata": {},
   "source": [
    "### Plot the absolute value of the current density in the conductive objects"
   ]
  },
  {
   "cell_type": "code",
   "execution_count": 19,
   "id": "3c44ab18",
   "metadata": {
    "execution": {
     "iopub.execute_input": "2025-10-30T06:35:41.761696Z",
     "iopub.status.busy": "2025-10-30T06:35:41.761696Z",
     "iopub.status.idle": "2025-10-30T06:35:41.886268Z",
     "shell.execute_reply": "2025-10-30T06:35:41.886268Z"
    }
   },
   "outputs": [
    {
     "name": "stdout",
     "output_type": "stream",
     "text": [
      "PyAEDT INFO: Active Design set to cable_maxwell_eddy\n"
     ]
    },
    {
     "name": "stdout",
     "output_type": "stream",
     "text": [
      "PyAEDT INFO: Active Design set to cable_maxwell_eddy\n"
     ]
    }
   ],
   "source": [
    "plot2 = m2d.post.create_fieldplot_surface(\n",
    "    assignment=[phase_a, phase_b, phase_c],\n",
    "    quantity=\"Jabs\",\n",
    "    plot_name=\"Jabs_cond_3Phase\",\n",
    ")\n",
    "plot3 = m2d.post.create_fieldplot_surface(\n",
    "    assignment=[shield, phase_n], quantity=\"Jabs\", plot_name=\"Jabs_shield_neutral\"\n",
    ")"
   ]
  },
  {
   "cell_type": "markdown",
   "id": "f42a0738",
   "metadata": {},
   "source": [
    "## Release AEDT"
   ]
  },
  {
   "cell_type": "code",
   "execution_count": 20,
   "id": "d79b4d06",
   "metadata": {
    "execution": {
     "iopub.execute_input": "2025-10-30T06:35:41.886268Z",
     "iopub.status.busy": "2025-10-30T06:35:41.886268Z",
     "iopub.status.idle": "2025-10-30T06:36:01.809759Z",
     "shell.execute_reply": "2025-10-30T06:36:01.809759Z"
    }
   },
   "outputs": [
    {
     "name": "stdout",
     "output_type": "stream",
     "text": [
      "PyAEDT INFO: Project M2D_cable Saved correctly\n"
     ]
    },
    {
     "name": "stdout",
     "output_type": "stream",
     "text": [
      "PyAEDT INFO: Desktop has been released and closed.\n"
     ]
    }
   ],
   "source": [
    "m2d.save_project()\n",
    "m2d.release_desktop()\n",
    "# Wait 3 seconds to allow AEDT to shut down before cleaning the temporary directory.\n",
    "time.sleep(3)"
   ]
  },
  {
   "cell_type": "markdown",
   "id": "d9567b84",
   "metadata": {},
   "source": [
    "### Clean up"
   ]
  },
  {
   "cell_type": "markdown",
   "id": "45faedfb",
   "metadata": {},
   "source": [
    "All project files are saved in the folder ``temp_folder.name``.\n",
    "If you've run this example as a Jupyter notebook, you\n",
    "can retrieve those project files. The following cell\n",
    "removes all temporary files, including the project folder."
   ]
  },
  {
   "cell_type": "code",
   "execution_count": 21,
   "id": "c0435324",
   "metadata": {
    "execution": {
     "iopub.execute_input": "2025-10-30T06:36:01.809759Z",
     "iopub.status.busy": "2025-10-30T06:36:01.809759Z",
     "iopub.status.idle": "2025-10-30T06:36:01.842014Z",
     "shell.execute_reply": "2025-10-30T06:36:01.842014Z"
    }
   },
   "outputs": [],
   "source": [
    "temp_folder.cleanup()"
   ]
  }
 ],
 "metadata": {
  "jupytext": {
   "cell_metadata_filter": "-all",
   "main_language": "python",
   "notebook_metadata_filter": "-all"
  },
  "language_info": {
   "codemirror_mode": {
    "name": "ipython",
    "version": 3
   },
   "file_extension": ".py",
   "mimetype": "text/x-python",
   "name": "python",
   "nbconvert_exporter": "python",
   "pygments_lexer": "ipython3",
   "version": "3.10.11"
  }
 },
 "nbformat": 4,
 "nbformat_minor": 5
}
