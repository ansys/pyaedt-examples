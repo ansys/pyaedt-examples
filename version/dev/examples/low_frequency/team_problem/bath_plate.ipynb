{
 "cells": [
  {
   "cell_type": "markdown",
   "id": "86a84ec1",
   "metadata": {},
   "source": [
    "# Bath plate analysis\n",
    "\n",
    "This example uses PyAEDT to set up the TEAM 3 bath plate problem and\n",
    "solve it using the Maxwell 3D eddy current solver.\n",
    "\n",
    "For more information on this problem, see this\n",
    "[paper](https://www.compumag.org/wp/wp-content/uploads/2018/06/problem3.pdf).\n",
    "\n",
    "Keywords: **Maxwell 3D**, **TEAM 3 bath plate**"
   ]
  },
  {
   "cell_type": "markdown",
   "id": "75e1a9be",
   "metadata": {},
   "source": [
    "## Prerequisites\n",
    "\n",
    "### Perform imports"
   ]
  },
  {
   "cell_type": "code",
   "execution_count": 1,
   "id": "1906677f",
   "metadata": {
    "execution": {
     "iopub.execute_input": "2025-10-30T07:35:59.426362Z",
     "iopub.status.busy": "2025-10-30T07:35:59.426362Z",
     "iopub.status.idle": "2025-10-30T07:36:02.495732Z",
     "shell.execute_reply": "2025-10-30T07:36:02.495732Z"
    }
   },
   "outputs": [],
   "source": [
    "import os\n",
    "import tempfile\n",
    "import time\n",
    "\n",
    "import ansys.aedt.core"
   ]
  },
  {
   "cell_type": "markdown",
   "id": "d3e4c6e8",
   "metadata": {},
   "source": [
    "### Define constants\n",
    "Constants help ensure consistency and avoid repetition throughout the example."
   ]
  },
  {
   "cell_type": "code",
   "execution_count": 2,
   "id": "1dd1a09c",
   "metadata": {
    "execution": {
     "iopub.execute_input": "2025-10-30T07:36:02.495732Z",
     "iopub.status.busy": "2025-10-30T07:36:02.495732Z",
     "iopub.status.idle": "2025-10-30T07:36:02.511816Z",
     "shell.execute_reply": "2025-10-30T07:36:02.511816Z"
    }
   },
   "outputs": [],
   "source": [
    "AEDT_VERSION = \"2025.2\"\n",
    "NUM_CORES = 4\n",
    "NG_MODE = False  # Open AEDT UI when it is launched."
   ]
  },
  {
   "cell_type": "markdown",
   "id": "cefb55c8",
   "metadata": {},
   "source": [
    "### Create temporary directory\n",
    "\n",
    "Create a temporary working directory.\n",
    "The name of the working folder is stored in ``temp_folder.name``.\n",
    "\n",
    "> **Note:** The final cell in the notebook cleans up the temporary folder. If you want to\n",
    "> retrieve the AEDT project and data, do so before executing the final cell in the notebook."
   ]
  },
  {
   "cell_type": "code",
   "execution_count": 3,
   "id": "f630ec5c",
   "metadata": {
    "execution": {
     "iopub.execute_input": "2025-10-30T07:36:02.511816Z",
     "iopub.status.busy": "2025-10-30T07:36:02.511816Z",
     "iopub.status.idle": "2025-10-30T07:36:02.527718Z",
     "shell.execute_reply": "2025-10-30T07:36:02.527718Z"
    }
   },
   "outputs": [],
   "source": [
    "temp_folder = tempfile.TemporaryDirectory(suffix=\".ansys\")"
   ]
  },
  {
   "cell_type": "markdown",
   "id": "4c3ce7f6",
   "metadata": {},
   "source": [
    "### Launch Maxwell 3D\n",
    "\n",
    "Create an instance of the ``Maxwell3d`` class named ``m3d`` by providing\n",
    "the project and design names, the solver, and the version."
   ]
  },
  {
   "cell_type": "code",
   "execution_count": 4,
   "id": "402afac3",
   "metadata": {
    "execution": {
     "iopub.execute_input": "2025-10-30T07:36:02.527718Z",
     "iopub.status.busy": "2025-10-30T07:36:02.527718Z",
     "iopub.status.idle": "2025-10-30T07:36:32.044552Z",
     "shell.execute_reply": "2025-10-30T07:36:32.044552Z"
    }
   },
   "outputs": [
    {
     "name": "stdout",
     "output_type": "stream",
     "text": [
      "PyAEDT INFO: Python version 3.10.11 (tags/v3.10.11:7d4cc5a, Apr  5 2023, 00:38:17) [MSC v.1929 64 bit (AMD64)].\n"
     ]
    },
    {
     "name": "stdout",
     "output_type": "stream",
     "text": [
      "PyAEDT INFO: PyAEDT version 0.22.dev0.\n"
     ]
    },
    {
     "name": "stdout",
     "output_type": "stream",
     "text": [
      "PyAEDT INFO: Initializing new Desktop session.\n"
     ]
    },
    {
     "name": "stdout",
     "output_type": "stream",
     "text": [
      "PyAEDT INFO: Log on console is enabled.\n"
     ]
    },
    {
     "name": "stdout",
     "output_type": "stream",
     "text": [
      "PyAEDT INFO: Log on file C:\\Users\\ansys\\AppData\\Local\\Temp\\pyaedt_ansys_95fc907f-793b-4ec3-a2f9-6864f83d15c5.log is enabled.\n"
     ]
    },
    {
     "name": "stdout",
     "output_type": "stream",
     "text": [
      "PyAEDT INFO: Log on AEDT is disabled.\n"
     ]
    },
    {
     "name": "stdout",
     "output_type": "stream",
     "text": [
      "PyAEDT INFO: Debug logger is disabled. PyAEDT methods will not be logged.\n"
     ]
    },
    {
     "name": "stdout",
     "output_type": "stream",
     "text": [
      "PyAEDT INFO: Launching PyAEDT with gRPC plugin.\n"
     ]
    },
    {
     "name": "stdout",
     "output_type": "stream",
     "text": [
      "PyAEDT INFO: New AEDT session is starting on gRPC port 55042.\n"
     ]
    },
    {
     "name": "stdout",
     "output_type": "stream",
     "text": [
      "PyAEDT INFO: Electronics Desktop started on gRPC port: 55042 after 10.92570972442627 seconds.\n"
     ]
    },
    {
     "name": "stdout",
     "output_type": "stream",
     "text": [
      "PyAEDT INFO: AEDT installation Path C:\\Program Files\\ANSYS Inc\\v252\\AnsysEM\n"
     ]
    },
    {
     "name": "stdout",
     "output_type": "stream",
     "text": [
      "PyAEDT INFO: Ansoft.ElectronicsDesktop.2025.2 version started with process ID 7868.\n"
     ]
    },
    {
     "name": "stdout",
     "output_type": "stream",
     "text": [
      "PyAEDT INFO: Project COMPUMAG has been created.\n"
     ]
    },
    {
     "name": "stdout",
     "output_type": "stream",
     "text": [
      "PyAEDT INFO: Added design 'TEAM_3_Bath_Plate' of type Maxwell 3D.\n"
     ]
    },
    {
     "name": "stdout",
     "output_type": "stream",
     "text": [
      "PyAEDT INFO: Aedt Objects correctly read\n"
     ]
    },
    {
     "name": "stdout",
     "output_type": "stream",
     "text": [
      "PyAEDT INFO: Modeler class has been initialized! Elapsed time: 0m 1sec\n"
     ]
    }
   ],
   "source": [
    "m3d = ansys.aedt.core.Maxwell3d(\n",
    "    project=os.path.join(temp_folder.name, \"COMPUMAG.aedt\"),\n",
    "    design=\"TEAM_3_Bath_Plate\",\n",
    "    solution_type=\"EddyCurrent\",\n",
    "    version=AEDT_VERSION,\n",
    "    non_graphical=NG_MODE,\n",
    "    new_desktop=True,\n",
    ")\n",
    "uom = m3d.modeler.model_units = \"mm\""
   ]
  },
  {
   "cell_type": "markdown",
   "id": "7eb8c4f7",
   "metadata": {},
   "source": [
    "### Add variable\n",
    "\n",
    "Add a design variable named ``Coil_Position`` to use later to adjust the\n",
    "position of the coil."
   ]
  },
  {
   "cell_type": "code",
   "execution_count": 5,
   "id": "d15d816b",
   "metadata": {
    "execution": {
     "iopub.execute_input": "2025-10-30T07:36:32.044552Z",
     "iopub.status.busy": "2025-10-30T07:36:32.044552Z",
     "iopub.status.idle": "2025-10-30T07:36:32.076410Z",
     "shell.execute_reply": "2025-10-30T07:36:32.076410Z"
    }
   },
   "outputs": [],
   "source": [
    "Coil_Position = -20\n",
    "m3d[\"Coil_Position\"] = str(Coil_Position) + m3d.modeler.model_units"
   ]
  },
  {
   "cell_type": "markdown",
   "id": "c1edbd1b",
   "metadata": {},
   "source": [
    "### Add material\n",
    "\n",
    "Add a material named ``team3_aluminium`` for the ladder plate."
   ]
  },
  {
   "cell_type": "code",
   "execution_count": 6,
   "id": "f2f397a0",
   "metadata": {
    "execution": {
     "iopub.execute_input": "2025-10-30T07:36:32.076410Z",
     "iopub.status.busy": "2025-10-30T07:36:32.076410Z",
     "iopub.status.idle": "2025-10-30T07:36:33.070814Z",
     "shell.execute_reply": "2025-10-30T07:36:33.070814Z"
    }
   },
   "outputs": [
    {
     "name": "stdout",
     "output_type": "stream",
     "text": [
      "PyAEDT INFO: Materials class has been initialized! Elapsed time: 0m 0sec\n"
     ]
    },
    {
     "name": "stdout",
     "output_type": "stream",
     "text": [
      "PyAEDT INFO: Adding new material to the Project Library: team3_aluminium\n"
     ]
    },
    {
     "name": "stdout",
     "output_type": "stream",
     "text": [
      "PyAEDT INFO: Material has been added in Desktop.\n"
     ]
    }
   ],
   "source": [
    "mat = m3d.materials.add_material(name=\"team3_aluminium\")\n",
    "mat.conductivity = 32780000"
   ]
  },
  {
   "cell_type": "markdown",
   "id": "ffec8f16",
   "metadata": {},
   "source": [
    "### Draw background region\n",
    "\n",
    "Draw a background region that uses the default properties for an air region."
   ]
  },
  {
   "cell_type": "code",
   "execution_count": 7,
   "id": "640437ef",
   "metadata": {
    "execution": {
     "iopub.execute_input": "2025-10-30T07:36:33.074828Z",
     "iopub.status.busy": "2025-10-30T07:36:33.074828Z",
     "iopub.status.idle": "2025-10-30T07:36:44.963355Z",
     "shell.execute_reply": "2025-10-30T07:36:44.963355Z"
    }
   },
   "outputs": [
    {
     "data": {
      "text/plain": [
       "<ansys.aedt.core.modeler.cad.object_3d.Object3d at 0x207254a1f30>"
      ]
     },
     "execution_count": 7,
     "metadata": {},
     "output_type": "execute_result"
    }
   ],
   "source": [
    "m3d.modeler.create_air_region(\n",
    "    x_pos=100, y_pos=100, z_pos=100, x_neg=100, y_neg=100, z_neg=100\n",
    ")"
   ]
  },
  {
   "cell_type": "markdown",
   "id": "bbb0d7ee",
   "metadata": {},
   "source": [
    "### Draw ladder plate and assign material\n",
    "\n",
    "Draw a ladder plate and assign it the newly created material ``team3_aluminium``."
   ]
  },
  {
   "cell_type": "code",
   "execution_count": 8,
   "id": "76b7b55e",
   "metadata": {
    "execution": {
     "iopub.execute_input": "2025-10-30T07:36:44.963355Z",
     "iopub.status.busy": "2025-10-30T07:36:44.963355Z",
     "iopub.status.idle": "2025-10-30T07:36:45.106110Z",
     "shell.execute_reply": "2025-10-30T07:36:45.106110Z"
    }
   },
   "outputs": [
    {
     "name": "stdout",
     "output_type": "stream",
     "text": [
      "PyAEDT INFO: Parsing design objects. This operation can take time\n"
     ]
    },
    {
     "name": "stdout",
     "output_type": "stream",
     "text": [
      "PyAEDT INFO: Refreshing bodies from Object Info\n"
     ]
    },
    {
     "name": "stdout",
     "output_type": "stream",
     "text": [
      "PyAEDT INFO: Bodies Info Refreshed Elapsed time: 0m 0sec\n"
     ]
    },
    {
     "name": "stdout",
     "output_type": "stream",
     "text": [
      "PyAEDT INFO: 3D Modeler objects parsed. Elapsed time: 0m 0sec\n"
     ]
    },
    {
     "data": {
      "text/plain": [
       "True"
      ]
     },
     "execution_count": 8,
     "metadata": {},
     "output_type": "execute_result"
    }
   ],
   "source": [
    "m3d.modeler.create_box(\n",
    "    origin=[-30, -55, 0],\n",
    "    sizes=[60, 110, -6.35],\n",
    "    name=\"LadderPlate\",\n",
    "    material=\"team3_aluminium\",\n",
    ")\n",
    "m3d.modeler.create_box(origin=[-20, -35, 0], sizes=[40, 30, -6.35], name=\"CutoutTool1\")\n",
    "m3d.modeler.create_box(origin=[-20, 5, 0], sizes=[40, 30, -6.35], name=\"CutoutTool2\")\n",
    "m3d.modeler.subtract(\n",
    "    blank_list=\"LadderPlate\",\n",
    "    tool_list=[\"CutoutTool1\", \"CutoutTool2\"],\n",
    "    keep_originals=False,\n",
    ")"
   ]
  },
  {
   "cell_type": "markdown",
   "id": "2ef5752a",
   "metadata": {},
   "source": [
    "### Add mesh refinement to ladder plate"
   ]
  },
  {
   "cell_type": "markdown",
   "id": "92ec785d",
   "metadata": {},
   "source": [
    "> **Note:** You can uncomment the following code."
   ]
  },
  {
   "cell_type": "markdown",
   "id": "9ed51f34",
   "metadata": {},
   "source": [
    "m3d.mesh.assign_length_mesh(\n",
    "    assignment=\"LadderPlate\",\n",
    "    maximum_length=3,\n",
    "    maximum_elements=None,\n",
    "    name=\"Ladder_Mesh\",\n",
    ")"
   ]
  },
  {
   "cell_type": "markdown",
   "id": "ef3658be",
   "metadata": {},
   "source": [
    "### Draw search coil and assign excitation\n",
    "\n",
    "Draw a search coil and assign it a ``stranded`` current excitation.\n",
    "The stranded type forces the current density to be constant in the coil."
   ]
  },
  {
   "cell_type": "code",
   "execution_count": 9,
   "id": "c364ea95",
   "metadata": {
    "execution": {
     "iopub.execute_input": "2025-10-30T07:36:45.106110Z",
     "iopub.status.busy": "2025-10-30T07:36:45.106110Z",
     "iopub.status.idle": "2025-10-30T07:36:45.739941Z",
     "shell.execute_reply": "2025-10-30T07:36:45.739941Z"
    }
   },
   "outputs": [
    {
     "name": "stdout",
     "output_type": "stream",
     "text": [
      "PyAEDT INFO: Parsing design objects. This operation can take time\n"
     ]
    },
    {
     "name": "stdout",
     "output_type": "stream",
     "text": [
      "PyAEDT INFO: Refreshing bodies from Object Info\n"
     ]
    },
    {
     "name": "stdout",
     "output_type": "stream",
     "text": [
      "PyAEDT INFO: Bodies Info Refreshed Elapsed time: 0m 0sec\n"
     ]
    },
    {
     "name": "stdout",
     "output_type": "stream",
     "text": [
      "PyAEDT INFO: 3D Modeler objects parsed. Elapsed time: 0m 0sec\n"
     ]
    },
    {
     "name": "stdout",
     "output_type": "stream",
     "text": [
      "PyAEDT INFO: Parsing design objects. This operation can take time\n"
     ]
    },
    {
     "name": "stdout",
     "output_type": "stream",
     "text": [
      "PyAEDT INFO: Refreshing bodies from Object Info\n"
     ]
    },
    {
     "name": "stdout",
     "output_type": "stream",
     "text": [
      "PyAEDT INFO: Bodies Info Refreshed Elapsed time: 0m 0sec\n"
     ]
    },
    {
     "name": "stdout",
     "output_type": "stream",
     "text": [
      "PyAEDT INFO: 3D Modeler objects parsed. Elapsed time: 0m 0sec\n"
     ]
    },
    {
     "name": "stdout",
     "output_type": "stream",
     "text": [
      "PyAEDT INFO: Deleted 1 Objects: SearchCoil_Section1_Separate1.\n"
     ]
    },
    {
     "name": "stdout",
     "output_type": "stream",
     "text": [
      "PyAEDT INFO: Boundary Current SearchCoil_Excitation has been created.\n"
     ]
    },
    {
     "data": {
      "text/plain": [
       "<ansys.aedt.core.modules.boundary.common.BoundaryObject at 0x207254a26b0>"
      ]
     },
     "execution_count": 9,
     "metadata": {},
     "output_type": "execute_result"
    }
   ],
   "source": [
    "m3d.modeler.create_cylinder(\n",
    "    orientation=\"Z\",\n",
    "    origin=[0, \"Coil_Position\", 15],\n",
    "    radius=40,\n",
    "    height=20,\n",
    "    name=\"SearchCoil\",\n",
    "    material=\"copper\",\n",
    ")\n",
    "m3d.modeler.create_cylinder(\n",
    "    orientation=\"Z\",\n",
    "    origin=[0, \"Coil_Position\", 15],\n",
    "    radius=20,\n",
    "    height=20,\n",
    "    name=\"Bore\",\n",
    "    material=\"copper\",\n",
    ")\n",
    "m3d.modeler.subtract(blank_list=\"SearchCoil\", tool_list=\"Bore\", keep_originals=False)\n",
    "m3d.modeler.section(assignment=\"SearchCoil\", plane=\"YZ\")\n",
    "m3d.modeler.separate_bodies(assignment=\"SearchCoil_Section1\")\n",
    "m3d.modeler.delete(assignment=\"SearchCoil_Section1_Separate1\")\n",
    "m3d.assign_current(\n",
    "    assignment=[\"SearchCoil_Section1\"],\n",
    "    amplitude=1260,\n",
    "    solid=False,\n",
    "    name=\"SearchCoil_Excitation\",\n",
    ")"
   ]
  },
  {
   "cell_type": "markdown",
   "id": "b5eb864e",
   "metadata": {},
   "source": [
    "### Draw a line for plotting $B_z$\n",
    "\n",
    "Draw a line for plotting Bz later. Bz is the Z component of the flux\n",
    "density. The following code also adds a small diameter cylinder to refine the\n",
    "mesh locally around the line."
   ]
  },
  {
   "cell_type": "code",
   "execution_count": 10,
   "id": "cfbddac3",
   "metadata": {
    "execution": {
     "iopub.execute_input": "2025-10-30T07:36:45.739941Z",
     "iopub.status.busy": "2025-10-30T07:36:45.739941Z",
     "iopub.status.idle": "2025-10-30T07:36:45.803897Z",
     "shell.execute_reply": "2025-10-30T07:36:45.803897Z"
    }
   },
   "outputs": [
    {
     "data": {
      "text/plain": [
       "True"
      ]
     },
     "execution_count": 10,
     "metadata": {},
     "output_type": "execute_result"
    }
   ],
   "source": [
    "line_points = [[\"0mm\", \"-55mm\", \"0.5mm\"], [\"0mm\", \"55mm\", \"0.5mm\"]]\n",
    "m3d.modeler.create_polyline(points=line_points, name=\"Line_AB\")\n",
    "poly = m3d.modeler.create_polyline(points=line_points, name=\"Line_AB_MeshRefinement\")\n",
    "poly.set_crosssection_properties(section=\"Circle\", width=\"0.5mm\")"
   ]
  },
  {
   "cell_type": "markdown",
   "id": "3ec81986",
   "metadata": {},
   "source": [
    "### Add Maxwell 3D setup\n",
    "\n",
    "Add a Maxwell 3D setup with frequency points at 50 Hz and 200 Hz."
   ]
  },
  {
   "cell_type": "code",
   "execution_count": 11,
   "id": "124ec954",
   "metadata": {
    "execution": {
     "iopub.execute_input": "2025-10-30T07:36:45.807080Z",
     "iopub.status.busy": "2025-10-30T07:36:45.807080Z",
     "iopub.status.idle": "2025-10-30T07:36:46.564544Z",
     "shell.execute_reply": "2025-10-30T07:36:46.564544Z"
    }
   },
   "outputs": [
    {
     "name": "stdout",
     "output_type": "stream",
     "text": [
      "PyAEDT INFO: Parsing C:\\Users\\ansys\\AppData\\Local\\Temp\\tmpog3ys7ur.ansys\\COMPUMAG.aedt.\n"
     ]
    },
    {
     "name": "stdout",
     "output_type": "stream",
     "text": [
      "PyAEDT INFO: File C:\\Users\\ansys\\AppData\\Local\\Temp\\tmpog3ys7ur.ansys\\COMPUMAG.aedt correctly loaded. Elapsed time: 0m 0sec\n"
     ]
    },
    {
     "name": "stdout",
     "output_type": "stream",
     "text": [
      "PyAEDT INFO: aedt file load time 0.015718460083007812\n"
     ]
    },
    {
     "ename": "AttributeError",
     "evalue": "'SweepMaxwellEC' object has no attribute 'name'",
     "output_type": "error",
     "traceback": [
      "\u001b[1;31m---------------------------------------------------------------------------\u001b[0m",
      "\u001b[1;31mAttributeError\u001b[0m                            Traceback (most recent call last)",
      "File \u001b[1;32mC:\\actions-runner\\_work\\pyaedt-examples\\pyaedt-examples\\.venv\\lib\\site-packages\\IPython\\core\\formatters.py:711\u001b[0m, in \u001b[0;36mPlainTextFormatter.__call__\u001b[1;34m(self, obj)\u001b[0m\n\u001b[0;32m    704\u001b[0m stream \u001b[38;5;241m=\u001b[39m StringIO()\n\u001b[0;32m    705\u001b[0m printer \u001b[38;5;241m=\u001b[39m pretty\u001b[38;5;241m.\u001b[39mRepresentationPrinter(stream, \u001b[38;5;28mself\u001b[39m\u001b[38;5;241m.\u001b[39mverbose,\n\u001b[0;32m    706\u001b[0m     \u001b[38;5;28mself\u001b[39m\u001b[38;5;241m.\u001b[39mmax_width, \u001b[38;5;28mself\u001b[39m\u001b[38;5;241m.\u001b[39mnewline,\n\u001b[0;32m    707\u001b[0m     max_seq_length\u001b[38;5;241m=\u001b[39m\u001b[38;5;28mself\u001b[39m\u001b[38;5;241m.\u001b[39mmax_seq_length,\n\u001b[0;32m    708\u001b[0m     singleton_pprinters\u001b[38;5;241m=\u001b[39m\u001b[38;5;28mself\u001b[39m\u001b[38;5;241m.\u001b[39msingleton_printers,\n\u001b[0;32m    709\u001b[0m     type_pprinters\u001b[38;5;241m=\u001b[39m\u001b[38;5;28mself\u001b[39m\u001b[38;5;241m.\u001b[39mtype_printers,\n\u001b[0;32m    710\u001b[0m     deferred_pprinters\u001b[38;5;241m=\u001b[39m\u001b[38;5;28mself\u001b[39m\u001b[38;5;241m.\u001b[39mdeferred_printers)\n\u001b[1;32m--> 711\u001b[0m \u001b[43mprinter\u001b[49m\u001b[38;5;241;43m.\u001b[39;49m\u001b[43mpretty\u001b[49m\u001b[43m(\u001b[49m\u001b[43mobj\u001b[49m\u001b[43m)\u001b[49m\n\u001b[0;32m    712\u001b[0m printer\u001b[38;5;241m.\u001b[39mflush()\n\u001b[0;32m    713\u001b[0m \u001b[38;5;28;01mreturn\u001b[39;00m stream\u001b[38;5;241m.\u001b[39mgetvalue()\n",
      "File \u001b[1;32mC:\\actions-runner\\_work\\pyaedt-examples\\pyaedt-examples\\.venv\\lib\\site-packages\\IPython\\lib\\pretty.py:419\u001b[0m, in \u001b[0;36mRepresentationPrinter.pretty\u001b[1;34m(self, obj)\u001b[0m\n\u001b[0;32m    408\u001b[0m                         \u001b[38;5;28;01mreturn\u001b[39;00m meth(obj, \u001b[38;5;28mself\u001b[39m, cycle)\n\u001b[0;32m    409\u001b[0m                 \u001b[38;5;28;01mif\u001b[39;00m (\n\u001b[0;32m    410\u001b[0m                     \u001b[38;5;28mcls\u001b[39m \u001b[38;5;129;01mis\u001b[39;00m \u001b[38;5;129;01mnot\u001b[39;00m \u001b[38;5;28mobject\u001b[39m\n\u001b[0;32m    411\u001b[0m                     \u001b[38;5;66;03m# check if cls defines __repr__\u001b[39;00m\n\u001b[1;32m   (...)\u001b[0m\n\u001b[0;32m    417\u001b[0m                     \u001b[38;5;129;01mand\u001b[39;00m \u001b[38;5;28mcallable\u001b[39m(_safe_getattr(\u001b[38;5;28mcls\u001b[39m, \u001b[38;5;124m\"\u001b[39m\u001b[38;5;124m__repr__\u001b[39m\u001b[38;5;124m\"\u001b[39m, \u001b[38;5;28;01mNone\u001b[39;00m))\n\u001b[0;32m    418\u001b[0m                 ):\n\u001b[1;32m--> 419\u001b[0m                     \u001b[38;5;28;01mreturn\u001b[39;00m \u001b[43m_repr_pprint\u001b[49m\u001b[43m(\u001b[49m\u001b[43mobj\u001b[49m\u001b[43m,\u001b[49m\u001b[43m \u001b[49m\u001b[38;5;28;43mself\u001b[39;49m\u001b[43m,\u001b[49m\u001b[43m \u001b[49m\u001b[43mcycle\u001b[49m\u001b[43m)\u001b[49m\n\u001b[0;32m    421\u001b[0m     \u001b[38;5;28;01mreturn\u001b[39;00m _default_pprint(obj, \u001b[38;5;28mself\u001b[39m, cycle)\n\u001b[0;32m    422\u001b[0m \u001b[38;5;28;01mfinally\u001b[39;00m:\n",
      "File \u001b[1;32mC:\\actions-runner\\_work\\pyaedt-examples\\pyaedt-examples\\.venv\\lib\\site-packages\\IPython\\lib\\pretty.py:787\u001b[0m, in \u001b[0;36m_repr_pprint\u001b[1;34m(obj, p, cycle)\u001b[0m\n\u001b[0;32m    785\u001b[0m \u001b[38;5;250m\u001b[39m\u001b[38;5;124;03m\"\"\"A pprint that just redirects to the normal repr function.\"\"\"\u001b[39;00m\n\u001b[0;32m    786\u001b[0m \u001b[38;5;66;03m# Find newlines and replace them with p.break_()\u001b[39;00m\n\u001b[1;32m--> 787\u001b[0m output \u001b[38;5;241m=\u001b[39m \u001b[38;5;28;43mrepr\u001b[39;49m\u001b[43m(\u001b[49m\u001b[43mobj\u001b[49m\u001b[43m)\u001b[49m\n\u001b[0;32m    788\u001b[0m lines \u001b[38;5;241m=\u001b[39m output\u001b[38;5;241m.\u001b[39msplitlines()\n\u001b[0;32m    789\u001b[0m \u001b[38;5;28;01mwith\u001b[39;00m p\u001b[38;5;241m.\u001b[39mgroup():\n",
      "File \u001b[1;32mC:\\actions-runner\\_work\\pyaedt-examples\\pyaedt-examples\\.venv\\lib\\site-packages\\ansys\\aedt\\core\\modules\\solve_sweeps.py:90\u001b[0m, in \u001b[0;36mSweepCommon.__repr__\u001b[1;34m(self)\u001b[0m\n\u001b[0;32m     89\u001b[0m \u001b[38;5;28;01mdef\u001b[39;00m\u001b[38;5;250m \u001b[39m\u001b[38;5;21m__repr__\u001b[39m(\u001b[38;5;28mself\u001b[39m):\n\u001b[1;32m---> 90\u001b[0m     \u001b[38;5;28;01mreturn\u001b[39;00m \u001b[38;5;124mf\u001b[39m\u001b[38;5;124m\"\u001b[39m\u001b[38;5;132;01m{\u001b[39;00m\u001b[38;5;28mself\u001b[39m\u001b[38;5;241m.\u001b[39msetup_name\u001b[38;5;132;01m}\u001b[39;00m\u001b[38;5;124m : \u001b[39m\u001b[38;5;132;01m{\u001b[39;00m\u001b[38;5;28;43mself\u001b[39;49m\u001b[38;5;241;43m.\u001b[39;49m\u001b[43mname\u001b[49m\u001b[38;5;132;01m}\u001b[39;00m\u001b[38;5;124m\"\u001b[39m\n",
      "\u001b[1;31mAttributeError\u001b[0m: 'SweepMaxwellEC' object has no attribute 'name'"
     ]
    }
   ],
   "source": [
    "setup = m3d.create_setup(name=\"Setup1\")\n",
    "setup.props[\"Frequency\"] = \"200Hz\"\n",
    "setup.props[\"HasSweepSetup\"] = True\n",
    "setup.props[\"MaximumPasses\"] = 1\n",
    "setup.add_eddy_current_sweep(\n",
    "    sweep_type=\"LinearStep\", start_frequency=50, stop_frequency=200, step_size=150, clear=True\n",
    ")"
   ]
  },
  {
   "cell_type": "markdown",
   "id": "c29e9090",
   "metadata": {},
   "source": [
    "### Adjust eddy effects\n",
    "\n",
    "Adjust eddy effects for the ladder plate and the search coil. The setting for\n",
    "eddy effect is ignored for the stranded conductor type used in the search coil."
   ]
  },
  {
   "cell_type": "code",
   "execution_count": 12,
   "id": "6ab69b70",
   "metadata": {
    "execution": {
     "iopub.execute_input": "2025-10-30T07:36:46.564544Z",
     "iopub.status.busy": "2025-10-30T07:36:46.564544Z",
     "iopub.status.idle": "2025-10-30T07:36:46.753703Z",
     "shell.execute_reply": "2025-10-30T07:36:46.753703Z"
    }
   },
   "outputs": [
    {
     "data": {
      "text/plain": [
       "True"
      ]
     },
     "execution_count": 12,
     "metadata": {},
     "output_type": "execute_result"
    }
   ],
   "source": [
    "m3d.eddy_effects_on(\n",
    "    assignment=[\"LadderPlate\"],\n",
    "    enable_eddy_effects=True,\n",
    "    enable_displacement_current=True,\n",
    ")\n",
    "m3d.eddy_effects_on(\n",
    "    assignment=[\"SearchCoil\"],\n",
    "    enable_eddy_effects=False,\n",
    "    enable_displacement_current=True,\n",
    ")"
   ]
  },
  {
   "cell_type": "markdown",
   "id": "bde29d58",
   "metadata": {},
   "source": [
    "### Add linear parametric sweep\n",
    "\n",
    "Add a linear parametric sweep for the two coil positions."
   ]
  },
  {
   "cell_type": "code",
   "execution_count": 13,
   "id": "69da7783",
   "metadata": {
    "execution": {
     "iopub.execute_input": "2025-10-30T07:36:46.753703Z",
     "iopub.status.busy": "2025-10-30T07:36:46.753703Z",
     "iopub.status.idle": "2025-10-30T07:36:46.912633Z",
     "shell.execute_reply": "2025-10-30T07:36:46.911521Z"
    }
   },
   "outputs": [],
   "source": [
    "sweep_name = \"CoilSweep\"\n",
    "param = m3d.parametrics.add(\n",
    "    variable=\"Coil_Position\",\n",
    "    start_point=-20,\n",
    "    end_point=0,\n",
    "    step=20,\n",
    "    variation_type=\"LinearStep\",\n",
    "    name=sweep_name,\n",
    ")\n",
    "param[\"SaveFields\"] = True\n",
    "param[\"CopyMesh\"] = False\n",
    "param[\"SolveWithCopiedMeshOnly\"] = True"
   ]
  },
  {
   "cell_type": "markdown",
   "id": "cb547e10",
   "metadata": {},
   "source": [
    "### Solve parametric sweep\n",
    "\n",
    "Solve the parametric sweep directly so that results of all variations are available."
   ]
  },
  {
   "cell_type": "code",
   "execution_count": 14,
   "id": "188fb5b2",
   "metadata": {
    "execution": {
     "iopub.execute_input": "2025-10-30T07:36:46.912633Z",
     "iopub.status.busy": "2025-10-30T07:36:46.912633Z",
     "iopub.status.idle": "2025-10-30T07:38:35.679943Z",
     "shell.execute_reply": "2025-10-30T07:38:35.677936Z"
    }
   },
   "outputs": [
    {
     "name": "stdout",
     "output_type": "stream",
     "text": [
      "PyAEDT INFO: Project COMPUMAG Saved correctly\n"
     ]
    },
    {
     "name": "stdout",
     "output_type": "stream",
     "text": [
      "PyAEDT INFO: Project COMPUMAG Saved correctly\n"
     ]
    },
    {
     "name": "stdout",
     "output_type": "stream",
     "text": [
      "PyAEDT INFO: Key Desktop/ActiveDSOConfigurations/Maxwell 3D correctly changed.\n"
     ]
    },
    {
     "name": "stdout",
     "output_type": "stream",
     "text": [
      "PyAEDT INFO: Solving Optimetrics\n"
     ]
    },
    {
     "name": "stdout",
     "output_type": "stream",
     "text": [
      "PyAEDT INFO: Design setup CoilSweep solved correctly in 0.0h 1.0m 48.0s\n"
     ]
    },
    {
     "name": "stdout",
     "output_type": "stream",
     "text": [
      "PyAEDT INFO: Key Desktop/ActiveDSOConfigurations/Maxwell 3D correctly changed.\n"
     ]
    },
    {
     "data": {
      "text/plain": [
       "True"
      ]
     },
     "execution_count": 14,
     "metadata": {},
     "output_type": "execute_result"
    }
   ],
   "source": [
    "m3d.save_project()\n",
    "param.analyze(cores=NUM_CORES)"
   ]
  },
  {
   "cell_type": "markdown",
   "id": "af835c8b",
   "metadata": {},
   "source": [
    "## Postprocess\n",
    "\n",
    "### Create expression for Bz\n",
    "\n",
    "Create an expression for Bz using PyAEDT advanced fields calculator."
   ]
  },
  {
   "cell_type": "code",
   "execution_count": 15,
   "id": "3724c2e7",
   "metadata": {
    "execution": {
     "iopub.execute_input": "2025-10-30T07:38:35.681953Z",
     "iopub.status.busy": "2025-10-30T07:38:35.681953Z",
     "iopub.status.idle": "2025-10-30T07:38:35.900358Z",
     "shell.execute_reply": "2025-10-30T07:38:35.900358Z"
    }
   },
   "outputs": [
    {
     "name": "stdout",
     "output_type": "stream",
     "text": [
      "PyAEDT INFO: Parsing C:\\Users\\ansys\\AppData\\Local\\Temp\\tmpog3ys7ur.ansys\\COMPUMAG.aedt.\n"
     ]
    },
    {
     "name": "stdout",
     "output_type": "stream",
     "text": [
      "PyAEDT INFO: File C:\\Users\\ansys\\AppData\\Local\\Temp\\tmpog3ys7ur.ansys\\COMPUMAG.aedt correctly loaded. Elapsed time: 0m 0sec\n"
     ]
    },
    {
     "name": "stdout",
     "output_type": "stream",
     "text": [
      "PyAEDT INFO: aedt file load time 0.02821516990661621\n"
     ]
    },
    {
     "name": "stdout",
     "output_type": "stream",
     "text": [
      "PyAEDT INFO: PostProcessor class has been initialized! Elapsed time: 0m 0sec\n"
     ]
    },
    {
     "name": "stdout",
     "output_type": "stream",
     "text": [
      "PyAEDT INFO: PostProcessor class has been initialized! Elapsed time: 0m 0sec\n"
     ]
    },
    {
     "name": "stdout",
     "output_type": "stream",
     "text": [
      "PyAEDT INFO: Post class has been initialized! Elapsed time: 0m 0sec\n"
     ]
    },
    {
     "data": {
      "text/plain": [
       "'Bz'"
      ]
     },
     "execution_count": 15,
     "metadata": {},
     "output_type": "execute_result"
    }
   ],
   "source": [
    "bz = {\n",
    "    \"name\": \"Bz\",\n",
    "    \"description\": \"Z component of B\",\n",
    "    \"design_type\": [\"Maxwell 3D\"],\n",
    "    \"fields_type\": [\"Fields\"],\n",
    "    \"primary_sweep\": \"Distance\",\n",
    "    \"assignment\": \"\",\n",
    "    \"assignment_type\": [\"Line\"],\n",
    "    \"operations\": [\n",
    "        \"NameOfExpression('<Bx,By,Bz>')\",\n",
    "        \"Operation('ScalarZ')\",\n",
    "        \"Scalar_Constant(1000)\",\n",
    "        \"Operation('*')\",\n",
    "        \"Operation('Smooth')\",\n",
    "    ],\n",
    "    \"report\": [\"Field_3D\"],\n",
    "}\n",
    "m3d.post.fields_calculator.add_expression(bz, None)"
   ]
  },
  {
   "cell_type": "markdown",
   "id": "0b696ba8",
   "metadata": {},
   "source": [
    "### Plot $|B_z|$ as a function of frequency\n",
    "\n",
    "Plot $|B_z|$ as a function of frequency for both coil positions."
   ]
  },
  {
   "cell_type": "code",
   "execution_count": 16,
   "id": "67b4f1e3",
   "metadata": {
    "execution": {
     "iopub.execute_input": "2025-10-30T07:38:35.904544Z",
     "iopub.status.busy": "2025-10-30T07:38:35.904544Z",
     "iopub.status.idle": "2025-10-30T07:38:39.558163Z",
     "shell.execute_reply": "2025-10-30T07:38:39.556160Z"
    }
   },
   "outputs": [
    {
     "data": {
      "text/plain": [
       "<ansys.aedt.core.visualization.report.field.Fields at 0x207254a2980>"
      ]
     },
     "execution_count": 16,
     "metadata": {},
     "output_type": "execute_result"
    }
   ],
   "source": [
    "variations = {\n",
    "    \"Distance\": [\"All\"],\n",
    "    \"Freq\": [\"All\"],\n",
    "    \"Phase\": [\"0deg\"],\n",
    "    \"Coil_Position\": [\"All\"],\n",
    "}\n",
    "\n",
    "m3d.post.create_report(\n",
    "    expressions=\"mag(Bz)\",\n",
    "    variations=variations,\n",
    "    primary_sweep_variable=\"Distance\",\n",
    "    report_category=\"Fields\",\n",
    "    context=\"Line_AB\",\n",
    "    plot_name=\"mag(Bz) Along 'Line_AB' Coil\",\n",
    ")"
   ]
  },
  {
   "cell_type": "markdown",
   "id": "36d4116b",
   "metadata": {},
   "source": [
    "### Get simulation results from a solved setup\n",
    "\n",
    "Get simulation results from a solved setup as a ``SolutionData`` object."
   ]
  },
  {
   "cell_type": "code",
   "execution_count": 17,
   "id": "5ca4836e",
   "metadata": {
    "execution": {
     "iopub.execute_input": "2025-10-30T07:38:39.560166Z",
     "iopub.status.busy": "2025-10-30T07:38:39.560166Z",
     "iopub.status.idle": "2025-10-30T07:38:39.634965Z",
     "shell.execute_reply": "2025-10-30T07:38:39.634965Z"
    }
   },
   "outputs": [
    {
     "name": "stdout",
     "output_type": "stream",
     "text": [
      "PyAEDT INFO: Solution Data Correctly Loaded.\n"
     ]
    },
    {
     "name": "stdout",
     "output_type": "stream",
     "text": [
      "Time to initialize solution data:0.017771005630493164\n",
      "Time to initialize solution data:0.03157949447631836\n"
     ]
    }
   ],
   "source": [
    "\n",
    "solutions = m3d.post.get_solution_data(\n",
    "    expressions=\"mag(Bz)\",\n",
    "    report_category=\"Fields\",\n",
    "    context=\"Line_AB\",\n",
    "    variations=variations,\n",
    "    primary_sweep_variable=\"Distance\",\n",
    ")"
   ]
  },
  {
   "cell_type": "markdown",
   "id": "2d1d6f28",
   "metadata": {},
   "source": [
    "### Set up sweep value and plot solution"
   ]
  },
  {
   "cell_type": "code",
   "execution_count": 18,
   "id": "ba4bf2fd",
   "metadata": {
    "execution": {
     "iopub.execute_input": "2025-10-30T07:38:39.638980Z",
     "iopub.status.busy": "2025-10-30T07:38:39.638980Z",
     "iopub.status.idle": "2025-10-30T07:38:40.459441Z",
     "shell.execute_reply": "2025-10-30T07:38:40.459441Z"
    }
   },
   "outputs": [
    {
     "name": "stdout",
     "output_type": "stream",
     "text": [
      "PyAEDT ERROR: **************************************************************\n"
     ]
    },
    {
     "name": "stdout",
     "output_type": "stream",
     "text": [
      "PyAEDT ERROR:   File \"C:\\actions-runner\\_work\\_tool\\Python\\3.10.11\\x64\\lib\\runpy.py\", line 196, in _run_module_as_main\n"
     ]
    },
    {
     "name": "stdout",
     "output_type": "stream",
     "text": [
      "PyAEDT ERROR:     return _run_code(code, main_globals, None,\n"
     ]
    },
    {
     "name": "stdout",
     "output_type": "stream",
     "text": [
      "PyAEDT ERROR:   File \"C:\\actions-runner\\_work\\_tool\\Python\\3.10.11\\x64\\lib\\runpy.py\", line 86, in _run_code\n"
     ]
    },
    {
     "name": "stdout",
     "output_type": "stream",
     "text": [
      "PyAEDT ERROR:     exec(code, run_globals)\n"
     ]
    },
    {
     "name": "stdout",
     "output_type": "stream",
     "text": [
      "PyAEDT ERROR:   File \"C:\\actions-runner\\_work\\pyaedt-examples\\pyaedt-examples\\.venv\\lib\\site-packages\\ipykernel_launcher.py\", line 18, in <module>\n"
     ]
    },
    {
     "name": "stdout",
     "output_type": "stream",
     "text": [
      "PyAEDT ERROR:     app.launch_new_instance()\n"
     ]
    },
    {
     "name": "stdout",
     "output_type": "stream",
     "text": [
      "PyAEDT ERROR:   File \"C:\\actions-runner\\_work\\pyaedt-examples\\pyaedt-examples\\.venv\\lib\\site-packages\\traitlets\\config\\application.py\", line 1075, in launch_instance\n"
     ]
    },
    {
     "name": "stdout",
     "output_type": "stream",
     "text": [
      "PyAEDT ERROR:     app.start()\n"
     ]
    },
    {
     "name": "stdout",
     "output_type": "stream",
     "text": [
      "PyAEDT ERROR:   File \"C:\\actions-runner\\_work\\pyaedt-examples\\pyaedt-examples\\.venv\\lib\\site-packages\\ipykernel\\kernelapp.py\", line 758, in start\n"
     ]
    },
    {
     "name": "stdout",
     "output_type": "stream",
     "text": [
      "PyAEDT ERROR:     self.io_loop.start()\n"
     ]
    },
    {
     "name": "stdout",
     "output_type": "stream",
     "text": [
      "PyAEDT ERROR:   File \"C:\\actions-runner\\_work\\pyaedt-examples\\pyaedt-examples\\.venv\\lib\\site-packages\\tornado\\platform\\asyncio.py\", line 211, in start\n"
     ]
    },
    {
     "name": "stdout",
     "output_type": "stream",
     "text": [
      "PyAEDT ERROR:     self.asyncio_loop.run_forever()\n"
     ]
    },
    {
     "name": "stdout",
     "output_type": "stream",
     "text": [
      "PyAEDT ERROR:   File \"C:\\actions-runner\\_work\\_tool\\Python\\3.10.11\\x64\\lib\\asyncio\\base_events.py\", line 603, in run_forever\n"
     ]
    },
    {
     "name": "stdout",
     "output_type": "stream",
     "text": [
      "PyAEDT ERROR:     self._run_once()\n"
     ]
    },
    {
     "name": "stdout",
     "output_type": "stream",
     "text": [
      "PyAEDT ERROR:   File \"C:\\actions-runner\\_work\\_tool\\Python\\3.10.11\\x64\\lib\\asyncio\\base_events.py\", line 1909, in _run_once\n"
     ]
    },
    {
     "name": "stdout",
     "output_type": "stream",
     "text": [
      "PyAEDT ERROR:     handle._run()\n"
     ]
    },
    {
     "name": "stdout",
     "output_type": "stream",
     "text": [
      "PyAEDT ERROR:   File \"C:\\actions-runner\\_work\\_tool\\Python\\3.10.11\\x64\\lib\\asyncio\\events.py\", line 80, in _run\n"
     ]
    },
    {
     "name": "stdout",
     "output_type": "stream",
     "text": [
      "PyAEDT ERROR:     self._context.run(self._callback, *self._args)\n"
     ]
    },
    {
     "name": "stdout",
     "output_type": "stream",
     "text": [
      "PyAEDT ERROR:   File \"C:\\actions-runner\\_work\\pyaedt-examples\\pyaedt-examples\\.venv\\lib\\site-packages\\ipykernel\\utils.py\", line 71, in preserve_context\n"
     ]
    },
    {
     "name": "stdout",
     "output_type": "stream",
     "text": [
      "PyAEDT ERROR:     return await f(*args, **kwargs)\n"
     ]
    },
    {
     "name": "stdout",
     "output_type": "stream",
     "text": [
      "PyAEDT ERROR:   File \"C:\\actions-runner\\_work\\pyaedt-examples\\pyaedt-examples\\.venv\\lib\\site-packages\\ipykernel\\kernelbase.py\", line 614, in shell_main\n"
     ]
    },
    {
     "name": "stdout",
     "output_type": "stream",
     "text": [
      "PyAEDT ERROR:     await self.dispatch_shell(msg, subshell_id=subshell_id)\n"
     ]
    },
    {
     "name": "stdout",
     "output_type": "stream",
     "text": [
      "PyAEDT ERROR:   File \"C:\\actions-runner\\_work\\pyaedt-examples\\pyaedt-examples\\.venv\\lib\\site-packages\\ipykernel\\kernelbase.py\", line 471, in dispatch_shell\n"
     ]
    },
    {
     "name": "stdout",
     "output_type": "stream",
     "text": [
      "PyAEDT ERROR:     await result\n"
     ]
    },
    {
     "name": "stdout",
     "output_type": "stream",
     "text": [
      "PyAEDT ERROR:   File \"C:\\actions-runner\\_work\\pyaedt-examples\\pyaedt-examples\\.venv\\lib\\site-packages\\ipykernel\\ipkernel.py\", line 366, in execute_request\n"
     ]
    },
    {
     "name": "stdout",
     "output_type": "stream",
     "text": [
      "PyAEDT ERROR:     await super().execute_request(stream, ident, parent)\n"
     ]
    },
    {
     "name": "stdout",
     "output_type": "stream",
     "text": [
      "PyAEDT ERROR:   File \"C:\\actions-runner\\_work\\pyaedt-examples\\pyaedt-examples\\.venv\\lib\\site-packages\\ipykernel\\kernelbase.py\", line 827, in execute_request\n"
     ]
    },
    {
     "name": "stdout",
     "output_type": "stream",
     "text": [
      "PyAEDT ERROR:     reply_content = await reply_content\n"
     ]
    },
    {
     "name": "stdout",
     "output_type": "stream",
     "text": [
      "PyAEDT ERROR:   File \"C:\\actions-runner\\_work\\pyaedt-examples\\pyaedt-examples\\.venv\\lib\\site-packages\\ipykernel\\ipkernel.py\", line 458, in do_execute\n"
     ]
    },
    {
     "name": "stdout",
     "output_type": "stream",
     "text": [
      "PyAEDT ERROR:     res = shell.run_cell(\n"
     ]
    },
    {
     "name": "stdout",
     "output_type": "stream",
     "text": [
      "PyAEDT ERROR:   File \"C:\\actions-runner\\_work\\pyaedt-examples\\pyaedt-examples\\.venv\\lib\\site-packages\\ipykernel\\zmqshell.py\", line 663, in run_cell\n"
     ]
    },
    {
     "name": "stdout",
     "output_type": "stream",
     "text": [
      "PyAEDT ERROR:     return super().run_cell(*args, **kwargs)\n"
     ]
    },
    {
     "name": "stdout",
     "output_type": "stream",
     "text": [
      "PyAEDT ERROR:   File \"C:\\Users\\ansys\\AppData\\Local\\Temp\\ipykernel_9084\\3006651278.py\", line 2, in <module>\n"
     ]
    },
    {
     "name": "stdout",
     "output_type": "stream",
     "text": [
      "PyAEDT ERROR:     solutions.plot()\n"
     ]
    },
    {
     "name": "stdout",
     "output_type": "stream",
     "text": [
      "PyAEDT ERROR:   File \"C:\\actions-runner\\_work\\pyaedt-examples\\pyaedt-examples\\.venv\\lib\\site-packages\\ansys\\aedt\\core\\visualization\\post\\solution_data.py\", line 945, in plot\n"
     ]
    },
    {
     "name": "stdout",
     "output_type": "stream",
     "text": [
      "PyAEDT ERROR:     report_plotter = self.get_report_plotter(curves=curves, formula=formula, to_radians=to_radians, props=props)\n"
     ]
    },
    {
     "name": "stdout",
     "output_type": "stream",
     "text": [
      "PyAEDT ERROR:   File \"C:\\actions-runner\\_work\\pyaedt-examples\\pyaedt-examples\\.venv\\lib\\site-packages\\ansys\\aedt\\core\\visualization\\post\\solution_data.py\", line 877, in get_report_plotter\n"
     ]
    },
    {
     "name": "stdout",
     "output_type": "stream",
     "text": [
      "PyAEDT ERROR:     new.add_trace([sw, self._get_data_formula(curve, formula)], name=name, properties=props)\n"
     ]
    },
    {
     "name": "stdout",
     "output_type": "stream",
     "text": [
      "PyAEDT ERROR:   File \"C:\\actions-runner\\_work\\pyaedt-examples\\pyaedt-examples\\.venv\\lib\\site-packages\\ansys\\aedt\\core\\visualization\\plot\\matplotlib.py\", line 916, in add_trace\n"
     ]
    },
    {
     "name": "stdout",
     "output_type": "stream",
     "text": [
      "PyAEDT ERROR:     nt.cartesian_data = plot_data\n"
     ]
    },
    {
     "name": "stdout",
     "output_type": "stream",
     "text": [
      "PyAEDT ERROR:   File \"C:\\actions-runner\\_work\\pyaedt-examples\\pyaedt-examples\\.venv\\lib\\site-packages\\ansys\\aedt\\core\\visualization\\plot\\matplotlib.py\", line 348, in cartesian_data\n"
     ]
    },
    {
     "name": "stdout",
     "output_type": "stream",
     "text": [
      "PyAEDT ERROR:     self._cartesian_data.append(np.zeros(len(val[-1])))\n"
     ]
    },
    {
     "name": "stdout",
     "output_type": "stream",
     "text": [
      "PyAEDT ERROR: Object of type 'nonetype' has no len() on add_trace\n"
     ]
    },
    {
     "name": "stdout",
     "output_type": "stream",
     "text": [
      "PyAEDT ERROR: Method arguments: \n"
     ]
    },
    {
     "name": "stdout",
     "output_type": "stream",
     "text": [
      "PyAEDT ERROR:     plot_data = [array([  0.  ,   0.11,   0.22, ..., 109.78, 109.89, 110.  ], shape=(1001,)), None] \n"
     ]
    },
    {
     "name": "stdout",
     "output_type": "stream",
     "text": [
      "PyAEDT ERROR:     properties = {'x_label': '', 'y_label': ''} \n"
     ]
    },
    {
     "name": "stdout",
     "output_type": "stream",
     "text": [
      "PyAEDT ERROR:     name = (mag(Bz))_Phase=0.0,Freq=50.0 \n"
     ]
    },
    {
     "name": "stdout",
     "output_type": "stream",
     "text": [
      "PyAEDT ERROR: **************************************************************\n"
     ]
    },
    {
     "data": {
      "text/plain": [
       "False"
      ]
     },
     "execution_count": 18,
     "metadata": {},
     "output_type": "execute_result"
    }
   ],
   "source": [
    "solutions.active_variation[\"Coil_Position\"] = -0.02\n",
    "solutions.plot()"
   ]
  },
  {
   "cell_type": "markdown",
   "id": "320cb625",
   "metadata": {},
   "source": [
    "### Change sweep value and plot solution\n",
    "\n",
    "Change the sweep value and plot the solution again.\n",
    "Uncomment to show plots."
   ]
  },
  {
   "cell_type": "code",
   "execution_count": 19,
   "id": "6e9fc051",
   "metadata": {
    "execution": {
     "iopub.execute_input": "2025-10-30T07:38:40.459441Z",
     "iopub.status.busy": "2025-10-30T07:38:40.459441Z",
     "iopub.status.idle": "2025-10-30T07:38:40.475216Z",
     "shell.execute_reply": "2025-10-30T07:38:40.475216Z"
    }
   },
   "outputs": [],
   "source": [
    "solutions.active_variation[\"Coil_Position\"] = 0\n",
    "# solutions.plot()"
   ]
  },
  {
   "cell_type": "markdown",
   "id": "6211bf72",
   "metadata": {},
   "source": [
    "### Plot induced current density on surface of ladder plate\n",
    "\n",
    "Plot the induced current density, ``\"Mag_J\"``, on the surface of the ladder plate."
   ]
  },
  {
   "cell_type": "code",
   "execution_count": 20,
   "id": "822bde81",
   "metadata": {
    "execution": {
     "iopub.execute_input": "2025-10-30T07:38:40.475216Z",
     "iopub.status.busy": "2025-10-30T07:38:40.475216Z",
     "iopub.status.idle": "2025-10-30T07:38:41.269732Z",
     "shell.execute_reply": "2025-10-30T07:38:41.268724Z"
    }
   },
   "outputs": [
    {
     "name": "stdout",
     "output_type": "stream",
     "text": [
      "PyAEDT INFO: Active Design set to TEAM_3_Bath_Plate\n"
     ]
    },
    {
     "data": {
      "text/plain": [
       "<ansys.aedt.core.visualization.post.field_data.FieldPlot at 0x207282a9990>"
      ]
     },
     "execution_count": 20,
     "metadata": {},
     "output_type": "execute_result"
    }
   ],
   "source": [
    "ladder_plate = m3d.modeler.objects_by_name[\"LadderPlate\"]\n",
    "intrinsics = {\"Freq\": \"50Hz\", \"Phase\": \"0deg\"}\n",
    "m3d.post.create_fieldplot_surface(\n",
    "    assignment=ladder_plate.faces,\n",
    "    quantity=\"Mag_J\",\n",
    "    intrinsics=intrinsics,\n",
    "    plot_name=\"Mag_J\",\n",
    ")"
   ]
  },
  {
   "cell_type": "markdown",
   "id": "f95018e6",
   "metadata": {},
   "source": [
    "## Finish\n",
    "\n",
    "### Save the project"
   ]
  },
  {
   "cell_type": "code",
   "execution_count": 21,
   "id": "3599ce53",
   "metadata": {
    "execution": {
     "iopub.execute_input": "2025-10-30T07:38:41.273742Z",
     "iopub.status.busy": "2025-10-30T07:38:41.271738Z",
     "iopub.status.idle": "2025-10-30T07:39:00.471986Z",
     "shell.execute_reply": "2025-10-30T07:39:00.469981Z"
    }
   },
   "outputs": [
    {
     "name": "stdout",
     "output_type": "stream",
     "text": [
      "PyAEDT INFO: Project COMPUMAG Saved correctly\n"
     ]
    },
    {
     "name": "stdout",
     "output_type": "stream",
     "text": [
      "PyAEDT INFO: Desktop has been released and closed.\n"
     ]
    }
   ],
   "source": [
    "m3d.save_project()\n",
    "m3d.release_desktop()\n",
    "# Wait 3 seconds to allow AEDT to shut down before cleaning the temporary directory.\n",
    "time.sleep(3)"
   ]
  },
  {
   "cell_type": "markdown",
   "id": "2ed25be0",
   "metadata": {},
   "source": [
    "### Clean up\n",
    "\n",
    "All project files are saved in the folder ``temp_folder.name``.\n",
    "If you've run this example as a Jupyter notebook, you\n",
    "can retrieve those project files. The following cell\n",
    "removes all temporary files, including the project folder."
   ]
  },
  {
   "cell_type": "code",
   "execution_count": 22,
   "id": "85305d39",
   "metadata": {
    "execution": {
     "iopub.execute_input": "2025-10-30T07:39:00.471986Z",
     "iopub.status.busy": "2025-10-30T07:39:00.471986Z",
     "iopub.status.idle": "2025-10-30T07:39:00.549596Z",
     "shell.execute_reply": "2025-10-30T07:39:00.549596Z"
    }
   },
   "outputs": [],
   "source": [
    "temp_folder.cleanup()"
   ]
  }
 ],
 "metadata": {
  "jupytext": {
   "cell_metadata_filter": "-all",
   "main_language": "python",
   "notebook_metadata_filter": "-all"
  },
  "language_info": {
   "codemirror_mode": {
    "name": "ipython",
    "version": 3
   },
   "file_extension": ".py",
   "mimetype": "text/x-python",
   "name": "python",
   "nbconvert_exporter": "python",
   "pygments_lexer": "ipython3",
   "version": "3.10.11"
  }
 },
 "nbformat": 4,
 "nbformat_minor": 5
}
