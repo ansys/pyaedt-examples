{
 "cells": [
  {
   "cell_type": "markdown",
   "id": "367b2c3b",
   "metadata": {},
   "source": [
    "# Asymmetric conductor analysis\n",
    "\n",
    "This example uses PyAEDT to set up the TEAM 7 problem for an asymmetric\n",
    "conductor with a hole and solve it using the Maxwell 3D eddy current solver.\n",
    "For more information on this problem, see this\n",
    "[paper](https://www.compumag.org/wp/wp-content/uploads/2018/06/problem7.pdf).\n",
    "\n",
    "Keywords: **Maxwell 3D**, **Asymmetric conductor**."
   ]
  },
  {
   "cell_type": "markdown",
   "id": "5e3e4414",
   "metadata": {},
   "source": [
    "## Prerequisites\n",
    "\n",
    "### Perform imports"
   ]
  },
  {
   "cell_type": "code",
   "execution_count": 1,
   "id": "8155ae30",
   "metadata": {
    "execution": {
     "iopub.execute_input": "2025-10-30T07:30:58.733691Z",
     "iopub.status.busy": "2025-10-30T07:30:58.733691Z",
     "iopub.status.idle": "2025-10-30T07:31:01.882329Z",
     "shell.execute_reply": "2025-10-30T07:31:01.882329Z"
    }
   },
   "outputs": [],
   "source": [
    "import os\n",
    "import tempfile\n",
    "import time\n",
    "\n",
    "import numpy as np\n",
    "from ansys.aedt.core import Maxwell3d\n",
    "from ansys.aedt.core.generic.file_utils import write_csv"
   ]
  },
  {
   "cell_type": "markdown",
   "id": "93e8e563",
   "metadata": {},
   "source": [
    "### Define constants\n",
    "Constants help ensure consistency and avoid repetition throughout the example."
   ]
  },
  {
   "cell_type": "code",
   "execution_count": 2,
   "id": "54e4be57",
   "metadata": {
    "execution": {
     "iopub.execute_input": "2025-10-30T07:31:01.882329Z",
     "iopub.status.busy": "2025-10-30T07:31:01.882329Z",
     "iopub.status.idle": "2025-10-30T07:31:01.898310Z",
     "shell.execute_reply": "2025-10-30T07:31:01.898310Z"
    }
   },
   "outputs": [],
   "source": [
    "AEDT_VERSION = \"2025.2\"\n",
    "NUM_CORES = 4\n",
    "NG_MODE = False  # Open AEDT UI when it is launched."
   ]
  },
  {
   "cell_type": "markdown",
   "id": "d3260098",
   "metadata": {},
   "source": [
    "### Create temporary directory\n",
    "\n",
    "Create a temporary working directory.\n",
    "The name of the working folder is stored in ``temp_folder.name``.\n",
    "\n",
    "> **Note:** The final cell in the notebook cleans up the temporary folder. If you want to\n",
    "> retrieve the AEDT project and data, do so before executing the final cell in the notebook."
   ]
  },
  {
   "cell_type": "code",
   "execution_count": 3,
   "id": "10a33c9b",
   "metadata": {
    "execution": {
     "iopub.execute_input": "2025-10-30T07:31:01.898310Z",
     "iopub.status.busy": "2025-10-30T07:31:01.898310Z",
     "iopub.status.idle": "2025-10-30T07:31:01.914020Z",
     "shell.execute_reply": "2025-10-30T07:31:01.914020Z"
    }
   },
   "outputs": [],
   "source": [
    "temp_folder = tempfile.TemporaryDirectory(suffix=\".ansys\")"
   ]
  },
  {
   "cell_type": "markdown",
   "id": "496ebf41",
   "metadata": {},
   "source": [
    "### Launch Maxwell 3D\n",
    "\n",
    "Create an instance of the ``Maxwell3d`` class named ``m3d`` by providing\n",
    "the project and design names, the solver, and the version."
   ]
  },
  {
   "cell_type": "code",
   "execution_count": 4,
   "id": "c7777047",
   "metadata": {
    "execution": {
     "iopub.execute_input": "2025-10-30T07:31:01.914020Z",
     "iopub.status.busy": "2025-10-30T07:31:01.914020Z",
     "iopub.status.idle": "2025-10-30T07:31:31.559223Z",
     "shell.execute_reply": "2025-10-30T07:31:31.559223Z"
    }
   },
   "outputs": [
    {
     "name": "stdout",
     "output_type": "stream",
     "text": [
      "PyAEDT INFO: Python version 3.10.11 (tags/v3.10.11:7d4cc5a, Apr  5 2023, 00:38:17) [MSC v.1929 64 bit (AMD64)].\n"
     ]
    },
    {
     "name": "stdout",
     "output_type": "stream",
     "text": [
      "PyAEDT INFO: PyAEDT version 0.22.dev0.\n"
     ]
    },
    {
     "name": "stdout",
     "output_type": "stream",
     "text": [
      "PyAEDT INFO: Initializing new Desktop session.\n"
     ]
    },
    {
     "name": "stdout",
     "output_type": "stream",
     "text": [
      "PyAEDT INFO: Log on console is enabled.\n"
     ]
    },
    {
     "name": "stdout",
     "output_type": "stream",
     "text": [
      "PyAEDT INFO: Log on file C:\\Users\\ansys\\AppData\\Local\\Temp\\pyaedt_ansys_c4f70f4f-cf60-43b3-bf4b-c23f5811e4ab.log is enabled.\n"
     ]
    },
    {
     "name": "stdout",
     "output_type": "stream",
     "text": [
      "PyAEDT INFO: Log on AEDT is disabled.\n"
     ]
    },
    {
     "name": "stdout",
     "output_type": "stream",
     "text": [
      "PyAEDT INFO: Debug logger is disabled. PyAEDT methods will not be logged.\n"
     ]
    },
    {
     "name": "stdout",
     "output_type": "stream",
     "text": [
      "PyAEDT INFO: Launching PyAEDT with gRPC plugin.\n"
     ]
    },
    {
     "name": "stdout",
     "output_type": "stream",
     "text": [
      "PyAEDT INFO: New AEDT session is starting on gRPC port 54732.\n"
     ]
    },
    {
     "name": "stdout",
     "output_type": "stream",
     "text": [
      "PyAEDT INFO: Electronics Desktop started on gRPC port: 54732 after 10.873698949813843 seconds.\n"
     ]
    },
    {
     "name": "stdout",
     "output_type": "stream",
     "text": [
      "PyAEDT INFO: AEDT installation Path C:\\Program Files\\ANSYS Inc\\v252\\AnsysEM\n"
     ]
    },
    {
     "name": "stdout",
     "output_type": "stream",
     "text": [
      "PyAEDT INFO: Ansoft.ElectronicsDesktop.2025.2 version started with process ID 4660.\n"
     ]
    },
    {
     "name": "stdout",
     "output_type": "stream",
     "text": [
      "PyAEDT INFO: Project COMPUMAG2 has been created.\n"
     ]
    },
    {
     "name": "stdout",
     "output_type": "stream",
     "text": [
      "PyAEDT INFO: Added design 'TEAM_7_Asymmetric_Conductor' of type Maxwell 3D.\n"
     ]
    },
    {
     "name": "stdout",
     "output_type": "stream",
     "text": [
      "PyAEDT INFO: Aedt Objects correctly read\n"
     ]
    },
    {
     "name": "stdout",
     "output_type": "stream",
     "text": [
      "PyAEDT INFO: Modeler class has been initialized! Elapsed time: 0m 1sec\n"
     ]
    }
   ],
   "source": [
    "project_name = os.path.join(temp_folder.name, \"COMPUMAG2.aedt\")\n",
    "m3d = Maxwell3d(\n",
    "    project=project_name,\n",
    "    design=\"TEAM_7_Asymmetric_Conductor\",\n",
    "    solution_type=\"EddyCurrent\",\n",
    "    version=AEDT_VERSION,\n",
    "    non_graphical=NG_MODE,\n",
    "    new_desktop=True,\n",
    ")\n",
    "m3d.modeler.model_units = \"mm\""
   ]
  },
  {
   "cell_type": "markdown",
   "id": "00708d4c",
   "metadata": {},
   "source": [
    "## Model Preparation\n",
    "\n",
    "### Define the Maxwell 3D analysis setup\n",
    "\n",
    "Add a Maxwell 3D setup with frequency points at DC, 50 Hz, and 200Hz.\n",
    "Otherwise, the default PyAEDT setup values are used. To approximate a DC field in the\n",
    "eddy current solver, use a low frequency value. Second-order shape functions improve\n",
    "the smoothness of the induced currents in the plate."
   ]
  },
  {
   "cell_type": "code",
   "execution_count": 5,
   "id": "201bef04",
   "metadata": {
    "execution": {
     "iopub.execute_input": "2025-10-30T07:31:31.559223Z",
     "iopub.status.busy": "2025-10-30T07:31:31.559223Z",
     "iopub.status.idle": "2025-10-30T07:31:31.638377Z",
     "shell.execute_reply": "2025-10-30T07:31:31.638377Z"
    }
   },
   "outputs": [
    {
     "name": "stdout",
     "output_type": "stream",
     "text": [
      "PyAEDT INFO: Parsing C:\\Users\\ansys\\AppData\\Local\\Temp\\tmp6qwz92xu.ansys\\COMPUMAG2.aedt.\n"
     ]
    },
    {
     "name": "stdout",
     "output_type": "stream",
     "text": [
      "PyAEDT INFO: File C:\\Users\\ansys\\AppData\\Local\\Temp\\tmp6qwz92xu.ansys\\COMPUMAG2.aedt correctly loaded. Elapsed time: 0m 0sec\n"
     ]
    },
    {
     "name": "stdout",
     "output_type": "stream",
     "text": [
      "PyAEDT INFO: aedt file load time 0.01588153839111328\n"
     ]
    }
   ],
   "source": [
    "dc_freq = 0.1\n",
    "stop_freq = 50\n",
    "\n",
    "setup = m3d.create_setup(name=\"Setup1\")\n",
    "setup.props[\"Frequency\"] = \"200Hz\"\n",
    "setup.props[\"HasSweepSetup\"] = True\n",
    "setup.add_eddy_current_sweep(\n",
    "    sweep_type=\"LinearStep\",\n",
    "    start_frequency=dc_freq,\n",
    "    stop_frequency=stop_freq,\n",
    "    step_size=stop_freq - dc_freq,\n",
    "    clear=True,\n",
    ")\n",
    "setup.props[\"UseHighOrderShapeFunc\"] = True\n",
    "setup.props[\"PercentError\"] = 0.4"
   ]
  },
  {
   "cell_type": "markdown",
   "id": "cc334180",
   "metadata": {},
   "source": [
    "### Define coil dimensions\n",
    "\n",
    "Define coil dimensions as shown on the TEAM7 drawing of the coil."
   ]
  },
  {
   "cell_type": "code",
   "execution_count": 6,
   "id": "fdef4477",
   "metadata": {
    "execution": {
     "iopub.execute_input": "2025-10-30T07:31:31.638377Z",
     "iopub.status.busy": "2025-10-30T07:31:31.638377Z",
     "iopub.status.idle": "2025-10-30T07:31:31.654177Z",
     "shell.execute_reply": "2025-10-30T07:31:31.654177Z"
    }
   },
   "outputs": [],
   "source": [
    "coil_external = 150 + 25 + 25\n",
    "coil_internal = 150\n",
    "coil_r1 = 25\n",
    "coil_r2 = 50\n",
    "coil_thk = coil_r2 - coil_r1\n",
    "coil_height = 100\n",
    "coil_centre = [294 - 25 - 150 / 2, 25 + 150 / 2, 19 + 30 + 100 / 2]"
   ]
  },
  {
   "cell_type": "markdown",
   "id": "c7c5fc1a",
   "metadata": {},
   "source": [
    "### Define expressions to evaluate solution data\n",
    "Use expressions to construct the three dimensions needed to describe the midpoints of\n",
    "the coil."
   ]
  },
  {
   "cell_type": "code",
   "execution_count": 7,
   "id": "dcdce297",
   "metadata": {
    "execution": {
     "iopub.execute_input": "2025-10-30T07:31:31.654177Z",
     "iopub.status.busy": "2025-10-30T07:31:31.654177Z",
     "iopub.status.idle": "2025-10-30T07:31:31.669959Z",
     "shell.execute_reply": "2025-10-30T07:31:31.669959Z"
    }
   },
   "outputs": [],
   "source": [
    "dim1 = coil_internal / 2 + (coil_external - coil_internal) / 4\n",
    "dim2 = coil_internal / 2 - coil_r1\n",
    "dim3 = dim2 + np.sqrt(((coil_r1 + (coil_r2 - coil_r1) / 2) ** 2) / 2)"
   ]
  },
  {
   "cell_type": "markdown",
   "id": "578ff31c",
   "metadata": {},
   "source": [
    "### Draw the coil\n",
    "Use coordinates to draw a polyline along which to sweep the coil cross sections."
   ]
  },
  {
   "cell_type": "code",
   "execution_count": 8,
   "id": "c4b54746",
   "metadata": {
    "execution": {
     "iopub.execute_input": "2025-10-30T07:31:31.669959Z",
     "iopub.status.busy": "2025-10-30T07:31:31.669959Z",
     "iopub.status.idle": "2025-10-30T07:31:31.686092Z",
     "shell.execute_reply": "2025-10-30T07:31:31.686092Z"
    }
   },
   "outputs": [],
   "source": [
    "P1 = [dim1, -dim2, 0]\n",
    "P2 = [dim1, dim2, 0]\n",
    "P3 = [dim3, dim3, 0]\n",
    "P4 = [dim2, dim1, 0]"
   ]
  },
  {
   "cell_type": "markdown",
   "id": "2a4c5eac",
   "metadata": {},
   "source": [
    "Create a coordinate system to use as a reference for the coil."
   ]
  },
  {
   "cell_type": "code",
   "execution_count": 9,
   "id": "d8714149",
   "metadata": {
    "execution": {
     "iopub.execute_input": "2025-10-30T07:31:31.686092Z",
     "iopub.status.busy": "2025-10-30T07:31:31.686092Z",
     "iopub.status.idle": "2025-10-30T07:31:31.718003Z",
     "shell.execute_reply": "2025-10-30T07:31:31.718003Z"
    }
   },
   "outputs": [
    {
     "data": {
      "text/plain": [
       "<ansys.aedt.core.modeler.cad.modeler.CoordinateSystem at 0x1cd07a3aec0>"
      ]
     },
     "execution_count": 9,
     "metadata": {},
     "output_type": "execute_result"
    }
   ],
   "source": [
    "m3d.modeler.create_coordinate_system(\n",
    "    origin=coil_centre, mode=\"view\", view=\"XY\", name=\"Coil_CS\"\n",
    ")"
   ]
  },
  {
   "cell_type": "markdown",
   "id": "242688da",
   "metadata": {},
   "source": [
    "Create a polyline. One quarter of the coil is modeled by sweeping a 2D sheet along a polyline."
   ]
  },
  {
   "cell_type": "code",
   "execution_count": 10,
   "id": "8222c82d",
   "metadata": {
    "execution": {
     "iopub.execute_input": "2025-10-30T07:31:31.718003Z",
     "iopub.status.busy": "2025-10-30T07:31:31.718003Z",
     "iopub.status.idle": "2025-10-30T07:31:44.320757Z",
     "shell.execute_reply": "2025-10-30T07:31:44.320757Z"
    }
   },
   "outputs": [
    {
     "name": "stdout",
     "output_type": "stream",
     "text": [
      "PyAEDT INFO: Materials class has been initialized! Elapsed time: 0m 0sec\n"
     ]
    },
    {
     "data": {
      "text/plain": [
       "True"
      ]
     },
     "execution_count": 10,
     "metadata": {},
     "output_type": "execute_result"
    }
   ],
   "source": [
    "test = m3d.modeler.create_polyline(\n",
    "    points=[P1, P2, P3, P4], segment_type=[\"Line\", \"Arc\"], name=\"Coil\"\n",
    ")\n",
    "test.set_crosssection_properties(section=\"Rectangle\", width=coil_thk, height=coil_height)"
   ]
  },
  {
   "cell_type": "markdown",
   "id": "84a01af3",
   "metadata": {},
   "source": [
    "Duplicate and unite the polyline to create the full coil."
   ]
  },
  {
   "cell_type": "code",
   "execution_count": 11,
   "id": "d2c1dbc9",
   "metadata": {
    "execution": {
     "iopub.execute_input": "2025-10-30T07:31:44.320757Z",
     "iopub.status.busy": "2025-10-30T07:31:44.320757Z",
     "iopub.status.idle": "2025-10-30T07:31:44.558973Z",
     "shell.execute_reply": "2025-10-30T07:31:44.558973Z"
    }
   },
   "outputs": [
    {
     "name": "stdout",
     "output_type": "stream",
     "text": [
      "PyAEDT INFO: Parsing design objects. This operation can take time\n"
     ]
    },
    {
     "name": "stdout",
     "output_type": "stream",
     "text": [
      "PyAEDT INFO: Refreshing bodies from Object Info\n"
     ]
    },
    {
     "name": "stdout",
     "output_type": "stream",
     "text": [
      "PyAEDT INFO: Bodies Info Refreshed Elapsed time: 0m 0sec\n"
     ]
    },
    {
     "name": "stdout",
     "output_type": "stream",
     "text": [
      "PyAEDT INFO: 3D Modeler objects parsed. Elapsed time: 0m 0sec\n"
     ]
    },
    {
     "name": "stdout",
     "output_type": "stream",
     "text": [
      "PyAEDT INFO: Union of 20 objects has been executed.\n"
     ]
    },
    {
     "name": "stdout",
     "output_type": "stream",
     "text": [
      "PyAEDT INFO: Parsing design objects. This operation can take time\n"
     ]
    },
    {
     "name": "stdout",
     "output_type": "stream",
     "text": [
      "PyAEDT INFO: Refreshing bodies from Object Info\n"
     ]
    },
    {
     "name": "stdout",
     "output_type": "stream",
     "text": [
      "PyAEDT INFO: Bodies Info Refreshed Elapsed time: 0m 0sec\n"
     ]
    },
    {
     "name": "stdout",
     "output_type": "stream",
     "text": [
      "PyAEDT INFO: 3D Modeler objects parsed. Elapsed time: 0m 0sec\n"
     ]
    },
    {
     "name": "stdout",
     "output_type": "stream",
     "text": [
      "PyAEDT INFO: Union of 12 objects has been executed.\n"
     ]
    }
   ],
   "source": [
    "m3d.modeler.duplicate_around_axis(\n",
    "    assignment=\"Coil\",\n",
    "    axis=\"Global\",\n",
    "    angle=90,\n",
    "    clones=4,\n",
    "    create_new_objects=True,\n",
    "    is_3d_comp=False,\n",
    ")\n",
    "m3d.modeler.unite(\"Coil, Coil_1, Coil_2\")\n",
    "m3d.modeler.unite(\"Coil, Coil_3\")\n",
    "m3d.modeler.fit_all()"
   ]
  },
  {
   "cell_type": "markdown",
   "id": "992fd6fa",
   "metadata": {},
   "source": [
    "### Assign material and enable the field solution inside the copper coil\n",
    "\n",
    "Assign the material ``Cooper`` from the Maxwell internal library to the coil and\n",
    "allow a solution inside the coil."
   ]
  },
  {
   "cell_type": "code",
   "execution_count": 12,
   "id": "6c263ad9",
   "metadata": {
    "execution": {
     "iopub.execute_input": "2025-10-30T07:31:44.558973Z",
     "iopub.status.busy": "2025-10-30T07:31:44.558973Z",
     "iopub.status.idle": "2025-10-30T07:31:45.129952Z",
     "shell.execute_reply": "2025-10-30T07:31:45.129952Z"
    }
   },
   "outputs": [
    {
     "data": {
      "text/plain": [
       "True"
      ]
     },
     "execution_count": 12,
     "metadata": {},
     "output_type": "execute_result"
    }
   ],
   "source": [
    "m3d.assign_material(assignment=\"Coil\", material=\"Copper\")\n",
    "m3d.solve_inside(\"Coil\")"
   ]
  },
  {
   "cell_type": "markdown",
   "id": "34cf859c",
   "metadata": {},
   "source": [
    "### Create terminal\n",
    "\n",
    "Create a terminal for the coil from a cross-section that is split and one half deleted."
   ]
  },
  {
   "cell_type": "code",
   "execution_count": 13,
   "id": "0f3c29cd",
   "metadata": {
    "execution": {
     "iopub.execute_input": "2025-10-30T07:31:45.129952Z",
     "iopub.status.busy": "2025-10-30T07:31:45.129952Z",
     "iopub.status.idle": "2025-10-30T07:31:45.445967Z",
     "shell.execute_reply": "2025-10-30T07:31:45.445967Z"
    }
   },
   "outputs": [
    {
     "name": "stdout",
     "output_type": "stream",
     "text": [
      "PyAEDT INFO: Parsing design objects. This operation can take time\n"
     ]
    },
    {
     "name": "stdout",
     "output_type": "stream",
     "text": [
      "PyAEDT INFO: Refreshing bodies from Object Info\n"
     ]
    },
    {
     "name": "stdout",
     "output_type": "stream",
     "text": [
      "PyAEDT INFO: Bodies Info Refreshed Elapsed time: 0m 0sec\n"
     ]
    },
    {
     "name": "stdout",
     "output_type": "stream",
     "text": [
      "PyAEDT INFO: 3D Modeler objects parsed. Elapsed time: 0m 0sec\n"
     ]
    },
    {
     "name": "stdout",
     "output_type": "stream",
     "text": [
      "PyAEDT INFO: Deleted 1 Objects: Coil_Section1_Separate1.\n"
     ]
    },
    {
     "data": {
      "text/plain": [
       "True"
      ]
     },
     "execution_count": 13,
     "metadata": {},
     "output_type": "execute_result"
    }
   ],
   "source": [
    "m3d.modeler.section(assignment=\"Coil\", plane=\"YZ\")\n",
    "m3d.modeler.separate_bodies(assignment=\"Coil_Section1\")\n",
    "m3d.modeler.delete(assignment=\"Coil_Section1_Separate1\")"
   ]
  },
  {
   "cell_type": "markdown",
   "id": "ec8a66ba",
   "metadata": {},
   "source": [
    "### Add variable for coil excitation\n",
    "\n",
    "Use a parameter to define the coil current.\n",
    "The units in this case are Ampere$\\times$Turns."
   ]
  },
  {
   "cell_type": "code",
   "execution_count": 14,
   "id": "4081fd9d",
   "metadata": {
    "execution": {
     "iopub.execute_input": "2025-10-30T07:31:45.449338Z",
     "iopub.status.busy": "2025-10-30T07:31:45.449338Z",
     "iopub.status.idle": "2025-10-30T07:31:45.509307Z",
     "shell.execute_reply": "2025-10-30T07:31:45.509307Z"
    }
   },
   "outputs": [
    {
     "name": "stdout",
     "output_type": "stream",
     "text": [
      "PyAEDT INFO: Boundary Current Current_2NFNYE has been created.\n"
     ]
    },
    {
     "data": {
      "text/plain": [
       "True"
      ]
     },
     "execution_count": 14,
     "metadata": {},
     "output_type": "execute_result"
    }
   ],
   "source": [
    "Coil_Excitation = 2742\n",
    "m3d[\"Coil_Excitation\"] = str(Coil_Excitation) + \"A\"\n",
    "m3d.assign_current(assignment=\"Coil_Section1\", amplitude=\"Coil_Excitation\", solid=False)\n",
    "m3d.modeler.set_working_coordinate_system(\"Global\")"
   ]
  },
  {
   "cell_type": "markdown",
   "id": "883b6fbe",
   "metadata": {},
   "source": [
    "### Add material\n",
    "\n",
    "Add a material named ``team3_aluminium``."
   ]
  },
  {
   "cell_type": "code",
   "execution_count": 15,
   "id": "4f138a97",
   "metadata": {
    "execution": {
     "iopub.execute_input": "2025-10-30T07:31:45.509307Z",
     "iopub.status.busy": "2025-10-30T07:31:45.509307Z",
     "iopub.status.idle": "2025-10-30T07:31:45.541028Z",
     "shell.execute_reply": "2025-10-30T07:31:45.541028Z"
    }
   },
   "outputs": [
    {
     "name": "stdout",
     "output_type": "stream",
     "text": [
      "PyAEDT INFO: Adding new material to the Project Library: team7_aluminium\n"
     ]
    },
    {
     "name": "stdout",
     "output_type": "stream",
     "text": [
      "PyAEDT INFO: Material has been added in Desktop.\n"
     ]
    }
   ],
   "source": [
    "mat = m3d.materials.add_material(\"team7_aluminium\")\n",
    "mat.conductivity = 3.526e7"
   ]
  },
  {
   "cell_type": "markdown",
   "id": "82a0dc3a",
   "metadata": {},
   "source": [
    "### Create the aluminium plate with a hole\n",
    "\n",
    "Draw the aluminium plate with a hole by subtracting two cuboids."
   ]
  },
  {
   "cell_type": "code",
   "execution_count": 16,
   "id": "bc941c8d",
   "metadata": {
    "execution": {
     "iopub.execute_input": "2025-10-30T07:31:45.541028Z",
     "iopub.status.busy": "2025-10-30T07:31:45.541028Z",
     "iopub.status.idle": "2025-10-30T07:31:45.684014Z",
     "shell.execute_reply": "2025-10-30T07:31:45.684014Z"
    }
   },
   "outputs": [
    {
     "name": "stdout",
     "output_type": "stream",
     "text": [
      "PyAEDT INFO: Parsing design objects. This operation can take time\n"
     ]
    },
    {
     "name": "stdout",
     "output_type": "stream",
     "text": [
      "PyAEDT INFO: Refreshing bodies from Object Info\n"
     ]
    },
    {
     "name": "stdout",
     "output_type": "stream",
     "text": [
      "PyAEDT INFO: Bodies Info Refreshed Elapsed time: 0m 0sec\n"
     ]
    },
    {
     "name": "stdout",
     "output_type": "stream",
     "text": [
      "PyAEDT INFO: 3D Modeler objects parsed. Elapsed time: 0m 0sec\n"
     ]
    },
    {
     "data": {
      "text/plain": [
       "True"
      ]
     },
     "execution_count": 16,
     "metadata": {},
     "output_type": "execute_result"
    }
   ],
   "source": [
    "plate = m3d.modeler.create_box(\n",
    "    origin=[0, 0, 0], sizes=[294, 294, 19], name=\"Plate\", material=\"team7_aluminium\"\n",
    ")\n",
    "m3d.modeler.fit_all()\n",
    "hole = m3d.modeler.create_box(origin=[18, 18, 0], sizes=[108, 108, 19], name=\"Hole\")\n",
    "m3d.modeler.subtract(blank_list=\"Plate\", tool_list=[\"Hole\"], keep_originals=False)"
   ]
  },
  {
   "cell_type": "markdown",
   "id": "30a84f5c",
   "metadata": {},
   "source": [
    "### Draw background region\n",
    "\n",
    "The background air region defines the full volumetric solution domain."
   ]
  },
  {
   "cell_type": "code",
   "execution_count": 17,
   "id": "75b28b1e",
   "metadata": {
    "execution": {
     "iopub.execute_input": "2025-10-30T07:31:45.684014Z",
     "iopub.status.busy": "2025-10-30T07:31:45.684014Z",
     "iopub.status.idle": "2025-10-30T07:31:45.984559Z",
     "shell.execute_reply": "2025-10-30T07:31:45.984559Z"
    }
   },
   "outputs": [
    {
     "data": {
      "text/plain": [
       "<ansys.aedt.core.modeler.cad.object_3d.Object3d at 0x1cd16d61a80>"
      ]
     },
     "execution_count": 17,
     "metadata": {},
     "output_type": "execute_result"
    }
   ],
   "source": [
    "m3d.modeler.create_air_region(\n",
    "    x_pos=100, y_pos=100, z_pos=100, x_neg=100, y_neg=100, z_neg=100\n",
    ")"
   ]
  },
  {
   "cell_type": "markdown",
   "id": "0a4c704c",
   "metadata": {},
   "source": [
    "### Adjust eddy effects for plate and coil\n",
    "\n",
    "Disable the eddy effects for the plate and coil. This forces the current to flow uniformly through the coils cross-section as would be the case for stranded wires."
   ]
  },
  {
   "cell_type": "code",
   "execution_count": 18,
   "id": "31a2dab9",
   "metadata": {
    "execution": {
     "iopub.execute_input": "2025-10-30T07:31:45.984559Z",
     "iopub.status.busy": "2025-10-30T07:31:45.984559Z",
     "iopub.status.idle": "2025-10-30T07:31:46.174321Z",
     "shell.execute_reply": "2025-10-30T07:31:46.174321Z"
    }
   },
   "outputs": [
    {
     "data": {
      "text/plain": [
       "True"
      ]
     },
     "execution_count": 18,
     "metadata": {},
     "output_type": "execute_result"
    }
   ],
   "source": [
    "m3d.eddy_effects_on(assignment=\"Plate\")\n",
    "m3d.eddy_effects_on(\n",
    "    assignment=[\"Coil\", \"Region\", \"Line_A1_B1mesh\", \"Line_A2_B2mesh\"],\n",
    "    enable_eddy_effects=False,\n",
    "    enable_displacement_current=False,\n",
    ")"
   ]
  },
  {
   "cell_type": "markdown",
   "id": "50ff39c0",
   "metadata": {},
   "source": [
    "### Create expression for $B_z$ in Gauss\n",
    "\n",
    "Create an expression for the $z$-component of $\\bf{B}$ in Gauss using PyAEDT advanced fields calculator."
   ]
  },
  {
   "cell_type": "code",
   "execution_count": 19,
   "id": "73ff29ea",
   "metadata": {
    "execution": {
     "iopub.execute_input": "2025-10-30T07:31:46.174321Z",
     "iopub.status.busy": "2025-10-30T07:31:46.174321Z",
     "iopub.status.idle": "2025-10-30T07:31:46.348685Z",
     "shell.execute_reply": "2025-10-30T07:31:46.348685Z"
    }
   },
   "outputs": [
    {
     "name": "stdout",
     "output_type": "stream",
     "text": [
      "PyAEDT INFO: PostProcessor class has been initialized! Elapsed time: 0m 0sec\n"
     ]
    },
    {
     "name": "stdout",
     "output_type": "stream",
     "text": [
      "PyAEDT INFO: PostProcessor class has been initialized! Elapsed time: 0m 0sec\n"
     ]
    },
    {
     "name": "stdout",
     "output_type": "stream",
     "text": [
      "PyAEDT INFO: Post class has been initialized! Elapsed time: 0m 0sec\n"
     ]
    },
    {
     "data": {
      "text/plain": [
       "'Bz'"
      ]
     },
     "execution_count": 19,
     "metadata": {},
     "output_type": "execute_result"
    }
   ],
   "source": [
    "bz = {\n",
    "    \"name\": \"Bz\",\n",
    "    \"description\": \"Z component of B in Gauss\",\n",
    "    \"design_type\": [\"Maxwell 3D\"],\n",
    "    \"fields_type\": [\"Fields\"],\n",
    "    \"primary_sweep\": \"Distance\",\n",
    "    \"assignment\": \"\",\n",
    "    \"assignment_type\": [\"Line\"],\n",
    "    \"operations\": [\n",
    "        \"NameOfExpression('<Bx,By,Bz>')\",\n",
    "        \"Operation('ScalarZ')\",\n",
    "        \"Scalar_Function(FuncValue='Phase')\",\n",
    "        \"Operation('AtPhase')\",\n",
    "        \"Scalar_Constant(10000)\",\n",
    "        \"Operation('*')\",\n",
    "        \"Operation('Smooth')\",\n",
    "    ],\n",
    "    \"report\": [\"Field_3D\"],\n",
    "}\n",
    "m3d.post.fields_calculator.add_expression(bz, None)"
   ]
  },
  {
   "cell_type": "markdown",
   "id": "a7dd6ef6",
   "metadata": {},
   "source": [
    "### Draw two lines along which to plot $B_z$\n",
    "\n",
    "Draw two lines along which to plot Bz. The following code also adds a small cylinder\n",
    "to refine the mesh locally around each line."
   ]
  },
  {
   "cell_type": "code",
   "execution_count": 20,
   "id": "5e65de0a",
   "metadata": {
    "execution": {
     "iopub.execute_input": "2025-10-30T07:31:46.348685Z",
     "iopub.status.busy": "2025-10-30T07:31:46.348685Z",
     "iopub.status.idle": "2025-10-30T07:31:46.459275Z",
     "shell.execute_reply": "2025-10-30T07:31:46.459275Z"
    }
   },
   "outputs": [
    {
     "data": {
      "text/plain": [
       "True"
      ]
     },
     "execution_count": 20,
     "metadata": {},
     "output_type": "execute_result"
    }
   ],
   "source": [
    "lines = [\"Line_A1_B1\", \"Line_A2_B2\"]\n",
    "mesh_diameter = \"2mm\"\n",
    "\n",
    "line_points_1 = [[\"0mm\", \"72mm\", \"34mm\"], [\"288mm\", \"72mm\", \"34mm\"]]\n",
    "polyline = m3d.modeler.create_polyline(points=line_points_1, name=lines[0])\n",
    "l1_mesh = m3d.modeler.create_polyline(points=line_points_1, name=lines[0] + \"mesh\")\n",
    "l1_mesh.set_crosssection_properties(section=\"Circle\", width=mesh_diameter)\n",
    "\n",
    "line_points_2 = [[\"0mm\", \"144mm\", \"34mm\"], [\"288mm\", \"144mm\", \"34mm\"]]\n",
    "polyline2 = m3d.modeler.create_polyline(points=line_points_2, name=lines[1])\n",
    "l2_mesh = m3d.modeler.create_polyline(points=line_points_2, name=lines[1] + \"mesh\")\n",
    "l2_mesh.set_crosssection_properties(section=\"Circle\", width=mesh_diameter)"
   ]
  },
  {
   "cell_type": "markdown",
   "id": "40772c9b",
   "metadata": {},
   "source": [
    "Published measurement results are included with this script via the following list.\n",
    "Test results are used to create text files for import into a rectangular plot\n",
    "and to overlay simulation results."
   ]
  },
  {
   "cell_type": "code",
   "execution_count": 21,
   "id": "355d8c5e",
   "metadata": {
    "execution": {
     "iopub.execute_input": "2025-10-30T07:31:46.459275Z",
     "iopub.status.busy": "2025-10-30T07:31:46.459275Z",
     "iopub.status.idle": "2025-10-30T07:31:46.490863Z",
     "shell.execute_reply": "2025-10-30T07:31:46.490863Z"
    }
   },
   "outputs": [],
   "source": [
    "project_dir = temp_folder.name\n",
    "dataset = [\n",
    "    \"Bz A1_B1 000 0\",\n",
    "    \"Bz A1_B1 050 0\",\n",
    "    \"Bz A1_B1 050 90\",\n",
    "    \"Bz A1_B1 200 0\",\n",
    "    \"Bz A1_B1 200 90\",\n",
    "    \"Bz A2_B2 050 0\",\n",
    "    \"Bz A2_B2 050 90\",\n",
    "    \"Bz A2_B2 200 0\",\n",
    "    \"Bz A2_B2 200 90\",\n",
    "]\n",
    "header = [\"Distance [mm]\", \"Bz [Tesla]\"]\n",
    "\n",
    "line_length = [\n",
    "    0,\n",
    "    18,\n",
    "    36,\n",
    "    54,\n",
    "    72,\n",
    "    90,\n",
    "    108,\n",
    "    126,\n",
    "    144,\n",
    "    162,\n",
    "    180,\n",
    "    198,\n",
    "    216,\n",
    "    234,\n",
    "    252,\n",
    "    270,\n",
    "    288,\n",
    "]\n",
    "data = [\n",
    "    [\n",
    "        -6.667,\n",
    "        -7.764,\n",
    "        -8.707,\n",
    "        -8.812,\n",
    "        -5.870,\n",
    "        8.713,\n",
    "        50.40,\n",
    "        88.47,\n",
    "        100.9,\n",
    "        104.0,\n",
    "        104.8,\n",
    "        104.9,\n",
    "        104.6,\n",
    "        103.1,\n",
    "        97.32,\n",
    "        75.19,\n",
    "        29.04,\n",
    "    ],\n",
    "    [\n",
    "        4.90,\n",
    "        -17.88,\n",
    "        -22.13,\n",
    "        -20.19,\n",
    "        -15.67,\n",
    "        0.36,\n",
    "        43.64,\n",
    "        78.11,\n",
    "        71.55,\n",
    "        60.44,\n",
    "        53.91,\n",
    "        52.62,\n",
    "        53.81,\n",
    "        56.91,\n",
    "        59.24,\n",
    "        52.78,\n",
    "        27.61,\n",
    "    ],\n",
    "    [\n",
    "        -1.16,\n",
    "        2.84,\n",
    "        4.15,\n",
    "        4.00,\n",
    "        3.07,\n",
    "        2.31,\n",
    "        1.89,\n",
    "        4.97,\n",
    "        12.61,\n",
    "        14.15,\n",
    "        13.04,\n",
    "        12.40,\n",
    "        12.05,\n",
    "        12.27,\n",
    "        12.66,\n",
    "        9.96,\n",
    "        2.36,\n",
    "    ],\n",
    "    [\n",
    "        -3.63,\n",
    "        -18.46,\n",
    "        -23.62,\n",
    "        -21.59,\n",
    "        -16.09,\n",
    "        0.23,\n",
    "        44.35,\n",
    "        75.53,\n",
    "        63.42,\n",
    "        53.20,\n",
    "        48.66,\n",
    "        47.31,\n",
    "        48.31,\n",
    "        51.26,\n",
    "        53.61,\n",
    "        46.11,\n",
    "        24.96,\n",
    "    ],\n",
    "    [\n",
    "        -1.38,\n",
    "        1.20,\n",
    "        2.15,\n",
    "        1.63,\n",
    "        1.10,\n",
    "        0.27,\n",
    "        -2.28,\n",
    "        -1.40,\n",
    "        4.17,\n",
    "        3.94,\n",
    "        4.86,\n",
    "        4.09,\n",
    "        3.69,\n",
    "        4.60,\n",
    "        3.48,\n",
    "        4.10,\n",
    "        0.98,\n",
    "    ],\n",
    "    [\n",
    "        -1.83,\n",
    "        -8.50,\n",
    "        -13.60,\n",
    "        -15.21,\n",
    "        -14.48,\n",
    "        -5.62,\n",
    "        28.77,\n",
    "        60.34,\n",
    "        61.84,\n",
    "        56.64,\n",
    "        53.40,\n",
    "        52.36,\n",
    "        53.93,\n",
    "        56.82,\n",
    "        59.48,\n",
    "        52.08,\n",
    "        26.56,\n",
    "    ],\n",
    "    [\n",
    "        -1.63,\n",
    "        -0.60,\n",
    "        -0.43,\n",
    "        0.11,\n",
    "        1.26,\n",
    "        3.40,\n",
    "        6.53,\n",
    "        10.25,\n",
    "        11.83,\n",
    "        11.83,\n",
    "        11.01,\n",
    "        10.58,\n",
    "        10.80,\n",
    "        10.54,\n",
    "        10.62,\n",
    "        9.03,\n",
    "        1.79,\n",
    "    ],\n",
    "    [\n",
    "        -0.86,\n",
    "        -7.00,\n",
    "        -11.58,\n",
    "        -13.36,\n",
    "        -13.77,\n",
    "        -6.74,\n",
    "        24.63,\n",
    "        53.19,\n",
    "        54.89,\n",
    "        50.72,\n",
    "        48.03,\n",
    "        47.13,\n",
    "        48.25,\n",
    "        51.35,\n",
    "        53.35,\n",
    "        45.37,\n",
    "        24.01,\n",
    "    ],\n",
    "    [\n",
    "        -1.35,\n",
    "        -0.71,\n",
    "        -0.81,\n",
    "        -0.67,\n",
    "        0.15,\n",
    "        1.39,\n",
    "        2.67,\n",
    "        3.00,\n",
    "        4.01,\n",
    "        3.80,\n",
    "        4.00,\n",
    "        3.02,\n",
    "        2.20,\n",
    "        2.78,\n",
    "        1.58,\n",
    "        1.37,\n",
    "        0.93,\n",
    "    ],\n",
    "]"
   ]
  },
  {
   "cell_type": "markdown",
   "id": "88da08aa",
   "metadata": {},
   "source": [
    "### Write dataset values to a CSV file\n",
    "\n",
    "Dataset details are used to encode test parameters in the text files.\n",
    "For example, ``Bz A1_B1 050 0`` is the Z component of flux density ``B``\n",
    "along line ``A1_B1`` at 50 Hz and 0 deg."
   ]
  },
  {
   "cell_type": "code",
   "execution_count": 22,
   "id": "1b24d1e4",
   "metadata": {
    "execution": {
     "iopub.execute_input": "2025-10-30T07:31:46.498519Z",
     "iopub.status.busy": "2025-10-30T07:31:46.498519Z",
     "iopub.status.idle": "2025-10-30T07:31:46.522379Z",
     "shell.execute_reply": "2025-10-30T07:31:46.522379Z"
    }
   },
   "outputs": [],
   "source": [
    "line_length.insert(0, header[0])\n",
    "for i in range(len(dataset)):\n",
    "    data[i].insert(0, header[1])\n",
    "    ziplist = zip(line_length, data[i])\n",
    "    file_path = os.path.join(temp_folder.name, str(dataset[i]) + \".csv\")\n",
    "    write_csv(output_file=file_path, list_data=ziplist)"
   ]
  },
  {
   "cell_type": "markdown",
   "id": "59d8a818",
   "metadata": {},
   "source": [
    "### Create rectangular plots and import test data into report\n",
    "\n",
    "Create rectangular plots, using text file encoding to control their formatting.\n",
    "Import test data into the correct plot and overlay with the simulation results.\n",
    "Variations for a DC plot must have a different frequency and phase than the other plots."
   ]
  },
  {
   "cell_type": "code",
   "execution_count": 23,
   "id": "25d67e37",
   "metadata": {
    "execution": {
     "iopub.execute_input": "2025-10-30T07:31:46.522379Z",
     "iopub.status.busy": "2025-10-30T07:31:46.522379Z",
     "iopub.status.idle": "2025-10-30T07:31:47.314028Z",
     "shell.execute_reply": "2025-10-30T07:31:47.314028Z"
    }
   },
   "outputs": [],
   "source": [
    "for item in range(len(dataset)):\n",
    "    if item % 2 == 0:\n",
    "        t = dataset[item]\n",
    "        plot_name = t[0:3] + \"Along the Line\" + t[2:9] + \", \" + t[9:12] + \"Hz\"\n",
    "        if t[9:12] == \"000\":\n",
    "            variations = {\n",
    "                \"Distance\": [\"All\"],\n",
    "                \"Freq\": [str(dc_freq) + \"Hz\"],\n",
    "                \"Phase\": [\"0deg\"],\n",
    "                \"Coil_Excitation\": [\"All\"],\n",
    "            }\n",
    "        else:\n",
    "            variations = {\n",
    "                \"Distance\": [\"All\"],\n",
    "                \"Freq\": [t[9:12] + \"Hz\"],\n",
    "                \"Phase\": [\"0deg\", \"90deg\"],\n",
    "                \"Coil_Excitation\": [\"All\"],\n",
    "            }\n",
    "        report = m3d.post.create_report(\n",
    "            plot_name=plot_name,\n",
    "            report_category=\"Fields\",\n",
    "            context=\"Line_\" + t[3:8],\n",
    "            primary_sweep_variable=\"Distance\",\n",
    "            variations=variations,\n",
    "            expressions=t[0:2],\n",
    "        )\n",
    "        file_path = os.path.join(temp_folder.name, str(dataset[i]) + \".csv\")\n",
    "        report.import_traces(input_file=file_path, plot_name=plot_name)"
   ]
  },
  {
   "cell_type": "markdown",
   "id": "c442de4e",
   "metadata": {},
   "source": [
    "Analyze project."
   ]
  },
  {
   "cell_type": "code",
   "execution_count": 24,
   "id": "5f507301",
   "metadata": {
    "execution": {
     "iopub.execute_input": "2025-10-30T07:31:47.314028Z",
     "iopub.status.busy": "2025-10-30T07:31:47.314028Z",
     "iopub.status.idle": "2025-10-30T07:35:27.815867Z",
     "shell.execute_reply": "2025-10-30T07:35:27.813858Z"
    }
   },
   "outputs": [
    {
     "name": "stdout",
     "output_type": "stream",
     "text": [
      "PyAEDT INFO: Project COMPUMAG2 Saved correctly\n"
     ]
    },
    {
     "name": "stdout",
     "output_type": "stream",
     "text": [
      "PyAEDT INFO: Key Desktop/ActiveDSOConfigurations/Maxwell 3D correctly changed.\n"
     ]
    },
    {
     "name": "stdout",
     "output_type": "stream",
     "text": [
      "PyAEDT INFO: Solving all design setups. Analysis started...\n"
     ]
    },
    {
     "name": "stdout",
     "output_type": "stream",
     "text": [
      "PyAEDT INFO: Design setup None solved correctly in 0.0h 3.0m 40.0s\n"
     ]
    },
    {
     "name": "stdout",
     "output_type": "stream",
     "text": [
      "PyAEDT INFO: Key Desktop/ActiveDSOConfigurations/Maxwell 3D correctly changed.\n"
     ]
    },
    {
     "data": {
      "text/plain": [
       "True"
      ]
     },
     "execution_count": 24,
     "metadata": {},
     "output_type": "execute_result"
    }
   ],
   "source": [
    "m3d.analyze(cores=NUM_CORES)"
   ]
  },
  {
   "cell_type": "markdown",
   "id": "d096ed13",
   "metadata": {},
   "source": [
    "### Create plots of induced current and flux density on surface of plate\n",
    "\n",
    "Create two plots of the induced current (``Mag_J``) and the flux density (``Mag_B``) on the\n",
    "surface of the plate."
   ]
  },
  {
   "cell_type": "code",
   "execution_count": 25,
   "id": "c7bd89ea",
   "metadata": {
    "execution": {
     "iopub.execute_input": "2025-10-30T07:35:27.817875Z",
     "iopub.status.busy": "2025-10-30T07:35:27.817875Z",
     "iopub.status.idle": "2025-10-30T07:35:29.926070Z",
     "shell.execute_reply": "2025-10-30T07:35:29.926070Z"
    }
   },
   "outputs": [
    {
     "name": "stdout",
     "output_type": "stream",
     "text": [
      "PyAEDT INFO: Active Design set to TEAM_7_Asymmetric_Conductor\n"
     ]
    },
    {
     "name": "stdout",
     "output_type": "stream",
     "text": [
      "PyAEDT INFO: Active Design set to TEAM_7_Asymmetric_Conductor\n"
     ]
    },
    {
     "name": "stdout",
     "output_type": "stream",
     "text": [
      "PyAEDT INFO: Active Design set to TEAM_7_Asymmetric_Conductor\n"
     ]
    },
    {
     "data": {
      "text/plain": [
       "<ansys.aedt.core.visualization.post.field_data.FieldPlot at 0x1cd1e5c66b0>"
      ]
     },
     "execution_count": 25,
     "metadata": {},
     "output_type": "execute_result"
    }
   ],
   "source": [
    "surf_list = m3d.modeler.get_object_faces(assignment=\"Plate\")\n",
    "intrinsic_dict = {\"Freq\": \"200Hz\", \"Phase\": \"0deg\"}\n",
    "m3d.post.create_fieldplot_surface(\n",
    "    assignment=surf_list,\n",
    "    quantity=\"Mag_J\",\n",
    "    intrinsics=intrinsic_dict,\n",
    "    plot_name=\"Mag_J\",\n",
    ")\n",
    "m3d.post.create_fieldplot_surface(\n",
    "    assignment=surf_list,\n",
    "    quantity=\"Mag_B\",\n",
    "    intrinsics=intrinsic_dict,\n",
    "    plot_name=\"Mag_B\",\n",
    ")\n",
    "m3d.post.create_fieldplot_surface(\n",
    "    assignment=surf_list, quantity=\"Mesh\", intrinsics=intrinsic_dict, plot_name=\"Mesh\"\n",
    ")"
   ]
  },
  {
   "cell_type": "markdown",
   "id": "ce193483",
   "metadata": {},
   "source": [
    "## Finish\n",
    "\n",
    "### Save the project"
   ]
  },
  {
   "cell_type": "code",
   "execution_count": 26,
   "id": "e30a001b",
   "metadata": {
    "execution": {
     "iopub.execute_input": "2025-10-30T07:35:29.926070Z",
     "iopub.status.busy": "2025-10-30T07:35:29.926070Z",
     "iopub.status.idle": "2025-10-30T07:35:54.343773Z",
     "shell.execute_reply": "2025-10-30T07:35:54.343773Z"
    }
   },
   "outputs": [
    {
     "name": "stdout",
     "output_type": "stream",
     "text": [
      "PyAEDT INFO: Project COMPUMAG2 Saved correctly\n"
     ]
    },
    {
     "name": "stdout",
     "output_type": "stream",
     "text": [
      "PyAEDT INFO: Desktop has been released and closed.\n"
     ]
    }
   ],
   "source": [
    "m3d.save_project()\n",
    "m3d.release_desktop()\n",
    "# Wait 3 seconds to allow AEDT to shut down before cleaning the temporary directory.\n",
    "time.sleep(3)"
   ]
  },
  {
   "cell_type": "markdown",
   "id": "1386ee10",
   "metadata": {},
   "source": [
    "## Clean up\n",
    "\n",
    "All project files are saved in the folder ``temp_folder.name``.\n",
    "If you've run this example as a Jupyter notebook, you\n",
    "can retrieve those project files. The following cell\n",
    "removes all temporary files, including the project folder."
   ]
  },
  {
   "cell_type": "code",
   "execution_count": 27,
   "id": "10c95bbd",
   "metadata": {
    "execution": {
     "iopub.execute_input": "2025-10-30T07:35:54.343773Z",
     "iopub.status.busy": "2025-10-30T07:35:54.343773Z",
     "iopub.status.idle": "2025-10-30T07:35:54.487481Z",
     "shell.execute_reply": "2025-10-30T07:35:54.487481Z"
    }
   },
   "outputs": [],
   "source": [
    "temp_folder.cleanup()"
   ]
  }
 ],
 "metadata": {
  "jupytext": {
   "cell_metadata_filter": "-all",
   "main_language": "python",
   "notebook_metadata_filter": "-all"
  },
  "language_info": {
   "codemirror_mode": {
    "name": "ipython",
    "version": 3
   },
   "file_extension": ".py",
   "mimetype": "text/x-python",
   "name": "python",
   "nbconvert_exporter": "python",
   "pygments_lexer": "ipython3",
   "version": "3.10.11"
  }
 },
 "nbformat": 4,
 "nbformat_minor": 5
}
