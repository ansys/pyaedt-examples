{
 "cells": [
  {
   "cell_type": "markdown",
   "id": "ea328ef3",
   "metadata": {},
   "source": [
    "# Maxwell 3D-Icepak electrothermal analysis\n",
    "\n",
    "This example uses PyAEDT to set up a simple Maxwell design consisting of a coil and a ferrite core.\n",
    "Coil current is set to 100A, and coil resistance and ohmic loss are analyzed.\n",
    "Ohmic loss is mapped to Icepak, and a thermal analysis is performed.\n",
    "Icepak calculates a temperature distribution, and it is mapped back to Maxwell (2-way coupling).\n",
    "Coil resistance and ohmic loss are analyzed again in Maxwell. Results are printed in AEDT Message Manager.\n",
    "\n",
    "Keywords: **Multiphysics**, **Maxwell**, **Icepak**, **Wireless Charging**."
   ]
  },
  {
   "cell_type": "markdown",
   "id": "83a05607",
   "metadata": {},
   "source": [
    "## Prerequisites\n",
    "\n",
    "### Perform imports"
   ]
  },
  {
   "cell_type": "code",
   "execution_count": 1,
   "id": "f61d599f",
   "metadata": {
    "execution": {
     "iopub.execute_input": "2025-10-30T07:24:30.943627Z",
     "iopub.status.busy": "2025-10-30T07:24:30.943627Z",
     "iopub.status.idle": "2025-10-30T07:24:34.031388Z",
     "shell.execute_reply": "2025-10-30T07:24:34.031388Z"
    }
   },
   "outputs": [],
   "source": [
    "import os\n",
    "import tempfile\n",
    "import time\n",
    "\n",
    "import ansys.aedt.core  # Interface to Ansys Electronics Desktop\n",
    "from ansys.aedt.core.generic.constants import Axis"
   ]
  },
  {
   "cell_type": "markdown",
   "id": "226dd232",
   "metadata": {},
   "source": [
    "### Define constants\n",
    "\n",
    "Constants help ensure consistency and avoid repetition throughout the example."
   ]
  },
  {
   "cell_type": "code",
   "execution_count": 2,
   "id": "69fd0d40",
   "metadata": {
    "execution": {
     "iopub.execute_input": "2025-10-30T07:24:34.031388Z",
     "iopub.status.busy": "2025-10-30T07:24:34.031388Z",
     "iopub.status.idle": "2025-10-30T07:24:34.047406Z",
     "shell.execute_reply": "2025-10-30T07:24:34.047406Z"
    }
   },
   "outputs": [],
   "source": [
    "AEDT_VERSION = \"2025.2\"\n",
    "NG_MODE = False  # Open AEDT UI when it is launched."
   ]
  },
  {
   "cell_type": "markdown",
   "id": "0545c132",
   "metadata": {},
   "source": [
    "### Create temporary directory\n",
    "\n",
    "Create a temporary working directory.\n",
    "The name of the working folder is stored in ``temp_folder.name``.\n",
    "\n",
    "> **Note:** The final cell in this example removes the temporary folder and\n",
    "> all contents. If you want to\n",
    "> retrieve the AEDT project and data, do so before executing the final cell in the notebook."
   ]
  },
  {
   "cell_type": "code",
   "execution_count": 3,
   "id": "baae761d",
   "metadata": {
    "execution": {
     "iopub.execute_input": "2025-10-30T07:24:34.047406Z",
     "iopub.status.busy": "2025-10-30T07:24:34.047406Z",
     "iopub.status.idle": "2025-10-30T07:24:34.063243Z",
     "shell.execute_reply": "2025-10-30T07:24:34.063243Z"
    }
   },
   "outputs": [],
   "source": [
    "temp_folder = tempfile.TemporaryDirectory(suffix=\".ansys\")"
   ]
  },
  {
   "cell_type": "markdown",
   "id": "04f29bd7",
   "metadata": {},
   "source": [
    "### Launch application\n",
    "\n",
    "The syntax for different applications in AEDT differ\n",
    "only in the name of the class. This example demonstrates the use of the\n",
    "``Maxwell3d`` and ``Icepak`` classes.\n",
    "\n",
    "> **Note:** An AEDT _Project_ is created when the ``Maxwell3d`` class is instantiated. An instance of\n",
    "> the ``Icepak`` class will be used later to insert and simulate an\n",
    "> Icepak design to demonstrate\n",
    "> the coupled electrical-thermal workflow."
   ]
  },
  {
   "cell_type": "code",
   "execution_count": 4,
   "id": "0a31397f",
   "metadata": {
    "execution": {
     "iopub.execute_input": "2025-10-30T07:24:34.063243Z",
     "iopub.status.busy": "2025-10-30T07:24:34.063243Z",
     "iopub.status.idle": "2025-10-30T07:25:02.392896Z",
     "shell.execute_reply": "2025-10-30T07:25:02.392896Z"
    }
   },
   "outputs": [
    {
     "name": "stdout",
     "output_type": "stream",
     "text": [
      "PyAEDT INFO: Python version 3.10.11 (tags/v3.10.11:7d4cc5a, Apr  5 2023, 00:38:17) [MSC v.1929 64 bit (AMD64)].\n"
     ]
    },
    {
     "name": "stdout",
     "output_type": "stream",
     "text": [
      "PyAEDT INFO: PyAEDT version 0.22.dev0.\n"
     ]
    },
    {
     "name": "stdout",
     "output_type": "stream",
     "text": [
      "PyAEDT INFO: Initializing new Desktop session.\n"
     ]
    },
    {
     "name": "stdout",
     "output_type": "stream",
     "text": [
      "PyAEDT INFO: Log on console is enabled.\n"
     ]
    },
    {
     "name": "stdout",
     "output_type": "stream",
     "text": [
      "PyAEDT INFO: Log on file C:\\Users\\ansys\\AppData\\Local\\Temp\\pyaedt_ansys_064c993d-c6b8-4aae-9179-a35948bd80c0.log is enabled.\n"
     ]
    },
    {
     "name": "stdout",
     "output_type": "stream",
     "text": [
      "PyAEDT INFO: Log on AEDT is disabled.\n"
     ]
    },
    {
     "name": "stdout",
     "output_type": "stream",
     "text": [
      "PyAEDT INFO: Debug logger is disabled. PyAEDT methods will not be logged.\n"
     ]
    },
    {
     "name": "stdout",
     "output_type": "stream",
     "text": [
      "PyAEDT INFO: Launching PyAEDT with gRPC plugin.\n"
     ]
    },
    {
     "name": "stdout",
     "output_type": "stream",
     "text": [
      "PyAEDT INFO: New AEDT session is starting on gRPC port 54208.\n"
     ]
    },
    {
     "name": "stdout",
     "output_type": "stream",
     "text": [
      "PyAEDT INFO: Electronics Desktop started on gRPC port: 54208 after 10.865371704101562 seconds.\n"
     ]
    },
    {
     "name": "stdout",
     "output_type": "stream",
     "text": [
      "PyAEDT INFO: AEDT installation Path C:\\Program Files\\ANSYS Inc\\v252\\AnsysEM\n"
     ]
    },
    {
     "name": "stdout",
     "output_type": "stream",
     "text": [
      "PyAEDT INFO: Ansoft.ElectronicsDesktop.2025.2 version started with process ID 2552.\n"
     ]
    },
    {
     "name": "stdout",
     "output_type": "stream",
     "text": [
      "PyAEDT INFO: Project Maxwell-Icepak-2way-Coupling has been created.\n"
     ]
    },
    {
     "name": "stdout",
     "output_type": "stream",
     "text": [
      "PyAEDT INFO: Added design '1 Maxwell' of type Maxwell 3D.\n"
     ]
    },
    {
     "name": "stdout",
     "output_type": "stream",
     "text": [
      "PyAEDT INFO: Aedt Objects correctly read\n"
     ]
    }
   ],
   "source": [
    "maxwell_design_name = \"1 Maxwell\"\n",
    "icepak_design_name = \"2 Icepak\"\n",
    "\n",
    "project_name = os.path.join(temp_folder.name, \"Maxwell-Icepak-2way-Coupling\")\n",
    "\n",
    "m3d = ansys.aedt.core.Maxwell3d(\n",
    "    project=project_name,\n",
    "    design=maxwell_design_name,\n",
    "    solution_type=\"EddyCurrent\",\n",
    "    version=AEDT_VERSION,\n",
    "    non_graphical=NG_MODE,\n",
    ")"
   ]
  },
  {
   "cell_type": "markdown",
   "id": "1989795e",
   "metadata": {},
   "source": [
    "## Model Preparation\n",
    "\n",
    "### Build the model\n",
    "\n",
    "Create the coil, coil terminal, core, and surrounding air region. The coil and core\n",
    "are created by drawing a rectangle and sweeping it about the z-axis."
   ]
  },
  {
   "cell_type": "code",
   "execution_count": 5,
   "id": "f2a833b3",
   "metadata": {
    "execution": {
     "iopub.execute_input": "2025-10-30T07:25:02.392896Z",
     "iopub.status.busy": "2025-10-30T07:25:02.392896Z",
     "iopub.status.idle": "2025-10-30T07:25:16.221214Z",
     "shell.execute_reply": "2025-10-30T07:25:16.221214Z"
    }
   },
   "outputs": [
    {
     "name": "stdout",
     "output_type": "stream",
     "text": [
      "PyAEDT INFO: Modeler class has been initialized! Elapsed time: 0m 1sec\n"
     ]
    },
    {
     "name": "stdout",
     "output_type": "stream",
     "text": [
      "PyAEDT INFO: Materials class has been initialized! Elapsed time: 0m 0sec\n"
     ]
    }
   ],
   "source": [
    "coil_origin = [70, 0, -11]  # [x, y, z] position of the rectangle origin.\n",
    "coil_xsection = [11, 110]  # [z-size, x-size]\n",
    "core_origin = [45, 0, -18]\n",
    "core_xsection = [7, 160]\n",
    "\n",
    "coil = m3d.modeler.create_rectangle(\n",
    "    orientation=\"XZ\", origin=coil_origin, sizes=coil_xsection, name=\"Coil\"\n",
    ")\n",
    "coil.sweep_around_axis(axis=Axis.Z)\n",
    "coil_terminal = m3d.modeler.create_rectangle(\n",
    "    orientation=\"XZ\", origin=coil_origin, sizes=coil_xsection, name=\"Coil_terminal\"\n",
    ")\n",
    "\n",
    "core = m3d.modeler.create_rectangle(\n",
    "    orientation=\"XZ\", origin=core_origin, sizes=core_xsection, name=\"Core\"\n",
    ")\n",
    "core.sweep_around_axis(axis=Axis.Z)\n",
    "\n",
    "# The air region should be sufficiently large to avoid interaction with the\n",
    "# coil magnetic field.\n",
    "\n",
    "region = m3d.modeler.create_region(pad_percent=[20, 20, 20, 20, 500, 100])"
   ]
  },
  {
   "cell_type": "markdown",
   "id": "81d68725",
   "metadata": {},
   "source": [
    "#### Restore view\n",
    "\n",
    "If you are using PyAEDT with an interactive desktop, you may want to fit the visible view to fit the model.\n",
    "PyAEDT allows direct access to the native API for this command using the property `m3d.odesktop`.\n",
    "\n",
    "Uncomment and run the following cell if you are running PyAEDT interactively and would like to automatically fit the\n",
    "window to the model.\n",
    "\n",
    "> **Note:** Native API calls do not allow for introspection or follow PIP\n",
    "> syntax guidelines. Full documentation for the native API is available in\n",
    "> the built-in AEDT [help](https://ansyshelp.ansys.com/account/secured?returnurl=/Views/Secured/Electronics/v242/en//Subsystems/Maxwell/Subsystems/Maxwell%20Scripting/Maxwell%20Scripting.htm)."
   ]
  },
  {
   "cell_type": "code",
   "execution_count": 6,
   "id": "19cc97c7",
   "metadata": {
    "execution": {
     "iopub.execute_input": "2025-10-30T07:25:16.224333Z",
     "iopub.status.busy": "2025-10-30T07:25:16.224333Z",
     "iopub.status.idle": "2025-10-30T07:25:16.237779Z",
     "shell.execute_reply": "2025-10-30T07:25:16.237188Z"
    }
   },
   "outputs": [],
   "source": [
    "# desktop=m3d.odesktop.RestoreWindow()  # Fit the active view\n",
    "# desktop = m3d.post.still_focus_oneditor()"
   ]
  },
  {
   "cell_type": "markdown",
   "id": "bdcd33af",
   "metadata": {},
   "source": [
    "### Create and assign material\n",
    "\n",
    "Define a new material for the AWG40 Litz wire copper strands:\n",
    "\n",
    "- Strand diameter = 0.08 mm\n",
    "- Number of parallel strands in the Litz wire = 24\n",
    "\n",
    "The built-in material \"ferrite\" will be assigned to the core.\n",
    "The material \"vacuum\" will be assigned to the outer region.\n",
    "\n",
    "You will also see the return value when\n",
    " ``True`` printed when material is successfully assigned."
   ]
  },
  {
   "cell_type": "code",
   "execution_count": 7,
   "id": "8ee0df9d",
   "metadata": {
    "execution": {
     "iopub.execute_input": "2025-10-30T07:25:16.237779Z",
     "iopub.status.busy": "2025-10-30T07:25:16.237779Z",
     "iopub.status.idle": "2025-10-30T07:25:16.807738Z",
     "shell.execute_reply": "2025-10-30T07:25:16.807738Z"
    }
   },
   "outputs": [
    {
     "data": {
      "text/plain": [
       "True"
      ]
     },
     "execution_count": 7,
     "metadata": {},
     "output_type": "execute_result"
    }
   ],
   "source": [
    "no_strands = 24\n",
    "strand_diameter = 0.08\n",
    "\n",
    "cu_litz = m3d.materials.duplicate_material(\"copper\", \"copper_litz\")\n",
    "cu_litz.stacking_type = \"Litz Wire\"\n",
    "cu_litz.wire_diameter = str(strand_diameter) + \"mm\"\n",
    "cu_litz.wire_type = \"Round\"\n",
    "cu_litz.strand_number = no_strands\n",
    "\n",
    "m3d.assign_material(region.name, \"vacuum\")\n",
    "m3d.assign_material(coil.name, \"copper_litz\")\n",
    "m3d.assign_material(core.name, \"ferrite\")"
   ]
  },
  {
   "cell_type": "markdown",
   "id": "894d526f",
   "metadata": {},
   "source": [
    "### Define the source\n",
    "\n",
    "The coil carries 0.5 A and 20 turns."
   ]
  },
  {
   "cell_type": "code",
   "execution_count": 8,
   "id": "f30178e6",
   "metadata": {
    "execution": {
     "iopub.execute_input": "2025-10-30T07:25:16.807738Z",
     "iopub.status.busy": "2025-10-30T07:25:16.807738Z",
     "iopub.status.idle": "2025-10-30T07:25:16.902609Z",
     "shell.execute_reply": "2025-10-30T07:25:16.902609Z"
    }
   },
   "outputs": [
    {
     "name": "stdout",
     "output_type": "stream",
     "text": [
      "PyAEDT INFO: Boundary CoilTerminal Coil_terminal has been created.\n"
     ]
    },
    {
     "name": "stdout",
     "output_type": "stream",
     "text": [
      "PyAEDT INFO: Boundary Winding Winding1 has been created.\n"
     ]
    },
    {
     "data": {
      "text/plain": [
       "True"
      ]
     },
     "execution_count": 8,
     "metadata": {},
     "output_type": "execute_result"
    }
   ],
   "source": [
    "turns = 20\n",
    "wire_current = 0.5\n",
    "m3d.assign_coil([\"Coil_terminal\"], conductors_number=turns, name=\"Coil_terminal\")\n",
    "m3d.assign_winding(is_solid=False, current=wire_current * turns, name=\"Winding1\")\n",
    "\n",
    "m3d.add_winding_coils(assignment=\"Winding1\", coils=[\"Coil_terminal\"])"
   ]
  },
  {
   "cell_type": "markdown",
   "id": "e51896d9",
   "metadata": {},
   "source": [
    "### Assign mesh operations\n",
    "\n",
    "Mesh \"seeding\" is used to accelerate the auto-adaptive mesh refinement."
   ]
  },
  {
   "cell_type": "code",
   "execution_count": 9,
   "id": "53dac448",
   "metadata": {
    "execution": {
     "iopub.execute_input": "2025-10-30T07:25:16.902609Z",
     "iopub.status.busy": "2025-10-30T07:25:16.902609Z",
     "iopub.status.idle": "2025-10-30T07:25:16.982018Z",
     "shell.execute_reply": "2025-10-30T07:25:16.982018Z"
    }
   },
   "outputs": [
    {
     "name": "stdout",
     "output_type": "stream",
     "text": [
      "PyAEDT INFO: Mesh class has been initialized! Elapsed time: 0m 0sec\n"
     ]
    },
    {
     "name": "stdout",
     "output_type": "stream",
     "text": [
      "PyAEDT INFO: Mesh class has been initialized! Elapsed time: 0m 0sec\n"
     ]
    },
    {
     "data": {
      "text/plain": [
       "<ansys.aedt.core.modules.mesh.MeshOperation at 0x1d36ebf2740>"
      ]
     },
     "execution_count": 9,
     "metadata": {},
     "output_type": "execute_result"
    }
   ],
   "source": [
    "m3d.mesh.assign_length_mesh(\n",
    "    [\"Core\"], maximum_length=15, maximum_elements=None, name=\"Inside_Core\"\n",
    ")\n",
    "m3d.mesh.assign_length_mesh(\n",
    "    [\"Coil\"], maximum_length=30, maximum_elements=None, name=\"Inside_Coil\"\n",
    ")"
   ]
  },
  {
   "cell_type": "markdown",
   "id": "70cabed1",
   "metadata": {},
   "source": [
    "### Set object temperature and enable feedback\n",
    "\n",
    "The impact of Joule heating on conductivity can be considered\n",
    "by adding a \"thermal modifier\" to the ``cu_litz`` material definition.\n",
    "In this example, conductivity increases by 0.393% per $\\Delta^o$C. The temperature of the objects is set to the default value ($22^o$C)."
   ]
  },
  {
   "cell_type": "code",
   "execution_count": 10,
   "id": "1344c4a6",
   "metadata": {
    "execution": {
     "iopub.execute_input": "2025-10-30T07:25:16.982018Z",
     "iopub.status.busy": "2025-10-30T07:25:16.982018Z",
     "iopub.status.idle": "2025-10-30T07:25:17.013696Z",
     "shell.execute_reply": "2025-10-30T07:25:17.013696Z"
    }
   },
   "outputs": [
    {
     "name": "stdout",
     "output_type": "stream",
     "text": [
      "PyAEDT INFO: Set model temperature and enabling Thermal Feedback\n"
     ]
    },
    {
     "name": "stdout",
     "output_type": "stream",
     "text": [
      "PyAEDT INFO: Assigned Objects Temperature\n"
     ]
    },
    {
     "data": {
      "text/plain": [
       "True"
      ]
     },
     "execution_count": 10,
     "metadata": {},
     "output_type": "execute_result"
    }
   ],
   "source": [
    "cu_resistivity_temp_coefficient = 0.00393\n",
    "cu_litz.conductivity.add_thermal_modifier_free_form(\n",
    "    \"1.0/(1.0+{}*(Temp-20))\".format(cu_resistivity_temp_coefficient)\n",
    ")\n",
    "m3d.modeler.set_objects_temperature([\"Coil\"], ambient_temperature=22)"
   ]
  },
  {
   "cell_type": "markdown",
   "id": "1b09c4ac",
   "metadata": {},
   "source": [
    "### Assign the matrix calculation to the winding\n",
    "\n",
    "The resistance and inductance calculations for the coil are enabled by\n",
    "adding the matrix assignment to the winding."
   ]
  },
  {
   "cell_type": "code",
   "execution_count": 11,
   "id": "c494b783",
   "metadata": {
    "execution": {
     "iopub.execute_input": "2025-10-30T07:25:17.013696Z",
     "iopub.status.busy": "2025-10-30T07:25:17.013696Z",
     "iopub.status.idle": "2025-10-30T07:25:17.092946Z",
     "shell.execute_reply": "2025-10-30T07:25:17.092946Z"
    }
   },
   "outputs": [
    {
     "name": "stdout",
     "output_type": "stream",
     "text": [
      "PyAEDT INFO: Infinite is the only return path option in EddyCurrent.\n"
     ]
    },
    {
     "name": "stdout",
     "output_type": "stream",
     "text": [
      "PyAEDT INFO: Boundary Matrix Matrix1 has been created.\n"
     ]
    },
    {
     "data": {
      "text/plain": [
       "<ansys.aedt.core.modules.boundary.maxwell_boundary.MaxwellParameters at 0x1d36ebf3250>"
      ]
     },
     "execution_count": 11,
     "metadata": {},
     "output_type": "execute_result"
    }
   ],
   "source": [
    "m3d.assign_matrix([\"Winding1\"], matrix_name=\"Matrix1\")"
   ]
  },
  {
   "cell_type": "markdown",
   "id": "a356ff16",
   "metadata": {},
   "source": [
    "### Create the simulation setup\n",
    "\n",
    "The simulation frequency is 150 kHz. You can query and modify the properties of the simulation setup using ``setup.props``. The \"PercentError\" establishes the minimum allowed change in energy due to the change in mesh size and ensure a small global solution error."
   ]
  },
  {
   "cell_type": "code",
   "execution_count": 12,
   "id": "84d3dc42",
   "metadata": {
    "execution": {
     "iopub.execute_input": "2025-10-30T07:25:17.092946Z",
     "iopub.status.busy": "2025-10-30T07:25:17.092946Z",
     "iopub.status.idle": "2025-10-30T07:25:17.172229Z",
     "shell.execute_reply": "2025-10-30T07:25:17.172229Z"
    }
   },
   "outputs": [],
   "source": [
    "setup = m3d.create_setup(name=\"Setup1\")\n",
    "setup.props[\"Frequency\"] = \"150kHz\"\n",
    "setup.props[\"MaximumPasses\"] = 4\n",
    "setup.props[\"PercentError\"] = 0.5\n",
    "setup.props[\"MinimumConvergedPasses\"] = 2"
   ]
  },
  {
   "cell_type": "markdown",
   "id": "16e1a5cf",
   "metadata": {},
   "source": [
    "### Run the Maxwell 3D analysis\n",
    "\n",
    "The following command runs the 3D finite element analysis in Maxwell."
   ]
  },
  {
   "cell_type": "code",
   "execution_count": 13,
   "id": "c3bc9bf0",
   "metadata": {
    "execution": {
     "iopub.execute_input": "2025-10-30T07:25:17.172229Z",
     "iopub.status.busy": "2025-10-30T07:25:17.172229Z",
     "iopub.status.idle": "2025-10-30T07:27:20.336293Z",
     "shell.execute_reply": "2025-10-30T07:27:20.336293Z"
    }
   },
   "outputs": [
    {
     "name": "stdout",
     "output_type": "stream",
     "text": [
      "PyAEDT INFO: Solving design setup Setup1\n"
     ]
    },
    {
     "name": "stdout",
     "output_type": "stream",
     "text": [
      "PyAEDT INFO: Design setup Setup1 solved correctly in 0.0h 2.0m 3.0s\n"
     ]
    },
    {
     "data": {
      "text/plain": [
       "True"
      ]
     },
     "execution_count": 13,
     "metadata": {},
     "output_type": "execute_result"
    }
   ],
   "source": [
    "m3d.analyze_setup(\"Setup1\")"
   ]
  },
  {
   "cell_type": "markdown",
   "id": "234c1302",
   "metadata": {},
   "source": [
    "## Postprocessing\n",
    "\n",
    "### DC resistance\n",
    "\n",
    "The DC resistance of the coil can be calculated analyticially. The following cell compares the known\n",
    "DC resistance with the simulated coil\n",
    "resistance.\n",
    "\n",
    "The values can be displayed in the AEDT \"Message Manager\". The Ohmic loss in\n",
    "coil is calculated and displayed so we can see the change when Joule\n",
    "heating is considered."
   ]
  },
  {
   "cell_type": "code",
   "execution_count": 14,
   "id": "3977b339",
   "metadata": {
    "execution": {
     "iopub.execute_input": "2025-10-30T07:27:20.340311Z",
     "iopub.status.busy": "2025-10-30T07:27:20.340311Z",
     "iopub.status.idle": "2025-10-30T07:27:21.414759Z",
     "shell.execute_reply": "2025-10-30T07:27:21.414098Z"
    }
   },
   "outputs": [
    {
     "name": "stdout",
     "output_type": "stream",
     "text": [
      "PyAEDT INFO: Parsing C:\\Users\\ansys\\AppData\\Local\\Temp\\tmpoaqrczmc.ansys\\Maxwell-Icepak-2way-Coupling.aedt.\n"
     ]
    },
    {
     "name": "stdout",
     "output_type": "stream",
     "text": [
      "PyAEDT INFO: File C:\\Users\\ansys\\AppData\\Local\\Temp\\tmpoaqrczmc.ansys\\Maxwell-Icepak-2way-Coupling.aedt correctly loaded. Elapsed time: 0m 0sec\n"
     ]
    },
    {
     "name": "stdout",
     "output_type": "stream",
     "text": [
      "PyAEDT INFO: aedt file load time 0.010033130645751953\n"
     ]
    },
    {
     "name": "stdout",
     "output_type": "stream",
     "text": [
      "PyAEDT INFO: PostProcessor class has been initialized! Elapsed time: 0m 0sec\n"
     ]
    },
    {
     "name": "stdout",
     "output_type": "stream",
     "text": [
      "PyAEDT INFO: PostProcessor class has been initialized! Elapsed time: 0m 0sec\n"
     ]
    },
    {
     "name": "stdout",
     "output_type": "stream",
     "text": [
      "PyAEDT INFO: Post class has been initialized! Elapsed time: 0m 0sec\n"
     ]
    },
    {
     "name": "stdout",
     "output_type": "stream",
     "text": [
      "PyAEDT WARNING: No report category provided. Automatically identified AC Magnetic\n"
     ]
    },
    {
     "name": "stdout",
     "output_type": "stream",
     "text": [
      "PyAEDT INFO: Solution Data Correctly Loaded.\n"
     ]
    },
    {
     "name": "stdout",
     "output_type": "stream",
     "text": [
      "Time to initialize solution data:0.006981372833251953\n",
      "Time to initialize solution data:0.006981372833251953\n",
      "PyAEDT WARNING: No report category provided. Automatically identified AC Magnetic\n"
     ]
    },
    {
     "name": "stdout",
     "output_type": "stream",
     "text": [
      "PyAEDT INFO: Solution Data Correctly Loaded.\n"
     ]
    },
    {
     "name": "stdout",
     "output_type": "stream",
     "text": [
      "Time to initialize solution data:0.0\n",
      "Time to initialize solution data:0.0\n"
     ]
    }
   ],
   "source": [
    "report = m3d.post.create_report(expressions=\"Matrix1.R(Winding1,Winding1)\")\n",
    "solution = report.get_solution_data()\n",
    "resistance = solution.get_expression_data(formula=\"magnitude\")[0][0]  # Resistance is the first matrix element.\n",
    "\n",
    "report_loss = m3d.post.create_report(expressions=\"StrandedLossAC\")\n",
    "solution_loss = report_loss.get_solution_data()\n",
    "em_loss = solution_loss.get_expression_data(formula=\"magnitude\")[0][0]"
   ]
  },
  {
   "cell_type": "markdown",
   "id": "f5b562f6",
   "metadata": {},
   "source": [
    "### Analyitic calculation of DC resistance"
   ]
  },
  {
   "cell_type": "code",
   "execution_count": 15,
   "id": "101c1eb5",
   "metadata": {
    "execution": {
     "iopub.execute_input": "2025-10-30T07:27:21.414759Z",
     "iopub.status.busy": "2025-10-30T07:27:21.414759Z",
     "iopub.status.idle": "2025-10-30T07:27:21.445919Z",
     "shell.execute_reply": "2025-10-30T07:27:21.445919Z"
    }
   },
   "outputs": [
    {
     "name": "stdout",
     "output_type": "stream",
     "text": [
      "PyAEDT INFO: *******Coil analytical DC resistance =  1.62Ohm\n"
     ]
    },
    {
     "name": "stdout",
     "output_type": "stream",
     "text": [
      "PyAEDT INFO: *******Coil resistance at 150kHz BEFORE temperature feedback =  0.00Ohm\n"
     ]
    },
    {
     "name": "stdout",
     "output_type": "stream",
     "text": [
      "PyAEDT INFO: *******Ohmic loss in coil BEFORE temperature feedback =  0.00W\n"
     ]
    }
   ],
   "source": [
    "cu_cond = float(cu_litz.conductivity.value)\n",
    "\n",
    "# Average radius of a coil turn = 125 mm\n",
    "avg_coil_radius = (\n",
    "    coil_xsection[1] / 2 + coil_origin[0] / 2\n",
    ") * 0.001  # Convert to meters\n",
    "l_conductor = turns * 2 * avg_coil_radius * 3.1415\n",
    "\n",
    "# R = resistivity * length / area / no_strand\n",
    "r_analytic_DC = (\n",
    "    (1.0 / cu_cond)\n",
    "    * l_conductor\n",
    "    / (3.1415 * (strand_diameter * 0.001 / 2) ** 2)\n",
    "    / no_strands\n",
    ")\n",
    "\n",
    "# Print results in AEDT Message Manager\n",
    "m3d.logger.info(f\"*******Coil analytical DC resistance =  {r_analytic_DC:.2f}Ohm\")\n",
    "m3d.logger.info(\n",
    "    f\"*******Coil resistance at 150kHz BEFORE temperature feedback =  {resistance:.2f}Ohm\"\n",
    ")\n",
    "m3d.logger.info(\n",
    "    f\"*******Ohmic loss in coil BEFORE temperature feedback =  {em_loss / 1000:.2f}W\"\n",
    ")"
   ]
  },
  {
   "cell_type": "markdown",
   "id": "908a4734",
   "metadata": {},
   "source": [
    "## Create the thermal model\n",
    "\n",
    "The following commands insert an Icepak design into the AEDT project, copies the solid objects from Maxwell 3D, and modifies the region dimensions so they're suitable\n",
    "for thermal convection analysis."
   ]
  },
  {
   "cell_type": "code",
   "execution_count": 16,
   "id": "c864d0e5",
   "metadata": {
    "execution": {
     "iopub.execute_input": "2025-10-30T07:27:21.445919Z",
     "iopub.status.busy": "2025-10-30T07:27:21.445919Z",
     "iopub.status.idle": "2025-10-30T07:27:21.730847Z",
     "shell.execute_reply": "2025-10-30T07:27:21.730847Z"
    }
   },
   "outputs": [
    {
     "name": "stdout",
     "output_type": "stream",
     "text": [
      "PyAEDT INFO: Python version 3.10.11 (tags/v3.10.11:7d4cc5a, Apr  5 2023, 00:38:17) [MSC v.1929 64 bit (AMD64)].\n"
     ]
    },
    {
     "name": "stdout",
     "output_type": "stream",
     "text": [
      "PyAEDT INFO: PyAEDT version 0.22.dev0.\n"
     ]
    },
    {
     "name": "stdout",
     "output_type": "stream",
     "text": [
      "PyAEDT INFO: Returning found Desktop session with PID 2552!\n"
     ]
    },
    {
     "name": "stdout",
     "output_type": "stream",
     "text": [
      "PyAEDT INFO: No project is defined. Project Maxwell-Icepak-2way-Coupling exists and has been read.\n"
     ]
    },
    {
     "name": "stdout",
     "output_type": "stream",
     "text": [
      "PyAEDT INFO: Added design '2 Icepak' of type Icepak.\n"
     ]
    },
    {
     "name": "stdout",
     "output_type": "stream",
     "text": [
      "PyAEDT INFO: Aedt Objects correctly read\n"
     ]
    },
    {
     "name": "stdout",
     "output_type": "stream",
     "text": [
      "PyAEDT INFO: Modeler class has been initialized! Elapsed time: 0m 0sec\n"
     ]
    },
    {
     "data": {
      "text/plain": [
       "True"
      ]
     },
     "execution_count": 16,
     "metadata": {},
     "output_type": "execute_result"
    }
   ],
   "source": [
    "ipk = ansys.aedt.core.Icepak(design=icepak_design_name, version=AEDT_VERSION)\n",
    "ipk.copy_solid_bodies_from(m3d, no_pec=False)\n",
    "\n",
    "# Set domain dimensions suitable for natural convection using the diameter of the coil\n",
    "ipk.modeler[\"Region\"].delete()\n",
    "coil_dim = coil.bounding_dimension[0]\n",
    "ipk.modeler.create_region(0, False)\n",
    "ipk.modeler.edit_region_dimensions(\n",
    "    [coil_dim / 2, coil_dim / 2, coil_dim / 2, coil_dim / 2, coil_dim * 2, coil_dim]\n",
    ")"
   ]
  },
  {
   "cell_type": "markdown",
   "id": "6d01ec08",
   "metadata": {},
   "source": [
    "### Map coil losses\n",
    "\n",
    "Map ohmic losses from Maxwell 3D to the Icepak design."
   ]
  },
  {
   "cell_type": "code",
   "execution_count": 17,
   "id": "bd518395",
   "metadata": {
    "execution": {
     "iopub.execute_input": "2025-10-30T07:27:21.730847Z",
     "iopub.status.busy": "2025-10-30T07:27:21.730847Z",
     "iopub.status.idle": "2025-10-30T07:27:21.778511Z",
     "shell.execute_reply": "2025-10-30T07:27:21.778511Z"
    }
   },
   "outputs": [
    {
     "name": "stdout",
     "output_type": "stream",
     "text": [
      "PyAEDT INFO: Mapping EM losses.\n"
     ]
    },
    {
     "name": "stdout",
     "output_type": "stream",
     "text": [
      "PyAEDT INFO: Boundary EMLoss EMLoss_RY8A6H has been created.\n"
     ]
    },
    {
     "data": {
      "text/plain": [
       "<ansys.aedt.core.modules.boundary.common.BoundaryObject at 0x1d37442b700>"
      ]
     },
     "execution_count": 17,
     "metadata": {},
     "output_type": "execute_result"
    }
   ],
   "source": [
    "ipk.assign_em_losses(\n",
    "    design=\"1 Maxwell\",\n",
    "    setup=m3d.setups[0].name,\n",
    "    sweep=\"LastAdaptive\",\n",
    "    assignment=[\"Coil\"],\n",
    ")"
   ]
  },
  {
   "cell_type": "markdown",
   "id": "a753934e",
   "metadata": {},
   "source": [
    "### Define boundary conditions\n",
    "\n",
    "Assign the opening in the Icepak model to allow free airflow."
   ]
  },
  {
   "cell_type": "code",
   "execution_count": 18,
   "id": "350d4042",
   "metadata": {
    "execution": {
     "iopub.execute_input": "2025-10-30T07:27:21.778511Z",
     "iopub.status.busy": "2025-10-30T07:27:21.778511Z",
     "iopub.status.idle": "2025-10-30T07:27:21.826002Z",
     "shell.execute_reply": "2025-10-30T07:27:21.826002Z"
    }
   },
   "outputs": [
    {
     "name": "stdout",
     "output_type": "stream",
     "text": [
      "PyAEDT INFO: Boundary Opening Opening1 has been created.\n"
     ]
    },
    {
     "data": {
      "text/plain": [
       "<ansys.aedt.core.modules.boundary.common.BoundaryObject at 0x1d37442b910>"
      ]
     },
     "execution_count": 18,
     "metadata": {},
     "output_type": "execute_result"
    }
   ],
   "source": [
    "faces = ipk.modeler[\"Region\"].faces\n",
    "face_names = [face.id for face in faces]\n",
    "ipk.assign_free_opening(face_names, boundary_name=\"Opening1\")"
   ]
  },
  {
   "cell_type": "markdown",
   "id": "2b527242",
   "metadata": {},
   "source": [
    "### Assign monitor\n",
    "\n",
    "Assign a temperature monitor on the coil surface."
   ]
  },
  {
   "cell_type": "code",
   "execution_count": 19,
   "id": "8c4b173d",
   "metadata": {
    "execution": {
     "iopub.execute_input": "2025-10-30T07:27:21.826002Z",
     "iopub.status.busy": "2025-10-30T07:27:21.826002Z",
     "iopub.status.idle": "2025-10-30T07:27:21.857899Z",
     "shell.execute_reply": "2025-10-30T07:27:21.857899Z"
    }
   },
   "outputs": [],
   "source": [
    "temp_monitor = ipk.assign_point_monitor([70, 0, 0], monitor_name=\"PointMonitor1\")"
   ]
  },
  {
   "cell_type": "markdown",
   "id": "3a6ee734",
   "metadata": {},
   "source": [
    "### Set up Icepak solution\n",
    "\n",
    "Icepak solution settings are modified by updating the ``props`` associated with the solution setup."
   ]
  },
  {
   "cell_type": "code",
   "execution_count": 20,
   "id": "f15d51a5",
   "metadata": {
    "execution": {
     "iopub.execute_input": "2025-10-30T07:27:21.857899Z",
     "iopub.status.busy": "2025-10-30T07:27:21.857899Z",
     "iopub.status.idle": "2025-10-30T07:27:22.095372Z",
     "shell.execute_reply": "2025-10-30T07:27:22.095372Z"
    }
   },
   "outputs": [],
   "source": [
    "solution_setup = ipk.create_setup()\n",
    "solution_setup.props[\"Convergence Criteria - Max Iterations\"] = 50\n",
    "solution_setup.props[\"Flow Regime\"] = \"Turbulent\"\n",
    "solution_setup.props[\"Turbulent Model Eqn\"] = \"ZeroEquation\"\n",
    "solution_setup.props[\"Radiation Model\"] = \"Discrete Ordinates Model\"\n",
    "solution_setup.props[\"Include Flow\"] = True\n",
    "solution_setup.props[\"Include Gravity\"] = True\n",
    "solution_setup.props[\"Solution Initialization - Z Velocity\"] = \"0.0005m_per_sec\"\n",
    "solution_setup.props[\"Convergence Criteria - Flow\"] = 0.0005\n",
    "solution_setup.props[\"Flow Iteration Per Radiation Iteration\"] = \"5\""
   ]
  },
  {
   "cell_type": "markdown",
   "id": "5cbb7390",
   "metadata": {},
   "source": [
    "### Add two-way coupling\n",
    "\n",
    "The temperature update from Icepak to Maxwell 3D is activated using the method ``assign_2way_coupling()``. The Ohmic\n",
    "loss in Maxwell will change due to the temperature increase, which in turn will change the results\n",
    "from the Icepak simulation. By default, this iteration occurs twice. However, the named argument\n",
    "``number_of_iterations`` can be passed to the ``assign_2way_coupling`` method to increase the number of iterations.\n",
    "\n",
    "The full electro-thermal analysis is run by calling the ``analyze_setup()`` method."
   ]
  },
  {
   "cell_type": "code",
   "execution_count": 21,
   "id": "40c1b869",
   "metadata": {
    "execution": {
     "iopub.execute_input": "2025-10-30T07:27:22.095372Z",
     "iopub.status.busy": "2025-10-30T07:27:22.095372Z",
     "iopub.status.idle": "2025-10-30T07:27:22.111757Z",
     "shell.execute_reply": "2025-10-30T07:27:22.111072Z"
    }
   },
   "outputs": [
    {
     "data": {
      "text/plain": [
       "True"
      ]
     },
     "execution_count": 21,
     "metadata": {},
     "output_type": "execute_result"
    }
   ],
   "source": [
    "ipk.assign_2way_coupling()"
   ]
  },
  {
   "cell_type": "markdown",
   "id": "65352e0c",
   "metadata": {},
   "source": [
    "### Run Icepak analysis"
   ]
  },
  {
   "cell_type": "code",
   "execution_count": 22,
   "id": "bd0d0f2d",
   "metadata": {
    "execution": {
     "iopub.execute_input": "2025-10-30T07:27:22.111757Z",
     "iopub.status.busy": "2025-10-30T07:27:22.111757Z",
     "iopub.status.idle": "2025-10-30T07:30:29.015346Z",
     "shell.execute_reply": "2025-10-30T07:30:29.014786Z"
    }
   },
   "outputs": [
    {
     "name": "stdout",
     "output_type": "stream",
     "text": [
      "PyAEDT INFO: Solving design setup Setup\n"
     ]
    },
    {
     "name": "stdout",
     "output_type": "stream",
     "text": [
      "PyAEDT INFO: Design setup Setup solved correctly in 0.0h 3.0m 7.0s\n"
     ]
    },
    {
     "data": {
      "text/plain": [
       "True"
      ]
     },
     "execution_count": 22,
     "metadata": {},
     "output_type": "execute_result"
    }
   ],
   "source": [
    "ipk.analyze_setup(name=solution_setup.name)"
   ]
  },
  {
   "cell_type": "markdown",
   "id": "9e457bc9",
   "metadata": {},
   "source": [
    "## Postprocess\n",
    "\n",
    "Plot the temperature on object surfaces."
   ]
  },
  {
   "cell_type": "code",
   "execution_count": 23,
   "id": "bbb5d1f3",
   "metadata": {
    "execution": {
     "iopub.execute_input": "2025-10-30T07:30:29.019366Z",
     "iopub.status.busy": "2025-10-30T07:30:29.017358Z",
     "iopub.status.idle": "2025-10-30T07:30:31.265077Z",
     "shell.execute_reply": "2025-10-30T07:30:31.265077Z"
    }
   },
   "outputs": [
    {
     "name": "stdout",
     "output_type": "stream",
     "text": [
      "PyAEDT INFO: PostProcessor class has been initialized! Elapsed time: 0m 0sec\n"
     ]
    },
    {
     "name": "stdout",
     "output_type": "stream",
     "text": [
      "PyAEDT INFO: Post class has been initialized! Elapsed time: 0m 0sec\n"
     ]
    },
    {
     "name": "stdout",
     "output_type": "stream",
     "text": [
      "PyAEDT INFO: Active Design set to 2 Icepak\n"
     ]
    },
    {
     "name": "stdout",
     "output_type": "stream",
     "text": [
      "PyAEDT INFO: Active Design set to 2 Icepak\n"
     ]
    },
    {
     "name": "stdout",
     "output_type": "stream",
     "text": [
      "PyAEDT WARNING: No report category provided. Automatically identified Monitor\n"
     ]
    },
    {
     "name": "stdout",
     "output_type": "stream",
     "text": [
      "PyAEDT INFO: Solution Data Correctly Loaded.\n"
     ]
    },
    {
     "name": "stdout",
     "output_type": "stream",
     "text": [
      "Time to initialize solution data:0.0\n",
      "Time to initialize solution data:0.0\n",
      "PyAEDT INFO: *******Coil temperature =  65.03deg C\n"
     ]
    }
   ],
   "source": [
    "surface_list = []\n",
    "for name in [\"Coil\", \"Core\"]:\n",
    "    surface_list.extend(ipk.modeler.get_object_faces(name))\n",
    "\n",
    "surf_temperature = ipk.post.create_fieldplot_surface(\n",
    "    surface_list, quantity=\"SurfTemperature\", plot_name=\"Surface Temperature\"\n",
    ")\n",
    "\n",
    "velocity_cutplane = ipk.post.create_fieldplot_cutplane(\n",
    "    assignment=[\"Global:XZ\"], quantity=\"Velocity Vectors\", plot_name=\"Velocity Vectors\"\n",
    ")\n",
    "\n",
    "surf_temperature.export_image()\n",
    "velocity_cutplane.export_image(orientation=\"right\")\n",
    "\n",
    "report_temp = ipk.post.create_report(\n",
    "    expressions=\"PointMonitor1.Temperature\", primary_sweep_variable=\"X\"\n",
    ")\n",
    "solution_temp = report_temp.get_solution_data()\n",
    "temp = solution_temp.get_expression_data(formula=\"magnitude\")[1][0]\n",
    "m3d.logger.info(\"*******Coil temperature =  {:.2f}deg C\".format(temp))"
   ]
  },
  {
   "cell_type": "markdown",
   "id": "e8b3ed19",
   "metadata": {},
   "source": [
    "### Get updated resistance from Maxwell 3D\n",
    "\n",
    "The temperature of the coil increases, and consequently the coil resistance increases."
   ]
  },
  {
   "cell_type": "code",
   "execution_count": 24,
   "id": "700330dd",
   "metadata": {
    "execution": {
     "iopub.execute_input": "2025-10-30T07:30:31.265077Z",
     "iopub.status.busy": "2025-10-30T07:30:31.265077Z",
     "iopub.status.idle": "2025-10-30T07:30:32.230953Z",
     "shell.execute_reply": "2025-10-30T07:30:32.230355Z"
    }
   },
   "outputs": [
    {
     "name": "stdout",
     "output_type": "stream",
     "text": [
      "PyAEDT WARNING: No report category provided. Automatically identified AC Magnetic\n"
     ]
    },
    {
     "name": "stdout",
     "output_type": "stream",
     "text": [
      "PyAEDT INFO: Solution Data Correctly Loaded.\n"
     ]
    },
    {
     "name": "stdout",
     "output_type": "stream",
     "text": [
      "Time to initialize solution data:0.0\n",
      "Time to initialize solution data:0.0\n",
      "PyAEDT WARNING: No report category provided. Automatically identified AC Magnetic\n"
     ]
    },
    {
     "name": "stdout",
     "output_type": "stream",
     "text": [
      "PyAEDT INFO: Solution Data Correctly Loaded.\n"
     ]
    },
    {
     "name": "stdout",
     "output_type": "stream",
     "text": [
      "Time to initialize solution data:0.0\n",
      "Time to initialize solution data:0.0\n",
      "PyAEDT INFO: *******Coil resistance at 150kHz AFTER temperature feedback =  2.58Ohm\n"
     ]
    },
    {
     "name": "stdout",
     "output_type": "stream",
     "text": [
      "PyAEDT INFO: *******Coil resistance increased by 1722497.76%\n"
     ]
    },
    {
     "name": "stdout",
     "output_type": "stream",
     "text": [
      "PyAEDT INFO: *******Ohmic loss in coil AFTER temperature feedback =  129.19W\n"
     ]
    }
   ],
   "source": [
    "report_new = m3d.post.create_report(expressions=\"Matrix1.R(Winding1,Winding1)\")\n",
    "solution_new = report_new.get_solution_data()\n",
    "resistance_new = solution_new.get_expression_data(formula=\"magnitude\")[1][0]\n",
    "resistance_increase = (resistance_new - resistance) / resistance * 100\n",
    "\n",
    "report_loss_new = m3d.post.create_report(expressions=\"StrandedLossAC\")\n",
    "solution_loss_new = report_loss_new.get_solution_data()\n",
    "em_loss_new = solution_loss_new.get_expression_data(formula=\"magnitude\")[1][0]\n",
    "\n",
    "m3d.logger.info(\n",
    "    \"*******Coil resistance at 150kHz AFTER temperature feedback =  {:.2f}Ohm\".format(\n",
    "        resistance_new\n",
    "    )\n",
    ")\n",
    "m3d.logger.info(\n",
    "    \"*******Coil resistance increased by {:.2f}%\".format(resistance_increase)\n",
    ")\n",
    "m3d.logger.info(\n",
    "    \"*******Ohmic loss in coil AFTER temperature feedback =  {:.2f}W\".format(\n",
    "        em_loss_new / 1000\n",
    "    )\n",
    ")"
   ]
  },
  {
   "cell_type": "markdown",
   "id": "bd78d2bc",
   "metadata": {},
   "source": [
    "### Save the project"
   ]
  },
  {
   "cell_type": "code",
   "execution_count": 25,
   "id": "c3ede42f",
   "metadata": {
    "execution": {
     "iopub.execute_input": "2025-10-30T07:30:32.230953Z",
     "iopub.status.busy": "2025-10-30T07:30:32.230953Z",
     "iopub.status.idle": "2025-10-30T07:30:53.701923Z",
     "shell.execute_reply": "2025-10-30T07:30:53.701923Z"
    }
   },
   "outputs": [
    {
     "name": "stdout",
     "output_type": "stream",
     "text": [
      "PyAEDT INFO: Project Maxwell-Icepak-2way-Coupling Saved correctly\n"
     ]
    },
    {
     "name": "stdout",
     "output_type": "stream",
     "text": [
      "PyAEDT INFO: Desktop has been released and closed.\n"
     ]
    }
   ],
   "source": [
    "ipk.save_project()\n",
    "ipk.release_desktop()\n",
    "time.sleep(3)  # Allow AEDT to shut down before cleaning the temporary project folder."
   ]
  },
  {
   "cell_type": "markdown",
   "id": "1f90f8a6",
   "metadata": {},
   "source": [
    "### Clean up\n",
    "\n",
    "All project files are saved in the folder ``temp_folder.name``.\n",
    "If you've run this example as a Jupyter notebook, you\n",
    "can retrieve those project files. The following cell\n",
    "removes all temporary files, including the project folder."
   ]
  },
  {
   "cell_type": "code",
   "execution_count": 26,
   "id": "186471a1",
   "metadata": {
    "execution": {
     "iopub.execute_input": "2025-10-30T07:30:53.701923Z",
     "iopub.status.busy": "2025-10-30T07:30:53.701923Z",
     "iopub.status.idle": "2025-10-30T07:30:53.765505Z",
     "shell.execute_reply": "2025-10-30T07:30:53.765505Z"
    }
   },
   "outputs": [],
   "source": [
    "temp_folder.cleanup()"
   ]
  }
 ],
 "metadata": {
  "jupytext": {
   "cell_metadata_filter": "-all",
   "main_language": "python",
   "notebook_metadata_filter": "-all"
  },
  "language_info": {
   "codemirror_mode": {
    "name": "ipython",
    "version": 3
   },
   "file_extension": ".py",
   "mimetype": "text/x-python",
   "name": "python",
   "nbconvert_exporter": "python",
   "pygments_lexer": "ipython3",
   "version": "3.10.11"
  }
 },
 "nbformat": 4,
 "nbformat_minor": 5
}
