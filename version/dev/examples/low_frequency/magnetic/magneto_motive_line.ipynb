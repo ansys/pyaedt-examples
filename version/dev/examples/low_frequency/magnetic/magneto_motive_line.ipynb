{
 "cells": [
  {
   "cell_type": "markdown",
   "id": "aa3fc116",
   "metadata": {},
   "source": [
    "# Magnetomotive force along a line\n",
    "\n",
    "This example shows how to use PyAEDT to calculate\n",
    "the magnetomotive force along a line that changes position.\n",
    "It shows how to leverage the PyAEDT advanced fields calculator\n",
    "to insert a custom formula, which in this case is the integral\n",
    "of the H field along a line.\n",
    "The example shows two options to achieve the intent.\n",
    "The first one creates many lines as to simulate a contour that changes position.\n",
    "The integral of the H field is computed for each line.\n",
    "The second option creates one parametric polyline and then uses a parametric sweep to change its position.\n",
    "The integral of the H field is computed for each position."
   ]
  },
  {
   "cell_type": "markdown",
   "id": "e9c9f04b",
   "metadata": {},
   "source": [
    "Keywords: **Maxwell 2D**, **magnetomotive force**."
   ]
  },
  {
   "cell_type": "markdown",
   "id": "c83d60bb",
   "metadata": {},
   "source": [
    "## Perform imports and define constants\n",
    "\n",
    "Perform required imports."
   ]
  },
  {
   "cell_type": "code",
   "execution_count": 1,
   "id": "49eb78c8",
   "metadata": {
    "execution": {
     "iopub.execute_input": "2025-10-30T07:07:59.924376Z",
     "iopub.status.busy": "2025-10-30T07:07:59.924376Z",
     "iopub.status.idle": "2025-10-30T07:08:03.027251Z",
     "shell.execute_reply": "2025-10-30T07:08:03.027251Z"
    }
   },
   "outputs": [],
   "source": [
    "import tempfile\n",
    "import time\n",
    "\n",
    "import ansys.aedt.core\n",
    "from ansys.aedt.core.examples.downloads import download_file"
   ]
  },
  {
   "cell_type": "markdown",
   "id": "06e449cc",
   "metadata": {},
   "source": [
    "Define constants."
   ]
  },
  {
   "cell_type": "code",
   "execution_count": 2,
   "id": "0e32d76c",
   "metadata": {
    "execution": {
     "iopub.execute_input": "2025-10-30T07:08:03.027251Z",
     "iopub.status.busy": "2025-10-30T07:08:03.027251Z",
     "iopub.status.idle": "2025-10-30T07:08:03.043196Z",
     "shell.execute_reply": "2025-10-30T07:08:03.043196Z"
    }
   },
   "outputs": [],
   "source": [
    "AEDT_VERSION = \"2025.2\"\n",
    "NUM_CORES = 4\n",
    "NG_MODE = False  # Open AEDT UI when it is launched."
   ]
  },
  {
   "cell_type": "markdown",
   "id": "749d34c4",
   "metadata": {},
   "source": [
    "## Create temporary directory\n",
    "\n",
    "Create a temporary directory where downloaded data or\n",
    "dumped data can be stored.\n",
    "If you'd like to retrieve the project data for subsequent use,\n",
    "the temporary folder name is given by ``temp_folder.name``."
   ]
  },
  {
   "cell_type": "code",
   "execution_count": 3,
   "id": "ce7bf51b",
   "metadata": {
    "execution": {
     "iopub.execute_input": "2025-10-30T07:08:03.043196Z",
     "iopub.status.busy": "2025-10-30T07:08:03.043196Z",
     "iopub.status.idle": "2025-10-30T07:08:03.059016Z",
     "shell.execute_reply": "2025-10-30T07:08:03.059016Z"
    }
   },
   "outputs": [],
   "source": [
    "temp_folder = tempfile.TemporaryDirectory(suffix=\".ansys\")"
   ]
  },
  {
   "cell_type": "markdown",
   "id": "e9ba3104",
   "metadata": {},
   "source": [
    "## Import project\n",
    "\n",
    "Download the files required to run this example to the temporary working folder."
   ]
  },
  {
   "cell_type": "code",
   "execution_count": 4,
   "id": "030b420b",
   "metadata": {
    "execution": {
     "iopub.execute_input": "2025-10-30T07:08:03.059016Z",
     "iopub.status.busy": "2025-10-30T07:08:03.059016Z",
     "iopub.status.idle": "2025-10-30T07:08:03.503501Z",
     "shell.execute_reply": "2025-10-30T07:08:03.503501Z"
    }
   },
   "outputs": [],
   "source": [
    "project_path = download_file(\n",
    "    source=\"maxwell_magnetic_force\",\n",
    "    name=\"Maxwell_Magnetic_Force.aedt\",\n",
    "    local_path=temp_folder.name,\n",
    ")"
   ]
  },
  {
   "cell_type": "markdown",
   "id": "a8b6df44",
   "metadata": {},
   "source": [
    "## Initialize and launch Maxwell 2D\n",
    "\n",
    "Initialize and launch Maxwell 2D, providing the version and the path of the project."
   ]
  },
  {
   "cell_type": "code",
   "execution_count": 5,
   "id": "f6ea6061",
   "metadata": {
    "execution": {
     "iopub.execute_input": "2025-10-30T07:08:03.503501Z",
     "iopub.status.busy": "2025-10-30T07:08:03.503501Z",
     "iopub.status.idle": "2025-10-30T07:08:31.437963Z",
     "shell.execute_reply": "2025-10-30T07:08:31.437963Z"
    }
   },
   "outputs": [
    {
     "name": "stdout",
     "output_type": "stream",
     "text": [
      "PyAEDT INFO: Parsing C:\\Users\\ansys\\AppData\\Local\\Temp\\tmpgkbwgigl.ansys\\maxwell_magnetic_force\\Maxwell_Magnetic_Force.aedt.\n"
     ]
    },
    {
     "name": "stdout",
     "output_type": "stream",
     "text": [
      "PyAEDT INFO: Python version 3.10.11 (tags/v3.10.11:7d4cc5a, Apr  5 2023, 00:38:17) [MSC v.1929 64 bit (AMD64)].\n"
     ]
    },
    {
     "name": "stdout",
     "output_type": "stream",
     "text": [
      "PyAEDT INFO: PyAEDT version 0.22.dev0.\n"
     ]
    },
    {
     "name": "stdout",
     "output_type": "stream",
     "text": [
      "PyAEDT INFO: Initializing new Desktop session.\n"
     ]
    },
    {
     "name": "stdout",
     "output_type": "stream",
     "text": [
      "PyAEDT INFO: Log on console is enabled.\n"
     ]
    },
    {
     "name": "stdout",
     "output_type": "stream",
     "text": [
      "PyAEDT INFO: Log on file C:\\Users\\ansys\\AppData\\Local\\Temp\\pyaedt_ansys_f3be28ba-79b6-4c32-af32-be5257e1609b.log is enabled.\n"
     ]
    },
    {
     "name": "stdout",
     "output_type": "stream",
     "text": [
      "PyAEDT INFO: Log on AEDT is disabled.\n"
     ]
    },
    {
     "name": "stdout",
     "output_type": "stream",
     "text": [
      "PyAEDT INFO: Debug logger is disabled. PyAEDT methods will not be logged.\n"
     ]
    },
    {
     "name": "stdout",
     "output_type": "stream",
     "text": [
      "PyAEDT INFO: Launching PyAEDT with gRPC plugin.\n"
     ]
    },
    {
     "name": "stdout",
     "output_type": "stream",
     "text": [
      "PyAEDT INFO: New AEDT session is starting on gRPC port 51723.\n"
     ]
    },
    {
     "name": "stdout",
     "output_type": "stream",
     "text": [
      "PyAEDT INFO: File C:\\Users\\ansys\\AppData\\Local\\Temp\\tmpgkbwgigl.ansys\\maxwell_magnetic_force\\Maxwell_Magnetic_Force.aedt correctly loaded. Elapsed time: 0m 0sec\n"
     ]
    },
    {
     "name": "stdout",
     "output_type": "stream",
     "text": [
      "PyAEDT INFO: Electronics Desktop started on gRPC port: 51723 after 10.283095359802246 seconds.\n"
     ]
    },
    {
     "name": "stdout",
     "output_type": "stream",
     "text": [
      "PyAEDT INFO: AEDT installation Path C:\\Program Files\\ANSYS Inc\\v252\\AnsysEM\n"
     ]
    },
    {
     "name": "stdout",
     "output_type": "stream",
     "text": [
      "PyAEDT INFO: Ansoft.ElectronicsDesktop.2025.2 version started with process ID 5324.\n"
     ]
    },
    {
     "name": "stdout",
     "output_type": "stream",
     "text": [
      "PyAEDT INFO: Project Maxwell_Magnetic_Force has been opened.\n"
     ]
    },
    {
     "name": "stdout",
     "output_type": "stream",
     "text": [
      "PyAEDT INFO: Active Design set to Maxwell2DDesign1\n"
     ]
    },
    {
     "name": "stdout",
     "output_type": "stream",
     "text": [
      "PyAEDT INFO: Aedt Objects correctly read\n"
     ]
    }
   ],
   "source": [
    "m2d = ansys.aedt.core.Maxwell2d(\n",
    "    version=AEDT_VERSION,\n",
    "    non_graphical=NG_MODE,\n",
    "    project=project_path,\n",
    "    new_desktop=True,\n",
    "    design=\"Maxwell2DDesign1\",\n",
    ")"
   ]
  },
  {
   "cell_type": "markdown",
   "id": "3ae6caa5",
   "metadata": {},
   "source": [
    "# First option"
   ]
  },
  {
   "cell_type": "markdown",
   "id": "0da02a55",
   "metadata": {},
   "source": [
    "## Create a polyline\n",
    "\n",
    "Create a polyline, specifying its ends."
   ]
  },
  {
   "cell_type": "code",
   "execution_count": 6,
   "id": "5c7213a2",
   "metadata": {
    "execution": {
     "iopub.execute_input": "2025-10-30T07:08:31.437963Z",
     "iopub.status.busy": "2025-10-30T07:08:31.437963Z",
     "iopub.status.idle": "2025-10-30T07:08:33.387331Z",
     "shell.execute_reply": "2025-10-30T07:08:33.387331Z"
    }
   },
   "outputs": [
    {
     "name": "stdout",
     "output_type": "stream",
     "text": [
      "PyAEDT INFO: Modeler2D class has been initialized!\n"
     ]
    },
    {
     "name": "stdout",
     "output_type": "stream",
     "text": [
      "PyAEDT INFO: Modeler class has been initialized! Elapsed time: 0m 1sec\n"
     ]
    },
    {
     "name": "stdout",
     "output_type": "stream",
     "text": [
      "PyAEDT INFO: Materials class has been initialized! Elapsed time: 0m 0sec\n"
     ]
    }
   ],
   "source": [
    "poly = m2d.modeler.create_polyline(points=[[10, -10, 0], [10, 10, 0]], name=\"polyline\")"
   ]
  },
  {
   "cell_type": "markdown",
   "id": "06da4ae8",
   "metadata": {},
   "source": [
    "Duplicate the polyline along a vector."
   ]
  },
  {
   "cell_type": "code",
   "execution_count": 7,
   "id": "14b0031c",
   "metadata": {
    "execution": {
     "iopub.execute_input": "2025-10-30T07:08:33.387331Z",
     "iopub.status.busy": "2025-10-30T07:08:33.387331Z",
     "iopub.status.idle": "2025-10-30T07:08:33.434978Z",
     "shell.execute_reply": "2025-10-30T07:08:33.434978Z"
    }
   },
   "outputs": [],
   "source": [
    "polys = [poly.name]\n",
    "polys.extend(poly.duplicate_along_line(vector=[-0.5, 0, 0], clones=10))"
   ]
  },
  {
   "cell_type": "markdown",
   "id": "253a62ac",
   "metadata": {},
   "source": [
    "## Compute magnetomotive force along each line\n",
    "\n",
    "Create and add a new formula to add in the PyAEDT advanced fields calculator.\n",
    "Create the fields report object and get field data.\n",
    "Create a data table report for the H field along each line and export it to a .csv file."
   ]
  },
  {
   "cell_type": "code",
   "execution_count": 8,
   "id": "f5acb94c",
   "metadata": {
    "execution": {
     "iopub.execute_input": "2025-10-30T07:08:33.438604Z",
     "iopub.status.busy": "2025-10-30T07:08:33.438604Z",
     "iopub.status.idle": "2025-10-30T07:08:33.451032Z",
     "shell.execute_reply": "2025-10-30T07:08:33.451032Z"
    }
   },
   "outputs": [],
   "source": [
    "my_expression = {\n",
    "    \"name\": None,\n",
    "    \"description\": \"Magnetomotive force along a line\",\n",
    "    \"design_type\": [\"Maxwell 2D\", \"Maxwell 3D\"],\n",
    "    \"fields_type\": [\"Fields\"],\n",
    "    \"primary_sweep\": \"distance\",\n",
    "    \"assignment\": None,\n",
    "    \"assignment_type\": [\"Line\"],\n",
    "    \"operations\": [\n",
    "        \"Fundamental_Quantity('H')\",\n",
    "        \"Operation('Tangent')\",\n",
    "        \"Operation('Dot')\",\n",
    "        \"EnterLine('assignment')\",\n",
    "        \"Operation('LineValue')\",\n",
    "        \"Operation('Integrate')\",\n",
    "    ],\n",
    "    \"report\": [\"Data Table\"],\n",
    "}"
   ]
  },
  {
   "cell_type": "code",
   "execution_count": 9,
   "id": "ade68073",
   "metadata": {
    "execution": {
     "iopub.execute_input": "2025-10-30T07:08:33.451032Z",
     "iopub.status.busy": "2025-10-30T07:08:33.451032Z",
     "iopub.status.idle": "2025-10-30T07:08:35.466331Z",
     "shell.execute_reply": "2025-10-30T07:08:35.466331Z"
    }
   },
   "outputs": [
    {
     "name": "stdout",
     "output_type": "stream",
     "text": [
      "PyAEDT INFO: PostProcessor class has been initialized! Elapsed time: 0m 0sec\n"
     ]
    },
    {
     "name": "stdout",
     "output_type": "stream",
     "text": [
      "PyAEDT INFO: PostProcessor class has been initialized! Elapsed time: 0m 0sec\n"
     ]
    },
    {
     "name": "stdout",
     "output_type": "stream",
     "text": [
      "PyAEDT INFO: Post class has been initialized! Elapsed time: 0m 0sec\n"
     ]
    },
    {
     "name": "stdout",
     "output_type": "stream",
     "text": [
      "PyAEDT WARNING: No context provided for Fields. Assigned object: None\n"
     ]
    },
    {
     "name": "stdout",
     "output_type": "stream",
     "text": [
      "PyAEDT WARNING: No context provided for Fields. Assigned object: None\n"
     ]
    },
    {
     "name": "stdout",
     "output_type": "stream",
     "text": [
      "PyAEDT WARNING: No context provided for Fields. Assigned object: None\n"
     ]
    },
    {
     "name": "stdout",
     "output_type": "stream",
     "text": [
      "PyAEDT WARNING: No context provided for Fields. Assigned object: None\n"
     ]
    },
    {
     "name": "stdout",
     "output_type": "stream",
     "text": [
      "PyAEDT WARNING: No context provided for Fields. Assigned object: None\n"
     ]
    },
    {
     "name": "stdout",
     "output_type": "stream",
     "text": [
      "PyAEDT WARNING: No context provided for Fields. Assigned object: None\n"
     ]
    },
    {
     "name": "stdout",
     "output_type": "stream",
     "text": [
      "PyAEDT WARNING: No context provided for Fields. Assigned object: None\n"
     ]
    },
    {
     "name": "stdout",
     "output_type": "stream",
     "text": [
      "PyAEDT WARNING: No context provided for Fields. Assigned object: None\n"
     ]
    },
    {
     "name": "stdout",
     "output_type": "stream",
     "text": [
      "PyAEDT WARNING: No context provided for Fields. Assigned object: None\n"
     ]
    },
    {
     "name": "stdout",
     "output_type": "stream",
     "text": [
      "PyAEDT WARNING: No context provided for Fields. Assigned object: None\n"
     ]
    }
   ],
   "source": [
    "quantities = []\n",
    "for p in polys:\n",
    "    quantity = \"H_field_{}\".format(p)\n",
    "    quantities.append(quantity)\n",
    "    my_expression[\"name\"] = quantity\n",
    "    my_expression[\"assignment\"] = quantity\n",
    "    m2d.post.fields_calculator.add_expression(my_expression, p)\n",
    "    report = m2d.post.create_report(\n",
    "        expressions=quantity,\n",
    "        report_category=\"Fields\",\n",
    "        plot_type=\"Data Table\",\n",
    "        plot_name=quantity\n",
    "    )"
   ]
  },
  {
   "cell_type": "markdown",
   "id": "c384c9d9",
   "metadata": {},
   "source": [
    "# Second option"
   ]
  },
  {
   "cell_type": "markdown",
   "id": "3cba1822",
   "metadata": {},
   "source": [
    "## Create a design variable\n",
    "\n",
    "Parametrize the polyline x position."
   ]
  },
  {
   "cell_type": "code",
   "execution_count": 10,
   "id": "e3dd4a40",
   "metadata": {
    "execution": {
     "iopub.execute_input": "2025-10-30T07:08:35.466331Z",
     "iopub.status.busy": "2025-10-30T07:08:35.466331Z",
     "iopub.status.idle": "2025-10-30T07:08:35.498351Z",
     "shell.execute_reply": "2025-10-30T07:08:35.498351Z"
    }
   },
   "outputs": [],
   "source": [
    "m2d[\"xl\"] = \"10mm\""
   ]
  },
  {
   "cell_type": "markdown",
   "id": "48a10a70",
   "metadata": {},
   "source": [
    "## Create polyline\n",
    "\n",
    "Create a parametrized polyline, specifying its ends."
   ]
  },
  {
   "cell_type": "code",
   "execution_count": 11,
   "id": "2b60c749",
   "metadata": {
    "execution": {
     "iopub.execute_input": "2025-10-30T07:08:35.502014Z",
     "iopub.status.busy": "2025-10-30T07:08:35.502014Z",
     "iopub.status.idle": "2025-10-30T07:08:35.545753Z",
     "shell.execute_reply": "2025-10-30T07:08:35.545753Z"
    }
   },
   "outputs": [],
   "source": [
    "poly = m2d.modeler.create_polyline(\n",
    "    points=[[\"xl\", -10, 0], [\"xl\", 10, 0]], name=\"polyline_sweep\"\n",
    ")"
   ]
  },
  {
   "cell_type": "markdown",
   "id": "f34c70b1",
   "metadata": {},
   "source": [
    "## Add parametric sweep\n",
    "\n",
    "Add a parametric sweep where the parameter to sweep is ``xl``.\n",
    "Create a linear step sweep from ``10mm`` to ``15mm`` every ``1mm`` step."
   ]
  },
  {
   "cell_type": "code",
   "execution_count": 12,
   "id": "db11aa7e",
   "metadata": {
    "execution": {
     "iopub.execute_input": "2025-10-30T07:08:35.545753Z",
     "iopub.status.busy": "2025-10-30T07:08:35.545753Z",
     "iopub.status.idle": "2025-10-30T07:08:35.672810Z",
     "shell.execute_reply": "2025-10-30T07:08:35.672810Z"
    }
   },
   "outputs": [],
   "source": [
    "param_sweep = m2d.parametrics.add(\n",
    "    variable=\"xl\",\n",
    "    start_point=\"10mm\",\n",
    "    end_point=\"15mm\",\n",
    "    step=1,\n",
    "    variation_type=\"LinearStep\",\n",
    ")"
   ]
  },
  {
   "cell_type": "markdown",
   "id": "20c3784c",
   "metadata": {},
   "source": [
    "## Compute magnetomotive force along the line\n",
    "\n",
    "Create and add a new formula to add in the PyAEDT advanced fields calculator."
   ]
  },
  {
   "cell_type": "code",
   "execution_count": 13,
   "id": "d811a25c",
   "metadata": {
    "execution": {
     "iopub.execute_input": "2025-10-30T07:08:35.677756Z",
     "iopub.status.busy": "2025-10-30T07:08:35.677756Z",
     "iopub.status.idle": "2025-10-30T07:08:35.768318Z",
     "shell.execute_reply": "2025-10-30T07:08:35.768318Z"
    }
   },
   "outputs": [
    {
     "data": {
      "text/plain": [
       "'H_field_polyline_sweep'"
      ]
     },
     "execution_count": 13,
     "metadata": {},
     "output_type": "execute_result"
    }
   ],
   "source": [
    "quantity_sweep = \"H_field_{}\".format(poly.name)\n",
    "my_expression[\"name\"] = quantity_sweep\n",
    "my_expression[\"assignment\"] = poly.name\n",
    "m2d.post.fields_calculator.add_expression(my_expression, poly.name)"
   ]
  },
  {
   "cell_type": "markdown",
   "id": "197e8a20",
   "metadata": {},
   "source": [
    "## Add parametric sweep calculation specifying the quantity (H) and save fields."
   ]
  },
  {
   "cell_type": "code",
   "execution_count": 14,
   "id": "a7b73066",
   "metadata": {
    "execution": {
     "iopub.execute_input": "2025-10-30T07:08:35.768318Z",
     "iopub.status.busy": "2025-10-30T07:08:35.768318Z",
     "iopub.status.idle": "2025-10-30T07:08:35.831311Z",
     "shell.execute_reply": "2025-10-30T07:08:35.831311Z"
    }
   },
   "outputs": [],
   "source": [
    "param_sweep.add_calculation(calculation=quantity_sweep, report_type=\"Fields\", ranges={})\n",
    "param_sweep.props[\"ProdOptiSetupDataV2\"][\"SaveFields\"] = True"
   ]
  },
  {
   "cell_type": "markdown",
   "id": "8d999a99",
   "metadata": {},
   "source": [
    "## Create data table report\n",
    "\n",
    "Create a data table report to display H for each polyline position."
   ]
  },
  {
   "cell_type": "code",
   "execution_count": 15,
   "id": "91b04e96",
   "metadata": {
    "execution": {
     "iopub.execute_input": "2025-10-30T07:08:35.831311Z",
     "iopub.status.busy": "2025-10-30T07:08:35.831311Z",
     "iopub.status.idle": "2025-10-30T07:08:35.957840Z",
     "shell.execute_reply": "2025-10-30T07:08:35.957840Z"
    }
   },
   "outputs": [
    {
     "name": "stdout",
     "output_type": "stream",
     "text": [
      "PyAEDT WARNING: No context provided for Fields. Assigned object: None\n"
     ]
    }
   ],
   "source": [
    "report_sweep = m2d.post.create_report(\n",
    "    expressions=quantity_sweep,\n",
    "    report_category=\"Fields\",\n",
    "    plot_type=\"Data Table\",\n",
    "    plot_name=quantity_sweep,\n",
    "    primary_sweep_variable=\"xl\",\n",
    "    variations={\"xl\": \"All\"},\n",
    ")"
   ]
  },
  {
   "cell_type": "markdown",
   "id": "4fe34122",
   "metadata": {},
   "source": [
    "## Analyze parametric sweep"
   ]
  },
  {
   "cell_type": "code",
   "execution_count": 16,
   "id": "d77c81fc",
   "metadata": {
    "execution": {
     "iopub.execute_input": "2025-10-30T07:08:35.957840Z",
     "iopub.status.busy": "2025-10-30T07:08:35.957840Z",
     "iopub.status.idle": "2025-10-30T07:09:08.082492Z",
     "shell.execute_reply": "2025-10-30T07:09:08.082492Z"
    }
   },
   "outputs": [
    {
     "name": "stdout",
     "output_type": "stream",
     "text": [
      "PyAEDT INFO: Project Maxwell_Magnetic_Force Saved correctly\n"
     ]
    },
    {
     "name": "stdout",
     "output_type": "stream",
     "text": [
      "PyAEDT INFO: Key Desktop/ActiveDSOConfigurations/Maxwell 2D correctly changed.\n"
     ]
    },
    {
     "name": "stdout",
     "output_type": "stream",
     "text": [
      "PyAEDT INFO: Solving Optimetrics\n"
     ]
    },
    {
     "name": "stdout",
     "output_type": "stream",
     "text": [
      "PyAEDT INFO: Design setup Parametric_X5B04I solved correctly in 0.0h 0.0m 32.0s\n"
     ]
    },
    {
     "name": "stdout",
     "output_type": "stream",
     "text": [
      "PyAEDT INFO: Key Desktop/ActiveDSOConfigurations/Maxwell 2D correctly changed.\n"
     ]
    },
    {
     "data": {
      "text/plain": [
       "True"
      ]
     },
     "execution_count": 16,
     "metadata": {},
     "output_type": "execute_result"
    }
   ],
   "source": [
    "param_sweep.analyze(cores=NUM_CORES)"
   ]
  },
  {
   "cell_type": "markdown",
   "id": "a96e613e",
   "metadata": {},
   "source": [
    "## Export results\n",
    "\n",
    "Export results in a .csv file for the parametric sweep analysis (second option)."
   ]
  },
  {
   "cell_type": "code",
   "execution_count": 17,
   "id": "24626389",
   "metadata": {
    "execution": {
     "iopub.execute_input": "2025-10-30T07:09:08.086571Z",
     "iopub.status.busy": "2025-10-30T07:09:08.086571Z",
     "iopub.status.idle": "2025-10-30T07:09:08.116343Z",
     "shell.execute_reply": "2025-10-30T07:09:08.114336Z"
    }
   },
   "outputs": [
    {
     "data": {
      "text/plain": [
       "'C:\\\\Users\\\\ansys\\\\AppData\\\\Local\\\\Temp\\\\tmpgkbwgigl.ansys\\\\H_field_polyline_sweep.csv'"
      ]
     },
     "execution_count": 17,
     "metadata": {},
     "output_type": "execute_result"
    }
   ],
   "source": [
    "m2d.post.export_report_to_csv(\n",
    "    project_dir=temp_folder.name,\n",
    "    plot_name=quantity_sweep,\n",
    ")"
   ]
  },
  {
   "cell_type": "markdown",
   "id": "227cc058",
   "metadata": {},
   "source": [
    "Export results in a .csv file for each polyline (first option)."
   ]
  },
  {
   "cell_type": "code",
   "execution_count": 18,
   "id": "b6e4e1ed",
   "metadata": {
    "execution": {
     "iopub.execute_input": "2025-10-30T07:09:08.118351Z",
     "iopub.status.busy": "2025-10-30T07:09:08.118351Z",
     "iopub.status.idle": "2025-10-30T07:09:08.258334Z",
     "shell.execute_reply": "2025-10-30T07:09:08.258334Z"
    }
   },
   "outputs": [
    {
     "data": {
      "text/plain": [
       "['C:\\\\Users\\\\ansys\\\\AppData\\\\Local\\\\Temp\\\\tmpgkbwgigl.ansys\\\\H_field_polyline.csv',\n",
       " 'C:\\\\Users\\\\ansys\\\\AppData\\\\Local\\\\Temp\\\\tmpgkbwgigl.ansys\\\\H_field_polyline_1.csv',\n",
       " 'C:\\\\Users\\\\ansys\\\\AppData\\\\Local\\\\Temp\\\\tmpgkbwgigl.ansys\\\\H_field_polyline_2.csv',\n",
       " 'C:\\\\Users\\\\ansys\\\\AppData\\\\Local\\\\Temp\\\\tmpgkbwgigl.ansys\\\\H_field_polyline_3.csv',\n",
       " 'C:\\\\Users\\\\ansys\\\\AppData\\\\Local\\\\Temp\\\\tmpgkbwgigl.ansys\\\\H_field_polyline_4.csv',\n",
       " 'C:\\\\Users\\\\ansys\\\\AppData\\\\Local\\\\Temp\\\\tmpgkbwgigl.ansys\\\\H_field_polyline_5.csv',\n",
       " 'C:\\\\Users\\\\ansys\\\\AppData\\\\Local\\\\Temp\\\\tmpgkbwgigl.ansys\\\\H_field_polyline_6.csv',\n",
       " 'C:\\\\Users\\\\ansys\\\\AppData\\\\Local\\\\Temp\\\\tmpgkbwgigl.ansys\\\\H_field_polyline_7.csv',\n",
       " 'C:\\\\Users\\\\ansys\\\\AppData\\\\Local\\\\Temp\\\\tmpgkbwgigl.ansys\\\\H_field_polyline_8.csv',\n",
       " 'C:\\\\Users\\\\ansys\\\\AppData\\\\Local\\\\Temp\\\\tmpgkbwgigl.ansys\\\\H_field_polyline_9.csv']"
      ]
     },
     "execution_count": 18,
     "metadata": {},
     "output_type": "execute_result"
    }
   ],
   "source": [
    "[\n",
    "    m2d.post.export_report_to_csv(\n",
    "        project_dir=temp_folder.name,\n",
    "        plot_name=q,\n",
    "    )\n",
    "    for q in quantities\n",
    "]"
   ]
  },
  {
   "cell_type": "markdown",
   "id": "9a8e304a",
   "metadata": {},
   "source": [
    "## Release AEDT"
   ]
  },
  {
   "cell_type": "code",
   "execution_count": 19,
   "id": "6af993b1",
   "metadata": {
    "execution": {
     "iopub.execute_input": "2025-10-30T07:09:08.258334Z",
     "iopub.status.busy": "2025-10-30T07:09:08.258334Z",
     "iopub.status.idle": "2025-10-30T07:09:35.580689Z",
     "shell.execute_reply": "2025-10-30T07:09:35.580689Z"
    }
   },
   "outputs": [
    {
     "name": "stdout",
     "output_type": "stream",
     "text": [
      "PyAEDT INFO: Project Maxwell_Magnetic_Force Saved correctly\n"
     ]
    },
    {
     "name": "stdout",
     "output_type": "stream",
     "text": [
      "PyAEDT INFO: Desktop has been released and closed.\n"
     ]
    }
   ],
   "source": [
    "m2d.save_project()\n",
    "m2d.release_desktop()\n",
    "# Wait 3 seconds to allow AEDT to shut down before cleaning the temporary directory.\n",
    "time.sleep(3)"
   ]
  },
  {
   "cell_type": "markdown",
   "id": "6fe268d7",
   "metadata": {},
   "source": [
    "## Clean up\n",
    "\n",
    "All project files are saved in the folder ``temp_folder.name``.\n",
    "If you've run this example as a Jupyter notebook, you\n",
    "can retrieve those project files. The following cell\n",
    "removes all temporary files, including the project folder."
   ]
  },
  {
   "cell_type": "code",
   "execution_count": 20,
   "id": "0f8fb90b",
   "metadata": {
    "execution": {
     "iopub.execute_input": "2025-10-30T07:09:35.580689Z",
     "iopub.status.busy": "2025-10-30T07:09:35.580689Z",
     "iopub.status.idle": "2025-10-30T07:09:35.675656Z",
     "shell.execute_reply": "2025-10-30T07:09:35.675656Z"
    }
   },
   "outputs": [],
   "source": [
    "temp_folder.cleanup()"
   ]
  }
 ],
 "metadata": {
  "jupytext": {
   "cell_metadata_filter": "-all",
   "main_language": "python",
   "notebook_metadata_filter": "-all"
  },
  "language_info": {
   "codemirror_mode": {
    "name": "ipython",
    "version": 3
   },
   "file_extension": ".py",
   "mimetype": "text/x-python",
   "name": "python",
   "nbconvert_exporter": "python",
   "pygments_lexer": "ipython3",
   "version": "3.10.11"
  }
 },
 "nbformat": 4,
 "nbformat_minor": 5
}
