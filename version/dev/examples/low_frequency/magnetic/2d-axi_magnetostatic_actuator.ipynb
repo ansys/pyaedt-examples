{
 "cells": [
  {
   "cell_type": "markdown",
   "id": "03edc348",
   "metadata": {},
   "source": [
    "# 2D Axi-symmetric Actuator\n",
    "\n",
    "This example demonstrates how to leverage both: axi-symmetry and the magnetostatic solver\n",
    "to calculate the forces experienced by the anchor of an actuator due to change in\n",
    "current and anchor location\n",
    "\n",
    "Keywords: **Maxwell2D**, **axi-symmetry** **magnetostatic**, **translational motion**, **parametric sweep**,\n",
    "**installation example**"
   ]
  },
  {
   "cell_type": "markdown",
   "id": "dd0dca2b",
   "metadata": {},
   "source": [
    "## Prerequisites\n",
    "\n",
    "### Perform imports"
   ]
  },
  {
   "cell_type": "code",
   "execution_count": 1,
   "id": "b2f161ce",
   "metadata": {
    "execution": {
     "iopub.execute_input": "2025-10-30T06:44:49.440758Z",
     "iopub.status.busy": "2025-10-30T06:44:49.440758Z",
     "iopub.status.idle": "2025-10-30T06:44:52.554908Z",
     "shell.execute_reply": "2025-10-30T06:44:52.554908Z"
    }
   },
   "outputs": [],
   "source": [
    "import os\n",
    "import tempfile\n",
    "import time\n",
    "\n",
    "import ansys.aedt.core  # Interface to Ansys Electronics Desktop"
   ]
  },
  {
   "cell_type": "markdown",
   "id": "2a3b4ec3",
   "metadata": {},
   "source": [
    "### Define constants\n",
    "Constants help ensure consistency and avoid repetition throughout the example."
   ]
  },
  {
   "cell_type": "code",
   "execution_count": 2,
   "id": "50eb3388",
   "metadata": {
    "execution": {
     "iopub.execute_input": "2025-10-30T06:44:52.554908Z",
     "iopub.status.busy": "2025-10-30T06:44:52.554908Z",
     "iopub.status.idle": "2025-10-30T06:44:52.571109Z",
     "shell.execute_reply": "2025-10-30T06:44:52.571109Z"
    },
    "lines_to_next_cell": 2
   },
   "outputs": [],
   "source": [
    "AEDT_VERSION = \"2025.2\"\n",
    "NUM_CORES = 4\n",
    "NG_MODE = False  # Open AEDT UI when it is launched."
   ]
  },
  {
   "cell_type": "markdown",
   "id": "a666951d",
   "metadata": {},
   "source": [
    "### Create temporary directory\n",
    "\n",
    "Create a temporary working directory.\n",
    "The name of the working folder is stored in ``temp_folder.name``.\n",
    "\n",
    "> **Note:** The final cell in the notebook cleans up the temporary folder. If you want to\n",
    "> retrieve the AEDT project and data, do so before executing the final cell in the notebook."
   ]
  },
  {
   "cell_type": "code",
   "execution_count": 3,
   "id": "02870c7d",
   "metadata": {
    "execution": {
     "iopub.execute_input": "2025-10-30T06:44:52.571109Z",
     "iopub.status.busy": "2025-10-30T06:44:52.571109Z",
     "iopub.status.idle": "2025-10-30T06:44:52.587002Z",
     "shell.execute_reply": "2025-10-30T06:44:52.587002Z"
    }
   },
   "outputs": [],
   "source": [
    "temp_folder = tempfile.TemporaryDirectory(suffix=\".ansys\")"
   ]
  },
  {
   "cell_type": "markdown",
   "id": "e052b0d6",
   "metadata": {},
   "source": [
    "### Launch Maxwell 2d\n",
    "\n",
    "Create an instance of\n",
    "the ``Maxwell2d`` class. The Ansys Electronics Desktop will be launched\n",
    "with an active Maxwell2D design. The ``m2d`` object is subsequently\n",
    "used to\n",
    "create and simulate the actuator model."
   ]
  },
  {
   "cell_type": "code",
   "execution_count": 4,
   "id": "c8916abd",
   "metadata": {
    "execution": {
     "iopub.execute_input": "2025-10-30T06:44:52.587002Z",
     "iopub.status.busy": "2025-10-30T06:44:52.587002Z",
     "iopub.status.idle": "2025-10-30T06:45:21.651014Z",
     "shell.execute_reply": "2025-10-30T06:45:21.651014Z"
    }
   },
   "outputs": [
    {
     "name": "stdout",
     "output_type": "stream",
     "text": [
      "PyAEDT INFO: Python version 3.10.11 (tags/v3.10.11:7d4cc5a, Apr  5 2023, 00:38:17) [MSC v.1929 64 bit (AMD64)].\n"
     ]
    },
    {
     "name": "stdout",
     "output_type": "stream",
     "text": [
      "PyAEDT INFO: PyAEDT version 0.22.dev0.\n"
     ]
    },
    {
     "name": "stdout",
     "output_type": "stream",
     "text": [
      "PyAEDT INFO: Initializing new Desktop session.\n"
     ]
    },
    {
     "name": "stdout",
     "output_type": "stream",
     "text": [
      "PyAEDT INFO: Log on console is enabled.\n"
     ]
    },
    {
     "name": "stdout",
     "output_type": "stream",
     "text": [
      "PyAEDT INFO: Log on file C:\\Users\\ansys\\AppData\\Local\\Temp\\pyaedt_ansys_6cc7197c-2406-457b-904b-1a79b780b6ea.log is enabled.\n"
     ]
    },
    {
     "name": "stdout",
     "output_type": "stream",
     "text": [
      "PyAEDT INFO: Log on AEDT is disabled.\n"
     ]
    },
    {
     "name": "stdout",
     "output_type": "stream",
     "text": [
      "PyAEDT INFO: Debug logger is disabled. PyAEDT methods will not be logged.\n"
     ]
    },
    {
     "name": "stdout",
     "output_type": "stream",
     "text": [
      "PyAEDT INFO: Launching PyAEDT with gRPC plugin.\n"
     ]
    },
    {
     "name": "stdout",
     "output_type": "stream",
     "text": [
      "PyAEDT INFO: New AEDT session is starting on gRPC port 50006.\n"
     ]
    },
    {
     "name": "stdout",
     "output_type": "stream",
     "text": [
      "PyAEDT INFO: Electronics Desktop started on gRPC port: 50006 after 11.312179327011108 seconds.\n"
     ]
    },
    {
     "name": "stdout",
     "output_type": "stream",
     "text": [
      "PyAEDT INFO: AEDT installation Path C:\\Program Files\\ANSYS Inc\\v252\\AnsysEM\n"
     ]
    },
    {
     "name": "stdout",
     "output_type": "stream",
     "text": [
      "PyAEDT INFO: Ansoft.ElectronicsDesktop.2025.2 version started with process ID 1560.\n"
     ]
    },
    {
     "name": "stdout",
     "output_type": "stream",
     "text": [
      "PyAEDT INFO: Project 2d_axi_magsta_actuator has been created.\n"
     ]
    },
    {
     "name": "stdout",
     "output_type": "stream",
     "text": [
      "PyAEDT INFO: No design is present. Inserting a new design.\n"
     ]
    },
    {
     "name": "stdout",
     "output_type": "stream",
     "text": [
      "PyAEDT INFO: Added design 'Maxwell 2D_I6W' of type Maxwell 2D.\n"
     ]
    },
    {
     "name": "stdout",
     "output_type": "stream",
     "text": [
      "PyAEDT INFO: Aedt Objects correctly read\n"
     ]
    }
   ],
   "source": [
    "project_name = os.path.join(temp_folder.name, \"2d_axi_magsta_actuator.aedt\")\n",
    "m2d = ansys.aedt.core.Maxwell2d(\n",
    "    project=project_name,\n",
    "    solution_type=\"MagnetostaticZ\",\n",
    "    version=AEDT_VERSION,\n",
    "    non_graphical=NG_MODE,\n",
    "    new_desktop=True,\n",
    ")"
   ]
  },
  {
   "cell_type": "markdown",
   "id": "c1d35836",
   "metadata": {},
   "source": [
    "## Model Preparation\n",
    "\n",
    "### Define actuator's housing point location\n",
    "\n",
    "The actuator's housing is built using line segments\n",
    "for readability and reusability we define the points\n",
    "as a python's list of lists, where each sublist defines an\n",
    "x-, y-, z-coordinate. (e.g., [[x1,y1,z1],...,[xn,yn,zn]]."
   ]
  },
  {
   "cell_type": "code",
   "execution_count": 5,
   "id": "10eb6463",
   "metadata": {
    "execution": {
     "iopub.execute_input": "2025-10-30T06:45:21.651014Z",
     "iopub.status.busy": "2025-10-30T06:45:21.651014Z",
     "iopub.status.idle": "2025-10-30T06:45:21.666818Z",
     "shell.execute_reply": "2025-10-30T06:45:21.666818Z"
    }
   },
   "outputs": [],
   "source": [
    "points_housing = [\n",
    "    [0, 0, 0],\n",
    "    [0, 0, -10],\n",
    "    [12, 0, -10],\n",
    "    [12, 0, 10],\n",
    "    [2.5, 0, 10],\n",
    "    [2.5, 0, 8],\n",
    "    [10, 0, 8],\n",
    "    [10, 0, -8],\n",
    "    [2, 0, -8],\n",
    "    [2, 0, 0],\n",
    "]"
   ]
  },
  {
   "cell_type": "markdown",
   "id": "79662bf5",
   "metadata": {},
   "source": [
    "### Declare and initialize design parameters"
   ]
  },
  {
   "cell_type": "code",
   "execution_count": 6,
   "id": "aa9ee118",
   "metadata": {
    "execution": {
     "iopub.execute_input": "2025-10-30T06:45:21.666818Z",
     "iopub.status.busy": "2025-10-30T06:45:21.666818Z",
     "iopub.status.idle": "2025-10-30T06:45:22.681590Z",
     "shell.execute_reply": "2025-10-30T06:45:22.681590Z"
    }
   },
   "outputs": [
    {
     "name": "stdout",
     "output_type": "stream",
     "text": [
      "PyAEDT INFO: Modeler2D class has been initialized!\n"
     ]
    },
    {
     "name": "stdout",
     "output_type": "stream",
     "text": [
      "PyAEDT INFO: Modeler class has been initialized! Elapsed time: 0m 1sec\n"
     ]
    }
   ],
   "source": [
    "m2d.modeler.model_units = \"mm\"  # Global units used in geometry creation\n",
    "m2d[\"Amp_1\"] = \"1000A\"  # Net current applied to coil\n",
    "m2d[\"move\"] = \"0mm\"  # Displacement applied to anchor"
   ]
  },
  {
   "cell_type": "markdown",
   "id": "6490a3e0",
   "metadata": {},
   "source": [
    "### Create 2D model\n",
    "Build coil, anchor and housing geometries"
   ]
  },
  {
   "cell_type": "code",
   "execution_count": 7,
   "id": "3cd7f858",
   "metadata": {
    "execution": {
     "iopub.execute_input": "2025-10-30T06:45:22.681590Z",
     "iopub.status.busy": "2025-10-30T06:45:22.681590Z",
     "iopub.status.idle": "2025-10-30T06:45:35.834493Z",
     "shell.execute_reply": "2025-10-30T06:45:35.834493Z"
    }
   },
   "outputs": [
    {
     "name": "stdout",
     "output_type": "stream",
     "text": [
      "PyAEDT INFO: Materials class has been initialized! Elapsed time: 0m 0sec\n"
     ]
    },
    {
     "data": {
      "text/plain": [
       "True"
      ]
     },
     "execution_count": 7,
     "metadata": {},
     "output_type": "execute_result"
    }
   ],
   "source": [
    "coil_m = m2d.modeler.create_rectangle(\n",
    "    origin=[\"3mm\", \"0mm\", \"7mm\"], sizes=[-14, 6], name=\"Coil\", material=\"Copper\"\n",
    ")\n",
    "anchor_m = m2d.modeler.create_rectangle(\n",
    "    origin=[\"0mm\", \"0mm\", \"13mm - move\"],\n",
    "    sizes=[-8, 2],\n",
    "    name=\"Anchor\",\n",
    "    material=\"steel_1008\",\n",
    ")\n",
    "housing_m = m2d.modeler.create_polyline(\n",
    "    points_housing, close_surface=True, name=\"Housing\", material=\"steel_1008\"\n",
    ")\n",
    "m2d.modeler.cover_lines(housing_m)"
   ]
  },
  {
   "cell_type": "markdown",
   "id": "92366290",
   "metadata": {},
   "source": [
    "Create surrounding vacuum domain"
   ]
  },
  {
   "cell_type": "code",
   "execution_count": 8,
   "id": "f9e5936f",
   "metadata": {
    "execution": {
     "iopub.execute_input": "2025-10-30T06:45:35.834493Z",
     "iopub.status.busy": "2025-10-30T06:45:35.834493Z",
     "iopub.status.idle": "2025-10-30T06:45:36.135653Z",
     "shell.execute_reply": "2025-10-30T06:45:36.135653Z"
    }
   },
   "outputs": [],
   "source": [
    "region_m = m2d.modeler.create_region(pad_percent=100)\n",
    "region_m.material_name = \"vacuum\""
   ]
  },
  {
   "cell_type": "markdown",
   "id": "29214dfa",
   "metadata": {},
   "source": [
    "Fit all geometrical entities into the modeler's window"
   ]
  },
  {
   "cell_type": "code",
   "execution_count": 9,
   "id": "a0fb7969",
   "metadata": {
    "execution": {
     "iopub.execute_input": "2025-10-30T06:45:36.135653Z",
     "iopub.status.busy": "2025-10-30T06:45:36.135653Z",
     "iopub.status.idle": "2025-10-30T06:45:36.151605Z",
     "shell.execute_reply": "2025-10-30T06:45:36.151605Z"
    }
   },
   "outputs": [],
   "source": [
    "m2d.modeler.fit_all()"
   ]
  },
  {
   "cell_type": "markdown",
   "id": "b7d14803",
   "metadata": {},
   "source": [
    "### Assign boundary conditions\n",
    "\n",
    "Apply zero magnetic vector potential on the region edges\n",
    "that the field only has a tangential component at the edge of the\n",
    "surrounding domain/region"
   ]
  },
  {
   "cell_type": "code",
   "execution_count": 10,
   "id": "4db996b3",
   "metadata": {
    "execution": {
     "iopub.execute_input": "2025-10-30T06:45:36.151605Z",
     "iopub.status.busy": "2025-10-30T06:45:36.151605Z",
     "iopub.status.idle": "2025-10-30T06:45:36.199657Z",
     "shell.execute_reply": "2025-10-30T06:45:36.199657Z"
    }
   },
   "outputs": [
    {
     "name": "stdout",
     "output_type": "stream",
     "text": [
      "PyAEDT INFO: Boundary Vector Potential VectorPotential1 has been created.\n"
     ]
    },
    {
     "data": {
      "text/plain": [
       "<ansys.aedt.core.modules.boundary.common.BoundaryObject at 0x1d9a67cb460>"
      ]
     },
     "execution_count": 10,
     "metadata": {},
     "output_type": "execute_result"
    }
   ],
   "source": [
    "m2d.assign_vector_potential(assignment=region_m.edges, boundary=\"VectorPotential1\")"
   ]
  },
  {
   "cell_type": "markdown",
   "id": "f86dedcf",
   "metadata": {},
   "source": [
    "### Assign Excitation\n",
    "\n",
    "Create a current driven coil by applying a current excitation in the coil domain"
   ]
  },
  {
   "cell_type": "code",
   "execution_count": 11,
   "id": "2d50ba1b",
   "metadata": {
    "execution": {
     "iopub.execute_input": "2025-10-30T06:45:36.203128Z",
     "iopub.status.busy": "2025-10-30T06:45:36.203128Z",
     "iopub.status.idle": "2025-10-30T06:45:36.247259Z",
     "shell.execute_reply": "2025-10-30T06:45:36.247259Z"
    }
   },
   "outputs": [
    {
     "name": "stdout",
     "output_type": "stream",
     "text": [
      "PyAEDT INFO: Boundary Current Current1 has been created.\n"
     ]
    },
    {
     "data": {
      "text/plain": [
       "<ansys.aedt.core.modules.boundary.common.BoundaryObject at 0x1d9a67cb580>"
      ]
     },
     "execution_count": 11,
     "metadata": {},
     "output_type": "execute_result"
    }
   ],
   "source": [
    "m2d.assign_current(assignment=coil_m.name, amplitude=\"Amp_1\", name=\"Current1\")"
   ]
  },
  {
   "cell_type": "markdown",
   "id": "bf7cd34f",
   "metadata": {},
   "source": [
    "### Enable force calculation on the anchor"
   ]
  },
  {
   "cell_type": "code",
   "execution_count": 12,
   "id": "f55ef2e5",
   "metadata": {
    "execution": {
     "iopub.execute_input": "2025-10-30T06:45:36.251280Z",
     "iopub.status.busy": "2025-10-30T06:45:36.251280Z",
     "iopub.status.idle": "2025-10-30T06:45:36.294766Z",
     "shell.execute_reply": "2025-10-30T06:45:36.294766Z"
    }
   },
   "outputs": [
    {
     "name": "stdout",
     "output_type": "stream",
     "text": [
      "PyAEDT INFO: Boundary Force Force has been created.\n"
     ]
    },
    {
     "data": {
      "text/plain": [
       "<ansys.aedt.core.modules.boundary.maxwell_boundary.MaxwellParameters at 0x1d9a67cbc70>"
      ]
     },
     "execution_count": 12,
     "metadata": {},
     "output_type": "execute_result"
    }
   ],
   "source": [
    "m2d.assign_force(\n",
    "    assignment=anchor_m,\n",
    "    force_name=\"Force\",\n",
    ")"
   ]
  },
  {
   "cell_type": "markdown",
   "id": "0d45c7f1",
   "metadata": {},
   "source": [
    "### Define solution setup"
   ]
  },
  {
   "cell_type": "code",
   "execution_count": 13,
   "id": "60470609",
   "metadata": {
    "execution": {
     "iopub.execute_input": "2025-10-30T06:45:36.294766Z",
     "iopub.status.busy": "2025-10-30T06:45:36.294766Z",
     "iopub.status.idle": "2025-10-30T06:45:36.358506Z",
     "shell.execute_reply": "2025-10-30T06:45:36.358506Z"
    }
   },
   "outputs": [
    {
     "name": "stdout",
     "output_type": "stream",
     "text": [
      "{'Enabled': True, 'MeshLink': {'ImportMesh': False}, 'MaximumPasses': 10, 'MinimumPasses': 2, 'MinimumConvergedPasses': 1, 'PercentRefinement': 30, 'SolveFieldOnly': False, 'PercentError': 1, 'SolveMatrixAtLast': True, 'UseIterativeSolver': False, 'RelativeResidual': 1e-06, 'NonLinearResidual': 0.001, 'SmoothBHCurve': False, 'MuOption': {'MuNonLinearBH': True}, 'Name': 'MySetup'}\n"
     ]
    }
   ],
   "source": [
    "setup = m2d.create_setup(\"MySetup\")\n",
    "print(setup.props)\n",
    "setup.props[\"MaximumPasses\"] = 15\n",
    "setup.props[\"PercentRefinement\"] = 30\n",
    "setup.props[\"PercentError\"] = 0.1\n",
    "setup.props[\"MinimumPasses\"] = 2\n",
    "setup.props[\"RelativeResidual\"] = 1e-6"
   ]
  },
  {
   "cell_type": "markdown",
   "id": "9cd0be90",
   "metadata": {},
   "source": [
    "### Create variable/parameter sweeps\n",
    "\n",
    "Enable sweeps over coil net current and anchor displacement"
   ]
  },
  {
   "cell_type": "code",
   "execution_count": 14,
   "id": "8b27f64a",
   "metadata": {
    "execution": {
     "iopub.execute_input": "2025-10-30T06:45:36.358506Z",
     "iopub.status.busy": "2025-10-30T06:45:36.358506Z",
     "iopub.status.idle": "2025-10-30T06:45:36.532871Z",
     "shell.execute_reply": "2025-10-30T06:45:36.532871Z"
    }
   },
   "outputs": [
    {
     "name": "stdout",
     "output_type": "stream",
     "text": [
      "PyAEDT INFO: Parsing C:\\Users\\ansys\\AppData\\Local\\Temp\\tmp_iiv5q4o.ansys\\2d_axi_magsta_actuator.aedt.\n"
     ]
    },
    {
     "name": "stdout",
     "output_type": "stream",
     "text": [
      "PyAEDT INFO: File C:\\Users\\ansys\\AppData\\Local\\Temp\\tmp_iiv5q4o.ansys\\2d_axi_magsta_actuator.aedt correctly loaded. Elapsed time: 0m 0sec\n"
     ]
    },
    {
     "name": "stdout",
     "output_type": "stream",
     "text": [
      "PyAEDT INFO: aedt file load time 0.015746593475341797\n"
     ]
    },
    {
     "data": {
      "text/plain": [
       "True"
      ]
     },
     "execution_count": 14,
     "metadata": {},
     "output_type": "execute_result"
    }
   ],
   "source": [
    "value_sweep = m2d.parametrics.add(\n",
    "    \"Amp_1\", 500, 2000, 500, name=\"ParametricSetup1\", variation_type=\"LinearStep\"\n",
    ")\n",
    "value_sweep.add_variation(\"move\", 0, 4, 1, variation_type=\"LinearStep\")\n",
    "#"
   ]
  },
  {
   "cell_type": "markdown",
   "id": "8cd9249f",
   "metadata": {},
   "source": [
    "### Run analysis"
   ]
  },
  {
   "cell_type": "code",
   "execution_count": 15,
   "id": "cd8cc046",
   "metadata": {
    "execution": {
     "iopub.execute_input": "2025-10-30T06:45:36.532871Z",
     "iopub.status.busy": "2025-10-30T06:45:36.532871Z",
     "iopub.status.idle": "2025-10-30T06:47:50.092695Z",
     "shell.execute_reply": "2025-10-30T06:47:50.092695Z"
    }
   },
   "outputs": [
    {
     "name": "stdout",
     "output_type": "stream",
     "text": [
      "PyAEDT INFO: Project 2d_axi_magsta_actuator Saved correctly\n"
     ]
    },
    {
     "name": "stdout",
     "output_type": "stream",
     "text": [
      "PyAEDT INFO: Key Desktop/ActiveDSOConfigurations/Maxwell 2D correctly changed.\n"
     ]
    },
    {
     "name": "stdout",
     "output_type": "stream",
     "text": [
      "PyAEDT INFO: Solving Optimetrics\n"
     ]
    },
    {
     "name": "stdout",
     "output_type": "stream",
     "text": [
      "PyAEDT INFO: Design setup ParametricSetup1 solved correctly in 0.0h 2.0m 13.0s\n"
     ]
    },
    {
     "name": "stdout",
     "output_type": "stream",
     "text": [
      "PyAEDT INFO: Key Desktop/ActiveDSOConfigurations/Maxwell 2D correctly changed.\n"
     ]
    },
    {
     "data": {
      "text/plain": [
       "True"
      ]
     },
     "execution_count": 15,
     "metadata": {},
     "output_type": "execute_result"
    }
   ],
   "source": [
    "value_sweep.analyze(cores=NUM_CORES)"
   ]
  },
  {
   "cell_type": "markdown",
   "id": "4c56d0bb",
   "metadata": {},
   "source": [
    "## Postprocess\n",
    "\n",
    "Create a Force vs. move (displacement) Report/Plot for every current value"
   ]
  },
  {
   "cell_type": "code",
   "execution_count": 16,
   "id": "72cd35f9",
   "metadata": {
    "execution": {
     "iopub.execute_input": "2025-10-30T06:47:50.092695Z",
     "iopub.status.busy": "2025-10-30T06:47:50.092695Z",
     "iopub.status.idle": "2025-10-30T06:47:50.457791Z",
     "shell.execute_reply": "2025-10-30T06:47:50.457791Z"
    },
    "lines_to_next_cell": 2
   },
   "outputs": [
    {
     "name": "stdout",
     "output_type": "stream",
     "text": [
      "PyAEDT INFO: Parsing C:\\Users\\ansys\\AppData\\Local\\Temp\\tmp_iiv5q4o.ansys\\2d_axi_magsta_actuator.aedt.\n"
     ]
    },
    {
     "name": "stdout",
     "output_type": "stream",
     "text": [
      "PyAEDT INFO: File C:\\Users\\ansys\\AppData\\Local\\Temp\\tmp_iiv5q4o.ansys\\2d_axi_magsta_actuator.aedt correctly loaded. Elapsed time: 0m 0sec\n"
     ]
    },
    {
     "name": "stdout",
     "output_type": "stream",
     "text": [
      "PyAEDT INFO: aedt file load time 0.015727758407592773\n"
     ]
    },
    {
     "name": "stdout",
     "output_type": "stream",
     "text": [
      "PyAEDT INFO: PostProcessor class has been initialized! Elapsed time: 0m 0sec\n"
     ]
    },
    {
     "name": "stdout",
     "output_type": "stream",
     "text": [
      "PyAEDT INFO: PostProcessor class has been initialized! Elapsed time: 0m 0sec\n"
     ]
    },
    {
     "name": "stdout",
     "output_type": "stream",
     "text": [
      "PyAEDT INFO: Post class has been initialized! Elapsed time: 0m 0sec\n"
     ]
    },
    {
     "name": "stdout",
     "output_type": "stream",
     "text": [
      "PyAEDT WARNING: No report category provided. Automatically identified Magnetostatic\n"
     ]
    },
    {
     "data": {
      "text/plain": [
       "<ansys.aedt.core.visualization.report.standard.Standard at 0x1d9a93bd300>"
      ]
     },
     "execution_count": 16,
     "metadata": {},
     "output_type": "execute_result"
    }
   ],
   "source": [
    "m2d.post.create_report(\n",
    "    expressions=[\"Force.Force_z\"],\n",
    "    variations={\"Amp_1\": \"All\", \"move\": \"All\"},\n",
    "    plot_name=\"Force Plot 1\",\n",
    "    primary_sweep_variable=\"move\",\n",
    "    plot_type=\"Rectangular Plot\",\n",
    ")"
   ]
  },
  {
   "cell_type": "markdown",
   "id": "3a34ad34",
   "metadata": {},
   "source": [
    "## Finish\n",
    "\n",
    "### Save the project"
   ]
  },
  {
   "cell_type": "code",
   "execution_count": 17,
   "id": "615942ba",
   "metadata": {
    "execution": {
     "iopub.execute_input": "2025-10-30T06:47:50.457791Z",
     "iopub.status.busy": "2025-10-30T06:47:50.457791Z",
     "iopub.status.idle": "2025-10-30T06:48:10.782156Z",
     "shell.execute_reply": "2025-10-30T06:48:10.782156Z"
    }
   },
   "outputs": [
    {
     "name": "stdout",
     "output_type": "stream",
     "text": [
      "PyAEDT INFO: Project 2d_axi_magsta_actuator Saved correctly\n"
     ]
    },
    {
     "name": "stdout",
     "output_type": "stream",
     "text": [
      "PyAEDT INFO: Desktop has been released and closed.\n"
     ]
    }
   ],
   "source": [
    "m2d.save_project()\n",
    "m2d.release_desktop()\n",
    "# Wait 3 seconds to allow AEDT to shut down before cleaning the temporary directory.\n",
    "time.sleep(3)"
   ]
  },
  {
   "cell_type": "markdown",
   "id": "4f4fb904",
   "metadata": {},
   "source": [
    "### Clean up\n",
    "\n",
    "All project files are saved in the folder ``temp_folder.name``.\n",
    "If you've run this example as a Jupyter notebook, you\n",
    "can retrieve those project files. The following cell\n",
    "removes all temporary files, including the project folder."
   ]
  },
  {
   "cell_type": "code",
   "execution_count": 18,
   "id": "2e6f60e2",
   "metadata": {
    "execution": {
     "iopub.execute_input": "2025-10-30T06:48:10.782156Z",
     "iopub.status.busy": "2025-10-30T06:48:10.782156Z",
     "iopub.status.idle": "2025-10-30T06:48:10.845777Z",
     "shell.execute_reply": "2025-10-30T06:48:10.845777Z"
    }
   },
   "outputs": [],
   "source": [
    "temp_folder.cleanup()"
   ]
  }
 ],
 "metadata": {
  "jupytext": {
   "cell_metadata_filter": "-all",
   "main_language": "python",
   "notebook_metadata_filter": "-all"
  },
  "language_info": {
   "codemirror_mode": {
    "name": "ipython",
    "version": 3
   },
   "file_extension": ".py",
   "mimetype": "text/x-python",
   "name": "python",
   "nbconvert_exporter": "python",
   "pygments_lexer": "ipython3",
   "version": "3.10.11"
  }
 },
 "nbformat": 4,
 "nbformat_minor": 5
}
