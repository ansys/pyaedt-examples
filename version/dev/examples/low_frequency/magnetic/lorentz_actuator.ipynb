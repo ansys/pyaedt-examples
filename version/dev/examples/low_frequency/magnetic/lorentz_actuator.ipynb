{
 "cells": [
  {
   "cell_type": "markdown",
   "id": "ae4040c0",
   "metadata": {},
   "source": [
    "# Lorentz actuator\n",
    "\n",
    "This example uses PyAEDT to set up a Lorentz actuator\n",
    "and solve it using the Maxwell 2D transient solver.\n",
    "\n",
    "Keywords: **Maxwell2D**, **transient**, **translational motion**, **mechanical transient**"
   ]
  },
  {
   "cell_type": "markdown",
   "id": "e2eb5ede",
   "metadata": {},
   "source": [
    "## Perform imports and define constantss\n",
    "\n",
    "Perform required imports."
   ]
  },
  {
   "cell_type": "code",
   "execution_count": 1,
   "id": "c3061506",
   "metadata": {
    "execution": {
     "iopub.execute_input": "2025-10-30T06:57:48.766639Z",
     "iopub.status.busy": "2025-10-30T06:57:48.766639Z",
     "iopub.status.idle": "2025-10-30T06:57:51.833495Z",
     "shell.execute_reply": "2025-10-30T06:57:51.833495Z"
    }
   },
   "outputs": [],
   "source": [
    "import os\n",
    "import tempfile\n",
    "import time\n",
    "\n",
    "import ansys.aedt.core"
   ]
  },
  {
   "cell_type": "markdown",
   "id": "48f9837e",
   "metadata": {},
   "source": [
    "Define constants."
   ]
  },
  {
   "cell_type": "code",
   "execution_count": 2,
   "id": "6326b250",
   "metadata": {
    "execution": {
     "iopub.execute_input": "2025-10-30T06:57:51.833495Z",
     "iopub.status.busy": "2025-10-30T06:57:51.833495Z",
     "iopub.status.idle": "2025-10-30T06:57:51.849261Z",
     "shell.execute_reply": "2025-10-30T06:57:51.849261Z"
    }
   },
   "outputs": [],
   "source": [
    "AEDT_VERSION = \"2025.2\"\n",
    "NUM_CORES = 4\n",
    "NG_MODE = False  # Open AEDT UI when it is launched."
   ]
  },
  {
   "cell_type": "markdown",
   "id": "0dc68870",
   "metadata": {},
   "source": [
    "## Create temporary directory\n",
    "\n",
    "Create a temporary directory where downloaded data or\n",
    "dumped data can be stored.\n",
    "If you'd like to retrieve the project data for subsequent use,\n",
    "the temporary folder name is given by ``temp_folder.name``."
   ]
  },
  {
   "cell_type": "code",
   "execution_count": 3,
   "id": "6e2f2de0",
   "metadata": {
    "execution": {
     "iopub.execute_input": "2025-10-30T06:57:51.849261Z",
     "iopub.status.busy": "2025-10-30T06:57:51.849261Z",
     "iopub.status.idle": "2025-10-30T06:57:51.865332Z",
     "shell.execute_reply": "2025-10-30T06:57:51.865332Z"
    }
   },
   "outputs": [],
   "source": [
    "temp_folder = tempfile.TemporaryDirectory(suffix=\".ansys\")"
   ]
  },
  {
   "cell_type": "markdown",
   "id": "06d39de1",
   "metadata": {},
   "source": [
    "## Initialize dictionaries\n",
    "\n",
    "Initialize the following:\n",
    "\n",
    "- Electric and geometric parameters for the actuator\n",
    "- Simulation specifications\n",
    "- Materials for the actuator component"
   ]
  },
  {
   "cell_type": "code",
   "execution_count": 4,
   "id": "de1fa1fb",
   "metadata": {
    "execution": {
     "iopub.execute_input": "2025-10-30T06:57:51.865332Z",
     "iopub.status.busy": "2025-10-30T06:57:51.865332Z",
     "iopub.status.idle": "2025-10-30T06:57:51.881189Z",
     "shell.execute_reply": "2025-10-30T06:57:51.881189Z"
    }
   },
   "outputs": [],
   "source": [
    "dimensions = {\n",
    "    \"Core_outer_x\": \"100mm\",\n",
    "    \"Core_outer_y\": \"80mm\",\n",
    "    \"Core_thickness\": \"10mm\",\n",
    "    \"Magnet_thickness\": \"10mm\",\n",
    "    \"Coil_width\": \"30mm\",\n",
    "    \"Coil_thickness\": \"5mm\",\n",
    "    \"Coil_inner_diameter\": \"20mm\",\n",
    "    \"Coil_magnet_distance\": \"5mm\",\n",
    "    \"Coil_start_position\": \"3mm\",\n",
    "    \"Band_clearance\": \"1mm\",\n",
    "}"
   ]
  },
  {
   "cell_type": "code",
   "execution_count": 5,
   "id": "3086f689",
   "metadata": {
    "execution": {
     "iopub.execute_input": "2025-10-30T06:57:51.881189Z",
     "iopub.status.busy": "2025-10-30T06:57:51.881189Z",
     "iopub.status.idle": "2025-10-30T06:57:51.896897Z",
     "shell.execute_reply": "2025-10-30T06:57:51.896897Z"
    }
   },
   "outputs": [],
   "source": [
    "coil_specifications = {\n",
    "    \"Winding_current\": \"5A\",\n",
    "    \"No_of_turns\": \"100\",\n",
    "    \"Coil_mass\": \"0.2kg\",\n",
    "}"
   ]
  },
  {
   "cell_type": "code",
   "execution_count": 6,
   "id": "9f8a356f",
   "metadata": {
    "execution": {
     "iopub.execute_input": "2025-10-30T06:57:51.896897Z",
     "iopub.status.busy": "2025-10-30T06:57:51.896897Z",
     "iopub.status.idle": "2025-10-30T06:57:51.912773Z",
     "shell.execute_reply": "2025-10-30T06:57:51.912773Z"
    }
   },
   "outputs": [],
   "source": [
    "simulation_specifications = {\n",
    "    \"Mesh_bands\": \"0.5mm\",\n",
    "    \"Mesh_other_objects\": \"2mm\",\n",
    "    \"Stop_time\": \"10ms\",\n",
    "    \"Time_step\": \"0.5ms\",\n",
    "    \"Save_fields_interval\": \"1\",\n",
    "}"
   ]
  },
  {
   "cell_type": "code",
   "execution_count": 7,
   "id": "a89467ea",
   "metadata": {
    "execution": {
     "iopub.execute_input": "2025-10-30T06:57:51.912773Z",
     "iopub.status.busy": "2025-10-30T06:57:51.912773Z",
     "iopub.status.idle": "2025-10-30T06:57:51.928631Z",
     "shell.execute_reply": "2025-10-30T06:57:51.928631Z"
    }
   },
   "outputs": [],
   "source": [
    "materials = {\n",
    "    \"Coil_material\": \"copper\",\n",
    "    \"Core_material\": \"steel_1008\",\n",
    "    \"Magnet_material\": \"NdFe30\",\n",
    "}"
   ]
  },
  {
   "cell_type": "markdown",
   "id": "8a252762",
   "metadata": {},
   "source": [
    "## Launch AEDT and Maxwell 2D\n",
    "\n",
    "Launch AEDT and Maxwell 2D after first setting up the project name.\n",
    "The following code also creates an instance of the\n",
    "``Maxwell2d`` class named ``m2d`` by providing\n",
    "the project name, the design name, the solver, the version, and the graphical mode."
   ]
  },
  {
   "cell_type": "code",
   "execution_count": 8,
   "id": "a5f517c4",
   "metadata": {
    "execution": {
     "iopub.execute_input": "2025-10-30T06:57:51.928631Z",
     "iopub.status.busy": "2025-10-30T06:57:51.928631Z",
     "iopub.status.idle": "2025-10-30T06:58:20.931343Z",
     "shell.execute_reply": "2025-10-30T06:58:20.931343Z"
    }
   },
   "outputs": [
    {
     "name": "stdout",
     "output_type": "stream",
     "text": [
      "PyAEDT INFO: Python version 3.10.11 (tags/v3.10.11:7d4cc5a, Apr  5 2023, 00:38:17) [MSC v.1929 64 bit (AMD64)].\n"
     ]
    },
    {
     "name": "stdout",
     "output_type": "stream",
     "text": [
      "PyAEDT INFO: PyAEDT version 0.22.dev0.\n"
     ]
    },
    {
     "name": "stdout",
     "output_type": "stream",
     "text": [
      "PyAEDT INFO: Initializing new Desktop session.\n"
     ]
    },
    {
     "name": "stdout",
     "output_type": "stream",
     "text": [
      "PyAEDT INFO: Log on console is enabled.\n"
     ]
    },
    {
     "name": "stdout",
     "output_type": "stream",
     "text": [
      "PyAEDT INFO: Log on file C:\\Users\\ansys\\AppData\\Local\\Temp\\pyaedt_ansys_c1e62e06-2b2f-4275-9dd2-4a78c1142a80.log is enabled.\n"
     ]
    },
    {
     "name": "stdout",
     "output_type": "stream",
     "text": [
      "PyAEDT INFO: Log on AEDT is disabled.\n"
     ]
    },
    {
     "name": "stdout",
     "output_type": "stream",
     "text": [
      "PyAEDT INFO: Debug logger is disabled. PyAEDT methods will not be logged.\n"
     ]
    },
    {
     "name": "stdout",
     "output_type": "stream",
     "text": [
      "PyAEDT INFO: Launching PyAEDT with gRPC plugin.\n"
     ]
    },
    {
     "name": "stdout",
     "output_type": "stream",
     "text": [
      "PyAEDT INFO: New AEDT session is starting on gRPC port 50999.\n"
     ]
    },
    {
     "name": "stdout",
     "output_type": "stream",
     "text": [
      "PyAEDT INFO: Electronics Desktop started on gRPC port: 50999 after 11.188374757766724 seconds.\n"
     ]
    },
    {
     "name": "stdout",
     "output_type": "stream",
     "text": [
      "PyAEDT INFO: AEDT installation Path C:\\Program Files\\ANSYS Inc\\v252\\AnsysEM\n"
     ]
    },
    {
     "name": "stdout",
     "output_type": "stream",
     "text": [
      "PyAEDT INFO: Ansoft.ElectronicsDesktop.2025.2 version started with process ID 8612.\n"
     ]
    },
    {
     "name": "stdout",
     "output_type": "stream",
     "text": [
      "PyAEDT INFO: Project Lorentz_actuator has been created.\n"
     ]
    },
    {
     "name": "stdout",
     "output_type": "stream",
     "text": [
      "PyAEDT INFO: Added design '1 transient 2D' of type Maxwell 2D.\n"
     ]
    },
    {
     "name": "stdout",
     "output_type": "stream",
     "text": [
      "PyAEDT INFO: Aedt Objects correctly read\n"
     ]
    }
   ],
   "source": [
    "project_name = os.path.join(temp_folder.name, \"Lorentz_actuator.aedt\")\n",
    "m2d = ansys.aedt.core.Maxwell2d(\n",
    "    project=project_name,\n",
    "    design=\"1 transient 2D\",\n",
    "    solution_type=\"TransientXY\",\n",
    "    version=AEDT_VERSION,\n",
    "    non_graphical=NG_MODE,\n",
    ")"
   ]
  },
  {
   "cell_type": "markdown",
   "id": "a32a25f1",
   "metadata": {},
   "source": [
    "## Define variables from dictionaries\n",
    "\n",
    "Define design variables from the created dictionaries."
   ]
  },
  {
   "cell_type": "code",
   "execution_count": 9,
   "id": "01c14cd4",
   "metadata": {
    "execution": {
     "iopub.execute_input": "2025-10-30T06:58:20.934927Z",
     "iopub.status.busy": "2025-10-30T06:58:20.934927Z",
     "iopub.status.idle": "2025-10-30T06:58:21.254164Z",
     "shell.execute_reply": "2025-10-30T06:58:21.254164Z"
    }
   },
   "outputs": [],
   "source": [
    "m2d.variable_manager.set_variable(name=\"Dimensions\")\n",
    "for k, v in dimensions.items():\n",
    "    m2d[k] = v"
   ]
  },
  {
   "cell_type": "code",
   "execution_count": 10,
   "id": "fd2bd8b3",
   "metadata": {
    "execution": {
     "iopub.execute_input": "2025-10-30T06:58:21.254164Z",
     "iopub.status.busy": "2025-10-30T06:58:21.254164Z",
     "iopub.status.idle": "2025-10-30T06:58:21.501997Z",
     "shell.execute_reply": "2025-10-30T06:58:21.501997Z"
    }
   },
   "outputs": [],
   "source": [
    "m2d.variable_manager.set_variable(name=\"Winding data\")\n",
    "for k, v in coil_specifications.items():\n",
    "    m2d[k] = v"
   ]
  },
  {
   "cell_type": "code",
   "execution_count": 11,
   "id": "0b795b46",
   "metadata": {
    "execution": {
     "iopub.execute_input": "2025-10-30T06:58:21.501997Z",
     "iopub.status.busy": "2025-10-30T06:58:21.501997Z",
     "iopub.status.idle": "2025-10-30T06:58:21.792646Z",
     "shell.execute_reply": "2025-10-30T06:58:21.792646Z"
    }
   },
   "outputs": [],
   "source": [
    "m2d.variable_manager.set_variable(name=\"Simulation data\")\n",
    "for k, v in simulation_specifications.items():\n",
    "    m2d[k] = v"
   ]
  },
  {
   "cell_type": "markdown",
   "id": "5e159cdd",
   "metadata": {},
   "source": [
    "Definem materials."
   ]
  },
  {
   "cell_type": "code",
   "execution_count": 12,
   "id": "47bb5c4e",
   "metadata": {
    "execution": {
     "iopub.execute_input": "2025-10-30T06:58:21.792646Z",
     "iopub.status.busy": "2025-10-30T06:58:21.792646Z",
     "iopub.status.idle": "2025-10-30T06:58:22.047435Z",
     "shell.execute_reply": "2025-10-30T06:58:22.047435Z"
    }
   },
   "outputs": [],
   "source": [
    "m2d.variable_manager.set_variable(name=\"Material data\")\n",
    "m2d.logger.clear_messages()\n",
    "for i, key in enumerate(materials.keys()):\n",
    "    if key == \"Coil_material\":\n",
    "        coil_mat_index = i\n",
    "    elif key == \"Core_material\":\n",
    "        core_mat_index = i\n",
    "    elif key == \"Magnet_material\":\n",
    "        magnet_mat_index = i\n",
    "material_array = []\n",
    "for k, v in materials.items():\n",
    "    material_array.append('\"' + v + '\"')\n",
    "s = \", \".join(material_array)\n",
    "m2d[\"Materials\"] = \"[{}]\".format(s)"
   ]
  },
  {
   "cell_type": "markdown",
   "id": "7e86ab88",
   "metadata": {},
   "source": [
    "## Create geometry\n",
    "\n",
    "Create magnetic core, coils, and magnets. Assign materials and create a coordinate system to\n",
    "define the magnet orientation."
   ]
  },
  {
   "cell_type": "code",
   "execution_count": 13,
   "id": "babc81a6",
   "metadata": {
    "execution": {
     "iopub.execute_input": "2025-10-30T06:58:22.047435Z",
     "iopub.status.busy": "2025-10-30T06:58:22.047435Z",
     "iopub.status.idle": "2025-10-30T06:58:35.830334Z",
     "shell.execute_reply": "2025-10-30T06:58:35.830334Z"
    }
   },
   "outputs": [
    {
     "name": "stdout",
     "output_type": "stream",
     "text": [
      "PyAEDT INFO: Modeler2D class has been initialized!\n"
     ]
    },
    {
     "name": "stdout",
     "output_type": "stream",
     "text": [
      "PyAEDT INFO: Modeler class has been initialized! Elapsed time: 0m 1sec\n"
     ]
    },
    {
     "name": "stdout",
     "output_type": "stream",
     "text": [
      "PyAEDT INFO: Materials class has been initialized! Elapsed time: 0m 0sec\n"
     ]
    }
   ],
   "source": [
    "core_id = m2d.modeler.create_rectangle(\n",
    "    origin=[0, 0, 0],\n",
    "    sizes=[\"Core_outer_x\", \"Core_outer_y\"],\n",
    "    name=\"Core\",\n",
    "    material=\"Materials[\" + str(core_mat_index) + \"]\",\n",
    ")"
   ]
  },
  {
   "cell_type": "code",
   "execution_count": 14,
   "id": "8dfe86b1",
   "metadata": {
    "execution": {
     "iopub.execute_input": "2025-10-30T06:58:35.830334Z",
     "iopub.status.busy": "2025-10-30T06:58:35.830334Z",
     "iopub.status.idle": "2025-10-30T06:58:35.878163Z",
     "shell.execute_reply": "2025-10-30T06:58:35.878163Z"
    }
   },
   "outputs": [
    {
     "data": {
      "text/plain": [
       "True"
      ]
     },
     "execution_count": 14,
     "metadata": {},
     "output_type": "execute_result"
    }
   ],
   "source": [
    "hole_id = m2d.modeler.create_rectangle(\n",
    "    origin=[\"Core_thickness\", \"Core_thickness\", 0],\n",
    "    sizes=[\"Core_outer_x-2*Core_thickness\", \"Core_outer_y-2*Core_thickness\"],\n",
    "    name=\"hole\",\n",
    ")\n",
    "m2d.modeler.subtract(blank_list=[core_id], tool_list=[hole_id])"
   ]
  },
  {
   "cell_type": "code",
   "execution_count": 15,
   "id": "82bb3aec",
   "metadata": {
    "execution": {
     "iopub.execute_input": "2025-10-30T06:58:35.878163Z",
     "iopub.status.busy": "2025-10-30T06:58:35.878163Z",
     "iopub.status.idle": "2025-10-30T06:58:36.225895Z",
     "shell.execute_reply": "2025-10-30T06:58:36.225895Z"
    }
   },
   "outputs": [],
   "source": [
    "magnet_n_id = m2d.modeler.create_rectangle(\n",
    "    origin=[\"Core_thickness\", \"Core_outer_y-2*Core_thickness\", 0],\n",
    "    sizes=[\"Core_outer_x-2*Core_thickness\", \"Magnet_thickness\"],\n",
    "    name=\"magnet_n\",\n",
    "    material=\"Materials[\" + str(magnet_mat_index) + \"]\",\n",
    ")\n",
    "magnet_s_id = m2d.modeler.create_rectangle(\n",
    "    origin=[\"Core_thickness\", \"Core_thickness\", 0],\n",
    "    sizes=[\"Core_outer_x-2*Core_thickness\", \"Magnet_thickness\"],\n",
    "    name=\"magnet_s\",\n",
    "    material=\"Materials[\" + str(magnet_mat_index) + \"]\",\n",
    ")"
   ]
  },
  {
   "cell_type": "code",
   "execution_count": 16,
   "id": "9ae80ea0",
   "metadata": {
    "execution": {
     "iopub.execute_input": "2025-10-30T06:58:36.225895Z",
     "iopub.status.busy": "2025-10-30T06:58:36.225895Z",
     "iopub.status.idle": "2025-10-30T06:58:36.558805Z",
     "shell.execute_reply": "2025-10-30T06:58:36.558805Z"
    }
   },
   "outputs": [
    {
     "data": {
      "text/plain": [
       "True"
      ]
     },
     "execution_count": 16,
     "metadata": {},
     "output_type": "execute_result"
    }
   ],
   "source": [
    "m2d.modeler.create_coordinate_system(\n",
    "    origin=[0, 0, 0], x_pointing=[0, 1, 0], y_pointing=[1, 0, 0], name=\"cs_x_positive\"\n",
    ")\n",
    "m2d.modeler.create_coordinate_system(\n",
    "    origin=[0, 0, 0], x_pointing=[0, -1, 0], y_pointing=[1, 0, 0], name=\"cs_x_negative\"\n",
    ")\n",
    "magnet_s_id.part_coordinate_system = \"cs_x_positive\"\n",
    "magnet_n_id.part_coordinate_system = \"cs_x_negative\"\n",
    "m2d.modeler.set_working_coordinate_system(\"Global\")"
   ]
  },
  {
   "cell_type": "markdown",
   "id": "482e2e0c",
   "metadata": {},
   "source": [
    "## Assign current\n",
    "\n",
    "Create coil terminals with 100 turns and winding with 5A current."
   ]
  },
  {
   "cell_type": "code",
   "execution_count": 17,
   "id": "a0204158",
   "metadata": {
    "execution": {
     "iopub.execute_input": "2025-10-30T06:58:36.558805Z",
     "iopub.status.busy": "2025-10-30T06:58:36.558805Z",
     "iopub.status.idle": "2025-10-30T06:58:36.906473Z",
     "shell.execute_reply": "2025-10-30T06:58:36.906473Z"
    }
   },
   "outputs": [],
   "source": [
    "coil_in_id = m2d.modeler.create_rectangle(\n",
    "    origin=[\n",
    "        \"Core_thickness+Coil_start_position\",\n",
    "        \"Core_thickness+Magnet_thickness+Coil_magnet_distance\",\n",
    "        0,\n",
    "    ],\n",
    "    sizes=[\"Coil_width\", \"Coil_thickness\"],\n",
    "    name=\"coil_in\",\n",
    "    material=\"Materials[\" + str(coil_mat_index) + \"]\",\n",
    ")\n",
    "coil_out_id = m2d.modeler.create_rectangle(\n",
    "    origin=[\n",
    "        \"Core_thickness+Coil_start_position\",\n",
    "        \"Core_thickness+Magnet_thickness+Coil_magnet_distance+Coil_inner_diameter+Coil_thickness\",\n",
    "        0,\n",
    "    ],\n",
    "    sizes=[\"Coil_width\", \"Coil_thickness\"],\n",
    "    name=\"coil_out\",\n",
    "    material=\"Materials[\" + str(coil_mat_index) + \"]\",\n",
    ")"
   ]
  },
  {
   "cell_type": "code",
   "execution_count": 18,
   "id": "b819ce0b",
   "metadata": {
    "execution": {
     "iopub.execute_input": "2025-10-30T06:58:36.906473Z",
     "iopub.status.busy": "2025-10-30T06:58:36.906473Z",
     "iopub.status.idle": "2025-10-30T06:58:37.033622Z",
     "shell.execute_reply": "2025-10-30T06:58:37.033622Z"
    }
   },
   "outputs": [
    {
     "name": "stdout",
     "output_type": "stream",
     "text": [
      "PyAEDT INFO: Boundary Coil coil_terminal_in has been created.\n"
     ]
    },
    {
     "name": "stdout",
     "output_type": "stream",
     "text": [
      "PyAEDT INFO: Boundary Coil coil_terminal_out has been created.\n"
     ]
    },
    {
     "name": "stdout",
     "output_type": "stream",
     "text": [
      "PyAEDT INFO: Boundary Winding Winding1 has been created.\n"
     ]
    },
    {
     "data": {
      "text/plain": [
       "True"
      ]
     },
     "execution_count": 18,
     "metadata": {},
     "output_type": "execute_result"
    }
   ],
   "source": [
    "m2d.assign_coil(\n",
    "    assignment=[coil_in_id],\n",
    "    conductors_number=\"No_of_turns\",\n",
    "    name=\"coil_terminal_in\",\n",
    "    polarity=\"Negative\",\n",
    ")\n",
    "m2d.assign_coil(\n",
    "    assignment=[coil_out_id],\n",
    "    conductors_number=\"No_of_turns\",\n",
    "    name=\"coil_terminal_out\",\n",
    "    polarity=\"Positive\",\n",
    ")\n",
    "m2d.assign_winding(is_solid=False, current=\"Winding_current\", name=\"Winding1\")\n",
    "m2d.add_winding_coils(\n",
    "    assignment=\"Winding1\", coils=[\"coil_terminal_in\", \"coil_terminal_out\"]\n",
    ")"
   ]
  },
  {
   "cell_type": "markdown",
   "id": "214ec6a1",
   "metadata": {},
   "source": [
    "## Assign motion\n",
    "\n",
    "Create band objects. All the objects within the band move. The inner band ensures that the mesh is good,\n",
    "and additionally it is required when there is more than one moving object.\n",
    "Assign linear motion with mechanical transient."
   ]
  },
  {
   "cell_type": "code",
   "execution_count": 19,
   "id": "6f780bce",
   "metadata": {
    "execution": {
     "iopub.execute_input": "2025-10-30T06:58:37.033622Z",
     "iopub.status.busy": "2025-10-30T06:58:37.033622Z",
     "iopub.status.idle": "2025-10-30T06:58:37.112600Z",
     "shell.execute_reply": "2025-10-30T06:58:37.112600Z"
    }
   },
   "outputs": [
    {
     "name": "stdout",
     "output_type": "stream",
     "text": [
      "PyAEDT INFO: Boundary Band Motion_HSWP7G has been created.\n"
     ]
    },
    {
     "data": {
      "text/plain": [
       "<ansys.aedt.core.modules.boundary.common.BoundaryObject at 0x1a3b5034e50>"
      ]
     },
     "execution_count": 19,
     "metadata": {},
     "output_type": "execute_result"
    }
   ],
   "source": [
    "band_id = m2d.modeler.create_rectangle(\n",
    "    origin=[\n",
    "        \"Core_thickness + Band_clearance\",\n",
    "        \"Core_thickness+Magnet_thickness+Band_clearance\",\n",
    "        0,\n",
    "    ],\n",
    "    sizes=[\n",
    "        \"Core_outer_x-2*(Core_thickness+Band_clearance)\",\n",
    "        \"Core_outer_y-2*(Core_thickness+Band_clearance+Magnet_thickness)\",\n",
    "    ],\n",
    "    name=\"Motion_band\",\n",
    ")\n",
    "inner_band_id = m2d.modeler.create_rectangle(\n",
    "    origin=[\n",
    "        \"Core_thickness+Coil_start_position-Band_clearance\",\n",
    "        \"Core_thickness+Magnet_thickness+Coil_magnet_distance-Band_clearance\",\n",
    "        0,\n",
    "    ],\n",
    "    sizes=[\n",
    "        \"Coil_width + 2*Band_clearance\",\n",
    "        \"Coil_inner_diameter+2*(Coil_thickness+Band_clearance)\",\n",
    "    ],\n",
    "    name=\"Motion_band_inner\",\n",
    ")\n",
    "motion_limit = \"Core_outer_x-2*(Core_thickness+Band_clearance)-(Coil_width + 2*Band_clearance)-2*Band_clearance\"\n",
    "m2d.assign_translate_motion(\n",
    "    assignment=\"Motion_band\",\n",
    "    axis=\"X\",\n",
    "    periodic_translate=None,\n",
    "    mechanical_transient=True,\n",
    "    mass=\"Coil_mass\",\n",
    "    start_position=0,\n",
    "    negative_limit=0,\n",
    "    positive_limit=motion_limit,\n",
    ")"
   ]
  },
  {
   "cell_type": "markdown",
   "id": "d44fb1f4",
   "metadata": {},
   "source": [
    "## Create simulation domain\n",
    "\n",
    "Create a region and assign zero vector potential on the region edges."
   ]
  },
  {
   "cell_type": "code",
   "execution_count": 20,
   "id": "c4310a30",
   "metadata": {
    "execution": {
     "iopub.execute_input": "2025-10-30T06:58:37.116942Z",
     "iopub.status.busy": "2025-10-30T06:58:37.116942Z",
     "iopub.status.idle": "2025-10-30T06:58:37.445764Z",
     "shell.execute_reply": "2025-10-30T06:58:37.445764Z"
    }
   },
   "outputs": [
    {
     "name": "stdout",
     "output_type": "stream",
     "text": [
      "PyAEDT INFO: Boundary Vector Potential VectorPotential1 has been created.\n"
     ]
    },
    {
     "data": {
      "text/plain": [
       "<ansys.aedt.core.modules.boundary.common.BoundaryObject at 0x1a3b50357e0>"
      ]
     },
     "execution_count": 20,
     "metadata": {},
     "output_type": "execute_result"
    }
   ],
   "source": [
    "region_id = m2d.modeler.create_region(pad_percent=2)\n",
    "m2d.assign_vector_potential(assignment=region_id.edges, boundary=\"VectorPotential1\")"
   ]
  },
  {
   "cell_type": "markdown",
   "id": "c222db9e",
   "metadata": {},
   "source": [
    "## Assign mesh operations\n",
    "\n",
    "The transient solver does not have adaptive mesh refinement, so the mesh operations must be assigned."
   ]
  },
  {
   "cell_type": "code",
   "execution_count": 21,
   "id": "a39cadf1",
   "metadata": {
    "execution": {
     "iopub.execute_input": "2025-10-30T06:58:37.445764Z",
     "iopub.status.busy": "2025-10-30T06:58:37.445764Z",
     "iopub.status.idle": "2025-10-30T06:58:37.524737Z",
     "shell.execute_reply": "2025-10-30T06:58:37.524737Z"
    }
   },
   "outputs": [
    {
     "name": "stdout",
     "output_type": "stream",
     "text": [
      "PyAEDT INFO: Mesh class has been initialized! Elapsed time: 0m 0sec\n"
     ]
    },
    {
     "name": "stdout",
     "output_type": "stream",
     "text": [
      "PyAEDT INFO: Mesh class has been initialized! Elapsed time: 0m 0sec\n"
     ]
    },
    {
     "data": {
      "text/plain": [
       "<ansys.aedt.core.modules.mesh.MeshOperation at 0x1a3b8c3ea10>"
      ]
     },
     "execution_count": 21,
     "metadata": {},
     "output_type": "execute_result"
    }
   ],
   "source": [
    "m2d.mesh.assign_length_mesh(\n",
    "    assignment=[band_id, inner_band_id],\n",
    "    maximum_length=\"Mesh_bands\",\n",
    "    maximum_elements=None,\n",
    "    name=\"Bands\",\n",
    ")\n",
    "m2d.mesh.assign_length_mesh(\n",
    "    assignment=[coil_in_id, coil_in_id, core_id, magnet_n_id, magnet_s_id, region_id],\n",
    "    maximum_length=\"Mesh_other_objects\",\n",
    "    maximum_elements=None,\n",
    "    name=\"Coils_core_magnets\",\n",
    ")"
   ]
  },
  {
   "cell_type": "markdown",
   "id": "71f8d2ea",
   "metadata": {},
   "source": [
    "## Turn on eddy effects\n",
    "\n",
    "Assign eddy effects to the magnets."
   ]
  },
  {
   "cell_type": "code",
   "execution_count": 22,
   "id": "a5111355",
   "metadata": {
    "execution": {
     "iopub.execute_input": "2025-10-30T06:58:37.524737Z",
     "iopub.status.busy": "2025-10-30T06:58:37.524737Z",
     "iopub.status.idle": "2025-10-30T06:58:37.777909Z",
     "shell.execute_reply": "2025-10-30T06:58:37.777909Z"
    }
   },
   "outputs": [
    {
     "data": {
      "text/plain": [
       "True"
      ]
     },
     "execution_count": 22,
     "metadata": {},
     "output_type": "execute_result"
    }
   ],
   "source": [
    "m2d.eddy_effects_on(assignment=[\"magnet_n\", \"magnet_s\"])"
   ]
  },
  {
   "cell_type": "markdown",
   "id": "0e548700",
   "metadata": {},
   "source": [
    "## Turn on core loss\n",
    "\n",
    "Enable core loss for the core."
   ]
  },
  {
   "cell_type": "code",
   "execution_count": 23,
   "id": "fa83d20c",
   "metadata": {
    "execution": {
     "iopub.execute_input": "2025-10-30T06:58:37.777909Z",
     "iopub.status.busy": "2025-10-30T06:58:37.777909Z",
     "iopub.status.idle": "2025-10-30T06:58:37.793620Z",
     "shell.execute_reply": "2025-10-30T06:58:37.793620Z"
    }
   },
   "outputs": [
    {
     "data": {
      "text/plain": [
       "True"
      ]
     },
     "execution_count": 23,
     "metadata": {},
     "output_type": "execute_result"
    }
   ],
   "source": [
    "m2d.set_core_losses(assignment=\"Core\")"
   ]
  },
  {
   "cell_type": "markdown",
   "id": "fd549cb2",
   "metadata": {},
   "source": [
    "## Create simulation setup"
   ]
  },
  {
   "cell_type": "code",
   "execution_count": 24,
   "id": "022f0d87",
   "metadata": {
    "execution": {
     "iopub.execute_input": "2025-10-30T06:58:37.793620Z",
     "iopub.status.busy": "2025-10-30T06:58:37.793620Z",
     "iopub.status.idle": "2025-10-30T06:58:37.872970Z",
     "shell.execute_reply": "2025-10-30T06:58:37.872970Z"
    }
   },
   "outputs": [],
   "source": [
    "setup = m2d.create_setup(name=\"Setup1\")\n",
    "setup.props[\"StopTime\"] = \"Stop_time\"\n",
    "setup.props[\"TimeStep\"] = \"Time_step\"\n",
    "setup.props[\"SaveFieldsType\"] = \"Every N Steps\"\n",
    "setup.props[\"N Steps\"] = \"Save_fields_interval\"\n",
    "setup.props[\"Steps From\"] = \"0ms\"\n",
    "setup.props[\"Steps To\"] = \"Stop_time\""
   ]
  },
  {
   "cell_type": "markdown",
   "id": "68cd7d8a",
   "metadata": {},
   "source": [
    "## Create report\n",
    "\n",
    "Create an XY-report with force on the coil, the position of the coil on the Y axis,\n",
    "and time on the X axis."
   ]
  },
  {
   "cell_type": "code",
   "execution_count": 25,
   "id": "99dfc43a",
   "metadata": {
    "execution": {
     "iopub.execute_input": "2025-10-30T06:58:37.872970Z",
     "iopub.status.busy": "2025-10-30T06:58:37.872970Z",
     "iopub.status.idle": "2025-10-30T06:58:38.269135Z",
     "shell.execute_reply": "2025-10-30T06:58:38.269135Z"
    }
   },
   "outputs": [
    {
     "name": "stdout",
     "output_type": "stream",
     "text": [
      "PyAEDT INFO: Parsing C:\\Users\\ansys\\AppData\\Local\\Temp\\tmp2zp2drm2.ansys\\Lorentz_actuator.aedt.\n"
     ]
    },
    {
     "name": "stdout",
     "output_type": "stream",
     "text": [
      "PyAEDT INFO: File C:\\Users\\ansys\\AppData\\Local\\Temp\\tmp2zp2drm2.ansys\\Lorentz_actuator.aedt correctly loaded. Elapsed time: 0m 0sec\n"
     ]
    },
    {
     "name": "stdout",
     "output_type": "stream",
     "text": [
      "PyAEDT INFO: aedt file load time 0.01568007469177246\n"
     ]
    },
    {
     "name": "stdout",
     "output_type": "stream",
     "text": [
      "PyAEDT INFO: PostProcessor class has been initialized! Elapsed time: 0m 0sec\n"
     ]
    },
    {
     "name": "stdout",
     "output_type": "stream",
     "text": [
      "PyAEDT INFO: PostProcessor class has been initialized! Elapsed time: 0m 0sec\n"
     ]
    },
    {
     "name": "stdout",
     "output_type": "stream",
     "text": [
      "PyAEDT INFO: Post class has been initialized! Elapsed time: 0m 0sec\n"
     ]
    },
    {
     "name": "stdout",
     "output_type": "stream",
     "text": [
      "PyAEDT WARNING: No report category provided. Automatically identified Transient\n"
     ]
    },
    {
     "data": {
      "text/plain": [
       "<ansys.aedt.core.visualization.report.standard.Standard at 0x1a3ba792ad0>"
      ]
     },
     "execution_count": 25,
     "metadata": {},
     "output_type": "execute_result"
    }
   ],
   "source": [
    "m2d.post.create_report(\n",
    "    expressions=[\"Moving1.Force_x\", \"Moving1.Position\"],\n",
    "    plot_name=\"Force on Coil and Position of Coil\",\n",
    "    primary_sweep_variable=\"Time\",\n",
    ")"
   ]
  },
  {
   "cell_type": "markdown",
   "id": "dbbc196e",
   "metadata": {},
   "source": [
    "## Analyze project"
   ]
  },
  {
   "cell_type": "code",
   "execution_count": 26,
   "id": "e86f0993",
   "metadata": {
    "execution": {
     "iopub.execute_input": "2025-10-30T06:58:38.269135Z",
     "iopub.status.busy": "2025-10-30T06:58:38.269135Z",
     "iopub.status.idle": "2025-10-30T07:04:28.899713Z",
     "shell.execute_reply": "2025-10-30T07:04:28.899713Z"
    }
   },
   "outputs": [
    {
     "name": "stdout",
     "output_type": "stream",
     "text": [
      "PyAEDT INFO: Project Lorentz_actuator Saved correctly\n"
     ]
    },
    {
     "name": "stdout",
     "output_type": "stream",
     "text": [
      "PyAEDT INFO: Key Desktop/ActiveDSOConfigurations/Maxwell 2D correctly changed.\n"
     ]
    },
    {
     "name": "stdout",
     "output_type": "stream",
     "text": [
      "PyAEDT INFO: Solving design setup Setup1\n"
     ]
    },
    {
     "name": "stdout",
     "output_type": "stream",
     "text": [
      "PyAEDT INFO: Design setup Setup1 solved correctly in 0.0h 5.0m 50.0s\n"
     ]
    },
    {
     "name": "stdout",
     "output_type": "stream",
     "text": [
      "PyAEDT INFO: Key Desktop/ActiveDSOConfigurations/Maxwell 2D correctly changed.\n"
     ]
    }
   ],
   "source": [
    "setup.analyze(cores=NUM_CORES, use_auto_settings=False)"
   ]
  },
  {
   "cell_type": "markdown",
   "id": "94adfe7e",
   "metadata": {},
   "source": [
    "## Release AEDT"
   ]
  },
  {
   "cell_type": "code",
   "execution_count": 27,
   "id": "7362677e",
   "metadata": {
    "execution": {
     "iopub.execute_input": "2025-10-30T07:04:28.903274Z",
     "iopub.status.busy": "2025-10-30T07:04:28.903274Z",
     "iopub.status.idle": "2025-10-30T07:04:54.921819Z",
     "shell.execute_reply": "2025-10-30T07:04:54.921819Z"
    }
   },
   "outputs": [
    {
     "name": "stdout",
     "output_type": "stream",
     "text": [
      "PyAEDT INFO: Project Lorentz_actuator Saved correctly\n"
     ]
    },
    {
     "name": "stdout",
     "output_type": "stream",
     "text": [
      "PyAEDT INFO: Desktop has been released and closed.\n"
     ]
    }
   ],
   "source": [
    "m2d.save_project()\n",
    "m2d.release_desktop()\n",
    "# Wait 3 seconds to allow AEDT to shut down before cleaning the temporary directory.\n",
    "time.sleep(3)"
   ]
  },
  {
   "cell_type": "markdown",
   "id": "e03f9943",
   "metadata": {},
   "source": [
    "## Clean up\n",
    "\n",
    "All project files are saved in the folder ``temp_dir.name``.\n",
    "If you've run this example as a Jupyter notebook, you\n",
    "can retrieve those project files. The following cell\n",
    "removes all temporary files, including the project folder."
   ]
  },
  {
   "cell_type": "code",
   "execution_count": 28,
   "id": "93a2ce24",
   "metadata": {
    "execution": {
     "iopub.execute_input": "2025-10-30T07:04:54.921819Z",
     "iopub.status.busy": "2025-10-30T07:04:54.921819Z",
     "iopub.status.idle": "2025-10-30T07:04:55.164545Z",
     "shell.execute_reply": "2025-10-30T07:04:55.164545Z"
    }
   },
   "outputs": [],
   "source": [
    "temp_folder.cleanup()"
   ]
  }
 ],
 "metadata": {
  "jupytext": {
   "cell_metadata_filter": "-all",
   "main_language": "python",
   "notebook_metadata_filter": "-all"
  },
  "language_info": {
   "codemirror_mode": {
    "name": "ipython",
    "version": 3
   },
   "file_extension": ".py",
   "mimetype": "text/x-python",
   "name": "python",
   "nbconvert_exporter": "python",
   "pygments_lexer": "ipython3",
   "version": "3.10.11"
  }
 },
 "nbformat": 4,
 "nbformat_minor": 5
}
