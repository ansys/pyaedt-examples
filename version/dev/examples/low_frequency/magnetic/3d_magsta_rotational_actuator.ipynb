{
 "cells": [
  {
   "cell_type": "markdown",
   "id": "a534df3f",
   "metadata": {},
   "source": [
    "# 3D Rotational Actuator\n",
    "\n",
    "In this example the rotational position of the actuator is defined and controled by a global parameter named ``angle``.\n",
    "By leveraging the magnetostatics formulation we can sweep through the rotational motion \n",
    "and calculate the change in coil inductance, and field in a non-linear core.\n",
    "\n",
    "The model also shows how to set up a custom non-linear material using BH curve data.\n",
    "\n",
    "Keywords: **Maxwell3D**, **3D**, **magnetostatic**, **rotational motion**, **parametric sweep**, **inductance**,\n",
    "**installation example**\n"
   ]
  },
  {
   "cell_type": "markdown",
   "id": "d9515158",
   "metadata": {},
   "source": [
    "## Prerequisites\n",
    "\n",
    "### Perform imports"
   ]
  },
  {
   "cell_type": "code",
   "execution_count": 1,
   "id": "9fd84cb7",
   "metadata": {
    "execution": {
     "iopub.execute_input": "2025-10-30T06:48:15.344689Z",
     "iopub.status.busy": "2025-10-30T06:48:15.344689Z",
     "iopub.status.idle": "2025-10-30T06:48:18.442043Z",
     "shell.execute_reply": "2025-10-30T06:48:18.442043Z"
    }
   },
   "outputs": [],
   "source": [
    "import os\n",
    "import tempfile\n",
    "import time\n",
    "import csv\n",
    "\n",
    "import ansys.aedt.core  # Interface to Ansys Electronics Desktop"
   ]
  },
  {
   "cell_type": "markdown",
   "id": "1815b688",
   "metadata": {},
   "source": [
    "### Define constants"
   ]
  },
  {
   "cell_type": "code",
   "execution_count": 2,
   "id": "28f35625",
   "metadata": {
    "execution": {
     "iopub.execute_input": "2025-10-30T06:48:18.442043Z",
     "iopub.status.busy": "2025-10-30T06:48:18.442043Z",
     "iopub.status.idle": "2025-10-30T06:48:18.457770Z",
     "shell.execute_reply": "2025-10-30T06:48:18.457770Z"
    },
    "lines_to_next_cell": 2
   },
   "outputs": [],
   "source": [
    "AEDT_VERSION = \"2025.2\"\n",
    "NUM_CORES = 4\n",
    "NG_MODE = False  # Open AEDT UI when it is launched."
   ]
  },
  {
   "cell_type": "markdown",
   "id": "60f84248",
   "metadata": {},
   "source": [
    "### Create temporary directory\n",
    "\n",
    "Create a temporary working directory.\n",
    "The name of the working folder is stored in ``temp_folder.name``.\n",
    "\n",
    "> **Note:** The final cell in the notebook cleans up the temporary folder. If you want to\n",
    "> retrieve the AEDT project and data, do so before executing the final cell in the notebook."
   ]
  },
  {
   "cell_type": "code",
   "execution_count": 3,
   "id": "f7b95abd",
   "metadata": {
    "execution": {
     "iopub.execute_input": "2025-10-30T06:48:18.457770Z",
     "iopub.status.busy": "2025-10-30T06:48:18.457770Z",
     "iopub.status.idle": "2025-10-30T06:48:18.473597Z",
     "shell.execute_reply": "2025-10-30T06:48:18.473597Z"
    }
   },
   "outputs": [],
   "source": [
    "temp_folder = tempfile.TemporaryDirectory(suffix=\".ansys\")"
   ]
  },
  {
   "cell_type": "markdown",
   "id": "16c19c34",
   "metadata": {},
   "source": [
    "### Launch Maxwell 3d\n",
    "Create an instance of the ``Maxwell3d`` class. The Ansys Electronics Desktop will be launched\n",
    "with an active Maxwell2D design. The ``m3d`` object is subsequently used to create and simulate the actuator model."
   ]
  },
  {
   "cell_type": "code",
   "execution_count": 4,
   "id": "a4e59285",
   "metadata": {
    "execution": {
     "iopub.execute_input": "2025-10-30T06:48:18.473597Z",
     "iopub.status.busy": "2025-10-30T06:48:18.473597Z",
     "iopub.status.idle": "2025-10-30T06:48:47.658259Z",
     "shell.execute_reply": "2025-10-30T06:48:47.658259Z"
    }
   },
   "outputs": [
    {
     "name": "stdout",
     "output_type": "stream",
     "text": [
      "PyAEDT INFO: Python version 3.10.11 (tags/v3.10.11:7d4cc5a, Apr  5 2023, 00:38:17) [MSC v.1929 64 bit (AMD64)].\n"
     ]
    },
    {
     "name": "stdout",
     "output_type": "stream",
     "text": [
      "PyAEDT INFO: PyAEDT version 0.22.dev0.\n"
     ]
    },
    {
     "name": "stdout",
     "output_type": "stream",
     "text": [
      "PyAEDT INFO: Initializing new Desktop session.\n"
     ]
    },
    {
     "name": "stdout",
     "output_type": "stream",
     "text": [
      "PyAEDT INFO: Log on console is enabled.\n"
     ]
    },
    {
     "name": "stdout",
     "output_type": "stream",
     "text": [
      "PyAEDT INFO: Log on file C:\\Users\\ansys\\AppData\\Local\\Temp\\pyaedt_ansys_ad85a5f9-982a-48a0-b186-a5563e355569.log is enabled.\n"
     ]
    },
    {
     "name": "stdout",
     "output_type": "stream",
     "text": [
      "PyAEDT INFO: Log on AEDT is disabled.\n"
     ]
    },
    {
     "name": "stdout",
     "output_type": "stream",
     "text": [
      "PyAEDT INFO: Debug logger is disabled. PyAEDT methods will not be logged.\n"
     ]
    },
    {
     "name": "stdout",
     "output_type": "stream",
     "text": [
      "PyAEDT INFO: Launching PyAEDT with gRPC plugin.\n"
     ]
    },
    {
     "name": "stdout",
     "output_type": "stream",
     "text": [
      "PyAEDT INFO: New AEDT session is starting on gRPC port 50249.\n"
     ]
    },
    {
     "name": "stdout",
     "output_type": "stream",
     "text": [
      "PyAEDT INFO: Electronics Desktop started on gRPC port: 50249 after 11.767365455627441 seconds.\n"
     ]
    },
    {
     "name": "stdout",
     "output_type": "stream",
     "text": [
      "PyAEDT INFO: AEDT installation Path C:\\Program Files\\ANSYS Inc\\v252\\AnsysEM\n"
     ]
    },
    {
     "name": "stdout",
     "output_type": "stream",
     "text": [
      "PyAEDT INFO: Ansoft.ElectronicsDesktop.2025.2 version started with process ID 4500.\n"
     ]
    },
    {
     "name": "stdout",
     "output_type": "stream",
     "text": [
      "PyAEDT INFO: Project rotational_actuator has been created.\n"
     ]
    },
    {
     "name": "stdout",
     "output_type": "stream",
     "text": [
      "PyAEDT INFO: Added design '3d_magsta_actuator' of type Maxwell 3D.\n"
     ]
    },
    {
     "name": "stdout",
     "output_type": "stream",
     "text": [
      "PyAEDT INFO: Aedt Objects correctly read\n"
     ]
    }
   ],
   "source": [
    "project_name = os.path.join(temp_folder.name, \"rotational_actuator.aedt\")\n",
    "m3d = ansys.aedt.core.Maxwell3d(\n",
    "    project=project_name,\n",
    "    design=\"3d_magsta_actuator\",\n",
    "    solution_type=\"Magnetostatic\",\n",
    "    version=AEDT_VERSION,\n",
    "    non_graphical=NG_MODE,\n",
    "    new_desktop=True,\n",
    ")"
   ]
  },
  {
   "cell_type": "markdown",
   "id": "bd876ea0",
   "metadata": {},
   "source": [
    "## Model Preparation\n",
    "\n",
    "### Declare and initialize design parameters\n",
    "The ``angle`` parameter will be used to sweep through the actuators rotational motion"
   ]
  },
  {
   "cell_type": "code",
   "execution_count": 5,
   "id": "6b30fe54",
   "metadata": {
    "execution": {
     "iopub.execute_input": "2025-10-30T06:48:47.658259Z",
     "iopub.status.busy": "2025-10-30T06:48:47.658259Z",
     "iopub.status.idle": "2025-10-30T06:48:47.689962Z",
     "shell.execute_reply": "2025-10-30T06:48:47.689962Z"
    }
   },
   "outputs": [],
   "source": [
    "m3d[\"angle\"] = \"0deg\""
   ]
  },
  {
   "cell_type": "markdown",
   "id": "a52abbb5",
   "metadata": {},
   "source": [
    "### Create 3D model\n",
    "\n",
    "#### Set model units\n"
   ]
  },
  {
   "cell_type": "code",
   "execution_count": 6,
   "id": "7bb2f4eb",
   "metadata": {
    "execution": {
     "iopub.execute_input": "2025-10-30T06:48:47.689962Z",
     "iopub.status.busy": "2025-10-30T06:48:47.689962Z",
     "iopub.status.idle": "2025-10-30T06:48:48.686781Z",
     "shell.execute_reply": "2025-10-30T06:48:48.686781Z"
    }
   },
   "outputs": [
    {
     "name": "stdout",
     "output_type": "stream",
     "text": [
      "PyAEDT INFO: Modeler class has been initialized! Elapsed time: 0m 1sec\n"
     ]
    }
   ],
   "source": [
    "m3d.modeler.model_units = \"mm\""
   ]
  },
  {
   "cell_type": "markdown",
   "id": "6f3050bf",
   "metadata": {},
   "source": [
    "#### Create non-linear magnetic material with single valued BH curve\n",
    "\n",
    "Create list with  BH curve data"
   ]
  },
  {
   "cell_type": "code",
   "execution_count": 7,
   "id": "8b3d51d4",
   "metadata": {
    "execution": {
     "iopub.execute_input": "2025-10-30T06:48:48.686781Z",
     "iopub.status.busy": "2025-10-30T06:48:48.686781Z",
     "iopub.status.idle": "2025-10-30T06:48:48.702627Z",
     "shell.execute_reply": "2025-10-30T06:48:48.702627Z"
    }
   },
   "outputs": [],
   "source": [
    "bh_curve = [[0.0, 0.0],\n",
    "            [4000.0, 1.413],\n",
    "            [8010.0, 1.594],\n",
    "            [16010.0, 1.751],\n",
    "            [24020.0, 1.839],\n",
    "            [32030.0, 1.896],\n",
    "            [40030.0, 1.936],\n",
    "            [48040.0, 1.967],\n",
    "            [64050.0, 2.008],\n",
    "            [80070.0, 2.042],\n",
    "            [96080.0, 2.073],\n",
    "            [112100.0, 2.101],\n",
    "            [128110.0, 2.127],\n",
    "            [144120.0, 2.151],\n",
    "            [176150.0, 2.197],\n",
    "            [208180.0, 2.24],\n",
    "            [272230.0, 2.325],\n",
    "            [304260.0, 2.37],\n",
    "            [336290.0, 2.42],\n",
    "            [396000.0, 2.5]]"
   ]
  },
  {
   "cell_type": "markdown",
   "id": "81d9ecab",
   "metadata": {},
   "source": [
    "Create custom material and add it to the AEDT library using the ``add_material`` method"
   ]
  },
  {
   "cell_type": "code",
   "execution_count": 8,
   "id": "1967695c",
   "metadata": {
    "execution": {
     "iopub.execute_input": "2025-10-30T06:48:48.702627Z",
     "iopub.status.busy": "2025-10-30T06:48:48.702627Z",
     "iopub.status.idle": "2025-10-30T06:48:49.716131Z",
     "shell.execute_reply": "2025-10-30T06:48:49.716131Z"
    }
   },
   "outputs": [
    {
     "name": "stdout",
     "output_type": "stream",
     "text": [
      "PyAEDT INFO: Materials class has been initialized! Elapsed time: 0m 0sec\n"
     ]
    },
    {
     "name": "stdout",
     "output_type": "stream",
     "text": [
      "PyAEDT INFO: Adding new material to the Project Library: arm_steel\n"
     ]
    },
    {
     "name": "stdout",
     "output_type": "stream",
     "text": [
      "PyAEDT INFO: Material has been added in Desktop.\n"
     ]
    }
   ],
   "source": [
    "arm_steel = m3d.materials.add_material(name=\"arm_steel\")\n",
    "arm_steel.conductivity = 2000000\n",
    "arm_steel.permeability.value = bh_curve"
   ]
  },
  {
   "cell_type": "markdown",
   "id": "fd185baa",
   "metadata": {},
   "source": [
    "#### Create outer arm"
   ]
  },
  {
   "cell_type": "code",
   "execution_count": 9,
   "id": "56b76875",
   "metadata": {
    "execution": {
     "iopub.execute_input": "2025-10-30T06:48:49.716131Z",
     "iopub.status.busy": "2025-10-30T06:48:49.716131Z",
     "iopub.status.idle": "2025-10-30T06:49:01.884717Z",
     "shell.execute_reply": "2025-10-30T06:49:01.882709Z"
    }
   },
   "outputs": [
    {
     "name": "stdout",
     "output_type": "stream",
     "text": [
      "PyAEDT INFO: Parsing design objects. This operation can take time\n"
     ]
    },
    {
     "name": "stdout",
     "output_type": "stream",
     "text": [
      "PyAEDT INFO: Refreshing bodies from Object Info\n"
     ]
    },
    {
     "name": "stdout",
     "output_type": "stream",
     "text": [
      "PyAEDT INFO: Bodies Info Refreshed Elapsed time: 0m 0sec\n"
     ]
    },
    {
     "name": "stdout",
     "output_type": "stream",
     "text": [
      "PyAEDT INFO: 3D Modeler objects parsed. Elapsed time: 0m 0sec\n"
     ]
    },
    {
     "name": "stdout",
     "output_type": "stream",
     "text": [
      "PyAEDT INFO: Parsing design objects. This operation can take time\n"
     ]
    },
    {
     "name": "stdout",
     "output_type": "stream",
     "text": [
      "PyAEDT INFO: Refreshing bodies from Object Info\n"
     ]
    },
    {
     "name": "stdout",
     "output_type": "stream",
     "text": [
      "PyAEDT INFO: Bodies Info Refreshed Elapsed time: 0m 0sec\n"
     ]
    },
    {
     "name": "stdout",
     "output_type": "stream",
     "text": [
      "PyAEDT INFO: 3D Modeler objects parsed. Elapsed time: 0m 0sec\n"
     ]
    },
    {
     "name": "stdout",
     "output_type": "stream",
     "text": [
      "PyAEDT INFO: Union of 3 objects has been executed.\n"
     ]
    },
    {
     "name": "stdout",
     "output_type": "stream",
     "text": [
      "PyAEDT INFO: Parsing design objects. This operation can take time\n"
     ]
    },
    {
     "name": "stdout",
     "output_type": "stream",
     "text": [
      "PyAEDT INFO: Refreshing bodies from Object Info\n"
     ]
    },
    {
     "name": "stdout",
     "output_type": "stream",
     "text": [
      "PyAEDT INFO: Bodies Info Refreshed Elapsed time: 0m 0sec\n"
     ]
    },
    {
     "name": "stdout",
     "output_type": "stream",
     "text": [
      "PyAEDT INFO: 3D Modeler objects parsed. Elapsed time: 0m 0sec\n"
     ]
    }
   ],
   "source": [
    "outer_arm = m3d.modeler.create_cylinder(orientation=ansys.aedt.core.constants.Axis.Z ,origin=[0,0,0],radius=104.5,height=25.4,num_sides=0, name=\"Outer_arm\", material=arm_steel.name)\n",
    "cylinder_tool = m3d.modeler.create_cylinder(orientation=ansys.aedt.core.constants.Axis.Z ,origin=[0,0,0],radius=83.1,height=25.4,num_sides=0, name=\"Cylinder_tool\")\n",
    "m3d.modeler.subtract([outer_arm],[cylinder_tool], keep_originals=False)\n",
    "box_1 = m3d.modeler.create_box(origin=[-13.9 ,0 ,0],sizes=[27.8,-40,25.4], name=\"Box1\")\n",
    "m3d.modeler.move(box_1,vector=[0,-45,0])\n",
    "m3d.modeler.duplicate_and_mirror(assignment=box_1,origin=[0,0,0],vector=[0,1,0])\n",
    "m3d.modeler.unite([outer_arm, box_1.name, box_1.name+\"_1\"])\n",
    "cylinder_1 = m3d.modeler.create_cylinder(orientation=ansys.aedt.core.constants.Axis.Z ,origin=[0,0,0],radius=53.75,height=25.4,num_sides=0, name=\"Cylinder1\")\n",
    "m3d.modeler.subtract([outer_arm],[cylinder_1], keep_originals=False)\n",
    "outer_arm.color=\"(192 192 192)\""
   ]
  },
  {
   "cell_type": "markdown",
   "id": "b73f5e18",
   "metadata": {},
   "source": [
    "#### Create inner arm"
   ]
  },
  {
   "cell_type": "code",
   "execution_count": 10,
   "id": "71c14ca5",
   "metadata": {
    "execution": {
     "iopub.execute_input": "2025-10-30T06:49:01.886725Z",
     "iopub.status.busy": "2025-10-30T06:49:01.886725Z",
     "iopub.status.idle": "2025-10-30T06:49:02.168602Z",
     "shell.execute_reply": "2025-10-30T06:49:02.168602Z"
    }
   },
   "outputs": [
    {
     "name": "stdout",
     "output_type": "stream",
     "text": [
      "PyAEDT INFO: Parsing design objects. This operation can take time\n"
     ]
    },
    {
     "name": "stdout",
     "output_type": "stream",
     "text": [
      "PyAEDT INFO: Refreshing bodies from Object Info\n"
     ]
    },
    {
     "name": "stdout",
     "output_type": "stream",
     "text": [
      "PyAEDT INFO: Bodies Info Refreshed Elapsed time: 0m 0sec\n"
     ]
    },
    {
     "name": "stdout",
     "output_type": "stream",
     "text": [
      "PyAEDT INFO: 3D Modeler objects parsed. Elapsed time: 0m 0sec\n"
     ]
    },
    {
     "name": "stdout",
     "output_type": "stream",
     "text": [
      "PyAEDT INFO: Parsing design objects. This operation can take time\n"
     ]
    },
    {
     "name": "stdout",
     "output_type": "stream",
     "text": [
      "PyAEDT INFO: Refreshing bodies from Object Info\n"
     ]
    },
    {
     "name": "stdout",
     "output_type": "stream",
     "text": [
      "PyAEDT INFO: Bodies Info Refreshed Elapsed time: 0m 0sec\n"
     ]
    },
    {
     "name": "stdout",
     "output_type": "stream",
     "text": [
      "PyAEDT INFO: 3D Modeler objects parsed. Elapsed time: 0m 0sec\n"
     ]
    },
    {
     "name": "stderr",
     "output_type": "stream",
     "text": [
      "C:\\Users\\ansys\\AppData\\Local\\Temp\\ipykernel_1056\\1312028022.py:1: DeprecationWarning: AXIS is deprecated. Use Axis instead.\n",
      "  inner_arm = m3d.modeler.create_cylinder(orientation=ansys.aedt.core.constants.AXIS.Z ,origin=[0,0,0],radius=38.1,height=25.4,num_sides=0, name=\"Inner_arm\", material=arm_steel.name)\n",
      "C:\\Users\\ansys\\AppData\\Local\\Temp\\ipykernel_1056\\1312028022.py:2: DeprecationWarning: AXIS is deprecated. Use Axis instead.\n",
      "  shaft = m3d.modeler.create_cylinder(orientation=ansys.aedt.core.constants.AXIS.Z ,origin=[0,0,0],radius=25.4,height=25.4,num_sides=0, name=\"shaft\")\n"
     ]
    },
    {
     "name": "stdout",
     "output_type": "stream",
     "text": [
      "PyAEDT INFO: Union of 3 objects has been executed.\n"
     ]
    },
    {
     "name": "stdout",
     "output_type": "stream",
     "text": [
      "PyAEDT INFO: Parsing design objects. This operation can take time\n"
     ]
    },
    {
     "name": "stdout",
     "output_type": "stream",
     "text": [
      "PyAEDT INFO: Refreshing bodies from Object Info\n"
     ]
    },
    {
     "name": "stdout",
     "output_type": "stream",
     "text": [
      "PyAEDT INFO: Bodies Info Refreshed Elapsed time: 0m 0sec\n"
     ]
    },
    {
     "name": "stdout",
     "output_type": "stream",
     "text": [
      "PyAEDT INFO: 3D Modeler objects parsed. Elapsed time: 0m 0sec\n"
     ]
    },
    {
     "name": "stdout",
     "output_type": "stream",
     "text": [
      "PyAEDT INFO: Intersection Succeeded\n"
     ]
    },
    {
     "name": "stderr",
     "output_type": "stream",
     "text": [
      "C:\\Users\\ansys\\AppData\\Local\\Temp\\ipykernel_1056\\1312028022.py:8: DeprecationWarning: AXIS is deprecated. Use Axis instead.\n",
      "  finalpole2 = m3d.modeler.create_cylinder(orientation=ansys.aedt.core.constants.AXIS.Z ,origin=[0,0,0],radius=51.05,height=25.4,num_sides=0, name=\"finalpole2\")\n"
     ]
    }
   ],
   "source": [
    "inner_arm = m3d.modeler.create_cylinder(orientation=ansys.aedt.core.constants.AXIS.Z ,origin=[0,0,0],radius=38.1,height=25.4,num_sides=0, name=\"Inner_arm\", material=arm_steel.name)\n",
    "shaft = m3d.modeler.create_cylinder(orientation=ansys.aedt.core.constants.AXIS.Z ,origin=[0,0,0],radius=25.4,height=25.4,num_sides=0, name=\"shaft\")\n",
    "m3d.modeler.subtract([inner_arm],[shaft], keep_originals=False)\n",
    "box_2 = m3d.modeler.create_box(origin=[-12.7 ,0 ,0],sizes=[25.4,-20,25.4], name=\"Box2\")\n",
    "m3d.modeler.move(box_2,vector=[0,-35,0])\n",
    "m3d.modeler.duplicate_and_mirror(assignment=box_2,origin=[0,0,0],vector=[0,1,0])\n",
    "m3d.modeler.unite([inner_arm, box_2.name, box_2.name+\"_1\"])\n",
    "finalpole2 = m3d.modeler.create_cylinder(orientation=ansys.aedt.core.constants.AXIS.Z ,origin=[0,0,0],radius=51.05,height=25.4,num_sides=0, name=\"finalpole2\")\n",
    "m3d.modeler.intersect(assignment=[inner_arm, finalpole2])\n",
    "inner_arm.color=\"(192 192 192)\""
   ]
  },
  {
   "cell_type": "markdown",
   "id": "84f6a201",
   "metadata": {},
   "source": [
    "#### Create a local/relative coordinate system"
   ]
  },
  {
   "cell_type": "code",
   "execution_count": 11,
   "id": "a1049adc",
   "metadata": {
    "execution": {
     "iopub.execute_input": "2025-10-30T06:49:02.168602Z",
     "iopub.status.busy": "2025-10-30T06:49:02.168602Z",
     "iopub.status.idle": "2025-10-30T06:49:02.200502Z",
     "shell.execute_reply": "2025-10-30T06:49:02.200502Z"
    }
   },
   "outputs": [
    {
     "data": {
      "text/plain": [
       "<ansys.aedt.core.modeler.cad.modeler.CoordinateSystem at 0x20e9c08f790>"
      ]
     },
     "execution_count": 11,
     "metadata": {},
     "output_type": "execute_result"
    }
   ],
   "source": [
    "m3d.modeler.create_coordinate_system(origin=[0 ,0 ,12.7],reference_cs=\"Global\",name=\"RelativeCS1\",mode=\"axis\",x_pointing=[1 ,0 ,0],y_pointing=[0 ,1 ,0])"
   ]
  },
  {
   "cell_type": "markdown",
   "id": "d01f01c2",
   "metadata": {},
   "source": [
    "#### Apply rotation on relative coordinate system"
   ]
  },
  {
   "cell_type": "code",
   "execution_count": 12,
   "id": "182cc5de",
   "metadata": {
    "execution": {
     "iopub.execute_input": "2025-10-30T06:49:02.200502Z",
     "iopub.status.busy": "2025-10-30T06:49:02.200502Z",
     "iopub.status.idle": "2025-10-30T06:49:02.216335Z",
     "shell.execute_reply": "2025-10-30T06:49:02.216335Z"
    }
   },
   "outputs": [
    {
     "data": {
      "text/plain": [
       "True"
      ]
     },
     "execution_count": 12,
     "metadata": {},
     "output_type": "execute_result"
    }
   ],
   "source": [
    "m3d.modeler.rotate(assignment=[inner_arm], axis=\"RelativeCS1\" , angle=\"angle\")"
   ]
  },
  {
   "cell_type": "markdown",
   "id": "ed736488",
   "metadata": {},
   "source": [
    "#### Create coils"
   ]
  },
  {
   "cell_type": "code",
   "execution_count": 13,
   "id": "ac62d05d",
   "metadata": {
    "execution": {
     "iopub.execute_input": "2025-10-30T06:49:02.216335Z",
     "iopub.status.busy": "2025-10-30T06:49:02.216335Z",
     "iopub.status.idle": "2025-10-30T06:49:02.867268Z",
     "shell.execute_reply": "2025-10-30T06:49:02.867268Z"
    }
   },
   "outputs": [
    {
     "name": "stderr",
     "output_type": "stream",
     "text": [
      "C:\\Users\\ansys\\AppData\\Local\\Temp\\ipykernel_1056\\661646929.py:1: DeprecationWarning: AXIS is deprecated. Use Axis instead.\n",
      "  coil1 = m3d.modeler.create_rectangle(orientation=ansys.aedt.core.constants.AXIS.X,origin=[0,0,15.5],sizes=[17,24], name=\"coil1\", material=\"copper\")\n"
     ]
    },
    {
     "name": "stdout",
     "output_type": "stream",
     "text": [
      "PyAEDT INFO: Parsing design objects. This operation can take time\n"
     ]
    },
    {
     "name": "stdout",
     "output_type": "stream",
     "text": [
      "PyAEDT INFO: Refreshing bodies from Object Info\n"
     ]
    },
    {
     "name": "stdout",
     "output_type": "stream",
     "text": [
      "PyAEDT INFO: Bodies Info Refreshed Elapsed time: 0m 0sec\n"
     ]
    },
    {
     "name": "stdout",
     "output_type": "stream",
     "text": [
      "PyAEDT INFO: 3D Modeler objects parsed. Elapsed time: 0m 0sec\n"
     ]
    },
    {
     "name": "stdout",
     "output_type": "stream",
     "text": [
      "PyAEDT INFO: Parsing design objects. This operation can take time\n"
     ]
    },
    {
     "name": "stdout",
     "output_type": "stream",
     "text": [
      "PyAEDT INFO: Refreshing bodies from Object Info\n"
     ]
    },
    {
     "name": "stderr",
     "output_type": "stream",
     "text": [
      "C:\\Users\\ansys\\AppData\\Local\\Temp\\ipykernel_1056\\661646929.py:3: DeprecationWarning: AXIS is deprecated. Use Axis instead.\n",
      "  path_rectangle = m3d.modeler.create_rectangle(orientation=ansys.aedt.core.constants.AXIS.Y,origin=[-17,0,-15.5],sizes=[31,34], name=\"path\")\n",
      "C:\\Users\\ansys\\AppData\\Local\\Temp\\ipykernel_1056\\661646929.py:6: DeprecationWarning: AXIS is deprecated. Use Axis instead.\n",
      "  round = m3d.modeler.create_cylinder(orientation=ansys.aedt.core.constants.AXIS.Y ,origin=[0,0,0],radius=46.238512086788,height=17,num_sides=0, name=\"Round\")\n"
     ]
    },
    {
     "name": "stdout",
     "output_type": "stream",
     "text": [
      "PyAEDT INFO: Bodies Info Refreshed Elapsed time: 0m 0sec\n"
     ]
    },
    {
     "name": "stdout",
     "output_type": "stream",
     "text": [
      "PyAEDT INFO: 3D Modeler objects parsed. Elapsed time: 0m 0sec\n"
     ]
    },
    {
     "name": "stdout",
     "output_type": "stream",
     "text": [
      "PyAEDT INFO: Intersection Succeeded\n"
     ]
    },
    {
     "data": {
      "text/plain": [
       "True"
      ]
     },
     "execution_count": 13,
     "metadata": {},
     "output_type": "execute_result"
    }
   ],
   "source": [
    "coil1 = m3d.modeler.create_rectangle(orientation=ansys.aedt.core.constants.AXIS.X,origin=[0,0,15.5],sizes=[17,24], name=\"coil1\", material=\"copper\")\n",
    "coil1.color=\"(249 186 70)\"\n",
    "path_rectangle = m3d.modeler.create_rectangle(orientation=ansys.aedt.core.constants.AXIS.Y,origin=[-17,0,-15.5],sizes=[31,34], name=\"path\")\n",
    "m3d.modeler.uncover_faces([path_rectangle.faces[0]])\n",
    "m3d.modeler.sweep_along_path(assignment=coil1, sweep_object=path_rectangle)\n",
    "round = m3d.modeler.create_cylinder(orientation=ansys.aedt.core.constants.AXIS.Y ,origin=[0,0,0],radius=46.238512086788,height=17,num_sides=0, name=\"Round\")\n",
    "m3d.modeler.intersect(assignment=[coil1, round])\n",
    "m3d.modeler.move(assignment=coil1,vector=[0,54.5,0])\n",
    "m3d.modeler.duplicate_and_mirror(assignment=coil1,origin=[0,0,0],vector=[0,1,0])\n",
    "m3d.modeler.section(assignment=coil1,plane='XY')\n",
    "m3d.modeler.section(assignment=coil1.name + \"_1\",plane='XY')"
   ]
  },
  {
   "cell_type": "markdown",
   "id": "f29c4873",
   "metadata": {},
   "source": [
    "#### Create air region"
   ]
  },
  {
   "cell_type": "code",
   "execution_count": 14,
   "id": "17db1e6f",
   "metadata": {
    "execution": {
     "iopub.execute_input": "2025-10-30T06:49:02.867268Z",
     "iopub.status.busy": "2025-10-30T06:49:02.867268Z",
     "iopub.status.idle": "2025-10-30T06:49:02.900512Z",
     "shell.execute_reply": "2025-10-30T06:49:02.899000Z"
    }
   },
   "outputs": [],
   "source": [
    "bgnd = m3d.modeler.create_box(origin=[-250 ,-250 ,-250],sizes=[500,500,500], name=\"bgnd\")\n",
    "bgnd.transparency = 1"
   ]
  },
  {
   "cell_type": "markdown",
   "id": "8465b518",
   "metadata": {},
   "source": [
    "#### Create Coil Terminals by Separating Sheet bodies"
   ]
  },
  {
   "cell_type": "code",
   "execution_count": 15,
   "id": "bfbe86be",
   "metadata": {
    "execution": {
     "iopub.execute_input": "2025-10-30T06:49:02.901198Z",
     "iopub.status.busy": "2025-10-30T06:49:02.901198Z",
     "iopub.status.idle": "2025-10-30T06:49:03.389218Z",
     "shell.execute_reply": "2025-10-30T06:49:03.389218Z"
    }
   },
   "outputs": [
    {
     "name": "stdout",
     "output_type": "stream",
     "text": [
      "PyAEDT INFO: Parsing design objects. This operation can take time\n"
     ]
    },
    {
     "name": "stdout",
     "output_type": "stream",
     "text": [
      "PyAEDT INFO: Refreshing bodies from Object Info\n"
     ]
    },
    {
     "name": "stdout",
     "output_type": "stream",
     "text": [
      "PyAEDT INFO: Bodies Info Refreshed Elapsed time: 0m 0sec\n"
     ]
    },
    {
     "name": "stdout",
     "output_type": "stream",
     "text": [
      "PyAEDT INFO: 3D Modeler objects parsed. Elapsed time: 0m 0sec\n"
     ]
    },
    {
     "name": "stdout",
     "output_type": "stream",
     "text": [
      "PyAEDT INFO: Deleted 1 Objects: coil1_Section1_Separate1.\n"
     ]
    },
    {
     "name": "stdout",
     "output_type": "stream",
     "text": [
      "PyAEDT INFO: Parsing design objects. This operation can take time\n"
     ]
    },
    {
     "name": "stdout",
     "output_type": "stream",
     "text": [
      "PyAEDT INFO: Refreshing bodies from Object Info\n"
     ]
    },
    {
     "name": "stdout",
     "output_type": "stream",
     "text": [
      "PyAEDT INFO: Bodies Info Refreshed Elapsed time: 0m 0sec\n"
     ]
    },
    {
     "name": "stdout",
     "output_type": "stream",
     "text": [
      "PyAEDT INFO: 3D Modeler objects parsed. Elapsed time: 0m 0sec\n"
     ]
    },
    {
     "name": "stdout",
     "output_type": "stream",
     "text": [
      "PyAEDT INFO: Deleted 1 Objects: coil1_1_Section1.\n"
     ]
    },
    {
     "data": {
      "text/plain": [
       "True"
      ]
     },
     "execution_count": 15,
     "metadata": {},
     "output_type": "execute_result"
    }
   ],
   "source": [
    "coil_terminal1 = coil1.name + \"_1_Section1_Separate1\"\n",
    "coil_terminal2 = coil1.name + \"_Section1\"\n",
    "m3d.modeler.separate_bodies(assignment=coil_terminal2)\n",
    "m3d.modeler.delete(assignment=coil1.name + \"_Section1_Separate1\")\n",
    "m3d.modeler.separate_bodies(assignment=coil1.name + \"_1_Section1\")\n",
    "m3d.modeler.delete(assignment=coil1.name + \"_1_Section1\")"
   ]
  },
  {
   "cell_type": "code",
   "execution_count": 16,
   "id": "faaeb2b0",
   "metadata": {
    "execution": {
     "iopub.execute_input": "2025-10-30T06:49:03.389218Z",
     "iopub.status.busy": "2025-10-30T06:49:03.389218Z",
     "iopub.status.idle": "2025-10-30T06:49:03.404945Z",
     "shell.execute_reply": "2025-10-30T06:49:03.404945Z"
    }
   },
   "outputs": [],
   "source": [
    "m3d.modeler.fit_all()"
   ]
  },
  {
   "cell_type": "markdown",
   "id": "b3cd2c57",
   "metadata": {},
   "source": [
    "### Assign boundary conditions"
   ]
  },
  {
   "cell_type": "code",
   "execution_count": 17,
   "id": "916c5995",
   "metadata": {
    "execution": {
     "iopub.execute_input": "2025-10-30T06:49:03.404945Z",
     "iopub.status.busy": "2025-10-30T06:49:03.404945Z",
     "iopub.status.idle": "2025-10-30T06:49:03.484526Z",
     "shell.execute_reply": "2025-10-30T06:49:03.484526Z"
    }
   },
   "outputs": [
    {
     "name": "stdout",
     "output_type": "stream",
     "text": [
      "PyAEDT INFO: Boundary Current Current_1 has been created.\n"
     ]
    },
    {
     "name": "stdout",
     "output_type": "stream",
     "text": [
      "PyAEDT INFO: Boundary Current Current_2 has been created.\n"
     ]
    },
    {
     "data": {
      "text/plain": [
       "<ansys.aedt.core.modules.boundary.common.BoundaryObject at 0x20eb1c57c40>"
      ]
     },
     "execution_count": 17,
     "metadata": {},
     "output_type": "execute_result"
    }
   ],
   "source": [
    "m3d.assign_current(assignment=coil_terminal1, amplitude=675.5, solid=False, name=\"Current_1\")\n",
    "m3d.assign_current(assignment=coil_terminal2, amplitude=675.5, solid=False, name=\"Current_2\")"
   ]
  },
  {
   "cell_type": "markdown",
   "id": "55e9bca6",
   "metadata": {},
   "source": [
    "### Define solution setup"
   ]
  },
  {
   "cell_type": "code",
   "execution_count": 18,
   "id": "97577406",
   "metadata": {
    "execution": {
     "iopub.execute_input": "2025-10-30T06:49:03.484526Z",
     "iopub.status.busy": "2025-10-30T06:49:03.484526Z",
     "iopub.status.idle": "2025-10-30T06:49:03.595193Z",
     "shell.execute_reply": "2025-10-30T06:49:03.595193Z"
    }
   },
   "outputs": [
    {
     "name": "stdout",
     "output_type": "stream",
     "text": [
      "PyAEDT INFO: Boundary Matrix Matrix1 has been created.\n"
     ]
    },
    {
     "name": "stdout",
     "output_type": "stream",
     "text": [
      "PyAEDT INFO: Boundary Torque Virtual_Torque has been created.\n"
     ]
    },
    {
     "data": {
      "text/plain": [
       "<ansys.aedt.core.modules.boundary.maxwell_boundary.MaxwellParameters at 0x20eb1c57700>"
      ]
     },
     "execution_count": 18,
     "metadata": {},
     "output_type": "execute_result"
    }
   ],
   "source": [
    "m3d.assign_matrix(assignment=[\"Current_1\", \"Current_2\"],matrix_name=\"Matrix1\")\n",
    "m3d.assign_torque(assignment=inner_arm.name, is_virtual=True, coordinate_system=\"Global\", axis=\"Z\", torque_name=\"Virtual_Torque\")"
   ]
  },
  {
   "cell_type": "code",
   "execution_count": 19,
   "id": "46f75ae8",
   "metadata": {
    "execution": {
     "iopub.execute_input": "2025-10-30T06:49:03.595193Z",
     "iopub.status.busy": "2025-10-30T06:49:03.595193Z",
     "iopub.status.idle": "2025-10-30T06:49:03.658942Z",
     "shell.execute_reply": "2025-10-30T06:49:03.658942Z"
    }
   },
   "outputs": [
    {
     "name": "stdout",
     "output_type": "stream",
     "text": [
      "{'Enabled': True, 'MeshLink': {'ImportMesh': False}, 'MaximumPasses': 10, 'MinimumPasses': 2, 'MinimumConvergedPasses': 1, 'PercentRefinement': 30, 'SolveFieldOnly': False, 'PercentError': 1, 'SolveMatrixAtLast': True, 'UseIterativeSolver': False, 'RelativeResidual': 1e-06, 'NonLinearResidual': 0.001, 'SmoothBHCurve': False, 'MuOption': {'MuNonLinearBH': True}, 'Name': 'MySetup'}\n"
     ]
    }
   ],
   "source": [
    "setup = m3d.create_setup(\"MySetup\")\n",
    "print(setup.props)\n",
    "setup.props[\"MaximumPasses\"] = 10\n",
    "setup.props[\"PercentRefinement\"] = 30\n",
    "setup.props[\"PercentError\"] = 1\n",
    "setup.props[\"MinimumPasses\"] = 2\n",
    "setup.props[\"RelativeResidual\"] = 1e-3"
   ]
  },
  {
   "cell_type": "code",
   "execution_count": 20,
   "id": "ed6759a5",
   "metadata": {
    "execution": {
     "iopub.execute_input": "2025-10-30T06:49:03.658942Z",
     "iopub.status.busy": "2025-10-30T06:49:03.658942Z",
     "iopub.status.idle": "2025-10-30T06:49:03.960450Z",
     "shell.execute_reply": "2025-10-30T06:49:03.960450Z"
    }
   },
   "outputs": [
    {
     "name": "stdout",
     "output_type": "stream",
     "text": [
      "PyAEDT INFO: Parsing C:\\Users\\ansys\\AppData\\Local\\Temp\\tmprqini70p.ansys\\rotational_actuator.aedt.\n"
     ]
    },
    {
     "name": "stdout",
     "output_type": "stream",
     "text": [
      "PyAEDT INFO: File C:\\Users\\ansys\\AppData\\Local\\Temp\\tmprqini70p.ansys\\rotational_actuator.aedt correctly loaded. Elapsed time: 0m 0sec\n"
     ]
    },
    {
     "name": "stdout",
     "output_type": "stream",
     "text": [
      "PyAEDT INFO: aedt file load time 0.01605510711669922\n"
     ]
    }
   ],
   "source": [
    "parametric_sweep = m3d.parametrics.add(variable=\"angle\",start_point=\"0\", end_point=\"30\", step=\"5\",\n",
    "                                       variation_type=\"LinearStep\",name=\"ParametricSetup1\")\n",
    "parametric_sweep.add_calculation(calculation=\"Virtual_Torque.Torque\")\n",
    "parametric_sweep.add_calculation(calculation=\"Matrix1.L(Current_1, Current_1)\")\n",
    "parametric_sweep.add_calculation(calculation=\"Matrix1.L(Current_1, Current_2)\")\n",
    "parametric_sweep.add_calculation(calculation=\"Matrix1.L(Current_2, Current_1)\")\n",
    "parametric_sweep.add_calculation(calculation=\"Matrix1.L(Current_2, Current_2)\")\n",
    "parametric_sweep.props[\"ProdOptiSetupDataV2\"][\"SaveFields\"] = True"
   ]
  },
  {
   "cell_type": "markdown",
   "id": "09b7d855",
   "metadata": {},
   "source": [
    "### Run analysis\n"
   ]
  },
  {
   "cell_type": "code",
   "execution_count": 21,
   "id": "adf64fcc",
   "metadata": {
    "execution": {
     "iopub.execute_input": "2025-10-30T06:49:03.960450Z",
     "iopub.status.busy": "2025-10-30T06:49:03.960450Z",
     "iopub.status.idle": "2025-10-30T06:55:46.737094Z",
     "shell.execute_reply": "2025-10-30T06:55:46.737094Z"
    }
   },
   "outputs": [
    {
     "name": "stdout",
     "output_type": "stream",
     "text": [
      "PyAEDT INFO: Project rotational_actuator Saved correctly\n"
     ]
    },
    {
     "name": "stdout",
     "output_type": "stream",
     "text": [
      "PyAEDT INFO: Key Desktop/ActiveDSOConfigurations/Maxwell 3D correctly changed.\n"
     ]
    },
    {
     "name": "stdout",
     "output_type": "stream",
     "text": [
      "PyAEDT INFO: Solving Optimetrics\n"
     ]
    },
    {
     "name": "stdout",
     "output_type": "stream",
     "text": [
      "PyAEDT INFO: Design setup ParametricSetup1 solved correctly in 0.0h 6.0m 43.0s\n"
     ]
    },
    {
     "name": "stdout",
     "output_type": "stream",
     "text": [
      "PyAEDT INFO: Key Desktop/ActiveDSOConfigurations/Maxwell 3D correctly changed.\n"
     ]
    },
    {
     "data": {
      "text/plain": [
       "True"
      ]
     },
     "execution_count": 21,
     "metadata": {},
     "output_type": "execute_result"
    }
   ],
   "source": [
    "parametric_sweep.analyze(cores=NUM_CORES)"
   ]
  },
  {
   "cell_type": "markdown",
   "id": "43d87d15",
   "metadata": {},
   "source": [
    "## Postprocess\n",
    "\n",
    "### Create a Rectangular plot of Coil Inductance vs. Rotational Angle"
   ]
  },
  {
   "cell_type": "code",
   "execution_count": 22,
   "id": "163d3128",
   "metadata": {
    "execution": {
     "iopub.execute_input": "2025-10-30T06:55:46.737094Z",
     "iopub.status.busy": "2025-10-30T06:55:46.737094Z",
     "iopub.status.idle": "2025-10-30T06:55:47.116687Z",
     "shell.execute_reply": "2025-10-30T06:55:47.116687Z"
    }
   },
   "outputs": [
    {
     "name": "stdout",
     "output_type": "stream",
     "text": [
      "PyAEDT INFO: Parsing C:\\Users\\ansys\\AppData\\Local\\Temp\\tmprqini70p.ansys\\rotational_actuator.aedt.\n"
     ]
    },
    {
     "name": "stdout",
     "output_type": "stream",
     "text": [
      "PyAEDT INFO: File C:\\Users\\ansys\\AppData\\Local\\Temp\\tmprqini70p.ansys\\rotational_actuator.aedt correctly loaded. Elapsed time: 0m 0sec\n"
     ]
    },
    {
     "name": "stdout",
     "output_type": "stream",
     "text": [
      "PyAEDT INFO: aedt file load time 0.04706120491027832\n"
     ]
    },
    {
     "name": "stdout",
     "output_type": "stream",
     "text": [
      "PyAEDT INFO: PostProcessor class has been initialized! Elapsed time: 0m 0sec\n"
     ]
    },
    {
     "name": "stdout",
     "output_type": "stream",
     "text": [
      "PyAEDT INFO: PostProcessor class has been initialized! Elapsed time: 0m 0sec\n"
     ]
    },
    {
     "name": "stdout",
     "output_type": "stream",
     "text": [
      "PyAEDT INFO: Post class has been initialized! Elapsed time: 0m 0sec\n"
     ]
    },
    {
     "data": {
      "text/plain": [
       "<ansys.aedt.core.visualization.report.standard.Standard at 0x20eb6134dc0>"
      ]
     },
     "execution_count": 22,
     "metadata": {},
     "output_type": "execute_result"
    }
   ],
   "source": [
    "m3d.post.create_report(\n",
    "    expressions=[\"Matrix1.L(Current_1, Current_1)\",\n",
    "                 \"Matrix1.L(Current_1, Current_2)\"],\n",
    "    variations={\"angle\": \"All\"},\n",
    "    plot_name=\"Coil Inductance vs. Angle\",\n",
    "    primary_sweep_variable=\"angle\",\n",
    "    plot_type=\"Rectangular Plot\",\n",
    ")"
   ]
  },
  {
   "cell_type": "markdown",
   "id": "7df6f727",
   "metadata": {},
   "source": [
    "### Create field plots on the surface of the actuator's arms"
   ]
  },
  {
   "cell_type": "code",
   "execution_count": 23,
   "id": "f8215413",
   "metadata": {
    "execution": {
     "iopub.execute_input": "2025-10-30T06:55:47.116687Z",
     "iopub.status.busy": "2025-10-30T06:55:47.116687Z",
     "iopub.status.idle": "2025-10-30T06:55:47.641808Z",
     "shell.execute_reply": "2025-10-30T06:55:47.639806Z"
    }
   },
   "outputs": [
    {
     "name": "stdout",
     "output_type": "stream",
     "text": [
      "PyAEDT INFO: Active Design set to 3d_magsta_actuator\n"
     ]
    },
    {
     "data": {
      "text/plain": [
       "<ansys.aedt.core.visualization.post.field_data.FieldPlot at 0x20e9c0bf190>"
      ]
     },
     "execution_count": 23,
     "metadata": {},
     "output_type": "execute_result"
    }
   ],
   "source": [
    "m3d.post.create_fieldplot_surface(\n",
    "    assignment=[inner_arm, outer_arm], quantity=\"Mag_B\", plot_name=\"Mag_B1\", field_type=\"Fields\")"
   ]
  },
  {
   "cell_type": "code",
   "execution_count": 24,
   "id": "5d0db048",
   "metadata": {
    "execution": {
     "iopub.execute_input": "2025-10-30T06:55:47.643812Z",
     "iopub.status.busy": "2025-10-30T06:55:47.643812Z",
     "iopub.status.idle": "2025-10-30T06:55:47.751649Z",
     "shell.execute_reply": "2025-10-30T06:55:47.751092Z"
    },
    "lines_to_next_cell": 2
   },
   "outputs": [
    {
     "name": "stdout",
     "output_type": "stream",
     "text": [
      "PyAEDT INFO: Active Design set to 3d_magsta_actuator\n"
     ]
    },
    {
     "data": {
      "text/plain": [
       "<ansys.aedt.core.visualization.post.field_data.FieldPlot at 0x20e9c0bf160>"
      ]
     },
     "execution_count": 24,
     "metadata": {},
     "output_type": "execute_result"
    }
   ],
   "source": [
    "m3d.post.create_fieldplot_surface(\n",
    "    assignment=[inner_arm, outer_arm], quantity=\"B_Vector\", plot_name=\"B_Vector1\", field_type=\"Fields\")#"
   ]
  },
  {
   "cell_type": "markdown",
   "id": "6c141aca",
   "metadata": {},
   "source": [
    "## Finish\n",
    "\n",
    "### Save the project"
   ]
  },
  {
   "cell_type": "code",
   "execution_count": 25,
   "id": "0e59f075",
   "metadata": {
    "execution": {
     "iopub.execute_input": "2025-10-30T06:55:47.755655Z",
     "iopub.status.busy": "2025-10-30T06:55:47.755655Z",
     "iopub.status.idle": "2025-10-30T06:56:13.050602Z",
     "shell.execute_reply": "2025-10-30T06:56:13.050602Z"
    }
   },
   "outputs": [
    {
     "name": "stdout",
     "output_type": "stream",
     "text": [
      "PyAEDT INFO: Project rotational_actuator Saved correctly\n"
     ]
    },
    {
     "name": "stdout",
     "output_type": "stream",
     "text": [
      "PyAEDT INFO: Desktop has been released and closed.\n"
     ]
    }
   ],
   "source": [
    "m3d.save_project()\n",
    "m3d.release_desktop()\n",
    "# Wait 3 seconds to allow AEDT to shut down before cleaning the temporary directory.\n",
    "time.sleep(3)"
   ]
  },
  {
   "cell_type": "markdown",
   "id": "72c6da43",
   "metadata": {},
   "source": [
    "### Clean up\n",
    "\n",
    "All project files are saved in the folder ``temp_folder.name``.\n",
    "If you've run this example as a Jupyter notebook, you\n",
    "can retrieve those project files. The following cell\n",
    "removes all temporary files, including the project folder."
   ]
  },
  {
   "cell_type": "code",
   "execution_count": 26,
   "id": "07446c4b",
   "metadata": {
    "execution": {
     "iopub.execute_input": "2025-10-30T06:56:13.050602Z",
     "iopub.status.busy": "2025-10-30T06:56:13.050602Z",
     "iopub.status.idle": "2025-10-30T06:56:13.161550Z",
     "shell.execute_reply": "2025-10-30T06:56:13.161550Z"
    }
   },
   "outputs": [],
   "source": [
    "temp_folder.cleanup()"
   ]
  }
 ],
 "metadata": {
  "jupytext": {
   "cell_metadata_filter": "-all",
   "main_language": "python",
   "notebook_metadata_filter": "-all"
  },
  "language_info": {
   "codemirror_mode": {
    "name": "ipython",
    "version": 3
   },
   "file_extension": ".py",
   "mimetype": "text/x-python",
   "name": "python",
   "nbconvert_exporter": "python",
   "pygments_lexer": "ipython3",
   "version": "3.10.11"
  }
 },
 "nbformat": 4,
 "nbformat_minor": 5
}
