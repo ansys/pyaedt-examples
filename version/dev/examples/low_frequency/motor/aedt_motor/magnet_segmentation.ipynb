{
 "cells": [
  {
   "cell_type": "markdown",
   "id": "a7e76566",
   "metadata": {},
   "source": [
    "# Magnet segmentation"
   ]
  },
  {
   "cell_type": "markdown",
   "id": "18e7fb13",
   "metadata": {},
   "source": [
    "This example shows how to use PyAEDT to segment magnets of an electric motor.\n",
    "The method is valid and usable for any object you would like to segment.\n",
    "\n",
    "Keywords: **Maxwell 3D**, **Magnet segmentation**."
   ]
  },
  {
   "cell_type": "markdown",
   "id": "8c923f12",
   "metadata": {},
   "source": [
    "## Perform imports and define constants\n",
    "\n",
    "Perform required imports."
   ]
  },
  {
   "cell_type": "code",
   "execution_count": 1,
   "id": "d70058be",
   "metadata": {
    "execution": {
     "iopub.execute_input": "2025-10-30T07:14:47.044113Z",
     "iopub.status.busy": "2025-10-30T07:14:47.044113Z",
     "iopub.status.idle": "2025-10-30T07:14:50.123583Z",
     "shell.execute_reply": "2025-10-30T07:14:50.123583Z"
    }
   },
   "outputs": [],
   "source": [
    "import tempfile\n",
    "import time\n",
    "\n",
    "import ansys.aedt.core\n",
    "from ansys.aedt.core.examples.downloads import download_file"
   ]
  },
  {
   "cell_type": "markdown",
   "id": "34d99df2",
   "metadata": {},
   "source": [
    "Define constants."
   ]
  },
  {
   "cell_type": "code",
   "execution_count": 2,
   "id": "c1b4e226",
   "metadata": {
    "execution": {
     "iopub.execute_input": "2025-10-30T07:14:50.123583Z",
     "iopub.status.busy": "2025-10-30T07:14:50.123583Z",
     "iopub.status.idle": "2025-10-30T07:14:50.139585Z",
     "shell.execute_reply": "2025-10-30T07:14:50.139585Z"
    }
   },
   "outputs": [],
   "source": [
    "AEDT_VERSION = \"2025.2\"\n",
    "NG_MODE = False  # Open AEDT UI when it is launched."
   ]
  },
  {
   "cell_type": "markdown",
   "id": "9a732114",
   "metadata": {},
   "source": [
    "## Create temporary directory\n",
    "\n",
    "Create a temporary directory where downloaded data or\n",
    "dumped data can be stored.\n",
    "If you'd like to retrieve the project data for subsequent use,\n",
    "the temporary folder name is given by ``temp_folder.name``."
   ]
  },
  {
   "cell_type": "code",
   "execution_count": 3,
   "id": "f7dd119b",
   "metadata": {
    "execution": {
     "iopub.execute_input": "2025-10-30T07:14:50.139585Z",
     "iopub.status.busy": "2025-10-30T07:14:50.139585Z",
     "iopub.status.idle": "2025-10-30T07:14:50.155323Z",
     "shell.execute_reply": "2025-10-30T07:14:50.155323Z"
    }
   },
   "outputs": [],
   "source": [
    "temp_folder = tempfile.TemporaryDirectory(suffix=\".ansys\")"
   ]
  },
  {
   "cell_type": "markdown",
   "id": "cecdd790",
   "metadata": {},
   "source": [
    "## Download AEDT file example\n",
    "\n",
    "Set the local temporary folder to export the AEDT file to."
   ]
  },
  {
   "cell_type": "code",
   "execution_count": 4,
   "id": "5b9ac3a0",
   "metadata": {
    "execution": {
     "iopub.execute_input": "2025-10-30T07:14:50.155323Z",
     "iopub.status.busy": "2025-10-30T07:14:50.155323Z",
     "iopub.status.idle": "2025-10-30T07:14:50.634208Z",
     "shell.execute_reply": "2025-10-30T07:14:50.634208Z"
    }
   },
   "outputs": [],
   "source": [
    "aedt_file = download_file(\n",
    "    source=\"object_segmentation\",\n",
    "    name=\"Motor3D_obj_segments.aedt\",\n",
    "    local_path=temp_folder.name,\n",
    ")"
   ]
  },
  {
   "cell_type": "markdown",
   "id": "ee26308c",
   "metadata": {},
   "source": [
    "## Launch Maxwell 3D\n",
    "\n",
    "Launch Maxwell 3D, providing the version, rgw path to the project, and the graphical mode."
   ]
  },
  {
   "cell_type": "code",
   "execution_count": 5,
   "id": "c9551afb",
   "metadata": {
    "execution": {
     "iopub.execute_input": "2025-10-30T07:14:50.634208Z",
     "iopub.status.busy": "2025-10-30T07:14:50.634208Z",
     "iopub.status.idle": "2025-10-30T07:15:19.775668Z",
     "shell.execute_reply": "2025-10-30T07:15:19.775668Z"
    }
   },
   "outputs": [
    {
     "name": "stdout",
     "output_type": "stream",
     "text": [
      "PyAEDT INFO: Parsing C:\\Users\\ansys\\AppData\\Local\\Temp\\tmp2jqip60o.ansys\\object_segmentation\\Motor3D_obj_segments.aedt.\n"
     ]
    },
    {
     "name": "stdout",
     "output_type": "stream",
     "text": [
      "PyAEDT INFO: Python version 3.10.11 (tags/v3.10.11:7d4cc5a, Apr  5 2023, 00:38:17) [MSC v.1929 64 bit (AMD64)].\n"
     ]
    },
    {
     "name": "stdout",
     "output_type": "stream",
     "text": [
      "PyAEDT INFO: PyAEDT version 0.22.dev0.\n"
     ]
    },
    {
     "name": "stdout",
     "output_type": "stream",
     "text": [
      "PyAEDT INFO: Initializing new Desktop session.\n"
     ]
    },
    {
     "name": "stdout",
     "output_type": "stream",
     "text": [
      "PyAEDT INFO: Log on console is enabled.\n"
     ]
    },
    {
     "name": "stdout",
     "output_type": "stream",
     "text": [
      "PyAEDT INFO: Log on file C:\\Users\\ansys\\AppData\\Local\\Temp\\pyaedt_ansys_e4e72331-4cf7-4339-a1a5-f58b9885d357.log is enabled.\n"
     ]
    },
    {
     "name": "stdout",
     "output_type": "stream",
     "text": [
      "PyAEDT INFO: Log on AEDT is disabled.\n"
     ]
    },
    {
     "name": "stdout",
     "output_type": "stream",
     "text": [
      "PyAEDT INFO: Debug logger is disabled. PyAEDT methods will not be logged.\n"
     ]
    },
    {
     "name": "stdout",
     "output_type": "stream",
     "text": [
      "PyAEDT INFO: Launching PyAEDT with gRPC plugin.\n"
     ]
    },
    {
     "name": "stdout",
     "output_type": "stream",
     "text": [
      "PyAEDT INFO: New AEDT session is starting on gRPC port 53153.\n"
     ]
    },
    {
     "name": "stdout",
     "output_type": "stream",
     "text": [
      "PyAEDT INFO: File C:\\Users\\ansys\\AppData\\Local\\Temp\\tmp2jqip60o.ansys\\object_segmentation\\Motor3D_obj_segments.aedt correctly loaded. Elapsed time: 0m 0sec\n"
     ]
    },
    {
     "name": "stdout",
     "output_type": "stream",
     "text": [
      "PyAEDT INFO: Electronics Desktop started on gRPC port: 53153 after 10.471916913986206 seconds.\n"
     ]
    },
    {
     "name": "stdout",
     "output_type": "stream",
     "text": [
      "PyAEDT INFO: AEDT installation Path C:\\Program Files\\ANSYS Inc\\v252\\AnsysEM\n"
     ]
    },
    {
     "name": "stdout",
     "output_type": "stream",
     "text": [
      "PyAEDT INFO: Ansoft.ElectronicsDesktop.2025.2 version started with process ID 6164.\n"
     ]
    },
    {
     "name": "stdout",
     "output_type": "stream",
     "text": [
      "PyAEDT INFO: Project Motor3D_obj_segments has been opened.\n"
     ]
    },
    {
     "name": "stdout",
     "output_type": "stream",
     "text": [
      "PyAEDT INFO: Active Design set to Maxwell3DDesign1\n"
     ]
    },
    {
     "name": "stdout",
     "output_type": "stream",
     "text": [
      "PyAEDT INFO: Active Design set to Maxwell3DDesign1\n"
     ]
    },
    {
     "name": "stdout",
     "output_type": "stream",
     "text": [
      "PyAEDT INFO: Aedt Objects correctly read\n"
     ]
    }
   ],
   "source": [
    "m3d = ansys.aedt.core.Maxwell3d(\n",
    "    project=aedt_file,\n",
    "    version=AEDT_VERSION,\n",
    "    new_desktop=True,\n",
    "    non_graphical=NG_MODE,\n",
    ")"
   ]
  },
  {
   "cell_type": "markdown",
   "id": "b5a88316",
   "metadata": {},
   "source": [
    "## Segment first magnet by specifying number of segments\n",
    "\n",
    "Select the first magnet to segment by specifying the number of segments.\n",
    "The method accepts as input the list of magnets names to segment,\n",
    "magnet IDs, or the magnet :class:`ansys.aedt.core.modeler.cad.object3d.Object3d` object.\n",
    "When ``apply_mesh_sheets`` is enabled, the mesh sheets are also\n",
    "applied in the geometry.\n",
    "In the following code, the name of the magnet is also given as an input."
   ]
  },
  {
   "cell_type": "code",
   "execution_count": 6,
   "id": "8ff33810",
   "metadata": {
    "execution": {
     "iopub.execute_input": "2025-10-30T07:15:19.775668Z",
     "iopub.status.busy": "2025-10-30T07:15:19.775668Z",
     "iopub.status.idle": "2025-10-30T07:15:21.057617Z",
     "shell.execute_reply": "2025-10-30T07:15:21.057617Z"
    }
   },
   "outputs": [
    {
     "name": "stdout",
     "output_type": "stream",
     "text": [
      "PyAEDT INFO: Modeler class has been initialized! Elapsed time: 0m 1sec\n"
     ]
    }
   ],
   "source": [
    "segments_number = 2\n",
    "object_name = \"PM_I1\"\n",
    "sheets_1 = m3d.modeler.objects_segmentation(\n",
    "    object_name,\n",
    "    segments=segments_number,\n",
    "    apply_mesh_sheets=True,\n",
    "    mesh_sheets=3,\n",
    ")"
   ]
  },
  {
   "cell_type": "markdown",
   "id": "a4b23203",
   "metadata": {},
   "source": [
    "## Segment second magnet by specifying number of segments\n",
    "\n",
    "Select the second magnet to segment by specifying the number of segments.\n",
    "The following code gives the ID of the magnet as an input."
   ]
  },
  {
   "cell_type": "code",
   "execution_count": 7,
   "id": "77b748e9",
   "metadata": {
    "execution": {
     "iopub.execute_input": "2025-10-30T07:15:21.057617Z",
     "iopub.status.busy": "2025-10-30T07:15:21.057617Z",
     "iopub.status.idle": "2025-10-30T07:15:21.436512Z",
     "shell.execute_reply": "2025-10-30T07:15:21.436512Z"
    }
   },
   "outputs": [],
   "source": [
    "segments_number = 2\n",
    "object_name = \"PM_I1_1\"\n",
    "magnet_id = [obj.id for obj in m3d.modeler.object_list if obj.name == object_name][0]\n",
    "sheets_2 = m3d.modeler.objects_segmentation(\n",
    "    magnet_id, segments=segments_number, apply_mesh_sheets=True\n",
    ")"
   ]
  },
  {
   "cell_type": "markdown",
   "id": "05343b40",
   "metadata": {},
   "source": [
    "## Segment third magnet by specifying segmentation thickness\n",
    "\n",
    "Select the third magnet to segment by specifying the segmentation thickness.\n",
    "The following code gives the magnet object type `ansys.aedt.core.modeler.cad.object3d.Object3d`\n",
    "as an input."
   ]
  },
  {
   "cell_type": "code",
   "execution_count": 8,
   "id": "94c70eb7",
   "metadata": {
    "execution": {
     "iopub.execute_input": "2025-10-30T07:15:21.436512Z",
     "iopub.status.busy": "2025-10-30T07:15:21.436512Z",
     "iopub.status.idle": "2025-10-30T07:15:40.946916Z",
     "shell.execute_reply": "2025-10-30T07:15:40.946916Z"
    }
   },
   "outputs": [],
   "source": [
    "segmentation_thickness = 1\n",
    "object_name = \"PM_O1\"\n",
    "magnet = [obj for obj in m3d.modeler.object_list if obj.name == object_name][0]\n",
    "sheets_3 = m3d.modeler.objects_segmentation(\n",
    "    magnet, segmentation_thickness=segmentation_thickness, apply_mesh_sheets=True\n",
    ")"
   ]
  },
  {
   "cell_type": "markdown",
   "id": "5e00bb44",
   "metadata": {},
   "source": [
    "## Segment fourth magnet by specifying number of segments\n",
    "\n",
    "Select the fourth magnet to segment by specifying the number of segments.\n",
    "The following code gives the name of the magnet as input and disables the mesh sheets."
   ]
  },
  {
   "cell_type": "code",
   "execution_count": 9,
   "id": "f82843d1",
   "metadata": {
    "execution": {
     "iopub.execute_input": "2025-10-30T07:15:40.946916Z",
     "iopub.status.busy": "2025-10-30T07:15:40.946916Z",
     "iopub.status.idle": "2025-10-30T07:15:41.404100Z",
     "shell.execute_reply": "2025-10-30T07:15:41.404100Z"
    }
   },
   "outputs": [],
   "source": [
    "object_name = \"PM_O1_1\"\n",
    "segments_number = 2\n",
    "sheets_4 = m3d.modeler.objects_segmentation(object_name, segments=segments_number)"
   ]
  },
  {
   "cell_type": "markdown",
   "id": "d867f5df",
   "metadata": {},
   "source": [
    "## Release AEDT"
   ]
  },
  {
   "cell_type": "code",
   "execution_count": 10,
   "id": "f53a7f07",
   "metadata": {
    "execution": {
     "iopub.execute_input": "2025-10-30T07:15:41.404100Z",
     "iopub.status.busy": "2025-10-30T07:15:41.404100Z",
     "iopub.status.idle": "2025-10-30T07:16:02.845209Z",
     "shell.execute_reply": "2025-10-30T07:16:02.845209Z"
    }
   },
   "outputs": [
    {
     "name": "stdout",
     "output_type": "stream",
     "text": [
      "PyAEDT INFO: Project Motor3D_obj_segments Saved correctly\n"
     ]
    },
    {
     "name": "stdout",
     "output_type": "stream",
     "text": [
      "PyAEDT INFO: Desktop has been released and closed.\n"
     ]
    }
   ],
   "source": [
    "m3d.save_project()\n",
    "m3d.release_desktop()\n",
    "# Wait 3 seconds to allow AEDT to shut down before cleaning the temporary directory.\n",
    "time.sleep(3)"
   ]
  },
  {
   "cell_type": "markdown",
   "id": "357a893d",
   "metadata": {},
   "source": [
    "## Clean up\n",
    "\n",
    "All project files are saved in the folder ``temp_folder.name``.\n",
    "If you've run this example as a Jupyter notebook, you\n",
    "can retrieve those project files. The following cell\n",
    "removes all temporary files, including the project folder."
   ]
  },
  {
   "cell_type": "code",
   "execution_count": 11,
   "id": "e535f6f5",
   "metadata": {
    "execution": {
     "iopub.execute_input": "2025-10-30T07:16:02.845209Z",
     "iopub.status.busy": "2025-10-30T07:16:02.845209Z",
     "iopub.status.idle": "2025-10-30T07:16:02.876811Z",
     "shell.execute_reply": "2025-10-30T07:16:02.876811Z"
    }
   },
   "outputs": [],
   "source": [
    "temp_folder.cleanup()"
   ]
  }
 ],
 "metadata": {
  "jupytext": {
   "cell_metadata_filter": "-all",
   "main_language": "python",
   "notebook_metadata_filter": "-all"
  },
  "language_info": {
   "codemirror_mode": {
    "name": "ipython",
    "version": 3
   },
   "file_extension": ".py",
   "mimetype": "text/x-python",
   "name": "python",
   "nbconvert_exporter": "python",
   "pygments_lexer": "ipython3",
   "version": "3.10.11"
  }
 },
 "nbformat": 4,
 "nbformat_minor": 5
}
