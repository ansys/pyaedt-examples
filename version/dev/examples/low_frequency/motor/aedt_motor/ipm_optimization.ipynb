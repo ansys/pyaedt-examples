{
 "cells": [
  {
   "cell_type": "markdown",
   "id": "f2cf9dc8",
   "metadata": {},
   "source": [
    "# IPM geometry optimization\n",
    "\n",
    "This example shows how to use PyAEDT to find the best machine 2D geometry\n",
    "to achieve high torque and low losses.\n",
    "The example shows how to setup an optimetrics analysis to sweep geometries\n",
    "for a single value of stator current angle and a varying material for the magnets.\n",
    "The torque and losses results are then exported in a .csv file.\n",
    "\n",
    "Keywords: **Maxwell 2D**, **transient**, **motor**, **optimization**."
   ]
  },
  {
   "cell_type": "markdown",
   "id": "f51dadbc",
   "metadata": {},
   "source": [
    "## Perform imports and define constants\n",
    "\n",
    "Perform required imports."
   ]
  },
  {
   "cell_type": "code",
   "execution_count": 1,
   "id": "6090df12",
   "metadata": {
    "execution": {
     "iopub.execute_input": "2025-10-30T07:11:19.112810Z",
     "iopub.status.busy": "2025-10-30T07:11:19.112810Z",
     "iopub.status.idle": "2025-10-30T07:11:22.183509Z",
     "shell.execute_reply": "2025-10-30T07:11:22.183509Z"
    }
   },
   "outputs": [],
   "source": [
    "import csv\n",
    "import os\n",
    "import tempfile\n",
    "import time\n",
    "\n",
    "import ansys.aedt.core\n",
    "from ansys.aedt.core.examples.downloads import download_file\n"
   ]
  },
  {
   "cell_type": "markdown",
   "id": "24afbb9a",
   "metadata": {},
   "source": [
    "Define constants."
   ]
  },
  {
   "cell_type": "code",
   "execution_count": 2,
   "id": "1425805b",
   "metadata": {
    "execution": {
     "iopub.execute_input": "2025-10-30T07:11:22.183509Z",
     "iopub.status.busy": "2025-10-30T07:11:22.183509Z",
     "iopub.status.idle": "2025-10-30T07:11:22.199413Z",
     "shell.execute_reply": "2025-10-30T07:11:22.199413Z"
    }
   },
   "outputs": [],
   "source": [
    "AEDT_VERSION = \"2025.2\"\n",
    "NUM_CORES = 4\n",
    "NG_MODE = False  # Open AEDT UI when it is launched."
   ]
  },
  {
   "cell_type": "markdown",
   "id": "47daf7c6",
   "metadata": {},
   "source": [
    "## Create temporary directory and download files\n",
    "\n",
    "Create a temporary directory where downloaded data or\n",
    "dumped data can be stored.\n",
    "If you'd like to retrieve the project data for subsequent use,\n",
    "the temporary folder name is given by ``temp_folder.name``."
   ]
  },
  {
   "cell_type": "code",
   "execution_count": 3,
   "id": "fd7c7f6e",
   "metadata": {
    "execution": {
     "iopub.execute_input": "2025-10-30T07:11:22.199413Z",
     "iopub.status.busy": "2025-10-30T07:11:22.199413Z",
     "iopub.status.idle": "2025-10-30T07:11:22.215151Z",
     "shell.execute_reply": "2025-10-30T07:11:22.215151Z"
    }
   },
   "outputs": [],
   "source": [
    "temp_folder = tempfile.TemporaryDirectory(suffix=\".ansys\")"
   ]
  },
  {
   "cell_type": "markdown",
   "id": "a71aedfd",
   "metadata": {},
   "source": [
    "## Download AEDT file example\n",
    "\n",
    "Set the local temporary folder to export the AEDT file to."
   ]
  },
  {
   "cell_type": "code",
   "execution_count": 4,
   "id": "cb69a55d",
   "metadata": {
    "execution": {
     "iopub.execute_input": "2025-10-30T07:11:22.215151Z",
     "iopub.status.busy": "2025-10-30T07:11:22.215151Z",
     "iopub.status.idle": "2025-10-30T07:11:22.708559Z",
     "shell.execute_reply": "2025-10-30T07:11:22.708559Z"
    }
   },
   "outputs": [],
   "source": [
    "aedt_file = download_file(\n",
    "    source=\"maxwell_motor_optimization\",\n",
    "    name=\"IPM_optimization.aedt\",\n",
    "    local_path=temp_folder.name,\n",
    ")"
   ]
  },
  {
   "cell_type": "markdown",
   "id": "e6ad15a2",
   "metadata": {},
   "source": [
    "## Launch Maxwell 2D\n",
    "\n",
    "Launch AEDT and Maxwell 2D after first setting up the project, the version and the graphical mode."
   ]
  },
  {
   "cell_type": "code",
   "execution_count": 5,
   "id": "c84da6b9",
   "metadata": {
    "execution": {
     "iopub.execute_input": "2025-10-30T07:11:22.708559Z",
     "iopub.status.busy": "2025-10-30T07:11:22.708559Z",
     "iopub.status.idle": "2025-10-30T07:11:53.558166Z",
     "shell.execute_reply": "2025-10-30T07:11:53.558166Z"
    }
   },
   "outputs": [
    {
     "name": "stdout",
     "output_type": "stream",
     "text": [
      "PyAEDT INFO: Parsing C:\\Users\\ansys\\AppData\\Local\\Temp\\tmps982u4eg.ansys\\maxwell_motor_optimization\\IPM_optimization.aedt.\n"
     ]
    },
    {
     "name": "stdout",
     "output_type": "stream",
     "text": [
      "PyAEDT INFO: Python version 3.10.11 (tags/v3.10.11:7d4cc5a, Apr  5 2023, 00:38:17) [MSC v.1929 64 bit (AMD64)].\n"
     ]
    },
    {
     "name": "stdout",
     "output_type": "stream",
     "text": [
      "PyAEDT INFO: PyAEDT version 0.22.dev0.\n"
     ]
    },
    {
     "name": "stdout",
     "output_type": "stream",
     "text": [
      "PyAEDT INFO: Initializing new Desktop session.\n"
     ]
    },
    {
     "name": "stdout",
     "output_type": "stream",
     "text": [
      "PyAEDT INFO: Log on console is enabled.\n"
     ]
    },
    {
     "name": "stdout",
     "output_type": "stream",
     "text": [
      "PyAEDT INFO: Log on file C:\\Users\\ansys\\AppData\\Local\\Temp\\pyaedt_ansys_f077e07f-9ff9-4337-b2e2-f2eaa15da4ea.log is enabled.\n"
     ]
    },
    {
     "name": "stdout",
     "output_type": "stream",
     "text": [
      "PyAEDT INFO: Log on AEDT is disabled.\n"
     ]
    },
    {
     "name": "stdout",
     "output_type": "stream",
     "text": [
      "PyAEDT INFO: Debug logger is disabled. PyAEDT methods will not be logged.\n"
     ]
    },
    {
     "name": "stdout",
     "output_type": "stream",
     "text": [
      "PyAEDT INFO: Launching PyAEDT with gRPC plugin.\n"
     ]
    },
    {
     "name": "stdout",
     "output_type": "stream",
     "text": [
      "PyAEDT INFO: New AEDT session is starting on gRPC port 52125.\n"
     ]
    },
    {
     "name": "stdout",
     "output_type": "stream",
     "text": [
      "PyAEDT INFO: File C:\\Users\\ansys\\AppData\\Local\\Temp\\tmps982u4eg.ansys\\maxwell_motor_optimization\\IPM_optimization.aedt correctly loaded. Elapsed time: 0m 0sec\n"
     ]
    },
    {
     "name": "stdout",
     "output_type": "stream",
     "text": [
      "PyAEDT INFO: Electronics Desktop started on gRPC port: 52125 after 11.603502750396729 seconds.\n"
     ]
    },
    {
     "name": "stdout",
     "output_type": "stream",
     "text": [
      "PyAEDT INFO: AEDT installation Path C:\\Program Files\\ANSYS Inc\\v252\\AnsysEM\n"
     ]
    },
    {
     "name": "stdout",
     "output_type": "stream",
     "text": [
      "PyAEDT INFO: Ansoft.ElectronicsDesktop.2025.2 version started with process ID 2628.\n"
     ]
    },
    {
     "name": "stdout",
     "output_type": "stream",
     "text": [
      "PyAEDT INFO: Project IPM_optimization has been opened.\n"
     ]
    },
    {
     "name": "stdout",
     "output_type": "stream",
     "text": [
      "PyAEDT INFO: Active Design set to M2D_Transient\n"
     ]
    },
    {
     "name": "stdout",
     "output_type": "stream",
     "text": [
      "PyAEDT INFO: Active Design set to M2D_Transient\n"
     ]
    },
    {
     "name": "stdout",
     "output_type": "stream",
     "text": [
      "PyAEDT INFO: Aedt Objects correctly read\n"
     ]
    }
   ],
   "source": [
    "m2d = ansys.aedt.core.Maxwell2d(\n",
    "    project=aedt_file,\n",
    "    version=AEDT_VERSION,\n",
    "    new_desktop=True,\n",
    "    non_graphical=NG_MODE,\n",
    ")"
   ]
  },
  {
   "cell_type": "markdown",
   "id": "ad2f2511",
   "metadata": {},
   "source": [
    "## Design variables\n",
    "\n",
    "Define the materials array to be used in the parametric sweep."
   ]
  },
  {
   "cell_type": "code",
   "execution_count": 6,
   "id": "3c98c911",
   "metadata": {
    "execution": {
     "iopub.execute_input": "2025-10-30T07:11:53.558166Z",
     "iopub.status.busy": "2025-10-30T07:11:53.558166Z",
     "iopub.status.idle": "2025-10-30T07:11:53.606139Z",
     "shell.execute_reply": "2025-10-30T07:11:53.606139Z"
    }
   },
   "outputs": [],
   "source": [
    "m2d[\"mat_sweep\"] = '[\"XG196/96_2DSF1.000_X\", \"NdFe30\", \"NdFe35\"]'\n",
    "m2d[\"mat_index\"] = 0"
   ]
  },
  {
   "cell_type": "markdown",
   "id": "1b138504",
   "metadata": {},
   "source": [
    "## Assign material array to magnets\n",
    "\n",
    "Get all magnets in the design that by default have the material ``\"XG196/96_2DSF1.000_X\"`` assigned.\n",
    "Assign the material array defined above to all magnets."
   ]
  },
  {
   "cell_type": "code",
   "execution_count": 7,
   "id": "d763431e",
   "metadata": {
    "execution": {
     "iopub.execute_input": "2025-10-30T07:11:53.606139Z",
     "iopub.status.busy": "2025-10-30T07:11:53.606139Z",
     "iopub.status.idle": "2025-10-30T07:11:54.668341Z",
     "shell.execute_reply": "2025-10-30T07:11:54.668341Z"
    }
   },
   "outputs": [
    {
     "name": "stdout",
     "output_type": "stream",
     "text": [
      "PyAEDT INFO: Modeler2D class has been initialized!\n"
     ]
    },
    {
     "name": "stdout",
     "output_type": "stream",
     "text": [
      "PyAEDT INFO: Modeler class has been initialized! Elapsed time: 0m 1sec\n"
     ]
    },
    {
     "name": "stdout",
     "output_type": "stream",
     "text": [
      "PyAEDT INFO: Parsing design objects. This operation can take time\n"
     ]
    },
    {
     "name": "stdout",
     "output_type": "stream",
     "text": [
      "PyAEDT INFO: Refreshing bodies from Object Info\n"
     ]
    },
    {
     "name": "stdout",
     "output_type": "stream",
     "text": [
      "PyAEDT INFO: Bodies Info Refreshed Elapsed time: 0m 0sec\n"
     ]
    },
    {
     "name": "stdout",
     "output_type": "stream",
     "text": [
      "PyAEDT INFO: 3D Modeler objects parsed. Elapsed time: 0m 0sec\n"
     ]
    }
   ],
   "source": [
    "magnets = m2d.modeler.get_objects_by_material(\"XG196/96_2DSF1.000_X\")"
   ]
  },
  {
   "cell_type": "code",
   "execution_count": 8,
   "id": "b76cddf1",
   "metadata": {
    "execution": {
     "iopub.execute_input": "2025-10-30T07:11:54.668341Z",
     "iopub.status.busy": "2025-10-30T07:11:54.668341Z",
     "iopub.status.idle": "2025-10-30T07:12:08.109552Z",
     "shell.execute_reply": "2025-10-30T07:12:08.109552Z"
    }
   },
   "outputs": [
    {
     "name": "stdout",
     "output_type": "stream",
     "text": [
      "PyAEDT INFO: Materials class has been initialized! Elapsed time: 0m 0sec\n"
     ]
    }
   ],
   "source": [
    "for mag in magnets:\n",
    "    mag.material_name = \"mat_sweep[mat_index]\""
   ]
  },
  {
   "cell_type": "markdown",
   "id": "94f2c1b3",
   "metadata": {},
   "source": [
    "## Add parametric setup\n",
    "\n",
    "Add a parametric setup made up of geometry variable sweep definitions and single value for the stator current angle.\n",
    "Note: Step variations have been minimized to reduce the analysis time. If needed they can be increased by changing\n",
    "the ``step`` argument."
   ]
  },
  {
   "cell_type": "code",
   "execution_count": 9,
   "id": "bf113c5e",
   "metadata": {
    "execution": {
     "iopub.execute_input": "2025-10-30T07:12:08.109552Z",
     "iopub.status.busy": "2025-10-30T07:12:08.109552Z",
     "iopub.status.idle": "2025-10-30T07:12:09.977515Z",
     "shell.execute_reply": "2025-10-30T07:12:09.977515Z"
    }
   },
   "outputs": [
    {
     "data": {
      "text/plain": [
       "True"
      ]
     },
     "execution_count": 9,
     "metadata": {},
     "output_type": "execute_result"
    }
   ],
   "source": [
    "param_sweep = m2d.parametrics.add(\n",
    "    variable=\"bridge\",\n",
    "    start_point=\"0.5mm\",\n",
    "    variation_type=\"SingleValue\",\n",
    ")\n",
    "param_sweep.add_variation(\n",
    "    sweep_variable=\"din\",\n",
    "    start_point=78,\n",
    "    end_point=80,\n",
    "    step=10,\n",
    "    units=\"mm\",\n",
    "    variation_type=\"LinearStep\",\n",
    ")\n",
    "param_sweep.add_variation(\n",
    "    sweep_variable=\"phase_advance\",\n",
    "    start_point=45,\n",
    "    units=\"deg\",\n",
    "    variation_type=\"SingleValue\",\n",
    ")\n",
    "param_sweep.add_variation(\n",
    "    sweep_variable=\"Ipeak\", start_point=200, units=\"A\", variation_type=\"SingleValue\"\n",
    ")"
   ]
  },
  {
   "cell_type": "markdown",
   "id": "39551755",
   "metadata": {},
   "source": [
    "Add material variation to the parametric setup and sweep the index of the material array defined above."
   ]
  },
  {
   "cell_type": "code",
   "execution_count": 10,
   "id": "2e8271d9",
   "metadata": {
    "execution": {
     "iopub.execute_input": "2025-10-30T07:12:09.977515Z",
     "iopub.status.busy": "2025-10-30T07:12:09.977515Z",
     "iopub.status.idle": "2025-10-30T07:12:10.056737Z",
     "shell.execute_reply": "2025-10-30T07:12:10.056737Z"
    }
   },
   "outputs": [
    {
     "data": {
      "text/plain": [
       "True"
      ]
     },
     "execution_count": 10,
     "metadata": {},
     "output_type": "execute_result"
    }
   ],
   "source": [
    "param_sweep.add_variation(\n",
    "    sweep_variable=\"mat_index\",\n",
    "    start_point=0,\n",
    "    end_point=2,\n",
    "    step=1,\n",
    "    variation_type=\"LinearStep\",\n",
    ")"
   ]
  },
  {
   "cell_type": "markdown",
   "id": "5e4fb390",
   "metadata": {},
   "source": [
    "## Alternative way to add a parametric setup from file\n",
    "\n",
    "Suppose you have a .csv file with all the parameters to be swept defined in columns, such as:\n",
    "\n",
    "# <img src=\"_static/param_sweep.png\" alt=\"\" width=\"400\">\n",
    "\n",
    "You can add a parametric setup from that file using the ``add_from_file`` method:"
   ]
  },
  {
   "cell_type": "code",
   "execution_count": 11,
   "id": "634ac07b",
   "metadata": {
    "execution": {
     "iopub.execute_input": "2025-10-30T07:12:10.056737Z",
     "iopub.status.busy": "2025-10-30T07:12:10.056737Z",
     "iopub.status.idle": "2025-10-30T07:12:10.072857Z",
     "shell.execute_reply": "2025-10-30T07:12:10.072857Z"
    }
   },
   "outputs": [],
   "source": [
    "# param_sweep_from_file = m2d.parametrics.add_from_file(csv_file_path)"
   ]
  },
  {
   "cell_type": "markdown",
   "id": "a366a978",
   "metadata": {},
   "source": [
    "## Analyze parametric sweep"
   ]
  },
  {
   "cell_type": "markdown",
   "id": "ed3f71d6",
   "metadata": {},
   "source": [
    "To speed up the analysis, the time step is increased in the transient setup.\n",
    "This can be done by modifying the ``TimeStep`` property of the transient setup.\n",
    "Note: In a real case scenario, the time step should be: ``1/freq_e/360``.\n",
    "To simulate a real case scenario, please comment out the following line."
   ]
  },
  {
   "cell_type": "code",
   "execution_count": 12,
   "id": "a21b4279",
   "metadata": {
    "execution": {
     "iopub.execute_input": "2025-10-30T07:12:10.072857Z",
     "iopub.status.busy": "2025-10-30T07:12:10.072857Z",
     "iopub.status.idle": "2025-10-30T07:14:15.780006Z",
     "shell.execute_reply": "2025-10-30T07:14:15.780006Z"
    }
   },
   "outputs": [
    {
     "name": "stdout",
     "output_type": "stream",
     "text": [
      "PyAEDT INFO: Project IPM_optimization Saved correctly\n"
     ]
    },
    {
     "name": "stdout",
     "output_type": "stream",
     "text": [
      "PyAEDT INFO: Key Desktop/ActiveDSOConfigurations/Maxwell 2D correctly changed.\n"
     ]
    },
    {
     "name": "stdout",
     "output_type": "stream",
     "text": [
      "PyAEDT INFO: Solving Optimetrics\n"
     ]
    },
    {
     "name": "stdout",
     "output_type": "stream",
     "text": [
      "PyAEDT INFO: Design setup Parametric_QHLG4F solved correctly in 0.0h 2.0m 5.0s\n"
     ]
    },
    {
     "name": "stdout",
     "output_type": "stream",
     "text": [
      "PyAEDT INFO: Key Desktop/ActiveDSOConfigurations/Maxwell 2D correctly changed.\n"
     ]
    },
    {
     "data": {
      "text/plain": [
       "True"
      ]
     },
     "execution_count": 12,
     "metadata": {},
     "output_type": "execute_result"
    }
   ],
   "source": [
    "m2d.setups[0].props[\"TimeStep\"] = \"1/freq_e/45\"\n",
    "param_sweep.analyze(cores=NUM_CORES)"
   ]
  },
  {
   "cell_type": "markdown",
   "id": "b07c2252",
   "metadata": {},
   "source": [
    "## Post-processing\n",
    "\n",
    "Create reports to get torque and loss results for all variations.\n",
    "Create reports with all variations and with one variable at a time held constant.\n",
    "This helps to visualize the influence of each variable on the torque and losses.\n",
    "For the first torque report the ``din`` variable is held constant at 78mm."
   ]
  },
  {
   "cell_type": "code",
   "execution_count": 13,
   "id": "6330c9de",
   "metadata": {
    "execution": {
     "iopub.execute_input": "2025-10-30T07:14:15.780006Z",
     "iopub.status.busy": "2025-10-30T07:14:15.780006Z",
     "iopub.status.idle": "2025-10-30T07:14:16.334574Z",
     "shell.execute_reply": "2025-10-30T07:14:16.334574Z"
    }
   },
   "outputs": [
    {
     "name": "stdout",
     "output_type": "stream",
     "text": [
      "PyAEDT INFO: Parsing C:\\Users\\ansys\\AppData\\Local\\Temp\\tmps982u4eg.ansys\\maxwell_motor_optimization\\IPM_optimization.aedt.\n"
     ]
    },
    {
     "name": "stdout",
     "output_type": "stream",
     "text": [
      "PyAEDT INFO: File C:\\Users\\ansys\\AppData\\Local\\Temp\\tmps982u4eg.ansys\\maxwell_motor_optimization\\IPM_optimization.aedt correctly loaded. Elapsed time: 0m 0sec\n"
     ]
    },
    {
     "name": "stdout",
     "output_type": "stream",
     "text": [
      "PyAEDT INFO: aedt file load time 0.19460010528564453\n"
     ]
    },
    {
     "name": "stdout",
     "output_type": "stream",
     "text": [
      "PyAEDT INFO: PostProcessor class has been initialized! Elapsed time: 0m 0sec\n"
     ]
    },
    {
     "name": "stdout",
     "output_type": "stream",
     "text": [
      "PyAEDT INFO: PostProcessor class has been initialized! Elapsed time: 0m 0sec\n"
     ]
    },
    {
     "name": "stdout",
     "output_type": "stream",
     "text": [
      "PyAEDT INFO: Post class has been initialized! Elapsed time: 0m 0sec\n"
     ]
    },
    {
     "name": "stdout",
     "output_type": "stream",
     "text": [
      "PyAEDT WARNING: No report category provided. Automatically identified Transient\n"
     ]
    }
   ],
   "source": [
    "report_torque_din_costant = m2d.post.create_report(\n",
    "    expressions=\"Moving1.Torque\",\n",
    "    domain=\"Sweep\",\n",
    "    variations={\n",
    "        \"bridge\": \"All\",\n",
    "        \"din\": \"78mm\",\n",
    "        \"Ipeak\": \"All\",\n",
    "        \"phase_advance\": \"All\",\n",
    "        \"mat_index\": \"All\",\n",
    "    },\n",
    "    primary_sweep_variable=\"Time\",\n",
    "    plot_type=\"Rectangular Plot\",\n",
    "    plot_name=\"torque_din_costant\",\n",
    ")"
   ]
  },
  {
   "cell_type": "markdown",
   "id": "14f89892",
   "metadata": {},
   "source": [
    "The second torque report has the ``mat_index`` variable held constant at 0.\n",
    "In this case the material used for the magnets is ``\"XG196/96_2DSF1.000_X\"``."
   ]
  },
  {
   "cell_type": "code",
   "execution_count": 14,
   "id": "4ac82814",
   "metadata": {
    "execution": {
     "iopub.execute_input": "2025-10-30T07:14:16.334574Z",
     "iopub.status.busy": "2025-10-30T07:14:16.334574Z",
     "iopub.status.idle": "2025-10-30T07:14:16.558205Z",
     "shell.execute_reply": "2025-10-30T07:14:16.558205Z"
    }
   },
   "outputs": [
    {
     "name": "stdout",
     "output_type": "stream",
     "text": [
      "PyAEDT WARNING: No report category provided. Automatically identified Transient\n"
     ]
    }
   ],
   "source": [
    "report_torque_mat_costant = m2d.post.create_report(\n",
    "    expressions=\"Moving1.Torque\",\n",
    "    domain=\"Sweep\",\n",
    "    variations={\n",
    "        \"bridge\": \"All\",\n",
    "        \"din\": \"All\",\n",
    "        \"Ipeak\": \"All\",\n",
    "        \"phase_advance\": \"All\",\n",
    "        \"mat_index\": \"0\",\n",
    "    },\n",
    "    primary_sweep_variable=\"Time\",\n",
    "    plot_type=\"Rectangular Plot\",\n",
    "    plot_name=\"torque_mat_costant\",\n",
    ")"
   ]
  },
  {
   "cell_type": "markdown",
   "id": "f483a786",
   "metadata": {},
   "source": [
    "The same approach is used to create reports for solid and core losses."
   ]
  },
  {
   "cell_type": "code",
   "execution_count": 15,
   "id": "8436f1fd",
   "metadata": {
    "execution": {
     "iopub.execute_input": "2025-10-30T07:14:16.558205Z",
     "iopub.status.busy": "2025-10-30T07:14:16.558205Z",
     "iopub.status.idle": "2025-10-30T07:14:16.780638Z",
     "shell.execute_reply": "2025-10-30T07:14:16.780638Z"
    }
   },
   "outputs": [
    {
     "name": "stdout",
     "output_type": "stream",
     "text": [
      "PyAEDT WARNING: No report category provided. Automatically identified Transient\n"
     ]
    }
   ],
   "source": [
    "report_solid_loss_din_costant = m2d.post.create_report(\n",
    "    expressions=\"SolidLoss\",\n",
    "    domain=\"Sweep\",\n",
    "    variations={\n",
    "        \"bridge\": \"All\",\n",
    "        \"din\": \"78mm\",\n",
    "        \"Ipeak\": \"All\",\n",
    "        \"phase_advance\": \"All\",\n",
    "        \"mat_index\": \"All\",\n",
    "    },\n",
    "    primary_sweep_variable=\"Time\",\n",
    "    plot_type=\"Rectangular Plot\",\n",
    "    plot_name=\"solid_loss_din_costant\",\n",
    ")"
   ]
  },
  {
   "cell_type": "code",
   "execution_count": 16,
   "id": "14698c7a",
   "metadata": {
    "execution": {
     "iopub.execute_input": "2025-10-30T07:14:16.780638Z",
     "iopub.status.busy": "2025-10-30T07:14:16.780638Z",
     "iopub.status.idle": "2025-10-30T07:14:17.003849Z",
     "shell.execute_reply": "2025-10-30T07:14:17.003119Z"
    }
   },
   "outputs": [
    {
     "name": "stdout",
     "output_type": "stream",
     "text": [
      "PyAEDT WARNING: No report category provided. Automatically identified Transient\n"
     ]
    }
   ],
   "source": [
    "report_solid_loss_mat_costant = m2d.post.create_report(\n",
    "    expressions=\"SolidLoss\",\n",
    "    domain=\"Sweep\",\n",
    "    variations={\n",
    "        \"bridge\": \"All\",\n",
    "        \"din\": \"All\",\n",
    "        \"Ipeak\": \"All\",\n",
    "        \"phase_advance\": \"All\",\n",
    "        \"mat_index\": \"0\",\n",
    "    },\n",
    "    primary_sweep_variable=\"Time\",\n",
    "    plot_type=\"Rectangular Plot\",\n",
    "    plot_name=\"solid_loss_mat_costant\",\n",
    ")"
   ]
  },
  {
   "cell_type": "code",
   "execution_count": 17,
   "id": "0fc1da65",
   "metadata": {
    "execution": {
     "iopub.execute_input": "2025-10-30T07:14:17.003849Z",
     "iopub.status.busy": "2025-10-30T07:14:17.003849Z",
     "iopub.status.idle": "2025-10-30T07:14:17.241446Z",
     "shell.execute_reply": "2025-10-30T07:14:17.241446Z"
    }
   },
   "outputs": [
    {
     "name": "stdout",
     "output_type": "stream",
     "text": [
      "PyAEDT WARNING: No report category provided. Automatically identified Transient\n"
     ]
    }
   ],
   "source": [
    "report_core_loss_din_costant = m2d.post.create_report(\n",
    "    expressions=\"CoreLoss\",\n",
    "    domain=\"Sweep\",\n",
    "    variations={\n",
    "        \"bridge\": \"All\",\n",
    "        \"din\": \"78mm\",\n",
    "        \"Ipeak\": \"All\",\n",
    "        \"phase_advance\": \"All\",\n",
    "        \"mat_index\": \"All\",\n",
    "    },\n",
    "    primary_sweep_variable=\"Time\",\n",
    "    plot_type=\"Rectangular Plot\",\n",
    "    plot_name=\"core_loss_din_costant\",\n",
    ")"
   ]
  },
  {
   "cell_type": "code",
   "execution_count": 18,
   "id": "ef0fb8cc",
   "metadata": {
    "execution": {
     "iopub.execute_input": "2025-10-30T07:14:17.241446Z",
     "iopub.status.busy": "2025-10-30T07:14:17.241446Z",
     "iopub.status.idle": "2025-10-30T07:14:17.464000Z",
     "shell.execute_reply": "2025-10-30T07:14:17.464000Z"
    }
   },
   "outputs": [
    {
     "name": "stdout",
     "output_type": "stream",
     "text": [
      "PyAEDT WARNING: No report category provided. Automatically identified Transient\n"
     ]
    }
   ],
   "source": [
    "report_core_loss_mat_costant = m2d.post.create_report(\n",
    "    expressions=\"CoreLoss\",\n",
    "    domain=\"Sweep\",\n",
    "    variations={\n",
    "        \"bridge\": \"All\",\n",
    "        \"din\": \"All\",\n",
    "        \"Ipeak\": \"All\",\n",
    "        \"phase_advance\": \"All\",\n",
    "        \"mat_index\": \"0\",\n",
    "    },\n",
    "    primary_sweep_variable=\"Time\",\n",
    "    plot_type=\"Rectangular Plot\",\n",
    "    plot_name=\"core_loss_mat_costant\",\n",
    ")"
   ]
  },
  {
   "cell_type": "markdown",
   "id": "e13fe0d7",
   "metadata": {},
   "source": [
    "Get torque and loss solution data for all variations."
   ]
  },
  {
   "cell_type": "code",
   "execution_count": 19,
   "id": "29de98c7",
   "metadata": {
    "execution": {
     "iopub.execute_input": "2025-10-30T07:14:17.464000Z",
     "iopub.status.busy": "2025-10-30T07:14:17.464000Z",
     "iopub.status.idle": "2025-10-30T07:14:17.608733Z",
     "shell.execute_reply": "2025-10-30T07:14:17.608059Z"
    }
   },
   "outputs": [
    {
     "name": "stdout",
     "output_type": "stream",
     "text": [
      "PyAEDT INFO: Solution Data Correctly Loaded.\n"
     ]
    },
    {
     "name": "stdout",
     "output_type": "stream",
     "text": [
      "Time to initialize solution data:0.0481870174407959\n",
      "Time to initialize solution data:0.0481870174407959\n"
     ]
    }
   ],
   "source": [
    "torque_data = m2d.post.get_solution_data(\n",
    "    expressions=[\"Moving1.Torque\"],\n",
    "    setup_sweep_name=m2d.nominal_sweep,\n",
    "    domain=\"Sweep\",\n",
    "    variations={\n",
    "        \"bridge\": \"All\",\n",
    "        \"din\": \"All\",\n",
    "        \"Ipeak\": \"All\",\n",
    "        \"phase_advance\": \"All\",\n",
    "        \"mat_index\": \"All\",\n",
    "    },\n",
    "    primary_sweep_variable=\"Time\",\n",
    "    report_category=\"Standard\",\n",
    ")"
   ]
  },
  {
   "cell_type": "code",
   "execution_count": 20,
   "id": "c91e44cd",
   "metadata": {
    "execution": {
     "iopub.execute_input": "2025-10-30T07:14:17.608733Z",
     "iopub.status.busy": "2025-10-30T07:14:17.608733Z",
     "iopub.status.idle": "2025-10-30T07:14:17.735140Z",
     "shell.execute_reply": "2025-10-30T07:14:17.735140Z"
    }
   },
   "outputs": [
    {
     "name": "stdout",
     "output_type": "stream",
     "text": [
      "PyAEDT INFO: Solution Data Correctly Loaded.\n"
     ]
    },
    {
     "name": "stdout",
     "output_type": "stream",
     "text": [
      "Time to initialize solution data:0.04729056358337402\n",
      "Time to initialize solution data:0.0545344352722168\n"
     ]
    }
   ],
   "source": [
    "solid_loss_data = m2d.post.get_solution_data(\n",
    "    expressions=[\"SolidLoss\"],\n",
    "    setup_sweep_name=m2d.nominal_sweep,\n",
    "    domain=\"Sweep\",\n",
    "    variations={\n",
    "        \"bridge\": \"All\",\n",
    "        \"din\": \"All\",\n",
    "        \"Ipeak\": \"All\",\n",
    "        \"phase_advance\": \"All\",\n",
    "        \"mat_index\": \"All\",\n",
    "    },\n",
    "    primary_sweep_variable=\"Time\",\n",
    "    report_category=\"Standard\",\n",
    ")"
   ]
  },
  {
   "cell_type": "code",
   "execution_count": 21,
   "id": "2b12bd99",
   "metadata": {
    "execution": {
     "iopub.execute_input": "2025-10-30T07:14:17.735140Z",
     "iopub.status.busy": "2025-10-30T07:14:17.735140Z",
     "iopub.status.idle": "2025-10-30T07:14:17.861939Z",
     "shell.execute_reply": "2025-10-30T07:14:17.861939Z"
    }
   },
   "outputs": [
    {
     "name": "stdout",
     "output_type": "stream",
     "text": [
      "PyAEDT INFO: Solution Data Correctly Loaded.\n"
     ]
    },
    {
     "name": "stdout",
     "output_type": "stream",
     "text": [
      "Time to initialize solution data:0.04681134223937988\n",
      "Time to initialize solution data:0.04681134223937988\n"
     ]
    }
   ],
   "source": [
    "core_loss_data = m2d.post.get_solution_data(\n",
    "    expressions=[\"CoreLoss\"],\n",
    "    setup_sweep_name=m2d.nominal_sweep,\n",
    "    domain=\"Sweep\",\n",
    "    variations={\n",
    "        \"bridge\": \"All\",\n",
    "        \"din\": \"All\",\n",
    "        \"Ipeak\": \"All\",\n",
    "        \"phase_advance\": \"All\",\n",
    "        \"mat_index\": \"All\",\n",
    "    },\n",
    "    primary_sweep_variable=\"Time\",\n",
    "    report_category=\"Standard\",\n",
    ")"
   ]
  },
  {
   "cell_type": "markdown",
   "id": "356f2cec",
   "metadata": {},
   "source": [
    "Calculate torque and loss average values for each variation and write data in a .csv file."
   ]
  },
  {
   "cell_type": "code",
   "execution_count": 22,
   "id": "5afcb73f",
   "metadata": {
    "execution": {
     "iopub.execute_input": "2025-10-30T07:14:17.861939Z",
     "iopub.status.busy": "2025-10-30T07:14:17.861939Z",
     "iopub.status.idle": "2025-10-30T07:14:17.877685Z",
     "shell.execute_reply": "2025-10-30T07:14:17.877685Z"
    }
   },
   "outputs": [],
   "source": [
    "csv_data = []\n",
    "for var in core_loss_data.variations:\n",
    "    torque_data.active_variation = var\n",
    "    core_loss_data.active_variation = var\n",
    "    solid_loss_data.active_variation = var\n",
    "\n",
    "    torque_values = torque_data.get_expression_data(formula=\"magnitude\")[1]\n",
    "    core_loss_values = core_loss_data.get_expression_data(formula=\"magnitude\")[1]\n",
    "    solid_loss_values = solid_loss_data.get_expression_data(formula=\"magnitude\")[1]\n",
    "\n",
    "    torque_data_average = sum(torque_values) / len(torque_values)\n",
    "    core_loss_average = sum(core_loss_values) / len(core_loss_values)\n",
    "    solid_loss_average = sum(solid_loss_values) / len(solid_loss_values)\n",
    "\n",
    "    csv_data.append(\n",
    "        {\n",
    "            \"active_variation\": str(torque_data.active_variation),\n",
    "            \"average_torque\": str(torque_data_average),\n",
    "            \"average_core_loss\": str(core_loss_average),\n",
    "            \"average_solid_loss\": str(solid_loss_average),\n",
    "        }\n",
    "    )\n",
    "\n",
    "    with open(\n",
    "        os.path.join(temp_folder.name, \"motor_optimization.csv\"), \"w\", newline=\"\"\n",
    "    ) as csvfile:\n",
    "        fields = [\n",
    "            \"active_variation\",\n",
    "            \"average_torque\",\n",
    "            \"average_core_loss\",\n",
    "            \"average_solid_loss\",\n",
    "        ]\n",
    "        writer = csv.DictWriter(csvfile, fieldnames=fields)\n",
    "        writer.writeheader()\n",
    "        writer.writerows(csv_data)"
   ]
  },
  {
   "cell_type": "markdown",
   "id": "c29e6baf",
   "metadata": {},
   "source": [
    "## Release AEDT"
   ]
  },
  {
   "cell_type": "code",
   "execution_count": 23,
   "id": "cc55aa14",
   "metadata": {
    "execution": {
     "iopub.execute_input": "2025-10-30T07:14:17.877685Z",
     "iopub.status.busy": "2025-10-30T07:14:17.877685Z",
     "iopub.status.idle": "2025-10-30T07:14:42.446687Z",
     "shell.execute_reply": "2025-10-30T07:14:42.446687Z"
    }
   },
   "outputs": [
    {
     "name": "stdout",
     "output_type": "stream",
     "text": [
      "PyAEDT INFO: Project IPM_optimization Saved correctly\n"
     ]
    },
    {
     "name": "stdout",
     "output_type": "stream",
     "text": [
      "PyAEDT INFO: Desktop has been released and closed.\n"
     ]
    }
   ],
   "source": [
    "m2d.save_project()\n",
    "m2d.release_desktop()\n",
    "# Wait 3 seconds to allow AEDT to shut down before cleaning the temporary directory.\n",
    "time.sleep(3)"
   ]
  },
  {
   "cell_type": "markdown",
   "id": "d49873d7",
   "metadata": {},
   "source": [
    "## Clean up\n",
    "\n",
    "All project files are saved in the folder ``temp_folder.name``.\n",
    "If you've run this example as a Jupyter notebook, you\n",
    "can retrieve those project files. The following cell\n",
    "removes all temporary files, including the project folder."
   ]
  },
  {
   "cell_type": "code",
   "execution_count": 24,
   "id": "3bf4b163",
   "metadata": {
    "execution": {
     "iopub.execute_input": "2025-10-30T07:14:42.446687Z",
     "iopub.status.busy": "2025-10-30T07:14:42.446687Z",
     "iopub.status.idle": "2025-10-30T07:14:42.478353Z",
     "shell.execute_reply": "2025-10-30T07:14:42.478353Z"
    }
   },
   "outputs": [],
   "source": [
    "temp_folder.cleanup()"
   ]
  }
 ],
 "metadata": {
  "jupytext": {
   "cell_metadata_filter": "-all",
   "main_language": "python",
   "notebook_metadata_filter": "-all"
  },
  "language_info": {
   "codemirror_mode": {
    "name": "ipython",
    "version": 3
   },
   "file_extension": ".py",
   "mimetype": "text/x-python",
   "name": "python",
   "nbconvert_exporter": "python",
   "pygments_lexer": "ipython3",
   "version": "3.10.11"
  }
 },
 "nbformat": 4,
 "nbformat_minor": 5
}
