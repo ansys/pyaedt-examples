{
 "cells": [
  {
   "cell_type": "markdown",
   "id": "d0dd08d3",
   "metadata": {},
   "source": [
    "# Transformer leakage inductance calculation\n",
    "\n",
    "This example shows how to use PyAEDT to create a Maxwell 2D\n",
    "magnetostatic analysis to calculate transformer leakage\n",
    "inductance and reactance.\n",
    "The analysis based on this document is from page 8 in Professor S. V.\n",
    "Kulkami's paper, [Basis of Finite Element Method](https://www.ee.iitb.ac.in/~fclab/FEM/FEM1.pdf).\n",
    "\n",
    "Keywords: **Maxwell 2D**, **transformer**, **motor**."
   ]
  },
  {
   "cell_type": "markdown",
   "id": "954cfcdc",
   "metadata": {},
   "source": [
    "## Perform imports and define constants"
   ]
  },
  {
   "cell_type": "code",
   "execution_count": 1,
   "id": "bf18c0cb",
   "metadata": {
    "execution": {
     "iopub.execute_input": "2025-10-30T07:22:45.343258Z",
     "iopub.status.busy": "2025-10-30T07:22:45.343258Z",
     "iopub.status.idle": "2025-10-30T07:22:48.508030Z",
     "shell.execute_reply": "2025-10-30T07:22:48.508030Z"
    }
   },
   "outputs": [],
   "source": [
    "import os\n",
    "import tempfile\n",
    "import time\n",
    "\n",
    "from ansys.aedt.core import Maxwell2d"
   ]
  },
  {
   "cell_type": "markdown",
   "id": "8e26520f",
   "metadata": {},
   "source": [
    "Define constants,"
   ]
  },
  {
   "cell_type": "code",
   "execution_count": 2,
   "id": "869c0361",
   "metadata": {
    "execution": {
     "iopub.execute_input": "2025-10-30T07:22:48.508030Z",
     "iopub.status.busy": "2025-10-30T07:22:48.508030Z",
     "iopub.status.idle": "2025-10-30T07:22:48.523972Z",
     "shell.execute_reply": "2025-10-30T07:22:48.523972Z"
    }
   },
   "outputs": [],
   "source": [
    "AEDT_VERSION = \"2025.2\"\n",
    "NUM_CORES = 4\n",
    "NG_MODE = False  # Open AEDT UI when it is launched."
   ]
  },
  {
   "cell_type": "markdown",
   "id": "9871f8c6",
   "metadata": {},
   "source": [
    "## Create temporary directory\n",
    "\n",
    "Create a temporary directory where downloaded data or\n",
    "dumped data can be stored.\n",
    "If you'd like to retrieve the project data for subsequent use,\n",
    "the temporary folder name is given by ``temp_folder.name``."
   ]
  },
  {
   "cell_type": "code",
   "execution_count": 3,
   "id": "5e65d0da",
   "metadata": {
    "execution": {
     "iopub.execute_input": "2025-10-30T07:22:48.527475Z",
     "iopub.status.busy": "2025-10-30T07:22:48.527475Z",
     "iopub.status.idle": "2025-10-30T07:22:48.540009Z",
     "shell.execute_reply": "2025-10-30T07:22:48.540009Z"
    }
   },
   "outputs": [],
   "source": [
    "temp_folder = tempfile.TemporaryDirectory(suffix=\".ansys\")"
   ]
  },
  {
   "cell_type": "markdown",
   "id": "69deff9e",
   "metadata": {},
   "source": [
    "## Initialize and launch Maxwell 2D\n",
    "\n",
    "Initialize and launch Maxwell 2D, providing the version, the path to the project, the design\n",
    "name, and the type."
   ]
  },
  {
   "cell_type": "code",
   "execution_count": 4,
   "id": "b43d7bc6",
   "metadata": {
    "execution": {
     "iopub.execute_input": "2025-10-30T07:22:48.540009Z",
     "iopub.status.busy": "2025-10-30T07:22:48.540009Z",
     "iopub.status.idle": "2025-10-30T07:23:16.850826Z",
     "shell.execute_reply": "2025-10-30T07:23:16.850826Z"
    }
   },
   "outputs": [
    {
     "name": "stdout",
     "output_type": "stream",
     "text": [
      "PyAEDT INFO: Python version 3.10.11 (tags/v3.10.11:7d4cc5a, Apr  5 2023, 00:38:17) [MSC v.1929 64 bit (AMD64)].\n"
     ]
    },
    {
     "name": "stdout",
     "output_type": "stream",
     "text": [
      "PyAEDT INFO: PyAEDT version 0.22.dev0.\n"
     ]
    },
    {
     "name": "stdout",
     "output_type": "stream",
     "text": [
      "PyAEDT INFO: Initializing new Desktop session.\n"
     ]
    },
    {
     "name": "stdout",
     "output_type": "stream",
     "text": [
      "PyAEDT INFO: Log on console is enabled.\n"
     ]
    },
    {
     "name": "stdout",
     "output_type": "stream",
     "text": [
      "PyAEDT INFO: Log on file C:\\Users\\ansys\\AppData\\Local\\Temp\\pyaedt_ansys_3c261ad0-32b4-4635-acc9-eb101af897e6.log is enabled.\n"
     ]
    },
    {
     "name": "stdout",
     "output_type": "stream",
     "text": [
      "PyAEDT INFO: Log on AEDT is disabled.\n"
     ]
    },
    {
     "name": "stdout",
     "output_type": "stream",
     "text": [
      "PyAEDT INFO: Debug logger is disabled. PyAEDT methods will not be logged.\n"
     ]
    },
    {
     "name": "stdout",
     "output_type": "stream",
     "text": [
      "PyAEDT INFO: Launching PyAEDT with gRPC plugin.\n"
     ]
    },
    {
     "name": "stdout",
     "output_type": "stream",
     "text": [
      "PyAEDT INFO: New AEDT session is starting on gRPC port 54009.\n"
     ]
    },
    {
     "name": "stdout",
     "output_type": "stream",
     "text": [
      "PyAEDT INFO: Electronics Desktop started on gRPC port: 54009 after 10.489093780517578 seconds.\n"
     ]
    },
    {
     "name": "stdout",
     "output_type": "stream",
     "text": [
      "PyAEDT INFO: AEDT installation Path C:\\Program Files\\ANSYS Inc\\v252\\AnsysEM\n"
     ]
    },
    {
     "name": "stdout",
     "output_type": "stream",
     "text": [
      "PyAEDT INFO: Ansoft.ElectronicsDesktop.2025.2 version started with process ID 8660.\n"
     ]
    },
    {
     "name": "stdout",
     "output_type": "stream",
     "text": [
      "PyAEDT INFO: Project Magnetostatic has been created.\n"
     ]
    },
    {
     "name": "stdout",
     "output_type": "stream",
     "text": [
      "PyAEDT INFO: Added design 'Transformer_leakage_inductance' of type Maxwell 2D.\n"
     ]
    },
    {
     "name": "stdout",
     "output_type": "stream",
     "text": [
      "PyAEDT INFO: Aedt Objects correctly read\n"
     ]
    }
   ],
   "source": [
    "\n",
    "project_name = os.path.join(temp_folder.name, \"Magnetostatic.aedt\")\n",
    "m2d = Maxwell2d(\n",
    "    version=AEDT_VERSION,\n",
    "    new_desktop=False,\n",
    "    design=\"Transformer_leakage_inductance\",\n",
    "    project=project_name,\n",
    "    solution_type=\"MagnetostaticXY\",\n",
    "    non_graphical=NG_MODE,\n",
    ")"
   ]
  },
  {
   "cell_type": "markdown",
   "id": "609a6973",
   "metadata": {},
   "source": [
    "## Initialize dictionaries\n",
    "\n",
    "Set modeler units and initialize dictionaries\n",
    "that contain all the definitions for the design variables."
   ]
  },
  {
   "cell_type": "code",
   "execution_count": 5,
   "id": "193794bd",
   "metadata": {
    "execution": {
     "iopub.execute_input": "2025-10-30T07:23:16.854066Z",
     "iopub.status.busy": "2025-10-30T07:23:16.854066Z",
     "iopub.status.idle": "2025-10-30T07:23:17.787681Z",
     "shell.execute_reply": "2025-10-30T07:23:17.787681Z"
    }
   },
   "outputs": [
    {
     "name": "stdout",
     "output_type": "stream",
     "text": [
      "PyAEDT INFO: Modeler2D class has been initialized!\n"
     ]
    },
    {
     "name": "stdout",
     "output_type": "stream",
     "text": [
      "PyAEDT INFO: Modeler class has been initialized! Elapsed time: 0m 1sec\n"
     ]
    }
   ],
   "source": [
    "m2d.modeler.model_units = \"mm\"\n",
    "\n",
    "dimensions = {\n",
    "    \"core_width\": \"1097mm\",\n",
    "    \"core_height\": \"2880mm\",\n",
    "    \"core_opening_x1\": \"270mm\",\n",
    "    \"core_opening_x2\": \"557mm\",\n",
    "    \"core_opening_y1\": \"540mm\",\n",
    "    \"core_opening_y2\": \"2340mm\",\n",
    "    \"core_opening_width\": \"core_opening_x2-core_opening_x1\",\n",
    "    \"core_opening_height\": \"core_opening_y2-core_opening_y1\",\n",
    "    \"LV_x1\": \"293mm\",\n",
    "    \"LV_x2\": \"345mm\",\n",
    "    \"LV_width\": \"LV_x2-LV_x1\",\n",
    "    \"LV_mean_radius\": \"LV_x1+LV_width/2\",\n",
    "    \"LV_mean_turn_length\": \"pi*2*LV_mean_radius\",\n",
    "    \"LV_y1\": \"620mm\",\n",
    "    \"LV_y2\": \"2140mm\",\n",
    "    \"LV_height\": \"LV_y2-LV_y1\",\n",
    "    \"HV_x1\": \"394mm\",\n",
    "    \"HV_x2\": \"459mm\",\n",
    "    \"HV_width\": \"HV_x2-HV_x1\",\n",
    "    \"HV_mean_radius\": \"HV_x1+HV_width/2\",\n",
    "    \"HV_mean_turn_length\": \"pi*2*HV_mean_radius\",\n",
    "    \"HV_y1\": \"620mm\",\n",
    "    \"HV_y2\": \"2140mm\",\n",
    "    \"HV_height\": \"HV_y2-HV_y1\",\n",
    "    \"HV_LV_gap_radius\": \"(LV_x2 + HV_x1)/2\",\n",
    "    \"HV_LV_gap_length\": \"pi*2*HV_LV_gap_radius\",\n",
    "}\n",
    "\n",
    "specifications = {\n",
    "    \"Amp_turns\": \"135024A\",\n",
    "    \"Frequency\": \"50Hz\",\n",
    "    \"HV_turns\": \"980\",\n",
    "    \"HV_current\": \"Amp_turns/HV_turns\",\n",
    "}"
   ]
  },
  {
   "cell_type": "markdown",
   "id": "2a8dc79f",
   "metadata": {},
   "source": [
    "## Define variables from dictionaries\n",
    "\n",
    "Define design variables from the created dictionaries."
   ]
  },
  {
   "cell_type": "code",
   "execution_count": 6,
   "id": "daf81cff",
   "metadata": {
    "execution": {
     "iopub.execute_input": "2025-10-30T07:23:17.787681Z",
     "iopub.status.busy": "2025-10-30T07:23:17.787681Z",
     "iopub.status.idle": "2025-10-30T07:23:18.600841Z",
     "shell.execute_reply": "2025-10-30T07:23:18.600841Z"
    }
   },
   "outputs": [],
   "source": [
    "m2d.variable_manager.set_variable(name=\"Dimensions\")\n",
    "\n",
    "for k, v in dimensions.items():\n",
    "    m2d[k] = v\n",
    "\n",
    "m2d.variable_manager.set_variable(name=\"Windings\")\n",
    "\n",
    "for k, v in specifications.items():\n",
    "    m2d[k] = v"
   ]
  },
  {
   "cell_type": "markdown",
   "id": "5918c9c7",
   "metadata": {},
   "source": [
    "## Create design geometries\n",
    "\n",
    "Create the transformer core, the HV and LV windings, and the region."
   ]
  },
  {
   "cell_type": "code",
   "execution_count": 7,
   "id": "0af81d7e",
   "metadata": {
    "execution": {
     "iopub.execute_input": "2025-10-30T07:23:18.600841Z",
     "iopub.status.busy": "2025-10-30T07:23:18.600841Z",
     "iopub.status.idle": "2025-10-30T07:23:32.149284Z",
     "shell.execute_reply": "2025-10-30T07:23:32.149284Z"
    }
   },
   "outputs": [
    {
     "name": "stdout",
     "output_type": "stream",
     "text": [
      "PyAEDT INFO: Materials class has been initialized! Elapsed time: 0m 0sec\n"
     ]
    },
    {
     "name": "stdout",
     "output_type": "stream",
     "text": [
      "PyAEDT INFO: Parsing design objects. This operation can take time\n"
     ]
    },
    {
     "name": "stdout",
     "output_type": "stream",
     "text": [
      "PyAEDT INFO: Refreshing bodies from Object Info\n"
     ]
    },
    {
     "name": "stdout",
     "output_type": "stream",
     "text": [
      "PyAEDT INFO: Bodies Info Refreshed Elapsed time: 0m 0sec\n"
     ]
    },
    {
     "name": "stdout",
     "output_type": "stream",
     "text": [
      "PyAEDT INFO: 3D Modeler objects parsed. Elapsed time: 0m 0sec\n"
     ]
    },
    {
     "name": "stdout",
     "output_type": "stream",
     "text": [
      "PyAEDT INFO: Boundary Vector Potential VectorPotential1 has been created.\n"
     ]
    },
    {
     "data": {
      "text/plain": [
       "<ansys.aedt.core.modules.boundary.common.BoundaryObject at 0x1d19b043850>"
      ]
     },
     "execution_count": 7,
     "metadata": {},
     "output_type": "execute_result"
    }
   ],
   "source": [
    "core = m2d.modeler.create_rectangle(\n",
    "    origin=[0, 0, 0],\n",
    "    sizes=[\"core_width\", \"core_height\", 0],\n",
    "    name=\"core\",\n",
    "    material=\"steel_1008\",\n",
    ")\n",
    "\n",
    "core_hole = m2d.modeler.create_rectangle(\n",
    "    origin=[\"core_opening_x1\", \"core_opening_y1\", 0],\n",
    "    sizes=[\"core_opening_width\", \"core_opening_height\", 0],\n",
    "    name=\"core_hole\",\n",
    ")\n",
    "\n",
    "m2d.modeler.subtract(blank_list=[core], tool_list=[core_hole], keep_originals=False)\n",
    "\n",
    "lv = m2d.modeler.create_rectangle(\n",
    "    origin=[\"LV_x1\", \"LV_y1\", 0],\n",
    "    sizes=[\"LV_width\", \"LV_height\", 0],\n",
    "    name=\"LV\",\n",
    "    material=\"copper\",\n",
    ")\n",
    "\n",
    "hv = m2d.modeler.create_rectangle(\n",
    "    origin=[\"HV_x1\", \"HV_y1\", 0],\n",
    "    sizes=[\"HV_width\", \"HV_height\", 0],\n",
    "    name=\"HV\",\n",
    "    material=\"copper\",\n",
    ")\n",
    "\n",
    "region = m2d.modeler.create_region(pad_percent=[20, 10, 0, 10])\n",
    "\n",
    "# ## Assign boundary condition\n",
    "#\n",
    "# Assign vector potential to zero on all region boundaries. This makes x=0 edge a symmetry boundary.\n",
    "\n",
    "m2d.assign_vector_potential(assignment=region.edges, boundary=\"VectorPotential1\")"
   ]
  },
  {
   "cell_type": "markdown",
   "id": "72c94abc",
   "metadata": {},
   "source": [
    "## Create initial mesh settings\n",
    "\n",
    "Assign a relatively dense mesh to all objects to ensure that the energy is calculated accurately."
   ]
  },
  {
   "cell_type": "code",
   "execution_count": 8,
   "id": "f15a6755",
   "metadata": {
    "execution": {
     "iopub.execute_input": "2025-10-30T07:23:32.149284Z",
     "iopub.status.busy": "2025-10-30T07:23:32.149284Z",
     "iopub.status.idle": "2025-10-30T07:23:32.196866Z",
     "shell.execute_reply": "2025-10-30T07:23:32.196866Z"
    }
   },
   "outputs": [
    {
     "name": "stdout",
     "output_type": "stream",
     "text": [
      "PyAEDT INFO: Mesh class has been initialized! Elapsed time: 0m 0sec\n"
     ]
    },
    {
     "name": "stdout",
     "output_type": "stream",
     "text": [
      "PyAEDT INFO: Mesh class has been initialized! Elapsed time: 0m 0sec\n"
     ]
    },
    {
     "data": {
      "text/plain": [
       "<ansys.aedt.core.modules.mesh.MeshOperation at 0x1d19eb67a60>"
      ]
     },
     "execution_count": 8,
     "metadata": {},
     "output_type": "execute_result"
    }
   ],
   "source": [
    "m2d.mesh.assign_length_mesh(\n",
    "    assignment=[\"core\", \"Region\", \"LV\", \"HV\"],\n",
    "    maximum_length=50,\n",
    "    maximum_elements=None,\n",
    "    name=\"all_objects\",\n",
    ")"
   ]
  },
  {
   "cell_type": "markdown",
   "id": "3ead2366",
   "metadata": {},
   "source": [
    "## Define excitations\n",
    "\n",
    "Assign the same current in amp-turns but in opposite directions to the HV and LV windings."
   ]
  },
  {
   "cell_type": "code",
   "execution_count": 9,
   "id": "465fd66a",
   "metadata": {
    "execution": {
     "iopub.execute_input": "2025-10-30T07:23:32.196866Z",
     "iopub.status.busy": "2025-10-30T07:23:32.196866Z",
     "iopub.status.idle": "2025-10-30T07:23:32.276093Z",
     "shell.execute_reply": "2025-10-30T07:23:32.276093Z"
    }
   },
   "outputs": [
    {
     "name": "stdout",
     "output_type": "stream",
     "text": [
      "PyAEDT INFO: Boundary Current LV has been created.\n"
     ]
    },
    {
     "name": "stdout",
     "output_type": "stream",
     "text": [
      "PyAEDT INFO: Boundary Current HV has been created.\n"
     ]
    },
    {
     "data": {
      "text/plain": [
       "<ansys.aedt.core.modules.boundary.common.BoundaryObject at 0x1d19eb67ca0>"
      ]
     },
     "execution_count": 9,
     "metadata": {},
     "output_type": "execute_result"
    }
   ],
   "source": [
    "m2d.assign_current(assignment=lv, amplitude=\"Amp_turns\", name=\"LV\")\n",
    "m2d.assign_current(assignment=hv, amplitude=\"Amp_turns\", name=\"HV\", swap_direction=True)"
   ]
  },
  {
   "cell_type": "markdown",
   "id": "460965c9",
   "metadata": {},
   "source": [
    "## Create and analyze setup\n",
    "\n",
    "Create and analyze the setup. Set the number of minimum passes to 3 to ensure accuracy."
   ]
  },
  {
   "cell_type": "code",
   "execution_count": 10,
   "id": "01628652",
   "metadata": {
    "execution": {
     "iopub.execute_input": "2025-10-30T07:23:32.276093Z",
     "iopub.status.busy": "2025-10-30T07:23:32.276093Z",
     "iopub.status.idle": "2025-10-30T07:24:04.616798Z",
     "shell.execute_reply": "2025-10-30T07:24:04.616798Z"
    }
   },
   "outputs": [
    {
     "name": "stdout",
     "output_type": "stream",
     "text": [
      "PyAEDT INFO: Key Desktop/ActiveDSOConfigurations/Maxwell 2D correctly changed.\n"
     ]
    },
    {
     "name": "stdout",
     "output_type": "stream",
     "text": [
      "PyAEDT INFO: Solving all design setups. Analysis started...\n"
     ]
    },
    {
     "name": "stdout",
     "output_type": "stream",
     "text": [
      "PyAEDT INFO: Design setup None solved correctly in 0.0h 0.0m 32.0s\n"
     ]
    },
    {
     "name": "stdout",
     "output_type": "stream",
     "text": [
      "PyAEDT INFO: Key Desktop/ActiveDSOConfigurations/Maxwell 2D correctly changed.\n"
     ]
    },
    {
     "data": {
      "text/plain": [
       "True"
      ]
     },
     "execution_count": 10,
     "metadata": {},
     "output_type": "execute_result"
    }
   ],
   "source": [
    "m2d.create_setup(name=\"Setup1\", MinimumPasses=3)\n",
    "m2d.analyze_setup(use_auto_settings=False, cores=NUM_CORES)"
   ]
  },
  {
   "cell_type": "markdown",
   "id": "74218fd6",
   "metadata": {},
   "source": [
    "## Calculate transformer leakage inductance and reactance\n",
    "\n",
    "Calculate transformer leakage inductance from the magnetic energy with PyAEDT advanced fields calculator."
   ]
  },
  {
   "cell_type": "code",
   "execution_count": 11,
   "id": "5bb980cc",
   "metadata": {
    "execution": {
     "iopub.execute_input": "2025-10-30T07:24:04.618819Z",
     "iopub.status.busy": "2025-10-30T07:24:04.618819Z",
     "iopub.status.idle": "2025-10-30T07:24:05.553518Z",
     "shell.execute_reply": "2025-10-30T07:24:05.553518Z"
    }
   },
   "outputs": [
    {
     "name": "stdout",
     "output_type": "stream",
     "text": [
      "PyAEDT INFO: Parsing C:\\Users\\ansys\\AppData\\Local\\Temp\\tmpu0pnnp30.ansys\\Magnetostatic.aedt.\n"
     ]
    },
    {
     "name": "stdout",
     "output_type": "stream",
     "text": [
      "PyAEDT INFO: File C:\\Users\\ansys\\AppData\\Local\\Temp\\tmpu0pnnp30.ansys\\Magnetostatic.aedt correctly loaded. Elapsed time: 0m 0sec\n"
     ]
    },
    {
     "name": "stdout",
     "output_type": "stream",
     "text": [
      "PyAEDT INFO: aedt file load time 0.015755176544189453\n"
     ]
    },
    {
     "name": "stdout",
     "output_type": "stream",
     "text": [
      "PyAEDT INFO: PostProcessor class has been initialized! Elapsed time: 0m 0sec\n"
     ]
    },
    {
     "name": "stdout",
     "output_type": "stream",
     "text": [
      "PyAEDT INFO: PostProcessor class has been initialized! Elapsed time: 0m 0sec\n"
     ]
    },
    {
     "name": "stdout",
     "output_type": "stream",
     "text": [
      "PyAEDT INFO: Post class has been initialized! Elapsed time: 0m 0sec\n"
     ]
    },
    {
     "name": "stdout",
     "output_type": "stream",
     "text": [
      "PyAEDT WARNING: No context provided for Fields. Assigned object: None\n"
     ]
    },
    {
     "data": {
      "text/plain": [
       "<ansys.aedt.core.visualization.report.field.Fields at 0x1d19ec16230>"
      ]
     },
     "execution_count": 11,
     "metadata": {},
     "output_type": "execute_result"
    }
   ],
   "source": [
    "leakage_inductance = {\n",
    "    \"name\": \"Leakage_inductance\",\n",
    "    \"description\": \"Leakage inductance from the magnetic energy\",\n",
    "    \"design_type\": [\"Maxwell 2D\"],\n",
    "    \"fields_type\": [\"Fields\"],\n",
    "    \"primary_sweep\": \"Distance\",\n",
    "    \"assignment\": \"\",\n",
    "    \"assignment_type\": [\"Line\"],\n",
    "    \"operations\": [\n",
    "        \"Fundamental_Quantity('Energy')\",\n",
    "        \"EnterSurface('HV')\",\n",
    "        \"Operation('SurfaceValue')\",\n",
    "        \"Operation('Integrate')\",\n",
    "        \"Scalar_Function(FuncValue='HV_mean_turn_length')\",\n",
    "        \"Operation('*')\",\n",
    "        \"Fundamental_Quantity('Energy')\",\n",
    "        \"EnterSurface('LV')\",\n",
    "        \"Operation('SurfaceValue')\",\n",
    "        \"Operation('Integrate')\",\n",
    "        \"Scalar_Function(FuncValue='LV_mean_turn_length')\",\n",
    "        \"Operation('*')\",\n",
    "        \"Fundamental_Quantity('Energy')\",\n",
    "        \"EnterSurface('Region')\",\n",
    "        \"Operation('SurfaceValue')\",\n",
    "        \"Operation('Integrate')\",\n",
    "        \"Scalar_Function(FuncValue='HV_LV_gap_length')\",\n",
    "        \"Operation('*')\",\n",
    "        \"Operation('+')\",\n",
    "        \"Operation('+')\",\n",
    "        \"Scalar_Constant(2)\",\n",
    "        \"Operation('*')\",\n",
    "        \"Scalar_Function(FuncValue='HV_current')\",\n",
    "        \"Scalar_Function(FuncValue='HV_current')\",\n",
    "        \"Operation('*')\",\n",
    "        \"Operation('/')\",\n",
    "    ],\n",
    "    \"report\": [\"Data Table\", \"Rectangular Plot\"],\n",
    "}\n",
    "m2d.post.fields_calculator.add_expression(leakage_inductance, None)\n",
    "\n",
    "leakage_reactance = {\n",
    "    \"name\": \"Leakage_reactance\",\n",
    "    \"description\": \"Leakage reactance from the magnetic energy\",\n",
    "    \"design_type\": [\"Maxwell 2D\"],\n",
    "    \"fields_type\": [\"Fields\"],\n",
    "    \"primary_sweep\": \"Distance\",\n",
    "    \"assignment\": \"\",\n",
    "    \"assignment_type\": [\"Line\"],\n",
    "    \"operations\": [\n",
    "        \"NameOfExpression('Leakage_inductance')\",\n",
    "        \"Scalar_Constant(2)\",\n",
    "        \"Scalar_Constant(3.14159)\",\n",
    "        \"Scalar_Function(FuncValue='Frequency')\",\n",
    "        \"Operation('*')\",\n",
    "        \"Operation('*')\",\n",
    "        \"Operation('*')\",\n",
    "    ],\n",
    "    \"report\": [\"Data Table\", \"Rectangular Plot\"],\n",
    "}\n",
    "m2d.post.fields_calculator.add_expression(leakage_reactance, None)\n",
    "\n",
    "m2d.post.create_report(\n",
    "    expressions=[\"Leakage_inductance\", \"Leakage_reactance\"],\n",
    "    report_category=\"Fields\",\n",
    "    primary_sweep_variable=\"core_width\",\n",
    "    plot_type=\"Data Table\",\n",
    "    plot_name=\"Transformer Leakage Inductance\",\n",
    ")"
   ]
  },
  {
   "cell_type": "markdown",
   "id": "eb1522dc",
   "metadata": {},
   "source": [
    "## Print leakage inductance and reactance values in AEDT Message Manager"
   ]
  },
  {
   "cell_type": "code",
   "execution_count": 12,
   "id": "f37f2c62",
   "metadata": {
    "execution": {
     "iopub.execute_input": "2025-10-30T07:24:05.557524Z",
     "iopub.status.busy": "2025-10-30T07:24:05.557524Z",
     "iopub.status.idle": "2025-10-30T07:24:07.167515Z",
     "shell.execute_reply": "2025-10-30T07:24:07.167515Z"
    }
   },
   "outputs": [
    {
     "name": "stdout",
     "output_type": "stream",
     "text": [
      "PyAEDT INFO: Exporting Leakage_inductance field. Be patient\n"
     ]
    },
    {
     "name": "stdout",
     "output_type": "stream",
     "text": [
      "PyAEDT INFO: Quantity Leakage_inductance not present. Trying to get it from Stack\n"
     ]
    },
    {
     "name": "stdout",
     "output_type": "stream",
     "text": [
      "PyAEDT INFO: Leakage_inductance =  0.1564H\n"
     ]
    },
    {
     "name": "stdout",
     "output_type": "stream",
     "text": [
      "PyAEDT INFO: Exporting Leakage_reactance field. Be patient\n"
     ]
    },
    {
     "name": "stdout",
     "output_type": "stream",
     "text": [
      "PyAEDT INFO: Quantity Leakage_reactance not present. Trying to get it from Stack\n"
     ]
    },
    {
     "name": "stdout",
     "output_type": "stream",
     "text": [
      "PyAEDT INFO: Leakage_reactance =  49.15Ohm\n"
     ]
    }
   ],
   "source": [
    "m2d.logger.clear_messages()\n",
    "m2d.logger.info(\n",
    "    \"Leakage_inductance =  {:.4f}H\".format(\n",
    "        m2d.post.get_scalar_field_value(quantity=\"Leakage_inductance\")\n",
    "    )\n",
    ")\n",
    "m2d.logger.info(\n",
    "    \"Leakage_reactance =  {:.2f}Ohm\".format(\n",
    "        m2d.post.get_scalar_field_value(quantity=\"Leakage_reactance\")\n",
    "    )\n",
    ")"
   ]
  },
  {
   "cell_type": "markdown",
   "id": "a1f70884",
   "metadata": {},
   "source": [
    "## Plot energy in the simulation domain\n",
    "\n",
    "Most of the energy is confined in the air between the HV and LV windings."
   ]
  },
  {
   "cell_type": "code",
   "execution_count": 13,
   "id": "817226ad",
   "metadata": {
    "execution": {
     "iopub.execute_input": "2025-10-30T07:24:07.171119Z",
     "iopub.status.busy": "2025-10-30T07:24:07.171119Z",
     "iopub.status.idle": "2025-10-30T07:24:07.436891Z",
     "shell.execute_reply": "2025-10-30T07:24:07.436891Z"
    }
   },
   "outputs": [
    {
     "name": "stdout",
     "output_type": "stream",
     "text": [
      "PyAEDT INFO: Active Design set to Transformer_leakage_inductance\n"
     ]
    }
   ],
   "source": [
    "energy_field_overlay = m2d.post.create_fieldplot_surface(\n",
    "    assignment=m2d.modeler.object_names,\n",
    "    quantity=\"energy\",\n",
    "    plot_name=\"Energy\",\n",
    ")"
   ]
  },
  {
   "cell_type": "markdown",
   "id": "bae8e13a",
   "metadata": {},
   "source": [
    "## Release AEDT"
   ]
  },
  {
   "cell_type": "code",
   "execution_count": 14,
   "id": "89554ff7",
   "metadata": {
    "execution": {
     "iopub.execute_input": "2025-10-30T07:24:07.440897Z",
     "iopub.status.busy": "2025-10-30T07:24:07.440897Z",
     "iopub.status.idle": "2025-10-30T07:24:26.014503Z",
     "shell.execute_reply": "2025-10-30T07:24:26.014503Z"
    }
   },
   "outputs": [
    {
     "name": "stdout",
     "output_type": "stream",
     "text": [
      "PyAEDT INFO: Project Magnetostatic Saved correctly\n"
     ]
    },
    {
     "name": "stdout",
     "output_type": "stream",
     "text": [
      "PyAEDT INFO: Desktop has been released and closed.\n"
     ]
    }
   ],
   "source": [
    "m2d.save_project()\n",
    "m2d.release_desktop()\n",
    "# Wait 3 seconds to allow AEDT to shut down before cleaning the temporary directory.\n",
    "time.sleep(3)"
   ]
  },
  {
   "cell_type": "markdown",
   "id": "f1dbf04e",
   "metadata": {},
   "source": [
    "## Clean up\n",
    "\n",
    "All project files are saved in the folder ``temp_folder.name``.\n",
    "If you've run this example as a Jupyter notebook, you\n",
    "can retrieve those project files. The following cell\n",
    "removes all temporary files, including the project folder."
   ]
  },
  {
   "cell_type": "code",
   "execution_count": 15,
   "id": "9ff96fcf",
   "metadata": {
    "execution": {
     "iopub.execute_input": "2025-10-30T07:24:26.018219Z",
     "iopub.status.busy": "2025-10-30T07:24:26.018219Z",
     "iopub.status.idle": "2025-10-30T07:24:26.045857Z",
     "shell.execute_reply": "2025-10-30T07:24:26.045857Z"
    }
   },
   "outputs": [],
   "source": [
    "temp_folder.cleanup()"
   ]
  }
 ],
 "metadata": {
  "jupytext": {
   "cell_metadata_filter": "-all",
   "main_language": "python",
   "notebook_metadata_filter": "-all"
  },
  "language_info": {
   "codemirror_mode": {
    "name": "ipython",
    "version": 3
   },
   "file_extension": ".py",
   "mimetype": "text/x-python",
   "name": "python",
   "nbconvert_exporter": "python",
   "pygments_lexer": "ipython3",
   "version": "3.10.11"
  }
 },
 "nbformat": 4,
 "nbformat_minor": 5
}
