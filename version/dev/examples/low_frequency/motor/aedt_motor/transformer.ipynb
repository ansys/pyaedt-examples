{
 "cells": [
  {
   "cell_type": "markdown",
   "id": "bba22dd3",
   "metadata": {},
   "source": [
    "# Transformer"
   ]
  },
  {
   "cell_type": "markdown",
   "id": "d2db7c61",
   "metadata": {},
   "source": [
    "This example shows how to use PyAEDT to set core loss given a set\n",
    "of power-volume [kw/m^3] curves at different frequencies.\n",
    "\n",
    "Keywords: **Maxwell 3D**, **Transformer**."
   ]
  },
  {
   "cell_type": "markdown",
   "id": "7e5a3f38",
   "metadata": {},
   "source": [
    "## Perform imports and define constants\n",
    "\n",
    "Perform required imports."
   ]
  },
  {
   "cell_type": "code",
   "execution_count": 1,
   "id": "92780f5e",
   "metadata": {
    "execution": {
     "iopub.execute_input": "2025-10-30T07:21:39.200142Z",
     "iopub.status.busy": "2025-10-30T07:21:39.200142Z",
     "iopub.status.idle": "2025-10-30T07:21:42.290024Z",
     "shell.execute_reply": "2025-10-30T07:21:42.290024Z"
    }
   },
   "outputs": [],
   "source": [
    "import tempfile\n",
    "import time\n",
    "\n",
    "from ansys.aedt.core import Maxwell3d\n",
    "from ansys.aedt.core.examples import downloads\n",
    "from ansys.aedt.core.generic.constants import unit_converter\n",
    "from ansys.aedt.core.generic.file_utils import read_csv_pandas"
   ]
  },
  {
   "cell_type": "markdown",
   "id": "87212450",
   "metadata": {},
   "source": [
    "Define constants."
   ]
  },
  {
   "cell_type": "code",
   "execution_count": 2,
   "id": "7bc59334",
   "metadata": {
    "execution": {
     "iopub.execute_input": "2025-10-30T07:21:42.290024Z",
     "iopub.status.busy": "2025-10-30T07:21:42.290024Z",
     "iopub.status.idle": "2025-10-30T07:21:42.306072Z",
     "shell.execute_reply": "2025-10-30T07:21:42.306072Z"
    }
   },
   "outputs": [],
   "source": [
    "AEDT_VERSION = \"2025.2\"\n",
    "NG_MODE = False"
   ]
  },
  {
   "cell_type": "markdown",
   "id": "859578cc",
   "metadata": {},
   "source": [
    "## Create temporary directory\n",
    "\n",
    "Create a temporary directory where downloaded data or\n",
    "dumped data can be stored.\n",
    "If you'd like to retrieve the project data for subsequent use,\n",
    "the temporary folder name is given by ``temp_folder.name``."
   ]
  },
  {
   "cell_type": "code",
   "execution_count": 3,
   "id": "d0d2a979",
   "metadata": {
    "execution": {
     "iopub.execute_input": "2025-10-30T07:21:42.309446Z",
     "iopub.status.busy": "2025-10-30T07:21:42.309446Z",
     "iopub.status.idle": "2025-10-30T07:21:42.322041Z",
     "shell.execute_reply": "2025-10-30T07:21:42.322041Z"
    }
   },
   "outputs": [],
   "source": [
    "temp_folder = tempfile.TemporaryDirectory(suffix=\".ansys\")"
   ]
  },
  {
   "cell_type": "markdown",
   "id": "4f9592ee",
   "metadata": {},
   "source": [
    "## Download AEDT file example\n",
    "\n",
    "Download the files required to run this example to the temporary working folder."
   ]
  },
  {
   "cell_type": "code",
   "execution_count": 4,
   "id": "812f41f8",
   "metadata": {
    "execution": {
     "iopub.execute_input": "2025-10-30T07:21:42.322041Z",
     "iopub.status.busy": "2025-10-30T07:21:42.322041Z",
     "iopub.status.idle": "2025-10-30T07:21:45.314357Z",
     "shell.execute_reply": "2025-10-30T07:21:45.314357Z"
    }
   },
   "outputs": [],
   "source": [
    "aedt_file = downloads.download_file(\n",
    "    source=\"core_loss_transformer\",\n",
    "    name=\"Ex2-PlanarTransformer_2023R2.aedtz\",\n",
    "    local_path=temp_folder.name,\n",
    ")\n",
    "freq_curve_csv_25kHz = downloads.download_file(\n",
    "    source=\"core_loss_transformer\", name=\"mf3_25kHz.csv\", local_path=temp_folder.name\n",
    ")\n",
    "freq_curve_csv_100kHz = downloads.download_file(\n",
    "    source=\"core_loss_transformer\", name=\"mf3_100kHz.csv\", local_path=temp_folder.name\n",
    ")\n",
    "freq_curve_csv_200kHz = downloads.download_file(\n",
    "    source=\"core_loss_transformer\", name=\"mf3_200kHz.csv\", local_path=temp_folder.name\n",
    ")\n",
    "freq_curve_csv_400kHz = downloads.download_file(\n",
    "    source=\"core_loss_transformer\", name=\"mf3_400kHz.csv\", local_path=temp_folder.name\n",
    ")\n",
    "freq_curve_csv_700kHz = downloads.download_file(\n",
    "    source=\"core_loss_transformer\", name=\"mf3_700kHz.csv\", local_path=temp_folder.name\n",
    ")\n",
    "freq_curve_csv_1MHz = downloads.download_file(\n",
    "    source=\"core_loss_transformer\", name=\"mf3_1MHz.csv\", local_path=temp_folder.name\n",
    ")\n",
    "\n",
    "data = read_csv_pandas(input_file=freq_curve_csv_25kHz)\n",
    "curves_csv_25kHz = list(zip(data[data.columns[0]], data[data.columns[1]]))\n",
    "data = read_csv_pandas(input_file=freq_curve_csv_100kHz)\n",
    "curves_csv_100kHz = list(zip(data[data.columns[0]], data[data.columns[1]]))\n",
    "data = read_csv_pandas(input_file=freq_curve_csv_200kHz)\n",
    "curves_csv_200kHz = list(zip(data[data.columns[0]], data[data.columns[1]]))\n",
    "data = read_csv_pandas(input_file=freq_curve_csv_400kHz)\n",
    "curves_csv_400kHz = list(zip(data[data.columns[0]], data[data.columns[1]]))\n",
    "data = read_csv_pandas(input_file=freq_curve_csv_700kHz)\n",
    "curves_csv_700kHz = list(zip(data[data.columns[0]], data[data.columns[1]]))\n",
    "data = read_csv_pandas(input_file=freq_curve_csv_1MHz)\n",
    "curves_csv_1MHz = list(zip(data[data.columns[0]], data[data.columns[1]]))"
   ]
  },
  {
   "cell_type": "markdown",
   "id": "126d1852",
   "metadata": {},
   "source": [
    "## Launch AEDT and Maxwell 3D\n",
    "\n",
    "Create an instance of the ``Maxwell3d`` class named ``m3d`` by providing\n",
    "the project and design names, the version, and the graphical mode."
   ]
  },
  {
   "cell_type": "code",
   "execution_count": 5,
   "id": "5613fe96",
   "metadata": {
    "execution": {
     "iopub.execute_input": "2025-10-30T07:21:45.314357Z",
     "iopub.status.busy": "2025-10-30T07:21:45.314357Z",
     "iopub.status.idle": "2025-10-30T07:22:18.772322Z",
     "shell.execute_reply": "2025-10-30T07:22:18.772322Z"
    }
   },
   "outputs": [
    {
     "name": "stdout",
     "output_type": "stream",
     "text": [
      "PyAEDT INFO: Python version 3.10.11 (tags/v3.10.11:7d4cc5a, Apr  5 2023, 00:38:17) [MSC v.1929 64 bit (AMD64)].\n"
     ]
    },
    {
     "name": "stdout",
     "output_type": "stream",
     "text": [
      "PyAEDT INFO: PyAEDT version 0.22.dev0.\n"
     ]
    },
    {
     "name": "stdout",
     "output_type": "stream",
     "text": [
      "PyAEDT INFO: Initializing new Desktop session.\n"
     ]
    },
    {
     "name": "stdout",
     "output_type": "stream",
     "text": [
      "PyAEDT INFO: Log on console is enabled.\n"
     ]
    },
    {
     "name": "stdout",
     "output_type": "stream",
     "text": [
      "PyAEDT INFO: Log on file C:\\Users\\ansys\\AppData\\Local\\Temp\\pyaedt_ansys_a304f366-ec5c-4033-a810-4bf145846ce3.log is enabled.\n"
     ]
    },
    {
     "name": "stdout",
     "output_type": "stream",
     "text": [
      "PyAEDT INFO: Log on AEDT is disabled.\n"
     ]
    },
    {
     "name": "stdout",
     "output_type": "stream",
     "text": [
      "PyAEDT INFO: Debug logger is disabled. PyAEDT methods will not be logged.\n"
     ]
    },
    {
     "name": "stdout",
     "output_type": "stream",
     "text": [
      "PyAEDT INFO: Launching PyAEDT with gRPC plugin.\n"
     ]
    },
    {
     "name": "stdout",
     "output_type": "stream",
     "text": [
      "PyAEDT INFO: New AEDT session is starting on gRPC port 53835.\n"
     ]
    },
    {
     "name": "stdout",
     "output_type": "stream",
     "text": [
      "PyAEDT INFO: Electronics Desktop started on gRPC port: 53835 after 10.343565464019775 seconds.\n"
     ]
    },
    {
     "name": "stdout",
     "output_type": "stream",
     "text": [
      "PyAEDT INFO: AEDT installation Path C:\\Program Files\\ANSYS Inc\\v252\\AnsysEM\n"
     ]
    },
    {
     "name": "stdout",
     "output_type": "stream",
     "text": [
      "PyAEDT INFO: Ansoft.ElectronicsDesktop.2025.2 version started with process ID 7592.\n"
     ]
    },
    {
     "name": "stdout",
     "output_type": "stream",
     "text": [
      "PyAEDT INFO: Archive Ex2-PlanarTransformer_2023R2 has been restored to project Ex2-PlanarTransformer_2023R2\n"
     ]
    },
    {
     "name": "stdout",
     "output_type": "stream",
     "text": [
      "PyAEDT INFO: Active Design set to 02_3D eddycurrent_CmXY_for_thermal\n"
     ]
    },
    {
     "name": "stdout",
     "output_type": "stream",
     "text": [
      "PyAEDT INFO: Aedt Objects correctly read\n"
     ]
    }
   ],
   "source": [
    "m3d = Maxwell3d(\n",
    "    project=aedt_file,\n",
    "    design=\"02_3D eddycurrent_CmXY_for_thermal\",\n",
    "    version=AEDT_VERSION,\n",
    "    new_desktop=True,\n",
    "    non_graphical=False,\n",
    ")"
   ]
  },
  {
   "cell_type": "markdown",
   "id": "5ef4804c",
   "metadata": {},
   "source": [
    "## Set core loss at frequencies\n",
    "\n",
    "Create a new material, create a dictionary of power-volume [kw/m^3] points\n",
    "for a set of frequencies retrieved from datasheet provided by a supplier,\n",
    "and finally set the Power-Ferrite core loss model."
   ]
  },
  {
   "cell_type": "code",
   "execution_count": 6,
   "id": "e3cd82cc",
   "metadata": {
    "execution": {
     "iopub.execute_input": "2025-10-30T07:22:18.772322Z",
     "iopub.status.busy": "2025-10-30T07:22:18.772322Z",
     "iopub.status.idle": "2025-10-30T07:22:19.863085Z",
     "shell.execute_reply": "2025-10-30T07:22:19.863085Z"
    }
   },
   "outputs": [
    {
     "name": "stdout",
     "output_type": "stream",
     "text": [
      "PyAEDT INFO: Materials class has been initialized! Elapsed time: 0m 0sec\n"
     ]
    },
    {
     "name": "stdout",
     "output_type": "stream",
     "text": [
      "PyAEDT INFO: Adding new material to the Project Library: newmat\n"
     ]
    },
    {
     "name": "stdout",
     "output_type": "stream",
     "text": [
      "PyAEDT INFO: Material has been added in Desktop.\n"
     ]
    }
   ],
   "source": [
    "mat = m3d.materials.add_material(\"newmat\")\n",
    "freq_25kHz = unit_converter(\n",
    "    values=25, unit_system=\"Freq\", input_units=\"kHz\", output_units=\"Hz\"\n",
    ")\n",
    "freq_100kHz = unit_converter(\n",
    "    values=100, unit_system=\"Freq\", input_units=\"kHz\", output_units=\"Hz\"\n",
    ")\n",
    "freq_200kHz = unit_converter(\n",
    "    values=200, unit_system=\"Freq\", input_units=\"kHz\", output_units=\"Hz\"\n",
    ")\n",
    "freq_400kHz = unit_converter(\n",
    "    values=400, unit_system=\"Freq\", input_units=\"kHz\", output_units=\"Hz\"\n",
    ")\n",
    "freq_700kHz = unit_converter(\n",
    "    values=700, unit_system=\"Freq\", input_units=\"kHz\", output_units=\"Hz\"\n",
    ")\n",
    "pv = {\n",
    "    freq_25kHz: curves_csv_25kHz,\n",
    "    freq_100kHz: curves_csv_100kHz,\n",
    "    freq_200kHz: curves_csv_200kHz,\n",
    "    freq_400kHz: curves_csv_400kHz,\n",
    "    freq_700kHz: curves_csv_700kHz,\n",
    "}\n",
    "m3d.materials[mat.name].set_coreloss_at_frequency(\n",
    "    points_at_frequency=pv,\n",
    "    coefficient_setup=\"kw_per_cubic_meter\",\n",
    "    core_loss_model_type=\"Power Ferrite\",\n",
    ")\n",
    "coefficients = m3d.materials[mat.name].get_core_loss_coefficients(\n",
    "    points_at_frequency=pv, coefficient_setup=\"kw_per_cubic_meter\"\n",
    ")"
   ]
  },
  {
   "cell_type": "markdown",
   "id": "987dd00e",
   "metadata": {},
   "source": [
    "## Release AEDT"
   ]
  },
  {
   "cell_type": "code",
   "execution_count": 7,
   "id": "917f7023",
   "metadata": {
    "execution": {
     "iopub.execute_input": "2025-10-30T07:22:19.863085Z",
     "iopub.status.busy": "2025-10-30T07:22:19.863085Z",
     "iopub.status.idle": "2025-10-30T07:22:42.058499Z",
     "shell.execute_reply": "2025-10-30T07:22:42.058499Z"
    }
   },
   "outputs": [
    {
     "name": "stdout",
     "output_type": "stream",
     "text": [
      "PyAEDT INFO: Project Ex2-PlanarTransformer_2023R2 Saved correctly\n"
     ]
    },
    {
     "name": "stdout",
     "output_type": "stream",
     "text": [
      "PyAEDT INFO: Desktop has been released and closed.\n"
     ]
    }
   ],
   "source": [
    "m3d.save_project()\n",
    "m3d.release_desktop()\n",
    "# Wait 3 seconds to allow AEDT to shut down before cleaning the temporary directory.\n",
    "time.sleep(3)"
   ]
  },
  {
   "cell_type": "markdown",
   "id": "b2420858",
   "metadata": {},
   "source": [
    "## Clean up\n",
    "\n",
    "All project files are saved in the folder ``temp_folder.name``.\n",
    "If you've run this example as a Jupyter notebook, you\n",
    "can retrieve those project files. The following cell\n",
    "removes all temporary files, including the project folder."
   ]
  },
  {
   "cell_type": "code",
   "execution_count": 8,
   "id": "2b81ce2e",
   "metadata": {
    "execution": {
     "iopub.execute_input": "2025-10-30T07:22:42.058499Z",
     "iopub.status.busy": "2025-10-30T07:22:42.058499Z",
     "iopub.status.idle": "2025-10-30T07:22:42.089938Z",
     "shell.execute_reply": "2025-10-30T07:22:42.089938Z"
    }
   },
   "outputs": [],
   "source": [
    "temp_folder.cleanup()"
   ]
  }
 ],
 "metadata": {
  "jupytext": {
   "cell_metadata_filter": "-all",
   "main_language": "python",
   "notebook_metadata_filter": "-all"
  },
  "language_info": {
   "codemirror_mode": {
    "name": "ipython",
    "version": 3
   },
   "file_extension": ".py",
   "mimetype": "text/x-python",
   "name": "python",
   "nbconvert_exporter": "python",
   "pygments_lexer": "ipython3",
   "version": "3.10.11"
  }
 },
 "nbformat": 4,
 "nbformat_minor": 5
}
